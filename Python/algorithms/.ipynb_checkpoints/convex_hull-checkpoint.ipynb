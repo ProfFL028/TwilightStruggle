{
 "cells": [
  {
   "cell_type": "code",
   "execution_count": 3,
   "metadata": {
    "pycharm": {
     "name": "#%%\n"
    },
    "tags": []
   },
   "outputs": [],
   "source": [
    "import numpy as np\n",
    "import matplotlib.pyplot as plt\n",
    "import matplotlib.animation as animation\n",
    "\n",
    "\n",
    "%matplotlib qt5\n",
    "\n",
    "# data preparing\n",
    "point_count = 20\n",
    "points = np.random.rand(point_count * 2).reshape((point_count, 2))\n",
    "plt.scatter(points[:, 0], points[:, 1])\n",
    "plt.show()"
   ]
  },
  {
   "cell_type": "markdown",
   "metadata": {
    "pycharm": {
     "name": "#%% md\n"
    }
   },
   "source": [
    "穷尽搜索算法\n",
    "\n",
    "对于点集上的任意的一条直线，如果其他所有点都在这条直线的一侧，则这两个点在凸包的点集内。<br>\n",
    "其中判断点在直线的哪侧可以用两条直线的叉积的正负值决定。 <br>\n",
    "算法基本思想：<br>\n",
    "遍历[原点集]对应的所有直线，如果其他点都在点集的一侧，则添加这两个点到[凸包点集]中。"
   ]
  },
  {
   "cell_type": "code",
   "execution_count": 4,
   "metadata": {
    "pycharm": {
     "name": "#%%\n"
    }
   },
   "outputs": [],
   "source": [
    "epsilon = 1e-5\n",
    "\n",
    "LEFT_SIDE = 1\n",
    "RIGHT_SIDE = 2\n",
    "INLINE_SIDE = 0\n",
    "def point_side(x1, y1, x2, y2, x3, y3):\n",
    "    \"\"\"\n",
    "    @return 1: 右侧， 2：左侧， 0：在同一条直线\n",
    "    \"\"\"\n",
    "    dot_value = x1 * y2 + x2 * y3 + x3 * y1 - x1 * y3 - x2 * y1 - x3 * y2\n",
    "    if dot_value > epsilon:\n",
    "        return LEFT_SIDE\n",
    "    elif dot_value < epsilon:\n",
    "        return RIGHT_SIDE\n",
    "    return INLINE_SIDE"
   ]
  },
  {
   "cell_type": "code",
   "execution_count": 5,
   "metadata": {
    "pycharm": {
     "name": "#%%\n"
    }
   },
   "outputs": [
    {
     "data": {
      "text/plain": [
       "[(array([0.76861021, 0.01068256]), array([0.82063034, 0.12267688])),\n",
       " (array([0.76861021, 0.01068256]), array([0.0577115 , 0.05372888])),\n",
       " (array([0.10694622, 0.87785764]), array([0.00856083, 0.28653603])),\n",
       " (array([0.10694622, 0.87785764]), array([0.89498165, 0.76298593])),\n",
       " (array([0.00856083, 0.28653603]), array([0.0577115 , 0.05372888])),\n",
       " (array([0.9899109 , 0.72562397]), array([0.89498165, 0.76298593])),\n",
       " (array([0.9899109 , 0.72562397]), array([0.82063034, 0.12267688]))]"
      ]
     },
     "execution_count": 5,
     "metadata": {},
     "output_type": "execute_result"
    }
   ],
   "source": [
    "convex_hull_lines = []\n",
    "\n",
    "if point_count <= 2:\n",
    "    print(\"input point size must be great than 2\")\n",
    "for i in range(point_count):\n",
    "    for j in range(i + 1, point_count):\n",
    "        previous_side = INLINE_SIDE\n",
    "        allSame = True\n",
    "        for k in range(point_count):\n",
    "            if k != i and k != j:\n",
    "                cur_side = point_side(points[i][0], points[i][1], points[j][0], points[j][1], points[k][0], points[k][1])\n",
    "                if cur_side == previous_side or previous_side == INLINE_SIDE or cur_side == INLINE_SIDE:\n",
    "                    previous_side = cur_side\n",
    "                    continue\n",
    "                else:\n",
    "                    allSame = False\n",
    "                    break\n",
    "        if allSame:\n",
    "            convex_hull_lines.append((points[i], points[j]))\n",
    "\n",
    "convex_hull_lines"
   ]
  },
  {
   "cell_type": "code",
   "execution_count": 6,
   "metadata": {
    "pycharm": {
     "name": "#%%\n"
    }
   },
   "outputs": [],
   "source": [
    "plt.scatter(points[:, 0], points[:, 1])\n",
    "for line in convex_hull_lines:\n",
    "    plt.plot([line[0][0], line[1][0]], [line[0][1], line[1][1]], color='red')\n",
    "plt.show()"
   ]
  },
  {
   "cell_type": "code",
   "execution_count": 7,
   "metadata": {
    "pycharm": {
     "name": "#%%\n"
    }
   },
   "outputs": [
    {
     "data": {
      "text/plain": [
       "[array([0.76861021, 0.01068256]),\n",
       " array([0.82063034, 0.12267688]),\n",
       " array([0.9899109 , 0.72562397]),\n",
       " array([0.89498165, 0.76298593]),\n",
       " array([0.10694622, 0.87785764]),\n",
       " array([0.00856083, 0.28653603]),\n",
       " array([0.0577115 , 0.05372888]),\n",
       " array([0.76861021, 0.01068256])]"
      ]
     },
     "execution_count": 7,
     "metadata": {},
     "output_type": "execute_result"
    }
   ],
   "source": [
    "# 将线转化成点的集合\n",
    "def point_to_hash(point):\n",
    "    return str(point[0]) +','+ str(point[1])\n",
    "left_hash = point_to_hash(convex_hull_lines[0][0])\n",
    "points_dict = {left_hash: convex_hull_lines[0][1]}\n",
    "right_hashes = [point_to_hash(convex_hull_lines[0][1])]\n",
    "for line in convex_hull_lines[1:]:\n",
    "    if point_to_hash(line[0]) in points_dict.keys() or point_to_hash(line[1]) in right_hashes:\n",
    "        points_dict[point_to_hash(line[1])] = line[0]\n",
    "        right_hashes.append(point_to_hash(line[0]))\n",
    "    else:\n",
    "        points_dict[point_to_hash(line[0])] = line[1]\n",
    "        right_hashes.append(point_to_hash(line[1]))\n",
    "\n",
    "convex_hull_points = [convex_hull_lines[0][0], convex_hull_lines[0][1]]\n",
    "point_hash = point_to_hash(convex_hull_points[1])\n",
    "step = 1\n",
    "step_count = len(points_dict)\n",
    "while step < step_count:\n",
    "    next_point = points_dict[point_hash]\n",
    "    convex_hull_points.append(next_point)\n",
    "    point_hash = point_to_hash(next_point)\n",
    "    step += 1\n",
    "\n",
    "convex_hull_points"
   ]
  },
  {
   "cell_type": "code",
   "execution_count": 8,
   "metadata": {
    "pycharm": {
     "name": "#%%\n"
    }
   },
   "outputs": [],
   "source": [
    "chps = np.array(convex_hull_points)\n",
    "fig, ax = plt.subplots()\n",
    "ax.scatter(points[:, 0], points[:, 1])\n",
    "line, = plt.plot([], [], color='red')\n",
    "def update(draw_points):\n",
    "    line.set_data(chps[0:draw_points, 0], chps[0:draw_points, 1])\n",
    "    return line,\n",
    "ani = animation.FuncAnimation(fig, update, frames=np.arange(0, len(chps)+1), interval=500, repeat=True, repeat_delay=2000)\n",
    "plt.show()"
   ]
  },
  {
   "cell_type": "code",
   "execution_count": 9,
   "metadata": {
    "pycharm": {
     "name": "#%%\n"
    }
   },
   "outputs": [],
   "source": [
    "# using ArtistAnimation \n",
    "# fig, ax = plt.subplots()\n",
    "# ax.scatter(points[:,0], points[:,1])\n",
    "\n",
    "# plots = []\n",
    "# for chp in convex_hull_lines:\n",
    "#     plot, = plt.plot([chp[0][0], chp[1][0]], [chp[0][1], chp[1][1]], color='red')\n",
    "#     plots.append([plot])\n",
    "# ani = animation.ArtistAnimation(fig, plots, interval=500)\n",
    "# plt.show()"
   ]
  },
  {
   "cell_type": "code",
   "execution_count": 10,
   "metadata": {
    "pycharm": {
     "name": "#%%\n"
    }
   },
   "outputs": [],
   "source": [
    "import numpy as np\n",
    "import matplotlib.pyplot as plt\n",
    "from matplotlib.animation import FuncAnimation\n",
    "\n",
    "fig, ax = plt.subplots()\n",
    "xdata, ydata = [], []\n",
    "ln, = plt.plot([], [], 'ro')\n",
    "\n",
    "def init():\n",
    "    ax.set_xlim(0, 2*np.pi)\n",
    "    ax.set_ylim(-1, 1)\n",
    "    return ln,\n",
    "\n",
    "def update(frame):\n",
    "    xdata.append(frame)\n",
    "    ydata.append(np.sin(frame))\n",
    "    ln.set_data(xdata, ydata)\n",
    "    return ln,\n",
    "\n",
    "ani = FuncAnimation(fig, update, frames=np.linspace(0, 2*np.pi, 128),\n",
    "                    init_func=init, blit=True)\n",
    "plt.show()"
   ]
  },
  {
   "cell_type": "code",
   "execution_count": 2,
   "metadata": {
    "pycharm": {
     "name": "#%%\n"
    }
   },
   "outputs": [
    {
     "ename": "ModuleNotFoundError",
     "evalue": "No module named 'xgboost'",
     "output_type": "error",
     "traceback": [
      "\u001b[1;31m---------------------------------------------------------------------------\u001b[0m",
      "\u001b[1;31mModuleNotFoundError\u001b[0m                       Traceback (most recent call last)",
      "\u001b[1;32m<ipython-input-2-e528dc1a32ff>\u001b[0m in \u001b[0;36m<module>\u001b[1;34m\u001b[0m\n\u001b[1;32m----> 1\u001b[1;33m \u001b[1;32mimport\u001b[0m \u001b[0mxgboost\u001b[0m\u001b[1;33m\u001b[0m\u001b[1;33m\u001b[0m\u001b[0m\n\u001b[0m",
      "\u001b[1;31mModuleNotFoundError\u001b[0m: No module named 'xgboost'"
     ]
    }
   ],
   "source": []
  }
 ],
 "metadata": {
  "kernelspec": {
   "display_name": "Python 3",
   "language": "python",
   "name": "python3"
  },
  "language_info": {
   "codemirror_mode": {
    "name": "ipython",
    "version": 3
   },
   "file_extension": ".py",
   "mimetype": "text/x-python",
   "name": "python",
   "nbconvert_exporter": "python",
   "pygments_lexer": "ipython3",
   "version": "3.8.8"
  }
 },
 "nbformat": 4,
 "nbformat_minor": 4
}

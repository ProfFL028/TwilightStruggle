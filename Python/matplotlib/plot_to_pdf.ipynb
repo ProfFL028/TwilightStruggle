{
 "cells": [
  {
   "cell_type": "code",
   "execution_count": 2,
   "metadata": {
    "collapsed": true
   },
   "outputs": [],
   "source": [
    "import datetime\n",
    "import numpy as np\n",
    "from matplotlib.backends.backend_pdf import PdfPages\n",
    "import matplotlib.pyplot as plt\n",
    "\n",
    "# 创建生成pdf的PdfPages对象\n",
    "# 使用with关键字，可以让代码段结束后自动调用pdf.close()方法，即使程序中间报错\n",
    "with PdfPages('multipage_pdf.pdf') as pdf:\n",
    "    plt.figure(figsize=(3, 3))\n",
    "    plt.plot(range(7), [3, 1, 4, 1, 5, 9, 2], 'r-o')\n",
    "    plt.title('Page One')\n",
    "    pdf.savefig() # 将当前生成的图像保存到pdf中\n",
    "    plt.close()\n",
    "\n",
    "    plt.figure(figsize=(8, 6))\n",
    "    x = np.arange(0, 5, 0.1)\n",
    "    plt.plot(x, np.sin(x), 'b-')\n",
    "    plt.title('Page Two')\n",
    "    pdf.attach_note(\"plot of sin(x)\") # 给图像添加备注\n",
    "    pdf.savefig()\n",
    "    plt.close()\n",
    "\n",
    "    # 设置文件的属性:\n",
    "    d = pdf.infodict()\n",
    "    d['Title'] = 'Multipage PDF Example'\n",
    "    d['Author'] = 'prof_fl'\n",
    "    d['Subject'] = 'How to create a multipage pdf file and set its metadata'\n",
    "    d['Keywords'] = 'PdfPages multipage keywords author title subject'\n",
    "    d['CreationDate'] = datetime.datetime(2021, 10, 29)\n",
    "    d['ModDate'] = datetime.datetime.today()"
   ]
  }
 ],
 "metadata": {
  "kernelspec": {
   "name": "pycharm-52a413d9",
   "language": "python",
   "display_name": "PyCharm (TwilightStruggle)"
  },
  "language_info": {
   "codemirror_mode": {
    "name": "ipython",
    "version": 2
   },
   "file_extension": ".py",
   "mimetype": "text/x-python",
   "name": "python",
   "nbconvert_exporter": "python",
   "pygments_lexer": "ipython2",
   "version": "2.7.6"
  }
 },
 "nbformat": 4,
 "nbformat_minor": 0
}
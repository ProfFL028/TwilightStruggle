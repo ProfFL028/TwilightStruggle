{
 "cells": [
  {
   "cell_type": "code",
   "execution_count": null,
   "metadata": {
    "collapsed": true,
    "pycharm": {
     "name": "#%%\n"
    }
   },
   "outputs": [],
   "source": [
    "def plot_confusion_matrix(y_true, y_pred):\n",
    "    import matplotlib.pyplot as plt\n",
    "    from sklearn.metrics import confusion_matrix\n",
    "    con_matrix = confusion_matrix(y_true=y_true, y_pred=y_pred)\n",
    "    print(con_matrix)\n",
    "    fig, ax = plt.subplots(figsize=(2.5, 2.5))\n",
    "    ax.matshow(con_matrix, cmap=plt.cm.Blues, alpha=0.3)\n",
    "    for i in range(con_matrix.shape[0]):\n",
    "        for j in range(con_matrix.shape[1]):\n",
    "            ax.text(x=j, y=i, s=con_matrix[i, j], va='center', ha='center')\n",
    "    plt.xlabel('Predict Label')\n",
    "    plt.ylabel('true label')\n",
    "    plt.show()"
   ]
  }
 ],
 "metadata": {
  "kernelspec": {
   "display_name": "Python 3",
   "language": "python",
   "name": "python3"
  },
  "language_info": {
   "codemirror_mode": {
    "name": "ipython",
    "version": 2
   },
   "file_extension": ".py",
   "mimetype": "text/x-python",
   "name": "python",
   "nbconvert_exporter": "python",
   "pygments_lexer": "ipython2",
   "version": "2.7.6"
  }
 },
 "nbformat": 4,
 "nbformat_minor": 0
}
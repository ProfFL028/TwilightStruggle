{
 "cells": [
  {
   "cell_type": "code",
   "execution_count": 27,
   "metadata": {
    "collapsed": true
   },
   "outputs": [],
   "source": [
    "import pandas as pd\n",
    "import numpy as np\n",
    "from sklearn.tree import DecisionTreeClassifier"
   ]
  },
  {
   "cell_type": "code",
   "execution_count": 92,
   "outputs": [],
   "source": [
    "def entropy(y):\n",
    "    \"\"\"\n",
    "    calulate entopy, entropy = Dv/D * log2(Dv/D)\n",
    "    \"\"\"\n",
    "    unique_y = y.unique()\n",
    "    entropy_sum = 0\n",
    "\n",
    "    for cls in unique_y:\n",
    "        entropy_sum -= len(y[y==cls]) / len(y) * np.log2(len(y[y==cls]) / len(y))\n",
    "    return entropy_sum\n",
    "\n",
    "def gain_ratio(X, y):\n",
    "    gain2 = entropy(y)\n",
    "    X_classifier = X.unique()\n",
    "    for cls in X_classifier:\n",
    "        gain2 -= len(y[X==cls]) * 1.0/len(y) * entropy(y[X == cls])\n",
    "    return gain2\n",
    "\n",
    "def iv(X):\n",
    "    value_counts = X.value_counts()\n",
    "    x_size = len(X)\n",
    "    iv = 0\n",
    "    for val in value_counts:\n",
    "        iv -= val * 1.0 / x_size * np.log2(val * 1.0 / x_size)\n",
    "\n",
    "    return iv\n",
    "\n",
    "def gini(X):\n",
    "    return\n",
    "\n",
    "class DecisionTreeNode(object):\n",
    "    def __init__(self, column='', children={}, result=None):\n",
    "        self.column = column\n",
    "        self.children = children\n",
    "        self.result = result\n",
    "\n",
    "    def predict(self, X):\n",
    "        if self.column == '':\n",
    "            return self.result\n",
    "\n",
    "        if len(self.children.keys()) > 0 & self.children.keys().__contains__(X[self.column]):\n",
    "            return self.children[X[self.column]].predict(X)\n",
    "        elif len(self.children.keys()) == 0:\n",
    "            return -1\n",
    "        return self.result\n",
    "\n",
    "\n",
    "class DecisionTree(object):\n",
    "    def __init__(self, information_method='entropy'):\n",
    "        self.information_method = information_method\n",
    "        self.tree = DecisionTreeNode('')\n",
    "\n",
    "    def fit(self, X, y):\n",
    "        self.tree = self._build_children(X, y)\n",
    "\n",
    "    def _build_children(self, X, y):\n",
    "        columns = X.columns\n",
    "        root = DecisionTreeNode('')\n",
    "        stack = [(X.index, root)]\n",
    "\n",
    "        while len(stack) > 0:\n",
    "            values = stack.pop()\n",
    "            cur_index = values[0]\n",
    "            cur_node = values[1]\n",
    "\n",
    "            # if y only have one value, make it as node and break\n",
    "            cur_y = y.iloc[cur_index]\n",
    "            y_unique = cur_y.unique()\n",
    "            if len(y_unique) == 1:\n",
    "                cur_node.result = y_unique\n",
    "                continue\n",
    "\n",
    "            # search for max gain\n",
    "            cur_x = X.iloc[cur_index]\n",
    "            max_gain = -1\n",
    "            for col in columns:\n",
    "                col_gain = gain_ratio(cur_x[col], cur_y)\n",
    "                if col_gain > max_gain:\n",
    "                    max_gain = col_gain\n",
    "                    cur_node.column = col\n",
    "\n",
    "            # generate nodes\n",
    "            column_values = cur_x[cur_node.column].unique()\n",
    "            for column_value in column_values:\n",
    "                child = DecisionTreeNode(column='', children={}, result=None)\n",
    "                cur_node.children[column_value] = child\n",
    "                stack.append((cur_x[cur_x[cur_node.column]==column_value].index.values, child))\n",
    "\n",
    "        return root\n",
    "\n",
    "    def predict(self, X):\n",
    "        self.tree.predict(X)"
   ],
   "metadata": {
    "collapsed": false,
    "pycharm": {
     "name": "#%%\n"
    }
   }
  },
  {
   "cell_type": "code",
   "execution_count": 29,
   "outputs": [],
   "source": [
    "data = pd.DataFrame([[1,1,1,1,1,1,1], [2,1,2,1,1,1,1], [2,1,1,1,1,1,1], [1,1,2,1,1,1,1], [3,1,1,1,1,1,1],\n",
    "        [1,2,1,1,2,2,1], [2,2,1,2,2,2,1], [2,2,1,1,2,1,1], [2,2,2,2,2,1,0], [1,3,3,1,3,2,0],\n",
    "        [3,3,3,3,3,1,0], [3,1,1,3,3,2,0], [1,2,1,2,1,1,0], [3,2,2,2,1,1,0], [2,2,1,1,2,2,0],\n",
    "        [3,1,1,3,3,1,0], [1,1,2,2,2,1,0]], columns=['色泽','根蒂','敲声','纹理','脐部','触感','好瓜'])\n",
    "X = data[data.columns[:-1]]\n",
    "y = data['好瓜']"
   ],
   "metadata": {
    "collapsed": false,
    "pycharm": {
     "name": "#%%\n"
    }
   }
  },
  {
   "cell_type": "code",
   "execution_count": 85,
   "outputs": [],
   "source": [
    "decision_tree = DecisionTree()\n",
    "\n",
    "decision_tree.fit(X, y)"
   ],
   "metadata": {
    "collapsed": false,
    "pycharm": {
     "name": "#%%\n"
    }
   }
  },
  {
   "cell_type": "code",
   "execution_count": 93,
   "outputs": [
    {
     "name": "stdout",
     "output_type": "stream",
     "text": [
      "色泽 :  1.5798634010685344\n",
      "根蒂 :  1.402081402756032\n",
      "敲声 :  1.3328204045850196\n",
      "纹理 :  1.4466479595102752\n",
      "脐部 :  1.548565226030918\n",
      "触感 :  0.8739810481273578\n"
     ]
    }
   ],
   "source": [
    "for col in X.columns:\n",
    "    print(col , \": \", iv(X[col]))"
   ],
   "metadata": {
    "collapsed": false,
    "pycharm": {
     "name": "#%%\n"
    }
   }
  }
 ],
 "metadata": {
  "kernelspec": {
   "display_name": "Python 3",
   "language": "python",
   "name": "python3"
  },
  "language_info": {
   "codemirror_mode": {
    "name": "ipython",
    "version": 2
   },
   "file_extension": ".py",
   "mimetype": "text/x-python",
   "name": "python",
   "nbconvert_exporter": "python",
   "pygments_lexer": "ipython2",
   "version": "2.7.6"
  }
 },
 "nbformat": 4,
 "nbformat_minor": 0
}
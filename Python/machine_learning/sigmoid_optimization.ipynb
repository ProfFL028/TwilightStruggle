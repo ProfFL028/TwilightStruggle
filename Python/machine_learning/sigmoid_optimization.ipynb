{
 "cells": [
  {
   "cell_type": "code",
   "execution_count": 1,
   "metadata": {
    "collapsed": true
   },
   "outputs": [],
   "source": [
    "import copy, numpy as np"
   ]
  },
  {
   "cell_type": "code",
   "execution_count": 2,
   "outputs": [],
   "source": [
    "def sigmoid(x):\n",
    "    # return 1.0 / (1.0 + np.exp(-x)) if x >= 0 else np.exp(x) / (1.0 + np.exp(x))\n",
    "    return np.where(x >= 0, 1.0 / (1.0 + np.exp(-x)), np.exp(x) / (1.0 + np.exp(x)))\n",
    "\n",
    "\n",
    "def sigmoid_derivative(d_output):\n",
    "    return d_output * (1 - d_output)"
   ],
   "metadata": {
    "collapsed": false,
    "pycharm": {
     "name": "#%%\n"
    }
   }
  },
  {
   "cell_type": "code",
   "execution_count": 3,
   "outputs": [],
   "source": [
    "binary_dim = 8\n",
    "\n",
    "largest_number = pow(2, binary_dim)\n",
    "int2binary = np.unpackbits(np.array([range(largest_number)], dtype=np.uint8).T, axis=1)"
   ],
   "metadata": {
    "collapsed": false,
    "pycharm": {
     "name": "#%%\n"
    }
   }
  },
  {
   "cell_type": "code",
   "execution_count": 18,
   "outputs": [
    {
     "name": "stdout",
     "output_type": "stream",
     "text": [
      "Error:[3.86409399]\n",
      "Pred:[0 0 0 0 0 0 0 1]\n",
      "True:[1 1 0 0 0 1 0 1]\n",
      "111 + 86 = 1\n",
      "in these 1000 epochs, there's    1 error \n",
      "------------\n",
      "Error:[4.10710529]\n",
      "Pred:[1 0 1 1 1 1 0 1]\n",
      "True:[0 1 1 0 1 0 1 0]\n",
      "94 + 12 = 189\n",
      "in these 1000 epochs, there's  998 error \n",
      "------------\n",
      "Error:[3.67760383]\n",
      "Pred:[1 0 0 0 0 1 0 0]\n",
      "True:[1 0 1 1 0 1 0 0]\n",
      "82 + 98 = 132\n",
      "in these 1000 epochs, there's  991 error \n",
      "------------\n",
      "Error:[3.78018724]\n",
      "Pred:[0 1 0 0 0 0 0 0]\n",
      "True:[1 0 1 0 1 0 1 0]\n",
      "58 + 112 = 64\n",
      "in these 1000 epochs, there's  967 error \n",
      "------------\n",
      "Error:[2.83854546]\n",
      "Pred:[0 1 1 1 0 1 0 1]\n",
      "True:[0 1 0 0 0 1 0 1]\n",
      "58 + 11 = 117\n",
      "in these 1000 epochs, there's  800 error \n",
      "------------\n",
      "Error:[1.03459131]\n",
      "Pred:[1 0 0 0 1 1 0 0]\n",
      "True:[1 0 0 0 1 1 0 0]\n",
      "36 + 104 = 140\n",
      "in these 1000 epochs, there's  422 error \n",
      "------------\n",
      "Error:[1.10216843]\n",
      "Pred:[0 1 1 1 0 1 0 0]\n",
      "True:[0 1 1 1 0 1 0 0]\n",
      "61 + 55 = 116\n",
      "in these 1000 epochs, there's   58 error \n",
      "------------\n",
      "Error:[0.62922836]\n",
      "Pred:[0 1 0 0 0 1 0 0]\n",
      "True:[0 1 0 0 0 1 0 0]\n",
      "26 + 42 = 68\n",
      "in these 1000 epochs, there's   11 error \n",
      "------------\n",
      "Error:[0.2254246]\n",
      "Pred:[0 1 1 1 0 0 0 0]\n",
      "True:[0 1 1 1 0 0 0 0]\n",
      "80 + 32 = 112\n",
      "in these 1000 epochs, there's    1 error \n",
      "------------\n",
      "Error:[0.43338136]\n",
      "Pred:[0 1 1 0 0 0 0 1]\n",
      "True:[0 1 1 0 0 0 0 1]\n",
      "27 + 70 = 97\n",
      "in these 1000 epochs, there's    0 error \n",
      "------------\n"
     ]
    }
   ],
   "source": [
    "input_dim = 2\n",
    "hidden_dim = 16\n",
    "output_dim = 1\n",
    "learning_rate = 0.1\n",
    "\n",
    "synapse_ih = 2 * np.random.random((input_dim, hidden_dim)) - 1  # input_hidden\n",
    "synapse_ho = 2 * np.random.random((hidden_dim, output_dim)) - 1  # hidden_output\n",
    "synapse_hh = 2 * np.random.random((hidden_dim, hidden_dim)) - 1  # hidden_next_hidden\n",
    "\n",
    "synapse_ih_update = np.zeros_like(synapse_ih)\n",
    "synapse_ho_update = np.zeros_like(synapse_ho)\n",
    "synapse_hh_update = np.zeros_like(synapse_hh)\n",
    "\n",
    "error_count = 0\n",
    "for epoch in range(10000):\n",
    "    a_int = np.random.randint(largest_number / 2)\n",
    "    a = int2binary[a_int]\n",
    "    b_int = np.random.randint(largest_number / 2)\n",
    "    b = int2binary[b_int]\n",
    "    c_int = a_int + b_int\n",
    "    c = int2binary[c_int]\n",
    "\n",
    "    d = np.zeros_like(c)\n",
    "    overall_error = 0\n",
    "\n",
    "\n",
    "    layer_2_deltas = list()\n",
    "    layer_1_values = list()\n",
    "    layer_1_values.append(np.zeros(hidden_dim))\n",
    "\n",
    "    for position in range(binary_dim):\n",
    "        X = np.array([[a[binary_dim - position - 1], b[binary_dim - position - 1]]])\n",
    "        y = np.array([[c[binary_dim - position - 1]]]).T\n",
    "\n",
    "        layer_1 = sigmoid(np.dot(X, synapse_ih) + np.dot(layer_1_values[-1], synapse_hh))\n",
    "        layer_2 = sigmoid(np.dot(layer_1, synapse_ho))\n",
    "\n",
    "        layer_2_error = y - layer_2\n",
    "        layer_2_deltas.append(layer_2_error * sigmoid_derivative(layer_2))\n",
    "        overall_error += np.abs(layer_2_error[0])\n",
    "        d[binary_dim - position - 1] = np.round(layer_2[0][0])\n",
    "        layer_1_values.append(copy.deepcopy(layer_1))\n",
    "\n",
    "    future_layer_1_delta = np.zeros(hidden_dim)\n",
    "    for position in range(binary_dim):\n",
    "        X = np.array([[a[position], b[position]]])\n",
    "        layer_1 = layer_1_values[-position - 1]\n",
    "        prev_layer_1 = layer_1_values[-position - 2]\n",
    "\n",
    "        layer_2_delta = layer_2_deltas[-position - 1]\n",
    "        layer_1_delta = (future_layer_1_delta.dot(synapse_hh.T) + layer_2_delta.dot(synapse_ho.T)) * sigmoid_derivative(\n",
    "            layer_1)\n",
    "\n",
    "        synapse_ho_update += np.atleast_2d(layer_1).T.dot(layer_2_delta)\n",
    "        synapse_hh_update += np.atleast_2d(prev_layer_1).T.dot(layer_1_delta)\n",
    "        synapse_ih_update += X.T.dot(layer_1_delta)\n",
    "\n",
    "        future_layer_1_delta = layer_1_delta\n",
    "\n",
    "    synapse_ih += synapse_ih_update * learning_rate\n",
    "    synapse_ho += synapse_ho_update * learning_rate\n",
    "    synapse_hh += synapse_hh_update * learning_rate\n",
    "\n",
    "    synapse_ih_update *= 0\n",
    "    synapse_ho_update *= 0\n",
    "    synapse_hh_update *= 0\n",
    "\n",
    "    out = 0\n",
    "    for index, x in enumerate(reversed(d)):\n",
    "        out += x * pow(2, index)\n",
    "    if out != c_int:\n",
    "        error_count += 1\n",
    "\n",
    "    # print out progress\n",
    "    if epoch % 1000 == 0:\n",
    "        print(\"Error:\" + str(overall_error))\n",
    "        print(\"Pred:\" + str(d))\n",
    "        print(\"True:\" + str(c))\n",
    "        out = 0\n",
    "        for index, x in enumerate(reversed(d)):\n",
    "            out += x * pow(2, index)\n",
    "        print(str(a_int) + \" + \" + str(b_int) + \" = \" + str(out))\n",
    "\n",
    "        print(\"in these 1000 epochs, there's %4d error \" % error_count)\n",
    "        error_count = 0\n",
    "        print(\"------------\")\n"
   ],
   "metadata": {
    "collapsed": false,
    "pycharm": {
     "name": "#%%\n"
    }
   }
  }
 ],
 "metadata": {
  "kernelspec": {
   "display_name": "Python 3",
   "language": "python",
   "name": "python3"
  },
  "language_info": {
   "codemirror_mode": {
    "name": "ipython",
    "version": 2
   },
   "file_extension": ".py",
   "mimetype": "text/x-python",
   "name": "python",
   "nbconvert_exporter": "python",
   "pygments_lexer": "ipython2",
   "version": "2.7.6"
  }
 },
 "nbformat": 4,
 "nbformat_minor": 0
}
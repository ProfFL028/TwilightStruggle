{
 "cells": [
  {
   "cell_type": "code",
   "execution_count": null,
   "metadata": {
    "collapsed": true
   },
   "outputs": [],
   "source": [
    "def balance_down_sample(X, y, less=1, more=0):\n",
    "    import numpy as np\n",
    "    from sklearn.utils import resample\n",
    "\n",
    "    X_unsampled, y_unsampled = resample(X[y==more], y[y==more], replace=True, n_samples=X[y==less].shape[0])\n",
    "    X_bal = np.vstack((X[y==less], X_unsampled))\n",
    "    y_bal = np.hstack((y[y==less], y_unsampled))\n",
    "\n",
    "    return X_bal, y_bal"
   ]
  }
 ],
 "metadata": {
  "kernelspec": {
   "display_name": "Python 3",
   "language": "python",
   "name": "python3"
  },
  "language_info": {
   "codemirror_mode": {
    "name": "ipython",
    "version": 2
   },
   "file_extension": ".py",
   "mimetype": "text/x-python",
   "name": "python",
   "nbconvert_exporter": "python",
   "pygments_lexer": "ipython2",
   "version": "2.7.6"
  }
 },
 "nbformat": 4,
 "nbformat_minor": 0
}
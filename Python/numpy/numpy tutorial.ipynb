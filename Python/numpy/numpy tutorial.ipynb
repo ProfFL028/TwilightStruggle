{
 "cells": [
  {
   "cell_type": "code",
   "execution_count": 6,
   "id": "7b9932c7",
   "metadata": {
    "ExecuteTime": {
     "end_time": "2021-10-08T01:10:43.407041Z",
     "start_time": "2021-10-08T01:10:43.401395Z"
    }
   },
   "outputs": [],
   "source": [
    "def quicksort(arr):\n",
    "    if (len(arr) <= 1):\n",
    "        return arr\n",
    "    \n",
    "    pivot = arr[int(len(arr) /  2)]\n",
    "    left = [x for x in arr if x < pivot]\n",
    "    middle = [x for x in arr if x == pivot]\n",
    "    right = [x for x in arr if x > pivot]\n",
    "    \n",
    "    return quicksort(left) + middle + quicksort(right)"
   ]
  },
  {
   "cell_type": "code",
   "execution_count": 7,
   "id": "396447aa",
   "metadata": {
    "ExecuteTime": {
     "end_time": "2021-10-08T01:10:45.809464Z",
     "start_time": "2021-10-08T01:10:45.804680Z"
    }
   },
   "outputs": [
    {
     "name": "stdout",
     "output_type": "stream",
     "text": [
      "[3, 7, 10, 12, 12, 23, 39, 87]\n"
     ]
    }
   ],
   "source": [
    "arr = [3, 7, 39, 10, 12, 87, 23, 12]\n",
    "print(quicksort(arr))"
   ]
  },
  {
   "cell_type": "code",
   "execution_count": 8,
   "id": "573cc0a0",
   "metadata": {
    "ExecuteTime": {
     "end_time": "2021-10-08T01:59:43.027241Z",
     "start_time": "2021-10-08T01:59:40.363093Z"
    }
   },
   "outputs": [],
   "source": [
    "import numpy as np\n"
   ]
  },
  {
   "cell_type": "code",
   "execution_count": 12,
   "id": "98cd7987",
   "metadata": {
    "ExecuteTime": {
     "end_time": "2021-10-08T02:03:56.891601Z",
     "start_time": "2021-10-08T02:03:56.876219Z"
    }
   },
   "outputs": [
    {
     "name": "stdout",
     "output_type": "stream",
     "text": [
      "[[0. 0.]\n",
      " [0. 0.]]\n",
      "[[1. 1.]]\n",
      "[[7 7]\n",
      " [7 7]]\n",
      "[[1. 0.]\n",
      " [0. 1.]]\n",
      "[[0.66801985 0.77784172]\n",
      " [0.90706439 0.06198227]]\n"
     ]
    }
   ],
   "source": [
    "# generating a np array\n",
    "a = np.zeros((2,2))\n",
    "print(a)\n",
    "b = np.ones((1,2))\n",
    "print(b)\n",
    "c = np.full((2,2),7)\n",
    "print(c)\n",
    "d = np.eye(2)\n",
    "print(d)\n",
    "e = np.random.random((2,2))\n",
    "print(e)"
   ]
  },
  {
   "cell_type": "code",
   "execution_count": 17,
   "id": "aec2b605",
   "metadata": {
    "ExecuteTime": {
     "end_time": "2021-10-08T02:17:31.880865Z",
     "start_time": "2021-10-08T02:17:31.870779Z"
    }
   },
   "outputs": [
    {
     "name": "stdout",
     "output_type": "stream",
     "text": [
      "[[2 3]\n",
      " [6 7]]\n",
      "2\n",
      "[[ 1 77  3  4]\n",
      " [ 5  6  7  8]\n",
      " [ 9 10 11 12]]\n",
      "[5 6 7 8] (4,)\n",
      "[[5 6 7 8]] (1, 4)\n"
     ]
    }
   ],
   "source": [
    "# array indexing\n",
    "a = np.array([[1,2,3,4], [5,6,7,8],[9,10,11,12]])\n",
    "b = a[:2, 1:3]\n",
    "print(b)\n",
    "print(a[0,1])\n",
    "b[0,0] = 77 # it will change a too!!!\n",
    "print(a)\n",
    "row_r1 = a[1, :]\n",
    "row_r2 = a[1:2, :]\n",
    "print(row_r1, row_r1.shape)\n",
    "print(row_r2, row_r2.shape)"
   ]
  },
  {
   "cell_type": "code",
   "execution_count": 19,
   "id": "a54f1f6c",
   "metadata": {
    "ExecuteTime": {
     "end_time": "2021-10-08T02:20:21.163351Z",
     "start_time": "2021-10-08T02:20:21.157459Z"
    }
   },
   "outputs": [
    {
     "name": "stdout",
     "output_type": "stream",
     "text": [
      "[[False False]\n",
      " [ True  True]\n",
      " [ True  True]]\n",
      "[3 4 5 6]\n"
     ]
    }
   ],
   "source": [
    "# boolean array indexing\n",
    "a = np.array([[1,2],[3,4],[5,6]])\n",
    "bool_idx = (a > 2)\n",
    "print(bool_idx)\n",
    "print(a[bool_idx])"
   ]
  },
  {
   "cell_type": "markdown",
   "id": "3381ac87",
   "metadata": {},
   "source": [
    "### Broadcasting:\n",
    "##### If the arrays do not have the same rank, prepend the shape of the lower rank array with 1s until both shapes have the same length\n",
    "##### The two arrays are said to be compatitble in a dimension if they have the same size in the dimension, or if one of the arrays has size 1 in that dimensions\n",
    "##### The arrays can be broadcast together if they are compatible in all dimensions.\n",
    "##### After broadcasting, each array behaves as if it had shape equal to the elementwise maximum of shapes of the two input arrays.\n",
    "##### In any dimension where one array had size 1 and the other array had size greater than 1, the first array behaves as if it were copied along that dimension"
   ]
  },
  {
   "cell_type": "code",
   "execution_count": 21,
   "id": "06d315f0",
   "metadata": {
    "ExecuteTime": {
     "end_time": "2021-10-08T02:28:51.447582Z",
     "start_time": "2021-10-08T02:28:51.436241Z"
    }
   },
   "outputs": [
    {
     "name": "stdout",
     "output_type": "stream",
     "text": [
      "[[ 2  2  4  5]\n",
      " [ 6  6  8  9]\n",
      " [10 10 12 13]]\n"
     ]
    }
   ],
   "source": [
    "# Broadcasting\n",
    "x = np.array([[1,2,3,4], [5,6,7,8],[9,10,11,12]])\n",
    "v = np.array([1,0,1,1])\n",
    "y = x + v # notice that v extends to (4,4) array\n",
    "print(y) "
   ]
  },
  {
   "cell_type": "code",
   "execution_count": null,
   "id": "3044619e",
   "metadata": {},
   "outputs": [],
   "source": []
  }
 ],
 "metadata": {
  "kernelspec": {
   "display_name": "Python 3",
   "language": "python",
   "name": "python3"
  },
  "language_info": {
   "codemirror_mode": {
    "name": "ipython",
    "version": 3
   },
   "file_extension": ".py",
   "mimetype": "text/x-python",
   "name": "python",
   "nbconvert_exporter": "python",
   "pygments_lexer": "ipython3",
   "version": "3.8.8"
  }
 },
 "nbformat": 4,
 "nbformat_minor": 5
}

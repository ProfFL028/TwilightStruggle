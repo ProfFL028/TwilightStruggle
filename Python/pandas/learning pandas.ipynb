{
 "cells": [
  {
   "cell_type": "code",
   "execution_count": 15,
   "id": "094aa939",
   "metadata": {
    "ExecuteTime": {
     "end_time": "2021-10-09T06:30:14.168049Z",
     "start_time": "2021-10-09T06:30:14.160271Z"
    }
   },
   "outputs": [
    {
     "data": {
      "text/plain": "'1.2.4'"
     },
     "execution_count": 15,
     "metadata": {},
     "output_type": "execute_result"
    }
   ],
   "source": [
    "import numpy as np\n",
    "import pandas as pd\n",
    "from pandas import DataFrame, Series\n",
    "import datetime\n",
    "\n",
    "pd.set_option('display.notebook_repr_html', False)\n",
    "pd.set_option('display.max_columns', 10)\n",
    "pd.set_option('display.max_rows', 10)\n",
    "\n",
    "%matplotlib inline\n",
    "import matplotlib.pyplot as plt\n",
    "# pd.options.display.mpl_style = 'default'"
   ]
  },
  {
   "cell_type": "markdown",
   "id": "300907ad",
   "metadata": {},
   "source": [
    "# A Tour of Pandas"
   ]
  },
  {
   "cell_type": "markdown",
   "id": "dd4cfe54",
   "metadata": {},
   "source": [
    "## The pandas Series Object"
   ]
  },
  {
   "cell_type": "code",
   "execution_count": 2,
   "id": "5cac761a",
   "metadata": {
    "ExecuteTime": {
     "end_time": "2021-10-08T03:27:26.651792Z",
     "start_time": "2021-10-08T03:27:26.642836Z"
    }
   },
   "outputs": [
    {
     "name": "stdout",
     "output_type": "stream",
     "text": [
      "Create a Series Object:\n",
      " 0    1\n",
      "1    2\n",
      "2    3\n",
      "3    4\n",
      "dtype: int64\n"
     ]
    }
   ],
   "source": [
    "s = Series([1,2,3,4])\n",
    "print(\"Create a Series Object:\\n\", s)"
   ]
  },
  {
   "cell_type": "code",
   "execution_count": 3,
   "id": "d541706b",
   "metadata": {
    "ExecuteTime": {
     "end_time": "2021-10-08T03:27:33.856535Z",
     "start_time": "2021-10-08T03:27:33.850750Z"
    }
   },
   "outputs": [
    {
     "name": "stdout",
     "output_type": "stream",
     "text": [
      "return a Series with the rows with labels 1 and 3\n",
      " 1    2\n",
      "3    4\n",
      "dtype: int64\n"
     ]
    }
   ],
   "source": [
    "print(\"return a Series with the rows with labels 1 and 3\\n\", s[[1,3]])\n"
   ]
  },
  {
   "cell_type": "code",
   "execution_count": 4,
   "id": "252865f3",
   "metadata": {
    "ExecuteTime": {
     "end_time": "2021-10-08T03:27:41.791633Z",
     "start_time": "2021-10-08T03:27:41.783926Z"
    }
   },
   "outputs": [
    {
     "name": "stdout",
     "output_type": "stream",
     "text": [
      "Create a Series Object with explicit indexes:\n",
      " a    1\n",
      "b    2\n",
      "c    3\n",
      "d    4\n",
      "dtype: int64\n"
     ]
    }
   ],
   "source": [
    "s = Series([1,2,3,4], index = ['a', 'b','c','d'])\n",
    "print(\"Create a Series Object with explicit indexes:\\n\", s)"
   ]
  },
  {
   "cell_type": "code",
   "execution_count": 5,
   "id": "c01901d5",
   "metadata": {
    "ExecuteTime": {
     "end_time": "2021-10-08T03:27:47.352387Z",
     "start_time": "2021-10-08T03:27:47.341819Z"
    }
   },
   "outputs": [
    {
     "name": "stdout",
     "output_type": "stream",
     "text": [
      "lookup items the series having index 'a' and 'd'\n",
      " a    1\n",
      "d    4\n",
      "dtype: int64\n"
     ]
    }
   ],
   "source": [
    "print(\"lookup items the series having index 'a' and 'd'\\n\", s[['a', 'd']]) "
   ]
  },
  {
   "cell_type": "code",
   "execution_count": 6,
   "id": "0cf3121f",
   "metadata": {
    "ExecuteTime": {
     "end_time": "2021-10-08T03:28:17.967039Z",
     "start_time": "2021-10-08T03:28:17.961946Z"
    }
   },
   "outputs": [
    {
     "name": "stdout",
     "output_type": "stream",
     "text": [
      "get only the index of the series: Index(['a', 'b', 'c', 'd'], dtype='object')\n"
     ]
    }
   ],
   "source": [
    "print(\"get only the index of the series:\", s.index)"
   ]
  },
  {
   "cell_type": "code",
   "execution_count": 7,
   "id": "d9c03b38",
   "metadata": {
    "ExecuteTime": {
     "end_time": "2021-10-08T05:29:39.216039Z",
     "start_time": "2021-10-08T05:29:39.187063Z"
    }
   },
   "outputs": [
    {
     "name": "stdout",
     "output_type": "stream",
     "text": [
      "create a Series who's index is a series of dates between two specified dates:\n",
      " DatetimeIndex(['2014-07-01', '2014-07-02', '2014-07-03', '2014-07-04',\n",
      "               '2014-07-05', '2014-07-06'],\n",
      "              dtype='datetime64[ns]', freq='D')\n"
     ]
    }
   ],
   "source": [
    "dates = pd.date_range('2014-07-01', '2014-07-06')\n",
    "print('create a Series who\\'s index is a series of dates between two specified dates:\\n', dates)"
   ]
  },
  {
   "cell_type": "code",
   "execution_count": 8,
   "id": "58875c53",
   "metadata": {
    "ExecuteTime": {
     "end_time": "2021-10-08T05:30:44.271166Z",
     "start_time": "2021-10-08T05:30:44.260902Z"
    }
   },
   "outputs": [
    {
     "name": "stdout",
     "output_type": "stream",
     "text": [
      "create a Series with values for each date in the index:\n",
      " 2014-07-01    80\n",
      "2014-07-02    82\n",
      "2014-07-03    85\n",
      "2014-07-04    90\n",
      "2014-07-05    83\n",
      "2014-07-06    87\n",
      "Freq: D, dtype: int64\n"
     ]
    }
   ],
   "source": [
    "temps1 = Series([80, 82, 85, 90, 83, 87], index = dates)\n",
    "print('create a Series with values for each date in the index:\\n', temps1)"
   ]
  },
  {
   "cell_type": "markdown",
   "id": "15f52ca4",
   "metadata": {},
   "source": [
    "## DataFrame"
   ]
  },
  {
   "cell_type": "code",
   "execution_count": 9,
   "id": "0aee1c0e",
   "metadata": {
    "ExecuteTime": {
     "end_time": "2021-10-08T05:34:49.549940Z",
     "start_time": "2021-10-08T05:34:49.532449Z"
    }
   },
   "outputs": [
    {
     "name": "stdout",
     "output_type": "stream",
     "text": [
      "DataFrame from two series:\n",
      "             Missoula  Philadelphia\n",
      "2014-07-01        80            70\n",
      "2014-07-02        82            75\n",
      "2014-07-03        85            69\n",
      "2014-07-04        90            83\n",
      "2014-07-05        83            79\n",
      "2014-07-06        87            77\n"
     ]
    }
   ],
   "source": [
    "temps2 = Series([70, 75, 69, 83, 79, 77], index=dates)\n",
    "\n",
    "temps_df = DataFrame({'Missoula': temps1, 'Philadelphia': temps2})\n",
    "print('DataFrame from two series:\\n', temps_df)"
   ]
  },
  {
   "cell_type": "code",
   "execution_count": 10,
   "id": "068ae232",
   "metadata": {
    "ExecuteTime": {
     "end_time": "2021-10-08T05:37:15.788949Z",
     "start_time": "2021-10-08T05:37:15.778156Z"
    }
   },
   "outputs": [
    {
     "name": "stdout",
     "output_type": "stream",
     "text": [
      "Add a column to temps_df that contains the difference in temps:\n",
      "             Missoula  Philadelphia  Difference\n",
      "2014-07-01        80            70          10\n",
      "2014-07-02        82            75           7\n",
      "2014-07-03        85            69          16\n",
      "2014-07-04        90            83           7\n",
      "2014-07-05        83            79           4\n",
      "2014-07-06        87            77          10\n"
     ]
    }
   ],
   "source": [
    "temps_df['Difference'] = temps1 - temps2\n",
    "print('Add a column to temps_df that contains the difference in temps:\\n', temps_df)"
   ]
  },
  {
   "cell_type": "code",
   "execution_count": 11,
   "id": "ca46c517",
   "metadata": {
    "ExecuteTime": {
     "end_time": "2021-10-08T05:38:21.649797Z",
     "start_time": "2021-10-08T05:38:21.642504Z"
    }
   },
   "outputs": [
    {
     "name": "stdout",
     "output_type": "stream",
     "text": [
      "get the row at array position 1(iloc):\n",
      " Missoula        80\n",
      "Philadelphia    70\n",
      "Difference      10\n",
      "Name: 2014-07-01 00:00:00, dtype: int64\n"
     ]
    }
   ],
   "source": [
    "print('get the row at array position 1(iloc):\\n', temps_df.iloc[0])"
   ]
  },
  {
   "cell_type": "code",
   "execution_count": 12,
   "id": "54ca3845",
   "metadata": {
    "ExecuteTime": {
     "end_time": "2021-10-08T05:39:23.235161Z",
     "start_time": "2021-10-08T05:39:23.228128Z"
    }
   },
   "outputs": [
    {
     "name": "stdout",
     "output_type": "stream",
     "text": [
      "retrieve row by index label using .loc:\n",
      " Missoula        83\n",
      "Philadelphia    79\n",
      "Difference       4\n",
      "Name: 2014-07-05 00:00:00, dtype: int64\n"
     ]
    }
   ],
   "source": [
    "print('retrieve row by index label using .loc:\\n', temps_df.loc['2014-07-05'])"
   ]
  },
  {
   "cell_type": "markdown",
   "id": "97dcb65f",
   "metadata": {},
   "source": [
    "## Read from csv"
   ]
  },
  {
   "cell_type": "code",
   "execution_count": 13,
   "id": "e9cb8103",
   "metadata": {
    "ExecuteTime": {
     "end_time": "2021-10-08T05:43:10.948599Z",
     "start_time": "2021-10-08T05:43:10.932073Z"
    }
   },
   "outputs": [
    {
     "ename": "FileNotFoundError",
     "evalue": "[Errno 2] No such file or directory: 'test.csv'",
     "output_type": "error",
     "traceback": [
      "\u001B[1;31m---------------------------------------------------------------------------\u001B[0m",
      "\u001B[1;31mFileNotFoundError\u001B[0m                         Traceback (most recent call last)",
      "\u001B[1;32m<ipython-input-13-16500426cad2>\u001B[0m in \u001B[0;36m<module>\u001B[1;34m\u001B[0m\n\u001B[1;32m----> 1\u001B[1;33m \u001B[0mdf\u001B[0m \u001B[1;33m=\u001B[0m \u001B[0mpd\u001B[0m\u001B[1;33m.\u001B[0m\u001B[0mread_csv\u001B[0m\u001B[1;33m(\u001B[0m\u001B[1;34m'test.csv'\u001B[0m\u001B[1;33m,\u001B[0m \u001B[0mparse_dates\u001B[0m\u001B[1;33m=\u001B[0m\u001B[1;33m[\u001B[0m\u001B[1;34m'date'\u001B[0m\u001B[1;33m]\u001B[0m\u001B[1;33m,\u001B[0m \u001B[0mindex_col\u001B[0m\u001B[1;33m=\u001B[0m\u001B[1;34m'date'\u001B[0m\u001B[1;33m)\u001B[0m\u001B[1;33m\u001B[0m\u001B[1;33m\u001B[0m\u001B[0m\n\u001B[0m\u001B[0;32m      2\u001B[0m \u001B[0mprint\u001B[0m\u001B[1;33m(\u001B[0m\u001B[0mdf\u001B[0m\u001B[1;33m)\u001B[0m\u001B[1;33m\u001B[0m\u001B[1;33m\u001B[0m\u001B[0m\n\u001B[0;32m      3\u001B[0m \u001B[1;33m\u001B[0m\u001B[0m\n",
      "\u001B[1;32mD:\\anaconda\\lib\\site-packages\\pandas\\io\\parsers.py\u001B[0m in \u001B[0;36mread_csv\u001B[1;34m(filepath_or_buffer, sep, delimiter, header, names, index_col, usecols, squeeze, prefix, mangle_dupe_cols, dtype, engine, converters, true_values, false_values, skipinitialspace, skiprows, skipfooter, nrows, na_values, keep_default_na, na_filter, verbose, skip_blank_lines, parse_dates, infer_datetime_format, keep_date_col, date_parser, dayfirst, cache_dates, iterator, chunksize, compression, thousands, decimal, lineterminator, quotechar, quoting, doublequote, escapechar, comment, encoding, dialect, error_bad_lines, warn_bad_lines, delim_whitespace, low_memory, memory_map, float_precision, storage_options)\u001B[0m\n\u001B[0;32m    608\u001B[0m     \u001B[0mkwds\u001B[0m\u001B[1;33m.\u001B[0m\u001B[0mupdate\u001B[0m\u001B[1;33m(\u001B[0m\u001B[0mkwds_defaults\u001B[0m\u001B[1;33m)\u001B[0m\u001B[1;33m\u001B[0m\u001B[1;33m\u001B[0m\u001B[0m\n\u001B[0;32m    609\u001B[0m \u001B[1;33m\u001B[0m\u001B[0m\n\u001B[1;32m--> 610\u001B[1;33m     \u001B[1;32mreturn\u001B[0m \u001B[0m_read\u001B[0m\u001B[1;33m(\u001B[0m\u001B[0mfilepath_or_buffer\u001B[0m\u001B[1;33m,\u001B[0m \u001B[0mkwds\u001B[0m\u001B[1;33m)\u001B[0m\u001B[1;33m\u001B[0m\u001B[1;33m\u001B[0m\u001B[0m\n\u001B[0m\u001B[0;32m    611\u001B[0m \u001B[1;33m\u001B[0m\u001B[0m\n\u001B[0;32m    612\u001B[0m \u001B[1;33m\u001B[0m\u001B[0m\n",
      "\u001B[1;32mD:\\anaconda\\lib\\site-packages\\pandas\\io\\parsers.py\u001B[0m in \u001B[0;36m_read\u001B[1;34m(filepath_or_buffer, kwds)\u001B[0m\n\u001B[0;32m    460\u001B[0m \u001B[1;33m\u001B[0m\u001B[0m\n\u001B[0;32m    461\u001B[0m     \u001B[1;31m# Create the parser.\u001B[0m\u001B[1;33m\u001B[0m\u001B[1;33m\u001B[0m\u001B[1;33m\u001B[0m\u001B[0m\n\u001B[1;32m--> 462\u001B[1;33m     \u001B[0mparser\u001B[0m \u001B[1;33m=\u001B[0m \u001B[0mTextFileReader\u001B[0m\u001B[1;33m(\u001B[0m\u001B[0mfilepath_or_buffer\u001B[0m\u001B[1;33m,\u001B[0m \u001B[1;33m**\u001B[0m\u001B[0mkwds\u001B[0m\u001B[1;33m)\u001B[0m\u001B[1;33m\u001B[0m\u001B[1;33m\u001B[0m\u001B[0m\n\u001B[0m\u001B[0;32m    463\u001B[0m \u001B[1;33m\u001B[0m\u001B[0m\n\u001B[0;32m    464\u001B[0m     \u001B[1;32mif\u001B[0m \u001B[0mchunksize\u001B[0m \u001B[1;32mor\u001B[0m \u001B[0miterator\u001B[0m\u001B[1;33m:\u001B[0m\u001B[1;33m\u001B[0m\u001B[1;33m\u001B[0m\u001B[0m\n",
      "\u001B[1;32mD:\\anaconda\\lib\\site-packages\\pandas\\io\\parsers.py\u001B[0m in \u001B[0;36m__init__\u001B[1;34m(self, f, engine, **kwds)\u001B[0m\n\u001B[0;32m    817\u001B[0m             \u001B[0mself\u001B[0m\u001B[1;33m.\u001B[0m\u001B[0moptions\u001B[0m\u001B[1;33m[\u001B[0m\u001B[1;34m\"has_index_names\"\u001B[0m\u001B[1;33m]\u001B[0m \u001B[1;33m=\u001B[0m \u001B[0mkwds\u001B[0m\u001B[1;33m[\u001B[0m\u001B[1;34m\"has_index_names\"\u001B[0m\u001B[1;33m]\u001B[0m\u001B[1;33m\u001B[0m\u001B[1;33m\u001B[0m\u001B[0m\n\u001B[0;32m    818\u001B[0m \u001B[1;33m\u001B[0m\u001B[0m\n\u001B[1;32m--> 819\u001B[1;33m         \u001B[0mself\u001B[0m\u001B[1;33m.\u001B[0m\u001B[0m_engine\u001B[0m \u001B[1;33m=\u001B[0m \u001B[0mself\u001B[0m\u001B[1;33m.\u001B[0m\u001B[0m_make_engine\u001B[0m\u001B[1;33m(\u001B[0m\u001B[0mself\u001B[0m\u001B[1;33m.\u001B[0m\u001B[0mengine\u001B[0m\u001B[1;33m)\u001B[0m\u001B[1;33m\u001B[0m\u001B[1;33m\u001B[0m\u001B[0m\n\u001B[0m\u001B[0;32m    820\u001B[0m \u001B[1;33m\u001B[0m\u001B[0m\n\u001B[0;32m    821\u001B[0m     \u001B[1;32mdef\u001B[0m \u001B[0mclose\u001B[0m\u001B[1;33m(\u001B[0m\u001B[0mself\u001B[0m\u001B[1;33m)\u001B[0m\u001B[1;33m:\u001B[0m\u001B[1;33m\u001B[0m\u001B[1;33m\u001B[0m\u001B[0m\n",
      "\u001B[1;32mD:\\anaconda\\lib\\site-packages\\pandas\\io\\parsers.py\u001B[0m in \u001B[0;36m_make_engine\u001B[1;34m(self, engine)\u001B[0m\n\u001B[0;32m   1048\u001B[0m             )\n\u001B[0;32m   1049\u001B[0m         \u001B[1;31m# error: Too many arguments for \"ParserBase\"\u001B[0m\u001B[1;33m\u001B[0m\u001B[1;33m\u001B[0m\u001B[1;33m\u001B[0m\u001B[0m\n\u001B[1;32m-> 1050\u001B[1;33m         \u001B[1;32mreturn\u001B[0m \u001B[0mmapping\u001B[0m\u001B[1;33m[\u001B[0m\u001B[0mengine\u001B[0m\u001B[1;33m]\u001B[0m\u001B[1;33m(\u001B[0m\u001B[0mself\u001B[0m\u001B[1;33m.\u001B[0m\u001B[0mf\u001B[0m\u001B[1;33m,\u001B[0m \u001B[1;33m**\u001B[0m\u001B[0mself\u001B[0m\u001B[1;33m.\u001B[0m\u001B[0moptions\u001B[0m\u001B[1;33m)\u001B[0m  \u001B[1;31m# type: ignore[call-arg]\u001B[0m\u001B[1;33m\u001B[0m\u001B[1;33m\u001B[0m\u001B[0m\n\u001B[0m\u001B[0;32m   1051\u001B[0m \u001B[1;33m\u001B[0m\u001B[0m\n\u001B[0;32m   1052\u001B[0m     \u001B[1;32mdef\u001B[0m \u001B[0m_failover_to_python\u001B[0m\u001B[1;33m(\u001B[0m\u001B[0mself\u001B[0m\u001B[1;33m)\u001B[0m\u001B[1;33m:\u001B[0m\u001B[1;33m\u001B[0m\u001B[1;33m\u001B[0m\u001B[0m\n",
      "\u001B[1;32mD:\\anaconda\\lib\\site-packages\\pandas\\io\\parsers.py\u001B[0m in \u001B[0;36m__init__\u001B[1;34m(self, src, **kwds)\u001B[0m\n\u001B[0;32m   1865\u001B[0m \u001B[1;33m\u001B[0m\u001B[0m\n\u001B[0;32m   1866\u001B[0m         \u001B[1;31m# open handles\u001B[0m\u001B[1;33m\u001B[0m\u001B[1;33m\u001B[0m\u001B[1;33m\u001B[0m\u001B[0m\n\u001B[1;32m-> 1867\u001B[1;33m         \u001B[0mself\u001B[0m\u001B[1;33m.\u001B[0m\u001B[0m_open_handles\u001B[0m\u001B[1;33m(\u001B[0m\u001B[0msrc\u001B[0m\u001B[1;33m,\u001B[0m \u001B[0mkwds\u001B[0m\u001B[1;33m)\u001B[0m\u001B[1;33m\u001B[0m\u001B[1;33m\u001B[0m\u001B[0m\n\u001B[0m\u001B[0;32m   1868\u001B[0m         \u001B[1;32massert\u001B[0m \u001B[0mself\u001B[0m\u001B[1;33m.\u001B[0m\u001B[0mhandles\u001B[0m \u001B[1;32mis\u001B[0m \u001B[1;32mnot\u001B[0m \u001B[1;32mNone\u001B[0m\u001B[1;33m\u001B[0m\u001B[1;33m\u001B[0m\u001B[0m\n\u001B[0;32m   1869\u001B[0m         \u001B[1;32mfor\u001B[0m \u001B[0mkey\u001B[0m \u001B[1;32min\u001B[0m \u001B[1;33m(\u001B[0m\u001B[1;34m\"storage_options\"\u001B[0m\u001B[1;33m,\u001B[0m \u001B[1;34m\"encoding\"\u001B[0m\u001B[1;33m,\u001B[0m \u001B[1;34m\"memory_map\"\u001B[0m\u001B[1;33m,\u001B[0m \u001B[1;34m\"compression\"\u001B[0m\u001B[1;33m)\u001B[0m\u001B[1;33m:\u001B[0m\u001B[1;33m\u001B[0m\u001B[1;33m\u001B[0m\u001B[0m\n",
      "\u001B[1;32mD:\\anaconda\\lib\\site-packages\\pandas\\io\\parsers.py\u001B[0m in \u001B[0;36m_open_handles\u001B[1;34m(self, src, kwds)\u001B[0m\n\u001B[0;32m   1360\u001B[0m         \u001B[0mLet\u001B[0m \u001B[0mthe\u001B[0m \u001B[0mreaders\u001B[0m \u001B[0mopen\u001B[0m \u001B[0mIOHanldes\u001B[0m \u001B[0mafter\u001B[0m \u001B[0mthey\u001B[0m \u001B[0mare\u001B[0m \u001B[0mdone\u001B[0m \u001B[1;32mwith\u001B[0m \u001B[0mtheir\u001B[0m \u001B[0mpotential\u001B[0m \u001B[0mraises\u001B[0m\u001B[1;33m.\u001B[0m\u001B[1;33m\u001B[0m\u001B[1;33m\u001B[0m\u001B[0m\n\u001B[0;32m   1361\u001B[0m         \"\"\"\n\u001B[1;32m-> 1362\u001B[1;33m         self.handles = get_handle(\n\u001B[0m\u001B[0;32m   1363\u001B[0m             \u001B[0msrc\u001B[0m\u001B[1;33m,\u001B[0m\u001B[1;33m\u001B[0m\u001B[1;33m\u001B[0m\u001B[0m\n\u001B[0;32m   1364\u001B[0m             \u001B[1;34m\"r\"\u001B[0m\u001B[1;33m,\u001B[0m\u001B[1;33m\u001B[0m\u001B[1;33m\u001B[0m\u001B[0m\n",
      "\u001B[1;32mD:\\anaconda\\lib\\site-packages\\pandas\\io\\common.py\u001B[0m in \u001B[0;36mget_handle\u001B[1;34m(path_or_buf, mode, encoding, compression, memory_map, is_text, errors, storage_options)\u001B[0m\n\u001B[0;32m    640\u001B[0m                 \u001B[0merrors\u001B[0m \u001B[1;33m=\u001B[0m \u001B[1;34m\"replace\"\u001B[0m\u001B[1;33m\u001B[0m\u001B[1;33m\u001B[0m\u001B[0m\n\u001B[0;32m    641\u001B[0m             \u001B[1;31m# Encoding\u001B[0m\u001B[1;33m\u001B[0m\u001B[1;33m\u001B[0m\u001B[1;33m\u001B[0m\u001B[0m\n\u001B[1;32m--> 642\u001B[1;33m             handle = open(\n\u001B[0m\u001B[0;32m    643\u001B[0m                 \u001B[0mhandle\u001B[0m\u001B[1;33m,\u001B[0m\u001B[1;33m\u001B[0m\u001B[1;33m\u001B[0m\u001B[0m\n\u001B[0;32m    644\u001B[0m                 \u001B[0mioargs\u001B[0m\u001B[1;33m.\u001B[0m\u001B[0mmode\u001B[0m\u001B[1;33m,\u001B[0m\u001B[1;33m\u001B[0m\u001B[1;33m\u001B[0m\u001B[0m\n",
      "\u001B[1;31mFileNotFoundError\u001B[0m: [Errno 2] No such file or directory: 'test.csv'"
     ]
    }
   ],
   "source": [
    "df = pd.read_csv('test.csv', parse_dates=['date'], index_col='date')\n",
    "print(df)"
   ]
  },
  {
   "cell_type": "markdown",
   "id": "03a9d38d",
   "metadata": {},
   "source": [
    "## Using numpy in Pandas"
   ]
  },
  {
   "cell_type": "code",
   "execution_count": null,
   "id": "5a6ed8cf",
   "metadata": {
    "ExecuteTime": {
     "end_time": "2021-10-08T07:42:50.721960Z",
     "start_time": "2021-10-08T07:42:45.792155Z"
    }
   },
   "outputs": [],
   "source": [
    "def squares(values):\n",
    "    result = []\n",
    "    for v in values:\n",
    "        result.append(v * v)\n",
    "    return result\n",
    "\n",
    "to_square = range(100000)\n",
    "print(\"time consuming using for loop\")\n",
    "%timeit squares(squares(to_square))\n",
    "array_to_square = np.arange(0, 100000)\n",
    "print(\"using numpy vectorized operation\")\n",
    "%timeit array_to_square ** 2"
   ]
  },
  {
   "cell_type": "code",
   "execution_count": null,
   "id": "db5cd507",
   "metadata": {
    "ExecuteTime": {
     "end_time": "2021-10-08T07:43:54.732745Z",
     "start_time": "2021-10-08T07:43:54.728297Z"
    }
   },
   "outputs": [],
   "source": [
    "print(\"shorthand to repeat a sequence 10 times:\\n\", np.array([0] * 10))"
   ]
  },
  {
   "cell_type": "code",
   "execution_count": null,
   "id": "b10b2c3f",
   "metadata": {
    "ExecuteTime": {
     "end_time": "2021-10-08T07:45:17.999991Z",
     "start_time": "2021-10-08T07:45:17.993111Z"
    }
   },
   "outputs": [],
   "source": [
    "print(\"counting down\", np.arange(10, 0, -1))"
   ]
  },
  {
   "cell_type": "code",
   "execution_count": null,
   "id": "06e108d9",
   "metadata": {
    "ExecuteTime": {
     "end_time": "2021-10-08T07:45:47.016422Z",
     "start_time": "2021-10-08T07:45:47.009827Z"
    }
   },
   "outputs": [],
   "source": [
    "print(\"evenly spaced #'s between two intervals:\\n'\", np.linspace(0, 10, 11))"
   ]
  },
  {
   "cell_type": "code",
   "execution_count": null,
   "id": "59d5a27e",
   "metadata": {
    "ExecuteTime": {
     "end_time": "2021-10-08T07:48:07.687789Z",
     "start_time": "2021-10-08T07:48:07.679636Z"
    }
   },
   "outputs": [],
   "source": [
    "def exp(x):\n",
    "    return x < 3 or x > 3\n",
    "print(\"create a function that is applied to all array elements:\\n\", np.vectorize(exp)(np.arange(0, 10)))"
   ]
  },
  {
   "cell_type": "code",
   "execution_count": null,
   "id": "6bfe7765",
   "metadata": {
    "ExecuteTime": {
     "end_time": "2021-10-09T02:08:26.861252Z",
     "start_time": "2021-10-09T02:08:26.847764Z"
    }
   },
   "outputs": [],
   "source": [
    "s10 = pd.Series([1,2,3,4,5], index=(['a', 'a', 'b', 'c', 'd']))\n",
    "s11 = pd.Series([1,2,3,4,5], index=(['a', 'a', 'c', 'd', 'e']))\n",
    "print(\"Two series added by index,notice there will be four a\\n \",s10+s11)"
   ]
  },
  {
   "cell_type": "markdown",
   "id": "184cfd5d",
   "metadata": {},
   "source": [
    "## tidying up the data"
   ]
  },
  {
   "cell_type": "code",
   "execution_count": null,
   "id": "2b511737",
   "metadata": {
    "ExecuteTime": {
     "end_time": "2021-10-09T05:46:36.778152Z",
     "start_time": "2021-10-09T05:46:36.726166Z"
    }
   },
   "outputs": [],
   "source": [
    "# prepare data\n",
    "df = DataFrame(np.arange(0, 15).reshape(5, 3), index = ['a', 'b', 'c', 'd', 'e'], columns=['c1', 'c2', 'c3'])\n",
    "print(df)"
   ]
  },
  {
   "cell_type": "code",
   "execution_count": null,
   "id": "db2e2c1a",
   "metadata": {
    "ExecuteTime": {
     "end_time": "2021-10-09T05:47:43.204907Z",
     "start_time": "2021-10-09T05:47:43.144498Z"
    }
   },
   "outputs": [],
   "source": [
    "df['c4'] = np.nan\n",
    "df.loc['f'] = np.arange(15, 19)\n",
    "df.loc['g'] = np.nan\n",
    "df['c5'] = np.nan\n",
    "df['c4']['a'] = 20\n",
    "print(df)"
   ]
  },
  {
   "cell_type": "code",
   "execution_count": null,
   "id": "b7fee736",
   "metadata": {
    "ExecuteTime": {
     "end_time": "2021-10-09T05:48:12.171479Z",
     "start_time": "2021-10-09T05:48:12.160300Z"
    }
   },
   "outputs": [],
   "source": [
    "print(\"which items are null:\\n\", df.isnull())"
   ]
  },
  {
   "cell_type": "code",
   "execution_count": null,
   "id": "51eb0491",
   "metadata": {
    "ExecuteTime": {
     "end_time": "2021-10-09T05:48:44.979084Z",
     "start_time": "2021-10-09T05:48:44.968250Z"
    }
   },
   "outputs": [],
   "source": [
    "print(\"count the number of NaN values in each columns:\\n\", df.isnull().sum())"
   ]
  },
  {
   "cell_type": "code",
   "execution_count": null,
   "id": "41bb6f93",
   "metadata": {
    "ExecuteTime": {
     "end_time": "2021-10-09T05:49:10.192397Z",
     "start_time": "2021-10-09T05:49:10.185385Z"
    }
   },
   "outputs": [],
   "source": [
    "print(\"total count of NaN values:\\n\", df.isnull().sum().sum())"
   ]
  },
  {
   "cell_type": "code",
   "execution_count": null,
   "id": "c38a8a31",
   "metadata": {
    "ExecuteTime": {
     "end_time": "2021-10-09T05:54:03.151839Z",
     "start_time": "2021-10-09T05:54:03.142028Z"
    }
   },
   "outputs": [],
   "source": [
    "print(\"select the non-NaN items in column c4: \\n\", df.c4[df.c4.notnull()])"
   ]
  },
  {
   "cell_type": "code",
   "execution_count": null,
   "id": "0e274916",
   "metadata": {
    "ExecuteTime": {
     "end_time": "2021-10-09T05:55:15.880343Z",
     "start_time": "2021-10-09T05:55:15.873316Z"
    }
   },
   "outputs": [],
   "source": [
    "print(\"easy way to dropna, it doesn't affect the origin df:\\n\", df.c4.dropna())"
   ]
  },
  {
   "cell_type": "markdown",
   "id": "3d0da486",
   "metadata": {},
   "source": [
    "### some simple method for dropping nan values."
   ]
  },
  {
   "cell_type": "code",
   "execution_count": null,
   "id": "312d8c25",
   "metadata": {
    "ExecuteTime": {
     "end_time": "2021-10-09T05:59:16.277113Z",
     "start_time": "2021-10-09T05:59:16.255483Z"
    }
   },
   "outputs": [],
   "source": [
    "df2 = df.copy()\n",
    "df2.dropna(how='all')\n",
    "df2.dropna(how='all', axis=1)\n",
    "df2.dropna(how='any', axis=1)\n",
    "df2.dropna(thresh=5, axis=1)"
   ]
  },
  {
   "cell_type": "code",
   "execution_count": null,
   "id": "92f85b9c",
   "metadata": {
    "ExecuteTime": {
     "end_time": "2021-10-09T06:00:43.245111Z",
     "start_time": "2021-10-09T06:00:43.236068Z"
    }
   },
   "outputs": [],
   "source": [
    "s = Series([1,2,np.nan, 3])\n",
    "print(\"nan is ignored in pandas:\\n\", s.mean())"
   ]
  },
  {
   "cell_type": "markdown",
   "id": "47efdbca",
   "metadata": {
    "ExecuteTime": {
     "end_time": "2021-10-09T06:01:31.965522Z",
     "start_time": "2021-10-09T06:01:31.953791Z"
    }
   },
   "source": [
    "### filling in missing data"
   ]
  },
  {
   "cell_type": "code",
   "execution_count": null,
   "id": "d5e119a3",
   "metadata": {
    "ExecuteTime": {
     "end_time": "2021-10-09T06:15:29.729642Z",
     "start_time": "2021-10-09T06:15:29.682820Z"
    }
   },
   "outputs": [],
   "source": [
    "print(\"filling data with limited:\\n\", df.fillna(0, limit=2))"
   ]
  },
  {
   "cell_type": "code",
   "execution_count": null,
   "id": "e1e24762",
   "metadata": {
    "ExecuteTime": {
     "end_time": "2021-10-09T06:16:12.325488Z",
     "start_time": "2021-10-09T06:16:12.312092Z"
    }
   },
   "outputs": [],
   "source": [
    "print(\"forward fill:\\n\", df.fillna(method='ffill'))"
   ]
  },
  {
   "cell_type": "code",
   "execution_count": null,
   "id": "e2c4e017",
   "metadata": {
    "ExecuteTime": {
     "end_time": "2021-10-09T06:20:52.171743Z",
     "start_time": "2021-10-09T06:20:52.154296Z"
    }
   },
   "outputs": [],
   "source": [
    "print(\"backward fill:\\n\", df.fillna(method='bfill'))"
   ]
  },
  {
   "cell_type": "code",
   "execution_count": null,
   "id": "f9024a17",
   "metadata": {
    "ExecuteTime": {
     "end_time": "2021-10-09T06:21:53.838517Z",
     "start_time": "2021-10-09T06:21:53.825682Z"
    }
   },
   "outputs": [],
   "source": [
    "print(\"mean fill:\\n\", df.fillna(df.mean()))"
   ]
  },
  {
   "cell_type": "markdown",
   "id": "96a97b75",
   "metadata": {},
   "source": [
    "### Interpolation of missing values"
   ]
  },
  {
   "cell_type": "code",
   "execution_count": null,
   "id": "75bc8a0a",
   "metadata": {
    "ExecuteTime": {
     "end_time": "2021-10-09T06:24:23.470776Z",
     "start_time": "2021-10-09T06:24:23.459373Z"
    }
   },
   "outputs": [],
   "source": [
    "s = pd.Series([1,np.nan,np.nan,np.nan,np.nan,np.nan,2])\n",
    "print(\"interpolation s:\\n\", s.interpolate())"
   ]
  },
  {
   "cell_type": "code",
   "execution_count": null,
   "id": "71bf4566",
   "metadata": {
    "ExecuteTime": {
     "end_time": "2021-10-09T06:30:19.501601Z",
     "start_time": "2021-10-09T06:30:19.484475Z"
    }
   },
   "outputs": [],
   "source": [
    "ts = pd.Series([1, np.nan, 2], index=[datetime.datetime(2014, 1, 1), datetime.datetime(2014, 2, 1), datetime.datetime(2014, 4, 1)])\n",
    "print(ts)"
   ]
  },
  {
   "cell_type": "code",
   "execution_count": null,
   "id": "b1e98f10",
   "metadata": {
    "ExecuteTime": {
     "end_time": "2021-10-09T06:30:57.202434Z",
     "start_time": "2021-10-09T06:30:57.191287Z"
    }
   },
   "outputs": [],
   "source": [
    "print(\"interpolate by datetime\\n\", ts.interpolate(method='time'))"
   ]
  },
  {
   "cell_type": "code",
   "execution_count": null,
   "id": "3969d094",
   "metadata": {
    "ExecuteTime": {
     "end_time": "2021-10-09T06:38:55.148019Z",
     "start_time": "2021-10-09T06:38:55.138100Z"
    }
   },
   "outputs": [],
   "source": [
    "s = pd.Series([0, np.nan, 100], index=[0, 1, 10])\n",
    "print(\"interpolate by values\\n\", s.interpolate(method='values'))"
   ]
  },
  {
   "cell_type": "code",
   "execution_count": null,
   "id": "438aa97d",
   "metadata": {},
   "outputs": [],
   "source": []
  }
 ],
 "metadata": {
  "kernelspec": {
   "display_name": "Python 3",
   "language": "python",
   "name": "python3"
  },
  "language_info": {
   "codemirror_mode": {
    "name": "ipython",
    "version": 3
   },
   "file_extension": ".py",
   "mimetype": "text/x-python",
   "name": "python",
   "nbconvert_exporter": "python",
   "pygments_lexer": "ipython3",
   "version": "3.8.8"
  }
 },
 "nbformat": 4,
 "nbformat_minor": 5
}
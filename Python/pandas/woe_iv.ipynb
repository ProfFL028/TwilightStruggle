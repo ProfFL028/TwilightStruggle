{
 "cells": [
  {
   "cell_type": "code",
   "execution_count": 1,
   "metadata": {
    "collapsed": true
   },
   "outputs": [],
   "source": [
    "import random\n",
    "\n",
    "import numpy as np\n",
    "import pandas as pd"
   ]
  },
  {
   "cell_type": "code",
   "execution_count": 59,
   "outputs": [
    {
     "name": "stdout",
     "output_type": "stream",
     "text": [
      "   index cls1  good_bad\n",
      "0      0    A         1\n",
      "1      1    A         1\n",
      "2      2    A         1\n",
      "3      3    A         1\n",
      "4      4    B         0\n",
      "5      5    B         0\n",
      "6      6    B         0\n",
      "good_bad    0    1       woe        iv\n",
      "cls1                                  \n",
      "A         0.0  1.0  0.693147  0.693147\n",
      "B         1.0  0.0 -0.693147  0.693147\n",
      "sum(iv): 1.3863\n",
      "------------\n",
      "good_bad         0     1       woe        iv\n",
      "index                                       \n",
      "0         0.000000  0.25  0.223144  0.055786\n",
      "1         0.000000  0.25  0.223144  0.055786\n",
      "2         0.000000  0.25  0.223144  0.055786\n",
      "3         0.000000  0.25  0.223144  0.055786\n",
      "4         0.333333  0.00 -0.287682  0.095894\n",
      "5         0.333333  0.00 -0.287682  0.095894\n",
      "6         0.333333  0.00 -0.287682  0.095894\n",
      "sum(iv): 0.5108\n"
     ]
    }
   ],
   "source": [
    "def woe_iv(data, feature, smooth=0.5):\n",
    "    new_data = pd.crosstab(data[feature[0]], data[feature[1]], normalize='columns')\n",
    "    new_data = new_data.assign(woe=lambda x: np.log((x[1] + smooth)/(x[0] + smooth)))\n",
    "    new_data = new_data.assign(iv=lambda x: x['woe'] * (x[1] - x[0]))\n",
    "\n",
    "    return new_data\n",
    "\n",
    "data = pd.DataFrame(\n",
    "    {'index': range(20),\n",
    "     'cls1': np.random.choice(list('ABCD'),size=(20)),\n",
    "     'good_bad': np.random.choice([0, 1],size=(20))})\n",
    "\n",
    "data2 = pd.DataFrame({'index': range(7),\n",
    "     'cls1': ['A', 'A', 'A', 'A', 'B', 'B', 'B'],\n",
    "     'good_bad': [1, 1, 1, 1, 0, 0, 0]})\n",
    "print(data2)\n",
    "woe = woe_iv(data2, ['cls1', 'good_bad'], smooth=1)\n",
    "print(woe)\n",
    "print('sum(iv): %.4f' % woe['iv'].sum())\n",
    "\n",
    "print(\"------------\")\n",
    "woe2 = woe_iv(data2, ['index', 'good_bad'], smooth=1)\n",
    "print(woe2)\n",
    "print('sum(iv): %.4f' % woe2['iv'].sum())"
   ],
   "metadata": {
    "collapsed": false,
    "pycharm": {
     "name": "#%%\n"
    }
   }
  },
  {
   "cell_type": "code",
   "execution_count": 58,
   "outputs": [
    {
     "name": "stdout",
     "output_type": "stream",
     "text": [
      "good_bad         0    1\n",
      "cls1                   \n",
      "A         0.000000  0.5\n",
      "B         0.333333  0.5\n",
      "C         0.666667  0.0\n"
     ]
    }
   ],
   "source": [
    "x = pd.crosstab(data2['cls1'], data2['good_bad'], normalize='columns')\n",
    "print(x)"
   ],
   "metadata": {
    "collapsed": false,
    "pycharm": {
     "name": "#%%\n"
    }
   }
  },
  {
   "cell_type": "code",
   "execution_count": 60,
   "outputs": [
    {
     "data": {
      "text/plain": "<Figure size 432x288 with 1 Axes>",
      "image/png": "[encoded data removed]"
     },
     "metadata": {
      "needs_background": "light"
     },
     "output_type": "display_data"
    }
   ],
   "source": [
    "data = pd.DataFrame(\n",
    "    {'index': range(5000),\n",
    "     'age': np.random.randint(21, 64, 5000)})\n",
    "\n",
    "import matplotlib.pyplot as plt\n",
    "plt.hist(data['age'])\n",
    "plt.show()\n"
   ],
   "metadata": {
    "collapsed": false,
    "pycharm": {
     "name": "#%%\n"
    }
   }
  },
  {
   "cell_type": "code",
   "execution_count": null,
   "outputs": [],
   "source": [],
   "metadata": {
    "collapsed": false,
    "pycharm": {
     "name": "#%%\n"
    }
   }
  }
 ],
 "metadata": {
  "kernelspec": {
   "display_name": "Python 3",
   "language": "python",
   "name": "python3"
  },
  "language_info": {
   "codemirror_mode": {
    "name": "ipython",
    "version": 2
   },
   "file_extension": ".py",
   "mimetype": "text/x-python",
   "name": "python",
   "nbconvert_exporter": "python",
   "pygments_lexer": "ipython2",
   "version": "2.7.6"
  }
 },
 "nbformat": 4,
 "nbformat_minor": 0
}
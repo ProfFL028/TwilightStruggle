{
 "cells": [
  {
   "cell_type": "code",
   "execution_count": 10,
   "metadata": {
    "collapsed": true
   },
   "outputs": [
    {
     "name": "stdout",
     "output_type": "stream",
     "text": [
      "<ConditionValue {<Timeout(1, value=spam) object at 0x1d3ef503220>: 'spam'}>\n",
      "<Condition(all_events, (<Timeout(1, value=spam) object at 0x1d3ef503b20>, <Timeout(2, value=eggs) object at 0x1d3ef503880>)) object at 0x1d3ef503ee0>\n"
     ]
    }
   ],
   "source": [
    "import simpy\n",
    "\n",
    "def test_condition(env):\n",
    "  t1, t2 = env.timeout(1, value='spam'), env.timeout(2, value='eggs')\n",
    "  ret = yield simpy.AnyOf(env=env, events=[t1 , t2])\n",
    "  #assert ret == {t1: 'spam'}\n",
    "  print(ret)\n",
    "\n",
    "  t1, t2 = env.timeout(1, value='spam'), env.timeout(2, value='eggs')\n",
    "  ret = t1 & t2\n",
    "  #assert ret == {t1: 'spam', t2: 'eggs'}\n",
    "  print(ret)\n",
    "\n",
    "\n",
    "env = simpy.Environment()\n",
    "proc = env.process(test_condition(env))\n",
    "env.run()"
   ]
  }
 ],
 "metadata": {
  "kernelspec": {
   "display_name": "Python 3",
   "language": "python",
   "name": "python3"
  },
  "language_info": {
   "codemirror_mode": {
    "name": "ipython",
    "version": 2
   },
   "file_extension": ".py",
   "mimetype": "text/x-python",
   "name": "python",
   "nbconvert_exporter": "python",
   "pygments_lexer": "ipython2",
   "version": "2.7.6"
  }
 },
 "nbformat": 4,
 "nbformat_minor": 0
}
{
 "cells": [
  {
   "cell_type": "markdown",
   "source": [
    "i want to run my py code multiple times, with different inputs & all at the same time with one exe.\n",
    "My informations are all saved in one csv, & my problem is i dont know how i can run my script multiple times at the same time, with different inputs. My code is still the same but i need some other inputs in it from the csv.\n",
    "So as example: my csv has 20 rows so my code will run 20 times, but in every row is another argument what i need.\n",
    "if anyone know how this works, would be glad."
   ],
   "metadata": {
    "collapsed": false,
    "pycharm": {
     "name": "#%% md\n"
    }
   }
  },
  {
   "cell_type": "code",
   "execution_count": null,
   "outputs": [],
   "source": [
    "import pandas as pd\n",
    "data = pd.read_csv(\"your_csv.csv\")\n",
    "\n",
    "import random\n",
    "x = random.randint(0, 20)\n",
    "print(data[:, x])"
   ],
   "metadata": {
    "collapsed": false,
    "pycharm": {
     "name": "#%%\n"
    }
   }
  },
  {
   "cell_type": "code",
   "execution_count": 23,
   "outputs": [
    {
     "ename": "ValueError",
     "evalue": "invalid literal for int() with base 10: ''",
     "output_type": "error",
     "traceback": [
      "\u001B[0;31m---------------------------------------------------------------------------\u001B[0m",
      "\u001B[0;31mValueError\u001B[0m                                Traceback (most recent call last)",
      "\u001B[0;32m<ipython-input-23-ae4ea6abb5df>\u001B[0m in \u001B[0;36m<module>\u001B[0;34m\u001B[0m\n\u001B[1;32m      1\u001B[0m \u001B[0mstep\u001B[0m \u001B[0;34m=\u001B[0m \u001B[0;36m0\u001B[0m\u001B[0;34m\u001B[0m\u001B[0;34m\u001B[0m\u001B[0m\n\u001B[1;32m      2\u001B[0m \u001B[0;32mwith\u001B[0m \u001B[0mopen\u001B[0m\u001B[0;34m(\u001B[0m\u001B[0;34m'step.txt'\u001B[0m\u001B[0;34m,\u001B[0m \u001B[0mmode\u001B[0m\u001B[0;34m=\u001B[0m\u001B[0;34m'r+'\u001B[0m\u001B[0;34m,\u001B[0m \u001B[0mencoding\u001B[0m\u001B[0;34m=\u001B[0m\u001B[0;34m'utf-8'\u001B[0m\u001B[0;34m)\u001B[0m \u001B[0;32mas\u001B[0m \u001B[0mf\u001B[0m\u001B[0;34m:\u001B[0m\u001B[0;34m\u001B[0m\u001B[0;34m\u001B[0m\u001B[0m\n\u001B[0;32m----> 3\u001B[0;31m     \u001B[0mstep\u001B[0m \u001B[0;34m=\u001B[0m \u001B[0mint\u001B[0m\u001B[0;34m(\u001B[0m\u001B[0mf\u001B[0m\u001B[0;34m.\u001B[0m\u001B[0mread\u001B[0m\u001B[0;34m(\u001B[0m\u001B[0;34m)\u001B[0m\u001B[0;34m)\u001B[0m\u001B[0;34m\u001B[0m\u001B[0;34m\u001B[0m\u001B[0m\n\u001B[0m\u001B[1;32m      4\u001B[0m     \u001B[0mstep\u001B[0m \u001B[0;34m=\u001B[0m \u001B[0mstep\u001B[0m \u001B[0;34m+\u001B[0m \u001B[0;36m1\u001B[0m\u001B[0;34m\u001B[0m\u001B[0;34m\u001B[0m\u001B[0m\n\u001B[1;32m      5\u001B[0m     \u001B[0mf\u001B[0m\u001B[0;34m.\u001B[0m\u001B[0mwrite\u001B[0m\u001B[0;34m(\u001B[0m\u001B[0mstr\u001B[0m\u001B[0;34m(\u001B[0m\u001B[0mstep\u001B[0m\u001B[0;34m)\u001B[0m\u001B[0;34m)\u001B[0m\u001B[0;34m\u001B[0m\u001B[0;34m\u001B[0m\u001B[0m\n",
      "\u001B[0;31mValueError\u001B[0m: invalid literal for int() with base 10: ''"
     ]
    }
   ],
   "source": [
    "step = 0\n",
    "with open('step.txt', mode='r+', encoding='utf-8') as f:\n",
    "    line = f.read()\n",
    "    if line is not None:\n",
    "        step = int(line)\n",
    "    if step >= 20 or step < 0:\n",
    "        step = 0\n",
    "\n",
    "    data = data[:, step]\n",
    "    # your logic to handle current line\n",
    "    step = step + 1\n",
    "    f.write(str(step))"
   ],
   "metadata": {
    "collapsed": false,
    "pycharm": {
     "name": "#%%\n"
    }
   }
  },
  {
   "cell_type": "code",
   "execution_count": 27,
   "outputs": [
    {
     "name": "stdout",
     "output_type": "stream",
     "text": [
      "\n",
      "*\n",
      "**\n",
      "***\n",
      "****\n",
      "\n",
      "*\n",
      "**\n",
      "***\n",
      "****\n"
     ]
    },
    {
     "ename": "ValueError",
     "evalue": "invalid literal for int() with base 10: ''",
     "output_type": "error",
     "traceback": [
      "\u001B[0;31m---------------------------------------------------------------------------\u001B[0m",
      "\u001B[0;31mValueError\u001B[0m                                Traceback (most recent call last)",
      "\u001B[0;32m<ipython-input-27-3b28be7d19ac>\u001B[0m in \u001B[0;36m<module>\u001B[0;34m\u001B[0m\n\u001B[1;32m      6\u001B[0m         \u001B[0;32mfor\u001B[0m \u001B[0mi\u001B[0m \u001B[0;32min\u001B[0m \u001B[0mrange\u001B[0m\u001B[0;34m(\u001B[0m\u001B[0mint\u001B[0m\u001B[0;34m(\u001B[0m\u001B[0minput_line\u001B[0m\u001B[0;34m)\u001B[0m\u001B[0;34m)\u001B[0m\u001B[0;34m:\u001B[0m\u001B[0;34m\u001B[0m\u001B[0;34m\u001B[0m\u001B[0m\n\u001B[1;32m      7\u001B[0m             \u001B[0mprint\u001B[0m\u001B[0;34m(\u001B[0m\u001B[0;34m\"*\"\u001B[0m \u001B[0;34m*\u001B[0m \u001B[0mi\u001B[0m\u001B[0;34m)\u001B[0m\u001B[0;34m\u001B[0m\u001B[0;34m\u001B[0m\u001B[0m\n\u001B[0;32m----> 8\u001B[0;31m \u001B[0mmain\u001B[0m\u001B[0;34m(\u001B[0m\u001B[0;34m)\u001B[0m\u001B[0;34m\u001B[0m\u001B[0;34m\u001B[0m\u001B[0m\n\u001B[0m",
      "\u001B[0;32m<ipython-input-27-3b28be7d19ac>\u001B[0m in \u001B[0;36mmain\u001B[0;34m()\u001B[0m\n\u001B[1;32m      4\u001B[0m         \u001B[0;32mif\u001B[0m \u001B[0minput_line\u001B[0m \u001B[0;32mis\u001B[0m \u001B[0;32mNone\u001B[0m\u001B[0;34m:\u001B[0m\u001B[0;34m\u001B[0m\u001B[0;34m\u001B[0m\u001B[0m\n\u001B[1;32m      5\u001B[0m             \u001B[0;32mbreak\u001B[0m\u001B[0;34m\u001B[0m\u001B[0;34m\u001B[0m\u001B[0m\n\u001B[0;32m----> 6\u001B[0;31m         \u001B[0;32mfor\u001B[0m \u001B[0mi\u001B[0m \u001B[0;32min\u001B[0m \u001B[0mrange\u001B[0m\u001B[0;34m(\u001B[0m\u001B[0mint\u001B[0m\u001B[0;34m(\u001B[0m\u001B[0minput_line\u001B[0m\u001B[0;34m)\u001B[0m\u001B[0;34m)\u001B[0m\u001B[0;34m:\u001B[0m\u001B[0;34m\u001B[0m\u001B[0;34m\u001B[0m\u001B[0m\n\u001B[0m\u001B[1;32m      7\u001B[0m             \u001B[0mprint\u001B[0m\u001B[0;34m(\u001B[0m\u001B[0;34m\"*\"\u001B[0m \u001B[0;34m*\u001B[0m \u001B[0mi\u001B[0m\u001B[0;34m)\u001B[0m\u001B[0;34m\u001B[0m\u001B[0;34m\u001B[0m\u001B[0m\n\u001B[1;32m      8\u001B[0m \u001B[0mmain\u001B[0m\u001B[0;34m(\u001B[0m\u001B[0;34m)\u001B[0m\u001B[0;34m\u001B[0m\u001B[0;34m\u001B[0m\u001B[0m\n",
      "\u001B[0;31mValueError\u001B[0m: invalid literal for int() with base 10: ''"
     ]
    }
   ],
   "source": [
    "def main():\n",
    "    while True:\n",
    "        input_line = input(\"How many lines to display? \")\n",
    "        if input_line.isnumeric():\n",
    "            for i in range(int(input_line)):\n",
    "                print(\"*\" * i)\n",
    "        elif input_line == '':\n",
    "            break\n",
    "        else:\n",
    "            print(\"wrong input\")\n",
    "main()"
   ],
   "metadata": {
    "collapsed": false,
    "pycharm": {
     "name": "#%%\n"
    }
   }
  },
  {
   "cell_type": "code",
   "execution_count": 28,
   "outputs": [
    {
     "name": "stdout",
     "output_type": "stream",
     "text": [
      "\n",
      "Tree after construction:\n",
      "value: 27, left: none, right: none\n",
      "value: 37, left: 27, right: none\n",
      "value: 82, left: none, right: none\n",
      "value: 86, left: 82, right: none\n",
      "value: 96, left: none, right: none\n",
      "value: 91, left: none, right: 96\n",
      "value: 90, left: 86, right: 91\n",
      "value: 80, left: 37, right: 90\n",
      "\n",
      "Result after load:\n",
      "value: 27, left: none, right: none\n",
      "value: 37, left: 27, right: none\n",
      "value: 82, left: none, right: none\n",
      "value: 86, left: 82, right: none\n",
      "value: 96, left: none, right: none\n",
      "value: 91, left: none, right: 96\n",
      "value: 90, left: 86, right: 91\n",
      "value: 80, left: 37, right: 90\n"
     ]
    }
   ],
   "source": [
    "from random import randint\n",
    "from dataclasses import dataclass\n",
    "from typing import BinaryIO, ClassVar, Union\n",
    "\n",
    "# A simple unbalanced tree node with an add method\n",
    "@dataclass\n",
    "class Node:\n",
    "    # write to file as 2-byte integers\n",
    "    int_size: ClassVar[int] = 2\n",
    "    value: int = None\n",
    "    address: int = None\n",
    "    left: Union['Node', int] = None\n",
    "    right: Union['Node', int] = None\n",
    "\n",
    "    def add(self, value):\n",
    "        p = self\n",
    "        while True:\n",
    "            if value > p.value:\n",
    "                if p.right is None:\n",
    "                    p.right = Node(value=value)\n",
    "                    break\n",
    "                else:\n",
    "                    p = p.right\n",
    "            elif value < p.value:\n",
    "                if p.left is None:\n",
    "                    p.left = Node(value=value)\n",
    "                    break\n",
    "                else:\n",
    "                    p = p.left\n",
    "            else:\n",
    "                # value already in tree\n",
    "                break\n",
    "\n",
    "    @classmethod\n",
    "    def _write_int(cls, f: BinaryIO, i: int):\n",
    "        f.write(i.to_bytes(length=cls.int_size, byteorder='big'))\n",
    "\n",
    "    @classmethod\n",
    "    def _write_node(cls, f: BinaryIO, node: 'Node'):\n",
    "        f.write(node.value.to_bytes(length=cls.int_size, byteorder='big'))\n",
    "        f.write((node.left.address if node.left is not None else 0).to_bytes(length=cls.int_size, byteorder='big'))\n",
    "        f.write((node.right.address if node.right is not None else 0).to_bytes(length=cls.int_size, byteorder='big'))\n",
    "\n",
    "    @classmethod\n",
    "    def _read_int(cls, f: BinaryIO):\n",
    "        return int.from_bytes(f.read(cls.int_size), byteorder='big')\n",
    "\n",
    "    @classmethod\n",
    "    def _read_node(cls, f: BinaryIO, node: 'Node'):\n",
    "        node.value = int.from_bytes(f.read(cls.int_size), byteorder='big')\n",
    "        node.left = int.from_bytes(f.read(cls.int_size), byteorder='big')\n",
    "        node.right = int.from_bytes(f.read(cls.int_size), byteorder='big')\n",
    "\n",
    "    def save(self, f: BinaryIO):\n",
    "        # seek the start of the file and write a dummy root record\n",
    "        f.seek(0)\n",
    "        self._write_int(f, self.value)\n",
    "        self._write_int(f, 0)\n",
    "        self._write_int(f, 0)\n",
    "\n",
    "        stack = []\n",
    "        p = self\n",
    "        while True:\n",
    "            if p.left is not None and p.left.address is None:\n",
    "                stack.append(p)\n",
    "                p = p.left\n",
    "            elif p.right is not None and p.right.address is None:\n",
    "                stack.append(p)\n",
    "                p = p.right\n",
    "            else:\n",
    "                p.address = f.tell()\n",
    "                self._write_node(f, p)\n",
    "                if stack:\n",
    "                    p = stack.pop()\n",
    "                else:\n",
    "                    break\n",
    "\n",
    "        # rewrite root node with correct location of left and right nodes\n",
    "        f.seek(0)\n",
    "        self._write_node(f, self)\n",
    "\n",
    "    def load(self, f: BinaryIO):\n",
    "        f.seek(0)\n",
    "        self.address = 0\n",
    "\n",
    "        def load_side(side: str):\n",
    "            # this function avoids repeating this code twice for .left and .right,\n",
    "            # working around Python not having pointers, otherwise you'd just point at the attributes\n",
    "            nonlocal f, p, stack\n",
    "            if not isinstance(getattr(p, side), int):\n",
    "                return False\n",
    "            if not getattr(p, side):\n",
    "                setattr(p, side, None)\n",
    "            else:\n",
    "                f.seek(getattr(p, side))\n",
    "                setattr(p, side, Node())\n",
    "                stack.append(p)\n",
    "                p = getattr(p, side)\n",
    "                self._read_node(f, p)\n",
    "            return True\n",
    "\n",
    "        stack = []\n",
    "        p = self\n",
    "        self._read_node(f, p)\n",
    "        while True:\n",
    "            if not load_side('left') and not load_side('right'):\n",
    "                if stack:\n",
    "                    p = stack.pop()\n",
    "                else:\n",
    "                    break\n",
    "\n",
    "    def print(self):\n",
    "        stack = []\n",
    "        p = self\n",
    "        left_done = False\n",
    "        right_done = False\n",
    "        while True:\n",
    "            if not left_done and p.left is not None:\n",
    "                stack.append((p, True, False))\n",
    "                p, left_done, right_done = p.left, False, False\n",
    "            elif not right_done and p.right is not None:\n",
    "                stack.append((p, True, True))\n",
    "                p, left_done, right_done = p.right, False, False\n",
    "            else:\n",
    "                print(f'value: {p.value}, '\n",
    "                      f'left: {p.left.value if p.left else \"none\"}, '\n",
    "                      f'right: {p.right.value if p.right else \"none\"}')\n",
    "                if stack:\n",
    "                    p, left_done, right_done = stack.pop()\n",
    "                else:\n",
    "                    break\n",
    "\n",
    "\n",
    "values = [randint(0, 100) for __ in range(10)]\n",
    "root = Node(values[0])\n",
    "for v in values[1:]:\n",
    "    root.add(v)\n",
    "print('\\nTree after construction:')\n",
    "root.print()\n",
    "\n",
    "# save the tree\n",
    "with open('tree.bin', 'wb') as f:\n",
    "    root.save(f)\n",
    "\n",
    "# start a new tree, initialise with single 0 because it needs one\n",
    "root = Node()\n",
    "# read the tree\n",
    "with open('tree.bin', 'rb') as f:\n",
    "    root.load(f)\n",
    "print('\\nResult after load:')\n",
    "root.print()"
   ],
   "metadata": {
    "collapsed": false,
    "pycharm": {
     "name": "#%%\n"
    }
   }
  },
  {
   "cell_type": "code",
   "execution_count": 36,
   "outputs": [
    {
     "data": {
      "text/plain": "47    42919\n46    42721\n45    42625\n48    42595\n49    41979\n      ...  \n10        2\n86        1\n8         1\n9         1\n87        1\nLength: 79, dtype: int64"
     },
     "execution_count": 36,
     "metadata": {},
     "output_type": "execute_result"
    }
   ],
   "source": [
    "def random_int_by_probas_sum(probas_cum, r):\n",
    "    \"\"\"\n",
    "    @param probas_cum cumulation probablities of the 10 random numbers.\n",
    "    @param r random number\n",
    "    return the value of r-percentage. for example r=0.3, it will return 3, r=0.8, it will return 8\n",
    "    \"\"\"\n",
    "    for index in range(len(probas_cum)):\n",
    "        if r <= probas_cum[index]:\n",
    "            return index\n",
    "\n",
    "import numpy as np\n",
    "import pandas as pd\n",
    "import random\n",
    "\n",
    "nums = np.arange(0, 10, 1)\n",
    "#\n",
    "probas = [0.05, 0.15, 0.07, 0.13, 0.09, 0.11, 0.08, 0.12, 0.04, 0.16]\n",
    "probas_cum = [0.05, 0.2, 0.27, 0.4, 0.49, 0.6, 0.68, 0.8, 0.84, 1]\n",
    "random_count = 1000000\n",
    "sums = []\n",
    "\n",
    "for _ in range(random_count):\n",
    "    sum_step = 0\n",
    "    for i in range(10):\n",
    "        r = random.random()\n",
    "        sum_step += random_int_by_probas_sum(probas_cum, r)\n",
    "    sums.append(sum_step)\n",
    "\n",
    "sums = pd.Series(sums)\n",
    "sums.value_counts()\n"
   ],
   "metadata": {
    "collapsed": false,
    "pycharm": {
     "name": "#%%\n"
    }
   }
  },
  {
   "cell_type": "code",
   "execution_count": 38,
   "outputs": [
    {
     "name": "stderr",
     "output_type": "stream",
     "text": [
      "<ipython-input-38-cbd639ff1f9a>:13: MatplotlibDeprecationWarning: Adding an axes using the same arguments as a previous axes currently reuses the earlier instance.  In a future version, a new instance will always be created and returned.  Meanwhile, this warning can be suppressed, and the future behavior ensured, by passing a unique label to each axes instance.\n",
      "  plt.axes()\n",
      "<ipython-input-38-cbd639ff1f9a>:22: MatplotlibDeprecationWarning: Adding an axes using the same arguments as a previous axes currently reuses the earlier instance.  In a future version, a new instance will always be created and returned.  Meanwhile, this warning can be suppressed, and the future behavior ensured, by passing a unique label to each axes instance.\n",
      "  plt.axes()\n"
     ]
    },
    {
     "ename": "KeyboardInterrupt",
     "evalue": "",
     "output_type": "error",
     "traceback": [
      "\u001B[0;31m---------------------------------------------------------------------------\u001B[0m",
      "\u001B[0;31mKeyboardInterrupt\u001B[0m                         Traceback (most recent call last)",
      "\u001B[0;32m<ipython-input-38-cbd639ff1f9a>\u001B[0m in \u001B[0;36m<module>\u001B[0;34m\u001B[0m\n\u001B[1;32m     21\u001B[0m \u001B[0mfig\u001B[0m\u001B[0;34m.\u001B[0m\u001B[0mcolorbar\u001B[0m\u001B[0;34m(\u001B[0m\u001B[0mim\u001B[0m\u001B[0;34m)\u001B[0m\u001B[0;34m\u001B[0m\u001B[0;34m\u001B[0m\u001B[0m\n\u001B[1;32m     22\u001B[0m \u001B[0mplt\u001B[0m\u001B[0;34m.\u001B[0m\u001B[0maxes\u001B[0m\u001B[0;34m(\u001B[0m\u001B[0;34m)\u001B[0m\u001B[0;34m\u001B[0m\u001B[0;34m\u001B[0m\u001B[0m\n\u001B[0;32m---> 23\u001B[0;31m \u001B[0mplt\u001B[0m\u001B[0;34m.\u001B[0m\u001B[0mshow\u001B[0m\u001B[0;34m(\u001B[0m\u001B[0;34m)\u001B[0m\u001B[0;34m\u001B[0m\u001B[0;34m\u001B[0m\u001B[0m\n\u001B[0m",
      "\u001B[0;32m/opt/anaconda3/lib/python3.8/site-packages/matplotlib/pyplot.py\u001B[0m in \u001B[0;36mshow\u001B[0;34m(*args, **kwargs)\u001B[0m\n\u001B[1;32m    351\u001B[0m     \"\"\"\n\u001B[1;32m    352\u001B[0m     \u001B[0m_warn_if_gui_out_of_main_thread\u001B[0m\u001B[0;34m(\u001B[0m\u001B[0;34m)\u001B[0m\u001B[0;34m\u001B[0m\u001B[0;34m\u001B[0m\u001B[0m\n\u001B[0;32m--> 353\u001B[0;31m     \u001B[0;32mreturn\u001B[0m \u001B[0m_backend_mod\u001B[0m\u001B[0;34m.\u001B[0m\u001B[0mshow\u001B[0m\u001B[0;34m(\u001B[0m\u001B[0;34m*\u001B[0m\u001B[0margs\u001B[0m\u001B[0;34m,\u001B[0m \u001B[0;34m**\u001B[0m\u001B[0mkwargs\u001B[0m\u001B[0;34m)\u001B[0m\u001B[0;34m\u001B[0m\u001B[0;34m\u001B[0m\u001B[0m\n\u001B[0m\u001B[1;32m    354\u001B[0m \u001B[0;34m\u001B[0m\u001B[0m\n\u001B[1;32m    355\u001B[0m \u001B[0;34m\u001B[0m\u001B[0m\n",
      "\u001B[0;32m/opt/anaconda3/lib/python3.8/site-packages/matplotlib/backend_bases.py\u001B[0m in \u001B[0;36mshow\u001B[0;34m(cls, block)\u001B[0m\n\u001B[1;32m   3542\u001B[0m                 \u001B[0mblock\u001B[0m \u001B[0;34m=\u001B[0m \u001B[0;32mTrue\u001B[0m\u001B[0;34m\u001B[0m\u001B[0;34m\u001B[0m\u001B[0m\n\u001B[1;32m   3543\u001B[0m         \u001B[0;32mif\u001B[0m \u001B[0mblock\u001B[0m\u001B[0;34m:\u001B[0m\u001B[0;34m\u001B[0m\u001B[0;34m\u001B[0m\u001B[0m\n\u001B[0;32m-> 3544\u001B[0;31m             \u001B[0mcls\u001B[0m\u001B[0;34m.\u001B[0m\u001B[0mmainloop\u001B[0m\u001B[0;34m(\u001B[0m\u001B[0;34m)\u001B[0m\u001B[0;34m\u001B[0m\u001B[0;34m\u001B[0m\u001B[0m\n\u001B[0m\u001B[1;32m   3545\u001B[0m \u001B[0;34m\u001B[0m\u001B[0m\n\u001B[1;32m   3546\u001B[0m     \u001B[0;31m# This method is the one actually exporting the required methods.\u001B[0m\u001B[0;34m\u001B[0m\u001B[0;34m\u001B[0m\u001B[0;34m\u001B[0m\u001B[0m\n",
      "\u001B[0;32m/opt/anaconda3/lib/python3.8/site-packages/matplotlib/backends/_backend_tk.py\u001B[0m in \u001B[0;36mmainloop\u001B[0;34m()\u001B[0m\n\u001B[1;32m    914\u001B[0m         \u001B[0mmanagers\u001B[0m \u001B[0;34m=\u001B[0m \u001B[0mGcf\u001B[0m\u001B[0;34m.\u001B[0m\u001B[0mget_all_fig_managers\u001B[0m\u001B[0;34m(\u001B[0m\u001B[0;34m)\u001B[0m\u001B[0;34m\u001B[0m\u001B[0;34m\u001B[0m\u001B[0m\n\u001B[1;32m    915\u001B[0m         \u001B[0;32mif\u001B[0m \u001B[0mmanagers\u001B[0m\u001B[0;34m:\u001B[0m\u001B[0;34m\u001B[0m\u001B[0;34m\u001B[0m\u001B[0m\n\u001B[0;32m--> 916\u001B[0;31m             \u001B[0mmanagers\u001B[0m\u001B[0;34m[\u001B[0m\u001B[0;36m0\u001B[0m\u001B[0;34m]\u001B[0m\u001B[0;34m.\u001B[0m\u001B[0mwindow\u001B[0m\u001B[0;34m.\u001B[0m\u001B[0mmainloop\u001B[0m\u001B[0;34m(\u001B[0m\u001B[0;34m)\u001B[0m\u001B[0;34m\u001B[0m\u001B[0;34m\u001B[0m\u001B[0m\n\u001B[0m",
      "\u001B[0;32m/opt/anaconda3/lib/python3.8/tkinter/__init__.py\u001B[0m in \u001B[0;36mmainloop\u001B[0;34m(self, n)\u001B[0m\n\u001B[1;32m   1427\u001B[0m     \u001B[0;32mdef\u001B[0m \u001B[0mmainloop\u001B[0m\u001B[0;34m(\u001B[0m\u001B[0mself\u001B[0m\u001B[0;34m,\u001B[0m \u001B[0mn\u001B[0m\u001B[0;34m=\u001B[0m\u001B[0;36m0\u001B[0m\u001B[0;34m)\u001B[0m\u001B[0;34m:\u001B[0m\u001B[0;34m\u001B[0m\u001B[0;34m\u001B[0m\u001B[0m\n\u001B[1;32m   1428\u001B[0m         \u001B[0;34m\"\"\"Call the mainloop of Tk.\"\"\"\u001B[0m\u001B[0;34m\u001B[0m\u001B[0;34m\u001B[0m\u001B[0m\n\u001B[0;32m-> 1429\u001B[0;31m         \u001B[0mself\u001B[0m\u001B[0;34m.\u001B[0m\u001B[0mtk\u001B[0m\u001B[0;34m.\u001B[0m\u001B[0mmainloop\u001B[0m\u001B[0;34m(\u001B[0m\u001B[0mn\u001B[0m\u001B[0;34m)\u001B[0m\u001B[0;34m\u001B[0m\u001B[0;34m\u001B[0m\u001B[0m\n\u001B[0m\u001B[1;32m   1430\u001B[0m \u001B[0;34m\u001B[0m\u001B[0m\n\u001B[1;32m   1431\u001B[0m     \u001B[0;32mdef\u001B[0m \u001B[0mquit\u001B[0m\u001B[0;34m(\u001B[0m\u001B[0mself\u001B[0m\u001B[0;34m)\u001B[0m\u001B[0;34m:\u001B[0m\u001B[0;34m\u001B[0m\u001B[0;34m\u001B[0m\u001B[0m\n",
      "\u001B[0;31mKeyboardInterrupt\u001B[0m: "
     ]
    }
   ],
   "source": [
    "import matplotlib\n",
    "matplotlib.use('TkAgg')\n",
    "from matplotlib import pyplot as plt\n",
    "import numpy as np\n",
    "\n",
    "data = np.ones((256,256))\n",
    "fig = plt.figure()\n",
    "ax = fig.add_subplot(111)\n",
    "temp = np.transpose(data)\n",
    "plt.title('title')\n",
    "im = ax.imshow((temp), aspect='auto')\n",
    "fig.colorbar(im)\n",
    "plt.axes()\n",
    "\n",
    "data2 = np.ones((256,256))\n",
    "fig = plt.figure()\n",
    "ax = fig.add_subplot(111)\n",
    "temp = np.transpose(data2)\n",
    "plt.title('title')\n",
    "im = ax.imshow((temp), aspect='auto')\n",
    "fig.colorbar(im)\n",
    "plt.axes()\n",
    "plt.show()"
   ],
   "metadata": {
    "collapsed": false,
    "pycharm": {
     "name": "#%%\n"
    }
   }
  }
 ],
 "metadata": {
  "kernelspec": {
   "display_name": "Python 3",
   "language": "python",
   "name": "python3"
  },
  "language_info": {
   "codemirror_mode": {
    "name": "ipython",
    "version": 2
   },
   "file_extension": ".py",
   "mimetype": "text/x-python",
   "name": "python",
   "nbconvert_exporter": "python",
   "pygments_lexer": "ipython2",
   "version": "2.7.6"
  }
 },
 "nbformat": 4,
 "nbformat_minor": 0
}
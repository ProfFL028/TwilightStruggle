{
 "cells": [
  {
   "cell_type": "code",
   "execution_count": null,
   "metadata": {
    "collapsed": true
   },
   "outputs": [],
   "source": [
    "import random\n",
    "\n",
    "arr = [random.randint(0, 100) for i in range(100)]\n",
    "arr_size = len(arr)\n",
    "\n",
    "count_arr = arr\n",
    "count_arr.extend([1e15 for i in range(arr_size)])"
   ]
  },
  {
   "cell_type": "code",
   "execution_count": null,
   "outputs": [],
   "source": [
    "# log(N) algorithm for generating huffman tree in sorted array\n",
    "pos1 = arr_size - 1\n",
    "pos2 = arr_size\n",
    "min1_idx, min2_idx = 0, 0\n",
    "parent_node = [0 for i in range(arr_size * 2 + 1)]\n",
    "binary = [0 for i in range(arr_size * 2 + 1)]\n",
    "for a in range(arr_size):\n",
    "    if pos1 >= 0:\n",
    "        if count_arr[pos1] < count_arr[pos2]:\n",
    "            min1_idx = pos1\n",
    "            pos1 -= 1\n",
    "        else:\n",
    "            min1_idx = pos2\n",
    "            pos2 += 1\n",
    "    else:\n",
    "        min1_idx = pos2\n",
    "        pos2 += 1\n",
    "\n",
    "    if pos1 >= 0:\n",
    "        if count_arr[pos1] < count_arr[pos2]:\n",
    "            min2_idx = pos1\n",
    "            pos1 -= 1\n",
    "        else:\n",
    "            min2_idx = pos2\n",
    "            pos2 += 1\n",
    "    else:\n",
    "        min2_idx = pos2\n",
    "        pos2 += 1\n",
    "    count_arr[arr_size + a] = count_arr[min1_idx] + count_arr[min2_idx]\n",
    "    parent_node[min1_idx] = arr_size + a\n",
    "    parent_node[min2_idx] = arr_size + a\n",
    "    binary[min2_idx] = 1"
   ],
   "metadata": {
    "collapsed": false,
    "pycharm": {
     "name": "#%%\n"
    }
   }
  }
 ],
 "metadata": {
  "kernelspec": {
   "display_name": "Python 3",
   "language": "python",
   "name": "python3"
  },
  "language_info": {
   "codemirror_mode": {
    "name": "ipython",
    "version": 2
   },
   "file_extension": ".py",
   "mimetype": "text/x-python",
   "name": "python",
   "nbconvert_exporter": "python",
   "pygments_lexer": "ipython2",
   "version": "2.7.6"
  }
 },
 "nbformat": 4,
 "nbformat_minor": 0
}
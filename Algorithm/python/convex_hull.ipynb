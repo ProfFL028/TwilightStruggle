{
 "cells": [
  {
   "cell_type": "code",
   "execution_count": 126,
   "metadata": {
    "pycharm": {
     "name": "#%%\n"
    },
    "tags": []
   },
   "outputs": [],
   "source": [
    "import numpy as np\n",
    "import matplotlib.pyplot as plt\n",
    "import matplotlib.animation as animation\n",
    "\n",
    "\n",
    "%matplotlib qt5\n",
    "\n",
    "# data preparing\n",
    "point_count = 20\n",
    "points = np.random.rand(point_count * 2).reshape((point_count, 2))\n",
    "plt.scatter(points[:, 0], points[:, 1])\n",
    "plt.show()"
   ]
  },
  {
   "cell_type": "markdown",
   "metadata": {
    "pycharm": {
     "name": "#%% md\n"
    }
   },
   "source": [
    "穷尽搜索算法\n",
    "\n",
    "对于点集上的任意的一条直线，如果其他所有点都在这条直线的一侧，则这两个点在凸包的点集内。<br>\n",
    "其中判断点在直线的哪侧可以用两条直线的叉积的正负值决定。 <br>\n",
    "算法基本思想：<br>\n",
    "遍历[原点集]对应的所有直线，如果其他点都在点集的一侧，则添加这两个点到[凸包点集]中。"
   ]
  },
  {
   "cell_type": "code",
   "execution_count": 2,
   "metadata": {
    "pycharm": {
     "name": "#%%\n"
    }
   },
   "outputs": [],
   "source": [
    "epsilon = 1e-5\n",
    "\n",
    "LEFT_SIDE = 1\n",
    "RIGHT_SIDE = 2\n",
    "INLINE_SIDE = 0\n",
    "def point_side(x1, y1, x2, y2, x3, y3):\n",
    "    \"\"\"\n",
    "    @return 1: 右侧， 2：左侧， 0：在同一条直线\n",
    "    \"\"\"\n",
    "    dot_value = x1 * y2 + x2 * y3 + x3 * y1 - x1 * y3 - x2 * y1 - x3 * y2\n",
    "    if dot_value > epsilon:\n",
    "        return LEFT_SIDE\n",
    "    elif dot_value < epsilon:\n",
    "        return RIGHT_SIDE\n",
    "    return INLINE_SIDE"
   ]
  },
  {
   "cell_type": "code",
   "execution_count": 3,
   "metadata": {
    "pycharm": {
     "name": "#%%\n"
    }
   },
   "outputs": [
    {
     "data": {
      "text/plain": "[(array([0.90010028, 0.22906409]), array([0.91245884, 0.79083504])),\n (array([0.90010028, 0.22906409]), array([0.80885278, 0.04285968])),\n (array([0.91245884, 0.79083504]), array([0.88552795, 0.96848521])),\n (array([0.88552795, 0.96848521]), array([0.34154526, 0.93788143])),\n (array([0.34154526, 0.93788143]), array([0.02697326, 0.66737167])),\n (array([0.02697326, 0.66737167]), array([0.00639313, 0.45892407])),\n (array([0.00639313, 0.45892407]), array([0.32524678, 0.09553586])),\n (array([0.74976554, 0.02988612]), array([0.80885278, 0.04285968])),\n (array([0.74976554, 0.02988612]), array([0.32524678, 0.09553586]))]"
     },
     "execution_count": 3,
     "metadata": {},
     "output_type": "execute_result"
    }
   ],
   "source": [
    "convex_hull_lines = []\n",
    "\n",
    "if point_count <= 2:\n",
    "    print(\"input point size must be great than 2\")\n",
    "for i in range(point_count):\n",
    "    for j in range(i + 1, point_count):\n",
    "        previous_side = INLINE_SIDE\n",
    "        allSame = True\n",
    "        for k in range(point_count):\n",
    "            if k != i and k != j:\n",
    "                cur_side = point_side(points[i][0], points[i][1], points[j][0], points[j][1], points[k][0], points[k][1])\n",
    "                if cur_side == previous_side or previous_side == INLINE_SIDE or cur_side == INLINE_SIDE:\n",
    "                    previous_side = cur_side\n",
    "                    continue\n",
    "                else:\n",
    "                    allSame = False\n",
    "                    break\n",
    "        if allSame:\n",
    "            convex_hull_lines.append((points[i], points[j]))\n",
    "\n",
    "convex_hull_lines"
   ]
  },
  {
   "cell_type": "code",
   "execution_count": 4,
   "metadata": {
    "pycharm": {
     "name": "#%%\n"
    }
   },
   "outputs": [],
   "source": [
    "plt.scatter(points[:, 0], points[:, 1])\n",
    "for line in convex_hull_lines:\n",
    "    plt.plot([line[0][0], line[1][0]], [line[0][1], line[1][1]], color='red')\n",
    "plt.show()"
   ]
  },
  {
   "cell_type": "code",
   "execution_count": 5,
   "metadata": {
    "pycharm": {
     "name": "#%%\n"
    }
   },
   "outputs": [
    {
     "data": {
      "text/plain": "[array([0.90010028, 0.22906409]),\n array([0.91245884, 0.79083504]),\n array([0.88552795, 0.96848521]),\n array([0.34154526, 0.93788143]),\n array([0.02697326, 0.66737167]),\n array([0.00639313, 0.45892407]),\n array([0.32524678, 0.09553586]),\n array([0.74976554, 0.02988612]),\n array([0.80885278, 0.04285968]),\n array([0.90010028, 0.22906409])]"
     },
     "execution_count": 5,
     "metadata": {},
     "output_type": "execute_result"
    }
   ],
   "source": [
    "# 将线转化成点的集合\n",
    "def point_to_hash(point):\n",
    "    return str(point[0]) +','+ str(point[1])\n",
    "left_hash = point_to_hash(convex_hull_lines[0][0])\n",
    "points_dict = {left_hash: convex_hull_lines[0][1]}\n",
    "right_hashes = [point_to_hash(convex_hull_lines[0][1])]\n",
    "for line in convex_hull_lines[1:]:\n",
    "    if point_to_hash(line[0]) in points_dict.keys() or point_to_hash(line[1]) in right_hashes:\n",
    "        points_dict[point_to_hash(line[1])] = line[0]\n",
    "        right_hashes.append(point_to_hash(line[0]))\n",
    "    else:\n",
    "        points_dict[point_to_hash(line[0])] = line[1]\n",
    "        right_hashes.append(point_to_hash(line[1]))\n",
    "\n",
    "convex_hull_points = [convex_hull_lines[0][0], convex_hull_lines[0][1]]\n",
    "point_hash = point_to_hash(convex_hull_points[1])\n",
    "step = 1\n",
    "step_count = len(points_dict)\n",
    "while step < step_count:\n",
    "    next_point = points_dict[point_hash]\n",
    "    convex_hull_points.append(next_point)\n",
    "    point_hash = point_to_hash(next_point)\n",
    "    step += 1\n",
    "\n",
    "convex_hull_points"
   ]
  },
  {
   "cell_type": "code",
   "execution_count": 6,
   "metadata": {
    "pycharm": {
     "name": "#%%\n"
    }
   },
   "outputs": [],
   "source": [
    "chps = np.array(convex_hull_points)\n",
    "fig, ax = plt.subplots()\n",
    "ax.scatter(points[:, 0], points[:, 1])\n",
    "line, = plt.plot([], [], color='red')\n",
    "def update(draw_points):\n",
    "    line.set_data(chps[0:draw_points, 0], chps[0:draw_points, 1])\n",
    "    return line,\n",
    "ani = animation.FuncAnimation(fig, update, frames=np.arange(0, len(chps)+1), interval=500, repeat=True, repeat_delay=2000)\n",
    "plt.show()"
   ]
  },
  {
   "cell_type": "code",
   "execution_count": 9,
   "metadata": {
    "pycharm": {
     "name": "#%%\n"
    }
   },
   "outputs": [],
   "source": [
    "# using ArtistAnimation \n",
    "# fig, ax = plt.subplots()\n",
    "# ax.scatter(points[:,0], points[:,1])\n",
    "\n",
    "# plots = []\n",
    "# for chp in convex_hull_lines:\n",
    "#     plot, = plt.plot([chp[0][0], chp[1][0]], [chp[0][1], chp[1][1]], color='red')\n",
    "#     plots.append([plot])\n",
    "# ani = animation.ArtistAnimation(fig, plots, interval=500)\n",
    "# plt.show()"
   ]
  },
  {
   "cell_type": "code",
   "execution_count": 133,
   "metadata": {
    "pycharm": {
     "name": "#%%\n"
    }
   },
   "outputs": [],
   "source": [
    "point_count = 40\n",
    "points = np.random.rand(point_count * 2).reshape((point_count, 2))"
   ]
  },
  {
   "cell_type": "code",
   "execution_count": 134,
   "outputs": [
    {
     "name": "stdout",
     "output_type": "stream",
     "text": [
      "middle points:\n",
      " [[0.24911198 0.0537784 ]]\n",
      "left points:\n",
      " [[0.1491935  0.86675398]\n",
      " [0.19271733 0.44552498]\n",
      " [0.0456004  0.94907106]\n",
      " [0.03911204 0.8724709 ]\n",
      " [0.05860872 0.72341903]\n",
      " [0.11814678 0.4282176 ]\n",
      " [0.24292403 0.07022977]\n",
      " [0.16876434 0.24612723]\n",
      " [0.15041063 0.2473838 ]\n",
      " [0.16908403 0.17043462]\n",
      " [0.07103547 0.12481972]]\n",
      "right points:\n",
      " [[0.43911136 0.06244422]\n",
      " [0.88232596 0.21687006]\n",
      " [0.77758925 0.22635329]\n",
      " [0.75763614 0.23610491]\n",
      " [0.73634067 0.230163  ]\n",
      " [0.49185819 0.17413785]\n",
      " [0.64609587 0.25276115]\n",
      " [0.85150788 0.40352943]\n",
      " [0.74892024 0.3545353 ]\n",
      " [0.90101104 0.4690596 ]\n",
      " [0.66219079 0.32533606]\n",
      " [0.90909567 0.4999313 ]\n",
      " [0.83852728 0.68094133]\n",
      " [0.92278984 0.87357076]\n",
      " [0.94359884 0.91334258]\n",
      " [0.79646225 0.75175681]\n",
      " [0.54096778 0.48740329]\n",
      " [0.58652733 0.63375405]\n",
      " [0.37940435 0.31185016]\n",
      " [0.59570076 0.77273721]\n",
      " [0.58025709 0.80103022]\n",
      " [0.54171578 0.77865087]\n",
      " [0.45720836 0.58878964]\n",
      " [0.57145127 0.90271426]\n",
      " [0.57484957 0.95385413]\n",
      " [0.41724058 0.56694244]\n",
      " [0.49154417 0.90090244]\n",
      " [0.40303231 0.82008224]]\n"
     ]
    }
   ],
   "source": [
    "# points with minimum y must be in the convex hull points.\n",
    "# sort all points by angles. a simpler solutions:\n",
    "# split points into two groups by point's x coordinate is greater or small than min_y's x\n",
    "# higher points sorted by its' y ascend and smaller points sorted by its' y descend.\n",
    "# combine these points.\n",
    "point_minY = points[points[:, 1].argmin()][1]\n",
    "points_minY = points[points[:,1]==point_minY]\n",
    "points_minY = sorted(points_minY, key=lambda p: p[0], reverse=True)\n",
    "p0 = points_minY[0]\n",
    "\n",
    "points_right = points[points[:, 0] > p0[0]]\n",
    "points_middle = points[points[:, 0] == p0[0]]\n",
    "points_left = points[points[:, 0] < p0[0]]\n",
    "\n",
    "def angle(p0, p1):\n",
    "    return np.arccos((p1[1] - p0[1])/np.sqrt((p1[0]-p0[0])**2 + (p1[1]-p0[1])**2))\n",
    "\n",
    "points_right = np.array(sorted(points_right, key=lambda p: -angle(p0, p)))\n",
    "points_middle = np.array(sorted(points_middle, key=lambda p: p[1]))\n",
    "points_left = np.array(sorted(points_left, key=lambda p: angle(p0, p)))\n",
    "print(\"middle points:\\n\", points_middle)\n",
    "print(\"left points:\\n\", points_left)\n",
    "print(\"right points:\\n\", points_right)"
   ],
   "metadata": {
    "collapsed": false,
    "pycharm": {
     "name": "#%%\n"
    }
   }
  },
  {
   "cell_type": "code",
   "execution_count": 135,
   "outputs": [],
   "source": [
    "convex_hull_points = [p0]\n",
    "\n",
    "fig, ax = plt.subplots()\n",
    "\n",
    "plt.scatter(points[:, 0], points[:, 1])\n",
    "plt.show()\n",
    "for point_cur in points_right:\n",
    "    while len(convex_hull_points) > 1:\n",
    "        point_last = convex_hull_points[-1]\n",
    "        point_last2 = convex_hull_points[-2]\n",
    "        if point_side(point_cur[0], point_cur[1], point_last2[0], point_last2[1], point_last[0], point_last[1]) == RIGHT_SIDE:\n",
    "            convex_hull_points.pop(-1)\n",
    "        else:\n",
    "            break\n",
    "    convex_hull_points.append(point_cur)\n",
    "\n",
    "if len(points_middle) > 1:\n",
    "    convex_hull_points.append(points_middle[-1])\n",
    "\n",
    "for point_cur in points_left:\n",
    "    while len(convex_hull_points) > 1:\n",
    "        point_last = convex_hull_points[-1]\n",
    "        point_last2 = convex_hull_points[-2]\n",
    "        if point_side(point_cur[0], point_cur[1], point_last2[0], point_last2[1], point_last[0], point_last[1]) == RIGHT_SIDE:\n",
    "            convex_hull_points.pop(-1)\n",
    "        else:\n",
    "            break\n",
    "    convex_hull_points.append(point_cur)\n",
    "\n",
    "for p in convex_hull_points:\n",
    "    plt.scatter(p[0], p[1], c='r', marker='x')\n",
    "plt.show()"
   ],
   "metadata": {
    "collapsed": false,
    "pycharm": {
     "name": "#%%\n"
    }
   }
  }
 ],
 "metadata": {
  "kernelspec": {
   "display_name": "Python 3",
   "language": "python",
   "name": "python3"
  },
  "language_info": {
   "codemirror_mode": {
    "name": "ipython",
    "version": 3
   },
   "file_extension": ".py",
   "mimetype": "text/x-python",
   "name": "python",
   "nbconvert_exporter": "python",
   "pygments_lexer": "ipython3",
   "version": "3.8.8"
  }
 },
 "nbformat": 4,
 "nbformat_minor": 4
}
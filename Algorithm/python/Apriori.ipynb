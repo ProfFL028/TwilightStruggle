{
 "cells": [
  {
   "cell_type": "code",
   "execution_count": null,
   "metadata": {
    "collapsed": true
   },
   "outputs": [],
   "source": [
    "from itertools import combinations\n",
    "def apriori(data, set_length=2):\n",
    "    import pandas as pd\n",
    "    df_supports = []\n",
    "    dataset_size = len(data)\n",
    "    for combination_number in range(1, set_length+1):\n",
    "        for cols in combinations(data.columns, combination_number):\n",
    "            supports = data[list(cols)].all(axis=1).sum() * 1.0 / dataset_size\n",
    "            confidenceAB = data[list(cols)].all(axis=1).sum() * 1.0 / len(data[data[cols[0]]==1])\n",
    "            confidenceBA = data[list(cols)].all(axis=1).sum() * 1.0 / len(data[data[cols[-1]]==1])\n",
    "            liftAB = confidenceAB * dataset_size / len(data[data[cols[-1]]==1])\n",
    "            liftBA = confidenceAB * dataset_size / len(data[data[cols[0]]==1])\n",
    "            df_supports.append([\",\".join(cols), supports, confidenceAB, confidenceBA, liftAB, liftBA])\n",
    "    df_supports = pd.DataFrame(df_supports, columns=['Pattern', 'Support', 'ConfidenceAB', 'ConfidenceBA', 'liftAB', 'liftBA'])\n",
    "    df_supports.sort_values(by='Support', ascending=False)\n",
    "\n",
    "    return df_supports"
   ]
  }
 ],
 "metadata": {
  "kernelspec": {
   "display_name": "Python 3",
   "language": "python",
   "name": "python3"
  },
  "language_info": {
   "codemirror_mode": {
    "name": "ipython",
    "version": 2
   },
   "file_extension": ".py",
   "mimetype": "text/x-python",
   "name": "python",
   "nbconvert_exporter": "python",
   "pygments_lexer": "ipython2",
   "version": "2.7.6"
  }
 },
 "nbformat": 4,
 "nbformat_minor": 0
}
{
 "cells": [
  {
   "cell_type": "code",
   "execution_count": 5,
   "metadata": {
    "collapsed": true
   },
   "outputs": [
    {
     "data": {
      "text/plain": "[9, 9, 8, 7, 6, 6, 5, 5, 4, 4, 3, 3, 1, 1, 0]"
     },
     "execution_count": 5,
     "metadata": {},
     "output_type": "execute_result"
    }
   ],
   "source": [
    "test_arr = [0,1,7,9,8,4,5,6,3,1,6,5,9,4,3]\n",
    "def qsort_arr(arr):\n",
    "    if len(arr) > 2:\n",
    "        mid = arr[len(arr) // 2]\n",
    "        arr.remove(mid)\n",
    "        left, right = [], []\n",
    "        for v in arr:\n",
    "            if v > mid:\n",
    "                left.append(v)\n",
    "            else:\n",
    "                right.append(v)\n",
    "        return qsort_arr(left) + [mid] + qsort_arr(right)\n",
    "    elif len(arr) == 2:\n",
    "        if arr[0] >= arr[1]:\n",
    "            return arr\n",
    "        else:\n",
    "            arr[1], arr[0] = arr[0], arr[1]\n",
    "            return arr\n",
    "    else:\n",
    "        return arr\n",
    "\n",
    "qsort_arr(test_arr)"
   ]
  },
  {
   "cell_type": "code",
   "execution_count": 11,
   "outputs": [
    {
     "data": {
      "text/plain": "[9, 9, 8, 7, 6, 5, 5, 4, 4, 3, 3, 1, 1, 0]"
     },
     "execution_count": 11,
     "metadata": {},
     "output_type": "execute_result"
    }
   ],
   "source": [
    "def bubble(arr):\n",
    "    arr_len = len(arr)\n",
    "    while arr_len > 0:\n",
    "        for i in range(arr_len - 1):\n",
    "            if arr[i] < arr[i+1]:\n",
    "                arr[i], arr[i+1] = arr[i+1], arr[i]\n",
    "        arr_len -= 1\n",
    "    return arr\n",
    "\n",
    "bubble(test_arr)"
   ],
   "metadata": {
    "collapsed": false,
    "pycharm": {
     "name": "#%%\n"
    }
   }
  }
 ],
 "metadata": {
  "kernelspec": {
   "display_name": "Python 3",
   "language": "python",
   "name": "python3"
  },
  "language_info": {
   "codemirror_mode": {
    "name": "ipython",
    "version": 2
   },
   "file_extension": ".py",
   "mimetype": "text/x-python",
   "name": "python",
   "nbconvert_exporter": "python",
   "pygments_lexer": "ipython2",
   "version": "2.7.6"
  }
 },
 "nbformat": 4,
 "nbformat_minor": 0
}
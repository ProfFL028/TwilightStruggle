{
 "cells": [
  {
   "cell_type": "code",
   "execution_count": 91,
   "metadata": {
    "collapsed": true
   },
   "outputs": [
    {
     "data": {
      "text/plain": "<Figure size 432x288 with 1 Axes>",
      "image/png": "[encoded data removed]"
     },
     "metadata": {
      "needs_background": "light"
     },
     "output_type": "display_data"
    }
   ],
   "source": [
    "import numpy as np\n",
    "import matplotlib.pyplot as plt\n",
    "points = np.random.random((10, 2))\n",
    "\n",
    "plt.scatter(points[:, 0], points[:, 1])\n",
    "plt.show()\n",
    "\n",
    "def point3_in_circle(p1, p2, p3):\n",
    "    center = (p2 + p1) / 2\n",
    "    radius = (p2 - p1)\n",
    "    radius2 = np.sqrt(radius[0]**2 + radius[1]**2) / 2\n",
    "    p3_to_center = (p3 - center)\n",
    "    radius_3 = np.sqrt(p3_to_center[0]**2 + p3_to_center[1]**2)\n",
    "    return radius_3 <= radius2\n",
    "\n",
    "def farest_point(points, dest_point):\n",
    "    max_distance = 0\n",
    "    max_index = 0\n",
    "    for i in range(len(points)):\n",
    "        dis = points[i] - dest_point\n",
    "        dis = dis[0] ** 2 + dis[1] ** 2\n",
    "        if dis > max_distance:\n",
    "            max_distance = dis\n",
    "            max_index = i\n",
    "\n",
    "    return max_index"
   ]
  },
  {
   "cell_type": "code",
   "execution_count": null,
   "outputs": [],
   "source": [
    "# 1.choose two random points, draw a circle\n",
    "# 2.check all other points are in the circle, if true then return the circle\n",
    "# 3.if a points is not in the circle, find the fastest points to it in the point sets\n",
    "# 4.draw a circle and return to step 2\n",
    "# !!it may not return the best rest, and will be 5%-20% bigger than minimum tangent circle\n",
    "# time consuming is O(N^2)"
   ],
   "metadata": {
    "collapsed": false,
    "pycharm": {
     "name": "#%%\n"
    }
   }
  },
  {
   "cell_type": "code",
   "execution_count": 92,
   "outputs": [
    {
     "data": {
      "text/plain": "<Figure size 360x360 with 1 Axes>",
      "image/png": "[encoded data removed]"
     },
     "metadata": {
      "needs_background": "light"
     },
     "output_type": "display_data"
    }
   ],
   "source": [
    "circle_points = np.array(points[:2, :])\n",
    "other_points = np.array(points[2:, :])\n",
    "\n",
    "i = 0\n",
    "while i < len(other_points):\n",
    "    if not point3_in_circle(circle_points[0], circle_points[1], other_points[i]):\n",
    "        farest_point_index = farest_point(points, other_points[i])\n",
    "        circle_points = [other_points[i], points[farest_point_index]]\n",
    "        points_mask = np.ones(len(points), bool)\n",
    "        points_mask[farest_point_index] = 0\n",
    "        points_mask[i] = 0\n",
    "        other_points = points[points_mask, ]\n",
    "        i = 0\n",
    "        continue\n",
    "    i += 1\n",
    "\n",
    "center = (circle_points[0] + circle_points[1])/2\n",
    "r = circle_points[0] - circle_points[1]\n",
    "r = np.sqrt(r[0]**2 + r[1]**2) / 2\n",
    "\n",
    "\n",
    "\n",
    "fig, ax = plt.subplots()\n",
    "fig.set_size_inches(5, 5)\n",
    "plt.scatter(points[:, 0], points[:, 1])\n",
    "\n",
    "for i in range(len(points)):\n",
    "    plt.text(points[i][0], points[i][1], 'p%d' % i, color='grey')\n",
    "\n",
    "plt.scatter(center[0], center[1], color='g', marker='*')\n",
    "circle = plt.Circle(center, r, fill=False, color='r')\n",
    "ax.add_artist(circle)\n",
    "plt.xlim(-0.5, 1.5)\n",
    "plt.ylim(-0.5, 1.5)\n",
    "plt.show()"
   ],
   "metadata": {
    "collapsed": false,
    "pycharm": {
     "name": "#%%\n"
    }
   }
  }
 ],
 "metadata": {
  "kernelspec": {
   "display_name": "Python 3",
   "language": "python",
   "name": "python3"
  },
  "language_info": {
   "codemirror_mode": {
    "name": "ipython",
    "version": 2
   },
   "file_extension": ".py",
   "mimetype": "text/x-python",
   "name": "python",
   "nbconvert_exporter": "python",
   "pygments_lexer": "ipython2",
   "version": "2.7.6"
  }
 },
 "nbformat": 4,
 "nbformat_minor": 0
}
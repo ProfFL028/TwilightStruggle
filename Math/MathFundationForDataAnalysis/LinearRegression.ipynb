{
 "cells": [
  {
   "cell_type": "code",
   "execution_count": 1,
   "id": "190236b4",
   "metadata": {},
   "outputs": [],
   "source": [
    "import numpy as np\n",
    "import matplotlib as mpl\n",
    "import matplotlib.pyplot as plt"
   ]
  },
  {
   "cell_type": "code",
   "execution_count": 2,
   "id": "3a6ccd53",
   "metadata": {},
   "outputs": [],
   "source": [
    "\"\"\"\n",
    "Prepare for the data\n",
    "\"\"\"\n",
    "X = np.array([66, 68, 60, 70, 65, 61, 74, 73, 75 ,67])\n",
    "y = np.array([160,170, 110, 178, 155, 120 ,233, 215, 235, 164])\n"
   ]
  },
  {
   "cell_type": "code",
   "execution_count": 4,
   "id": "f0d9a9c8",
   "metadata": {},
   "outputs": [
    {
     "data": {
      "text/plain": [
       "(67.9, 174.0)"
      ]
     },
     "execution_count": 4,
     "metadata": {},
     "output_type": "execute_result"
    }
   ],
   "source": [
    "XAvg= np.average(X)\n",
    "yAvg = np.average(y)\n",
    "XAvg, yAvg"
   ]
  },
  {
   "cell_type": "code",
   "execution_count": 6,
   "id": "b3e90913",
   "metadata": {},
   "outputs": [
    {
     "data": {
      "image/png": "[encoded data removed]",
      "text/plain": [
       "<Figure size 432x288 with 1 Axes>"
      ]
     },
     "metadata": {
      "needs_background": "light"
     },
     "output_type": "display_data"
    }
   ],
   "source": [
    "plt.scatter(X, y, s=80, c=\"blue\")\n",
    "plt.scatter(XAvg, yAvg, s=100, c=\"red\")\n",
    "plt.show()"
   ]
  },
  {
   "cell_type": "code",
   "execution_count": 8,
   "id": "f8b59029",
   "metadata": {},
   "outputs": [
    {
     "data": {
      "text/plain": [
       "(8.21502698215027, -383.8003320880034)"
      ]
     },
     "execution_count": 8,
     "metadata": {},
     "output_type": "execute_result"
    }
   ],
   "source": [
    "xc = X - XAvg\n",
    "yc = y - yAvg\n",
    "a = xc.dot(yc)/xc.dot(xc)\n",
    "b = yAvg - a * XAvg\n",
    "a, b"
   ]
  },
  {
   "cell_type": "code",
   "execution_count": 10,
   "id": "b3b85d86",
   "metadata": {},
   "outputs": [
    {
     "data": {
      "image/png": "[encoded data removed]",
      "text/plain": [
       "<Figure size 432x288 with 1 Axes>"
      ]
     },
     "metadata": {
      "needs_background": "light"
     },
     "output_type": "display_data"
    }
   ],
   "source": [
    "h = np.linspace(60, 76, 17)\n",
    "line = a*h + b\n",
    "plt.scatter(X, y, s=80, c=\"blue\")\n",
    "plt.scatter(XAvg, yAvg, s=100, c=\"red\")\n",
    "plt.scatter(69, 69*a + b,s=100, c=\"black\")\n",
    "plt.plot(h, line, 'r-')\n",
    "plt.show()"
   ]
  },
  {
   "cell_type": "code",
   "execution_count": 15,
   "id": "f7d3a095",
   "metadata": {},
   "outputs": [],
   "source": [
    "from scipy import polyfit"
   ]
  },
  {
   "cell_type": "code",
   "execution_count": 19,
   "id": "cc8457f6",
   "metadata": {},
   "outputs": [
    {
     "data": {
      "text/plain": [
       "(8.215026982150269, -383.80033208800296)"
      ]
     },
     "execution_count": 19,
     "metadata": {},
     "output_type": "execute_result"
    }
   ],
   "source": [
    "\n",
    "(a, b) = np.polyfit(X, y, 1)\n",
    "a, b"
   ]
  },
  {
   "cell_type": "code",
   "execution_count": null,
   "id": "ffc0cf82",
   "metadata": {},
   "outputs": [],
   "source": []
  }
 ],
 "metadata": {
  "kernelspec": {
   "display_name": "Python 3",
   "language": "python",
   "name": "python3"
  },
  "language_info": {
   "codemirror_mode": {
    "name": "ipython",
    "version": 3
   },
   "file_extension": ".py",
   "mimetype": "text/x-python",
   "name": "python",
   "nbconvert_exporter": "python",
   "pygments_lexer": "ipython3",
   "version": "3.8.8"
  }
 },
 "nbformat": 4,
 "nbformat_minor": 5
}

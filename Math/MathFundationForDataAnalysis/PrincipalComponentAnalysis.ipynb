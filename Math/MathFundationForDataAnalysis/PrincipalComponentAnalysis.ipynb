{
 "cells": [
  {
   "cell_type": "code",
   "execution_count": 19,
   "id": "a2af5622",
   "metadata": {},
   "outputs": [],
   "source": [
    "import numpy as np\n",
    "from scipy import linalg as LA\n",
    "import matplotlib.pyplot as plt"
   ]
  },
  {
   "cell_type": "code",
   "execution_count": 4,
   "id": "c0c511e3",
   "metadata": {},
   "outputs": [
    {
     "data": {
      "text/plain": [
       "(array([[-0.61215255, -0.05228813],\n",
       "        [-0.34162337, -0.2025832 ],\n",
       "        [ 0.31300005,  0.80704816],\n",
       "        [ 0.64077586, -0.55217683]]),\n",
       " array([8.16552039, 2.30743942]),\n",
       " array([[-0.81424526, -0.58052102],\n",
       "        [ 0.58052102, -0.81424526]]))"
      ]
     },
     "execution_count": 4,
     "metadata": {},
     "output_type": "execute_result"
    }
   ],
   "source": [
    "A = np.array([[4,3],[2,2],[-1,-3], [-5, -2]])\n",
    "U, s, Vt = LA.svd(A, full_matrices=False)\n",
    "U, s, Vt"
   ]
  },
  {
   "cell_type": "code",
   "execution_count": 5,
   "id": "27da4d54",
   "metadata": {},
   "outputs": [
    {
     "data": {
      "text/plain": [
       "array([-0.7609864 , -0.64876784])"
      ]
     },
     "execution_count": 5,
     "metadata": {},
     "output_type": "execute_result"
    }
   ],
   "source": [
    "x = np.array([0.243,0.97])\n",
    "x = x/LA.norm(x)\n",
    "\n",
    "xi= Vt.dot(x)\n",
    "xi"
   ]
  },
  {
   "cell_type": "code",
   "execution_count": 6,
   "id": "23013b00",
   "metadata": {},
   "outputs": [
    {
     "data": {
      "text/plain": [
       "array([-6.21384993, -1.49699248])"
      ]
     },
     "execution_count": 6,
     "metadata": {},
     "output_type": "execute_result"
    }
   ],
   "source": [
    "S = LA.diagsvd(s, 2,2)\n",
    "eta = S.dot(xi)\n",
    "eta"
   ]
  },
  {
   "cell_type": "code",
   "execution_count": 8,
   "id": "416fff36",
   "metadata": {},
   "outputs": [
    {
     "data": {
      "text/plain": [
       "6.391628704703711"
      ]
     },
     "execution_count": 8,
     "metadata": {},
     "output_type": "execute_result"
    }
   ],
   "source": [
    "LA.norm(eta)"
   ]
  },
  {
   "cell_type": "code",
   "execution_count": 9,
   "id": "1043756c",
   "metadata": {},
   "outputs": [
    {
     "data": {
      "text/plain": [
       "array([ 3.88209899,  2.42606187, -3.1530804 , -3.15508046])"
      ]
     },
     "execution_count": 9,
     "metadata": {},
     "output_type": "execute_result"
    }
   ],
   "source": [
    "y = U.dot(eta)\n",
    "y"
   ]
  },
  {
   "cell_type": "code",
   "execution_count": 10,
   "id": "2c2ec965",
   "metadata": {},
   "outputs": [
    {
     "data": {
      "text/plain": [
       "array([ 3.88209899,  2.42606187, -3.1530804 , -3.15508046])"
      ]
     },
     "execution_count": 10,
     "metadata": {},
     "output_type": "execute_result"
    }
   ],
   "source": [
    "A.dot(x)"
   ]
  },
  {
   "cell_type": "code",
   "execution_count": 17,
   "id": "cade657e",
   "metadata": {},
   "outputs": [
    {
     "data": {
      "text/plain": [
       "array([[ 1.00000000e+00, -2.36122849e-17],\n",
       "       [-2.36122849e-17,  1.00000000e+00]])"
      ]
     },
     "execution_count": 17,
     "metadata": {},
     "output_type": "execute_result"
    }
   ],
   "source": [
    "U.T.dot(U)"
   ]
  },
  {
   "cell_type": "code",
   "execution_count": 22,
   "id": "d8d6503b",
   "metadata": {},
   "outputs": [
    {
     "ename": "AttributeError",
     "evalue": "module 'numpy' has no attribute 'norm'",
     "output_type": "error",
     "traceback": [
      "\u001b[1;31m---------------------------------------------------------------------------\u001b[0m",
      "\u001b[1;31mAttributeError\u001b[0m                            Traceback (most recent call last)",
      "\u001b[1;32m<ipython-input-22-a7adfa28fda8>\u001b[0m in \u001b[0;36m<module>\u001b[1;34m\u001b[0m\n\u001b[0;32m      1\u001b[0m \u001b[0mx1\u001b[0m \u001b[1;33m=\u001b[0m \u001b[0mnp\u001b[0m\u001b[1;33m.\u001b[0m\u001b[0marray\u001b[0m\u001b[1;33m(\u001b[0m\u001b[1;33m[\u001b[0m\u001b[1;36m2\u001b[0m\u001b[1;33m,\u001b[0m \u001b[1;36m3\u001b[0m\u001b[1;33m]\u001b[0m\u001b[1;33m)\u001b[0m\u001b[1;33m\u001b[0m\u001b[1;33m\u001b[0m\u001b[0m\n\u001b[0;32m      2\u001b[0m \u001b[0mx2\u001b[0m \u001b[1;33m=\u001b[0m \u001b[0mnp\u001b[0m\u001b[1;33m.\u001b[0m\u001b[0marray\u001b[0m\u001b[1;33m(\u001b[0m\u001b[1;33m[\u001b[0m\u001b[1;36m3\u001b[0m\u001b[1;33m,\u001b[0m\u001b[1;36m4\u001b[0m\u001b[1;33m]\u001b[0m\u001b[1;33m)\u001b[0m\u001b[1;33m\u001b[0m\u001b[1;33m\u001b[0m\u001b[0m\n\u001b[1;32m----> 3\u001b[1;33m \u001b[0mx2\u001b[0m \u001b[1;33m=\u001b[0m \u001b[0mnp\u001b[0m\u001b[1;33m.\u001b[0m\u001b[0mnorm\u001b[0m\u001b[1;33m(\u001b[0m\u001b[0mx2\u001b[0m\u001b[1;33m)\u001b[0m\u001b[1;33m\u001b[0m\u001b[1;33m\u001b[0m\u001b[0m\n\u001b[0m\u001b[0;32m      4\u001b[0m \u001b[0mx3\u001b[0m \u001b[1;33m=\u001b[0m \u001b[0mx1\u001b[0m\u001b[1;33m.\u001b[0m\u001b[0mdot\u001b[0m\u001b[1;33m(\u001b[0m\u001b[0mx2\u001b[0m\u001b[1;33m)\u001b[0m\u001b[1;33m\u001b[0m\u001b[1;33m\u001b[0m\u001b[0m\n\u001b[0;32m      5\u001b[0m \u001b[0mx3\u001b[0m\u001b[1;33m\u001b[0m\u001b[1;33m\u001b[0m\u001b[0m\n",
      "\u001b[1;32mD:\\anaconda3\\lib\\site-packages\\numpy\\__init__.py\u001b[0m in \u001b[0;36m__getattr__\u001b[1;34m(attr)\u001b[0m\n\u001b[0;32m    301\u001b[0m                 \u001b[1;32mreturn\u001b[0m \u001b[0mTester\u001b[0m\u001b[1;33m\u001b[0m\u001b[1;33m\u001b[0m\u001b[0m\n\u001b[0;32m    302\u001b[0m \u001b[1;33m\u001b[0m\u001b[0m\n\u001b[1;32m--> 303\u001b[1;33m             raise AttributeError(\"module {!r} has no attribute \"\n\u001b[0m\u001b[0;32m    304\u001b[0m                                  \"{!r}\".format(__name__, attr))\n\u001b[0;32m    305\u001b[0m \u001b[1;33m\u001b[0m\u001b[0m\n",
      "\u001b[1;31mAttributeError\u001b[0m: module 'numpy' has no attribute 'norm'"
     ]
    }
   ],
   "source": [
    "x1 = np.array([2, 3])\n",
    "x2 = np.array([3,4])\n",
    "x3 = x1.dot(x2)\n",
    "x3 "
   ]
  },
  {
   "cell_type": "code",
   "execution_count": 82,
   "id": "4907e5e9",
   "metadata": {},
   "outputs": [],
   "source": [
    "\"\"\"\n",
    "get eigenvalue and eigenvector using powerMethod, notice M should be normalized\n",
    "\"\"\"\n",
    "def powerMethod(M, q):\n",
    "    n = M[0,:]\n",
    "    for i in range(q):\n",
    "        n = M.dot(n)\n",
    "    return n / np.linalg.norm(n)\n"
   ]
  },
  {
   "cell_type": "code",
   "execution_count": 83,
   "id": "86b56e5b",
   "metadata": {},
   "outputs": [
    {
     "data": {
      "text/plain": [
       "array([0.28263801, 0.5382937 , 0.7939494 ])"
      ]
     },
     "execution_count": 83,
     "metadata": {},
     "output_type": "execute_result"
    }
   ],
   "source": [
    "M=np.array([[2,3,4],[5,6,7],[8,9,10]])\n",
    "M = M / np.linalg.norm(M)\n",
    "u = powerMethod(M, 10)\n",
    "u"
   ]
  },
  {
   "cell_type": "code",
   "execution_count": 88,
   "id": "4e250217",
   "metadata": {},
   "outputs": [
    {
     "data": {
      "text/plain": [
       "0.9670317270615643"
      ]
     },
     "execution_count": 88,
     "metadata": {},
     "output_type": "execute_result"
    }
   ],
   "source": [
    "l = M.dot(u)[0]/u[0]\n",
    "l"
   ]
  },
  {
   "cell_type": "code",
   "execution_count": 87,
   "id": "4034050e",
   "metadata": {},
   "outputs": [
    {
     "data": {
      "text/plain": [
       "array([0.27331992, 0.52054709, 0.76777426])"
      ]
     },
     "execution_count": 87,
     "metadata": {},
     "output_type": "execute_result"
    }
   ],
   "source": [
    "M.dot(u)"
   ]
  },
  {
   "cell_type": "code",
   "execution_count": 89,
   "id": "8733b601",
   "metadata": {},
   "outputs": [
    {
     "data": {
      "text/plain": [
       "array([0.27331992, 0.52054709, 0.76777426])"
      ]
     },
     "execution_count": 89,
     "metadata": {},
     "output_type": "execute_result"
    }
   ],
   "source": [
    "\"\"\"\n",
    "MU = lU\n",
    "\"\"\"\n",
    "l*u"
   ]
  },
  {
   "cell_type": "code",
   "execution_count": 91,
   "id": "9868e165",
   "metadata": {},
   "outputs": [
    {
     "data": {
      "text/plain": [
       "array([0.28263801, 0.5382937 , 0.7939494 ])"
      ]
     },
     "execution_count": 91,
     "metadata": {},
     "output_type": "execute_result"
    }
   ],
   "source": [
    "M.dot(u)/np.linalg.norm(M.dot(u))"
   ]
  },
  {
   "cell_type": "code",
   "execution_count": 101,
   "id": "4694be8f",
   "metadata": {},
   "outputs": [],
   "source": [
    "A = np.array([[1,4], [2,3],[2,10]])\n",
    "\n",
    "c = A.mean(0)"
   ]
  },
  {
   "cell_type": "code",
   "execution_count": 102,
   "id": "232b298b",
   "metadata": {},
   "outputs": [
    {
     "data": {
      "text/plain": [
       "(array([1.66666667, 5.66666667]),\n",
       " array([[-0.66666667, -1.66666667],\n",
       "        [ 0.33333333, -2.66666667],\n",
       "        [ 0.33333333,  4.33333333]]))"
      ]
     },
     "execution_count": 102,
     "metadata": {},
     "output_type": "execute_result"
    }
   ],
   "source": [
    "Ac = A - np.outer(np.ones(3), c)\n",
    "c, Ac"
   ]
  },
  {
   "cell_type": "code",
   "execution_count": 106,
   "id": "16eeaf69",
   "metadata": {},
   "outputs": [
    {
     "data": {
      "text/plain": [
       "array([[-0.66666667, -1.66666667],\n",
       "       [ 0.33333333, -2.66666667],\n",
       "       [ 0.33333333,  4.33333333]])"
      ]
     },
     "execution_count": 106,
     "metadata": {},
     "output_type": "execute_result"
    }
   ],
   "source": [
    "C = np.eye(3) - np.ones(3)/3\n",
    "Acc = C @ A\n",
    "Acc"
   ]
  },
  {
   "cell_type": "code",
   "execution_count": 111,
   "id": "cdd65949",
   "metadata": {},
   "outputs": [
    {
     "data": {
      "text/plain": [
       "array([[ -0.22222222,  -0.22222222,  -0.5       ],\n",
       "       [ -0.88888889,  -5.55555556,  -2.        ],\n",
       "       [ -2.72222222,  -3.55555556, -18.        ]])"
      ]
     },
     "execution_count": 111,
     "metadata": {},
     "output_type": "execute_result"
    }
   ],
   "source": [
    "D = np.array([[1,2,3],[4,5,6],[7,8,9]])\n",
    "D2 = np.power(D, 2)\n",
    "C = np.eye(3) - np.ones(3)/3\n",
    "M = -0.5 * C * D2 * C\n",
    "M"
   ]
  },
  {
   "cell_type": "code",
   "execution_count": 112,
   "id": "214139a3",
   "metadata": {},
   "outputs": [
    {
     "data": {
      "text/plain": [
       "(array([-18.62994865+0.j,  -0.13178154+0.j,  -5.01604759+0.j]),\n",
       " array([[-0.02867887, -0.98522928, -0.01677676],\n",
       "        [-0.15305455,  0.11452112, -0.96345298],\n",
       "        [-0.98780151,  0.12731134,  0.26735162]]))"
      ]
     },
     "execution_count": 112,
     "metadata": {},
     "output_type": "execute_result"
    }
   ],
   "source": [
    "l, v = LA.eig(M)\n",
    "L2 ="
   ]
  },
  {
   "cell_type": "code",
   "execution_count": null,
   "id": "bb08a3a5",
   "metadata": {},
   "outputs": [],
   "source": []
  }
 ],
 "metadata": {
  "kernelspec": {
   "display_name": "Python 3",
   "language": "python",
   "name": "python3"
  },
  "language_info": {
   "codemirror_mode": {
    "name": "ipython",
    "version": 3
   },
   "file_extension": ".py",
   "mimetype": "text/x-python",
   "name": "python",
   "nbconvert_exporter": "python",
   "pygments_lexer": "ipython3",
   "version": "3.8.8"
  }
 },
 "nbformat": 4,
 "nbformat_minor": 5
}

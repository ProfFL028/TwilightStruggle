{
 "cells": [
  {
   "cell_type": "code",
   "execution_count": 18,
   "id": "95a60d98",
   "metadata": {},
   "outputs": [],
   "source": [
    "import numpy as np\n",
    "import matplotlib.pyplot as plt\n",
    "from Triangle import Triangle\n",
    "\n",
    "POINT_COUNT = 30\n",
    "LOW_BOUND = 1\n",
    "HIGH_BOUND = 640"
   ]
  },
  {
   "cell_type": "code",
   "execution_count": 19,
   "id": "ccb41d80",
   "metadata": {},
   "outputs": [
    {
     "data": {
      "image/png": "[encoded data removed]",
      "text/plain": [
       "<Figure size 432x288 with 1 Axes>"
      ]
     },
     "metadata": {
      "needs_background": "light"
     },
     "output_type": "display_data"
    }
   ],
   "source": [
    "\n",
    "x = np.random.randint(low=LOW_BOUND, high=HIGH_BOUND, size=POINT_COUNT)\n",
    "y = np.random.randint(low=LOW_BOUND, high=HIGH_BOUND, size=POINT_COUNT)\n",
    "plt.scatter(x, y, c='black', s=10)\n",
    "plt.show()"
   ]
  },
  {
   "cell_type": "code",
   "execution_count": null,
   "id": "9e6ea566",
   "metadata": {},
   "outputs": [],
   "source": [
    "\"\"\"\n",
    "Pseudocode for BowyerEstson algorithm.\n",
    "\n",
    "function BowyerWatson (pointList)\n",
    "   // pointList is a set of coordinates defining the points to be triangulated\n",
    "   triangulation := empty triangle mesh data structure\n",
    "   add super-triangle to triangulation // must be large enough to completely contain all the points in pointList\n",
    "   for each point in pointList do // add all the points one at a time to the triangulation\n",
    "      badTriangles := empty set\n",
    "      for each triangle in triangulation do // first find all the triangles that are no longer valid due to the insertion\n",
    "         if point is inside circumcircle of triangle\n",
    "            add triangle to badTriangles\n",
    "      polygon := empty set\n",
    "      for each triangle in badTriangles do // find the boundary of the polygonal hole\n",
    "         for each edge in triangle do\n",
    "            if edge is not shared by any other triangles in badTriangles\n",
    "               add edge to polygon\n",
    "      for each triangle in badTriangles do // remove them from the data structure\n",
    "         remove triangle from triangulation\n",
    "      for each edge in polygon do // re-triangulate the polygonal hole\n",
    "         newTri := form a triangle from edge to point\n",
    "         add newTri to triangulation\n",
    "   for each triangle in triangulation // done inserting points, now clean up\n",
    "      if triangle contains a vertex from original super-triangle\n",
    "         remove triangle from triangulation\n",
    "   return triangulation\n",
    "\"\"\""
   ]
  },
  {
   "cell_type": "code",
   "execution_count": 20,
   "id": "f46d74d2",
   "metadata": {},
   "outputs": [],
   "source": [
    "bigRect = Triangle([LOW_BOUND, LOW_BOUND], [HIGH_BOUND*2, LOW_BOUND], [LOW_BOUND, HIGH_BOUND*2])"
   ]
  },
  {
   "cell_type": "code",
   "execution_count": 21,
   "id": "269da67b",
   "metadata": {},
   "outputs": [],
   "source": [
    "triangulation = []\n",
    "triangulation.append(bigRect)\n"
   ]
  },
  {
   "cell_type": "code",
   "execution_count": 26,
   "id": "a023db20",
   "metadata": {},
   "outputs": [
    {
     "data": {
      "text/plain": [
       "6"
      ]
     },
     "execution_count": 26,
     "metadata": {},
     "output_type": "execute_result"
    }
   ],
   "source": [
    "from sys import maxsize\n",
    "maxsize\n",
    "\n",
    "centerpoint=(5, 6)\n",
    "centerpoint[1]"
   ]
  },
  {
   "cell_type": "code",
   "execution_count": null,
   "id": "b9bac001",
   "metadata": {},
   "outputs": [],
   "source": [
    "for (i = 0; i < POINT_COUNT; i++):\n",
    "    badTriangles = []\n",
    "    for (triangle in triangulation):\n",
    "        if (triangle.circumCircleContains(x[i], y[i])):\n",
    "            badTriangles.append(triangle)\n",
    "    \n",
    "    polygon = []\n",
    "    for (triangle in badTriangles):\n",
    "        \n",
    "        "
   ]
  }
 ],
 "metadata": {
  "kernelspec": {
   "display_name": "Python 3",
   "language": "python",
   "name": "python3"
  },
  "language_info": {
   "codemirror_mode": {
    "name": "ipython",
    "version": 3
   },
   "file_extension": ".py",
   "mimetype": "text/x-python",
   "name": "python",
   "nbconvert_exporter": "python",
   "pygments_lexer": "ipython3",
   "version": "3.8.8"
  }
 },
 "nbformat": 4,
 "nbformat_minor": 5
}

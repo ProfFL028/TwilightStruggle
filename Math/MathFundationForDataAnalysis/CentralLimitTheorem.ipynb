{
 "cells": [
  {
   "cell_type": "code",
   "execution_count": 2,
   "id": "052b5609",
   "metadata": {},
   "outputs": [],
   "source": [
    "import random\n",
    "import matplotlib as mpl\n",
    "mpl.use('PDF') // backend render type https://matplotlib.org/stable/tutorials/introductory/usage.html#the-builtin-backends\n",
    "import matplotlib.pyplot as plt"
   ]
  },
  {
   "cell_type": "code",
   "execution_count": 6,
   "id": "2ffeb9ed",
   "metadata": {},
   "outputs": [],
   "source": [
    "minBin = 0\n",
    "maxBin = 100\n",
    "numBins = 50\n",
    "nTrials = 5000\n",
    "\n",
    "fatherDistribution = range(maxBin)\n",
    "\n",
    "sampleCounts = [2, 3, 10, 30, 50]\n"
   ]
  },
  {
   "cell_type": "code",
   "execution_count": 20,
   "id": "2133bd63",
   "metadata": {},
   "outputs": [],
   "source": [
    "def plotDistribution(distribution, file, title, binMin, binMax, numBins):\n",
    "    binSize = int((binMax - binMin)/numBins)\n",
    "    manualBins = range(binMin - binSize * 2, binMax+binSize*2, binSize)\n",
    "    [n, bins, patches] = plt.hist(distribution, bins=manualBins)\n",
    "    plt.title(title)\n",
    "    plt.xlim(binMin, binMax)\n",
    "    plt.ylim(0, max(n) + 2)\n",
    "    plt.xlabel(\"Observations\")\n",
    "    plt.ylabel(\"Frequency\")\n",
    "    plt.savefig(file, bbox_inches='tight')\n",
    "    plt.clf()  // clear current figure\n",
    "    plt.cla()  // clear current axe"
   ]
  },
  {
   "cell_type": "code",
   "execution_count": 21,
   "id": "7ff70134",
   "metadata": {},
   "outputs": [],
   "source": [
    "plotDistribution(fatherDistribution, \"output/SampleDistribution.pdf\", \"Father Distribution\", minBin, maxBin, numBins)"
   ]
  },
  {
   "cell_type": "code",
   "execution_count": 22,
   "id": "b2d023ef",
   "metadata": {},
   "outputs": [],
   "source": [
    "for num in sampleCounts:\n",
    "    means = []\n",
    "    for j in range(nTrials):\n",
    "        sampleSum = 0\n",
    "        for i in range(num):\n",
    "            sampleSum += random.choice(fatherDistribution)\n",
    "        means.append(float(sampleSum)/float(num))\n",
    "    \n",
    "    title = \"Sample Mean Distribution With n=%s\" % num\n",
    "    file = \"output/CLT-demo-%s.PDF\" % num\n",
    "    plotDistribution(means, file, title, minBin, maxBin, numBins)\n",
    "        "
   ]
  },
  {
   "cell_type": "code",
   "execution_count": null,
   "id": "9527f709",
   "metadata": {},
   "outputs": [],
   "source": []
  },
  {
   "cell_type": "code",
   "execution_count": null,
   "id": "26b74322",
   "metadata": {},
   "outputs": [],
   "source": []
  }
 ],
 "metadata": {
  "kernelspec": {
   "display_name": "Python 3",
   "language": "python",
   "name": "python3"
  },
  "language_info": {
   "codemirror_mode": {
    "name": "ipython",
    "version": 3
   },
   "file_extension": ".py",
   "mimetype": "text/x-python",
   "name": "python",
   "nbconvert_exporter": "python",
   "pygments_lexer": "ipython3",
   "version": "3.8.8"
  }
 },
 "nbformat": 4,
 "nbformat_minor": 5
}

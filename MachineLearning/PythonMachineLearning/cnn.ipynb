{
 "cells": [
  {
   "cell_type": "code",
   "execution_count": 1,
   "metadata": {
    "collapsed": true
   },
   "outputs": [
    {
     "name": "stdout",
     "output_type": "stream",
     "text": [
      "conv1:  [ 6. 11. 18. 25. 26. 35. 19. 25.]\n",
      "using np: [ 6 11 18 25 26 35 19 25]\n"
     ]
    }
   ],
   "source": [
    "import numpy as np\n",
    "import pandas as pd\n",
    "\n",
    "\n",
    "def conv1d(x, w, p=0, s=1):\n",
    "    w_rot = np.array(w[::-1])\n",
    "    x_padded = np.array(x)\n",
    "    if p > 0:\n",
    "        zero_pad = np.zeros(shape=p)\n",
    "        x_padded = np.concatenate([zero_pad, x_padded, zero_pad])\n",
    "\n",
    "    res = []\n",
    "    for i in range(0, int(len(x) / s), s):\n",
    "        res.append(np.sum(x_padded[i:i + w_rot.shape[0]] * w_rot))\n",
    "    return np.array(res)\n",
    "\n",
    "\n",
    "x = [1, 2, 3, 4, 5, 6, 1, 4]\n",
    "w = [1, 0, 3, 1, 2]\n",
    "print(\"conv1: \", conv1d(x, w, p=2, s=1))\n",
    "print(\"using np:\", np.convolve(x, w, mode='same'))"
   ]
  },
  {
   "cell_type": "code",
   "execution_count": 19,
   "outputs": [],
   "source": [
    "import scipy.signal\n",
    "\n",
    "\n",
    "def conv2d(X, W, p=(0, 0), s=(1, 1)):\n",
    "    W_rot = np.array(W)[::-1, ::-1]\n",
    "    X_orig = np.array(X)\n",
    "    n1 = X_orig.shape[0] + 2 * p[0]\n",
    "    n2 = X_orig.shape[1] + 2 * p[1]\n",
    "    X_padded = np.zeros(shape=(n1, n2))\n",
    "    X_padded[p[0]:p[0] + X_orig.shape[0], p[1]:p[1] + X_orig.shape[1]] = X_orig\n",
    "\n",
    "    res = []\n",
    "    for i in range(0, int((X_padded.shape[0] - W_rot.shape[0]) / s[0]) + 1, s[0]):\n",
    "        res.append([])\n",
    "        for j in range(0, int((X_padded.shape[1] - W_rot.shape[1]) / s[1]) + 1, s[1]):\n",
    "            X_sub = X_padded[i: i + W_rot.shape[0], j: j + W_rot.shape[1]]\n",
    "            res[-1].append(np.sum(X_sub * W_rot))\n",
    "    return np.array(res)"
   ],
   "metadata": {
    "collapsed": false,
    "pycharm": {
     "name": "#%%\n"
    }
   }
  },
  {
   "cell_type": "code",
   "execution_count": 20,
   "outputs": [
    {
     "name": "stdout",
     "output_type": "stream",
     "text": [
      "conv2d implementatino: [[11. 25. 32. 13.]\n",
      " [19. 25. 24. 13.]\n",
      " [13. 28. 25. 17.]\n",
      " [11. 17. 14.  9.]]\n",
      "conv2d scipy: [[11 25 32 13]\n",
      " [19 25 24 13]\n",
      " [13 28 25 17]\n",
      " [11 17 14  9]]\n"
     ]
    }
   ],
   "source": [
    "X = [[1, 3, 2, 4], [5, 6, 1, 3], [1, 2, 0, 2], [3, 4, 3, 2]]\n",
    "W = [[1, 0, 3], [1, 2, 1], [0, 1, 1]]\n",
    "p = (1, 1)\n",
    "\n",
    "print(\"conv2d implementatino:\", conv2d(X, W, p, s=(1, 1)))\n",
    "print(\"conv2d scipy:\", scipy.signal.convolve2d(X, W, mode='same'))"
   ],
   "metadata": {
    "collapsed": false,
    "pycharm": {
     "name": "#%%\n"
    }
   }
  },
  {
   "cell_type": "code",
   "execution_count": 35,
   "outputs": [
    {
     "name": "stdout",
     "output_type": "stream",
     "text": [
      "Rows: 60000, columns: 784\n",
      "Row: 10000, columns: 784\n",
      "Training     (50000, 784) (50000,)\n",
      "Validation   (10000, 784) (10000,)\n",
      "Test         (10000, 784) (10000,)\n"
     ]
    }
   ],
   "source": [
    "import tensorflow as tf\n",
    "import pandas as pd\n",
    "\n",
    "tf = tf.compat.v1\n",
    "import os\n",
    "import struct\n",
    "\n",
    "\n",
    "def load_mnist(path, kind='train'):\n",
    "    labels_path = os.path.join(path, '%s-labels-idx1-ubyte' % kind)\n",
    "    images_path = os.path.join(path, '%s-images-idx3-ubyte' % kind)\n",
    "\n",
    "    with open(labels_path, 'rb') as lbpath:\n",
    "        magic, n = struct.unpack('>II', lbpath.read(8))\n",
    "        labels = np.fromfile(lbpath, dtype=np.uint8)\n",
    "\n",
    "    with open(images_path, 'rb') as imgpath:\n",
    "        magic, num, rows, cols = struct.unpack('>IIII', imgpath.read(16))\n",
    "        images = np.fromfile(imgpath, dtype=np.uint8).reshape(len(labels), 784)\n",
    "        images = ((images / 255.) - .5) * 2\n",
    "\n",
    "    return images, labels\n",
    "\n",
    "\n",
    "X_data, y_data = load_mnist('', kind='train')\n",
    "print(\"Rows: %d, columns: %d\" % (X_data.shape[0], X_data.shape[1]))\n",
    "\n",
    "X_test, y_test = load_mnist('', kind='t10k')\n",
    "print(\"Row: %d, columns: %d\" % (X_test.shape[0], X_test.shape[1]))\n",
    "\n",
    "X_train, y_train = X_data[:50000, :], y_data[:50000]\n",
    "X_valid, y_valid = X_data[50000:, :], y_data[50000:]\n",
    "print(\"Training    \", X_train.shape, y_train.shape)\n",
    "print(\"Validation  \", X_valid.shape, y_valid.shape)\n",
    "print(\"Test        \", X_test.shape, y_test.shape)"
   ],
   "metadata": {
    "collapsed": false,
    "pycharm": {
     "name": "#%%\n"
    }
   }
  },
  {
   "cell_type": "code",
   "execution_count": 36,
   "outputs": [],
   "source": [
    "def batch_generator(X, y, batch_size=64, shuffle=False, random_seed=None):\n",
    "    idx = np.arange(y.shape[0])\n",
    "\n",
    "    if shuffle:\n",
    "        rng = np.random.RandomState(random_seed)\n",
    "        rng.shuffle(idx)\n",
    "        X = X[idx]\n",
    "        y = y[idx]\n",
    "\n",
    "    for i in range(0, X.shape[0], batch_size):\n",
    "        yield X[i: i + batch_size, :], y[i: i + batch_size]"
   ],
   "metadata": {
    "collapsed": false,
    "pycharm": {
     "name": "#%%\n"
    }
   }
  },
  {
   "cell_type": "code",
   "execution_count": 37,
   "outputs": [],
   "source": [
    "mean_vals = np.mean(X_train, axis=0)\n",
    "std_val = np.std(X_train)\n",
    "X_train_centered = (X_train - mean_vals) / std_val\n",
    "X_valid_centered = (X_valid - mean_vals) / std_val\n",
    "X_test_centered = (X_test - mean_vals) / std_val"
   ],
   "metadata": {
    "collapsed": false,
    "pycharm": {
     "name": "#%%\n"
    }
   }
  },
  {
   "cell_type": "code",
   "execution_count": 40,
   "outputs": [
    {
     "name": "stdout",
     "output_type": "stream",
     "text": [
      "<tf.Variable 'convest/_weights:0' shape=(3, 3, 1, 32) dtype=float32>\n",
      "<tf.Variable 'convest/_biases:0' shape=(32,) dtype=float32>\n",
      "Tensor(\"convest/Conv2D:0\", shape=(None, 28, 28, 32), dtype=float32)\n",
      "Tensor(\"convest/net_pre-activation:0\", shape=(None, 28, 28, 32), dtype=float32)\n",
      "Tensor(\"convest/activation:0\", shape=(None, 28, 28, 32), dtype=float32)\n"
     ]
    }
   ],
   "source": [
    "# implement in tensorflow\n",
    "def conv_layer(input_tensor, name, kernel_size, n_output_channels, padding_mode='SAME', strides=(1, 1, 1, 1)):\n",
    "    with tf.variable_scope(name):\n",
    "        input_shape = input_tensor.get_shape().as_list()\n",
    "        n_input_channels = input_shape[-1]\n",
    "\n",
    "        weights_shape = list(kernel_size) + [n_input_channels, n_output_channels]\n",
    "        weights = tf.get_variable(name='_weights', shape=weights_shape)\n",
    "        print(weights)\n",
    "        biases = tf.get_variable(name='_biases', initializer=tf.zeros(shape=[n_output_channels]))\n",
    "        print(biases)\n",
    "        conv = tf.nn.conv2d(input=input_tensor,\n",
    "                            filter=weights,\n",
    "                            strides=strides,\n",
    "                            padding=padding_mode)\n",
    "        print(conv)\n",
    "        conv = tf.nn.bias_add(conv, biases, name='net_pre-activation')\n",
    "        print(conv)\n",
    "        conv = tf.nn.relu(conv, name='activation')\n",
    "        print(conv)\n",
    "\n",
    "        return conv\n",
    "\n",
    "\n",
    "g = tf.Graph()\n",
    "with g.as_default():\n",
    "    x = tf.placeholder(tf.float32, shape=[None, 28, 28, 1])\n",
    "    conv_layer(x, name='convest', kernel_size=(3, 3), n_output_channels=32)\n",
    "del g, x"
   ],
   "metadata": {
    "collapsed": false,
    "pycharm": {
     "name": "#%%\n"
    }
   }
  },
  {
   "cell_type": "code",
   "execution_count": 43,
   "outputs": [
    {
     "name": "stdout",
     "output_type": "stream",
     "text": [
      "<tf.Variable 'fctest/_weights:0' shape=(784, 32) dtype=float32>\n",
      "<tf.Variable 'fctest/_biases:0' shape=(32,) dtype=float32>\n",
      "Tensor(\"fctest/MatMul:0\", shape=(None, 32), dtype=float32)\n",
      "Tensor(\"fctest/net_pre-activation:0\", shape=(None, 32), dtype=float32)\n",
      "Tensor(\"fctest/activation:0\", shape=(None, 32), dtype=float32)\n"
     ]
    }
   ],
   "source": [
    "def fc_layer(input_tensor, name, n_output_units, activation_fn=None):\n",
    "    with tf.variable_scope(name):\n",
    "        input_shape = input_tensor.get_shape().as_list()[1:]\n",
    "        n_input_units = np.prod(input_shape)\n",
    "        if len(input_shape) > 1:\n",
    "            input_tensor = tf.reshape(input_tensor, shape=(-1, n_input_units))\n",
    "\n",
    "        weights_shape = [n_input_units, n_output_units]\n",
    "        weights = tf.get_variable(name='_weights', shape=weights_shape)\n",
    "        print(weights)\n",
    "        biases = tf.get_variable(name='_biases', initializer=tf.zeros(shape=[n_output_units]))\n",
    "        print(biases)\n",
    "        layer = tf.matmul(input_tensor, weights)\n",
    "        print(layer)\n",
    "        layer = tf.nn.bias_add(layer, biases, name='net_pre-activation')\n",
    "        print(layer)\n",
    "        if activation_fn is None:\n",
    "            return layer\n",
    "\n",
    "        layer = activation_fn(layer, name='activation')\n",
    "        print(layer)\n",
    "        return layer\n",
    "\n",
    "\n",
    "g = tf.Graph()\n",
    "with g.as_default():\n",
    "    x = tf.placeholder(tf.float32, shape=[None, 28, 28, 1])\n",
    "    fc_layer(x, name='fctest', n_output_units=32, activation_fn=tf.nn.relu)"
   ],
   "metadata": {
    "collapsed": false,
    "pycharm": {
     "name": "#%%\n"
    }
   }
  },
  {
   "cell_type": "code",
   "execution_count": 46,
   "outputs": [],
   "source": [
    "learning_rate = 1e-4\n",
    "\n",
    "\n",
    "def build_cnn():\n",
    "    tf_x = tf.placeholder(tf.float32, shape=[None, 784], name='tf_x')\n",
    "    tf_y = tf.placeholder(tf.int32, shape=[None], name='tf_y')\n",
    "\n",
    "    tf_x_image = tf.reshape(tf_x, shape=[-1, 28, 28, 1], name='tf_x_reshaped')\n",
    "    tf_y_onehot = tf.one_hot(indices=tf_y, depth=10, dtype=tf.float32, name='tf_y_onehot')\n",
    "\n",
    "    print(\"\\n Building 1st layer:\")\n",
    "    h1 = conv_layer(tf_x_image, name='conv_1', kernel_size=(5, 5), padding_mode='VALID', n_output_channels=32)\n",
    "    h1_pool = tf.nn.max_pool(h1, ksize=[1, 2, 2, 1], strides=[1, 2, 2, 1], padding='SAME')\n",
    "    print(\"\\n Building 2nd layer:\")\n",
    "    h2 = conv_layer(h1_pool, name='conv_2', kernel_size=(5, 5), padding_mode='VALID', n_output_channels=64)\n",
    "    h2_pool = tf.nn.max_pool(h2, ksize=[1, 2, 2, 1], strides=[1, 2, 2, 1], padding='SAME')\n",
    "    print('\\n Building 3rd layers:')\n",
    "    h3 = fc_layer(h2_pool, name='fc_3', n_output_units=1024, activation_fn=tf.nn.relu)\n",
    "\n",
    "    keep_prob = tf.placeholder(tf.float32, name='fc_keep_prob')\n",
    "    h3_drop = tf.nn.dropout(h3, keep_prob=keep_prob, name='dropout_layer')\n",
    "\n",
    "    print(\"\\n Building 4th layer\")\n",
    "    h4 = fc_layer(h3_drop, name='fc_4', n_output_units=10, activation_fn=None)\n",
    "\n",
    "    predictions = {\n",
    "        'probabilities:': tf.nn.softmax(h4, name='probabilities'),\n",
    "        'labels': tf.cast(tf.argmax(h4, axis=1), tf.int32, name='labels')\n",
    "    }\n",
    "\n",
    "    cross_entropy_loss = tf.reduce_mean(tf.nn.softmax_cross_entropy_with_logits(logits=h4, labels=tf_y_onehot),\n",
    "                                        name='cross_entropy_loss')\n",
    "    optimizer = tf.train.AdamOptimizer(learning_rate)\n",
    "    optimizer = optimizer.minimize(cross_entropy_loss, name='train_op')\n",
    "    correct_predictions = tf.equal(predictions['labels'], tf_y, name='correct_preds')\n",
    "\n",
    "    accuracy = tf.reduce_mean(tf.cast(correct_predictions, tf.float32), name='accuracy')\n",
    "\n",
    "\n",
    "def save(saver, sess, epoch, path='./model/'):\n",
    "    if not os.path.isdir(path):\n",
    "        os.makedirs(path)\n",
    "    print('Saving model in %s' % path)\n",
    "\n",
    "    saver.save(sess, os.path.join(path, 'cnn-model.ckpt'), global_step=epoch)\n",
    "\n",
    "\n",
    "def load(saver, sess, path, epoch):\n",
    "    print(\"Loading model from %s\" % path)\n",
    "    saver.restore(sess, os.path.join(path, 'cnn-model.ckpt-%d' % epoch))\n",
    "\n",
    "\n",
    "def train(sess, training_set, validation_set=None, initialize=True, epochs=20, shuffle=True, dropout=0.5,\n",
    "          random_seed=None):\n",
    "    X_data = np.array(training_set[0])\n",
    "    y_data = np.array(training_set[1])\n",
    "    training_loss = []\n",
    "\n",
    "    if initialize:\n",
    "        sess.run(tf.global_variables_initializer())\n",
    "\n",
    "    np.random.seed(random_seed)\n",
    "    for epoch in range(1, epochs + 1):\n",
    "        batch_gen = batch_generator(X_data, y_data, shuffle=shuffle)\n",
    "        avg_loss = 0.0\n",
    "        for i, (batch_x, batch_y) in enumerate(batch_gen):\n",
    "            feed = {'tf_x:0': batch_x,\n",
    "                    'tf_y:0': batch_y,\n",
    "                    'fc_keep_prob:0': dropout}\n",
    "            loss, _ = sess.run(['cross_entropy_loss:0', 'train_op'], feed_dict=feed)\n",
    "            avg_loss += loss\n",
    "        training_loss.append(avg_loss / (i + 1))\n",
    "        print('Epoch %02d Training Avg. Loss: %7.3f' % (epoch, avg_loss), end=' ')\n",
    "        if validation_set is not None:\n",
    "            feed = {'tf_x:0': validation_set[0],\n",
    "                    'tf_y:0': validation_set[1],\n",
    "                    'fc_keep_prob:0': 1.0}\n",
    "            valid_acc = sess.run('accuracy:0', feed_dict=feed)\n",
    "            print(' Validation Acc: %7.3f' % valid_acc)\n",
    "        else:\n",
    "            print()\n",
    "\n",
    "\n",
    "def predict(sess, X_test, return_proba=False):\n",
    "    feed = {'tf_x: 0': X_test, 'fc_keep_prob:0': 1.0}\n",
    "    if return_proba:\n",
    "        return sess.run('probabilities:0', feed_dict=feed)\n",
    "    else:\n",
    "        return sess.run('labels:0', feed_dict=feed)"
   ],
   "metadata": {
    "collapsed": false,
    "pycharm": {
     "name": "#%%\n"
    }
   }
  },
  {
   "cell_type": "code",
   "execution_count": 48,
   "outputs": [
    {
     "name": "stdout",
     "output_type": "stream",
     "text": [
      "\n",
      " Building 1st layer:\n",
      "<tf.Variable 'conv_1/_weights:0' shape=(5, 5, 1, 32) dtype=float32>\n",
      "<tf.Variable 'conv_1/_biases:0' shape=(32,) dtype=float32>\n",
      "Tensor(\"conv_1/Conv2D:0\", shape=(None, 24, 24, 32), dtype=float32)\n",
      "Tensor(\"conv_1/net_pre-activation:0\", shape=(None, 24, 24, 32), dtype=float32)\n",
      "Tensor(\"conv_1/activation:0\", shape=(None, 24, 24, 32), dtype=float32)\n",
      "\n",
      " Building 2nd layer:\n",
      "<tf.Variable 'conv_2/_weights:0' shape=(5, 5, 32, 64) dtype=float32>\n",
      "<tf.Variable 'conv_2/_biases:0' shape=(64,) dtype=float32>\n",
      "Tensor(\"conv_2/Conv2D:0\", shape=(None, 8, 8, 64), dtype=float32)\n",
      "Tensor(\"conv_2/net_pre-activation:0\", shape=(None, 8, 8, 64), dtype=float32)\n",
      "Tensor(\"conv_2/activation:0\", shape=(None, 8, 8, 64), dtype=float32)\n",
      "\n",
      " Building 3rd layers:\n",
      "<tf.Variable 'fc_3/_weights:0' shape=(1024, 1024) dtype=float32>\n",
      "<tf.Variable 'fc_3/_biases:0' shape=(1024,) dtype=float32>\n",
      "Tensor(\"fc_3/MatMul:0\", shape=(None, 1024), dtype=float32)\n",
      "Tensor(\"fc_3/net_pre-activation:0\", shape=(None, 1024), dtype=float32)\n",
      "Tensor(\"fc_3/activation:0\", shape=(None, 1024), dtype=float32)\n",
      "\n",
      " Building 4th layer\n",
      "<tf.Variable 'fc_4/_weights:0' shape=(1024, 10) dtype=float32>\n",
      "<tf.Variable 'fc_4/_biases:0' shape=(10,) dtype=float32>\n",
      "Tensor(\"fc_4/MatMul:0\", shape=(None, 10), dtype=float32)\n",
      "Tensor(\"fc_4/net_pre-activation:0\", shape=(None, 10), dtype=float32)\n",
      "Epoch 01 Training Avg. Loss: 263.461  Validation Acc:   0.976\n",
      "Epoch 02 Training Avg. Loss:  71.910  Validation Acc:   0.984\n",
      "Epoch 03 Training Avg. Loss:  48.272  Validation Acc:   0.987\n",
      "Epoch 04 Training Avg. Loss:  37.508  Validation Acc:   0.987\n",
      "Epoch 05 Training Avg. Loss:  30.120  Validation Acc:   0.989\n",
      "Epoch 06 Training Avg. Loss:  25.842  Validation Acc:   0.990\n",
      "Epoch 07 Training Avg. Loss:  21.966  Validation Acc:   0.990\n",
      "Epoch 08 Training Avg. Loss:  19.387  Validation Acc:   0.989\n",
      "Epoch 09 Training Avg. Loss:  16.366  Validation Acc:   0.990\n",
      "Epoch 10 Training Avg. Loss:  15.770  Validation Acc:   0.990\n",
      "Epoch 11 Training Avg. Loss:  12.685  Validation Acc:   0.990\n",
      "Epoch 12 Training Avg. Loss:  11.039  Validation Acc:   0.992\n",
      "Epoch 13 Training Avg. Loss:  10.350  Validation Acc:   0.992\n",
      "Epoch 14 Training Avg. Loss:   8.943  Validation Acc:   0.992\n",
      "Epoch 15 Training Avg. Loss:   8.335  Validation Acc:   0.992\n",
      "Epoch 16 Training Avg. Loss:   6.806  Validation Acc:   0.991\n",
      "Epoch 17 Training Avg. Loss:   6.234  Validation Acc:   0.991\n",
      "Epoch 18 Training Avg. Loss:   4.719  Validation Acc:   0.991\n",
      "Epoch 19 Training Avg. Loss:   4.951  Validation Acc:   0.991\n",
      "Epoch 20 Training Avg. Loss:   3.723  Validation Acc:   0.992\n",
      "Saving model in ./model/\n"
     ]
    }
   ],
   "source": [
    "g = tf.Graph()\n",
    "with g.as_default():\n",
    "    tf.set_random_seed(123)\n",
    "    build_cnn()\n",
    "\n",
    "    saver = tf.train.Saver()\n",
    "\n",
    "with tf.Session(graph=g) as sess:\n",
    "    train(sess, training_set=(X_train_centered, y_train),\n",
    "          validation_set=(X_valid_centered, y_valid), initialize=True, random_seed=123)\n",
    "    save(saver, sess, epoch=20)"
   ],
   "metadata": {
    "collapsed": false,
    "pycharm": {
     "name": "#%%\n"
    }
   }
  },
  {
   "cell_type": "code",
   "execution_count": 49,
   "outputs": [
    {
     "name": "stdout",
     "output_type": "stream",
     "text": [
      "\n",
      " Building 1st layer:\n",
      "<tf.Variable 'conv_1/_weights:0' shape=(5, 5, 1, 32) dtype=float32>\n",
      "<tf.Variable 'conv_1/_biases:0' shape=(32,) dtype=float32>\n",
      "Tensor(\"conv_1/Conv2D:0\", shape=(None, 24, 24, 32), dtype=float32)\n",
      "Tensor(\"conv_1/net_pre-activation:0\", shape=(None, 24, 24, 32), dtype=float32)\n",
      "Tensor(\"conv_1/activation:0\", shape=(None, 24, 24, 32), dtype=float32)\n",
      "\n",
      " Building 2nd layer:\n",
      "<tf.Variable 'conv_2/_weights:0' shape=(5, 5, 32, 64) dtype=float32>\n",
      "<tf.Variable 'conv_2/_biases:0' shape=(64,) dtype=float32>\n",
      "Tensor(\"conv_2/Conv2D:0\", shape=(None, 8, 8, 64), dtype=float32)\n",
      "Tensor(\"conv_2/net_pre-activation:0\", shape=(None, 8, 8, 64), dtype=float32)\n",
      "Tensor(\"conv_2/activation:0\", shape=(None, 8, 8, 64), dtype=float32)\n",
      "\n",
      " Building 3rd layers:\n",
      "<tf.Variable 'fc_3/_weights:0' shape=(1024, 1024) dtype=float32>\n",
      "<tf.Variable 'fc_3/_biases:0' shape=(1024,) dtype=float32>\n",
      "Tensor(\"fc_3/MatMul:0\", shape=(None, 1024), dtype=float32)\n",
      "Tensor(\"fc_3/net_pre-activation:0\", shape=(None, 1024), dtype=float32)\n",
      "Tensor(\"fc_3/activation:0\", shape=(None, 1024), dtype=float32)\n",
      "\n",
      " Building 4th layer\n",
      "<tf.Variable 'fc_4/_weights:0' shape=(1024, 10) dtype=float32>\n",
      "<tf.Variable 'fc_4/_biases:0' shape=(10,) dtype=float32>\n",
      "Tensor(\"fc_4/MatMul:0\", shape=(None, 10), dtype=float32)\n",
      "Tensor(\"fc_4/net_pre-activation:0\", shape=(None, 10), dtype=float32)\n",
      "Loading model from ./model/\n",
      "INFO:tensorflow:Restoring parameters from ./model/cnn-model.ckpt-20\n",
      "Test Accuracy: 99.240%\n"
     ]
    }
   ],
   "source": [
    "del g\n",
    "g2 = tf.Graph()\n",
    "with g2.as_default():\n",
    "    tf.set_random_seed(123)\n",
    "    build_cnn()\n",
    "    saver = tf.train.Saver()\n",
    "\n",
    "with tf.Session(graph=g2) as sess:\n",
    "    load(saver, sess, epoch=20, path='./model/')\n",
    "    preds = predict(sess, X_test_centered, return_proba=False)\n",
    "\n",
    "    print(\"Test Accuracy: %.3f%%\" % (100 * np.sum(preds == y_test) / len(y_test)))\n"
   ],
   "metadata": {
    "collapsed": false,
    "pycharm": {
     "name": "#%%\n"
    }
   }
  },
  {
   "cell_type": "code",
   "execution_count": 51,
   "outputs": [
    {
     "name": "stdout",
     "output_type": "stream",
     "text": [
      "Loading model from ./model/\n",
      "INFO:tensorflow:Restoring parameters from ./model/cnn-model.ckpt-20\n",
      "[7 2 1 0 4 1 4 9 5 9]\n",
      "[[0. 0. 0. 0. 0. 0. 0. 1. 0. 0.]\n",
      " [0. 0. 1. 0. 0. 0. 0. 0. 0. 0.]\n",
      " [0. 1. 0. 0. 0. 0. 0. 0. 0. 0.]\n",
      " [1. 0. 0. 0. 0. 0. 0. 0. 0. 0.]\n",
      " [0. 0. 0. 0. 1. 0. 0. 0. 0. 0.]\n",
      " [0. 1. 0. 0. 0. 0. 0. 0. 0. 0.]\n",
      " [0. 0. 0. 0. 1. 0. 0. 0. 0. 0.]\n",
      " [0. 0. 0. 0. 0. 0. 0. 0. 0. 1.]\n",
      " [0. 0. 0. 0. 0. 1. 0. 0. 0. 0.]\n",
      " [0. 0. 0. 0. 0. 0. 0. 0. 0. 1.]]\n"
     ]
    }
   ],
   "source": [
    "np.set_printoptions(precision=2, suppress=True)\n",
    "with tf.Session(graph=g2) as sess:\n",
    "    load(saver, sess, epoch=20, path='./model/')\n",
    "    print(predict(sess, X_test_centered[:10], return_proba=False))\n",
    "    print(predict(sess, X_test_centered[:10], return_proba=True))\n"
   ],
   "metadata": {
    "collapsed": false,
    "pycharm": {
     "name": "#%%\n"
    }
   }
  },
  {
   "cell_type": "code",
   "execution_count": 68,
   "outputs": [
    {
     "data": {
      "text/plain": "   col  col1  col2\n0  1.0   NaN   NaN\n1  2.0   NaN   NaN\n2  3.0   NaN   NaN\n0  NaN   1.0   3.0\n1  NaN   4.0   4.0\n2  NaN   9.0   5.0",
      "text/html": "<div>\n<style scoped>\n    .dataframe tbody tr th:only-of-type {\n        vertical-align: middle;\n    }\n\n    .dataframe tbody tr th {\n        vertical-align: top;\n    }\n\n    .dataframe thead th {\n        text-align: right;\n    }\n</style>\n<table border=\"1\" class=\"dataframe\">\n  <thead>\n    <tr style=\"text-align: right;\">\n      <th></th>\n      <th>col</th>\n      <th>col1</th>\n      <th>col2</th>\n    </tr>\n  </thead>\n  <tbody>\n    <tr>\n      <th>0</th>\n      <td>1.0</td>\n      <td>NaN</td>\n      <td>NaN</td>\n    </tr>\n    <tr>\n      <th>1</th>\n      <td>2.0</td>\n      <td>NaN</td>\n      <td>NaN</td>\n    </tr>\n    <tr>\n      <th>2</th>\n      <td>3.0</td>\n      <td>NaN</td>\n      <td>NaN</td>\n    </tr>\n    <tr>\n      <th>0</th>\n      <td>NaN</td>\n      <td>1.0</td>\n      <td>3.0</td>\n    </tr>\n    <tr>\n      <th>1</th>\n      <td>NaN</td>\n      <td>4.0</td>\n      <td>4.0</td>\n    </tr>\n    <tr>\n      <th>2</th>\n      <td>NaN</td>\n      <td>9.0</td>\n      <td>5.0</td>\n    </tr>\n  </tbody>\n</table>\n</div>"
     },
     "execution_count": 68,
     "metadata": {},
     "output_type": "execute_result"
    }
   ],
   "source": [
    "data = pd.DataFrame({'col':[1,2,3]})\n",
    "data2 = data['col'].apply(lambda x: pd.Series({'col1': x**2, 'col2': x+2}))\n"
   ],
   "metadata": {
    "collapsed": false,
    "pycharm": {
     "name": "#%%\n"
    }
   }
  }
 ],
 "metadata": {
  "kernelspec": {
   "display_name": "Python 3",
   "language": "python",
   "name": "python3"
  },
  "language_info": {
   "codemirror_mode": {
    "name": "ipython",
    "version": 2
   },
   "file_extension": ".py",
   "mimetype": "text/x-python",
   "name": "python",
   "nbconvert_exporter": "python",
   "pygments_lexer": "ipython2",
   "version": "2.7.6"
  }
 },
 "nbformat": 4,
 "nbformat_minor": 0
}
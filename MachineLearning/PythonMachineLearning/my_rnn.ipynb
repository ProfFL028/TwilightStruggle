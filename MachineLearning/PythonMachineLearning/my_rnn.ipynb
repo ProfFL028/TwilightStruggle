{
 "cells": [
  {
   "cell_type": "code",
   "execution_count": 8,
   "metadata": {
    "collapsed": true
   },
   "outputs": [],
   "source": [
    "import copy, numpy as np\n",
    "\n",
    "\n",
    "np.random.seed(2)"
   ]
  },
  {
   "cell_type": "code",
   "execution_count": 14,
   "outputs": [
    {
     "name": "stdout",
     "output_type": "stream",
     "text": [
      "sigmoid(999.000000000000000): 1.000000000000000\n",
      "sigmoid2(999.000000000000000): 1.000000000000000\n",
      "sigmoid3(999.000000000000000): 0.000000000000000\n",
      "sigmoid(-999.000000000000000): 0.000000000000000\n",
      "sigmoid2(-999.000000000000000): 0.000000000000000\n",
      "sigmoid3(-999.000000000000000): 0.000000000000000\n"
     ]
    },
    {
     "name": "stderr",
     "output_type": "stream",
     "text": [
      "<ipython-input-14-408544179a7e>:5: RuntimeWarning: overflow encountered in exp\n",
      "  return 1.0 / (1.0 + np.exp(-x))\n"
     ]
    }
   ],
   "source": [
    "def sigmoid(x):\n",
    "    return 1.0 / (1.0 + np.exp(-x)) if x >= 0 else np.exp(x) / (1.0 + np.exp(x))\n",
    "\n",
    "def sigmoid2(x):\n",
    "    return 1.0 / (1.0 + np.exp(-x))\n",
    "\n",
    "def sigmoid3(x):\n",
    "    return 1.0 / (1.0 + np.exp(-np.clip(x, 255, -255)))\n",
    "\n",
    "x = 999\n",
    "print(\"sigmoid(%.15f): %.15f\" % (x, sigmoid(x)))\n",
    "print(\"sigmoid2(%.15f): %.15f\" % (x, sigmoid2(x)))\n",
    "print(\"sigmoid3(%.15f): %.15f\" % (x, sigmoid3(x)))\n",
    "\n",
    "print(\"sigmoid(%.15f): %.15f\" % (-x, sigmoid(-x)))\n",
    "print(\"sigmoid2(%.15f): %.15f\" % (-x, sigmoid2(-x)))\n",
    "print(\"sigmoid3(%.15f): %.15f\" % (-x, sigmoid3(-x)))\n"
   ],
   "metadata": {
    "collapsed": false,
    "pycharm": {
     "name": "#%%\n"
    }
   }
  }
 ],
 "metadata": {
  "kernelspec": {
   "display_name": "Python 3",
   "language": "python",
   "name": "python3"
  },
  "language_info": {
   "codemirror_mode": {
    "name": "ipython",
    "version": 2
   },
   "file_extension": ".py",
   "mimetype": "text/x-python",
   "name": "python",
   "nbconvert_exporter": "python",
   "pygments_lexer": "ipython2",
   "version": "2.7.6"
  }
 },
 "nbformat": 4,
 "nbformat_minor": 0
}
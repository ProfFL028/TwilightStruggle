{
 "cells": [
  {
   "cell_type": "code",
   "execution_count": null,
   "outputs": [],
   "source": [
    "# http://iamtrask.github.io/2015/11/15/anyone-can-code-lstm/"
   ],
   "metadata": {
    "collapsed": false,
    "pycharm": {
     "name": "#%%\n"
    }
   }
  },
  {
   "cell_type": "code",
   "execution_count": null,
   "outputs": [],
   "source": [
    "import copy, numpy as np"
   ],
   "metadata": {
    "collapsed": false,
    "pycharm": {
     "name": "#%%\n"
    }
   }
  },
  {
   "cell_type": "code",
   "execution_count": null,
   "outputs": [],
   "source": [
    "def sigmoid(x):\n",
    "    # return 1.0 / (1.0 + np.exp(-x)) if x >= 0 else np.exp(x) / (1.0 + np.exp(x))\n",
    "    return np.where(x >= 0, 1.0 / (1.0 + np.exp(-x)), np.exp(x) / (1.0 + np.exp(x)))\n",
    "\n",
    "\n",
    "def sigmoid_derivative(d_output):\n",
    "    return d_output * (1 - d_output)"
   ],
   "metadata": {
    "collapsed": false,
    "pycharm": {
     "name": "#%%\n"
    }
   }
  },
  {
   "cell_type": "code",
   "execution_count": null,
   "outputs": [],
   "source": [
    "binary_dim = 8\n",
    "\n",
    "largest_number = pow(2, binary_dim)\n",
    "int2binary = np.unpackbits(np.array([range(largest_number)], dtype=np.uint8).T, axis=1)"
   ],
   "metadata": {
    "collapsed": false,
    "pycharm": {
     "name": "#%%\n"
    }
   }
  },
  {
   "cell_type": "code",
   "execution_count": null,
   "outputs": [],
   "source": [
    "learning_rate = 0.1\n",
    "input_dim = 2\n",
    "hidden_dim = 16\n",
    "output_dim = 1\n",
    "epochs = 10000\n",
    "\n",
    "w_ih = 2 * np.random.random((input_dim, hidden_dim)) - 1  # input_layer to hidden_layer parameters\n",
    "w_hh = 2 * np.random.random((hidden_dim, hidden_dim)) - 1  # hidden_layer to next_hidden_layer parameters\n",
    "w_ho = 2 * np.random.random((hidden_dim, output_dim)) - 1  # hidden_layer to output_layer parameters\n",
    "\n",
    "w_ih_update = np.zeros_like(w_ih)\n",
    "w_hh_update = np.zeros_like(w_hh)\n",
    "w_ho_update = np.zeros_like(w_ho)\n",
    "\n",
    "for epoch in range(epochs):\n",
    "    # generate input data and output data\n",
    "    a_int = np.random.randint(0, largest_number / 2)\n",
    "    a = int2binary[a_int]\n",
    "    b_int = np.random.randint(0, largest_number / 2)\n",
    "    b = int2binary[b_int]\n",
    "    c_int = a_int + b_int\n",
    "    c = int2binary[c_int]\n",
    "\n",
    "    d = np.zeros_like(c)\n",
    "\n",
    "    # forward learning\n",
    "    layer_output_deltas = list()\n",
    "    layer_hidden_values = list()\n",
    "    layer_hidden_values.append(np.zeros(hidden_dim))\n",
    "    for i in range(binary_dim):\n",
    "        position_binary = binary_dim - i - 1\n",
    "        xi = np.array([[a[position_binary], b[position_binary]]])\n",
    "        yi = np.array([[c[position_binary]]]).T\n",
    "\n",
    "        layer_hidden = sigmoid(np.dot(xi, w_ih) + np.dot(layer_hidden_values[-1], w_hh))\n",
    "        layer_output = sigmoid(np.dot(layer_hidden, w_ho))\n",
    "\n",
    "        layer_output_error = yi - layer_output\n",
    "        layer_output_deltas.append(layer_output_error * sigmoid_derivative(layer_output))\n",
    "\n",
    "        layer_hidden_values.append(copy.deepcopy(layer_hidden))\n",
    "\n",
    "        d[position_binary] = np.round(layer_output[0][0])\n",
    "\n",
    "    # backward learning\n",
    "    future_layer_hidden_delta = np.zeros(hidden_dim)\n",
    "    for i in range(binary_dim):\n",
    "        layer_output_delta = layer_output_deltas[-i - 1]\n",
    "        layer_hidden = layer_hidden_values[-i - 1]\n",
    "        w_ho_update += np.atleast_2d(layer_hidden).T.dot(layer_output_delta)\n",
    "\n",
    "        layer_hidden = layer_hidden_values[-i - 1]\n",
    "        layer_hidden_delta = (future_layer_hidden_delta.dot(w_hh.T) + layer_output_delta.dot(\n",
    "            w_ho.T)) * sigmoid_derivative(layer_hidden)\n",
    "        pre_layer_hidden = layer_hidden_values[-i - 2]\n",
    "\n",
    "        w_hh_update += np.atleast_2d(pre_layer_hidden).T.dot(layer_hidden_delta)\n",
    "\n",
    "        x = np.array([[a[i], b[i]]])\n",
    "        w_ih_update += x.T.dot(layer_hidden_delta)\n",
    "\n",
    "        future_layer_hidden_delta = layer_hidden_delta\n",
    "\n",
    "    w_ho += learning_rate * w_ho_update\n",
    "    w_hh += learning_rate * w_hh_update\n",
    "    w_ih += learning_rate * w_ih_update\n",
    "\n",
    "    w_ho_update *= 0\n",
    "    w_hh_update *= 0\n",
    "    w_ih_update *= 0\n",
    "\n",
    "    if epoch % 1000 == 0:\n",
    "        print(\"Pred:\" + str(d))\n",
    "        print(\"True:\" + str(c))\n",
    "        out = 0\n",
    "        for index, x in enumerate(reversed(d)):\n",
    "            out += x * pow(2, index)\n",
    "        print(str(a_int) + \" + \" + str(b_int) + \" = \" + str(out))\n",
    "        print(\"------------\")\n",
    "\n",
    "import copy, numpy as np\n",
    "\n",
    "\n",
    "np.random.seed(2)"
   ],
   "metadata": {
    "collapsed": false,
    "pycharm": {
     "name": "#%%\n"
    }
   }
  }
 ],
 "metadata": {
  "kernelspec": {
   "display_name": "Python 3",
   "language": "python",
   "name": "python3"
  },
  "language_info": {
   "codemirror_mode": {
    "name": "ipython",
    "version": 2
   },
   "file_extension": ".py",
   "mimetype": "text/x-python",
   "name": "python",
   "nbconvert_exporter": "python",
   "pygments_lexer": "ipython2",
   "version": "2.7.6"
  }
 },
 "nbformat": 4,
 "nbformat_minor": 0
}
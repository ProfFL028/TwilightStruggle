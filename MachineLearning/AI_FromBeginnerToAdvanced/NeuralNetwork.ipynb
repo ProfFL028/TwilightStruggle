{
 "cells": [
  {
   "cell_type": "code",
   "execution_count": 45,
   "metadata": {
    "collapsed": true
   },
   "outputs": [],
   "source": [
    "import numpy as np\n",
    "\n",
    "class NeuralNetwork(object):\n",
    "    def __init__(self, learning_rate, epoch, random_seed=None):\n",
    "        self.w_ = []\n",
    "        self.learning_rate = learning_rate\n",
    "        self.epoch = epoch\n",
    "        self.errors_ = []\n",
    "        if random_seed is not None:\n",
    "            self.rand_generator = np.random.RandomState(random_seed)\n",
    "        else:\n",
    "            self.rand_generator = np.random.RandomState()\n",
    "\n",
    "    def train(self, X, y):\n",
    "        n_count = X.shape[1] + 1\n",
    "        self.w_ = self.rand_generator.normal(loc=0, scale=0.1, size=n_count)\n",
    "        print(self.w_)\n",
    "        for _ in range(self.epoch):\n",
    "            error = 0\n",
    "            for xi, yi in zip(X, y):\n",
    "                update = self.learning_rate * (yi - self.predict(xi))\n",
    "                self.w_[1:] += update * xi\n",
    "                self.w_[0] += update\n",
    "                error += int(update != 0)\n",
    "                # print(self.w_)\n",
    "            self.errors_.append(error)\n",
    "\n",
    "        return self\n",
    "\n",
    "    def net_input(self, X):\n",
    "        return np.dot(X, self.w_[1:]) + self.w_[0]\n",
    "\n",
    "    def predict(self, X):\n",
    "        return np.where(self.net_input(X) > 0, 1, 0)"
   ]
  },
  {
   "cell_type": "code",
   "execution_count": 77,
   "outputs": [
    {
     "name": "stdout",
     "output_type": "stream",
     "text": [
      "[ 0.098723    0.03294759 -0.05811927]\n"
     ]
    },
    {
     "data": {
      "text/plain": "<Figure size 432x288 with 1 Axes>",
      "image/png": "[encoded data removed]"
     },
     "metadata": {
      "needs_background": "light"
     },
     "output_type": "display_data"
    }
   ],
   "source": [
    "import matplotlib.pyplot as plt\n",
    "X = np.array([[1, 1], [1, 0], [0, 1], [0, 0]])\n",
    "y = np.array([1, 0, 0, 0])\n",
    "\n",
    "nn = NeuralNetwork(learning_rate=0.01, epoch=50)\n",
    "nn.train(X, y)\n",
    "\n",
    "y_pred = nn.predict(X)\n",
    "\n",
    "plt.scatter(X[y==1, 0], X[y==1, 1], c='blue', marker='*')\n",
    "plt.scatter(X[y==0, 0], X[y==0, 1], c='red', marker='^')\n",
    "\n",
    "x1_min, x1_max = X[:, 0].min() - 0.05, X[:, 0].max() + 0.05\n",
    "x2_min, x2_max = X[:, 1].min() - 0.05, X[:, 1].max() + 0.05\n",
    "xx1, xx2 = np.meshgrid(np.arange(x1_min, x1_max, 0.01), np.arange(x2_min, x2_max, 0.01))\n",
    "Z = nn.predict(np.array([xx1.ravel(), xx2.ravel()]).T)\n",
    "Z = Z.reshape(xx1.shape)\n",
    "plt.contourf(xx1, xx2, Z, alpha=0.3)\n",
    "plt.show()"
   ],
   "metadata": {
    "collapsed": false,
    "pycharm": {
     "name": "#%%\n"
    }
   }
  }
 ],
 "metadata": {
  "kernelspec": {
   "display_name": "Python 3",
   "language": "python",
   "name": "python3"
  },
  "language_info": {
   "codemirror_mode": {
    "name": "ipython",
    "version": 2
   },
   "file_extension": ".py",
   "mimetype": "text/x-python",
   "name": "python",
   "nbconvert_exporter": "python",
   "pygments_lexer": "ipython2",
   "version": "2.7.6"
  }
 },
 "nbformat": 4,
 "nbformat_minor": 0
}
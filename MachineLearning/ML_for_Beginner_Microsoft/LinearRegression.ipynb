{
 "cells": [
  {
   "cell_type": "code",
   "execution_count": 1,
   "id": "45cb8efd",
   "metadata": {
    "ExecuteTime": {
     "end_time": "2021-09-23T05:35:28.491781Z",
     "start_time": "2021-09-23T05:35:23.045647Z"
    }
   },
   "outputs": [],
   "source": [
    "import matplotlib.pyplot as plt\n",
    "import numpy as np\n",
    "from sklearn import datasets, linear_model, model_selection"
   ]
  },
  {
   "cell_type": "code",
   "execution_count": 6,
   "id": "e8908887",
   "metadata": {
    "ExecuteTime": {
     "end_time": "2021-09-23T05:37:32.671178Z",
     "start_time": "2021-09-23T05:37:32.651198Z"
    }
   },
   "outputs": [
    {
     "name": "stdout",
     "output_type": "stream",
     "text": [
      "(442, 10)\n",
      "[ 0.03807591  0.05068012  0.06169621  0.02187235 -0.0442235  -0.03482076\n",
      " -0.04340085 -0.00259226  0.01990842 -0.01764613]\n"
     ]
    }
   ],
   "source": [
    "\"\"\"\n",
    "load data from datasets.\n",
    "\"\"\"\n",
    "X, y = datasets.load_diabetes(return_X_y=True)\n",
    "print(X.shape)\n",
    "print(X[0])"
   ]
  },
  {
   "cell_type": "code",
   "execution_count": 7,
   "id": "cbe536c6",
   "metadata": {
    "ExecuteTime": {
     "end_time": "2021-09-23T05:39:05.490928Z",
     "start_time": "2021-09-23T05:39:05.481155Z"
    }
   },
   "outputs": [
    {
     "data": {
      "text/plain": [
       "array([0.06169621])"
      ]
     },
     "execution_count": 7,
     "metadata": {},
     "output_type": "execute_result"
    }
   ],
   "source": [
    "\"\"\"\n",
    "just using one column here.\n",
    "\"\"\"\n",
    "X = X[:, np.newaxis, 2]\n",
    "X[0]"
   ]
  },
  {
   "cell_type": "code",
   "execution_count": null,
   "id": "5678b710",
   "metadata": {},
   "outputs": [],
   "source": [
    "\"\"\"\"\"\""
   ]
  }
 ],
 "metadata": {
  "kernelspec": {
   "display_name": "Python 3",
   "language": "python",
   "name": "python3"
  },
  "language_info": {
   "codemirror_mode": {
    "name": "ipython",
    "version": 3
   },
   "file_extension": ".py",
   "mimetype": "text/x-python",
   "name": "python",
   "nbconvert_exporter": "python",
   "pygments_lexer": "ipython3",
   "version": "3.8.8"
  }
 },
 "nbformat": 4,
 "nbformat_minor": 5
}

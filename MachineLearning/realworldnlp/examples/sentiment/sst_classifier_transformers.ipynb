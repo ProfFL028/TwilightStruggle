{
 "cells": [
  {
   "cell_type": "code",
   "execution_count": null,
   "metadata": {
    "scrolled": true
   },
   "outputs": [],
   "source": [
    "!pip install transformers==4.6.1"
   ]
  },
  {
   "cell_type": "code",
   "execution_count": null,
   "metadata": {},
   "outputs": [],
   "source": [
    "!curl https://s3.amazonaws.com/realworldnlpbook/data/stanfordSentimentTreebank/trees/dev.txt --output dev.txt"
   ]
  },
  {
   "cell_type": "code",
   "execution_count": null,
   "metadata": {},
   "outputs": [],
   "source": [
    "!curl https://s3.amazonaws.com/realworldnlpbook/data/stanfordSentimentTreebank/trees/train.txt --output train.txt"
   ]
  },
  {
   "cell_type": "code",
   "execution_count": null,
   "metadata": {},
   "outputs": [],
   "source": [
    "import re\n",
    "\n",
    "import torch\n",
    "from torch import nn, optim\n",
    "from transformers import AutoTokenizer, AutoModel, AdamW, get_cosine_schedule_with_warmup"
   ]
  },
  {
   "cell_type": "code",
   "execution_count": null,
   "metadata": {},
   "outputs": [],
   "source": [
    "device = torch.device('cuda:0' if torch.cuda.is_available() else 'cpu')"
   ]
  },
  {
   "cell_type": "code",
   "execution_count": null,
   "metadata": {},
   "outputs": [],
   "source": [
    "BERT_MODEL = 'bert-base-cased'"
   ]
  },
  {
   "cell_type": "code",
   "execution_count": null,
   "metadata": {},
   "outputs": [],
   "source": [
    "tokenizer = AutoTokenizer.from_pretrained(BERT_MODEL)"
   ]
  },
  {
   "cell_type": "code",
   "execution_count": null,
   "metadata": {},
   "outputs": [],
   "source": [
    "class BertClassifier(nn.Module):\n",
    "    def __init__(self, model_name, num_labels):\n",
    "        super(BertClassifier, self).__init__()\n",
    "        self.bert_model = AutoModel.from_pretrained(model_name)\n",
    "\n",
    "        self.linear = nn.Linear(self.bert_model.config.hidden_size, num_labels)\n",
    "\n",
    "        self.loss_function = torch.nn.CrossEntropyLoss()\n",
    "\n",
    "    def forward(self, input_ids, attention_mask, token_type_ids, label=None):\n",
    "        bert_out = self.bert_model(\n",
    "          input_ids=input_ids,\n",
    "          attention_mask=attention_mask,\n",
    "          token_type_ids=token_type_ids)\n",
    "        \n",
    "        logits = self.linear(bert_out.pooler_output)\n",
    "\n",
    "        loss = None\n",
    "        if label is not None:\n",
    "            loss = self.loss_function(logits, label)\n",
    "\n",
    "        return loss, logits"
   ]
  },
  {
   "cell_type": "code",
   "execution_count": null,
   "metadata": {},
   "outputs": [],
   "source": [
    "token_ids = tokenizer.encode('The best movie ever!')"
   ]
  },
  {
   "cell_type": "code",
   "execution_count": null,
   "metadata": {},
   "outputs": [],
   "source": [
    "token_ids"
   ]
  },
  {
   "cell_type": "code",
   "execution_count": null,
   "metadata": {},
   "outputs": [],
   "source": [
    "tokenizer.decode(token_ids)"
   ]
  },
  {
   "cell_type": "code",
   "execution_count": null,
   "metadata": {},
   "outputs": [],
   "source": [
    "result = tokenizer(\n",
    "    ['The best movie ever!', 'Aweful movie'],\n",
    "    max_length=10,\n",
    "    pad_to_max_length=True,\n",
    "    truncation=True,\n",
    "    return_tensors='pt')"
   ]
  },
  {
   "cell_type": "code",
   "execution_count": null,
   "metadata": {},
   "outputs": [],
   "source": [
    "result"
   ]
  },
  {
   "cell_type": "code",
   "execution_count": null,
   "metadata": {},
   "outputs": [],
   "source": [
    "result['input_ids']"
   ]
  },
  {
   "cell_type": "code",
   "execution_count": null,
   "metadata": {},
   "outputs": [],
   "source": [
    "result['token_type_ids']"
   ]
  },
  {
   "cell_type": "code",
   "execution_count": null,
   "metadata": {},
   "outputs": [],
   "source": [
    "result['attention_mask']"
   ]
  },
  {
   "cell_type": "code",
   "execution_count": null,
   "metadata": {},
   "outputs": [],
   "source": [
    "def read_dataset(file_path, batch_size, tokenizer, max_length):\n",
    "    batches = []\n",
    "    with open(file_path) as f:\n",
    "        texts = []\n",
    "        labels = []\n",
    "        for line in f:\n",
    "            text = line.strip()\n",
    "            label = int(text[1])\n",
    "            text = re.sub('\\)+', '', re.sub('\\(\\d ', '', text))\n",
    "            text = text.replace('-LRB-', '(').replace('-RRB-', ')')\n",
    "            \n",
    "            texts.append(text)\n",
    "            labels.append(label)\n",
    "\n",
    "            if len(texts) == batch_size:\n",
    "                batch = tokenizer(\n",
    "                    texts,\n",
    "                    max_length=max_length,\n",
    "                    pad_to_max_length=True,\n",
    "                    truncation=True,\n",
    "                    return_tensors='pt')\n",
    "                batch['label'] = torch.tensor(labels)\n",
    "                batches.append(batch)\n",
    "                \n",
    "                texts = []\n",
    "                labels = []\n",
    "        \n",
    "        if texts:\n",
    "            batch = tokenizer(\n",
    "                texts,\n",
    "                max_length=max_length,\n",
    "                pad_to_max_length=True,\n",
    "                truncation=True,\n",
    "                return_tensors='pt')\n",
    "            batch['label'] = torch.tensor(labels)\n",
    "            batches.append(batch)\n",
    "\n",
    "        return batches"
   ]
  },
  {
   "cell_type": "code",
   "execution_count": null,
   "metadata": {},
   "outputs": [],
   "source": [
    "train_data = read_dataset('train.txt', batch_size=32, tokenizer=tokenizer, max_length=128)\n",
    "dev_data = read_dataset('dev.txt', batch_size=32, tokenizer=tokenizer, max_length=128)"
   ]
  },
  {
   "cell_type": "code",
   "execution_count": null,
   "metadata": {},
   "outputs": [],
   "source": [
    "len(train_data), len(dev_data)"
   ]
  },
  {
   "cell_type": "code",
   "execution_count": null,
   "metadata": {},
   "outputs": [],
   "source": [
    "def move_to(batch, device):\n",
    "    for key in batch.keys():\n",
    "        batch[key] = batch[key].to(device)"
   ]
  },
  {
   "cell_type": "code",
   "execution_count": null,
   "metadata": {},
   "outputs": [],
   "source": [
    "model = BertClassifier(model_name=BERT_MODEL, num_labels=5).to(device)"
   ]
  },
  {
   "cell_type": "code",
   "execution_count": null,
   "metadata": {},
   "outputs": [],
   "source": [
    "move_to(dev_data[0], device)\n",
    "model(**dev_data[0])"
   ]
  },
  {
   "cell_type": "code",
   "execution_count": null,
   "metadata": {},
   "outputs": [],
   "source": [
    "epochs = 30\n",
    "optimizer = AdamW(model.parameters(), lr=1e-5)\n",
    "scheduler = get_cosine_schedule_with_warmup(\n",
    "    optimizer, num_warmup_steps=1000,\n",
    "    num_training_steps=len(train_data) * epochs)"
   ]
  },
  {
   "cell_type": "code",
   "execution_count": null,
   "metadata": {},
   "outputs": [],
   "source": [
    "for epoch in range(epochs):\n",
    "    print(f'epoch = {epoch}')\n",
    "    \n",
    "    model.train()\n",
    "\n",
    "    losses = []\n",
    "    total_instances = 0\n",
    "    correct_instances = 0\n",
    "    for batch in train_data:\n",
    "        batch_size = batch['input_ids'].size(0)\n",
    "        move_to(batch, device)\n",
    "\n",
    "        optimizer.zero_grad()\n",
    "        \n",
    "        loss, logits = model(**batch)\n",
    "        loss.backward()\n",
    "        optimizer.step()\n",
    "        scheduler.step()\n",
    "    \n",
    "        losses.append(loss)\n",
    "        \n",
    "        total_instances += batch_size\n",
    "        correct_instances += torch.sum(torch.argmax(logits, dim=-1) == batch['label']).item()\n",
    "    \n",
    "    avr_loss = sum(losses) / len(losses)\n",
    "    accuracy = correct_instances / total_instances\n",
    "    print(f'train loss = {avr_loss}, accuracy = {accuracy}')\n",
    "    \n",
    "    losses = []\n",
    "    total_instances = 0\n",
    "    correct_instances = 0\n",
    "    \n",
    "    model.eval()\n",
    "    for batch in dev_data:\n",
    "        batch_size = batch['input_ids'].size(0)\n",
    "        move_to(batch, device)\n",
    "\n",
    "        with torch.no_grad():\n",
    "            loss, logits = model(**batch)\n",
    "        \n",
    "        losses.append(loss)\n",
    "        \n",
    "        total_instances += batch_size\n",
    "        correct_instances += torch.sum(torch.argmax(logits, dim=-1) == batch['label']).item()\n",
    "\n",
    "    avr_loss = sum(losses) / len(losses)\n",
    "    accuracy = correct_instances / total_instances\n",
    "    \n",
    "    print(f'dev loss = {avr_loss}, accuracy = {accuracy}')"
   ]
  },
  {
   "cell_type": "code",
   "execution_count": null,
   "metadata": {},
   "outputs": [],
   "source": []
  }
 ],
 "metadata": {
  "kernelspec": {
   "display_name": "Python 3",
   "language": "python",
   "name": "python3"
  },
  "language_info": {
   "codemirror_mode": {
    "name": "ipython",
    "version": 3
   },
   "file_extension": ".py",
   "mimetype": "text/x-python",
   "name": "python",
   "nbconvert_exporter": "python",
   "pygments_lexer": "ipython3",
   "version": "3.6.9"
  }
 },
 "nbformat": 4,
 "nbformat_minor": 4
}

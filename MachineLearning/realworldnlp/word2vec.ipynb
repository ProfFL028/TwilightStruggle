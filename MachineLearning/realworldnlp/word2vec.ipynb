{
 "cells": [
  {
   "cell_type": "code",
   "execution_count": 61,
   "metadata": {
    "collapsed": true,
    "pycharm": {
     "name": "#%%\n"
    }
   },
   "outputs": [],
   "source": [
    "vocabulary_hash_size = 30000000\n",
    "\n",
    "\n",
    "class Vocabulary(object):\n",
    "    \"\"\"\n",
    "    store vocabulary in huffman tree\n",
    "    \"\"\"\n",
    "\n",
    "    def __init__(self, word):\n",
    "        self.counter = 0  # vocabulary disappear counter\n",
    "        self.path = list()  # path to huffman tree node\n",
    "        self.word = word  # word\n",
    "        self.huffman_code = list  # huffman code\n",
    "        self.codeLen = 0  # huffman code length\n",
    "\n",
    "    def __hash__(self):\n",
    "        return hash(self.word) % vocabulary_hash_size\n",
    "\n",
    "    def __str__(self):\n",
    "        return \"%s(%d)\" % (self.word, self.counter)"
   ]
  },
  {
   "cell_type": "code",
   "execution_count": 62,
   "outputs": [
    {
     "name": "stdout",
     "output_type": "stream",
     "text": [
      "28128819\n",
      "28128819\n"
     ]
    }
   ],
   "source": [
    "voc = Vocabulary(\"中国\")\n",
    "print(hash(voc))\n",
    "print(hash(\"中国\") % vocabulary_hash_size)\n"
   ],
   "metadata": {
    "collapsed": false,
    "pycharm": {
     "name": "#%%\n"
    }
   }
  },
  {
   "cell_type": "code",
   "execution_count": 63,
   "outputs": [],
   "source": [
    "import math\n",
    "\n",
    "EXP_TABLE_SIZE = 1000\n",
    "MAX_EXP = 6\n",
    "EXP_TABLE = [math.exp((i / EXP_TABLE_SIZE * 2 - 1) * MAX_EXP) for i in range(1000)]\n",
    "EXP_TABLE = [x / (x + 1) for x in EXP_TABLE]"
   ],
   "metadata": {
    "collapsed": false,
    "pycharm": {
     "name": "#%%\n"
    }
   }
  },
  {
   "cell_type": "code",
   "execution_count": 64,
   "outputs": [
    {
     "data": {
      "text/plain": "1"
     },
     "execution_count": 64,
     "metadata": {},
     "output_type": "execute_result"
    }
   ],
   "source": [
    "vocabularies = []\n",
    "vocabulary_hash = [-1 for i in range(vocabulary_hash_size)]\n",
    "vocabularies_size = 0\n",
    "\n",
    "\n",
    "def add_word_to_hash(word):\n",
    "    global vocabularies_size\n",
    "\n",
    "    word_voc = Vocabulary(word)\n",
    "    vocabularies.append(word_voc)\n",
    "    hash_idx = hash(word_voc)\n",
    "    while vocabulary_hash[hash_idx] != -1:\n",
    "        hash_idx = (hash_idx + 1) % vocabulary_hash_size\n",
    "    vocabulary_hash[hash_idx] = vocabularies_size\n",
    "    vocabularies_size = vocabularies_size + 1\n",
    "\n",
    "    return vocabularies_size\n",
    "\n",
    "\n",
    "add_word_to_hash(\"NL\")"
   ],
   "metadata": {
    "collapsed": false,
    "pycharm": {
     "name": "#%%\n"
    }
   }
  },
  {
   "cell_type": "code",
   "execution_count": 65,
   "outputs": [
    {
     "name": "stdout",
     "output_type": "stream",
     "text": [
      "1\n",
      "NL\n",
      "0\n",
      "0\n"
     ]
    }
   ],
   "source": [
    "print(len(vocabularies))\n",
    "print(vocabularies[0].word)\n",
    "print(vocabulary_hash[hash(vocabularies[0])])\n",
    "print(vocabulary_hash[hash(\"NL\") % vocabulary_hash_size])"
   ],
   "metadata": {
    "collapsed": false,
    "pycharm": {
     "name": "#%%\n"
    }
   }
  },
  {
   "cell_type": "code",
   "execution_count": 66,
   "outputs": [],
   "source": [
    "def search_word(word):\n",
    "    hash_idx = hash(word) % vocabulary_hash_size\n",
    "    while True:\n",
    "        if vocabulary_hash[hash_idx] == -1:\n",
    "            return -1\n",
    "        if vocabularies[vocabulary_hash[hash_idx]].word == word:\n",
    "            return vocabulary_hash[hash_idx]\n",
    "        hash_idx = (hash_idx + 1) % vocabulary_hash_size"
   ],
   "metadata": {
    "collapsed": false,
    "pycharm": {
     "name": "#%%\n"
    }
   }
  },
  {
   "cell_type": "code",
   "execution_count": 23,
   "outputs": [
    {
     "name": "stdout",
     "output_type": "stream",
     "text": [
      "search NL: 0\n",
      "search 中国: -1\n"
     ]
    }
   ],
   "source": [
    "print(\"search %s: %d\" % (\"NL\", search_word(\"NL\")))\n",
    "print(\"search %s: %d\" % (\"中国\", search_word(\"中国\")))"
   ],
   "metadata": {
    "collapsed": false,
    "pycharm": {
     "name": "#%%\n"
    }
   }
  },
  {
   "cell_type": "code",
   "execution_count": 67,
   "outputs": [],
   "source": [
    "def reduceVocabulary(min_reduce=5):\n",
    "    global vocabularies, vocabulary_hash, vocabularies_size\n",
    "    new_idx = 0\n",
    "    for (idx, v) in enumerate(vocabularies):\n",
    "        if v.counter > min_reduce:\n",
    "            vocabularies[new_idx] = v\n",
    "            new_idx += 1\n",
    "    vocabularies = vocabularies[:new_idx]\n",
    "    vocabularies_size = new_idx\n",
    "\n",
    "    vocabulary_hash = [-1 for _ in range(vocabulary_hash_size)]\n",
    "    for (idx, v) in enumerate(vocabularies):\n",
    "        hash_idx = hash(v)\n",
    "        while vocabulary_hash[hash_idx] != -1:\n",
    "            hash_idx = hash_idx + 1\n",
    "        vocabulary_hash[hash_idx] = idx"
   ],
   "metadata": {
    "collapsed": false,
    "pycharm": {
     "name": "#%%\n"
    }
   }
  },
  {
   "cell_type": "code",
   "execution_count": 25,
   "outputs": [
    {
     "name": "stdout",
     "output_type": "stream",
     "text": [
      "0\n",
      "1\n",
      "-1\n"
     ]
    },
    {
     "data": {
      "text/plain": "1"
     },
     "execution_count": 25,
     "metadata": {},
     "output_type": "execute_result"
    }
   ],
   "source": [
    " # test reduce\n",
    "add_word_to_hash(\"中国\")\n",
    "vocabularies[0].counter = 9\n",
    "add_word_to_hash(\"浙江\")\n",
    "vocabularies[2].counter = 7\n",
    "reduceVocabulary()\n",
    "print(vocabulary_hash[hash('NL') % vocabulary_hash_size])\n",
    "print(vocabulary_hash[hash('浙江') % vocabulary_hash_size])\n",
    "print(vocabulary_hash[hash('中国') % vocabulary_hash_size])\n",
    "reduceVocabulary(999999)\n",
    "add_word_to_hash(\"NL\")\n"
   ],
   "metadata": {
    "collapsed": false,
    "pycharm": {
     "name": "#%%\n"
    }
   }
  },
  {
   "cell_type": "code",
   "execution_count": 68,
   "outputs": [
    {
     "name": "stdout",
     "output_type": "stream",
     "text": [
      "trained words count: 10000\n",
      "trained words count: 20000\n",
      "trained words count: 30000\n",
      "trained words count: 40000\n",
      "trained words count: 50000\n",
      "trained words count: 60000\n",
      "trained words count: 70000\n",
      "trained words count: 80000\n",
      "trained words count: 90000\n",
      "trained words count: 100000\n",
      "trained words count: 110000\n",
      "trained words count: 120000\n",
      "trained words count: 130000\n",
      "trained words count: 140000\n",
      "trained words count: 150000\n",
      "trained words count: 160000\n",
      "trained words count: 170000\n"
     ]
    }
   ],
   "source": [
    "trained_words_count = 0\n",
    "reduceVocabulary(999999)\n",
    "add_word_to_hash(\"NL\")\n",
    "\n",
    "with open(file=\"./data/lines.csv\", mode=\"r\", encoding=\"utf-8\") as f:\n",
    "    line = f.readline()\n",
    "    while line:\n",
    "        line = f.readline()\n",
    "        words = line.strip().split(\" \")\n",
    "        for new_word in words:\n",
    "            word_idx = search_word(new_word)\n",
    "            if word_idx == -1:\n",
    "                add_word_to_hash(new_word)\n",
    "                vocabularies[-1].counter = 1\n",
    "            else:\n",
    "                vocabularies[word_idx].counter += 1\n",
    "\n",
    "            if vocabularies_size >= vocabulary_hash_size * 0.7:\n",
    "                reduceVocabulary()\n",
    "            trained_words_count += 1\n",
    "            if trained_words_count % 10000 == 0:\n",
    "                print(\"trained words count: %d\" % trained_words_count)\n",
    "        vocabularies[0].counter += 1"
   ],
   "metadata": {
    "collapsed": false,
    "pycharm": {
     "name": "#%%\n"
    }
   }
  },
  {
   "cell_type": "code",
   "execution_count": 69,
   "outputs": [
    {
     "name": "stdout",
     "output_type": "stream",
     "text": [
      "trained words count: 177352\n",
      "vocabularies count: 33042\n",
      "vocabularies[500]： 关怀(12)\n"
     ]
    }
   ],
   "source": [
    "print(\"trained words count: %d\" % trained_words_count)\n",
    "print(\"vocabularies count: %d\" % len(vocabularies))\n",
    "print(\"vocabularies[500]： %s\" % vocabularies[500])"
   ],
   "metadata": {
    "collapsed": false,
    "pycharm": {
     "name": "#%%\n"
    }
   }
  },
  {
   "cell_type": "code",
   "execution_count": 70,
   "outputs": [],
   "source": [
    "#buble sort descending vocabularies, exclude first element(NL)\n",
    "#use quicksort if not recursive maybe quicker\n",
    "def bubble(arr):\n",
    "    arr_len = len(arr)\n",
    "    while arr_len > 0:\n",
    "        for i in range(arr_len - 1):\n",
    "            if arr[i].counter < arr[i + 1].counter:\n",
    "                arr[i], arr[i + 1] = arr[i + 1], arr[i]\n",
    "        arr_len -= 1\n",
    "    return arr\n",
    "\n",
    "\n",
    "sorted_vocabularies = bubble(vocabularies[1:])\n"
   ],
   "metadata": {
    "collapsed": false,
    "pycharm": {
     "name": "#%%\n"
    }
   }
  },
  {
   "cell_type": "code",
   "execution_count": 29,
   "outputs": [
    {
     "name": "stdout",
     "output_type": "stream",
     "text": [
      "日(1429)\n"
     ]
    }
   ],
   "source": [
    "sorted_vocabularies.insert(0, vocabularies[0])\n",
    "print(sorted_vocabularies[1])"
   ],
   "metadata": {
    "collapsed": false,
    "pycharm": {
     "name": "#%%\n"
    }
   }
  },
  {
   "cell_type": "code",
   "execution_count": 30,
   "outputs": [],
   "source": [
    "# remove vocabularies that disappeared less than 5 times.\n",
    "min_reduce = 5\n",
    "vocabulary_hash = [-1 for _ in range(vocabulary_hash_size)]\n",
    "vocabularies_size = 0\n",
    "for (idx, voc) in enumerate(sorted_vocabularies):\n",
    "    if voc.counter >= min_reduce:\n",
    "        vocabulary_hash[hash(voc)] = idx\n",
    "    else:\n",
    "        vocabularies_size = idx\n",
    "        break\n",
    "sorted_vocabularies = sorted_vocabularies[:vocabularies_size]"
   ],
   "metadata": {
    "collapsed": false,
    "pycharm": {
     "name": "#%%\n"
    }
   }
  },
  {
   "cell_type": "code",
   "execution_count": 31,
   "outputs": [
    {
     "data": {
      "text/plain": "5720"
     },
     "execution_count": 31,
     "metadata": {},
     "output_type": "execute_result"
    }
   ],
   "source": [
    "len(sorted_vocabularies)"
   ],
   "metadata": {
    "collapsed": false,
    "pycharm": {
     "name": "#%%\n"
    }
   }
  },
  {
   "cell_type": "code",
   "execution_count": 58,
   "outputs": [
    {
     "name": "stdout",
     "output_type": "stream",
     "text": [
      "[1000000000000000.0, 1000000000000000.0, 1000000000000000.0, 1000000000000000.0, 1000000000000000.0, 1000000000000000.0, 1000000000000000.0, 1000000000000000.0, 1000000000000000.0, 1000000000000000.0]\n"
     ]
    }
   ],
   "source": [
    "arr_size = len(sorted_vocabularies)\n",
    "arr = [v.counter for v in sorted_vocabularies]\n",
    "\n",
    "count_arr = arr\n",
    "count_arr.extend([1e15 for i in range(arr_size)])"
   ],
   "metadata": {
    "collapsed": false,
    "pycharm": {
     "name": "#%%\n"
    }
   }
  },
  {
   "cell_type": "code",
   "execution_count": 59,
   "outputs": [],
   "source": [
    "# log(N) algorithm for generating huffman tree in sorted array\n",
    "pos1 = arr_size - 1\n",
    "pos2 = arr_size\n",
    "min1_idx, min2_idx = 0, 0\n",
    "parent_node = [0 for i in range(arr_size * 2 + 1)]\n",
    "binary = [0 for i in range(arr_size * 2 + 1)]\n",
    "for a in range(arr_size):\n",
    "    if pos1 >= 0:\n",
    "        if count_arr[pos1] < count_arr[pos2]:\n",
    "            min1_idx = pos1\n",
    "            pos1 -= 1\n",
    "        else:\n",
    "            min1_idx = pos2\n",
    "            pos2 += 1\n",
    "    else:\n",
    "        min1_idx = pos2\n",
    "        pos2 += 1\n",
    "\n",
    "    if pos1 >= 0:\n",
    "        if count_arr[pos1] < count_arr[pos2]:\n",
    "            min2_idx = pos1\n",
    "            pos1 -= 1\n",
    "        else:\n",
    "            min2_idx = pos2\n",
    "            pos2 += 1\n",
    "    else:\n",
    "        min2_idx = pos2\n",
    "        pos2 += 1\n",
    "    count_arr[arr_size + a] = count_arr[min1_idx] + count_arr[min2_idx]\n",
    "    parent_node[min1_idx] = arr_size + a\n",
    "    parent_node[min2_idx] = arr_size + a\n",
    "    binary[min2_idx] = 1"
   ],
   "metadata": {
    "collapsed": false,
    "pycharm": {
     "name": "#%%\n"
    }
   }
  },
  {
   "cell_type": "code",
   "execution_count": 75,
   "outputs": [],
   "source": [
    "count_arr[-10:]\n",
    "for a in range(arr_size):\n",
    "    b = a\n",
    "    code_len = 0\n",
    "    code = list()\n",
    "    path_point = list()\n",
    "    while True:\n",
    "        code.append(binary[b])\n",
    "        path_point.append(b)\n",
    "        code_len += 1\n",
    "        b = parent_node[b]\n",
    "        if b == (arr_size * 2 - 2):\n",
    "            break\n",
    "\n",
    "    sorted_vocabularies[a].codeLen = code_len\n",
    "    sorted_vocabularies[a].path = [0] * (code_len + 1)\n",
    "    sorted_vocabularies[a].huffman_code = [0] * code_len\n",
    "    sorted_vocabularies[a].path[0] = arr_size - 2\n",
    "    for b in range(code_len):\n",
    "        sorted_vocabularies[a].huffman_code[code_len - b - 1] = code[b]\n",
    "        sorted_vocabularies[a].path[code_len - b] = path_point[b] - arr_size"
   ],
   "metadata": {
    "collapsed": false,
    "pycharm": {
     "name": "#%%\n"
    }
   }
  },
  {
   "cell_type": "code",
   "execution_count": 78,
   "outputs": [
    {
     "data": {
      "text/plain": "[5718, 5717, 5715, 5711, 5702, -5720]"
     },
     "execution_count": 78,
     "metadata": {},
     "output_type": "execute_result"
    }
   ],
   "source": [
    "sorted_vocabularies[0].path"
   ],
   "metadata": {
    "collapsed": false,
    "pycharm": {
     "name": "#%%\n"
    }
   }
  },
  {
   "cell_type": "code",
   "execution_count": 86,
   "outputs": [
    {
     "data": {
      "text/plain": "[0, 0, 0, 0, 0, 0, 0, 0, 0, 0]"
     },
     "execution_count": 86,
     "metadata": {},
     "output_type": "execute_result"
    }
   ],
   "source": [
    "train_power = 0.0\n",
    "for v in sorted_vocabularies:\n",
    "    train_power += math.pow(v.counter, 0.75)"
   ],
   "metadata": {
    "collapsed": false,
    "pycharm": {
     "name": "#%%\n"
    }
   }
  },
  {
   "cell_type": "code",
   "execution_count": 90,
   "outputs": [
    {
     "data": {
      "text/plain": "[5, 5, 5, 5, 5]"
     },
     "execution_count": 90,
     "metadata": {},
     "output_type": "execute_result"
    }
   ],
   "source": [
    "# 负采样概率\n",
    "gambling_size = 1000000\n",
    "gambling_table = [0] * gambling_size\n",
    "i = 0\n",
    "d1 = math.pow(sorted_vocabularies[0].counter, 0.75) / train_power\n",
    "for a in range(gambling_size):\n",
    "    gambling_table[a] = i\n",
    "    if a / float(gambling_size) > d1:\n",
    "        i += 1\n",
    "        d1 += math.pow(sorted_vocabularies[i].counter, 0.75) / train_power\n",
    "    if i >= arr_size:\n",
    "        i = arr_size - 1\n",
    "\n",
    "gambling_table[10000:10005]"
   ],
   "metadata": {
    "collapsed": false,
    "pycharm": {
     "name": "#%%\n"
    }
   }
  },
  {
   "cell_type": "code",
   "execution_count": 91,
   "outputs": [
    {
     "data": {
      "text/plain": "[(5719, 428645),\n (0, 2501),\n (1, 2004),\n (2, 1887),\n (3, 1716),\n (4, 1541),\n (5, 1396),\n (6, 1386),\n (7, 1329),\n (8, 1161),\n (9, 1154),\n (10, 1107),\n (11, 1058),\n (12, 983),\n (13, 971),\n (14, 959),\n (15, 931),\n (16, 911),\n (17, 895),\n (19, 814),\n (18, 813),\n (20, 799),\n (21, 798),\n (22, 785),\n (23, 770),\n (24, 754),\n (25, 734),\n (26, 696),\n (27, 691),\n (28, 680),\n (29, 680),\n (30, 675),\n (31, 672),\n (32, 660),\n (33, 652),\n (34, 647),\n (35, 646),\n (36, 643),\n (37, 642),\n (38, 625),\n (39, 614),\n (40, 608),\n (41, 606),\n (42, 604),\n (43, 602),\n (44, 596),\n (45, 576),\n (46, 557),\n (47, 553),\n (48, 550),\n (50, 549),\n (49, 548),\n (51, 537),\n (52, 535),\n (53, 531),\n (54, 528),\n (55, 516),\n (56, 515),\n (57, 511),\n (58, 511),\n (59, 511),\n (61, 509),\n (60, 508),\n (62, 504),\n (63, 491),\n (65, 489),\n (64, 488),\n (66, 486),\n (67, 475),\n (68, 470),\n (69, 470),\n (70, 466),\n (72, 466),\n (71, 465),\n (73, 459),\n (75, 459),\n (74, 458),\n (76, 456),\n (77, 455),\n (78, 449),\n (79, 449),\n (80, 448),\n (81, 447),\n (82, 445),\n (84, 438),\n (83, 437),\n (85, 433),\n (86, 431),\n (87, 428),\n (88, 426),\n (89, 426),\n (90, 424),\n (91, 421),\n (92, 421),\n (93, 419),\n (94, 417),\n (95, 416),\n (98, 415),\n (96, 414),\n (97, 414),\n (99, 414),\n (100, 414),\n (101, 412),\n (102, 411),\n (103, 410),\n (104, 409),\n (105, 407),\n (106, 407),\n (107, 407),\n (108, 402),\n (109, 402),\n (110, 400),\n (111, 399),\n (112, 398),\n (113, 397),\n (114, 395),\n (115, 394),\n (116, 393),\n (117, 390),\n (118, 390),\n (119, 390),\n (120, 385),\n (121, 385),\n (122, 383),\n (124, 383),\n (125, 383),\n (123, 382),\n (126, 375),\n (127, 375),\n (128, 375),\n (129, 373),\n (130, 373),\n (132, 371),\n (131, 370),\n (135, 366),\n (133, 365),\n (134, 365),\n (136, 365),\n (137, 363),\n (138, 363),\n (139, 363),\n (140, 362),\n (141, 358),\n (142, 358),\n (143, 355),\n (144, 353),\n (145, 353),\n (146, 353),\n (147, 353),\n (148, 353),\n (152, 351),\n (149, 350),\n (150, 350),\n (151, 350),\n (153, 350),\n (154, 348),\n (155, 348),\n (157, 348),\n (158, 348),\n (159, 348),\n (156, 347),\n (160, 345),\n (161, 345),\n (162, 345),\n (163, 345),\n (164, 343),\n (165, 343),\n (166, 340),\n (167, 338),\n (168, 335),\n (169, 335),\n (170, 335),\n (172, 333),\n (171, 332),\n (174, 330),\n (173, 329),\n (175, 328),\n (178, 328),\n (176, 327),\n (177, 327),\n (180, 325),\n (181, 325),\n (179, 324),\n (182, 324),\n (183, 323),\n (185, 320),\n (187, 320),\n (189, 320),\n (184, 319),\n (186, 319),\n (188, 319),\n (190, 317),\n (192, 317),\n (193, 317),\n (191, 316),\n (194, 315),\n (197, 315),\n (195, 314),\n (196, 314),\n (198, 314),\n (199, 314),\n (200, 312),\n (202, 312),\n (201, 311),\n (203, 309),\n (204, 309),\n (205, 309),\n (206, 309),\n (207, 307),\n (209, 307),\n (212, 307),\n (208, 306),\n (210, 306),\n (211, 306),\n (214, 304),\n (215, 304),\n (216, 304),\n (213, 303),\n (217, 301),\n (218, 301),\n (219, 301),\n (220, 299),\n (223, 299),\n (221, 298),\n (222, 298),\n (224, 298),\n (225, 296),\n (226, 296),\n (227, 296),\n (229, 296),\n (230, 296),\n (231, 296),\n (232, 296),\n (228, 295),\n (233, 293),\n (234, 293),\n (235, 293),\n (237, 291),\n (239, 291),\n (236, 290),\n (238, 290),\n (241, 288),\n (242, 288),\n (240, 287),\n (243, 287),\n (244, 285),\n (245, 285),\n (246, 283),\n (249, 283),\n (247, 282),\n (248, 282),\n (251, 280),\n (252, 280),\n (254, 280),\n (256, 280),\n (250, 279),\n (253, 279),\n (255, 279),\n (257, 279),\n (258, 277),\n (259, 277),\n (260, 277),\n (261, 277),\n (266, 275),\n (262, 274),\n (263, 274),\n (264, 274),\n (265, 274),\n (267, 274),\n (268, 274),\n (270, 272),\n (273, 272),\n (269, 271),\n (271, 271),\n (272, 271),\n (275, 269),\n (276, 269),\n (278, 269),\n (274, 268),\n (277, 268),\n (279, 266),\n (280, 266),\n (281, 265),\n (282, 264),\n (283, 263),\n (284, 263),\n (285, 263),\n (288, 261),\n (291, 261),\n (294, 261),\n (286, 260),\n (287, 260),\n (289, 260),\n (290, 260),\n (292, 260),\n (293, 260),\n (296, 258),\n (298, 258),\n (300, 258),\n (295, 257),\n (297, 257),\n (299, 257),\n (302, 255),\n (303, 255),\n (305, 255),\n (306, 255),\n (301, 254),\n (304, 254),\n (307, 252),\n (308, 252),\n (309, 252),\n (311, 252),\n (312, 252),\n (313, 252),\n (314, 252),\n (315, 252),\n (316, 252),\n (317, 252),\n (318, 252),\n (310, 251),\n (319, 249),\n (320, 249),\n (321, 249),\n (322, 246),\n (323, 246),\n (324, 246),\n (325, 244),\n (327, 244),\n (330, 244),\n (326, 243),\n (328, 243),\n (329, 243),\n (332, 241),\n (334, 241),\n (336, 241),\n (338, 241),\n (339, 241),\n (331, 240),\n (333, 240),\n (335, 240),\n (337, 240),\n (341, 238),\n (343, 238),\n (344, 238),\n (346, 238),\n (347, 238),\n (340, 237),\n (342, 237),\n (345, 237),\n (348, 237),\n (349, 235),\n (350, 235),\n (351, 235),\n (352, 235),\n (354, 235),\n (355, 235),\n (356, 235),\n (358, 235),\n (359, 235),\n (353, 234),\n (357, 234),\n (360, 232),\n (361, 232),\n (362, 232),\n (363, 232),\n (365, 232),\n (366, 232),\n (364, 231),\n (367, 229),\n (368, 229),\n (369, 229),\n (370, 229),\n (371, 229),\n (372, 229),\n (373, 229),\n (374, 229),\n (375, 229),\n (376, 229),\n (385, 227),\n (377, 226),\n (378, 226),\n (379, 226),\n (380, 226),\n (381, 226),\n (382, 226),\n (383, 226),\n (384, 226),\n (386, 226),\n (387, 226),\n (394, 224),\n (388, 223),\n (389, 223),\n (390, 223),\n (391, 223),\n (392, 223),\n (393, 223),\n (395, 223),\n (396, 223),\n (400, 221),\n (397, 220),\n (398, 220),\n (399, 220),\n (401, 220),\n (402, 220),\n (403, 220),\n (404, 220),\n (405, 218),\n (409, 218),\n (414, 218),\n (406, 217),\n (407, 217),\n (408, 217),\n (410, 217),\n (411, 217),\n (412, 217),\n (413, 217),\n (415, 217),\n (416, 217),\n (418, 215),\n (421, 215),\n (425, 215),\n (417, 214),\n (419, 214),\n (420, 214),\n (422, 214),\n (423, 214),\n (424, 214),\n (426, 214),\n (427, 214),\n (428, 214),\n (429, 212),\n (432, 212),\n (436, 212),\n (439, 212),\n (443, 212),\n (430, 211),\n (431, 211),\n (433, 211),\n (434, 211),\n (435, 211),\n (437, 211),\n (438, 211),\n (440, 211),\n (441, 211),\n (442, 211),\n (444, 211),\n (445, 211),\n (447, 209),\n (450, 209),\n (454, 209),\n (457, 209),\n (461, 209),\n (446, 208),\n (448, 208),\n (449, 208),\n (451, 208),\n (452, 208),\n (453, 208),\n (455, 208),\n (456, 208),\n (458, 208),\n (459, 208),\n (460, 208),\n (462, 208),\n (463, 208),\n (464, 206),\n (468, 206),\n (471, 206),\n (465, 205),\n (466, 205),\n (467, 205),\n (469, 205),\n (470, 205),\n (472, 205),\n (475, 203),\n (479, 203),\n (483, 203),\n (487, 203),\n (491, 203),\n (473, 202),\n (474, 202),\n (476, 202),\n (477, 202),\n (478, 202),\n (480, 202),\n (481, 202),\n (482, 202),\n (484, 202),\n (485, 202),\n (486, 202),\n (488, 202),\n (489, 202),\n (490, 202),\n (492, 202),\n (496, 200),\n (501, 200),\n (506, 200),\n (493, 199),\n (494, 199),\n (495, 199),\n (497, 199),\n (498, 199),\n (499, 199),\n (500, 199),\n (502, 199),\n (503, 199),\n (504, 199),\n (505, 199),\n (507, 199),\n (508, 199),\n (509, 199),\n (511, 197),\n (517, 197),\n (524, 197),\n (510, 196),\n (512, 196),\n (513, 196),\n (514, 196),\n (515, 196),\n (516, 196),\n (518, 196),\n (519, 196),\n (520, 196),\n (521, 196),\n (522, 196),\n (523, 196),\n (525, 196),\n (535, 194),\n (526, 193),\n (527, 193),\n (528, 193),\n (529, 193),\n (530, 193),\n (531, 193),\n (532, 193),\n (533, 193),\n (534, 193),\n (536, 193),\n (537, 193),\n (538, 193),\n (539, 193),\n (540, 190),\n (541, 190),\n (542, 190),\n (543, 190),\n (544, 190),\n (545, 190),\n (546, 190),\n (547, 190),\n (548, 190),\n (549, 190),\n (550, 190),\n (551, 190),\n (552, 190),\n (553, 190),\n (554, 190),\n (555, 190),\n (556, 187),\n (558, 187),\n (559, 187),\n (560, 187),\n (561, 187),\n (562, 187),\n (563, 187),\n (564, 187),\n (566, 187),\n (567, 187),\n (568, 187),\n (569, 187),\n (570, 187),\n (571, 187),\n (572, 187),\n (574, 187),\n (557, 186),\n (565, 186),\n (573, 186),\n (575, 184),\n (576, 184),\n (577, 184),\n (579, 184),\n (580, 184),\n (581, 184),\n (583, 184),\n (584, 184),\n (585, 184),\n (587, 184),\n (588, 184),\n (589, 184),\n (578, 183),\n (582, 183),\n (586, 183),\n (591, 181),\n (592, 181),\n (594, 181),\n (596, 181),\n (597, 181),\n (599, 181),\n (600, 181),\n (602, 181),\n (604, 181),\n (590, 180),\n (593, 180),\n (595, 180),\n (598, 180),\n (601, 180),\n (603, 180),\n (606, 178),\n (608, 178),\n (610, 178),\n (612, 178),\n (614, 178),\n (616, 178),\n (619, 178),\n (621, 178),\n (623, 178),\n (625, 178),\n (627, 178),\n (605, 177),\n (607, 177),\n (609, 177),\n (611, 177),\n (613, 177),\n (615, 177),\n (617, 177),\n (618, 177),\n (620, 177),\n (622, 177),\n (624, 177),\n (626, 177),\n (628, 177),\n (629, 177),\n (630, 175),\n (633, 175),\n (637, 175),\n (640, 175),\n (631, 174),\n (632, 174),\n (634, 174),\n (635, 174),\n (636, 174),\n (638, 174),\n (639, 174),\n (641, 174),\n (642, 174),\n (643, 174),\n (645, 172),\n (657, 172),\n (670, 172),\n (644, 171),\n (646, 171),\n (647, 171),\n (648, 171),\n (649, 171),\n (650, 171),\n (651, 171),\n (652, 171),\n (653, 171),\n (654, 171),\n (655, 171),\n (656, 171),\n (658, 171),\n (659, 171),\n (660, 171),\n (661, 171),\n (662, 171),\n (663, 171),\n (664, 171),\n (665, 171),\n (666, 171),\n (667, 171),\n (668, 171),\n (669, 171),\n (672, 168),\n (673, 168),\n (674, 168),\n (675, 168),\n (676, 168),\n (677, 168),\n (679, 168),\n (680, 168),\n (681, 168),\n (682, 168),\n (683, 168),\n (684, 168),\n (685, 168),\n (687, 168),\n (688, 168),\n (689, 168),\n (690, 168),\n (691, 168),\n (692, 168),\n (694, 168),\n (671, 167),\n (678, 167),\n (686, 167),\n (693, 167),\n (695, 165),\n (696, 165),\n (698, 165),\n (700, 165),\n (701, 165),\n (703, 165),\n (704, 165),\n (706, 165),\n (708, 165),\n (709, 165),\n (711, 165),\n (712, 165),\n (714, 165),\n (716, 165),\n (717, 165),\n (697, 164),\n (699, 164),\n (702, 164),\n (705, 164),\n (707, 164),\n (710, 164),\n (713, 164),\n (715, 164),\n (718, 164),\n (719, 162),\n (722, 162),\n (725, 162),\n (727, 162),\n (730, 162),\n (733, 162),\n (735, 162),\n (738, 162),\n (720, 161),\n (721, 161),\n (723, 161),\n (724, 161),\n (726, 161),\n (728, 161),\n (729, 161),\n (731, 161),\n (732, 161),\n (734, 161),\n (736, 161),\n (737, 161),\n (739, 161),\n (746, 159),\n (758, 159),\n (740, 158),\n (741, 158),\n (742, 158),\n (743, 158),\n (744, 158),\n (745, 158),\n (747, 158),\n (748, 158),\n (749, 158),\n (750, 158),\n (751, 158),\n (752, 158),\n (753, 158),\n (754, 158),\n (755, 158),\n (756, 158),\n (757, 158),\n (759, 158),\n (760, 158),\n (761, 158),\n (762, 158),\n (763, 155),\n (765, 155),\n (766, 155),\n (767, 155),\n (768, 155),\n (770, 155),\n (771, 155),\n (772, 155),\n (774, 155),\n (775, 155),\n (776, 155),\n (777, 155),\n (779, 155),\n (780, 155),\n (781, 155),\n (783, 155),\n (784, 155),\n (785, 155),\n (786, 155),\n (788, 155),\n (789, 155),\n (790, 155),\n (792, 155),\n (793, 155),\n (794, 155),\n (795, 155),\n (797, 155),\n (798, 155),\n (799, 155),\n (764, 154),\n (769, 154),\n (773, 154),\n (778, 154),\n (782, 154),\n (787, 154),\n (791, 154),\n (796, 154),\n (800, 154),\n (801, 152),\n (803, 152),\n (805, 152),\n (807, 152),\n (810, 152),\n (812, 152),\n (814, 152),\n (816, 152),\n (818, 152),\n (821, 152),\n (823, 152),\n (825, 152),\n (827, 152),\n (830, 152),\n (832, 152),\n (802, 151),\n (804, 151),\n (806, 151),\n (808, 151),\n (809, 151),\n (811, 151),\n (813, 151),\n (815, 151),\n (817, 151),\n (819, 151),\n (820, 151),\n (822, 151),\n (824, 151),\n (826, 151),\n (828, 151),\n (829, 151),\n (831, 151),\n (840, 149),\n (850, 149),\n (860, 149),\n (833, 148),\n (834, 148),\n (835, 148),\n (836, 148),\n (837, 148),\n (838, 148),\n (839, 148),\n (841, 148),\n (842, 148),\n (843, 148),\n (844, 148),\n (845, 148),\n (846, 148),\n (847, 148),\n (848, 148),\n (849, 148),\n (851, 148),\n (852, 148),\n (853, 148),\n (854, 148),\n (855, 148),\n (856, 148),\n (857, 148),\n (858, 148),\n (859, 148),\n (861, 148),\n (862, 148),\n (863, 148),\n (864, 148),\n (865, 148),\n (866, 145),\n (868, 145),\n (869, 145),\n (870, 145),\n (872, 145),\n (873, 145),\n (875, 145),\n (876, 145),\n (877, 145),\n (879, 145),\n (880, 145),\n (882, 145),\n (883, 145),\n (884, 145),\n (886, 145),\n (887, 145),\n (889, 145),\n (890, 145),\n (891, 145),\n (893, 145),\n (894, 145),\n (867, 144),\n (871, 144),\n (874, 144),\n (878, 144),\n (881, 144),\n (885, 144),\n (888, 144),\n (892, 144),\n (897, 142),\n (900, 142),\n (903, 142),\n (906, 142),\n (910, 142),\n (913, 142),\n (916, 142),\n (919, 142),\n (922, 142),\n (926, 142),\n (929, 142),\n (932, 142),\n (895, 141),\n (896, 141),\n (898, 141),\n (899, 141),\n (901, 141),\n (902, 141),\n (904, 141),\n (905, 141),\n (907, 141),\n (908, 141),\n (909, 141),\n (911, 141),\n (912, 141),\n (914, 141),\n (915, 141),\n (917, 141),\n (918, 141),\n (920, 141),\n (921, 141),\n (923, 141),\n (924, 141),\n (925, 141),\n (927, 141),\n (928, 141),\n (930, 141),\n (931, 141),\n (933, 141),\n (934, 138),\n (935, 138),\n (936, 138),\n (938, 138),\n (939, 138),\n (940, 138),\n (941, 138),\n (942, 138),\n (943, 138),\n (944, 138),\n (945, 138),\n (947, 138),\n (948, 138),\n (949, 138),\n (950, 138),\n (951, 138),\n (952, 138),\n (953, 138),\n (955, 138),\n (956, 138),\n (957, 138),\n (958, 138),\n (959, 138),\n (960, 138),\n (961, 138),\n (963, 138),\n (964, 138),\n (965, 138),\n (966, 138),\n (967, 138),\n (968, 138),\n (969, 138),\n (971, 138),\n (937, 137),\n (946, 137),\n (954, 137),\n (962, 137),\n (970, 137),\n (972, 135),\n (974, 135),\n (977, 135),\n (979, 135),\n (981, 135),\n (984, 135),\n (986, 135),\n (989, 135),\n (991, 135),\n (993, 135),\n (996, 135),\n (998, 135),\n (1001, 135),\n (1003, 135),\n (1005, 135),\n (1008, 135),\n (973, 134),\n (975, 134),\n (976, 134),\n (978, 134),\n (980, 134),\n (982, 134),\n (983, 134),\n (985, 134),\n (987, 134),\n (988, 134),\n (990, 134),\n ...]"
     },
     "execution_count": 91,
     "metadata": {},
     "output_type": "execute_result"
    }
   ],
   "source": [],
   "metadata": {
    "collapsed": false,
    "pycharm": {
     "name": "#%%\n"
    }
   }
  }
 ],
 "metadata": {
  "kernelspec": {
   "display_name": "Python 3",
   "language": "python",
   "name": "python3"
  },
  "language_info": {
   "codemirror_mode": {
    "name": "ipython",
    "version": 2
   },
   "file_extension": ".py",
   "mimetype": "text/x-python",
   "name": "python",
   "nbconvert_exporter": "python",
   "pygments_lexer": "ipython2",
   "version": "2.7.6"
  }
 },
 "nbformat": 4,
 "nbformat_minor": 0
}
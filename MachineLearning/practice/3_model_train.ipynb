{
 "cells": [
  {
   "cell_type": "code",
   "execution_count": 8,
   "metadata": {
    "collapsed": true
   },
   "outputs": [],
   "source": [
    "import matplotlib.pyplot as plt\n",
    "import numpy as np\n",
    "import pandas as pd"
   ]
  },
  {
   "cell_type": "code",
   "execution_count": 9,
   "outputs": [],
   "source": [
    "data = pd.read_csv(\"./data/features3_train_2.csv\")\n",
    "X = data[data.columns[:-1]]\n",
    "y = data['VV']"
   ],
   "metadata": {
    "collapsed": false,
    "pycharm": {
     "name": "#%%\n"
    }
   }
  },
  {
   "cell_type": "code",
   "execution_count": 10,
   "outputs": [],
   "source": [
    "random_seed = 42\n",
    "from sklearn.model_selection import train_test_split\n",
    "X_train, X_valid, y_train, y_valid = train_test_split(X, y, test_size=0.25, random_state=random_seed)"
   ],
   "metadata": {
    "collapsed": false,
    "pycharm": {
     "name": "#%%\n"
    }
   }
  },
  {
   "cell_type": "code",
   "execution_count": 12,
   "outputs": [
    {
     "data": {
      "text/plain": "0    19170\n1    19170\nName: VV, dtype: int64"
     },
     "execution_count": 12,
     "metadata": {},
     "output_type": "execute_result"
    }
   ],
   "source": [
    "from imblearn.over_sampling import SMOTE, BorderlineSMOTE,SVMSMOTE\n",
    "oversample = SVMSMOTE()\n",
    "X_over, y_over = oversample.fit_resample(X_train, y_train)\n",
    "y_over.value_counts()"
   ],
   "metadata": {
    "collapsed": false,
    "pycharm": {
     "name": "#%%\n"
    }
   }
  },
  {
   "cell_type": "code",
   "execution_count": 15,
   "outputs": [
    {
     "name": "stdout",
     "output_type": "stream",
     "text": [
      "0.9234571715455318\n",
      "0.26140567200986436\n"
     ]
    }
   ],
   "source": [
    "from sklearn.ensemble import RandomForestClassifier\n",
    "model = RandomForestClassifier(n_estimators=50, min_samples_leaf=1000, random_state=42)\n",
    "model.fit(X_over, y_over)\n",
    "\n",
    "y_train_pred = model.predict(X_over)\n",
    "y_valid_pred = model.predict(X_valid)\n",
    "\n",
    "from sklearn.metrics import f1_score\n",
    "print(f1_score(y_over, y_train_pred))\n",
    "print(f1_score(y_valid, y_valid_pred))"
   ],
   "metadata": {
    "collapsed": false,
    "pycharm": {
     "name": "#%%\n"
    }
   }
  },
  {
   "cell_type": "code",
   "execution_count": 17,
   "outputs": [
    {
     "name": "stdout",
     "output_type": "stream",
     "text": [
      "{'n_estimators': [10, 64, 118, 173, 227, 282, 336, 391, 445, 500], 'min_samples_split': [2, 5, 10], 'min_samples_leaf': [100, 200, 300, 400, 500, 600, 700, 800, 900, 1000]}\n"
     ]
    }
   ],
   "source": [
    "from sklearn.model_selection import GridSearchCV\n",
    "# Number of trees in random forest\n",
    "n_estimators = [int(x) for x in np.linspace(start = 10, stop = 500, num = 10)]\n",
    "# Minimum number of samples required to split a node\n",
    "min_samples_split = [2, 5, 10]\n",
    "# Minimum number of samples required at each leaf node\n",
    "min_samples_leaf = [int(x) for x in np.linspace(start=100, stop=1000, num=10)]\n",
    "# Create the random grid\n",
    "random_grid = {'n_estimators': n_estimators,\n",
    "               'min_samples_split': min_samples_split,\n",
    "               'min_samples_leaf': min_samples_leaf}\n",
    "print(random_grid)"
   ],
   "metadata": {
    "collapsed": false,
    "pycharm": {
     "name": "#%%\n"
    }
   }
  },
  {
   "cell_type": "code",
   "execution_count": 20,
   "outputs": [
    {
     "name": "stdout",
     "output_type": "stream",
     "text": [
      "Fitting 5 folds for each of 300 candidates, totalling 1500 fits\n"
     ]
    },
    {
     "data": {
      "text/plain": "GridSearchCV(cv=5,\n             estimator=RandomForestClassifier(min_samples_leaf=1000,\n                                              n_estimators=50,\n                                              random_state=42),\n             n_jobs=-1,\n             param_grid={'min_samples_leaf': [100, 200, 300, 400, 500, 600, 700,\n                                              800, 900, 1000],\n                         'min_samples_split': [2, 5, 10],\n                         'n_estimators': [10, 64, 118, 173, 227, 282, 336, 391,\n                                          445, 500]},\n             scoring='f1_weighted', verbose=2)"
     },
     "execution_count": 20,
     "metadata": {},
     "output_type": "execute_result"
    }
   ],
   "source": [
    "# Random search of parameters, using 3 fold cross validation,\n",
    "# search across 100 different combinations, and use all available cores\n",
    "rfc_gs = GridSearchCV(estimator = model, param_grid=random_grid, cv = 5, verbose=2, n_jobs = -1, scoring='f1_weighted',)\n",
    "# Fit the random search model\n",
    "rfc_gs.fit(X_over, y_over)"
   ],
   "metadata": {
    "collapsed": false,
    "pycharm": {
     "name": "#%%\n"
    }
   }
  },
  {
   "cell_type": "code",
   "execution_count": 12,
   "outputs": [
    {
     "data": {
      "text/plain": "<Figure size 180x180 with 1 Axes>",
      "image/png": "[encoded data removed]"
     },
     "metadata": {
      "needs_background": "light"
     },
     "output_type": "display_data"
    }
   ],
   "source": [
    "from sklearn.metrics import confusion_matrix\n",
    "\n",
    "confmt = confusion_matrix(y_true=y_valid, y_pred=y_valid_pred)\n",
    "import matplotlib.pyplot as plt\n",
    "fig, ax = plt.subplots(figsize=(2.5, 2.5))\n",
    "ax.matshow(confmt, cmap=plt.cm.Blues, alpha=0.3)\n",
    "for i in range(confmt.shape[0]):\n",
    "    for j in range(confmt.shape[1]):\n",
    "        ax.text(x=j, y=i, s=confmt[i, j], va='center', ha='center')\n",
    "plt.xlabel(\"predicted label\")\n",
    "plt.ylabel(\"true label\")\n",
    "plt.show()"
   ],
   "metadata": {
    "collapsed": false,
    "pycharm": {
     "name": "#%%\n"
    }
   }
  },
  {
   "cell_type": "code",
   "execution_count": 13,
   "outputs": [
    {
     "name": "stderr",
     "output_type": "stream",
     "text": [
      "/opt/anaconda3/lib/python3.8/site-packages/xgboost/sklearn.py:888: UserWarning: The use of label encoder in XGBClassifier is deprecated and will be removed in a future release. To remove this warning, do the following: 1) Pass option use_label_encoder=False when constructing XGBClassifier object; and 2) Encode your labels (y) as integers starting with 0, i.e. 0, 1, 2, ..., [num_class - 1].\n",
      "  warnings.warn(label_encoder_deprecation_msg, UserWarning)\n"
     ]
    }
   ],
   "source": [
    "from xgboost.sklearn import XGBClassifier\n",
    "model = XGBClassifier( learning_rate =0.1,n_estimators=1000,max_depth=5,\n",
    " min_child_weight=20,\n",
    " gamma=0,\n",
    " subsample=0.6,\n",
    " colsample_bytree=0.8,\n",
    " #objective= 'binary:logistic',\n",
    " nthread=4,\n",
    " scale_pos_weight=1,\n",
    " seed=27)\n",
    "model.fit(X_over, y_over,eval_metric='auc')\n",
    "train_pred = model.predict(X_train)\n",
    "test_pred = model.predict(X_valid)"
   ],
   "metadata": {
    "collapsed": false,
    "pycharm": {
     "name": "#%%\n"
    }
   }
  },
  {
   "cell_type": "code",
   "execution_count": 14,
   "outputs": [
    {
     "name": "stdout",
     "output_type": "stream",
     "text": [
      "0.7999999999999999\n",
      "0.2830188679245283\n"
     ]
    }
   ],
   "source": [
    "print(f1_score(train_pred,y_train))\n",
    "print(f1_score(y_valid, test_pred))"
   ],
   "metadata": {
    "collapsed": false,
    "pycharm": {
     "name": "#%%\n"
    }
   }
  },
  {
   "cell_type": "code",
   "execution_count": 15,
   "outputs": [
    {
     "name": "stdout",
     "output_type": "stream",
     "text": [
      "0.7999999999999999\n",
      "0.2830188679245283\n"
     ]
    }
   ],
   "source": [
    "from lightgbm.sklearn import LGBMClassifier\n",
    "lgb =LGBMClassifier(random_state=42)\n",
    "lgb.fit(X_over, y_over)\n",
    "\n",
    "train_pred = model.predict(X_train)\n",
    "test_pred = model.predict(X_valid)\n",
    "print(f1_score(train_pred,y_train))\n",
    "print(f1_score(y_valid, test_pred))"
   ],
   "metadata": {
    "collapsed": false,
    "pycharm": {
     "name": "#%%\n"
    }
   }
  },
  {
   "cell_type": "code",
   "execution_count": 17,
   "outputs": [
    {
     "name": "stdout",
     "output_type": "stream",
     "text": [
      "best score: 0.9864, and best params: {'max_depth': 8}\n",
      "LR f1_score: 30.2222%\n"
     ]
    }
   ],
   "source": [
    "param_grid = {\n",
    "    'max_depth': [5, 6, 7, 8, 9, 10]\n",
    "}\n",
    "from sklearn.model_selection import GridSearchCV\n",
    "gs = GridSearchCV(estimator=lgb, param_grid=param_grid, scoring='f1_weighted', cv=5)\n",
    "gs.fit(X_over, y_over)\n",
    "print(\"best score: %.4f, and best params: %s\" % (gs.best_score_, gs.best_params_))\n",
    "y_pred = gs.predict(X_valid)\n",
    "print(\"LightGBM f1_score: %.4f%%\" % (f1_score(y_valid, y_pred) * 100))"
   ],
   "metadata": {
    "collapsed": false,
    "pycharm": {
     "name": "#%%\n"
    }
   }
  },
  {
   "cell_type": "code",
   "execution_count": 20,
   "outputs": [
    {
     "name": "stdout",
     "output_type": "stream",
     "text": [
      "best score: 0.9863, and best params: {'min_child_samples': 10}\n",
      "LR f1_score: 32.8889%\n"
     ]
    }
   ],
   "source": [
    "param_grid = {\n",
    "    'min_child_samples': [5, 10, 20, 30, 40, 50, 100]\n",
    "}\n",
    "lgb = LGBMClassifier(max_depth=8, random_state=42)\n",
    "gs = GridSearchCV(estimator=lgb, param_grid=param_grid, scoring='f1_weighted', cv=10)\n",
    "gs.fit(X_over, y_over)\n",
    "print(\"best score: %.4f, and best params: %s\" % (gs.best_score_, gs.best_params_))\n",
    "y_pred = gs.predict(X_valid)\n",
    "print(\"LightGBM f1_score: %.4f%%\" % (f1_score(y_valid, y_pred) * 100))"
   ],
   "metadata": {
    "collapsed": false,
    "pycharm": {
     "name": "#%%\n"
    }
   }
  },
  {
   "cell_type": "code",
   "execution_count": 22,
   "outputs": [
    {
     "name": "stdout",
     "output_type": "stream",
     "text": [
      "best score: 0.9829, and best params: {'num_leaves': 48}\n",
      "LR f1_score: 30.1003%\n"
     ]
    }
   ],
   "source": [
    "param_grid = {\n",
    "    'num_leaves': [7, 15, 31, 48, 51]\n",
    "}\n",
    "lgb = LGBMClassifier(boosting_type='dart', max_depth=8, num_leaves=48, min_child_samples=10, random_state=42)\n",
    "gs = GridSearchCV(estimator=lgb, param_grid=param_grid, scoring='f1_weighted', cv=10)\n",
    "gs.fit(X_over, y_over)\n",
    "print(\"best score: %.4f, and best params: %s\" % (gs.best_score_, gs.best_params_))\n",
    "y_pred = gs.predict(X_valid)\n",
    "print(\"LightGBM f1_score: %.4f%%\" % (f1_score(y_valid, y_pred) * 100))"
   ],
   "metadata": {
    "collapsed": false,
    "pycharm": {
     "name": "#%%\n"
    }
   }
  },
  {
   "cell_type": "code",
   "execution_count": 25,
   "outputs": [
    {
     "name": "stdout",
     "output_type": "stream",
     "text": [
      "best score: 0.9819, and best params: {'reg_lambda': 0.1}\n",
      "LR f1_score: 29.3160%\n"
     ]
    }
   ],
   "source": [
    "param_grid = {\n",
    "    'reg_lambda': [0.01, 0.1, 1, 10, 100, 1000]\n",
    "}\n",
    "lgb = LGBMClassifier(boosting_type='dart', max_depth=8, num_leaves=31, min_child_samples=10, random_state=42)\n",
    "gs = GridSearchCV(estimator=lgb, param_grid=param_grid, scoring='f1_weighted', cv=10)\n",
    "gs.fit(X_over, y_over)\n",
    "print(\"best score: %.4f, and best params: %s\" % (gs.best_score_, gs.best_params_))\n",
    "y_pred = gs.predict(X_valid)\n",
    "print(\"LightGBM f1_score: %.4f%%\" % (f1_score(y_valid, y_pred) * 100))"
   ],
   "metadata": {
    "collapsed": false,
    "pycharm": {
     "name": "#%%\n"
    }
   }
  },
  {
   "cell_type": "code",
   "execution_count": 18,
   "outputs": [
    {
     "data": {
      "text/plain": "{'boosting_type': 'gbdt',\n 'class_weight': None,\n 'colsample_bytree': 1.0,\n 'importance_type': 'split',\n 'learning_rate': 0.1,\n 'max_depth': -1,\n 'min_child_samples': 20,\n 'min_child_weight': 0.001,\n 'min_split_gain': 0.0,\n 'n_estimators': 100,\n 'n_jobs': -1,\n 'num_leaves': 31,\n 'objective': None,\n 'random_state': 42,\n 'reg_alpha': 0.0,\n 'reg_lambda': 0.0,\n 'silent': True,\n 'subsample': 1.0,\n 'subsample_for_bin': 200000,\n 'subsample_freq': 0}"
     },
     "execution_count": 18,
     "metadata": {},
     "output_type": "execute_result"
    }
   ],
   "source": [
    "lgb.get_params()"
   ],
   "metadata": {
    "collapsed": false,
    "pycharm": {
     "name": "#%%\n"
    }
   }
  },
  {
   "cell_type": "code",
   "execution_count": null,
   "outputs": [],
   "source": [
    "from sklearn.ensemble import HistGradientBoostingClassifier\n",
    "# learning_rate, max_depth, l2_regularization, max_bins\n"
   ],
   "metadata": {
    "collapsed": false,
    "pycharm": {
     "name": "#%%\n"
    }
   }
  }
 ],
 "metadata": {
  "kernelspec": {
   "display_name": "Python 3",
   "language": "python",
   "name": "python3"
  },
  "language_info": {
   "codemirror_mode": {
    "name": "ipython",
    "version": 2
   },
   "file_extension": ".py",
   "mimetype": "text/x-python",
   "name": "python",
   "nbconvert_exporter": "python",
   "pygments_lexer": "ipython2",
   "version": "2.7.6"
  }
 },
 "nbformat": 4,
 "nbformat_minor": 0
}
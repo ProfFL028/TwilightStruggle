{
 "cells": [
  {
   "cell_type": "code",
   "execution_count": 18,
   "metadata": {
    "collapsed": true
   },
   "outputs": [
    {
     "data": {
      "text/plain": "              主页ID        主页名称    分类  \\\n0  155000000000000  纬来体育台官方粉丝团  电视频道   \n1     359000000000       公视粉丝团  电视频道   \n2     359000000000       公视粉丝团  电视频道   \n3     190000000000    Mobile01  网路社群   \n4     359000000000       公视粉丝团  电视频道   \n\n                                             message                    name  \\\n0                      中华队长林智胜 三分砲！！！\\n人如其名　真的「致胜」阿～                     NaN   \n1    您所选择的电视频道，将会决定您的未来~\\n遥控器的决定权，就在你手上！\\n\\n#看见更好的未来  2015公视电视募款 公视让你看见更好的未来   \n2  好演员值得更多肯定和掌声！\\n\\n吴慷仁提到大概有六、七年资历的演员，所面临的最大困境，是赚...                   公视粉丝团   \n3                              大师兄 一发炸裂！！帅啊啊啊啊啊啊啊！！！       来自 Mobile01 贴文的相片   \n4  「再不救，就来不及了！如果没有很强力的救，再三十年，你可能找不到鹿港的味道了！」\\n\\n「两...              【我们的岛】抢救鹿港   \n\n                                         description   发文类型  y  \n0                                                NaN  video  H  \n1  这是一个资讯爆炸的时代，你所选择的资讯将决定你的视野；你所选择的电视频道，将会决定你的未来 ...  video  L  \n2                                                NaN   link  L  \n3                                                NaN  photo  H  \n4  叶明兰、叶镇中 / 采访报导 「再不救，就来不及了！如果没有很强力的救，再三十年，你可能找不...   link  L  ",
      "text/html": "<div>\n<style scoped>\n    .dataframe tbody tr th:only-of-type {\n        vertical-align: middle;\n    }\n\n    .dataframe tbody tr th {\n        vertical-align: top;\n    }\n\n    .dataframe thead th {\n        text-align: right;\n    }\n</style>\n<table border=\"1\" class=\"dataframe\">\n  <thead>\n    <tr style=\"text-align: right;\">\n      <th></th>\n      <th>主页ID</th>\n      <th>主页名称</th>\n      <th>分类</th>\n      <th>message</th>\n      <th>name</th>\n      <th>description</th>\n      <th>发文类型</th>\n      <th>y</th>\n    </tr>\n  </thead>\n  <tbody>\n    <tr>\n      <th>0</th>\n      <td>155000000000000</td>\n      <td>纬来体育台官方粉丝团</td>\n      <td>电视频道</td>\n      <td>中华队长林智胜 三分砲！！！\\n人如其名　真的「致胜」阿～</td>\n      <td>NaN</td>\n      <td>NaN</td>\n      <td>video</td>\n      <td>H</td>\n    </tr>\n    <tr>\n      <th>1</th>\n      <td>359000000000</td>\n      <td>公视粉丝团</td>\n      <td>电视频道</td>\n      <td>您所选择的电视频道，将会决定您的未来~\\n遥控器的决定权，就在你手上！\\n\\n#看见更好的未来</td>\n      <td>2015公视电视募款 公视让你看见更好的未来</td>\n      <td>这是一个资讯爆炸的时代，你所选择的资讯将决定你的视野；你所选择的电视频道，将会决定你的未来 ...</td>\n      <td>video</td>\n      <td>L</td>\n    </tr>\n    <tr>\n      <th>2</th>\n      <td>359000000000</td>\n      <td>公视粉丝团</td>\n      <td>电视频道</td>\n      <td>好演员值得更多肯定和掌声！\\n\\n吴慷仁提到大概有六、七年资历的演员，所面临的最大困境，是赚...</td>\n      <td>公视粉丝团</td>\n      <td>NaN</td>\n      <td>link</td>\n      <td>L</td>\n    </tr>\n    <tr>\n      <th>3</th>\n      <td>190000000000</td>\n      <td>Mobile01</td>\n      <td>网路社群</td>\n      <td>大师兄 一发炸裂！！帅啊啊啊啊啊啊啊！！！</td>\n      <td>来自 Mobile01 贴文的相片</td>\n      <td>NaN</td>\n      <td>photo</td>\n      <td>H</td>\n    </tr>\n    <tr>\n      <th>4</th>\n      <td>359000000000</td>\n      <td>公视粉丝团</td>\n      <td>电视频道</td>\n      <td>「再不救，就来不及了！如果没有很强力的救，再三十年，你可能找不到鹿港的味道了！」\\n\\n「两...</td>\n      <td>【我们的岛】抢救鹿港</td>\n      <td>叶明兰、叶镇中 / 采访报导 「再不救，就来不及了！如果没有很强力的救，再三十年，你可能找不...</td>\n      <td>link</td>\n      <td>L</td>\n    </tr>\n  </tbody>\n</table>\n</div>"
     },
     "execution_count": 18,
     "metadata": {},
     "output_type": "execute_result"
    }
   ],
   "source": [
    "import pandas as pd\n",
    "import numpy as np\n",
    "import warnings\n",
    "warnings.filterwarnings(\"ignore\")\n",
    "\n",
    "data = pd.read_excel(\"./data/cda1_1.xlsx\")\n",
    "data.head(5)"
   ]
  },
  {
   "cell_type": "code",
   "execution_count": 19,
   "outputs": [],
   "source": [
    "X = data[data.columns[:-1]]\n",
    "y = data['y']"
   ],
   "metadata": {
    "collapsed": false,
    "pycharm": {
     "name": "#%%\n"
    }
   }
  },
  {
   "cell_type": "code",
   "execution_count": 20,
   "outputs": [
    {
     "name": "stdout",
     "output_type": "stream",
     "text": [
      "------------分类每个项的分布--------------\n",
      "新闻        4807\n",
      "电视频道       935\n",
      "书籍杂志       891\n",
      "节目         347\n",
      "电视剧        261\n",
      "媒体其他       252\n",
      "网路社群       232\n",
      "电影公司        62\n",
      "电影          29\n",
      "广播           5\n",
      "音乐           4\n",
      "电影相关活动       4\n",
      "Name: 分类, dtype: int64\n",
      "--------------------------------------\n",
      "mapping_fl = {'新闻': 0, '电视频道': 1, '书籍杂志': 2, '节目': 3, '电视剧': 4, '媒体其他': 5, '网路社群': 6, '电影公司': 7, '电影': 8, '广播': 9, '音乐': 10, '电影相关活动': 11}\n",
      "X['分类'] = X['分类'].map(mapping_fl).fillna(-99).astype(int)\n",
      "X_fl = pd.get_dummies(X['分类'], prefix='fl', drop_first=True)\n",
      "X = pd.concat([X, pd.DataFrame(X_fl, index=X.index)], axis=1)\n",
      "X = X.drop(labels='分类', axis=1)\n",
      "--------------------------------------\n"
     ]
    }
   ],
   "source": [
    "# 这段代码记得删除了\n",
    "def column_mapping_str(X, col_name='', prefix_name='', begin_idx=0):\n",
    "    \"\"\"\n",
    "    根据指定列的值，生成mapping字符串\n",
    "    \"\"\"\n",
    "    col_value_counts = X[col_name].value_counts()\n",
    "    print(\"------------%s每个项的分布--------------\" % col_name)\n",
    "    print(col_value_counts)\n",
    "    print(\"--------------------------------------\")\n",
    "    label_str = \"\"\n",
    "    for idx, key in enumerate(col_value_counts.keys()):\n",
    "        label_str = \"\".join([label_str, \"'\", str(key), \"'\", \": \", str(idx + begin_idx), \", \"])\n",
    "    label_str = label_str[0:-2]\n",
    "    print(\"mapping_%s = {%s}\" % (prefix_name, label_str))\n",
    "    print(\"X['%s'] = X['%s'].map(mapping_%s).fillna(-99).astype(int)\" % (col_name, col_name, prefix_name))\n",
    "    print(\"X_%s = pd.get_dummies(X['%s'], prefix='%s', drop_first=True)\" % (prefix_name, col_name, prefix_name))\n",
    "    print(\"X = pd.concat([X, pd.DataFrame(X_%s, index=X.index)], axis=1)\" % prefix_name)\n",
    "    print(\"X = X.drop(labels='%s', axis=1)\" % col_name)\n",
    "    print(\"--------------------------------------\")\n",
    "\n",
    "column_mapping_str(X, col_name='分类', prefix_name='fl', begin_idx=0)"
   ],
   "metadata": {
    "collapsed": false,
    "pycharm": {
     "name": "#%%\n"
    }
   }
  },
  {
   "cell_type": "code",
   "execution_count": 21,
   "outputs": [],
   "source": [
    "mapping_fl = {'电视频道': 0, '网路社群': 1, '新闻': 2, '书籍杂志': 3, '电视剧': 4, '电影公司': 5, '节目': 6, '媒体其他': 7, '电影': 5, '音乐': 7, '电影相关活动': 5, '广播': 7}\n",
    "X['分类'] = X['分类'].map(mapping_fl).fillna(7).astype(int)\n",
    "X_fl = pd.get_dummies(X['分类'], prefix='fl', drop_first=True)\n",
    "X = pd.concat([X, pd.DataFrame(X_fl, index=X.index)], axis=1)\n",
    "X = X.drop(labels='分类', axis=1)"
   ],
   "metadata": {
    "collapsed": false,
    "pycharm": {
     "name": "#%%\n"
    }
   }
  },
  {
   "cell_type": "code",
   "execution_count": 22,
   "outputs": [],
   "source": [
    "mapping_fwlx = {'link': 1, 'photo': 2, 'video': 3}\n",
    "X['发文类型'] = X['发文类型'].map(mapping_fwlx).fillna(1).astype(int)\n",
    "X_fwlx = pd.get_dummies(X['发文类型'], prefix='fwlx', drop_first=True)\n",
    "X = pd.concat([X, pd.DataFrame(X_fwlx, index=X.index)], axis=1)\n",
    "X = X.drop(labels='发文类型', axis=1)"
   ],
   "metadata": {
    "collapsed": false,
    "pycharm": {
     "name": "#%%\n"
    }
   }
  },
  {
   "cell_type": "code",
   "execution_count": 23,
   "outputs": [
    {
     "name": "stdout",
     "output_type": "stream",
     "text": [
      "total counts:  1913\n",
      "姊 蔡依林 日 晚间 出席 南韩 年度 盛事 舞台\n"
     ]
    }
   ],
   "source": [
    "from nlp import *\n",
    "stop_words = get_stop_words('./data/stop_words.txt', encoding='utf-8')\n",
    "print(split_word(\"「呸姊」蔡依林2日晚间出席南韩年度盛事MAMA舞台\",\n",
    "                 stop_words, ['蔡依林', '叶明兰','叶镇中', '宋家豪', '白先勇','林智胜']))"
   ],
   "metadata": {
    "collapsed": false,
    "pycharm": {
     "name": "#%%\n"
    }
   }
  },
  {
   "cell_type": "code",
   "execution_count": 24,
   "outputs": [
    {
     "data": {
      "text/plain": "0                                     中华 队长 林智胜 三分 砲 名 致胜\n1       选择 电视频道 将会 未来 遥控器 决定权 手上 更好 未来 公视 电视 募款 公视 更好 ...\n2       演员 值得 肯定 掌声 吴慷仁 提到 七年 资历 演员 面临 困境 赚 不到 钱 去年 中国...\n3                                师兄 一发 炸裂 帅 啊啊啊 啊啊啊 贴文 相片\n4       不救 强力 救 三十年 找 不到 鹿港 味道 两百年 老房子 消失 速度 月 一栋 拆 一府...\n                              ...                        \n7824    镶上 绿色 宝石 番薯 好美 土星 中天 新闻 高画质 直播 网址 直播 时段 早上 点 凌...\n7825    早鸟 福利 老师 唯美 瞬间 捕捉到 光棍节 告诉 单身 朋友 孤单 注 深夜 福利 早鸟 ...\n7826    佩颖 主任 自暴自弃 摆脱 烂 桃花 新招 每周五 晚间 十点 三立 台 每周六 晚间 八点...\n7827    合 作 小姐 蔡依林 蔡依林 后台 照曝光 甜呼 爱心 主人 娱乐 星光 云 东森 新闻 云...\n7828    联合报 一个班 大学 班级 变 家教 班 系 注册 挂零 校拉 警报 注册 率 不到 成 大...\nLength: 7829, dtype: object"
     },
     "execution_count": 24,
     "metadata": {},
     "output_type": "execute_result"
    }
   ],
   "source": [
    "X_docs = X.apply(lambda x: split_word(\n",
    "    str(x['message']) + str(x['name']) + str(x['description']),\n",
    "    stop_words,\n",
    "    ['蔡依林', '叶明兰','叶镇中', '宋家豪', '白先勇','林智胜']),\n",
    "    axis=1)\n",
    "X_docs"
   ],
   "metadata": {
    "collapsed": false,
    "pycharm": {
     "name": "#%%\n"
    }
   }
  },
  {
   "cell_type": "code",
   "execution_count": 25,
   "outputs": [
    {
     "data": {
      "text/plain": "            0         1         2         3         4         5         6   \\\n0    -0.036074 -0.037224  0.175324  0.067177 -0.038803 -0.013186  0.000022   \n1    -0.031605 -0.003449 -0.015222 -0.016508 -0.013593  0.170616 -0.014756   \n2    -0.036402 -0.039124 -0.022664 -0.014946 -0.010846  0.174594 -0.011937   \n3     0.094093 -0.014604  0.011951  0.073510 -0.036283  0.014400  0.031784   \n4    -0.032072 -0.017700 -0.018555 -0.008953 -0.015091  0.014936  0.008349   \n...        ...       ...       ...       ...       ...       ...       ...   \n7824 -0.058843 -0.026246  0.046905 -0.013738  0.160530  0.032444  0.021212   \n7825  0.076465 -0.010671 -0.000792 -0.052848 -0.054224 -0.008984  0.150329   \n7826  0.235819  0.008249  0.034160 -0.115550 -0.115495  0.060225  0.319520   \n7827 -0.060789 -0.028829 -0.010195 -0.003784  0.003063 -0.006041 -0.026829   \n7828 -0.039708 -0.022035 -0.022449 -0.007960  0.000332  0.003086  0.008710   \n\n            7         8         9   ...        40        41        42  \\\n0    -0.021062  0.029179 -0.006966  ...  0.003655 -0.005792  0.005349   \n1    -0.034352  0.040438 -0.025265  ...  0.010756 -0.081594 -0.001787   \n2    -0.025843 -0.001671  0.023112  ...  0.021736 -0.092286 -0.017522   \n3    -0.005984 -0.002444  0.003320  ...  0.009558 -0.005377  0.058363   \n4    -0.021848  0.026676 -0.036702  ... -0.017406 -0.017543 -0.003095   \n...        ...       ...       ...  ...       ...       ...       ...   \n7824  0.185571 -0.054165 -0.025373  ... -0.066663  0.030392  0.022287   \n7825 -0.009142  0.008655 -0.001768  ...  0.007785 -0.000455 -0.003995   \n7826  0.012135  0.019982  0.036935  ... -0.004863 -0.015199 -0.003654   \n7827  0.075225 -0.149959  0.126474  ...  0.009011  0.091708  0.011561   \n7828 -0.035514  0.033505 -0.048582  ...  0.008398 -0.001483  0.032844   \n\n            43        44        45        46        47        48        49  \n0    -0.004669  0.014479 -0.004179  0.010859 -0.007530  0.001138  0.009929  \n1    -0.000439  0.014923  0.065202 -0.009457  0.000964  0.037471 -0.029436  \n2    -0.005094  0.034725  0.043981  0.044907 -0.077856  0.022194  0.041834  \n3    -0.008290  0.000545 -0.026318  0.020720 -0.007274  0.009805  0.016902  \n4    -0.016092 -0.011023  0.003980  0.025369 -0.002013 -0.008569 -0.006933  \n...        ...       ...       ...       ...       ...       ...       ...  \n7824  0.066310  0.026433  0.073063 -0.078954  0.120526  0.172732  0.012184  \n7825 -0.024385  0.007059 -0.007436  0.010025 -0.000517 -0.000594 -0.003436  \n7826  0.015673  0.034823 -0.000993  0.033195  0.021945  0.001406 -0.009662  \n7827 -0.131854  0.170288 -0.040744  0.051742  0.006002 -0.062201 -0.018265  \n7828 -0.019758  0.011355 -0.004424 -0.022043 -0.010075  0.027577  0.017050  \n\n[7829 rows x 50 columns]",
      "text/html": "<div>\n<style scoped>\n    .dataframe tbody tr th:only-of-type {\n        vertical-align: middle;\n    }\n\n    .dataframe tbody tr th {\n        vertical-align: top;\n    }\n\n    .dataframe thead th {\n        text-align: right;\n    }\n</style>\n<table border=\"1\" class=\"dataframe\">\n  <thead>\n    <tr style=\"text-align: right;\">\n      <th></th>\n      <th>0</th>\n      <th>1</th>\n      <th>2</th>\n      <th>3</th>\n      <th>4</th>\n      <th>5</th>\n      <th>6</th>\n      <th>7</th>\n      <th>8</th>\n      <th>9</th>\n      <th>...</th>\n      <th>40</th>\n      <th>41</th>\n      <th>42</th>\n      <th>43</th>\n      <th>44</th>\n      <th>45</th>\n      <th>46</th>\n      <th>47</th>\n      <th>48</th>\n      <th>49</th>\n    </tr>\n  </thead>\n  <tbody>\n    <tr>\n      <th>0</th>\n      <td>-0.036074</td>\n      <td>-0.037224</td>\n      <td>0.175324</td>\n      <td>0.067177</td>\n      <td>-0.038803</td>\n      <td>-0.013186</td>\n      <td>0.000022</td>\n      <td>-0.021062</td>\n      <td>0.029179</td>\n      <td>-0.006966</td>\n      <td>...</td>\n      <td>0.003655</td>\n      <td>-0.005792</td>\n      <td>0.005349</td>\n      <td>-0.004669</td>\n      <td>0.014479</td>\n      <td>-0.004179</td>\n      <td>0.010859</td>\n      <td>-0.007530</td>\n      <td>0.001138</td>\n      <td>0.009929</td>\n    </tr>\n    <tr>\n      <th>1</th>\n      <td>-0.031605</td>\n      <td>-0.003449</td>\n      <td>-0.015222</td>\n      <td>-0.016508</td>\n      <td>-0.013593</td>\n      <td>0.170616</td>\n      <td>-0.014756</td>\n      <td>-0.034352</td>\n      <td>0.040438</td>\n      <td>-0.025265</td>\n      <td>...</td>\n      <td>0.010756</td>\n      <td>-0.081594</td>\n      <td>-0.001787</td>\n      <td>-0.000439</td>\n      <td>0.014923</td>\n      <td>0.065202</td>\n      <td>-0.009457</td>\n      <td>0.000964</td>\n      <td>0.037471</td>\n      <td>-0.029436</td>\n    </tr>\n    <tr>\n      <th>2</th>\n      <td>-0.036402</td>\n      <td>-0.039124</td>\n      <td>-0.022664</td>\n      <td>-0.014946</td>\n      <td>-0.010846</td>\n      <td>0.174594</td>\n      <td>-0.011937</td>\n      <td>-0.025843</td>\n      <td>-0.001671</td>\n      <td>0.023112</td>\n      <td>...</td>\n      <td>0.021736</td>\n      <td>-0.092286</td>\n      <td>-0.017522</td>\n      <td>-0.005094</td>\n      <td>0.034725</td>\n      <td>0.043981</td>\n      <td>0.044907</td>\n      <td>-0.077856</td>\n      <td>0.022194</td>\n      <td>0.041834</td>\n    </tr>\n    <tr>\n      <th>3</th>\n      <td>0.094093</td>\n      <td>-0.014604</td>\n      <td>0.011951</td>\n      <td>0.073510</td>\n      <td>-0.036283</td>\n      <td>0.014400</td>\n      <td>0.031784</td>\n      <td>-0.005984</td>\n      <td>-0.002444</td>\n      <td>0.003320</td>\n      <td>...</td>\n      <td>0.009558</td>\n      <td>-0.005377</td>\n      <td>0.058363</td>\n      <td>-0.008290</td>\n      <td>0.000545</td>\n      <td>-0.026318</td>\n      <td>0.020720</td>\n      <td>-0.007274</td>\n      <td>0.009805</td>\n      <td>0.016902</td>\n    </tr>\n    <tr>\n      <th>4</th>\n      <td>-0.032072</td>\n      <td>-0.017700</td>\n      <td>-0.018555</td>\n      <td>-0.008953</td>\n      <td>-0.015091</td>\n      <td>0.014936</td>\n      <td>0.008349</td>\n      <td>-0.021848</td>\n      <td>0.026676</td>\n      <td>-0.036702</td>\n      <td>...</td>\n      <td>-0.017406</td>\n      <td>-0.017543</td>\n      <td>-0.003095</td>\n      <td>-0.016092</td>\n      <td>-0.011023</td>\n      <td>0.003980</td>\n      <td>0.025369</td>\n      <td>-0.002013</td>\n      <td>-0.008569</td>\n      <td>-0.006933</td>\n    </tr>\n    <tr>\n      <th>...</th>\n      <td>...</td>\n      <td>...</td>\n      <td>...</td>\n      <td>...</td>\n      <td>...</td>\n      <td>...</td>\n      <td>...</td>\n      <td>...</td>\n      <td>...</td>\n      <td>...</td>\n      <td>...</td>\n      <td>...</td>\n      <td>...</td>\n      <td>...</td>\n      <td>...</td>\n      <td>...</td>\n      <td>...</td>\n      <td>...</td>\n      <td>...</td>\n      <td>...</td>\n      <td>...</td>\n    </tr>\n    <tr>\n      <th>7824</th>\n      <td>-0.058843</td>\n      <td>-0.026246</td>\n      <td>0.046905</td>\n      <td>-0.013738</td>\n      <td>0.160530</td>\n      <td>0.032444</td>\n      <td>0.021212</td>\n      <td>0.185571</td>\n      <td>-0.054165</td>\n      <td>-0.025373</td>\n      <td>...</td>\n      <td>-0.066663</td>\n      <td>0.030392</td>\n      <td>0.022287</td>\n      <td>0.066310</td>\n      <td>0.026433</td>\n      <td>0.073063</td>\n      <td>-0.078954</td>\n      <td>0.120526</td>\n      <td>0.172732</td>\n      <td>0.012184</td>\n    </tr>\n    <tr>\n      <th>7825</th>\n      <td>0.076465</td>\n      <td>-0.010671</td>\n      <td>-0.000792</td>\n      <td>-0.052848</td>\n      <td>-0.054224</td>\n      <td>-0.008984</td>\n      <td>0.150329</td>\n      <td>-0.009142</td>\n      <td>0.008655</td>\n      <td>-0.001768</td>\n      <td>...</td>\n      <td>0.007785</td>\n      <td>-0.000455</td>\n      <td>-0.003995</td>\n      <td>-0.024385</td>\n      <td>0.007059</td>\n      <td>-0.007436</td>\n      <td>0.010025</td>\n      <td>-0.000517</td>\n      <td>-0.000594</td>\n      <td>-0.003436</td>\n    </tr>\n    <tr>\n      <th>7826</th>\n      <td>0.235819</td>\n      <td>0.008249</td>\n      <td>0.034160</td>\n      <td>-0.115550</td>\n      <td>-0.115495</td>\n      <td>0.060225</td>\n      <td>0.319520</td>\n      <td>0.012135</td>\n      <td>0.019982</td>\n      <td>0.036935</td>\n      <td>...</td>\n      <td>-0.004863</td>\n      <td>-0.015199</td>\n      <td>-0.003654</td>\n      <td>0.015673</td>\n      <td>0.034823</td>\n      <td>-0.000993</td>\n      <td>0.033195</td>\n      <td>0.021945</td>\n      <td>0.001406</td>\n      <td>-0.009662</td>\n    </tr>\n    <tr>\n      <th>7827</th>\n      <td>-0.060789</td>\n      <td>-0.028829</td>\n      <td>-0.010195</td>\n      <td>-0.003784</td>\n      <td>0.003063</td>\n      <td>-0.006041</td>\n      <td>-0.026829</td>\n      <td>0.075225</td>\n      <td>-0.149959</td>\n      <td>0.126474</td>\n      <td>...</td>\n      <td>0.009011</td>\n      <td>0.091708</td>\n      <td>0.011561</td>\n      <td>-0.131854</td>\n      <td>0.170288</td>\n      <td>-0.040744</td>\n      <td>0.051742</td>\n      <td>0.006002</td>\n      <td>-0.062201</td>\n      <td>-0.018265</td>\n    </tr>\n    <tr>\n      <th>7828</th>\n      <td>-0.039708</td>\n      <td>-0.022035</td>\n      <td>-0.022449</td>\n      <td>-0.007960</td>\n      <td>0.000332</td>\n      <td>0.003086</td>\n      <td>0.008710</td>\n      <td>-0.035514</td>\n      <td>0.033505</td>\n      <td>-0.048582</td>\n      <td>...</td>\n      <td>0.008398</td>\n      <td>-0.001483</td>\n      <td>0.032844</td>\n      <td>-0.019758</td>\n      <td>0.011355</td>\n      <td>-0.004424</td>\n      <td>-0.022043</td>\n      <td>-0.010075</td>\n      <td>0.027577</td>\n      <td>0.017050</td>\n    </tr>\n  </tbody>\n</table>\n<p>7829 rows × 50 columns</p>\n</div>"
     },
     "execution_count": 25,
     "metadata": {},
     "output_type": "execute_result"
    }
   ],
   "source": [
    "tfidf_vec, tfidf, tfidf_pca = tfidf(X_docs, min_df=10, output_dimension=50)\n",
    "tfidf_vec"
   ],
   "metadata": {
    "collapsed": false,
    "pycharm": {
     "name": "#%%\n"
    }
   }
  },
  {
   "cell_type": "code",
   "execution_count": 31,
   "outputs": [
    {
     "data": {
      "text/plain": "      fl_1  fl_2  fl_3  fl_4  fl_5  fl_6  fl_7  fwlx_2  fwlx_3\n0        0     0     0     0     0     0     0       0       1\n1        0     0     0     0     0     0     0       0       1\n2        0     0     0     0     0     0     0       0       0\n3        1     0     0     0     0     0     0       1       0\n4        0     0     0     0     0     0     0       0       0\n...    ...   ...   ...   ...   ...   ...   ...     ...     ...\n7824     0     0     0     0     0     0     0       0       0\n7825     0     0     0     1     0     0     0       1       0\n7826     0     0     0     1     0     0     0       1       0\n7827     0     1     0     0     0     0     0       0       0\n7828     0     0     1     0     0     0     0       0       0\n\n[7829 rows x 9 columns]",
      "text/html": "<div>\n<style scoped>\n    .dataframe tbody tr th:only-of-type {\n        vertical-align: middle;\n    }\n\n    .dataframe tbody tr th {\n        vertical-align: top;\n    }\n\n    .dataframe thead th {\n        text-align: right;\n    }\n</style>\n<table border=\"1\" class=\"dataframe\">\n  <thead>\n    <tr style=\"text-align: right;\">\n      <th></th>\n      <th>fl_1</th>\n      <th>fl_2</th>\n      <th>fl_3</th>\n      <th>fl_4</th>\n      <th>fl_5</th>\n      <th>fl_6</th>\n      <th>fl_7</th>\n      <th>fwlx_2</th>\n      <th>fwlx_3</th>\n    </tr>\n  </thead>\n  <tbody>\n    <tr>\n      <th>0</th>\n      <td>0</td>\n      <td>0</td>\n      <td>0</td>\n      <td>0</td>\n      <td>0</td>\n      <td>0</td>\n      <td>0</td>\n      <td>0</td>\n      <td>1</td>\n    </tr>\n    <tr>\n      <th>1</th>\n      <td>0</td>\n      <td>0</td>\n      <td>0</td>\n      <td>0</td>\n      <td>0</td>\n      <td>0</td>\n      <td>0</td>\n      <td>0</td>\n      <td>1</td>\n    </tr>\n    <tr>\n      <th>2</th>\n      <td>0</td>\n      <td>0</td>\n      <td>0</td>\n      <td>0</td>\n      <td>0</td>\n      <td>0</td>\n      <td>0</td>\n      <td>0</td>\n      <td>0</td>\n    </tr>\n    <tr>\n      <th>3</th>\n      <td>1</td>\n      <td>0</td>\n      <td>0</td>\n      <td>0</td>\n      <td>0</td>\n      <td>0</td>\n      <td>0</td>\n      <td>1</td>\n      <td>0</td>\n    </tr>\n    <tr>\n      <th>4</th>\n      <td>0</td>\n      <td>0</td>\n      <td>0</td>\n      <td>0</td>\n      <td>0</td>\n      <td>0</td>\n      <td>0</td>\n      <td>0</td>\n      <td>0</td>\n    </tr>\n    <tr>\n      <th>...</th>\n      <td>...</td>\n      <td>...</td>\n      <td>...</td>\n      <td>...</td>\n      <td>...</td>\n      <td>...</td>\n      <td>...</td>\n      <td>...</td>\n      <td>...</td>\n    </tr>\n    <tr>\n      <th>7824</th>\n      <td>0</td>\n      <td>0</td>\n      <td>0</td>\n      <td>0</td>\n      <td>0</td>\n      <td>0</td>\n      <td>0</td>\n      <td>0</td>\n      <td>0</td>\n    </tr>\n    <tr>\n      <th>7825</th>\n      <td>0</td>\n      <td>0</td>\n      <td>0</td>\n      <td>1</td>\n      <td>0</td>\n      <td>0</td>\n      <td>0</td>\n      <td>1</td>\n      <td>0</td>\n    </tr>\n    <tr>\n      <th>7826</th>\n      <td>0</td>\n      <td>0</td>\n      <td>0</td>\n      <td>1</td>\n      <td>0</td>\n      <td>0</td>\n      <td>0</td>\n      <td>1</td>\n      <td>0</td>\n    </tr>\n    <tr>\n      <th>7827</th>\n      <td>0</td>\n      <td>1</td>\n      <td>0</td>\n      <td>0</td>\n      <td>0</td>\n      <td>0</td>\n      <td>0</td>\n      <td>0</td>\n      <td>0</td>\n    </tr>\n    <tr>\n      <th>7828</th>\n      <td>0</td>\n      <td>0</td>\n      <td>1</td>\n      <td>0</td>\n      <td>0</td>\n      <td>0</td>\n      <td>0</td>\n      <td>0</td>\n      <td>0</td>\n    </tr>\n  </tbody>\n</table>\n<p>7829 rows × 9 columns</p>\n</div>"
     },
     "execution_count": 31,
     "metadata": {},
     "output_type": "execute_result"
    }
   ],
   "source": [
    "X = X.drop(labels=['主页ID', '主页名称', 'message', 'name', 'description'], axis=1)\n",
    "X"
   ],
   "metadata": {
    "collapsed": false,
    "pycharm": {
     "name": "#%%\n"
    }
   }
  },
  {
   "cell_type": "code",
   "execution_count": 27,
   "outputs": [],
   "source": [
    "y_mapping = {'L': 0, 'H': 1}\n",
    "y = y.map(y_mapping)"
   ],
   "metadata": {
    "collapsed": false,
    "pycharm": {
     "name": "#%%\n"
    }
   }
  },
  {
   "cell_type": "code",
   "execution_count": 33,
   "outputs": [
    {
     "data": {
      "text/plain": "   fl_1  fl_2  fl_3  fl_4  fl_5  fl_6  fl_7  fwlx_2  fwlx_3         0  ...  \\\n0     0     0     0     0     0     0     0       0       1 -0.036074  ...   \n1     0     0     0     0     0     0     0       0       1 -0.031605  ...   \n2     0     0     0     0     0     0     0       0       0 -0.036402  ...   \n3     1     0     0     0     0     0     0       1       0  0.094093  ...   \n4     0     0     0     0     0     0     0       0       0 -0.032072  ...   \n\n         41        42        43        44        45        46        47  \\\n0 -0.005792  0.005349 -0.004669  0.014479 -0.004179  0.010859 -0.007530   \n1 -0.081594 -0.001787 -0.000439  0.014923  0.065202 -0.009457  0.000964   \n2 -0.092286 -0.017522 -0.005094  0.034725  0.043981  0.044907 -0.077856   \n3 -0.005377  0.058363 -0.008290  0.000545 -0.026318  0.020720 -0.007274   \n4 -0.017543 -0.003095 -0.016092 -0.011023  0.003980  0.025369 -0.002013   \n\n         48        49  y  \n0  0.001138  0.009929  1  \n1  0.037471 -0.029436  0  \n2  0.022194  0.041834  0  \n3  0.009805  0.016902  1  \n4 -0.008569 -0.006933  0  \n\n[5 rows x 60 columns]",
      "text/html": "<div>\n<style scoped>\n    .dataframe tbody tr th:only-of-type {\n        vertical-align: middle;\n    }\n\n    .dataframe tbody tr th {\n        vertical-align: top;\n    }\n\n    .dataframe thead th {\n        text-align: right;\n    }\n</style>\n<table border=\"1\" class=\"dataframe\">\n  <thead>\n    <tr style=\"text-align: right;\">\n      <th></th>\n      <th>fl_1</th>\n      <th>fl_2</th>\n      <th>fl_3</th>\n      <th>fl_4</th>\n      <th>fl_5</th>\n      <th>fl_6</th>\n      <th>fl_7</th>\n      <th>fwlx_2</th>\n      <th>fwlx_3</th>\n      <th>0</th>\n      <th>...</th>\n      <th>41</th>\n      <th>42</th>\n      <th>43</th>\n      <th>44</th>\n      <th>45</th>\n      <th>46</th>\n      <th>47</th>\n      <th>48</th>\n      <th>49</th>\n      <th>y</th>\n    </tr>\n  </thead>\n  <tbody>\n    <tr>\n      <th>0</th>\n      <td>0</td>\n      <td>0</td>\n      <td>0</td>\n      <td>0</td>\n      <td>0</td>\n      <td>0</td>\n      <td>0</td>\n      <td>0</td>\n      <td>1</td>\n      <td>-0.036074</td>\n      <td>...</td>\n      <td>-0.005792</td>\n      <td>0.005349</td>\n      <td>-0.004669</td>\n      <td>0.014479</td>\n      <td>-0.004179</td>\n      <td>0.010859</td>\n      <td>-0.007530</td>\n      <td>0.001138</td>\n      <td>0.009929</td>\n      <td>1</td>\n    </tr>\n    <tr>\n      <th>1</th>\n      <td>0</td>\n      <td>0</td>\n      <td>0</td>\n      <td>0</td>\n      <td>0</td>\n      <td>0</td>\n      <td>0</td>\n      <td>0</td>\n      <td>1</td>\n      <td>-0.031605</td>\n      <td>...</td>\n      <td>-0.081594</td>\n      <td>-0.001787</td>\n      <td>-0.000439</td>\n      <td>0.014923</td>\n      <td>0.065202</td>\n      <td>-0.009457</td>\n      <td>0.000964</td>\n      <td>0.037471</td>\n      <td>-0.029436</td>\n      <td>0</td>\n    </tr>\n    <tr>\n      <th>2</th>\n      <td>0</td>\n      <td>0</td>\n      <td>0</td>\n      <td>0</td>\n      <td>0</td>\n      <td>0</td>\n      <td>0</td>\n      <td>0</td>\n      <td>0</td>\n      <td>-0.036402</td>\n      <td>...</td>\n      <td>-0.092286</td>\n      <td>-0.017522</td>\n      <td>-0.005094</td>\n      <td>0.034725</td>\n      <td>0.043981</td>\n      <td>0.044907</td>\n      <td>-0.077856</td>\n      <td>0.022194</td>\n      <td>0.041834</td>\n      <td>0</td>\n    </tr>\n    <tr>\n      <th>3</th>\n      <td>1</td>\n      <td>0</td>\n      <td>0</td>\n      <td>0</td>\n      <td>0</td>\n      <td>0</td>\n      <td>0</td>\n      <td>1</td>\n      <td>0</td>\n      <td>0.094093</td>\n      <td>...</td>\n      <td>-0.005377</td>\n      <td>0.058363</td>\n      <td>-0.008290</td>\n      <td>0.000545</td>\n      <td>-0.026318</td>\n      <td>0.020720</td>\n      <td>-0.007274</td>\n      <td>0.009805</td>\n      <td>0.016902</td>\n      <td>1</td>\n    </tr>\n    <tr>\n      <th>4</th>\n      <td>0</td>\n      <td>0</td>\n      <td>0</td>\n      <td>0</td>\n      <td>0</td>\n      <td>0</td>\n      <td>0</td>\n      <td>0</td>\n      <td>0</td>\n      <td>-0.032072</td>\n      <td>...</td>\n      <td>-0.017543</td>\n      <td>-0.003095</td>\n      <td>-0.016092</td>\n      <td>-0.011023</td>\n      <td>0.003980</td>\n      <td>0.025369</td>\n      <td>-0.002013</td>\n      <td>-0.008569</td>\n      <td>-0.006933</td>\n      <td>0</td>\n    </tr>\n  </tbody>\n</table>\n<p>5 rows × 60 columns</p>\n</div>"
     },
     "execution_count": 33,
     "metadata": {},
     "output_type": "execute_result"
    }
   ],
   "source": [
    "train = pd.concat([X, tfidf_vec, y], axis=1)\n",
    "train.to_csv(\"./data/1_features_1.csv\")\n",
    "train.head(5)"
   ],
   "metadata": {
    "collapsed": false,
    "pycharm": {
     "name": "#%%\n"
    }
   }
  }
 ],
 "metadata": {
  "kernelspec": {
   "display_name": "Python 3",
   "language": "python",
   "name": "python3"
  },
  "language_info": {
   "codemirror_mode": {
    "name": "ipython",
    "version": 2
   },
   "file_extension": ".py",
   "mimetype": "text/x-python",
   "name": "python",
   "nbconvert_exporter": "python",
   "pygments_lexer": "ipython2",
   "version": "2.7.6"
  }
 },
 "nbformat": 4,
 "nbformat_minor": 0
}
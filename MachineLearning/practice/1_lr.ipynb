{
 "cells": [
  {
   "cell_type": "code",
   "execution_count": 22,
   "outputs": [
    {
     "name": "stdout",
     "output_type": "stream",
     "text": [
      "best score: 0.7188, and best params: {'C': 100}\n",
      "LR f1_score: 39.5904%\n"
     ]
    },
    {
     "data": {
      "text/plain": "<Figure size 180x180 with 1 Axes>",
      "image/png": "[encoded data removed]"
     },
     "metadata": {
      "needs_background": "light"
     },
     "output_type": "display_data"
    },
    {
     "data": {
      "text/plain": "array([0, 1, 0, ..., 0, 0, 0])"
     },
     "execution_count": 22,
     "metadata": {},
     "output_type": "execute_result"
    }
   ],
   "source": [
    "from LRTuning import LRTuning\n",
    "import pandas as pd\n",
    "\n",
    "data = pd.read_csv(\"./data/1_train1.csv\")\n",
    "data = data.fillna(0)\n",
    "del data[data.columns[0]]\n",
    "X = data.iloc[:, :-1]\n",
    "y = data['y']\n",
    "\n",
    "from sklearn.model_selection import train_test_split\n",
    "\n",
    "X_train, X_test, y_train, y_test = train_test_split(X, y, test_size=0.25, random_state=42, stratify=y)\n",
    "\n",
    "from imblearn.over_sampling import SMOTE, BorderlineSMOTE\n",
    "\n",
    "oversample = BorderlineSMOTE()\n",
    "X_over, y_over = oversample.fit_resample(X_train, y_train)\n",
    "y_over.value_counts()\n",
    "\n",
    "lr = LRTuning(X_over, X_test, y_over, y_test)\n",
    "\n",
    "lr.fit_transform()\n"
   ],
   "metadata": {
    "collapsed": false,
    "pycharm": {
     "name": "#%%\n"
    }
   }
  }
 ],
 "metadata": {
  "kernelspec": {
   "display_name": "Python 3",
   "language": "python",
   "name": "python3"
  },
  "language_info": {
   "codemirror_mode": {
    "name": "ipython",
    "version": 2
   },
   "file_extension": ".py",
   "mimetype": "text/x-python",
   "name": "python",
   "nbconvert_exporter": "python",
   "pygments_lexer": "ipython2",
   "version": "2.7.6"
  }
 },
 "nbformat": 4,
 "nbformat_minor": 0
}
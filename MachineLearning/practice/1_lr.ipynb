{
 "cells": [
  {
   "cell_type": "code",
   "execution_count": null,
   "outputs": [],
   "source": [
    "from LRTuning import LRTuning\n",
    "import pandas as pd\n",
    "\n",
    "data = pd.read_csv(\"./data/1_train1.csv\")\n",
    "data = data.fillna(0)\n",
    "del data[data.columns[0]]\n",
    "X = data.iloc[:, :-1]\n",
    "y = data['y']\n",
    "\n",
    "from sklearn.model_selection import train_test_split\n",
    "\n",
    "X_train, X_test, y_train, y_test = train_test_split(X, y, test_size=0.25, random_state=42, stratify=y)\n",
    "\n",
    "#数据平衡\n",
    "from imblearn.over_sampling import SMOTE, BorderlineSMOTE\n",
    "oversample = BorderlineSMOTE()\n",
    "X_over, y_over = oversample.fit_resample(X_train, y_train)\n",
    "y_over.value_counts()\n",
    "\n",
    "\n",
    "lr = LRTuning(X_over, X_test, y_over, y_test)\n",
    "lr.fit_transform()"
   ],
   "metadata": {
    "collapsed": false,
    "pycharm": {
     "name": "#%%\n"
    }
   }
  },
  {
   "cell_type": "code",
   "execution_count": null,
   "outputs": [],
   "source": [
    "test = pd.read_csv(\"./data/1_test1.csv\")\n",
    "test = test.fillna(0)\n",
    "del test[test.columns[0]]\n",
    "test\n",
    "\n"
   ],
   "metadata": {
    "collapsed": false,
    "pycharm": {
     "name": "#%%\n"
    }
   }
  },
  {
   "cell_type": "code",
   "execution_count": null,
   "outputs": [],
   "source": [
    "test_pred = lr.predict(test)"
   ],
   "metadata": {
    "collapsed": false,
    "pycharm": {
     "name": "#%%\n"
    }
   }
  }
 ],
 "metadata": {
  "kernelspec": {
   "display_name": "Python 3",
   "language": "python",
   "name": "python3"
  },
  "language_info": {
   "codemirror_mode": {
    "name": "ipython",
    "version": 2
   },
   "file_extension": ".py",
   "mimetype": "text/x-python",
   "name": "python",
   "nbconvert_exporter": "python",
   "pygments_lexer": "ipython2",
   "version": "2.7.6"
  }
 },
 "nbformat": 4,
 "nbformat_minor": 0
}
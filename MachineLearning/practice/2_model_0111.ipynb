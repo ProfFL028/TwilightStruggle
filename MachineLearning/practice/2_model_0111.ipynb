{
 "cells": [
  {
   "cell_type": "code",
   "execution_count": 79,
   "metadata": {
    "collapsed": true
   },
   "outputs": [
    {
     "data": {
      "text/plain": "id\n0        0.0\n1        0.0\n2        0.0\n3        0.0\n4        0.0\n        ... \n41183    1.0\n41184    0.0\n41185    0.0\n41186    1.0\n41187    0.0\nName: y, Length: 41188, dtype: float64"
     },
     "execution_count": 79,
     "metadata": {},
     "output_type": "execute_result"
    }
   ],
   "source": [
    "import pandas as pd\n",
    "import  numpy as np\n",
    "\n",
    "data = pd.read_csv(\"./data/2_preprcossing_train.csv\", index_col='id')\n",
    "data.head(5)\n",
    "X = data.iloc[:, :-1]\n",
    "y = data['y']\n",
    "y"
   ]
  },
  {
   "cell_type": "code",
   "execution_count": 80,
   "outputs": [],
   "source": [
    "from sklearn.model_selection import train_test_split\n",
    "random_seed = 42\n",
    "X_train, X_valid, y_train, y_valid = train_test_split(X, y, test_size=0.25, random_state=random_seed, stratify=y)"
   ],
   "metadata": {
    "collapsed": false,
    "pycharm": {
     "name": "#%%\n"
    }
   }
  },
  {
   "cell_type": "code",
   "execution_count": 81,
   "outputs": [],
   "source": [
    "from sklearn.impute import SimpleImputer\n",
    "impute = SimpleImputer(strategy='most_frequent')\n",
    "X_train = impute.fit_transform(X_train)\n",
    "X_valid = impute.transform(X_valid)\n",
    "X_train = pd.DataFrame(X_train, columns=X.columns)"
   ],
   "metadata": {
    "collapsed": false,
    "pycharm": {
     "name": "#%%\n"
    }
   }
  },
  {
   "cell_type": "code",
   "execution_count": 82,
   "outputs": [],
   "source": [
    "def age_to_int(age, step=5, young_age=20, old_age=60, default=0, old_age_value=99):\n",
    "    if age is None:\n",
    "        return default\n",
    "    if str(age).isnumeric():\n",
    "        int_age = int(age)\n",
    "        if int_age <= 0 or int_age >= 120:\n",
    "            return default\n",
    "        if int_age < young_age:\n",
    "            return 1\n",
    "        if int_age >= old_age:\n",
    "            return old_age_value\n",
    "        return (int_age - young_age + 1) // step + 1\n",
    "    return default\n",
    "X_train['age'] = X_train['age'].apply(lambda age: age_to_int(age))"
   ],
   "metadata": {
    "collapsed": false,
    "pycharm": {
     "name": "#%%\n"
    }
   }
  },
  {
   "cell_type": "code",
   "execution_count": 83,
   "outputs": [
    {
     "data": {
      "text/plain": "0.0    27411\n1.0    27411\nName: y, dtype: int64"
     },
     "execution_count": 83,
     "metadata": {},
     "output_type": "execute_result"
    }
   ],
   "source": [
    "from imblearn.over_sampling import SMOTE, BorderlineSMOTE\n",
    "oversample = BorderlineSMOTE()\n",
    "X_over, y_over = oversample.fit_resample(X_train, y_train)\n",
    "y_over.value_counts()"
   ],
   "metadata": {
    "collapsed": false,
    "pycharm": {
     "name": "#%%\n"
    }
   }
  },
  {
   "cell_type": "code",
   "execution_count": 84,
   "outputs": [
    {
     "name": "stdout",
     "output_type": "stream",
     "text": [
      "0.9512940919515125\n",
      "0.5732038834951456\n"
     ]
    }
   ],
   "source": [
    "from sklearn.ensemble import RandomForestClassifier\n",
    "model = RandomForestClassifier(max_depth=12, n_estimators=200, random_state=42)\n",
    "model.fit(X_over, y_over)\n",
    "\n",
    "y_train_pred = model.predict(X_over)\n",
    "y_valid_pred = model.predict(X_valid)\n",
    "\n",
    "from sklearn.metrics import f1_score\n",
    "print(f1_score(y_over, y_train_pred))\n",
    "print(f1_score(y_valid, y_valid_pred))"
   ],
   "metadata": {
    "collapsed": false,
    "pycharm": {
     "name": "#%%\n"
    }
   }
  },
  {
   "cell_type": "code",
   "execution_count": 85,
   "outputs": [
    {
     "name": "stdout",
     "output_type": "stream",
     "text": [
      "0.9512940919515125\n",
      "0.5732038834951456\n"
     ]
    }
   ],
   "source": [
    "from sklearn.svm import SVC\n",
    "svc = SVC(C=0.1, random_state=42)\n",
    "svc.fit(X_over, y_over)\n",
    "\n",
    "y_train_pred = model.predict(X_over)\n",
    "y_valid_pred = model.predict(X_valid)\n",
    "\n",
    "print(f1_score(y_over, y_train_pred))\n",
    "print(f1_score(y_valid, y_valid_pred))"
   ],
   "metadata": {
    "collapsed": false,
    "pycharm": {
     "name": "#%%\n"
    }
   }
  },
  {
   "cell_type": "code",
   "execution_count": 50,
   "outputs": [
    {
     "name": "stdout",
     "output_type": "stream",
     "text": [
      "best score: 0.8948, and best params: {'min_samples_leaf': 100}\n",
      "LightGBM f1_score: 57.0847%\n"
     ]
    }
   ],
   "source": [
    "# param_grid = {\n",
    "#     'min_samples_leaf': [100, 200, 300, 400, 500, 1000]\n",
    "# }\n",
    "from sklearn.experimental.enable_halving_search_cv import HalvingGridSearchCV\n",
    "from sklearn.model_selection import GridSearchCV\n",
    "model = RandomForestClassifier(max_depth=12, n_estimators=300, random_state=42)\n",
    "gs = HalvingGridSearchCV(estimator=model, param_grid=param_grid, scoring='f1_weighted', cv=5)\n",
    "gs.fit(X_over, y_over)\n",
    "print(\"best score: %.4f, and best params: %s\" % (gs.best_score_, gs.best_params_))\n",
    "y_pred = gs.predict(X_valid)\n",
    "print(\"LightGBM f1_score: %.4f%%\" % (f1_score(y_valid, y_pred) * 100))"
   ],
   "metadata": {
    "collapsed": false,
    "pycharm": {
     "name": "#%%\n"
    }
   }
  },
  {
   "cell_type": "code",
   "execution_count": 51,
   "outputs": [
    {
     "name": "stdout",
     "output_type": "stream",
     "text": [
      "0.8558994197292069\n",
      "0.512639029322548\n"
     ]
    }
   ],
   "source": [
    "from lightgbm.sklearn import LGBMClassifier\n",
    "lgb =LGBMClassifier(max_depth=10, n_estimators=500, random_state=42)\n",
    "lgb.fit(X_over, y_over)\n",
    "\n",
    "train_pred = lgb.predict(X_train)\n",
    "test_pred = lgb.predict(X_valid)\n",
    "print(f1_score(train_pred,y_train))\n",
    "print(f1_score(y_valid, test_pred))\n"
   ],
   "metadata": {
    "collapsed": false,
    "pycharm": {
     "name": "#%%\n"
    }
   }
  },
  {
   "cell_type": "code",
   "execution_count": 52,
   "outputs": [],
   "source": [
    "test = pd.read_csv(\"./data/2_preprcossing_test.csv\", index_col='id')\n",
    "test = test.iloc[:, :-1]\n",
    "test_columns = test.columns\n",
    "test_index = test.index\n",
    "test = impute.transform(test)\n",
    "test_y = gs.predict(test)\n",
    "test_y = ['yes' if y==1 else 'no' for y in test_y]\n",
    "test_y = pd.DataFrame(test_y, index=test_index, columns=['Predicted_Results'])\n",
    "test_y.to_csv(\"././data/方笠_result.csv\")"
   ],
   "metadata": {
    "collapsed": false,
    "pycharm": {
     "name": "#%%\n"
    }
   }
  }
 ],
 "metadata": {
  "kernelspec": {
   "display_name": "Python 3",
   "language": "python",
   "name": "python3"
  },
  "language_info": {
   "codemirror_mode": {
    "name": "ipython",
    "version": 2
   },
   "file_extension": ".py",
   "mimetype": "text/x-python",
   "name": "python",
   "nbconvert_exporter": "python",
   "pygments_lexer": "ipython2",
   "version": "2.7.6"
  }
 },
 "nbformat": 4,
 "nbformat_minor": 0
}
{
 "cells": [
  {
   "cell_type": "code",
   "execution_count": 1,
   "metadata": {
    "collapsed": true
   },
   "outputs": [],
   "source": [
    "import numpy as np\n",
    "import pandas as pd"
   ]
  },
  {
   "cell_type": "code",
   "execution_count": 2,
   "outputs": [
    {
     "data": {
      "text/plain": "   ID area   ck ck-saveall ck-drawall ck-savetime ck-drawtime ck-saveavg  \\\n0   3  709    0          ?        NaN           ?           ?          0   \n1   4    .  NaN          0          0           0         NaN          0   \n2   5  616    ?          0          .           0           0          0   \n3   6  615    0          0          0           ?         NaN          ?   \n4   7    .    0          0          0         NaN           .          ?   \n\n  ck-drawavg ck-avg  ... dep-avg dep-9201 fed-9201 fed-avg comp ck-changame  \\\n0        NaN      ?  ...       0        0      NaN       0    0           0   \n1          0      ?  ...       0        ?        ?       0    0           0   \n2        NaN      0  ...       0      NaN        0       .    0           0   \n3          0      0  ...       0        0        0     NaN    0           0   \n4          0    NaN  ...       0        0        0       0    ?           0   \n\n  dep-changame ck-changtime dep-changtime VV  \n0            0            0             0  0  \n1            0            0             0  0  \n2            0            0             .  0  \n3            0            0             0  0  \n4            0            ?             0  0  \n\n[5 rows x 26 columns]",
      "text/html": "<div>\n<style scoped>\n    .dataframe tbody tr th:only-of-type {\n        vertical-align: middle;\n    }\n\n    .dataframe tbody tr th {\n        vertical-align: top;\n    }\n\n    .dataframe thead th {\n        text-align: right;\n    }\n</style>\n<table border=\"1\" class=\"dataframe\">\n  <thead>\n    <tr style=\"text-align: right;\">\n      <th></th>\n      <th>ID</th>\n      <th>area</th>\n      <th>ck</th>\n      <th>ck-saveall</th>\n      <th>ck-drawall</th>\n      <th>ck-savetime</th>\n      <th>ck-drawtime</th>\n      <th>ck-saveavg</th>\n      <th>ck-drawavg</th>\n      <th>ck-avg</th>\n      <th>...</th>\n      <th>dep-avg</th>\n      <th>dep-9201</th>\n      <th>fed-9201</th>\n      <th>fed-avg</th>\n      <th>comp</th>\n      <th>ck-changame</th>\n      <th>dep-changame</th>\n      <th>ck-changtime</th>\n      <th>dep-changtime</th>\n      <th>VV</th>\n    </tr>\n  </thead>\n  <tbody>\n    <tr>\n      <th>0</th>\n      <td>3</td>\n      <td>709</td>\n      <td>0</td>\n      <td>?</td>\n      <td>NaN</td>\n      <td>?</td>\n      <td>?</td>\n      <td>0</td>\n      <td>NaN</td>\n      <td>?</td>\n      <td>...</td>\n      <td>0</td>\n      <td>0</td>\n      <td>NaN</td>\n      <td>0</td>\n      <td>0</td>\n      <td>0</td>\n      <td>0</td>\n      <td>0</td>\n      <td>0</td>\n      <td>0</td>\n    </tr>\n    <tr>\n      <th>1</th>\n      <td>4</td>\n      <td>.</td>\n      <td>NaN</td>\n      <td>0</td>\n      <td>0</td>\n      <td>0</td>\n      <td>NaN</td>\n      <td>0</td>\n      <td>0</td>\n      <td>?</td>\n      <td>...</td>\n      <td>0</td>\n      <td>?</td>\n      <td>?</td>\n      <td>0</td>\n      <td>0</td>\n      <td>0</td>\n      <td>0</td>\n      <td>0</td>\n      <td>0</td>\n      <td>0</td>\n    </tr>\n    <tr>\n      <th>2</th>\n      <td>5</td>\n      <td>616</td>\n      <td>?</td>\n      <td>0</td>\n      <td>.</td>\n      <td>0</td>\n      <td>0</td>\n      <td>0</td>\n      <td>NaN</td>\n      <td>0</td>\n      <td>...</td>\n      <td>0</td>\n      <td>NaN</td>\n      <td>0</td>\n      <td>.</td>\n      <td>0</td>\n      <td>0</td>\n      <td>0</td>\n      <td>0</td>\n      <td>.</td>\n      <td>0</td>\n    </tr>\n    <tr>\n      <th>3</th>\n      <td>6</td>\n      <td>615</td>\n      <td>0</td>\n      <td>0</td>\n      <td>0</td>\n      <td>?</td>\n      <td>NaN</td>\n      <td>?</td>\n      <td>0</td>\n      <td>0</td>\n      <td>...</td>\n      <td>0</td>\n      <td>0</td>\n      <td>0</td>\n      <td>NaN</td>\n      <td>0</td>\n      <td>0</td>\n      <td>0</td>\n      <td>0</td>\n      <td>0</td>\n      <td>0</td>\n    </tr>\n    <tr>\n      <th>4</th>\n      <td>7</td>\n      <td>.</td>\n      <td>0</td>\n      <td>0</td>\n      <td>0</td>\n      <td>NaN</td>\n      <td>.</td>\n      <td>?</td>\n      <td>0</td>\n      <td>NaN</td>\n      <td>...</td>\n      <td>0</td>\n      <td>0</td>\n      <td>0</td>\n      <td>0</td>\n      <td>?</td>\n      <td>0</td>\n      <td>0</td>\n      <td>?</td>\n      <td>0</td>\n      <td>0</td>\n    </tr>\n  </tbody>\n</table>\n<p>5 rows × 26 columns</p>\n</div>"
     },
     "execution_count": 2,
     "metadata": {},
     "output_type": "execute_result"
    }
   ],
   "source": [
    "data = pd.read_csv(\"./data/3_train.csv\")\n",
    "data.head(5)"
   ],
   "metadata": {
    "collapsed": false,
    "pycharm": {
     "name": "#%%\n"
    }
   }
  },
  {
   "cell_type": "code",
   "execution_count": 3,
   "outputs": [
    {
     "name": "stdout",
     "output_type": "stream",
     "text": [
      "---------------------------------------------\n",
      "data contains [ 26144 ] records \n",
      "ID do not have any null values.\n",
      "ID  is numeric column:\n",
      "count    26144.000000\n",
      "mean     16333.478045\n",
      "std       9429.671054\n",
      "min          3.000000\n",
      "25%       8139.250000\n",
      "50%      16340.500000\n",
      "75%      24498.250000\n",
      "max      32682.000000\n",
      "Name: ID, dtype: float64\n",
      "\n",
      "\n",
      "\n",
      "---------------------------------------------\n",
      "area have 1721 null values:\n",
      "\n",
      "area  has [ 489 ] different values, please create features yourself!\n",
      "please notice here are some seldom_indexes:  Index(['815', '23700', '840', '90900', '260', '90800', '545', '826', '638',\n",
      "       '974',\n",
      "       ...\n",
      "       '605', '98300', '544', '26500', '31200', '263', '513', '74500', '223',\n",
      "       '270'],\n",
      "      dtype='object', length=253)\n",
      "\n",
      "\n",
      "\n",
      "---------------------------------------------\n",
      "ck have 1641 null values:\n",
      "\n",
      "0    12749\n",
      "1     6717\n",
      "?     3370\n",
      ".     1667\n",
      "Name: ck, dtype: int64\n",
      "use following code to generate features from label mapping:\n",
      "ck_mapping = {'0': 0, '1': 1, '?': 2, '.': 3}\n",
      "#TODO: add your logic to handle None\n",
      "data_ck, ck_ohe = one_hot_encoder_column(data, 'ck', ck_mapping, fill_na=99)\n",
      "\n",
      "\n",
      "\n",
      "---------------------------------------------\n",
      "ck-saveall have 1640 null values:\n",
      "\n",
      "ck-saveall  has [ 2280 ] different values, please create features yourself!\n",
      "please notice here are some seldom_indexes:  Index(['281156', '397373', '405000', '143687', '9968000', '1378000',\n",
      "       '70215878', '844789', '457180', '975000',\n",
      "       ...\n",
      "       '3229620', '4600', '5278671', '1170000', '16835237', '232800', '35000',\n",
      "       '704660', '20200', '10966748'],\n",
      "      dtype='object', length=2210)\n",
      "\n",
      "\n",
      "\n",
      "---------------------------------------------\n",
      "ck-drawall have 1695 null values:\n",
      "\n",
      "ck-drawall  has [ 2203 ] different values, please create features yourself!\n",
      "please notice here are some seldom_indexes:  Index(['26861', '3325735', '626346', '113684621', '83774178', '4144746',\n",
      "       '30506019', '160390', '145748', '2577569',\n",
      "       ...\n",
      "       '4015799', '2112638', '132146558', '122900', '4988156', '5199', '58371',\n",
      "       '6765647', '1170000', '418396'],\n",
      "      dtype='object', length=2154)\n",
      "\n",
      "\n",
      "\n",
      "---------------------------------------------\n",
      "ck-savetime have 1626 null values:\n",
      "\n",
      "ck-savetime  has [ 182 ] different values, please create features yourself!\n",
      "please notice here are some seldom_indexes:  Index(['39', '47', '51', '57', '46', '56', '53', '58', '54', '73',\n",
      "       ...\n",
      "       '183', '218', '997', '149', '173', '263', '150', '98', '182', '167'],\n",
      "      dtype='object', length=133)\n",
      "\n",
      "\n",
      "\n",
      "---------------------------------------------\n",
      "ck-drawtime have 1649 null values:\n",
      "\n",
      "ck-drawtime  has [ 302 ] different values, please create features yourself!\n",
      "please notice here are some seldom_indexes:  Index(['60', '123', '75', '63', '53', '59', '91', '101', '74', '97',\n",
      "       ...\n",
      "       '666', '1623', '204', '190', '209', '452', '227', '234', '146', '329'],\n",
      "      dtype='object', length=240)\n",
      "\n",
      "\n",
      "\n",
      "---------------------------------------------\n",
      "ck-saveavg have 1659 null values:\n",
      "\n",
      "ck-saveavg  has [ 2280 ] different values, please create features yourself!\n",
      "please notice here are some seldom_indexes:  Index(['66028', '121231', '377617', '35130', '18835', '19260', '11585',\n",
      "       '40724', '1412043', '46985',\n",
      "       ...\n",
      "       '128868', '77802', '23343', '104701', '93667', '43645', '546221',\n",
      "       '23251', '334909', '37806'],\n",
      "      dtype='object', length=2213)\n",
      "\n",
      "\n",
      "\n",
      "---------------------------------------------\n",
      "ck-drawavg have 1690 null values:\n",
      "\n",
      "ck-drawavg  has [ 2209 ] different values, please create features yourself!\n",
      "please notice here are some seldom_indexes:  Index(['78346', '51064', '8855', '27465', '405000', '46027', '9070', '606494',\n",
      "       '73521', '25900',\n",
      "       ...\n",
      "       '53282315', '5199', '182656', '690046', '54208', '45379', '25450',\n",
      "       '12317', '59607', '2130'],\n",
      "      dtype='object', length=2147)\n",
      "\n",
      "\n",
      "\n",
      "---------------------------------------------\n",
      "ck-avg have 1632 null values:\n",
      "\n",
      "ck-avg  has [ 2206 ] different values, please create features yourself!\n",
      "please notice here are some seldom_indexes:  Index(['11673', '2962', '14221', '7954', '16707', '2727', '28105', '1661',\n",
      "       '93586', '1918',\n",
      "       ...\n",
      "       '17196', '26222', '1860', '7792', '1367', '1769', '51381', '7167',\n",
      "       '6681', '14457'],\n",
      "      dtype='object', length=1684)\n",
      "\n",
      "\n",
      "\n",
      "---------------------------------------------\n",
      "dep-saveall have 1572 null values:\n",
      "\n",
      "dep-saveall  has [ 6688 ] different values, please create features yourself!\n",
      "please notice here are some seldom_indexes:  Index([], dtype='object')\n",
      "\n",
      "\n",
      "\n",
      "---------------------------------------------\n",
      "dep-drawall have 1673 null values:\n",
      "\n",
      "dep-drawall  has [ 6706 ] different values, please create features yourself!\n",
      "please notice here are some seldom_indexes:  Index([], dtype='object')\n",
      "\n",
      "\n",
      "\n",
      "---------------------------------------------\n",
      "dep-savetime have 1598 null values:\n",
      "\n",
      "dep-savetime  has [ 509 ] different values, please create features yourself!\n",
      "please notice here are some seldom_indexes:  Index(['166', '109', '181', '147', '132', '189', '159', '140', '149', '169',\n",
      "       ...\n",
      "       '410', '708', '323', '643', '875', '413', '419', '1691', '380', '264'],\n",
      "      dtype='object', length=380)\n",
      "\n",
      "\n",
      "\n",
      "---------------------------------------------\n",
      "dep-drawtime have 1774 null values:\n",
      "\n",
      "dep-drawtime  has [ 390 ] different values, please create features yourself!\n",
      "please notice here are some seldom_indexes:  Index(['134', '102', '96', '120', '137', '152', '182', '180', '107', '133',\n",
      "       ...\n",
      "       '355', '618', '279', '751', '286', '2923', '2771', '715', '314', '174'],\n",
      "      dtype='object', length=273)\n",
      "\n",
      "\n",
      "\n",
      "---------------------------------------------\n",
      "depsaveavg have 1662 null values:\n",
      "\n",
      "depsaveavg  has [ 6648 ] different values, please create features yourself!\n",
      "please notice here are some seldom_indexes:  Index([], dtype='object')\n",
      "\n",
      "\n",
      "\n",
      "---------------------------------------------\n",
      "depdrawavg have 1718 null values:\n",
      "\n",
      "depdrawavg  has [ 6787 ] different values, please create features yourself!\n",
      "please notice here are some seldom_indexes:  Index([], dtype='object')\n",
      "\n",
      "\n",
      "\n",
      "---------------------------------------------\n",
      "dep-avg have 1646 null values:\n",
      "\n",
      "dep-avg  has [ 6469 ] different values, please create features yourself!\n",
      "please notice here are some seldom_indexes:  Index([], dtype='object')\n",
      "\n",
      "\n",
      "\n",
      "---------------------------------------------\n",
      "dep-9201 have 1640 null values:\n",
      "\n",
      "dep-9201  has [ 3831 ] different values, please create features yourself!\n",
      "please notice here are some seldom_indexes:  Index([], dtype='object')\n",
      "\n",
      "\n",
      "\n",
      "---------------------------------------------\n",
      "fed-9201 have 1634 null values:\n",
      "\n",
      "fed-9201  has [ 396 ] different values, please create features yourself!\n",
      "please notice here are some seldom_indexes:  Index(['3470', '28', '3', '3471', '3478', '553', '3808', '49', '84', '27',\n",
      "       ...\n",
      "       '108', '6009', '1941', '3476', '10258', '1365', '7', '9739', '3719795',\n",
      "       '3475'],\n",
      "      dtype='object', length=393)\n",
      "\n",
      "\n",
      "\n",
      "---------------------------------------------\n",
      "fed-avg have 1622 null values:\n",
      "\n",
      "fed-avg  has [ 362 ] different values, please create features yourself!\n",
      "please notice here are some seldom_indexes:  Index(['317', '2', '4', '291', '6', '12', '289', '293', '290', '3',\n",
      "       ...\n",
      "       '1623', '21394', '4609636', '666', '2445', '4451', '145', '221', '559',\n",
      "       '33259'],\n",
      "      dtype='object', length=358)\n",
      "\n",
      "\n",
      "\n",
      "---------------------------------------------\n",
      "comp have 1649 null values:\n",
      "\n",
      "0    17157\n",
      "?     3286\n",
      "1     2401\n",
      ".     1651\n",
      "Name: comp, dtype: int64\n",
      "use following code to generate features from label mapping:\n",
      "comp_mapping = {'0': 0, '?': 1, '1': 2, '.': 3}\n",
      "#TODO: add your logic to handle None\n",
      "data_comp, comp_ohe = one_hot_encoder_column(data, 'comp', comp_mapping, fill_na=99)\n",
      "\n",
      "\n",
      "\n",
      "---------------------------------------------\n",
      "ck-changame have 1637 null values:\n",
      "\n",
      "ck-changame  has [ 2056 ] different values, please create features yourself!\n",
      "please notice here are some seldom_indexes:  Index(['274585', '15864765', '8768914', '5041187', '569495', '6436034',\n",
      "       '46980', '1932900', '2023909', '22307884',\n",
      "       ...\n",
      "       '58371', '2401805', '593600', '2815948', '35000', '2453046', '63223',\n",
      "       '20200', '1140060', '418396'],\n",
      "      dtype='object', length=2007)\n",
      "\n",
      "\n",
      "\n",
      "---------------------------------------------\n",
      "dep-changame have 1657 null values:\n",
      "\n",
      "dep-changame  has [ 4272 ] different values, please create features yourself!\n",
      "please notice here are some seldom_indexes:  Index([], dtype='object')\n",
      "\n",
      "\n",
      "\n",
      "---------------------------------------------\n",
      "ck-changtime have 1678 null values:\n",
      "\n",
      "ck-changtime  has [ 281 ] different values, please create features yourself!\n",
      "please notice here are some seldom_indexes:  Index(['36', '34', '91', '88', '63', '35', '68', '64', '78', '71',\n",
      "       ...\n",
      "       '116', '188', '192', '645', '412', '182', '331', '776', '155', '270'],\n",
      "      dtype='object', length=230)\n",
      "\n",
      "\n",
      "\n",
      "---------------------------------------------\n",
      "dep-changtime have 1627 null values:\n",
      "\n",
      "dep-changtime  has [ 353 ] different values, please create features yourself!\n",
      "please notice here are some seldom_indexes:  Index(['130', '84', '71', '94', '99', '114', '79', '66', '83', '62',\n",
      "       ...\n",
      "       '1687', '352', '993', '16860', '341', '310', '219', '353', '175',\n",
      "       '270'],\n",
      "      dtype='object', length=272)\n",
      "\n",
      "\n",
      "\n",
      "---------------------------------------------\n",
      "VV do not have any null values.\n",
      "VV  is numeric column:\n",
      "count    26144.000000\n",
      "mean         0.022567\n",
      "std          0.148522\n",
      "min          0.000000\n",
      "25%          0.000000\n",
      "50%          0.000000\n",
      "75%          0.000000\n",
      "max          1.000000\n",
      "Name: VV, dtype: float64\n",
      "\n",
      "\n",
      "\n",
      "---------------------------------------------\n"
     ]
    }
   ],
   "source": [
    "from Python.pandas.feature_selection import *\n",
    "object_feature_helper(data)\n"
   ],
   "metadata": {
    "collapsed": false,
    "pycharm": {
     "name": "#%%\n"
    }
   }
  },
  {
   "cell_type": "code",
   "execution_count": 4,
   "outputs": [
    {
     "data": {
      "text/plain": "         0    1    2    3    4    5    6    7    8\n0      0.0  0.0  0.0  0.0  0.0  0.0  1.0  0.0  0.0\n1      0.0  0.0  0.0  0.0  0.0  0.0  0.0  0.0  0.0\n2      0.0  0.0  0.0  0.0  0.0  1.0  0.0  0.0  0.0\n3      0.0  0.0  0.0  0.0  0.0  1.0  0.0  0.0  0.0\n4      0.0  0.0  0.0  0.0  0.0  0.0  0.0  0.0  0.0\n...    ...  ...  ...  ...  ...  ...  ...  ...  ...\n26139  1.0  0.0  0.0  0.0  0.0  0.0  0.0  0.0  0.0\n26140  0.0  0.0  0.0  0.0  0.0  0.0  0.0  1.0  0.0\n26141  1.0  0.0  0.0  0.0  0.0  0.0  0.0  0.0  0.0\n26142  0.0  0.0  0.0  0.0  0.0  0.0  0.0  0.0  0.0\n26143  0.0  0.0  0.0  0.0  0.0  0.0  0.0  0.0  0.0\n\n[26144 rows x 9 columns]",
      "text/html": "<div>\n<style scoped>\n    .dataframe tbody tr th:only-of-type {\n        vertical-align: middle;\n    }\n\n    .dataframe tbody tr th {\n        vertical-align: top;\n    }\n\n    .dataframe thead th {\n        text-align: right;\n    }\n</style>\n<table border=\"1\" class=\"dataframe\">\n  <thead>\n    <tr style=\"text-align: right;\">\n      <th></th>\n      <th>0</th>\n      <th>1</th>\n      <th>2</th>\n      <th>3</th>\n      <th>4</th>\n      <th>5</th>\n      <th>6</th>\n      <th>7</th>\n      <th>8</th>\n    </tr>\n  </thead>\n  <tbody>\n    <tr>\n      <th>0</th>\n      <td>0.0</td>\n      <td>0.0</td>\n      <td>0.0</td>\n      <td>0.0</td>\n      <td>0.0</td>\n      <td>0.0</td>\n      <td>1.0</td>\n      <td>0.0</td>\n      <td>0.0</td>\n    </tr>\n    <tr>\n      <th>1</th>\n      <td>0.0</td>\n      <td>0.0</td>\n      <td>0.0</td>\n      <td>0.0</td>\n      <td>0.0</td>\n      <td>0.0</td>\n      <td>0.0</td>\n      <td>0.0</td>\n      <td>0.0</td>\n    </tr>\n    <tr>\n      <th>2</th>\n      <td>0.0</td>\n      <td>0.0</td>\n      <td>0.0</td>\n      <td>0.0</td>\n      <td>0.0</td>\n      <td>1.0</td>\n      <td>0.0</td>\n      <td>0.0</td>\n      <td>0.0</td>\n    </tr>\n    <tr>\n      <th>3</th>\n      <td>0.0</td>\n      <td>0.0</td>\n      <td>0.0</td>\n      <td>0.0</td>\n      <td>0.0</td>\n      <td>1.0</td>\n      <td>0.0</td>\n      <td>0.0</td>\n      <td>0.0</td>\n    </tr>\n    <tr>\n      <th>4</th>\n      <td>0.0</td>\n      <td>0.0</td>\n      <td>0.0</td>\n      <td>0.0</td>\n      <td>0.0</td>\n      <td>0.0</td>\n      <td>0.0</td>\n      <td>0.0</td>\n      <td>0.0</td>\n    </tr>\n    <tr>\n      <th>...</th>\n      <td>...</td>\n      <td>...</td>\n      <td>...</td>\n      <td>...</td>\n      <td>...</td>\n      <td>...</td>\n      <td>...</td>\n      <td>...</td>\n      <td>...</td>\n    </tr>\n    <tr>\n      <th>26139</th>\n      <td>1.0</td>\n      <td>0.0</td>\n      <td>0.0</td>\n      <td>0.0</td>\n      <td>0.0</td>\n      <td>0.0</td>\n      <td>0.0</td>\n      <td>0.0</td>\n      <td>0.0</td>\n    </tr>\n    <tr>\n      <th>26140</th>\n      <td>0.0</td>\n      <td>0.0</td>\n      <td>0.0</td>\n      <td>0.0</td>\n      <td>0.0</td>\n      <td>0.0</td>\n      <td>0.0</td>\n      <td>1.0</td>\n      <td>0.0</td>\n    </tr>\n    <tr>\n      <th>26141</th>\n      <td>1.0</td>\n      <td>0.0</td>\n      <td>0.0</td>\n      <td>0.0</td>\n      <td>0.0</td>\n      <td>0.0</td>\n      <td>0.0</td>\n      <td>0.0</td>\n      <td>0.0</td>\n    </tr>\n    <tr>\n      <th>26142</th>\n      <td>0.0</td>\n      <td>0.0</td>\n      <td>0.0</td>\n      <td>0.0</td>\n      <td>0.0</td>\n      <td>0.0</td>\n      <td>0.0</td>\n      <td>0.0</td>\n      <td>0.0</td>\n    </tr>\n    <tr>\n      <th>26143</th>\n      <td>0.0</td>\n      <td>0.0</td>\n      <td>0.0</td>\n      <td>0.0</td>\n      <td>0.0</td>\n      <td>0.0</td>\n      <td>0.0</td>\n      <td>0.0</td>\n      <td>0.0</td>\n    </tr>\n  </tbody>\n</table>\n<p>26144 rows × 9 columns</p>\n</div>"
     },
     "execution_count": 4,
     "metadata": {},
     "output_type": "execute_result"
    }
   ],
   "source": [
    "def area_handler(area):\n",
    "    if area in ['.', 'nan', '?']:\n",
    "        return 0\n",
    "    if len(area) < 3:\n",
    "        return str(area) + \"00\"\n",
    "    return str(area)[:3]\n",
    "\n",
    "data_area = data['area'].apply(lambda area: area_handler(str(area)))\n",
    "data_area1 = data_area.apply(lambda area: str(area)[:1])\n",
    "from sklearn.preprocessing import OneHotEncoder\n",
    "area_ohe = OneHotEncoder(drop='first')\n",
    "data_area1_ohe = area_ohe.fit_transform(data_area1.values.reshape(-1,1))\n",
    "data_area1_ohe = pd.DataFrame(data_area1_ohe.toarray(), index=data.index)\n",
    "data_area1_ohe\n"
   ],
   "metadata": {
    "collapsed": false,
    "pycharm": {
     "name": "#%%\n"
    }
   }
  },
  {
   "cell_type": "code",
   "execution_count": 5,
   "outputs": [],
   "source": [
    "ck_mapping = {'0': 0, '1': 1, '?': 0, '.': 0}\n",
    "data_ck, ck_ohe = one_hot_encoder_column(data, 'ck', ck_mapping, fill_na=0)"
   ],
   "metadata": {
    "collapsed": false,
    "pycharm": {
     "name": "#%%\n"
    }
   }
  },
  {
   "cell_type": "code",
   "execution_count": 6,
   "outputs": [],
   "source": [
    "def numeric_to_int(x, na_val=-1):\n",
    "    if x is None:\n",
    "        return na_val\n",
    "    if type(x) == str:\n",
    "        if x in ['?', '.', 'NaN']:\n",
    "            return na_val\n",
    "        return int(x)\n",
    "    if np.isnan(x):\n",
    "        return na_val\n",
    "    return x\n",
    "def multi_fit(x, y, z):\n",
    "    newx = numeric_to_int(x)\n",
    "    newy = numeric_to_int(y)\n",
    "    newz = numeric_to_int(z)\n",
    "    if newx == -1:\n",
    "        if newy != -1 and newz != -1:\n",
    "            newx = newy * newz\n",
    "\n",
    "    if newy == -1:\n",
    "        if newx != -1 and newz > 0:\n",
    "            newy = newx / newz\n",
    "    if newz == -1:\n",
    "        if newx != -1 and newy > 0:\n",
    "            newz = newx / newy\n",
    "\n",
    "    return newx, newy, newz\n",
    "data_ck_saveall, data_ck_savetime, data_ck_saveavg = \\\n",
    "    zip(*data.apply(lambda row: multi_fit(row['ck-saveall'], row['ck-savetime'], row['ck-saveavg']), axis=1))\n",
    "data_ckall = pd.concat([pd.Series(data_ck_saveall), pd.Series(data_ck_savetime), pd.Series(data_ck_saveavg)], axis=1)"
   ],
   "metadata": {
    "collapsed": false,
    "pycharm": {
     "name": "#%%\n"
    }
   }
  },
  {
   "cell_type": "code",
   "execution_count": 7,
   "outputs": [],
   "source": [
    "data_dk_saveall, data_dk_savetime, data_dk_saveavg = \\\n",
    "    zip(*data.apply(lambda row: multi_fit(row['ck-drawall'], row['ck-drawtime'], row['ck-drawavg']), axis=1))\n",
    "data_dkall = pd.concat([pd.Series(data_dk_saveall), pd.Series(data_dk_savetime), pd.Series(data_dk_saveavg)], axis=1)"
   ],
   "metadata": {
    "collapsed": false,
    "pycharm": {
     "name": "#%%\n"
    }
   }
  },
  {
   "cell_type": "code",
   "execution_count": 8,
   "outputs": [
    {
     "data": {
      "text/plain": "0           0\n1           0\n2           0\n3           0\n4           0\n         ... \n26139       0\n26140       0\n26141       0\n26142       0\n26143    1149\nName: ck-avg, Length: 26144, dtype: int64"
     },
     "execution_count": 8,
     "metadata": {},
     "output_type": "execute_result"
    }
   ],
   "source": [
    "data_ck_avg = data['ck-avg'].apply(lambda x: numeric_to_int(x, na_val=0))\n",
    "data_ck_avg"
   ],
   "metadata": {
    "collapsed": false,
    "pycharm": {
     "name": "#%%\n"
    }
   }
  },
  {
   "cell_type": "code",
   "execution_count": 9,
   "outputs": [
    {
     "data": {
      "text/plain": "0            0\n1            0\n2            0\n3            0\n4            0\n         ...  \n26139     1443\n26140    25566\n26141     2173\n26142        0\n26143        0\nName: dep-avg, Length: 26144, dtype: int64"
     },
     "execution_count": 9,
     "metadata": {},
     "output_type": "execute_result"
    }
   ],
   "source": [
    "data_dep_avg = data['dep-avg'].apply(lambda x: numeric_to_int(x, na_val=0))\n",
    "data_dep_avg"
   ],
   "metadata": {
    "collapsed": false,
    "pycharm": {
     "name": "#%%\n"
    }
   }
  },
  {
   "cell_type": "code",
   "execution_count": 10,
   "outputs": [],
   "source": [
    "data_dep9201 = data['dep-9201'].apply(lambda x: numeric_to_int(x, na_val=0))\n",
    "data_fed9201 = data['fed-9201'].apply(lambda x: numeric_to_int(x, na_val=0))\n",
    "data_fed_avg = data['fed-avg'].apply(lambda x: numeric_to_int(x, na_val=0))"
   ],
   "metadata": {
    "collapsed": false,
    "pycharm": {
     "name": "#%%\n"
    }
   }
  },
  {
   "cell_type": "code",
   "execution_count": 11,
   "outputs": [],
   "source": [
    "data_ck_changame = data['ck-changame'].apply(lambda x: numeric_to_int(x, na_val=0))\n",
    "data_dep_changame = data['dep-changame'].apply(lambda x: numeric_to_int(x, na_val=0))\n",
    "data_ck_changtime = data['ck-changtime'].apply(lambda x: numeric_to_int(x, na_val=0))\n",
    "data_dep_changtime = data['dep-changtime'].apply(lambda x: numeric_to_int(x, na_val=0))"
   ],
   "metadata": {
    "collapsed": false,
    "pycharm": {
     "name": "#%%\n"
    }
   }
  },
  {
   "cell_type": "code",
   "execution_count": 12,
   "outputs": [],
   "source": [
    "comp_mapping = {'0': 0, '?': 0, '1': 1, '.': 0}\n",
    "data_comp, comp_ohe = one_hot_encoder_column(data, 'comp', comp_mapping, fill_na=0)"
   ],
   "metadata": {
    "collapsed": false,
    "pycharm": {
     "name": "#%%\n"
    }
   }
  },
  {
   "cell_type": "code",
   "execution_count": 13,
   "outputs": [
    {
     "data": {
      "text/plain": "         0    1    2    3    4    5    6    7    8  ck_0  ...  ck-avg  \\\n0      0.0  0.0  0.0  0.0  0.0  0.0  1.0  0.0  0.0   0.0  ...       0   \n1      0.0  0.0  0.0  0.0  0.0  0.0  0.0  0.0  0.0   0.0  ...       0   \n2      0.0  0.0  0.0  0.0  0.0  1.0  0.0  0.0  0.0   0.0  ...       0   \n3      0.0  0.0  0.0  0.0  0.0  1.0  0.0  0.0  0.0   0.0  ...       0   \n4      0.0  0.0  0.0  0.0  0.0  0.0  0.0  0.0  0.0   0.0  ...       0   \n...    ...  ...  ...  ...  ...  ...  ...  ...  ...   ...  ...     ...   \n26139  1.0  0.0  0.0  0.0  0.0  0.0  0.0  0.0  0.0   0.0  ...       0   \n26140  0.0  0.0  0.0  0.0  0.0  0.0  0.0  1.0  0.0   0.0  ...       0   \n26141  1.0  0.0  0.0  0.0  0.0  0.0  0.0  0.0  0.0   0.0  ...       0   \n26142  0.0  0.0  0.0  0.0  0.0  0.0  0.0  0.0  0.0   0.0  ...       0   \n26143  0.0  0.0  0.0  0.0  0.0  0.0  0.0  0.0  0.0   0.0  ...    1149   \n\n       dep-avg  dep-9201  fed-9201  fed-avg  ck-changame  dep-changame  \\\n0            0         0         0        0            0             0   \n1            0         0         0        0            0             0   \n2            0         0         0        0            0             0   \n3            0         0         0        0            0             0   \n4            0         0         0        0            0             0   \n...        ...       ...       ...      ...          ...           ...   \n26139     1443         0         0        0            0             0   \n26140    25566         0         0        0            0             0   \n26141     2173         0         0        0            0             0   \n26142        0         0         0        0            0             0   \n26143        0         0         0        0            0             0   \n\n       ck-changtime  dep-changtime  comp_0  \n0                 0              0     0.0  \n1                 0              0     0.0  \n2                 0              0     0.0  \n3                 0              0     0.0  \n4                 0              0     0.0  \n...             ...            ...     ...  \n26139             0              0     0.0  \n26140             0              0     0.0  \n26141             0              0     0.0  \n26142             0              0     0.0  \n26143             0              0     0.0  \n\n[26144 rows x 26 columns]",
      "text/html": "<div>\n<style scoped>\n    .dataframe tbody tr th:only-of-type {\n        vertical-align: middle;\n    }\n\n    .dataframe tbody tr th {\n        vertical-align: top;\n    }\n\n    .dataframe thead th {\n        text-align: right;\n    }\n</style>\n<table border=\"1\" class=\"dataframe\">\n  <thead>\n    <tr style=\"text-align: right;\">\n      <th></th>\n      <th>0</th>\n      <th>1</th>\n      <th>2</th>\n      <th>3</th>\n      <th>4</th>\n      <th>5</th>\n      <th>6</th>\n      <th>7</th>\n      <th>8</th>\n      <th>ck_0</th>\n      <th>...</th>\n      <th>ck-avg</th>\n      <th>dep-avg</th>\n      <th>dep-9201</th>\n      <th>fed-9201</th>\n      <th>fed-avg</th>\n      <th>ck-changame</th>\n      <th>dep-changame</th>\n      <th>ck-changtime</th>\n      <th>dep-changtime</th>\n      <th>comp_0</th>\n    </tr>\n  </thead>\n  <tbody>\n    <tr>\n      <th>0</th>\n      <td>0.0</td>\n      <td>0.0</td>\n      <td>0.0</td>\n      <td>0.0</td>\n      <td>0.0</td>\n      <td>0.0</td>\n      <td>1.0</td>\n      <td>0.0</td>\n      <td>0.0</td>\n      <td>0.0</td>\n      <td>...</td>\n      <td>0</td>\n      <td>0</td>\n      <td>0</td>\n      <td>0</td>\n      <td>0</td>\n      <td>0</td>\n      <td>0</td>\n      <td>0</td>\n      <td>0</td>\n      <td>0.0</td>\n    </tr>\n    <tr>\n      <th>1</th>\n      <td>0.0</td>\n      <td>0.0</td>\n      <td>0.0</td>\n      <td>0.0</td>\n      <td>0.0</td>\n      <td>0.0</td>\n      <td>0.0</td>\n      <td>0.0</td>\n      <td>0.0</td>\n      <td>0.0</td>\n      <td>...</td>\n      <td>0</td>\n      <td>0</td>\n      <td>0</td>\n      <td>0</td>\n      <td>0</td>\n      <td>0</td>\n      <td>0</td>\n      <td>0</td>\n      <td>0</td>\n      <td>0.0</td>\n    </tr>\n    <tr>\n      <th>2</th>\n      <td>0.0</td>\n      <td>0.0</td>\n      <td>0.0</td>\n      <td>0.0</td>\n      <td>0.0</td>\n      <td>1.0</td>\n      <td>0.0</td>\n      <td>0.0</td>\n      <td>0.0</td>\n      <td>0.0</td>\n      <td>...</td>\n      <td>0</td>\n      <td>0</td>\n      <td>0</td>\n      <td>0</td>\n      <td>0</td>\n      <td>0</td>\n      <td>0</td>\n      <td>0</td>\n      <td>0</td>\n      <td>0.0</td>\n    </tr>\n    <tr>\n      <th>3</th>\n      <td>0.0</td>\n      <td>0.0</td>\n      <td>0.0</td>\n      <td>0.0</td>\n      <td>0.0</td>\n      <td>1.0</td>\n      <td>0.0</td>\n      <td>0.0</td>\n      <td>0.0</td>\n      <td>0.0</td>\n      <td>...</td>\n      <td>0</td>\n      <td>0</td>\n      <td>0</td>\n      <td>0</td>\n      <td>0</td>\n      <td>0</td>\n      <td>0</td>\n      <td>0</td>\n      <td>0</td>\n      <td>0.0</td>\n    </tr>\n    <tr>\n      <th>4</th>\n      <td>0.0</td>\n      <td>0.0</td>\n      <td>0.0</td>\n      <td>0.0</td>\n      <td>0.0</td>\n      <td>0.0</td>\n      <td>0.0</td>\n      <td>0.0</td>\n      <td>0.0</td>\n      <td>0.0</td>\n      <td>...</td>\n      <td>0</td>\n      <td>0</td>\n      <td>0</td>\n      <td>0</td>\n      <td>0</td>\n      <td>0</td>\n      <td>0</td>\n      <td>0</td>\n      <td>0</td>\n      <td>0.0</td>\n    </tr>\n    <tr>\n      <th>...</th>\n      <td>...</td>\n      <td>...</td>\n      <td>...</td>\n      <td>...</td>\n      <td>...</td>\n      <td>...</td>\n      <td>...</td>\n      <td>...</td>\n      <td>...</td>\n      <td>...</td>\n      <td>...</td>\n      <td>...</td>\n      <td>...</td>\n      <td>...</td>\n      <td>...</td>\n      <td>...</td>\n      <td>...</td>\n      <td>...</td>\n      <td>...</td>\n      <td>...</td>\n      <td>...</td>\n    </tr>\n    <tr>\n      <th>26139</th>\n      <td>1.0</td>\n      <td>0.0</td>\n      <td>0.0</td>\n      <td>0.0</td>\n      <td>0.0</td>\n      <td>0.0</td>\n      <td>0.0</td>\n      <td>0.0</td>\n      <td>0.0</td>\n      <td>0.0</td>\n      <td>...</td>\n      <td>0</td>\n      <td>1443</td>\n      <td>0</td>\n      <td>0</td>\n      <td>0</td>\n      <td>0</td>\n      <td>0</td>\n      <td>0</td>\n      <td>0</td>\n      <td>0.0</td>\n    </tr>\n    <tr>\n      <th>26140</th>\n      <td>0.0</td>\n      <td>0.0</td>\n      <td>0.0</td>\n      <td>0.0</td>\n      <td>0.0</td>\n      <td>0.0</td>\n      <td>0.0</td>\n      <td>1.0</td>\n      <td>0.0</td>\n      <td>0.0</td>\n      <td>...</td>\n      <td>0</td>\n      <td>25566</td>\n      <td>0</td>\n      <td>0</td>\n      <td>0</td>\n      <td>0</td>\n      <td>0</td>\n      <td>0</td>\n      <td>0</td>\n      <td>0.0</td>\n    </tr>\n    <tr>\n      <th>26141</th>\n      <td>1.0</td>\n      <td>0.0</td>\n      <td>0.0</td>\n      <td>0.0</td>\n      <td>0.0</td>\n      <td>0.0</td>\n      <td>0.0</td>\n      <td>0.0</td>\n      <td>0.0</td>\n      <td>0.0</td>\n      <td>...</td>\n      <td>0</td>\n      <td>2173</td>\n      <td>0</td>\n      <td>0</td>\n      <td>0</td>\n      <td>0</td>\n      <td>0</td>\n      <td>0</td>\n      <td>0</td>\n      <td>0.0</td>\n    </tr>\n    <tr>\n      <th>26142</th>\n      <td>0.0</td>\n      <td>0.0</td>\n      <td>0.0</td>\n      <td>0.0</td>\n      <td>0.0</td>\n      <td>0.0</td>\n      <td>0.0</td>\n      <td>0.0</td>\n      <td>0.0</td>\n      <td>0.0</td>\n      <td>...</td>\n      <td>0</td>\n      <td>0</td>\n      <td>0</td>\n      <td>0</td>\n      <td>0</td>\n      <td>0</td>\n      <td>0</td>\n      <td>0</td>\n      <td>0</td>\n      <td>0.0</td>\n    </tr>\n    <tr>\n      <th>26143</th>\n      <td>0.0</td>\n      <td>0.0</td>\n      <td>0.0</td>\n      <td>0.0</td>\n      <td>0.0</td>\n      <td>0.0</td>\n      <td>0.0</td>\n      <td>0.0</td>\n      <td>0.0</td>\n      <td>0.0</td>\n      <td>...</td>\n      <td>1149</td>\n      <td>0</td>\n      <td>0</td>\n      <td>0</td>\n      <td>0</td>\n      <td>0</td>\n      <td>0</td>\n      <td>0</td>\n      <td>0</td>\n      <td>0.0</td>\n    </tr>\n  </tbody>\n</table>\n<p>26144 rows × 26 columns</p>\n</div>"
     },
     "execution_count": 13,
     "metadata": {},
     "output_type": "execute_result"
    }
   ],
   "source": [
    "data_y = data['VV']\n",
    "\n",
    "data_all = pd.concat([data_area1_ohe, data_ck, data_ckall, data_dkall, data_ck_avg, data_dep_avg,\n",
    "                      data_dep9201, data_fed9201, data_fed_avg, data_ck_changame, data_dep_changame,\n",
    "                      data_ck_changtime, data_dep_changtime, data_comp], axis=1)\n",
    "data_all"
   ],
   "metadata": {
    "collapsed": false,
    "pycharm": {
     "name": "#%%\n"
    }
   }
  },
  {
   "cell_type": "code",
   "execution_count": 14,
   "outputs": [],
   "source": [
    "data_all.to_csv(\"./data/feature3_train.csv\")"
   ],
   "metadata": {
    "collapsed": false,
    "pycharm": {
     "name": "#%%\n"
    }
   }
  }
 ],
 "metadata": {
  "kernelspec": {
   "display_name": "Python 3",
   "language": "python",
   "name": "python3"
  },
  "language_info": {
   "codemirror_mode": {
    "name": "ipython",
    "version": 2
   },
   "file_extension": ".py",
   "mimetype": "text/x-python",
   "name": "python",
   "nbconvert_exporter": "python",
   "pygments_lexer": "ipython2",
   "version": "2.7.6"
  }
 },
 "nbformat": 4,
 "nbformat_minor": 0
}
{
 "cells": [
  {
   "cell_type": "code",
   "execution_count": 187,
   "metadata": {
    "collapsed": true
   },
   "outputs": [],
   "source": [
    "import numpy as np\n",
    "import pandas as pd"
   ]
  },
  {
   "cell_type": "code",
   "execution_count": 188,
   "outputs": [
    {
     "data": {
      "text/plain": "   ID area ck ck-saveall ck-drawall ck-savetime ck-drawtime ck-saveavg  \\\n0   1  104  ?          0          0           0           0          ?   \n1   2  111  ?          0          ?           0           0        NaN   \n2   8  600  0          ?          0         NaN           0          ?   \n3  12    ?  0          0          0           ?           0          0   \n4  13    ?  0          0          0           0           0          0   \n\n  ck-drawavg ck-avg  ... dep-avg dep-9201 fed-9201 fed-avg comp ck-changame  \\\n0        NaN      0  ...       0      NaN        0       0    .           0   \n1          0      0  ...       0        0        ?       0    ?           0   \n2          0    NaN  ...       .        ?      NaN       0    0           0   \n3          0      0  ...       0        0        0       ?    0           ?   \n4          0      0  ...     130        0        ?       0    0           0   \n\n  dep-changame ck-changtime dep-changtime        VV  \n0            0            .             0  Withheld  \n1            0            0             .  Withheld  \n2            0            ?             ?  Withheld  \n3            0            0             0  Withheld  \n4            0            0             0  Withheld  \n\n[5 rows x 26 columns]",
      "text/html": "<div>\n<style scoped>\n    .dataframe tbody tr th:only-of-type {\n        vertical-align: middle;\n    }\n\n    .dataframe tbody tr th {\n        vertical-align: top;\n    }\n\n    .dataframe thead th {\n        text-align: right;\n    }\n</style>\n<table border=\"1\" class=\"dataframe\">\n  <thead>\n    <tr style=\"text-align: right;\">\n      <th></th>\n      <th>ID</th>\n      <th>area</th>\n      <th>ck</th>\n      <th>ck-saveall</th>\n      <th>ck-drawall</th>\n      <th>ck-savetime</th>\n      <th>ck-drawtime</th>\n      <th>ck-saveavg</th>\n      <th>ck-drawavg</th>\n      <th>ck-avg</th>\n      <th>...</th>\n      <th>dep-avg</th>\n      <th>dep-9201</th>\n      <th>fed-9201</th>\n      <th>fed-avg</th>\n      <th>comp</th>\n      <th>ck-changame</th>\n      <th>dep-changame</th>\n      <th>ck-changtime</th>\n      <th>dep-changtime</th>\n      <th>VV</th>\n    </tr>\n  </thead>\n  <tbody>\n    <tr>\n      <th>0</th>\n      <td>1</td>\n      <td>104</td>\n      <td>?</td>\n      <td>0</td>\n      <td>0</td>\n      <td>0</td>\n      <td>0</td>\n      <td>?</td>\n      <td>NaN</td>\n      <td>0</td>\n      <td>...</td>\n      <td>0</td>\n      <td>NaN</td>\n      <td>0</td>\n      <td>0</td>\n      <td>.</td>\n      <td>0</td>\n      <td>0</td>\n      <td>.</td>\n      <td>0</td>\n      <td>Withheld</td>\n    </tr>\n    <tr>\n      <th>1</th>\n      <td>2</td>\n      <td>111</td>\n      <td>?</td>\n      <td>0</td>\n      <td>?</td>\n      <td>0</td>\n      <td>0</td>\n      <td>NaN</td>\n      <td>0</td>\n      <td>0</td>\n      <td>...</td>\n      <td>0</td>\n      <td>0</td>\n      <td>?</td>\n      <td>0</td>\n      <td>?</td>\n      <td>0</td>\n      <td>0</td>\n      <td>0</td>\n      <td>.</td>\n      <td>Withheld</td>\n    </tr>\n    <tr>\n      <th>2</th>\n      <td>8</td>\n      <td>600</td>\n      <td>0</td>\n      <td>?</td>\n      <td>0</td>\n      <td>NaN</td>\n      <td>0</td>\n      <td>?</td>\n      <td>0</td>\n      <td>NaN</td>\n      <td>...</td>\n      <td>.</td>\n      <td>?</td>\n      <td>NaN</td>\n      <td>0</td>\n      <td>0</td>\n      <td>0</td>\n      <td>0</td>\n      <td>?</td>\n      <td>?</td>\n      <td>Withheld</td>\n    </tr>\n    <tr>\n      <th>3</th>\n      <td>12</td>\n      <td>?</td>\n      <td>0</td>\n      <td>0</td>\n      <td>0</td>\n      <td>?</td>\n      <td>0</td>\n      <td>0</td>\n      <td>0</td>\n      <td>0</td>\n      <td>...</td>\n      <td>0</td>\n      <td>0</td>\n      <td>0</td>\n      <td>?</td>\n      <td>0</td>\n      <td>?</td>\n      <td>0</td>\n      <td>0</td>\n      <td>0</td>\n      <td>Withheld</td>\n    </tr>\n    <tr>\n      <th>4</th>\n      <td>13</td>\n      <td>?</td>\n      <td>0</td>\n      <td>0</td>\n      <td>0</td>\n      <td>0</td>\n      <td>0</td>\n      <td>0</td>\n      <td>0</td>\n      <td>0</td>\n      <td>...</td>\n      <td>130</td>\n      <td>0</td>\n      <td>?</td>\n      <td>0</td>\n      <td>0</td>\n      <td>0</td>\n      <td>0</td>\n      <td>0</td>\n      <td>0</td>\n      <td>Withheld</td>\n    </tr>\n  </tbody>\n</table>\n<p>5 rows × 26 columns</p>\n</div>"
     },
     "execution_count": 188,
     "metadata": {},
     "output_type": "execute_result"
    }
   ],
   "source": [
    "data = pd.read_csv(\"./data/3_train.csv\")\n",
    "data.head(5)"
   ],
   "metadata": {
    "collapsed": false,
    "pycharm": {
     "name": "#%%\n"
    }
   }
  },
  {
   "cell_type": "code",
   "execution_count": 189,
   "outputs": [
    {
     "name": "stdout",
     "output_type": "stream",
     "text": [
      "---------------------------------------------\n",
      "data contains [ 6537 ] records \n",
      "ID do not have any null values.\n",
      "ID  is numeric column:\n",
      "count     6537.000000\n",
      "mean     16376.062720\n",
      "std       9453.651871\n",
      "min          1.000000\n",
      "25%       8286.000000\n",
      "50%      16359.000000\n",
      "75%      24550.000000\n",
      "max      32676.000000\n",
      "Name: ID, dtype: float64\n",
      "\n",
      "\n",
      "\n",
      "---------------------------------------------\n",
      "area have 444 null values:\n",
      "\n",
      "area  has [ 346 ] different values, please create features yourself!\n",
      "please notice here are some seldom_indexes:  Index(['32700', '651', '437', '269', '735', '803', '963', '70300', '50600',\n",
      "       '82200',\n",
      "       ...\n",
      "       '815', '913', '654', '635', '20300', '508', '82800', '260', '33700',\n",
      "       '264'],\n",
      "      dtype='object', length=102)\n",
      "\n",
      "\n",
      "\n",
      "---------------------------------------------\n",
      "ck have 425 null values:\n",
      "\n",
      "0    3127\n",
      "1    1731\n",
      "?     826\n",
      ".     428\n",
      "Name: ck, dtype: int64\n",
      "use following code to generate features from label mapping:\n",
      "ck_mapping = {'0': 0, '1': 1, '?': 2, '.': 3}\n",
      "#TODO: add your logic to handle None\n",
      "data_ck, ck_ohe = one_hot_encoder_column(data, 'ck', ck_mapping, fill_na=99)\n",
      "\n",
      "\n",
      "\n",
      "---------------------------------------------\n",
      "ck-saveall have 374 null values:\n",
      "\n",
      "ck-saveall  has [ 607 ] different values, please create features yourself!\n",
      "please notice here are some seldom_indexes:  Index(['28964200', '994000', '2528517', '323700', '2378587', '77000',\n",
      "       '6342176', '603479', '14195520', '118152',\n",
      "       ...\n",
      "       '8281157', '4847517', '1372316', '33000', '8105946', '466500',\n",
      "       '2308182', '3217157', '4682083', '241683'],\n",
      "      dtype='object', length=593)\n",
      "\n",
      "\n",
      "\n",
      "---------------------------------------------\n",
      "ck-drawall have 386 null values:\n",
      "\n",
      "ck-drawall  has [ 599 ] different values, please create features yourself!\n",
      "please notice here are some seldom_indexes:  Index(['85000', '99726', '17134', '285001', '1752971', '44400', '1050760',\n",
      "       '155142', '608817', '46100',\n",
      "       ...\n",
      "       '3259383', '1242946', '29606', '678335', '2238', '1463000', '340346',\n",
      "       '195000', '674300', '416592'],\n",
      "      dtype='object', length=586)\n",
      "\n",
      "\n",
      "\n",
      "---------------------------------------------\n",
      "ck-savetime have 434 null values:\n",
      "\n",
      "ck-savetime  has [ 119 ] different values, please create features yourself!\n",
      "please notice here are some seldom_indexes:  Index(['78', '37', '30', '45', '25', '44', '61', '29', '68', '42', '40', '33',\n",
      "       '56', '81', '49', '60', '59', '57', '67', '55', '63', '43', '71', '58',\n",
      "       '46', '70', '75', '102', '72', '64', '54', '47', '88', '74', '120',\n",
      "       '110', '116', '79', '50', '219', '145', '92', '209', '208', '109',\n",
      "       '285', '149', '128', '199', '108', '94', '62', '87', '138', '115', '84',\n",
      "       '195', '100', '275', '253', '52', '152', '77', '113', '73', '98', '90',\n",
      "       '83', '200', '93', '53', '1062', '234', '107', '65', '104', '69', '631',\n",
      "       '168'],\n",
      "      dtype='object')\n",
      "\n",
      "\n",
      "\n",
      "---------------------------------------------\n",
      "ck-drawtime have 401 null values:\n",
      "\n",
      "ck-drawtime  has [ 176 ] different values, please create features yourself!\n",
      "please notice here are some seldom_indexes:  Index(['46', '31', '80', '92', '30', '61', '45', '95', '16', '53',\n",
      "       ...\n",
      "       '319', '260', '103', '335', '169', '476', '89', '94', '328', '313'],\n",
      "      dtype='object', length=138)\n",
      "\n",
      "\n",
      "\n",
      "---------------------------------------------\n",
      "ck-saveavg have 404 null values:\n",
      "\n",
      "ck-saveavg  has [ 607 ] different values, please create features yourself!\n",
      "please notice here are some seldom_indexes:  Index(['78409', '50111', '50423', '1579474', '198333', '72171', '936026',\n",
      "       '523575', '121756', '546134',\n",
      "       ...\n",
      "       '70000', '580774', '528000', '707000', '118023', '23731', '6667',\n",
      "       '194400', '226000', '100000'],\n",
      "      dtype='object', length=592)\n",
      "\n",
      "\n",
      "\n",
      "---------------------------------------------\n",
      "ck-drawavg have 441 null values:\n",
      "\n",
      "ck-drawavg  has [ 573 ] different values, please create features yourself!\n",
      "please notice here are some seldom_indexes:  Index(['27581', '94396', '34786', '48622', '34541', '39623', '36000', '132816',\n",
      "       '33580', '107',\n",
      "       ...\n",
      "       '20538', '40783', '68606', '79920', '71861', '20222', '80944', '19162',\n",
      "       '7868', '18047'],\n",
      "      dtype='object', length=557)\n",
      "\n",
      "\n",
      "\n",
      "---------------------------------------------\n",
      "ck-avg have 437 null values:\n",
      "\n",
      "ck-avg  has [ 690 ] different values, please create features yourself!\n",
      "please notice here are some seldom_indexes:  Index([], dtype='object')\n",
      "\n",
      "\n",
      "\n",
      "---------------------------------------------\n",
      "dep-saveall have 399 null values:\n",
      "\n",
      "dep-saveall  has [ 1775 ] different values, please create features yourself!\n",
      "please notice here are some seldom_indexes:  Index([], dtype='object')\n",
      "\n",
      "\n",
      "\n",
      "---------------------------------------------\n",
      "dep-drawall have 436 null values:\n",
      "\n",
      "dep-drawall  has [ 1795 ] different values, please create features yourself!\n",
      "please notice here are some seldom_indexes:  Index([], dtype='object')\n",
      "\n",
      "\n",
      "\n",
      "---------------------------------------------\n",
      "dep-savetime have 399 null values:\n",
      "\n",
      "dep-savetime  has [ 276 ] different values, please create features yourself!\n",
      "please notice here are some seldom_indexes:  Index(['264', '270', '115', '813', '179', '316', '89', '160', '93', '121',\n",
      "       ...\n",
      "       '400', '94', '693', '756', '267', '410', '69', '750', '263', '521'],\n",
      "      dtype='object', length=187)\n",
      "\n",
      "\n",
      "\n",
      "---------------------------------------------\n",
      "dep-drawtime have 388 null values:\n",
      "\n",
      "dep-drawtime  has [ 225 ] different values, please create features yourself!\n",
      "please notice here are some seldom_indexes:  Index(['97', '90', '95', '422', '109', '324', '101', '150', '251', '88',\n",
      "       ...\n",
      "       '3417', '574', '212', '650', '333', '191', '387', '310', '197', '521'],\n",
      "      dtype='object', length=131)\n",
      "\n",
      "\n",
      "\n",
      "---------------------------------------------\n",
      "depsaveavg have 410 null values:\n",
      "\n",
      "depsaveavg  has [ 1709 ] different values, please create features yourself!\n",
      "please notice here are some seldom_indexes:  Index([], dtype='object')\n",
      "\n",
      "\n",
      "\n",
      "---------------------------------------------\n",
      "depdrawavg have 420 null values:\n",
      "\n",
      "depdrawavg  has [ 1859 ] different values, please create features yourself!\n",
      "please notice here are some seldom_indexes:  Index([], dtype='object')\n",
      "\n",
      "\n",
      "\n",
      "---------------------------------------------\n",
      "dep-avg have 375 null values:\n",
      "\n",
      "dep-avg  has [ 2120 ] different values, please create features yourself!\n",
      "please notice here are some seldom_indexes:  Index([], dtype='object')\n",
      "\n",
      "\n",
      "\n",
      "---------------------------------------------\n",
      "dep-9201 have 418 null values:\n",
      "\n",
      "dep-9201  has [ 1037 ] different values, please create features yourself!\n",
      "please notice here are some seldom_indexes:  Index([], dtype='object')\n",
      "\n",
      "\n",
      "\n",
      "---------------------------------------------\n",
      "fed-9201 have 386 null values:\n",
      "\n",
      "fed-9201  has [ 128 ] different values, please create features yourself!\n",
      "please notice here are some seldom_indexes:  Index(['209', '3475', '2767', '1704', '105426', '79394', '1549457', '51',\n",
      "       '1143188', '9784',\n",
      "       ...\n",
      "       '168', '974', '514', '3506', '38179', '66', '3509', '20791', '39068',\n",
      "       '3575'],\n",
      "      dtype='object', length=125)\n",
      "\n",
      "\n",
      "\n",
      "---------------------------------------------\n",
      "fed-avg have 435 null values:\n",
      "\n",
      "fed-avg  has [ 117 ] different values, please create features yourself!\n",
      "please notice here are some seldom_indexes:  Index(['292', '1', '12', '165', '6', '43', '4', '3', '100', '2',\n",
      "       ...\n",
      "       '25', '3769', '3044', '20', '8786', '861', '1136', '1755', '15206',\n",
      "       '14'],\n",
      "      dtype='object', length=114)\n",
      "\n",
      "\n",
      "\n",
      "---------------------------------------------\n",
      "comp have 400 null values:\n",
      "\n",
      "0    4260\n",
      "?     844\n",
      "1     601\n",
      ".     432\n",
      "Name: comp, dtype: int64\n",
      "use following code to generate features from label mapping:\n",
      "comp_mapping = {'0': 0, '?': 1, '1': 2, '.': 3}\n",
      "#TODO: add your logic to handle None\n",
      "data_comp, comp_ohe = one_hot_encoder_column(data, 'comp', comp_mapping, fill_na=99)\n",
      "\n",
      "\n",
      "\n",
      "---------------------------------------------\n",
      "ck-changame have 445 null values:\n",
      "\n",
      "ck-changame  has [ 538 ] different values, please create features yourself!\n",
      "please notice here are some seldom_indexes:  Index(['419500', '141220', '7010340', '6310744', '518585', '4670011', '322',\n",
      "       '4821000', '99726', '2319436',\n",
      "       ...\n",
      "       '1002500', '1679000', '42163', '29606', '183671', '678335', '6379744',\n",
      "       '4847517', '13232003', '44350'],\n",
      "      dtype='object', length=527)\n",
      "\n",
      "\n",
      "\n",
      "---------------------------------------------\n",
      "dep-changame have 392 null values:\n",
      "\n",
      "dep-changame  has [ 1114 ] different values, please create features yourself!\n",
      "please notice here are some seldom_indexes:  Index([], dtype='object')\n",
      "\n",
      "\n",
      "\n",
      "---------------------------------------------\n",
      "ck-changtime have 422 null values:\n",
      "\n",
      "ck-changtime  has [ 166 ] different values, please create features yourself!\n",
      "please notice here are some seldom_indexes:  Index(['115', '52', '45', '48', '42', '33', '69', '7', '107', '92',\n",
      "       ...\n",
      "       '476', '94', '122', '457', '158', '178', '75', '63', '288', '157'],\n",
      "      dtype='object', length=128)\n",
      "\n",
      "\n",
      "\n",
      "---------------------------------------------\n",
      "dep-changtime have 452 null values:\n",
      "\n",
      "dep-changtime  has [ 206 ] different values, please create features yourself!\n",
      "please notice here are some seldom_indexes:  Index(['181', '67', '111', '52', '62', '120', '135', '47', '71', '50',\n",
      "       ...\n",
      "       '150', '331', '471', '123', '205', '146', '184', '161', '312', '313'],\n",
      "      dtype='object', length=153)\n",
      "\n",
      "\n",
      "\n",
      "---------------------------------------------\n",
      "VV do not have any null values.\n",
      "Withheld    6537\n",
      "Name: VV, dtype: int64\n",
      "use following code to generate features from label mapping:\n",
      "VV_mapping = {'Withheld': 0}\n",
      "#TODO: add your logic to handle None\n",
      "data_VV, VV_ohe = one_hot_encoder_column(data, 'VV', VV_mapping, fill_na=99)\n",
      "\n",
      "\n",
      "\n",
      "---------------------------------------------\n"
     ]
    }
   ],
   "source": [
    "from Python.pandas.feature_selection import *\n",
    "object_feature_helper(data)\n"
   ],
   "metadata": {
    "collapsed": false,
    "pycharm": {
     "name": "#%%\n"
    }
   }
  },
  {
   "cell_type": "code",
   "execution_count": 190,
   "outputs": [
    {
     "data": {
      "text/plain": "        0    1    2    3    4    5    6    7    8\n0     1.0  0.0  0.0  0.0  0.0  0.0  0.0  0.0  0.0\n1     1.0  0.0  0.0  0.0  0.0  0.0  0.0  0.0  0.0\n2     0.0  0.0  0.0  0.0  0.0  1.0  0.0  0.0  0.0\n3     0.0  0.0  0.0  0.0  0.0  0.0  0.0  0.0  0.0\n4     0.0  0.0  0.0  0.0  0.0  0.0  0.0  0.0  0.0\n...   ...  ...  ...  ...  ...  ...  ...  ...  ...\n6532  0.0  0.0  1.0  0.0  0.0  0.0  0.0  0.0  0.0\n6533  0.0  0.0  0.0  0.0  0.0  0.0  0.0  0.0  0.0\n6534  0.0  0.0  0.0  0.0  0.0  0.0  0.0  0.0  0.0\n6535  0.0  0.0  0.0  0.0  0.0  0.0  0.0  0.0  0.0\n6536  1.0  0.0  0.0  0.0  0.0  0.0  0.0  0.0  0.0\n\n[6537 rows x 9 columns]",
      "text/html": "<div>\n<style scoped>\n    .dataframe tbody tr th:only-of-type {\n        vertical-align: middle;\n    }\n\n    .dataframe tbody tr th {\n        vertical-align: top;\n    }\n\n    .dataframe thead th {\n        text-align: right;\n    }\n</style>\n<table border=\"1\" class=\"dataframe\">\n  <thead>\n    <tr style=\"text-align: right;\">\n      <th></th>\n      <th>0</th>\n      <th>1</th>\n      <th>2</th>\n      <th>3</th>\n      <th>4</th>\n      <th>5</th>\n      <th>6</th>\n      <th>7</th>\n      <th>8</th>\n    </tr>\n  </thead>\n  <tbody>\n    <tr>\n      <th>0</th>\n      <td>1.0</td>\n      <td>0.0</td>\n      <td>0.0</td>\n      <td>0.0</td>\n      <td>0.0</td>\n      <td>0.0</td>\n      <td>0.0</td>\n      <td>0.0</td>\n      <td>0.0</td>\n    </tr>\n    <tr>\n      <th>1</th>\n      <td>1.0</td>\n      <td>0.0</td>\n      <td>0.0</td>\n      <td>0.0</td>\n      <td>0.0</td>\n      <td>0.0</td>\n      <td>0.0</td>\n      <td>0.0</td>\n      <td>0.0</td>\n    </tr>\n    <tr>\n      <th>2</th>\n      <td>0.0</td>\n      <td>0.0</td>\n      <td>0.0</td>\n      <td>0.0</td>\n      <td>0.0</td>\n      <td>1.0</td>\n      <td>0.0</td>\n      <td>0.0</td>\n      <td>0.0</td>\n    </tr>\n    <tr>\n      <th>3</th>\n      <td>0.0</td>\n      <td>0.0</td>\n      <td>0.0</td>\n      <td>0.0</td>\n      <td>0.0</td>\n      <td>0.0</td>\n      <td>0.0</td>\n      <td>0.0</td>\n      <td>0.0</td>\n    </tr>\n    <tr>\n      <th>4</th>\n      <td>0.0</td>\n      <td>0.0</td>\n      <td>0.0</td>\n      <td>0.0</td>\n      <td>0.0</td>\n      <td>0.0</td>\n      <td>0.0</td>\n      <td>0.0</td>\n      <td>0.0</td>\n    </tr>\n    <tr>\n      <th>...</th>\n      <td>...</td>\n      <td>...</td>\n      <td>...</td>\n      <td>...</td>\n      <td>...</td>\n      <td>...</td>\n      <td>...</td>\n      <td>...</td>\n      <td>...</td>\n    </tr>\n    <tr>\n      <th>6532</th>\n      <td>0.0</td>\n      <td>0.0</td>\n      <td>1.0</td>\n      <td>0.0</td>\n      <td>0.0</td>\n      <td>0.0</td>\n      <td>0.0</td>\n      <td>0.0</td>\n      <td>0.0</td>\n    </tr>\n    <tr>\n      <th>6533</th>\n      <td>0.0</td>\n      <td>0.0</td>\n      <td>0.0</td>\n      <td>0.0</td>\n      <td>0.0</td>\n      <td>0.0</td>\n      <td>0.0</td>\n      <td>0.0</td>\n      <td>0.0</td>\n    </tr>\n    <tr>\n      <th>6534</th>\n      <td>0.0</td>\n      <td>0.0</td>\n      <td>0.0</td>\n      <td>0.0</td>\n      <td>0.0</td>\n      <td>0.0</td>\n      <td>0.0</td>\n      <td>0.0</td>\n      <td>0.0</td>\n    </tr>\n    <tr>\n      <th>6535</th>\n      <td>0.0</td>\n      <td>0.0</td>\n      <td>0.0</td>\n      <td>0.0</td>\n      <td>0.0</td>\n      <td>0.0</td>\n      <td>0.0</td>\n      <td>0.0</td>\n      <td>0.0</td>\n    </tr>\n    <tr>\n      <th>6536</th>\n      <td>1.0</td>\n      <td>0.0</td>\n      <td>0.0</td>\n      <td>0.0</td>\n      <td>0.0</td>\n      <td>0.0</td>\n      <td>0.0</td>\n      <td>0.0</td>\n      <td>0.0</td>\n    </tr>\n  </tbody>\n</table>\n<p>6537 rows × 9 columns</p>\n</div>"
     },
     "execution_count": 190,
     "metadata": {},
     "output_type": "execute_result"
    }
   ],
   "source": [
    "def area_handler(area):\n",
    "    if area in ['.', 'nan', '?']:\n",
    "        return 0\n",
    "    if len(area) < 3:\n",
    "        return str(area) + \"00\"\n",
    "    return str(area)[:3]\n",
    "\n",
    "data_area = data['area'].apply(lambda area: area_handler(str(area)))\n",
    "data_area1 = data_area.apply(lambda area: str(area)[:1])\n",
    "from sklearn.preprocessing import OneHotEncoder\n",
    "area_ohe = OneHotEncoder(drop='first')\n",
    "data_area1_ohe = area_ohe.fit_transform(data_area1.values.reshape(-1,1))\n",
    "data_area1_ohe = pd.DataFrame(data_area1_ohe.toarray(), index=data.index)\n",
    "data_area1_ohe\n"
   ],
   "metadata": {
    "collapsed": false,
    "pycharm": {
     "name": "#%%\n"
    }
   }
  },
  {
   "cell_type": "code",
   "execution_count": 191,
   "outputs": [],
   "source": [
    "ck_mapping = {'0': 0, '1': 1, '?': 0, '.': 0}\n",
    "data_ck, ck_ohe = one_hot_encoder_column(data, 'ck', ck_mapping, fill_na=0)"
   ],
   "metadata": {
    "collapsed": false,
    "pycharm": {
     "name": "#%%\n"
    }
   }
  },
  {
   "cell_type": "code",
   "execution_count": 192,
   "outputs": [],
   "source": [
    "def numeric_to_int(x, na_val=-1):\n",
    "    if x is None:\n",
    "        return na_val\n",
    "    if type(x) == str:\n",
    "        if x in ['?', '.', 'NaN']:\n",
    "            return na_val\n",
    "        return int(x)\n",
    "    if np.isnan(x):\n",
    "        return na_val\n",
    "    return x\n",
    "def multi_fit(x, y, z):\n",
    "    newx = numeric_to_int(x)\n",
    "    newy = numeric_to_int(y)\n",
    "    newz = numeric_to_int(z)\n",
    "    if newx == -1:\n",
    "        if newy != -1 and newz != -1:\n",
    "            newx = newy * newz\n",
    "\n",
    "    if newy == -1:\n",
    "        if newx != -1 and newz > 0:\n",
    "            newy = newx / newz\n",
    "    if newz == -1:\n",
    "        if newx != -1 and newy > 0:\n",
    "            newz = newx / newy\n",
    "\n",
    "    return newx, newy, newz\n",
    "data_ck_saveall, data_ck_savetime, data_ck_saveavg = \\\n",
    "    zip(*data.apply(lambda row: multi_fit(row['ck-saveall'], row['ck-savetime'], row['ck-saveavg']), axis=1))\n",
    "data_ckall = pd.concat([pd.Series(data_ck_saveall), pd.Series(data_ck_savetime), pd.Series(data_ck_saveavg)], axis=1)"
   ],
   "metadata": {
    "collapsed": false,
    "pycharm": {
     "name": "#%%\n"
    }
   }
  },
  {
   "cell_type": "code",
   "execution_count": 193,
   "outputs": [],
   "source": [
    "data_dk_saveall, data_dk_savetime, data_dk_saveavg = \\\n",
    "    zip(*data.apply(lambda row: multi_fit(row['ck-drawall'], row['ck-drawtime'], row['ck-drawavg']), axis=1))\n",
    "data_dkall = pd.concat([pd.Series(data_dk_saveall), pd.Series(data_dk_savetime), pd.Series(data_dk_saveavg)], axis=1)"
   ],
   "metadata": {
    "collapsed": false,
    "pycharm": {
     "name": "#%%\n"
    }
   }
  },
  {
   "cell_type": "code",
   "execution_count": 194,
   "outputs": [
    {
     "data": {
      "text/plain": "0       0\n1       0\n2       0\n3       0\n4       0\n       ..\n6532    0\n6533    0\n6534    0\n6535    0\n6536    0\nName: ck-avg, Length: 6537, dtype: int64"
     },
     "execution_count": 194,
     "metadata": {},
     "output_type": "execute_result"
    }
   ],
   "source": [
    "data_ck_avg = data['ck-avg'].apply(lambda x: numeric_to_int(x, na_val=0))\n",
    "data_ck_avg"
   ],
   "metadata": {
    "collapsed": false,
    "pycharm": {
     "name": "#%%\n"
    }
   }
  },
  {
   "cell_type": "code",
   "execution_count": 195,
   "outputs": [
    {
     "data": {
      "text/plain": "0           0\n1           0\n2           0\n3           0\n4         130\n        ...  \n6532      408\n6533       18\n6534    78933\n6535        0\n6536        0\nName: dep-avg, Length: 6537, dtype: int64"
     },
     "execution_count": 195,
     "metadata": {},
     "output_type": "execute_result"
    }
   ],
   "source": [
    "data_dep_avg = data['dep-avg'].apply(lambda x: numeric_to_int(x, na_val=0))\n",
    "data_dep_avg"
   ],
   "metadata": {
    "collapsed": false,
    "pycharm": {
     "name": "#%%\n"
    }
   }
  },
  {
   "cell_type": "code",
   "execution_count": 196,
   "outputs": [],
   "source": [
    "data_dep9201 = data['dep-9201'].apply(lambda x: numeric_to_int(x, na_val=0))\n",
    "data_fed9201 = data['fed-9201'].apply(lambda x: numeric_to_int(x, na_val=0))\n",
    "data_fed_avg = data['fed-avg'].apply(lambda x: numeric_to_int(x, na_val=0))"
   ],
   "metadata": {
    "collapsed": false,
    "pycharm": {
     "name": "#%%\n"
    }
   }
  },
  {
   "cell_type": "code",
   "execution_count": 197,
   "outputs": [],
   "source": [
    "data_ck_changame = data['ck-changame'].apply(lambda x: numeric_to_int(x, na_val=0))\n",
    "data_dep_changame = data['dep-changame'].apply(lambda x: numeric_to_int(x, na_val=0))\n",
    "data_ck_changtime = data['ck-changtime'].apply(lambda x: numeric_to_int(x, na_val=0))\n",
    "data_dep_changtime = data['dep-changtime'].apply(lambda x: numeric_to_int(x, na_val=0))"
   ],
   "metadata": {
    "collapsed": false,
    "pycharm": {
     "name": "#%%\n"
    }
   }
  },
  {
   "cell_type": "code",
   "execution_count": 198,
   "outputs": [],
   "source": [
    "comp_mapping = {'0': 0, '?': 0, '1': 1, '.': 0}\n",
    "data_comp, comp_ohe = one_hot_encoder_column(data, 'comp', comp_mapping, fill_na=0)"
   ],
   "metadata": {
    "collapsed": false,
    "pycharm": {
     "name": "#%%\n"
    }
   }
  },
  {
   "cell_type": "code",
   "execution_count": 201,
   "outputs": [
    {
     "data": {
      "text/plain": "        0    1    2    3    4    5    6    7    8  ck_0  ...  ck-avg  dep-avg  \\\n0     1.0  0.0  0.0  0.0  0.0  0.0  0.0  0.0  0.0   0.0  ...       0        0   \n1     1.0  0.0  0.0  0.0  0.0  0.0  0.0  0.0  0.0   0.0  ...       0        0   \n2     0.0  0.0  0.0  0.0  0.0  1.0  0.0  0.0  0.0   0.0  ...       0        0   \n3     0.0  0.0  0.0  0.0  0.0  0.0  0.0  0.0  0.0   0.0  ...       0        0   \n4     0.0  0.0  0.0  0.0  0.0  0.0  0.0  0.0  0.0   0.0  ...       0      130   \n...   ...  ...  ...  ...  ...  ...  ...  ...  ...   ...  ...     ...      ...   \n6532  0.0  0.0  1.0  0.0  0.0  0.0  0.0  0.0  0.0   0.0  ...       0      408   \n6533  0.0  0.0  0.0  0.0  0.0  0.0  0.0  0.0  0.0   0.0  ...       0       18   \n6534  0.0  0.0  0.0  0.0  0.0  0.0  0.0  0.0  0.0   0.0  ...       0    78933   \n6535  0.0  0.0  0.0  0.0  0.0  0.0  0.0  0.0  0.0   0.0  ...       0        0   \n6536  1.0  0.0  0.0  0.0  0.0  0.0  0.0  0.0  0.0   1.0  ...       0        0   \n\n      dep-9201  fed-9201  fed-avg  ck-changame  dep-changame  ck-changtime  \\\n0            0         0        0            0             0             0   \n1            0         0        0            0             0             0   \n2            0         0        0            0             0             0   \n3            0         0        0            0             0             0   \n4            0         0        0            0             0             0   \n...        ...       ...      ...          ...           ...           ...   \n6532         0         0        0            0             0             0   \n6533         0         0        0            0             0             0   \n6534         0         0        0            0         11250             0   \n6535         0         0        0            0             0             0   \n6536         0         0        0        60000             0             1   \n\n      dep-changtime  comp_0  \n0                 0     0.0  \n1                 0     0.0  \n2                 0     0.0  \n3                 0     0.0  \n4                 0     0.0  \n...             ...     ...  \n6532              0     0.0  \n6533              0     0.0  \n6534              2     0.0  \n6535              0     0.0  \n6536              0     0.0  \n\n[6537 rows x 26 columns]",
      "text/html": "<div>\n<style scoped>\n    .dataframe tbody tr th:only-of-type {\n        vertical-align: middle;\n    }\n\n    .dataframe tbody tr th {\n        vertical-align: top;\n    }\n\n    .dataframe thead th {\n        text-align: right;\n    }\n</style>\n<table border=\"1\" class=\"dataframe\">\n  <thead>\n    <tr style=\"text-align: right;\">\n      <th></th>\n      <th>0</th>\n      <th>1</th>\n      <th>2</th>\n      <th>3</th>\n      <th>4</th>\n      <th>5</th>\n      <th>6</th>\n      <th>7</th>\n      <th>8</th>\n      <th>ck_0</th>\n      <th>...</th>\n      <th>ck-avg</th>\n      <th>dep-avg</th>\n      <th>dep-9201</th>\n      <th>fed-9201</th>\n      <th>fed-avg</th>\n      <th>ck-changame</th>\n      <th>dep-changame</th>\n      <th>ck-changtime</th>\n      <th>dep-changtime</th>\n      <th>comp_0</th>\n    </tr>\n  </thead>\n  <tbody>\n    <tr>\n      <th>0</th>\n      <td>1.0</td>\n      <td>0.0</td>\n      <td>0.0</td>\n      <td>0.0</td>\n      <td>0.0</td>\n      <td>0.0</td>\n      <td>0.0</td>\n      <td>0.0</td>\n      <td>0.0</td>\n      <td>0.0</td>\n      <td>...</td>\n      <td>0</td>\n      <td>0</td>\n      <td>0</td>\n      <td>0</td>\n      <td>0</td>\n      <td>0</td>\n      <td>0</td>\n      <td>0</td>\n      <td>0</td>\n      <td>0.0</td>\n    </tr>\n    <tr>\n      <th>1</th>\n      <td>1.0</td>\n      <td>0.0</td>\n      <td>0.0</td>\n      <td>0.0</td>\n      <td>0.0</td>\n      <td>0.0</td>\n      <td>0.0</td>\n      <td>0.0</td>\n      <td>0.0</td>\n      <td>0.0</td>\n      <td>...</td>\n      <td>0</td>\n      <td>0</td>\n      <td>0</td>\n      <td>0</td>\n      <td>0</td>\n      <td>0</td>\n      <td>0</td>\n      <td>0</td>\n      <td>0</td>\n      <td>0.0</td>\n    </tr>\n    <tr>\n      <th>2</th>\n      <td>0.0</td>\n      <td>0.0</td>\n      <td>0.0</td>\n      <td>0.0</td>\n      <td>0.0</td>\n      <td>1.0</td>\n      <td>0.0</td>\n      <td>0.0</td>\n      <td>0.0</td>\n      <td>0.0</td>\n      <td>...</td>\n      <td>0</td>\n      <td>0</td>\n      <td>0</td>\n      <td>0</td>\n      <td>0</td>\n      <td>0</td>\n      <td>0</td>\n      <td>0</td>\n      <td>0</td>\n      <td>0.0</td>\n    </tr>\n    <tr>\n      <th>3</th>\n      <td>0.0</td>\n      <td>0.0</td>\n      <td>0.0</td>\n      <td>0.0</td>\n      <td>0.0</td>\n      <td>0.0</td>\n      <td>0.0</td>\n      <td>0.0</td>\n      <td>0.0</td>\n      <td>0.0</td>\n      <td>...</td>\n      <td>0</td>\n      <td>0</td>\n      <td>0</td>\n      <td>0</td>\n      <td>0</td>\n      <td>0</td>\n      <td>0</td>\n      <td>0</td>\n      <td>0</td>\n      <td>0.0</td>\n    </tr>\n    <tr>\n      <th>4</th>\n      <td>0.0</td>\n      <td>0.0</td>\n      <td>0.0</td>\n      <td>0.0</td>\n      <td>0.0</td>\n      <td>0.0</td>\n      <td>0.0</td>\n      <td>0.0</td>\n      <td>0.0</td>\n      <td>0.0</td>\n      <td>...</td>\n      <td>0</td>\n      <td>130</td>\n      <td>0</td>\n      <td>0</td>\n      <td>0</td>\n      <td>0</td>\n      <td>0</td>\n      <td>0</td>\n      <td>0</td>\n      <td>0.0</td>\n    </tr>\n    <tr>\n      <th>...</th>\n      <td>...</td>\n      <td>...</td>\n      <td>...</td>\n      <td>...</td>\n      <td>...</td>\n      <td>...</td>\n      <td>...</td>\n      <td>...</td>\n      <td>...</td>\n      <td>...</td>\n      <td>...</td>\n      <td>...</td>\n      <td>...</td>\n      <td>...</td>\n      <td>...</td>\n      <td>...</td>\n      <td>...</td>\n      <td>...</td>\n      <td>...</td>\n      <td>...</td>\n      <td>...</td>\n    </tr>\n    <tr>\n      <th>6532</th>\n      <td>0.0</td>\n      <td>0.0</td>\n      <td>1.0</td>\n      <td>0.0</td>\n      <td>0.0</td>\n      <td>0.0</td>\n      <td>0.0</td>\n      <td>0.0</td>\n      <td>0.0</td>\n      <td>0.0</td>\n      <td>...</td>\n      <td>0</td>\n      <td>408</td>\n      <td>0</td>\n      <td>0</td>\n      <td>0</td>\n      <td>0</td>\n      <td>0</td>\n      <td>0</td>\n      <td>0</td>\n      <td>0.0</td>\n    </tr>\n    <tr>\n      <th>6533</th>\n      <td>0.0</td>\n      <td>0.0</td>\n      <td>0.0</td>\n      <td>0.0</td>\n      <td>0.0</td>\n      <td>0.0</td>\n      <td>0.0</td>\n      <td>0.0</td>\n      <td>0.0</td>\n      <td>0.0</td>\n      <td>...</td>\n      <td>0</td>\n      <td>18</td>\n      <td>0</td>\n      <td>0</td>\n      <td>0</td>\n      <td>0</td>\n      <td>0</td>\n      <td>0</td>\n      <td>0</td>\n      <td>0.0</td>\n    </tr>\n    <tr>\n      <th>6534</th>\n      <td>0.0</td>\n      <td>0.0</td>\n      <td>0.0</td>\n      <td>0.0</td>\n      <td>0.0</td>\n      <td>0.0</td>\n      <td>0.0</td>\n      <td>0.0</td>\n      <td>0.0</td>\n      <td>0.0</td>\n      <td>...</td>\n      <td>0</td>\n      <td>78933</td>\n      <td>0</td>\n      <td>0</td>\n      <td>0</td>\n      <td>0</td>\n      <td>11250</td>\n      <td>0</td>\n      <td>2</td>\n      <td>0.0</td>\n    </tr>\n    <tr>\n      <th>6535</th>\n      <td>0.0</td>\n      <td>0.0</td>\n      <td>0.0</td>\n      <td>0.0</td>\n      <td>0.0</td>\n      <td>0.0</td>\n      <td>0.0</td>\n      <td>0.0</td>\n      <td>0.0</td>\n      <td>0.0</td>\n      <td>...</td>\n      <td>0</td>\n      <td>0</td>\n      <td>0</td>\n      <td>0</td>\n      <td>0</td>\n      <td>0</td>\n      <td>0</td>\n      <td>0</td>\n      <td>0</td>\n      <td>0.0</td>\n    </tr>\n    <tr>\n      <th>6536</th>\n      <td>1.0</td>\n      <td>0.0</td>\n      <td>0.0</td>\n      <td>0.0</td>\n      <td>0.0</td>\n      <td>0.0</td>\n      <td>0.0</td>\n      <td>0.0</td>\n      <td>0.0</td>\n      <td>1.0</td>\n      <td>...</td>\n      <td>0</td>\n      <td>0</td>\n      <td>0</td>\n      <td>0</td>\n      <td>0</td>\n      <td>60000</td>\n      <td>0</td>\n      <td>1</td>\n      <td>0</td>\n      <td>0.0</td>\n    </tr>\n  </tbody>\n</table>\n<p>6537 rows × 26 columns</p>\n</div>"
     },
     "execution_count": 201,
     "metadata": {},
     "output_type": "execute_result"
    }
   ],
   "source": [
    "data_y = data['VV']\n",
    "\n",
    "data_all = pd.concat([data_area1_ohe, data_ck, data_ckall, data_dkall, data_ck_avg, data_dep_avg,\n",
    "                      data_dep9201, data_fed9201, data_fed_avg, data_ck_changame, data_dep_changame,\n",
    "                      data_ck_changtime, data_dep_changtime, data_comp], axis=1)\n",
    "data_all"
   ],
   "metadata": {
    "collapsed": false,
    "pycharm": {
     "name": "#%%\n"
    }
   }
  },
  {
   "cell_type": "code",
   "execution_count": 202,
   "outputs": [],
   "source": [
    "data_all.to_csv(\"./data/feature3_train.csv\")"
   ],
   "metadata": {
    "collapsed": false,
    "pycharm": {
     "name": "#%%\n"
    }
   }
  }
 ],
 "metadata": {
  "kernelspec": {
   "display_name": "Python 3",
   "language": "python",
   "name": "python3"
  },
  "language_info": {
   "codemirror_mode": {
    "name": "ipython",
    "version": 2
   },
   "file_extension": ".py",
   "mimetype": "text/x-python",
   "name": "python",
   "nbconvert_exporter": "python",
   "pygments_lexer": "ipython2",
   "version": "2.7.6"
  }
 },
 "nbformat": 4,
 "nbformat_minor": 0
}
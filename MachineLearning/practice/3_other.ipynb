{
 "cells": [
  {
   "cell_type": "markdown",
   "metadata": {},
   "source": [
    "# 导入包"
   ]
  },
  {
   "cell_type": "code",
   "execution_count": 2,
   "metadata": {},
   "outputs": [],
   "source": [
    "import pandas as pd\n",
    "import numpy as np\n",
    "import matplotlib.pyplot as plt\n",
    "import warnings\n",
    "from sklearn.impute import SimpleImputer\n",
    "import scorecardpy as sc\n",
    "warnings.filterwarnings(\"ignore\")\n",
    "pd.set_option('display.float_format', lambda x: '%.2f' % x) #数值不显示科学计数法，保留两位小数\n",
    "np.set_printoptions(suppress=True)"
   ]
  },
  {
   "cell_type": "markdown",
   "metadata": {},
   "source": [
    "# 读入数据"
   ]
  },
  {
   "cell_type": "code",
   "execution_count": 3,
   "metadata": {},
   "outputs": [],
   "source": [
    "data=pd.read_csv('./data/3_train.csv')"
   ]
  },
  {
   "cell_type": "code",
   "execution_count": 4,
   "metadata": {
    "scrolled": true
   },
   "outputs": [
    {
     "data": {
      "text/plain": "   ID area   ck ck-saveall ck-drawall ck-savetime ck-drawtime ck-saveavg  \\\n0   3  709    0          ?        NaN           ?           ?          0   \n1   4    .  NaN          0          0           0         NaN          0   \n2   5  616    ?          0          .           0           0          0   \n3   6  615    0          0          0           ?         NaN          ?   \n4   7    .    0          0          0         NaN           .          ?   \n\n  ck-drawavg ck-avg  ... dep-avg dep-9201 fed-9201 fed-avg comp ck-changame  \\\n0        NaN      ?  ...       0        0      NaN       0    0           0   \n1          0      ?  ...       0        ?        ?       0    0           0   \n2        NaN      0  ...       0      NaN        0       .    0           0   \n3          0      0  ...       0        0        0     NaN    0           0   \n4          0    NaN  ...       0        0        0       0    ?           0   \n\n  dep-changame ck-changtime dep-changtime VV  \n0            0            0             0  0  \n1            0            0             0  0  \n2            0            0             .  0  \n3            0            0             0  0  \n4            0            ?             0  0  \n\n[5 rows x 26 columns]",
      "text/html": "<div>\n<style scoped>\n    .dataframe tbody tr th:only-of-type {\n        vertical-align: middle;\n    }\n\n    .dataframe tbody tr th {\n        vertical-align: top;\n    }\n\n    .dataframe thead th {\n        text-align: right;\n    }\n</style>\n<table border=\"1\" class=\"dataframe\">\n  <thead>\n    <tr style=\"text-align: right;\">\n      <th></th>\n      <th>ID</th>\n      <th>area</th>\n      <th>ck</th>\n      <th>ck-saveall</th>\n      <th>ck-drawall</th>\n      <th>ck-savetime</th>\n      <th>ck-drawtime</th>\n      <th>ck-saveavg</th>\n      <th>ck-drawavg</th>\n      <th>ck-avg</th>\n      <th>...</th>\n      <th>dep-avg</th>\n      <th>dep-9201</th>\n      <th>fed-9201</th>\n      <th>fed-avg</th>\n      <th>comp</th>\n      <th>ck-changame</th>\n      <th>dep-changame</th>\n      <th>ck-changtime</th>\n      <th>dep-changtime</th>\n      <th>VV</th>\n    </tr>\n  </thead>\n  <tbody>\n    <tr>\n      <th>0</th>\n      <td>3</td>\n      <td>709</td>\n      <td>0</td>\n      <td>?</td>\n      <td>NaN</td>\n      <td>?</td>\n      <td>?</td>\n      <td>0</td>\n      <td>NaN</td>\n      <td>?</td>\n      <td>...</td>\n      <td>0</td>\n      <td>0</td>\n      <td>NaN</td>\n      <td>0</td>\n      <td>0</td>\n      <td>0</td>\n      <td>0</td>\n      <td>0</td>\n      <td>0</td>\n      <td>0</td>\n    </tr>\n    <tr>\n      <th>1</th>\n      <td>4</td>\n      <td>.</td>\n      <td>NaN</td>\n      <td>0</td>\n      <td>0</td>\n      <td>0</td>\n      <td>NaN</td>\n      <td>0</td>\n      <td>0</td>\n      <td>?</td>\n      <td>...</td>\n      <td>0</td>\n      <td>?</td>\n      <td>?</td>\n      <td>0</td>\n      <td>0</td>\n      <td>0</td>\n      <td>0</td>\n      <td>0</td>\n      <td>0</td>\n      <td>0</td>\n    </tr>\n    <tr>\n      <th>2</th>\n      <td>5</td>\n      <td>616</td>\n      <td>?</td>\n      <td>0</td>\n      <td>.</td>\n      <td>0</td>\n      <td>0</td>\n      <td>0</td>\n      <td>NaN</td>\n      <td>0</td>\n      <td>...</td>\n      <td>0</td>\n      <td>NaN</td>\n      <td>0</td>\n      <td>.</td>\n      <td>0</td>\n      <td>0</td>\n      <td>0</td>\n      <td>0</td>\n      <td>.</td>\n      <td>0</td>\n    </tr>\n    <tr>\n      <th>3</th>\n      <td>6</td>\n      <td>615</td>\n      <td>0</td>\n      <td>0</td>\n      <td>0</td>\n      <td>?</td>\n      <td>NaN</td>\n      <td>?</td>\n      <td>0</td>\n      <td>0</td>\n      <td>...</td>\n      <td>0</td>\n      <td>0</td>\n      <td>0</td>\n      <td>NaN</td>\n      <td>0</td>\n      <td>0</td>\n      <td>0</td>\n      <td>0</td>\n      <td>0</td>\n      <td>0</td>\n    </tr>\n    <tr>\n      <th>4</th>\n      <td>7</td>\n      <td>.</td>\n      <td>0</td>\n      <td>0</td>\n      <td>0</td>\n      <td>NaN</td>\n      <td>.</td>\n      <td>?</td>\n      <td>0</td>\n      <td>NaN</td>\n      <td>...</td>\n      <td>0</td>\n      <td>0</td>\n      <td>0</td>\n      <td>0</td>\n      <td>?</td>\n      <td>0</td>\n      <td>0</td>\n      <td>?</td>\n      <td>0</td>\n      <td>0</td>\n    </tr>\n  </tbody>\n</table>\n<p>5 rows × 26 columns</p>\n</div>"
     },
     "execution_count": 4,
     "metadata": {},
     "output_type": "execute_result"
    }
   ],
   "source": [
    "data.head()"
   ]
  },
  {
   "cell_type": "markdown",
   "metadata": {},
   "source": [
    "# 异常字符处理"
   ]
  },
  {
   "cell_type": "code",
   "execution_count": 5,
   "metadata": {},
   "outputs": [],
   "source": [
    "#去除所有半角全角符号，只留字母、数字、中文\n",
    "for col in data.columns:\n",
    "    data[col].replace(regex=True, inplace=True, to_replace=r'[^a-zA-Z0-9\\u4e00-\\u9fa5]', value=np.nan)"
   ]
  },
  {
   "cell_type": "code",
   "execution_count": 6,
   "metadata": {
    "scrolled": true
   },
   "outputs": [
    {
     "data": {
      "text/plain": "   ID area   ck ck-saveall ck-drawall ck-savetime ck-drawtime ck-saveavg  \\\n0   3  709    0        NaN        NaN         NaN         NaN          0   \n1   4  NaN  NaN          0          0           0         NaN          0   \n2   5  616  NaN          0        NaN           0           0          0   \n3   6  615    0          0          0         NaN         NaN        NaN   \n4   7  NaN    0          0          0         NaN         NaN        NaN   \n\n  ck-drawavg ck-avg  ... dep-avg dep-9201 fed-9201 fed-avg comp ck-changame  \\\n0        NaN    NaN  ...       0        0      NaN       0    0           0   \n1          0    NaN  ...       0      NaN      NaN       0    0           0   \n2        NaN      0  ...       0      NaN        0     NaN    0           0   \n3          0      0  ...       0        0        0     NaN    0           0   \n4          0    NaN  ...       0        0        0       0  NaN           0   \n\n  dep-changame ck-changtime dep-changtime VV  \n0            0            0             0  0  \n1            0            0             0  0  \n2            0            0           NaN  0  \n3            0            0             0  0  \n4            0          NaN             0  0  \n\n[5 rows x 26 columns]",
      "text/html": "<div>\n<style scoped>\n    .dataframe tbody tr th:only-of-type {\n        vertical-align: middle;\n    }\n\n    .dataframe tbody tr th {\n        vertical-align: top;\n    }\n\n    .dataframe thead th {\n        text-align: right;\n    }\n</style>\n<table border=\"1\" class=\"dataframe\">\n  <thead>\n    <tr style=\"text-align: right;\">\n      <th></th>\n      <th>ID</th>\n      <th>area</th>\n      <th>ck</th>\n      <th>ck-saveall</th>\n      <th>ck-drawall</th>\n      <th>ck-savetime</th>\n      <th>ck-drawtime</th>\n      <th>ck-saveavg</th>\n      <th>ck-drawavg</th>\n      <th>ck-avg</th>\n      <th>...</th>\n      <th>dep-avg</th>\n      <th>dep-9201</th>\n      <th>fed-9201</th>\n      <th>fed-avg</th>\n      <th>comp</th>\n      <th>ck-changame</th>\n      <th>dep-changame</th>\n      <th>ck-changtime</th>\n      <th>dep-changtime</th>\n      <th>VV</th>\n    </tr>\n  </thead>\n  <tbody>\n    <tr>\n      <th>0</th>\n      <td>3</td>\n      <td>709</td>\n      <td>0</td>\n      <td>NaN</td>\n      <td>NaN</td>\n      <td>NaN</td>\n      <td>NaN</td>\n      <td>0</td>\n      <td>NaN</td>\n      <td>NaN</td>\n      <td>...</td>\n      <td>0</td>\n      <td>0</td>\n      <td>NaN</td>\n      <td>0</td>\n      <td>0</td>\n      <td>0</td>\n      <td>0</td>\n      <td>0</td>\n      <td>0</td>\n      <td>0</td>\n    </tr>\n    <tr>\n      <th>1</th>\n      <td>4</td>\n      <td>NaN</td>\n      <td>NaN</td>\n      <td>0</td>\n      <td>0</td>\n      <td>0</td>\n      <td>NaN</td>\n      <td>0</td>\n      <td>0</td>\n      <td>NaN</td>\n      <td>...</td>\n      <td>0</td>\n      <td>NaN</td>\n      <td>NaN</td>\n      <td>0</td>\n      <td>0</td>\n      <td>0</td>\n      <td>0</td>\n      <td>0</td>\n      <td>0</td>\n      <td>0</td>\n    </tr>\n    <tr>\n      <th>2</th>\n      <td>5</td>\n      <td>616</td>\n      <td>NaN</td>\n      <td>0</td>\n      <td>NaN</td>\n      <td>0</td>\n      <td>0</td>\n      <td>0</td>\n      <td>NaN</td>\n      <td>0</td>\n      <td>...</td>\n      <td>0</td>\n      <td>NaN</td>\n      <td>0</td>\n      <td>NaN</td>\n      <td>0</td>\n      <td>0</td>\n      <td>0</td>\n      <td>0</td>\n      <td>NaN</td>\n      <td>0</td>\n    </tr>\n    <tr>\n      <th>3</th>\n      <td>6</td>\n      <td>615</td>\n      <td>0</td>\n      <td>0</td>\n      <td>0</td>\n      <td>NaN</td>\n      <td>NaN</td>\n      <td>NaN</td>\n      <td>0</td>\n      <td>0</td>\n      <td>...</td>\n      <td>0</td>\n      <td>0</td>\n      <td>0</td>\n      <td>NaN</td>\n      <td>0</td>\n      <td>0</td>\n      <td>0</td>\n      <td>0</td>\n      <td>0</td>\n      <td>0</td>\n    </tr>\n    <tr>\n      <th>4</th>\n      <td>7</td>\n      <td>NaN</td>\n      <td>0</td>\n      <td>0</td>\n      <td>0</td>\n      <td>NaN</td>\n      <td>NaN</td>\n      <td>NaN</td>\n      <td>0</td>\n      <td>NaN</td>\n      <td>...</td>\n      <td>0</td>\n      <td>0</td>\n      <td>0</td>\n      <td>0</td>\n      <td>NaN</td>\n      <td>0</td>\n      <td>0</td>\n      <td>NaN</td>\n      <td>0</td>\n      <td>0</td>\n    </tr>\n  </tbody>\n</table>\n<p>5 rows × 26 columns</p>\n</div>"
     },
     "execution_count": 6,
     "metadata": {},
     "output_type": "execute_result"
    }
   ],
   "source": [
    "data.head()"
   ]
  },
  {
   "cell_type": "markdown",
   "metadata": {},
   "source": [
    "# 缺失值处理"
   ]
  },
  {
   "cell_type": "markdown",
   "metadata": {},
   "source": [
    "## 查看缺失的列"
   ]
  },
  {
   "cell_type": "code",
   "execution_count": 7,
   "metadata": {
    "scrolled": true
   },
   "outputs": [
    {
     "name": "stdout",
     "output_type": "stream",
     "text": [
      "**************************NA Cols:**************************\n",
      "area             True\n",
      "ck               True\n",
      "ck-saveall       True\n",
      "ck-drawall       True\n",
      "ck-savetime      True\n",
      "ck-drawtime      True\n",
      "ck-saveavg       True\n",
      "ck-drawavg       True\n",
      "ck-avg           True\n",
      "dep-saveall      True\n",
      "dep-drawall      True\n",
      "dep-savetime     True\n",
      "dep-drawtime     True\n",
      "depsaveavg       True\n",
      "depdrawavg       True\n",
      "dep-avg          True\n",
      "dep-9201         True\n",
      "fed-9201         True\n",
      "fed-avg          True\n",
      "comp             True\n",
      "ck-changame      True\n",
      "dep-changame     True\n",
      "ck-changtime     True\n",
      "dep-changtime    True\n",
      "dtype: bool\n",
      "Total number of NA lines is: 26114\n"
     ]
    }
   ],
   "source": [
    "#查看缺失值的列\n",
    "na_cols = data.isnull().any(axis=0)  # 查看每一列是否具有缺失值\n",
    "print('{:*^60}'.format('NA Cols:'))\n",
    "print(na_cols[na_cols==True])  # 查看具有缺失值的列\n",
    "print('Total number of NA lines is: {0}'.format(\n",
    "    data.isnull().any(axis=1).sum()))  # 查看具有缺失值的行总记录数"
   ]
  },
  {
   "cell_type": "markdown",
   "metadata": {},
   "source": [
    "## 查看数据类型和分布"
   ]
  },
  {
   "cell_type": "code",
   "execution_count": 8,
   "metadata": {
    "scrolled": true
   },
   "outputs": [
    {
     "name": "stdout",
     "output_type": "stream",
     "text": [
      "************************Data dtypes:************************\n",
      "      ID    area      ck ck-saveall ck-drawall ck-savetime ck-drawtime  \\\n",
      "0  int64  object  object     object     object      object      object   \n",
      "\n",
      "  ck-saveavg ck-drawavg  ck-avg  ... dep-avg dep-9201 fed-9201 fed-avg  \\\n",
      "0     object     object  object  ...  object   object   object  object   \n",
      "\n",
      "     comp ck-changame dep-changame ck-changtime dep-changtime     VV  \n",
      "0  object      object       object       object        object  int64  \n",
      "\n",
      "[1 rows x 26 columns]\n",
      "*************************Data DESC:*************************\n",
      "      count     mean     std  min     25%      50%      75%      max\n",
      "ID 26144.00 16333.48 9429.67 3.00 8139.25 16340.50 24498.25 32682.00\n",
      "VV 26144.00     0.02    0.15 0.00    0.00     0.00     0.00     1.00\n"
     ]
    }
   ],
   "source": [
    "# 数据分布查看\n",
    "print('{:*^60}'.format('Data dtypes:'))\n",
    "print(pd.DataFrame(data.dtypes).T)  # 打印数据类型分布\n",
    "print('{:*^60}'.format('Data DESC:'))\n",
    "print(data.describe().round(2).T)  # 打印原始数据基本描述性信息"
   ]
  },
  {
   "cell_type": "code",
   "execution_count": 9,
   "metadata": {
    "scrolled": true
   },
   "outputs": [
    {
     "data": {
      "text/plain": "Index(['ID', 'area', 'ck', 'ck-saveall', 'ck-drawall', 'ck-savetime',\n       'ck-drawtime', 'ck-saveavg', 'ck-drawavg', 'ck-avg', 'dep-saveall',\n       'dep-drawall', 'dep-savetime', 'dep-drawtime', 'depsaveavg',\n       'depdrawavg', 'dep-avg', 'dep-9201', 'fed-9201', 'fed-avg', 'comp',\n       'ck-changame', 'dep-changame', 'ck-changtime', 'dep-changtime', 'VV'],\n      dtype='object')"
     },
     "execution_count": 9,
     "metadata": {},
     "output_type": "execute_result"
    }
   ],
   "source": [
    "data.columns"
   ]
  },
  {
   "cell_type": "markdown",
   "metadata": {},
   "source": [
    "## 连续变量均值填补"
   ]
  },
  {
   "cell_type": "markdown",
   "metadata": {},
   "source": [
    "### 分析缺失原因"
   ]
  },
  {
   "cell_type": "code",
   "execution_count": 10,
   "metadata": {
    "scrolled": true
   },
   "outputs": [
    {
     "data": {
      "text/plain": "          ID   area ck ck-saveall ck-drawall ck-savetime ck-drawtime  \\\n0          3    709  0        NaN        NaN         NaN         NaN   \n3          6    615  0          0          0         NaN         NaN   \n4          7    NaN  0          0          0         NaN         NaN   \n5          9    608  0          0          0           0           0   \n9         15    NaN  0          0        NaN         NaN         NaN   \n...      ...    ... ..        ...        ...         ...         ...   \n26137  32675    320  0          0        NaN           0         NaN   \n26138  32677  40400  0          0          0         NaN           0   \n26140  32679  83000  0        NaN          0           0           0   \n26141  32680  10400  0          0          0           0           0   \n26142  32681    NaN  0          0        NaN           0         NaN   \n\n      ck-saveavg ck-drawavg ck-avg  ... dep-avg dep-9201 fed-9201 fed-avg  \\\n0              0        NaN    NaN  ...       0        0      NaN       0   \n3            NaN          0      0  ...       0        0        0     NaN   \n4            NaN          0    NaN  ...       0        0        0       0   \n5            NaN          0      0  ...       0        0        0     NaN   \n9              0          0    NaN  ...       0      NaN        0       0   \n...          ...        ...    ...  ...     ...      ...      ...     ...   \n26137          0          0      0  ...   29713    31930        0       0   \n26138          0          0      0  ...   69953     6000        0       0   \n26140          0        NaN      0  ...   25566        0        0     NaN   \n26141          0          0      0  ...    2173        0        0       0   \n26142          0          0      0  ...     NaN        0        0     NaN   \n\n      comp ck-changame dep-changame ck-changtime dep-changtime VV  \n0        0           0            0            0             0  0  \n3        0           0            0            0             0  0  \n4      NaN           0            0          NaN             0  0  \n5        0           0          NaN            0           NaN  0  \n9        0         NaN            0            0             0  0  \n...    ...         ...          ...          ...           ... ..  \n26137    1           0          NaN            0            13  0  \n26138    0           0        44500            0             6  0  \n26140    0           0          NaN            0             0  0  \n26141    0           0            0            0             0  0  \n26142  NaN           0            0            0             0  0  \n\n[12749 rows x 26 columns]",
      "text/html": "<div>\n<style scoped>\n    .dataframe tbody tr th:only-of-type {\n        vertical-align: middle;\n    }\n\n    .dataframe tbody tr th {\n        vertical-align: top;\n    }\n\n    .dataframe thead th {\n        text-align: right;\n    }\n</style>\n<table border=\"1\" class=\"dataframe\">\n  <thead>\n    <tr style=\"text-align: right;\">\n      <th></th>\n      <th>ID</th>\n      <th>area</th>\n      <th>ck</th>\n      <th>ck-saveall</th>\n      <th>ck-drawall</th>\n      <th>ck-savetime</th>\n      <th>ck-drawtime</th>\n      <th>ck-saveavg</th>\n      <th>ck-drawavg</th>\n      <th>ck-avg</th>\n      <th>...</th>\n      <th>dep-avg</th>\n      <th>dep-9201</th>\n      <th>fed-9201</th>\n      <th>fed-avg</th>\n      <th>comp</th>\n      <th>ck-changame</th>\n      <th>dep-changame</th>\n      <th>ck-changtime</th>\n      <th>dep-changtime</th>\n      <th>VV</th>\n    </tr>\n  </thead>\n  <tbody>\n    <tr>\n      <th>0</th>\n      <td>3</td>\n      <td>709</td>\n      <td>0</td>\n      <td>NaN</td>\n      <td>NaN</td>\n      <td>NaN</td>\n      <td>NaN</td>\n      <td>0</td>\n      <td>NaN</td>\n      <td>NaN</td>\n      <td>...</td>\n      <td>0</td>\n      <td>0</td>\n      <td>NaN</td>\n      <td>0</td>\n      <td>0</td>\n      <td>0</td>\n      <td>0</td>\n      <td>0</td>\n      <td>0</td>\n      <td>0</td>\n    </tr>\n    <tr>\n      <th>3</th>\n      <td>6</td>\n      <td>615</td>\n      <td>0</td>\n      <td>0</td>\n      <td>0</td>\n      <td>NaN</td>\n      <td>NaN</td>\n      <td>NaN</td>\n      <td>0</td>\n      <td>0</td>\n      <td>...</td>\n      <td>0</td>\n      <td>0</td>\n      <td>0</td>\n      <td>NaN</td>\n      <td>0</td>\n      <td>0</td>\n      <td>0</td>\n      <td>0</td>\n      <td>0</td>\n      <td>0</td>\n    </tr>\n    <tr>\n      <th>4</th>\n      <td>7</td>\n      <td>NaN</td>\n      <td>0</td>\n      <td>0</td>\n      <td>0</td>\n      <td>NaN</td>\n      <td>NaN</td>\n      <td>NaN</td>\n      <td>0</td>\n      <td>NaN</td>\n      <td>...</td>\n      <td>0</td>\n      <td>0</td>\n      <td>0</td>\n      <td>0</td>\n      <td>NaN</td>\n      <td>0</td>\n      <td>0</td>\n      <td>NaN</td>\n      <td>0</td>\n      <td>0</td>\n    </tr>\n    <tr>\n      <th>5</th>\n      <td>9</td>\n      <td>608</td>\n      <td>0</td>\n      <td>0</td>\n      <td>0</td>\n      <td>0</td>\n      <td>0</td>\n      <td>NaN</td>\n      <td>0</td>\n      <td>0</td>\n      <td>...</td>\n      <td>0</td>\n      <td>0</td>\n      <td>0</td>\n      <td>NaN</td>\n      <td>0</td>\n      <td>0</td>\n      <td>NaN</td>\n      <td>0</td>\n      <td>NaN</td>\n      <td>0</td>\n    </tr>\n    <tr>\n      <th>9</th>\n      <td>15</td>\n      <td>NaN</td>\n      <td>0</td>\n      <td>0</td>\n      <td>NaN</td>\n      <td>NaN</td>\n      <td>NaN</td>\n      <td>0</td>\n      <td>0</td>\n      <td>NaN</td>\n      <td>...</td>\n      <td>0</td>\n      <td>NaN</td>\n      <td>0</td>\n      <td>0</td>\n      <td>0</td>\n      <td>NaN</td>\n      <td>0</td>\n      <td>0</td>\n      <td>0</td>\n      <td>0</td>\n    </tr>\n    <tr>\n      <th>...</th>\n      <td>...</td>\n      <td>...</td>\n      <td>...</td>\n      <td>...</td>\n      <td>...</td>\n      <td>...</td>\n      <td>...</td>\n      <td>...</td>\n      <td>...</td>\n      <td>...</td>\n      <td>...</td>\n      <td>...</td>\n      <td>...</td>\n      <td>...</td>\n      <td>...</td>\n      <td>...</td>\n      <td>...</td>\n      <td>...</td>\n      <td>...</td>\n      <td>...</td>\n      <td>...</td>\n    </tr>\n    <tr>\n      <th>26137</th>\n      <td>32675</td>\n      <td>320</td>\n      <td>0</td>\n      <td>0</td>\n      <td>NaN</td>\n      <td>0</td>\n      <td>NaN</td>\n      <td>0</td>\n      <td>0</td>\n      <td>0</td>\n      <td>...</td>\n      <td>29713</td>\n      <td>31930</td>\n      <td>0</td>\n      <td>0</td>\n      <td>1</td>\n      <td>0</td>\n      <td>NaN</td>\n      <td>0</td>\n      <td>13</td>\n      <td>0</td>\n    </tr>\n    <tr>\n      <th>26138</th>\n      <td>32677</td>\n      <td>40400</td>\n      <td>0</td>\n      <td>0</td>\n      <td>0</td>\n      <td>NaN</td>\n      <td>0</td>\n      <td>0</td>\n      <td>0</td>\n      <td>0</td>\n      <td>...</td>\n      <td>69953</td>\n      <td>6000</td>\n      <td>0</td>\n      <td>0</td>\n      <td>0</td>\n      <td>0</td>\n      <td>44500</td>\n      <td>0</td>\n      <td>6</td>\n      <td>0</td>\n    </tr>\n    <tr>\n      <th>26140</th>\n      <td>32679</td>\n      <td>83000</td>\n      <td>0</td>\n      <td>NaN</td>\n      <td>0</td>\n      <td>0</td>\n      <td>0</td>\n      <td>0</td>\n      <td>NaN</td>\n      <td>0</td>\n      <td>...</td>\n      <td>25566</td>\n      <td>0</td>\n      <td>0</td>\n      <td>NaN</td>\n      <td>0</td>\n      <td>0</td>\n      <td>NaN</td>\n      <td>0</td>\n      <td>0</td>\n      <td>0</td>\n    </tr>\n    <tr>\n      <th>26141</th>\n      <td>32680</td>\n      <td>10400</td>\n      <td>0</td>\n      <td>0</td>\n      <td>0</td>\n      <td>0</td>\n      <td>0</td>\n      <td>0</td>\n      <td>0</td>\n      <td>0</td>\n      <td>...</td>\n      <td>2173</td>\n      <td>0</td>\n      <td>0</td>\n      <td>0</td>\n      <td>0</td>\n      <td>0</td>\n      <td>0</td>\n      <td>0</td>\n      <td>0</td>\n      <td>0</td>\n    </tr>\n    <tr>\n      <th>26142</th>\n      <td>32681</td>\n      <td>NaN</td>\n      <td>0</td>\n      <td>0</td>\n      <td>NaN</td>\n      <td>0</td>\n      <td>NaN</td>\n      <td>0</td>\n      <td>0</td>\n      <td>0</td>\n      <td>...</td>\n      <td>NaN</td>\n      <td>0</td>\n      <td>0</td>\n      <td>NaN</td>\n      <td>NaN</td>\n      <td>0</td>\n      <td>0</td>\n      <td>0</td>\n      <td>0</td>\n      <td>0</td>\n    </tr>\n  </tbody>\n</table>\n<p>12749 rows × 26 columns</p>\n</div>"
     },
     "execution_count": 10,
     "metadata": {},
     "output_type": "execute_result"
    }
   ],
   "source": [
    "# 查看数据发现，不管是否有支存，支存类变量都有缺失，说明数据是随机缺失，采用整体缺失填补\n",
    "data.loc[data['ck']=='0']"
   ]
  },
  {
   "cell_type": "markdown",
   "metadata": {},
   "source": [
    "### 确认填补方法--均值填补"
   ]
  },
  {
   "cell_type": "code",
   "execution_count": 11,
   "metadata": {},
   "outputs": [],
   "source": [
    "#由Excel列名和业务知识可知，哪些便利是数值型，哪些变量类别型\n",
    "# 连续变量由字符型转换为数值型\n",
    "continuous_columns=['ck-saveall', 'ck-drawall', 'ck-savetime',\n",
    "       'ck-drawtime', 'ck-saveavg', 'ck-drawavg', 'ck-avg', 'dep-saveall',\n",
    "       'dep-drawall', 'dep-savetime', 'dep-drawtime', 'depsaveavg',\n",
    "       'depdrawavg', 'dep-avg', 'dep-9201', 'fed-9201', 'fed-avg', \n",
    "       'ck-changame', 'dep-changame', 'ck-changtime', 'dep-changtime']\n",
    "for col in continuous_columns:\n",
    "    data[col]=data[col].astype(float)"
   ]
  },
  {
   "cell_type": "code",
   "execution_count": 12,
   "metadata": {
    "scrolled": true
   },
   "outputs": [
    {
     "data": {
      "text/plain": "            ID     ck-saveall    ck-drawall  ck-savetime  ck-drawtime  \\\ncount 26144.00       19512.00      19533.00     19673.00     19582.00   \nmean  16333.48     5675021.71     952039.47         3.83         6.78   \nstd    9429.67   598325216.34   14577098.30        19.08        49.65   \nmin       3.00           0.00          0.00         0.00         0.00   \n25%    8139.25           0.00          0.00         0.00         0.00   \n50%   16340.50           0.00          0.00         0.00         0.00   \n75%   24498.25           0.00          0.00         0.00         0.00   \nmax   32682.00 83504965431.00 1065646304.00       997.00      3418.00   \n\n       ck-saveavg  ck-drawavg     ck-avg    dep-saveall    dep-drawall  ...  \\\ncount    19627.00    19658.00   19580.00       19743.00       19669.00  ...   \nmean     40285.58    30717.81    2038.22    20272164.74    16514883.80  ...   \nstd     633309.09   736919.60   29398.59   481005494.84   432821060.02  ...   \nmin          0.00        0.00       0.00           0.00           0.00  ...   \n25%          0.00        0.00       0.00           0.00           0.00  ...   \n50%          0.00        0.00       0.00           0.00           0.00  ...   \n75%          0.00        0.00       0.00      327653.50      510000.00  ...   \nmax   50745062.00 53282315.00 2709988.00 27927712876.00 27925927928.00  ...   \n\n        depdrawavg     dep-avg       dep-9201    fed-9201     fed-avg  \\\ncount     19633.00    19633.00       19633.00    19786.00    19518.00   \nmean     201777.53    26160.50     2865627.05     4215.53     3178.10   \nstd     2021412.88   340748.34   203794002.08   234941.62   220335.71   \nmin           0.00        0.00           0.00        0.00        0.00   \n25%           0.00        9.00           0.00        0.00        0.00   \n50%           0.00      148.00           0.00        0.00        0.00   \n75%       51500.00     2766.00           0.00        0.00        0.00   \nmax   185485594.00 28225613.00 28209421276.00 29707259.00 24994127.00   \n\n         ck-changame  dep-changame  ck-changtime  dep-changtime       VV  \ncount       19463.00      19587.00      19482.00       19602.00 26144.00  \nmean      4974545.50     704112.43          6.10          10.88     0.02  \nstd     590511606.23    6300196.94         42.28         142.52     0.15  \nmin             0.00          0.00          0.00           0.00     0.00  \n25%             0.00          0.00          0.00           0.00     0.00  \n50%             0.00          0.00          0.00           0.00     0.00  \n75%             0.00          0.00          0.00           0.00     0.00  \nmax   82346336294.00  442896617.00       2846.00       16860.00     1.00  \n\n[8 rows x 23 columns]",
      "text/html": "<div>\n<style scoped>\n    .dataframe tbody tr th:only-of-type {\n        vertical-align: middle;\n    }\n\n    .dataframe tbody tr th {\n        vertical-align: top;\n    }\n\n    .dataframe thead th {\n        text-align: right;\n    }\n</style>\n<table border=\"1\" class=\"dataframe\">\n  <thead>\n    <tr style=\"text-align: right;\">\n      <th></th>\n      <th>ID</th>\n      <th>ck-saveall</th>\n      <th>ck-drawall</th>\n      <th>ck-savetime</th>\n      <th>ck-drawtime</th>\n      <th>ck-saveavg</th>\n      <th>ck-drawavg</th>\n      <th>ck-avg</th>\n      <th>dep-saveall</th>\n      <th>dep-drawall</th>\n      <th>...</th>\n      <th>depdrawavg</th>\n      <th>dep-avg</th>\n      <th>dep-9201</th>\n      <th>fed-9201</th>\n      <th>fed-avg</th>\n      <th>ck-changame</th>\n      <th>dep-changame</th>\n      <th>ck-changtime</th>\n      <th>dep-changtime</th>\n      <th>VV</th>\n    </tr>\n  </thead>\n  <tbody>\n    <tr>\n      <th>count</th>\n      <td>26144.00</td>\n      <td>19512.00</td>\n      <td>19533.00</td>\n      <td>19673.00</td>\n      <td>19582.00</td>\n      <td>19627.00</td>\n      <td>19658.00</td>\n      <td>19580.00</td>\n      <td>19743.00</td>\n      <td>19669.00</td>\n      <td>...</td>\n      <td>19633.00</td>\n      <td>19633.00</td>\n      <td>19633.00</td>\n      <td>19786.00</td>\n      <td>19518.00</td>\n      <td>19463.00</td>\n      <td>19587.00</td>\n      <td>19482.00</td>\n      <td>19602.00</td>\n      <td>26144.00</td>\n    </tr>\n    <tr>\n      <th>mean</th>\n      <td>16333.48</td>\n      <td>5675021.71</td>\n      <td>952039.47</td>\n      <td>3.83</td>\n      <td>6.78</td>\n      <td>40285.58</td>\n      <td>30717.81</td>\n      <td>2038.22</td>\n      <td>20272164.74</td>\n      <td>16514883.80</td>\n      <td>...</td>\n      <td>201777.53</td>\n      <td>26160.50</td>\n      <td>2865627.05</td>\n      <td>4215.53</td>\n      <td>3178.10</td>\n      <td>4974545.50</td>\n      <td>704112.43</td>\n      <td>6.10</td>\n      <td>10.88</td>\n      <td>0.02</td>\n    </tr>\n    <tr>\n      <th>std</th>\n      <td>9429.67</td>\n      <td>598325216.34</td>\n      <td>14577098.30</td>\n      <td>19.08</td>\n      <td>49.65</td>\n      <td>633309.09</td>\n      <td>736919.60</td>\n      <td>29398.59</td>\n      <td>481005494.84</td>\n      <td>432821060.02</td>\n      <td>...</td>\n      <td>2021412.88</td>\n      <td>340748.34</td>\n      <td>203794002.08</td>\n      <td>234941.62</td>\n      <td>220335.71</td>\n      <td>590511606.23</td>\n      <td>6300196.94</td>\n      <td>42.28</td>\n      <td>142.52</td>\n      <td>0.15</td>\n    </tr>\n    <tr>\n      <th>min</th>\n      <td>3.00</td>\n      <td>0.00</td>\n      <td>0.00</td>\n      <td>0.00</td>\n      <td>0.00</td>\n      <td>0.00</td>\n      <td>0.00</td>\n      <td>0.00</td>\n      <td>0.00</td>\n      <td>0.00</td>\n      <td>...</td>\n      <td>0.00</td>\n      <td>0.00</td>\n      <td>0.00</td>\n      <td>0.00</td>\n      <td>0.00</td>\n      <td>0.00</td>\n      <td>0.00</td>\n      <td>0.00</td>\n      <td>0.00</td>\n      <td>0.00</td>\n    </tr>\n    <tr>\n      <th>25%</th>\n      <td>8139.25</td>\n      <td>0.00</td>\n      <td>0.00</td>\n      <td>0.00</td>\n      <td>0.00</td>\n      <td>0.00</td>\n      <td>0.00</td>\n      <td>0.00</td>\n      <td>0.00</td>\n      <td>0.00</td>\n      <td>...</td>\n      <td>0.00</td>\n      <td>9.00</td>\n      <td>0.00</td>\n      <td>0.00</td>\n      <td>0.00</td>\n      <td>0.00</td>\n      <td>0.00</td>\n      <td>0.00</td>\n      <td>0.00</td>\n      <td>0.00</td>\n    </tr>\n    <tr>\n      <th>50%</th>\n      <td>16340.50</td>\n      <td>0.00</td>\n      <td>0.00</td>\n      <td>0.00</td>\n      <td>0.00</td>\n      <td>0.00</td>\n      <td>0.00</td>\n      <td>0.00</td>\n      <td>0.00</td>\n      <td>0.00</td>\n      <td>...</td>\n      <td>0.00</td>\n      <td>148.00</td>\n      <td>0.00</td>\n      <td>0.00</td>\n      <td>0.00</td>\n      <td>0.00</td>\n      <td>0.00</td>\n      <td>0.00</td>\n      <td>0.00</td>\n      <td>0.00</td>\n    </tr>\n    <tr>\n      <th>75%</th>\n      <td>24498.25</td>\n      <td>0.00</td>\n      <td>0.00</td>\n      <td>0.00</td>\n      <td>0.00</td>\n      <td>0.00</td>\n      <td>0.00</td>\n      <td>0.00</td>\n      <td>327653.50</td>\n      <td>510000.00</td>\n      <td>...</td>\n      <td>51500.00</td>\n      <td>2766.00</td>\n      <td>0.00</td>\n      <td>0.00</td>\n      <td>0.00</td>\n      <td>0.00</td>\n      <td>0.00</td>\n      <td>0.00</td>\n      <td>0.00</td>\n      <td>0.00</td>\n    </tr>\n    <tr>\n      <th>max</th>\n      <td>32682.00</td>\n      <td>83504965431.00</td>\n      <td>1065646304.00</td>\n      <td>997.00</td>\n      <td>3418.00</td>\n      <td>50745062.00</td>\n      <td>53282315.00</td>\n      <td>2709988.00</td>\n      <td>27927712876.00</td>\n      <td>27925927928.00</td>\n      <td>...</td>\n      <td>185485594.00</td>\n      <td>28225613.00</td>\n      <td>28209421276.00</td>\n      <td>29707259.00</td>\n      <td>24994127.00</td>\n      <td>82346336294.00</td>\n      <td>442896617.00</td>\n      <td>2846.00</td>\n      <td>16860.00</td>\n      <td>1.00</td>\n    </tr>\n  </tbody>\n</table>\n<p>8 rows × 23 columns</p>\n</div>"
     },
     "execution_count": 12,
     "metadata": {},
     "output_type": "execute_result"
    }
   ],
   "source": [
    "data.describe()"
   ]
  },
  {
   "cell_type": "code",
   "execution_count": 13,
   "metadata": {},
   "outputs": [],
   "source": [
    "# 数值变量均值填补\n",
    "# 连续变量由字符型转换为数值型\n",
    "continuous_columns=['ck-saveall', 'ck-drawall', 'ck-savetime',\n",
    "       'ck-drawtime', 'ck-saveavg', 'ck-drawavg', 'ck-avg', 'dep-saveall',\n",
    "       'dep-drawall', 'dep-savetime', 'dep-drawtime', 'depsaveavg',\n",
    "       'depdrawavg', 'dep-avg', 'dep-9201', 'fed-9201', 'fed-avg', \n",
    "       'ck-changame', 'dep-changame', 'ck-changtime', 'dep-changtime']\n",
    "for col in continuous_columns:\n",
    "    data[col].fillna(value=data[col].mean() , inplace=True)"
   ]
  },
  {
   "cell_type": "markdown",
   "metadata": {},
   "source": [
    "## 类别变量众数填补"
   ]
  },
  {
   "cell_type": "code",
   "execution_count": 14,
   "metadata": {},
   "outputs": [],
   "source": [
    "# 类别变量众数填补\n",
    "category_columns=['area','ck','comp']\n",
    "for col in category_columns:\n",
    "    col_mode=data.loc[:,col].values.reshape(-1,1)\n",
    "    imp_mode=SimpleImputer(strategy = \"most_frequent\")\n",
    "    data.loc[:,col] = imp_mode.fit_transform(col_mode)"
   ]
  },
  {
   "cell_type": "code",
   "execution_count": 15,
   "metadata": {},
   "outputs": [],
   "source": [
    "# 类别变量转换为字符型\n",
    "category_columns=['area','ck','comp']\n",
    "for col in category_columns:\n",
    "    data[col]=data[col].astype(str)"
   ]
  },
  {
   "cell_type": "code",
   "execution_count": 16,
   "metadata": {
    "scrolled": false
   },
   "outputs": [
    {
     "data": {
      "text/plain": "   ID area ck  ck-saveall  ck-drawall  ck-savetime  ck-drawtime  ck-saveavg  \\\n0   3  709  0  5675021.71   952039.47         3.83         6.78        0.00   \n1   4  104  0        0.00        0.00         0.00         6.78        0.00   \n2   5  616  0        0.00   952039.47         0.00         0.00        0.00   \n3   6  615  0        0.00        0.00         3.83         6.78    40285.58   \n4   7  104  0        0.00        0.00         3.83         6.78    40285.58   \n\n   ck-drawavg  ck-avg  ...  dep-avg   dep-9201  fed-9201  fed-avg  comp  \\\n0    30717.81 2038.22  ...     0.00       0.00   4215.53     0.00     0   \n1        0.00 2038.22  ...     0.00 2865627.05   4215.53     0.00     0   \n2    30717.81    0.00  ...     0.00 2865627.05      0.00  3178.10     0   \n3        0.00    0.00  ...     0.00       0.00      0.00  3178.10     0   \n4        0.00 2038.22  ...     0.00       0.00      0.00     0.00     0   \n\n   ck-changame  dep-changame  ck-changtime  dep-changtime  VV  \n0         0.00          0.00          0.00           0.00   0  \n1         0.00          0.00          0.00           0.00   0  \n2         0.00          0.00          0.00          10.88   0  \n3         0.00          0.00          0.00           0.00   0  \n4         0.00          0.00          6.10           0.00   0  \n\n[5 rows x 26 columns]",
      "text/html": "<div>\n<style scoped>\n    .dataframe tbody tr th:only-of-type {\n        vertical-align: middle;\n    }\n\n    .dataframe tbody tr th {\n        vertical-align: top;\n    }\n\n    .dataframe thead th {\n        text-align: right;\n    }\n</style>\n<table border=\"1\" class=\"dataframe\">\n  <thead>\n    <tr style=\"text-align: right;\">\n      <th></th>\n      <th>ID</th>\n      <th>area</th>\n      <th>ck</th>\n      <th>ck-saveall</th>\n      <th>ck-drawall</th>\n      <th>ck-savetime</th>\n      <th>ck-drawtime</th>\n      <th>ck-saveavg</th>\n      <th>ck-drawavg</th>\n      <th>ck-avg</th>\n      <th>...</th>\n      <th>dep-avg</th>\n      <th>dep-9201</th>\n      <th>fed-9201</th>\n      <th>fed-avg</th>\n      <th>comp</th>\n      <th>ck-changame</th>\n      <th>dep-changame</th>\n      <th>ck-changtime</th>\n      <th>dep-changtime</th>\n      <th>VV</th>\n    </tr>\n  </thead>\n  <tbody>\n    <tr>\n      <th>0</th>\n      <td>3</td>\n      <td>709</td>\n      <td>0</td>\n      <td>5675021.71</td>\n      <td>952039.47</td>\n      <td>3.83</td>\n      <td>6.78</td>\n      <td>0.00</td>\n      <td>30717.81</td>\n      <td>2038.22</td>\n      <td>...</td>\n      <td>0.00</td>\n      <td>0.00</td>\n      <td>4215.53</td>\n      <td>0.00</td>\n      <td>0</td>\n      <td>0.00</td>\n      <td>0.00</td>\n      <td>0.00</td>\n      <td>0.00</td>\n      <td>0</td>\n    </tr>\n    <tr>\n      <th>1</th>\n      <td>4</td>\n      <td>104</td>\n      <td>0</td>\n      <td>0.00</td>\n      <td>0.00</td>\n      <td>0.00</td>\n      <td>6.78</td>\n      <td>0.00</td>\n      <td>0.00</td>\n      <td>2038.22</td>\n      <td>...</td>\n      <td>0.00</td>\n      <td>2865627.05</td>\n      <td>4215.53</td>\n      <td>0.00</td>\n      <td>0</td>\n      <td>0.00</td>\n      <td>0.00</td>\n      <td>0.00</td>\n      <td>0.00</td>\n      <td>0</td>\n    </tr>\n    <tr>\n      <th>2</th>\n      <td>5</td>\n      <td>616</td>\n      <td>0</td>\n      <td>0.00</td>\n      <td>952039.47</td>\n      <td>0.00</td>\n      <td>0.00</td>\n      <td>0.00</td>\n      <td>30717.81</td>\n      <td>0.00</td>\n      <td>...</td>\n      <td>0.00</td>\n      <td>2865627.05</td>\n      <td>0.00</td>\n      <td>3178.10</td>\n      <td>0</td>\n      <td>0.00</td>\n      <td>0.00</td>\n      <td>0.00</td>\n      <td>10.88</td>\n      <td>0</td>\n    </tr>\n    <tr>\n      <th>3</th>\n      <td>6</td>\n      <td>615</td>\n      <td>0</td>\n      <td>0.00</td>\n      <td>0.00</td>\n      <td>3.83</td>\n      <td>6.78</td>\n      <td>40285.58</td>\n      <td>0.00</td>\n      <td>0.00</td>\n      <td>...</td>\n      <td>0.00</td>\n      <td>0.00</td>\n      <td>0.00</td>\n      <td>3178.10</td>\n      <td>0</td>\n      <td>0.00</td>\n      <td>0.00</td>\n      <td>0.00</td>\n      <td>0.00</td>\n      <td>0</td>\n    </tr>\n    <tr>\n      <th>4</th>\n      <td>7</td>\n      <td>104</td>\n      <td>0</td>\n      <td>0.00</td>\n      <td>0.00</td>\n      <td>3.83</td>\n      <td>6.78</td>\n      <td>40285.58</td>\n      <td>0.00</td>\n      <td>2038.22</td>\n      <td>...</td>\n      <td>0.00</td>\n      <td>0.00</td>\n      <td>0.00</td>\n      <td>0.00</td>\n      <td>0</td>\n      <td>0.00</td>\n      <td>0.00</td>\n      <td>6.10</td>\n      <td>0.00</td>\n      <td>0</td>\n    </tr>\n  </tbody>\n</table>\n<p>5 rows × 26 columns</p>\n</div>"
     },
     "execution_count": 16,
     "metadata": {},
     "output_type": "execute_result"
    }
   ],
   "source": [
    "data.head()"
   ]
  },
  {
   "cell_type": "markdown",
   "metadata": {},
   "source": [
    "# 变量处理"
   ]
  },
  {
   "cell_type": "markdown",
   "metadata": {},
   "source": [
    "## area区域变量类别太多，需要处理成大分类"
   ]
  },
  {
   "cell_type": "code",
   "execution_count": 17,
   "metadata": {
    "scrolled": false
   },
   "outputs": [
    {
     "data": {
      "text/plain": "1    12907\n2     3843\n4     2769\n8     1936\n7     1804\n3     1753\n9      499\n6      390\n5      237\n0        6\nName: area_act, dtype: int64"
     },
     "execution_count": 17,
     "metadata": {},
     "output_type": "execute_result"
    }
   ],
   "source": [
    "# area处理，转换成大类别\n",
    "data['area_act']=data['area'].str[0]\n",
    "data.area_act.value_counts()"
   ]
  },
  {
   "cell_type": "markdown",
   "metadata": {},
   "source": [
    "## 类别变量one-hot转换"
   ]
  },
  {
   "cell_type": "code",
   "execution_count": 18,
   "metadata": {
    "scrolled": false
   },
   "outputs": [
    {
     "name": "stdout",
     "output_type": "stream",
     "text": [
      "['x0_0' 'x0_1' 'x1_0' 'x1_1' 'x2_0' 'x2_1' 'x2_2' 'x2_3' 'x2_4' 'x2_5'\n",
      " 'x2_6' 'x2_7' 'x2_8' 'x2_9']\n",
      "Index([   'ck-saveall',    'ck-drawall',   'ck-savetime',   'ck-drawtime',\n",
      "          'ck-saveavg',    'ck-drawavg',        'ck-avg',   'dep-saveall',\n",
      "         'dep-drawall',  'dep-savetime',  'dep-drawtime',    'depsaveavg',\n",
      "          'depdrawavg',       'dep-avg',      'dep-9201',      'fed-9201',\n",
      "             'fed-avg',   'ck-changame',  'dep-changame',  'ck-changtime',\n",
      "       'dep-changtime',            'VV',               0,               1,\n",
      "                     2,               3,               4,               5,\n",
      "                     6,               7,               8,               9,\n",
      "                    10,              11,              12,              13],\n",
      "      dtype='object')\n"
     ]
    }
   ],
   "source": [
    "from sklearn.preprocessing import OneHotEncoder\n",
    "# one-hot转换\n",
    "X = data[['ck','comp','area_act']] #选取要one-hot的列\n",
    "\n",
    "enc = OneHotEncoder(categories='auto').fit(X)\n",
    "result = enc.transform(X).toarray()\n",
    "\n",
    "print(enc.get_feature_names())#返回每一个经过哑变量后生成稀疏矩阵列的名字\n",
    "\n",
    "#axis=1,表示跨行进行合并，也就是将两表左右相连，如果是axis=0，就是将量表上下相连\n",
    "newdata = pd.concat([data,pd.DataFrame(result)],axis=1)\n",
    " \n",
    "newdata.drop(['ID','area','ck','comp','area_act'],axis=1,inplace=True)\n",
    "\n",
    "print(newdata.columns) #提取列名\n",
    "\n",
    "#重命名\n",
    "newdata.columns = [   'ck-saveall',    'ck-drawall',   'ck-savetime',   'ck-drawtime',\n",
    "          'ck-saveavg',    'ck-drawavg',        'ck-avg',   'dep-saveall',\n",
    "         'dep-drawall',  'dep-savetime',  'dep-drawtime',    'depsaveavg',\n",
    "          'depdrawavg',       'dep-avg',      'dep-9201',      'fed-9201',\n",
    "             'fed-avg',   'ck-changame',  'dep-changame',  'ck-changtime',\n",
    "       'dep-changtime','VV','ck_0','ck_1','comp_0', 'comp_1','area_0',\n",
    "                   'area_1','area_2','area_3','area_4','area_5','area_6','area_7','area_8','area_9']\n"
   ]
  },
  {
   "cell_type": "markdown",
   "metadata": {},
   "source": [
    "# 训练模型"
   ]
  },
  {
   "cell_type": "markdown",
   "metadata": {},
   "source": [
    "## 目标变量，正负比例"
   ]
  },
  {
   "cell_type": "code",
   "execution_count": 19,
   "metadata": {
    "scrolled": true
   },
   "outputs": [
    {
     "data": {
      "text/plain": "   ck-saveall  ck-drawall  ck-savetime  ck-drawtime  ck-saveavg  ck-drawavg  \\\n0  5675021.71   952039.47         3.83         6.78        0.00    30717.81   \n1        0.00        0.00         0.00         6.78        0.00        0.00   \n2        0.00   952039.47         0.00         0.00        0.00    30717.81   \n3        0.00        0.00         3.83         6.78    40285.58        0.00   \n4        0.00        0.00         3.83         6.78    40285.58        0.00   \n\n   ck-avg  dep-saveall  dep-drawall  dep-savetime  ...  area_0  area_1  \\\n0 2038.22         0.00  16514883.80          0.00  ...    0.00    0.00   \n1 2038.22         0.00         0.00         24.32  ...    0.00    1.00   \n2    0.00         0.00         0.00          0.00  ...    0.00    0.00   \n3    0.00         0.00  16514883.80          0.00  ...    0.00    0.00   \n4 2038.22  20272164.74  16514883.80          0.00  ...    0.00    1.00   \n\n   area_2  area_3  area_4  area_5  area_6  area_7  area_8  area_9  \n0    0.00    0.00    0.00    0.00    0.00    1.00    0.00    0.00  \n1    0.00    0.00    0.00    0.00    0.00    0.00    0.00    0.00  \n2    0.00    0.00    0.00    0.00    1.00    0.00    0.00    0.00  \n3    0.00    0.00    0.00    0.00    1.00    0.00    0.00    0.00  \n4    0.00    0.00    0.00    0.00    0.00    0.00    0.00    0.00  \n\n[5 rows x 36 columns]",
      "text/html": "<div>\n<style scoped>\n    .dataframe tbody tr th:only-of-type {\n        vertical-align: middle;\n    }\n\n    .dataframe tbody tr th {\n        vertical-align: top;\n    }\n\n    .dataframe thead th {\n        text-align: right;\n    }\n</style>\n<table border=\"1\" class=\"dataframe\">\n  <thead>\n    <tr style=\"text-align: right;\">\n      <th></th>\n      <th>ck-saveall</th>\n      <th>ck-drawall</th>\n      <th>ck-savetime</th>\n      <th>ck-drawtime</th>\n      <th>ck-saveavg</th>\n      <th>ck-drawavg</th>\n      <th>ck-avg</th>\n      <th>dep-saveall</th>\n      <th>dep-drawall</th>\n      <th>dep-savetime</th>\n      <th>...</th>\n      <th>area_0</th>\n      <th>area_1</th>\n      <th>area_2</th>\n      <th>area_3</th>\n      <th>area_4</th>\n      <th>area_5</th>\n      <th>area_6</th>\n      <th>area_7</th>\n      <th>area_8</th>\n      <th>area_9</th>\n    </tr>\n  </thead>\n  <tbody>\n    <tr>\n      <th>0</th>\n      <td>5675021.71</td>\n      <td>952039.47</td>\n      <td>3.83</td>\n      <td>6.78</td>\n      <td>0.00</td>\n      <td>30717.81</td>\n      <td>2038.22</td>\n      <td>0.00</td>\n      <td>16514883.80</td>\n      <td>0.00</td>\n      <td>...</td>\n      <td>0.00</td>\n      <td>0.00</td>\n      <td>0.00</td>\n      <td>0.00</td>\n      <td>0.00</td>\n      <td>0.00</td>\n      <td>0.00</td>\n      <td>1.00</td>\n      <td>0.00</td>\n      <td>0.00</td>\n    </tr>\n    <tr>\n      <th>1</th>\n      <td>0.00</td>\n      <td>0.00</td>\n      <td>0.00</td>\n      <td>6.78</td>\n      <td>0.00</td>\n      <td>0.00</td>\n      <td>2038.22</td>\n      <td>0.00</td>\n      <td>0.00</td>\n      <td>24.32</td>\n      <td>...</td>\n      <td>0.00</td>\n      <td>1.00</td>\n      <td>0.00</td>\n      <td>0.00</td>\n      <td>0.00</td>\n      <td>0.00</td>\n      <td>0.00</td>\n      <td>0.00</td>\n      <td>0.00</td>\n      <td>0.00</td>\n    </tr>\n    <tr>\n      <th>2</th>\n      <td>0.00</td>\n      <td>952039.47</td>\n      <td>0.00</td>\n      <td>0.00</td>\n      <td>0.00</td>\n      <td>30717.81</td>\n      <td>0.00</td>\n      <td>0.00</td>\n      <td>0.00</td>\n      <td>0.00</td>\n      <td>...</td>\n      <td>0.00</td>\n      <td>0.00</td>\n      <td>0.00</td>\n      <td>0.00</td>\n      <td>0.00</td>\n      <td>0.00</td>\n      <td>1.00</td>\n      <td>0.00</td>\n      <td>0.00</td>\n      <td>0.00</td>\n    </tr>\n    <tr>\n      <th>3</th>\n      <td>0.00</td>\n      <td>0.00</td>\n      <td>3.83</td>\n      <td>6.78</td>\n      <td>40285.58</td>\n      <td>0.00</td>\n      <td>0.00</td>\n      <td>0.00</td>\n      <td>16514883.80</td>\n      <td>0.00</td>\n      <td>...</td>\n      <td>0.00</td>\n      <td>0.00</td>\n      <td>0.00</td>\n      <td>0.00</td>\n      <td>0.00</td>\n      <td>0.00</td>\n      <td>1.00</td>\n      <td>0.00</td>\n      <td>0.00</td>\n      <td>0.00</td>\n    </tr>\n    <tr>\n      <th>4</th>\n      <td>0.00</td>\n      <td>0.00</td>\n      <td>3.83</td>\n      <td>6.78</td>\n      <td>40285.58</td>\n      <td>0.00</td>\n      <td>2038.22</td>\n      <td>20272164.74</td>\n      <td>16514883.80</td>\n      <td>0.00</td>\n      <td>...</td>\n      <td>0.00</td>\n      <td>1.00</td>\n      <td>0.00</td>\n      <td>0.00</td>\n      <td>0.00</td>\n      <td>0.00</td>\n      <td>0.00</td>\n      <td>0.00</td>\n      <td>0.00</td>\n      <td>0.00</td>\n    </tr>\n  </tbody>\n</table>\n<p>5 rows × 36 columns</p>\n</div>"
     },
     "execution_count": 19,
     "metadata": {},
     "output_type": "execute_result"
    }
   ],
   "source": [
    "newdata.head()"
   ]
  },
  {
   "cell_type": "code",
   "execution_count": 20,
   "metadata": {
    "scrolled": true
   },
   "outputs": [
    {
     "data": {
      "text/plain": "0    25554\n1      590\nName: VV, dtype: int64"
     },
     "execution_count": 20,
     "metadata": {},
     "output_type": "execute_result"
    }
   ],
   "source": [
    "newdata.VV.value_counts() #看正负样本分布 "
   ]
  },
  {
   "cell_type": "code",
   "execution_count": 21,
   "metadata": {
    "scrolled": true
   },
   "outputs": [],
   "source": [
    "#正负样本比例严重不平衡，对正样本过抽样\n",
    "from imblearn.over_sampling import SMOTE "
   ]
  },
  {
   "cell_type": "markdown",
   "metadata": {},
   "source": [
    "## 用xgboost建立模型"
   ]
  },
  {
   "cell_type": "code",
   "execution_count": 22,
   "metadata": {
    "scrolled": false
   },
   "outputs": [],
   "source": [
    "#建模\n",
    "import sklearn\n",
    "from sklearn.model_selection import train_test_split\n",
    "#入模变量\n",
    "X = newdata[[\n",
    "    'ck-saveall',    'ck-drawall',   'ck-savetime',   'ck-drawtime',\n",
    "          'ck-saveavg',    'ck-drawavg',        'ck-avg',   'dep-saveall',\n",
    "         'dep-drawall',  'dep-savetime',  'dep-drawtime',    'depsaveavg',\n",
    "          'depdrawavg',       'dep-avg',      'dep-9201',      'fed-9201',\n",
    "             'fed-avg',   'ck-changame',  'dep-changame',  'ck-changtime',\n",
    "       'dep-changtime','ck_0','ck_1','comp_0', 'comp_1', 'area_0',\n",
    "                   'area_1','area_2','area_3','area_4','area_5','area_6','area_7','area_8','area_9'\n",
    "]]\n",
    "#目标变量\n",
    "y=newdata[['VV']]\n",
    "X_train, X_test, y_train, y_test = train_test_split(X, y, test_size=0.3, random_state=112)\n",
    "from xgboost import XGBClassifier\n",
    "from xgboost import plot_importance\n",
    "model = XGBClassifier( learning_rate =0.1,n_estimators=1000,max_depth=5,\n",
    " min_child_weight=20,\n",
    " gamma=0,\n",
    " subsample=0.6,\n",
    " colsample_bytree=0.8,\n",
    " #objective= 'binary:logistic',\n",
    " nthread=4,\n",
    " scale_pos_weight=1,\n",
    " seed=27)\n",
    "model.fit(X_train, y_train,eval_metric='auc')\n",
    "train_pred = model.predict(X_train)\n",
    "test_pred = model.predict(X_test)\n"
   ]
  },
  {
   "cell_type": "code",
   "execution_count": 23,
   "metadata": {
    "scrolled": false
   },
   "outputs": [
    {
     "data": {
      "text/plain": "<Figure size 432x288 with 2 Axes>",
      "image/png": "[encoded data removed]"
     },
     "metadata": {
      "needs_background": "light"
     },
     "output_type": "display_data"
    },
    {
     "data": {
      "text/plain": "<Figure size 432x288 with 2 Axes>",
      "image/png": "[encoded data removed]"
     },
     "metadata": {
      "needs_background": "light"
     },
     "output_type": "display_data"
    }
   ],
   "source": [
    "y_train=y_train['VV']\n",
    "y_test=y_test['VV']\n",
    "train_perf = sc.perf_eva(y_train, train_pred, title = \"train\")\n",
    "test_perf = sc.perf_eva(y_test, test_pred, title = \"test\")"
   ]
  },
  {
   "cell_type": "markdown",
   "metadata": {},
   "source": [
    "## 模型评估"
   ]
  },
  {
   "cell_type": "code",
   "execution_count": 24,
   "metadata": {},
   "outputs": [
    {
     "name": "stdout",
     "output_type": "stream",
     "text": [
      "训练集F1值:0.6921898928024502\n",
      "验证集F1值:0.21834061135371174\n"
     ]
    }
   ],
   "source": [
    "from sklearn.metrics import f1_score\n",
    "from sklearn.metrics import roc_curve, auc\n",
    "print('训练集F1值:%s'%f1_score(train_pred,y_train))\n",
    "print('验证集F1值:%s'%f1_score(test_pred,y_test))"
   ]
  },
  {
   "cell_type": "code",
   "execution_count": 25,
   "metadata": {
    "scrolled": true
   },
   "outputs": [
    {
     "name": "stdout",
     "output_type": "stream",
     "text": [
      "0.9771800101988781\n",
      "0.14619883040935672\n",
      "0.6416194707194591\n"
     ]
    },
    {
     "data": {
      "text/plain": "<Figure size 432x288 with 1 Axes>",
      "image/png": "[encoded data removed]"
     },
     "metadata": {
      "needs_background": "light"
     },
     "output_type": "display_data"
    }
   ],
   "source": [
    "from sklearn import metrics\n",
    "accuracy = metrics.accuracy_score(y_test, test_pred)\n",
    "print(accuracy)\n",
    "recall = metrics.recall_score(y_test, test_pred)\n",
    "print(recall)\n",
    "#ROC\n",
    "y2_pred_prob = model.predict_proba(X_test)[:,1]\n",
    "fpr, tpr, thresholds = metrics.roc_curve(y_test, y2_pred_prob)\n",
    "print(max(tpr-fpr))\n",
    "plt.plot(fpr, tpr)\n",
    "plt.xlim([0.0, 1.0])\n",
    "plt.ylim([0.0, 1.0])\n",
    "plt.title('ROC')\n",
    "plt.xlabel('False Positive Rate')\n",
    "plt.ylabel('True Positive Rate')\n",
    "plt.grid(True)"
   ]
  },
  {
   "cell_type": "markdown",
   "metadata": {},
   "source": [
    "# 预测测试集"
   ]
  },
  {
   "cell_type": "markdown",
   "metadata": {},
   "source": [
    "## 读取数据"
   ]
  },
  {
   "cell_type": "code",
   "execution_count": 26,
   "metadata": {
    "scrolled": false
   },
   "outputs": [
    {
     "ename": "FileNotFoundError",
     "evalue": "[Errno 2] No such file or directory: 'Test.csv'",
     "output_type": "error",
     "traceback": [
      "\u001B[0;31m---------------------------------------------------------------------------\u001B[0m",
      "\u001B[0;31mFileNotFoundError\u001B[0m                         Traceback (most recent call last)",
      "\u001B[0;32m<ipython-input-26-6e21435dd9c1>\u001B[0m in \u001B[0;36m<module>\u001B[0;34m\u001B[0m\n\u001B[0;32m----> 1\u001B[0;31m \u001B[0mtest_data\u001B[0m\u001B[0;34m=\u001B[0m\u001B[0mpd\u001B[0m\u001B[0;34m.\u001B[0m\u001B[0mread_csv\u001B[0m\u001B[0;34m(\u001B[0m\u001B[0;34m'Test.csv'\u001B[0m\u001B[0;34m)\u001B[0m\u001B[0;34m\u001B[0m\u001B[0;34m\u001B[0m\u001B[0m\n\u001B[0m\u001B[1;32m      2\u001B[0m \u001B[0;34m\u001B[0m\u001B[0m\n",
      "\u001B[0;32m/opt/anaconda3/lib/python3.8/site-packages/pandas/io/parsers.py\u001B[0m in \u001B[0;36mread_csv\u001B[0;34m(filepath_or_buffer, sep, delimiter, header, names, index_col, usecols, squeeze, prefix, mangle_dupe_cols, dtype, engine, converters, true_values, false_values, skipinitialspace, skiprows, skipfooter, nrows, na_values, keep_default_na, na_filter, verbose, skip_blank_lines, parse_dates, infer_datetime_format, keep_date_col, date_parser, dayfirst, cache_dates, iterator, chunksize, compression, thousands, decimal, lineterminator, quotechar, quoting, doublequote, escapechar, comment, encoding, dialect, error_bad_lines, warn_bad_lines, delim_whitespace, low_memory, memory_map, float_precision, storage_options)\u001B[0m\n\u001B[1;32m    608\u001B[0m     \u001B[0mkwds\u001B[0m\u001B[0;34m.\u001B[0m\u001B[0mupdate\u001B[0m\u001B[0;34m(\u001B[0m\u001B[0mkwds_defaults\u001B[0m\u001B[0;34m)\u001B[0m\u001B[0;34m\u001B[0m\u001B[0;34m\u001B[0m\u001B[0m\n\u001B[1;32m    609\u001B[0m \u001B[0;34m\u001B[0m\u001B[0m\n\u001B[0;32m--> 610\u001B[0;31m     \u001B[0;32mreturn\u001B[0m \u001B[0m_read\u001B[0m\u001B[0;34m(\u001B[0m\u001B[0mfilepath_or_buffer\u001B[0m\u001B[0;34m,\u001B[0m \u001B[0mkwds\u001B[0m\u001B[0;34m)\u001B[0m\u001B[0;34m\u001B[0m\u001B[0;34m\u001B[0m\u001B[0m\n\u001B[0m\u001B[1;32m    611\u001B[0m \u001B[0;34m\u001B[0m\u001B[0m\n\u001B[1;32m    612\u001B[0m \u001B[0;34m\u001B[0m\u001B[0m\n",
      "\u001B[0;32m/opt/anaconda3/lib/python3.8/site-packages/pandas/io/parsers.py\u001B[0m in \u001B[0;36m_read\u001B[0;34m(filepath_or_buffer, kwds)\u001B[0m\n\u001B[1;32m    460\u001B[0m \u001B[0;34m\u001B[0m\u001B[0m\n\u001B[1;32m    461\u001B[0m     \u001B[0;31m# Create the parser.\u001B[0m\u001B[0;34m\u001B[0m\u001B[0;34m\u001B[0m\u001B[0;34m\u001B[0m\u001B[0m\n\u001B[0;32m--> 462\u001B[0;31m     \u001B[0mparser\u001B[0m \u001B[0;34m=\u001B[0m \u001B[0mTextFileReader\u001B[0m\u001B[0;34m(\u001B[0m\u001B[0mfilepath_or_buffer\u001B[0m\u001B[0;34m,\u001B[0m \u001B[0;34m**\u001B[0m\u001B[0mkwds\u001B[0m\u001B[0;34m)\u001B[0m\u001B[0;34m\u001B[0m\u001B[0;34m\u001B[0m\u001B[0m\n\u001B[0m\u001B[1;32m    463\u001B[0m \u001B[0;34m\u001B[0m\u001B[0m\n\u001B[1;32m    464\u001B[0m     \u001B[0;32mif\u001B[0m \u001B[0mchunksize\u001B[0m \u001B[0;32mor\u001B[0m \u001B[0miterator\u001B[0m\u001B[0;34m:\u001B[0m\u001B[0;34m\u001B[0m\u001B[0;34m\u001B[0m\u001B[0m\n",
      "\u001B[0;32m/opt/anaconda3/lib/python3.8/site-packages/pandas/io/parsers.py\u001B[0m in \u001B[0;36m__init__\u001B[0;34m(self, f, engine, **kwds)\u001B[0m\n\u001B[1;32m    817\u001B[0m             \u001B[0mself\u001B[0m\u001B[0;34m.\u001B[0m\u001B[0moptions\u001B[0m\u001B[0;34m[\u001B[0m\u001B[0;34m\"has_index_names\"\u001B[0m\u001B[0;34m]\u001B[0m \u001B[0;34m=\u001B[0m \u001B[0mkwds\u001B[0m\u001B[0;34m[\u001B[0m\u001B[0;34m\"has_index_names\"\u001B[0m\u001B[0;34m]\u001B[0m\u001B[0;34m\u001B[0m\u001B[0;34m\u001B[0m\u001B[0m\n\u001B[1;32m    818\u001B[0m \u001B[0;34m\u001B[0m\u001B[0m\n\u001B[0;32m--> 819\u001B[0;31m         \u001B[0mself\u001B[0m\u001B[0;34m.\u001B[0m\u001B[0m_engine\u001B[0m \u001B[0;34m=\u001B[0m \u001B[0mself\u001B[0m\u001B[0;34m.\u001B[0m\u001B[0m_make_engine\u001B[0m\u001B[0;34m(\u001B[0m\u001B[0mself\u001B[0m\u001B[0;34m.\u001B[0m\u001B[0mengine\u001B[0m\u001B[0;34m)\u001B[0m\u001B[0;34m\u001B[0m\u001B[0;34m\u001B[0m\u001B[0m\n\u001B[0m\u001B[1;32m    820\u001B[0m \u001B[0;34m\u001B[0m\u001B[0m\n\u001B[1;32m    821\u001B[0m     \u001B[0;32mdef\u001B[0m \u001B[0mclose\u001B[0m\u001B[0;34m(\u001B[0m\u001B[0mself\u001B[0m\u001B[0;34m)\u001B[0m\u001B[0;34m:\u001B[0m\u001B[0;34m\u001B[0m\u001B[0;34m\u001B[0m\u001B[0m\n",
      "\u001B[0;32m/opt/anaconda3/lib/python3.8/site-packages/pandas/io/parsers.py\u001B[0m in \u001B[0;36m_make_engine\u001B[0;34m(self, engine)\u001B[0m\n\u001B[1;32m   1048\u001B[0m             )\n\u001B[1;32m   1049\u001B[0m         \u001B[0;31m# error: Too many arguments for \"ParserBase\"\u001B[0m\u001B[0;34m\u001B[0m\u001B[0;34m\u001B[0m\u001B[0;34m\u001B[0m\u001B[0m\n\u001B[0;32m-> 1050\u001B[0;31m         \u001B[0;32mreturn\u001B[0m \u001B[0mmapping\u001B[0m\u001B[0;34m[\u001B[0m\u001B[0mengine\u001B[0m\u001B[0;34m]\u001B[0m\u001B[0;34m(\u001B[0m\u001B[0mself\u001B[0m\u001B[0;34m.\u001B[0m\u001B[0mf\u001B[0m\u001B[0;34m,\u001B[0m \u001B[0;34m**\u001B[0m\u001B[0mself\u001B[0m\u001B[0;34m.\u001B[0m\u001B[0moptions\u001B[0m\u001B[0;34m)\u001B[0m  \u001B[0;31m# type: ignore[call-arg]\u001B[0m\u001B[0;34m\u001B[0m\u001B[0;34m\u001B[0m\u001B[0m\n\u001B[0m\u001B[1;32m   1051\u001B[0m \u001B[0;34m\u001B[0m\u001B[0m\n\u001B[1;32m   1052\u001B[0m     \u001B[0;32mdef\u001B[0m \u001B[0m_failover_to_python\u001B[0m\u001B[0;34m(\u001B[0m\u001B[0mself\u001B[0m\u001B[0;34m)\u001B[0m\u001B[0;34m:\u001B[0m\u001B[0;34m\u001B[0m\u001B[0;34m\u001B[0m\u001B[0m\n",
      "\u001B[0;32m/opt/anaconda3/lib/python3.8/site-packages/pandas/io/parsers.py\u001B[0m in \u001B[0;36m__init__\u001B[0;34m(self, src, **kwds)\u001B[0m\n\u001B[1;32m   1865\u001B[0m \u001B[0;34m\u001B[0m\u001B[0m\n\u001B[1;32m   1866\u001B[0m         \u001B[0;31m# open handles\u001B[0m\u001B[0;34m\u001B[0m\u001B[0;34m\u001B[0m\u001B[0;34m\u001B[0m\u001B[0m\n\u001B[0;32m-> 1867\u001B[0;31m         \u001B[0mself\u001B[0m\u001B[0;34m.\u001B[0m\u001B[0m_open_handles\u001B[0m\u001B[0;34m(\u001B[0m\u001B[0msrc\u001B[0m\u001B[0;34m,\u001B[0m \u001B[0mkwds\u001B[0m\u001B[0;34m)\u001B[0m\u001B[0;34m\u001B[0m\u001B[0;34m\u001B[0m\u001B[0m\n\u001B[0m\u001B[1;32m   1868\u001B[0m         \u001B[0;32massert\u001B[0m \u001B[0mself\u001B[0m\u001B[0;34m.\u001B[0m\u001B[0mhandles\u001B[0m \u001B[0;32mis\u001B[0m \u001B[0;32mnot\u001B[0m \u001B[0;32mNone\u001B[0m\u001B[0;34m\u001B[0m\u001B[0;34m\u001B[0m\u001B[0m\n\u001B[1;32m   1869\u001B[0m         \u001B[0;32mfor\u001B[0m \u001B[0mkey\u001B[0m \u001B[0;32min\u001B[0m \u001B[0;34m(\u001B[0m\u001B[0;34m\"storage_options\"\u001B[0m\u001B[0;34m,\u001B[0m \u001B[0;34m\"encoding\"\u001B[0m\u001B[0;34m,\u001B[0m \u001B[0;34m\"memory_map\"\u001B[0m\u001B[0;34m,\u001B[0m \u001B[0;34m\"compression\"\u001B[0m\u001B[0;34m)\u001B[0m\u001B[0;34m:\u001B[0m\u001B[0;34m\u001B[0m\u001B[0;34m\u001B[0m\u001B[0m\n",
      "\u001B[0;32m/opt/anaconda3/lib/python3.8/site-packages/pandas/io/parsers.py\u001B[0m in \u001B[0;36m_open_handles\u001B[0;34m(self, src, kwds)\u001B[0m\n\u001B[1;32m   1360\u001B[0m         \u001B[0mLet\u001B[0m \u001B[0mthe\u001B[0m \u001B[0mreaders\u001B[0m \u001B[0mopen\u001B[0m \u001B[0mIOHanldes\u001B[0m \u001B[0mafter\u001B[0m \u001B[0mthey\u001B[0m \u001B[0mare\u001B[0m \u001B[0mdone\u001B[0m \u001B[0;32mwith\u001B[0m \u001B[0mtheir\u001B[0m \u001B[0mpotential\u001B[0m \u001B[0mraises\u001B[0m\u001B[0;34m.\u001B[0m\u001B[0;34m\u001B[0m\u001B[0;34m\u001B[0m\u001B[0m\n\u001B[1;32m   1361\u001B[0m         \"\"\"\n\u001B[0;32m-> 1362\u001B[0;31m         self.handles = get_handle(\n\u001B[0m\u001B[1;32m   1363\u001B[0m             \u001B[0msrc\u001B[0m\u001B[0;34m,\u001B[0m\u001B[0;34m\u001B[0m\u001B[0;34m\u001B[0m\u001B[0m\n\u001B[1;32m   1364\u001B[0m             \u001B[0;34m\"r\"\u001B[0m\u001B[0;34m,\u001B[0m\u001B[0;34m\u001B[0m\u001B[0;34m\u001B[0m\u001B[0m\n",
      "\u001B[0;32m/opt/anaconda3/lib/python3.8/site-packages/pandas/io/common.py\u001B[0m in \u001B[0;36mget_handle\u001B[0;34m(path_or_buf, mode, encoding, compression, memory_map, is_text, errors, storage_options)\u001B[0m\n\u001B[1;32m    640\u001B[0m                 \u001B[0merrors\u001B[0m \u001B[0;34m=\u001B[0m \u001B[0;34m\"replace\"\u001B[0m\u001B[0;34m\u001B[0m\u001B[0;34m\u001B[0m\u001B[0m\n\u001B[1;32m    641\u001B[0m             \u001B[0;31m# Encoding\u001B[0m\u001B[0;34m\u001B[0m\u001B[0;34m\u001B[0m\u001B[0;34m\u001B[0m\u001B[0m\n\u001B[0;32m--> 642\u001B[0;31m             handle = open(\n\u001B[0m\u001B[1;32m    643\u001B[0m                 \u001B[0mhandle\u001B[0m\u001B[0;34m,\u001B[0m\u001B[0;34m\u001B[0m\u001B[0;34m\u001B[0m\u001B[0m\n\u001B[1;32m    644\u001B[0m                 \u001B[0mioargs\u001B[0m\u001B[0;34m.\u001B[0m\u001B[0mmode\u001B[0m\u001B[0;34m,\u001B[0m\u001B[0;34m\u001B[0m\u001B[0;34m\u001B[0m\u001B[0m\n",
      "\u001B[0;31mFileNotFoundError\u001B[0m: [Errno 2] No such file or directory: 'Test.csv'"
     ]
    }
   ],
   "source": [
    "test_data=pd.read_csv('Test.csv')"
   ]
  },
  {
   "cell_type": "markdown",
   "metadata": {},
   "source": [
    "## 测试集数据处理"
   ]
  },
  {
   "cell_type": "markdown",
   "metadata": {},
   "source": [
    "### 异常字符处理\n"
   ]
  },
  {
   "cell_type": "code",
   "execution_count": null,
   "metadata": {},
   "outputs": [],
   "source": [
    "#去除所有半角全角符号，只留字母、数字、中文\n",
    "for col in test_data.columns:\n",
    "    test_data[col].replace(regex=True, inplace=True, to_replace=r'[^a-zA-Z0-9\\u4e00-\\u9fa5]', value=np.nan)"
   ]
  },
  {
   "cell_type": "markdown",
   "metadata": {},
   "source": [
    "## 缺失处理"
   ]
  },
  {
   "cell_type": "markdown",
   "metadata": {},
   "source": [
    "### 连续变量转数值型"
   ]
  },
  {
   "cell_type": "code",
   "execution_count": null,
   "metadata": {
    "scrolled": false
   },
   "outputs": [],
   "source": [
    "test_data.head()"
   ]
  },
  {
   "cell_type": "code",
   "execution_count": null,
   "metadata": {},
   "outputs": [],
   "source": [
    "# 数值变量均值填补，用训练集数据填补测试集\n",
    "for col in continuous_columns:\n",
    "    test_data[col].fillna(value=data[col].mean() , inplace=True)"
   ]
  },
  {
   "cell_type": "code",
   "execution_count": null,
   "metadata": {},
   "outputs": [],
   "source": [
    "# 连续变量由字符型转换为数值型\n",
    "continuous_columns=['ck-saveall', 'ck-drawall', 'ck-savetime',\n",
    "       'ck-drawtime', 'ck-saveavg', 'ck-drawavg', 'ck-avg', 'dep-saveall',\n",
    "       'dep-drawall', 'dep-savetime', 'dep-drawtime', 'depsaveavg',\n",
    "       'depdrawavg', 'dep-avg', 'dep-9201', 'fed-9201', 'fed-avg', \n",
    "       'ck-changame', 'dep-changame', 'ck-changtime', 'dep-changtime']\n",
    "for col in continuous_columns:\n",
    "    test_data[col]=test_data[col].astype(float)"
   ]
  },
  {
   "cell_type": "markdown",
   "metadata": {},
   "source": [
    "### 类别变量处理"
   ]
  },
  {
   "cell_type": "code",
   "execution_count": null,
   "metadata": {},
   "outputs": [],
   "source": [
    "# 类别变量众数填补，用训练集填补测试集\n",
    "category_columns=['area','ck','comp']\n",
    "for col in category_columns:\n",
    "    val = data[col].value_counts().sort_values()\n",
    "    val = pd.DataFrame(val)\n",
    "    val['index'] = val.index\n",
    "    test_data[col].fillna(value = val['index'][-1], inplace=True)"
   ]
  },
  {
   "cell_type": "code",
   "execution_count": null,
   "metadata": {},
   "outputs": [],
   "source": [
    "# 类别变量转换为字符型\n",
    "category_columns=['area','ck','comp']\n",
    "for col in category_columns:\n",
    "    test_data[col]=test_data[col].astype(str)"
   ]
  },
  {
   "cell_type": "markdown",
   "metadata": {},
   "source": [
    "## 变量处理"
   ]
  },
  {
   "cell_type": "markdown",
   "metadata": {},
   "source": [
    "### area区域字段处理"
   ]
  },
  {
   "cell_type": "code",
   "execution_count": null,
   "metadata": {},
   "outputs": [],
   "source": [
    "# area处理，转换成大类别\n",
    "test_data['area_act']=test_data['area'].str[0]"
   ]
  },
  {
   "cell_type": "markdown",
   "metadata": {},
   "source": [
    "### 类别变量one-hot转换"
   ]
  },
  {
   "cell_type": "code",
   "execution_count": null,
   "metadata": {},
   "outputs": [],
   "source": [
    "# one-hot转换\n",
    "X = test_data[['ck','comp','area_act']] #选取要one-hot的列\n",
    "\n",
    "enc = OneHotEncoder(categories='auto').fit(X)\n",
    "result = enc.transform(X).toarray()\n",
    "\n",
    "print(enc.get_feature_names())#返回每一个经过哑变量后生成稀疏矩阵列的名字\n",
    "\n",
    "#axis=1,表示跨行进行合并，也就是将两表左右相连，如果是axis=0，就是将量表上下相连\n",
    "newdata = pd.concat([test_data,pd.DataFrame(result)],axis=1)\n",
    " \n",
    "newdata.drop(['ID','area','ck','comp','area_act'],axis=1,inplace=True)\n",
    "\n",
    "print(newdata.columns) #提取列名"
   ]
  },
  {
   "cell_type": "code",
   "execution_count": null,
   "metadata": {
    "pycharm": {
     "name": "#%%\n"
    }
   },
   "outputs": [],
   "source": []
  }
 ],
 "metadata": {
  "kernelspec": {
   "display_name": "Python 3",
   "language": "python",
   "name": "python3"
  },
  "language_info": {
   "codemirror_mode": {
    "name": "ipython",
    "version": 3
   },
   "file_extension": ".py",
   "mimetype": "text/x-python",
   "name": "python",
   "nbconvert_exporter": "python",
   "pygments_lexer": "ipython3",
   "version": "3.7.6"
  },
  "toc": {
   "base_numbering": 1,
   "nav_menu": {},
   "number_sections": true,
   "sideBar": true,
   "skip_h1_title": false,
   "title_cell": "Table of Contents",
   "title_sidebar": "Contents",
   "toc_cell": false,
   "toc_position": {},
   "toc_section_display": true,
   "toc_window_display": true
  }
 },
 "nbformat": 4,
 "nbformat_minor": 4
}
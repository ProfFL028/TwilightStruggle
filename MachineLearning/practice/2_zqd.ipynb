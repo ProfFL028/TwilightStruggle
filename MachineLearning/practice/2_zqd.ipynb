{
 "cells": [
  {
   "cell_type": "code",
   "execution_count": 1,
   "metadata": {},
   "outputs": [
    {
     "ename": "NameError",
     "evalue": "name 'pkg_resources' is not defined",
     "output_type": "error",
     "traceback": [
      "\u001B[1;31m---------------------------------------------------------------------------\u001B[0m",
      "\u001B[1;31mKeyboardInterrupt\u001B[0m                         Traceback (most recent call last)",
      "\u001B[1;32mD:\\anaconda\\lib\\site-packages\\xgboost\\compat.py\u001B[0m in \u001B[0;36m<module>\u001B[1;34m\u001B[0m\n\u001B[0;32m    105\u001B[0m \u001B[1;32mtry\u001B[0m\u001B[1;33m:\u001B[0m\u001B[1;33m\u001B[0m\u001B[1;33m\u001B[0m\u001B[0m\n\u001B[1;32m--> 106\u001B[1;33m     \u001B[1;32mimport\u001B[0m \u001B[0mpkg_resources\u001B[0m\u001B[1;33m\u001B[0m\u001B[1;33m\u001B[0m\u001B[0m\n\u001B[0m\u001B[0;32m    107\u001B[0m     \u001B[0mpkg_resources\u001B[0m\u001B[1;33m.\u001B[0m\u001B[0mget_distribution\u001B[0m\u001B[1;33m(\u001B[0m\u001B[1;34m'dask'\u001B[0m\u001B[1;33m)\u001B[0m\u001B[1;33m\u001B[0m\u001B[1;33m\u001B[0m\u001B[0m\n",
      "\u001B[1;32mD:\\anaconda\\lib\\site-packages\\pkg_resources\\__init__.py\u001B[0m in \u001B[0;36m<module>\u001B[1;34m\u001B[0m\n\u001B[0;32m   3242\u001B[0m \u001B[1;33m@\u001B[0m\u001B[0m_call_aside\u001B[0m\u001B[1;33m\u001B[0m\u001B[1;33m\u001B[0m\u001B[0m\n\u001B[1;32m-> 3243\u001B[1;33m \u001B[1;32mdef\u001B[0m \u001B[0m_initialize_master_working_set\u001B[0m\u001B[1;33m(\u001B[0m\u001B[1;33m)\u001B[0m\u001B[1;33m:\u001B[0m\u001B[1;33m\u001B[0m\u001B[1;33m\u001B[0m\u001B[0m\n\u001B[0m\u001B[0;32m   3244\u001B[0m     \"\"\"\n",
      "\u001B[1;32mD:\\anaconda\\lib\\site-packages\\pkg_resources\\__init__.py\u001B[0m in \u001B[0;36m_call_aside\u001B[1;34m(f, *args, **kwargs)\u001B[0m\n\u001B[0;32m   3225\u001B[0m \u001B[1;32mdef\u001B[0m \u001B[0m_call_aside\u001B[0m\u001B[1;33m(\u001B[0m\u001B[0mf\u001B[0m\u001B[1;33m,\u001B[0m \u001B[1;33m*\u001B[0m\u001B[0margs\u001B[0m\u001B[1;33m,\u001B[0m \u001B[1;33m**\u001B[0m\u001B[0mkwargs\u001B[0m\u001B[1;33m)\u001B[0m\u001B[1;33m:\u001B[0m\u001B[1;33m\u001B[0m\u001B[1;33m\u001B[0m\u001B[0m\n\u001B[1;32m-> 3226\u001B[1;33m     \u001B[0mf\u001B[0m\u001B[1;33m(\u001B[0m\u001B[1;33m*\u001B[0m\u001B[0margs\u001B[0m\u001B[1;33m,\u001B[0m \u001B[1;33m**\u001B[0m\u001B[0mkwargs\u001B[0m\u001B[1;33m)\u001B[0m\u001B[1;33m\u001B[0m\u001B[1;33m\u001B[0m\u001B[0m\n\u001B[0m\u001B[0;32m   3227\u001B[0m     \u001B[1;32mreturn\u001B[0m \u001B[0mf\u001B[0m\u001B[1;33m\u001B[0m\u001B[1;33m\u001B[0m\u001B[0m\n",
      "\u001B[1;32mD:\\anaconda\\lib\\site-packages\\pkg_resources\\__init__.py\u001B[0m in \u001B[0;36m_initialize_master_working_set\u001B[1;34m()\u001B[0m\n\u001B[0;32m   3254\u001B[0m     \"\"\"\n\u001B[1;32m-> 3255\u001B[1;33m     \u001B[0mworking_set\u001B[0m \u001B[1;33m=\u001B[0m \u001B[0mWorkingSet\u001B[0m\u001B[1;33m.\u001B[0m\u001B[0m_build_master\u001B[0m\u001B[1;33m(\u001B[0m\u001B[1;33m)\u001B[0m\u001B[1;33m\u001B[0m\u001B[1;33m\u001B[0m\u001B[0m\n\u001B[0m\u001B[0;32m   3256\u001B[0m     \u001B[0m_declare_state\u001B[0m\u001B[1;33m(\u001B[0m\u001B[1;34m'object'\u001B[0m\u001B[1;33m,\u001B[0m \u001B[0mworking_set\u001B[0m\u001B[1;33m=\u001B[0m\u001B[0mworking_set\u001B[0m\u001B[1;33m)\u001B[0m\u001B[1;33m\u001B[0m\u001B[1;33m\u001B[0m\u001B[0m\n",
      "\u001B[1;32mD:\\anaconda\\lib\\site-packages\\pkg_resources\\__init__.py\u001B[0m in \u001B[0;36m_build_master\u001B[1;34m(cls)\u001B[0m\n\u001B[0;32m    558\u001B[0m         \"\"\"\n\u001B[1;32m--> 559\u001B[1;33m         \u001B[0mws\u001B[0m \u001B[1;33m=\u001B[0m \u001B[0mcls\u001B[0m\u001B[1;33m(\u001B[0m\u001B[1;33m)\u001B[0m\u001B[1;33m\u001B[0m\u001B[1;33m\u001B[0m\u001B[0m\n\u001B[0m\u001B[0;32m    560\u001B[0m         \u001B[1;32mtry\u001B[0m\u001B[1;33m:\u001B[0m\u001B[1;33m\u001B[0m\u001B[1;33m\u001B[0m\u001B[0m\n",
      "\u001B[1;32mD:\\anaconda\\lib\\site-packages\\pkg_resources\\__init__.py\u001B[0m in \u001B[0;36m__init__\u001B[1;34m(self, entries)\u001B[0m\n\u001B[0;32m    551\u001B[0m         \u001B[1;32mfor\u001B[0m \u001B[0mentry\u001B[0m \u001B[1;32min\u001B[0m \u001B[0mentries\u001B[0m\u001B[1;33m:\u001B[0m\u001B[1;33m\u001B[0m\u001B[1;33m\u001B[0m\u001B[0m\n\u001B[1;32m--> 552\u001B[1;33m             \u001B[0mself\u001B[0m\u001B[1;33m.\u001B[0m\u001B[0madd_entry\u001B[0m\u001B[1;33m(\u001B[0m\u001B[0mentry\u001B[0m\u001B[1;33m)\u001B[0m\u001B[1;33m\u001B[0m\u001B[1;33m\u001B[0m\u001B[0m\n\u001B[0m\u001B[0;32m    553\u001B[0m \u001B[1;33m\u001B[0m\u001B[0m\n",
      "\u001B[1;32mD:\\anaconda\\lib\\site-packages\\pkg_resources\\__init__.py\u001B[0m in \u001B[0;36madd_entry\u001B[1;34m(self, entry)\u001B[0m\n\u001B[0;32m    607\u001B[0m         \u001B[0mself\u001B[0m\u001B[1;33m.\u001B[0m\u001B[0mentries\u001B[0m\u001B[1;33m.\u001B[0m\u001B[0mappend\u001B[0m\u001B[1;33m(\u001B[0m\u001B[0mentry\u001B[0m\u001B[1;33m)\u001B[0m\u001B[1;33m\u001B[0m\u001B[1;33m\u001B[0m\u001B[0m\n\u001B[1;32m--> 608\u001B[1;33m         \u001B[1;32mfor\u001B[0m \u001B[0mdist\u001B[0m \u001B[1;32min\u001B[0m \u001B[0mfind_distributions\u001B[0m\u001B[1;33m(\u001B[0m\u001B[0mentry\u001B[0m\u001B[1;33m,\u001B[0m \u001B[1;32mTrue\u001B[0m\u001B[1;33m)\u001B[0m\u001B[1;33m:\u001B[0m\u001B[1;33m\u001B[0m\u001B[1;33m\u001B[0m\u001B[0m\n\u001B[0m\u001B[0;32m    609\u001B[0m             \u001B[0mself\u001B[0m\u001B[1;33m.\u001B[0m\u001B[0madd\u001B[0m\u001B[1;33m(\u001B[0m\u001B[0mdist\u001B[0m\u001B[1;33m,\u001B[0m \u001B[0mentry\u001B[0m\u001B[1;33m,\u001B[0m \u001B[1;32mFalse\u001B[0m\u001B[1;33m)\u001B[0m\u001B[1;33m\u001B[0m\u001B[1;33m\u001B[0m\u001B[0m\n",
      "\u001B[1;32mD:\\anaconda\\lib\\site-packages\\pkg_resources\\__init__.py\u001B[0m in \u001B[0;36mfind_on_path\u001B[1;34m(importer, path_item, only)\u001B[0m\n\u001B[0;32m   2058\u001B[0m     \u001B[1;31m# scan for .egg and .egg-info in directory\u001B[0m\u001B[1;33m\u001B[0m\u001B[1;33m\u001B[0m\u001B[1;33m\u001B[0m\u001B[0m\n\u001B[1;32m-> 2059\u001B[1;33m     \u001B[0mpath_item_entries\u001B[0m \u001B[1;33m=\u001B[0m \u001B[0m_by_version_descending\u001B[0m\u001B[1;33m(\u001B[0m\u001B[0mfiltered\u001B[0m\u001B[1;33m)\u001B[0m\u001B[1;33m\u001B[0m\u001B[1;33m\u001B[0m\u001B[0m\n\u001B[0m\u001B[0;32m   2060\u001B[0m     \u001B[1;32mfor\u001B[0m \u001B[0mentry\u001B[0m \u001B[1;32min\u001B[0m \u001B[0mpath_item_entries\u001B[0m\u001B[1;33m:\u001B[0m\u001B[1;33m\u001B[0m\u001B[1;33m\u001B[0m\u001B[0m\n",
      "\u001B[1;32mD:\\anaconda\\lib\\site-packages\\pkg_resources\\__init__.py\u001B[0m in \u001B[0;36m_by_version_descending\u001B[1;34m(names)\u001B[0m\n\u001B[0;32m   2028\u001B[0m \u001B[1;33m\u001B[0m\u001B[0m\n\u001B[1;32m-> 2029\u001B[1;33m     \u001B[1;32mreturn\u001B[0m \u001B[0msorted\u001B[0m\u001B[1;33m(\u001B[0m\u001B[0mnames\u001B[0m\u001B[1;33m,\u001B[0m \u001B[0mkey\u001B[0m\u001B[1;33m=\u001B[0m\u001B[0m_by_version\u001B[0m\u001B[1;33m,\u001B[0m \u001B[0mreverse\u001B[0m\u001B[1;33m=\u001B[0m\u001B[1;32mTrue\u001B[0m\u001B[1;33m)\u001B[0m\u001B[1;33m\u001B[0m\u001B[1;33m\u001B[0m\u001B[0m\n\u001B[0m\u001B[0;32m   2030\u001B[0m \u001B[1;33m\u001B[0m\u001B[0m\n",
      "\u001B[1;32mD:\\anaconda\\lib\\site-packages\\pkg_resources\\__init__.py\u001B[0m in \u001B[0;36m<genexpr>\u001B[1;34m(.0)\u001B[0m\n\u001B[0;32m   2054\u001B[0m         \u001B[1;32mfor\u001B[0m \u001B[0mentry\u001B[0m \u001B[1;32min\u001B[0m \u001B[0mentries\u001B[0m\u001B[1;33m\u001B[0m\u001B[1;33m\u001B[0m\u001B[0m\n\u001B[1;32m-> 2055\u001B[1;33m         \u001B[1;32mif\u001B[0m \u001B[0mdist_factory\u001B[0m\u001B[1;33m(\u001B[0m\u001B[0mpath_item\u001B[0m\u001B[1;33m,\u001B[0m \u001B[0mentry\u001B[0m\u001B[1;33m,\u001B[0m \u001B[0monly\u001B[0m\u001B[1;33m)\u001B[0m\u001B[1;33m\u001B[0m\u001B[1;33m\u001B[0m\u001B[0m\n\u001B[0m\u001B[0;32m   2056\u001B[0m     )\n",
      "\u001B[1;32mD:\\anaconda\\lib\\site-packages\\pkg_resources\\__init__.py\u001B[0m in \u001B[0;36mdist_factory\u001B[1;34m(path_item, entry, only)\u001B[0m\n\u001B[0;32m   2072\u001B[0m         \u001B[0mlower\u001B[0m\u001B[1;33m.\u001B[0m\u001B[0mendswith\u001B[0m\u001B[1;33m(\u001B[0m\u001B[1;34m'.dist-info'\u001B[0m\u001B[1;33m)\u001B[0m \u001B[1;32mand\u001B[0m\u001B[1;33m\u001B[0m\u001B[1;33m\u001B[0m\u001B[0m\n\u001B[1;32m-> 2073\u001B[1;33m         \u001B[0mos\u001B[0m\u001B[1;33m.\u001B[0m\u001B[0mpath\u001B[0m\u001B[1;33m.\u001B[0m\u001B[0misdir\u001B[0m\u001B[1;33m(\u001B[0m\u001B[0mos\u001B[0m\u001B[1;33m.\u001B[0m\u001B[0mpath\u001B[0m\u001B[1;33m.\u001B[0m\u001B[0mjoin\u001B[0m\u001B[1;33m(\u001B[0m\u001B[0mpath_item\u001B[0m\u001B[1;33m,\u001B[0m \u001B[0mentry\u001B[0m\u001B[1;33m)\u001B[0m\u001B[1;33m)\u001B[0m\u001B[1;33m\u001B[0m\u001B[1;33m\u001B[0m\u001B[0m\n\u001B[0m\u001B[0;32m   2074\u001B[0m     )\n",
      "\u001B[1;32mD:\\anaconda\\lib\\genericpath.py\u001B[0m in \u001B[0;36misdir\u001B[1;34m(s)\u001B[0m\n\u001B[0;32m     41\u001B[0m     \u001B[1;32mtry\u001B[0m\u001B[1;33m:\u001B[0m\u001B[1;33m\u001B[0m\u001B[1;33m\u001B[0m\u001B[0m\n\u001B[1;32m---> 42\u001B[1;33m         \u001B[0mst\u001B[0m \u001B[1;33m=\u001B[0m \u001B[0mos\u001B[0m\u001B[1;33m.\u001B[0m\u001B[0mstat\u001B[0m\u001B[1;33m(\u001B[0m\u001B[0ms\u001B[0m\u001B[1;33m)\u001B[0m\u001B[1;33m\u001B[0m\u001B[1;33m\u001B[0m\u001B[0m\n\u001B[0m\u001B[0;32m     43\u001B[0m     \u001B[1;32mexcept\u001B[0m \u001B[1;33m(\u001B[0m\u001B[0mOSError\u001B[0m\u001B[1;33m,\u001B[0m \u001B[0mValueError\u001B[0m\u001B[1;33m)\u001B[0m\u001B[1;33m:\u001B[0m\u001B[1;33m\u001B[0m\u001B[1;33m\u001B[0m\u001B[0m\n",
      "\u001B[1;31mKeyboardInterrupt\u001B[0m: ",
      "\nDuring handling of the above exception, another exception occurred:\n",
      "\u001B[1;31mNameError\u001B[0m                                 Traceback (most recent call last)",
      "\u001B[1;32m<ipython-input-1-9a05d146f6a6>\u001B[0m in \u001B[0;36m<module>\u001B[1;34m\u001B[0m\n\u001B[0;32m      1\u001B[0m \u001B[1;32mimport\u001B[0m \u001B[0mpandas\u001B[0m \u001B[1;32mas\u001B[0m \u001B[0mpd\u001B[0m\u001B[1;33m\u001B[0m\u001B[1;33m\u001B[0m\u001B[0m\n\u001B[0;32m      2\u001B[0m \u001B[1;32mimport\u001B[0m \u001B[0mnumpy\u001B[0m \u001B[1;32mas\u001B[0m \u001B[0mnp\u001B[0m\u001B[1;33m\u001B[0m\u001B[1;33m\u001B[0m\u001B[0m\n\u001B[1;32m----> 3\u001B[1;33m \u001B[1;32mfrom\u001B[0m \u001B[0mdata_preprocessing_pipeline\u001B[0m \u001B[1;32mimport\u001B[0m \u001B[1;33m*\u001B[0m\u001B[1;33m\u001B[0m\u001B[1;33m\u001B[0m\u001B[0m\n\u001B[0m\u001B[0;32m      4\u001B[0m \u001B[1;32mfrom\u001B[0m \u001B[0msklearn\u001B[0m\u001B[1;33m.\u001B[0m\u001B[0mpipeline\u001B[0m \u001B[1;32mimport\u001B[0m \u001B[0mPipeline\u001B[0m\u001B[1;33m,\u001B[0m \u001B[0mmake_pipeline\u001B[0m\u001B[1;33m,\u001B[0m \u001B[0mFeatureUnion\u001B[0m\u001B[1;33m\u001B[0m\u001B[1;33m\u001B[0m\u001B[0m\n\u001B[0;32m      5\u001B[0m \u001B[0mpd\u001B[0m\u001B[1;33m.\u001B[0m\u001B[0moptions\u001B[0m\u001B[1;33m.\u001B[0m\u001B[0mdisplay\u001B[0m\u001B[1;33m.\u001B[0m\u001B[0mmax_columns\u001B[0m \u001B[1;33m=\u001B[0m \u001B[1;32mNone\u001B[0m  \u001B[1;31m# 显示所有列\u001B[0m\u001B[1;33m\u001B[0m\u001B[1;33m\u001B[0m\u001B[0m\n",
      "\u001B[1;32mE:\\TwilightStruggle\\MachineLearning\\practice\\data_preprocessing_pipeline.py\u001B[0m in \u001B[0;36m<module>\u001B[1;34m\u001B[0m\n\u001B[1;32m----> 1\u001B[1;33m \u001B[1;32mimport\u001B[0m \u001B[0mxgboost\u001B[0m \u001B[1;32mas\u001B[0m \u001B[0mxgb\u001B[0m\u001B[1;33m\u001B[0m\u001B[1;33m\u001B[0m\u001B[0m\n\u001B[0m\u001B[0;32m      2\u001B[0m \u001B[1;32mimport\u001B[0m \u001B[0mpandas\u001B[0m \u001B[1;32mas\u001B[0m \u001B[0mpd\u001B[0m\u001B[1;33m\u001B[0m\u001B[1;33m\u001B[0m\u001B[0m\n\u001B[0;32m      3\u001B[0m \u001B[1;32mimport\u001B[0m \u001B[0mnumpy\u001B[0m \u001B[1;32mas\u001B[0m \u001B[0mnp\u001B[0m\u001B[1;33m\u001B[0m\u001B[1;33m\u001B[0m\u001B[0m\n\u001B[0;32m      4\u001B[0m \u001B[1;32mimport\u001B[0m \u001B[0mlogging\u001B[0m\u001B[1;33m\u001B[0m\u001B[1;33m\u001B[0m\u001B[0m\n\u001B[0;32m      5\u001B[0m \u001B[1;32mfrom\u001B[0m \u001B[0msklearn\u001B[0m\u001B[1;33m.\u001B[0m\u001B[0mpipeline\u001B[0m \u001B[1;32mimport\u001B[0m \u001B[0mPipeline\u001B[0m\u001B[1;33m,\u001B[0m \u001B[0mmake_pipeline\u001B[0m\u001B[1;33m,\u001B[0m \u001B[0mFeatureUnion\u001B[0m\u001B[1;33m\u001B[0m\u001B[1;33m\u001B[0m\u001B[0m\n",
      "\u001B[1;32mD:\\anaconda\\lib\\site-packages\\xgboost\\__init__.py\u001B[0m in \u001B[0;36m<module>\u001B[1;34m\u001B[0m\n\u001B[0;32m      7\u001B[0m \u001B[1;32mimport\u001B[0m \u001B[0mos\u001B[0m\u001B[1;33m\u001B[0m\u001B[1;33m\u001B[0m\u001B[0m\n\u001B[0;32m      8\u001B[0m \u001B[1;33m\u001B[0m\u001B[0m\n\u001B[1;32m----> 9\u001B[1;33m \u001B[1;32mfrom\u001B[0m \u001B[1;33m.\u001B[0m\u001B[0mcore\u001B[0m \u001B[1;32mimport\u001B[0m \u001B[0mDMatrix\u001B[0m\u001B[1;33m,\u001B[0m \u001B[0mDeviceQuantileDMatrix\u001B[0m\u001B[1;33m,\u001B[0m \u001B[0mBooster\u001B[0m\u001B[1;33m,\u001B[0m \u001B[0mDataIter\u001B[0m\u001B[1;33m\u001B[0m\u001B[1;33m\u001B[0m\u001B[0m\n\u001B[0m\u001B[0;32m     10\u001B[0m \u001B[1;32mfrom\u001B[0m \u001B[1;33m.\u001B[0m\u001B[0mtraining\u001B[0m \u001B[1;32mimport\u001B[0m \u001B[0mtrain\u001B[0m\u001B[1;33m,\u001B[0m \u001B[0mcv\u001B[0m\u001B[1;33m\u001B[0m\u001B[1;33m\u001B[0m\u001B[0m\n\u001B[0;32m     11\u001B[0m \u001B[1;32mfrom\u001B[0m \u001B[1;33m.\u001B[0m \u001B[1;32mimport\u001B[0m \u001B[0mrabit\u001B[0m  \u001B[1;31m# noqa\u001B[0m\u001B[1;33m\u001B[0m\u001B[1;33m\u001B[0m\u001B[0m\n",
      "\u001B[1;32mD:\\anaconda\\lib\\site-packages\\xgboost\\core.py\u001B[0m in \u001B[0;36m<module>\u001B[1;34m\u001B[0m\n\u001B[0;32m     21\u001B[0m \u001B[1;32mimport\u001B[0m \u001B[0mscipy\u001B[0m\u001B[1;33m.\u001B[0m\u001B[0msparse\u001B[0m\u001B[1;33m\u001B[0m\u001B[1;33m\u001B[0m\u001B[0m\n\u001B[0;32m     22\u001B[0m \u001B[1;33m\u001B[0m\u001B[0m\n\u001B[1;32m---> 23\u001B[1;33m from .compat import (STRING_TYPES, DataFrame, py_str, PANDAS_INSTALLED,\n\u001B[0m\u001B[0;32m     24\u001B[0m                      lazy_isinstance)\n\u001B[0;32m     25\u001B[0m \u001B[1;32mfrom\u001B[0m \u001B[1;33m.\u001B[0m\u001B[0mlibpath\u001B[0m \u001B[1;32mimport\u001B[0m \u001B[0mfind_lib_path\u001B[0m\u001B[1;33m\u001B[0m\u001B[1;33m\u001B[0m\u001B[0m\n",
      "\u001B[1;32mD:\\anaconda\\lib\\site-packages\\xgboost\\compat.py\u001B[0m in \u001B[0;36m<module>\u001B[1;34m\u001B[0m\n\u001B[0;32m    107\u001B[0m     \u001B[0mpkg_resources\u001B[0m\u001B[1;33m.\u001B[0m\u001B[0mget_distribution\u001B[0m\u001B[1;33m(\u001B[0m\u001B[1;34m'dask'\u001B[0m\u001B[1;33m)\u001B[0m\u001B[1;33m\u001B[0m\u001B[1;33m\u001B[0m\u001B[0m\n\u001B[0;32m    108\u001B[0m     \u001B[0mDASK_INSTALLED\u001B[0m \u001B[1;33m=\u001B[0m \u001B[1;32mTrue\u001B[0m\u001B[1;33m\u001B[0m\u001B[1;33m\u001B[0m\u001B[0m\n\u001B[1;32m--> 109\u001B[1;33m \u001B[1;32mexcept\u001B[0m \u001B[0mpkg_resources\u001B[0m\u001B[1;33m.\u001B[0m\u001B[0mDistributionNotFound\u001B[0m\u001B[1;33m:\u001B[0m\u001B[1;33m\u001B[0m\u001B[1;33m\u001B[0m\u001B[0m\n\u001B[0m\u001B[0;32m    110\u001B[0m     \u001B[0mdask\u001B[0m \u001B[1;33m=\u001B[0m \u001B[1;32mNone\u001B[0m\u001B[1;33m\u001B[0m\u001B[1;33m\u001B[0m\u001B[0m\n\u001B[0;32m    111\u001B[0m     \u001B[0mDASK_INSTALLED\u001B[0m \u001B[1;33m=\u001B[0m \u001B[1;32mFalse\u001B[0m\u001B[1;33m\u001B[0m\u001B[1;33m\u001B[0m\u001B[0m\n",
      "\u001B[1;31mNameError\u001B[0m: name 'pkg_resources' is not defined"
     ]
    }
   ],
   "source": [
    "import pandas as pd\n",
    "import numpy as np\n",
    "from data_preprocessing_pipeline import *\n",
    "from sklearn.pipeline import Pipeline, make_pipeline, FeatureUnion\n",
    "pd.options.display.max_columns = None  # 显示所有列\n",
    "pd.set_option('display.float_format', lambda x: '%.3f' % x)  # 取消科学计数法"
   ]
  },
  {
   "cell_type": "code",
   "execution_count": null,
   "metadata": {},
   "outputs": [],
   "source": [
    "traindata = pd.read_csv('./data/2_train.csv', encoding='utf-8', sep=';')\n",
    "testdata = pd.read_csv('./data/2_test.csv', encoding='utf-8', sep=';')\n",
    "\n",
    "\n",
    "traindata.drop('id', inplace=True, axis=1)\n",
    "traindata['y'] = np.where(traindata['y'] == 'yes', 1, 0)\n",
    "\n",
    "id =testdata['id']\n",
    "x_test = testdata.drop(['id','y'],axis=1)\n",
    "x_train = traindata.drop('y',axis=1)\n",
    "y_train = traindata['y']"
   ]
  },
  {
   "cell_type": "code",
   "execution_count": null,
   "metadata": {},
   "outputs": [],
   "source": [
    "x_train = x_train.replace(['?','.','-'],np.nan)\n",
    "x_train[ 'age']=x_train[ 'age'].fillna(x_train['age'].median()).astype(float)\n",
    "x_train['job']=x_train[ 'job'].fillna('not')\n",
    "x_train['marital']=x_train[ 'marital'].fillna('not')\n",
    "x_train[ 'education']=x_train[ 'education'].fillna('not')\n",
    "x_train['default']=x_train[ 'default'].fillna('not')\n",
    "x_train['housing']=x_train[ 'housing'].fillna('not')\n",
    "x_train[ 'loan']=x_train[ 'loan'].fillna('not')\n",
    "x_train[ 'education']=x_train[ 'education'].fillna('not')\n",
    "x_train['contact']=x_train[ 'contact'].fillna('not')\n",
    "x_train['month']=x_train[ 'month'].fillna('not')\n",
    "x_train[ 'day_of_week']=x_train[ 'day_of_week'].fillna('not')\n",
    "x_train[ 'duration']=x_train[ 'duration'].fillna(0).astype(int)\n",
    "x_train[ 'campaign']=x_train[ 'campaign'].fillna(0).astype(int)\n",
    "x_train[ 'pdays']=x_train[ 'pdays'].fillna(999).astype(int)\n",
    "x_train[ 'previous']=x_train[ 'previous'].fillna(-1).astype(int)\n",
    "x_train[ 'poutcome']=x_train[ 'poutcome'].fillna('not')\n",
    "x_train[ 'emp.var.rate']=x_train[ 'emp.var.rate'].fillna('not')\n",
    "x_train[ 'emp.var.rate']=x_train[ 'emp.var.rate'].fillna(x_train['emp.var.rate'].median()).astype(float)\n",
    "x_train[ 'cons.price.idx']=x_train[ 'cons.price.idx'].fillna(x_train['cons.price.idx'].median()).astype(float)\n",
    "x_train[ 'cons.conf.idx']=x_train[ 'cons.conf.idx'].fillna(x_train['cons.conf.idx'].median()).astype(float)\n",
    "x_train[ 'euribor3m']=x_train[ 'euribor3m'].fillna(x_train['euribor3m'].median()).astype(float)\n",
    "x_train[ 'nr.employed']=x_train[ 'nr.employed'].fillna(x_train['nr.employed'].median()) .astype(float)                                  "
   ]
  },
  {
   "cell_type": "code",
   "execution_count": null,
   "metadata": {},
   "outputs": [],
   "source": [
    "x_test = x_test.replace(['?','.','-'],np.nan)\n",
    "x_test[ 'age']=x_test[ 'age'].fillna(x_test['age'].median()).astype(float)\n",
    "x_test['job']=x_test[ 'job'].fillna('not')\n",
    "x_test['marital']=x_test[ 'marital'].fillna('not')\n",
    "x_test[ 'education']=x_test[ 'education'].fillna('not')\n",
    "x_test['default']=x_test[ 'default'].fillna('not')\n",
    "x_test['housing']=x_test[ 'housing'].fillna('not')\n",
    "x_test[ 'loan']=x_test[ 'loan'].fillna('not')\n",
    "x_test[ 'education']=x_test[ 'education'].fillna('not')\n",
    "x_test['contact']=x_test[ 'contact'].fillna('not')\n",
    "x_test['month']=x_test[ 'month'].fillna('not')\n",
    "x_test[ 'day_of_week']=x_test[ 'day_of_week'].fillna('not')\n",
    "x_test[ 'duration']=x_test[ 'duration'].fillna(0).astype(int)\n",
    "x_test[ 'campaign']=x_test[ 'campaign'].fillna(0).astype(int)\n",
    "x_test[ 'pdays']=x_test[ 'pdays'].fillna(999).astype(int)\n",
    "x_test[ 'previous']=x_test[ 'previous'].fillna(-1).astype(int)\n",
    "x_test[ 'poutcome']=x_test[ 'poutcome'].fillna('not')\n",
    "x_test[ 'emp.var.rate']=x_test[ 'emp.var.rate'].fillna('not')\n",
    "x_test[ 'emp.var.rate']=x_test[ 'emp.var.rate'].fillna(x_test['emp.var.rate'].median()).astype(float)\n",
    "x_test[ 'cons.price.idx']=x_test[ 'cons.price.idx'].fillna(x_test['cons.price.idx'].median()).astype(float)\n",
    "x_test[ 'cons.conf.idx']=x_test[ 'cons.conf.idx'].fillna(x_test['cons.conf.idx'].median()).astype(float)\n",
    "x_test[ 'euribor3m']=x_test[ 'euribor3m'].fillna(x_test['euribor3m'].median()).astype(float)\n",
    "x_test[ 'nr.employed']=x_test[ 'nr.employed'].fillna(x_test['nr.employed'].median()) .astype(float)             "
   ]
  },
  {
   "cell_type": "code",
   "execution_count": null,
   "metadata": {},
   "outputs": [],
   "source": [
    "pipe = Pipeline(\n",
    "       [\n",
    "           ('Dummy', one_hotdummies())\n",
    "       ])\n",
    "\n",
    "pipe.fit(x_train,y_train)\n",
    "x_train =pipe.transform(x_train)"
   ]
  },
  {
   "cell_type": "code",
   "execution_count": null,
   "metadata": {},
   "outputs": [],
   "source": [
    "x_test =pipe.transform(x_test)"
   ]
  },
  {
   "cell_type": "code",
   "execution_count": null,
   "metadata": {},
   "outputs": [],
   "source": [
    "x_train =x_train.astype(float)"
   ]
  },
  {
   "cell_type": "code",
   "execution_count": null,
   "metadata": {},
   "outputs": [],
   "source": [
    "from lgbm_model import *\n",
    "\n",
    "lgb = lightgbm_model()\n",
    "model=lgb.create_best_model(x_train,y_train)"
   ]
  },
  {
   "cell_type": "code",
   "execution_count": null,
   "metadata": {},
   "outputs": [],
   "source": [
    "prob=lgb.get_best_pro(x_train,y_train,range_=1000)"
   ]
  },
  {
   "cell_type": "code",
   "execution_count": null,
   "metadata": {},
   "outputs": [],
   "source": [
    "prob=lgb.get_best_pro(x_train,y_train,begin=4000,times=6000,range_=1)"
   ]
  },
  {
   "cell_type": "code",
   "execution_count": null,
   "metadata": {},
   "outputs": [],
   "source": [
    "y_pre = lgb.get_predict(x_train,pro=prob)"
   ]
  },
  {
   "cell_type": "code",
   "execution_count": null,
   "metadata": {},
   "outputs": [],
   "source": [
    "lgb.get_model_report(y_pre,y_train)"
   ]
  },
  {
   "cell_type": "code",
   "execution_count": null,
   "metadata": {},
   "outputs": [],
   "source": [
    "y_test =lgb.get_predict(x_test,pro=prob)"
   ]
  },
  {
   "cell_type": "code",
   "execution_count": null,
   "metadata": {},
   "outputs": [],
   "source": [
    "y_ = pd.concat([pd.DataFrame(id),pd.DataFrame(y_test)],axis=1)"
   ]
  },
  {
   "cell_type": "code",
   "execution_count": null,
   "metadata": {},
   "outputs": [],
   "source": [
    "y_.to_csv(\"张钱东_results.csv\",index=False)"
   ]
  },
  {
   "cell_type": "code",
   "execution_count": null,
   "metadata": {},
   "outputs": [],
   "source": []
  },
  {
   "cell_type": "code",
   "execution_count": null,
   "metadata": {},
   "outputs": [],
   "source": []
  },
  {
   "cell_type": "markdown",
   "metadata": {},
   "source": [
    "# 下面是测试"
   ]
  },
  {
   "cell_type": "code",
   "execution_count": null,
   "metadata": {},
   "outputs": [],
   "source": [
    "def get_kind(x: pd.Series, diff_limit: int = 8):\n",
    "    x = x.astype('str')\n",
    "    x = x.str.extract(r'(^(\\-|)(?=.*\\d)\\d*(?:\\.\\d*)?$)')[0]\n",
    "    x.dropna(inplace=True)\n",
    "    if x.nunique() > diff_limit:\n",
    "        kind = 'numeric'\n",
    "    else:\n",
    "        kind = 'categorical'\n",
    "    return kind"
   ]
  },
  {
   "cell_type": "code",
   "execution_count": null,
   "metadata": {},
   "outputs": [],
   "source": [
    "categorical_features_indices = []\n",
    "# for col in x_train.columns:\n",
    "#     kind = get_kind(x=x_train[col], diff_limit=10)\n",
    "#     if kind == 'categorical':\n",
    "#         categorical_features_indices.append(col)"
   ]
  },
  {
   "cell_type": "code",
   "execution_count": null,
   "metadata": {},
   "outputs": [],
   "source": [
    "from sklearn.model_selection import train_test_split\n",
    "X_train1, X_validation, y_train1, y_validation = train_test_split(x_train, y_train, train_size=0.7, random_state=1234)"
   ]
  },
  {
   "cell_type": "code",
   "execution_count": null,
   "metadata": {},
   "outputs": [],
   "source": [
    "from catboost import CatBoostRegressor\n",
    "model=CatBoostRegressor(iterations=50, depth=3, learning_rate=0.1, loss_function='RMSE')\n",
    "model.fit(X_train1,y_train1,cat_features=categorical_features_indices,eval_set=(X_validation, y_validation),plot=True)"
   ]
  },
  {
   "cell_type": "code",
   "execution_count": null,
   "metadata": {},
   "outputs": [],
   "source": [
    "def get_best_pro(model,X,y,begin=0,times=-1,range_=1):#当样本过大时，可使用参数进行定位\n",
    "        if y.nunique()>2:\n",
    "            return 0\n",
    "        else:\n",
    "            model_train = pd.DataFrame()\n",
    "            model_train['correct'] = y  # y_train存在index 合并会出错\n",
    "            model_train['yes_prob'] = model.predict(X)\n",
    "            model_train.sort_values(by='yes_prob', ascending=False, inplace=True)  # ascending=False 倒叙\n",
    "            model_train.reset_index(drop=True, inplace=True)\n",
    "            pred = [0] * model_train.shape[0]\n",
    "            f1_prob_dict = dict()\n",
    "            if times < 0:\n",
    "                times = model_train.shape[0] - 1\n",
    "            for x in range(begin, times,range_):\n",
    "                pred[:x] = [1]*x\n",
    "                f1 = round(f1_score(y_pred=pred, y_true=model_train['correct'], average='binary', pos_label=1), 3)\n",
    "                this_prob = model_train['yes_prob'][x:x + 2].mean()\n",
    "                f1_prob_dict[this_prob] = f1\n",
    "                print(str(x)+\"/\"+str(times)+\" : \"+ str(f1))\n",
    "        \n",
    "            f1_max = max(f1_prob_dict.values())\n",
    "            prob_max = max(f1_prob_dict, key=f1_prob_dict.get)\n",
    "            return prob_max"
   ]
  },
  {
   "cell_type": "code",
   "execution_count": null,
   "metadata": {},
   "outputs": [],
   "source": [
    "pro = get_best_pro(model,x_train,y_train,begin=5000,times=8000,range_=1)"
   ]
  },
  {
   "cell_type": "code",
   "execution_count": null,
   "metadata": {},
   "outputs": [],
   "source": [
    "model_proba = model.predict(x_train)  # 猜一类的机率\n",
    "y_hat = [1 if y >= pro else 0 for y in model_proba]"
   ]
  },
  {
   "cell_type": "code",
   "execution_count": null,
   "metadata": {},
   "outputs": [],
   "source": [
    "lgb.get_model_report(y_hat,y_train)"
   ]
  },
  {
   "cell_type": "code",
   "execution_count": null,
   "metadata": {},
   "outputs": [],
   "source": []
  },
  {
   "cell_type": "markdown",
   "metadata": {},
   "source": [
    "# 再做个测试，可能来不及了"
   ]
  },
  {
   "cell_type": "code",
   "execution_count": null,
   "metadata": {},
   "outputs": [],
   "source": []
  },
  {
   "cell_type": "code",
   "execution_count": null,
   "metadata": {},
   "outputs": [],
   "source": [
    "traindata = pd.read_csv('training_1.csv', encoding='utf-8')\n",
    "testdata = pd.read_csv('test_1.csv', encoding='utf-8')\n",
    "\n",
    "\n",
    "traindata.drop('id', inplace=True, axis=1)\n",
    "traindata['y'] = np.where(traindata['y'] == 'yes', 1, 0)\n",
    "\n",
    "id =testdata['id']\n",
    "x_test = testdata.drop(['id','y'],axis=1)\n",
    "x_train = traindata.drop('y',axis=1)\n",
    "y_train = traindata['y']"
   ]
  },
  {
   "cell_type": "code",
   "execution_count": null,
   "metadata": {},
   "outputs": [],
   "source": [
    "x_train = x_train.replace(['?','.','-'],np.nan)\n",
    "x_train[ 'age']=x_train[ 'age'].fillna(x_train['age'].median()).astype(float)\n",
    "x_train['job']=x_train[ 'job'].fillna('not')\n",
    "x_train['marital']=x_train[ 'marital'].fillna('not')\n",
    "x_train[ 'education']=x_train[ 'education'].fillna('not')\n",
    "x_train['default']=x_train[ 'default'].fillna('not')\n",
    "x_train['housing']=x_train[ 'housing'].fillna('not')\n",
    "x_train[ 'loan']=x_train[ 'loan'].fillna('not')\n",
    "x_train[ 'education']=x_train[ 'education'].fillna('not')\n",
    "x_train['contact']=x_train[ 'contact'].fillna('not')\n",
    "x_train['month']=x_train[ 'month'].fillna('not')\n",
    "x_train[ 'day_of_week']=x_train[ 'day_of_week'].fillna('not')\n",
    "x_train[ 'duration']=x_train[ 'duration'].fillna(0).astype(int)\n",
    "x_train[ 'campaign']=x_train[ 'campaign'].fillna(0).astype(int)\n",
    "x_train[ 'pdays']=x_train[ 'pdays'].fillna(999).astype(int)\n",
    "x_train[ 'previous']=x_train[ 'previous'].fillna(-1).astype(int)\n",
    "x_train[ 'poutcome']=x_train[ 'poutcome'].fillna('not')\n",
    "x_train[ 'emp.var.rate']=x_train[ 'emp.var.rate'].fillna('not')\n",
    "x_train[ 'emp.var.rate']=x_train[ 'emp.var.rate'].fillna(x_train['emp.var.rate'].median()).astype(float)\n",
    "x_train[ 'cons.price.idx']=x_train[ 'cons.price.idx'].fillna(x_train['cons.price.idx'].median()).astype(float)\n",
    "x_train[ 'cons.conf.idx']=x_train[ 'cons.conf.idx'].fillna(x_train['cons.conf.idx'].median()).astype(float)\n",
    "x_train[ 'euribor3m']=x_train[ 'euribor3m'].fillna(x_train['euribor3m'].median()).astype(float)\n",
    "x_train[ 'nr.employed']=x_train[ 'nr.employed'].fillna(x_train['nr.employed'].median()) .astype(float)     "
   ]
  },
  {
   "cell_type": "code",
   "execution_count": null,
   "metadata": {},
   "outputs": [],
   "source": [
    "pipe = Pipeline(\n",
    "       [\n",
    "           ('Attribute_Selection', feature_select()),\n",
    "           ('Dummy', one_hotdummies())\n",
    "       ])\n",
    "\n",
    "pipe.fit(x_train,y_train)\n",
    "x_train =pipe.transform(x_train)\n",
    "x_train =x_train.astype(float)"
   ]
  },
  {
   "cell_type": "code",
   "execution_count": null,
   "metadata": {},
   "outputs": [],
   "source": [
    "from lgbm_model import *\n",
    "\n",
    "lgb = lightgbm_model()\n",
    "model=lgb.create_best_model(x_train,y_train)"
   ]
  },
  {
   "cell_type": "code",
   "execution_count": null,
   "metadata": {},
   "outputs": [],
   "source": [
    "prob=lgb.get_best_pro(x_train,y_train,range_=1000)"
   ]
  },
  {
   "cell_type": "code",
   "execution_count": null,
   "metadata": {},
   "outputs": [],
   "source": [
    "prob1=lgb.get_best_pro(x_train,y_train,begin=4000,times=6000,range_=1)"
   ]
  },
  {
   "cell_type": "code",
   "execution_count": null,
   "metadata": {},
   "outputs": [],
   "source": [
    "y_pre1 = lgb.get_predict(x_train,pro=prob1)"
   ]
  },
  {
   "cell_type": "code",
   "execution_count": null,
   "metadata": {},
   "outputs": [],
   "source": [
    "lgb.get_model_report(y_pre1,y_train)"
   ]
  }
 ],
 "metadata": {
  "kernelspec": {
   "display_name": "Python 3",
   "language": "python",
   "name": "python3"
  },
  "language_info": {
   "codemirror_mode": {
    "name": "ipython",
    "version": 3
   },
   "file_extension": ".py",
   "mimetype": "text/x-python",
   "name": "python",
   "nbconvert_exporter": "python",
   "pygments_lexer": "ipython3",
   "version": "3.7.4"
  }
 },
 "nbformat": 4,
 "nbformat_minor": 2
}
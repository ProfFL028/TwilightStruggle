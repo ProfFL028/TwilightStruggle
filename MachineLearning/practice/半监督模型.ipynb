{
 "cells": [
  {
   "cell_type": "markdown",
   "metadata": {},
   "source": [
    "# 导入包"
   ]
  },
  {
   "cell_type": "code",
   "execution_count": 151,
   "metadata": {
    "ExecuteTime": {
     "end_time": "2022-01-08T04:03:44.203814Z",
     "start_time": "2022-01-08T04:03:43.632677Z"
    }
   },
   "outputs": [
    {
     "data": {
      "text/html": [
       "<div>\n",
       "<style scoped>\n",
       "    .dataframe tbody tr th:only-of-type {\n",
       "        vertical-align: middle;\n",
       "    }\n",
       "\n",
       "    .dataframe tbody tr th {\n",
       "        vertical-align: top;\n",
       "    }\n",
       "\n",
       "    .dataframe thead th {\n",
       "        text-align: right;\n",
       "    }\n",
       "</style>\n",
       "<table border=\"1\" class=\"dataframe\">\n",
       "  <thead>\n",
       "    <tr style=\"text-align: right;\">\n",
       "      <th></th>\n",
       "      <th>ID</th>\n",
       "      <th>age</th>\n",
       "      <th>age_group</th>\n",
       "      <th>ed</th>\n",
       "      <th>employ</th>\n",
       "      <th>address</th>\n",
       "      <th>income</th>\n",
       "      <th>debtinc</th>\n",
       "      <th>creddebt</th>\n",
       "      <th>othdebt</th>\n",
       "      <th>default</th>\n",
       "    </tr>\n",
       "  </thead>\n",
       "  <tbody>\n",
       "    <tr>\n",
       "      <th>0</th>\n",
       "      <td>1</td>\n",
       "      <td>41</td>\n",
       "      <td>3</td>\n",
       "      <td>3</td>\n",
       "      <td>17</td>\n",
       "      <td>12</td>\n",
       "      <td>35.9</td>\n",
       "      <td>11.90</td>\n",
       "      <td>0.504108</td>\n",
       "      <td>3.767992</td>\n",
       "      <td>0</td>\n",
       "    </tr>\n",
       "    <tr>\n",
       "      <th>1</th>\n",
       "      <td>2</td>\n",
       "      <td>30</td>\n",
       "      <td>2</td>\n",
       "      <td>1</td>\n",
       "      <td>13</td>\n",
       "      <td>8</td>\n",
       "      <td>46.7</td>\n",
       "      <td>17.88</td>\n",
       "      <td>1.352694</td>\n",
       "      <td>6.997266</td>\n",
       "      <td>0</td>\n",
       "    </tr>\n",
       "  </tbody>\n",
       "</table>\n",
       "</div>"
      ],
      "text/plain": [
       "   ID  age  age_group  ed  employ  address  income  debtinc  creddebt  \\\n",
       "0   1   41          3   3      17       12    35.9    11.90  0.504108   \n",
       "1   2   30          2   1      13        8    46.7    17.88  1.352694   \n",
       "\n",
       "    othdebt  default  \n",
       "0  3.767992        0  \n",
       "1  6.997266        0  "
      ]
     },
     "execution_count": 151,
     "metadata": {},
     "output_type": "execute_result"
    }
   ],
   "source": [
    "import numpy as np\n",
    "import pandas as pd\n",
    "import seaborn as sns\n",
    "import matplotlib.pyplot as plt\n",
    "%matplotlib inline\n",
    "plt.rcParams[\"font.sans-serif\"]=[\"SimHei\"]\n",
    "plt.rcParams[\"axes.unicode_minus\"]=False\n",
    "\n",
    "#使用pandas读取数据支持xls和xlsx\n",
    "dataB=pd.read_excel(r\"./data/bankload.xlsx\")\n",
    "dataB.head(2)"
   ]
  },
  {
   "cell_type": "markdown",
   "metadata": {},
   "source": [
    "# 因变量描述"
   ]
  },
  {
   "cell_type": "code",
   "execution_count": 41,
   "metadata": {
    "ExecuteTime": {
     "end_time": "2022-01-08T02:55:34.863025Z",
     "start_time": "2022-01-08T02:55:34.858026Z"
    },
    "scrolled": true
   },
   "outputs": [
    {
     "data": {
      "text/plain": [
       "0    3744\n",
       "1    1256\n",
       "Name: default, dtype: int64"
      ]
     },
     "execution_count": 41,
     "metadata": {},
     "output_type": "execute_result"
    }
   ],
   "source": [
    "dataB['default'].value_counts()"
   ]
  },
  {
   "cell_type": "markdown",
   "metadata": {},
   "source": [
    "# 清除部分y=0的数据"
   ]
  },
  {
   "cell_type": "code",
   "execution_count": 170,
   "metadata": {
    "ExecuteTime": {
     "end_time": "2022-01-08T04:32:48.031689Z",
     "start_time": "2022-01-08T04:32:48.023701Z"
    }
   },
   "outputs": [
    {
     "data": {
      "text/plain": [
       "-1    2430\n",
       " 0    1314\n",
       " 1    1256\n",
       "Name: y, dtype: int64"
      ]
     },
     "execution_count": 170,
     "metadata": {},
     "output_type": "execute_result"
    }
   ],
   "source": [
    "dataB['rand'] = np.random.randint(0,100,5000)\n",
    "dataB['y']=np.where((dataB['default']==0) & (dataB['rand']<35),0,                                #35是控制y=0的比例35%\n",
    "                                                                np.where(dataB['default']==1,1,-1))#注意：这里是-1表示未标记数据\n",
    "dataB['y'].value_counts()"
   ]
  },
  {
   "cell_type": "markdown",
   "metadata": {},
   "source": [
    "# 构建半监督模型\n",
    "## x与y分组"
   ]
  },
  {
   "cell_type": "code",
   "execution_count": 171,
   "metadata": {
    "ExecuteTime": {
     "end_time": "2022-01-08T04:32:48.045695Z",
     "start_time": "2022-01-08T04:32:48.041699Z"
    }
   },
   "outputs": [],
   "source": [
    "SemiY=dataB['y']\n",
    "SemiX=dataB.iloc[:,[2,3,4,5,6,7,8,9]]"
   ]
  },
  {
   "cell_type": "markdown",
   "metadata": {},
   "source": [
    "## svm与自定义分类器"
   ]
  },
  {
   "cell_type": "code",
   "execution_count": 172,
   "metadata": {
    "ExecuteTime": {
     "end_time": "2022-01-08T04:33:08.284286Z",
     "start_time": "2022-01-08T04:32:48.052696Z"
    }
   },
   "outputs": [
    {
     "data": {
      "text/plain": [
       "SelfTrainingClassifier(base_estimator=SVC(probability=True, random_state=123),\n",
       "                       threshold=0.7)"
      ]
     },
     "execution_count": 172,
     "metadata": {},
     "output_type": "execute_result"
    }
   ],
   "source": [
    "from sklearn.semi_supervised import SelfTrainingClassifier    #自定义分类器\n",
    "from sklearn.svm import SVC                                   #支持向量机\n",
    "\n",
    "baseC = SVC(probability=True,random_state=123)\n",
    "Straining = SelfTrainingClassifier(baseC, threshold=0.7)\n",
    "Straining.fit(SemiX, SemiY)"
   ]
  },
  {
   "cell_type": "markdown",
   "metadata": {},
   "source": [
    "## 预测频数"
   ]
  },
  {
   "cell_type": "code",
   "execution_count": 173,
   "metadata": {
    "ExecuteTime": {
     "end_time": "2022-01-08T04:33:09.103472Z",
     "start_time": "2022-01-08T04:33:08.286286Z"
    }
   },
   "outputs": [
    {
     "data": {
      "text/plain": [
       "0    3442\n",
       "1    1558\n",
       "dtype: int64"
      ]
     },
     "execution_count": 173,
     "metadata": {},
     "output_type": "execute_result"
    }
   ],
   "source": [
    "pd.DataFrame(Straining.predict(SemiX)).value_counts()"
   ]
  },
  {
   "cell_type": "markdown",
   "metadata": {},
   "source": [
    "## 评估最终准确性"
   ]
  },
  {
   "cell_type": "code",
   "execution_count": 174,
   "metadata": {
    "ExecuteTime": {
     "end_time": "2022-01-08T04:33:10.053672Z",
     "start_time": "2022-01-08T04:33:09.104460Z"
    }
   },
   "outputs": [
    {
     "name": "stdout",
     "output_type": "stream",
     "text": [
      "              precision    recall  f1-score   support\n",
      "\n",
      "         非违约       0.88      0.81      0.85      3744\n",
      "          违约       0.55      0.68      0.61      1256\n",
      "\n",
      "    accuracy                           0.78      5000\n",
      "   macro avg       0.72      0.75      0.73      5000\n",
      "weighted avg       0.80      0.78      0.79      5000\n",
      "\n"
     ]
    },
    {
     "data": {
      "text/plain": [
       "<AxesSubplot:title={'center':'Confusion Matrix'}, xlabel='Predicted label', ylabel='True label'>"
      ]
     },
     "execution_count": 174,
     "metadata": {},
     "output_type": "execute_result"
    },
    {
     "data": {
      "image/png": "[encoded data removed]",
      "text/plain": [
       "<Figure size 432x288 with 2 Axes>"
      ]
     },
     "metadata": {
      "needs_background": "light"
     },
     "output_type": "display_data"
    }
   ],
   "source": [
    "dataB[\"ypred\"]=pd.DataFrame(Straining.predict(SemiX))\n",
    "dataB\n",
    "from sklearn.metrics import classification_report\n",
    "import scikitplot\n",
    "\n",
    "print(classification_report(dataB[\"default\"],dataB[\"ypred\"],target_names=['非违约','违约']))\n",
    "scikitplot.metrics.plot_confusion_matrix(dataB[\"default\"],dataB[\"ypred\"])"
   ]
  },
  {
   "cell_type": "markdown",
   "metadata": {},
   "source": [
    "# svc构建完整数据的准确性"
   ]
  },
  {
   "cell_type": "code",
   "execution_count": 175,
   "metadata": {
    "ExecuteTime": {
     "end_time": "2022-01-08T04:33:14.246627Z",
     "start_time": "2022-01-08T04:33:10.055674Z"
    }
   },
   "outputs": [
    {
     "name": "stdout",
     "output_type": "stream",
     "text": [
      "              precision    recall  f1-score   support\n",
      "\n",
      "         非违约       0.80      0.97      0.88      3744\n",
      "          违约       0.76      0.28      0.41      1256\n",
      "\n",
      "    accuracy                           0.80      5000\n",
      "   macro avg       0.78      0.62      0.64      5000\n",
      "weighted avg       0.79      0.80      0.76      5000\n",
      "\n"
     ]
    }
   ],
   "source": [
    "Y=dataB['default']\n",
    "X=dataB.iloc[:,[2,3,4,5,6,7,8,9]]\n",
    "\n",
    "svc = SVC(probability=True,random_state=123)\n",
    "svc.fit(X, Y)\n",
    "pre=svc.predict(X)\n",
    "print(classification_report(dataB[\"default\"],pre,target_names=['非违约','违约']))"
   ]
  },
  {
   "cell_type": "markdown",
   "metadata": {},
   "source": [
    "# 构建半监督模型：标签蔓延算法\n",
    "## 超参数说明"
   ]
  },
  {
   "cell_type": "code",
   "execution_count": 176,
   "metadata": {
    "ExecuteTime": {
     "end_time": "2022-01-08T04:33:15.858986Z",
     "start_time": "2022-01-08T04:33:14.249623Z"
    }
   },
   "outputs": [
    {
     "data": {
      "text/plain": [
       "LabelSpreading()"
      ]
     },
     "execution_count": 176,
     "metadata": {},
     "output_type": "execute_result"
    }
   ],
   "source": [
    "from sklearn.semi_supervised import LabelSpreading\n",
    "labelSM = LabelSpreading()\n",
    "labelSM.fit(SemiX, SemiY)"
   ]
  },
  {
   "cell_type": "code",
   "execution_count": 177,
   "metadata": {
    "ExecuteTime": {
     "end_time": "2022-01-08T04:33:18.540593Z",
     "start_time": "2022-01-08T04:33:15.859987Z"
    }
   },
   "outputs": [
    {
     "name": "stderr",
     "output_type": "stream",
     "text": [
      "F:\\python\\anzhuang\\lib\\site-packages\\sklearn\\semi_supervised\\_label_propagation.py:205: RuntimeWarning: invalid value encountered in true_divide\n",
      "  probabilities /= normalizer\n"
     ]
    },
    {
     "name": "stdout",
     "output_type": "stream",
     "text": [
      "0    2985\n",
      "1    2015\n",
      "dtype: int64\n",
      "              precision    recall  f1-score   support\n",
      "\n",
      "         非违约       1.00      0.80      0.89      3744\n",
      "          违约       0.62      1.00      0.77      1256\n",
      "\n",
      "    accuracy                           0.85      5000\n",
      "   macro avg       0.81      0.90      0.83      5000\n",
      "weighted avg       0.91      0.85      0.86      5000\n",
      "\n"
     ]
    },
    {
     "name": "stderr",
     "output_type": "stream",
     "text": [
      "F:\\python\\anzhuang\\lib\\site-packages\\sklearn\\semi_supervised\\_label_propagation.py:205: RuntimeWarning: invalid value encountered in true_divide\n",
      "  probabilities /= normalizer\n"
     ]
    }
   ],
   "source": [
    "print(pd.DataFrame(labelSM.predict(SemiX)).value_counts())\n",
    "labelPre=pd.DataFrame(labelSM.predict(SemiX))\n",
    "print(classification_report(dataB[\"default\"],labelPre,target_names=['非违约','违约']))"
   ]
  },
  {
   "cell_type": "markdown",
   "metadata": {},
   "source": [
    "## 网格搜索"
   ]
  },
  {
   "cell_type": "code",
   "execution_count": 178,
   "metadata": {
    "ExecuteTime": {
     "end_time": "2022-01-08T04:33:20.143963Z",
     "start_time": "2022-01-08T04:33:18.541595Z"
    }
   },
   "outputs": [
    {
     "name": "stdout",
     "output_type": "stream",
     "text": [
      "最优得分：0.34938271604938276\n",
      "全部及最优系数：LabelSpreading(alpha=0.1, gamma=49, kernel='knn', n_neighbors=3)\n"
     ]
    }
   ],
   "source": [
    "from sklearn.experimental import enable_halving_search_cv\n",
    "from sklearn.model_selection import HalvingRandomSearchCV\n",
    "from scipy.stats import randint\n",
    "\n",
    "#HalvingRandomSearchCV网格搜索:高性能\n",
    "parameters={'kernel':['knn','rbf'],   #knn效率高，rbf准确\n",
    "            'n_neighbors':[3,5,7,9],  #3-6是常用的范围\n",
    "            'gamma':randint(1,100),   #超参数高效搜索\n",
    "            'alpha':[0.1,0.2,0.5]     #软夹持效应：0.2对应保留原始数据80%的标签不参与修改，否则根据权重修改 \n",
    "           }\n",
    "HR_search=HalvingRandomSearchCV(labelSM,parameters,n_jobs=-1)  #scoring='accuracy'\n",
    "HR_search.fit(SemiX, SemiY)\n",
    "print(\"最优得分：%s\" %HR_search.best_score_)\n",
    "# print(\"测试得分：%s\" %HR_search.score(xtest,ytest))\n",
    "print(\"全部及最优系数：%s\" %HR_search.best_estimator_)"
   ]
  },
  {
   "cell_type": "code",
   "execution_count": 188,
   "metadata": {
    "ExecuteTime": {
     "end_time": "2022-01-08T04:37:36.922125Z",
     "start_time": "2022-01-08T04:37:36.826116Z"
    }
   },
   "outputs": [
    {
     "name": "stderr",
     "output_type": "stream",
     "text": [
      "F:\\python\\anzhuang\\lib\\site-packages\\sklearn\\semi_supervised\\_label_propagation.py:205: RuntimeWarning: invalid value encountered in true_divide\n",
      "  probabilities /= normalizer\n"
     ]
    },
    {
     "data": {
      "text/plain": [
       "0    2983\n",
       "1    2017\n",
       "dtype: int64"
      ]
     },
     "execution_count": 188,
     "metadata": {},
     "output_type": "execute_result"
    }
   ],
   "source": [
    "#最后使用最优系数构建模型\n",
    "HRmodel=HR_search.best_estimator_\n",
    "HRypre=HRmodel.fit(SemiX, SemiY)\n",
    "pd.DataFrame(HRypre.predict(SemiX)).value_counts()"
   ]
  },
  {
   "cell_type": "code",
   "execution_count": null,
   "metadata": {},
   "outputs": [],
   "source": [
    "\n"
   ]
  },
  {
   "cell_type": "code",
   "execution_count": null,
   "metadata": {},
   "outputs": [],
   "source": []
  },
  {
   "cell_type": "code",
   "execution_count": null,
   "metadata": {},
   "outputs": [],
   "source": []
  },
  {
   "cell_type": "code",
   "execution_count": null,
   "metadata": {},
   "outputs": [],
   "source": []
  },
  {
   "cell_type": "code",
   "execution_count": null,
   "metadata": {},
   "outputs": [],
   "source": []
  }
 ],
 "metadata": {
  "kernelspec": {
   "display_name": "Python 3 (ipykernel)",
   "language": "python",
   "name": "python3"
  },
  "language_info": {
   "codemirror_mode": {
    "name": "ipython",
    "version": 3
   },
   "file_extension": ".py",
   "mimetype": "text/x-python",
   "name": "python",
   "nbconvert_exporter": "python",
   "pygments_lexer": "ipython3",
   "version": "3.9.7"
  },
  "latex_envs": {
   "LaTeX_envs_menu_present": true,
   "autoclose": false,
   "autocomplete": true,
   "bibliofile": "biblio.bib",
   "cite_by": "apalike",
   "current_citInitial": 1,
   "eqLabelWithNumbers": true,
   "eqNumInitial": 1,
   "hotkeys": {
    "equation": "Ctrl-E",
    "itemize": "Ctrl-I"
   },
   "labels_anchors": false,
   "latex_user_defs": false,
   "report_style_numbering": false,
   "user_envs_cfg": false
  },
  "toc": {
   "base_numbering": 1,
   "nav_menu": {},
   "number_sections": true,
   "sideBar": true,
   "skip_h1_title": false,
   "title_cell": "Table of Contents",
   "title_sidebar": "Contents",
   "toc_cell": false,
   "toc_position": {
    "height": "calc(100% - 180px)",
    "left": "10px",
    "top": "150px",
    "width": "201px"
   },
   "toc_section_display": true,
   "toc_window_display": true
  },
  "varInspector": {
   "cols": {
    "lenName": 16,
    "lenType": 16,
    "lenVar": 40
   },
   "kernels_config": {
    "python": {
     "delete_cmd_postfix": "",
     "delete_cmd_prefix": "del ",
     "library": "var_list.py",
     "varRefreshCmd": "print(var_dic_list())"
    },
    "r": {
     "delete_cmd_postfix": ") ",
     "delete_cmd_prefix": "rm(",
     "library": "var_list.r",
     "varRefreshCmd": "cat(var_dic_list()) "
    }
   },
   "types_to_exclude": [
    "module",
    "function",
    "builtin_function_or_method",
    "instance",
    "_Feature"
   ],
   "window_display": false
  }
 },
 "nbformat": 4,
 "nbformat_minor": 2
}
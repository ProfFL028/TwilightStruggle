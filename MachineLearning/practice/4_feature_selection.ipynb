{
 "cells": [
  {
   "cell_type": "code",
   "execution_count": 1,
   "metadata": {
    "collapsed": true
   },
   "outputs": [
    {
     "data": {
      "text/plain": "  channel_title                                               text\n0            体育  新浪体育讯　中超有两大洋帅。南有恒大 [微博] 里皮，人送绰号银狐，特点在于兵法多变。北有国...\n1            体育  \\n\\n2015年1月1 日，距 嘎嘎嘎 设乓 离悉尼 50 公里外 择梯梯梯择 茬茬衫困 ...\n2            体育  新浪体育讯　从2014年11月27日开始，新浪NBA将在每周四更新一期30队的实力榜。这份榜...\n3            体育  新浪体育讯　澳大利亚A联赛(简称澳超，下同)创始于2005年，由韩国汽车集团现代汽车从开始冠...\n4            体育  新浪体育讯　北京时间1月1日，洛杉矶当地时间2014年12月31日下午，快船捍卫了主场的荣誉...",
      "text/html": "<div>\n<style scoped>\n    .dataframe tbody tr th:only-of-type {\n        vertical-align: middle;\n    }\n\n    .dataframe tbody tr th {\n        vertical-align: top;\n    }\n\n    .dataframe thead th {\n        text-align: right;\n    }\n</style>\n<table border=\"1\" class=\"dataframe\">\n  <thead>\n    <tr style=\"text-align: right;\">\n      <th></th>\n      <th>channel_title</th>\n      <th>text</th>\n    </tr>\n  </thead>\n  <tbody>\n    <tr>\n      <th>0</th>\n      <td>体育</td>\n      <td>新浪体育讯　中超有两大洋帅。南有恒大 [微博] 里皮，人送绰号银狐，特点在于兵法多变。北有国...</td>\n    </tr>\n    <tr>\n      <th>1</th>\n      <td>体育</td>\n      <td>\\n\\n2015年1月1 日，距 嘎嘎嘎 设乓 离悉尼 50 公里外 择梯梯梯择 茬茬衫困 ...</td>\n    </tr>\n    <tr>\n      <th>2</th>\n      <td>体育</td>\n      <td>新浪体育讯　从2014年11月27日开始，新浪NBA将在每周四更新一期30队的实力榜。这份榜...</td>\n    </tr>\n    <tr>\n      <th>3</th>\n      <td>体育</td>\n      <td>新浪体育讯　澳大利亚A联赛(简称澳超，下同)创始于2005年，由韩国汽车集团现代汽车从开始冠...</td>\n    </tr>\n    <tr>\n      <th>4</th>\n      <td>体育</td>\n      <td>新浪体育讯　北京时间1月1日，洛杉矶当地时间2014年12月31日下午，快船捍卫了主场的荣誉...</td>\n    </tr>\n  </tbody>\n</table>\n</div>"
     },
     "execution_count": 1,
     "metadata": {},
     "output_type": "execute_result"
    }
   ],
   "source": [
    "from nlp import *\n",
    "import pandas as pd\n",
    "import numpy as np\n",
    "\n",
    "data = pd.read_csv(\"./data/sina_train.csv\", sep=\",\", encoding='utf-8')\n",
    "data.head(5)"
   ]
  },
  {
   "cell_type": "code",
   "execution_count": 2,
   "outputs": [
    {
     "data": {
      "text/plain": "财经    6209\n体育    4862\nName: channel_title, dtype: int64"
     },
     "execution_count": 2,
     "metadata": {},
     "output_type": "execute_result"
    }
   ],
   "source": [
    "data['channel_title'].value_counts()"
   ],
   "metadata": {
    "collapsed": false,
    "pycharm": {
     "name": "#%%\n"
    }
   }
  },
  {
   "cell_type": "code",
   "execution_count": 5,
   "outputs": [
    {
     "data": {
      "text/plain": "'新浪体育讯\\u3000中超有两大洋帅。南有恒大 [微博] 里皮，人送绰号银狐，特点在于兵法多变。北有国安 [微博] 曼萨诺 [微博] ，心理学教授出身，特点在于能调动球员士气。国家队主帅佩兰在最近的训练之中，不断出现神似里皮、曼萨诺二人特点的绝妙手笔。最近几天的训练之中，法国人又化身“心理按摩师”，不断提醒着队员们需要注意的事项。\\n在战术打法、人员组合方面，佩兰在最近的训练课之中展现出与里皮用兵的相似之处，连恒大国脚都认为佩兰的“一套阵型、不同组合”训练内容与里皮要求的地方非常接近。而随着这几天佩兰在训练场上不断拉住球员进行单独谈话，几乎所有主力阵容球员都被佩兰一一“话疗”之后，队员们又发现，心理按摩也是佩兰的一个强项所在。\\n在前几天的训练之中，佩兰分别与武磊 [微博] 、于海、于汉超 [微博] 、张呈栋 [微博] 、吴曦 [微博] 等人进行过交流。1日的训练之中，佩兰显然非常忙。虽然没有安排分组对抗，但佩兰一直让队员们按照自己的布置选择好站位，然后根据人员位置提出自己的要求。在定位球攻防演练之时，佩兰更是逐一拉着队员们送起各自“区位”。当然，佩兰在摆完造型之后，没有忘记提醒媒体们不要拍摄。\\n定位球结束之后，佩兰又一度单独拉着郑智、蒿俊闵走到场地中央进行交流，交谈时间超过了5分钟，这也是平时佩兰在训练场上与队员们没有过的交流。看得出，佩兰目前非常依仗郑智、蒿俊闵这两名球员。\\n角球训练开始之后，佩兰又走到准备罚左路角球的蒿俊闵身边。看着蒿俊闵的脚下，佩兰突然发现了一点变化，原来蒿俊闵换了新的足球鞋、一双纯白色的足球鞋，见此情景，佩兰说到：你是准备调一调准星吗？\\n或许是因为看到蒿俊闵有了新鞋助威，佩兰也不断对小蒿主罚的任意球落点提出要求，翻译转达到：球发出去之后再下沉一点、再旋转一点，这样他们可能就不太适应。对于佩兰的要求，平时脚法相当不错的小蒿索性自嘲起来：我也不会啊。\\n听到蒿俊闵这样说，佩兰用轻松的玩笑化解着小蒿的心理压力，“罚准一点，没问题的。噢对了，是不是我站你身边，影响了你的准星吗。”说完这句话，佩兰主动退后5米的距离。可是，小蒿罚出的任意球落点还是无法令人满意，佩兰走到角旗处，把杆给拔了。然后留下一句：刚才是不是这根杆有点影响你，现在拔出来了好了……\\n新年第一练的最后一项内容是主罚点球。当任航准备罚点球的时候，佩兰不断在3米外的地方提醒到：球没摆好，球没摆好，我现在是裁判，我干扰你了，干扰你了。\\n佩兰的这一席话果然让任航受到了干扰，点球没有打进。而当第二次任航又准备罚时，佩兰说：你换个角度吧。结果任航没有听取佩兰的建议，再次打了相同的角度还是没有进。佩兰笑着说：你还真是够犟的。\\n同样，到了张琳�M [微博] 准备罚点球的时候，站在一边的佩兰同样振振有词：“我现是是一个不太喜欢你的裁判员，包括对方守门员也会干扰你。所以你们一定要有抗干扰的承受力。”还好，这一番话对张琳�M没有起到任何的影响，张琳�M连续两次都精确地把皮球送入对方网窝。(宋词)'"
     },
     "execution_count": 5,
     "metadata": {},
     "output_type": "execute_result"
    }
   ],
   "source": [
    "data.loc[0, 'text']"
   ],
   "metadata": {
    "collapsed": false,
    "pycharm": {
     "name": "#%%\n"
    }
   }
  },
  {
   "cell_type": "code",
   "execution_count": 7,
   "outputs": [
    {
     "name": "stdout",
     "output_type": "stream",
     "text": [
      "total counts:  1913\n",
      "新浪体育讯 中超 两大 洋帅 南有 恒大 微博 里皮 人送 绰号 银狐 兵法 多变 北有 国安 微博 曼萨 诺 微博 心理学 教授 出身 调动 球员 士气 国家队 主帅 佩兰 训练 神似 里皮 曼萨 诺 绝妙 手笔 几天 训练 法国人 化身 心理 按摩师 提醒 队员 事项 战术 打法 人员 组合 佩兰 训练课 展现出 里皮 用兵 相似之处 连恒 大国 脚 佩兰 一套 阵型 组合 训练 内容 里皮 地方 接近 几天 佩兰 训练场 拉 住 球员 单独 谈话 主力阵容 球员 佩兰 话疗 队员 发现 心理 按摩 佩兰 强项 前 几天 训练 佩兰 武磊 微博 于海 于汉超 微博 张呈栋 微博 吴曦 微博 交流 日 训练 佩兰 忙 安排 分组 对抗 佩兰 队员 布置 选择 站位 人员 位置 提出 定位球 攻防 演练 时 佩兰 更是 逐一 拉着 队员 送 区位 佩兰 摆 完 造型 忘记 提醒 媒体 拍摄 定位球 结束 佩兰 一度 单独 拉着 郑智 蒿俊闵 场地 中央 交流 交谈 时间 超过 分钟 平时 佩兰 训练场 队员 交流 看得出 佩兰 依仗 郑智 蒿俊闵 两名 球员 角球 训练 佩兰 罚 左路 角球 蒿俊闵 身边 看着 蒿俊闵 脚下 佩兰 发现 一点 变化 蒿俊闵 换 新 足球鞋 一双 纯白色 足球鞋 见此 情景 佩兰 调一调 准星 是因为 蒿俊闵 新鞋 助威 佩兰 对小蒿 主罚 任意球 落点 提出 翻译 转 球 发出 下沉 一点 旋转 一点 太 佩兰 平时 脚法 不错 蒿 索性 自嘲 听到 蒿俊闵 佩兰 轻松 玩笑 化解 蒿 心理压力 罚准 一点 噢 站 身边 影响 准星 说完 这句 话 佩兰 主动 退后 米 距离 小蒿 罚出 任意球 落点 令人满意 佩兰 角旗 处 杆 拔 留下 一句 这根 杆 影响 拔出来 新年 第一 练 一项 内容 主罚 点球 当任航 罚 点球 佩兰 米外 地方 提醒 球 摆好 球 摆好 裁判 干扰 干扰 佩兰 一席话 任航 干扰 点球 进 第二次 任航 罚时 佩兰 换个 角度 任航 听取 佩兰 建议 角度 进 佩兰 够 犟 张琳 微博 罚 点球 站 佩兰 振振有词 我现 不太 喜欢 裁判员 包括 守门员 干扰 抗干扰 承受力 还好 一番话 张琳 起到 影响 张琳 连续 两次 精确 皮球 送入 网窝 宋词\n"
     ]
    }
   ],
   "source": [
    "stop_words = get_stop_words('./data/stop_words.txt', encoding='utf-8')\n",
    "print(split_word(data.loc[0, 'text'],\n",
    "                 stop_words, ['新浪体育讯', '恒大', '里皮']))"
   ],
   "metadata": {
    "collapsed": false,
    "pycharm": {
     "name": "#%%\n"
    }
   }
  },
  {
   "cell_type": "code",
   "execution_count": 9,
   "outputs": [
    {
     "data": {
      "text/plain": "0        新浪体育讯 中超 两大 洋帅 南有 恒大 微博 里皮 人送 绰号 银狐 兵法 多变 北有 国...\n1        年 月 日 设乓 悉尼 公里 外 择梯 梯梯择 茬 茬 衫 困 坎贝 小镇 眶 眶 僧眶眶 ...\n2        新浪体育讯 年 月 日 新浪 每周 更新 一期 队 实力 榜 这份 榜单 传统 官网 实力 ...\n3        新浪体育讯 澳大利亚 联赛 简称 澳超 下同 创始 年 韩国 汽车集团 汽车 冠名 跨入 年...\n4        新浪体育讯 北京 时间 月 日 洛杉矶 时间 年 月 日 下午 快船 捍卫 主场 荣誉 大胜...\n                               ...                        \n11066    投基有 华泰 证券 胡新辉 一月 年 月 日至 年 月 日 国内外 消息 欧洲央行 微博 万...\n11067    新浪体育讯 北京 时间 月 日 消息 曼联 官方 签约 萨尔 福德队 中卫 埃尔 菲 托利 ...\n11068    新浪体育讯 北京 时间 月 日 科茨 高尔夫 微博 锦标赛 第二轮 补赛 金色 奥 卡拉 高...\n11069    底线 农地 改革 增减 挂钩 余寒 通知 文件 马洛 担心 集体 建设 用地 流转 指日可待...\n11070    国资委 重启 员工 持股 计划 康怡 近日 国资委 微博 深化改革 领导小组 第十八次 全体...\nName: text, Length: 11071, dtype: object"
     },
     "execution_count": 8,
     "metadata": {},
     "output_type": "execute_result"
    },
    {
     "data": {
      "text/plain": "0        新浪体育讯 中超 两大 洋帅 南有 恒大 微博 里皮 人送 绰号 银狐 兵法 多变 北有 国...\n1        年 月 日 设乓 悉尼 公里 外 择梯 梯梯择 茬 茬 衫 困 坎贝 小镇 眶 眶 僧眶眶 ...\n2        新浪体育讯 年 月 日 新浪 每周 更新 一期 队 实力 榜 这份 榜单 传统 官网 实力 ...\n3        新浪体育讯 澳大利亚 联赛 简称 澳超 下同 创始 年 韩国 汽车集团 汽车 冠名 跨入 年...\n4        新浪体育讯 北京 时间 月 日 洛杉矶 时间 年 月 日 下午 快船 捍卫 主场 荣誉 大胜...\n                               ...                        \n11066    投基有 华泰 证券 胡新辉 一月 年 月 日至 年 月 日 国内外 消息 欧洲央行 微博 万...\n11067    新浪体育讯 北京 时间 月 日 消息 曼联 官方 签约 萨尔 福德队 中卫 埃尔 菲 托利 ...\n11068    新浪体育讯 北京 时间 月 日 科茨 高尔夫 微博 锦标赛 第二轮 补赛 金色 奥 卡拉 高...\n11069    底线 农地 改革 增减 挂钩 余寒 通知 文件 马洛 担心 集体 建设 用地 流转 指日可待...\n11070    国资委 重启 员工 持股 计划 康怡 近日 国资委 微博 深化改革 领导小组 第十八次 全体...\nName: text, Length: 11071, dtype: object"
     },
     "execution_count": 9,
     "metadata": {},
     "output_type": "execute_result"
    }
   ],
   "source": [
    "data_text = data['text'].apply(lambda text: split_word(text, stop_words, ['新浪体育讯', '恒大', '里皮']))\n",
    "data_text"
   ],
   "metadata": {
    "collapsed": false,
    "pycharm": {
     "name": "#%%\n"
    }
   }
  },
  {
   "cell_type": "code",
   "execution_count": 10,
   "outputs": [],
   "source": [
    "from sklearn.feature_extraction.text import TfidfVectorizer\n",
    "tfidf_vec = TfidfVectorizer(min_df=10)\n",
    "x = tfidf_vec.fit_transform(data_text.values.astype('U'))\n",
    "df = pd.DataFrame(x.toarray(), columns=tfidf_vec.get_feature_names())"
   ],
   "metadata": {
    "collapsed": false,
    "pycharm": {
     "name": "#%%\n"
    }
   }
  },
  {
   "cell_type": "code",
   "execution_count": 12,
   "outputs": [
    {
     "data": {
      "text/plain": "array([[-40.409954 , -12.872938 ],\n       [ -6.6707325, -20.892956 ],\n       [-57.8354   ,  44.381027 ],\n       ...,\n       [-12.341509 , -14.009723 ],\n       [ 14.497081 ,  60.684116 ],\n       [  5.117837 , -53.2968   ]], dtype=float32)"
     },
     "execution_count": 12,
     "metadata": {},
     "output_type": "execute_result"
    }
   ],
   "source": [
    "from sklearn.manifold import TSNE\n",
    "tsne = TSNE()\n",
    "df2 = tsne.fit_transform(df)\n",
    "df2"
   ],
   "metadata": {
    "collapsed": false,
    "pycharm": {
     "name": "#%%\n"
    }
   }
  },
  {
   "cell_type": "code",
   "execution_count": 17,
   "outputs": [
    {
     "data": {
      "text/plain": "0        0\n1        0\n2        0\n3        0\n4        0\n        ..\n11066    1\n11067    0\n11068    0\n11069    1\n11070    1\nName: channel_title, Length: 11071, dtype: int64"
     },
     "execution_count": 17,
     "metadata": {},
     "output_type": "execute_result"
    }
   ],
   "source": [
    "X = pd.DataFrame(df2)\n",
    "y = data['channel_title'].map({'体育':0, '财经':1})\n",
    "y"
   ],
   "metadata": {
    "collapsed": false,
    "pycharm": {
     "name": "#%%\n"
    }
   }
  },
  {
   "cell_type": "code",
   "execution_count": 21,
   "outputs": [],
   "source": [
    "from sklearn.model_selection import train_test_split\n",
    "X_train, X_valid, y_train, y_valid = train_test_split(df, y, test_size=0.25)"
   ],
   "metadata": {
    "collapsed": false,
    "pycharm": {
     "name": "#%%\n"
    }
   }
  },
  {
   "cell_type": "code",
   "execution_count": 22,
   "outputs": [
    {
     "name": "stdout",
     "output_type": "stream",
     "text": [
      "0.9931078358604603\n",
      "0.9914698162729658\n"
     ]
    }
   ],
   "source": [
    "from sklearn.metrics import f1_score\n",
    "from sklearn.linear_model import LogisticRegression\n",
    "lr = LogisticRegression(C=0.1, random_state=42)\n",
    "lr.fit(X=X_train, y=y_train)\n",
    "\n",
    "y_train_pred = lr.predict(X_train)\n",
    "y_valid_pred = lr.predict(X_valid)\n",
    "print(f1_score(y_train, y_train_pred))\n",
    "print(f1_score(y_valid, y_valid_pred))"
   ],
   "metadata": {
    "collapsed": false,
    "pycharm": {
     "name": "#%%\n"
    }
   }
  },
  {
   "cell_type": "code",
   "execution_count": null,
   "outputs": [],
   "source": [],
   "metadata": {
    "collapsed": false,
    "pycharm": {
     "name": "#%%\n"
    }
   }
  }
 ],
 "metadata": {
  "kernelspec": {
   "display_name": "Python 3",
   "language": "python",
   "name": "python3"
  },
  "language_info": {
   "codemirror_mode": {
    "name": "ipython",
    "version": 2
   },
   "file_extension": ".py",
   "mimetype": "text/x-python",
   "name": "python",
   "nbconvert_exporter": "python",
   "pygments_lexer": "ipython2",
   "version": "2.7.6"
  }
 },
 "nbformat": 4,
 "nbformat_minor": 0
}
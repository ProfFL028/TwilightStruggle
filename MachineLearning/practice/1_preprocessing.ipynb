{
 "cells": [
  {
   "cell_type": "code",
   "execution_count": 74,
   "metadata": {
    "collapsed": true
   },
   "outputs": [
    {
     "data": {
      "text/plain": "<pandas.io.formats.style.Styler at 0x7fd5de3bbf10>",
      "text/html": "<style  type=\"text/css\" >\n</style><table id=\"T_4bebe_\" ><thead>    <tr>        <th class=\"blank level0\" ></th>        <th class=\"col_heading level0 col0\" >age</th>        <th class=\"col_heading level0 col1\" >job</th>        <th class=\"col_heading level0 col2\" >marital</th>        <th class=\"col_heading level0 col3\" >education</th>        <th class=\"col_heading level0 col4\" >default</th>        <th class=\"col_heading level0 col5\" >housing</th>        <th class=\"col_heading level0 col6\" >loan</th>        <th class=\"col_heading level0 col7\" >contact</th>        <th class=\"col_heading level0 col8\" >month</th>        <th class=\"col_heading level0 col9\" >day_of_week</th>        <th class=\"col_heading level0 col10\" >duration</th>        <th class=\"col_heading level0 col11\" >campaign</th>        <th class=\"col_heading level0 col12\" >pdays</th>        <th class=\"col_heading level0 col13\" >previous</th>        <th class=\"col_heading level0 col14\" >poutcome</th>        <th class=\"col_heading level0 col15\" >emp.var.rate</th>        <th class=\"col_heading level0 col16\" >cons.price.idx</th>        <th class=\"col_heading level0 col17\" >cons.conf.idx</th>        <th class=\"col_heading level0 col18\" >euribor3m</th>        <th class=\"col_heading level0 col19\" >nr.employed</th>        <th class=\"col_heading level0 col20\" >y</th>    </tr>    <tr>        <th class=\"index_name level0\" >id</th>        <th class=\"blank\" ></th>        <th class=\"blank\" ></th>        <th class=\"blank\" ></th>        <th class=\"blank\" ></th>        <th class=\"blank\" ></th>        <th class=\"blank\" ></th>        <th class=\"blank\" ></th>        <th class=\"blank\" ></th>        <th class=\"blank\" ></th>        <th class=\"blank\" ></th>        <th class=\"blank\" ></th>        <th class=\"blank\" ></th>        <th class=\"blank\" ></th>        <th class=\"blank\" ></th>        <th class=\"blank\" ></th>        <th class=\"blank\" ></th>        <th class=\"blank\" ></th>        <th class=\"blank\" ></th>        <th class=\"blank\" ></th>        <th class=\"blank\" ></th>        <th class=\"blank\" ></th>    </tr></thead><tbody>\n                <tr>\n                        <th id=\"T_4bebe_level0_row0\" class=\"row_heading level0 row0\" >1</th>\n                        <td id=\"T_4bebe_row0_col0\" class=\"data row0 col0\" >nan</td>\n                        <td id=\"T_4bebe_row0_col1\" class=\"data row0 col1\" >housemaid</td>\n                        <td id=\"T_4bebe_row0_col2\" class=\"data row0 col2\" >married</td>\n                        <td id=\"T_4bebe_row0_col3\" class=\"data row0 col3\" >basic.4y</td>\n                        <td id=\"T_4bebe_row0_col4\" class=\"data row0 col4\" >nan</td>\n                        <td id=\"T_4bebe_row0_col5\" class=\"data row0 col5\" >no</td>\n                        <td id=\"T_4bebe_row0_col6\" class=\"data row0 col6\" >nan</td>\n                        <td id=\"T_4bebe_row0_col7\" class=\"data row0 col7\" >telephone</td>\n                        <td id=\"T_4bebe_row0_col8\" class=\"data row0 col8\" >may</td>\n                        <td id=\"T_4bebe_row0_col9\" class=\"data row0 col9\" >nan</td>\n                        <td id=\"T_4bebe_row0_col10\" class=\"data row0 col10\" >261</td>\n                        <td id=\"T_4bebe_row0_col11\" class=\"data row0 col11\" >nan</td>\n                        <td id=\"T_4bebe_row0_col12\" class=\"data row0 col12\" >999</td>\n                        <td id=\"T_4bebe_row0_col13\" class=\"data row0 col13\" >0</td>\n                        <td id=\"T_4bebe_row0_col14\" class=\"data row0 col14\" >nan</td>\n                        <td id=\"T_4bebe_row0_col15\" class=\"data row0 col15\" >1.100000</td>\n                        <td id=\"T_4bebe_row0_col16\" class=\"data row0 col16\" >93.994000</td>\n                        <td id=\"T_4bebe_row0_col17\" class=\"data row0 col17\" >-36.400000</td>\n                        <td id=\"T_4bebe_row0_col18\" class=\"data row0 col18\" >4.857000</td>\n                        <td id=\"T_4bebe_row0_col19\" class=\"data row0 col19\" >5191.000000</td>\n                        <td id=\"T_4bebe_row0_col20\" class=\"data row0 col20\" >no</td>\n            </tr>\n            <tr>\n                        <th id=\"T_4bebe_level0_row1\" class=\"row_heading level0 row1\" >2</th>\n                        <td id=\"T_4bebe_row1_col0\" class=\"data row1 col0\" >57</td>\n                        <td id=\"T_4bebe_row1_col1\" class=\"data row1 col1\" >services</td>\n                        <td id=\"T_4bebe_row1_col2\" class=\"data row1 col2\" >married</td>\n                        <td id=\"T_4bebe_row1_col3\" class=\"data row1 col3\" >high.school</td>\n                        <td id=\"T_4bebe_row1_col4\" class=\"data row1 col4\" >nan</td>\n                        <td id=\"T_4bebe_row1_col5\" class=\"data row1 col5\" >no</td>\n                        <td id=\"T_4bebe_row1_col6\" class=\"data row1 col6\" >no</td>\n                        <td id=\"T_4bebe_row1_col7\" class=\"data row1 col7\" >telephone</td>\n                        <td id=\"T_4bebe_row1_col8\" class=\"data row1 col8\" >may</td>\n                        <td id=\"T_4bebe_row1_col9\" class=\"data row1 col9\" >nan</td>\n                        <td id=\"T_4bebe_row1_col10\" class=\"data row1 col10\" >149</td>\n                        <td id=\"T_4bebe_row1_col11\" class=\"data row1 col11\" >1</td>\n                        <td id=\"T_4bebe_row1_col12\" class=\"data row1 col12\" >999</td>\n                        <td id=\"T_4bebe_row1_col13\" class=\"data row1 col13\" >0</td>\n                        <td id=\"T_4bebe_row1_col14\" class=\"data row1 col14\" >nan</td>\n                        <td id=\"T_4bebe_row1_col15\" class=\"data row1 col15\" >1.100000</td>\n                        <td id=\"T_4bebe_row1_col16\" class=\"data row1 col16\" >93.994000</td>\n                        <td id=\"T_4bebe_row1_col17\" class=\"data row1 col17\" >-36.400000</td>\n                        <td id=\"T_4bebe_row1_col18\" class=\"data row1 col18\" >4.857000</td>\n                        <td id=\"T_4bebe_row1_col19\" class=\"data row1 col19\" >5191.000000</td>\n                        <td id=\"T_4bebe_row1_col20\" class=\"data row1 col20\" >no</td>\n            </tr>\n            <tr>\n                        <th id=\"T_4bebe_level0_row2\" class=\"row_heading level0 row2\" >3</th>\n                        <td id=\"T_4bebe_row2_col0\" class=\"data row2 col0\" >37</td>\n                        <td id=\"T_4bebe_row2_col1\" class=\"data row2 col1\" >services</td>\n                        <td id=\"T_4bebe_row2_col2\" class=\"data row2 col2\" >nan</td>\n                        <td id=\"T_4bebe_row2_col3\" class=\"data row2 col3\" >high.school</td>\n                        <td id=\"T_4bebe_row2_col4\" class=\"data row2 col4\" >no</td>\n                        <td id=\"T_4bebe_row2_col5\" class=\"data row2 col5\" >nan</td>\n                        <td id=\"T_4bebe_row2_col6\" class=\"data row2 col6\" >no</td>\n                        <td id=\"T_4bebe_row2_col7\" class=\"data row2 col7\" >telephone</td>\n                        <td id=\"T_4bebe_row2_col8\" class=\"data row2 col8\" >may</td>\n                        <td id=\"T_4bebe_row2_col9\" class=\"data row2 col9\" >nan</td>\n                        <td id=\"T_4bebe_row2_col10\" class=\"data row2 col10\" >nan</td>\n                        <td id=\"T_4bebe_row2_col11\" class=\"data row2 col11\" >1</td>\n                        <td id=\"T_4bebe_row2_col12\" class=\"data row2 col12\" >999</td>\n                        <td id=\"T_4bebe_row2_col13\" class=\"data row2 col13\" >0</td>\n                        <td id=\"T_4bebe_row2_col14\" class=\"data row2 col14\" >nan</td>\n                        <td id=\"T_4bebe_row2_col15\" class=\"data row2 col15\" >1.100000</td>\n                        <td id=\"T_4bebe_row2_col16\" class=\"data row2 col16\" >93.994000</td>\n                        <td id=\"T_4bebe_row2_col17\" class=\"data row2 col17\" >-36.400000</td>\n                        <td id=\"T_4bebe_row2_col18\" class=\"data row2 col18\" >4.857000</td>\n                        <td id=\"T_4bebe_row2_col19\" class=\"data row2 col19\" >5191.000000</td>\n                        <td id=\"T_4bebe_row2_col20\" class=\"data row2 col20\" >no</td>\n            </tr>\n            <tr>\n                        <th id=\"T_4bebe_level0_row3\" class=\"row_heading level0 row3\" >4</th>\n                        <td id=\"T_4bebe_row3_col0\" class=\"data row3 col0\" >40</td>\n                        <td id=\"T_4bebe_row3_col1\" class=\"data row3 col1\" >admin.</td>\n                        <td id=\"T_4bebe_row3_col2\" class=\"data row3 col2\" >married</td>\n                        <td id=\"T_4bebe_row3_col3\" class=\"data row3 col3\" >basic.6y</td>\n                        <td id=\"T_4bebe_row3_col4\" class=\"data row3 col4\" >no</td>\n                        <td id=\"T_4bebe_row3_col5\" class=\"data row3 col5\" >no</td>\n                        <td id=\"T_4bebe_row3_col6\" class=\"data row3 col6\" >no</td>\n                        <td id=\"T_4bebe_row3_col7\" class=\"data row3 col7\" >telephone</td>\n                        <td id=\"T_4bebe_row3_col8\" class=\"data row3 col8\" >may</td>\n                        <td id=\"T_4bebe_row3_col9\" class=\"data row3 col9\" >mon</td>\n                        <td id=\"T_4bebe_row3_col10\" class=\"data row3 col10\" >151</td>\n                        <td id=\"T_4bebe_row3_col11\" class=\"data row3 col11\" >1</td>\n                        <td id=\"T_4bebe_row3_col12\" class=\"data row3 col12\" >999</td>\n                        <td id=\"T_4bebe_row3_col13\" class=\"data row3 col13\" >0</td>\n                        <td id=\"T_4bebe_row3_col14\" class=\"data row3 col14\" >nan</td>\n                        <td id=\"T_4bebe_row3_col15\" class=\"data row3 col15\" >1.100000</td>\n                        <td id=\"T_4bebe_row3_col16\" class=\"data row3 col16\" >93.994000</td>\n                        <td id=\"T_4bebe_row3_col17\" class=\"data row3 col17\" >-36.400000</td>\n                        <td id=\"T_4bebe_row3_col18\" class=\"data row3 col18\" >4.857000</td>\n                        <td id=\"T_4bebe_row3_col19\" class=\"data row3 col19\" >5191.000000</td>\n                        <td id=\"T_4bebe_row3_col20\" class=\"data row3 col20\" >no</td>\n            </tr>\n            <tr>\n                        <th id=\"T_4bebe_level0_row4\" class=\"row_heading level0 row4\" >5</th>\n                        <td id=\"T_4bebe_row4_col0\" class=\"data row4 col0\" >56</td>\n                        <td id=\"T_4bebe_row4_col1\" class=\"data row4 col1\" >services</td>\n                        <td id=\"T_4bebe_row4_col2\" class=\"data row4 col2\" >married</td>\n                        <td id=\"T_4bebe_row4_col3\" class=\"data row4 col3\" >high.school</td>\n                        <td id=\"T_4bebe_row4_col4\" class=\"data row4 col4\" >no</td>\n                        <td id=\"T_4bebe_row4_col5\" class=\"data row4 col5\" >no</td>\n                        <td id=\"T_4bebe_row4_col6\" class=\"data row4 col6\" >yes</td>\n                        <td id=\"T_4bebe_row4_col7\" class=\"data row4 col7\" >nan</td>\n                        <td id=\"T_4bebe_row4_col8\" class=\"data row4 col8\" >may</td>\n                        <td id=\"T_4bebe_row4_col9\" class=\"data row4 col9\" >mon</td>\n                        <td id=\"T_4bebe_row4_col10\" class=\"data row4 col10\" >307</td>\n                        <td id=\"T_4bebe_row4_col11\" class=\"data row4 col11\" >1</td>\n                        <td id=\"T_4bebe_row4_col12\" class=\"data row4 col12\" >999</td>\n                        <td id=\"T_4bebe_row4_col13\" class=\"data row4 col13\" >nan</td>\n                        <td id=\"T_4bebe_row4_col14\" class=\"data row4 col14\" >nan</td>\n                        <td id=\"T_4bebe_row4_col15\" class=\"data row4 col15\" >1.100000</td>\n                        <td id=\"T_4bebe_row4_col16\" class=\"data row4 col16\" >93.994000</td>\n                        <td id=\"T_4bebe_row4_col17\" class=\"data row4 col17\" >-36.400000</td>\n                        <td id=\"T_4bebe_row4_col18\" class=\"data row4 col18\" >4.857000</td>\n                        <td id=\"T_4bebe_row4_col19\" class=\"data row4 col19\" >5191.000000</td>\n                        <td id=\"T_4bebe_row4_col20\" class=\"data row4 col20\" >no</td>\n            </tr>\n    </tbody></table>"
     },
     "execution_count": 74,
     "metadata": {},
     "output_type": "execute_result"
    }
   ],
   "source": [
    "import numpy as np\n",
    "import pandas as pd\n",
    "\n",
    "data = pd.read_csv(\"./data/2_train.csv\", sep=';', index_col='id')\n",
    "test = pd.read_csv(\"./data/2_test.csv\", sep=';', index_col = 'id')\n",
    "\n",
    "data_all = pd.concat([data, test], axis=0)\n",
    "# 将非法值替换成空值\n",
    "for x in ['-', '.', '?', 'nonexistent']:\n",
    "    data_all.replace(x, np.nan, inplace=True)\n",
    "data_all.head(5).style"
   ]
  },
  {
   "cell_type": "code",
   "execution_count": 75,
   "outputs": [
    {
     "data": {
      "text/plain": "Index(['age', 'job', 'marital', 'education', 'default', 'housing', 'loan',\n       'contact', 'month', 'day_of_week', 'duration', 'campaign', 'pdays',\n       'previous', 'poutcome', 'emp.var.rate', 'cons.price.idx',\n       'cons.conf.idx', 'euribor3m', 'nr.employed', 'y'],\n      dtype='object')"
     },
     "execution_count": 75,
     "metadata": {},
     "output_type": "execute_result"
    }
   ],
   "source": [
    "data_all.columns"
   ],
   "metadata": {
    "collapsed": false,
    "pycharm": {
     "name": "#%%\n"
    }
   }
  },
  {
   "cell_type": "code",
   "execution_count": 76,
   "outputs": [],
   "source": [
    "def column_mapping_str(X, col_name='', prefix_name='', data_name='X', begin_idx=0):\n",
    "    \"\"\"\n",
    "    根据指定列的值，生成mapping字符串\n",
    "    \"\"\"\n",
    "    col_value_counts = X[col_name].value_counts()\n",
    "    print(\"------------%s每个项的分布--------------\" % col_name)\n",
    "    print(col_value_counts)\n",
    "    print(\"--------------------------------------\")\n",
    "    label_str = \"\"\n",
    "    for idx, key in enumerate(col_value_counts.keys()):\n",
    "        label_str = \"\".join([label_str, \"'\", str(key), \"'\", \": \", str(idx + begin_idx), \", \"])\n",
    "    label_str = label_str[0:-2]\n",
    "    print(\"mapping_%s = {%s}\" % (prefix_name, label_str))\n",
    "    print(\"%s['%s_out'] = %s['%s'].map(mapping_%s).fillna(-99).astype(int)\" % (data_name,  col_name, data_name, col_name, prefix_name))\n",
    "    print(\"%s_%s = pd.get_dummies(%s['%s_out'], prefix='%s', drop_first=True)\" % (data_name,  prefix_name, data_name,col_name, prefix_name))\n",
    "    print(\"%s = pd.concat([%s, pd.DataFrame(%s_%s, index=%s.index)], axis=1)\" % (data_name,  data_name, data_name,prefix_name, data_name))\n",
    "    print(\"%s = %s.drop(labels='%s', axis=1)\" % (data_name, data_name, col_name))\n",
    "    print(\"--------------------------------------\")"
   ],
   "metadata": {
    "collapsed": false,
    "pycharm": {
     "name": "#%%\n"
    }
   }
  },
  {
   "cell_type": "code",
   "execution_count": 77,
   "outputs": [
    {
     "data": {
      "text/plain": "id\n1        0.75\n2        1.00\n3        0.75\n4        1.00\n5        1.00\n         ... \n54114    0.75\n54115    0.50\n54116    1.00\n54117    0.25\n54118    0.75\nName: info_rate, Length: 45307, dtype: float64"
     },
     "execution_count": 77,
     "metadata": {},
     "output_type": "execute_result"
    }
   ],
   "source": [
    "data_all['info_rate'] = (4 - data_all[['age', 'job', 'marital', 'education']].isnull().sum(axis=1)) * 1.0 / 4\n",
    "data_all['info_rate']"
   ],
   "metadata": {
    "collapsed": false,
    "pycharm": {
     "name": "#%%\n"
    }
   }
  },
  {
   "cell_type": "code",
   "execution_count": 78,
   "outputs": [
    {
     "name": "stdout",
     "output_type": "stream",
     "text": [
      "------------job每个项的分布--------------\n",
      "admin.           8570\n",
      "blue-collar      7607\n",
      "technician       5521\n",
      "services         3315\n",
      "management       2446\n",
      "retired          1432\n",
      "self-employed    1198\n",
      "entrepreneur     1193\n",
      "housemaid         849\n",
      "unemployed        848\n",
      "student           718\n",
      "Name: job, dtype: int64\n",
      "--------------------------------------\n",
      "mapping_job = {'admin.': 0, 'blue-collar': 1, 'technician': 2, 'services': 3, 'management': 4, 'retired': 5, 'self-employed': 6, 'entrepreneur': 7, 'housemaid': 8, 'unemployed': 9, 'student': 10}\n",
      "data_all['job_out'] = data_all['job'].map(mapping_job).fillna(-99).astype(int)\n",
      "data_all_job = pd.get_dummies(data_all['job_out'], prefix='job', drop_first=True)\n",
      "data_all = pd.concat([data_all, pd.DataFrame(data_all_job, index=data_all.index)], axis=1)\n",
      "data_all = data_all.drop(labels='job', axis=1)\n",
      "--------------------------------------\n"
     ]
    },
    {
     "data": {
      "text/plain": "       age        job  marital    education default housing loan    contact  \\\nid                                                                            \n1      NaN  housemaid  married     basic.4y     NaN      no  NaN  telephone   \n2       57   services  married  high.school     NaN      no   no  telephone   \n3       37   services      NaN  high.school      no     NaN   no  telephone   \n4       40     admin.  married     basic.6y      no      no   no  telephone   \n5       56   services  married  high.school      no      no  yes        NaN   \n...    ...        ...      ...          ...     ...     ...  ...        ...   \n54114   30     admin.      NaN     basic.6y      no     yes  yes   cellular   \n54115   39     admin.      NaN          NaN      no     yes   no        NaN   \n54116   27    student   single  high.school      no     NaN   no        NaN   \n54117  NaN     admin.      NaN          NaN      no      no  NaN   cellular   \n54118   34        NaN   single  high.school      no     yes   no   cellular   \n\n      month day_of_week  ... poutcome emp.var.rate cons.price.idx  \\\nid                       ...                                        \n1       may         NaN  ...      NaN          1.1         93.994   \n2       may         NaN  ...      NaN          1.1         93.994   \n3       may         NaN  ...      NaN          1.1         93.994   \n4       may         mon  ...      NaN          1.1         93.994   \n5       may         mon  ...      NaN          1.1         93.994   \n...     ...         ...  ...      ...          ...            ...   \n54114   jul         thu  ...      NaN          1.4         93.918   \n54115   jul         NaN  ...      NaN          1.4         93.918   \n54116   NaN         mon  ...  failure         -1.8         92.893   \n54117   aug         fri  ...      NaN          1.4         93.444   \n54118   nov         NaN  ...      NaN         -0.1         93.200   \n\n      cons.conf.idx euribor3m  nr.employed         y  info_rate  job_1  job_3  \nid                                                                             \n1             -36.4     4.857       5191.0        no       0.75      0      0  \n2             -36.4     4.857       5191.0        no       1.00      1      0  \n3             -36.4     4.857       5191.0        no       0.75      1      0  \n4             -36.4     4.857       5191.0        no       1.00      0      1  \n5             -36.4     4.857       5191.0        no       1.00      1      0  \n...             ...       ...          ...       ...        ...    ...    ...  \n54114         -42.7     4.958       5228.1  Withheld       0.75      0      1  \n54115         -42.7     4.959       5228.1  Withheld       0.50      0      1  \n54116         -46.2     1.354       5099.1  Withheld       1.00      0      0  \n54117         -36.1     4.966       5228.1  Withheld       0.25      0      1  \n54118         -42.0     4.120       5195.8  Withheld       0.75      0      0  \n\n[45307 rows x 24 columns]",
      "text/html": "<div>\n<style scoped>\n    .dataframe tbody tr th:only-of-type {\n        vertical-align: middle;\n    }\n\n    .dataframe tbody tr th {\n        vertical-align: top;\n    }\n\n    .dataframe thead th {\n        text-align: right;\n    }\n</style>\n<table border=\"1\" class=\"dataframe\">\n  <thead>\n    <tr style=\"text-align: right;\">\n      <th></th>\n      <th>age</th>\n      <th>job</th>\n      <th>marital</th>\n      <th>education</th>\n      <th>default</th>\n      <th>housing</th>\n      <th>loan</th>\n      <th>contact</th>\n      <th>month</th>\n      <th>day_of_week</th>\n      <th>...</th>\n      <th>poutcome</th>\n      <th>emp.var.rate</th>\n      <th>cons.price.idx</th>\n      <th>cons.conf.idx</th>\n      <th>euribor3m</th>\n      <th>nr.employed</th>\n      <th>y</th>\n      <th>info_rate</th>\n      <th>job_1</th>\n      <th>job_3</th>\n    </tr>\n    <tr>\n      <th>id</th>\n      <th></th>\n      <th></th>\n      <th></th>\n      <th></th>\n      <th></th>\n      <th></th>\n      <th></th>\n      <th></th>\n      <th></th>\n      <th></th>\n      <th></th>\n      <th></th>\n      <th></th>\n      <th></th>\n      <th></th>\n      <th></th>\n      <th></th>\n      <th></th>\n      <th></th>\n      <th></th>\n      <th></th>\n    </tr>\n  </thead>\n  <tbody>\n    <tr>\n      <th>1</th>\n      <td>NaN</td>\n      <td>housemaid</td>\n      <td>married</td>\n      <td>basic.4y</td>\n      <td>NaN</td>\n      <td>no</td>\n      <td>NaN</td>\n      <td>telephone</td>\n      <td>may</td>\n      <td>NaN</td>\n      <td>...</td>\n      <td>NaN</td>\n      <td>1.1</td>\n      <td>93.994</td>\n      <td>-36.4</td>\n      <td>4.857</td>\n      <td>5191.0</td>\n      <td>no</td>\n      <td>0.75</td>\n      <td>0</td>\n      <td>0</td>\n    </tr>\n    <tr>\n      <th>2</th>\n      <td>57</td>\n      <td>services</td>\n      <td>married</td>\n      <td>high.school</td>\n      <td>NaN</td>\n      <td>no</td>\n      <td>no</td>\n      <td>telephone</td>\n      <td>may</td>\n      <td>NaN</td>\n      <td>...</td>\n      <td>NaN</td>\n      <td>1.1</td>\n      <td>93.994</td>\n      <td>-36.4</td>\n      <td>4.857</td>\n      <td>5191.0</td>\n      <td>no</td>\n      <td>1.00</td>\n      <td>1</td>\n      <td>0</td>\n    </tr>\n    <tr>\n      <th>3</th>\n      <td>37</td>\n      <td>services</td>\n      <td>NaN</td>\n      <td>high.school</td>\n      <td>no</td>\n      <td>NaN</td>\n      <td>no</td>\n      <td>telephone</td>\n      <td>may</td>\n      <td>NaN</td>\n      <td>...</td>\n      <td>NaN</td>\n      <td>1.1</td>\n      <td>93.994</td>\n      <td>-36.4</td>\n      <td>4.857</td>\n      <td>5191.0</td>\n      <td>no</td>\n      <td>0.75</td>\n      <td>1</td>\n      <td>0</td>\n    </tr>\n    <tr>\n      <th>4</th>\n      <td>40</td>\n      <td>admin.</td>\n      <td>married</td>\n      <td>basic.6y</td>\n      <td>no</td>\n      <td>no</td>\n      <td>no</td>\n      <td>telephone</td>\n      <td>may</td>\n      <td>mon</td>\n      <td>...</td>\n      <td>NaN</td>\n      <td>1.1</td>\n      <td>93.994</td>\n      <td>-36.4</td>\n      <td>4.857</td>\n      <td>5191.0</td>\n      <td>no</td>\n      <td>1.00</td>\n      <td>0</td>\n      <td>1</td>\n    </tr>\n    <tr>\n      <th>5</th>\n      <td>56</td>\n      <td>services</td>\n      <td>married</td>\n      <td>high.school</td>\n      <td>no</td>\n      <td>no</td>\n      <td>yes</td>\n      <td>NaN</td>\n      <td>may</td>\n      <td>mon</td>\n      <td>...</td>\n      <td>NaN</td>\n      <td>1.1</td>\n      <td>93.994</td>\n      <td>-36.4</td>\n      <td>4.857</td>\n      <td>5191.0</td>\n      <td>no</td>\n      <td>1.00</td>\n      <td>1</td>\n      <td>0</td>\n    </tr>\n    <tr>\n      <th>...</th>\n      <td>...</td>\n      <td>...</td>\n      <td>...</td>\n      <td>...</td>\n      <td>...</td>\n      <td>...</td>\n      <td>...</td>\n      <td>...</td>\n      <td>...</td>\n      <td>...</td>\n      <td>...</td>\n      <td>...</td>\n      <td>...</td>\n      <td>...</td>\n      <td>...</td>\n      <td>...</td>\n      <td>...</td>\n      <td>...</td>\n      <td>...</td>\n      <td>...</td>\n      <td>...</td>\n    </tr>\n    <tr>\n      <th>54114</th>\n      <td>30</td>\n      <td>admin.</td>\n      <td>NaN</td>\n      <td>basic.6y</td>\n      <td>no</td>\n      <td>yes</td>\n      <td>yes</td>\n      <td>cellular</td>\n      <td>jul</td>\n      <td>thu</td>\n      <td>...</td>\n      <td>NaN</td>\n      <td>1.4</td>\n      <td>93.918</td>\n      <td>-42.7</td>\n      <td>4.958</td>\n      <td>5228.1</td>\n      <td>Withheld</td>\n      <td>0.75</td>\n      <td>0</td>\n      <td>1</td>\n    </tr>\n    <tr>\n      <th>54115</th>\n      <td>39</td>\n      <td>admin.</td>\n      <td>NaN</td>\n      <td>NaN</td>\n      <td>no</td>\n      <td>yes</td>\n      <td>no</td>\n      <td>NaN</td>\n      <td>jul</td>\n      <td>NaN</td>\n      <td>...</td>\n      <td>NaN</td>\n      <td>1.4</td>\n      <td>93.918</td>\n      <td>-42.7</td>\n      <td>4.959</td>\n      <td>5228.1</td>\n      <td>Withheld</td>\n      <td>0.50</td>\n      <td>0</td>\n      <td>1</td>\n    </tr>\n    <tr>\n      <th>54116</th>\n      <td>27</td>\n      <td>student</td>\n      <td>single</td>\n      <td>high.school</td>\n      <td>no</td>\n      <td>NaN</td>\n      <td>no</td>\n      <td>NaN</td>\n      <td>NaN</td>\n      <td>mon</td>\n      <td>...</td>\n      <td>failure</td>\n      <td>-1.8</td>\n      <td>92.893</td>\n      <td>-46.2</td>\n      <td>1.354</td>\n      <td>5099.1</td>\n      <td>Withheld</td>\n      <td>1.00</td>\n      <td>0</td>\n      <td>0</td>\n    </tr>\n    <tr>\n      <th>54117</th>\n      <td>NaN</td>\n      <td>admin.</td>\n      <td>NaN</td>\n      <td>NaN</td>\n      <td>no</td>\n      <td>no</td>\n      <td>NaN</td>\n      <td>cellular</td>\n      <td>aug</td>\n      <td>fri</td>\n      <td>...</td>\n      <td>NaN</td>\n      <td>1.4</td>\n      <td>93.444</td>\n      <td>-36.1</td>\n      <td>4.966</td>\n      <td>5228.1</td>\n      <td>Withheld</td>\n      <td>0.25</td>\n      <td>0</td>\n      <td>1</td>\n    </tr>\n    <tr>\n      <th>54118</th>\n      <td>34</td>\n      <td>NaN</td>\n      <td>single</td>\n      <td>high.school</td>\n      <td>no</td>\n      <td>yes</td>\n      <td>no</td>\n      <td>cellular</td>\n      <td>nov</td>\n      <td>NaN</td>\n      <td>...</td>\n      <td>NaN</td>\n      <td>-0.1</td>\n      <td>93.200</td>\n      <td>-42.0</td>\n      <td>4.120</td>\n      <td>5195.8</td>\n      <td>Withheld</td>\n      <td>0.75</td>\n      <td>0</td>\n      <td>0</td>\n    </tr>\n  </tbody>\n</table>\n<p>45307 rows × 24 columns</p>\n</div>"
     },
     "execution_count": 78,
     "metadata": {},
     "output_type": "execute_result"
    }
   ],
   "source": [
    "column_mapping_str(data_all, col_name='job', prefix_name='job', data_name='data_all')\n",
    "mapping_job = {'admin.': 3, 'blue-collar': 1, 'technician': 1, 'services': 1, 'management': 3,\n",
    "               'retired': 0, 'self-employed': 1, 'entrepreneur': 3, 'housemaid':0, 'unemployed': 0, 'student': 0}\n",
    "data_all['job_out'] = data_all['job'].map(mapping_job).fillna(0).astype(int)\n",
    "data_all_job = pd.get_dummies(data_all['job_out'], prefix='job', drop_first=True)\n",
    "data_all = pd.concat([data_all, pd.DataFrame(data_all_job, index=data_all.index)], axis=1)\n",
    "data_all.drop(labels=['job_out'], inplace=True, axis=1)\n",
    "data_all"
   ],
   "metadata": {
    "collapsed": false,
    "pycharm": {
     "name": "#%%\n"
    }
   }
  },
  {
   "cell_type": "code",
   "execution_count": 79,
   "outputs": [
    {
     "name": "stdout",
     "output_type": "stream",
     "text": [
      "------------marital每个项的分布--------------\n",
      "married     20704\n",
      "single       9625\n",
      "divorced     3783\n",
      "Name: marital, dtype: int64\n",
      "--------------------------------------\n",
      "mapping_marital = {'married': 0, 'single': 1, 'divorced': 2}\n",
      "data_all['marital_out'] = data_all['marital'].map(mapping_marital).fillna(-99).astype(int)\n",
      "data_all_marital = pd.get_dummies(data_all['marital_out'], prefix='marital', drop_first=True)\n",
      "data_all = pd.concat([data_all, pd.DataFrame(data_all_marital, index=data_all.index)], axis=1)\n",
      "data_all = data_all.drop(labels='marital', axis=1)\n",
      "--------------------------------------\n"
     ]
    },
    {
     "data": {
      "text/plain": "       age        job  marital    education default housing loan    contact  \\\nid                                                                            \n1      NaN  housemaid  married     basic.4y     NaN      no  NaN  telephone   \n2       57   services  married  high.school     NaN      no   no  telephone   \n3       37   services      NaN  high.school      no     NaN   no  telephone   \n4       40     admin.  married     basic.6y      no      no   no  telephone   \n5       56   services  married  high.school      no      no  yes        NaN   \n...    ...        ...      ...          ...     ...     ...  ...        ...   \n54114   30     admin.      NaN     basic.6y      no     yes  yes   cellular   \n54115   39     admin.      NaN          NaN      no     yes   no        NaN   \n54116   27    student   single  high.school      no     NaN   no        NaN   \n54117  NaN     admin.      NaN          NaN      no      no  NaN   cellular   \n54118   34        NaN   single  high.school      no     yes   no   cellular   \n\n      month day_of_week  ... emp.var.rate cons.price.idx cons.conf.idx  \\\nid                       ...                                             \n1       may         NaN  ...          1.1         93.994         -36.4   \n2       may         NaN  ...          1.1         93.994         -36.4   \n3       may         NaN  ...          1.1         93.994         -36.4   \n4       may         mon  ...          1.1         93.994         -36.4   \n5       may         mon  ...          1.1         93.994         -36.4   \n...     ...         ...  ...          ...            ...           ...   \n54114   jul         thu  ...          1.4         93.918         -42.7   \n54115   jul         NaN  ...          1.4         93.918         -42.7   \n54116   NaN         mon  ...         -1.8         92.893         -46.2   \n54117   aug         fri  ...          1.4         93.444         -36.1   \n54118   nov         NaN  ...         -0.1         93.200         -42.0   \n\n      euribor3m nr.employed         y  info_rate  job_1  job_3  marital_out  \nid                                                                           \n1         4.857      5191.0        no       0.75      0      0            1  \n2         4.857      5191.0        no       1.00      1      0            1  \n3         4.857      5191.0        no       0.75      1      0            0  \n4         4.857      5191.0        no       1.00      0      1            1  \n5         4.857      5191.0        no       1.00      1      0            1  \n...         ...         ...       ...        ...    ...    ...          ...  \n54114     4.958      5228.1  Withheld       0.75      0      1            0  \n54115     4.959      5228.1  Withheld       0.50      0      1            0  \n54116     1.354      5099.1  Withheld       1.00      0      0            0  \n54117     4.966      5228.1  Withheld       0.25      0      1            0  \n54118     4.120      5195.8  Withheld       0.75      0      0            0  \n\n[45307 rows x 25 columns]",
      "text/html": "<div>\n<style scoped>\n    .dataframe tbody tr th:only-of-type {\n        vertical-align: middle;\n    }\n\n    .dataframe tbody tr th {\n        vertical-align: top;\n    }\n\n    .dataframe thead th {\n        text-align: right;\n    }\n</style>\n<table border=\"1\" class=\"dataframe\">\n  <thead>\n    <tr style=\"text-align: right;\">\n      <th></th>\n      <th>age</th>\n      <th>job</th>\n      <th>marital</th>\n      <th>education</th>\n      <th>default</th>\n      <th>housing</th>\n      <th>loan</th>\n      <th>contact</th>\n      <th>month</th>\n      <th>day_of_week</th>\n      <th>...</th>\n      <th>emp.var.rate</th>\n      <th>cons.price.idx</th>\n      <th>cons.conf.idx</th>\n      <th>euribor3m</th>\n      <th>nr.employed</th>\n      <th>y</th>\n      <th>info_rate</th>\n      <th>job_1</th>\n      <th>job_3</th>\n      <th>marital_out</th>\n    </tr>\n    <tr>\n      <th>id</th>\n      <th></th>\n      <th></th>\n      <th></th>\n      <th></th>\n      <th></th>\n      <th></th>\n      <th></th>\n      <th></th>\n      <th></th>\n      <th></th>\n      <th></th>\n      <th></th>\n      <th></th>\n      <th></th>\n      <th></th>\n      <th></th>\n      <th></th>\n      <th></th>\n      <th></th>\n      <th></th>\n      <th></th>\n    </tr>\n  </thead>\n  <tbody>\n    <tr>\n      <th>1</th>\n      <td>NaN</td>\n      <td>housemaid</td>\n      <td>married</td>\n      <td>basic.4y</td>\n      <td>NaN</td>\n      <td>no</td>\n      <td>NaN</td>\n      <td>telephone</td>\n      <td>may</td>\n      <td>NaN</td>\n      <td>...</td>\n      <td>1.1</td>\n      <td>93.994</td>\n      <td>-36.4</td>\n      <td>4.857</td>\n      <td>5191.0</td>\n      <td>no</td>\n      <td>0.75</td>\n      <td>0</td>\n      <td>0</td>\n      <td>1</td>\n    </tr>\n    <tr>\n      <th>2</th>\n      <td>57</td>\n      <td>services</td>\n      <td>married</td>\n      <td>high.school</td>\n      <td>NaN</td>\n      <td>no</td>\n      <td>no</td>\n      <td>telephone</td>\n      <td>may</td>\n      <td>NaN</td>\n      <td>...</td>\n      <td>1.1</td>\n      <td>93.994</td>\n      <td>-36.4</td>\n      <td>4.857</td>\n      <td>5191.0</td>\n      <td>no</td>\n      <td>1.00</td>\n      <td>1</td>\n      <td>0</td>\n      <td>1</td>\n    </tr>\n    <tr>\n      <th>3</th>\n      <td>37</td>\n      <td>services</td>\n      <td>NaN</td>\n      <td>high.school</td>\n      <td>no</td>\n      <td>NaN</td>\n      <td>no</td>\n      <td>telephone</td>\n      <td>may</td>\n      <td>NaN</td>\n      <td>...</td>\n      <td>1.1</td>\n      <td>93.994</td>\n      <td>-36.4</td>\n      <td>4.857</td>\n      <td>5191.0</td>\n      <td>no</td>\n      <td>0.75</td>\n      <td>1</td>\n      <td>0</td>\n      <td>0</td>\n    </tr>\n    <tr>\n      <th>4</th>\n      <td>40</td>\n      <td>admin.</td>\n      <td>married</td>\n      <td>basic.6y</td>\n      <td>no</td>\n      <td>no</td>\n      <td>no</td>\n      <td>telephone</td>\n      <td>may</td>\n      <td>mon</td>\n      <td>...</td>\n      <td>1.1</td>\n      <td>93.994</td>\n      <td>-36.4</td>\n      <td>4.857</td>\n      <td>5191.0</td>\n      <td>no</td>\n      <td>1.00</td>\n      <td>0</td>\n      <td>1</td>\n      <td>1</td>\n    </tr>\n    <tr>\n      <th>5</th>\n      <td>56</td>\n      <td>services</td>\n      <td>married</td>\n      <td>high.school</td>\n      <td>no</td>\n      <td>no</td>\n      <td>yes</td>\n      <td>NaN</td>\n      <td>may</td>\n      <td>mon</td>\n      <td>...</td>\n      <td>1.1</td>\n      <td>93.994</td>\n      <td>-36.4</td>\n      <td>4.857</td>\n      <td>5191.0</td>\n      <td>no</td>\n      <td>1.00</td>\n      <td>1</td>\n      <td>0</td>\n      <td>1</td>\n    </tr>\n    <tr>\n      <th>...</th>\n      <td>...</td>\n      <td>...</td>\n      <td>...</td>\n      <td>...</td>\n      <td>...</td>\n      <td>...</td>\n      <td>...</td>\n      <td>...</td>\n      <td>...</td>\n      <td>...</td>\n      <td>...</td>\n      <td>...</td>\n      <td>...</td>\n      <td>...</td>\n      <td>...</td>\n      <td>...</td>\n      <td>...</td>\n      <td>...</td>\n      <td>...</td>\n      <td>...</td>\n      <td>...</td>\n    </tr>\n    <tr>\n      <th>54114</th>\n      <td>30</td>\n      <td>admin.</td>\n      <td>NaN</td>\n      <td>basic.6y</td>\n      <td>no</td>\n      <td>yes</td>\n      <td>yes</td>\n      <td>cellular</td>\n      <td>jul</td>\n      <td>thu</td>\n      <td>...</td>\n      <td>1.4</td>\n      <td>93.918</td>\n      <td>-42.7</td>\n      <td>4.958</td>\n      <td>5228.1</td>\n      <td>Withheld</td>\n      <td>0.75</td>\n      <td>0</td>\n      <td>1</td>\n      <td>0</td>\n    </tr>\n    <tr>\n      <th>54115</th>\n      <td>39</td>\n      <td>admin.</td>\n      <td>NaN</td>\n      <td>NaN</td>\n      <td>no</td>\n      <td>yes</td>\n      <td>no</td>\n      <td>NaN</td>\n      <td>jul</td>\n      <td>NaN</td>\n      <td>...</td>\n      <td>1.4</td>\n      <td>93.918</td>\n      <td>-42.7</td>\n      <td>4.959</td>\n      <td>5228.1</td>\n      <td>Withheld</td>\n      <td>0.50</td>\n      <td>0</td>\n      <td>1</td>\n      <td>0</td>\n    </tr>\n    <tr>\n      <th>54116</th>\n      <td>27</td>\n      <td>student</td>\n      <td>single</td>\n      <td>high.school</td>\n      <td>no</td>\n      <td>NaN</td>\n      <td>no</td>\n      <td>NaN</td>\n      <td>NaN</td>\n      <td>mon</td>\n      <td>...</td>\n      <td>-1.8</td>\n      <td>92.893</td>\n      <td>-46.2</td>\n      <td>1.354</td>\n      <td>5099.1</td>\n      <td>Withheld</td>\n      <td>1.00</td>\n      <td>0</td>\n      <td>0</td>\n      <td>0</td>\n    </tr>\n    <tr>\n      <th>54117</th>\n      <td>NaN</td>\n      <td>admin.</td>\n      <td>NaN</td>\n      <td>NaN</td>\n      <td>no</td>\n      <td>no</td>\n      <td>NaN</td>\n      <td>cellular</td>\n      <td>aug</td>\n      <td>fri</td>\n      <td>...</td>\n      <td>1.4</td>\n      <td>93.444</td>\n      <td>-36.1</td>\n      <td>4.966</td>\n      <td>5228.1</td>\n      <td>Withheld</td>\n      <td>0.25</td>\n      <td>0</td>\n      <td>1</td>\n      <td>0</td>\n    </tr>\n    <tr>\n      <th>54118</th>\n      <td>34</td>\n      <td>NaN</td>\n      <td>single</td>\n      <td>high.school</td>\n      <td>no</td>\n      <td>yes</td>\n      <td>no</td>\n      <td>cellular</td>\n      <td>nov</td>\n      <td>NaN</td>\n      <td>...</td>\n      <td>-0.1</td>\n      <td>93.200</td>\n      <td>-42.0</td>\n      <td>4.120</td>\n      <td>5195.8</td>\n      <td>Withheld</td>\n      <td>0.75</td>\n      <td>0</td>\n      <td>0</td>\n      <td>0</td>\n    </tr>\n  </tbody>\n</table>\n<p>45307 rows × 25 columns</p>\n</div>"
     },
     "execution_count": 79,
     "metadata": {},
     "output_type": "execute_result"
    }
   ],
   "source": [
    "column_mapping_str(data_all, col_name='marital', prefix_name='marital', data_name='data_all')\n",
    "mapping_marital = {'married': 1, 'single': 0, 'divorced': 0}\n",
    "data_all['marital_out'] = data_all['marital'].map(mapping_marital).fillna(0).astype(int)\n",
    "data_all"
   ],
   "metadata": {
    "collapsed": false,
    "pycharm": {
     "name": "#%%\n"
    }
   }
  },
  {
   "cell_type": "code",
   "execution_count": 80,
   "outputs": [
    {
     "name": "stdout",
     "output_type": "stream",
     "text": [
      "------------education每个项的分布--------------\n",
      "university.degree      10034\n",
      "high.school             7884\n",
      "basic.9y                4964\n",
      "professional.course     4344\n",
      "basic.4y                3411\n",
      "basic.6y                1882\n",
      "illiterate                16\n",
      "Name: education, dtype: int64\n",
      "--------------------------------------\n",
      "mapping_education = {'university.degree': 0, 'high.school': 1, 'basic.9y': 2, 'professional.course': 3, 'basic.4y': 4, 'basic.6y': 5, 'illiterate': 6}\n",
      "data_all['education_out'] = data_all['education'].map(mapping_education).fillna(-99).astype(int)\n",
      "data_all_education = pd.get_dummies(data_all['education_out'], prefix='education', drop_first=True)\n",
      "data_all = pd.concat([data_all, pd.DataFrame(data_all_education, index=data_all.index)], axis=1)\n",
      "data_all = data_all.drop(labels='education', axis=1)\n",
      "--------------------------------------\n"
     ]
    },
    {
     "data": {
      "text/plain": "       age        job  marital    education default housing loan    contact  \\\nid                                                                            \n1      NaN  housemaid  married     basic.4y     NaN      no  NaN  telephone   \n2       57   services  married  high.school     NaN      no   no  telephone   \n3       37   services      NaN  high.school      no     NaN   no  telephone   \n4       40     admin.  married     basic.6y      no      no   no  telephone   \n5       56   services  married  high.school      no      no  yes        NaN   \n...    ...        ...      ...          ...     ...     ...  ...        ...   \n54114   30     admin.      NaN     basic.6y      no     yes  yes   cellular   \n54115   39     admin.      NaN          NaN      no     yes   no        NaN   \n54116   27    student   single  high.school      no     NaN   no        NaN   \n54117  NaN     admin.      NaN          NaN      no      no  NaN   cellular   \n54118   34        NaN   single  high.school      no     yes   no   cellular   \n\n      month day_of_week  ... euribor3m nr.employed         y info_rate job_1  \\\nid                       ...                                                   \n1       may         NaN  ...     4.857      5191.0        no      0.75     0   \n2       may         NaN  ...     4.857      5191.0        no      1.00     1   \n3       may         NaN  ...     4.857      5191.0        no      0.75     1   \n4       may         mon  ...     4.857      5191.0        no      1.00     0   \n5       may         mon  ...     4.857      5191.0        no      1.00     1   \n...     ...         ...  ...       ...         ...       ...       ...   ...   \n54114   jul         thu  ...     4.958      5228.1  Withheld      0.75     0   \n54115   jul         NaN  ...     4.959      5228.1  Withheld      0.50     0   \n54116   NaN         mon  ...     1.354      5099.1  Withheld      1.00     0   \n54117   aug         fri  ...     4.966      5228.1  Withheld      0.25     0   \n54118   nov         NaN  ...     4.120      5195.8  Withheld      0.75     0   \n\n       job_3  marital_out  education_1  education_2  education_3  \nid                                                                \n1          0            1            0            0            0  \n2          0            1            1            0            0  \n3          0            0            1            0            0  \n4          1            1            0            0            0  \n5          0            1            1            0            0  \n...      ...          ...          ...          ...          ...  \n54114      1            0            0            0            0  \n54115      1            0            1            0            0  \n54116      0            0            1            0            0  \n54117      1            0            1            0            0  \n54118      0            0            1            0            0  \n\n[45307 rows x 28 columns]",
      "text/html": "<div>\n<style scoped>\n    .dataframe tbody tr th:only-of-type {\n        vertical-align: middle;\n    }\n\n    .dataframe tbody tr th {\n        vertical-align: top;\n    }\n\n    .dataframe thead th {\n        text-align: right;\n    }\n</style>\n<table border=\"1\" class=\"dataframe\">\n  <thead>\n    <tr style=\"text-align: right;\">\n      <th></th>\n      <th>age</th>\n      <th>job</th>\n      <th>marital</th>\n      <th>education</th>\n      <th>default</th>\n      <th>housing</th>\n      <th>loan</th>\n      <th>contact</th>\n      <th>month</th>\n      <th>day_of_week</th>\n      <th>...</th>\n      <th>euribor3m</th>\n      <th>nr.employed</th>\n      <th>y</th>\n      <th>info_rate</th>\n      <th>job_1</th>\n      <th>job_3</th>\n      <th>marital_out</th>\n      <th>education_1</th>\n      <th>education_2</th>\n      <th>education_3</th>\n    </tr>\n    <tr>\n      <th>id</th>\n      <th></th>\n      <th></th>\n      <th></th>\n      <th></th>\n      <th></th>\n      <th></th>\n      <th></th>\n      <th></th>\n      <th></th>\n      <th></th>\n      <th></th>\n      <th></th>\n      <th></th>\n      <th></th>\n      <th></th>\n      <th></th>\n      <th></th>\n      <th></th>\n      <th></th>\n      <th></th>\n      <th></th>\n    </tr>\n  </thead>\n  <tbody>\n    <tr>\n      <th>1</th>\n      <td>NaN</td>\n      <td>housemaid</td>\n      <td>married</td>\n      <td>basic.4y</td>\n      <td>NaN</td>\n      <td>no</td>\n      <td>NaN</td>\n      <td>telephone</td>\n      <td>may</td>\n      <td>NaN</td>\n      <td>...</td>\n      <td>4.857</td>\n      <td>5191.0</td>\n      <td>no</td>\n      <td>0.75</td>\n      <td>0</td>\n      <td>0</td>\n      <td>1</td>\n      <td>0</td>\n      <td>0</td>\n      <td>0</td>\n    </tr>\n    <tr>\n      <th>2</th>\n      <td>57</td>\n      <td>services</td>\n      <td>married</td>\n      <td>high.school</td>\n      <td>NaN</td>\n      <td>no</td>\n      <td>no</td>\n      <td>telephone</td>\n      <td>may</td>\n      <td>NaN</td>\n      <td>...</td>\n      <td>4.857</td>\n      <td>5191.0</td>\n      <td>no</td>\n      <td>1.00</td>\n      <td>1</td>\n      <td>0</td>\n      <td>1</td>\n      <td>1</td>\n      <td>0</td>\n      <td>0</td>\n    </tr>\n    <tr>\n      <th>3</th>\n      <td>37</td>\n      <td>services</td>\n      <td>NaN</td>\n      <td>high.school</td>\n      <td>no</td>\n      <td>NaN</td>\n      <td>no</td>\n      <td>telephone</td>\n      <td>may</td>\n      <td>NaN</td>\n      <td>...</td>\n      <td>4.857</td>\n      <td>5191.0</td>\n      <td>no</td>\n      <td>0.75</td>\n      <td>1</td>\n      <td>0</td>\n      <td>0</td>\n      <td>1</td>\n      <td>0</td>\n      <td>0</td>\n    </tr>\n    <tr>\n      <th>4</th>\n      <td>40</td>\n      <td>admin.</td>\n      <td>married</td>\n      <td>basic.6y</td>\n      <td>no</td>\n      <td>no</td>\n      <td>no</td>\n      <td>telephone</td>\n      <td>may</td>\n      <td>mon</td>\n      <td>...</td>\n      <td>4.857</td>\n      <td>5191.0</td>\n      <td>no</td>\n      <td>1.00</td>\n      <td>0</td>\n      <td>1</td>\n      <td>1</td>\n      <td>0</td>\n      <td>0</td>\n      <td>0</td>\n    </tr>\n    <tr>\n      <th>5</th>\n      <td>56</td>\n      <td>services</td>\n      <td>married</td>\n      <td>high.school</td>\n      <td>no</td>\n      <td>no</td>\n      <td>yes</td>\n      <td>NaN</td>\n      <td>may</td>\n      <td>mon</td>\n      <td>...</td>\n      <td>4.857</td>\n      <td>5191.0</td>\n      <td>no</td>\n      <td>1.00</td>\n      <td>1</td>\n      <td>0</td>\n      <td>1</td>\n      <td>1</td>\n      <td>0</td>\n      <td>0</td>\n    </tr>\n    <tr>\n      <th>...</th>\n      <td>...</td>\n      <td>...</td>\n      <td>...</td>\n      <td>...</td>\n      <td>...</td>\n      <td>...</td>\n      <td>...</td>\n      <td>...</td>\n      <td>...</td>\n      <td>...</td>\n      <td>...</td>\n      <td>...</td>\n      <td>...</td>\n      <td>...</td>\n      <td>...</td>\n      <td>...</td>\n      <td>...</td>\n      <td>...</td>\n      <td>...</td>\n      <td>...</td>\n      <td>...</td>\n    </tr>\n    <tr>\n      <th>54114</th>\n      <td>30</td>\n      <td>admin.</td>\n      <td>NaN</td>\n      <td>basic.6y</td>\n      <td>no</td>\n      <td>yes</td>\n      <td>yes</td>\n      <td>cellular</td>\n      <td>jul</td>\n      <td>thu</td>\n      <td>...</td>\n      <td>4.958</td>\n      <td>5228.1</td>\n      <td>Withheld</td>\n      <td>0.75</td>\n      <td>0</td>\n      <td>1</td>\n      <td>0</td>\n      <td>0</td>\n      <td>0</td>\n      <td>0</td>\n    </tr>\n    <tr>\n      <th>54115</th>\n      <td>39</td>\n      <td>admin.</td>\n      <td>NaN</td>\n      <td>NaN</td>\n      <td>no</td>\n      <td>yes</td>\n      <td>no</td>\n      <td>NaN</td>\n      <td>jul</td>\n      <td>NaN</td>\n      <td>...</td>\n      <td>4.959</td>\n      <td>5228.1</td>\n      <td>Withheld</td>\n      <td>0.50</td>\n      <td>0</td>\n      <td>1</td>\n      <td>0</td>\n      <td>1</td>\n      <td>0</td>\n      <td>0</td>\n    </tr>\n    <tr>\n      <th>54116</th>\n      <td>27</td>\n      <td>student</td>\n      <td>single</td>\n      <td>high.school</td>\n      <td>no</td>\n      <td>NaN</td>\n      <td>no</td>\n      <td>NaN</td>\n      <td>NaN</td>\n      <td>mon</td>\n      <td>...</td>\n      <td>1.354</td>\n      <td>5099.1</td>\n      <td>Withheld</td>\n      <td>1.00</td>\n      <td>0</td>\n      <td>0</td>\n      <td>0</td>\n      <td>1</td>\n      <td>0</td>\n      <td>0</td>\n    </tr>\n    <tr>\n      <th>54117</th>\n      <td>NaN</td>\n      <td>admin.</td>\n      <td>NaN</td>\n      <td>NaN</td>\n      <td>no</td>\n      <td>no</td>\n      <td>NaN</td>\n      <td>cellular</td>\n      <td>aug</td>\n      <td>fri</td>\n      <td>...</td>\n      <td>4.966</td>\n      <td>5228.1</td>\n      <td>Withheld</td>\n      <td>0.25</td>\n      <td>0</td>\n      <td>1</td>\n      <td>0</td>\n      <td>1</td>\n      <td>0</td>\n      <td>0</td>\n    </tr>\n    <tr>\n      <th>54118</th>\n      <td>34</td>\n      <td>NaN</td>\n      <td>single</td>\n      <td>high.school</td>\n      <td>no</td>\n      <td>yes</td>\n      <td>no</td>\n      <td>cellular</td>\n      <td>nov</td>\n      <td>NaN</td>\n      <td>...</td>\n      <td>4.120</td>\n      <td>5195.8</td>\n      <td>Withheld</td>\n      <td>0.75</td>\n      <td>0</td>\n      <td>0</td>\n      <td>0</td>\n      <td>1</td>\n      <td>0</td>\n      <td>0</td>\n    </tr>\n  </tbody>\n</table>\n<p>45307 rows × 28 columns</p>\n</div>"
     },
     "execution_count": 80,
     "metadata": {},
     "output_type": "execute_result"
    }
   ],
   "source": [
    "column_mapping_str(data_all, col_name='education', prefix_name='education', data_name='data_all')\n",
    "mapping_education = {'university.degree': 2, 'high.school': 1, 'basic.9y': 0, 'professional.course': 3,\n",
    "                     'basic.4y': 0, 'basic.6y': 0, 'illiterate': 0}\n",
    "data_all['education_out'] = data_all['education'].map(mapping_education).fillna(1).astype(int)\n",
    "data_all_education = pd.get_dummies(data_all['education_out'], prefix='education', drop_first=True)\n",
    "data_all = pd.concat([data_all, pd.DataFrame(data_all_education, index=data_all.index)], axis=1)\n",
    "data_all.drop(labels=['education_out'], inplace=True, axis=1)\n",
    "data_all"
   ],
   "metadata": {
    "collapsed": false,
    "pycharm": {
     "name": "#%%\n"
    }
   }
  },
  {
   "cell_type": "code",
   "execution_count": 81,
   "outputs": [
    {
     "name": "stdout",
     "output_type": "stream",
     "text": [
      "------------default每个项的分布--------------\n",
      "no     26853\n",
      "yes        3\n",
      "Name: default, dtype: int64\n",
      "--------------------------------------\n",
      "mapping_default = {'no': 0, 'yes': 1}\n",
      "data_all['default_out'] = data_all['default'].map(mapping_default).fillna(-99).astype(int)\n",
      "data_all_default = pd.get_dummies(data_all['default_out'], prefix='default', drop_first=True)\n",
      "data_all = pd.concat([data_all, pd.DataFrame(data_all_default, index=data_all.index)], axis=1)\n",
      "data_all = data_all.drop(labels='default', axis=1)\n",
      "--------------------------------------\n"
     ]
    },
    {
     "data": {
      "text/plain": "id\n1        0\n2        0\n3        0\n4        0\n5        0\n        ..\n54114    0\n54115    0\n54116    0\n54117    0\n54118    0\nName: default_out, Length: 45307, dtype: int64"
     },
     "execution_count": 81,
     "metadata": {},
     "output_type": "execute_result"
    }
   ],
   "source": [
    "column_mapping_str(data_all, col_name='default', prefix_name='default', data_name='data_all')\n",
    "mapping_default = {'no': 0, 'yes': 1}\n",
    "data_all['default_out'] = data_all['default'].map(mapping_default).fillna(0).astype(int)\n",
    "data_all['default_out']"
   ],
   "metadata": {
    "collapsed": false,
    "pycharm": {
     "name": "#%%\n"
    }
   }
  },
  {
   "cell_type": "code",
   "execution_count": 82,
   "outputs": [
    {
     "name": "stdout",
     "output_type": "stream",
     "text": [
      "------------housing每个项的分布--------------\n",
      "yes    17840\n",
      "no     15326\n",
      "Name: housing, dtype: int64\n",
      "--------------------------------------\n",
      "mapping_housing = {'yes': 0, 'no': 1}\n",
      "data_all['housing_out'] = data_all['housing'].map(mapping_housing).fillna(-99).astype(int)\n",
      "data_all_housing = pd.get_dummies(data_all['housing_out'], prefix='housing', drop_first=True)\n",
      "data_all = pd.concat([data_all, pd.DataFrame(data_all_housing, index=data_all.index)], axis=1)\n",
      "data_all = data_all.drop(labels='housing', axis=1)\n",
      "--------------------------------------\n"
     ]
    },
    {
     "data": {
      "text/plain": "id\n1        0\n2        0\n3        0\n4        0\n5        0\n        ..\n54114    1\n54115    1\n54116    0\n54117    0\n54118    1\nName: housing_out, Length: 45307, dtype: int64"
     },
     "execution_count": 82,
     "metadata": {},
     "output_type": "execute_result"
    }
   ],
   "source": [
    "column_mapping_str(data_all, col_name='housing', prefix_name='housing', data_name='data_all')\n",
    "mapping_housing = {'yes': 1, 'no': 0}\n",
    "data_all['housing_out'] = data_all['housing'].map(mapping_housing).fillna(0).astype(int)\n",
    "data_all['housing_out']"
   ],
   "metadata": {
    "collapsed": false,
    "pycharm": {
     "name": "#%%\n"
    }
   }
  },
  {
   "cell_type": "code",
   "execution_count": 83,
   "outputs": [
    {
     "name": "stdout",
     "output_type": "stream",
     "text": [
      "------------loan每个项的分布--------------\n",
      "no     27957\n",
      "yes     5191\n",
      "Name: loan, dtype: int64\n",
      "--------------------------------------\n",
      "mapping_loan = {'no': 0, 'yes': 1}\n",
      "data_all['loan_out'] = data_all['loan'].map(mapping_loan).fillna(-99).astype(int)\n",
      "data_all_loan = pd.get_dummies(data_all['loan_out'], prefix='loan', drop_first=True)\n",
      "data_all = pd.concat([data_all, pd.DataFrame(data_all_loan, index=data_all.index)], axis=1)\n",
      "data_all = data_all.drop(labels='loan', axis=1)\n",
      "--------------------------------------\n"
     ]
    },
    {
     "data": {
      "text/plain": "id\n1        0\n2        0\n3        0\n4        0\n5        1\n        ..\n54114    1\n54115    0\n54116    0\n54117    0\n54118    0\nName: loan_out, Length: 45307, dtype: int64"
     },
     "execution_count": 83,
     "metadata": {},
     "output_type": "execute_result"
    }
   ],
   "source": [
    "column_mapping_str(data_all, col_name='loan', prefix_name='loan', data_name='data_all')\n",
    "mapping_loan = {'no': 0, 'yes': 1}\n",
    "data_all['loan_out'] = data_all['loan'].map(mapping_loan).fillna(0).astype(int)\n",
    "data_all['loan_out']"
   ],
   "metadata": {
    "collapsed": false,
    "pycharm": {
     "name": "#%%\n"
    }
   }
  },
  {
   "cell_type": "code",
   "execution_count": 84,
   "outputs": [
    {
     "name": "stdout",
     "output_type": "stream",
     "text": [
      "------------contact每个项的分布--------------\n",
      "cellular     21604\n",
      "telephone    12499\n",
      "Name: contact, dtype: int64\n",
      "--------------------------------------\n",
      "mapping_contact = {'cellular': 0, 'telephone': 1}\n",
      "data_all['contact_out'] = data_all['contact'].map(mapping_contact).fillna(-99).astype(int)\n",
      "data_all_contact = pd.get_dummies(data_all['contact_out'], prefix='contact', drop_first=True)\n",
      "data_all = pd.concat([data_all, pd.DataFrame(data_all_contact, index=data_all.index)], axis=1)\n",
      "data_all = data_all.drop(labels='contact', axis=1)\n",
      "--------------------------------------\n"
     ]
    },
    {
     "data": {
      "text/plain": "       age        job  marital    education default housing loan    contact  \\\nid                                                                            \n1      NaN  housemaid  married     basic.4y     NaN      no  NaN  telephone   \n2       57   services  married  high.school     NaN      no   no  telephone   \n3       37   services      NaN  high.school      no     NaN   no  telephone   \n4       40     admin.  married     basic.6y      no      no   no  telephone   \n5       56   services  married  high.school      no      no  yes        NaN   \n...    ...        ...      ...          ...     ...     ...  ...        ...   \n54114   30     admin.      NaN     basic.6y      no     yes  yes   cellular   \n54115   39     admin.      NaN          NaN      no     yes   no        NaN   \n54116   27    student   single  high.school      no     NaN   no        NaN   \n54117  NaN     admin.      NaN          NaN      no      no  NaN   cellular   \n54118   34        NaN   single  high.school      no     yes   no   cellular   \n\n      month day_of_week  ... marital_out education_1 education_2 education_3  \\\nid                       ...                                                   \n1       may         NaN  ...           1           0           0           0   \n2       may         NaN  ...           1           1           0           0   \n3       may         NaN  ...           0           1           0           0   \n4       may         mon  ...           1           0           0           0   \n5       may         mon  ...           1           1           0           0   \n...     ...         ...  ...         ...         ...         ...         ...   \n54114   jul         thu  ...           0           0           0           0   \n54115   jul         NaN  ...           0           1           0           0   \n54116   NaN         mon  ...           0           1           0           0   \n54117   aug         fri  ...           0           1           0           0   \n54118   nov         NaN  ...           0           1           0           0   \n\n      default_out  housing_out  loan_out  contact_out  contact_1  contact_2  \nid                                                                           \n1               0            0         0            1          1          0  \n2               0            0         0            1          1          0  \n3               0            0         0            1          1          0  \n4               0            0         0            1          1          0  \n5               0            0         1            0          0          0  \n...           ...          ...       ...          ...        ...        ...  \n54114           0            1         1            2          0          1  \n54115           0            1         0            0          0          0  \n54116           0            0         0            0          0          0  \n54117           0            0         0            2          0          1  \n54118           0            1         0            2          0          1  \n\n[45307 rows x 34 columns]",
      "text/html": "<div>\n<style scoped>\n    .dataframe tbody tr th:only-of-type {\n        vertical-align: middle;\n    }\n\n    .dataframe tbody tr th {\n        vertical-align: top;\n    }\n\n    .dataframe thead th {\n        text-align: right;\n    }\n</style>\n<table border=\"1\" class=\"dataframe\">\n  <thead>\n    <tr style=\"text-align: right;\">\n      <th></th>\n      <th>age</th>\n      <th>job</th>\n      <th>marital</th>\n      <th>education</th>\n      <th>default</th>\n      <th>housing</th>\n      <th>loan</th>\n      <th>contact</th>\n      <th>month</th>\n      <th>day_of_week</th>\n      <th>...</th>\n      <th>marital_out</th>\n      <th>education_1</th>\n      <th>education_2</th>\n      <th>education_3</th>\n      <th>default_out</th>\n      <th>housing_out</th>\n      <th>loan_out</th>\n      <th>contact_out</th>\n      <th>contact_1</th>\n      <th>contact_2</th>\n    </tr>\n    <tr>\n      <th>id</th>\n      <th></th>\n      <th></th>\n      <th></th>\n      <th></th>\n      <th></th>\n      <th></th>\n      <th></th>\n      <th></th>\n      <th></th>\n      <th></th>\n      <th></th>\n      <th></th>\n      <th></th>\n      <th></th>\n      <th></th>\n      <th></th>\n      <th></th>\n      <th></th>\n      <th></th>\n      <th></th>\n      <th></th>\n    </tr>\n  </thead>\n  <tbody>\n    <tr>\n      <th>1</th>\n      <td>NaN</td>\n      <td>housemaid</td>\n      <td>married</td>\n      <td>basic.4y</td>\n      <td>NaN</td>\n      <td>no</td>\n      <td>NaN</td>\n      <td>telephone</td>\n      <td>may</td>\n      <td>NaN</td>\n      <td>...</td>\n      <td>1</td>\n      <td>0</td>\n      <td>0</td>\n      <td>0</td>\n      <td>0</td>\n      <td>0</td>\n      <td>0</td>\n      <td>1</td>\n      <td>1</td>\n      <td>0</td>\n    </tr>\n    <tr>\n      <th>2</th>\n      <td>57</td>\n      <td>services</td>\n      <td>married</td>\n      <td>high.school</td>\n      <td>NaN</td>\n      <td>no</td>\n      <td>no</td>\n      <td>telephone</td>\n      <td>may</td>\n      <td>NaN</td>\n      <td>...</td>\n      <td>1</td>\n      <td>1</td>\n      <td>0</td>\n      <td>0</td>\n      <td>0</td>\n      <td>0</td>\n      <td>0</td>\n      <td>1</td>\n      <td>1</td>\n      <td>0</td>\n    </tr>\n    <tr>\n      <th>3</th>\n      <td>37</td>\n      <td>services</td>\n      <td>NaN</td>\n      <td>high.school</td>\n      <td>no</td>\n      <td>NaN</td>\n      <td>no</td>\n      <td>telephone</td>\n      <td>may</td>\n      <td>NaN</td>\n      <td>...</td>\n      <td>0</td>\n      <td>1</td>\n      <td>0</td>\n      <td>0</td>\n      <td>0</td>\n      <td>0</td>\n      <td>0</td>\n      <td>1</td>\n      <td>1</td>\n      <td>0</td>\n    </tr>\n    <tr>\n      <th>4</th>\n      <td>40</td>\n      <td>admin.</td>\n      <td>married</td>\n      <td>basic.6y</td>\n      <td>no</td>\n      <td>no</td>\n      <td>no</td>\n      <td>telephone</td>\n      <td>may</td>\n      <td>mon</td>\n      <td>...</td>\n      <td>1</td>\n      <td>0</td>\n      <td>0</td>\n      <td>0</td>\n      <td>0</td>\n      <td>0</td>\n      <td>0</td>\n      <td>1</td>\n      <td>1</td>\n      <td>0</td>\n    </tr>\n    <tr>\n      <th>5</th>\n      <td>56</td>\n      <td>services</td>\n      <td>married</td>\n      <td>high.school</td>\n      <td>no</td>\n      <td>no</td>\n      <td>yes</td>\n      <td>NaN</td>\n      <td>may</td>\n      <td>mon</td>\n      <td>...</td>\n      <td>1</td>\n      <td>1</td>\n      <td>0</td>\n      <td>0</td>\n      <td>0</td>\n      <td>0</td>\n      <td>1</td>\n      <td>0</td>\n      <td>0</td>\n      <td>0</td>\n    </tr>\n    <tr>\n      <th>...</th>\n      <td>...</td>\n      <td>...</td>\n      <td>...</td>\n      <td>...</td>\n      <td>...</td>\n      <td>...</td>\n      <td>...</td>\n      <td>...</td>\n      <td>...</td>\n      <td>...</td>\n      <td>...</td>\n      <td>...</td>\n      <td>...</td>\n      <td>...</td>\n      <td>...</td>\n      <td>...</td>\n      <td>...</td>\n      <td>...</td>\n      <td>...</td>\n      <td>...</td>\n      <td>...</td>\n    </tr>\n    <tr>\n      <th>54114</th>\n      <td>30</td>\n      <td>admin.</td>\n      <td>NaN</td>\n      <td>basic.6y</td>\n      <td>no</td>\n      <td>yes</td>\n      <td>yes</td>\n      <td>cellular</td>\n      <td>jul</td>\n      <td>thu</td>\n      <td>...</td>\n      <td>0</td>\n      <td>0</td>\n      <td>0</td>\n      <td>0</td>\n      <td>0</td>\n      <td>1</td>\n      <td>1</td>\n      <td>2</td>\n      <td>0</td>\n      <td>1</td>\n    </tr>\n    <tr>\n      <th>54115</th>\n      <td>39</td>\n      <td>admin.</td>\n      <td>NaN</td>\n      <td>NaN</td>\n      <td>no</td>\n      <td>yes</td>\n      <td>no</td>\n      <td>NaN</td>\n      <td>jul</td>\n      <td>NaN</td>\n      <td>...</td>\n      <td>0</td>\n      <td>1</td>\n      <td>0</td>\n      <td>0</td>\n      <td>0</td>\n      <td>1</td>\n      <td>0</td>\n      <td>0</td>\n      <td>0</td>\n      <td>0</td>\n    </tr>\n    <tr>\n      <th>54116</th>\n      <td>27</td>\n      <td>student</td>\n      <td>single</td>\n      <td>high.school</td>\n      <td>no</td>\n      <td>NaN</td>\n      <td>no</td>\n      <td>NaN</td>\n      <td>NaN</td>\n      <td>mon</td>\n      <td>...</td>\n      <td>0</td>\n      <td>1</td>\n      <td>0</td>\n      <td>0</td>\n      <td>0</td>\n      <td>0</td>\n      <td>0</td>\n      <td>0</td>\n      <td>0</td>\n      <td>0</td>\n    </tr>\n    <tr>\n      <th>54117</th>\n      <td>NaN</td>\n      <td>admin.</td>\n      <td>NaN</td>\n      <td>NaN</td>\n      <td>no</td>\n      <td>no</td>\n      <td>NaN</td>\n      <td>cellular</td>\n      <td>aug</td>\n      <td>fri</td>\n      <td>...</td>\n      <td>0</td>\n      <td>1</td>\n      <td>0</td>\n      <td>0</td>\n      <td>0</td>\n      <td>0</td>\n      <td>0</td>\n      <td>2</td>\n      <td>0</td>\n      <td>1</td>\n    </tr>\n    <tr>\n      <th>54118</th>\n      <td>34</td>\n      <td>NaN</td>\n      <td>single</td>\n      <td>high.school</td>\n      <td>no</td>\n      <td>yes</td>\n      <td>no</td>\n      <td>cellular</td>\n      <td>nov</td>\n      <td>NaN</td>\n      <td>...</td>\n      <td>0</td>\n      <td>1</td>\n      <td>0</td>\n      <td>0</td>\n      <td>0</td>\n      <td>1</td>\n      <td>0</td>\n      <td>2</td>\n      <td>0</td>\n      <td>1</td>\n    </tr>\n  </tbody>\n</table>\n<p>45307 rows × 34 columns</p>\n</div>"
     },
     "execution_count": 84,
     "metadata": {},
     "output_type": "execute_result"
    }
   ],
   "source": [
    "column_mapping_str(data_all, col_name='contact', prefix_name='contact', data_name='data_all')\n",
    "mapping_contact = {'cellular': 2, 'telephone': 1}\n",
    "data_all['contact_out'] = data_all['contact'].map(mapping_contact).fillna(0).astype(int)\n",
    "data_all_contact = pd.get_dummies(data_all['contact_out'], prefix='contact', drop_first=True)\n",
    "data_all = pd.concat([data_all, pd.DataFrame(data_all_contact, index=data_all.index)], axis=1)\n",
    "data_all\n"
   ],
   "metadata": {
    "collapsed": false,
    "pycharm": {
     "name": "#%%\n"
    }
   }
  },
  {
   "cell_type": "code",
   "execution_count": 85,
   "outputs": [],
   "source": [
    "fill_month = data_all.loc[~data_all['month'].isnull(), ['month','cons.price.idx']].drop_duplicates().sort_values(by=['month'])\n",
    "data_all = data_all.merge(fill_month, on='cons.price.idx', how=\"left\")\n",
    "data_all.index.name='id'"
   ],
   "metadata": {
    "collapsed": false,
    "pycharm": {
     "name": "#%%\n"
    }
   }
  },
  {
   "cell_type": "code",
   "execution_count": 86,
   "outputs": [
    {
     "data": {
      "text/plain": "       age        job  marital    education default housing loan    contact  \\\nid                                                                            \n0      NaN  housemaid  married     basic.4y     NaN      no  NaN  telephone   \n1       57   services  married  high.school     NaN      no   no  telephone   \n2       37   services      NaN  high.school      no     NaN   no  telephone   \n3       40     admin.  married     basic.6y      no      no   no  telephone   \n4       56   services  married  high.school      no      no  yes        NaN   \n...    ...        ...      ...          ...     ...     ...  ...        ...   \n45302   30     admin.      NaN     basic.6y      no     yes  yes   cellular   \n45303   39     admin.      NaN          NaN      no     yes   no        NaN   \n45304   27    student   single  high.school      no     NaN   no        NaN   \n45305  NaN     admin.      NaN          NaN      no      no  NaN   cellular   \n45306   34        NaN   single  high.school      no     yes   no   cellular   \n\n      month_x day_of_week  ... month_out month_1 month_2 month_3 month_4  \\\nid                         ...                                             \n0         may         NaN  ...         0       0       0       0       0   \n1         may         NaN  ...         0       0       0       0       0   \n2         may         NaN  ...         0       0       0       0       0   \n3         may         mon  ...         0       0       0       0       0   \n4         may         mon  ...         0       0       0       0       0   \n...       ...         ...  ...       ...     ...     ...     ...     ...   \n45302     jul         thu  ...         1       1       0       0       0   \n45303     jul         NaN  ...         1       1       0       0       0   \n45304     NaN         mon  ...         0       0       0       0       0   \n45305     aug         fri  ...         2       0       1       0       0   \n45306     nov         NaN  ...         4       0       0       0       1   \n\n       month_5  month_6  month_7  month_8  month_9  \nid                                                  \n0            0        0        0        0        0  \n1            0        0        0        0        0  \n2            0        0        0        0        0  \n3            0        0        0        0        0  \n4            0        0        0        0        0  \n...        ...      ...      ...      ...      ...  \n45302        0        0        0        0        0  \n45303        0        0        0        0        0  \n45304        0        0        0        0        0  \n45305        0        0        0        0        0  \n45306        0        0        0        0        0  \n\n[45307 rows x 45 columns]",
      "text/html": "<div>\n<style scoped>\n    .dataframe tbody tr th:only-of-type {\n        vertical-align: middle;\n    }\n\n    .dataframe tbody tr th {\n        vertical-align: top;\n    }\n\n    .dataframe thead th {\n        text-align: right;\n    }\n</style>\n<table border=\"1\" class=\"dataframe\">\n  <thead>\n    <tr style=\"text-align: right;\">\n      <th></th>\n      <th>age</th>\n      <th>job</th>\n      <th>marital</th>\n      <th>education</th>\n      <th>default</th>\n      <th>housing</th>\n      <th>loan</th>\n      <th>contact</th>\n      <th>month_x</th>\n      <th>day_of_week</th>\n      <th>...</th>\n      <th>month_out</th>\n      <th>month_1</th>\n      <th>month_2</th>\n      <th>month_3</th>\n      <th>month_4</th>\n      <th>month_5</th>\n      <th>month_6</th>\n      <th>month_7</th>\n      <th>month_8</th>\n      <th>month_9</th>\n    </tr>\n    <tr>\n      <th>id</th>\n      <th></th>\n      <th></th>\n      <th></th>\n      <th></th>\n      <th></th>\n      <th></th>\n      <th></th>\n      <th></th>\n      <th></th>\n      <th></th>\n      <th></th>\n      <th></th>\n      <th></th>\n      <th></th>\n      <th></th>\n      <th></th>\n      <th></th>\n      <th></th>\n      <th></th>\n      <th></th>\n      <th></th>\n    </tr>\n  </thead>\n  <tbody>\n    <tr>\n      <th>0</th>\n      <td>NaN</td>\n      <td>housemaid</td>\n      <td>married</td>\n      <td>basic.4y</td>\n      <td>NaN</td>\n      <td>no</td>\n      <td>NaN</td>\n      <td>telephone</td>\n      <td>may</td>\n      <td>NaN</td>\n      <td>...</td>\n      <td>0</td>\n      <td>0</td>\n      <td>0</td>\n      <td>0</td>\n      <td>0</td>\n      <td>0</td>\n      <td>0</td>\n      <td>0</td>\n      <td>0</td>\n      <td>0</td>\n    </tr>\n    <tr>\n      <th>1</th>\n      <td>57</td>\n      <td>services</td>\n      <td>married</td>\n      <td>high.school</td>\n      <td>NaN</td>\n      <td>no</td>\n      <td>no</td>\n      <td>telephone</td>\n      <td>may</td>\n      <td>NaN</td>\n      <td>...</td>\n      <td>0</td>\n      <td>0</td>\n      <td>0</td>\n      <td>0</td>\n      <td>0</td>\n      <td>0</td>\n      <td>0</td>\n      <td>0</td>\n      <td>0</td>\n      <td>0</td>\n    </tr>\n    <tr>\n      <th>2</th>\n      <td>37</td>\n      <td>services</td>\n      <td>NaN</td>\n      <td>high.school</td>\n      <td>no</td>\n      <td>NaN</td>\n      <td>no</td>\n      <td>telephone</td>\n      <td>may</td>\n      <td>NaN</td>\n      <td>...</td>\n      <td>0</td>\n      <td>0</td>\n      <td>0</td>\n      <td>0</td>\n      <td>0</td>\n      <td>0</td>\n      <td>0</td>\n      <td>0</td>\n      <td>0</td>\n      <td>0</td>\n    </tr>\n    <tr>\n      <th>3</th>\n      <td>40</td>\n      <td>admin.</td>\n      <td>married</td>\n      <td>basic.6y</td>\n      <td>no</td>\n      <td>no</td>\n      <td>no</td>\n      <td>telephone</td>\n      <td>may</td>\n      <td>mon</td>\n      <td>...</td>\n      <td>0</td>\n      <td>0</td>\n      <td>0</td>\n      <td>0</td>\n      <td>0</td>\n      <td>0</td>\n      <td>0</td>\n      <td>0</td>\n      <td>0</td>\n      <td>0</td>\n    </tr>\n    <tr>\n      <th>4</th>\n      <td>56</td>\n      <td>services</td>\n      <td>married</td>\n      <td>high.school</td>\n      <td>no</td>\n      <td>no</td>\n      <td>yes</td>\n      <td>NaN</td>\n      <td>may</td>\n      <td>mon</td>\n      <td>...</td>\n      <td>0</td>\n      <td>0</td>\n      <td>0</td>\n      <td>0</td>\n      <td>0</td>\n      <td>0</td>\n      <td>0</td>\n      <td>0</td>\n      <td>0</td>\n      <td>0</td>\n    </tr>\n    <tr>\n      <th>...</th>\n      <td>...</td>\n      <td>...</td>\n      <td>...</td>\n      <td>...</td>\n      <td>...</td>\n      <td>...</td>\n      <td>...</td>\n      <td>...</td>\n      <td>...</td>\n      <td>...</td>\n      <td>...</td>\n      <td>...</td>\n      <td>...</td>\n      <td>...</td>\n      <td>...</td>\n      <td>...</td>\n      <td>...</td>\n      <td>...</td>\n      <td>...</td>\n      <td>...</td>\n      <td>...</td>\n    </tr>\n    <tr>\n      <th>45302</th>\n      <td>30</td>\n      <td>admin.</td>\n      <td>NaN</td>\n      <td>basic.6y</td>\n      <td>no</td>\n      <td>yes</td>\n      <td>yes</td>\n      <td>cellular</td>\n      <td>jul</td>\n      <td>thu</td>\n      <td>...</td>\n      <td>1</td>\n      <td>1</td>\n      <td>0</td>\n      <td>0</td>\n      <td>0</td>\n      <td>0</td>\n      <td>0</td>\n      <td>0</td>\n      <td>0</td>\n      <td>0</td>\n    </tr>\n    <tr>\n      <th>45303</th>\n      <td>39</td>\n      <td>admin.</td>\n      <td>NaN</td>\n      <td>NaN</td>\n      <td>no</td>\n      <td>yes</td>\n      <td>no</td>\n      <td>NaN</td>\n      <td>jul</td>\n      <td>NaN</td>\n      <td>...</td>\n      <td>1</td>\n      <td>1</td>\n      <td>0</td>\n      <td>0</td>\n      <td>0</td>\n      <td>0</td>\n      <td>0</td>\n      <td>0</td>\n      <td>0</td>\n      <td>0</td>\n    </tr>\n    <tr>\n      <th>45304</th>\n      <td>27</td>\n      <td>student</td>\n      <td>single</td>\n      <td>high.school</td>\n      <td>no</td>\n      <td>NaN</td>\n      <td>no</td>\n      <td>NaN</td>\n      <td>NaN</td>\n      <td>mon</td>\n      <td>...</td>\n      <td>0</td>\n      <td>0</td>\n      <td>0</td>\n      <td>0</td>\n      <td>0</td>\n      <td>0</td>\n      <td>0</td>\n      <td>0</td>\n      <td>0</td>\n      <td>0</td>\n    </tr>\n    <tr>\n      <th>45305</th>\n      <td>NaN</td>\n      <td>admin.</td>\n      <td>NaN</td>\n      <td>NaN</td>\n      <td>no</td>\n      <td>no</td>\n      <td>NaN</td>\n      <td>cellular</td>\n      <td>aug</td>\n      <td>fri</td>\n      <td>...</td>\n      <td>2</td>\n      <td>0</td>\n      <td>1</td>\n      <td>0</td>\n      <td>0</td>\n      <td>0</td>\n      <td>0</td>\n      <td>0</td>\n      <td>0</td>\n      <td>0</td>\n    </tr>\n    <tr>\n      <th>45306</th>\n      <td>34</td>\n      <td>NaN</td>\n      <td>single</td>\n      <td>high.school</td>\n      <td>no</td>\n      <td>yes</td>\n      <td>no</td>\n      <td>cellular</td>\n      <td>nov</td>\n      <td>NaN</td>\n      <td>...</td>\n      <td>4</td>\n      <td>0</td>\n      <td>0</td>\n      <td>0</td>\n      <td>1</td>\n      <td>0</td>\n      <td>0</td>\n      <td>0</td>\n      <td>0</td>\n      <td>0</td>\n    </tr>\n  </tbody>\n</table>\n<p>45307 rows × 45 columns</p>\n</div>"
     },
     "execution_count": 86,
     "metadata": {},
     "output_type": "execute_result"
    }
   ],
   "source": [
    "#column_mapping_str(data_all, col_name='month', prefix_name='month', data_name='data_all')\n",
    "mapping_month = {'may': 0, 'jul': 1, 'aug': 2, 'jun': 3, 'nov': 4, 'apr': 5,\n",
    "                 'oct': 6, 'sep': 7, 'mar': 8, 'dec': 9}\n",
    "data_all['month_out'] = data_all['month_y'].map(mapping_month).fillna(0).astype(int)\n",
    "data_all_month = pd.get_dummies(data_all['month_out'], prefix='month', drop_first=True)\n",
    "data_all = pd.concat([data_all, pd.DataFrame(data_all_month, index=data_all.index)], axis=1)\n",
    "data_all"
   ],
   "metadata": {
    "collapsed": false,
    "pycharm": {
     "name": "#%%\n"
    }
   }
  },
  {
   "cell_type": "code",
   "execution_count": 87,
   "outputs": [
    {
     "name": "stdout",
     "output_type": "stream",
     "text": [
      "------------day_of_week每个项的分布--------------\n",
      "thu    7110\n",
      "mon    7023\n",
      "tue    6715\n",
      "wed    6615\n",
      "fri    6470\n",
      "Name: day_of_week, dtype: int64\n",
      "--------------------------------------\n",
      "mapping_day_of_week = {'thu': 0, 'mon': 1, 'tue': 2, 'wed': 3, 'fri': 4}\n",
      "data_all['day_of_week_out'] = data_all['day_of_week'].map(mapping_day_of_week).fillna(-99).astype(int)\n",
      "data_all_day_of_week = pd.get_dummies(data_all['day_of_week_out'], prefix='day_of_week', drop_first=True)\n",
      "data_all = pd.concat([data_all, pd.DataFrame(data_all_day_of_week, index=data_all.index)], axis=1)\n",
      "data_all = data_all.drop(labels='day_of_week', axis=1)\n",
      "--------------------------------------\n"
     ]
    },
    {
     "data": {
      "text/plain": "       age        job  marital    education default housing loan    contact  \\\nid                                                                            \n0      NaN  housemaid  married     basic.4y     NaN      no  NaN  telephone   \n1       57   services  married  high.school     NaN      no   no  telephone   \n2       37   services      NaN  high.school      no     NaN   no  telephone   \n3       40     admin.  married     basic.6y      no      no   no  telephone   \n4       56   services  married  high.school      no      no  yes        NaN   \n...    ...        ...      ...          ...     ...     ...  ...        ...   \n45302   30     admin.      NaN     basic.6y      no     yes  yes   cellular   \n45303   39     admin.      NaN          NaN      no     yes   no        NaN   \n45304   27    student   single  high.school      no     NaN   no        NaN   \n45305  NaN     admin.      NaN          NaN      no      no  NaN   cellular   \n45306   34        NaN   single  high.school      no     yes   no   cellular   \n\n      month_x day_of_week  ... month_6 month_7 month_8 month_9  \\\nid                         ...                                   \n0         may         NaN  ...       0       0       0       0   \n1         may         NaN  ...       0       0       0       0   \n2         may         NaN  ...       0       0       0       0   \n3         may         mon  ...       0       0       0       0   \n4         may         mon  ...       0       0       0       0   \n...       ...         ...  ...     ...     ...     ...     ...   \n45302     jul         thu  ...       0       0       0       0   \n45303     jul         NaN  ...       0       0       0       0   \n45304     NaN         mon  ...       0       0       0       0   \n45305     aug         fri  ...       0       0       0       0   \n45306     nov         NaN  ...       0       0       0       0   \n\n      day_of_week_out  day_of_week_1  day_of_week_2  day_of_week_3  \\\nid                                                                   \n0                   0              0              0              0   \n1                   0              0              0              0   \n2                   0              0              0              0   \n3                   1              1              0              0   \n4                   1              1              0              0   \n...               ...            ...            ...            ...   \n45302               5              0              0              0   \n45303               0              0              0              0   \n45304               1              1              0              0   \n45305               4              0              0              0   \n45306               0              0              0              0   \n\n       day_of_week_4  day_of_week_5  \nid                                   \n0                  0              0  \n1                  0              0  \n2                  0              0  \n3                  0              0  \n4                  0              0  \n...              ...            ...  \n45302              0              1  \n45303              0              0  \n45304              0              0  \n45305              1              0  \n45306              0              0  \n\n[45307 rows x 51 columns]",
      "text/html": "<div>\n<style scoped>\n    .dataframe tbody tr th:only-of-type {\n        vertical-align: middle;\n    }\n\n    .dataframe tbody tr th {\n        vertical-align: top;\n    }\n\n    .dataframe thead th {\n        text-align: right;\n    }\n</style>\n<table border=\"1\" class=\"dataframe\">\n  <thead>\n    <tr style=\"text-align: right;\">\n      <th></th>\n      <th>age</th>\n      <th>job</th>\n      <th>marital</th>\n      <th>education</th>\n      <th>default</th>\n      <th>housing</th>\n      <th>loan</th>\n      <th>contact</th>\n      <th>month_x</th>\n      <th>day_of_week</th>\n      <th>...</th>\n      <th>month_6</th>\n      <th>month_7</th>\n      <th>month_8</th>\n      <th>month_9</th>\n      <th>day_of_week_out</th>\n      <th>day_of_week_1</th>\n      <th>day_of_week_2</th>\n      <th>day_of_week_3</th>\n      <th>day_of_week_4</th>\n      <th>day_of_week_5</th>\n    </tr>\n    <tr>\n      <th>id</th>\n      <th></th>\n      <th></th>\n      <th></th>\n      <th></th>\n      <th></th>\n      <th></th>\n      <th></th>\n      <th></th>\n      <th></th>\n      <th></th>\n      <th></th>\n      <th></th>\n      <th></th>\n      <th></th>\n      <th></th>\n      <th></th>\n      <th></th>\n      <th></th>\n      <th></th>\n      <th></th>\n      <th></th>\n    </tr>\n  </thead>\n  <tbody>\n    <tr>\n      <th>0</th>\n      <td>NaN</td>\n      <td>housemaid</td>\n      <td>married</td>\n      <td>basic.4y</td>\n      <td>NaN</td>\n      <td>no</td>\n      <td>NaN</td>\n      <td>telephone</td>\n      <td>may</td>\n      <td>NaN</td>\n      <td>...</td>\n      <td>0</td>\n      <td>0</td>\n      <td>0</td>\n      <td>0</td>\n      <td>0</td>\n      <td>0</td>\n      <td>0</td>\n      <td>0</td>\n      <td>0</td>\n      <td>0</td>\n    </tr>\n    <tr>\n      <th>1</th>\n      <td>57</td>\n      <td>services</td>\n      <td>married</td>\n      <td>high.school</td>\n      <td>NaN</td>\n      <td>no</td>\n      <td>no</td>\n      <td>telephone</td>\n      <td>may</td>\n      <td>NaN</td>\n      <td>...</td>\n      <td>0</td>\n      <td>0</td>\n      <td>0</td>\n      <td>0</td>\n      <td>0</td>\n      <td>0</td>\n      <td>0</td>\n      <td>0</td>\n      <td>0</td>\n      <td>0</td>\n    </tr>\n    <tr>\n      <th>2</th>\n      <td>37</td>\n      <td>services</td>\n      <td>NaN</td>\n      <td>high.school</td>\n      <td>no</td>\n      <td>NaN</td>\n      <td>no</td>\n      <td>telephone</td>\n      <td>may</td>\n      <td>NaN</td>\n      <td>...</td>\n      <td>0</td>\n      <td>0</td>\n      <td>0</td>\n      <td>0</td>\n      <td>0</td>\n      <td>0</td>\n      <td>0</td>\n      <td>0</td>\n      <td>0</td>\n      <td>0</td>\n    </tr>\n    <tr>\n      <th>3</th>\n      <td>40</td>\n      <td>admin.</td>\n      <td>married</td>\n      <td>basic.6y</td>\n      <td>no</td>\n      <td>no</td>\n      <td>no</td>\n      <td>telephone</td>\n      <td>may</td>\n      <td>mon</td>\n      <td>...</td>\n      <td>0</td>\n      <td>0</td>\n      <td>0</td>\n      <td>0</td>\n      <td>1</td>\n      <td>1</td>\n      <td>0</td>\n      <td>0</td>\n      <td>0</td>\n      <td>0</td>\n    </tr>\n    <tr>\n      <th>4</th>\n      <td>56</td>\n      <td>services</td>\n      <td>married</td>\n      <td>high.school</td>\n      <td>no</td>\n      <td>no</td>\n      <td>yes</td>\n      <td>NaN</td>\n      <td>may</td>\n      <td>mon</td>\n      <td>...</td>\n      <td>0</td>\n      <td>0</td>\n      <td>0</td>\n      <td>0</td>\n      <td>1</td>\n      <td>1</td>\n      <td>0</td>\n      <td>0</td>\n      <td>0</td>\n      <td>0</td>\n    </tr>\n    <tr>\n      <th>...</th>\n      <td>...</td>\n      <td>...</td>\n      <td>...</td>\n      <td>...</td>\n      <td>...</td>\n      <td>...</td>\n      <td>...</td>\n      <td>...</td>\n      <td>...</td>\n      <td>...</td>\n      <td>...</td>\n      <td>...</td>\n      <td>...</td>\n      <td>...</td>\n      <td>...</td>\n      <td>...</td>\n      <td>...</td>\n      <td>...</td>\n      <td>...</td>\n      <td>...</td>\n      <td>...</td>\n    </tr>\n    <tr>\n      <th>45302</th>\n      <td>30</td>\n      <td>admin.</td>\n      <td>NaN</td>\n      <td>basic.6y</td>\n      <td>no</td>\n      <td>yes</td>\n      <td>yes</td>\n      <td>cellular</td>\n      <td>jul</td>\n      <td>thu</td>\n      <td>...</td>\n      <td>0</td>\n      <td>0</td>\n      <td>0</td>\n      <td>0</td>\n      <td>5</td>\n      <td>0</td>\n      <td>0</td>\n      <td>0</td>\n      <td>0</td>\n      <td>1</td>\n    </tr>\n    <tr>\n      <th>45303</th>\n      <td>39</td>\n      <td>admin.</td>\n      <td>NaN</td>\n      <td>NaN</td>\n      <td>no</td>\n      <td>yes</td>\n      <td>no</td>\n      <td>NaN</td>\n      <td>jul</td>\n      <td>NaN</td>\n      <td>...</td>\n      <td>0</td>\n      <td>0</td>\n      <td>0</td>\n      <td>0</td>\n      <td>0</td>\n      <td>0</td>\n      <td>0</td>\n      <td>0</td>\n      <td>0</td>\n      <td>0</td>\n    </tr>\n    <tr>\n      <th>45304</th>\n      <td>27</td>\n      <td>student</td>\n      <td>single</td>\n      <td>high.school</td>\n      <td>no</td>\n      <td>NaN</td>\n      <td>no</td>\n      <td>NaN</td>\n      <td>NaN</td>\n      <td>mon</td>\n      <td>...</td>\n      <td>0</td>\n      <td>0</td>\n      <td>0</td>\n      <td>0</td>\n      <td>1</td>\n      <td>1</td>\n      <td>0</td>\n      <td>0</td>\n      <td>0</td>\n      <td>0</td>\n    </tr>\n    <tr>\n      <th>45305</th>\n      <td>NaN</td>\n      <td>admin.</td>\n      <td>NaN</td>\n      <td>NaN</td>\n      <td>no</td>\n      <td>no</td>\n      <td>NaN</td>\n      <td>cellular</td>\n      <td>aug</td>\n      <td>fri</td>\n      <td>...</td>\n      <td>0</td>\n      <td>0</td>\n      <td>0</td>\n      <td>0</td>\n      <td>4</td>\n      <td>0</td>\n      <td>0</td>\n      <td>0</td>\n      <td>1</td>\n      <td>0</td>\n    </tr>\n    <tr>\n      <th>45306</th>\n      <td>34</td>\n      <td>NaN</td>\n      <td>single</td>\n      <td>high.school</td>\n      <td>no</td>\n      <td>yes</td>\n      <td>no</td>\n      <td>cellular</td>\n      <td>nov</td>\n      <td>NaN</td>\n      <td>...</td>\n      <td>0</td>\n      <td>0</td>\n      <td>0</td>\n      <td>0</td>\n      <td>0</td>\n      <td>0</td>\n      <td>0</td>\n      <td>0</td>\n      <td>0</td>\n      <td>0</td>\n    </tr>\n  </tbody>\n</table>\n<p>45307 rows × 51 columns</p>\n</div>"
     },
     "execution_count": 87,
     "metadata": {},
     "output_type": "execute_result"
    }
   ],
   "source": [
    "column_mapping_str(data_all, col_name='day_of_week', prefix_name='day_of_week', data_name='data_all')\n",
    "mapping_day_of_week = {'thu': 5, 'mon': 1, 'tue': 2, 'wed': 3, 'fri': 4}\n",
    "data_all['day_of_week_out'] = data_all['day_of_week'].map(mapping_day_of_week).fillna(0).astype(int)\n",
    "data_all_day_of_week = pd.get_dummies(data_all['day_of_week_out'], prefix='day_of_week', drop_first=True)\n",
    "data_all = pd.concat([data_all, pd.DataFrame(data_all_day_of_week, index=data_all.index)], axis=1)\n",
    "data_all"
   ],
   "metadata": {
    "collapsed": false,
    "pycharm": {
     "name": "#%%\n"
    }
   }
  },
  {
   "cell_type": "code",
   "execution_count": 88,
   "outputs": [
    {
     "name": "stdout",
     "output_type": "stream",
     "text": [
      "------------poutcome每个项的分布--------------\n",
      "failure    3529\n",
      "success    1146\n",
      "Name: poutcome, dtype: int64\n",
      "--------------------------------------\n",
      "mapping_poutcome = {'failure': 0, 'success': 1}\n",
      "data_all['poutcome_out'] = data_all['poutcome'].map(mapping_poutcome).fillna(-99).astype(int)\n",
      "data_all_poutcome = pd.get_dummies(data_all['poutcome_out'], prefix='poutcome', drop_first=True)\n",
      "data_all = pd.concat([data_all, pd.DataFrame(data_all_poutcome, index=data_all.index)], axis=1)\n",
      "data_all = data_all.drop(labels='poutcome', axis=1)\n",
      "--------------------------------------\n"
     ]
    }
   ],
   "source": [
    "column_mapping_str(data_all, col_name='poutcome', prefix_name='poutcome', data_name='data_all')\n",
    "mapping_poutcome = {'failure': 0, 'success': 1}\n",
    "data_all['poutcome_out'] = data_all['poutcome'].map(mapping_poutcome).fillna(0).astype(int)"
   ],
   "metadata": {
    "collapsed": false,
    "pycharm": {
     "name": "#%%\n"
    }
   }
  },
  {
   "cell_type": "code",
   "execution_count": null,
   "outputs": [],
   "source": [
    "data_all['duration'] = data_all['duration'].astype(int)"
   ],
   "metadata": {
    "collapsed": false,
    "pycharm": {
     "name": "#%%\n"
    }
   }
  },
  {
   "cell_type": "code",
   "execution_count": 89,
   "outputs": [],
   "source": [
    "mapping_y = {'no': 0, 'yes': 1}\n",
    "data_all['y'] = data_all['y'].map(mapping_y)"
   ],
   "metadata": {
    "collapsed": false,
    "pycharm": {
     "name": "#%%\n"
    }
   }
  },
  {
   "cell_type": "code",
   "execution_count": 90,
   "outputs": [],
   "source": [
    "data_all.columns\n",
    "\n",
    "data_all.loc[data_all['y'].isin([0, 1]), ['age','info_rate', 'job_1',\n",
    "       'job_3', 'marital_out', 'education_1', 'education_2', 'education_3',\n",
    "       'default_out', 'housing_out', 'loan_out', 'contact_1',\n",
    "       'contact_2', 'month_1', 'month_2', 'month_3', 'month_4',\n",
    "       'month_5', 'month_6', 'month_7', 'month_8', 'month_9',\n",
    "       'day_of_week_1', 'day_of_week_2', 'day_of_week_3',\n",
    "       'day_of_week_4', 'day_of_week_5','duration', 'campaign', 'pdays',\n",
    "       'previous', 'poutcome_out', 'emp.var.rate', 'cons.price.idx',\n",
    "       'cons.conf.idx', 'euribor3m', 'nr.employed', 'y']].to_csv(\"./data/2_preprcossing_train.csv\")\n",
    "\n",
    "data_all.loc[data_all['y'].isnull(), ['age','info_rate', 'job_1',\n",
    "       'job_3', 'marital_out', 'education_1', 'education_2', 'education_3',\n",
    "       'default_out', 'housing_out', 'loan_out', 'contact_1',\n",
    "       'contact_2', 'month_1', 'month_2', 'month_3', 'month_4',\n",
    "       'month_5', 'month_6', 'month_7', 'month_8', 'month_9',\n",
    "       'day_of_week_1', 'day_of_week_2', 'day_of_week_3',\n",
    "       'day_of_week_4', 'day_of_week_5','duration', 'campaign', 'pdays',\n",
    "       'previous', 'poutcome_out', 'emp.var.rate', 'cons.price.idx',\n",
    "       'cons.conf.idx', 'euribor3m', 'nr.employed', 'y']].to_csv(\"./data/2_preprcossing_test.csv\")"
   ],
   "metadata": {
    "collapsed": false,
    "pycharm": {
     "name": "#%%\n"
    }
   }
  },
  {
   "cell_type": "code",
   "execution_count": 91,
   "outputs": [
    {
     "data": {
      "text/plain": "       age        job  marital    education default housing loan    contact  \\\nid                                                                            \n0      NaN  housemaid  married     basic.4y     NaN      no  NaN  telephone   \n1       57   services  married  high.school     NaN      no   no  telephone   \n2       37   services      NaN  high.school      no     NaN   no  telephone   \n3       40     admin.  married     basic.6y      no      no   no  telephone   \n4       56   services  married  high.school      no      no  yes        NaN   \n...    ...        ...      ...          ...     ...     ...  ...        ...   \n45302   30     admin.      NaN     basic.6y      no     yes  yes   cellular   \n45303   39     admin.      NaN          NaN      no     yes   no        NaN   \n45304   27    student   single  high.school      no     NaN   no        NaN   \n45305  NaN     admin.      NaN          NaN      no      no  NaN   cellular   \n45306   34        NaN   single  high.school      no     yes   no   cellular   \n\n      month_x day_of_week  ... month_7 month_8 month_9 day_of_week_out  \\\nid                         ...                                           \n0         may         NaN  ...       0       0       0               0   \n1         may         NaN  ...       0       0       0               0   \n2         may         NaN  ...       0       0       0               0   \n3         may         mon  ...       0       0       0               1   \n4         may         mon  ...       0       0       0               1   \n...       ...         ...  ...     ...     ...     ...             ...   \n45302     jul         thu  ...       0       0       0               5   \n45303     jul         NaN  ...       0       0       0               0   \n45304     NaN         mon  ...       0       0       0               1   \n45305     aug         fri  ...       0       0       0               4   \n45306     nov         NaN  ...       0       0       0               0   \n\n      day_of_week_1  day_of_week_2  day_of_week_3  day_of_week_4  \\\nid                                                                 \n0                 0              0              0              0   \n1                 0              0              0              0   \n2                 0              0              0              0   \n3                 1              0              0              0   \n4                 1              0              0              0   \n...             ...            ...            ...            ...   \n45302             0              0              0              0   \n45303             0              0              0              0   \n45304             1              0              0              0   \n45305             0              0              0              1   \n45306             0              0              0              0   \n\n       day_of_week_5  poutcome_out  \nid                                  \n0                  0             0  \n1                  0             0  \n2                  0             0  \n3                  0             0  \n4                  0             0  \n...              ...           ...  \n45302              1             0  \n45303              0             0  \n45304              0             0  \n45305              0             0  \n45306              0             0  \n\n[45307 rows x 52 columns]",
      "text/html": "<div>\n<style scoped>\n    .dataframe tbody tr th:only-of-type {\n        vertical-align: middle;\n    }\n\n    .dataframe tbody tr th {\n        vertical-align: top;\n    }\n\n    .dataframe thead th {\n        text-align: right;\n    }\n</style>\n<table border=\"1\" class=\"dataframe\">\n  <thead>\n    <tr style=\"text-align: right;\">\n      <th></th>\n      <th>age</th>\n      <th>job</th>\n      <th>marital</th>\n      <th>education</th>\n      <th>default</th>\n      <th>housing</th>\n      <th>loan</th>\n      <th>contact</th>\n      <th>month_x</th>\n      <th>day_of_week</th>\n      <th>...</th>\n      <th>month_7</th>\n      <th>month_8</th>\n      <th>month_9</th>\n      <th>day_of_week_out</th>\n      <th>day_of_week_1</th>\n      <th>day_of_week_2</th>\n      <th>day_of_week_3</th>\n      <th>day_of_week_4</th>\n      <th>day_of_week_5</th>\n      <th>poutcome_out</th>\n    </tr>\n    <tr>\n      <th>id</th>\n      <th></th>\n      <th></th>\n      <th></th>\n      <th></th>\n      <th></th>\n      <th></th>\n      <th></th>\n      <th></th>\n      <th></th>\n      <th></th>\n      <th></th>\n      <th></th>\n      <th></th>\n      <th></th>\n      <th></th>\n      <th></th>\n      <th></th>\n      <th></th>\n      <th></th>\n      <th></th>\n      <th></th>\n    </tr>\n  </thead>\n  <tbody>\n    <tr>\n      <th>0</th>\n      <td>NaN</td>\n      <td>housemaid</td>\n      <td>married</td>\n      <td>basic.4y</td>\n      <td>NaN</td>\n      <td>no</td>\n      <td>NaN</td>\n      <td>telephone</td>\n      <td>may</td>\n      <td>NaN</td>\n      <td>...</td>\n      <td>0</td>\n      <td>0</td>\n      <td>0</td>\n      <td>0</td>\n      <td>0</td>\n      <td>0</td>\n      <td>0</td>\n      <td>0</td>\n      <td>0</td>\n      <td>0</td>\n    </tr>\n    <tr>\n      <th>1</th>\n      <td>57</td>\n      <td>services</td>\n      <td>married</td>\n      <td>high.school</td>\n      <td>NaN</td>\n      <td>no</td>\n      <td>no</td>\n      <td>telephone</td>\n      <td>may</td>\n      <td>NaN</td>\n      <td>...</td>\n      <td>0</td>\n      <td>0</td>\n      <td>0</td>\n      <td>0</td>\n      <td>0</td>\n      <td>0</td>\n      <td>0</td>\n      <td>0</td>\n      <td>0</td>\n      <td>0</td>\n    </tr>\n    <tr>\n      <th>2</th>\n      <td>37</td>\n      <td>services</td>\n      <td>NaN</td>\n      <td>high.school</td>\n      <td>no</td>\n      <td>NaN</td>\n      <td>no</td>\n      <td>telephone</td>\n      <td>may</td>\n      <td>NaN</td>\n      <td>...</td>\n      <td>0</td>\n      <td>0</td>\n      <td>0</td>\n      <td>0</td>\n      <td>0</td>\n      <td>0</td>\n      <td>0</td>\n      <td>0</td>\n      <td>0</td>\n      <td>0</td>\n    </tr>\n    <tr>\n      <th>3</th>\n      <td>40</td>\n      <td>admin.</td>\n      <td>married</td>\n      <td>basic.6y</td>\n      <td>no</td>\n      <td>no</td>\n      <td>no</td>\n      <td>telephone</td>\n      <td>may</td>\n      <td>mon</td>\n      <td>...</td>\n      <td>0</td>\n      <td>0</td>\n      <td>0</td>\n      <td>1</td>\n      <td>1</td>\n      <td>0</td>\n      <td>0</td>\n      <td>0</td>\n      <td>0</td>\n      <td>0</td>\n    </tr>\n    <tr>\n      <th>4</th>\n      <td>56</td>\n      <td>services</td>\n      <td>married</td>\n      <td>high.school</td>\n      <td>no</td>\n      <td>no</td>\n      <td>yes</td>\n      <td>NaN</td>\n      <td>may</td>\n      <td>mon</td>\n      <td>...</td>\n      <td>0</td>\n      <td>0</td>\n      <td>0</td>\n      <td>1</td>\n      <td>1</td>\n      <td>0</td>\n      <td>0</td>\n      <td>0</td>\n      <td>0</td>\n      <td>0</td>\n    </tr>\n    <tr>\n      <th>...</th>\n      <td>...</td>\n      <td>...</td>\n      <td>...</td>\n      <td>...</td>\n      <td>...</td>\n      <td>...</td>\n      <td>...</td>\n      <td>...</td>\n      <td>...</td>\n      <td>...</td>\n      <td>...</td>\n      <td>...</td>\n      <td>...</td>\n      <td>...</td>\n      <td>...</td>\n      <td>...</td>\n      <td>...</td>\n      <td>...</td>\n      <td>...</td>\n      <td>...</td>\n      <td>...</td>\n    </tr>\n    <tr>\n      <th>45302</th>\n      <td>30</td>\n      <td>admin.</td>\n      <td>NaN</td>\n      <td>basic.6y</td>\n      <td>no</td>\n      <td>yes</td>\n      <td>yes</td>\n      <td>cellular</td>\n      <td>jul</td>\n      <td>thu</td>\n      <td>...</td>\n      <td>0</td>\n      <td>0</td>\n      <td>0</td>\n      <td>5</td>\n      <td>0</td>\n      <td>0</td>\n      <td>0</td>\n      <td>0</td>\n      <td>1</td>\n      <td>0</td>\n    </tr>\n    <tr>\n      <th>45303</th>\n      <td>39</td>\n      <td>admin.</td>\n      <td>NaN</td>\n      <td>NaN</td>\n      <td>no</td>\n      <td>yes</td>\n      <td>no</td>\n      <td>NaN</td>\n      <td>jul</td>\n      <td>NaN</td>\n      <td>...</td>\n      <td>0</td>\n      <td>0</td>\n      <td>0</td>\n      <td>0</td>\n      <td>0</td>\n      <td>0</td>\n      <td>0</td>\n      <td>0</td>\n      <td>0</td>\n      <td>0</td>\n    </tr>\n    <tr>\n      <th>45304</th>\n      <td>27</td>\n      <td>student</td>\n      <td>single</td>\n      <td>high.school</td>\n      <td>no</td>\n      <td>NaN</td>\n      <td>no</td>\n      <td>NaN</td>\n      <td>NaN</td>\n      <td>mon</td>\n      <td>...</td>\n      <td>0</td>\n      <td>0</td>\n      <td>0</td>\n      <td>1</td>\n      <td>1</td>\n      <td>0</td>\n      <td>0</td>\n      <td>0</td>\n      <td>0</td>\n      <td>0</td>\n    </tr>\n    <tr>\n      <th>45305</th>\n      <td>NaN</td>\n      <td>admin.</td>\n      <td>NaN</td>\n      <td>NaN</td>\n      <td>no</td>\n      <td>no</td>\n      <td>NaN</td>\n      <td>cellular</td>\n      <td>aug</td>\n      <td>fri</td>\n      <td>...</td>\n      <td>0</td>\n      <td>0</td>\n      <td>0</td>\n      <td>4</td>\n      <td>0</td>\n      <td>0</td>\n      <td>0</td>\n      <td>1</td>\n      <td>0</td>\n      <td>0</td>\n    </tr>\n    <tr>\n      <th>45306</th>\n      <td>34</td>\n      <td>NaN</td>\n      <td>single</td>\n      <td>high.school</td>\n      <td>no</td>\n      <td>yes</td>\n      <td>no</td>\n      <td>cellular</td>\n      <td>nov</td>\n      <td>NaN</td>\n      <td>...</td>\n      <td>0</td>\n      <td>0</td>\n      <td>0</td>\n      <td>0</td>\n      <td>0</td>\n      <td>0</td>\n      <td>0</td>\n      <td>0</td>\n      <td>0</td>\n      <td>0</td>\n    </tr>\n  </tbody>\n</table>\n<p>45307 rows × 52 columns</p>\n</div>"
     },
     "execution_count": 91,
     "metadata": {},
     "output_type": "execute_result"
    }
   ],
   "source": [
    "data_all"
   ],
   "metadata": {
    "collapsed": false,
    "pycharm": {
     "name": "#%%\n"
    }
   }
  }
 ],
 "metadata": {
  "kernelspec": {
   "name": "pycharm-52a413d9",
   "language": "python",
   "display_name": "PyCharm (TwilightStruggle)"
  },
  "language_info": {
   "codemirror_mode": {
    "name": "ipython",
    "version": 2
   },
   "file_extension": ".py",
   "mimetype": "text/x-python",
   "name": "python",
   "nbconvert_exporter": "python",
   "pygments_lexer": "ipython2",
   "version": "2.7.6"
  }
 },
 "nbformat": 4,
 "nbformat_minor": 0
}
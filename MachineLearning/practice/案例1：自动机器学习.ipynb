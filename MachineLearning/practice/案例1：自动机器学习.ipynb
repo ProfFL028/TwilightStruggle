{
 "cells": [
  {
   "cell_type": "markdown",
   "metadata": {},
   "source": [
    "# 自动化机器学习：安装包"
   ]
  },
  {
   "cell_type": "code",
   "execution_count": 1,
   "metadata": {
    "deletable": false,
    "editable": false,
    "run_control": {
     "frozen": true
    }
   },
   "outputs": [
    {
     "ename": "SyntaxError",
     "evalue": "invalid syntax (<ipython-input-1-b9707b987345>, line 1)",
     "output_type": "error",
     "traceback": [
      "\u001B[0;36m  File \u001B[0;32m\"<ipython-input-1-b9707b987345>\"\u001B[0;36m, line \u001B[0;32m1\u001B[0m\n\u001B[0;31m    conda install numpy scipy scikit-learn pandas joblib pytorch\u001B[0m\n\u001B[0m          ^\u001B[0m\n\u001B[0;31mSyntaxError\u001B[0m\u001B[0;31m:\u001B[0m invalid syntax\n"
     ]
    }
   ],
   "source": [
    "conda install numpy scipy scikit-learn pandas joblib pytorch\n",
    "pip install deap update_checker tqdm stopit xgboost\n",
    "pip install tpot"
   ]
  },
  {
   "cell_type": "markdown",
   "metadata": {},
   "source": [
    "# 导入包"
   ]
  },
  {
   "cell_type": "code",
   "execution_count": 2,
   "metadata": {
    "ExecuteTime": {
     "end_time": "2022-01-08T05:34:37.770109Z",
     "start_time": "2022-01-08T05:34:37.353850Z"
    }
   },
   "outputs": [],
   "source": [
    "import numpy as np\n",
    "import pandas as pd\n",
    "import matplotlib.pyplot as plt\n",
    "import statsmodels.formula.api as smf\n",
    "from sklearn import linear_model\n",
    "import seaborn as sns\n",
    "plt.style.use('ggplot')\n",
    "%matplotlib inline\n",
    "plt.rcParams[\"font.sans-serif\"]=[\"SimHei\"]\n",
    "plt.rcParams[\"axes.unicode_minus\"]=False\n"
   ]
  },
  {
   "cell_type": "markdown",
   "metadata": {},
   "source": [
    "# 导入数据：残耗"
   ]
  },
  {
   "cell_type": "code",
   "execution_count": 3,
   "metadata": {
    "ExecuteTime": {
     "end_time": "2022-01-08T05:35:14.210069Z",
     "start_time": "2022-01-08T05:34:55.511528Z"
    }
   },
   "outputs": [
    {
     "data": {
      "text/plain": "<pandas.io.formats.style.Styler at 0x7ff24cb3ca00>",
      "text/html": "<style  type=\"text/css\" >\n</style><table id=\"T_ee574_\" ><thead>    <tr>        <th class=\"blank level0\" ></th>        <th class=\"col_heading level0 col0\" >编号</th>        <th class=\"col_heading level0 col1\" >v残耗</th>        <th class=\"col_heading level0 col2\" >v2样品序列</th>        <th class=\"col_heading level0 col3\" >v1合成剂</th>        <th class=\"col_heading level0 col4\" >v3燃料类型</th>        <th class=\"col_heading level0 col5\" >v2添加渠道</th>        <th class=\"col_heading level0 col6\" >v1执勤时效1</th>        <th class=\"col_heading level0 col7\" >助燃点</th>        <th class=\"col_heading level0 col8\" >烟碱量</th>        <th class=\"col_heading level0 col9\" >气体综合</th>        <th class=\"col_heading level0 col10\" >消耗烟脂</th>        <th class=\"col_heading level0 col11\" >吸阻</th>        <th class=\"col_heading level0 col12\" >吸阻过滤</th>        <th class=\"col_heading level0 col13\" >检查点位</th>        <th class=\"col_heading level0 col14\" >圆周点位</th>        <th class=\"col_heading level0 col15\" >焦油量</th>        <th class=\"col_heading level0 col16\" >助燃添加</th>        <th class=\"col_heading level0 col17\" >助燃反应</th>        <th class=\"col_heading level0 col18\" >烟碱HW</th>        <th class=\"col_heading level0 col19\" >钾元素</th>        <th class=\"col_heading level0 col20\" >钠元素</th>        <th class=\"col_heading level0 col21\" >助燃柠檬</th>        <th class=\"col_heading level0 col22\" >助燃</th>        <th class=\"col_heading level0 col23\" >过滤时效</th>        <th class=\"col_heading level0 col24\" >噪声</th>        <th class=\"col_heading level0 col25\" >温控</th>        <th class=\"col_heading level0 col26\" >偏离位</th>        <th class=\"col_heading level0 col27\" >标注</th>        <th class=\"col_heading level0 col28\" >起点位</th>        <th class=\"col_heading level0 col29\" >撤回点位</th>        <th class=\"col_heading level0 col30\" >收紧度</th>        <th class=\"col_heading level0 col31\" >通路</th>        <th class=\"col_heading level0 col32\" >lHH</th>    </tr></thead><tbody>\n                <tr>\n                        <th id=\"T_ee574_level0_row0\" class=\"row_heading level0 row0\" >0</th>\n                        <td id=\"T_ee574_row0_col0\" class=\"data row0 col0\" >GA#C0001</td>\n                        <td id=\"T_ee574_row0_col1\" class=\"data row0 col1\" >64.200000</td>\n                        <td id=\"T_ee574_row0_col2\" class=\"data row0 col2\" >1.000000</td>\n                        <td id=\"T_ee574_row0_col3\" class=\"data row0 col3\" >2.000000</td>\n                        <td id=\"T_ee574_row0_col4\" class=\"data row0 col4\" >2.000000</td>\n                        <td id=\"T_ee574_row0_col5\" class=\"data row0 col5\" >4.000000</td>\n                        <td id=\"T_ee574_row0_col6\" class=\"data row0 col6\" >1.000000</td>\n                        <td id=\"T_ee574_row0_col7\" class=\"data row0 col7\" >210.647000</td>\n                        <td id=\"T_ee574_row0_col8\" class=\"data row0 col8\" >1191.000000</td>\n                        <td id=\"T_ee574_row0_col9\" class=\"data row0 col9\" >1613.400000</td>\n                        <td id=\"T_ee574_row0_col10\" class=\"data row0 col10\" >nan</td>\n                        <td id=\"T_ee574_row0_col11\" class=\"data row0 col11\" >581.400000</td>\n                        <td id=\"T_ee574_row0_col12\" class=\"data row0 col12\" >76.400000</td>\n                        <td id=\"T_ee574_row0_col13\" class=\"data row0 col13\" >nan</td>\n                        <td id=\"T_ee574_row0_col14\" class=\"data row0 col14\" >375.400000</td>\n                        <td id=\"T_ee574_row0_col15\" class=\"data row0 col15\" >47.400000</td>\n                        <td id=\"T_ee574_row0_col16\" class=\"data row0 col16\" >29.410000</td>\n                        <td id=\"T_ee574_row0_col17\" class=\"data row0 col17\" >117.400000</td>\n                        <td id=\"T_ee574_row0_col18\" class=\"data row0 col18\" >541.400000</td>\n                        <td id=\"T_ee574_row0_col19\" class=\"data row0 col19\" >nan</td>\n                        <td id=\"T_ee574_row0_col20\" class=\"data row0 col20\" >388.400000</td>\n                        <td id=\"T_ee574_row0_col21\" class=\"data row0 col21\" >64.400000</td>\n                        <td id=\"T_ee574_row0_col22\" class=\"data row0 col22\" >37.922000</td>\n                        <td id=\"T_ee574_row0_col23\" class=\"data row0 col23\" >450.400000</td>\n                        <td id=\"T_ee574_row0_col24\" class=\"data row0 col24\" >14.920000</td>\n                        <td id=\"T_ee574_row0_col25\" class=\"data row0 col25\" >21.400000</td>\n                        <td id=\"T_ee574_row0_col26\" class=\"data row0 col26\" >203.000000</td>\n                        <td id=\"T_ee574_row0_col27\" class=\"data row0 col27\" >47.640000</td>\n                        <td id=\"T_ee574_row0_col28\" class=\"data row0 col28\" >87.887000</td>\n                        <td id=\"T_ee574_row0_col29\" class=\"data row0 col29\" >181.400000</td>\n                        <td id=\"T_ee574_row0_col30\" class=\"data row0 col30\" >19.500000</td>\n                        <td id=\"T_ee574_row0_col31\" class=\"data row0 col31\" >32.573000</td>\n                        <td id=\"T_ee574_row0_col32\" class=\"data row0 col32\" >2222.400000</td>\n            </tr>\n            <tr>\n                        <th id=\"T_ee574_level0_row1\" class=\"row_heading level0 row1\" >1</th>\n                        <td id=\"T_ee574_row1_col0\" class=\"data row1 col0\" >GA#C0002</td>\n                        <td id=\"T_ee574_row1_col1\" class=\"data row1 col1\" >43.200000</td>\n                        <td id=\"T_ee574_row1_col2\" class=\"data row1 col2\" >1.000000</td>\n                        <td id=\"T_ee574_row1_col3\" class=\"data row1 col3\" >1.000000</td>\n                        <td id=\"T_ee574_row1_col4\" class=\"data row1 col4\" >1.000000</td>\n                        <td id=\"T_ee574_row1_col5\" class=\"data row1 col5\" >4.000000</td>\n                        <td id=\"T_ee574_row1_col6\" class=\"data row1 col6\" >1.000000</td>\n                        <td id=\"T_ee574_row1_col7\" class=\"data row1 col7\" >48.473000</td>\n                        <td id=\"T_ee574_row1_col8\" class=\"data row1 col8\" >285.000000</td>\n                        <td id=\"T_ee574_row1_col9\" class=\"data row1 col9\" >465.400000</td>\n                        <td id=\"T_ee574_row1_col10\" class=\"data row1 col10\" >30.400000</td>\n                        <td id=\"T_ee574_row1_col11\" class=\"data row1 col11\" >359.400000</td>\n                        <td id=\"T_ee574_row1_col12\" class=\"data row1 col12\" >33.400000</td>\n                        <td id=\"T_ee574_row1_col13\" class=\"data row1 col13\" >82.800000</td>\n                        <td id=\"T_ee574_row1_col14\" class=\"data row1 col14\" >286.400000</td>\n                        <td id=\"T_ee574_row1_col15\" class=\"data row1 col15\" >34.400000</td>\n                        <td id=\"T_ee574_row1_col16\" class=\"data row1 col16\" >29.520000</td>\n                        <td id=\"T_ee574_row1_col17\" class=\"data row1 col17\" >134.400000</td>\n                        <td id=\"T_ee574_row1_col18\" class=\"data row1 col18\" >343.400000</td>\n                        <td id=\"T_ee574_row1_col19\" class=\"data row1 col19\" >65.400000</td>\n                        <td id=\"T_ee574_row1_col20\" class=\"data row1 col20\" >264.400000</td>\n                        <td id=\"T_ee574_row1_col21\" class=\"data row1 col21\" >189.400000</td>\n                        <td id=\"T_ee574_row1_col22\" class=\"data row1 col22\" >28.901000</td>\n                        <td id=\"T_ee574_row1_col23\" class=\"data row1 col23\" >403.400000</td>\n                        <td id=\"T_ee574_row1_col24\" class=\"data row1 col24\" >6.427000</td>\n                        <td id=\"T_ee574_row1_col25\" class=\"data row1 col25\" >28.400000</td>\n                        <td id=\"T_ee574_row1_col26\" class=\"data row1 col26\" >94.000000</td>\n                        <td id=\"T_ee574_row1_col27\" class=\"data row1 col27\" >38.560000</td>\n                        <td id=\"T_ee574_row1_col28\" class=\"data row1 col28\" >38.560000</td>\n                        <td id=\"T_ee574_row1_col29\" class=\"data row1 col29\" >107.400000</td>\n                        <td id=\"T_ee574_row1_col30\" class=\"data row1 col30\" >61.487000</td>\n                        <td id=\"T_ee574_row1_col31\" class=\"data row1 col31\" >43.053000</td>\n                        <td id=\"T_ee574_row1_col32\" class=\"data row1 col32\" >25528.400000</td>\n            </tr>\n            <tr>\n                        <th id=\"T_ee574_level0_row2\" class=\"row_heading level0 row2\" >2</th>\n                        <td id=\"T_ee574_row2_col0\" class=\"data row2 col0\" >GA#C0003</td>\n                        <td id=\"T_ee574_row2_col1\" class=\"data row2 col1\" >35.200000</td>\n                        <td id=\"T_ee574_row2_col2\" class=\"data row2 col2\" >1.000000</td>\n                        <td id=\"T_ee574_row2_col3\" class=\"data row2 col3\" >1.000000</td>\n                        <td id=\"T_ee574_row2_col4\" class=\"data row2 col4\" >1.000000</td>\n                        <td id=\"T_ee574_row2_col5\" class=\"data row2 col5\" >2.000000</td>\n                        <td id=\"T_ee574_row2_col6\" class=\"data row2 col6\" >1.000000</td>\n                        <td id=\"T_ee574_row2_col7\" class=\"data row2 col7\" >96.733000</td>\n                        <td id=\"T_ee574_row2_col8\" class=\"data row2 col8\" >670.000000</td>\n                        <td id=\"T_ee574_row2_col9\" class=\"data row2 col9\" >1092.400000</td>\n                        <td id=\"T_ee574_row2_col10\" class=\"data row2 col10\" >31.900000</td>\n                        <td id=\"T_ee574_row2_col11\" class=\"data row2 col11\" >754.400000</td>\n                        <td id=\"T_ee574_row2_col12\" class=\"data row2 col12\" >40.400000</td>\n                        <td id=\"T_ee574_row2_col13\" class=\"data row2 col13\" >83.800000</td>\n                        <td id=\"T_ee574_row2_col14\" class=\"data row2 col14\" >-171.600000</td>\n                        <td id=\"T_ee574_row2_col15\" class=\"data row2 col15\" >84.400000</td>\n                        <td id=\"T_ee574_row2_col16\" class=\"data row2 col16\" >29.420000</td>\n                        <td id=\"T_ee574_row2_col17\" class=\"data row2 col17\" >663.400000</td>\n                        <td id=\"T_ee574_row2_col18\" class=\"data row2 col18\" >251.400000</td>\n                        <td id=\"T_ee574_row2_col19\" class=\"data row2 col19\" >65.400000</td>\n                        <td id=\"T_ee574_row2_col20\" class=\"data row2 col20\" >-160.600000</td>\n                        <td id=\"T_ee574_row2_col21\" class=\"data row2 col21\" >292.400000</td>\n                        <td id=\"T_ee574_row2_col22\" class=\"data row2 col22\" >34.620000</td>\n                        <td id=\"T_ee574_row2_col23\" class=\"data row2 col23\" >224.400000</td>\n                        <td id=\"T_ee574_row2_col24\" class=\"data row2 col24\" >11.113000</td>\n                        <td id=\"T_ee574_row2_col25\" class=\"data row2 col25\" >87.400000</td>\n                        <td id=\"T_ee574_row2_col26\" class=\"data row2 col26\" >460.000000</td>\n                        <td id=\"T_ee574_row2_col27\" class=\"data row2 col27\" >94.773000</td>\n                        <td id=\"T_ee574_row2_col28\" class=\"data row2 col28\" >64.827000</td>\n                        <td id=\"T_ee574_row2_col29\" class=\"data row2 col29\" >441.400000</td>\n                        <td id=\"T_ee574_row2_col30\" class=\"data row2 col30\" >31.660000</td>\n                        <td id=\"T_ee574_row2_col31\" class=\"data row2 col31\" >34.173000</td>\n                        <td id=\"T_ee574_row2_col32\" class=\"data row2 col32\" >1884.400000</td>\n            </tr>\n            <tr>\n                        <th id=\"T_ee574_level0_row3\" class=\"row_heading level0 row3\" >3</th>\n                        <td id=\"T_ee574_row3_col0\" class=\"data row3 col0\" >GA#C0004</td>\n                        <td id=\"T_ee574_row3_col1\" class=\"data row3 col1\" >36.200000</td>\n                        <td id=\"T_ee574_row3_col2\" class=\"data row3 col2\" >1.000000</td>\n                        <td id=\"T_ee574_row3_col3\" class=\"data row3 col3\" >2.000000</td>\n                        <td id=\"T_ee574_row3_col4\" class=\"data row3 col4\" >nan</td>\n                        <td id=\"T_ee574_row3_col5\" class=\"data row3 col5\" >2.000000</td>\n                        <td id=\"T_ee574_row3_col6\" class=\"data row3 col6\" >1.000000</td>\n                        <td id=\"T_ee574_row3_col7\" class=\"data row3 col7\" >67.380000</td>\n                        <td id=\"T_ee574_row3_col8\" class=\"data row3 col8\" >2316.000000</td>\n                        <td id=\"T_ee574_row3_col9\" class=\"data row3 col9\" >3496.400000</td>\n                        <td id=\"T_ee574_row3_col10\" class=\"data row3 col10\" >30.300000</td>\n                        <td id=\"T_ee574_row3_col11\" class=\"data row3 col11\" >1178.400000</td>\n                        <td id=\"T_ee574_row3_col12\" class=\"data row3 col12\" >43.400000</td>\n                        <td id=\"T_ee574_row3_col13\" class=\"data row3 col13\" >80.800000</td>\n                        <td id=\"T_ee574_row3_col14\" class=\"data row3 col14\" >-75.600000</td>\n                        <td id=\"T_ee574_row3_col15\" class=\"data row3 col15\" >116.400000</td>\n                        <td id=\"T_ee574_row3_col16\" class=\"data row3 col16\" >29.510000</td>\n                        <td id=\"T_ee574_row3_col17\" class=\"data row3 col17\" >1039.400000</td>\n                        <td id=\"T_ee574_row3_col18\" class=\"data row3 col18\" >251.400000</td>\n                        <td id=\"T_ee574_row3_col19\" class=\"data row3 col19\" >nan</td>\n                        <td id=\"T_ee574_row3_col20\" class=\"data row3 col20\" >-97.600000</td>\n                        <td id=\"T_ee574_row3_col21\" class=\"data row3 col21\" >nan</td>\n                        <td id=\"T_ee574_row3_col22\" class=\"data row3 col22\" >28.477000</td>\n                        <td id=\"T_ee574_row3_col23\" class=\"data row3 col23\" >171.400000</td>\n                        <td id=\"T_ee574_row3_col24\" class=\"data row3 col24\" >6.153000</td>\n                        <td id=\"T_ee574_row3_col25\" class=\"data row3 col25\" >28.400000</td>\n                        <td id=\"T_ee574_row3_col26\" class=\"data row3 col26\" >364.000000</td>\n                        <td id=\"T_ee574_row3_col27\" class=\"data row3 col27\" >45.720000</td>\n                        <td id=\"T_ee574_row3_col28\" class=\"data row3 col28\" >45.720000</td>\n                        <td id=\"T_ee574_row3_col29\" class=\"data row3 col29\" >377.400000</td>\n                        <td id=\"T_ee574_row3_col30\" class=\"data row3 col30\" >5.273000</td>\n                        <td id=\"T_ee574_row3_col31\" class=\"data row3 col31\" >30.467000</td>\n                        <td id=\"T_ee574_row3_col32\" class=\"data row3 col32\" >5882.400000</td>\n            </tr>\n            <tr>\n                        <th id=\"T_ee574_level0_row4\" class=\"row_heading level0 row4\" >4</th>\n                        <td id=\"T_ee574_row4_col0\" class=\"data row4 col0\" >GA#C0005</td>\n                        <td id=\"T_ee574_row4_col1\" class=\"data row4 col1\" >26.200000</td>\n                        <td id=\"T_ee574_row4_col2\" class=\"data row4 col2\" >1.000000</td>\n                        <td id=\"T_ee574_row4_col3\" class=\"data row4 col3\" >2.000000</td>\n                        <td id=\"T_ee574_row4_col4\" class=\"data row4 col4\" >2.000000</td>\n                        <td id=\"T_ee574_row4_col5\" class=\"data row4 col5\" >4.000000</td>\n                        <td id=\"T_ee574_row4_col6\" class=\"data row4 col6\" >1.000000</td>\n                        <td id=\"T_ee574_row4_col7\" class=\"data row4 col7\" >59.107000</td>\n                        <td id=\"T_ee574_row4_col8\" class=\"data row4 col8\" >606.000000</td>\n                        <td id=\"T_ee574_row4_col9\" class=\"data row4 col9\" >1137.400000</td>\n                        <td id=\"T_ee574_row4_col10\" class=\"data row4 col10\" >nan</td>\n                        <td id=\"T_ee574_row4_col11\" class=\"data row4 col11\" >1199.400000</td>\n                        <td id=\"T_ee574_row4_col12\" class=\"data row4 col12\" >28.400000</td>\n                        <td id=\"T_ee574_row4_col13\" class=\"data row4 col13\" >nan</td>\n                        <td id=\"T_ee574_row4_col14\" class=\"data row4 col14\" >83.400000</td>\n                        <td id=\"T_ee574_row4_col15\" class=\"data row4 col15\" >49.400000</td>\n                        <td id=\"T_ee574_row4_col16\" class=\"data row4 col16\" >29.480000</td>\n                        <td id=\"T_ee574_row4_col17\" class=\"data row4 col17\" >51.400000</td>\n                        <td id=\"T_ee574_row4_col18\" class=\"data row4 col18\" >152.400000</td>\n                        <td id=\"T_ee574_row4_col19\" class=\"data row4 col19\" >65.400000</td>\n                        <td id=\"T_ee574_row4_col20\" class=\"data row4 col20\" >52.400000</td>\n                        <td id=\"T_ee574_row4_col21\" class=\"data row4 col21\" >986.400000</td>\n                        <td id=\"T_ee574_row4_col22\" class=\"data row4 col22\" >28.452000</td>\n                        <td id=\"T_ee574_row4_col23\" class=\"data row4 col23\" >680.400000</td>\n                        <td id=\"T_ee574_row4_col24\" class=\"data row4 col24\" >5.133000</td>\n                        <td id=\"T_ee574_row4_col25\" class=\"data row4 col25\" >30.400000</td>\n                        <td id=\"T_ee574_row4_col26\" class=\"data row4 col26\" >106.000000</td>\n                        <td id=\"T_ee574_row4_col27\" class=\"data row4 col27\" >45.580000</td>\n                        <td id=\"T_ee574_row4_col28\" class=\"data row4 col28\" >40.237000</td>\n                        <td id=\"T_ee574_row4_col29\" class=\"data row4 col29\" >128.400000</td>\n                        <td id=\"T_ee574_row4_col30\" class=\"data row4 col30\" >5.260000</td>\n                        <td id=\"T_ee574_row4_col31\" class=\"data row4 col31\" >30.433000</td>\n                        <td id=\"T_ee574_row4_col32\" class=\"data row4 col32\" >20894.400000</td>\n            </tr>\n            <tr>\n                        <th id=\"T_ee574_level0_row5\" class=\"row_heading level0 row5\" >5</th>\n                        <td id=\"T_ee574_row5_col0\" class=\"data row5 col0\" >GA#C0006</td>\n                        <td id=\"T_ee574_row5_col1\" class=\"data row5 col1\" >114.200000</td>\n                        <td id=\"T_ee574_row5_col2\" class=\"data row5 col2\" >1.000000</td>\n                        <td id=\"T_ee574_row5_col3\" class=\"data row5 col3\" >2.000000</td>\n                        <td id=\"T_ee574_row5_col4\" class=\"data row5 col4\" >4.000000</td>\n                        <td id=\"T_ee574_row5_col5\" class=\"data row5 col5\" >2.000000</td>\n                        <td id=\"T_ee574_row5_col6\" class=\"data row5 col6\" >2.000000</td>\n                        <td id=\"T_ee574_row5_col7\" class=\"data row5 col7\" >307.107000</td>\n                        <td id=\"T_ee574_row5_col8\" class=\"data row5 col8\" >395.000000</td>\n                        <td id=\"T_ee574_row5_col9\" class=\"data row5 col9\" >749.400000</td>\n                        <td id=\"T_ee574_row5_col10\" class=\"data row5 col10\" >32.900000</td>\n                        <td id=\"T_ee574_row5_col11\" class=\"data row5 col11\" >900.400000</td>\n                        <td id=\"T_ee574_row5_col12\" class=\"data row5 col12\" >82.400000</td>\n                        <td id=\"T_ee574_row5_col13\" class=\"data row5 col13\" >113.800000</td>\n                        <td id=\"T_ee574_row5_col14\" class=\"data row5 col14\" >920.400000</td>\n                        <td id=\"T_ee574_row5_col15\" class=\"data row5 col15\" >30.400000</td>\n                        <td id=\"T_ee574_row5_col16\" class=\"data row5 col16\" >29.450000</td>\n                        <td id=\"T_ee574_row5_col17\" class=\"data row5 col17\" >223.400000</td>\n                        <td id=\"T_ee574_row5_col18\" class=\"data row5 col18\" >1655.400000</td>\n                        <td id=\"T_ee574_row5_col19\" class=\"data row5 col19\" >64.400000</td>\n                        <td id=\"T_ee574_row5_col20\" class=\"data row5 col20\" >935.400000</td>\n                        <td id=\"T_ee574_row5_col21\" class=\"data row5 col21\" >6690.400000</td>\n                        <td id=\"T_ee574_row5_col22\" class=\"data row5 col22\" >29.819000</td>\n                        <td id=\"T_ee574_row5_col23\" class=\"data row5 col23\" >7359.400000</td>\n                        <td id=\"T_ee574_row5_col24\" class=\"data row5 col24\" >7.507000</td>\n                        <td id=\"T_ee574_row5_col25\" class=\"data row5 col25\" >nan</td>\n                        <td id=\"T_ee574_row5_col26\" class=\"data row5 col26\" >772.000000</td>\n                        <td id=\"T_ee574_row5_col27\" class=\"data row5 col27\" >528.967000</td>\n                        <td id=\"T_ee574_row5_col28\" class=\"data row5 col28\" >420.370000</td>\n                        <td id=\"T_ee574_row5_col29\" class=\"data row5 col29\" >748.400000</td>\n                        <td id=\"T_ee574_row5_col30\" class=\"data row5 col30\" >5.653000</td>\n                        <td id=\"T_ee574_row5_col31\" class=\"data row5 col31\" >30.407000</td>\n                        <td id=\"T_ee574_row5_col32\" class=\"data row5 col32\" >2986.400000</td>\n            </tr>\n    </tbody></table>"
     },
     "execution_count": 3,
     "metadata": {},
     "output_type": "execute_result"
    }
   ],
   "source": [
    "data=pd.read_excel(r\"./data/残耗.xlsx\")\n",
    "data.head(6).style"
   ]
  },
  {
   "cell_type": "markdown",
   "metadata": {},
   "source": [
    "# 缺失值填补"
   ]
  },
  {
   "cell_type": "code",
   "execution_count": 4,
   "metadata": {
    "ExecuteTime": {
     "end_time": "2022-01-08T05:36:08.462525Z",
     "start_time": "2022-01-08T05:35:52.093014Z"
    }
   },
   "outputs": [
    {
     "name": "stdout",
     "output_type": "stream",
     "text": [
      "Iteration: 0\n",
      "Iteration: 1\n",
      "Iteration: 2\n"
     ]
    },
    {
     "data": {
      "text/plain": "        v残耗  v2样品序列     v1合成剂    v3燃料类型    v2添加渠道  v1执勤时效1      助燃点     烟碱量  \\\n0      64.2     1.0  2.000000  2.000000  4.000000      1.0  210.647  1191.0   \n1      43.2     1.0  1.000000  1.000000  4.000000      1.0   48.473   285.0   \n2      35.2     1.0  1.000000  1.000000  2.000000      1.0   96.733   670.0   \n3      36.2     1.0  2.000000  1.568074  2.000000      1.0   67.380  2316.0   \n4      26.2     1.0  2.000000  2.000000  4.000000      1.0   59.107   606.0   \n...     ...     ...       ...       ...       ...      ...      ...     ...   \n56755  47.2     1.0  2.000000  4.000000  2.000000      1.0  241.280  4449.0   \n56756  31.2     1.0  2.000000  3.000000  4.000000      1.0   75.380  1204.0   \n56757  43.2     1.0  1.000000  1.000000  5.000000      1.0   29.707    24.0   \n56758  55.2     1.0  1.000000  2.000000  4.000000      1.0  295.887  1660.0   \n56759  51.2     1.0  1.971751  3.481473  2.845343      1.0   43.780    22.0   \n\n         气体综合       消耗烟脂  ...         过滤时效         噪声         温控         偏离位  \\\n0      1613.4  35.250949  ...   450.400000  14.920000  21.400000  203.000000   \n1       465.4  30.400000  ...   403.400000   6.427000  28.400000   94.000000   \n2      1092.4  31.900000  ...   224.400000  11.113000  87.400000  460.000000   \n3      3496.4  30.300000  ...   171.400000   6.153000  28.400000  364.000000   \n4      1137.4  35.250949  ...   680.400000   5.133000  30.400000  106.000000   \n...       ...        ...  ...          ...        ...        ...         ...   \n56755  6086.4  29.600000  ...  4371.400000   5.133000  77.400000  702.000000   \n56756  1728.4  35.250949  ...  1515.400000   6.263682  32.031322  157.000000   \n56757    73.4  32.700000  ...    93.400000   5.307000  27.400000  198.000000   \n56758  2627.4  36.400000  ...  1160.400000  15.161655  27.400000   95.000000   \n56759   111.4  35.500000  ...  1665.029462  10.107000  32.031322  303.403969   \n\n               标注         起点位        撤回点位     收紧度      通路      lHH  \n0       47.640000   87.887000  181.400000  19.500  32.573   2222.4  \n1       38.560000   38.560000  107.400000  61.487  43.053  25528.4  \n2       94.773000   64.827000  441.400000  31.660  34.173   1884.4  \n3       45.720000   45.720000  377.400000   5.273  30.467   5882.4  \n4       45.580000   40.237000  128.400000   5.260  30.433  20894.4  \n...           ...         ...         ...     ...     ...      ...  \n56755  195.267000  195.267000  715.400000  11.627  31.213  10135.4  \n56756  165.320000  116.120000  158.400000  16.873  33.127   7449.4  \n56757   30.600000   30.768000  239.400000   5.067  30.407   3841.4  \n56758  145.313000  103.837000  140.400000  23.420  33.293    516.4  \n56759  107.348687  107.445629  319.042217  25.513  34.747     32.4  \n\n[56760 rows x 32 columns]",
      "text/html": "<div>\n<style scoped>\n    .dataframe tbody tr th:only-of-type {\n        vertical-align: middle;\n    }\n\n    .dataframe tbody tr th {\n        vertical-align: top;\n    }\n\n    .dataframe thead th {\n        text-align: right;\n    }\n</style>\n<table border=\"1\" class=\"dataframe\">\n  <thead>\n    <tr style=\"text-align: right;\">\n      <th></th>\n      <th>v残耗</th>\n      <th>v2样品序列</th>\n      <th>v1合成剂</th>\n      <th>v3燃料类型</th>\n      <th>v2添加渠道</th>\n      <th>v1执勤时效1</th>\n      <th>助燃点</th>\n      <th>烟碱量</th>\n      <th>气体综合</th>\n      <th>消耗烟脂</th>\n      <th>...</th>\n      <th>过滤时效</th>\n      <th>噪声</th>\n      <th>温控</th>\n      <th>偏离位</th>\n      <th>标注</th>\n      <th>起点位</th>\n      <th>撤回点位</th>\n      <th>收紧度</th>\n      <th>通路</th>\n      <th>lHH</th>\n    </tr>\n  </thead>\n  <tbody>\n    <tr>\n      <th>0</th>\n      <td>64.2</td>\n      <td>1.0</td>\n      <td>2.000000</td>\n      <td>2.000000</td>\n      <td>4.000000</td>\n      <td>1.0</td>\n      <td>210.647</td>\n      <td>1191.0</td>\n      <td>1613.4</td>\n      <td>35.250949</td>\n      <td>...</td>\n      <td>450.400000</td>\n      <td>14.920000</td>\n      <td>21.400000</td>\n      <td>203.000000</td>\n      <td>47.640000</td>\n      <td>87.887000</td>\n      <td>181.400000</td>\n      <td>19.500</td>\n      <td>32.573</td>\n      <td>2222.4</td>\n    </tr>\n    <tr>\n      <th>1</th>\n      <td>43.2</td>\n      <td>1.0</td>\n      <td>1.000000</td>\n      <td>1.000000</td>\n      <td>4.000000</td>\n      <td>1.0</td>\n      <td>48.473</td>\n      <td>285.0</td>\n      <td>465.4</td>\n      <td>30.400000</td>\n      <td>...</td>\n      <td>403.400000</td>\n      <td>6.427000</td>\n      <td>28.400000</td>\n      <td>94.000000</td>\n      <td>38.560000</td>\n      <td>38.560000</td>\n      <td>107.400000</td>\n      <td>61.487</td>\n      <td>43.053</td>\n      <td>25528.4</td>\n    </tr>\n    <tr>\n      <th>2</th>\n      <td>35.2</td>\n      <td>1.0</td>\n      <td>1.000000</td>\n      <td>1.000000</td>\n      <td>2.000000</td>\n      <td>1.0</td>\n      <td>96.733</td>\n      <td>670.0</td>\n      <td>1092.4</td>\n      <td>31.900000</td>\n      <td>...</td>\n      <td>224.400000</td>\n      <td>11.113000</td>\n      <td>87.400000</td>\n      <td>460.000000</td>\n      <td>94.773000</td>\n      <td>64.827000</td>\n      <td>441.400000</td>\n      <td>31.660</td>\n      <td>34.173</td>\n      <td>1884.4</td>\n    </tr>\n    <tr>\n      <th>3</th>\n      <td>36.2</td>\n      <td>1.0</td>\n      <td>2.000000</td>\n      <td>1.568074</td>\n      <td>2.000000</td>\n      <td>1.0</td>\n      <td>67.380</td>\n      <td>2316.0</td>\n      <td>3496.4</td>\n      <td>30.300000</td>\n      <td>...</td>\n      <td>171.400000</td>\n      <td>6.153000</td>\n      <td>28.400000</td>\n      <td>364.000000</td>\n      <td>45.720000</td>\n      <td>45.720000</td>\n      <td>377.400000</td>\n      <td>5.273</td>\n      <td>30.467</td>\n      <td>5882.4</td>\n    </tr>\n    <tr>\n      <th>4</th>\n      <td>26.2</td>\n      <td>1.0</td>\n      <td>2.000000</td>\n      <td>2.000000</td>\n      <td>4.000000</td>\n      <td>1.0</td>\n      <td>59.107</td>\n      <td>606.0</td>\n      <td>1137.4</td>\n      <td>35.250949</td>\n      <td>...</td>\n      <td>680.400000</td>\n      <td>5.133000</td>\n      <td>30.400000</td>\n      <td>106.000000</td>\n      <td>45.580000</td>\n      <td>40.237000</td>\n      <td>128.400000</td>\n      <td>5.260</td>\n      <td>30.433</td>\n      <td>20894.4</td>\n    </tr>\n    <tr>\n      <th>...</th>\n      <td>...</td>\n      <td>...</td>\n      <td>...</td>\n      <td>...</td>\n      <td>...</td>\n      <td>...</td>\n      <td>...</td>\n      <td>...</td>\n      <td>...</td>\n      <td>...</td>\n      <td>...</td>\n      <td>...</td>\n      <td>...</td>\n      <td>...</td>\n      <td>...</td>\n      <td>...</td>\n      <td>...</td>\n      <td>...</td>\n      <td>...</td>\n      <td>...</td>\n      <td>...</td>\n    </tr>\n    <tr>\n      <th>56755</th>\n      <td>47.2</td>\n      <td>1.0</td>\n      <td>2.000000</td>\n      <td>4.000000</td>\n      <td>2.000000</td>\n      <td>1.0</td>\n      <td>241.280</td>\n      <td>4449.0</td>\n      <td>6086.4</td>\n      <td>29.600000</td>\n      <td>...</td>\n      <td>4371.400000</td>\n      <td>5.133000</td>\n      <td>77.400000</td>\n      <td>702.000000</td>\n      <td>195.267000</td>\n      <td>195.267000</td>\n      <td>715.400000</td>\n      <td>11.627</td>\n      <td>31.213</td>\n      <td>10135.4</td>\n    </tr>\n    <tr>\n      <th>56756</th>\n      <td>31.2</td>\n      <td>1.0</td>\n      <td>2.000000</td>\n      <td>3.000000</td>\n      <td>4.000000</td>\n      <td>1.0</td>\n      <td>75.380</td>\n      <td>1204.0</td>\n      <td>1728.4</td>\n      <td>35.250949</td>\n      <td>...</td>\n      <td>1515.400000</td>\n      <td>6.263682</td>\n      <td>32.031322</td>\n      <td>157.000000</td>\n      <td>165.320000</td>\n      <td>116.120000</td>\n      <td>158.400000</td>\n      <td>16.873</td>\n      <td>33.127</td>\n      <td>7449.4</td>\n    </tr>\n    <tr>\n      <th>56757</th>\n      <td>43.2</td>\n      <td>1.0</td>\n      <td>1.000000</td>\n      <td>1.000000</td>\n      <td>5.000000</td>\n      <td>1.0</td>\n      <td>29.707</td>\n      <td>24.0</td>\n      <td>73.4</td>\n      <td>32.700000</td>\n      <td>...</td>\n      <td>93.400000</td>\n      <td>5.307000</td>\n      <td>27.400000</td>\n      <td>198.000000</td>\n      <td>30.600000</td>\n      <td>30.768000</td>\n      <td>239.400000</td>\n      <td>5.067</td>\n      <td>30.407</td>\n      <td>3841.4</td>\n    </tr>\n    <tr>\n      <th>56758</th>\n      <td>55.2</td>\n      <td>1.0</td>\n      <td>1.000000</td>\n      <td>2.000000</td>\n      <td>4.000000</td>\n      <td>1.0</td>\n      <td>295.887</td>\n      <td>1660.0</td>\n      <td>2627.4</td>\n      <td>36.400000</td>\n      <td>...</td>\n      <td>1160.400000</td>\n      <td>15.161655</td>\n      <td>27.400000</td>\n      <td>95.000000</td>\n      <td>145.313000</td>\n      <td>103.837000</td>\n      <td>140.400000</td>\n      <td>23.420</td>\n      <td>33.293</td>\n      <td>516.4</td>\n    </tr>\n    <tr>\n      <th>56759</th>\n      <td>51.2</td>\n      <td>1.0</td>\n      <td>1.971751</td>\n      <td>3.481473</td>\n      <td>2.845343</td>\n      <td>1.0</td>\n      <td>43.780</td>\n      <td>22.0</td>\n      <td>111.4</td>\n      <td>35.500000</td>\n      <td>...</td>\n      <td>1665.029462</td>\n      <td>10.107000</td>\n      <td>32.031322</td>\n      <td>303.403969</td>\n      <td>107.348687</td>\n      <td>107.445629</td>\n      <td>319.042217</td>\n      <td>25.513</td>\n      <td>34.747</td>\n      <td>32.4</td>\n    </tr>\n  </tbody>\n</table>\n<p>56760 rows × 32 columns</p>\n</div>"
     },
     "execution_count": 4,
     "metadata": {},
     "output_type": "execute_result"
    }
   ],
   "source": [
    "import sklearn.neighbors._base\n",
    "import sys\n",
    "sys.modules['sklearn.neighbors.base'] = sklearn.neighbors._base\n",
    "\n",
    "#-----------或使用模型填补----------\n",
    "from missingpy import KNNImputer,MissForest\n",
    "imput=MissForest(n_estimators=1,min_samples_leaf=9000,n_jobs=-1,copy=False)\n",
    "data5=imput.fit_transform(data.iloc[:,1:])\n",
    "data51=pd.DataFrame(data5,columns=data.iloc[:,1:].columns)\n",
    "data51"
   ]
  },
  {
   "cell_type": "markdown",
   "metadata": {},
   "source": [
    "# 数据抽样"
   ]
  },
  {
   "cell_type": "code",
   "execution_count": 5,
   "metadata": {
    "ExecuteTime": {
     "end_time": "2022-01-08T05:59:03.322145Z",
     "start_time": "2022-01-08T05:59:03.313152Z"
    }
   },
   "outputs": [],
   "source": [
    "dataS=data51.sample(2000)\n",
    "x,y=dataS.iloc[:,6:],dataS['v残耗']"
   ]
  },
  {
   "cell_type": "markdown",
   "metadata": {},
   "source": [
    "# 构建自动化ML"
   ]
  },
  {
   "cell_type": "code",
   "execution_count": 6,
   "metadata": {
    "ExecuteTime": {
     "end_time": "2022-01-08T06:06:23.984719Z",
     "start_time": "2022-01-08T05:59:05.502351Z"
    }
   },
   "outputs": [
    {
     "name": "stdout",
     "output_type": "stream",
     "text": [
      "30 operators have been imported by TPOT.\n"
     ]
    },
    {
     "data": {
      "text/plain": "Optimization Progress:   0%|          | 0/100 [00:00<?, ?pipeline/s]",
      "application/vnd.jupyter.widget-view+json": {
       "version_major": 2,
       "version_minor": 0,
       "model_id": "52626078fff74ec1b33812bfdbf5bdf9"
      }
     },
     "metadata": {},
     "output_type": "display_data"
    },
    {
     "name": "stdout",
     "output_type": "stream",
     "text": [
      "_pre_test decorator: _random_mutation_operator: num_test=0 feature_names mismatch: ['助燃点', '烟碱量', '气体综合', '消耗烟脂', '吸阻', '吸阻过滤', '检查点位', '圆周点位', '焦油量', '助燃添加', '助燃反应', '烟碱HW', '钾元素', '钠元素', '助燃柠檬', '助燃', '过滤时效', '噪声', '温控', '偏离位', '标注', '起点位', '撤回点位', '收紧度', '通路', 'lHH'] ['f0', 'f1', 'f2', 'f3', 'f4', 'f5', 'f6', 'f7', 'f8', 'f9', 'f10', 'f11', 'f12', 'f13', 'f14', 'f15', 'f16', 'f17', 'f18', 'f19', 'f20', 'f21', 'f22', 'f23', 'f24', 'f25']\n",
      "expected 助燃点, 烟碱HW, 助燃, 噪声, 通路, 助燃反应, lHH, 起点位, 吸阻过滤, 圆周点位, 偏离位, 收紧度, 助燃柠檬, 标注, 吸阻, 消耗烟脂, 钾元素, 温控, 焦油量, 烟碱量, 气体综合, 检查点位, 助燃添加, 过滤时效, 撤回点位, 钠元素 in input data\n",
      "training data did not have the following fields: f2, f4, f17, f3, f11, f0, f14, f5, f1, f9, f19, f15, f23, f6, f12, f7, f8, f13, f10, f18, f24, f21, f25, f22, f20, f16.\n",
      "_pre_test decorator: _random_mutation_operator: num_test=0 feature_names mismatch: ['助燃点', '烟碱量', '气体综合', '消耗烟脂', '吸阻', '吸阻过滤', '检查点位', '圆周点位', '焦油量', '助燃添加', '助燃反应', '烟碱HW', '钾元素', '钠元素', '助燃柠檬', '助燃', '过滤时效', '噪声', '温控', '偏离位', '标注', '起点位', '撤回点位', '收紧度', '通路', 'lHH'] ['f0', 'f1', 'f2', 'f3', 'f4', 'f5', 'f6', 'f7', 'f8', 'f9', 'f10', 'f11', 'f12', 'f13', 'f14', 'f15', 'f16', 'f17', 'f18', 'f19', 'f20', 'f21', 'f22', 'f23', 'f24', 'f25']\n",
      "expected 助燃点, 烟碱HW, 助燃, 噪声, 通路, 助燃反应, lHH, 起点位, 吸阻过滤, 圆周点位, 偏离位, 收紧度, 助燃柠檬, 标注, 吸阻, 消耗烟脂, 钾元素, 温控, 焦油量, 烟碱量, 气体综合, 检查点位, 助燃添加, 过滤时效, 撤回点位, 钠元素 in input data\n",
      "training data did not have the following fields: f2, f4, f17, f3, f11, f0, f14, f5, f1, f9, f19, f15, f23, f6, f12, f7, f8, f13, f10, f18, f24, f21, f25, f22, f20, f16.\n",
      "_pre_test decorator: _random_mutation_operator: num_test=0 '(slice(None, None, None), 0)' is an invalid key.\n",
      "_pre_test decorator: _random_mutation_operator: num_test=0 Unsupported set of arguments: The combination of penalty='l2' and loss='epsilon_insensitive' are not supported when dual=False, Parameters: penalty='l2', loss='epsilon_insensitive', dual=False.\n",
      "\n",
      "Generation 1 - Current Pareto front scores:\n",
      "\n",
      "-1\t-56.68798955271545\tXGBRegressor(input_matrix, XGBRegressor__learning_rate=0.1, XGBRegressor__max_depth=1, XGBRegressor__min_child_weight=11, XGBRegressor__n_estimators=100, XGBRegressor__n_jobs=1, XGBRegressor__objective=reg:squarederror, XGBRegressor__subsample=0.2, XGBRegressor__verbosity=0)\n",
      "\n",
      "-2\t-53.81969194213275\tRandomForestRegressor(RidgeCV(input_matrix), RandomForestRegressor__bootstrap=True, RandomForestRegressor__max_features=0.8, RandomForestRegressor__min_samples_leaf=14, RandomForestRegressor__min_samples_split=18, RandomForestRegressor__n_estimators=100)\n",
      "-30.063172694278013\n"
     ]
    }
   ],
   "source": [
    "from tpot import TPOTClassifier,TPOTRegressor\n",
    "from sklearn.model_selection import train_test_split\n",
    "\n",
    "X_train, X_test, y_train, y_test = train_test_split(x,y,train_size=0.7, random_state=123)\n",
    "tpot = TPOTRegressor(scoring='f1_weighted', generations=1, population_size=50, verbosity=3, random_state=123)\n",
    "tpot.fit(X_train, y_train)\n",
    "print(tpot.score(X_test, y_test))\n",
    "# tpot.export(r'C:\\Users\\Administrator\\Desktop\\tpot_iris_pipeline.py')"
   ]
  },
  {
   "cell_type": "code",
   "execution_count": null,
   "metadata": {
    "ExecuteTime": {
     "end_time": "2022-01-08T06:08:57.493810Z",
     "start_time": "2022-01-08T06:08:57.482818Z"
    }
   },
   "outputs": [],
   "source": []
  }
 ],
 "metadata": {
  "kernelspec": {
   "display_name": "Python 3 (ipykernel)",
   "language": "python",
   "name": "python3"
  },
  "language_info": {
   "codemirror_mode": {
    "name": "ipython",
    "version": 3
   },
   "file_extension": ".py",
   "mimetype": "text/x-python",
   "name": "python",
   "nbconvert_exporter": "python",
   "pygments_lexer": "ipython3",
   "version": "3.9.7"
  },
  "latex_envs": {
   "LaTeX_envs_menu_present": true,
   "autoclose": false,
   "autocomplete": true,
   "bibliofile": "biblio.bib",
   "cite_by": "apalike",
   "current_citInitial": 1,
   "eqLabelWithNumbers": true,
   "eqNumInitial": 1,
   "hotkeys": {
    "equation": "Ctrl-E",
    "itemize": "Ctrl-I"
   },
   "labels_anchors": false,
   "latex_user_defs": false,
   "report_style_numbering": false,
   "user_envs_cfg": false
  },
  "toc": {
   "base_numbering": 1,
   "nav_menu": {},
   "number_sections": true,
   "sideBar": true,
   "skip_h1_title": false,
   "title_cell": "Table of Contents",
   "title_sidebar": "Contents",
   "toc_cell": false,
   "toc_position": {
    "height": "403.667px",
    "left": "41px",
    "top": "111.125px",
    "width": "165px"
   },
   "toc_section_display": true,
   "toc_window_display": true
  },
  "varInspector": {
   "cols": {
    "lenName": 16,
    "lenType": 16,
    "lenVar": 40
   },
   "kernels_config": {
    "python": {
     "delete_cmd_postfix": "",
     "delete_cmd_prefix": "del ",
     "library": "var_list.py",
     "varRefreshCmd": "print(var_dic_list())"
    },
    "r": {
     "delete_cmd_postfix": ") ",
     "delete_cmd_prefix": "rm(",
     "library": "var_list.r",
     "varRefreshCmd": "cat(var_dic_list()) "
    }
   },
   "types_to_exclude": [
    "module",
    "function",
    "builtin_function_or_method",
    "instance",
    "_Feature"
   ],
   "window_display": false
  }
 },
 "nbformat": 4,
 "nbformat_minor": 2
}
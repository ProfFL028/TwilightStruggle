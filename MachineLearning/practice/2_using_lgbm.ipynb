{
 "cells": [
  {
   "cell_type": "code",
   "execution_count": 9,
   "metadata": {
    "collapsed": true,
    "pycharm": {
     "name": "#%%\n"
    }
   },
   "outputs": [
    {
     "data": {
      "text/plain": "id\n0        0.0\n1        0.0\n2        0.0\n3        0.0\n4        0.0\n        ... \n41183    1.0\n41184    0.0\n41185    0.0\n41186    1.0\n41187    0.0\nName: y, Length: 41188, dtype: float64"
     },
     "execution_count": 9,
     "metadata": {},
     "output_type": "execute_result"
    }
   ],
   "source": [
    "import pandas as pd\n",
    "import  numpy as np\n",
    "\n",
    "data = pd.read_csv(\"./data/2_preprcossing_train.csv\", index_col='id')\n",
    "data.head(5)\n",
    "X = data.iloc[:, :-1]\n",
    "y = data['y']\n",
    "y"
   ]
  },
  {
   "cell_type": "code",
   "execution_count": 10,
   "outputs": [],
   "source": [
    "from sklearn.model_selection import train_test_split\n",
    "random_seed = 42\n",
    "X_train, X_valid, y_train, y_valid = train_test_split(X, y, test_size=0.25, random_state=random_seed, stratify=y)\n"
   ],
   "metadata": {
    "collapsed": false,
    "pycharm": {
     "name": "#%%\n"
    }
   }
  },
  {
   "cell_type": "code",
   "execution_count": 11,
   "outputs": [],
   "source": [
    "from sklearn.impute import SimpleImputer\n",
    "impute = SimpleImputer(strategy='most_frequent')\n",
    "X_train = impute.fit_transform(X_train)\n",
    "X_valid = impute.transform(X_valid)\n",
    "X_train = pd.DataFrame(X_train, columns=X.columns)"
   ],
   "metadata": {
    "collapsed": false,
    "pycharm": {
     "name": "#%%\n"
    }
   }
  },
  {
   "cell_type": "code",
   "execution_count": 12,
   "outputs": [
    {
     "data": {
      "text/plain": "0.0    27411\n1.0    27411\nName: y, dtype: int64"
     },
     "execution_count": 12,
     "metadata": {},
     "output_type": "execute_result"
    }
   ],
   "source": [
    "from imblearn.over_sampling import SMOTE, BorderlineSMOTE\n",
    "oversample = BorderlineSMOTE()\n",
    "X_over, y_over = oversample.fit_resample(X_train, y_train)\n",
    "y_over.value_counts()"
   ],
   "metadata": {
    "collapsed": false,
    "pycharm": {
     "name": "#%%\n"
    }
   }
  },
  {
   "cell_type": "code",
   "execution_count": 25,
   "outputs": [
    {
     "data": {
      "text/plain": "HalvingRandomSearchCV(estimator=LGBMClassifier(boosting_type='dart',\n                                               max_depth=6,\n                                               min_child_samples=400,\n                                               n_estimators=200, num_leaves=15,\n                                               reg_lambda=0.01),\n                      factor=2, max_resources=30,\n                      param_distributions={'learning_rate': [0.01, 0.02, 0.05,\n                                                             0.1, 0.2, 0.3],\n                                           'max_depth': [3, 4, 5, 6, 7, 8, 9,\n                                                         10],\n                                           'min_child_samples': [100, 200, 300,\n                                                                 400, 500],\n                                           'num_leaves': [15, 31, 49, 63, 127]},\n                      random_state=42, resource='n_estimators')"
     },
     "execution_count": 25,
     "metadata": {},
     "output_type": "execute_result"
    }
   ],
   "source": [
    "from lightgbm.sklearn import LGBMClassifier\n",
    "params = {\n",
    "          'max_depth': [3,4,5,6,7,8,9,10],  # 最大深度\n",
    "            # 树的数量\n",
    "          'learning_rate': [0.01, 0.02, 0.05, 0.1,0.2,0.3],\n",
    "          'num_leaves': [15, 31, 49, 63, 127],\n",
    "          'min_child_samples': [100, 200, 300, 400, 500]\n",
    "          }\n",
    "from sklearn.experimental import enable_halving_search_cv  # noqa\n",
    "from sklearn.model_selection import HalvingRandomSearchCV\n",
    "lgb = LGBMClassifier(reg_lambda=0.01,\n",
    "                     max_depth=6,\n",
    "                     num_leaves=15,\n",
    "                     min_child_samples=400,\n",
    "                     boosting_type='dart',\n",
    "                     n_estimators = 200)\n",
    "random_search = HalvingRandomSearchCV(estimator=lgb, param_distributions=params,\n",
    "                                      factor=2, resource='n_estimators',\n",
    "                                      scoring='f1'\n",
    "                                      max_resources=30,\n",
    "    random_state=random_seed)\n",
    "random_search.fit(X_train, y_train)"
   ],
   "metadata": {
    "collapsed": false,
    "pycharm": {
     "name": "#%%\n"
    }
   }
  },
  {
   "cell_type": "code",
   "execution_count": 27,
   "outputs": [
    {
     "name": "stdout",
     "output_type": "stream",
     "text": [
      "0.9513112758658847\n",
      "0.5505356311131813\n"
     ]
    }
   ],
   "source": [
    "y_train_pred = random_search.predict(X_over)\n",
    "y_valid_pred = random_search.predict(X_valid)\n",
    "\n",
    "from sklearn.metrics import f1_score\n",
    "print(f1_score(y_over, y_train_pred))\n",
    "print(f1_score(y_valid, y_valid_pred))"
   ],
   "metadata": {
    "collapsed": false,
    "pycharm": {
     "name": "#%%\n"
    }
   }
  },
  {
   "cell_type": "code",
   "execution_count": 28,
   "outputs": [
    {
     "data": {
      "text/plain": "{'num_leaves': 63,\n 'min_child_samples': 100,\n 'max_depth': 10,\n 'learning_rate': 0.3,\n 'n_estimators': 16}"
     },
     "execution_count": 28,
     "metadata": {},
     "output_type": "execute_result"
    }
   ],
   "source": [
    "random_search.best_params_"
   ],
   "metadata": {
    "collapsed": false,
    "pycharm": {
     "name": "#%%\n"
    }
   }
  },
  {
   "cell_type": "code",
   "execution_count": 29,
   "outputs": [
    {
     "data": {
      "text/plain": "{'boosting_type': 'dart',\n 'class_weight': None,\n 'colsample_bytree': 1.0,\n 'importance_type': 'split',\n 'learning_rate': 0.1,\n 'max_depth': 6,\n 'min_child_samples': 400,\n 'min_child_weight': 0.001,\n 'min_split_gain': 0.0,\n 'n_estimators': 200,\n 'n_jobs': -1,\n 'num_leaves': 15,\n 'objective': None,\n 'random_state': None,\n 'reg_alpha': 0.0,\n 'reg_lambda': 0.01,\n 'silent': 'warn',\n 'subsample': 1.0,\n 'subsample_for_bin': 200000,\n 'subsample_freq': 0}"
     },
     "execution_count": 29,
     "metadata": {},
     "output_type": "execute_result"
    }
   ],
   "source": [
    "lgb.get_params()"
   ],
   "metadata": {
    "collapsed": false,
    "pycharm": {
     "name": "#%%\n"
    }
   }
  }
 ],
 "metadata": {
  "kernelspec": {
   "display_name": "Python 3",
   "language": "python",
   "name": "python3"
  },
  "language_info": {
   "codemirror_mode": {
    "name": "ipython",
    "version": 2
   },
   "file_extension": ".py",
   "mimetype": "text/x-python",
   "name": "python",
   "nbconvert_exporter": "python",
   "pygments_lexer": "ipython2",
   "version": "2.7.6"
  }
 },
 "nbformat": 4,
 "nbformat_minor": 0
}
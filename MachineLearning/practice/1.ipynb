{
 "cells": [
  {
   "cell_type": "code",
   "execution_count": 1,
   "metadata": {
    "collapsed": true
   },
   "outputs": [],
   "source": [
    "import pandas as pd\n",
    "import numpy as np\n",
    "import matplotlib.pyplot as plot"
   ]
  },
  {
   "cell_type": "code",
   "execution_count": 2,
   "outputs": [
    {
     "data": {
      "text/plain": "              主页ID        主页名称    分类  \\\n0  155000000000000  纬来体育台官方粉丝团  电视频道   \n1     359000000000       公视粉丝团  电视频道   \n2     359000000000       公视粉丝团  电视频道   \n3     190000000000    Mobile01  网路社群   \n4     359000000000       公视粉丝团  电视频道   \n\n                                             message                    name  \\\n0                      中华队长林智胜 三分砲！！！\\n人如其名　真的「致胜」阿～                     NaN   \n1    您所选择的电视频道，将会决定您的未来~\\n遥控器的决定权，就在你手上！\\n\\n#看见更好的未来  2015公视电视募款 公视让你看见更好的未来   \n2  好演员值得更多肯定和掌声！\\n\\n吴慷仁提到大概有六、七年资历的演员，所面临的最大困境，是赚...                   公视粉丝团   \n3                              大师兄 一发炸裂！！帅啊啊啊啊啊啊啊！！！       来自 Mobile01 贴文的相片   \n4  「再不救，就来不及了！如果没有很强力的救，再三十年，你可能找不到鹿港的味道了！」\\n\\n「两...              【我们的岛】抢救鹿港   \n\n                                         description   发文类型  y  \n0                                                NaN  video  H  \n1  这是一个资讯爆炸的时代，你所选择的资讯将决定你的视野；你所选择的电视频道，将会决定你的未来 ...  video  L  \n2                                                NaN   link  L  \n3                                                NaN  photo  H  \n4  叶明兰、叶镇中 / 采访报导 「再不救，就来不及了！如果没有很强力的救，再三十年，你可能找不...   link  L  ",
      "text/html": "<div>\n<style scoped>\n    .dataframe tbody tr th:only-of-type {\n        vertical-align: middle;\n    }\n\n    .dataframe tbody tr th {\n        vertical-align: top;\n    }\n\n    .dataframe thead th {\n        text-align: right;\n    }\n</style>\n<table border=\"1\" class=\"dataframe\">\n  <thead>\n    <tr style=\"text-align: right;\">\n      <th></th>\n      <th>主页ID</th>\n      <th>主页名称</th>\n      <th>分类</th>\n      <th>message</th>\n      <th>name</th>\n      <th>description</th>\n      <th>发文类型</th>\n      <th>y</th>\n    </tr>\n  </thead>\n  <tbody>\n    <tr>\n      <th>0</th>\n      <td>155000000000000</td>\n      <td>纬来体育台官方粉丝团</td>\n      <td>电视频道</td>\n      <td>中华队长林智胜 三分砲！！！\\n人如其名　真的「致胜」阿～</td>\n      <td>NaN</td>\n      <td>NaN</td>\n      <td>video</td>\n      <td>H</td>\n    </tr>\n    <tr>\n      <th>1</th>\n      <td>359000000000</td>\n      <td>公视粉丝团</td>\n      <td>电视频道</td>\n      <td>您所选择的电视频道，将会决定您的未来~\\n遥控器的决定权，就在你手上！\\n\\n#看见更好的未来</td>\n      <td>2015公视电视募款 公视让你看见更好的未来</td>\n      <td>这是一个资讯爆炸的时代，你所选择的资讯将决定你的视野；你所选择的电视频道，将会决定你的未来 ...</td>\n      <td>video</td>\n      <td>L</td>\n    </tr>\n    <tr>\n      <th>2</th>\n      <td>359000000000</td>\n      <td>公视粉丝团</td>\n      <td>电视频道</td>\n      <td>好演员值得更多肯定和掌声！\\n\\n吴慷仁提到大概有六、七年资历的演员，所面临的最大困境，是赚...</td>\n      <td>公视粉丝团</td>\n      <td>NaN</td>\n      <td>link</td>\n      <td>L</td>\n    </tr>\n    <tr>\n      <th>3</th>\n      <td>190000000000</td>\n      <td>Mobile01</td>\n      <td>网路社群</td>\n      <td>大师兄 一发炸裂！！帅啊啊啊啊啊啊啊！！！</td>\n      <td>来自 Mobile01 贴文的相片</td>\n      <td>NaN</td>\n      <td>photo</td>\n      <td>H</td>\n    </tr>\n    <tr>\n      <th>4</th>\n      <td>359000000000</td>\n      <td>公视粉丝团</td>\n      <td>电视频道</td>\n      <td>「再不救，就来不及了！如果没有很强力的救，再三十年，你可能找不到鹿港的味道了！」\\n\\n「两...</td>\n      <td>【我们的岛】抢救鹿港</td>\n      <td>叶明兰、叶镇中 / 采访报导 「再不救，就来不及了！如果没有很强力的救，再三十年，你可能找不...</td>\n      <td>link</td>\n      <td>L</td>\n    </tr>\n  </tbody>\n</table>\n</div>"
     },
     "execution_count": 2,
     "metadata": {},
     "output_type": "execute_result"
    }
   ],
   "source": [
    "data = pd.read_excel(\"./data/1_train.xlsx\")\n",
    "data.head(5)"
   ],
   "metadata": {
    "collapsed": false,
    "pycharm": {
     "name": "#%%\n"
    }
   }
  },
  {
   "cell_type": "code",
   "execution_count": 3,
   "outputs": [
    {
     "name": "stdout",
     "output_type": "stream",
     "text": [
      "---------------------------------------------\n",
      "data contains [ 7829 ] records \n",
      "主页ID do not have any null values.\n",
      "主页ID  is numeric column:\n",
      "count    7.829000e+03\n",
      "mean     2.764040e+14\n",
      "std      4.093619e+14\n",
      "min      6.282507e+10\n",
      "25%      1.090000e+14\n",
      "50%      1.260000e+14\n",
      "75%      2.420000e+14\n",
      "max      1.650000e+15\n",
      "Name: 主页ID, dtype: float64\n",
      "\n",
      "\n",
      "\n",
      "---------------------------------------------\n",
      "主页名称 do not have any null values.\n",
      "主页名称  has [ 133 ] different values, please create features yourself!\n",
      "please notice here are some seldom_indexes:  Index(['疯神无双', 'PTT网路电台/PTTradio', '我的自由年代', '金马影展 TGHFF', '联合报plus', '十二夜',\n",
      "       '沃草！（Watchout）', 'NOWnews.com 今日新闻网', '【玩命关头】电影粉丝专属页面', '苹果娱乐新闻',\n",
      "       'Running Man 台湾之家', '长不大的爸爸',\n",
      "       '老外看中国、老外看台湾 A Laowai's View of China & Taiwan', 'PanSci 科学新闻网',\n",
      "       'udn.com 联合新闻网', '大纪元时报 - 台湾(The Epoch Times - Taiwan)',\n",
      "       '得利影视．go movie 情报站', '新头壳newtalk', 'KKBOX', 'ifilm/传影互动', '听见幸福',\n",
      "       '食尚玩家', 'PNN公视新闻议题中心', '综艺大集合', '妹妹', 'MamaClub',\n",
      "       'PTT Gossiping 批踢踢八卦板', '威视电影', '公视HD 高画质频道', '楼下的房客',\n",
      "       '想想论坛 Thinking Taiwan Forum', '键盘大柠檬', 'La Vie 设计美学站',\n",
      "       'Running Man ??? 台湾总站', '全民大新闻', '经济日报', 'Hami+?音乐', '综艺大热门', '乡民实业坊',\n",
      "       '等一个人咖啡', 'Warner Bros Pictures TW', '华映娱乐', 'Bios Monthly',\n",
      "       'Tripass 景点家', '旅游生活频道', '我可能不会爱你', '爽报', 'VOGUE Angels 时尚妈咪',\n",
      "       '加藤军台湾粉丝团 2.0', '动物星球频道(台湾)', '独立特派员', '新唐人亚太电视台', 'BuzzOrange',\n",
      "       'Technews 科技新报', '正晶限时批-限时批政经', '看见台湾', 'FOX', 'Maison Motion',\n",
      "       'iBeauty 爱漂亮', '篮球部落 DA VILLAGE', 'Daai TV', '采昌国际多媒体', '小日子 X 好生活',\n",
      "       '食尚玩家368城乡故事'],\n",
      "      dtype='object')\n",
      "\n",
      "\n",
      "\n",
      "---------------------------------------------\n",
      "分类 do not have any null values.\n",
      "分类  has [ 12 ] different values, please create features yourself!\n",
      "please notice here are some seldom_indexes:  Index(['电影公司', '电影', '广播', '电影相关活动', '音乐'], dtype='object')\n",
      "\n",
      "\n",
      "\n",
      "---------------------------------------------\n",
      "message have 24 null values:\n",
      "\n",
      "message  has [ 7802 ] different values, please create features yourself!\n",
      "please notice here are some seldom_indexes:  Index([], dtype='object')\n",
      "\n",
      "\n",
      "\n",
      "---------------------------------------------\n",
      "name have 282 null values:\n",
      "\n",
      "name  has [ 6350 ] different values, please create features yourself!\n",
      "please notice here are some seldom_indexes:  Index([], dtype='object')\n",
      "\n",
      "\n",
      "\n",
      "---------------------------------------------\n",
      "description have 2046 null values:\n",
      "\n",
      "description  has [ 5637 ] different values, please create features yourself!\n",
      "please notice here are some seldom_indexes:  Index([], dtype='object')\n",
      "\n",
      "\n",
      "\n",
      "---------------------------------------------\n",
      "发文类型 do not have any null values.\n",
      "link                                                                                                                                                                                                                                                                                                             6150\n",
      "photo                                                                                                                                                                                                                                                                                                            1261\n",
      "video                                                                                                                                                                                                                                                                                                             386\n",
      "status                                                                                                                                                                                                                                                                                                             28\n",
      "event                                                                                                                                                                                                                                                                                                               2\n",
      "在逢甲夜市卖麦芽饼的阿伯，今年70多岁，外表看起来相当硬朗，由于小孩出车祸，一年多没有工作，另一名孩子住在精神疗养院，为撑起家中经济，常常                                                                                                                                                                                                                                               1\n",
      "【插画】大人都搞不清楚的事情，为什么要逼一个16岁的孩子承担？ 2016/01/16 00:04:00 发表于 | 政治 ? 插画 爵爵&猫叔 叫我爵爵，身在香港的台湾人；猫叔，曾住过台湾的香港人。 看更多爵爵&猫叔的文章 power by Cyberon TTS （TNL说说画） 引述〈JYP子瑜无奈道歉！鞠躬喊「身为中国人骄傲」〉： 16岁的台湾女孩周子瑜，在南韩综艺节目上举国旗、自称来自台湾，遭黄安紧咬是「天然独」祭旗，演艺事业受重创，今晚她和东家「JYP娱乐」老板朴轸永，先后在官方微博以影片及文字向中国网友道歉，子瑜素颜手持声明稿照稿演出，表示「中国只有一个」，自己更以身为中国人为荣，…       1\n",
      "Name: 发文类型, dtype: int64\n",
      "use following code to generate features from label mapping:\n",
      "发文类型_mapping = {'link': 0, 'photo': 1, 'video': 2, 'status': 3, 'event': 4, '在逢甲夜市卖麦芽饼的阿伯，今年70多岁，外表看起来相当硬朗，由于小孩出车祸，一年多没有工作，另一名孩子住在精神疗养院，为撑起家中经济，常常': 5, '【插画】大人都搞不清楚的事情，为什么要逼一个16岁的孩子承担？ 2016/01/16 00:04:00 发表于 | 政治 ? 插画 爵爵&猫叔 叫我爵爵，身在香港的台湾人；猫叔，曾住过台湾的香港人。 看更多爵爵&猫叔的文章 power by Cyberon TTS （TNL说说画） 引述〈JYP子瑜无奈道歉！鞠躬喊「身为中国人骄傲」〉： 16岁的台湾女孩周子瑜，在南韩综艺节目上举国旗、自称来自台湾，遭黄安紧咬是「天然独」祭旗，演艺事业受重创，今晚她和东家「JYP娱乐」老板朴轸永，先后在官方微博以影片及文字向中国网友道歉，子瑜素颜手持声明稿照稿演出，表示「中国只有一个」，自己更以身为中国人为荣，…': 6}\n",
      "#TODO: add your logic to handle None\n",
      "data_发文类型, 发文类型_ohe = one_hot_encoder_column(data, '发文类型', 发文类型_mapping, fill_na=99)\n",
      "\n",
      "\n",
      "\n",
      "---------------------------------------------\n",
      "y do not have any null values.\n",
      "L    6766\n",
      "H    1063\n",
      "Name: y, dtype: int64\n",
      "use following code to generate features from label mapping:\n",
      "y_mapping = {'L': 0, 'H': 1}\n",
      "#TODO: add your logic to handle None\n",
      "data_y, y_ohe = one_hot_encoder_column(data, 'y', y_mapping, fill_na=99)\n",
      "\n",
      "\n",
      "\n",
      "---------------------------------------------\n"
     ]
    }
   ],
   "source": [
    "from Python.pandas.feature_selection import *\n",
    "object_feature_helper(data)\n"
   ],
   "metadata": {
    "collapsed": false,
    "pycharm": {
     "name": "#%%\n"
    }
   }
  },
  {
   "cell_type": "markdown",
   "source": [
    "主页ID 提取 blacklist, whitelist, data_hl_score\n",
    "\n",
    "blacklist 和 whitelist 不加入训练名单, 直接判定。\n",
    "419000000000000 只有一个正例，也加入黑名单。\n",
    "data_hl_score 只对有50条记录以上Id计算，少于50条的记为0。\n",
    "data_hl_score = high_count / total_count"
   ],
   "metadata": {
    "collapsed": false,
    "pycharm": {
     "name": "#%% md\n"
    }
   }
  },
  {
   "cell_type": "code",
   "execution_count": 4,
   "outputs": [],
   "source": [
    "grp = data.pivot_table(index='主页ID', columns='y', values=['分类'], aggfunc='count').droplevel(0, axis=1)\n",
    "grp = grp.fillna(0)\n",
    "blacklist = grp[((grp['H'] <= 1) & (grp['L'] > 5))]\n",
    "whitelist = grp[(grp['L'] == 0) & (grp['H'] > 1)]"
   ],
   "metadata": {
    "collapsed": false,
    "pycharm": {
     "name": "#%%\n"
    }
   }
  },
  {
   "cell_type": "code",
   "execution_count": 5,
   "outputs": [
    {
     "data": {
      "text/plain": "      index             主页ID        主页名称    分类  \\\n0         0  155000000000000  纬来体育台官方粉丝团  电视频道   \n1         3     190000000000    Mobile01  网路社群   \n2         5  242000000000000  ETtoday新闻云    新闻   \n3         6     190000000000    Mobile01  网路社群   \n4         7  109000000000000  Yahoo!奇摩新闻    新闻   \n...     ...              ...         ...   ...   \n6483   7824     283000000000      中天快点TV  电视频道   \n6484   7825  773000000000000       料理高校生   电视剧   \n6485   7826  773000000000000       料理高校生   电视剧   \n6486   7827  242000000000000  ETtoday新闻云    新闻   \n6487   7828     128000000000        天下杂志  书籍杂志   \n\n                                                message  \\\n0                         中华队长林智胜 三分砲！！！\\n人如其名　真的「致胜」阿～   \n1                                 大师兄 一发炸裂！！帅啊啊啊啊啊啊啊！！！   \n2     爽啦～～～（ Supermm）\\n\\n#中华队 #古巴\\nhttp://www.ettoda...   \n3                     4：1，中华战胜古巴！今晚是最棒的周末夜，谢谢中华队！请继续加油！   \n4     一个字，爽！！！！\\n\\n#12强 #台古大战 #林智胜 #棒球 #三分砲 Lamigo M...   \n...                                                 ...   \n6483  被镶上绿色宝石的番薯，好美！（土星人）\\n\\n\\n---\\n●CH52中天新闻On Air！...   \n6484  【早鸟福利】\\n方老师唯美的瞬间，就这样被我们捕捉到了 :P\\n今天是11/11光棍节\\n想...   \n6485  佩颖主任啊..\\n您就别自暴自弃了~~\\n　\\n莫非是摆脱烂桃花的新招?\\n\\n每周五晚间十...   \n6486   快、合、作！（ Joe小姐）\\n\\n蔡依林 Jolin Tsai T.O.P. G-DRAGON   \n6487    【联合报】  一个班才2、3个人，大学班级变家教班？\\n\\n4系注册挂零、6校拉警报！！ ↓↓   \n\n                                                   name  \\\n0                                                   NaN   \n1                                     来自 Mobile01 贴文的相片   \n2       故意保送后林智胜怒轰3分炮　中华睽违9年击败古巴 | ET运动云 | ETtoday东森新闻云   \n3                                     来自 Mobile01 贴文的相片   \n4                                世界12强／林智胜怒轰3分砲！中华队赢古巴啦   \n...                                                 ...   \n6483                           从太空夜拍台湾美翻了！　嘉南平原就像被镶上绿宝石   \n6484                                             动态时报相片   \n6485                                             动态时报相片   \n6486  蔡依林、GD&T.O.P后台照曝光　甜呼：小爱心主人！ | 娱乐星光云 | ETtoday东...   \n6487                    注册率不到3成　大专67校系快灭顶｜教育｜联合新闻网｜天下杂志   \n\n                                            description   发文类型  y  \n0                                                   NaN  video  H  \n1                                                   NaN  photo  H  \n2     世界12强棒球赛中华队林智胜，8局下在前一棒郭严文被故意保送成一、二垒有人，轰出左外野3分全...   link  H  \n3                                                   NaN  photo  H  \n4                             今天(14日)「大师兄」林智胜单场被看扁2次...   link  H  \n...                                                 ...    ... ..  \n6483  国际太空站拍下夜晚台湾，影片一上传，立刻受到热烈讨论，不少人都被台湾的美给吸引，?万家灯火构...   link  L  \n6484                                                NaN  photo  L  \n6485                                                NaN  photo  L  \n6486  「呸姊」蔡依林2日晚间出席南韩年度盛事MAMA舞台，她一开低胸紧身服装霸气登场，献唱舞曲《P...   link  L  \n6487  教育部昨公布104学年度大专校院各校系注册率，竟有高达67校系注册率不到3成，学生只有2、3...   link  L  \n\n[6488 rows x 9 columns]",
      "text/html": "<div>\n<style scoped>\n    .dataframe tbody tr th:only-of-type {\n        vertical-align: middle;\n    }\n\n    .dataframe tbody tr th {\n        vertical-align: top;\n    }\n\n    .dataframe thead th {\n        text-align: right;\n    }\n</style>\n<table border=\"1\" class=\"dataframe\">\n  <thead>\n    <tr style=\"text-align: right;\">\n      <th></th>\n      <th>index</th>\n      <th>主页ID</th>\n      <th>主页名称</th>\n      <th>分类</th>\n      <th>message</th>\n      <th>name</th>\n      <th>description</th>\n      <th>发文类型</th>\n      <th>y</th>\n    </tr>\n  </thead>\n  <tbody>\n    <tr>\n      <th>0</th>\n      <td>0</td>\n      <td>155000000000000</td>\n      <td>纬来体育台官方粉丝团</td>\n      <td>电视频道</td>\n      <td>中华队长林智胜 三分砲！！！\\n人如其名　真的「致胜」阿～</td>\n      <td>NaN</td>\n      <td>NaN</td>\n      <td>video</td>\n      <td>H</td>\n    </tr>\n    <tr>\n      <th>1</th>\n      <td>3</td>\n      <td>190000000000</td>\n      <td>Mobile01</td>\n      <td>网路社群</td>\n      <td>大师兄 一发炸裂！！帅啊啊啊啊啊啊啊！！！</td>\n      <td>来自 Mobile01 贴文的相片</td>\n      <td>NaN</td>\n      <td>photo</td>\n      <td>H</td>\n    </tr>\n    <tr>\n      <th>2</th>\n      <td>5</td>\n      <td>242000000000000</td>\n      <td>ETtoday新闻云</td>\n      <td>新闻</td>\n      <td>爽啦～～～（ Supermm）\\n\\n#中华队 #古巴\\nhttp://www.ettoda...</td>\n      <td>故意保送后林智胜怒轰3分炮　中华睽违9年击败古巴 | ET运动云 | ETtoday东森新闻云</td>\n      <td>世界12强棒球赛中华队林智胜，8局下在前一棒郭严文被故意保送成一、二垒有人，轰出左外野3分全...</td>\n      <td>link</td>\n      <td>H</td>\n    </tr>\n    <tr>\n      <th>3</th>\n      <td>6</td>\n      <td>190000000000</td>\n      <td>Mobile01</td>\n      <td>网路社群</td>\n      <td>4：1，中华战胜古巴！今晚是最棒的周末夜，谢谢中华队！请继续加油！</td>\n      <td>来自 Mobile01 贴文的相片</td>\n      <td>NaN</td>\n      <td>photo</td>\n      <td>H</td>\n    </tr>\n    <tr>\n      <th>4</th>\n      <td>7</td>\n      <td>109000000000000</td>\n      <td>Yahoo!奇摩新闻</td>\n      <td>新闻</td>\n      <td>一个字，爽！！！！\\n\\n#12强 #台古大战 #林智胜 #棒球 #三分砲 Lamigo M...</td>\n      <td>世界12强／林智胜怒轰3分砲！中华队赢古巴啦</td>\n      <td>今天(14日)「大师兄」林智胜单场被看扁2次...</td>\n      <td>link</td>\n      <td>H</td>\n    </tr>\n    <tr>\n      <th>...</th>\n      <td>...</td>\n      <td>...</td>\n      <td>...</td>\n      <td>...</td>\n      <td>...</td>\n      <td>...</td>\n      <td>...</td>\n      <td>...</td>\n      <td>...</td>\n    </tr>\n    <tr>\n      <th>6483</th>\n      <td>7824</td>\n      <td>283000000000</td>\n      <td>中天快点TV</td>\n      <td>电视频道</td>\n      <td>被镶上绿色宝石的番薯，好美！（土星人）\\n\\n\\n---\\n●CH52中天新闻On Air！...</td>\n      <td>从太空夜拍台湾美翻了！　嘉南平原就像被镶上绿宝石</td>\n      <td>国际太空站拍下夜晚台湾，影片一上传，立刻受到热烈讨论，不少人都被台湾的美给吸引，?万家灯火构...</td>\n      <td>link</td>\n      <td>L</td>\n    </tr>\n    <tr>\n      <th>6484</th>\n      <td>7825</td>\n      <td>773000000000000</td>\n      <td>料理高校生</td>\n      <td>电视剧</td>\n      <td>【早鸟福利】\\n方老师唯美的瞬间，就这样被我们捕捉到了 :P\\n今天是11/11光棍节\\n想...</td>\n      <td>动态时报相片</td>\n      <td>NaN</td>\n      <td>photo</td>\n      <td>L</td>\n    </tr>\n    <tr>\n      <th>6485</th>\n      <td>7826</td>\n      <td>773000000000000</td>\n      <td>料理高校生</td>\n      <td>电视剧</td>\n      <td>佩颖主任啊..\\n您就别自暴自弃了~~\\n　\\n莫非是摆脱烂桃花的新招?\\n\\n每周五晚间十...</td>\n      <td>动态时报相片</td>\n      <td>NaN</td>\n      <td>photo</td>\n      <td>L</td>\n    </tr>\n    <tr>\n      <th>6486</th>\n      <td>7827</td>\n      <td>242000000000000</td>\n      <td>ETtoday新闻云</td>\n      <td>新闻</td>\n      <td>快、合、作！（ Joe小姐）\\n\\n蔡依林 Jolin Tsai T.O.P. G-DRAGON</td>\n      <td>蔡依林、GD&amp;T.O.P后台照曝光　甜呼：小爱心主人！ | 娱乐星光云 | ETtoday东...</td>\n      <td>「呸姊」蔡依林2日晚间出席南韩年度盛事MAMA舞台，她一开低胸紧身服装霸气登场，献唱舞曲《P...</td>\n      <td>link</td>\n      <td>L</td>\n    </tr>\n    <tr>\n      <th>6487</th>\n      <td>7828</td>\n      <td>128000000000</td>\n      <td>天下杂志</td>\n      <td>书籍杂志</td>\n      <td>【联合报】  一个班才2、3个人，大学班级变家教班？\\n\\n4系注册挂零、6校拉警报！！ ↓↓</td>\n      <td>注册率不到3成　大专67校系快灭顶｜教育｜联合新闻网｜天下杂志</td>\n      <td>教育部昨公布104学年度大专校院各校系注册率，竟有高达67校系注册率不到3成，学生只有2、3...</td>\n      <td>link</td>\n      <td>L</td>\n    </tr>\n  </tbody>\n</table>\n<p>6488 rows × 9 columns</p>\n</div>"
     },
     "execution_count": 5,
     "metadata": {},
     "output_type": "execute_result"
    }
   ],
   "source": [
    "data_remove_bw = data[(~data['主页ID'].isin(blacklist.index.values)) & (~data['主页ID'].isin(whitelist.index.values))]\n",
    "data_remove_bw = data_remove_bw.reset_index()\n",
    "data_remove_bw"
   ],
   "metadata": {
    "collapsed": false,
    "pycharm": {
     "name": "#%%\n"
    }
   }
  },
  {
   "cell_type": "code",
   "execution_count": 6,
   "outputs": [
    {
     "name": "stderr",
     "output_type": "stream",
     "text": [
      "<ipython-input-6-61051c25a3b8>:2: SettingWithCopyWarning: \n",
      "A value is trying to be set on a copy of a slice from a DataFrame.\n",
      "Try using .loc[row_indexer,col_indexer] = value instead\n",
      "\n",
      "See the caveats in the documentation: https://pandas.pydata.org/pandas-docs/stable/user_guide/indexing.html#returning-a-view-versus-a-copy\n",
      "  counts50['hl_score'] = counts50['H'] / (counts50['H'] + counts50['L'])\n"
     ]
    },
    {
     "data": {
      "text/plain": "0       0.000000\n1       0.000000\n2       0.195730\n3       0.000000\n4       0.137514\n          ...   \n6483    0.063291\n6484    0.064516\n6485    0.064516\n6486    0.195730\n6487    0.039474\nName: hl_score, Length: 6488, dtype: float64"
     },
     "execution_count": 6,
     "metadata": {},
     "output_type": "execute_result"
    }
   ],
   "source": [
    "counts50 = grp[(grp['H'] + grp['L'])>=50]\n",
    "counts50['hl_score'] = counts50['H'] / (counts50['H'] + counts50['L'])\n",
    "data_tmp = pd.merge(data_remove_bw, counts50, how='left', on='主页ID')\n",
    "data_hl_score = data_tmp['hl_score'].fillna(0)\n",
    "data_hl_score"
   ],
   "metadata": {
    "collapsed": false,
    "pycharm": {
     "name": "#%%\n"
    }
   }
  },
  {
   "cell_type": "markdown",
   "source": [
    "data_remove_bw['分类'] 提取 data_fl"
   ],
   "metadata": {
    "collapsed": false
   }
  },
  {
   "cell_type": "code",
   "execution_count": 7,
   "outputs": [
    {
     "data": {
      "text/plain": "新闻        4701\n书籍杂志       754\n媒体其他       244\n节目         220\n网路社群       219\n电视频道       175\n电视剧        109\n电影公司        46\n电影           7\n广播           5\n电影相关活动       4\n音乐           4\nName: 分类, dtype: int64"
     },
     "execution_count": 7,
     "metadata": {},
     "output_type": "execute_result"
    }
   ],
   "source": [
    "data_remove_bw['分类'].value_counts()"
   ],
   "metadata": {
    "collapsed": false,
    "pycharm": {
     "name": "#%%\n"
    }
   }
  },
  {
   "cell_type": "code",
   "execution_count": 8,
   "outputs": [
    {
     "data": {
      "text/plain": "      分类_0  分类_1  分类_2  分类_3  分类_4  分类_5\n0      0.0   0.0   0.0   0.0   0.0   0.0\n1      1.0   0.0   0.0   0.0   0.0   0.0\n2      0.0   1.0   0.0   0.0   0.0   0.0\n3      1.0   0.0   0.0   0.0   0.0   0.0\n4      0.0   1.0   0.0   0.0   0.0   0.0\n...    ...   ...   ...   ...   ...   ...\n6483   0.0   0.0   0.0   0.0   0.0   0.0\n6484   0.0   0.0   0.0   1.0   0.0   0.0\n6485   0.0   0.0   0.0   1.0   0.0   0.0\n6486   0.0   1.0   0.0   0.0   0.0   0.0\n6487   0.0   0.0   1.0   0.0   0.0   0.0\n\n[6488 rows x 6 columns]",
      "text/html": "<div>\n<style scoped>\n    .dataframe tbody tr th:only-of-type {\n        vertical-align: middle;\n    }\n\n    .dataframe tbody tr th {\n        vertical-align: top;\n    }\n\n    .dataframe thead th {\n        text-align: right;\n    }\n</style>\n<table border=\"1\" class=\"dataframe\">\n  <thead>\n    <tr style=\"text-align: right;\">\n      <th></th>\n      <th>分类_0</th>\n      <th>分类_1</th>\n      <th>分类_2</th>\n      <th>分类_3</th>\n      <th>分类_4</th>\n      <th>分类_5</th>\n    </tr>\n  </thead>\n  <tbody>\n    <tr>\n      <th>0</th>\n      <td>0.0</td>\n      <td>0.0</td>\n      <td>0.0</td>\n      <td>0.0</td>\n      <td>0.0</td>\n      <td>0.0</td>\n    </tr>\n    <tr>\n      <th>1</th>\n      <td>1.0</td>\n      <td>0.0</td>\n      <td>0.0</td>\n      <td>0.0</td>\n      <td>0.0</td>\n      <td>0.0</td>\n    </tr>\n    <tr>\n      <th>2</th>\n      <td>0.0</td>\n      <td>1.0</td>\n      <td>0.0</td>\n      <td>0.0</td>\n      <td>0.0</td>\n      <td>0.0</td>\n    </tr>\n    <tr>\n      <th>3</th>\n      <td>1.0</td>\n      <td>0.0</td>\n      <td>0.0</td>\n      <td>0.0</td>\n      <td>0.0</td>\n      <td>0.0</td>\n    </tr>\n    <tr>\n      <th>4</th>\n      <td>0.0</td>\n      <td>1.0</td>\n      <td>0.0</td>\n      <td>0.0</td>\n      <td>0.0</td>\n      <td>0.0</td>\n    </tr>\n    <tr>\n      <th>...</th>\n      <td>...</td>\n      <td>...</td>\n      <td>...</td>\n      <td>...</td>\n      <td>...</td>\n      <td>...</td>\n    </tr>\n    <tr>\n      <th>6483</th>\n      <td>0.0</td>\n      <td>0.0</td>\n      <td>0.0</td>\n      <td>0.0</td>\n      <td>0.0</td>\n      <td>0.0</td>\n    </tr>\n    <tr>\n      <th>6484</th>\n      <td>0.0</td>\n      <td>0.0</td>\n      <td>0.0</td>\n      <td>1.0</td>\n      <td>0.0</td>\n      <td>0.0</td>\n    </tr>\n    <tr>\n      <th>6485</th>\n      <td>0.0</td>\n      <td>0.0</td>\n      <td>0.0</td>\n      <td>1.0</td>\n      <td>0.0</td>\n      <td>0.0</td>\n    </tr>\n    <tr>\n      <th>6486</th>\n      <td>0.0</td>\n      <td>1.0</td>\n      <td>0.0</td>\n      <td>0.0</td>\n      <td>0.0</td>\n      <td>0.0</td>\n    </tr>\n    <tr>\n      <th>6487</th>\n      <td>0.0</td>\n      <td>0.0</td>\n      <td>1.0</td>\n      <td>0.0</td>\n      <td>0.0</td>\n      <td>0.0</td>\n    </tr>\n  </tbody>\n</table>\n<p>6488 rows × 6 columns</p>\n</div>"
     },
     "execution_count": 8,
     "metadata": {},
     "output_type": "execute_result"
    }
   ],
   "source": [
    "# pay attentions to dataframe index\n",
    "#TODO: add other categories methods.\n",
    "column_mapping_str(data_remove_bw['分类'].unique())\n",
    "fl_mapping = {'电视频道': 0, '网路社群': 1, '新闻': 2, '书籍杂志': 3, '电视剧': 4, '电影公司': 5, \" \\\n",
    "             \"'节目': 6, '媒体其他': 7, '电影': 5, '音乐': 7, '电影相关活动': 5, '广播': 7}\n",
    "data_fl, fl_ohe = one_hot_encoder_column(data_remove_bw, '分类', fl_mapping, fill_na=7)\n",
    "data_fl = pd.DataFrame(data_fl)\n",
    "data_fl"
   ],
   "metadata": {
    "collapsed": false,
    "pycharm": {
     "name": "#%%\n"
    }
   }
  },
  {
   "cell_type": "markdown",
   "source": [
    "## 发主类型处理\n",
    "提取 data_doc_type <br>\n",
    "不常见的类型归到video类 <br>\n",
    "grp2 = data_remove_bw.pivot_table(index='发文类型', columns='y', values=['主页ID'], aggfunc='count').droplevel(0, axis=1)"
   ],
   "metadata": {
    "collapsed": false,
    "pycharm": {
     "name": "#%% md\n"
    }
   }
  },
  {
   "cell_type": "code",
   "execution_count": 9,
   "outputs": [
    {
     "data": {
      "text/plain": "      发文类型_0  发文类型_1\n0        0.0     1.0\n1        1.0     0.0\n2        0.0     0.0\n3        1.0     0.0\n4        0.0     0.0\n...      ...     ...\n6483     0.0     0.0\n6484     1.0     0.0\n6485     1.0     0.0\n6486     0.0     0.0\n6487     0.0     0.0\n\n[6488 rows x 2 columns]",
      "text/html": "<div>\n<style scoped>\n    .dataframe tbody tr th:only-of-type {\n        vertical-align: middle;\n    }\n\n    .dataframe tbody tr th {\n        vertical-align: top;\n    }\n\n    .dataframe thead th {\n        text-align: right;\n    }\n</style>\n<table border=\"1\" class=\"dataframe\">\n  <thead>\n    <tr style=\"text-align: right;\">\n      <th></th>\n      <th>发文类型_0</th>\n      <th>发文类型_1</th>\n    </tr>\n  </thead>\n  <tbody>\n    <tr>\n      <th>0</th>\n      <td>0.0</td>\n      <td>1.0</td>\n    </tr>\n    <tr>\n      <th>1</th>\n      <td>1.0</td>\n      <td>0.0</td>\n    </tr>\n    <tr>\n      <th>2</th>\n      <td>0.0</td>\n      <td>0.0</td>\n    </tr>\n    <tr>\n      <th>3</th>\n      <td>1.0</td>\n      <td>0.0</td>\n    </tr>\n    <tr>\n      <th>4</th>\n      <td>0.0</td>\n      <td>0.0</td>\n    </tr>\n    <tr>\n      <th>...</th>\n      <td>...</td>\n      <td>...</td>\n    </tr>\n    <tr>\n      <th>6483</th>\n      <td>0.0</td>\n      <td>0.0</td>\n    </tr>\n    <tr>\n      <th>6484</th>\n      <td>1.0</td>\n      <td>0.0</td>\n    </tr>\n    <tr>\n      <th>6485</th>\n      <td>1.0</td>\n      <td>0.0</td>\n    </tr>\n    <tr>\n      <th>6486</th>\n      <td>0.0</td>\n      <td>0.0</td>\n    </tr>\n    <tr>\n      <th>6487</th>\n      <td>0.0</td>\n      <td>0.0</td>\n    </tr>\n  </tbody>\n</table>\n<p>6488 rows × 2 columns</p>\n</div>"
     },
     "execution_count": 9,
     "metadata": {},
     "output_type": "execute_result"
    }
   ],
   "source": [
    "doc_type_map = {'link': 1, 'photo': 2, 'video': 3}\n",
    "data_doc_type, ohe_doc_type = one_hot_encoder_column(data_remove_bw, '发文类型', doc_type_map, fill_na=3)\n",
    "data_doc_type\n"
   ],
   "metadata": {
    "collapsed": false,
    "pycharm": {
     "name": "#%%\n"
    }
   }
  },
  {
   "cell_type": "markdown",
   "source": [
    "## 文本类型处理\n",
    "data_remove_bw[~data_remove_bw['description'].isnull()]"
   ],
   "metadata": {
    "collapsed": false,
    "pycharm": {
     "name": "#%% md\n"
    }
   }
  },
  {
   "cell_type": "code",
   "execution_count": 10,
   "outputs": [
    {
     "name": "stdout",
     "output_type": "stream",
     "text": [
      "total counts:  2625\n"
     ]
    },
    {
     "name": "stderr",
     "output_type": "stream",
     "text": [
      "Building prefix dict from the default dictionary ...\n",
      "Loading model from cache /var/folders/zz/8hl03_bd6sj_wrd8__z72r8r0000gn/T/jieba.cache\n",
      "Loading model cost 0.639 seconds.\n",
      "Prefix dict has been built successfully.\n"
     ]
    },
    {
     "name": "stdout",
     "output_type": "stream",
     "text": [
      "姊 蔡依林 晚间 出席 南韩 年度 盛事 舞台 一开 低胸 紧身 服装 霸气 登场 献唱 舞曲\n"
     ]
    }
   ],
   "source": [
    "from Python.nlp.nlp import *\n",
    "stop_words = get_stop_words('././data/stopwords.txt', encoding='gbk')\n",
    "\n",
    "print(split_word(\"「呸姊」蔡依林2日晚间出席南韩年度盛事MAMA舞台，她一开低胸紧身服装霸气登场，献唱舞曲《P...\",\n",
    "                 stop_words, ['蔡依林', '叶明兰','叶镇中', '宋家豪', '白先勇','林智胜']))"
   ],
   "metadata": {
    "collapsed": false,
    "pycharm": {
     "name": "#%%\n"
    }
   }
  },
  {
   "cell_type": "code",
   "execution_count": 11,
   "outputs": [],
   "source": [
    "# word-vector train using all data.\n",
    "data_remove_bw['sp_msg'] = data_remove_bw['description'].apply(lambda doc: split_word(doc, stop_words))\n",
    "data_remove_bw[data_remove_bw['sp_msg'].map(lambda x: len(x) >= 2)]['sp_msg'].to_csv('lines.csv', index=False, header=False)"
   ],
   "metadata": {
    "collapsed": false,
    "pycharm": {
     "name": "#%%\n"
    }
   }
  },
  {
   "cell_type": "code",
   "execution_count": 12,
   "outputs": [
    {
     "name": "stderr",
     "output_type": "stream",
     "text": [
      "/opt/anaconda3/lib/python3.8/site-packages/sklearn/utils/deprecation.py:87: FutureWarning: Function get_feature_names is deprecated; get_feature_names is deprecated in 1.0 and will be removed in 1.2. Please use get_feature_names_out instead.\n",
      "  warnings.warn(msg, category=FutureWarning)\n"
     ]
    },
    {
     "data": {
      "text/plain": "         0         1         2         3         4         5         6   \\\n0 -0.009170 -0.023973 -0.000909 -0.035170 -0.028162  0.006321  0.003310   \n1 -0.009170 -0.023973 -0.000909 -0.035170 -0.028162  0.006321  0.003310   \n2 -0.046231 -0.071509  0.442372 -0.033002  0.136988  0.014411  0.002954   \n3 -0.009170 -0.023973 -0.000909 -0.035170 -0.028162  0.006321  0.003310   \n4 -0.020843 -0.036222  0.121883 -0.024897 -0.002126  0.001656 -0.005135   \n\n         7         8         9   ...        40        41        42        43  \\\n0  0.002960  0.016037  0.001375  ... -0.000055 -0.000959 -0.002332 -0.001626   \n1  0.002960  0.016037  0.001375  ... -0.000055 -0.000959 -0.002332 -0.001626   \n2  0.006140 -0.008024  0.009926  ... -0.039119  0.147282 -0.103097 -0.008907   \n3  0.002960  0.016037  0.001375  ... -0.000055 -0.000959 -0.002332 -0.001626   \n4 -0.000022  0.009108  0.009433  ... -0.005874  0.039034 -0.058400  0.025202   \n\n         44        45        46        47        48        49  \n0 -0.007754  0.001487 -0.001602 -0.003939  0.001710 -0.007521  \n1 -0.007754  0.001487 -0.001602 -0.003939  0.001710 -0.007521  \n2  0.106473 -0.040444 -0.036203  0.069273  0.050779  0.116354  \n3 -0.007754  0.001487 -0.001602 -0.003939  0.001710 -0.007521  \n4  0.053403 -0.019719 -0.044509  0.043764  0.018796  0.087792  \n\n[5 rows x 50 columns]",
      "text/html": "<div>\n<style scoped>\n    .dataframe tbody tr th:only-of-type {\n        vertical-align: middle;\n    }\n\n    .dataframe tbody tr th {\n        vertical-align: top;\n    }\n\n    .dataframe thead th {\n        text-align: right;\n    }\n</style>\n<table border=\"1\" class=\"dataframe\">\n  <thead>\n    <tr style=\"text-align: right;\">\n      <th></th>\n      <th>0</th>\n      <th>1</th>\n      <th>2</th>\n      <th>3</th>\n      <th>4</th>\n      <th>5</th>\n      <th>6</th>\n      <th>7</th>\n      <th>8</th>\n      <th>9</th>\n      <th>...</th>\n      <th>40</th>\n      <th>41</th>\n      <th>42</th>\n      <th>43</th>\n      <th>44</th>\n      <th>45</th>\n      <th>46</th>\n      <th>47</th>\n      <th>48</th>\n      <th>49</th>\n    </tr>\n  </thead>\n  <tbody>\n    <tr>\n      <th>0</th>\n      <td>-0.009170</td>\n      <td>-0.023973</td>\n      <td>-0.000909</td>\n      <td>-0.035170</td>\n      <td>-0.028162</td>\n      <td>0.006321</td>\n      <td>0.003310</td>\n      <td>0.002960</td>\n      <td>0.016037</td>\n      <td>0.001375</td>\n      <td>...</td>\n      <td>-0.000055</td>\n      <td>-0.000959</td>\n      <td>-0.002332</td>\n      <td>-0.001626</td>\n      <td>-0.007754</td>\n      <td>0.001487</td>\n      <td>-0.001602</td>\n      <td>-0.003939</td>\n      <td>0.001710</td>\n      <td>-0.007521</td>\n    </tr>\n    <tr>\n      <th>1</th>\n      <td>-0.009170</td>\n      <td>-0.023973</td>\n      <td>-0.000909</td>\n      <td>-0.035170</td>\n      <td>-0.028162</td>\n      <td>0.006321</td>\n      <td>0.003310</td>\n      <td>0.002960</td>\n      <td>0.016037</td>\n      <td>0.001375</td>\n      <td>...</td>\n      <td>-0.000055</td>\n      <td>-0.000959</td>\n      <td>-0.002332</td>\n      <td>-0.001626</td>\n      <td>-0.007754</td>\n      <td>0.001487</td>\n      <td>-0.001602</td>\n      <td>-0.003939</td>\n      <td>0.001710</td>\n      <td>-0.007521</td>\n    </tr>\n    <tr>\n      <th>2</th>\n      <td>-0.046231</td>\n      <td>-0.071509</td>\n      <td>0.442372</td>\n      <td>-0.033002</td>\n      <td>0.136988</td>\n      <td>0.014411</td>\n      <td>0.002954</td>\n      <td>0.006140</td>\n      <td>-0.008024</td>\n      <td>0.009926</td>\n      <td>...</td>\n      <td>-0.039119</td>\n      <td>0.147282</td>\n      <td>-0.103097</td>\n      <td>-0.008907</td>\n      <td>0.106473</td>\n      <td>-0.040444</td>\n      <td>-0.036203</td>\n      <td>0.069273</td>\n      <td>0.050779</td>\n      <td>0.116354</td>\n    </tr>\n    <tr>\n      <th>3</th>\n      <td>-0.009170</td>\n      <td>-0.023973</td>\n      <td>-0.000909</td>\n      <td>-0.035170</td>\n      <td>-0.028162</td>\n      <td>0.006321</td>\n      <td>0.003310</td>\n      <td>0.002960</td>\n      <td>0.016037</td>\n      <td>0.001375</td>\n      <td>...</td>\n      <td>-0.000055</td>\n      <td>-0.000959</td>\n      <td>-0.002332</td>\n      <td>-0.001626</td>\n      <td>-0.007754</td>\n      <td>0.001487</td>\n      <td>-0.001602</td>\n      <td>-0.003939</td>\n      <td>0.001710</td>\n      <td>-0.007521</td>\n    </tr>\n    <tr>\n      <th>4</th>\n      <td>-0.020843</td>\n      <td>-0.036222</td>\n      <td>0.121883</td>\n      <td>-0.024897</td>\n      <td>-0.002126</td>\n      <td>0.001656</td>\n      <td>-0.005135</td>\n      <td>-0.000022</td>\n      <td>0.009108</td>\n      <td>0.009433</td>\n      <td>...</td>\n      <td>-0.005874</td>\n      <td>0.039034</td>\n      <td>-0.058400</td>\n      <td>0.025202</td>\n      <td>0.053403</td>\n      <td>-0.019719</td>\n      <td>-0.044509</td>\n      <td>0.043764</td>\n      <td>0.018796</td>\n      <td>0.087792</td>\n    </tr>\n  </tbody>\n</table>\n<p>5 rows × 50 columns</p>\n</div>"
     },
     "execution_count": 12,
     "metadata": {},
     "output_type": "execute_result"
    }
   ],
   "source": [
    "message_tfidf = tfidf(data_remove_bw['sp_msg'], min_df=10, output_dimension=50)\n",
    "message_tfidf.head(5)"
   ],
   "metadata": {
    "collapsed": false,
    "pycharm": {
     "name": "#%%\n"
    }
   }
  },
  {
   "cell_type": "code",
   "execution_count": 13,
   "outputs": [
    {
     "name": "stderr",
     "output_type": "stream",
     "text": [
      "/opt/anaconda3/lib/python3.8/site-packages/gensim/similarities/__init__.py:15: UserWarning: The gensim.similarities.levenshtein submodule is disabled, because the optional Levenshtein package <https://pypi.org/project/python-Levenshtein/> is unavailable. Install Levenhstein (e.g. `pip install python-Levenshtein`) to suppress this warning.\n",
      "  warnings.warn(msg)\n"
     ]
    }
   ],
   "source": [
    "from gensim.models import word2vec\n",
    "sentences = word2vec.LineSentence(\"./lines.csv\")\n",
    "model = word2vec.Word2Vec(sentences, hs=1, vector_size=50, min_count=10, window=3, sg=1)"
   ],
   "metadata": {
    "collapsed": false,
    "pycharm": {
     "name": "#%%\n"
    }
   }
  },
  {
   "cell_type": "code",
   "execution_count": 19,
   "outputs": [],
   "source": [
    "data_remove_bw['msg_word2vec'] = data_remove_bw['message'].apply(lambda doc: sentence_to_vector(doc, model, stop_words, 50))\n",
    "data_word2vec = pd.DataFrame(data_remove_bw['msg_word2vec'].tolist())"
   ],
   "metadata": {
    "collapsed": false,
    "pycharm": {
     "name": "#%%\n"
    }
   }
  },
  {
   "cell_type": "code",
   "execution_count": 20,
   "outputs": [
    {
     "data": {
      "text/plain": "            0         1         2         3         4         5         6   \\\n0     0.071668  0.228472  0.157976  0.061080 -0.186352  0.047450 -0.133375   \n1    -0.056629  0.513789  0.089883  0.024001 -0.272023  0.107954  0.002989   \n2     0.082722  0.207518  0.120915 -0.039144 -0.195629  0.095408  0.063435   \n3     0.077697  0.167264  0.112328  0.003118 -0.163731 -0.081881  0.031103   \n4     0.222596  0.196115  0.154147  0.087344 -0.246462 -0.016380 -0.367481   \n...        ...       ...       ...       ...       ...       ...       ...   \n6483  0.044299  0.308791 -0.026185  0.038236 -0.032400 -0.175670  0.102998   \n6484  0.007231  0.304094  0.054817  0.056769 -0.033404 -0.137759  0.120471   \n6485 -0.006118  0.321417 -0.034239 -0.045840 -0.108783 -0.286720 -0.006618   \n6486  0.082996  0.169294 -0.046110  0.046204 -0.001761 -0.306015  0.066896   \n6487  0.016825  0.466851 -0.161897 -0.134773 -0.046275 -0.120241  0.146833   \n\n            7         8         9   ...        40        41        42  \\\n0     0.448490 -0.011851 -0.027702  ...  0.204917 -0.134914 -0.219740   \n1     0.148066 -0.221473  0.243096  ...  0.451101 -0.465443  0.254588   \n2     0.386804 -0.057107 -0.069514  ...  0.105105  0.019874 -0.157315   \n3     0.409470 -0.113493 -0.096484  ...  0.151397 -0.066600 -0.079804   \n4     0.386040  0.056479 -0.003057  ...  0.227159  0.015613 -0.207617   \n...        ...       ...       ...  ...       ...       ...       ...   \n6483  0.274097 -0.119307 -0.293932  ...  0.084365 -0.002997 -0.024684   \n6484  0.406945 -0.244273 -0.168519  ...  0.213361 -0.235165  0.000221   \n6485  0.125541 -0.034825 -0.440006  ...  0.025443  0.049509 -0.005664   \n6486  0.231351 -0.291465 -0.335552  ...  0.215147 -0.025871  0.153665   \n6487  0.282892 -0.234175 -0.293090  ...  0.198808  0.015513  0.093243   \n\n            43        44        45        46        47        48        49  \n0     0.230358  0.340678 -0.301638  0.061941 -0.079246 -0.832016 -0.159787  \n1     0.160884  0.250008 -0.294570  0.065925  0.017824 -0.559076 -0.050667  \n2     0.472120  0.350766 -0.214802 -0.186755 -0.162878 -0.831074 -0.360447  \n3     0.246718  0.202615 -0.279595 -0.097795 -0.090016 -0.614861 -0.177744  \n4     0.359254  0.194902 -0.429804 -0.013033 -0.117133 -0.935395 -0.066576  \n...        ...       ...       ...       ...       ...       ...       ...  \n6483  0.093314  0.098112 -0.271266 -0.161570 -0.087969 -0.477385 -0.126579  \n6484  0.038179  0.164985 -0.246952 -0.063408 -0.104404 -0.452949 -0.030019  \n6485  0.079750  0.262449 -0.237839 -0.240842 -0.042502 -0.538289 -0.060674  \n6486  0.099969  0.089109 -0.324204 -0.243934 -0.344590 -0.288329 -0.225201  \n6487 -0.025632  0.125353 -0.168792 -0.238012 -0.159221 -0.354638 -0.205888  \n\n[6488 rows x 50 columns]",
      "text/html": "<div>\n<style scoped>\n    .dataframe tbody tr th:only-of-type {\n        vertical-align: middle;\n    }\n\n    .dataframe tbody tr th {\n        vertical-align: top;\n    }\n\n    .dataframe thead th {\n        text-align: right;\n    }\n</style>\n<table border=\"1\" class=\"dataframe\">\n  <thead>\n    <tr style=\"text-align: right;\">\n      <th></th>\n      <th>0</th>\n      <th>1</th>\n      <th>2</th>\n      <th>3</th>\n      <th>4</th>\n      <th>5</th>\n      <th>6</th>\n      <th>7</th>\n      <th>8</th>\n      <th>9</th>\n      <th>...</th>\n      <th>40</th>\n      <th>41</th>\n      <th>42</th>\n      <th>43</th>\n      <th>44</th>\n      <th>45</th>\n      <th>46</th>\n      <th>47</th>\n      <th>48</th>\n      <th>49</th>\n    </tr>\n  </thead>\n  <tbody>\n    <tr>\n      <th>0</th>\n      <td>0.071668</td>\n      <td>0.228472</td>\n      <td>0.157976</td>\n      <td>0.061080</td>\n      <td>-0.186352</td>\n      <td>0.047450</td>\n      <td>-0.133375</td>\n      <td>0.448490</td>\n      <td>-0.011851</td>\n      <td>-0.027702</td>\n      <td>...</td>\n      <td>0.204917</td>\n      <td>-0.134914</td>\n      <td>-0.219740</td>\n      <td>0.230358</td>\n      <td>0.340678</td>\n      <td>-0.301638</td>\n      <td>0.061941</td>\n      <td>-0.079246</td>\n      <td>-0.832016</td>\n      <td>-0.159787</td>\n    </tr>\n    <tr>\n      <th>1</th>\n      <td>-0.056629</td>\n      <td>0.513789</td>\n      <td>0.089883</td>\n      <td>0.024001</td>\n      <td>-0.272023</td>\n      <td>0.107954</td>\n      <td>0.002989</td>\n      <td>0.148066</td>\n      <td>-0.221473</td>\n      <td>0.243096</td>\n      <td>...</td>\n      <td>0.451101</td>\n      <td>-0.465443</td>\n      <td>0.254588</td>\n      <td>0.160884</td>\n      <td>0.250008</td>\n      <td>-0.294570</td>\n      <td>0.065925</td>\n      <td>0.017824</td>\n      <td>-0.559076</td>\n      <td>-0.050667</td>\n    </tr>\n    <tr>\n      <th>2</th>\n      <td>0.082722</td>\n      <td>0.207518</td>\n      <td>0.120915</td>\n      <td>-0.039144</td>\n      <td>-0.195629</td>\n      <td>0.095408</td>\n      <td>0.063435</td>\n      <td>0.386804</td>\n      <td>-0.057107</td>\n      <td>-0.069514</td>\n      <td>...</td>\n      <td>0.105105</td>\n      <td>0.019874</td>\n      <td>-0.157315</td>\n      <td>0.472120</td>\n      <td>0.350766</td>\n      <td>-0.214802</td>\n      <td>-0.186755</td>\n      <td>-0.162878</td>\n      <td>-0.831074</td>\n      <td>-0.360447</td>\n    </tr>\n    <tr>\n      <th>3</th>\n      <td>0.077697</td>\n      <td>0.167264</td>\n      <td>0.112328</td>\n      <td>0.003118</td>\n      <td>-0.163731</td>\n      <td>-0.081881</td>\n      <td>0.031103</td>\n      <td>0.409470</td>\n      <td>-0.113493</td>\n      <td>-0.096484</td>\n      <td>...</td>\n      <td>0.151397</td>\n      <td>-0.066600</td>\n      <td>-0.079804</td>\n      <td>0.246718</td>\n      <td>0.202615</td>\n      <td>-0.279595</td>\n      <td>-0.097795</td>\n      <td>-0.090016</td>\n      <td>-0.614861</td>\n      <td>-0.177744</td>\n    </tr>\n    <tr>\n      <th>4</th>\n      <td>0.222596</td>\n      <td>0.196115</td>\n      <td>0.154147</td>\n      <td>0.087344</td>\n      <td>-0.246462</td>\n      <td>-0.016380</td>\n      <td>-0.367481</td>\n      <td>0.386040</td>\n      <td>0.056479</td>\n      <td>-0.003057</td>\n      <td>...</td>\n      <td>0.227159</td>\n      <td>0.015613</td>\n      <td>-0.207617</td>\n      <td>0.359254</td>\n      <td>0.194902</td>\n      <td>-0.429804</td>\n      <td>-0.013033</td>\n      <td>-0.117133</td>\n      <td>-0.935395</td>\n      <td>-0.066576</td>\n    </tr>\n    <tr>\n      <th>...</th>\n      <td>...</td>\n      <td>...</td>\n      <td>...</td>\n      <td>...</td>\n      <td>...</td>\n      <td>...</td>\n      <td>...</td>\n      <td>...</td>\n      <td>...</td>\n      <td>...</td>\n      <td>...</td>\n      <td>...</td>\n      <td>...</td>\n      <td>...</td>\n      <td>...</td>\n      <td>...</td>\n      <td>...</td>\n      <td>...</td>\n      <td>...</td>\n      <td>...</td>\n      <td>...</td>\n    </tr>\n    <tr>\n      <th>6483</th>\n      <td>0.044299</td>\n      <td>0.308791</td>\n      <td>-0.026185</td>\n      <td>0.038236</td>\n      <td>-0.032400</td>\n      <td>-0.175670</td>\n      <td>0.102998</td>\n      <td>0.274097</td>\n      <td>-0.119307</td>\n      <td>-0.293932</td>\n      <td>...</td>\n      <td>0.084365</td>\n      <td>-0.002997</td>\n      <td>-0.024684</td>\n      <td>0.093314</td>\n      <td>0.098112</td>\n      <td>-0.271266</td>\n      <td>-0.161570</td>\n      <td>-0.087969</td>\n      <td>-0.477385</td>\n      <td>-0.126579</td>\n    </tr>\n    <tr>\n      <th>6484</th>\n      <td>0.007231</td>\n      <td>0.304094</td>\n      <td>0.054817</td>\n      <td>0.056769</td>\n      <td>-0.033404</td>\n      <td>-0.137759</td>\n      <td>0.120471</td>\n      <td>0.406945</td>\n      <td>-0.244273</td>\n      <td>-0.168519</td>\n      <td>...</td>\n      <td>0.213361</td>\n      <td>-0.235165</td>\n      <td>0.000221</td>\n      <td>0.038179</td>\n      <td>0.164985</td>\n      <td>-0.246952</td>\n      <td>-0.063408</td>\n      <td>-0.104404</td>\n      <td>-0.452949</td>\n      <td>-0.030019</td>\n    </tr>\n    <tr>\n      <th>6485</th>\n      <td>-0.006118</td>\n      <td>0.321417</td>\n      <td>-0.034239</td>\n      <td>-0.045840</td>\n      <td>-0.108783</td>\n      <td>-0.286720</td>\n      <td>-0.006618</td>\n      <td>0.125541</td>\n      <td>-0.034825</td>\n      <td>-0.440006</td>\n      <td>...</td>\n      <td>0.025443</td>\n      <td>0.049509</td>\n      <td>-0.005664</td>\n      <td>0.079750</td>\n      <td>0.262449</td>\n      <td>-0.237839</td>\n      <td>-0.240842</td>\n      <td>-0.042502</td>\n      <td>-0.538289</td>\n      <td>-0.060674</td>\n    </tr>\n    <tr>\n      <th>6486</th>\n      <td>0.082996</td>\n      <td>0.169294</td>\n      <td>-0.046110</td>\n      <td>0.046204</td>\n      <td>-0.001761</td>\n      <td>-0.306015</td>\n      <td>0.066896</td>\n      <td>0.231351</td>\n      <td>-0.291465</td>\n      <td>-0.335552</td>\n      <td>...</td>\n      <td>0.215147</td>\n      <td>-0.025871</td>\n      <td>0.153665</td>\n      <td>0.099969</td>\n      <td>0.089109</td>\n      <td>-0.324204</td>\n      <td>-0.243934</td>\n      <td>-0.344590</td>\n      <td>-0.288329</td>\n      <td>-0.225201</td>\n    </tr>\n    <tr>\n      <th>6487</th>\n      <td>0.016825</td>\n      <td>0.466851</td>\n      <td>-0.161897</td>\n      <td>-0.134773</td>\n      <td>-0.046275</td>\n      <td>-0.120241</td>\n      <td>0.146833</td>\n      <td>0.282892</td>\n      <td>-0.234175</td>\n      <td>-0.293090</td>\n      <td>...</td>\n      <td>0.198808</td>\n      <td>0.015513</td>\n      <td>0.093243</td>\n      <td>-0.025632</td>\n      <td>0.125353</td>\n      <td>-0.168792</td>\n      <td>-0.238012</td>\n      <td>-0.159221</td>\n      <td>-0.354638</td>\n      <td>-0.205888</td>\n    </tr>\n  </tbody>\n</table>\n<p>6488 rows × 50 columns</p>\n</div>"
     },
     "execution_count": 20,
     "metadata": {},
     "output_type": "execute_result"
    }
   ],
   "source": [
    "data_word2vec"
   ],
   "metadata": {
    "collapsed": false,
    "pycharm": {
     "name": "#%%\n"
    }
   }
  },
  {
   "cell_type": "code",
   "execution_count": 15,
   "outputs": [],
   "source": [
    "train_corpus = list(read_corpus(\"lines.csv\"))"
   ],
   "metadata": {
    "collapsed": false,
    "pycharm": {
     "name": "#%%\n"
    }
   }
  },
  {
   "cell_type": "code",
   "execution_count": 16,
   "outputs": [],
   "source": [
    "from gensim.models import  doc2vec\n",
    "model2 = doc2vec.Doc2Vec(vector_size=50, min_count=2,epochs=40)\n",
    "model2.build_vocab(train_corpus)\n",
    "model2.train(train_corpus, total_examples=model.corpus_count, epochs=model.epochs)"
   ],
   "metadata": {
    "collapsed": false,
    "pycharm": {
     "name": "#%%\n"
    }
   }
  },
  {
   "cell_type": "code",
   "execution_count": 21,
   "outputs": [],
   "source": [
    "message_vec = data_remove_bw['message'].apply(lambda doc: model2.infer_vector([split_word(doc, stop_words)]))\n",
    "data_message = pd.DataFrame(message_vec.tolist())"
   ],
   "metadata": {
    "collapsed": false,
    "pycharm": {
     "name": "#%%\n"
    }
   }
  },
  {
   "cell_type": "code",
   "execution_count": 24,
   "outputs": [],
   "source": [
    "y_mapping = {'L': 0, 'H': 1}\n",
    "data_y, y_ohe = one_hot_encoder_column(data, 'y', y_mapping, fill_na=0)\n"
   ],
   "metadata": {
    "collapsed": false,
    "pycharm": {
     "name": "#%%\n"
    }
   }
  },
  {
   "cell_type": "code",
   "execution_count": 26,
   "outputs": [],
   "source": [
    "train_data_all = pd.concat([data_hl_score,data_fl, data_doc_type, data_word2vec, data_message, data_y], axis=1)\n",
    "train_data_all.to_csv(\"./data/train_all_1.csv\")"
   ],
   "metadata": {
    "collapsed": false,
    "pycharm": {
     "name": "#%%\n"
    }
   }
  }
 ],
 "metadata": {
  "kernelspec": {
   "name": "pycharm-52a413d9",
   "language": "python",
   "display_name": "PyCharm (TwilightStruggle)"
  },
  "language_info": {
   "codemirror_mode": {
    "name": "ipython",
    "version": 2
   },
   "file_extension": ".py",
   "mimetype": "text/x-python",
   "name": "python",
   "nbconvert_exporter": "python",
   "pygments_lexer": "ipython2",
   "version": "2.7.6"
  }
 },
 "nbformat": 4,
 "nbformat_minor": 0
}
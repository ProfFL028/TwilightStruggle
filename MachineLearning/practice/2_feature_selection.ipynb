{
 "cells": [
  {
   "cell_type": "code",
   "execution_count": 24,
   "metadata": {
    "collapsed": true
   },
   "outputs": [],
   "source": [
    "import pandas as pd\n",
    "import numpy as np\n",
    "import matplotlib.pyplot as plt\n",
    "\n",
    "from Python.pandas.feature_selection import *"
   ]
  },
  {
   "cell_type": "code",
   "execution_count": 25,
   "outputs": [
    {
     "name": "stdout",
     "output_type": "stream",
     "text": [
      "数据形状： (4119, 21)\n",
      "列名: Index(['age', 'job', 'marital', 'education', 'default', 'housing', 'loan',\n",
      "       'contact', 'month', 'day_of_week', 'duration', 'campaign', 'pdays',\n",
      "       'previous', 'poutcome', 'emp.var.rate', 'cons.price.idx',\n",
      "       'cons.conf.idx', 'euribor3m', 'nr.employed', 'y'],\n",
      "      dtype='object')\n"
     ]
    },
    {
     "data": {
      "text/plain": "       age       job  marital    education default housing loan    contact  \\\nid                                                                           \n50000   30       NaN  married     basic.9y     NaN     yes   no          -   \n50001   39  services   single          NaN       .      no  NaN  telephone   \n50002  NaN       NaN  married  high.school       -     yes   no  telephone   \n50003   38  services  married            -      no     NaN  NaN          -   \n50004   47    admin.  married            -       ?     yes   no   cellular   \n\n      month day_of_week  ... campaign pdays previous     poutcome  \\\nid                       ...                                        \n50000   may           .  ...        2   999        0  nonexistent   \n50001   NaN         fri  ...        4   999        0            -   \n50002     -         wed  ...        1   999        0          NaN   \n50003   jun         fri  ...        3   999      NaN  nonexistent   \n50004   nov         mon  ...        1   999        0  nonexistent   \n\n      emp.var.rate  cons.price.idx  cons.conf.idx  euribor3m  nr.employed  \\\nid                                                                          \n50000         -1.8          92.893          -46.2      1.313       5099.1   \n50001          1.1          93.994          -36.4      4.855       5191.0   \n50002          1.4          94.465          -41.8      4.962       5228.1   \n50003          1.4          94.465          -41.8      4.959       5228.1   \n50004         -0.1          93.200          -42.0      4.191       5195.8   \n\n              y  \nid               \n50000  Withheld  \n50001  Withheld  \n50002  Withheld  \n50003  Withheld  \n50004  Withheld  \n\n[5 rows x 21 columns]",
      "text/html": "<div>\n<style scoped>\n    .dataframe tbody tr th:only-of-type {\n        vertical-align: middle;\n    }\n\n    .dataframe tbody tr th {\n        vertical-align: top;\n    }\n\n    .dataframe thead th {\n        text-align: right;\n    }\n</style>\n<table border=\"1\" class=\"dataframe\">\n  <thead>\n    <tr style=\"text-align: right;\">\n      <th></th>\n      <th>age</th>\n      <th>job</th>\n      <th>marital</th>\n      <th>education</th>\n      <th>default</th>\n      <th>housing</th>\n      <th>loan</th>\n      <th>contact</th>\n      <th>month</th>\n      <th>day_of_week</th>\n      <th>...</th>\n      <th>campaign</th>\n      <th>pdays</th>\n      <th>previous</th>\n      <th>poutcome</th>\n      <th>emp.var.rate</th>\n      <th>cons.price.idx</th>\n      <th>cons.conf.idx</th>\n      <th>euribor3m</th>\n      <th>nr.employed</th>\n      <th>y</th>\n    </tr>\n    <tr>\n      <th>id</th>\n      <th></th>\n      <th></th>\n      <th></th>\n      <th></th>\n      <th></th>\n      <th></th>\n      <th></th>\n      <th></th>\n      <th></th>\n      <th></th>\n      <th></th>\n      <th></th>\n      <th></th>\n      <th></th>\n      <th></th>\n      <th></th>\n      <th></th>\n      <th></th>\n      <th></th>\n      <th></th>\n      <th></th>\n    </tr>\n  </thead>\n  <tbody>\n    <tr>\n      <th>50000</th>\n      <td>30</td>\n      <td>NaN</td>\n      <td>married</td>\n      <td>basic.9y</td>\n      <td>NaN</td>\n      <td>yes</td>\n      <td>no</td>\n      <td>-</td>\n      <td>may</td>\n      <td>.</td>\n      <td>...</td>\n      <td>2</td>\n      <td>999</td>\n      <td>0</td>\n      <td>nonexistent</td>\n      <td>-1.8</td>\n      <td>92.893</td>\n      <td>-46.2</td>\n      <td>1.313</td>\n      <td>5099.1</td>\n      <td>Withheld</td>\n    </tr>\n    <tr>\n      <th>50001</th>\n      <td>39</td>\n      <td>services</td>\n      <td>single</td>\n      <td>NaN</td>\n      <td>.</td>\n      <td>no</td>\n      <td>NaN</td>\n      <td>telephone</td>\n      <td>NaN</td>\n      <td>fri</td>\n      <td>...</td>\n      <td>4</td>\n      <td>999</td>\n      <td>0</td>\n      <td>-</td>\n      <td>1.1</td>\n      <td>93.994</td>\n      <td>-36.4</td>\n      <td>4.855</td>\n      <td>5191.0</td>\n      <td>Withheld</td>\n    </tr>\n    <tr>\n      <th>50002</th>\n      <td>NaN</td>\n      <td>NaN</td>\n      <td>married</td>\n      <td>high.school</td>\n      <td>-</td>\n      <td>yes</td>\n      <td>no</td>\n      <td>telephone</td>\n      <td>-</td>\n      <td>wed</td>\n      <td>...</td>\n      <td>1</td>\n      <td>999</td>\n      <td>0</td>\n      <td>NaN</td>\n      <td>1.4</td>\n      <td>94.465</td>\n      <td>-41.8</td>\n      <td>4.962</td>\n      <td>5228.1</td>\n      <td>Withheld</td>\n    </tr>\n    <tr>\n      <th>50003</th>\n      <td>38</td>\n      <td>services</td>\n      <td>married</td>\n      <td>-</td>\n      <td>no</td>\n      <td>NaN</td>\n      <td>NaN</td>\n      <td>-</td>\n      <td>jun</td>\n      <td>fri</td>\n      <td>...</td>\n      <td>3</td>\n      <td>999</td>\n      <td>NaN</td>\n      <td>nonexistent</td>\n      <td>1.4</td>\n      <td>94.465</td>\n      <td>-41.8</td>\n      <td>4.959</td>\n      <td>5228.1</td>\n      <td>Withheld</td>\n    </tr>\n    <tr>\n      <th>50004</th>\n      <td>47</td>\n      <td>admin.</td>\n      <td>married</td>\n      <td>-</td>\n      <td>?</td>\n      <td>yes</td>\n      <td>no</td>\n      <td>cellular</td>\n      <td>nov</td>\n      <td>mon</td>\n      <td>...</td>\n      <td>1</td>\n      <td>999</td>\n      <td>0</td>\n      <td>nonexistent</td>\n      <td>-0.1</td>\n      <td>93.200</td>\n      <td>-42.0</td>\n      <td>4.191</td>\n      <td>5195.8</td>\n      <td>Withheld</td>\n    </tr>\n  </tbody>\n</table>\n<p>5 rows × 21 columns</p>\n</div>"
     },
     "execution_count": 25,
     "metadata": {},
     "output_type": "execute_result"
    }
   ],
   "source": [
    "data = pd.read_csv(\"./data/2_test.csv\", sep=';', index_col='id')\n",
    "print(\"数据形状：\", data.shape)\n",
    "print(\"列名:\", data.columns)\n",
    "data.head(5)"
   ],
   "metadata": {
    "collapsed": false,
    "pycharm": {
     "name": "#%%\n"
    }
   }
  },
  {
   "cell_type": "code",
   "execution_count": 26,
   "outputs": [
    {
     "name": "stdout",
     "output_type": "stream",
     "text": [
      "---------------------------------------------\n",
      "data contains [ 4119 ] records \n",
      "age have 468 null values:\n",
      "\n",
      "age  has [ 68 ] different values, please create features yourself!\n",
      "please notice here are some seldom_indexes:  Index(['22', '61', '67', '71', '80', '62', '66', '68', '73', '64', '74', '18',\n",
      "       '72', '81', '78', '63', '77', '19', '65', '88', '75', '69', '85', '86',\n",
      "       '82', '76'],\n",
      "      dtype='object')\n",
      "\n",
      "\n",
      "\n",
      "---------------------------------------------\n",
      "job have 454 null values:\n",
      "\n",
      "job  has [ 14 ] different values, please create features yourself!\n",
      "please notice here are some seldom_indexes:  Index([], dtype='object')\n",
      "\n",
      "\n",
      "\n",
      "---------------------------------------------\n",
      "marital have 437 null values:\n",
      "\n",
      "married     1893\n",
      "single       874\n",
      "divorced     336\n",
      "-            251\n",
      ".            189\n",
      "?            139\n",
      "Name: marital, dtype: int64\n",
      "use following code to generate features from label mapping:\n",
      "marital_mapping = {'married': 0, 'single': 1, 'divorced': 2, '-': 3, '.': 4, '?': 5}\n",
      "#TODO: add your logic to handle None\n",
      "data_marital, marital_ohe = one_hot_encoder_column(data, 'marital', marital_mapping, fill_na=99)\n",
      "\n",
      "\n",
      "\n",
      "---------------------------------------------\n",
      "education have 608 null values:\n",
      "\n",
      "university.degree      943\n",
      "high.school            693\n",
      "basic.9y               422\n",
      "professional.course    390\n",
      "basic.4y               302\n",
      "-                      239\n",
      ".                      201\n",
      "basic.6y               176\n",
      "?                      144\n",
      "illiterate               1\n",
      "Name: education, dtype: int64\n",
      "use following code to generate features from label mapping:\n",
      "education_mapping = {'university.degree': 0, 'high.school': 1, 'basic.9y': 2, 'professional.course': 3, 'basic.4y': 4, '-': 5, '.': 6, 'basic.6y': 7, '?': 8, 'illiterate': 9}\n",
      "#TODO: add your logic to handle None\n",
      "data_education, education_ohe = one_hot_encoder_column(data, 'education', education_mapping, fill_na=99)\n",
      "\n",
      "\n",
      "\n",
      "---------------------------------------------\n",
      "default have 1049 null values:\n",
      "\n",
      "no     2514\n",
      "-       237\n",
      ".       183\n",
      "?       135\n",
      "yes       1\n",
      "Name: default, dtype: int64\n",
      "use following code to generate features from label mapping:\n",
      "default_mapping = {'no': 0, '-': 1, '.': 2, '?': 3, 'yes': 4}\n",
      "#TODO: add your logic to handle None\n",
      "data_default, default_ohe = one_hot_encoder_column(data, 'default', default_mapping, fill_na=99)\n",
      "\n",
      "\n",
      "\n",
      "---------------------------------------------\n",
      "housing have 497 null values:\n",
      "\n",
      "yes    1651\n",
      "no     1380\n",
      "-       254\n",
      ".       195\n",
      "?       142\n",
      "Name: housing, dtype: int64\n",
      "use following code to generate features from label mapping:\n",
      "housing_mapping = {'yes': 0, 'no': 1, '-': 2, '.': 3, '?': 4}\n",
      "#TODO: add your logic to handle None\n",
      "data_housing, housing_ohe = one_hot_encoder_column(data, 'housing', housing_mapping, fill_na=99)\n",
      "\n",
      "\n",
      "\n",
      "---------------------------------------------\n",
      "loan have 531 null values:\n",
      "\n",
      "no     2509\n",
      "yes     486\n",
      "-       251\n",
      ".       193\n",
      "?       149\n",
      "Name: loan, dtype: int64\n",
      "use following code to generate features from label mapping:\n",
      "loan_mapping = {'no': 0, 'yes': 1, '-': 2, '.': 3, '?': 4}\n",
      "#TODO: add your logic to handle None\n",
      "data_loan, loan_ohe = one_hot_encoder_column(data, 'loan', loan_mapping, fill_na=99)\n",
      "\n",
      "\n",
      "\n",
      "---------------------------------------------\n",
      "contact have 446 null values:\n",
      "\n",
      "cellular     1982\n",
      "telephone    1084\n",
      "-             270\n",
      ".             182\n",
      "?             155\n",
      "Name: contact, dtype: int64\n",
      "use following code to generate features from label mapping:\n",
      "contact_mapping = {'cellular': 0, 'telephone': 1, '-': 2, '.': 3, '?': 4}\n",
      "#TODO: add your logic to handle None\n",
      "data_contact, contact_ohe = one_hot_encoder_column(data, 'contact', contact_mapping, fill_na=99)\n",
      "\n",
      "\n",
      "\n",
      "---------------------------------------------\n",
      "month have 444 null values:\n",
      "\n",
      "month  has [ 13 ] different values, please create features yourself!\n",
      "please notice here are some seldom_indexes:  Index(['dec'], dtype='object')\n",
      "\n",
      "\n",
      "\n",
      "---------------------------------------------\n",
      "day_of_week have 437 null values:\n",
      "\n",
      "mon    655\n",
      "thu    641\n",
      "tue    631\n",
      "wed    609\n",
      "fri    582\n",
      "-      240\n",
      ".      192\n",
      "?      132\n",
      "Name: day_of_week, dtype: int64\n",
      "use following code to generate features from label mapping:\n",
      "day_of_week_mapping = {'mon': 0, 'thu': 1, 'tue': 2, 'wed': 3, 'fri': 4, '-': 5, '.': 6, '?': 7}\n",
      "#TODO: add your logic to handle None\n",
      "data_day_of_week, day_of_week_ohe = one_hot_encoder_column(data, 'day_of_week', day_of_week_mapping, fill_na=99)\n",
      "\n",
      "\n",
      "\n",
      "---------------------------------------------\n",
      "duration have 430 null values:\n",
      "\n",
      "duration  has [ 753 ] different values, please create features yourself!\n",
      "please notice here are some seldom_indexes:  Index([], dtype='object')\n",
      "\n",
      "\n",
      "\n",
      "---------------------------------------------\n",
      "campaign have 463 null values:\n",
      "\n",
      "campaign  has [ 26 ] different values, please create features yourself!\n",
      "please notice here are some seldom_indexes:  Index(['10', '12', '17', '11', '13', '14', '16', '19', '15', '29', '23', '22',\n",
      "       '35', '24'],\n",
      "      dtype='object')\n",
      "\n",
      "\n",
      "\n",
      "---------------------------------------------\n",
      "pdays have 443 null values:\n",
      "\n",
      "pdays  has [ 23 ] different values, please create features yourself!\n",
      "please notice here are some seldom_indexes:  Index(['4', '7', '10', '12', '5', '2', '1', '0', '9', '18', '13', '19', '14',\n",
      "       '21', '16', '15', '11'],\n",
      "      dtype='object')\n",
      "\n",
      "\n",
      "\n",
      "---------------------------------------------\n",
      "previous have 413 null values:\n",
      "\n",
      "0    2661\n",
      "1     355\n",
      "-     256\n",
      ".     195\n",
      "?     154\n",
      "2      50\n",
      "3      20\n",
      "4      12\n",
      "6       2\n",
      "5       1\n",
      "Name: previous, dtype: int64\n",
      "use following code to generate features from label mapping:\n",
      "previous_mapping = {'0': 0, '1': 1, '-': 2, '.': 3, '?': 4, '2': 5, '3': 6, '4': 7, '6': 8, '5': 9}\n",
      "#TODO: add your logic to handle None\n",
      "data_previous, previous_ohe = one_hot_encoder_column(data, 'previous', previous_mapping, fill_na=99)\n",
      "\n",
      "\n",
      "\n",
      "---------------------------------------------\n",
      "poutcome have 449 null values:\n",
      "\n",
      "nonexistent    2625\n",
      "failure         340\n",
      "-               240\n",
      ".               218\n",
      "?               136\n",
      "success         111\n",
      "Name: poutcome, dtype: int64\n",
      "use following code to generate features from label mapping:\n",
      "poutcome_mapping = {'nonexistent': 0, 'failure': 1, '-': 2, '.': 3, '?': 4, 'success': 5}\n",
      "#TODO: add your logic to handle None\n",
      "data_poutcome, poutcome_ohe = one_hot_encoder_column(data, 'poutcome', poutcome_mapping, fill_na=99)\n",
      "\n",
      "\n",
      "\n",
      "---------------------------------------------\n",
      "emp.var.rate do not have any null values.\n",
      "emp.var.rate  is numeric column:\n",
      "count    4119.000000\n",
      "mean        0.084972\n",
      "std         1.563114\n",
      "min        -3.400000\n",
      "25%        -1.800000\n",
      "50%         1.100000\n",
      "75%         1.400000\n",
      "max         1.400000\n",
      "Name: emp.var.rate, dtype: float64\n",
      "\n",
      "\n",
      "\n",
      "---------------------------------------------\n",
      "cons.price.idx do not have any null values.\n",
      "cons.price.idx  is numeric column:\n",
      "count    4119.000000\n",
      "mean       93.579704\n",
      "std         0.579349\n",
      "min        92.201000\n",
      "25%        93.075000\n",
      "50%        93.749000\n",
      "75%        93.994000\n",
      "max        94.767000\n",
      "Name: cons.price.idx, dtype: float64\n",
      "\n",
      "\n",
      "\n",
      "---------------------------------------------\n",
      "cons.conf.idx do not have any null values.\n",
      "cons.conf.idx  is numeric column:\n",
      "count    4119.000000\n",
      "mean      -40.499102\n",
      "std         4.594578\n",
      "min       -50.800000\n",
      "25%       -42.700000\n",
      "50%       -41.800000\n",
      "75%       -36.400000\n",
      "max       -26.900000\n",
      "Name: cons.conf.idx, dtype: float64\n",
      "\n",
      "\n",
      "\n",
      "---------------------------------------------\n",
      "euribor3m do not have any null values.\n",
      "euribor3m  is numeric column:\n",
      "count    4119.000000\n",
      "mean        3.621356\n",
      "std         1.733591\n",
      "min         0.635000\n",
      "25%         1.334000\n",
      "50%         4.857000\n",
      "75%         4.961000\n",
      "max         5.045000\n",
      "Name: euribor3m, dtype: float64\n",
      "\n",
      "\n",
      "\n",
      "---------------------------------------------\n",
      "nr.employed do not have any null values.\n",
      "nr.employed  is numeric column:\n",
      "count    4119.000000\n",
      "mean     5166.481695\n",
      "std        73.667904\n",
      "min      4963.600000\n",
      "25%      5099.100000\n",
      "50%      5191.000000\n",
      "75%      5228.100000\n",
      "max      5228.100000\n",
      "Name: nr.employed, dtype: float64\n",
      "\n",
      "\n",
      "\n",
      "---------------------------------------------\n",
      "y do not have any null values.\n",
      "Withheld    4119\n",
      "Name: y, dtype: int64\n",
      "use following code to generate features from label mapping:\n",
      "y_mapping = {'Withheld': 0}\n",
      "#TODO: add your logic to handle None\n",
      "data_y, y_ohe = one_hot_encoder_column(data, 'y', y_mapping, fill_na=99)\n",
      "\n",
      "\n",
      "\n",
      "---------------------------------------------\n"
     ]
    }
   ],
   "source": [
    "object_feature_helper(data)"
   ],
   "metadata": {
    "collapsed": false,
    "pycharm": {
     "name": "#%%\n"
    }
   }
  },
  {
   "cell_type": "code",
   "execution_count": 27,
   "outputs": [
    {
     "data": {
      "text/plain": "<AxesSubplot:>"
     },
     "execution_count": 27,
     "metadata": {},
     "output_type": "execute_result"
    },
    {
     "data": {
      "text/plain": "<Figure size 432x288 with 1 Axes>",
      "image/png": "[encoded data removed]"
     },
     "metadata": {
      "needs_background": "light"
     },
     "output_type": "display_data"
    }
   ],
   "source": [
    "data_age = data['age'].apply(lambda age: age_to_int(age))\n",
    "data_age.value_counts().sort_index().plot(kind='bar')"
   ],
   "metadata": {
    "collapsed": false,
    "pycharm": {
     "name": "#%%\n"
    }
   }
  },
  {
   "cell_type": "code",
   "execution_count": 28,
   "outputs": [],
   "source": [
    "job_mapping = {'admin.': 0, 'blue-collar': 1, 'technician': 2, 'services': 3, '-': 99, 'management': 0, '.': 99,\n",
    "               '?': 99, 'retired': 11, 'entrepreneur': 0, 'self-employed': 10, 'unemployed': 11, 'housemaid': 10,\n",
    "               'student': 11}\n",
    "data_job, job_ohe = one_hot_encoder_column(data, 'job', job_mapping, fill_na=99)"
   ],
   "metadata": {
    "collapsed": false,
    "pycharm": {
     "name": "#%%\n"
    }
   }
  },
  {
   "cell_type": "code",
   "execution_count": 29,
   "outputs": [
    {
     "data": {
      "text/plain": "<AxesSubplot:>"
     },
     "execution_count": 29,
     "metadata": {},
     "output_type": "execute_result"
    },
    {
     "data": {
      "text/plain": "<Figure size 432x288 with 1 Axes>",
      "image/png": "[encoded data removed]"
     },
     "metadata": {
      "needs_background": "light"
     },
     "output_type": "display_data"
    }
   ],
   "source": [
    "marital_mapping = {'married': 0, 'single': 1, 'divorced': 1, '-': 1, '.': 1, '?': 1}\n",
    "data_marital = data['marital'].apply(lambda marital: 0 if marital == 'married' else 1)\n",
    "\n",
    "data_marital.value_counts().sort_index().plot(kind='bar')"
   ],
   "metadata": {
    "collapsed": false,
    "pycharm": {
     "name": "#%%\n"
    }
   }
  },
  {
   "cell_type": "code",
   "execution_count": 30,
   "outputs": [
    {
     "data": {
      "text/plain": "<AxesSubplot:>"
     },
     "execution_count": 30,
     "metadata": {},
     "output_type": "execute_result"
    },
    {
     "data": {
      "text/plain": "<Figure size 432x288 with 1 Axes>",
      "image/png": "[encoded data removed]"
     },
     "metadata": {
      "needs_background": "light"
     },
     "output_type": "display_data"
    }
   ],
   "source": [
    "education_mapping = {'university.degree': 2, 'high.school': 1, 'basic.9y': 0, 'professional.course': 3, 'basic.4y': 0, '-': 0, '.': 0, 'basic.6y': 0, '?': 0, 'illiterate': 0, 0: 0}\n",
    "data['education'] = data['education'].fillna(0)\n",
    "data_education = data['education'].apply(lambda edu: education_mapping[edu])\n",
    "data_education.value_counts().sort_index().plot(kind='bar')\n"
   ],
   "metadata": {
    "collapsed": false,
    "pycharm": {
     "name": "#%%\n"
    }
   }
  },
  {
   "cell_type": "code",
   "execution_count": 31,
   "outputs": [],
   "source": [
    "housing_mapping = {'yes': 0, 'no': 1, '-': 0, '.': 0, '?': 0, 0:0}\n",
    "data_housing, housing_ohe = one_hot_encoder_column(data, 'housing', housing_mapping, fill_na=99)\n",
    "data_housing = pd.DataFrame(data_housing)"
   ],
   "metadata": {
    "collapsed": false,
    "pycharm": {
     "name": "#%%\n"
    }
   }
  },
  {
   "cell_type": "code",
   "execution_count": 32,
   "outputs": [],
   "source": [
    "contact_mapping = {'cellular': 0, 'telephone': 1, '-': 2, '.': 2, '?': 2}\n",
    "data_contact, contact_ohe = one_hot_encoder_column(data, 'contact', contact_mapping, fill_na=99)\n",
    "data_contact = pd.DataFrame(data_contact)"
   ],
   "metadata": {
    "collapsed": false,
    "pycharm": {
     "name": "#%%\n"
    }
   }
  },
  {
   "cell_type": "code",
   "execution_count": 33,
   "outputs": [],
   "source": [
    "day_of_week_mapping = {'thu': 0, 'mon': 1, 'tue': 2, 'wed': 3, 'fri': 4, '-': 5, '.': 5, '?': 5}\n",
    "data_day_of_week, day_of_week_mapping_ohe = one_hot_encoder_column(data, 'day_of_week', day_of_week_mapping, fill_na=99)\n",
    "data_day_of_week = pd.DataFrame(data_day_of_week)"
   ],
   "metadata": {
    "collapsed": false,
    "pycharm": {
     "name": "#%%\n"
    }
   }
  },
  {
   "cell_type": "code",
   "execution_count": 34,
   "outputs": [],
   "source": [
    "data_duration = data['duration'].fillna(0)\n",
    "data_duration[data_duration == '-'] = '0'\n",
    "data_duration[data_duration == '.'] = '0'\n",
    "data_duration[data_duration == '?'] = '0'\n",
    "data_duration = data_duration.astype(int)"
   ],
   "metadata": {
    "collapsed": false,
    "pycharm": {
     "name": "#%%\n"
    }
   }
  },
  {
   "cell_type": "code",
   "execution_count": 35,
   "outputs": [],
   "source": [
    "data['campaign'].value_counts()\n",
    "data_campaign = data['campaign'].fillna(0)\n",
    "data_campaign[data_campaign == '-'] = '0'\n",
    "data_campaign[data_campaign == '.'] = '0'\n",
    "data_campaign[data_campaign == '?'] = '0'\n",
    "data_campaign = data_campaign.astype(int)"
   ],
   "metadata": {
    "collapsed": false,
    "pycharm": {
     "name": "#%%\n"
    }
   }
  },
  {
   "cell_type": "code",
   "execution_count": 36,
   "outputs": [
    {
     "data": {
      "text/plain": "999    3996\n3        38\n6        30\n4        13\n7         8\n10        6\n5         4\n12        4\n1         3\n2         3\n18        2\n0         2\n13        2\n9         2\n14        1\n21        1\n11        1\n15        1\n19        1\n16        1\nName: pdays, dtype: int64"
     },
     "execution_count": 36,
     "metadata": {},
     "output_type": "execute_result"
    }
   ],
   "source": [
    "data['pdays'].value_counts()\n",
    "non_values = ['-', '.', '?']\n",
    "data_pdays = data['pdays'].fillna(999)\n",
    "data_pdays[data_pdays.isin(non_values)] = 999\n",
    "data_pdays = data_pdays.astype(int)\n",
    "data_pdays.value_counts()"
   ],
   "metadata": {
    "collapsed": false,
    "pycharm": {
     "name": "#%%\n"
    }
   }
  },
  {
   "cell_type": "code",
   "execution_count": 37,
   "outputs": [
    {
     "data": {
      "text/plain": "0    3679\n1     355\n2      50\n3      20\n4      12\n6       2\n5       1\nName: previous, dtype: int64"
     },
     "execution_count": 37,
     "metadata": {},
     "output_type": "execute_result"
    }
   ],
   "source": [
    "data_previous = fill_na(data['previous'], non_list=non_values, na_value=0)\n",
    "data_previous.value_counts()"
   ],
   "metadata": {
    "collapsed": false,
    "pycharm": {
     "name": "#%%\n"
    }
   }
  },
  {
   "cell_type": "code",
   "execution_count": 38,
   "outputs": [
    {
     "data": {
      "text/plain": "       poutcome_0  poutcome_1\nid                           \n50000         0.0         0.0\n50001         0.0         0.0\n50002         0.0         0.0\n50003         0.0         0.0\n50004         0.0         0.0\n...           ...         ...\n54114         0.0         0.0\n54115         0.0         0.0\n54116         1.0         0.0\n54117         0.0         0.0\n54118         0.0         0.0\n\n[4119 rows x 2 columns]",
      "text/html": "<div>\n<style scoped>\n    .dataframe tbody tr th:only-of-type {\n        vertical-align: middle;\n    }\n\n    .dataframe tbody tr th {\n        vertical-align: top;\n    }\n\n    .dataframe thead th {\n        text-align: right;\n    }\n</style>\n<table border=\"1\" class=\"dataframe\">\n  <thead>\n    <tr style=\"text-align: right;\">\n      <th></th>\n      <th>poutcome_0</th>\n      <th>poutcome_1</th>\n    </tr>\n    <tr>\n      <th>id</th>\n      <th></th>\n      <th></th>\n    </tr>\n  </thead>\n  <tbody>\n    <tr>\n      <th>50000</th>\n      <td>0.0</td>\n      <td>0.0</td>\n    </tr>\n    <tr>\n      <th>50001</th>\n      <td>0.0</td>\n      <td>0.0</td>\n    </tr>\n    <tr>\n      <th>50002</th>\n      <td>0.0</td>\n      <td>0.0</td>\n    </tr>\n    <tr>\n      <th>50003</th>\n      <td>0.0</td>\n      <td>0.0</td>\n    </tr>\n    <tr>\n      <th>50004</th>\n      <td>0.0</td>\n      <td>0.0</td>\n    </tr>\n    <tr>\n      <th>...</th>\n      <td>...</td>\n      <td>...</td>\n    </tr>\n    <tr>\n      <th>54114</th>\n      <td>0.0</td>\n      <td>0.0</td>\n    </tr>\n    <tr>\n      <th>54115</th>\n      <td>0.0</td>\n      <td>0.0</td>\n    </tr>\n    <tr>\n      <th>54116</th>\n      <td>1.0</td>\n      <td>0.0</td>\n    </tr>\n    <tr>\n      <th>54117</th>\n      <td>0.0</td>\n      <td>0.0</td>\n    </tr>\n    <tr>\n      <th>54118</th>\n      <td>0.0</td>\n      <td>0.0</td>\n    </tr>\n  </tbody>\n</table>\n<p>4119 rows × 2 columns</p>\n</div>"
     },
     "execution_count": 38,
     "metadata": {},
     "output_type": "execute_result"
    }
   ],
   "source": [
    "poutcome_mapping = {'nonexistent': 0, 'failure': 1, '-': 0, '.': 0, '?': 0, 'success': 2}\n",
    "data_poutcome, poutcome_ohe = one_hot_encoder_column(data, 'poutcome', poutcome_mapping, fill_na=0)\n",
    "data_poutcome = pd.DataFrame(data_poutcome)\n",
    "\n",
    "data_poutcome"
   ],
   "metadata": {
    "collapsed": false,
    "pycharm": {
     "name": "#%%\n"
    }
   }
  },
  {
   "cell_type": "code",
   "execution_count": 39,
   "outputs": [],
   "source": [
    "from sklearn.preprocessing import StandardScaler\n",
    "data_emp_var_rate = data['emp.var.rate']\n",
    "data_cons_price_idx = data['cons.price.idx']\n",
    "data_cons_conf_idx = data['cons.conf.idx']\n",
    "data_euribor3m = data['euribor3m']\n",
    "data_nr_employed = data['nr.employed']"
   ],
   "metadata": {
    "collapsed": false,
    "pycharm": {
     "name": "#%%\n"
    }
   }
  },
  {
   "cell_type": "code",
   "execution_count": 40,
   "outputs": [],
   "source": [
    "data_y = data['y'].apply(lambda y: 1 if y=='yes' else 0)"
   ],
   "metadata": {
    "collapsed": false,
    "pycharm": {
     "name": "#%%\n"
    }
   }
  },
  {
   "cell_type": "code",
   "execution_count": 41,
   "outputs": [],
   "source": [
    "data_all = pd.concat([data_age, data_job, data_marital, data_education, data_housing, data_contact, data_day_of_week,\n",
    "                      data_duration, data_campaign, data_pdays, data_previous, data_poutcome, data_y], axis=1)\n",
    "\n",
    "data_all.to_csv(\"./data/feature_2_test.csv\")\n",
    "\n"
   ],
   "metadata": {
    "collapsed": false,
    "pycharm": {
     "name": "#%%\n"
    }
   }
  }
 ],
 "metadata": {
  "kernelspec": {
   "display_name": "Python 3",
   "language": "python",
   "name": "python3"
  },
  "language_info": {
   "codemirror_mode": {
    "name": "ipython",
    "version": 2
   },
   "file_extension": ".py",
   "mimetype": "text/x-python",
   "name": "python",
   "nbconvert_exporter": "python",
   "pygments_lexer": "ipython2",
   "version": "2.7.6"
  }
 },
 "nbformat": 4,
 "nbformat_minor": 0
}
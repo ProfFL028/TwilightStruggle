{
 "cells": [
  {
   "cell_type": "code",
   "execution_count": 35,
   "metadata": {
    "collapsed": true,
    "pycharm": {
     "name": "#%%\n"
    }
   },
   "outputs": [
    {
     "data": {
      "text/plain": "              主页ID        主页名称    分类  \\\n0  155000000000000  纬来体育台官方粉丝团  电视频道   \n1     359000000000       公视粉丝团  电视频道   \n2     359000000000       公视粉丝团  电视频道   \n3     190000000000    Mobile01  网路社群   \n4     359000000000       公视粉丝团  电视频道   \n\n                                             message                    name  \\\n0                      中华队长林智胜 三分砲！！！\\n人如其名　真的「致胜」阿～                     NaN   \n1    您所选择的电视频道，将会决定您的未来~\\n遥控器的决定权，就在你手上！\\n\\n#看见更好的未来  2015公视电视募款 公视让你看见更好的未来   \n2  好演员值得更多肯定和掌声！\\n\\n吴慷仁提到大概有六、七年资历的演员，所面临的最大困境，是赚...                   公视粉丝团   \n3                              大师兄 一发炸裂！！帅啊啊啊啊啊啊啊！！！       来自 Mobile01 贴文的相片   \n4  「再不救，就来不及了！如果没有很强力的救，再三十年，你可能找不到鹿港的味道了！」\\n\\n「两...              【我们的岛】抢救鹿港   \n\n                                         description   发文类型  y  \n0                                                NaN  video  H  \n1  这是一个资讯爆炸的时代，你所选择的资讯将决定你的视野；你所选择的电视频道，将会决定你的未来 ...  video  L  \n2                                                NaN   link  L  \n3                                                NaN  photo  H  \n4  叶明兰、叶镇中 / 采访报导 「再不救，就来不及了！如果没有很强力的救，再三十年，你可能找不...   link  L  ",
      "text/html": "<div>\n<style scoped>\n    .dataframe tbody tr th:only-of-type {\n        vertical-align: middle;\n    }\n\n    .dataframe tbody tr th {\n        vertical-align: top;\n    }\n\n    .dataframe thead th {\n        text-align: right;\n    }\n</style>\n<table border=\"1\" class=\"dataframe\">\n  <thead>\n    <tr style=\"text-align: right;\">\n      <th></th>\n      <th>主页ID</th>\n      <th>主页名称</th>\n      <th>分类</th>\n      <th>message</th>\n      <th>name</th>\n      <th>description</th>\n      <th>发文类型</th>\n      <th>y</th>\n    </tr>\n  </thead>\n  <tbody>\n    <tr>\n      <th>0</th>\n      <td>155000000000000</td>\n      <td>纬来体育台官方粉丝团</td>\n      <td>电视频道</td>\n      <td>中华队长林智胜 三分砲！！！\\n人如其名　真的「致胜」阿～</td>\n      <td>NaN</td>\n      <td>NaN</td>\n      <td>video</td>\n      <td>H</td>\n    </tr>\n    <tr>\n      <th>1</th>\n      <td>359000000000</td>\n      <td>公视粉丝团</td>\n      <td>电视频道</td>\n      <td>您所选择的电视频道，将会决定您的未来~\\n遥控器的决定权，就在你手上！\\n\\n#看见更好的未来</td>\n      <td>2015公视电视募款 公视让你看见更好的未来</td>\n      <td>这是一个资讯爆炸的时代，你所选择的资讯将决定你的视野；你所选择的电视频道，将会决定你的未来 ...</td>\n      <td>video</td>\n      <td>L</td>\n    </tr>\n    <tr>\n      <th>2</th>\n      <td>359000000000</td>\n      <td>公视粉丝团</td>\n      <td>电视频道</td>\n      <td>好演员值得更多肯定和掌声！\\n\\n吴慷仁提到大概有六、七年资历的演员，所面临的最大困境，是赚...</td>\n      <td>公视粉丝团</td>\n      <td>NaN</td>\n      <td>link</td>\n      <td>L</td>\n    </tr>\n    <tr>\n      <th>3</th>\n      <td>190000000000</td>\n      <td>Mobile01</td>\n      <td>网路社群</td>\n      <td>大师兄 一发炸裂！！帅啊啊啊啊啊啊啊！！！</td>\n      <td>来自 Mobile01 贴文的相片</td>\n      <td>NaN</td>\n      <td>photo</td>\n      <td>H</td>\n    </tr>\n    <tr>\n      <th>4</th>\n      <td>359000000000</td>\n      <td>公视粉丝团</td>\n      <td>电视频道</td>\n      <td>「再不救，就来不及了！如果没有很强力的救，再三十年，你可能找不到鹿港的味道了！」\\n\\n「两...</td>\n      <td>【我们的岛】抢救鹿港</td>\n      <td>叶明兰、叶镇中 / 采访报导 「再不救，就来不及了！如果没有很强力的救，再三十年，你可能找不...</td>\n      <td>link</td>\n      <td>L</td>\n    </tr>\n  </tbody>\n</table>\n</div>"
     },
     "execution_count": 35,
     "metadata": {},
     "output_type": "execute_result"
    }
   ],
   "source": [
    "import jieba\n",
    "import numpy as np\n",
    "import pandas as pd\n",
    "\n",
    "data = pd.read_excel(\"./data/1_train.xlsx\")\n",
    "data.head(5)"
   ]
  },
  {
   "cell_type": "code",
   "execution_count": 40,
   "outputs": [
    {
     "data": {
      "text/plain": "y                   H      L\n主页ID                        \n62825073345       4.0   19.0\n90420602485       NaN    3.0\n101000000000      4.0   34.0\n103000000000      NaN    4.0\n104000000000      3.0    NaN\n...               ...    ...\n1500000000000000  NaN   22.0\n1510000000000000  1.0   10.0\n1550000000000000  NaN    3.0\n1620000000000000  NaN   23.0\n1650000000000000  NaN  319.0\n\n[120 rows x 2 columns]",
      "text/html": "<div>\n<style scoped>\n    .dataframe tbody tr th:only-of-type {\n        vertical-align: middle;\n    }\n\n    .dataframe tbody tr th {\n        vertical-align: top;\n    }\n\n    .dataframe thead th {\n        text-align: right;\n    }\n</style>\n<table border=\"1\" class=\"dataframe\">\n  <thead>\n    <tr style=\"text-align: right;\">\n      <th>y</th>\n      <th>H</th>\n      <th>L</th>\n    </tr>\n    <tr>\n      <th>主页ID</th>\n      <th></th>\n      <th></th>\n    </tr>\n  </thead>\n  <tbody>\n    <tr>\n      <th>62825073345</th>\n      <td>4.0</td>\n      <td>19.0</td>\n    </tr>\n    <tr>\n      <th>90420602485</th>\n      <td>NaN</td>\n      <td>3.0</td>\n    </tr>\n    <tr>\n      <th>101000000000</th>\n      <td>4.0</td>\n      <td>34.0</td>\n    </tr>\n    <tr>\n      <th>103000000000</th>\n      <td>NaN</td>\n      <td>4.0</td>\n    </tr>\n    <tr>\n      <th>104000000000</th>\n      <td>3.0</td>\n      <td>NaN</td>\n    </tr>\n    <tr>\n      <th>...</th>\n      <td>...</td>\n      <td>...</td>\n    </tr>\n    <tr>\n      <th>1500000000000000</th>\n      <td>NaN</td>\n      <td>22.0</td>\n    </tr>\n    <tr>\n      <th>1510000000000000</th>\n      <td>1.0</td>\n      <td>10.0</td>\n    </tr>\n    <tr>\n      <th>1550000000000000</th>\n      <td>NaN</td>\n      <td>3.0</td>\n    </tr>\n    <tr>\n      <th>1620000000000000</th>\n      <td>NaN</td>\n      <td>23.0</td>\n    </tr>\n    <tr>\n      <th>1650000000000000</th>\n      <td>NaN</td>\n      <td>319.0</td>\n    </tr>\n  </tbody>\n</table>\n<p>120 rows × 2 columns</p>\n</div>"
     },
     "execution_count": 40,
     "metadata": {},
     "output_type": "execute_result"
    }
   ],
   "source": [
    "grp = data.pivot_table(index='主页ID', columns='y', values=['分类'], aggfunc='count').droplevel(0, axis=1)\n",
    "grp"
   ],
   "metadata": {
    "collapsed": false,
    "pycharm": {
     "name": "#%%\n"
    }
   }
  },
  {
   "cell_type": "code",
   "execution_count": 41,
   "outputs": [
    {
     "data": {
      "text/plain": "y                  H    L\n主页ID                     \n104000000000     3.0  0.0\n853000000000000  4.0  0.0",
      "text/html": "<div>\n<style scoped>\n    .dataframe tbody tr th:only-of-type {\n        vertical-align: middle;\n    }\n\n    .dataframe tbody tr th {\n        vertical-align: top;\n    }\n\n    .dataframe thead th {\n        text-align: right;\n    }\n</style>\n<table border=\"1\" class=\"dataframe\">\n  <thead>\n    <tr style=\"text-align: right;\">\n      <th>y</th>\n      <th>H</th>\n      <th>L</th>\n    </tr>\n    <tr>\n      <th>主页ID</th>\n      <th></th>\n      <th></th>\n    </tr>\n  </thead>\n  <tbody>\n    <tr>\n      <th>104000000000</th>\n      <td>3.0</td>\n      <td>0.0</td>\n    </tr>\n    <tr>\n      <th>853000000000000</th>\n      <td>4.0</td>\n      <td>0.0</td>\n    </tr>\n  </tbody>\n</table>\n</div>"
     },
     "execution_count": 41,
     "metadata": {},
     "output_type": "execute_result"
    }
   ],
   "source": [
    "grp = grp.fillna(0)\n",
    "blacklist = grp[ ((grp['H'] <= 1) & (grp['L'] >5)) ]\n",
    "whitelist = grp[ (grp['L'] == 0) & (grp['H'] > 1) ]\n",
    "whitelist"
   ],
   "metadata": {
    "collapsed": false,
    "pycharm": {
     "name": "#%%\n"
    }
   }
  },
  {
   "cell_type": "code",
   "execution_count": null,
   "outputs": [],
   "source": [
    "# id 发了个多少贴子\n",
    "# id"
   ],
   "metadata": {
    "collapsed": false,
    "pycharm": {
     "name": "#%%\n"
    }
   }
  },
  {
   "cell_type": "code",
   "execution_count": 3,
   "outputs": [
    {
     "data": {
      "text/plain": "      index             主页ID        主页名称    分类  \\\n0         0  155000000000000  纬来体育台官方粉丝团  电视频道   \n1         3     190000000000    Mobile01  网路社群   \n2         5  242000000000000  ETtoday新闻云    新闻   \n3         6     190000000000    Mobile01  网路社群   \n4         7  109000000000000  Yahoo!奇摩新闻    新闻   \n...     ...              ...         ...   ...   \n6483   7824     283000000000      中天快点TV  电视频道   \n6484   7825  773000000000000       料理高校生   电视剧   \n6485   7826  773000000000000       料理高校生   电视剧   \n6486   7827  242000000000000  ETtoday新闻云    新闻   \n6487   7828     128000000000        天下杂志  书籍杂志   \n\n                                                message  \\\n0                         中华队长林智胜 三分砲！！！\\n人如其名　真的「致胜」阿～   \n1                                 大师兄 一发炸裂！！帅啊啊啊啊啊啊啊！！！   \n2     爽啦～～～（ Supermm）\\n\\n#中华队 #古巴\\nhttp://www.ettoda...   \n3                     4：1，中华战胜古巴！今晚是最棒的周末夜，谢谢中华队！请继续加油！   \n4     一个字，爽！！！！\\n\\n#12强 #台古大战 #林智胜 #棒球 #三分砲 Lamigo M...   \n...                                                 ...   \n6483  被镶上绿色宝石的番薯，好美！（土星人）\\n\\n\\n---\\n●CH52中天新闻On Air！...   \n6484  【早鸟福利】\\n方老师唯美的瞬间，就这样被我们捕捉到了 :P\\n今天是11/11光棍节\\n想...   \n6485  佩颖主任啊..\\n您就别自暴自弃了~~\\n　\\n莫非是摆脱烂桃花的新招?\\n\\n每周五晚间十...   \n6486   快、合、作！（ Joe小姐）\\n\\n蔡依林 Jolin Tsai T.O.P. G-DRAGON   \n6487    【联合报】  一个班才2、3个人，大学班级变家教班？\\n\\n4系注册挂零、6校拉警报！！ ↓↓   \n\n                                                   name  \\\n0                                                   NaN   \n1                                     来自 Mobile01 贴文的相片   \n2       故意保送后林智胜怒轰3分炮　中华睽违9年击败古巴 | ET运动云 | ETtoday东森新闻云   \n3                                     来自 Mobile01 贴文的相片   \n4                                世界12强／林智胜怒轰3分砲！中华队赢古巴啦   \n...                                                 ...   \n6483                           从太空夜拍台湾美翻了！　嘉南平原就像被镶上绿宝石   \n6484                                             动态时报相片   \n6485                                             动态时报相片   \n6486  蔡依林、GD&T.O.P后台照曝光　甜呼：小爱心主人！ | 娱乐星光云 | ETtoday东...   \n6487                    注册率不到3成　大专67校系快灭顶｜教育｜联合新闻网｜天下杂志   \n\n                                            description   发文类型  y  \n0                                                   NaN  video  H  \n1                                                   NaN  photo  H  \n2     世界12强棒球赛中华队林智胜，8局下在前一棒郭严文被故意保送成一、二垒有人，轰出左外野3分全...   link  H  \n3                                                   NaN  photo  H  \n4                             今天(14日)「大师兄」林智胜单场被看扁2次...   link  H  \n...                                                 ...    ... ..  \n6483  国际太空站拍下夜晚台湾，影片一上传，立刻受到热烈讨论，不少人都被台湾的美给吸引，?万家灯火构...   link  L  \n6484                                                NaN  photo  L  \n6485                                                NaN  photo  L  \n6486  「呸姊」蔡依林2日晚间出席南韩年度盛事MAMA舞台，她一开低胸紧身服装霸气登场，献唱舞曲《P...   link  L  \n6487  教育部昨公布104学年度大专校院各校系注册率，竟有高达67校系注册率不到3成，学生只有2、3...   link  L  \n\n[6488 rows x 9 columns]",
      "text/html": "<div>\n<style scoped>\n    .dataframe tbody tr th:only-of-type {\n        vertical-align: middle;\n    }\n\n    .dataframe tbody tr th {\n        vertical-align: top;\n    }\n\n    .dataframe thead th {\n        text-align: right;\n    }\n</style>\n<table border=\"1\" class=\"dataframe\">\n  <thead>\n    <tr style=\"text-align: right;\">\n      <th></th>\n      <th>index</th>\n      <th>主页ID</th>\n      <th>主页名称</th>\n      <th>分类</th>\n      <th>message</th>\n      <th>name</th>\n      <th>description</th>\n      <th>发文类型</th>\n      <th>y</th>\n    </tr>\n  </thead>\n  <tbody>\n    <tr>\n      <th>0</th>\n      <td>0</td>\n      <td>155000000000000</td>\n      <td>纬来体育台官方粉丝团</td>\n      <td>电视频道</td>\n      <td>中华队长林智胜 三分砲！！！\\n人如其名　真的「致胜」阿～</td>\n      <td>NaN</td>\n      <td>NaN</td>\n      <td>video</td>\n      <td>H</td>\n    </tr>\n    <tr>\n      <th>1</th>\n      <td>3</td>\n      <td>190000000000</td>\n      <td>Mobile01</td>\n      <td>网路社群</td>\n      <td>大师兄 一发炸裂！！帅啊啊啊啊啊啊啊！！！</td>\n      <td>来自 Mobile01 贴文的相片</td>\n      <td>NaN</td>\n      <td>photo</td>\n      <td>H</td>\n    </tr>\n    <tr>\n      <th>2</th>\n      <td>5</td>\n      <td>242000000000000</td>\n      <td>ETtoday新闻云</td>\n      <td>新闻</td>\n      <td>爽啦～～～（ Supermm）\\n\\n#中华队 #古巴\\nhttp://www.ettoda...</td>\n      <td>故意保送后林智胜怒轰3分炮　中华睽违9年击败古巴 | ET运动云 | ETtoday东森新闻云</td>\n      <td>世界12强棒球赛中华队林智胜，8局下在前一棒郭严文被故意保送成一、二垒有人，轰出左外野3分全...</td>\n      <td>link</td>\n      <td>H</td>\n    </tr>\n    <tr>\n      <th>3</th>\n      <td>6</td>\n      <td>190000000000</td>\n      <td>Mobile01</td>\n      <td>网路社群</td>\n      <td>4：1，中华战胜古巴！今晚是最棒的周末夜，谢谢中华队！请继续加油！</td>\n      <td>来自 Mobile01 贴文的相片</td>\n      <td>NaN</td>\n      <td>photo</td>\n      <td>H</td>\n    </tr>\n    <tr>\n      <th>4</th>\n      <td>7</td>\n      <td>109000000000000</td>\n      <td>Yahoo!奇摩新闻</td>\n      <td>新闻</td>\n      <td>一个字，爽！！！！\\n\\n#12强 #台古大战 #林智胜 #棒球 #三分砲 Lamigo M...</td>\n      <td>世界12强／林智胜怒轰3分砲！中华队赢古巴啦</td>\n      <td>今天(14日)「大师兄」林智胜单场被看扁2次...</td>\n      <td>link</td>\n      <td>H</td>\n    </tr>\n    <tr>\n      <th>...</th>\n      <td>...</td>\n      <td>...</td>\n      <td>...</td>\n      <td>...</td>\n      <td>...</td>\n      <td>...</td>\n      <td>...</td>\n      <td>...</td>\n      <td>...</td>\n    </tr>\n    <tr>\n      <th>6483</th>\n      <td>7824</td>\n      <td>283000000000</td>\n      <td>中天快点TV</td>\n      <td>电视频道</td>\n      <td>被镶上绿色宝石的番薯，好美！（土星人）\\n\\n\\n---\\n●CH52中天新闻On Air！...</td>\n      <td>从太空夜拍台湾美翻了！　嘉南平原就像被镶上绿宝石</td>\n      <td>国际太空站拍下夜晚台湾，影片一上传，立刻受到热烈讨论，不少人都被台湾的美给吸引，?万家灯火构...</td>\n      <td>link</td>\n      <td>L</td>\n    </tr>\n    <tr>\n      <th>6484</th>\n      <td>7825</td>\n      <td>773000000000000</td>\n      <td>料理高校生</td>\n      <td>电视剧</td>\n      <td>【早鸟福利】\\n方老师唯美的瞬间，就这样被我们捕捉到了 :P\\n今天是11/11光棍节\\n想...</td>\n      <td>动态时报相片</td>\n      <td>NaN</td>\n      <td>photo</td>\n      <td>L</td>\n    </tr>\n    <tr>\n      <th>6485</th>\n      <td>7826</td>\n      <td>773000000000000</td>\n      <td>料理高校生</td>\n      <td>电视剧</td>\n      <td>佩颖主任啊..\\n您就别自暴自弃了~~\\n　\\n莫非是摆脱烂桃花的新招?\\n\\n每周五晚间十...</td>\n      <td>动态时报相片</td>\n      <td>NaN</td>\n      <td>photo</td>\n      <td>L</td>\n    </tr>\n    <tr>\n      <th>6486</th>\n      <td>7827</td>\n      <td>242000000000000</td>\n      <td>ETtoday新闻云</td>\n      <td>新闻</td>\n      <td>快、合、作！（ Joe小姐）\\n\\n蔡依林 Jolin Tsai T.O.P. G-DRAGON</td>\n      <td>蔡依林、GD&amp;T.O.P后台照曝光　甜呼：小爱心主人！ | 娱乐星光云 | ETtoday东...</td>\n      <td>「呸姊」蔡依林2日晚间出席南韩年度盛事MAMA舞台，她一开低胸紧身服装霸气登场，献唱舞曲《P...</td>\n      <td>link</td>\n      <td>L</td>\n    </tr>\n    <tr>\n      <th>6487</th>\n      <td>7828</td>\n      <td>128000000000</td>\n      <td>天下杂志</td>\n      <td>书籍杂志</td>\n      <td>【联合报】  一个班才2、3个人，大学班级变家教班？\\n\\n4系注册挂零、6校拉警报！！ ↓↓</td>\n      <td>注册率不到3成　大专67校系快灭顶｜教育｜联合新闻网｜天下杂志</td>\n      <td>教育部昨公布104学年度大专校院各校系注册率，竟有高达67校系注册率不到3成，学生只有2、3...</td>\n      <td>link</td>\n      <td>L</td>\n    </tr>\n  </tbody>\n</table>\n<p>6488 rows × 9 columns</p>\n</div>"
     },
     "execution_count": 3,
     "metadata": {},
     "output_type": "execute_result"
    }
   ],
   "source": [
    "data_remove_bw = data[ (~data['主页ID'].isin(blacklist.index.values)) &\n",
    "                       (~data['主页ID'].isin(whitelist.index.values)) ]\n",
    "data_remove_bw = data_remove_bw.reset_index()\n",
    "data_remove_bw"
   ],
   "metadata": {
    "collapsed": false,
    "pycharm": {
     "name": "#%%\n"
    }
   }
  },
  {
   "cell_type": "code",
   "execution_count": 48,
   "outputs": [
    {
     "data": {
      "text/plain": "y                     H       L\n主页ID                           \n128000000000        3.0    73.0\n188000000000       14.0    77.0\n220000000000       16.0    37.0\n233000000000      122.0   736.0\n283000000000        5.0    74.0\n359000000000        0.0   376.0\n109000000000000   239.0  1499.0\n126000000000000    64.0   477.0\n145000000000000    13.0   144.0\n166000000000000    11.0    61.0\n197000000000000     0.0    62.0\n242000000000000   220.0   904.0\n261000000000000     2.0   121.0\n295000000000000    88.0    71.0\n353000000000000    13.0   125.0\n395000000000000    28.0   409.0\n419000000000000     1.0    68.0\n773000000000000     6.0    87.0\n983000000000000     0.0   103.0\n1430000000000000   59.0   130.0\n1650000000000000    0.0   319.0",
      "text/html": "<div>\n<style scoped>\n    .dataframe tbody tr th:only-of-type {\n        vertical-align: middle;\n    }\n\n    .dataframe tbody tr th {\n        vertical-align: top;\n    }\n\n    .dataframe thead th {\n        text-align: right;\n    }\n</style>\n<table border=\"1\" class=\"dataframe\">\n  <thead>\n    <tr style=\"text-align: right;\">\n      <th>y</th>\n      <th>H</th>\n      <th>L</th>\n    </tr>\n    <tr>\n      <th>主页ID</th>\n      <th></th>\n      <th></th>\n    </tr>\n  </thead>\n  <tbody>\n    <tr>\n      <th>128000000000</th>\n      <td>3.0</td>\n      <td>73.0</td>\n    </tr>\n    <tr>\n      <th>188000000000</th>\n      <td>14.0</td>\n      <td>77.0</td>\n    </tr>\n    <tr>\n      <th>220000000000</th>\n      <td>16.0</td>\n      <td>37.0</td>\n    </tr>\n    <tr>\n      <th>233000000000</th>\n      <td>122.0</td>\n      <td>736.0</td>\n    </tr>\n    <tr>\n      <th>283000000000</th>\n      <td>5.0</td>\n      <td>74.0</td>\n    </tr>\n    <tr>\n      <th>359000000000</th>\n      <td>0.0</td>\n      <td>376.0</td>\n    </tr>\n    <tr>\n      <th>109000000000000</th>\n      <td>239.0</td>\n      <td>1499.0</td>\n    </tr>\n    <tr>\n      <th>126000000000000</th>\n      <td>64.0</td>\n      <td>477.0</td>\n    </tr>\n    <tr>\n      <th>145000000000000</th>\n      <td>13.0</td>\n      <td>144.0</td>\n    </tr>\n    <tr>\n      <th>166000000000000</th>\n      <td>11.0</td>\n      <td>61.0</td>\n    </tr>\n    <tr>\n      <th>197000000000000</th>\n      <td>0.0</td>\n      <td>62.0</td>\n    </tr>\n    <tr>\n      <th>242000000000000</th>\n      <td>220.0</td>\n      <td>904.0</td>\n    </tr>\n    <tr>\n      <th>261000000000000</th>\n      <td>2.0</td>\n      <td>121.0</td>\n    </tr>\n    <tr>\n      <th>295000000000000</th>\n      <td>88.0</td>\n      <td>71.0</td>\n    </tr>\n    <tr>\n      <th>353000000000000</th>\n      <td>13.0</td>\n      <td>125.0</td>\n    </tr>\n    <tr>\n      <th>395000000000000</th>\n      <td>28.0</td>\n      <td>409.0</td>\n    </tr>\n    <tr>\n      <th>419000000000000</th>\n      <td>1.0</td>\n      <td>68.0</td>\n    </tr>\n    <tr>\n      <th>773000000000000</th>\n      <td>6.0</td>\n      <td>87.0</td>\n    </tr>\n    <tr>\n      <th>983000000000000</th>\n      <td>0.0</td>\n      <td>103.0</td>\n    </tr>\n    <tr>\n      <th>1430000000000000</th>\n      <td>59.0</td>\n      <td>130.0</td>\n    </tr>\n    <tr>\n      <th>1650000000000000</th>\n      <td>0.0</td>\n      <td>319.0</td>\n    </tr>\n  </tbody>\n</table>\n</div>"
     },
     "execution_count": 48,
     "metadata": {},
     "output_type": "execute_result"
    }
   ],
   "source": [
    "counts50 = grp[(grp['H'] + grp['L'])>=50]\n",
    "counts50"
   ],
   "metadata": {
    "collapsed": false,
    "pycharm": {
     "name": "#%%\n"
    }
   }
  },
  {
   "cell_type": "code",
   "execution_count": 50,
   "outputs": [
    {
     "name": "stderr",
     "output_type": "stream",
     "text": [
      "<ipython-input-50-9de8e96f08ee>:1: SettingWithCopyWarning: \n",
      "A value is trying to be set on a copy of a slice from a DataFrame.\n",
      "Try using .loc[row_indexer,col_indexer] = value instead\n",
      "\n",
      "See the caveats in the documentation: https://pandas.pydata.org/pandas-docs/stable/user_guide/indexing.html#returning-a-view-versus-a-copy\n",
      "  counts50['hl_score'] = counts50['H'] / (counts50['H'] + counts50['L'])\n"
     ]
    },
    {
     "data": {
      "text/plain": "y                     H       L  hl_score\n主页ID                                     \n128000000000        3.0    73.0  0.039474\n188000000000       14.0    77.0  0.153846\n220000000000       16.0    37.0  0.301887\n233000000000      122.0   736.0  0.142191\n283000000000        5.0    74.0  0.063291\n359000000000        0.0   376.0  0.000000\n109000000000000   239.0  1499.0  0.137514\n126000000000000    64.0   477.0  0.118299\n145000000000000    13.0   144.0  0.082803\n166000000000000    11.0    61.0  0.152778\n197000000000000     0.0    62.0  0.000000\n242000000000000   220.0   904.0  0.195730\n261000000000000     2.0   121.0  0.016260\n295000000000000    88.0    71.0  0.553459\n353000000000000    13.0   125.0  0.094203\n395000000000000    28.0   409.0  0.064073\n419000000000000     1.0    68.0  0.014493\n773000000000000     6.0    87.0  0.064516\n983000000000000     0.0   103.0  0.000000\n1430000000000000   59.0   130.0  0.312169\n1650000000000000    0.0   319.0  0.000000",
      "text/html": "<div>\n<style scoped>\n    .dataframe tbody tr th:only-of-type {\n        vertical-align: middle;\n    }\n\n    .dataframe tbody tr th {\n        vertical-align: top;\n    }\n\n    .dataframe thead th {\n        text-align: right;\n    }\n</style>\n<table border=\"1\" class=\"dataframe\">\n  <thead>\n    <tr style=\"text-align: right;\">\n      <th>y</th>\n      <th>H</th>\n      <th>L</th>\n      <th>hl_score</th>\n    </tr>\n    <tr>\n      <th>主页ID</th>\n      <th></th>\n      <th></th>\n      <th></th>\n    </tr>\n  </thead>\n  <tbody>\n    <tr>\n      <th>128000000000</th>\n      <td>3.0</td>\n      <td>73.0</td>\n      <td>0.039474</td>\n    </tr>\n    <tr>\n      <th>188000000000</th>\n      <td>14.0</td>\n      <td>77.0</td>\n      <td>0.153846</td>\n    </tr>\n    <tr>\n      <th>220000000000</th>\n      <td>16.0</td>\n      <td>37.0</td>\n      <td>0.301887</td>\n    </tr>\n    <tr>\n      <th>233000000000</th>\n      <td>122.0</td>\n      <td>736.0</td>\n      <td>0.142191</td>\n    </tr>\n    <tr>\n      <th>283000000000</th>\n      <td>5.0</td>\n      <td>74.0</td>\n      <td>0.063291</td>\n    </tr>\n    <tr>\n      <th>359000000000</th>\n      <td>0.0</td>\n      <td>376.0</td>\n      <td>0.000000</td>\n    </tr>\n    <tr>\n      <th>109000000000000</th>\n      <td>239.0</td>\n      <td>1499.0</td>\n      <td>0.137514</td>\n    </tr>\n    <tr>\n      <th>126000000000000</th>\n      <td>64.0</td>\n      <td>477.0</td>\n      <td>0.118299</td>\n    </tr>\n    <tr>\n      <th>145000000000000</th>\n      <td>13.0</td>\n      <td>144.0</td>\n      <td>0.082803</td>\n    </tr>\n    <tr>\n      <th>166000000000000</th>\n      <td>11.0</td>\n      <td>61.0</td>\n      <td>0.152778</td>\n    </tr>\n    <tr>\n      <th>197000000000000</th>\n      <td>0.0</td>\n      <td>62.0</td>\n      <td>0.000000</td>\n    </tr>\n    <tr>\n      <th>242000000000000</th>\n      <td>220.0</td>\n      <td>904.0</td>\n      <td>0.195730</td>\n    </tr>\n    <tr>\n      <th>261000000000000</th>\n      <td>2.0</td>\n      <td>121.0</td>\n      <td>0.016260</td>\n    </tr>\n    <tr>\n      <th>295000000000000</th>\n      <td>88.0</td>\n      <td>71.0</td>\n      <td>0.553459</td>\n    </tr>\n    <tr>\n      <th>353000000000000</th>\n      <td>13.0</td>\n      <td>125.0</td>\n      <td>0.094203</td>\n    </tr>\n    <tr>\n      <th>395000000000000</th>\n      <td>28.0</td>\n      <td>409.0</td>\n      <td>0.064073</td>\n    </tr>\n    <tr>\n      <th>419000000000000</th>\n      <td>1.0</td>\n      <td>68.0</td>\n      <td>0.014493</td>\n    </tr>\n    <tr>\n      <th>773000000000000</th>\n      <td>6.0</td>\n      <td>87.0</td>\n      <td>0.064516</td>\n    </tr>\n    <tr>\n      <th>983000000000000</th>\n      <td>0.0</td>\n      <td>103.0</td>\n      <td>0.000000</td>\n    </tr>\n    <tr>\n      <th>1430000000000000</th>\n      <td>59.0</td>\n      <td>130.0</td>\n      <td>0.312169</td>\n    </tr>\n    <tr>\n      <th>1650000000000000</th>\n      <td>0.0</td>\n      <td>319.0</td>\n      <td>0.000000</td>\n    </tr>\n  </tbody>\n</table>\n</div>"
     },
     "execution_count": 50,
     "metadata": {},
     "output_type": "execute_result"
    }
   ],
   "source": [
    "counts50['hl_score'] = counts50['H'] / (counts50['H'] + counts50['L'])\n",
    "counts50"
   ],
   "metadata": {
    "collapsed": false,
    "pycharm": {
     "name": "#%%\n"
    }
   }
  },
  {
   "cell_type": "code",
   "execution_count": 51,
   "outputs": [
    {
     "data": {
      "text/plain": "      index             主页ID        主页名称    分类  \\\n0         0  155000000000000  纬来体育台官方粉丝团  电视频道   \n1         3     190000000000    Mobile01  网路社群   \n2         5  242000000000000  ETtoday新闻云    新闻   \n3         6     190000000000    Mobile01  网路社群   \n4         7  109000000000000  Yahoo!奇摩新闻    新闻   \n...     ...              ...         ...   ...   \n6483   7824     283000000000      中天快点TV  电视频道   \n6484   7825  773000000000000       料理高校生   电视剧   \n6485   7826  773000000000000       料理高校生   电视剧   \n6486   7827  242000000000000  ETtoday新闻云    新闻   \n6487   7828     128000000000        天下杂志  书籍杂志   \n\n                                                message  \\\n0                         中华队长林智胜 三分砲！！！\\n人如其名　真的「致胜」阿～   \n1                                 大师兄 一发炸裂！！帅啊啊啊啊啊啊啊！！！   \n2     爽啦～～～（ Supermm）\\n\\n#中华队 #古巴\\nhttp://www.ettoda...   \n3                     4：1，中华战胜古巴！今晚是最棒的周末夜，谢谢中华队！请继续加油！   \n4     一个字，爽！！！！\\n\\n#12强 #台古大战 #林智胜 #棒球 #三分砲 Lamigo M...   \n...                                                 ...   \n6483  被镶上绿色宝石的番薯，好美！（土星人）\\n\\n\\n---\\n●CH52中天新闻On Air！...   \n6484  【早鸟福利】\\n方老师唯美的瞬间，就这样被我们捕捉到了 :P\\n今天是11/11光棍节\\n想...   \n6485  佩颖主任啊..\\n您就别自暴自弃了~~\\n　\\n莫非是摆脱烂桃花的新招?\\n\\n每周五晚间十...   \n6486   快、合、作！（ Joe小姐）\\n\\n蔡依林 Jolin Tsai T.O.P. G-DRAGON   \n6487    【联合报】  一个班才2、3个人，大学班级变家教班？\\n\\n4系注册挂零、6校拉警报！！ ↓↓   \n\n                                                   name  \\\n0                                                   NaN   \n1                                     来自 Mobile01 贴文的相片   \n2       故意保送后林智胜怒轰3分炮　中华睽违9年击败古巴 | ET运动云 | ETtoday东森新闻云   \n3                                     来自 Mobile01 贴文的相片   \n4                                世界12强／林智胜怒轰3分砲！中华队赢古巴啦   \n...                                                 ...   \n6483                           从太空夜拍台湾美翻了！　嘉南平原就像被镶上绿宝石   \n6484                                             动态时报相片   \n6485                                             动态时报相片   \n6486  蔡依林、GD&T.O.P后台照曝光　甜呼：小爱心主人！ | 娱乐星光云 | ETtoday东...   \n6487                    注册率不到3成　大专67校系快灭顶｜教育｜联合新闻网｜天下杂志   \n\n                                            description   发文类型  y      H  \\\n0                                                   NaN  video  H    NaN   \n1                                                   NaN  photo  H    NaN   \n2     世界12强棒球赛中华队林智胜，8局下在前一棒郭严文被故意保送成一、二垒有人，轰出左外野3分全...   link  H  220.0   \n3                                                   NaN  photo  H    NaN   \n4                             今天(14日)「大师兄」林智胜单场被看扁2次...   link  H  239.0   \n...                                                 ...    ... ..    ...   \n6483  国际太空站拍下夜晚台湾，影片一上传，立刻受到热烈讨论，不少人都被台湾的美给吸引，?万家灯火构...   link  L    5.0   \n6484                                                NaN  photo  L    6.0   \n6485                                                NaN  photo  L    6.0   \n6486  「呸姊」蔡依林2日晚间出席南韩年度盛事MAMA舞台，她一开低胸紧身服装霸气登场，献唱舞曲《P...   link  L  220.0   \n6487  教育部昨公布104学年度大专校院各校系注册率，竟有高达67校系注册率不到3成，学生只有2、3...   link  L    3.0   \n\n           L  hl_score  \n0        NaN       NaN  \n1        NaN       NaN  \n2      904.0  0.195730  \n3        NaN       NaN  \n4     1499.0  0.137514  \n...      ...       ...  \n6483    74.0  0.063291  \n6484    87.0  0.064516  \n6485    87.0  0.064516  \n6486   904.0  0.195730  \n6487    73.0  0.039474  \n\n[6488 rows x 12 columns]",
      "text/html": "<div>\n<style scoped>\n    .dataframe tbody tr th:only-of-type {\n        vertical-align: middle;\n    }\n\n    .dataframe tbody tr th {\n        vertical-align: top;\n    }\n\n    .dataframe thead th {\n        text-align: right;\n    }\n</style>\n<table border=\"1\" class=\"dataframe\">\n  <thead>\n    <tr style=\"text-align: right;\">\n      <th></th>\n      <th>index</th>\n      <th>主页ID</th>\n      <th>主页名称</th>\n      <th>分类</th>\n      <th>message</th>\n      <th>name</th>\n      <th>description</th>\n      <th>发文类型</th>\n      <th>y</th>\n      <th>H</th>\n      <th>L</th>\n      <th>hl_score</th>\n    </tr>\n  </thead>\n  <tbody>\n    <tr>\n      <th>0</th>\n      <td>0</td>\n      <td>155000000000000</td>\n      <td>纬来体育台官方粉丝团</td>\n      <td>电视频道</td>\n      <td>中华队长林智胜 三分砲！！！\\n人如其名　真的「致胜」阿～</td>\n      <td>NaN</td>\n      <td>NaN</td>\n      <td>video</td>\n      <td>H</td>\n      <td>NaN</td>\n      <td>NaN</td>\n      <td>NaN</td>\n    </tr>\n    <tr>\n      <th>1</th>\n      <td>3</td>\n      <td>190000000000</td>\n      <td>Mobile01</td>\n      <td>网路社群</td>\n      <td>大师兄 一发炸裂！！帅啊啊啊啊啊啊啊！！！</td>\n      <td>来自 Mobile01 贴文的相片</td>\n      <td>NaN</td>\n      <td>photo</td>\n      <td>H</td>\n      <td>NaN</td>\n      <td>NaN</td>\n      <td>NaN</td>\n    </tr>\n    <tr>\n      <th>2</th>\n      <td>5</td>\n      <td>242000000000000</td>\n      <td>ETtoday新闻云</td>\n      <td>新闻</td>\n      <td>爽啦～～～（ Supermm）\\n\\n#中华队 #古巴\\nhttp://www.ettoda...</td>\n      <td>故意保送后林智胜怒轰3分炮　中华睽违9年击败古巴 | ET运动云 | ETtoday东森新闻云</td>\n      <td>世界12强棒球赛中华队林智胜，8局下在前一棒郭严文被故意保送成一、二垒有人，轰出左外野3分全...</td>\n      <td>link</td>\n      <td>H</td>\n      <td>220.0</td>\n      <td>904.0</td>\n      <td>0.195730</td>\n    </tr>\n    <tr>\n      <th>3</th>\n      <td>6</td>\n      <td>190000000000</td>\n      <td>Mobile01</td>\n      <td>网路社群</td>\n      <td>4：1，中华战胜古巴！今晚是最棒的周末夜，谢谢中华队！请继续加油！</td>\n      <td>来自 Mobile01 贴文的相片</td>\n      <td>NaN</td>\n      <td>photo</td>\n      <td>H</td>\n      <td>NaN</td>\n      <td>NaN</td>\n      <td>NaN</td>\n    </tr>\n    <tr>\n      <th>4</th>\n      <td>7</td>\n      <td>109000000000000</td>\n      <td>Yahoo!奇摩新闻</td>\n      <td>新闻</td>\n      <td>一个字，爽！！！！\\n\\n#12强 #台古大战 #林智胜 #棒球 #三分砲 Lamigo M...</td>\n      <td>世界12强／林智胜怒轰3分砲！中华队赢古巴啦</td>\n      <td>今天(14日)「大师兄」林智胜单场被看扁2次...</td>\n      <td>link</td>\n      <td>H</td>\n      <td>239.0</td>\n      <td>1499.0</td>\n      <td>0.137514</td>\n    </tr>\n    <tr>\n      <th>...</th>\n      <td>...</td>\n      <td>...</td>\n      <td>...</td>\n      <td>...</td>\n      <td>...</td>\n      <td>...</td>\n      <td>...</td>\n      <td>...</td>\n      <td>...</td>\n      <td>...</td>\n      <td>...</td>\n      <td>...</td>\n    </tr>\n    <tr>\n      <th>6483</th>\n      <td>7824</td>\n      <td>283000000000</td>\n      <td>中天快点TV</td>\n      <td>电视频道</td>\n      <td>被镶上绿色宝石的番薯，好美！（土星人）\\n\\n\\n---\\n●CH52中天新闻On Air！...</td>\n      <td>从太空夜拍台湾美翻了！　嘉南平原就像被镶上绿宝石</td>\n      <td>国际太空站拍下夜晚台湾，影片一上传，立刻受到热烈讨论，不少人都被台湾的美给吸引，?万家灯火构...</td>\n      <td>link</td>\n      <td>L</td>\n      <td>5.0</td>\n      <td>74.0</td>\n      <td>0.063291</td>\n    </tr>\n    <tr>\n      <th>6484</th>\n      <td>7825</td>\n      <td>773000000000000</td>\n      <td>料理高校生</td>\n      <td>电视剧</td>\n      <td>【早鸟福利】\\n方老师唯美的瞬间，就这样被我们捕捉到了 :P\\n今天是11/11光棍节\\n想...</td>\n      <td>动态时报相片</td>\n      <td>NaN</td>\n      <td>photo</td>\n      <td>L</td>\n      <td>6.0</td>\n      <td>87.0</td>\n      <td>0.064516</td>\n    </tr>\n    <tr>\n      <th>6485</th>\n      <td>7826</td>\n      <td>773000000000000</td>\n      <td>料理高校生</td>\n      <td>电视剧</td>\n      <td>佩颖主任啊..\\n您就别自暴自弃了~~\\n　\\n莫非是摆脱烂桃花的新招?\\n\\n每周五晚间十...</td>\n      <td>动态时报相片</td>\n      <td>NaN</td>\n      <td>photo</td>\n      <td>L</td>\n      <td>6.0</td>\n      <td>87.0</td>\n      <td>0.064516</td>\n    </tr>\n    <tr>\n      <th>6486</th>\n      <td>7827</td>\n      <td>242000000000000</td>\n      <td>ETtoday新闻云</td>\n      <td>新闻</td>\n      <td>快、合、作！（ Joe小姐）\\n\\n蔡依林 Jolin Tsai T.O.P. G-DRAGON</td>\n      <td>蔡依林、GD&amp;T.O.P后台照曝光　甜呼：小爱心主人！ | 娱乐星光云 | ETtoday东...</td>\n      <td>「呸姊」蔡依林2日晚间出席南韩年度盛事MAMA舞台，她一开低胸紧身服装霸气登场，献唱舞曲《P...</td>\n      <td>link</td>\n      <td>L</td>\n      <td>220.0</td>\n      <td>904.0</td>\n      <td>0.195730</td>\n    </tr>\n    <tr>\n      <th>6487</th>\n      <td>7828</td>\n      <td>128000000000</td>\n      <td>天下杂志</td>\n      <td>书籍杂志</td>\n      <td>【联合报】  一个班才2、3个人，大学班级变家教班？\\n\\n4系注册挂零、6校拉警报！！ ↓↓</td>\n      <td>注册率不到3成　大专67校系快灭顶｜教育｜联合新闻网｜天下杂志</td>\n      <td>教育部昨公布104学年度大专校院各校系注册率，竟有高达67校系注册率不到3成，学生只有2、3...</td>\n      <td>link</td>\n      <td>L</td>\n      <td>3.0</td>\n      <td>73.0</td>\n      <td>0.039474</td>\n    </tr>\n  </tbody>\n</table>\n<p>6488 rows × 12 columns</p>\n</div>"
     },
     "execution_count": 51,
     "metadata": {},
     "output_type": "execute_result"
    }
   ],
   "source": [
    "data_tmp = pd.merge(data_remove_bw, counts50, how='left', on='主页ID')\n",
    "data_hl_score = data_tmp['hl_score'].fillna(0)\n",
    "data_hl_score"
   ],
   "metadata": {
    "collapsed": false,
    "pycharm": {
     "name": "#%%\n"
    }
   }
  },
  {
   "cell_type": "code",
   "execution_count": 54,
   "outputs": [
    {
     "data": {
      "text/plain": "新闻        4701\n书籍杂志       754\n媒体其他       244\n节目         220\n网路社群       219\n电视频道       175\n电视剧        109\n电影公司        46\n电影           7\n广播           5\n电影相关活动       4\n音乐           4\nName: 分类, dtype: int64"
     },
     "execution_count": 54,
     "metadata": {},
     "output_type": "execute_result"
    }
   ],
   "source": [
    "data_remove_bw['分类'].value_counts()"
   ],
   "metadata": {
    "collapsed": false,
    "pycharm": {
     "name": "#%%\n"
    }
   }
  },
  {
   "cell_type": "code",
   "execution_count": 57,
   "outputs": [
    {
     "data": {
      "text/plain": "\"{'电视频道': 0, '网路社群': 1, '新闻': 2, '书籍杂志': 3, '电影公司': 4, '节目': 5, '媒体其他': 6, '电影': 7, '电视剧': 8, '音乐': 9, '电影相关活动': 10, '广播': 11}\""
     },
     "execution_count": 57,
     "metadata": {},
     "output_type": "execute_result"
    }
   ],
   "source": [
    "from Python.pandas.feature_selection import *\n",
    "\n",
    "column_mapping_str(data_remove_bw['分类'].unique())"
   ],
   "metadata": {
    "collapsed": false,
    "pycharm": {
     "name": "#%%\n"
    }
   }
  },
  {
   "cell_type": "code",
   "execution_count": 55,
   "outputs": [
    {
     "data": {
      "text/plain": "      分类_0  分类_1  分类_2  分类_3  分类_4  分类_5\n0      0.0   0.0   0.0   0.0   0.0   0.0\n1      1.0   0.0   0.0   0.0   0.0   0.0\n2      0.0   1.0   0.0   0.0   0.0   0.0\n3      1.0   0.0   0.0   0.0   0.0   0.0\n4      0.0   1.0   0.0   0.0   0.0   0.0\n...    ...   ...   ...   ...   ...   ...\n6483   0.0   0.0   0.0   0.0   0.0   0.0\n6484   0.0   0.0   0.0   1.0   0.0   0.0\n6485   0.0   0.0   0.0   1.0   0.0   0.0\n6486   0.0   1.0   0.0   0.0   0.0   0.0\n6487   0.0   0.0   1.0   0.0   0.0   0.0\n\n[6488 rows x 6 columns]",
      "text/html": "<div>\n<style scoped>\n    .dataframe tbody tr th:only-of-type {\n        vertical-align: middle;\n    }\n\n    .dataframe tbody tr th {\n        vertical-align: top;\n    }\n\n    .dataframe thead th {\n        text-align: right;\n    }\n</style>\n<table border=\"1\" class=\"dataframe\">\n  <thead>\n    <tr style=\"text-align: right;\">\n      <th></th>\n      <th>分类_0</th>\n      <th>分类_1</th>\n      <th>分类_2</th>\n      <th>分类_3</th>\n      <th>分类_4</th>\n      <th>分类_5</th>\n    </tr>\n  </thead>\n  <tbody>\n    <tr>\n      <th>0</th>\n      <td>0.0</td>\n      <td>0.0</td>\n      <td>0.0</td>\n      <td>0.0</td>\n      <td>0.0</td>\n      <td>0.0</td>\n    </tr>\n    <tr>\n      <th>1</th>\n      <td>1.0</td>\n      <td>0.0</td>\n      <td>0.0</td>\n      <td>0.0</td>\n      <td>0.0</td>\n      <td>0.0</td>\n    </tr>\n    <tr>\n      <th>2</th>\n      <td>0.0</td>\n      <td>1.0</td>\n      <td>0.0</td>\n      <td>0.0</td>\n      <td>0.0</td>\n      <td>0.0</td>\n    </tr>\n    <tr>\n      <th>3</th>\n      <td>1.0</td>\n      <td>0.0</td>\n      <td>0.0</td>\n      <td>0.0</td>\n      <td>0.0</td>\n      <td>0.0</td>\n    </tr>\n    <tr>\n      <th>4</th>\n      <td>0.0</td>\n      <td>1.0</td>\n      <td>0.0</td>\n      <td>0.0</td>\n      <td>0.0</td>\n      <td>0.0</td>\n    </tr>\n    <tr>\n      <th>...</th>\n      <td>...</td>\n      <td>...</td>\n      <td>...</td>\n      <td>...</td>\n      <td>...</td>\n      <td>...</td>\n    </tr>\n    <tr>\n      <th>6483</th>\n      <td>0.0</td>\n      <td>0.0</td>\n      <td>0.0</td>\n      <td>0.0</td>\n      <td>0.0</td>\n      <td>0.0</td>\n    </tr>\n    <tr>\n      <th>6484</th>\n      <td>0.0</td>\n      <td>0.0</td>\n      <td>0.0</td>\n      <td>1.0</td>\n      <td>0.0</td>\n      <td>0.0</td>\n    </tr>\n    <tr>\n      <th>6485</th>\n      <td>0.0</td>\n      <td>0.0</td>\n      <td>0.0</td>\n      <td>1.0</td>\n      <td>0.0</td>\n      <td>0.0</td>\n    </tr>\n    <tr>\n      <th>6486</th>\n      <td>0.0</td>\n      <td>1.0</td>\n      <td>0.0</td>\n      <td>0.0</td>\n      <td>0.0</td>\n      <td>0.0</td>\n    </tr>\n    <tr>\n      <th>6487</th>\n      <td>0.0</td>\n      <td>0.0</td>\n      <td>1.0</td>\n      <td>0.0</td>\n      <td>0.0</td>\n      <td>0.0</td>\n    </tr>\n  </tbody>\n</table>\n<p>6488 rows × 6 columns</p>\n</div>"
     },
     "execution_count": 55,
     "metadata": {},
     "output_type": "execute_result"
    }
   ],
   "source": [
    "fl_mapping = {'电视频道': 0, '网路社群': 1, '新闻': 2, '书籍杂志': 3, '电视剧': 4, '电影公司': 5, \" \\\n",
    "             \"'节目': 6, '媒体其他': 7, '电影': 5, '音乐': 7, '电影相关活动': 5, '广播': 7}\n",
    "data_fl, fl_ohe = one_hot_encoder_column(data_remove_bw, '分类', fl_mapping, fill_na=7)\n",
    "data_fl = pd.DataFrame(data_fl)\n",
    "data_fl\n",
    "\n"
   ],
   "metadata": {
    "collapsed": false,
    "pycharm": {
     "name": "#%%\n"
    }
   }
  },
  {
   "cell_type": "code",
   "execution_count": 6,
   "outputs": [
    {
     "data": {
      "text/plain": "      发文类型_0  发文类型_1\n0        0.0     1.0\n1        1.0     0.0\n2        0.0     0.0\n3        1.0     0.0\n4        0.0     0.0\n...      ...     ...\n6483     0.0     0.0\n6484     1.0     0.0\n6485     1.0     0.0\n6486     0.0     0.0\n6487     0.0     0.0\n\n[6488 rows x 2 columns]",
      "text/html": "<div>\n<style scoped>\n    .dataframe tbody tr th:only-of-type {\n        vertical-align: middle;\n    }\n\n    .dataframe tbody tr th {\n        vertical-align: top;\n    }\n\n    .dataframe thead th {\n        text-align: right;\n    }\n</style>\n<table border=\"1\" class=\"dataframe\">\n  <thead>\n    <tr style=\"text-align: right;\">\n      <th></th>\n      <th>发文类型_0</th>\n      <th>发文类型_1</th>\n    </tr>\n  </thead>\n  <tbody>\n    <tr>\n      <th>0</th>\n      <td>0.0</td>\n      <td>1.0</td>\n    </tr>\n    <tr>\n      <th>1</th>\n      <td>1.0</td>\n      <td>0.0</td>\n    </tr>\n    <tr>\n      <th>2</th>\n      <td>0.0</td>\n      <td>0.0</td>\n    </tr>\n    <tr>\n      <th>3</th>\n      <td>1.0</td>\n      <td>0.0</td>\n    </tr>\n    <tr>\n      <th>4</th>\n      <td>0.0</td>\n      <td>0.0</td>\n    </tr>\n    <tr>\n      <th>...</th>\n      <td>...</td>\n      <td>...</td>\n    </tr>\n    <tr>\n      <th>6483</th>\n      <td>0.0</td>\n      <td>0.0</td>\n    </tr>\n    <tr>\n      <th>6484</th>\n      <td>1.0</td>\n      <td>0.0</td>\n    </tr>\n    <tr>\n      <th>6485</th>\n      <td>1.0</td>\n      <td>0.0</td>\n    </tr>\n    <tr>\n      <th>6486</th>\n      <td>0.0</td>\n      <td>0.0</td>\n    </tr>\n    <tr>\n      <th>6487</th>\n      <td>0.0</td>\n      <td>0.0</td>\n    </tr>\n  </tbody>\n</table>\n<p>6488 rows × 2 columns</p>\n</div>"
     },
     "execution_count": 6,
     "metadata": {},
     "output_type": "execute_result"
    }
   ],
   "source": [
    "doc_type_map = {'link': 1, 'photo': 2, 'video': 3}\n",
    "data_doc_type, ohe_doc_type = one_hot_encoder_column(data_remove_bw, '发文类型', doc_type_map, fill_na=3)\n",
    "data_doc_type"
   ],
   "metadata": {
    "collapsed": false,
    "pycharm": {
     "name": "#%%\n"
    }
   }
  },
  {
   "cell_type": "code",
   "execution_count": 61,
   "outputs": [
    {
     "data": {
      "text/plain": "主页ID              0\n主页名称              0\n分类                0\nmessage          24\nname            282\ndescription    2046\n发文类型              0\ny                 0\ndtype: int64"
     },
     "execution_count": 61,
     "metadata": {},
     "output_type": "execute_result"
    }
   ],
   "source": [
    "colNullCount = data.isnull().sum(axis=0)\n",
    "colNullCount"
   ],
   "metadata": {
    "collapsed": false,
    "pycharm": {
     "name": "#%%\n"
    }
   }
  },
  {
   "cell_type": "code",
   "execution_count": null,
   "outputs": [],
   "source": [
    "colNullCount = colNullCount[colNullCount > 0]\n",
    "for col_name in colNullCount.index:\n",
    "    print(\"%s 共有 %d 个空值，占比 %.2f%%\" % (col_name, colNullCount[col_name], colNullCount[col_name]*100.0/data.shape[0]))\n",
    "    if colNullCount[col_name]*100.0/data.shape[0] < 0.01:\n",
    "        print(\"%s 缺失个数较少，建议执行如下代码直接删除该行：\" % col_name)\n",
    "# data.drop(labels = data[data[\"message\"].isnull()].index, axis=0,inplace=True)"
   ],
   "metadata": {
    "collapsed": false,
    "pycharm": {
     "name": "#%%\n"
    }
   }
  },
  {
   "cell_type": "code",
   "execution_count": 65,
   "outputs": [
    {
     "name": "stdout",
     "output_type": "stream",
     "text": [
      "total counts:  2625\n",
      "姊 蔡依林 晚间 出席 南韩 年度 盛事 舞台 一开 低胸 紧身 服装 霸气 登场 献唱 舞曲\n"
     ]
    }
   ],
   "source": [
    "from Python.nlp.nlp import *\n",
    "stop_words = get_stop_words('././data/stopwords.txt', encoding='gbk')\n",
    "\n",
    "print(split_word(\"「呸姊」蔡依林2日晚间出席南韩年度盛事MAMA舞台\",\n",
    "                 stop_words, ['蔡依林', '叶明兰','叶镇中', '宋家豪', '白先勇','林智胜']))"
   ],
   "metadata": {
    "collapsed": false,
    "pycharm": {
     "name": "#%%\n"
    }
   }
  },
  {
   "cell_type": "code",
   "execution_count": 71,
   "outputs": [
    {
     "data": {
      "text/plain": "                 主页ID        主页名称    分类  \\\n0     155000000000000  纬来体育台官方粉丝团  电视频道   \n1        359000000000       公视粉丝团  电视频道   \n2        359000000000       公视粉丝团  电视频道   \n3        190000000000    Mobile01  网路社群   \n4        359000000000       公视粉丝团  电视频道   \n...               ...         ...   ...   \n7824     283000000000      中天快点TV  电视频道   \n7825  773000000000000       料理高校生   电视剧   \n7826  773000000000000       料理高校生   电视剧   \n7827  242000000000000  ETtoday新闻云    新闻   \n7828     128000000000        天下杂志  书籍杂志   \n\n                                                message  \\\n0                         中华队长林智胜 三分砲！！！\\n人如其名　真的「致胜」阿～   \n1       您所选择的电视频道，将会决定您的未来~\\n遥控器的决定权，就在你手上！\\n\\n#看见更好的未来   \n2     好演员值得更多肯定和掌声！\\n\\n吴慷仁提到大概有六、七年资历的演员，所面临的最大困境，是赚...   \n3                                 大师兄 一发炸裂！！帅啊啊啊啊啊啊啊！！！   \n4     「再不救，就来不及了！如果没有很强力的救，再三十年，你可能找不到鹿港的味道了！」\\n\\n「两...   \n...                                                 ...   \n7824  被镶上绿色宝石的番薯，好美！（土星人）\\n\\n\\n---\\n●CH52中天新闻On Air！...   \n7825  【早鸟福利】\\n方老师唯美的瞬间，就这样被我们捕捉到了 :P\\n今天是11/11光棍节\\n想...   \n7826  佩颖主任啊..\\n您就别自暴自弃了~~\\n　\\n莫非是摆脱烂桃花的新招?\\n\\n每周五晚间十...   \n7827   快、合、作！（ Joe小姐）\\n\\n蔡依林 Jolin Tsai T.O.P. G-DRAGON   \n7828    【联合报】  一个班才2、3个人，大学班级变家教班？\\n\\n4系注册挂零、6校拉警报！！ ↓↓   \n\n                                                   name  \\\n0                                                   NaN   \n1                                2015公视电视募款 公视让你看见更好的未来   \n2                                                 公视粉丝团   \n3                                     来自 Mobile01 贴文的相片   \n4                                            【我们的岛】抢救鹿港   \n...                                                 ...   \n7824                           从太空夜拍台湾美翻了！　嘉南平原就像被镶上绿宝石   \n7825                                             动态时报相片   \n7826                                             动态时报相片   \n7827  蔡依林、GD&T.O.P后台照曝光　甜呼：小爱心主人！ | 娱乐星光云 | ETtoday东...   \n7828                    注册率不到3成　大专67校系快灭顶｜教育｜联合新闻网｜天下杂志   \n\n                                            description   发文类型  y  \n0                                                   NaN  video  H  \n1     这是一个资讯爆炸的时代，你所选择的资讯将决定你的视野；你所选择的电视频道，将会决定你的未来 ...  video  L  \n2                                                   NaN   link  L  \n3                                                   NaN  photo  H  \n4     叶明兰、叶镇中 / 采访报导 「再不救，就来不及了！如果没有很强力的救，再三十年，你可能找不...   link  L  \n...                                                 ...    ... ..  \n7824  国际太空站拍下夜晚台湾，影片一上传，立刻受到热烈讨论，不少人都被台湾的美给吸引，?万家灯火构...   link  L  \n7825                                                NaN  photo  L  \n7826                                                NaN  photo  L  \n7827  「呸姊」蔡依林2日晚间出席南韩年度盛事MAMA舞台，她一开低胸紧身服装霸气登场，献唱舞曲《P...   link  L  \n7828  教育部昨公布104学年度大专校院各校系注册率，竟有高达67校系注册率不到3成，学生只有2、3...   link  L  \n\n[7829 rows x 8 columns]",
      "text/html": "<div>\n<style scoped>\n    .dataframe tbody tr th:only-of-type {\n        vertical-align: middle;\n    }\n\n    .dataframe tbody tr th {\n        vertical-align: top;\n    }\n\n    .dataframe thead th {\n        text-align: right;\n    }\n</style>\n<table border=\"1\" class=\"dataframe\">\n  <thead>\n    <tr style=\"text-align: right;\">\n      <th></th>\n      <th>主页ID</th>\n      <th>主页名称</th>\n      <th>分类</th>\n      <th>message</th>\n      <th>name</th>\n      <th>description</th>\n      <th>发文类型</th>\n      <th>y</th>\n    </tr>\n  </thead>\n  <tbody>\n    <tr>\n      <th>0</th>\n      <td>155000000000000</td>\n      <td>纬来体育台官方粉丝团</td>\n      <td>电视频道</td>\n      <td>中华队长林智胜 三分砲！！！\\n人如其名　真的「致胜」阿～</td>\n      <td>NaN</td>\n      <td>NaN</td>\n      <td>video</td>\n      <td>H</td>\n    </tr>\n    <tr>\n      <th>1</th>\n      <td>359000000000</td>\n      <td>公视粉丝团</td>\n      <td>电视频道</td>\n      <td>您所选择的电视频道，将会决定您的未来~\\n遥控器的决定权，就在你手上！\\n\\n#看见更好的未来</td>\n      <td>2015公视电视募款 公视让你看见更好的未来</td>\n      <td>这是一个资讯爆炸的时代，你所选择的资讯将决定你的视野；你所选择的电视频道，将会决定你的未来 ...</td>\n      <td>video</td>\n      <td>L</td>\n    </tr>\n    <tr>\n      <th>2</th>\n      <td>359000000000</td>\n      <td>公视粉丝团</td>\n      <td>电视频道</td>\n      <td>好演员值得更多肯定和掌声！\\n\\n吴慷仁提到大概有六、七年资历的演员，所面临的最大困境，是赚...</td>\n      <td>公视粉丝团</td>\n      <td>NaN</td>\n      <td>link</td>\n      <td>L</td>\n    </tr>\n    <tr>\n      <th>3</th>\n      <td>190000000000</td>\n      <td>Mobile01</td>\n      <td>网路社群</td>\n      <td>大师兄 一发炸裂！！帅啊啊啊啊啊啊啊！！！</td>\n      <td>来自 Mobile01 贴文的相片</td>\n      <td>NaN</td>\n      <td>photo</td>\n      <td>H</td>\n    </tr>\n    <tr>\n      <th>4</th>\n      <td>359000000000</td>\n      <td>公视粉丝团</td>\n      <td>电视频道</td>\n      <td>「再不救，就来不及了！如果没有很强力的救，再三十年，你可能找不到鹿港的味道了！」\\n\\n「两...</td>\n      <td>【我们的岛】抢救鹿港</td>\n      <td>叶明兰、叶镇中 / 采访报导 「再不救，就来不及了！如果没有很强力的救，再三十年，你可能找不...</td>\n      <td>link</td>\n      <td>L</td>\n    </tr>\n    <tr>\n      <th>...</th>\n      <td>...</td>\n      <td>...</td>\n      <td>...</td>\n      <td>...</td>\n      <td>...</td>\n      <td>...</td>\n      <td>...</td>\n      <td>...</td>\n    </tr>\n    <tr>\n      <th>7824</th>\n      <td>283000000000</td>\n      <td>中天快点TV</td>\n      <td>电视频道</td>\n      <td>被镶上绿色宝石的番薯，好美！（土星人）\\n\\n\\n---\\n●CH52中天新闻On Air！...</td>\n      <td>从太空夜拍台湾美翻了！　嘉南平原就像被镶上绿宝石</td>\n      <td>国际太空站拍下夜晚台湾，影片一上传，立刻受到热烈讨论，不少人都被台湾的美给吸引，?万家灯火构...</td>\n      <td>link</td>\n      <td>L</td>\n    </tr>\n    <tr>\n      <th>7825</th>\n      <td>773000000000000</td>\n      <td>料理高校生</td>\n      <td>电视剧</td>\n      <td>【早鸟福利】\\n方老师唯美的瞬间，就这样被我们捕捉到了 :P\\n今天是11/11光棍节\\n想...</td>\n      <td>动态时报相片</td>\n      <td>NaN</td>\n      <td>photo</td>\n      <td>L</td>\n    </tr>\n    <tr>\n      <th>7826</th>\n      <td>773000000000000</td>\n      <td>料理高校生</td>\n      <td>电视剧</td>\n      <td>佩颖主任啊..\\n您就别自暴自弃了~~\\n　\\n莫非是摆脱烂桃花的新招?\\n\\n每周五晚间十...</td>\n      <td>动态时报相片</td>\n      <td>NaN</td>\n      <td>photo</td>\n      <td>L</td>\n    </tr>\n    <tr>\n      <th>7827</th>\n      <td>242000000000000</td>\n      <td>ETtoday新闻云</td>\n      <td>新闻</td>\n      <td>快、合、作！（ Joe小姐）\\n\\n蔡依林 Jolin Tsai T.O.P. G-DRAGON</td>\n      <td>蔡依林、GD&amp;T.O.P后台照曝光　甜呼：小爱心主人！ | 娱乐星光云 | ETtoday东...</td>\n      <td>「呸姊」蔡依林2日晚间出席南韩年度盛事MAMA舞台，她一开低胸紧身服装霸气登场，献唱舞曲《P...</td>\n      <td>link</td>\n      <td>L</td>\n    </tr>\n    <tr>\n      <th>7828</th>\n      <td>128000000000</td>\n      <td>天下杂志</td>\n      <td>书籍杂志</td>\n      <td>【联合报】  一个班才2、3个人，大学班级变家教班？\\n\\n4系注册挂零、6校拉警报！！ ↓↓</td>\n      <td>注册率不到3成　大专67校系快灭顶｜教育｜联合新闻网｜天下杂志</td>\n      <td>教育部昨公布104学年度大专校院各校系注册率，竟有高达67校系注册率不到3成，学生只有2、3...</td>\n      <td>link</td>\n      <td>L</td>\n    </tr>\n  </tbody>\n</table>\n<p>7829 rows × 8 columns</p>\n</div>"
     },
     "execution_count": 71,
     "metadata": {},
     "output_type": "execute_result"
    }
   ],
   "source": [
    "data.apply(lambda x: split_word(x), axis=1)\n",
    "# 数据集.apply(lambda 取个名字: 做的事情, axis=0:列，1行）"
   ],
   "metadata": {
    "collapsed": false,
    "pycharm": {
     "name": "#%%\n"
    }
   }
  },
  {
   "cell_type": "code",
   "execution_count": 66,
   "outputs": [
    {
     "data": {
      "text/plain": "0                                  中华 队长 林智胜 三分 砲 名 真的 致胜\n1       选择 电视频道 将会 未来 遥控器 决定权 手上 更好 未来 公视 电视 募款 公视 更好 ...\n2       演员 值得 更多 肯定 掌声 吴慷仁 提到 七年 资历 演员 面临 困境 赚 不到 钱 去年...\n3                                师兄 一发 炸裂 帅 啊啊啊 啊啊啊 贴文 相片\n4       不救 强力 救 三十年 找 不到 鹿港 味道 两百年 老房子 消失 速度 一栋 拆 一府 二...\n                              ...                        \n7824    镶上 绿色 宝石 番薯 好美 土星 中天 新闻 高画质 直播 网址 直播 时段 早上 点 凌...\n7825    早鸟 福利 老师 唯美 瞬间 捕捉到 光棍节 想 告诉 单身 朋友 孤单 注 深夜 福利 早...\n7826    佩颖 主任 自暴自弃 摆脱 烂 桃花 新招 每周五 晚间 十点 三立 台 每周六 晚间 八点...\n7827    合 作 小姐 蔡依林 蔡依林 后台 照曝光 甜呼 爱心 主人 娱乐 星光 云 东森 新闻 云...\n7828    联合报 一个班 大学 班级 变 家教 班 系 注册 挂零 校拉 警报 注册 率 不到 成 大...\nLength: 7829, dtype: object"
     },
     "execution_count": 66,
     "metadata": {},
     "output_type": "execute_result"
    }
   ],
   "source": [
    "data_all = data.apply(lambda x: split_word(\n",
    "    str(x['message']) + str(x['name']) + str(x['description']),\n",
    "    stop_words, ['蔡依林', '叶明兰','叶镇中', '宋家豪', '白先勇','林智胜']),\n",
    "                      axis=1)\n",
    "data_all"
   ],
   "metadata": {
    "collapsed": false,
    "pycharm": {
     "name": "#%%\n"
    }
   }
  },
  {
   "cell_type": "code",
   "execution_count": 73,
   "outputs": [
    {
     "name": "stderr",
     "output_type": "stream",
     "text": [
      "/opt/anaconda3/lib/python3.8/site-packages/sklearn/utils/deprecation.py:87: FutureWarning: Function get_feature_names is deprecated; get_feature_names is deprecated in 1.0 and will be removed in 1.2. Please use get_feature_names_out instead.\n",
      "  warnings.warn(msg, category=FutureWarning)\n"
     ]
    },
    {
     "data": {
      "text/plain": "            0         1         2         3         4         5         6   \\\n0    -0.038950 -0.038447  0.168384  0.062855  0.000494 -0.038593 -0.000705   \n1    -0.031852 -0.003351 -0.019525 -0.027372  0.140229 -0.005288 -0.005299   \n2    -0.036627 -0.043520 -0.029772 -0.034953  0.205090  0.000993 -0.006396   \n3     0.094343 -0.014124  0.013327  0.072998  0.014297 -0.035482  0.032664   \n4    -0.031906 -0.017556 -0.018914 -0.009098  0.010041 -0.014092  0.008835   \n...        ...       ...       ...       ...       ...       ...       ...   \n7824 -0.059926 -0.027000  0.045231 -0.013547  0.001234  0.158604  0.026926   \n7825  0.076688 -0.010345 -0.000918 -0.051661 -0.016269 -0.055466  0.148916   \n7826  0.236073  0.008666  0.031455 -0.118579  0.033032 -0.114074  0.321895   \n7827 -0.060592 -0.028486 -0.009671 -0.001450 -0.019064  0.001350 -0.025074   \n7828 -0.039534 -0.021753 -0.022484 -0.007388 -0.000121  0.000826  0.008135   \n\n            7         8         9   ...        90        91        92  \\\n0    -0.021501  0.019975 -0.003131  ... -0.007940 -0.041731  0.003723   \n1    -0.010461  0.024467 -0.007994  ...  0.038697 -0.040895  0.020951   \n2    -0.011299 -0.009732  0.029155  ... -0.020563  0.023164  0.000873   \n3    -0.001571 -0.006629  0.008443  ...  0.043872 -0.008262 -0.013562   \n4    -0.019821  0.022740 -0.032184  ... -0.006689  0.033336 -0.004653   \n...        ...       ...       ...  ...       ...       ...       ...   \n7824  0.189060 -0.046851 -0.033260  ...  0.048094  0.036872 -0.021764   \n7825 -0.015747  0.011340 -0.003506  ...  0.026919 -0.026356  0.003163   \n7826  0.006877  0.021178  0.032680  ... -0.022595  0.031426 -0.013615   \n7827  0.080000 -0.142970  0.109123  ... -0.051136  0.025352 -0.019848   \n7828 -0.035759  0.030778 -0.043928  ... -0.043096  0.033996 -0.022847   \n\n            93        94        95        96        97        98        99  \n0     0.003320 -0.003656  0.002837 -0.010187 -0.000648  0.010697  0.010321  \n1    -0.034398 -0.059872  0.029936 -0.064179 -0.006921 -0.047185 -0.024367  \n2    -0.026615  0.020735  0.010369 -0.012519 -0.014409 -0.003686  0.030491  \n3    -0.002654  0.021559 -0.004389 -0.034405 -0.006644 -0.004980 -0.003915  \n4    -0.060562  0.000271  0.001858  0.010061 -0.033613  0.019939 -0.018762  \n...        ...       ...       ...       ...       ...       ...       ...  \n7824 -0.008858 -0.013679  0.030227 -0.003879  0.036702  0.022187 -0.075086  \n7825 -0.013450  0.020604 -0.003192  0.011504 -0.027943  0.010414  0.009482  \n7826  0.037834 -0.030437 -0.013366  0.101783  0.034393 -0.035607  0.045442  \n7827  0.014141 -0.025111  0.022781 -0.004317 -0.014704 -0.043099 -0.005594  \n7828 -0.049557  0.000885  0.007977  0.040428 -0.064008 -0.023828 -0.036086  \n\n[7829 rows x 100 columns]",
      "text/html": "<div>\n<style scoped>\n    .dataframe tbody tr th:only-of-type {\n        vertical-align: middle;\n    }\n\n    .dataframe tbody tr th {\n        vertical-align: top;\n    }\n\n    .dataframe thead th {\n        text-align: right;\n    }\n</style>\n<table border=\"1\" class=\"dataframe\">\n  <thead>\n    <tr style=\"text-align: right;\">\n      <th></th>\n      <th>0</th>\n      <th>1</th>\n      <th>2</th>\n      <th>3</th>\n      <th>4</th>\n      <th>5</th>\n      <th>6</th>\n      <th>7</th>\n      <th>8</th>\n      <th>9</th>\n      <th>...</th>\n      <th>90</th>\n      <th>91</th>\n      <th>92</th>\n      <th>93</th>\n      <th>94</th>\n      <th>95</th>\n      <th>96</th>\n      <th>97</th>\n      <th>98</th>\n      <th>99</th>\n    </tr>\n  </thead>\n  <tbody>\n    <tr>\n      <th>0</th>\n      <td>-0.038950</td>\n      <td>-0.038447</td>\n      <td>0.168384</td>\n      <td>0.062855</td>\n      <td>0.000494</td>\n      <td>-0.038593</td>\n      <td>-0.000705</td>\n      <td>-0.021501</td>\n      <td>0.019975</td>\n      <td>-0.003131</td>\n      <td>...</td>\n      <td>-0.007940</td>\n      <td>-0.041731</td>\n      <td>0.003723</td>\n      <td>0.003320</td>\n      <td>-0.003656</td>\n      <td>0.002837</td>\n      <td>-0.010187</td>\n      <td>-0.000648</td>\n      <td>0.010697</td>\n      <td>0.010321</td>\n    </tr>\n    <tr>\n      <th>1</th>\n      <td>-0.031852</td>\n      <td>-0.003351</td>\n      <td>-0.019525</td>\n      <td>-0.027372</td>\n      <td>0.140229</td>\n      <td>-0.005288</td>\n      <td>-0.005299</td>\n      <td>-0.010461</td>\n      <td>0.024467</td>\n      <td>-0.007994</td>\n      <td>...</td>\n      <td>0.038697</td>\n      <td>-0.040895</td>\n      <td>0.020951</td>\n      <td>-0.034398</td>\n      <td>-0.059872</td>\n      <td>0.029936</td>\n      <td>-0.064179</td>\n      <td>-0.006921</td>\n      <td>-0.047185</td>\n      <td>-0.024367</td>\n    </tr>\n    <tr>\n      <th>2</th>\n      <td>-0.036627</td>\n      <td>-0.043520</td>\n      <td>-0.029772</td>\n      <td>-0.034953</td>\n      <td>0.205090</td>\n      <td>0.000993</td>\n      <td>-0.006396</td>\n      <td>-0.011299</td>\n      <td>-0.009732</td>\n      <td>0.029155</td>\n      <td>...</td>\n      <td>-0.020563</td>\n      <td>0.023164</td>\n      <td>0.000873</td>\n      <td>-0.026615</td>\n      <td>0.020735</td>\n      <td>0.010369</td>\n      <td>-0.012519</td>\n      <td>-0.014409</td>\n      <td>-0.003686</td>\n      <td>0.030491</td>\n    </tr>\n    <tr>\n      <th>3</th>\n      <td>0.094343</td>\n      <td>-0.014124</td>\n      <td>0.013327</td>\n      <td>0.072998</td>\n      <td>0.014297</td>\n      <td>-0.035482</td>\n      <td>0.032664</td>\n      <td>-0.001571</td>\n      <td>-0.006629</td>\n      <td>0.008443</td>\n      <td>...</td>\n      <td>0.043872</td>\n      <td>-0.008262</td>\n      <td>-0.013562</td>\n      <td>-0.002654</td>\n      <td>0.021559</td>\n      <td>-0.004389</td>\n      <td>-0.034405</td>\n      <td>-0.006644</td>\n      <td>-0.004980</td>\n      <td>-0.003915</td>\n    </tr>\n    <tr>\n      <th>4</th>\n      <td>-0.031906</td>\n      <td>-0.017556</td>\n      <td>-0.018914</td>\n      <td>-0.009098</td>\n      <td>0.010041</td>\n      <td>-0.014092</td>\n      <td>0.008835</td>\n      <td>-0.019821</td>\n      <td>0.022740</td>\n      <td>-0.032184</td>\n      <td>...</td>\n      <td>-0.006689</td>\n      <td>0.033336</td>\n      <td>-0.004653</td>\n      <td>-0.060562</td>\n      <td>0.000271</td>\n      <td>0.001858</td>\n      <td>0.010061</td>\n      <td>-0.033613</td>\n      <td>0.019939</td>\n      <td>-0.018762</td>\n    </tr>\n    <tr>\n      <th>...</th>\n      <td>...</td>\n      <td>...</td>\n      <td>...</td>\n      <td>...</td>\n      <td>...</td>\n      <td>...</td>\n      <td>...</td>\n      <td>...</td>\n      <td>...</td>\n      <td>...</td>\n      <td>...</td>\n      <td>...</td>\n      <td>...</td>\n      <td>...</td>\n      <td>...</td>\n      <td>...</td>\n      <td>...</td>\n      <td>...</td>\n      <td>...</td>\n      <td>...</td>\n      <td>...</td>\n    </tr>\n    <tr>\n      <th>7824</th>\n      <td>-0.059926</td>\n      <td>-0.027000</td>\n      <td>0.045231</td>\n      <td>-0.013547</td>\n      <td>0.001234</td>\n      <td>0.158604</td>\n      <td>0.026926</td>\n      <td>0.189060</td>\n      <td>-0.046851</td>\n      <td>-0.033260</td>\n      <td>...</td>\n      <td>0.048094</td>\n      <td>0.036872</td>\n      <td>-0.021764</td>\n      <td>-0.008858</td>\n      <td>-0.013679</td>\n      <td>0.030227</td>\n      <td>-0.003879</td>\n      <td>0.036702</td>\n      <td>0.022187</td>\n      <td>-0.075086</td>\n    </tr>\n    <tr>\n      <th>7825</th>\n      <td>0.076688</td>\n      <td>-0.010345</td>\n      <td>-0.000918</td>\n      <td>-0.051661</td>\n      <td>-0.016269</td>\n      <td>-0.055466</td>\n      <td>0.148916</td>\n      <td>-0.015747</td>\n      <td>0.011340</td>\n      <td>-0.003506</td>\n      <td>...</td>\n      <td>0.026919</td>\n      <td>-0.026356</td>\n      <td>0.003163</td>\n      <td>-0.013450</td>\n      <td>0.020604</td>\n      <td>-0.003192</td>\n      <td>0.011504</td>\n      <td>-0.027943</td>\n      <td>0.010414</td>\n      <td>0.009482</td>\n    </tr>\n    <tr>\n      <th>7826</th>\n      <td>0.236073</td>\n      <td>0.008666</td>\n      <td>0.031455</td>\n      <td>-0.118579</td>\n      <td>0.033032</td>\n      <td>-0.114074</td>\n      <td>0.321895</td>\n      <td>0.006877</td>\n      <td>0.021178</td>\n      <td>0.032680</td>\n      <td>...</td>\n      <td>-0.022595</td>\n      <td>0.031426</td>\n      <td>-0.013615</td>\n      <td>0.037834</td>\n      <td>-0.030437</td>\n      <td>-0.013366</td>\n      <td>0.101783</td>\n      <td>0.034393</td>\n      <td>-0.035607</td>\n      <td>0.045442</td>\n    </tr>\n    <tr>\n      <th>7827</th>\n      <td>-0.060592</td>\n      <td>-0.028486</td>\n      <td>-0.009671</td>\n      <td>-0.001450</td>\n      <td>-0.019064</td>\n      <td>0.001350</td>\n      <td>-0.025074</td>\n      <td>0.080000</td>\n      <td>-0.142970</td>\n      <td>0.109123</td>\n      <td>...</td>\n      <td>-0.051136</td>\n      <td>0.025352</td>\n      <td>-0.019848</td>\n      <td>0.014141</td>\n      <td>-0.025111</td>\n      <td>0.022781</td>\n      <td>-0.004317</td>\n      <td>-0.014704</td>\n      <td>-0.043099</td>\n      <td>-0.005594</td>\n    </tr>\n    <tr>\n      <th>7828</th>\n      <td>-0.039534</td>\n      <td>-0.021753</td>\n      <td>-0.022484</td>\n      <td>-0.007388</td>\n      <td>-0.000121</td>\n      <td>0.000826</td>\n      <td>0.008135</td>\n      <td>-0.035759</td>\n      <td>0.030778</td>\n      <td>-0.043928</td>\n      <td>...</td>\n      <td>-0.043096</td>\n      <td>0.033996</td>\n      <td>-0.022847</td>\n      <td>-0.049557</td>\n      <td>0.000885</td>\n      <td>0.007977</td>\n      <td>0.040428</td>\n      <td>-0.064008</td>\n      <td>-0.023828</td>\n      <td>-0.036086</td>\n    </tr>\n  </tbody>\n</table>\n<p>7829 rows × 100 columns</p>\n</div>"
     },
     "execution_count": 73,
     "metadata": {},
     "output_type": "execute_result"
    }
   ],
   "source": [
    "tfidf_doc, tfidf_vec, tfidf_pca = tfidf(data_all, min_df=10, output_dimension=100)\n",
    "tfidf_doc"
   ],
   "metadata": {
    "collapsed": false,
    "pycharm": {
     "name": "#%%\n"
    }
   }
  },
  {
   "cell_type": "code",
   "execution_count": 19,
   "outputs": [],
   "source": [
    "doc_removed = data_remove_bw.apply(lambda x: split_word(str(x['message']) + str(x['name']) + str(x['description']), stop_words, ['蔡依林', '叶明兰','叶镇中', '宋家豪', '白先勇','林智胜']), axis=1)"
   ],
   "metadata": {
    "collapsed": false,
    "pycharm": {
     "name": "#%%\n"
    }
   }
  },
  {
   "cell_type": "code",
   "execution_count": 22,
   "outputs": [
    {
     "data": {
      "text/plain": "            0         1         2         3         4         5         6   \\\n0    -0.039192 -0.038563  0.168703  0.061999  0.000633 -0.038481 -0.000654   \n1     0.094015 -0.014286  0.013737  0.072448  0.014384 -0.035738  0.033304   \n2    -0.051535 -0.066066  0.448257  0.159121  0.022046 -0.102179 -0.018500   \n3     0.107021 -0.026306  0.303329  0.161236  0.054155 -0.111780  0.020556   \n4    -0.046946 -0.062756  0.449642  0.156962  0.028894 -0.086772 -0.012549   \n...        ...       ...       ...       ...       ...       ...       ...   \n6483 -0.060202 -0.026958  0.044827 -0.013451  0.000749  0.159160  0.026806   \n6484  0.076313 -0.010486 -0.001174 -0.051529 -0.016056 -0.054954  0.149268   \n6485  0.235569  0.008297  0.031006 -0.118937  0.033486 -0.112580  0.322192   \n6486 -0.060805 -0.028398 -0.009675 -0.001242 -0.019219  0.001491 -0.025052   \n6487 -0.039725 -0.021838 -0.022518 -0.007114 -0.000133  0.000501  0.008241   \n\n            7         8         9   ...        90        91        92  \\\n0    -0.021297  0.020170 -0.003322  ...  0.028425 -0.044243 -0.024088   \n1    -0.001951 -0.006725  0.009152  ... -0.025255  0.016098 -0.018707   \n2    -0.044026  0.030841  0.025909  ... -0.043962  0.124890  0.103064   \n3     0.012609  0.027711  0.045554  ...  0.053255  0.127419  0.011037   \n4    -0.047802  0.045941  0.005807  ...  0.001261 -0.025052 -0.015742   \n...        ...       ...       ...  ...       ...       ...       ...   \n6483  0.188326 -0.050055 -0.029486  ...  0.004236  0.012359 -0.019418   \n6484 -0.015995  0.011761 -0.003628  ...  0.024944  0.007344  0.013967   \n6485  0.007380  0.023834  0.032763  ...  0.020644  0.062094  0.034240   \n6486  0.076888 -0.142737  0.111749  ... -0.033034  0.003677  0.011217   \n6487 -0.035127  0.030657 -0.044224  ...  0.031719  0.010655  0.062852   \n\n            93        94        95        96        97        98        99  \n0     0.005090  0.005807  0.002831  0.010431 -0.007305 -0.002667 -0.016974  \n1     0.045279  0.007624 -0.009374 -0.028370  0.004959  0.034070  0.016570  \n2    -0.055322  0.016862  0.005959  0.007783 -0.024258 -0.033020  0.012686  \n3    -0.061813 -0.013720  0.012250 -0.078850 -0.047656  0.047896  0.034554  \n4     0.001451 -0.000489 -0.003863 -0.005148 -0.003639 -0.023915 -0.002191  \n...        ...       ...       ...       ...       ...       ...       ...  \n6483  0.005282  0.030282 -0.030119 -0.044935 -0.009208  0.019872  0.024756  \n6484  0.022074 -0.016797 -0.001964 -0.002799 -0.007640 -0.000614 -0.019085  \n6485 -0.006946  0.069757  0.044543  0.053646 -0.032118  0.004550  0.030185  \n6486 -0.033671  0.016235  0.031695  0.006337 -0.004685  0.027682  0.009564  \n6487  0.011448  0.029184 -0.036609  0.032885 -0.024917  0.036968 -0.029370  \n\n[6488 rows x 100 columns]",
      "text/html": "<div>\n<style scoped>\n    .dataframe tbody tr th:only-of-type {\n        vertical-align: middle;\n    }\n\n    .dataframe tbody tr th {\n        vertical-align: top;\n    }\n\n    .dataframe thead th {\n        text-align: right;\n    }\n</style>\n<table border=\"1\" class=\"dataframe\">\n  <thead>\n    <tr style=\"text-align: right;\">\n      <th></th>\n      <th>0</th>\n      <th>1</th>\n      <th>2</th>\n      <th>3</th>\n      <th>4</th>\n      <th>5</th>\n      <th>6</th>\n      <th>7</th>\n      <th>8</th>\n      <th>9</th>\n      <th>...</th>\n      <th>90</th>\n      <th>91</th>\n      <th>92</th>\n      <th>93</th>\n      <th>94</th>\n      <th>95</th>\n      <th>96</th>\n      <th>97</th>\n      <th>98</th>\n      <th>99</th>\n    </tr>\n  </thead>\n  <tbody>\n    <tr>\n      <th>0</th>\n      <td>-0.039192</td>\n      <td>-0.038563</td>\n      <td>0.168703</td>\n      <td>0.061999</td>\n      <td>0.000633</td>\n      <td>-0.038481</td>\n      <td>-0.000654</td>\n      <td>-0.021297</td>\n      <td>0.020170</td>\n      <td>-0.003322</td>\n      <td>...</td>\n      <td>0.028425</td>\n      <td>-0.044243</td>\n      <td>-0.024088</td>\n      <td>0.005090</td>\n      <td>0.005807</td>\n      <td>0.002831</td>\n      <td>0.010431</td>\n      <td>-0.007305</td>\n      <td>-0.002667</td>\n      <td>-0.016974</td>\n    </tr>\n    <tr>\n      <th>1</th>\n      <td>0.094015</td>\n      <td>-0.014286</td>\n      <td>0.013737</td>\n      <td>0.072448</td>\n      <td>0.014384</td>\n      <td>-0.035738</td>\n      <td>0.033304</td>\n      <td>-0.001951</td>\n      <td>-0.006725</td>\n      <td>0.009152</td>\n      <td>...</td>\n      <td>-0.025255</td>\n      <td>0.016098</td>\n      <td>-0.018707</td>\n      <td>0.045279</td>\n      <td>0.007624</td>\n      <td>-0.009374</td>\n      <td>-0.028370</td>\n      <td>0.004959</td>\n      <td>0.034070</td>\n      <td>0.016570</td>\n    </tr>\n    <tr>\n      <th>2</th>\n      <td>-0.051535</td>\n      <td>-0.066066</td>\n      <td>0.448257</td>\n      <td>0.159121</td>\n      <td>0.022046</td>\n      <td>-0.102179</td>\n      <td>-0.018500</td>\n      <td>-0.044026</td>\n      <td>0.030841</td>\n      <td>0.025909</td>\n      <td>...</td>\n      <td>-0.043962</td>\n      <td>0.124890</td>\n      <td>0.103064</td>\n      <td>-0.055322</td>\n      <td>0.016862</td>\n      <td>0.005959</td>\n      <td>0.007783</td>\n      <td>-0.024258</td>\n      <td>-0.033020</td>\n      <td>0.012686</td>\n    </tr>\n    <tr>\n      <th>3</th>\n      <td>0.107021</td>\n      <td>-0.026306</td>\n      <td>0.303329</td>\n      <td>0.161236</td>\n      <td>0.054155</td>\n      <td>-0.111780</td>\n      <td>0.020556</td>\n      <td>0.012609</td>\n      <td>0.027711</td>\n      <td>0.045554</td>\n      <td>...</td>\n      <td>0.053255</td>\n      <td>0.127419</td>\n      <td>0.011037</td>\n      <td>-0.061813</td>\n      <td>-0.013720</td>\n      <td>0.012250</td>\n      <td>-0.078850</td>\n      <td>-0.047656</td>\n      <td>0.047896</td>\n      <td>0.034554</td>\n    </tr>\n    <tr>\n      <th>4</th>\n      <td>-0.046946</td>\n      <td>-0.062756</td>\n      <td>0.449642</td>\n      <td>0.156962</td>\n      <td>0.028894</td>\n      <td>-0.086772</td>\n      <td>-0.012549</td>\n      <td>-0.047802</td>\n      <td>0.045941</td>\n      <td>0.005807</td>\n      <td>...</td>\n      <td>0.001261</td>\n      <td>-0.025052</td>\n      <td>-0.015742</td>\n      <td>0.001451</td>\n      <td>-0.000489</td>\n      <td>-0.003863</td>\n      <td>-0.005148</td>\n      <td>-0.003639</td>\n      <td>-0.023915</td>\n      <td>-0.002191</td>\n    </tr>\n    <tr>\n      <th>...</th>\n      <td>...</td>\n      <td>...</td>\n      <td>...</td>\n      <td>...</td>\n      <td>...</td>\n      <td>...</td>\n      <td>...</td>\n      <td>...</td>\n      <td>...</td>\n      <td>...</td>\n      <td>...</td>\n      <td>...</td>\n      <td>...</td>\n      <td>...</td>\n      <td>...</td>\n      <td>...</td>\n      <td>...</td>\n      <td>...</td>\n      <td>...</td>\n      <td>...</td>\n      <td>...</td>\n    </tr>\n    <tr>\n      <th>6483</th>\n      <td>-0.060202</td>\n      <td>-0.026958</td>\n      <td>0.044827</td>\n      <td>-0.013451</td>\n      <td>0.000749</td>\n      <td>0.159160</td>\n      <td>0.026806</td>\n      <td>0.188326</td>\n      <td>-0.050055</td>\n      <td>-0.029486</td>\n      <td>...</td>\n      <td>0.004236</td>\n      <td>0.012359</td>\n      <td>-0.019418</td>\n      <td>0.005282</td>\n      <td>0.030282</td>\n      <td>-0.030119</td>\n      <td>-0.044935</td>\n      <td>-0.009208</td>\n      <td>0.019872</td>\n      <td>0.024756</td>\n    </tr>\n    <tr>\n      <th>6484</th>\n      <td>0.076313</td>\n      <td>-0.010486</td>\n      <td>-0.001174</td>\n      <td>-0.051529</td>\n      <td>-0.016056</td>\n      <td>-0.054954</td>\n      <td>0.149268</td>\n      <td>-0.015995</td>\n      <td>0.011761</td>\n      <td>-0.003628</td>\n      <td>...</td>\n      <td>0.024944</td>\n      <td>0.007344</td>\n      <td>0.013967</td>\n      <td>0.022074</td>\n      <td>-0.016797</td>\n      <td>-0.001964</td>\n      <td>-0.002799</td>\n      <td>-0.007640</td>\n      <td>-0.000614</td>\n      <td>-0.019085</td>\n    </tr>\n    <tr>\n      <th>6485</th>\n      <td>0.235569</td>\n      <td>0.008297</td>\n      <td>0.031006</td>\n      <td>-0.118937</td>\n      <td>0.033486</td>\n      <td>-0.112580</td>\n      <td>0.322192</td>\n      <td>0.007380</td>\n      <td>0.023834</td>\n      <td>0.032763</td>\n      <td>...</td>\n      <td>0.020644</td>\n      <td>0.062094</td>\n      <td>0.034240</td>\n      <td>-0.006946</td>\n      <td>0.069757</td>\n      <td>0.044543</td>\n      <td>0.053646</td>\n      <td>-0.032118</td>\n      <td>0.004550</td>\n      <td>0.030185</td>\n    </tr>\n    <tr>\n      <th>6486</th>\n      <td>-0.060805</td>\n      <td>-0.028398</td>\n      <td>-0.009675</td>\n      <td>-0.001242</td>\n      <td>-0.019219</td>\n      <td>0.001491</td>\n      <td>-0.025052</td>\n      <td>0.076888</td>\n      <td>-0.142737</td>\n      <td>0.111749</td>\n      <td>...</td>\n      <td>-0.033034</td>\n      <td>0.003677</td>\n      <td>0.011217</td>\n      <td>-0.033671</td>\n      <td>0.016235</td>\n      <td>0.031695</td>\n      <td>0.006337</td>\n      <td>-0.004685</td>\n      <td>0.027682</td>\n      <td>0.009564</td>\n    </tr>\n    <tr>\n      <th>6487</th>\n      <td>-0.039725</td>\n      <td>-0.021838</td>\n      <td>-0.022518</td>\n      <td>-0.007114</td>\n      <td>-0.000133</td>\n      <td>0.000501</td>\n      <td>0.008241</td>\n      <td>-0.035127</td>\n      <td>0.030657</td>\n      <td>-0.044224</td>\n      <td>...</td>\n      <td>0.031719</td>\n      <td>0.010655</td>\n      <td>0.062852</td>\n      <td>0.011448</td>\n      <td>0.029184</td>\n      <td>-0.036609</td>\n      <td>0.032885</td>\n      <td>-0.024917</td>\n      <td>0.036968</td>\n      <td>-0.029370</td>\n    </tr>\n  </tbody>\n</table>\n<p>6488 rows × 100 columns</p>\n</div>"
     },
     "execution_count": 22,
     "metadata": {},
     "output_type": "execute_result"
    }
   ],
   "source": [
    "doc = tfidf_vec.transform(doc_removed)\n",
    "doc_df = pd.DataFrame(doc.toarray(), columns=tfidf_vec.get_feature_names_out())\n",
    "doc = pd.DataFrame(tfidf_pca.transform(doc_df))\n",
    "doc\n"
   ],
   "metadata": {
    "collapsed": false,
    "pycharm": {
     "name": "#%%\n"
    }
   }
  },
  {
   "cell_type": "code",
   "execution_count": 76,
   "outputs": [
    {
     "name": "stderr",
     "output_type": "stream",
     "text": [
      "/opt/anaconda3/lib/python3.8/site-packages/sklearn/utils/deprecation.py:87: FutureWarning: Function get_feature_names is deprecated; get_feature_names is deprecated in 1.0 and will be removed in 1.2. Please use get_feature_names_out instead.\n",
      "  warnings.warn(msg, category=FutureWarning)\n"
     ]
    },
    {
     "ename": "TypeError",
     "evalue": "__init__() got an unexpected keyword argument 'n_component'",
     "output_type": "error",
     "traceback": [
      "\u001B[0;31m---------------------------------------------------------------------------\u001B[0m",
      "\u001B[0;31mTypeError\u001B[0m                                 Traceback (most recent call last)",
      "\u001B[0;32m<ipython-input-76-34baa696cb58>\u001B[0m in \u001B[0;36m<module>\u001B[0;34m\u001B[0m\n\u001B[1;32m      6\u001B[0m \u001B[0mx\u001B[0m \u001B[0;34m=\u001B[0m \u001B[0mtfidf\u001B[0m\u001B[0;34m.\u001B[0m\u001B[0mfit_transform\u001B[0m\u001B[0;34m(\u001B[0m\u001B[0mdata_all\u001B[0m\u001B[0;34m)\u001B[0m\u001B[0;34m\u001B[0m\u001B[0;34m\u001B[0m\u001B[0m\n\u001B[1;32m      7\u001B[0m \u001B[0mdf\u001B[0m \u001B[0;34m=\u001B[0m \u001B[0mpd\u001B[0m\u001B[0;34m.\u001B[0m\u001B[0mDataFrame\u001B[0m\u001B[0;34m(\u001B[0m\u001B[0mx\u001B[0m\u001B[0;34m.\u001B[0m\u001B[0mtoarray\u001B[0m\u001B[0;34m(\u001B[0m\u001B[0;34m)\u001B[0m\u001B[0;34m,\u001B[0m \u001B[0mcolumns\u001B[0m\u001B[0;34m=\u001B[0m\u001B[0mtfidf_vec\u001B[0m\u001B[0;34m.\u001B[0m\u001B[0mget_feature_names\u001B[0m\u001B[0;34m(\u001B[0m\u001B[0;34m)\u001B[0m\u001B[0;34m)\u001B[0m\u001B[0;34m\u001B[0m\u001B[0;34m\u001B[0m\u001B[0m\n\u001B[0;32m----> 8\u001B[0;31m \u001B[0mpca\u001B[0m \u001B[0;34m=\u001B[0m \u001B[0mPCA\u001B[0m\u001B[0;34m(\u001B[0m\u001B[0mn_component\u001B[0m\u001B[0;34m=\u001B[0m\u001B[0;36m100\u001B[0m\u001B[0;34m)\u001B[0m\u001B[0;34m\u001B[0m\u001B[0;34m\u001B[0m\u001B[0m\n\u001B[0m\u001B[1;32m      9\u001B[0m \u001B[0mx_pca\u001B[0m \u001B[0;34m=\u001B[0m \u001B[0mpca\u001B[0m\u001B[0;34m.\u001B[0m\u001B[0mfit_transform\u001B[0m\u001B[0;34m(\u001B[0m\u001B[0mdf\u001B[0m\u001B[0;34m)\u001B[0m\u001B[0;34m\u001B[0m\u001B[0;34m\u001B[0m\u001B[0m\n\u001B[1;32m     10\u001B[0m \u001B[0mx_pca\u001B[0m\u001B[0;34m\u001B[0m\u001B[0;34m\u001B[0m\u001B[0m\n",
      "\u001B[0;31mTypeError\u001B[0m: __init__() got an unexpected keyword argument 'n_component'"
     ]
    }
   ],
   "source": [
    "from sklearn.feature_extraction.text import TfidfVectorizer\n",
    "import pandas as pd\n",
    "from sklearn.decomposition import PCA\n",
    "\n",
    "tfidf = TfidfVectorizer(min_df=10)\n",
    "x = tfidf.fit_transform(data_all)\n",
    "df = pd.DataFrame(x.toarray(), columns=tfidf_vec.get_feature_names())"
   ],
   "metadata": {
    "collapsed": false,
    "pycharm": {
     "name": "#%%\n"
    }
   }
  },
  {
   "cell_type": "code",
   "execution_count": 77,
   "outputs": [
    {
     "data": {
      "text/plain": "array([[-0.03894957, -0.038447  ,  0.16838429, ...,  0.0333605 ,\n         0.00038613, -0.01677615],\n       [-0.03185222, -0.0033514 , -0.01952513, ..., -0.03946803,\n         0.02651089, -0.00828861],\n       [-0.03662652, -0.04351998, -0.02977206, ...,  0.00034359,\n         0.01676149,  0.01627793],\n       ...,\n       [ 0.23607346,  0.00866598,  0.03145461, ...,  0.02345707,\n        -0.01950819, -0.05520817],\n       [-0.06059183, -0.02848604, -0.00967146, ...,  0.02074657,\n         0.03774254, -0.02581415],\n       [-0.03953371, -0.02175265, -0.02248422, ...,  0.03280274,\n        -0.06052866, -0.02217477]])"
     },
     "execution_count": 77,
     "metadata": {},
     "output_type": "execute_result"
    }
   ],
   "source": [
    "pca = PCA(n_components=100)\n",
    "x_pca = pca.fit_transform(df)\n",
    "x_pca"
   ],
   "metadata": {
    "collapsed": false,
    "pycharm": {
     "name": "#%%\n"
    }
   }
  },
  {
   "cell_type": "code",
   "execution_count": 80,
   "outputs": [
    {
     "data": {
      "text/plain": "0       1\n1       1\n2       1\n3       1\n4       1\n       ..\n6483    0\n6484    0\n6485    0\n6486    0\n6487    0\nName: y, Length: 6488, dtype: int64"
     },
     "execution_count": 80,
     "metadata": {},
     "output_type": "execute_result"
    }
   ],
   "source": [
    "y_mapping = {'L': 0, 'H': 1}\n",
    "data_y = data_remove_bw['y'].map(y_mapping)\n",
    "data_y"
   ],
   "metadata": {
    "collapsed": false,
    "pycharm": {
     "name": "#%%\n"
    }
   }
  },
  {
   "cell_type": "code",
   "execution_count": 23,
   "outputs": [],
   "source": [
    "train_set1 = pd.concat([data_hl_score, data_fl, data_doc_type, doc, data_y], axis=1)\n",
    "train_set1.to_csv(\"./data/1_train1.csv\")"
   ],
   "metadata": {
    "collapsed": false,
    "pycharm": {
     "name": "#%%\n"
    }
   }
  },
  {
   "cell_type": "code",
   "execution_count": 32,
   "outputs": [],
   "source": [
    "test = pd.read_excel(\"././data/1_test.xlsx\")\n",
    "test_tmp = pd.merge(test, counts50, how='left', on='主页ID')\n",
    "test_hl_score = test_tmp['hl_score'].fillna(0)\n",
    "test_fl, fl_ohe = one_hot_encoder_column(test, '分类', fl_mapping, fill_na=7)\n",
    "test_fl = pd.DataFrame(data_fl)\n",
    "test_doc_type, ohe_doc_type = one_hot_encoder_column(test, '发文类型', doc_type_map, fill_na=3)\n",
    "test_all = test.apply(lambda x: split_word(str(x['message']) + str(x['name']) + str(x['description']), stop_words, ['蔡依林', '叶明兰','叶镇中', '宋家豪', '白先勇','林智胜']), axis=1)\n",
    "test_doc = tfidf_vec.transform(test_all)\n",
    "test_doc_df = pd.DataFrame(test_doc.toarray(), columns=tfidf_vec.get_feature_names_out())\n",
    "\n",
    "test_set = pd.concat([data_hl_score, data_fl, data_doc_type, test_doc_df], axis=1)\n",
    "test_set.to_csv(\"./data/1_test1.csv\")"
   ],
   "metadata": {
    "collapsed": false,
    "pycharm": {
     "name": "#%%\n"
    }
   }
  },
  {
   "cell_type": "code",
   "execution_count": 82,
   "outputs": [
    {
     "ename": "KeyError",
     "evalue": "'主页ID'",
     "output_type": "error",
     "traceback": [
      "\u001B[0;31m---------------------------------------------------------------------------\u001B[0m",
      "\u001B[0;31mKeyError\u001B[0m                                  Traceback (most recent call last)",
      "\u001B[0;32m/opt/anaconda3/lib/python3.8/site-packages/pandas/core/indexes/base.py\u001B[0m in \u001B[0;36mget_loc\u001B[0;34m(self, key, method, tolerance)\u001B[0m\n\u001B[1;32m   3079\u001B[0m             \u001B[0;32mtry\u001B[0m\u001B[0;34m:\u001B[0m\u001B[0;34m\u001B[0m\u001B[0;34m\u001B[0m\u001B[0m\n\u001B[0;32m-> 3080\u001B[0;31m                 \u001B[0;32mreturn\u001B[0m \u001B[0mself\u001B[0m\u001B[0;34m.\u001B[0m\u001B[0m_engine\u001B[0m\u001B[0;34m.\u001B[0m\u001B[0mget_loc\u001B[0m\u001B[0;34m(\u001B[0m\u001B[0mcasted_key\u001B[0m\u001B[0;34m)\u001B[0m\u001B[0;34m\u001B[0m\u001B[0;34m\u001B[0m\u001B[0m\n\u001B[0m\u001B[1;32m   3081\u001B[0m             \u001B[0;32mexcept\u001B[0m \u001B[0mKeyError\u001B[0m \u001B[0;32mas\u001B[0m \u001B[0merr\u001B[0m\u001B[0;34m:\u001B[0m\u001B[0;34m\u001B[0m\u001B[0;34m\u001B[0m\u001B[0m\n",
      "\u001B[0;32mpandas/_libs/index.pyx\u001B[0m in \u001B[0;36mpandas._libs.index.IndexEngine.get_loc\u001B[0;34m()\u001B[0m\n",
      "\u001B[0;32mpandas/_libs/index.pyx\u001B[0m in \u001B[0;36mpandas._libs.index.IndexEngine.get_loc\u001B[0;34m()\u001B[0m\n",
      "\u001B[0;32mpandas/_libs/hashtable_class_helper.pxi\u001B[0m in \u001B[0;36mpandas._libs.hashtable.PyObjectHashTable.get_item\u001B[0;34m()\u001B[0m\n",
      "\u001B[0;32mpandas/_libs/hashtable_class_helper.pxi\u001B[0m in \u001B[0;36mpandas._libs.hashtable.PyObjectHashTable.get_item\u001B[0;34m()\u001B[0m\n",
      "\u001B[0;31mKeyError\u001B[0m: '主页ID'",
      "\nThe above exception was the direct cause of the following exception:\n",
      "\u001B[0;31mKeyError\u001B[0m                                  Traceback (most recent call last)",
      "\u001B[0;32m<ipython-input-82-4f00e0bb6b68>\u001B[0m in \u001B[0;36m<module>\u001B[0;34m\u001B[0m\n\u001B[0;32m----> 1\u001B[0;31m \u001B[0mblacklist\u001B[0m\u001B[0;34m[\u001B[0m\u001B[0;34m'主页ID'\u001B[0m\u001B[0;34m]\u001B[0m\u001B[0;34m.\u001B[0m\u001B[0mto_csv\u001B[0m\u001B[0;34m(\u001B[0m\u001B[0;34m\"./data/blacklist.csv\"\u001B[0m\u001B[0;34m)\u001B[0m\u001B[0;34m\u001B[0m\u001B[0;34m\u001B[0m\u001B[0m\n\u001B[0m\u001B[1;32m      2\u001B[0m \u001B[0;34m\u001B[0m\u001B[0m\n",
      "\u001B[0;32m/opt/anaconda3/lib/python3.8/site-packages/pandas/core/frame.py\u001B[0m in \u001B[0;36m__getitem__\u001B[0;34m(self, key)\u001B[0m\n\u001B[1;32m   3022\u001B[0m             \u001B[0;32mif\u001B[0m \u001B[0mself\u001B[0m\u001B[0;34m.\u001B[0m\u001B[0mcolumns\u001B[0m\u001B[0;34m.\u001B[0m\u001B[0mnlevels\u001B[0m \u001B[0;34m>\u001B[0m \u001B[0;36m1\u001B[0m\u001B[0;34m:\u001B[0m\u001B[0;34m\u001B[0m\u001B[0;34m\u001B[0m\u001B[0m\n\u001B[1;32m   3023\u001B[0m                 \u001B[0;32mreturn\u001B[0m \u001B[0mself\u001B[0m\u001B[0;34m.\u001B[0m\u001B[0m_getitem_multilevel\u001B[0m\u001B[0;34m(\u001B[0m\u001B[0mkey\u001B[0m\u001B[0;34m)\u001B[0m\u001B[0;34m\u001B[0m\u001B[0;34m\u001B[0m\u001B[0m\n\u001B[0;32m-> 3024\u001B[0;31m             \u001B[0mindexer\u001B[0m \u001B[0;34m=\u001B[0m \u001B[0mself\u001B[0m\u001B[0;34m.\u001B[0m\u001B[0mcolumns\u001B[0m\u001B[0;34m.\u001B[0m\u001B[0mget_loc\u001B[0m\u001B[0;34m(\u001B[0m\u001B[0mkey\u001B[0m\u001B[0;34m)\u001B[0m\u001B[0;34m\u001B[0m\u001B[0;34m\u001B[0m\u001B[0m\n\u001B[0m\u001B[1;32m   3025\u001B[0m             \u001B[0;32mif\u001B[0m \u001B[0mis_integer\u001B[0m\u001B[0;34m(\u001B[0m\u001B[0mindexer\u001B[0m\u001B[0;34m)\u001B[0m\u001B[0;34m:\u001B[0m\u001B[0;34m\u001B[0m\u001B[0;34m\u001B[0m\u001B[0m\n\u001B[1;32m   3026\u001B[0m                 \u001B[0mindexer\u001B[0m \u001B[0;34m=\u001B[0m \u001B[0;34m[\u001B[0m\u001B[0mindexer\u001B[0m\u001B[0;34m]\u001B[0m\u001B[0;34m\u001B[0m\u001B[0;34m\u001B[0m\u001B[0m\n",
      "\u001B[0;32m/opt/anaconda3/lib/python3.8/site-packages/pandas/core/indexes/base.py\u001B[0m in \u001B[0;36mget_loc\u001B[0;34m(self, key, method, tolerance)\u001B[0m\n\u001B[1;32m   3080\u001B[0m                 \u001B[0;32mreturn\u001B[0m \u001B[0mself\u001B[0m\u001B[0;34m.\u001B[0m\u001B[0m_engine\u001B[0m\u001B[0;34m.\u001B[0m\u001B[0mget_loc\u001B[0m\u001B[0;34m(\u001B[0m\u001B[0mcasted_key\u001B[0m\u001B[0;34m)\u001B[0m\u001B[0;34m\u001B[0m\u001B[0;34m\u001B[0m\u001B[0m\n\u001B[1;32m   3081\u001B[0m             \u001B[0;32mexcept\u001B[0m \u001B[0mKeyError\u001B[0m \u001B[0;32mas\u001B[0m \u001B[0merr\u001B[0m\u001B[0;34m:\u001B[0m\u001B[0;34m\u001B[0m\u001B[0;34m\u001B[0m\u001B[0m\n\u001B[0;32m-> 3082\u001B[0;31m                 \u001B[0;32mraise\u001B[0m \u001B[0mKeyError\u001B[0m\u001B[0;34m(\u001B[0m\u001B[0mkey\u001B[0m\u001B[0;34m)\u001B[0m \u001B[0;32mfrom\u001B[0m \u001B[0merr\u001B[0m\u001B[0;34m\u001B[0m\u001B[0;34m\u001B[0m\u001B[0m\n\u001B[0m\u001B[1;32m   3083\u001B[0m \u001B[0;34m\u001B[0m\u001B[0m\n\u001B[1;32m   3084\u001B[0m         \u001B[0;32mif\u001B[0m \u001B[0mtolerance\u001B[0m \u001B[0;32mis\u001B[0m \u001B[0;32mnot\u001B[0m \u001B[0;32mNone\u001B[0m\u001B[0;34m:\u001B[0m\u001B[0;34m\u001B[0m\u001B[0;34m\u001B[0m\u001B[0m\n",
      "\u001B[0;31mKeyError\u001B[0m: '主页ID'"
     ]
    }
   ],
   "source": [
    "blacklist['主页ID'].to_csv(\"./data/blacklist.csv\")\n"
   ],
   "metadata": {
    "collapsed": false,
    "pycharm": {
     "name": "#%%\n"
    }
   }
  }
 ],
 "metadata": {
  "kernelspec": {
   "display_name": "Python 3",
   "language": "python",
   "name": "python3"
  },
  "language_info": {
   "codemirror_mode": {
    "name": "ipython",
    "version": 2
   },
   "file_extension": ".py",
   "mimetype": "text/x-python",
   "name": "python",
   "nbconvert_exporter": "python",
   "pygments_lexer": "ipython2",
   "version": "2.7.6"
  }
 },
 "nbformat": 4,
 "nbformat_minor": 0
}
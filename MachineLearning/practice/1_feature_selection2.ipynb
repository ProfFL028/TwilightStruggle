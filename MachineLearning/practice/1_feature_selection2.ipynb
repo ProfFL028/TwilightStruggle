{
 "cells": [
  {
   "cell_type": "code",
   "execution_count": 1,
   "metadata": {
    "collapsed": true,
    "pycharm": {
     "name": "#%%\n"
    }
   },
   "outputs": [
    {
     "data": {
      "text/plain": "              主页ID        主页名称    分类  \\\n0  155000000000000  纬来体育台官方粉丝团  电视频道   \n1     359000000000       公视粉丝团  电视频道   \n2     359000000000       公视粉丝团  电视频道   \n3     190000000000    Mobile01  网路社群   \n4     359000000000       公视粉丝团  电视频道   \n\n                                             message                    name  \\\n0                      中华队长林智胜 三分砲！！！\\n人如其名　真的「致胜」阿～                     NaN   \n1    您所选择的电视频道，将会决定您的未来~\\n遥控器的决定权，就在你手上！\\n\\n#看见更好的未来  2015公视电视募款 公视让你看见更好的未来   \n2  好演员值得更多肯定和掌声！\\n\\n吴慷仁提到大概有六、七年资历的演员，所面临的最大困境，是赚...                   公视粉丝团   \n3                              大师兄 一发炸裂！！帅啊啊啊啊啊啊啊！！！       来自 Mobile01 贴文的相片   \n4  「再不救，就来不及了！如果没有很强力的救，再三十年，你可能找不到鹿港的味道了！」\\n\\n「两...              【我们的岛】抢救鹿港   \n\n                                         description   发文类型  y  \n0                                                NaN  video  H  \n1  这是一个资讯爆炸的时代，你所选择的资讯将决定你的视野；你所选择的电视频道，将会决定你的未来 ...  video  L  \n2                                                NaN   link  L  \n3                                                NaN  photo  H  \n4  叶明兰、叶镇中 / 采访报导 「再不救，就来不及了！如果没有很强力的救，再三十年，你可能找不...   link  L  ",
      "text/html": "<div>\n<style scoped>\n    .dataframe tbody tr th:only-of-type {\n        vertical-align: middle;\n    }\n\n    .dataframe tbody tr th {\n        vertical-align: top;\n    }\n\n    .dataframe thead th {\n        text-align: right;\n    }\n</style>\n<table border=\"1\" class=\"dataframe\">\n  <thead>\n    <tr style=\"text-align: right;\">\n      <th></th>\n      <th>主页ID</th>\n      <th>主页名称</th>\n      <th>分类</th>\n      <th>message</th>\n      <th>name</th>\n      <th>description</th>\n      <th>发文类型</th>\n      <th>y</th>\n    </tr>\n  </thead>\n  <tbody>\n    <tr>\n      <th>0</th>\n      <td>155000000000000</td>\n      <td>纬来体育台官方粉丝团</td>\n      <td>电视频道</td>\n      <td>中华队长林智胜 三分砲！！！\\n人如其名　真的「致胜」阿～</td>\n      <td>NaN</td>\n      <td>NaN</td>\n      <td>video</td>\n      <td>H</td>\n    </tr>\n    <tr>\n      <th>1</th>\n      <td>359000000000</td>\n      <td>公视粉丝团</td>\n      <td>电视频道</td>\n      <td>您所选择的电视频道，将会决定您的未来~\\n遥控器的决定权，就在你手上！\\n\\n#看见更好的未来</td>\n      <td>2015公视电视募款 公视让你看见更好的未来</td>\n      <td>这是一个资讯爆炸的时代，你所选择的资讯将决定你的视野；你所选择的电视频道，将会决定你的未来 ...</td>\n      <td>video</td>\n      <td>L</td>\n    </tr>\n    <tr>\n      <th>2</th>\n      <td>359000000000</td>\n      <td>公视粉丝团</td>\n      <td>电视频道</td>\n      <td>好演员值得更多肯定和掌声！\\n\\n吴慷仁提到大概有六、七年资历的演员，所面临的最大困境，是赚...</td>\n      <td>公视粉丝团</td>\n      <td>NaN</td>\n      <td>link</td>\n      <td>L</td>\n    </tr>\n    <tr>\n      <th>3</th>\n      <td>190000000000</td>\n      <td>Mobile01</td>\n      <td>网路社群</td>\n      <td>大师兄 一发炸裂！！帅啊啊啊啊啊啊啊！！！</td>\n      <td>来自 Mobile01 贴文的相片</td>\n      <td>NaN</td>\n      <td>photo</td>\n      <td>H</td>\n    </tr>\n    <tr>\n      <th>4</th>\n      <td>359000000000</td>\n      <td>公视粉丝团</td>\n      <td>电视频道</td>\n      <td>「再不救，就来不及了！如果没有很强力的救，再三十年，你可能找不到鹿港的味道了！」\\n\\n「两...</td>\n      <td>【我们的岛】抢救鹿港</td>\n      <td>叶明兰、叶镇中 / 采访报导 「再不救，就来不及了！如果没有很强力的救，再三十年，你可能找不...</td>\n      <td>link</td>\n      <td>L</td>\n    </tr>\n  </tbody>\n</table>\n</div>"
     },
     "execution_count": 1,
     "metadata": {},
     "output_type": "execute_result"
    }
   ],
   "source": [
    "import numpy as np\n",
    "import pandas as pd\n",
    "\n",
    "data = pd.read_excel(\"./data/1_train.xlsx\")\n",
    "data.head(5)"
   ]
  },
  {
   "cell_type": "code",
   "execution_count": 2,
   "outputs": [],
   "source": [
    "grp = data.pivot_table(index='主页ID', columns='y', values=['分类'], aggfunc='count').droplevel(0, axis=1)\n",
    "grp = grp.fillna(0)\n",
    "blacklist = grp[((grp['H'] <= 1) & (grp['L'] > 5))]\n",
    "whitelist = grp[(grp['L'] == 0) & (grp['H'] > 1)]"
   ],
   "metadata": {
    "collapsed": false,
    "pycharm": {
     "name": "#%%\n"
    }
   }
  },
  {
   "cell_type": "code",
   "execution_count": 3,
   "outputs": [
    {
     "data": {
      "text/plain": "      index             主页ID        主页名称    分类  \\\n0         0  155000000000000  纬来体育台官方粉丝团  电视频道   \n1         3     190000000000    Mobile01  网路社群   \n2         5  242000000000000  ETtoday新闻云    新闻   \n3         6     190000000000    Mobile01  网路社群   \n4         7  109000000000000  Yahoo!奇摩新闻    新闻   \n...     ...              ...         ...   ...   \n6483   7824     283000000000      中天快点TV  电视频道   \n6484   7825  773000000000000       料理高校生   电视剧   \n6485   7826  773000000000000       料理高校生   电视剧   \n6486   7827  242000000000000  ETtoday新闻云    新闻   \n6487   7828     128000000000        天下杂志  书籍杂志   \n\n                                                message  \\\n0                         中华队长林智胜 三分砲！！！\\n人如其名　真的「致胜」阿～   \n1                                 大师兄 一发炸裂！！帅啊啊啊啊啊啊啊！！！   \n2     爽啦～～～（ Supermm）\\n\\n#中华队 #古巴\\nhttp://www.ettoda...   \n3                     4：1，中华战胜古巴！今晚是最棒的周末夜，谢谢中华队！请继续加油！   \n4     一个字，爽！！！！\\n\\n#12强 #台古大战 #林智胜 #棒球 #三分砲 Lamigo M...   \n...                                                 ...   \n6483  被镶上绿色宝石的番薯，好美！（土星人）\\n\\n\\n---\\n●CH52中天新闻On Air！...   \n6484  【早鸟福利】\\n方老师唯美的瞬间，就这样被我们捕捉到了 :P\\n今天是11/11光棍节\\n想...   \n6485  佩颖主任啊..\\n您就别自暴自弃了~~\\n　\\n莫非是摆脱烂桃花的新招?\\n\\n每周五晚间十...   \n6486   快、合、作！（ Joe小姐）\\n\\n蔡依林 Jolin Tsai T.O.P. G-DRAGON   \n6487    【联合报】  一个班才2、3个人，大学班级变家教班？\\n\\n4系注册挂零、6校拉警报！！ ↓↓   \n\n                                                   name  \\\n0                                                   NaN   \n1                                     来自 Mobile01 贴文的相片   \n2       故意保送后林智胜怒轰3分炮　中华睽违9年击败古巴 | ET运动云 | ETtoday东森新闻云   \n3                                     来自 Mobile01 贴文的相片   \n4                                世界12强／林智胜怒轰3分砲！中华队赢古巴啦   \n...                                                 ...   \n6483                           从太空夜拍台湾美翻了！　嘉南平原就像被镶上绿宝石   \n6484                                             动态时报相片   \n6485                                             动态时报相片   \n6486  蔡依林、GD&T.O.P后台照曝光　甜呼：小爱心主人！ | 娱乐星光云 | ETtoday东...   \n6487                    注册率不到3成　大专67校系快灭顶｜教育｜联合新闻网｜天下杂志   \n\n                                            description   发文类型  y  \n0                                                   NaN  video  H  \n1                                                   NaN  photo  H  \n2     世界12强棒球赛中华队林智胜，8局下在前一棒郭严文被故意保送成一、二垒有人，轰出左外野3分全...   link  H  \n3                                                   NaN  photo  H  \n4                             今天(14日)「大师兄」林智胜单场被看扁2次...   link  H  \n...                                                 ...    ... ..  \n6483  国际太空站拍下夜晚台湾，影片一上传，立刻受到热烈讨论，不少人都被台湾的美给吸引，?万家灯火构...   link  L  \n6484                                                NaN  photo  L  \n6485                                                NaN  photo  L  \n6486  「呸姊」蔡依林2日晚间出席南韩年度盛事MAMA舞台，她一开低胸紧身服装霸气登场，献唱舞曲《P...   link  L  \n6487  教育部昨公布104学年度大专校院各校系注册率，竟有高达67校系注册率不到3成，学生只有2、3...   link  L  \n\n[6488 rows x 9 columns]",
      "text/html": "<div>\n<style scoped>\n    .dataframe tbody tr th:only-of-type {\n        vertical-align: middle;\n    }\n\n    .dataframe tbody tr th {\n        vertical-align: top;\n    }\n\n    .dataframe thead th {\n        text-align: right;\n    }\n</style>\n<table border=\"1\" class=\"dataframe\">\n  <thead>\n    <tr style=\"text-align: right;\">\n      <th></th>\n      <th>index</th>\n      <th>主页ID</th>\n      <th>主页名称</th>\n      <th>分类</th>\n      <th>message</th>\n      <th>name</th>\n      <th>description</th>\n      <th>发文类型</th>\n      <th>y</th>\n    </tr>\n  </thead>\n  <tbody>\n    <tr>\n      <th>0</th>\n      <td>0</td>\n      <td>155000000000000</td>\n      <td>纬来体育台官方粉丝团</td>\n      <td>电视频道</td>\n      <td>中华队长林智胜 三分砲！！！\\n人如其名　真的「致胜」阿～</td>\n      <td>NaN</td>\n      <td>NaN</td>\n      <td>video</td>\n      <td>H</td>\n    </tr>\n    <tr>\n      <th>1</th>\n      <td>3</td>\n      <td>190000000000</td>\n      <td>Mobile01</td>\n      <td>网路社群</td>\n      <td>大师兄 一发炸裂！！帅啊啊啊啊啊啊啊！！！</td>\n      <td>来自 Mobile01 贴文的相片</td>\n      <td>NaN</td>\n      <td>photo</td>\n      <td>H</td>\n    </tr>\n    <tr>\n      <th>2</th>\n      <td>5</td>\n      <td>242000000000000</td>\n      <td>ETtoday新闻云</td>\n      <td>新闻</td>\n      <td>爽啦～～～（ Supermm）\\n\\n#中华队 #古巴\\nhttp://www.ettoda...</td>\n      <td>故意保送后林智胜怒轰3分炮　中华睽违9年击败古巴 | ET运动云 | ETtoday东森新闻云</td>\n      <td>世界12强棒球赛中华队林智胜，8局下在前一棒郭严文被故意保送成一、二垒有人，轰出左外野3分全...</td>\n      <td>link</td>\n      <td>H</td>\n    </tr>\n    <tr>\n      <th>3</th>\n      <td>6</td>\n      <td>190000000000</td>\n      <td>Mobile01</td>\n      <td>网路社群</td>\n      <td>4：1，中华战胜古巴！今晚是最棒的周末夜，谢谢中华队！请继续加油！</td>\n      <td>来自 Mobile01 贴文的相片</td>\n      <td>NaN</td>\n      <td>photo</td>\n      <td>H</td>\n    </tr>\n    <tr>\n      <th>4</th>\n      <td>7</td>\n      <td>109000000000000</td>\n      <td>Yahoo!奇摩新闻</td>\n      <td>新闻</td>\n      <td>一个字，爽！！！！\\n\\n#12强 #台古大战 #林智胜 #棒球 #三分砲 Lamigo M...</td>\n      <td>世界12强／林智胜怒轰3分砲！中华队赢古巴啦</td>\n      <td>今天(14日)「大师兄」林智胜单场被看扁2次...</td>\n      <td>link</td>\n      <td>H</td>\n    </tr>\n    <tr>\n      <th>...</th>\n      <td>...</td>\n      <td>...</td>\n      <td>...</td>\n      <td>...</td>\n      <td>...</td>\n      <td>...</td>\n      <td>...</td>\n      <td>...</td>\n      <td>...</td>\n    </tr>\n    <tr>\n      <th>6483</th>\n      <td>7824</td>\n      <td>283000000000</td>\n      <td>中天快点TV</td>\n      <td>电视频道</td>\n      <td>被镶上绿色宝石的番薯，好美！（土星人）\\n\\n\\n---\\n●CH52中天新闻On Air！...</td>\n      <td>从太空夜拍台湾美翻了！　嘉南平原就像被镶上绿宝石</td>\n      <td>国际太空站拍下夜晚台湾，影片一上传，立刻受到热烈讨论，不少人都被台湾的美给吸引，?万家灯火构...</td>\n      <td>link</td>\n      <td>L</td>\n    </tr>\n    <tr>\n      <th>6484</th>\n      <td>7825</td>\n      <td>773000000000000</td>\n      <td>料理高校生</td>\n      <td>电视剧</td>\n      <td>【早鸟福利】\\n方老师唯美的瞬间，就这样被我们捕捉到了 :P\\n今天是11/11光棍节\\n想...</td>\n      <td>动态时报相片</td>\n      <td>NaN</td>\n      <td>photo</td>\n      <td>L</td>\n    </tr>\n    <tr>\n      <th>6485</th>\n      <td>7826</td>\n      <td>773000000000000</td>\n      <td>料理高校生</td>\n      <td>电视剧</td>\n      <td>佩颖主任啊..\\n您就别自暴自弃了~~\\n　\\n莫非是摆脱烂桃花的新招?\\n\\n每周五晚间十...</td>\n      <td>动态时报相片</td>\n      <td>NaN</td>\n      <td>photo</td>\n      <td>L</td>\n    </tr>\n    <tr>\n      <th>6486</th>\n      <td>7827</td>\n      <td>242000000000000</td>\n      <td>ETtoday新闻云</td>\n      <td>新闻</td>\n      <td>快、合、作！（ Joe小姐）\\n\\n蔡依林 Jolin Tsai T.O.P. G-DRAGON</td>\n      <td>蔡依林、GD&amp;T.O.P后台照曝光　甜呼：小爱心主人！ | 娱乐星光云 | ETtoday东...</td>\n      <td>「呸姊」蔡依林2日晚间出席南韩年度盛事MAMA舞台，她一开低胸紧身服装霸气登场，献唱舞曲《P...</td>\n      <td>link</td>\n      <td>L</td>\n    </tr>\n    <tr>\n      <th>6487</th>\n      <td>7828</td>\n      <td>128000000000</td>\n      <td>天下杂志</td>\n      <td>书籍杂志</td>\n      <td>【联合报】  一个班才2、3个人，大学班级变家教班？\\n\\n4系注册挂零、6校拉警报！！ ↓↓</td>\n      <td>注册率不到3成　大专67校系快灭顶｜教育｜联合新闻网｜天下杂志</td>\n      <td>教育部昨公布104学年度大专校院各校系注册率，竟有高达67校系注册率不到3成，学生只有2、3...</td>\n      <td>link</td>\n      <td>L</td>\n    </tr>\n  </tbody>\n</table>\n<p>6488 rows × 9 columns</p>\n</div>"
     },
     "execution_count": 3,
     "metadata": {},
     "output_type": "execute_result"
    }
   ],
   "source": [
    "data_remove_bw = data[(~data['主页ID'].isin(blacklist.index.values)) & (~data['主页ID'].isin(whitelist.index.values))]\n",
    "data_remove_bw = data_remove_bw.reset_index()\n",
    "data_remove_bw\n"
   ],
   "metadata": {
    "collapsed": false,
    "pycharm": {
     "name": "#%%\n"
    }
   }
  },
  {
   "cell_type": "code",
   "execution_count": 4,
   "outputs": [
    {
     "name": "stderr",
     "output_type": "stream",
     "text": [
      "<ipython-input-4-98680c47fbca>:2: SettingWithCopyWarning: \n",
      "A value is trying to be set on a copy of a slice from a DataFrame.\n",
      "Try using .loc[row_indexer,col_indexer] = value instead\n",
      "\n",
      "See the caveats in the documentation: https://pandas.pydata.org/pandas-docs/stable/user_guide/indexing.html#returning-a-view-versus-a-copy\n",
      "  counts50['hl_score'] = counts50['H'] / (counts50['H'] + counts50['L'])\n"
     ]
    },
    {
     "data": {
      "text/plain": "0       0.000000\n1       0.000000\n2       0.195730\n3       0.000000\n4       0.137514\n          ...   \n6483    0.063291\n6484    0.064516\n6485    0.064516\n6486    0.195730\n6487    0.039474\nName: hl_score, Length: 6488, dtype: float64"
     },
     "execution_count": 4,
     "metadata": {},
     "output_type": "execute_result"
    }
   ],
   "source": [
    "counts50 = grp[(grp['H'] + grp['L'])>=50]\n",
    "counts50['hl_score'] = counts50['H'] / (counts50['H'] + counts50['L'])\n",
    "data_tmp = pd.merge(data_remove_bw, counts50, how='left', on='主页ID')\n",
    "data_hl_score = data_tmp['hl_score'].fillna(0)\n",
    "data_hl_score"
   ],
   "metadata": {
    "collapsed": false,
    "pycharm": {
     "name": "#%%\n"
    }
   }
  },
  {
   "cell_type": "code",
   "execution_count": 5,
   "outputs": [
    {
     "data": {
      "text/plain": "      分类_0  分类_1  分类_2  分类_3  分类_4  分类_5\n0      0.0   0.0   0.0   0.0   0.0   0.0\n1      1.0   0.0   0.0   0.0   0.0   0.0\n2      0.0   1.0   0.0   0.0   0.0   0.0\n3      1.0   0.0   0.0   0.0   0.0   0.0\n4      0.0   1.0   0.0   0.0   0.0   0.0\n...    ...   ...   ...   ...   ...   ...\n6483   0.0   0.0   0.0   0.0   0.0   0.0\n6484   0.0   0.0   0.0   1.0   0.0   0.0\n6485   0.0   0.0   0.0   1.0   0.0   0.0\n6486   0.0   1.0   0.0   0.0   0.0   0.0\n6487   0.0   0.0   1.0   0.0   0.0   0.0\n\n[6488 rows x 6 columns]",
      "text/html": "<div>\n<style scoped>\n    .dataframe tbody tr th:only-of-type {\n        vertical-align: middle;\n    }\n\n    .dataframe tbody tr th {\n        vertical-align: top;\n    }\n\n    .dataframe thead th {\n        text-align: right;\n    }\n</style>\n<table border=\"1\" class=\"dataframe\">\n  <thead>\n    <tr style=\"text-align: right;\">\n      <th></th>\n      <th>分类_0</th>\n      <th>分类_1</th>\n      <th>分类_2</th>\n      <th>分类_3</th>\n      <th>分类_4</th>\n      <th>分类_5</th>\n    </tr>\n  </thead>\n  <tbody>\n    <tr>\n      <th>0</th>\n      <td>0.0</td>\n      <td>0.0</td>\n      <td>0.0</td>\n      <td>0.0</td>\n      <td>0.0</td>\n      <td>0.0</td>\n    </tr>\n    <tr>\n      <th>1</th>\n      <td>1.0</td>\n      <td>0.0</td>\n      <td>0.0</td>\n      <td>0.0</td>\n      <td>0.0</td>\n      <td>0.0</td>\n    </tr>\n    <tr>\n      <th>2</th>\n      <td>0.0</td>\n      <td>1.0</td>\n      <td>0.0</td>\n      <td>0.0</td>\n      <td>0.0</td>\n      <td>0.0</td>\n    </tr>\n    <tr>\n      <th>3</th>\n      <td>1.0</td>\n      <td>0.0</td>\n      <td>0.0</td>\n      <td>0.0</td>\n      <td>0.0</td>\n      <td>0.0</td>\n    </tr>\n    <tr>\n      <th>4</th>\n      <td>0.0</td>\n      <td>1.0</td>\n      <td>0.0</td>\n      <td>0.0</td>\n      <td>0.0</td>\n      <td>0.0</td>\n    </tr>\n    <tr>\n      <th>...</th>\n      <td>...</td>\n      <td>...</td>\n      <td>...</td>\n      <td>...</td>\n      <td>...</td>\n      <td>...</td>\n    </tr>\n    <tr>\n      <th>6483</th>\n      <td>0.0</td>\n      <td>0.0</td>\n      <td>0.0</td>\n      <td>0.0</td>\n      <td>0.0</td>\n      <td>0.0</td>\n    </tr>\n    <tr>\n      <th>6484</th>\n      <td>0.0</td>\n      <td>0.0</td>\n      <td>0.0</td>\n      <td>1.0</td>\n      <td>0.0</td>\n      <td>0.0</td>\n    </tr>\n    <tr>\n      <th>6485</th>\n      <td>0.0</td>\n      <td>0.0</td>\n      <td>0.0</td>\n      <td>1.0</td>\n      <td>0.0</td>\n      <td>0.0</td>\n    </tr>\n    <tr>\n      <th>6486</th>\n      <td>0.0</td>\n      <td>1.0</td>\n      <td>0.0</td>\n      <td>0.0</td>\n      <td>0.0</td>\n      <td>0.0</td>\n    </tr>\n    <tr>\n      <th>6487</th>\n      <td>0.0</td>\n      <td>0.0</td>\n      <td>1.0</td>\n      <td>0.0</td>\n      <td>0.0</td>\n      <td>0.0</td>\n    </tr>\n  </tbody>\n</table>\n<p>6488 rows × 6 columns</p>\n</div>"
     },
     "execution_count": 5,
     "metadata": {},
     "output_type": "execute_result"
    }
   ],
   "source": [
    "from Python.pandas.feature_selection import *\n",
    "\n",
    "column_mapping_str(data_remove_bw['分类'].unique())\n",
    "fl_mapping = {'电视频道': 0, '网路社群': 1, '新闻': 2, '书籍杂志': 3, '电视剧': 4, '电影公司': 5, \" \\\n",
    "             \"'节目': 6, '媒体其他': 7, '电影': 5, '音乐': 7, '电影相关活动': 5, '广播': 7}\n",
    "data_fl, fl_ohe = one_hot_encoder_column(data_remove_bw, '分类', fl_mapping, fill_na=7)\n",
    "data_fl = pd.DataFrame(data_fl)\n",
    "data_fl"
   ],
   "metadata": {
    "collapsed": false,
    "pycharm": {
     "name": "#%%\n"
    }
   }
  },
  {
   "cell_type": "code",
   "execution_count": 6,
   "outputs": [
    {
     "data": {
      "text/plain": "      发文类型_0  发文类型_1\n0        0.0     1.0\n1        1.0     0.0\n2        0.0     0.0\n3        1.0     0.0\n4        0.0     0.0\n...      ...     ...\n6483     0.0     0.0\n6484     1.0     0.0\n6485     1.0     0.0\n6486     0.0     0.0\n6487     0.0     0.0\n\n[6488 rows x 2 columns]",
      "text/html": "<div>\n<style scoped>\n    .dataframe tbody tr th:only-of-type {\n        vertical-align: middle;\n    }\n\n    .dataframe tbody tr th {\n        vertical-align: top;\n    }\n\n    .dataframe thead th {\n        text-align: right;\n    }\n</style>\n<table border=\"1\" class=\"dataframe\">\n  <thead>\n    <tr style=\"text-align: right;\">\n      <th></th>\n      <th>发文类型_0</th>\n      <th>发文类型_1</th>\n    </tr>\n  </thead>\n  <tbody>\n    <tr>\n      <th>0</th>\n      <td>0.0</td>\n      <td>1.0</td>\n    </tr>\n    <tr>\n      <th>1</th>\n      <td>1.0</td>\n      <td>0.0</td>\n    </tr>\n    <tr>\n      <th>2</th>\n      <td>0.0</td>\n      <td>0.0</td>\n    </tr>\n    <tr>\n      <th>3</th>\n      <td>1.0</td>\n      <td>0.0</td>\n    </tr>\n    <tr>\n      <th>4</th>\n      <td>0.0</td>\n      <td>0.0</td>\n    </tr>\n    <tr>\n      <th>...</th>\n      <td>...</td>\n      <td>...</td>\n    </tr>\n    <tr>\n      <th>6483</th>\n      <td>0.0</td>\n      <td>0.0</td>\n    </tr>\n    <tr>\n      <th>6484</th>\n      <td>1.0</td>\n      <td>0.0</td>\n    </tr>\n    <tr>\n      <th>6485</th>\n      <td>1.0</td>\n      <td>0.0</td>\n    </tr>\n    <tr>\n      <th>6486</th>\n      <td>0.0</td>\n      <td>0.0</td>\n    </tr>\n    <tr>\n      <th>6487</th>\n      <td>0.0</td>\n      <td>0.0</td>\n    </tr>\n  </tbody>\n</table>\n<p>6488 rows × 2 columns</p>\n</div>"
     },
     "execution_count": 6,
     "metadata": {},
     "output_type": "execute_result"
    }
   ],
   "source": [
    "doc_type_map = {'link': 1, 'photo': 2, 'video': 3}\n",
    "data_doc_type, ohe_doc_type = one_hot_encoder_column(data_remove_bw, '发文类型', doc_type_map, fill_na=3)\n",
    "data_doc_type"
   ],
   "metadata": {
    "collapsed": false,
    "pycharm": {
     "name": "#%%\n"
    }
   }
  },
  {
   "cell_type": "code",
   "execution_count": 7,
   "outputs": [
    {
     "name": "stdout",
     "output_type": "stream",
     "text": [
      "message 共有 24 个空值，占比 0.31%\n",
      "name 共有 282 个空值，占比 3.60%\n",
      "description 共有 2046 个空值，占比 26.13%\n"
     ]
    }
   ],
   "source": [
    "colNullCount = data.isnull().sum(axis=0)\n",
    "colNullCount = colNullCount[colNullCount > 0]\n",
    "for col_name in colNullCount.index:\n",
    "    print(\"%s 共有 %d 个空值，占比 %.2f%%\" % (col_name, colNullCount[col_name], colNullCount[col_name]*100.0/data.shape[0]))\n",
    "    if colNullCount[col_name]*100.0/data.shape[0] < 0.01:\n",
    "        print(\"%s 缺失个数较少，建议执行如下代码直接删除该行：\" % col_name)\n",
    "# data.drop(labels = data[data[\"message\"].isnull()].index, axis=0,inplace=True)"
   ],
   "metadata": {
    "collapsed": false,
    "pycharm": {
     "name": "#%%\n"
    }
   }
  },
  {
   "cell_type": "code",
   "execution_count": 8,
   "outputs": [
    {
     "name": "stderr",
     "output_type": "stream",
     "text": [
      "Building prefix dict from the default dictionary ...\n",
      "Loading model from cache /var/folders/zz/8hl03_bd6sj_wrd8__z72r8r0000gn/T/jieba.cache\n"
     ]
    },
    {
     "name": "stdout",
     "output_type": "stream",
     "text": [
      "total counts:  2625\n"
     ]
    },
    {
     "name": "stderr",
     "output_type": "stream",
     "text": [
      "Loading model cost 0.936 seconds.\n",
      "Prefix dict has been built successfully.\n"
     ]
    },
    {
     "name": "stdout",
     "output_type": "stream",
     "text": [
      "姊 蔡依林 晚间 出席 南韩 年度 盛事 舞台 一开 低胸 紧身 服装 霸气 登场 献唱 舞曲\n"
     ]
    }
   ],
   "source": [
    "from Python.nlp.nlp import *\n",
    "stop_words = get_stop_words('././data/stopwords.txt', encoding='gbk')\n",
    "\n",
    "print(split_word(\"「呸姊」蔡依林2日晚间出席南韩年度盛事MAMA舞台，她一开低胸紧身服装霸气登场，献唱舞曲《P...\",\n",
    "                 stop_words, ['蔡依林', '叶明兰','叶镇中', '宋家豪', '白先勇','林智胜']))"
   ],
   "metadata": {
    "collapsed": false,
    "pycharm": {
     "name": "#%%\n"
    }
   }
  },
  {
   "cell_type": "code",
   "execution_count": 14,
   "outputs": [
    {
     "name": "stderr",
     "output_type": "stream",
     "text": [
      "/opt/anaconda3/lib/python3.8/site-packages/sklearn/utils/deprecation.py:87: FutureWarning: Function get_feature_names is deprecated; get_feature_names is deprecated in 1.0 and will be removed in 1.2. Please use get_feature_names_out instead.\n",
      "  warnings.warn(msg, category=FutureWarning)\n"
     ]
    },
    {
     "data": {
      "text/plain": "0                                  中华 队长 林智胜 三分 砲 名 真的 致胜\n1       选择 电视频道 将会 未来 遥控器 决定权 手上 更好 未来 公视 电视 募款 公视 更好 ...\n2       演员 值得 肯定 掌声 吴慷仁 提到 七年 资历 演员 面临 困境 赚 不到 钱 去年 中国...\n3                                师兄 一发 炸裂 帅 啊啊啊 啊啊啊 贴文 相片\n4       不救 强力 救 三十年 找 不到 鹿港 味道 两百年 老房子 消失 速度 一栋 拆 一府 二...\n                              ...                        \n6483    警察 想要 厘清 狗狗 自愿 是非 自愿 咬 狗 警察 应 给予 鼓励 小狗 咬 警竟 问 ...\n6484    一对 看完 电影 朋友 特别 路过 合照 邮筒 求情 拜 讬 邮局 撤掉 民众 陈先生 两支...\n6485    金钟 戏剧 节目 男 主角奖 出炉 恭喜 蓝正龙 金钟 金钟奖 最佳 男主角 妹妹 蓝正龙 ...\n6486    新娘 放下 婚纱 拍摄 救援 话 说 这件 礼服 好花 游客 心脏病发 溺水 最美 新娘 穿...\n6487    台湾 之光 台湾 陈永信 夺 法国 世界 面包 大赛 第一 国旗 飘扬 颁奖 会场 法国 里...\nLength: 6488, dtype: object"
     },
     "execution_count": 14,
     "metadata": {},
     "output_type": "execute_result"
    }
   ],
   "source": [
    "data_all = data.apply(lambda x: split_word(str(x['message']) + str(x['name']) + str(x['description']), stop_words, ['蔡依林', '叶明兰','叶镇中', '宋家豪', '白先勇','林智胜']), axis=1)\n",
    "tfidf_doc, tfidf_vec, tfidf_pca = tfidf(data_all, min_df=10, output_dimension=100)"
   ],
   "metadata": {
    "collapsed": false,
    "pycharm": {
     "name": "#%%\n"
    }
   }
  },
  {
   "cell_type": "code",
   "execution_count": 19,
   "outputs": [],
   "source": [
    "doc_removed = data_remove_bw.apply(lambda x: split_word(str(x['message']) + str(x['name']) + str(x['description']), stop_words, ['蔡依林', '叶明兰','叶镇中', '宋家豪', '白先勇','林智胜']), axis=1)"
   ],
   "metadata": {
    "collapsed": false,
    "pycharm": {
     "name": "#%%\n"
    }
   }
  },
  {
   "cell_type": "code",
   "execution_count": 22,
   "outputs": [
    {
     "data": {
      "text/plain": "            0         1         2         3         4         5         6   \\\n0    -0.039192 -0.038563  0.168703  0.061999  0.000633 -0.038481 -0.000654   \n1     0.094015 -0.014286  0.013737  0.072448  0.014384 -0.035738  0.033304   \n2    -0.051535 -0.066066  0.448257  0.159121  0.022046 -0.102179 -0.018500   \n3     0.107021 -0.026306  0.303329  0.161236  0.054155 -0.111780  0.020556   \n4    -0.046946 -0.062756  0.449642  0.156962  0.028894 -0.086772 -0.012549   \n...        ...       ...       ...       ...       ...       ...       ...   \n6483 -0.060202 -0.026958  0.044827 -0.013451  0.000749  0.159160  0.026806   \n6484  0.076313 -0.010486 -0.001174 -0.051529 -0.016056 -0.054954  0.149268   \n6485  0.235569  0.008297  0.031006 -0.118937  0.033486 -0.112580  0.322192   \n6486 -0.060805 -0.028398 -0.009675 -0.001242 -0.019219  0.001491 -0.025052   \n6487 -0.039725 -0.021838 -0.022518 -0.007114 -0.000133  0.000501  0.008241   \n\n            7         8         9   ...        90        91        92  \\\n0    -0.021297  0.020170 -0.003322  ...  0.028425 -0.044243 -0.024088   \n1    -0.001951 -0.006725  0.009152  ... -0.025255  0.016098 -0.018707   \n2    -0.044026  0.030841  0.025909  ... -0.043962  0.124890  0.103064   \n3     0.012609  0.027711  0.045554  ...  0.053255  0.127419  0.011037   \n4    -0.047802  0.045941  0.005807  ...  0.001261 -0.025052 -0.015742   \n...        ...       ...       ...  ...       ...       ...       ...   \n6483  0.188326 -0.050055 -0.029486  ...  0.004236  0.012359 -0.019418   \n6484 -0.015995  0.011761 -0.003628  ...  0.024944  0.007344  0.013967   \n6485  0.007380  0.023834  0.032763  ...  0.020644  0.062094  0.034240   \n6486  0.076888 -0.142737  0.111749  ... -0.033034  0.003677  0.011217   \n6487 -0.035127  0.030657 -0.044224  ...  0.031719  0.010655  0.062852   \n\n            93        94        95        96        97        98        99  \n0     0.005090  0.005807  0.002831  0.010431 -0.007305 -0.002667 -0.016974  \n1     0.045279  0.007624 -0.009374 -0.028370  0.004959  0.034070  0.016570  \n2    -0.055322  0.016862  0.005959  0.007783 -0.024258 -0.033020  0.012686  \n3    -0.061813 -0.013720  0.012250 -0.078850 -0.047656  0.047896  0.034554  \n4     0.001451 -0.000489 -0.003863 -0.005148 -0.003639 -0.023915 -0.002191  \n...        ...       ...       ...       ...       ...       ...       ...  \n6483  0.005282  0.030282 -0.030119 -0.044935 -0.009208  0.019872  0.024756  \n6484  0.022074 -0.016797 -0.001964 -0.002799 -0.007640 -0.000614 -0.019085  \n6485 -0.006946  0.069757  0.044543  0.053646 -0.032118  0.004550  0.030185  \n6486 -0.033671  0.016235  0.031695  0.006337 -0.004685  0.027682  0.009564  \n6487  0.011448  0.029184 -0.036609  0.032885 -0.024917  0.036968 -0.029370  \n\n[6488 rows x 100 columns]",
      "text/html": "<div>\n<style scoped>\n    .dataframe tbody tr th:only-of-type {\n        vertical-align: middle;\n    }\n\n    .dataframe tbody tr th {\n        vertical-align: top;\n    }\n\n    .dataframe thead th {\n        text-align: right;\n    }\n</style>\n<table border=\"1\" class=\"dataframe\">\n  <thead>\n    <tr style=\"text-align: right;\">\n      <th></th>\n      <th>0</th>\n      <th>1</th>\n      <th>2</th>\n      <th>3</th>\n      <th>4</th>\n      <th>5</th>\n      <th>6</th>\n      <th>7</th>\n      <th>8</th>\n      <th>9</th>\n      <th>...</th>\n      <th>90</th>\n      <th>91</th>\n      <th>92</th>\n      <th>93</th>\n      <th>94</th>\n      <th>95</th>\n      <th>96</th>\n      <th>97</th>\n      <th>98</th>\n      <th>99</th>\n    </tr>\n  </thead>\n  <tbody>\n    <tr>\n      <th>0</th>\n      <td>-0.039192</td>\n      <td>-0.038563</td>\n      <td>0.168703</td>\n      <td>0.061999</td>\n      <td>0.000633</td>\n      <td>-0.038481</td>\n      <td>-0.000654</td>\n      <td>-0.021297</td>\n      <td>0.020170</td>\n      <td>-0.003322</td>\n      <td>...</td>\n      <td>0.028425</td>\n      <td>-0.044243</td>\n      <td>-0.024088</td>\n      <td>0.005090</td>\n      <td>0.005807</td>\n      <td>0.002831</td>\n      <td>0.010431</td>\n      <td>-0.007305</td>\n      <td>-0.002667</td>\n      <td>-0.016974</td>\n    </tr>\n    <tr>\n      <th>1</th>\n      <td>0.094015</td>\n      <td>-0.014286</td>\n      <td>0.013737</td>\n      <td>0.072448</td>\n      <td>0.014384</td>\n      <td>-0.035738</td>\n      <td>0.033304</td>\n      <td>-0.001951</td>\n      <td>-0.006725</td>\n      <td>0.009152</td>\n      <td>...</td>\n      <td>-0.025255</td>\n      <td>0.016098</td>\n      <td>-0.018707</td>\n      <td>0.045279</td>\n      <td>0.007624</td>\n      <td>-0.009374</td>\n      <td>-0.028370</td>\n      <td>0.004959</td>\n      <td>0.034070</td>\n      <td>0.016570</td>\n    </tr>\n    <tr>\n      <th>2</th>\n      <td>-0.051535</td>\n      <td>-0.066066</td>\n      <td>0.448257</td>\n      <td>0.159121</td>\n      <td>0.022046</td>\n      <td>-0.102179</td>\n      <td>-0.018500</td>\n      <td>-0.044026</td>\n      <td>0.030841</td>\n      <td>0.025909</td>\n      <td>...</td>\n      <td>-0.043962</td>\n      <td>0.124890</td>\n      <td>0.103064</td>\n      <td>-0.055322</td>\n      <td>0.016862</td>\n      <td>0.005959</td>\n      <td>0.007783</td>\n      <td>-0.024258</td>\n      <td>-0.033020</td>\n      <td>0.012686</td>\n    </tr>\n    <tr>\n      <th>3</th>\n      <td>0.107021</td>\n      <td>-0.026306</td>\n      <td>0.303329</td>\n      <td>0.161236</td>\n      <td>0.054155</td>\n      <td>-0.111780</td>\n      <td>0.020556</td>\n      <td>0.012609</td>\n      <td>0.027711</td>\n      <td>0.045554</td>\n      <td>...</td>\n      <td>0.053255</td>\n      <td>0.127419</td>\n      <td>0.011037</td>\n      <td>-0.061813</td>\n      <td>-0.013720</td>\n      <td>0.012250</td>\n      <td>-0.078850</td>\n      <td>-0.047656</td>\n      <td>0.047896</td>\n      <td>0.034554</td>\n    </tr>\n    <tr>\n      <th>4</th>\n      <td>-0.046946</td>\n      <td>-0.062756</td>\n      <td>0.449642</td>\n      <td>0.156962</td>\n      <td>0.028894</td>\n      <td>-0.086772</td>\n      <td>-0.012549</td>\n      <td>-0.047802</td>\n      <td>0.045941</td>\n      <td>0.005807</td>\n      <td>...</td>\n      <td>0.001261</td>\n      <td>-0.025052</td>\n      <td>-0.015742</td>\n      <td>0.001451</td>\n      <td>-0.000489</td>\n      <td>-0.003863</td>\n      <td>-0.005148</td>\n      <td>-0.003639</td>\n      <td>-0.023915</td>\n      <td>-0.002191</td>\n    </tr>\n    <tr>\n      <th>...</th>\n      <td>...</td>\n      <td>...</td>\n      <td>...</td>\n      <td>...</td>\n      <td>...</td>\n      <td>...</td>\n      <td>...</td>\n      <td>...</td>\n      <td>...</td>\n      <td>...</td>\n      <td>...</td>\n      <td>...</td>\n      <td>...</td>\n      <td>...</td>\n      <td>...</td>\n      <td>...</td>\n      <td>...</td>\n      <td>...</td>\n      <td>...</td>\n      <td>...</td>\n      <td>...</td>\n    </tr>\n    <tr>\n      <th>6483</th>\n      <td>-0.060202</td>\n      <td>-0.026958</td>\n      <td>0.044827</td>\n      <td>-0.013451</td>\n      <td>0.000749</td>\n      <td>0.159160</td>\n      <td>0.026806</td>\n      <td>0.188326</td>\n      <td>-0.050055</td>\n      <td>-0.029486</td>\n      <td>...</td>\n      <td>0.004236</td>\n      <td>0.012359</td>\n      <td>-0.019418</td>\n      <td>0.005282</td>\n      <td>0.030282</td>\n      <td>-0.030119</td>\n      <td>-0.044935</td>\n      <td>-0.009208</td>\n      <td>0.019872</td>\n      <td>0.024756</td>\n    </tr>\n    <tr>\n      <th>6484</th>\n      <td>0.076313</td>\n      <td>-0.010486</td>\n      <td>-0.001174</td>\n      <td>-0.051529</td>\n      <td>-0.016056</td>\n      <td>-0.054954</td>\n      <td>0.149268</td>\n      <td>-0.015995</td>\n      <td>0.011761</td>\n      <td>-0.003628</td>\n      <td>...</td>\n      <td>0.024944</td>\n      <td>0.007344</td>\n      <td>0.013967</td>\n      <td>0.022074</td>\n      <td>-0.016797</td>\n      <td>-0.001964</td>\n      <td>-0.002799</td>\n      <td>-0.007640</td>\n      <td>-0.000614</td>\n      <td>-0.019085</td>\n    </tr>\n    <tr>\n      <th>6485</th>\n      <td>0.235569</td>\n      <td>0.008297</td>\n      <td>0.031006</td>\n      <td>-0.118937</td>\n      <td>0.033486</td>\n      <td>-0.112580</td>\n      <td>0.322192</td>\n      <td>0.007380</td>\n      <td>0.023834</td>\n      <td>0.032763</td>\n      <td>...</td>\n      <td>0.020644</td>\n      <td>0.062094</td>\n      <td>0.034240</td>\n      <td>-0.006946</td>\n      <td>0.069757</td>\n      <td>0.044543</td>\n      <td>0.053646</td>\n      <td>-0.032118</td>\n      <td>0.004550</td>\n      <td>0.030185</td>\n    </tr>\n    <tr>\n      <th>6486</th>\n      <td>-0.060805</td>\n      <td>-0.028398</td>\n      <td>-0.009675</td>\n      <td>-0.001242</td>\n      <td>-0.019219</td>\n      <td>0.001491</td>\n      <td>-0.025052</td>\n      <td>0.076888</td>\n      <td>-0.142737</td>\n      <td>0.111749</td>\n      <td>...</td>\n      <td>-0.033034</td>\n      <td>0.003677</td>\n      <td>0.011217</td>\n      <td>-0.033671</td>\n      <td>0.016235</td>\n      <td>0.031695</td>\n      <td>0.006337</td>\n      <td>-0.004685</td>\n      <td>0.027682</td>\n      <td>0.009564</td>\n    </tr>\n    <tr>\n      <th>6487</th>\n      <td>-0.039725</td>\n      <td>-0.021838</td>\n      <td>-0.022518</td>\n      <td>-0.007114</td>\n      <td>-0.000133</td>\n      <td>0.000501</td>\n      <td>0.008241</td>\n      <td>-0.035127</td>\n      <td>0.030657</td>\n      <td>-0.044224</td>\n      <td>...</td>\n      <td>0.031719</td>\n      <td>0.010655</td>\n      <td>0.062852</td>\n      <td>0.011448</td>\n      <td>0.029184</td>\n      <td>-0.036609</td>\n      <td>0.032885</td>\n      <td>-0.024917</td>\n      <td>0.036968</td>\n      <td>-0.029370</td>\n    </tr>\n  </tbody>\n</table>\n<p>6488 rows × 100 columns</p>\n</div>"
     },
     "execution_count": 22,
     "metadata": {},
     "output_type": "execute_result"
    }
   ],
   "source": [
    "doc = tfidf_vec.transform(doc_removed)\n",
    "doc_df = pd.DataFrame(doc.toarray(), columns=tfidf_vec.get_feature_names_out())\n",
    "doc = pd.DataFrame(tfidf_pca.transform(doc_df))\n",
    "doc"
   ],
   "metadata": {
    "collapsed": false,
    "pycharm": {
     "name": "#%%\n"
    }
   }
  },
  {
   "cell_type": "code",
   "execution_count": 13,
   "outputs": [],
   "source": [
    "y_mapping = {'L': 0, 'H': 1}\n",
    "data_y = data_remove_bw['y'].map(y_mapping)"
   ],
   "metadata": {
    "collapsed": false,
    "pycharm": {
     "name": "#%%\n"
    }
   }
  },
  {
   "cell_type": "code",
   "execution_count": 23,
   "outputs": [],
   "source": [
    "train_set1 = pd.concat([data_hl_score, data_fl, data_doc_type, doc, data_y], axis=1)\n",
    "train_set1.to_csv(\"./data/1_train1.csv\")"
   ],
   "metadata": {
    "collapsed": false,
    "pycharm": {
     "name": "#%%\n"
    }
   }
  }
 ],
 "metadata": {
  "kernelspec": {
   "display_name": "Python 3",
   "language": "python",
   "name": "python3"
  },
  "language_info": {
   "codemirror_mode": {
    "name": "ipython",
    "version": 2
   },
   "file_extension": ".py",
   "mimetype": "text/x-python",
   "name": "python",
   "nbconvert_exporter": "python",
   "pygments_lexer": "ipython2",
   "version": "2.7.6"
  }
 },
 "nbformat": 4,
 "nbformat_minor": 0
}
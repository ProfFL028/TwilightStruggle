{
 "cells": [
  {
   "cell_type": "code",
   "execution_count": 3,
   "outputs": [
    {
     "data": {
      "text/plain": "              主页ID        主页名称    分类  \\\n0  155000000000000  纬来体育台官方粉丝团  电视频道   \n1     359000000000       公视粉丝团  电视频道   \n2     359000000000       公视粉丝团  电视频道   \n3     190000000000    Mobile01  网路社群   \n4     359000000000       公视粉丝团  电视频道   \n\n                                             message                    name  \\\n0                      中华队长林智胜 三分砲！！！\\n人如其名　真的「致胜」阿～                     NaN   \n1    您所选择的电视频道，将会决定您的未来~\\n遥控器的决定权，就在你手上！\\n\\n#看见更好的未来  2015公视电视募款 公视让你看见更好的未来   \n2  好演员值得更多肯定和掌声！\\n\\n吴慷仁提到大概有六、七年资历的演员，所面临的最大困境，是赚...                   公视粉丝团   \n3                              大师兄 一发炸裂！！帅啊啊啊啊啊啊啊！！！       来自 Mobile01 贴文的相片   \n4  「再不救，就来不及了！如果没有很强力的救，再三十年，你可能找不到鹿港的味道了！」\\n\\n「两...              【我们的岛】抢救鹿港   \n\n                                         description   发文类型  y  \n0                                                NaN  video  H  \n1  这是一个资讯爆炸的时代，你所选择的资讯将决定你的视野；你所选择的电视频道，将会决定你的未来 ...  video  L  \n2                                                NaN   link  L  \n3                                                NaN  photo  H  \n4  叶明兰、叶镇中 / 采访报导 「再不救，就来不及了！如果没有很强力的救，再三十年，你可能找不...   link  L  ",
      "text/html": "<div>\n<style scoped>\n    .dataframe tbody tr th:only-of-type {\n        vertical-align: middle;\n    }\n\n    .dataframe tbody tr th {\n        vertical-align: top;\n    }\n\n    .dataframe thead th {\n        text-align: right;\n    }\n</style>\n<table border=\"1\" class=\"dataframe\">\n  <thead>\n    <tr style=\"text-align: right;\">\n      <th></th>\n      <th>主页ID</th>\n      <th>主页名称</th>\n      <th>分类</th>\n      <th>message</th>\n      <th>name</th>\n      <th>description</th>\n      <th>发文类型</th>\n      <th>y</th>\n    </tr>\n  </thead>\n  <tbody>\n    <tr>\n      <th>0</th>\n      <td>155000000000000</td>\n      <td>纬来体育台官方粉丝团</td>\n      <td>电视频道</td>\n      <td>中华队长林智胜 三分砲！！！\\n人如其名　真的「致胜」阿～</td>\n      <td>NaN</td>\n      <td>NaN</td>\n      <td>video</td>\n      <td>H</td>\n    </tr>\n    <tr>\n      <th>1</th>\n      <td>359000000000</td>\n      <td>公视粉丝团</td>\n      <td>电视频道</td>\n      <td>您所选择的电视频道，将会决定您的未来~\\n遥控器的决定权，就在你手上！\\n\\n#看见更好的未来</td>\n      <td>2015公视电视募款 公视让你看见更好的未来</td>\n      <td>这是一个资讯爆炸的时代，你所选择的资讯将决定你的视野；你所选择的电视频道，将会决定你的未来 ...</td>\n      <td>video</td>\n      <td>L</td>\n    </tr>\n    <tr>\n      <th>2</th>\n      <td>359000000000</td>\n      <td>公视粉丝团</td>\n      <td>电视频道</td>\n      <td>好演员值得更多肯定和掌声！\\n\\n吴慷仁提到大概有六、七年资历的演员，所面临的最大困境，是赚...</td>\n      <td>公视粉丝团</td>\n      <td>NaN</td>\n      <td>link</td>\n      <td>L</td>\n    </tr>\n    <tr>\n      <th>3</th>\n      <td>190000000000</td>\n      <td>Mobile01</td>\n      <td>网路社群</td>\n      <td>大师兄 一发炸裂！！帅啊啊啊啊啊啊啊！！！</td>\n      <td>来自 Mobile01 贴文的相片</td>\n      <td>NaN</td>\n      <td>photo</td>\n      <td>H</td>\n    </tr>\n    <tr>\n      <th>4</th>\n      <td>359000000000</td>\n      <td>公视粉丝团</td>\n      <td>电视频道</td>\n      <td>「再不救，就来不及了！如果没有很强力的救，再三十年，你可能找不到鹿港的味道了！」\\n\\n「两...</td>\n      <td>【我们的岛】抢救鹿港</td>\n      <td>叶明兰、叶镇中 / 采访报导 「再不救，就来不及了！如果没有很强力的救，再三十年，你可能找不...</td>\n      <td>link</td>\n      <td>L</td>\n    </tr>\n  </tbody>\n</table>\n</div>"
     },
     "execution_count": 3,
     "metadata": {},
     "output_type": "execute_result"
    }
   ],
   "source": [
    "import jieba\n",
    "import numpy as np\n",
    "import pandas as pd\n",
    "\n",
    "data = pd.read_excel(\"./data/cda1_1.xlsx\")\n",
    "data.head(5)"
   ],
   "metadata": {
    "collapsed": false,
    "pycharm": {
     "name": "#%%\n"
    }
   }
  },
  {
   "cell_type": "code",
   "execution_count": 4,
   "outputs": [
    {
     "data": {
      "text/plain": "y                   H      L\n主页ID                        \n62825073345       4.0   19.0\n90420602485       NaN    3.0\n101000000000      4.0   34.0\n103000000000      NaN    4.0\n104000000000      3.0    NaN\n...               ...    ...\n1500000000000000  NaN   22.0\n1510000000000000  1.0   10.0\n1550000000000000  NaN    3.0\n1620000000000000  NaN   23.0\n1650000000000000  NaN  319.0\n\n[120 rows x 2 columns]",
      "text/html": "<div>\n<style scoped>\n    .dataframe tbody tr th:only-of-type {\n        vertical-align: middle;\n    }\n\n    .dataframe tbody tr th {\n        vertical-align: top;\n    }\n\n    .dataframe thead th {\n        text-align: right;\n    }\n</style>\n<table border=\"1\" class=\"dataframe\">\n  <thead>\n    <tr style=\"text-align: right;\">\n      <th>y</th>\n      <th>H</th>\n      <th>L</th>\n    </tr>\n    <tr>\n      <th>主页ID</th>\n      <th></th>\n      <th></th>\n    </tr>\n  </thead>\n  <tbody>\n    <tr>\n      <th>62825073345</th>\n      <td>4.0</td>\n      <td>19.0</td>\n    </tr>\n    <tr>\n      <th>90420602485</th>\n      <td>NaN</td>\n      <td>3.0</td>\n    </tr>\n    <tr>\n      <th>101000000000</th>\n      <td>4.0</td>\n      <td>34.0</td>\n    </tr>\n    <tr>\n      <th>103000000000</th>\n      <td>NaN</td>\n      <td>4.0</td>\n    </tr>\n    <tr>\n      <th>104000000000</th>\n      <td>3.0</td>\n      <td>NaN</td>\n    </tr>\n    <tr>\n      <th>...</th>\n      <td>...</td>\n      <td>...</td>\n    </tr>\n    <tr>\n      <th>1500000000000000</th>\n      <td>NaN</td>\n      <td>22.0</td>\n    </tr>\n    <tr>\n      <th>1510000000000000</th>\n      <td>1.0</td>\n      <td>10.0</td>\n    </tr>\n    <tr>\n      <th>1550000000000000</th>\n      <td>NaN</td>\n      <td>3.0</td>\n    </tr>\n    <tr>\n      <th>1620000000000000</th>\n      <td>NaN</td>\n      <td>23.0</td>\n    </tr>\n    <tr>\n      <th>1650000000000000</th>\n      <td>NaN</td>\n      <td>319.0</td>\n    </tr>\n  </tbody>\n</table>\n<p>120 rows × 2 columns</p>\n</div>"
     },
     "execution_count": 4,
     "metadata": {},
     "output_type": "execute_result"
    }
   ],
   "source": [
    "grp = data.pivot_table(index='主页ID', columns='y', values=['分类'], aggfunc='count').droplevel(0, axis=1)\n",
    "grp"
   ],
   "metadata": {
    "collapsed": false,
    "pycharm": {
     "name": "#%%\n"
    }
   }
  },
  {
   "cell_type": "code",
   "execution_count": 5,
   "outputs": [
    {
     "data": {
      "text/plain": "y                  H    L\n主页ID                     \n104000000000     3.0  0.0\n853000000000000  4.0  0.0",
      "text/html": "<div>\n<style scoped>\n    .dataframe tbody tr th:only-of-type {\n        vertical-align: middle;\n    }\n\n    .dataframe tbody tr th {\n        vertical-align: top;\n    }\n\n    .dataframe thead th {\n        text-align: right;\n    }\n</style>\n<table border=\"1\" class=\"dataframe\">\n  <thead>\n    <tr style=\"text-align: right;\">\n      <th>y</th>\n      <th>H</th>\n      <th>L</th>\n    </tr>\n    <tr>\n      <th>主页ID</th>\n      <th></th>\n      <th></th>\n    </tr>\n  </thead>\n  <tbody>\n    <tr>\n      <th>104000000000</th>\n      <td>3.0</td>\n      <td>0.0</td>\n    </tr>\n    <tr>\n      <th>853000000000000</th>\n      <td>4.0</td>\n      <td>0.0</td>\n    </tr>\n  </tbody>\n</table>\n</div>"
     },
     "execution_count": 5,
     "metadata": {},
     "output_type": "execute_result"
    }
   ],
   "source": [
    "grp = grp.fillna(0)\n",
    "blacklist = grp[ ((grp['H'] <= 1) & (grp['L'] >5)) ]\n",
    "whitelist = grp[ (grp['L'] == 0) & (grp['H'] > 1) ]\n",
    "whitelist"
   ],
   "metadata": {
    "collapsed": false,
    "pycharm": {
     "name": "#%%\n"
    }
   }
  },
  {
   "cell_type": "code",
   "execution_count": 6,
   "outputs": [],
   "source": [
    "# id 发了个多少贴子\n",
    "# id"
   ],
   "metadata": {
    "collapsed": false,
    "pycharm": {
     "name": "#%%\n"
    }
   }
  },
  {
   "cell_type": "code",
   "execution_count": 7,
   "outputs": [
    {
     "data": {
      "text/plain": "      index             主页ID        主页名称    分类  \\\n0         0  155000000000000  纬来体育台官方粉丝团  电视频道   \n1         3     190000000000    Mobile01  网路社群   \n2         5  242000000000000  ETtoday新闻云    新闻   \n3         6     190000000000    Mobile01  网路社群   \n4         7  109000000000000  Yahoo!奇摩新闻    新闻   \n...     ...              ...         ...   ...   \n6483   7824     283000000000      中天快点TV  电视频道   \n6484   7825  773000000000000       料理高校生   电视剧   \n6485   7826  773000000000000       料理高校生   电视剧   \n6486   7827  242000000000000  ETtoday新闻云    新闻   \n6487   7828     128000000000        天下杂志  书籍杂志   \n\n                                                message  \\\n0                         中华队长林智胜 三分砲！！！\\n人如其名　真的「致胜」阿～   \n1                                 大师兄 一发炸裂！！帅啊啊啊啊啊啊啊！！！   \n2     爽啦～～～（ Supermm）\\n\\n#中华队 #古巴\\nhttp://www.ettoda...   \n3                     4：1，中华战胜古巴！今晚是最棒的周末夜，谢谢中华队！请继续加油！   \n4     一个字，爽！！！！\\n\\n#12强 #台古大战 #林智胜 #棒球 #三分砲 Lamigo M...   \n...                                                 ...   \n6483  被镶上绿色宝石的番薯，好美！（土星人）\\n\\n\\n---\\n●CH52中天新闻On Air！...   \n6484  【早鸟福利】\\n方老师唯美的瞬间，就这样被我们捕捉到了 :P\\n今天是11/11光棍节\\n想...   \n6485  佩颖主任啊..\\n您就别自暴自弃了~~\\n　\\n莫非是摆脱烂桃花的新招?\\n\\n每周五晚间十...   \n6486   快、合、作！（ Joe小姐）\\n\\n蔡依林 Jolin Tsai T.O.P. G-DRAGON   \n6487    【联合报】  一个班才2、3个人，大学班级变家教班？\\n\\n4系注册挂零、6校拉警报！！ ↓↓   \n\n                                                   name  \\\n0                                                   NaN   \n1                                     来自 Mobile01 贴文的相片   \n2       故意保送后林智胜怒轰3分炮　中华睽违9年击败古巴 | ET运动云 | ETtoday东森新闻云   \n3                                     来自 Mobile01 贴文的相片   \n4                                世界12强／林智胜怒轰3分砲！中华队赢古巴啦   \n...                                                 ...   \n6483                           从太空夜拍台湾美翻了！　嘉南平原就像被镶上绿宝石   \n6484                                             动态时报相片   \n6485                                             动态时报相片   \n6486  蔡依林、GD&T.O.P后台照曝光　甜呼：小爱心主人！ | 娱乐星光云 | ETtoday东...   \n6487                    注册率不到3成　大专67校系快灭顶｜教育｜联合新闻网｜天下杂志   \n\n                                            description   发文类型  y  \n0                                                   NaN  video  H  \n1                                                   NaN  photo  H  \n2     世界12强棒球赛中华队林智胜，8局下在前一棒郭严文被故意保送成一、二垒有人，轰出左外野3分全...   link  H  \n3                                                   NaN  photo  H  \n4                             今天(14日)「大师兄」林智胜单场被看扁2次...   link  H  \n...                                                 ...    ... ..  \n6483  国际太空站拍下夜晚台湾，影片一上传，立刻受到热烈讨论，不少人都被台湾的美给吸引，?万家灯火构...   link  L  \n6484                                                NaN  photo  L  \n6485                                                NaN  photo  L  \n6486  「呸姊」蔡依林2日晚间出席南韩年度盛事MAMA舞台，她一开低胸紧身服装霸气登场，献唱舞曲《P...   link  L  \n6487  教育部昨公布104学年度大专校院各校系注册率，竟有高达67校系注册率不到3成，学生只有2、3...   link  L  \n\n[6488 rows x 9 columns]",
      "text/html": "<div>\n<style scoped>\n    .dataframe tbody tr th:only-of-type {\n        vertical-align: middle;\n    }\n\n    .dataframe tbody tr th {\n        vertical-align: top;\n    }\n\n    .dataframe thead th {\n        text-align: right;\n    }\n</style>\n<table border=\"1\" class=\"dataframe\">\n  <thead>\n    <tr style=\"text-align: right;\">\n      <th></th>\n      <th>index</th>\n      <th>主页ID</th>\n      <th>主页名称</th>\n      <th>分类</th>\n      <th>message</th>\n      <th>name</th>\n      <th>description</th>\n      <th>发文类型</th>\n      <th>y</th>\n    </tr>\n  </thead>\n  <tbody>\n    <tr>\n      <th>0</th>\n      <td>0</td>\n      <td>155000000000000</td>\n      <td>纬来体育台官方粉丝团</td>\n      <td>电视频道</td>\n      <td>中华队长林智胜 三分砲！！！\\n人如其名　真的「致胜」阿～</td>\n      <td>NaN</td>\n      <td>NaN</td>\n      <td>video</td>\n      <td>H</td>\n    </tr>\n    <tr>\n      <th>1</th>\n      <td>3</td>\n      <td>190000000000</td>\n      <td>Mobile01</td>\n      <td>网路社群</td>\n      <td>大师兄 一发炸裂！！帅啊啊啊啊啊啊啊！！！</td>\n      <td>来自 Mobile01 贴文的相片</td>\n      <td>NaN</td>\n      <td>photo</td>\n      <td>H</td>\n    </tr>\n    <tr>\n      <th>2</th>\n      <td>5</td>\n      <td>242000000000000</td>\n      <td>ETtoday新闻云</td>\n      <td>新闻</td>\n      <td>爽啦～～～（ Supermm）\\n\\n#中华队 #古巴\\nhttp://www.ettoda...</td>\n      <td>故意保送后林智胜怒轰3分炮　中华睽违9年击败古巴 | ET运动云 | ETtoday东森新闻云</td>\n      <td>世界12强棒球赛中华队林智胜，8局下在前一棒郭严文被故意保送成一、二垒有人，轰出左外野3分全...</td>\n      <td>link</td>\n      <td>H</td>\n    </tr>\n    <tr>\n      <th>3</th>\n      <td>6</td>\n      <td>190000000000</td>\n      <td>Mobile01</td>\n      <td>网路社群</td>\n      <td>4：1，中华战胜古巴！今晚是最棒的周末夜，谢谢中华队！请继续加油！</td>\n      <td>来自 Mobile01 贴文的相片</td>\n      <td>NaN</td>\n      <td>photo</td>\n      <td>H</td>\n    </tr>\n    <tr>\n      <th>4</th>\n      <td>7</td>\n      <td>109000000000000</td>\n      <td>Yahoo!奇摩新闻</td>\n      <td>新闻</td>\n      <td>一个字，爽！！！！\\n\\n#12强 #台古大战 #林智胜 #棒球 #三分砲 Lamigo M...</td>\n      <td>世界12强／林智胜怒轰3分砲！中华队赢古巴啦</td>\n      <td>今天(14日)「大师兄」林智胜单场被看扁2次...</td>\n      <td>link</td>\n      <td>H</td>\n    </tr>\n    <tr>\n      <th>...</th>\n      <td>...</td>\n      <td>...</td>\n      <td>...</td>\n      <td>...</td>\n      <td>...</td>\n      <td>...</td>\n      <td>...</td>\n      <td>...</td>\n      <td>...</td>\n    </tr>\n    <tr>\n      <th>6483</th>\n      <td>7824</td>\n      <td>283000000000</td>\n      <td>中天快点TV</td>\n      <td>电视频道</td>\n      <td>被镶上绿色宝石的番薯，好美！（土星人）\\n\\n\\n---\\n●CH52中天新闻On Air！...</td>\n      <td>从太空夜拍台湾美翻了！　嘉南平原就像被镶上绿宝石</td>\n      <td>国际太空站拍下夜晚台湾，影片一上传，立刻受到热烈讨论，不少人都被台湾的美给吸引，?万家灯火构...</td>\n      <td>link</td>\n      <td>L</td>\n    </tr>\n    <tr>\n      <th>6484</th>\n      <td>7825</td>\n      <td>773000000000000</td>\n      <td>料理高校生</td>\n      <td>电视剧</td>\n      <td>【早鸟福利】\\n方老师唯美的瞬间，就这样被我们捕捉到了 :P\\n今天是11/11光棍节\\n想...</td>\n      <td>动态时报相片</td>\n      <td>NaN</td>\n      <td>photo</td>\n      <td>L</td>\n    </tr>\n    <tr>\n      <th>6485</th>\n      <td>7826</td>\n      <td>773000000000000</td>\n      <td>料理高校生</td>\n      <td>电视剧</td>\n      <td>佩颖主任啊..\\n您就别自暴自弃了~~\\n　\\n莫非是摆脱烂桃花的新招?\\n\\n每周五晚间十...</td>\n      <td>动态时报相片</td>\n      <td>NaN</td>\n      <td>photo</td>\n      <td>L</td>\n    </tr>\n    <tr>\n      <th>6486</th>\n      <td>7827</td>\n      <td>242000000000000</td>\n      <td>ETtoday新闻云</td>\n      <td>新闻</td>\n      <td>快、合、作！（ Joe小姐）\\n\\n蔡依林 Jolin Tsai T.O.P. G-DRAGON</td>\n      <td>蔡依林、GD&amp;T.O.P后台照曝光　甜呼：小爱心主人！ | 娱乐星光云 | ETtoday东...</td>\n      <td>「呸姊」蔡依林2日晚间出席南韩年度盛事MAMA舞台，她一开低胸紧身服装霸气登场，献唱舞曲《P...</td>\n      <td>link</td>\n      <td>L</td>\n    </tr>\n    <tr>\n      <th>6487</th>\n      <td>7828</td>\n      <td>128000000000</td>\n      <td>天下杂志</td>\n      <td>书籍杂志</td>\n      <td>【联合报】  一个班才2、3个人，大学班级变家教班？\\n\\n4系注册挂零、6校拉警报！！ ↓↓</td>\n      <td>注册率不到3成　大专67校系快灭顶｜教育｜联合新闻网｜天下杂志</td>\n      <td>教育部昨公布104学年度大专校院各校系注册率，竟有高达67校系注册率不到3成，学生只有2、3...</td>\n      <td>link</td>\n      <td>L</td>\n    </tr>\n  </tbody>\n</table>\n<p>6488 rows × 9 columns</p>\n</div>"
     },
     "execution_count": 7,
     "metadata": {},
     "output_type": "execute_result"
    }
   ],
   "source": [
    "data_remove_bw = data[ (~data['主页ID'].isin(blacklist.index.values)) &\n",
    "                       (~data['主页ID'].isin(whitelist.index.values)) ]\n",
    "data_remove_bw = data_remove_bw.reset_index()\n",
    "data_remove_bw"
   ],
   "metadata": {
    "collapsed": false,
    "pycharm": {
     "name": "#%%\n"
    }
   }
  },
  {
   "cell_type": "code",
   "execution_count": 8,
   "outputs": [
    {
     "data": {
      "text/plain": "y                     H       L\n主页ID                           \n128000000000        3.0    73.0\n188000000000       14.0    77.0\n220000000000       16.0    37.0\n233000000000      122.0   736.0\n283000000000        5.0    74.0\n359000000000        0.0   376.0\n109000000000000   239.0  1499.0\n126000000000000    64.0   477.0\n145000000000000    13.0   144.0\n166000000000000    11.0    61.0\n197000000000000     0.0    62.0\n242000000000000   220.0   904.0\n261000000000000     2.0   121.0\n295000000000000    88.0    71.0\n353000000000000    13.0   125.0\n395000000000000    28.0   409.0\n419000000000000     1.0    68.0\n773000000000000     6.0    87.0\n983000000000000     0.0   103.0\n1430000000000000   59.0   130.0\n1650000000000000    0.0   319.0",
      "text/html": "<div>\n<style scoped>\n    .dataframe tbody tr th:only-of-type {\n        vertical-align: middle;\n    }\n\n    .dataframe tbody tr th {\n        vertical-align: top;\n    }\n\n    .dataframe thead th {\n        text-align: right;\n    }\n</style>\n<table border=\"1\" class=\"dataframe\">\n  <thead>\n    <tr style=\"text-align: right;\">\n      <th>y</th>\n      <th>H</th>\n      <th>L</th>\n    </tr>\n    <tr>\n      <th>主页ID</th>\n      <th></th>\n      <th></th>\n    </tr>\n  </thead>\n  <tbody>\n    <tr>\n      <th>128000000000</th>\n      <td>3.0</td>\n      <td>73.0</td>\n    </tr>\n    <tr>\n      <th>188000000000</th>\n      <td>14.0</td>\n      <td>77.0</td>\n    </tr>\n    <tr>\n      <th>220000000000</th>\n      <td>16.0</td>\n      <td>37.0</td>\n    </tr>\n    <tr>\n      <th>233000000000</th>\n      <td>122.0</td>\n      <td>736.0</td>\n    </tr>\n    <tr>\n      <th>283000000000</th>\n      <td>5.0</td>\n      <td>74.0</td>\n    </tr>\n    <tr>\n      <th>359000000000</th>\n      <td>0.0</td>\n      <td>376.0</td>\n    </tr>\n    <tr>\n      <th>109000000000000</th>\n      <td>239.0</td>\n      <td>1499.0</td>\n    </tr>\n    <tr>\n      <th>126000000000000</th>\n      <td>64.0</td>\n      <td>477.0</td>\n    </tr>\n    <tr>\n      <th>145000000000000</th>\n      <td>13.0</td>\n      <td>144.0</td>\n    </tr>\n    <tr>\n      <th>166000000000000</th>\n      <td>11.0</td>\n      <td>61.0</td>\n    </tr>\n    <tr>\n      <th>197000000000000</th>\n      <td>0.0</td>\n      <td>62.0</td>\n    </tr>\n    <tr>\n      <th>242000000000000</th>\n      <td>220.0</td>\n      <td>904.0</td>\n    </tr>\n    <tr>\n      <th>261000000000000</th>\n      <td>2.0</td>\n      <td>121.0</td>\n    </tr>\n    <tr>\n      <th>295000000000000</th>\n      <td>88.0</td>\n      <td>71.0</td>\n    </tr>\n    <tr>\n      <th>353000000000000</th>\n      <td>13.0</td>\n      <td>125.0</td>\n    </tr>\n    <tr>\n      <th>395000000000000</th>\n      <td>28.0</td>\n      <td>409.0</td>\n    </tr>\n    <tr>\n      <th>419000000000000</th>\n      <td>1.0</td>\n      <td>68.0</td>\n    </tr>\n    <tr>\n      <th>773000000000000</th>\n      <td>6.0</td>\n      <td>87.0</td>\n    </tr>\n    <tr>\n      <th>983000000000000</th>\n      <td>0.0</td>\n      <td>103.0</td>\n    </tr>\n    <tr>\n      <th>1430000000000000</th>\n      <td>59.0</td>\n      <td>130.0</td>\n    </tr>\n    <tr>\n      <th>1650000000000000</th>\n      <td>0.0</td>\n      <td>319.0</td>\n    </tr>\n  </tbody>\n</table>\n</div>"
     },
     "execution_count": 8,
     "metadata": {},
     "output_type": "execute_result"
    }
   ],
   "source": [
    "counts50 = grp[(grp['H'] + grp['L'])>=50]\n",
    "counts50"
   ],
   "metadata": {
    "collapsed": false,
    "pycharm": {
     "name": "#%%\n"
    }
   }
  },
  {
   "cell_type": "code",
   "execution_count": 9,
   "outputs": [
    {
     "name": "stderr",
     "output_type": "stream",
     "text": [
      "<ipython-input-9-18d46f2e8c93>:1: SettingWithCopyWarning: \n",
      "A value is trying to be set on a copy of a slice from a DataFrame.\n",
      "Try using .loc[row_indexer,col_indexer] = value instead\n",
      "\n",
      "See the caveats in the documentation: https://pandas.pydata.org/pandas-docs/stable/user_guide/indexing.html#returning-a-view-versus-a-copy\n",
      "  counts50['hl_score'] = counts50['H'] / (counts50['H'] + counts50['L'])\n"
     ]
    },
    {
     "data": {
      "text/plain": "y                     H       L  hl_score\n主页ID                                     \n128000000000        3.0    73.0  0.039474\n188000000000       14.0    77.0  0.153846\n220000000000       16.0    37.0  0.301887\n233000000000      122.0   736.0  0.142191\n283000000000        5.0    74.0  0.063291\n359000000000        0.0   376.0  0.000000\n109000000000000   239.0  1499.0  0.137514\n126000000000000    64.0   477.0  0.118299\n145000000000000    13.0   144.0  0.082803\n166000000000000    11.0    61.0  0.152778\n197000000000000     0.0    62.0  0.000000\n242000000000000   220.0   904.0  0.195730\n261000000000000     2.0   121.0  0.016260\n295000000000000    88.0    71.0  0.553459\n353000000000000    13.0   125.0  0.094203\n395000000000000    28.0   409.0  0.064073\n419000000000000     1.0    68.0  0.014493\n773000000000000     6.0    87.0  0.064516\n983000000000000     0.0   103.0  0.000000\n1430000000000000   59.0   130.0  0.312169\n1650000000000000    0.0   319.0  0.000000",
      "text/html": "<div>\n<style scoped>\n    .dataframe tbody tr th:only-of-type {\n        vertical-align: middle;\n    }\n\n    .dataframe tbody tr th {\n        vertical-align: top;\n    }\n\n    .dataframe thead th {\n        text-align: right;\n    }\n</style>\n<table border=\"1\" class=\"dataframe\">\n  <thead>\n    <tr style=\"text-align: right;\">\n      <th>y</th>\n      <th>H</th>\n      <th>L</th>\n      <th>hl_score</th>\n    </tr>\n    <tr>\n      <th>主页ID</th>\n      <th></th>\n      <th></th>\n      <th></th>\n    </tr>\n  </thead>\n  <tbody>\n    <tr>\n      <th>128000000000</th>\n      <td>3.0</td>\n      <td>73.0</td>\n      <td>0.039474</td>\n    </tr>\n    <tr>\n      <th>188000000000</th>\n      <td>14.0</td>\n      <td>77.0</td>\n      <td>0.153846</td>\n    </tr>\n    <tr>\n      <th>220000000000</th>\n      <td>16.0</td>\n      <td>37.0</td>\n      <td>0.301887</td>\n    </tr>\n    <tr>\n      <th>233000000000</th>\n      <td>122.0</td>\n      <td>736.0</td>\n      <td>0.142191</td>\n    </tr>\n    <tr>\n      <th>283000000000</th>\n      <td>5.0</td>\n      <td>74.0</td>\n      <td>0.063291</td>\n    </tr>\n    <tr>\n      <th>359000000000</th>\n      <td>0.0</td>\n      <td>376.0</td>\n      <td>0.000000</td>\n    </tr>\n    <tr>\n      <th>109000000000000</th>\n      <td>239.0</td>\n      <td>1499.0</td>\n      <td>0.137514</td>\n    </tr>\n    <tr>\n      <th>126000000000000</th>\n      <td>64.0</td>\n      <td>477.0</td>\n      <td>0.118299</td>\n    </tr>\n    <tr>\n      <th>145000000000000</th>\n      <td>13.0</td>\n      <td>144.0</td>\n      <td>0.082803</td>\n    </tr>\n    <tr>\n      <th>166000000000000</th>\n      <td>11.0</td>\n      <td>61.0</td>\n      <td>0.152778</td>\n    </tr>\n    <tr>\n      <th>197000000000000</th>\n      <td>0.0</td>\n      <td>62.0</td>\n      <td>0.000000</td>\n    </tr>\n    <tr>\n      <th>242000000000000</th>\n      <td>220.0</td>\n      <td>904.0</td>\n      <td>0.195730</td>\n    </tr>\n    <tr>\n      <th>261000000000000</th>\n      <td>2.0</td>\n      <td>121.0</td>\n      <td>0.016260</td>\n    </tr>\n    <tr>\n      <th>295000000000000</th>\n      <td>88.0</td>\n      <td>71.0</td>\n      <td>0.553459</td>\n    </tr>\n    <tr>\n      <th>353000000000000</th>\n      <td>13.0</td>\n      <td>125.0</td>\n      <td>0.094203</td>\n    </tr>\n    <tr>\n      <th>395000000000000</th>\n      <td>28.0</td>\n      <td>409.0</td>\n      <td>0.064073</td>\n    </tr>\n    <tr>\n      <th>419000000000000</th>\n      <td>1.0</td>\n      <td>68.0</td>\n      <td>0.014493</td>\n    </tr>\n    <tr>\n      <th>773000000000000</th>\n      <td>6.0</td>\n      <td>87.0</td>\n      <td>0.064516</td>\n    </tr>\n    <tr>\n      <th>983000000000000</th>\n      <td>0.0</td>\n      <td>103.0</td>\n      <td>0.000000</td>\n    </tr>\n    <tr>\n      <th>1430000000000000</th>\n      <td>59.0</td>\n      <td>130.0</td>\n      <td>0.312169</td>\n    </tr>\n    <tr>\n      <th>1650000000000000</th>\n      <td>0.0</td>\n      <td>319.0</td>\n      <td>0.000000</td>\n    </tr>\n  </tbody>\n</table>\n</div>"
     },
     "execution_count": 9,
     "metadata": {},
     "output_type": "execute_result"
    }
   ],
   "source": [
    "counts50['hl_score'] = counts50['H'] / (counts50['H'] + counts50['L'])\n",
    "counts50"
   ],
   "metadata": {
    "collapsed": false,
    "pycharm": {
     "name": "#%%\n"
    }
   }
  },
  {
   "cell_type": "code",
   "execution_count": 10,
   "outputs": [
    {
     "data": {
      "text/plain": "0       0.000000\n1       0.000000\n2       0.195730\n3       0.000000\n4       0.137514\n          ...   \n6483    0.063291\n6484    0.064516\n6485    0.064516\n6486    0.195730\n6487    0.039474\nName: hl_score, Length: 6488, dtype: float64"
     },
     "execution_count": 10,
     "metadata": {},
     "output_type": "execute_result"
    }
   ],
   "source": [
    "data_tmp = pd.merge(data_remove_bw, counts50, how='left', on='主页ID')\n",
    "data_hl_score = data_tmp['hl_score'].fillna(0)\n",
    "data_hl_score"
   ],
   "metadata": {
    "collapsed": false,
    "pycharm": {
     "name": "#%%\n"
    }
   }
  },
  {
   "cell_type": "code",
   "execution_count": 11,
   "outputs": [
    {
     "data": {
      "text/plain": "新闻        4701\n书籍杂志       754\n媒体其他       244\n节目         220\n网路社群       219\n电视频道       175\n电视剧        109\n电影公司        46\n电影           7\n广播           5\n音乐           4\n电影相关活动       4\nName: 分类, dtype: int64"
     },
     "execution_count": 11,
     "metadata": {},
     "output_type": "execute_result"
    }
   ],
   "source": [
    "data_remove_bw['分类'].value_counts()"
   ],
   "metadata": {
    "collapsed": false,
    "pycharm": {
     "name": "#%%\n"
    }
   }
  },
  {
   "cell_type": "code",
   "execution_count": 12,
   "outputs": [
    {
     "data": {
      "text/plain": "\"{'电视频道': 0, '网路社群': 1, '新闻': 2, '书籍杂志': 3, '电影公司': 4, '节目': 5, '媒体其他': 6, '电影': 7, '电视剧': 8, '音乐': 9, '电影相关活动': 10, '广播': 11}\""
     },
     "execution_count": 12,
     "metadata": {},
     "output_type": "execute_result"
    }
   ],
   "source": [
    "from Python.pandas.feature_selection import *\n",
    "\n",
    "column_mapping_str(data_remove_bw['分类'].unique())"
   ],
   "metadata": {
    "collapsed": false,
    "pycharm": {
     "name": "#%%\n"
    }
   }
  },
  {
   "cell_type": "code",
   "execution_count": 13,
   "outputs": [
    {
     "data": {
      "text/plain": "      分类_0  分类_1  分类_2  分类_3  分类_4  分类_5\n0      0.0   0.0   0.0   0.0   0.0   0.0\n1      1.0   0.0   0.0   0.0   0.0   0.0\n2      0.0   1.0   0.0   0.0   0.0   0.0\n3      1.0   0.0   0.0   0.0   0.0   0.0\n4      0.0   1.0   0.0   0.0   0.0   0.0\n...    ...   ...   ...   ...   ...   ...\n6483   0.0   0.0   0.0   0.0   0.0   0.0\n6484   0.0   0.0   0.0   1.0   0.0   0.0\n6485   0.0   0.0   0.0   1.0   0.0   0.0\n6486   0.0   1.0   0.0   0.0   0.0   0.0\n6487   0.0   0.0   1.0   0.0   0.0   0.0\n\n[6488 rows x 6 columns]",
      "text/html": "<div>\n<style scoped>\n    .dataframe tbody tr th:only-of-type {\n        vertical-align: middle;\n    }\n\n    .dataframe tbody tr th {\n        vertical-align: top;\n    }\n\n    .dataframe thead th {\n        text-align: right;\n    }\n</style>\n<table border=\"1\" class=\"dataframe\">\n  <thead>\n    <tr style=\"text-align: right;\">\n      <th></th>\n      <th>分类_0</th>\n      <th>分类_1</th>\n      <th>分类_2</th>\n      <th>分类_3</th>\n      <th>分类_4</th>\n      <th>分类_5</th>\n    </tr>\n  </thead>\n  <tbody>\n    <tr>\n      <th>0</th>\n      <td>0.0</td>\n      <td>0.0</td>\n      <td>0.0</td>\n      <td>0.0</td>\n      <td>0.0</td>\n      <td>0.0</td>\n    </tr>\n    <tr>\n      <th>1</th>\n      <td>1.0</td>\n      <td>0.0</td>\n      <td>0.0</td>\n      <td>0.0</td>\n      <td>0.0</td>\n      <td>0.0</td>\n    </tr>\n    <tr>\n      <th>2</th>\n      <td>0.0</td>\n      <td>1.0</td>\n      <td>0.0</td>\n      <td>0.0</td>\n      <td>0.0</td>\n      <td>0.0</td>\n    </tr>\n    <tr>\n      <th>3</th>\n      <td>1.0</td>\n      <td>0.0</td>\n      <td>0.0</td>\n      <td>0.0</td>\n      <td>0.0</td>\n      <td>0.0</td>\n    </tr>\n    <tr>\n      <th>4</th>\n      <td>0.0</td>\n      <td>1.0</td>\n      <td>0.0</td>\n      <td>0.0</td>\n      <td>0.0</td>\n      <td>0.0</td>\n    </tr>\n    <tr>\n      <th>...</th>\n      <td>...</td>\n      <td>...</td>\n      <td>...</td>\n      <td>...</td>\n      <td>...</td>\n      <td>...</td>\n    </tr>\n    <tr>\n      <th>6483</th>\n      <td>0.0</td>\n      <td>0.0</td>\n      <td>0.0</td>\n      <td>0.0</td>\n      <td>0.0</td>\n      <td>0.0</td>\n    </tr>\n    <tr>\n      <th>6484</th>\n      <td>0.0</td>\n      <td>0.0</td>\n      <td>0.0</td>\n      <td>1.0</td>\n      <td>0.0</td>\n      <td>0.0</td>\n    </tr>\n    <tr>\n      <th>6485</th>\n      <td>0.0</td>\n      <td>0.0</td>\n      <td>0.0</td>\n      <td>1.0</td>\n      <td>0.0</td>\n      <td>0.0</td>\n    </tr>\n    <tr>\n      <th>6486</th>\n      <td>0.0</td>\n      <td>1.0</td>\n      <td>0.0</td>\n      <td>0.0</td>\n      <td>0.0</td>\n      <td>0.0</td>\n    </tr>\n    <tr>\n      <th>6487</th>\n      <td>0.0</td>\n      <td>0.0</td>\n      <td>1.0</td>\n      <td>0.0</td>\n      <td>0.0</td>\n      <td>0.0</td>\n    </tr>\n  </tbody>\n</table>\n<p>6488 rows × 6 columns</p>\n</div>"
     },
     "execution_count": 13,
     "metadata": {},
     "output_type": "execute_result"
    }
   ],
   "source": [
    "fl_mapping = {'电视频道': 0, '网路社群': 1, '新闻': 2, '书籍杂志': 3, '电视剧': 4, '电影公司': 5, \" \\\n",
    "             \"'节目': 6, '媒体其他': 7, '电影': 5, '音乐': 7, '电影相关活动': 5, '广播': 7}\n",
    "data_fl, fl_ohe = one_hot_encoder_column(data_remove_bw, '分类', fl_mapping, fill_na=7)\n",
    "data_fl = pd.DataFrame(data_fl)\n",
    "data_fl\n",
    "\n"
   ],
   "metadata": {
    "collapsed": false,
    "pycharm": {
     "name": "#%%\n"
    }
   }
  },
  {
   "cell_type": "code",
   "execution_count": 14,
   "outputs": [
    {
     "data": {
      "text/plain": "      发文类型_0  发文类型_1\n0        0.0     1.0\n1        1.0     0.0\n2        0.0     0.0\n3        1.0     0.0\n4        0.0     0.0\n...      ...     ...\n6483     0.0     0.0\n6484     1.0     0.0\n6485     1.0     0.0\n6486     0.0     0.0\n6487     0.0     0.0\n\n[6488 rows x 2 columns]",
      "text/html": "<div>\n<style scoped>\n    .dataframe tbody tr th:only-of-type {\n        vertical-align: middle;\n    }\n\n    .dataframe tbody tr th {\n        vertical-align: top;\n    }\n\n    .dataframe thead th {\n        text-align: right;\n    }\n</style>\n<table border=\"1\" class=\"dataframe\">\n  <thead>\n    <tr style=\"text-align: right;\">\n      <th></th>\n      <th>发文类型_0</th>\n      <th>发文类型_1</th>\n    </tr>\n  </thead>\n  <tbody>\n    <tr>\n      <th>0</th>\n      <td>0.0</td>\n      <td>1.0</td>\n    </tr>\n    <tr>\n      <th>1</th>\n      <td>1.0</td>\n      <td>0.0</td>\n    </tr>\n    <tr>\n      <th>2</th>\n      <td>0.0</td>\n      <td>0.0</td>\n    </tr>\n    <tr>\n      <th>3</th>\n      <td>1.0</td>\n      <td>0.0</td>\n    </tr>\n    <tr>\n      <th>4</th>\n      <td>0.0</td>\n      <td>0.0</td>\n    </tr>\n    <tr>\n      <th>...</th>\n      <td>...</td>\n      <td>...</td>\n    </tr>\n    <tr>\n      <th>6483</th>\n      <td>0.0</td>\n      <td>0.0</td>\n    </tr>\n    <tr>\n      <th>6484</th>\n      <td>1.0</td>\n      <td>0.0</td>\n    </tr>\n    <tr>\n      <th>6485</th>\n      <td>1.0</td>\n      <td>0.0</td>\n    </tr>\n    <tr>\n      <th>6486</th>\n      <td>0.0</td>\n      <td>0.0</td>\n    </tr>\n    <tr>\n      <th>6487</th>\n      <td>0.0</td>\n      <td>0.0</td>\n    </tr>\n  </tbody>\n</table>\n<p>6488 rows × 2 columns</p>\n</div>"
     },
     "execution_count": 14,
     "metadata": {},
     "output_type": "execute_result"
    }
   ],
   "source": [
    "doc_type_map = {'link': 1, 'photo': 2, 'video': 3}\n",
    "data_doc_type, ohe_doc_type = one_hot_encoder_column(data_remove_bw, '发文类型', doc_type_map, fill_na=3)\n",
    "data_doc_type"
   ],
   "metadata": {
    "collapsed": false,
    "pycharm": {
     "name": "#%%\n"
    }
   }
  },
  {
   "cell_type": "code",
   "execution_count": 15,
   "outputs": [
    {
     "data": {
      "text/plain": "主页ID              0\n主页名称              0\n分类                0\nmessage          24\nname            282\ndescription    2046\n发文类型              0\ny                 0\ndtype: int64"
     },
     "execution_count": 15,
     "metadata": {},
     "output_type": "execute_result"
    }
   ],
   "source": [
    "colNullCount = data.isnull().sum(axis=0)\n",
    "colNullCount"
   ],
   "metadata": {
    "collapsed": false,
    "pycharm": {
     "name": "#%%\n"
    }
   }
  },
  {
   "cell_type": "code",
   "execution_count": 16,
   "outputs": [
    {
     "name": "stdout",
     "output_type": "stream",
     "text": [
      "message 共有 24 个空值，占比 0.31%\n",
      "name 共有 282 个空值，占比 3.60%\n",
      "description 共有 2046 个空值，占比 26.13%\n"
     ]
    }
   ],
   "source": [
    "colNullCount = colNullCount[colNullCount > 0]\n",
    "for col_name in colNullCount.index:\n",
    "    print(\"%s 共有 %d 个空值，占比 %.2f%%\" % (col_name, colNullCount[col_name], colNullCount[col_name]*100.0/data.shape[0]))\n",
    "    if colNullCount[col_name]*100.0/data.shape[0] < 0.01:\n",
    "        print(\"%s 缺失个数较少，建议执行如下代码直接删除该行：\" % col_name)\n",
    "# data.drop(labels = data[data[\"message\"].isnull()].index, axis=0,inplace=True)"
   ],
   "metadata": {
    "collapsed": false,
    "pycharm": {
     "name": "#%%\n"
    }
   }
  },
  {
   "cell_type": "code",
   "execution_count": 3,
   "outputs": [
    {
     "name": "stderr",
     "output_type": "stream",
     "text": [
      "Building prefix dict from the default dictionary ...\n"
     ]
    },
    {
     "name": "stdout",
     "output_type": "stream",
     "text": [
      "total counts:  2625\n"
     ]
    },
    {
     "name": "stderr",
     "output_type": "stream",
     "text": [
      "Dumping model to file cache /var/folders/zz/8hl03_bd6sj_wrd8__z72r8r0000gn/T/jieba.cache\n",
      "Loading model cost 1.337 seconds.\n",
      "Prefix dict has been built successfully.\n"
     ]
    },
    {
     "name": "stdout",
     "output_type": "stream",
     "text": [
      "台古 大战 强 棒球 阳岱 钢 阳岱 钢 中华队\n"
     ]
    }
   ],
   "source": [
    "from Python.nlp.nlp import *\n",
    "stop_words = get_stop_words('./data/stopwords.txt', encoding='gbk')\n",
    "\n",
    "print(split_word(\"#台古大战 #12强 #棒球 #阳岱钢 阳岱钢 DAIKAN YOH #中华队\",\n",
    "                 stop_words, ['蔡依林', '叶明兰','叶镇中', '宋家豪', '白先勇','林智胜']))\n"
   ],
   "metadata": {
    "collapsed": false,
    "pycharm": {
     "name": "#%%\n"
    }
   }
  },
  {
   "cell_type": "code",
   "execution_count": 22,
   "outputs": [
    {
     "data": {
      "text/plain": "0                                     中华 队长 林智胜 三分 砲 名 致胜\n1       选择 电视频道 将会 未来 遥控器 决定权 手上 更好 未来 公视 电视 募款 公视 更好 ...\n2       演员 值得 肯定 掌声 吴慷仁 提到 七年 资历 演员 面临 困境 赚 不到 钱 去年 中国...\n3                                师兄 一发 炸裂 帅 啊啊啊 啊啊啊 贴文 相片\n4       不救 强力 救 三十年 找 不到 鹿港 味道 两百年 老房子 消失 速度 月 一栋 拆 一府...\n                              ...                        \n7824    镶上 绿色 宝石 番薯 好美 土星 中天 新闻 高画质 直播 网址 直播 时段 早上 点 凌...\n7825    早鸟 福利 老师 唯美 瞬间 捕捉到 光棍节 告诉 单身 朋友 孤单 注 深夜 福利 早鸟 ...\n7826    佩颖 主任 自暴自弃 摆脱 烂 桃花 新招 每周五 晚间 十点 三立 台 每周六 晚间 八点...\n7827    合 作 小姐 蔡依林 蔡依林 后台 照曝光 甜呼 爱心 主人 娱乐 星光 云 东森 新闻 云...\n7828    联合报 一个班 大学 班级 变 家教 班 系 注册 挂零 校拉 警报 注册 率 不到 成 大...\nLength: 7829, dtype: object"
     },
     "execution_count": 22,
     "metadata": {},
     "output_type": "execute_result"
    }
   ],
   "source": [
    "data_all = data.apply(lambda x: split_word(\n",
    "    str(x['message']) + str(x['name']) + str(x['description']),\n",
    "    stop_words, ['蔡依林', '叶明兰','叶镇中', '宋家豪', '白先勇','林智胜']),\n",
    "                      axis=1)\n",
    "data_all"
   ],
   "metadata": {
    "collapsed": false,
    "pycharm": {
     "name": "#%%\n"
    }
   }
  },
  {
   "cell_type": "code",
   "execution_count": null,
   "outputs": [],
   "source": [
    "tfidf_doc, tfidf_vec, tfidf_pca = tfidf(data_all, min_df=10, output_dimension=100)\n",
    "tfidf_doc"
   ],
   "metadata": {
    "collapsed": false,
    "pycharm": {
     "name": "#%%\n"
    }
   }
  },
  {
   "cell_type": "code",
   "execution_count": null,
   "outputs": [],
   "source": [
    "doc_removed = data_remove_bw.apply(lambda x: split_word(str(x['message']) + str(x['name']) + str(x['description']), stop_words, ['蔡依林', '叶明兰','叶镇中', '宋家豪', '白先勇','林智胜']), axis=1)"
   ],
   "metadata": {
    "collapsed": false,
    "pycharm": {
     "name": "#%%\n"
    }
   }
  },
  {
   "cell_type": "code",
   "execution_count": null,
   "outputs": [],
   "source": [
    "doc = tfidf_vec.transform(doc_removed)\n",
    "doc_df = pd.DataFrame(doc.toarray(), columns=tfidf_vec.get_feature_names_out())\n",
    "doc = pd.DataFrame(tfidf_pca.transform(doc_df))\n",
    "doc\n"
   ],
   "metadata": {
    "collapsed": false,
    "pycharm": {
     "name": "#%%\n"
    }
   }
  },
  {
   "cell_type": "code",
   "execution_count": null,
   "outputs": [],
   "source": [
    "from sklearn.feature_extraction.text import TfidfVectorizer\n",
    "import pandas as pd\n",
    "from sklearn.decomposition import PCA\n",
    "\n",
    "tfidf = TfidfVectorizer(min_df=10)\n",
    "x = tfidf.fit_transform(data_all)\n",
    "df = pd.DataFrame(x.toarray(), columns=tfidf_vec.get_feature_names())"
   ],
   "metadata": {
    "collapsed": false,
    "pycharm": {
     "name": "#%%\n"
    }
   }
  },
  {
   "cell_type": "code",
   "execution_count": null,
   "outputs": [],
   "source": [
    "pca = PCA(n_components=100)\n",
    "x_pca = pca.fit_transform(df)\n",
    "x_pca"
   ],
   "metadata": {
    "collapsed": false,
    "pycharm": {
     "name": "#%%\n"
    }
   }
  },
  {
   "cell_type": "code",
   "execution_count": null,
   "outputs": [],
   "source": [
    "y_mapping = {'L': 0, 'H': 1}\n",
    "data_y = data_remove_bw['y'].map(y_mapping)\n",
    "data_y"
   ],
   "metadata": {
    "collapsed": false,
    "pycharm": {
     "name": "#%%\n"
    }
   }
  },
  {
   "cell_type": "code",
   "execution_count": null,
   "outputs": [],
   "source": [
    "train_set1 = pd.concat([data_hl_score, data_fl, data_doc_type, doc, data_y], axis=1)\n",
    "train_set1.to_csv(\"./data/1_train1.csv\", index=False)"
   ],
   "metadata": {
    "collapsed": false,
    "pycharm": {
     "name": "#%%\n"
    }
   }
  },
  {
   "cell_type": "code",
   "execution_count": null,
   "outputs": [],
   "source": [
    "test = pd.read_excel(\"././data/1_test.xlsx\")\n",
    "test_tmp = pd.merge(test, counts50, how='left', on='主页ID')\n",
    "test_hl_score = test_tmp['hl_score'].fillna(0)\n",
    "test_fl, fl_ohe = one_hot_encoder_column(test, '分类', fl_mapping, fill_na=7)\n",
    "test_fl = pd.DataFrame(data_fl)\n",
    "test_doc_type, ohe_doc_type = one_hot_encoder_column(test, '发文类型', doc_type_map, fill_na=3)\n",
    "test_all = test.apply(lambda x: split_word(str(x['message']) + str(x['name']) + str(x['description']), stop_words, ['蔡依林', '叶明兰','叶镇中', '宋家豪', '白先勇','林智胜']), axis=1)\n",
    "test_doc = tfidf_vec.transform(test_all)\n",
    "test_doc_df = pd.DataFrame(test_doc.toarray(), columns=tfidf_vec.get_feature_names_out())\n",
    "\n",
    "test_set = pd.concat([data_hl_score, data_fl, data_doc_type, test_doc_df], axis=1)\n",
    "test_set.to_csv(\"./data/1_test1.csv\", index=False)"
   ],
   "metadata": {
    "collapsed": false,
    "pycharm": {
     "name": "#%%\n"
    }
   }
  },
  {
   "cell_type": "code",
   "execution_count": null,
   "outputs": [],
   "source": [
    "blacklist['主页ID'].to_csv(\"./data/blacklist.csv\")\n"
   ],
   "metadata": {
    "collapsed": false,
    "pycharm": {
     "name": "#%%\n"
    }
   }
  }
 ],
 "metadata": {
  "kernelspec": {
   "display_name": "Python 3",
   "language": "python",
   "name": "python3"
  },
  "language_info": {
   "codemirror_mode": {
    "name": "ipython",
    "version": 2
   },
   "file_extension": ".py",
   "mimetype": "text/x-python",
   "name": "python",
   "nbconvert_exporter": "python",
   "pygments_lexer": "ipython2",
   "version": "2.7.6"
  }
 },
 "nbformat": 4,
 "nbformat_minor": 0
}
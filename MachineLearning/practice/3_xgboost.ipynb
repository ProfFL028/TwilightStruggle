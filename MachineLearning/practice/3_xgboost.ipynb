{
 "cells": [
  {
   "cell_type": "code",
   "execution_count": 1,
   "metadata": {
    "collapsed": true
   },
   "outputs": [],
   "source": [
    "import matplotlib.pyplot as plt\n",
    "import numpy as np\n",
    "import pandas as pd"
   ]
  },
  {
   "cell_type": "code",
   "execution_count": 2,
   "outputs": [],
   "source": [
    "data = pd.read_csv(\"./data/features3_train.csv\")\n",
    "X = data[data.columns[1:-1]]\n",
    "y = data['VV']"
   ],
   "metadata": {
    "collapsed": false,
    "pycharm": {
     "name": "#%%\n"
    }
   }
  },
  {
   "cell_type": "code",
   "execution_count": 3,
   "outputs": [],
   "source": [
    "from sklearn.model_selection import train_test_split\n",
    "X_train, X_valid, y_train, y_valid = train_test_split(X, y, test_size=0.33)"
   ],
   "metadata": {
    "collapsed": false,
    "pycharm": {
     "name": "#%%\n"
    }
   }
  },
  {
   "cell_type": "code",
   "execution_count": 4,
   "outputs": [
    {
     "data": {
      "text/plain": "(34236, 26)"
     },
     "execution_count": 4,
     "metadata": {},
     "output_type": "execute_result"
    }
   ],
   "source": [
    "from Python.sklearn.data_split import *\n",
    "X_train_bal, y_train_bal = balance_sample(X_train, y_train)\n",
    "X_train_bal.shape\n"
   ],
   "metadata": {
    "collapsed": false,
    "pycharm": {
     "name": "#%%\n"
    }
   }
  },
  {
   "cell_type": "code",
   "execution_count": 14,
   "outputs": [
    {
     "name": "stdout",
     "output_type": "stream",
     "text": [
      "[14:30:10] WARNING: /opt/concourse/worker/volumes/live/7a2b9f41-3287-451b-6691-43e9a6c0910f/volume/xgboost-split_1619728204606/work/src/objective/regression_obj.cu:170: reg:linear is now deprecated in favor of reg:squarederror.\n",
      "[14:30:10] WARNING: /opt/concourse/worker/volumes/live/7a2b9f41-3287-451b-6691-43e9a6c0910f/volume/xgboost-split_1619728204606/work/src/objective/regression_obj.cu:170: reg:linear is now deprecated in favor of reg:squarederror.\n",
      "[14:30:10] WARNING: /opt/concourse/worker/volumes/live/7a2b9f41-3287-451b-6691-43e9a6c0910f/volume/xgboost-split_1619728204606/work/src/objective/regression_obj.cu:170: reg:linear is now deprecated in favor of reg:squarederror.\n"
     ]
    },
    {
     "data": {
      "text/plain": "   train-auc-mean  train-auc-std  test-auc-mean  test-auc-std\n0        0.666624       0.007181       0.663417      0.003419\n1        0.752452       0.023378       0.749826      0.028219\n2        0.772304       0.020354       0.769272      0.024942\n3        0.790559       0.028694       0.785803      0.032768\n4        0.824705       0.013148       0.819995      0.014792",
      "text/html": "<div>\n<style scoped>\n    .dataframe tbody tr th:only-of-type {\n        vertical-align: middle;\n    }\n\n    .dataframe tbody tr th {\n        vertical-align: top;\n    }\n\n    .dataframe thead th {\n        text-align: right;\n    }\n</style>\n<table border=\"1\" class=\"dataframe\">\n  <thead>\n    <tr style=\"text-align: right;\">\n      <th></th>\n      <th>train-auc-mean</th>\n      <th>train-auc-std</th>\n      <th>test-auc-mean</th>\n      <th>test-auc-std</th>\n    </tr>\n  </thead>\n  <tbody>\n    <tr>\n      <th>0</th>\n      <td>0.666624</td>\n      <td>0.007181</td>\n      <td>0.663417</td>\n      <td>0.003419</td>\n    </tr>\n    <tr>\n      <th>1</th>\n      <td>0.752452</td>\n      <td>0.023378</td>\n      <td>0.749826</td>\n      <td>0.028219</td>\n    </tr>\n    <tr>\n      <th>2</th>\n      <td>0.772304</td>\n      <td>0.020354</td>\n      <td>0.769272</td>\n      <td>0.024942</td>\n    </tr>\n    <tr>\n      <th>3</th>\n      <td>0.790559</td>\n      <td>0.028694</td>\n      <td>0.785803</td>\n      <td>0.032768</td>\n    </tr>\n    <tr>\n      <th>4</th>\n      <td>0.824705</td>\n      <td>0.013148</td>\n      <td>0.819995</td>\n      <td>0.014792</td>\n    </tr>\n  </tbody>\n</table>\n</div>"
     },
     "execution_count": 14,
     "metadata": {},
     "output_type": "execute_result"
    }
   ],
   "source": [
    "import xgboost\n",
    "xg_reg = xgboost.XGBRegressor(objective ='reg:linear', colsample_bytree = 0.3,\n",
    "                              learning_rate = 0.1, max_depth = 5, alpha = 10, n_estimators = 10)\n",
    "dtrain = xgboost.DMatrix(np.asmatrix(X_train_bal), label=y_train_bal)\n",
    "dtest = xgboost.DMatrix(np.asmatrix(X_valid), label=y_valid)\n",
    "params = {\"objective\":\"reg:linear\",'colsample_bytree': 0.3,'learning_rate': 0.1,\n",
    "                'max_depth': 5, 'alpha': 10}\n",
    "\n",
    "cv_results = xgboost.cv(dtrain=dtrain, params=params, nfold=3,\n",
    "                    num_boost_round=50,early_stopping_rounds=10,metrics=\"auc\", as_pandas=True, seed=123)\n",
    "cv_results.head()"
   ],
   "metadata": {
    "collapsed": false,
    "pycharm": {
     "name": "#%%\n"
    }
   }
  },
  {
   "cell_type": "code",
   "execution_count": 15,
   "outputs": [
    {
     "name": "stdout",
     "output_type": "stream",
     "text": [
      "[14:30:13] WARNING: /opt/concourse/worker/volumes/live/7a2b9f41-3287-451b-6691-43e9a6c0910f/volume/xgboost-split_1619728204606/work/src/objective/regression_obj.cu:170: reg:linear is now deprecated in favor of reg:squarederror.\n"
     ]
    },
    {
     "data": {
      "text/plain": "0.1174713787954206"
     },
     "execution_count": 15,
     "metadata": {},
     "output_type": "execute_result"
    }
   ],
   "source": [
    "from sklearn.metrics import f1_score\n",
    "xg_reg = xgboost.train(params=params, dtrain=dtrain, num_boost_round=10)\n",
    "y_valid_pred = xg_reg.predict(dtest)\n",
    "y_valid_pred = [0 if x < 0.5 else 1 for x in y_valid_pred]\n",
    "f1_score(y_valid, y_valid_pred)\n",
    "\n"
   ],
   "metadata": {
    "collapsed": false,
    "pycharm": {
     "name": "#%%\n"
    }
   }
  },
  {
   "cell_type": "code",
   "execution_count": null,
   "outputs": [],
   "source": [
    "from xgboost.sklearn import XGBClassifier\n",
    "from sklearn.model_selection import GridSearchCV\n",
    "import warnings\n",
    "warnings.filterwarnings(\"ignore\")\n",
    "params_grid = {\n",
    "    \"objective\":[\"reg:logistic\"],\n",
    "    'max_depth':[i for i in range(3,10,2)],\n",
    "    'min_child_weight':[i for i in range(1,6,2)],\n",
    "    'gamma':[i/10.0 for i in range(0,5)],\n",
    "    'subsample':[i/10.0 for i in range(6,10)],\n",
    "    'colsample_bytree':[i/10.0 for i in range(6,10)],\n",
    "    'reg_alpha':[1e-5, 1e-2, 0.1, 1, 100],\n",
    "    'reg_lambda':[1e-5, 1e-2, 0.1, 1, 100]\n",
    "}\n",
    "xgb = XGBClassifier()\n",
    "gs = GridSearchCV(estimator=xgb, param_grid=params_grid, scoring='f1_weighted')\n",
    "gs.fit(X_train_bal, y_train_bal)\n",
    "print(gs.best_score_)"
   ],
   "metadata": {
    "collapsed": false,
    "pycharm": {
     "name": "#%%\n",
     "is_executing": true
    }
   }
  }
 ],
 "metadata": {
  "kernelspec": {
   "display_name": "Python 3",
   "language": "python",
   "name": "python3"
  },
  "language_info": {
   "codemirror_mode": {
    "name": "ipython",
    "version": 2
   },
   "file_extension": ".py",
   "mimetype": "text/x-python",
   "name": "python",
   "nbconvert_exporter": "python",
   "pygments_lexer": "ipython2",
   "version": "2.7.6"
  }
 },
 "nbformat": 4,
 "nbformat_minor": 0
}
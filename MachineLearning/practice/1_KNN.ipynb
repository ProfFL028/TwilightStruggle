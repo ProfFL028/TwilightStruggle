{
 "cells": [
  {
   "cell_type": "code",
   "execution_count": 2,
   "metadata": {
    "collapsed": true,
    "pycharm": {
     "name": "#%%\n"
    }
   },
   "outputs": [],
   "source": [
    "import numpy as np\n",
    "import pandas as pd\n",
    "import matplotlib.pyplot as plt\n",
    "import warnings\n",
    "\n",
    "from sklearn.preprocessing import OneHotEncoder\n",
    "from sklearn.impute import SimpleImputer\n",
    "\n",
    "pd.set_option(\"expand_frame_repr\", False)\n",
    "warnings.filterwarnings(\"ignore\")\n",
    "pd.set_option('display.float_format', lambda x: '%.2f' % x)  # 数值不显示科学计数法，保留两位小数\n",
    "np.set_printoptions(suppress=True)"
   ]
  },
  {
   "cell_type": "code",
   "execution_count": 3,
   "outputs": [
    {
     "data": {
      "text/plain": "0    4083\n1    4083\nName: y, dtype: int64"
     },
     "execution_count": 3,
     "metadata": {},
     "output_type": "execute_result"
    }
   ],
   "source": [
    "data = pd.read_csv(\"./data/1_train1.csv\")\n",
    "data = data.fillna(0)\n",
    "del data[data.columns[0]]\n",
    "X = data.iloc[:, :-1]\n",
    "y = data['y']\n",
    "\n",
    "from sklearn.model_selection import train_test_split\n",
    "random_seed = 42\n",
    "X_train, X_test, y_train, y_test = train_test_split(X, y, test_size=0.25, random_state=random_seed, stratify=y)\n",
    "\n",
    "from imblearn.over_sampling import SMOTE, BorderlineSMOTE\n",
    "oversample = BorderlineSMOTE()\n",
    "X_over, y_over = oversample.fit_resample(X_train, y_train)\n",
    "y_over.value_counts()"
   ],
   "metadata": {
    "collapsed": false,
    "pycharm": {
     "name": "#%%\n"
    }
   }
  },
  {
   "cell_type": "code",
   "execution_count": 4,
   "outputs": [],
   "source": [
    "import numpy as np\n",
    "import pandas as pd\n",
    "from sklearn.model_selection import GridSearchCV\n",
    "from sklearn.metrics import f1_score\n",
    "import warnings\n",
    "from plt import *\n",
    "\n",
    "pd.set_option(\"expand_frame_repr\", False)\n",
    "warnings.filterwarnings(\"ignore\")\n",
    "pd.set_option('display.float_format', lambda x: '%.2f' % x)  # 数值不显示科学计数法，保留两位小数\n",
    "np.set_printoptions(suppress=True)"
   ],
   "metadata": {
    "collapsed": false,
    "pycharm": {
     "name": "#%%\n"
    }
   }
  },
  {
   "cell_type": "code",
   "execution_count": 5,
   "outputs": [],
   "source": [
    "from sklearn.neighbors import KNeighborsClassifier\n",
    "from sklearn.model_selection import GridSearchCV\n",
    "from sklearn.metrics import f1_score\n",
    "from plt import *\n",
    "\n",
    "class KNNTuning(object):\n",
    "    def __init__(self, X_train, X_test, y_train, y_test, scoring='f1_weighted', cv=10):\n",
    "        self.X_train = X_train\n",
    "        self.X_test = X_test\n",
    "        self.y_train = y_train\n",
    "        self.y_test = y_test\n",
    "        self.scoring = scoring\n",
    "        self.cv = cv\n",
    "\n",
    "        self.gs = None\n",
    "\n",
    "    def fit_transform(self):\n",
    "        param_range = [5, 6, 7, 8, 9, 10, 20, 30, 40, 50]\n",
    "        param_grid = {\n",
    "            'leaf_size': param_range\n",
    "        }\n",
    "        model = KNeighborsClassifier(p=1)\n",
    "        gs = GridSearchCV(estimator=model, param_grid=param_grid, scoring=self.scoring, cv=self.cv)\n",
    "        gs.fit(self.X_train, self.y_train)\n",
    "        print(\"best score: %.4f, and best params: %s\" % (gs.best_score_, gs.best_params_))\n",
    "        y_pred = gs.predict(self.X_test)\n",
    "        print(\"KNN f1_score: %.4f%%\" % (f1_score(self.y_test, y_pred) * 100))\n",
    "\n",
    "        draw_confusion_matrix(self.y_test, y_pred)\n",
    "        return y_pred"
   ],
   "metadata": {
    "collapsed": false,
    "pycharm": {
     "name": "#%%\n"
    }
   }
  },
  {
   "cell_type": "code",
   "execution_count": 6,
   "outputs": [
    {
     "name": "stdout",
     "output_type": "stream",
     "text": [
      "best score: 0.8179, and best params: {'leaf_size': 5}\n",
      "KNN f1_score: 34.7188%\n"
     ]
    },
    {
     "data": {
      "text/plain": "<Figure size 180x180 with 1 Axes>",
      "image/png": "[encoded data removed]"
     },
     "metadata": {
      "needs_background": "light"
     },
     "output_type": "display_data"
    },
    {
     "data": {
      "text/plain": "array([0, 1, 1, ..., 1, 0, 0])"
     },
     "execution_count": 6,
     "metadata": {},
     "output_type": "execute_result"
    }
   ],
   "source": [
    "knn = KNNTuning(X_over, X_test, y_over, y_test)\n",
    "knn.fit_transform()\n"
   ],
   "metadata": {
    "collapsed": false,
    "pycharm": {
     "name": "#%%\n"
    }
   }
  }
 ],
 "metadata": {
  "kernelspec": {
   "display_name": "Python 3",
   "language": "python",
   "name": "python3"
  },
  "language_info": {
   "codemirror_mode": {
    "name": "ipython",
    "version": 2
   },
   "file_extension": ".py",
   "mimetype": "text/x-python",
   "name": "python",
   "nbconvert_exporter": "python",
   "pygments_lexer": "ipython2",
   "version": "2.7.6"
  }
 },
 "nbformat": 4,
 "nbformat_minor": 0
}
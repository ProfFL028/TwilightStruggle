{
 "cells": [
  {
   "cell_type": "code",
   "execution_count": 25,
   "metadata": {
    "collapsed": true
   },
   "outputs": [],
   "source": [
    "import pandas as pd\n",
    "import numpy as np\n",
    "\n",
    "data = pd.read_csv(\"./data/features3_train_2.csv\")\n",
    "X = data[data.columns[:-1]]\n",
    "y = data['VV']\n",
    "# sklearn impute advanced(IterativeImpute)"
   ]
  },
  {
   "cell_type": "code",
   "execution_count": 26,
   "outputs": [
    {
     "data": {
      "text/plain": "       area_0  area_1  area_2  area_3  area_4  area_5  area_6  area_7  area_8  \\\n1488      0.0     0.0     0.0     0.0     0.0     0.0     0.0     0.0     1.0   \n9162      0.0     0.0     0.0     0.0     0.0     0.0     0.0     0.0     1.0   \n23314     0.0     1.0     0.0     0.0     0.0     0.0     0.0     0.0     0.0   \n16952     1.0     0.0     0.0     0.0     0.0     0.0     0.0     0.0     0.0   \n18367     0.0     0.0     0.0     0.0     0.0     0.0     0.0     0.0     1.0   \n...       ...     ...     ...     ...     ...     ...     ...     ...     ...   \n21575     0.0     1.0     0.0     0.0     0.0     0.0     0.0     0.0     0.0   \n5390      0.0     0.0     0.0     0.0     1.0     0.0     0.0     0.0     0.0   \n860       0.0     1.0     0.0     0.0     0.0     0.0     0.0     0.0     0.0   \n15795     0.0     0.0     0.0     1.0     0.0     0.0     0.0     0.0     0.0   \n23654     0.0     1.0     0.0     0.0     0.0     0.0     0.0     0.0     0.0   \n\n       area_9  ...   dep-9201  fed-9201  fed-avg  ck-changame  dep-changame  \\\n1488      0.0  ...    17022.0      -1.0     -1.0     619745.0      683058.0   \n9162      0.0  ...       -1.0       0.0      0.0          0.0      215805.0   \n23314     0.0  ...        0.0      -1.0      0.0          0.0           0.0   \n16952     0.0  ...  3152313.0       0.0     -1.0    4484372.0     1099638.0   \n18367     0.0  ...       -1.0       0.0      0.0          0.0          -1.0   \n...       ...  ...        ...       ...      ...          ...           ...   \n21575     0.0  ...        0.0       0.0      0.0          0.0          -1.0   \n5390      0.0  ...       -1.0       0.0      0.0         -1.0           0.0   \n860       0.0  ...       -1.0       0.0     -1.0          0.0           0.0   \n15795     0.0  ...        0.0      -1.0      0.0          0.0          -1.0   \n23654     0.0  ...        0.0      -1.0      0.0          0.0           0.0   \n\n       ck-changtime  dep-changtime  0.0  1.0  2.0  \n1488           33.0          136.0    1    0    0  \n9162           -1.0           14.0    1    0    0  \n23314           0.0            0.0    0    1    0  \n16952          81.0           23.0    1    0    0  \n18367          -1.0           -1.0    0    0    1  \n...             ...            ...  ...  ...  ...  \n21575           0.0            3.0    0    0    1  \n5390            0.0            0.0    1    0    0  \n860             0.0            0.0    1    0    0  \n15795          -1.0           -1.0    1    0    0  \n23654          -1.0            0.0    0    0    1  \n\n[19608 rows x 34 columns]",
      "text/html": "<div>\n<style scoped>\n    .dataframe tbody tr th:only-of-type {\n        vertical-align: middle;\n    }\n\n    .dataframe tbody tr th {\n        vertical-align: top;\n    }\n\n    .dataframe thead th {\n        text-align: right;\n    }\n</style>\n<table border=\"1\" class=\"dataframe\">\n  <thead>\n    <tr style=\"text-align: right;\">\n      <th></th>\n      <th>area_0</th>\n      <th>area_1</th>\n      <th>area_2</th>\n      <th>area_3</th>\n      <th>area_4</th>\n      <th>area_5</th>\n      <th>area_6</th>\n      <th>area_7</th>\n      <th>area_8</th>\n      <th>area_9</th>\n      <th>...</th>\n      <th>dep-9201</th>\n      <th>fed-9201</th>\n      <th>fed-avg</th>\n      <th>ck-changame</th>\n      <th>dep-changame</th>\n      <th>ck-changtime</th>\n      <th>dep-changtime</th>\n      <th>0.0</th>\n      <th>1.0</th>\n      <th>2.0</th>\n    </tr>\n  </thead>\n  <tbody>\n    <tr>\n      <th>1488</th>\n      <td>0.0</td>\n      <td>0.0</td>\n      <td>0.0</td>\n      <td>0.0</td>\n      <td>0.0</td>\n      <td>0.0</td>\n      <td>0.0</td>\n      <td>0.0</td>\n      <td>1.0</td>\n      <td>0.0</td>\n      <td>...</td>\n      <td>17022.0</td>\n      <td>-1.0</td>\n      <td>-1.0</td>\n      <td>619745.0</td>\n      <td>683058.0</td>\n      <td>33.0</td>\n      <td>136.0</td>\n      <td>1</td>\n      <td>0</td>\n      <td>0</td>\n    </tr>\n    <tr>\n      <th>9162</th>\n      <td>0.0</td>\n      <td>0.0</td>\n      <td>0.0</td>\n      <td>0.0</td>\n      <td>0.0</td>\n      <td>0.0</td>\n      <td>0.0</td>\n      <td>0.0</td>\n      <td>1.0</td>\n      <td>0.0</td>\n      <td>...</td>\n      <td>-1.0</td>\n      <td>0.0</td>\n      <td>0.0</td>\n      <td>0.0</td>\n      <td>215805.0</td>\n      <td>-1.0</td>\n      <td>14.0</td>\n      <td>1</td>\n      <td>0</td>\n      <td>0</td>\n    </tr>\n    <tr>\n      <th>23314</th>\n      <td>0.0</td>\n      <td>1.0</td>\n      <td>0.0</td>\n      <td>0.0</td>\n      <td>0.0</td>\n      <td>0.0</td>\n      <td>0.0</td>\n      <td>0.0</td>\n      <td>0.0</td>\n      <td>0.0</td>\n      <td>...</td>\n      <td>0.0</td>\n      <td>-1.0</td>\n      <td>0.0</td>\n      <td>0.0</td>\n      <td>0.0</td>\n      <td>0.0</td>\n      <td>0.0</td>\n      <td>0</td>\n      <td>1</td>\n      <td>0</td>\n    </tr>\n    <tr>\n      <th>16952</th>\n      <td>1.0</td>\n      <td>0.0</td>\n      <td>0.0</td>\n      <td>0.0</td>\n      <td>0.0</td>\n      <td>0.0</td>\n      <td>0.0</td>\n      <td>0.0</td>\n      <td>0.0</td>\n      <td>0.0</td>\n      <td>...</td>\n      <td>3152313.0</td>\n      <td>0.0</td>\n      <td>-1.0</td>\n      <td>4484372.0</td>\n      <td>1099638.0</td>\n      <td>81.0</td>\n      <td>23.0</td>\n      <td>1</td>\n      <td>0</td>\n      <td>0</td>\n    </tr>\n    <tr>\n      <th>18367</th>\n      <td>0.0</td>\n      <td>0.0</td>\n      <td>0.0</td>\n      <td>0.0</td>\n      <td>0.0</td>\n      <td>0.0</td>\n      <td>0.0</td>\n      <td>0.0</td>\n      <td>1.0</td>\n      <td>0.0</td>\n      <td>...</td>\n      <td>-1.0</td>\n      <td>0.0</td>\n      <td>0.0</td>\n      <td>0.0</td>\n      <td>-1.0</td>\n      <td>-1.0</td>\n      <td>-1.0</td>\n      <td>0</td>\n      <td>0</td>\n      <td>1</td>\n    </tr>\n    <tr>\n      <th>...</th>\n      <td>...</td>\n      <td>...</td>\n      <td>...</td>\n      <td>...</td>\n      <td>...</td>\n      <td>...</td>\n      <td>...</td>\n      <td>...</td>\n      <td>...</td>\n      <td>...</td>\n      <td>...</td>\n      <td>...</td>\n      <td>...</td>\n      <td>...</td>\n      <td>...</td>\n      <td>...</td>\n      <td>...</td>\n      <td>...</td>\n      <td>...</td>\n      <td>...</td>\n      <td>...</td>\n    </tr>\n    <tr>\n      <th>21575</th>\n      <td>0.0</td>\n      <td>1.0</td>\n      <td>0.0</td>\n      <td>0.0</td>\n      <td>0.0</td>\n      <td>0.0</td>\n      <td>0.0</td>\n      <td>0.0</td>\n      <td>0.0</td>\n      <td>0.0</td>\n      <td>...</td>\n      <td>0.0</td>\n      <td>0.0</td>\n      <td>0.0</td>\n      <td>0.0</td>\n      <td>-1.0</td>\n      <td>0.0</td>\n      <td>3.0</td>\n      <td>0</td>\n      <td>0</td>\n      <td>1</td>\n    </tr>\n    <tr>\n      <th>5390</th>\n      <td>0.0</td>\n      <td>0.0</td>\n      <td>0.0</td>\n      <td>0.0</td>\n      <td>1.0</td>\n      <td>0.0</td>\n      <td>0.0</td>\n      <td>0.0</td>\n      <td>0.0</td>\n      <td>0.0</td>\n      <td>...</td>\n      <td>-1.0</td>\n      <td>0.0</td>\n      <td>0.0</td>\n      <td>-1.0</td>\n      <td>0.0</td>\n      <td>0.0</td>\n      <td>0.0</td>\n      <td>1</td>\n      <td>0</td>\n      <td>0</td>\n    </tr>\n    <tr>\n      <th>860</th>\n      <td>0.0</td>\n      <td>1.0</td>\n      <td>0.0</td>\n      <td>0.0</td>\n      <td>0.0</td>\n      <td>0.0</td>\n      <td>0.0</td>\n      <td>0.0</td>\n      <td>0.0</td>\n      <td>0.0</td>\n      <td>...</td>\n      <td>-1.0</td>\n      <td>0.0</td>\n      <td>-1.0</td>\n      <td>0.0</td>\n      <td>0.0</td>\n      <td>0.0</td>\n      <td>0.0</td>\n      <td>1</td>\n      <td>0</td>\n      <td>0</td>\n    </tr>\n    <tr>\n      <th>15795</th>\n      <td>0.0</td>\n      <td>0.0</td>\n      <td>0.0</td>\n      <td>1.0</td>\n      <td>0.0</td>\n      <td>0.0</td>\n      <td>0.0</td>\n      <td>0.0</td>\n      <td>0.0</td>\n      <td>0.0</td>\n      <td>...</td>\n      <td>0.0</td>\n      <td>-1.0</td>\n      <td>0.0</td>\n      <td>0.0</td>\n      <td>-1.0</td>\n      <td>-1.0</td>\n      <td>-1.0</td>\n      <td>1</td>\n      <td>0</td>\n      <td>0</td>\n    </tr>\n    <tr>\n      <th>23654</th>\n      <td>0.0</td>\n      <td>1.0</td>\n      <td>0.0</td>\n      <td>0.0</td>\n      <td>0.0</td>\n      <td>0.0</td>\n      <td>0.0</td>\n      <td>0.0</td>\n      <td>0.0</td>\n      <td>0.0</td>\n      <td>...</td>\n      <td>0.0</td>\n      <td>-1.0</td>\n      <td>0.0</td>\n      <td>0.0</td>\n      <td>0.0</td>\n      <td>-1.0</td>\n      <td>0.0</td>\n      <td>0</td>\n      <td>0</td>\n      <td>1</td>\n    </tr>\n  </tbody>\n</table>\n<p>19608 rows × 34 columns</p>\n</div>"
     },
     "execution_count": 26,
     "metadata": {},
     "output_type": "execute_result"
    }
   ],
   "source": [
    "random_seed = 42\n",
    "from sklearn.model_selection import train_test_split\n",
    "X_train, X_valid, y_train, y_valid = train_test_split(X, y, test_size=0.25, random_state=random_seed)"
   ],
   "metadata": {
    "collapsed": false,
    "pycharm": {
     "name": "#%%\n"
    }
   }
  },
  {
   "cell_type": "code",
   "execution_count": 27,
   "outputs": [
    {
     "data": {
      "text/plain": "array([[ 0.000000e+00,  0.000000e+00,  1.701805e+06, ...,  3.300000e+01,\n         1.360000e+02,  1.000000e+00],\n       [ 0.000000e+00,  0.000000e+00,  0.000000e+00, ..., -1.000000e+00,\n         1.400000e+01,  1.000000e+00],\n       [ 0.000000e+00,  1.000000e+00,  0.000000e+00, ...,  0.000000e+00,\n         0.000000e+00,  0.000000e+00],\n       ...,\n       [ 0.000000e+00,  1.000000e+00,  0.000000e+00, ...,  0.000000e+00,\n         0.000000e+00,  1.000000e+00],\n       [ 0.000000e+00,  0.000000e+00,  0.000000e+00, ..., -1.000000e+00,\n        -1.000000e+00,  1.000000e+00],\n       [ 0.000000e+00,  1.000000e+00,  2.600000e+05, ..., -1.000000e+00,\n         0.000000e+00,  0.000000e+00]])"
     },
     "execution_count": 27,
     "metadata": {},
     "output_type": "execute_result"
    }
   ],
   "source": [
    "from sklearn.feature_selection import VarianceThreshold, SelectKBest, chi2\n",
    "from sklearn.metrics import f1_score\n",
    "vt = VarianceThreshold(threshold=(.8 * (1 - .8)))\n",
    "X_train_vt = vt.fit_transform(X_train)\n",
    "X_valid_vt = vt.transform(X_valid)\n",
    "X_train_vt"
   ],
   "metadata": {
    "collapsed": false,
    "pycharm": {
     "name": "#%%\n"
    }
   }
  },
  {
   "cell_type": "code",
   "execution_count": 18,
   "outputs": [
    {
     "data": {
      "text/plain": "array([[ 1.7160000e+03,  1.2432000e+05,  4.2000000e+01, ...,\n         1.7022000e+04,  6.8305800e+05,  1.3600000e+02],\n       [ 1.0800000e+02,  1.8530500e+05,  2.1294632e+01, ...,\n        -1.0000000e+00,  2.1580500e+05,  1.4000000e+01],\n       [ 6.0000000e+00,  0.0000000e+00,  0.0000000e+00, ...,\n         0.0000000e+00,  0.0000000e+00,  0.0000000e+00],\n       ...,\n       [ 1.9000000e+01,  0.0000000e+00,  0.0000000e+00, ...,\n        -1.0000000e+00,  0.0000000e+00,  0.0000000e+00],\n       [-1.0000000e+00,  1.2560000e+03,  1.0000000e+00, ...,\n         0.0000000e+00, -1.0000000e+00, -1.0000000e+00],\n       [ 7.0620000e+03,  0.0000000e+00,  0.0000000e+00, ...,\n         0.0000000e+00,  0.0000000e+00,  0.0000000e+00]])"
     },
     "execution_count": 18,
     "metadata": {},
     "output_type": "execute_result"
    }
   ],
   "source": [
    "from sklearn.ensemble import ExtraTreesClassifier\n",
    "from sklearn.feature_selection import SelectFromModel\n",
    "\n",
    "feature_selection_tree = ExtraTreesClassifier(n_estimators=50)\n",
    "feature_selection_tree.fit(X_train_vt, y_train)\n",
    "feature_selection_tree.feature_importances_\n",
    "feature_selection_model = SelectFromModel(feature_selection_tree, prefit=True)\n",
    "X_train_selected = feature_selection_model.transform(X_train_vt)\n",
    "X_valid_selected = feature_selection_model.transform(X_valid_vt)\n",
    "X_train_selected\n"
   ],
   "metadata": {
    "collapsed": false,
    "pycharm": {
     "name": "#%%\n"
    }
   }
  },
  {
   "cell_type": "code",
   "execution_count": 28,
   "outputs": [
    {
     "data": {
      "text/plain": "0    19170\n1    19170\nName: VV, dtype: int64"
     },
     "execution_count": 28,
     "metadata": {},
     "output_type": "execute_result"
    }
   ],
   "source": [
    "from imblearn.over_sampling import SMOTE, BorderlineSMOTE,SVMSMOTE\n",
    "oversample = SVMSMOTE()\n",
    "X_over, y_over = oversample.fit_resample(X_train_selected, y_train)\n",
    "y_over.value_counts()"
   ],
   "metadata": {
    "collapsed": false,
    "pycharm": {
     "name": "#%%\n"
    }
   }
  },
  {
   "cell_type": "code",
   "execution_count": 29,
   "outputs": [
    {
     "name": "stdout",
     "output_type": "stream",
     "text": [
      "0.9978358928897348\n",
      "0.27831715210355984\n"
     ]
    }
   ],
   "source": [
    "from sklearn.ensemble import RandomForestClassifier\n",
    "random_seed = 42\n",
    "rfc = RandomForestClassifier(random_state=random_seed)\n",
    "rfc.fit(X_over, y_over)\n",
    "\n",
    "y_train_pred = rfc.predict(X_over)\n",
    "y_valid_pred = rfc.predict(X_valid_selected)\n",
    "\n",
    "from sklearn.metrics import f1_score\n",
    "print(f1_score(y_over, y_train_pred))\n",
    "print(f1_score(y_valid, y_valid_pred))"
   ],
   "metadata": {
    "collapsed": false,
    "pycharm": {
     "name": "#%%\n"
    }
   }
  },
  {
   "cell_type": "code",
   "execution_count": null,
   "outputs": [],
   "source": [
    "#max_depth\n",
    "#min_sample_split\n",
    "#max_leaf_nodes\n",
    "#min_samples_leaf\n",
    "#n_estimators\n",
    "#max_sample (bootstrap sample)\n",
    "#max_features"
   ],
   "metadata": {
    "collapsed": false,
    "pycharm": {
     "name": "#%%\n"
    }
   }
  },
  {
   "cell_type": "code",
   "execution_count": 32,
   "outputs": [],
   "source": [
    "import matplotlib.pyplot as plt\n",
    "import warnings\n",
    "warnings.filterwarnings(\"ignore\")\n",
    "from sklearn.model_selection import validation_curve\n",
    "param_range = [int(x) for x in np.linspace(start=3, stop=15, num=13)]\n",
    "train_scores, test_scores = validation_curve(estimator=rfc,X=X_train_selected, y=y_train,\n",
    "                                         param_name='max_depth',\n",
    "                                         param_range=param_range,\n",
    "                                         scoring='f1',\n",
    "                                             cv=10)\n",
    "train_mean = np.mean(train_scores, axis=1)\n",
    "train_std = np.std(train_scores, axis=1)\n",
    "test_mean = np.mean(test_scores, axis=1)\n",
    "test_std = np.std(test_scores, axis=1)"
   ],
   "metadata": {
    "collapsed": false,
    "pycharm": {
     "name": "#%%\n"
    }
   }
  },
  {
   "cell_type": "code",
   "execution_count": 36,
   "outputs": [
    {
     "data": {
      "text/plain": "<Figure size 432x288 with 1 Axes>",
      "image/png": "[encoded data removed]"
     },
     "metadata": {
      "needs_background": "light"
     },
     "output_type": "display_data"
    }
   ],
   "source": [
    "plt.plot(param_range, train_mean, color='blue', marker='o', markersize=5, label='Training Accuracy')\n",
    "plt.fill_between(param_range, train_mean + train_std, train_mean - train_std, alpha=0.15, color='blue')\n",
    "plt.plot(param_range, test_mean, color='green', marker='s', linestyle='--', markersize=5, label='Validation Accuracy')\n",
    "plt.fill_between(param_range, test_mean + test_std, test_mean - test_std, alpha=0.15, color='green')\n",
    "plt.grid()\n",
    "plt.xlabel(\"Max Depth\")\n",
    "plt.ylabel(\"F1 Score\")\n",
    "plt.legend(loc='upper left')\n",
    "plt.ylim([0.1, 1.0])\n",
    "plt.show()"
   ],
   "metadata": {
    "collapsed": false,
    "pycharm": {
     "name": "#%%\n"
    }
   }
  }
 ],
 "metadata": {
  "kernelspec": {
   "display_name": "Python 3",
   "language": "python",
   "name": "python3"
  },
  "language_info": {
   "codemirror_mode": {
    "name": "ipython",
    "version": 2
   },
   "file_extension": ".py",
   "mimetype": "text/x-python",
   "name": "python",
   "nbconvert_exporter": "python",
   "pygments_lexer": "ipython2",
   "version": "2.7.6"
  }
 },
 "nbformat": 4,
 "nbformat_minor": 0
}
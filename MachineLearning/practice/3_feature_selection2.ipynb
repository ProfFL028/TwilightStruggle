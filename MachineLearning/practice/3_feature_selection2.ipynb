{
 "cells": [
  {
   "cell_type": "code",
   "execution_count": 1,
   "metadata": {
    "collapsed": true
   },
   "outputs": [],
   "source": [
    "import pandas as pd\n",
    "\n",
    "from DataPreprocessing import *"
   ]
  },
  {
   "cell_type": "code",
   "execution_count": 41,
   "outputs": [
    {
     "data": {
      "text/plain": "          ID   area   ck ck-saveall ck-drawall ck-savetime ck-drawtime ck-saveavg ck-drawavg ck-avg  ... dep-avg dep-9201 fed-9201 fed-avg comp ck-changame dep-changame ck-changtime dep-changtime VV\n0          3    709    0          ?        NaN           ?           ?          0        NaN      ?  ...       0        0      NaN       0    0           0            0            0             0  0\n1          4      .  NaN          0          0           0         NaN          0          0      ?  ...       0        ?        ?       0    0           0            0            0             0  0\n2          5    616    ?          0          .           0           0          0        NaN      0  ...       0      NaN        0       .    0           0            0            0             .  0\n3          6    615    0          0          0           ?         NaN          ?          0      0  ...       0        0        0     NaN    0           0            0            0             0  0\n4          7      .    0          0          0         NaN           .          ?          0    NaN  ...       0        0        0       0    ?           0            0            ?             0  0\n...      ...    ...  ...        ...        ...         ...         ...        ...        ...    ...  ...     ...      ...      ...     ...  ...         ...          ...          ...           ... ..\n26139  32678    111    ?          0          ?           0           .          0          0      0  ...    1443        0        ?       .    0           ?            0            0             .  0\n26140  32679  83000    0          ?          0           0           0          0          .      0  ...   25566        0        0       ?    0           0            ?            0             0  0\n26141  32680  10400    0          0          0           0           0          0          0      0  ...    2173        0        0       0    0           0            0            0             0  0\n26142  32681      .    0          0          ?           0           .          0          0      0  ...       ?        0        0       ?    ?           0            0            0             0  0\n26143  32682      ?  NaN          0          0           ?           ?          0          0   1149  ...       0        0        ?       ?    0           0            0            .             ?  0\n\n[26144 rows x 26 columns]",
      "text/html": "<div>\n<style scoped>\n    .dataframe tbody tr th:only-of-type {\n        vertical-align: middle;\n    }\n\n    .dataframe tbody tr th {\n        vertical-align: top;\n    }\n\n    .dataframe thead th {\n        text-align: right;\n    }\n</style>\n<table border=\"1\" class=\"dataframe\">\n  <thead>\n    <tr style=\"text-align: right;\">\n      <th></th>\n      <th>ID</th>\n      <th>area</th>\n      <th>ck</th>\n      <th>ck-saveall</th>\n      <th>ck-drawall</th>\n      <th>ck-savetime</th>\n      <th>ck-drawtime</th>\n      <th>ck-saveavg</th>\n      <th>ck-drawavg</th>\n      <th>ck-avg</th>\n      <th>...</th>\n      <th>dep-avg</th>\n      <th>dep-9201</th>\n      <th>fed-9201</th>\n      <th>fed-avg</th>\n      <th>comp</th>\n      <th>ck-changame</th>\n      <th>dep-changame</th>\n      <th>ck-changtime</th>\n      <th>dep-changtime</th>\n      <th>VV</th>\n    </tr>\n  </thead>\n  <tbody>\n    <tr>\n      <th>0</th>\n      <td>3</td>\n      <td>709</td>\n      <td>0</td>\n      <td>?</td>\n      <td>NaN</td>\n      <td>?</td>\n      <td>?</td>\n      <td>0</td>\n      <td>NaN</td>\n      <td>?</td>\n      <td>...</td>\n      <td>0</td>\n      <td>0</td>\n      <td>NaN</td>\n      <td>0</td>\n      <td>0</td>\n      <td>0</td>\n      <td>0</td>\n      <td>0</td>\n      <td>0</td>\n      <td>0</td>\n    </tr>\n    <tr>\n      <th>1</th>\n      <td>4</td>\n      <td>.</td>\n      <td>NaN</td>\n      <td>0</td>\n      <td>0</td>\n      <td>0</td>\n      <td>NaN</td>\n      <td>0</td>\n      <td>0</td>\n      <td>?</td>\n      <td>...</td>\n      <td>0</td>\n      <td>?</td>\n      <td>?</td>\n      <td>0</td>\n      <td>0</td>\n      <td>0</td>\n      <td>0</td>\n      <td>0</td>\n      <td>0</td>\n      <td>0</td>\n    </tr>\n    <tr>\n      <th>2</th>\n      <td>5</td>\n      <td>616</td>\n      <td>?</td>\n      <td>0</td>\n      <td>.</td>\n      <td>0</td>\n      <td>0</td>\n      <td>0</td>\n      <td>NaN</td>\n      <td>0</td>\n      <td>...</td>\n      <td>0</td>\n      <td>NaN</td>\n      <td>0</td>\n      <td>.</td>\n      <td>0</td>\n      <td>0</td>\n      <td>0</td>\n      <td>0</td>\n      <td>.</td>\n      <td>0</td>\n    </tr>\n    <tr>\n      <th>3</th>\n      <td>6</td>\n      <td>615</td>\n      <td>0</td>\n      <td>0</td>\n      <td>0</td>\n      <td>?</td>\n      <td>NaN</td>\n      <td>?</td>\n      <td>0</td>\n      <td>0</td>\n      <td>...</td>\n      <td>0</td>\n      <td>0</td>\n      <td>0</td>\n      <td>NaN</td>\n      <td>0</td>\n      <td>0</td>\n      <td>0</td>\n      <td>0</td>\n      <td>0</td>\n      <td>0</td>\n    </tr>\n    <tr>\n      <th>4</th>\n      <td>7</td>\n      <td>.</td>\n      <td>0</td>\n      <td>0</td>\n      <td>0</td>\n      <td>NaN</td>\n      <td>.</td>\n      <td>?</td>\n      <td>0</td>\n      <td>NaN</td>\n      <td>...</td>\n      <td>0</td>\n      <td>0</td>\n      <td>0</td>\n      <td>0</td>\n      <td>?</td>\n      <td>0</td>\n      <td>0</td>\n      <td>?</td>\n      <td>0</td>\n      <td>0</td>\n    </tr>\n    <tr>\n      <th>...</th>\n      <td>...</td>\n      <td>...</td>\n      <td>...</td>\n      <td>...</td>\n      <td>...</td>\n      <td>...</td>\n      <td>...</td>\n      <td>...</td>\n      <td>...</td>\n      <td>...</td>\n      <td>...</td>\n      <td>...</td>\n      <td>...</td>\n      <td>...</td>\n      <td>...</td>\n      <td>...</td>\n      <td>...</td>\n      <td>...</td>\n      <td>...</td>\n      <td>...</td>\n      <td>...</td>\n    </tr>\n    <tr>\n      <th>26139</th>\n      <td>32678</td>\n      <td>111</td>\n      <td>?</td>\n      <td>0</td>\n      <td>?</td>\n      <td>0</td>\n      <td>.</td>\n      <td>0</td>\n      <td>0</td>\n      <td>0</td>\n      <td>...</td>\n      <td>1443</td>\n      <td>0</td>\n      <td>?</td>\n      <td>.</td>\n      <td>0</td>\n      <td>?</td>\n      <td>0</td>\n      <td>0</td>\n      <td>.</td>\n      <td>0</td>\n    </tr>\n    <tr>\n      <th>26140</th>\n      <td>32679</td>\n      <td>83000</td>\n      <td>0</td>\n      <td>?</td>\n      <td>0</td>\n      <td>0</td>\n      <td>0</td>\n      <td>0</td>\n      <td>.</td>\n      <td>0</td>\n      <td>...</td>\n      <td>25566</td>\n      <td>0</td>\n      <td>0</td>\n      <td>?</td>\n      <td>0</td>\n      <td>0</td>\n      <td>?</td>\n      <td>0</td>\n      <td>0</td>\n      <td>0</td>\n    </tr>\n    <tr>\n      <th>26141</th>\n      <td>32680</td>\n      <td>10400</td>\n      <td>0</td>\n      <td>0</td>\n      <td>0</td>\n      <td>0</td>\n      <td>0</td>\n      <td>0</td>\n      <td>0</td>\n      <td>0</td>\n      <td>...</td>\n      <td>2173</td>\n      <td>0</td>\n      <td>0</td>\n      <td>0</td>\n      <td>0</td>\n      <td>0</td>\n      <td>0</td>\n      <td>0</td>\n      <td>0</td>\n      <td>0</td>\n    </tr>\n    <tr>\n      <th>26142</th>\n      <td>32681</td>\n      <td>.</td>\n      <td>0</td>\n      <td>0</td>\n      <td>?</td>\n      <td>0</td>\n      <td>.</td>\n      <td>0</td>\n      <td>0</td>\n      <td>0</td>\n      <td>...</td>\n      <td>?</td>\n      <td>0</td>\n      <td>0</td>\n      <td>?</td>\n      <td>?</td>\n      <td>0</td>\n      <td>0</td>\n      <td>0</td>\n      <td>0</td>\n      <td>0</td>\n    </tr>\n    <tr>\n      <th>26143</th>\n      <td>32682</td>\n      <td>?</td>\n      <td>NaN</td>\n      <td>0</td>\n      <td>0</td>\n      <td>?</td>\n      <td>?</td>\n      <td>0</td>\n      <td>0</td>\n      <td>1149</td>\n      <td>...</td>\n      <td>0</td>\n      <td>0</td>\n      <td>?</td>\n      <td>?</td>\n      <td>0</td>\n      <td>0</td>\n      <td>0</td>\n      <td>.</td>\n      <td>?</td>\n      <td>0</td>\n    </tr>\n  </tbody>\n</table>\n<p>26144 rows × 26 columns</p>\n</div>"
     },
     "execution_count": 41,
     "metadata": {},
     "output_type": "execute_result"
    }
   ],
   "source": [
    "df = pd.read_csv(\"./data/3_train.csv\")\n",
    "df"
   ],
   "metadata": {
    "collapsed": false,
    "pycharm": {
     "name": "#%%\n"
    }
   }
  },
  {
   "cell_type": "code",
   "execution_count": 2,
   "outputs": [
    {
     "name": "stdout",
     "output_type": "stream",
     "text": [
      "加载数据\n",
      "---------------------------------\n",
      "如果报错，请检查文件相对路径:\n",
      "/Users/proffl/TwilightStruggle/MachineLearning/practice/./data/3_train.csv\n",
      "合计：26144行， 25列\n",
      "前五行数据为（如果显示乱码，用dp.load_data(..., encoding='utf-8')等重新尝试：\n",
      "   area   ck ck-saveall ck-drawall ck-savetime ck-drawtime ck-saveavg ck-drawavg ck-avg dep-saveall  ... dep-avg dep-9201 fed-9201 fed-avg comp ck-changame dep-changame ck-changtime dep-changtime VV\n",
      "ID                                                                                                   ...                                                                                              \n",
      "3   709    0          ?        NaN           ?           ?          0        NaN      ?           0  ...       0        0      NaN       0    0           0            0            0             0  0\n",
      "4     .  NaN          0          0           0         NaN          0          0      ?           0  ...       0        ?        ?       0    0           0            0            0             0  0\n",
      "5   616    ?          0          .           0           0          0        NaN      0           0  ...       0      NaN        0       .    0           0            0            0             .  0\n",
      "6   615    0          0          0           ?         NaN          ?          0      0           0  ...       0        0        0     NaN    0           0            0            0             0  0\n",
      "7     .    0          0          0         NaN           .          ?          0    NaN           ?  ...       0        0        0       0    ?           0            0            ?             0  0\n",
      "\n",
      "[5 rows x 25 columns]\n"
     ]
    },
    {
     "data": {
      "text/plain": "(26144, 25)"
     },
     "execution_count": 2,
     "metadata": {},
     "output_type": "execute_result"
    }
   ],
   "source": [
    "dp = DataPreprocessing()\n",
    "dp.load_data(\"./data/3_train.csv\", './data/3_test.csv', index_col='ID')"
   ],
   "metadata": {
    "collapsed": false,
    "pycharm": {
     "name": "#%%\n"
    }
   }
  },
  {
   "cell_type": "code",
   "execution_count": 55,
   "outputs": [
    {
     "data": {
      "text/plain": "       area_1  area_2  area_3  area_4  area_5  area_6  area_7  area_8  area_9  area_0\n0           0       0       0       0       0       0       1       0       0       0\n1           0       0       0       0       0       0       0       0       0       1\n2           0       0       0       0       0       1       0       0       0       0\n3           0       0       0       0       0       1       0       0       0       0\n4           0       0       0       0       0       0       0       0       0       1\n...       ...     ...     ...     ...     ...     ...     ...     ...     ...     ...\n26139       1       0       0       0       0       0       0       0       0       0\n26140       0       0       0       0       0       0       0       1       0       0\n26141       1       0       0       0       0       0       0       0       0       0\n26142       0       0       0       0       0       0       0       0       0       1\n26143       0       0       0       0       0       0       0       0       0       1\n\n[26144 rows x 10 columns]",
      "text/html": "<div>\n<style scoped>\n    .dataframe tbody tr th:only-of-type {\n        vertical-align: middle;\n    }\n\n    .dataframe tbody tr th {\n        vertical-align: top;\n    }\n\n    .dataframe thead th {\n        text-align: right;\n    }\n</style>\n<table border=\"1\" class=\"dataframe\">\n  <thead>\n    <tr style=\"text-align: right;\">\n      <th></th>\n      <th>area_1</th>\n      <th>area_2</th>\n      <th>area_3</th>\n      <th>area_4</th>\n      <th>area_5</th>\n      <th>area_6</th>\n      <th>area_7</th>\n      <th>area_8</th>\n      <th>area_9</th>\n      <th>area_0</th>\n    </tr>\n  </thead>\n  <tbody>\n    <tr>\n      <th>0</th>\n      <td>0</td>\n      <td>0</td>\n      <td>0</td>\n      <td>0</td>\n      <td>0</td>\n      <td>0</td>\n      <td>1</td>\n      <td>0</td>\n      <td>0</td>\n      <td>0</td>\n    </tr>\n    <tr>\n      <th>1</th>\n      <td>0</td>\n      <td>0</td>\n      <td>0</td>\n      <td>0</td>\n      <td>0</td>\n      <td>0</td>\n      <td>0</td>\n      <td>0</td>\n      <td>0</td>\n      <td>1</td>\n    </tr>\n    <tr>\n      <th>2</th>\n      <td>0</td>\n      <td>0</td>\n      <td>0</td>\n      <td>0</td>\n      <td>0</td>\n      <td>1</td>\n      <td>0</td>\n      <td>0</td>\n      <td>0</td>\n      <td>0</td>\n    </tr>\n    <tr>\n      <th>3</th>\n      <td>0</td>\n      <td>0</td>\n      <td>0</td>\n      <td>0</td>\n      <td>0</td>\n      <td>1</td>\n      <td>0</td>\n      <td>0</td>\n      <td>0</td>\n      <td>0</td>\n    </tr>\n    <tr>\n      <th>4</th>\n      <td>0</td>\n      <td>0</td>\n      <td>0</td>\n      <td>0</td>\n      <td>0</td>\n      <td>0</td>\n      <td>0</td>\n      <td>0</td>\n      <td>0</td>\n      <td>1</td>\n    </tr>\n    <tr>\n      <th>...</th>\n      <td>...</td>\n      <td>...</td>\n      <td>...</td>\n      <td>...</td>\n      <td>...</td>\n      <td>...</td>\n      <td>...</td>\n      <td>...</td>\n      <td>...</td>\n      <td>...</td>\n    </tr>\n    <tr>\n      <th>26139</th>\n      <td>1</td>\n      <td>0</td>\n      <td>0</td>\n      <td>0</td>\n      <td>0</td>\n      <td>0</td>\n      <td>0</td>\n      <td>0</td>\n      <td>0</td>\n      <td>0</td>\n    </tr>\n    <tr>\n      <th>26140</th>\n      <td>0</td>\n      <td>0</td>\n      <td>0</td>\n      <td>0</td>\n      <td>0</td>\n      <td>0</td>\n      <td>0</td>\n      <td>1</td>\n      <td>0</td>\n      <td>0</td>\n    </tr>\n    <tr>\n      <th>26141</th>\n      <td>1</td>\n      <td>0</td>\n      <td>0</td>\n      <td>0</td>\n      <td>0</td>\n      <td>0</td>\n      <td>0</td>\n      <td>0</td>\n      <td>0</td>\n      <td>0</td>\n    </tr>\n    <tr>\n      <th>26142</th>\n      <td>0</td>\n      <td>0</td>\n      <td>0</td>\n      <td>0</td>\n      <td>0</td>\n      <td>0</td>\n      <td>0</td>\n      <td>0</td>\n      <td>0</td>\n      <td>1</td>\n    </tr>\n    <tr>\n      <th>26143</th>\n      <td>0</td>\n      <td>0</td>\n      <td>0</td>\n      <td>0</td>\n      <td>0</td>\n      <td>0</td>\n      <td>0</td>\n      <td>0</td>\n      <td>0</td>\n      <td>1</td>\n    </tr>\n  </tbody>\n</table>\n<p>26144 rows × 10 columns</p>\n</div>"
     },
     "execution_count": 55,
     "metadata": {},
     "output_type": "execute_result"
    }
   ],
   "source": [
    "def area_handler(area):\n",
    "    str_area = str(area).strip()\n",
    "    if str_area in ['.', '?', 'nan']:\n",
    "        return str(\"0\")\n",
    "    if len(str_area) == 0:\n",
    "        return str(\"0\")\n",
    "    return int(str_area[:1]) # int(), float()\n",
    "df['area_new'] = df['area'].apply(lambda area: area_handler(area))\n",
    "df_area = pd.get_dummies(df['area_new'], drop_first=True, prefix='area')\n",
    "df_area"
   ],
   "metadata": {
    "collapsed": false,
    "pycharm": {
     "name": "#%%\n"
    }
   }
  },
  {
   "cell_type": "code",
   "execution_count": null,
   "outputs": [],
   "source": [
    "# 重复\n",
    "# data_area = dp.data['area'].apply(lambda area: area_handler(str(area))).astype(str)\n",
    "# data_area1 = data_area.apply(lambda area: area[:1])\n",
    "# data_area1 = pd.get_dummies(data_area1, prefix='area')\n",
    "# data_area1\n",
    "# ddd = pd.concat([df_area, df], axis=1)\n",
    "# ddd\n"
   ],
   "metadata": {
    "collapsed": false,
    "pycharm": {
     "name": "#%%\n"
    }
   }
  },
  {
   "cell_type": "code",
   "execution_count": 68,
   "outputs": [
    {
     "data": {
      "text/plain": "       0    1    2\n0      0 0.00 0.00\n1      0 0.00 0.00\n2      0 0.00 0.00\n3      0 0.00 0.00\n4      0 0.00 0.00\n...   ..  ...  ...\n26139  0 0.00 0.00\n26140  0 0.00 0.00\n26141  0 0.00 0.00\n26142  0 0.00 0.00\n26143  0 0.00 0.00\n\n[26144 rows x 3 columns]",
      "text/html": "<div>\n<style scoped>\n    .dataframe tbody tr th:only-of-type {\n        vertical-align: middle;\n    }\n\n    .dataframe tbody tr th {\n        vertical-align: top;\n    }\n\n    .dataframe thead th {\n        text-align: right;\n    }\n</style>\n<table border=\"1\" class=\"dataframe\">\n  <thead>\n    <tr style=\"text-align: right;\">\n      <th></th>\n      <th>0</th>\n      <th>1</th>\n      <th>2</th>\n    </tr>\n  </thead>\n  <tbody>\n    <tr>\n      <th>0</th>\n      <td>0</td>\n      <td>0.00</td>\n      <td>0.00</td>\n    </tr>\n    <tr>\n      <th>1</th>\n      <td>0</td>\n      <td>0.00</td>\n      <td>0.00</td>\n    </tr>\n    <tr>\n      <th>2</th>\n      <td>0</td>\n      <td>0.00</td>\n      <td>0.00</td>\n    </tr>\n    <tr>\n      <th>3</th>\n      <td>0</td>\n      <td>0.00</td>\n      <td>0.00</td>\n    </tr>\n    <tr>\n      <th>4</th>\n      <td>0</td>\n      <td>0.00</td>\n      <td>0.00</td>\n    </tr>\n    <tr>\n      <th>...</th>\n      <td>...</td>\n      <td>...</td>\n      <td>...</td>\n    </tr>\n    <tr>\n      <th>26139</th>\n      <td>0</td>\n      <td>0.00</td>\n      <td>0.00</td>\n    </tr>\n    <tr>\n      <th>26140</th>\n      <td>0</td>\n      <td>0.00</td>\n      <td>0.00</td>\n    </tr>\n    <tr>\n      <th>26141</th>\n      <td>0</td>\n      <td>0.00</td>\n      <td>0.00</td>\n    </tr>\n    <tr>\n      <th>26142</th>\n      <td>0</td>\n      <td>0.00</td>\n      <td>0.00</td>\n    </tr>\n    <tr>\n      <th>26143</th>\n      <td>0</td>\n      <td>0.00</td>\n      <td>0.00</td>\n    </tr>\n  </tbody>\n</table>\n<p>26144 rows × 3 columns</p>\n</div>"
     },
     "execution_count": 68,
     "metadata": {},
     "output_type": "execute_result"
    }
   ],
   "source": [
    "def numeric_to_int(x, na_val=-1):\n",
    "    import sys\n",
    "    if x is None:\n",
    "        return na_val\n",
    "    if type(x) == str:\n",
    "        if x in ['?', '.', 'NaN']:\n",
    "            return na_val\n",
    "        try:\n",
    "            result = int(x)\n",
    "        except ValueError:\n",
    "            result = sys.maxsize\n",
    "        return result\n",
    "    if np.isnan(x):\n",
    "        return na_val\n",
    "    return min(x, sys.maxsize)\n",
    "\n",
    "def multi_fit(x, y, z):\n",
    "    newx = numeric_to_int(x)\n",
    "    newy = numeric_to_int(y)\n",
    "    newz = numeric_to_int(z)\n",
    "    if newx == -1:\n",
    "        if newy != -1 and newz != -1:\n",
    "            newx = newy * newz\n",
    "    if newy == -1:\n",
    "        if newx != -1 and newz > 0:\n",
    "            newy = newx / newz\n",
    "    if newz == -1:\n",
    "        if newx != -1 and newy > 0:\n",
    "            newz = newx / newy\n",
    "    if (newx == -1 or newx == 0) and (newy == -1 or newy == 0) and (newz == -1 or newz == 0):\n",
    "        newx = newy = newz = 0\n",
    "\n",
    "    return newx, newy, newz\n",
    "data_ck_saveall, data_ck_savetime, data_ck_saveavg = \\\n",
    "    zip(*dp.data.apply(lambda row: multi_fit(row['ck-saveall'], row['ck-savetime'], row['ck-saveavg']), axis=1))\n",
    "data_ckall = pd.concat([pd.Series(data_ck_saveall), pd.Series(data_ck_savetime), pd.Series(data_ck_saveavg)], axis=1)\n",
    "data_ckall.set_index(dp.data.index)\n",
    "\n",
    "data_ckall"
   ],
   "metadata": {
    "collapsed": false,
    "pycharm": {
     "name": "#%%\n"
    }
   }
  },
  {
   "cell_type": "code",
   "execution_count": 5,
   "outputs": [
    {
     "data": {
      "text/plain": "       ck-saveall  ck-savetime  ck-saveavg\nID                                        \n21      467496.00        18.00    25972.00\n90      100160.00         9.00    11129.00\n195   12181361.00       107.00   113844.50\n205    2252177.00        34.00    66240.50\n207    1390844.00        28.00    49673.00\n...           ...          ...         ...\n32608    70000.00         1.00    70000.00\n32629   950128.00        19.00    50007.00\n32647   182369.00         7.00    49808.40\n32667   872820.00        15.00    58188.00\n32670   600832.00        14.00   105522.81\n\n[3122 rows x 3 columns]",
      "text/html": "<div>\n<style scoped>\n    .dataframe tbody tr th:only-of-type {\n        vertical-align: middle;\n    }\n\n    .dataframe tbody tr th {\n        vertical-align: top;\n    }\n\n    .dataframe thead th {\n        text-align: right;\n    }\n</style>\n<table border=\"1\" class=\"dataframe\">\n  <thead>\n    <tr style=\"text-align: right;\">\n      <th></th>\n      <th>ck-saveall</th>\n      <th>ck-savetime</th>\n      <th>ck-saveavg</th>\n    </tr>\n    <tr>\n      <th>ID</th>\n      <th></th>\n      <th></th>\n      <th></th>\n    </tr>\n  </thead>\n  <tbody>\n    <tr>\n      <th>21</th>\n      <td>467496.00</td>\n      <td>18.00</td>\n      <td>25972.00</td>\n    </tr>\n    <tr>\n      <th>90</th>\n      <td>100160.00</td>\n      <td>9.00</td>\n      <td>11129.00</td>\n    </tr>\n    <tr>\n      <th>195</th>\n      <td>12181361.00</td>\n      <td>107.00</td>\n      <td>113844.50</td>\n    </tr>\n    <tr>\n      <th>205</th>\n      <td>2252177.00</td>\n      <td>34.00</td>\n      <td>66240.50</td>\n    </tr>\n    <tr>\n      <th>207</th>\n      <td>1390844.00</td>\n      <td>28.00</td>\n      <td>49673.00</td>\n    </tr>\n    <tr>\n      <th>...</th>\n      <td>...</td>\n      <td>...</td>\n      <td>...</td>\n    </tr>\n    <tr>\n      <th>32608</th>\n      <td>70000.00</td>\n      <td>1.00</td>\n      <td>70000.00</td>\n    </tr>\n    <tr>\n      <th>32629</th>\n      <td>950128.00</td>\n      <td>19.00</td>\n      <td>50007.00</td>\n    </tr>\n    <tr>\n      <th>32647</th>\n      <td>182369.00</td>\n      <td>7.00</td>\n      <td>49808.40</td>\n    </tr>\n    <tr>\n      <th>32667</th>\n      <td>872820.00</td>\n      <td>15.00</td>\n      <td>58188.00</td>\n    </tr>\n    <tr>\n      <th>32670</th>\n      <td>600832.00</td>\n      <td>14.00</td>\n      <td>105522.81</td>\n    </tr>\n  </tbody>\n</table>\n<p>3122 rows × 3 columns</p>\n</div>"
     },
     "execution_count": 5,
     "metadata": {},
     "output_type": "execute_result"
    }
   ],
   "source": [
    "from sklearn.impute import KNNImputer\n",
    "ck_knn_im = KNNImputer(missing_values=-1, n_neighbors=10)\n",
    "data_ckall = ck_knn_im.fit_transform(data_ckall)\n",
    "data_ckall = pd.DataFrame(data_ckall, columns=['ck-saveall', 'ck-savetime', 'ck-saveavg'], index=dp.data.index)\n",
    "data_ckall[data_ckall['ck-saveall']>10000]\n"
   ],
   "metadata": {
    "collapsed": false,
    "pycharm": {
     "name": "#%%\n"
    }
   }
  },
  {
   "cell_type": "code",
   "execution_count": 6,
   "outputs": [
    {
     "data": {
      "text/plain": "       0    1    2\nID                \n3      0 0.00 0.00\n4      0 0.00 0.00\n5      0 0.00 0.00\n6      0 0.00 0.00\n7      0 0.00 0.00\n...   ..  ...  ...\n32678  0 0.00 0.00\n32679  0 0.00 0.00\n32680  0 0.00 0.00\n32681  0 0.00 0.00\n32682  0 0.00 0.00\n\n[26144 rows x 3 columns]",
      "text/html": "<div>\n<style scoped>\n    .dataframe tbody tr th:only-of-type {\n        vertical-align: middle;\n    }\n\n    .dataframe tbody tr th {\n        vertical-align: top;\n    }\n\n    .dataframe thead th {\n        text-align: right;\n    }\n</style>\n<table border=\"1\" class=\"dataframe\">\n  <thead>\n    <tr style=\"text-align: right;\">\n      <th></th>\n      <th>0</th>\n      <th>1</th>\n      <th>2</th>\n    </tr>\n    <tr>\n      <th>ID</th>\n      <th></th>\n      <th></th>\n      <th></th>\n    </tr>\n  </thead>\n  <tbody>\n    <tr>\n      <th>3</th>\n      <td>0</td>\n      <td>0.00</td>\n      <td>0.00</td>\n    </tr>\n    <tr>\n      <th>4</th>\n      <td>0</td>\n      <td>0.00</td>\n      <td>0.00</td>\n    </tr>\n    <tr>\n      <th>5</th>\n      <td>0</td>\n      <td>0.00</td>\n      <td>0.00</td>\n    </tr>\n    <tr>\n      <th>6</th>\n      <td>0</td>\n      <td>0.00</td>\n      <td>0.00</td>\n    </tr>\n    <tr>\n      <th>7</th>\n      <td>0</td>\n      <td>0.00</td>\n      <td>0.00</td>\n    </tr>\n    <tr>\n      <th>...</th>\n      <td>...</td>\n      <td>...</td>\n      <td>...</td>\n    </tr>\n    <tr>\n      <th>32678</th>\n      <td>0</td>\n      <td>0.00</td>\n      <td>0.00</td>\n    </tr>\n    <tr>\n      <th>32679</th>\n      <td>0</td>\n      <td>0.00</td>\n      <td>0.00</td>\n    </tr>\n    <tr>\n      <th>32680</th>\n      <td>0</td>\n      <td>0.00</td>\n      <td>0.00</td>\n    </tr>\n    <tr>\n      <th>32681</th>\n      <td>0</td>\n      <td>0.00</td>\n      <td>0.00</td>\n    </tr>\n    <tr>\n      <th>32682</th>\n      <td>0</td>\n      <td>0.00</td>\n      <td>0.00</td>\n    </tr>\n  </tbody>\n</table>\n<p>26144 rows × 3 columns</p>\n</div>"
     },
     "execution_count": 6,
     "metadata": {},
     "output_type": "execute_result"
    }
   ],
   "source": [
    "data_ck_drawall, data_ck_drawtime, data_ck_drawavg = \\\n",
    "    zip(*dp.data.apply(lambda row: multi_fit(row['ck-drawall'], row['ck-drawtime'], row['ck-drawavg']), axis=1))\n",
    "data_drawall = pd.concat([pd.Series(data_ck_drawall), pd.Series(data_ck_drawtime), pd.Series(data_ck_drawavg)], axis=1)\n",
    "data_drawall.set_index(dp.data.index)"
   ],
   "metadata": {
    "collapsed": false,
    "pycharm": {
     "name": "#%%\n"
    }
   }
  },
  {
   "cell_type": "code",
   "execution_count": 7,
   "outputs": [
    {
     "data": {
      "text/plain": "        dk-drawall  dk-drawtime  dk-drawavg\nID                                         \n21       467109.00        17.00    27477.00\n195     8483977.00       162.00    52370.00\n205        7015.00         1.00     7015.00\n207       98526.00         2.00    49263.00\n208   113684621.00        27.00  4210542.00\n...            ...          ...         ...\n32598    307294.00         4.00    76824.00\n32608   2589619.90        55.00    47133.00\n32629    232806.00         6.00    38801.00\n32667    397344.00        20.00    19867.00\n32670     12672.00         1.00    12672.00\n\n[3056 rows x 3 columns]",
      "text/html": "<div>\n<style scoped>\n    .dataframe tbody tr th:only-of-type {\n        vertical-align: middle;\n    }\n\n    .dataframe tbody tr th {\n        vertical-align: top;\n    }\n\n    .dataframe thead th {\n        text-align: right;\n    }\n</style>\n<table border=\"1\" class=\"dataframe\">\n  <thead>\n    <tr style=\"text-align: right;\">\n      <th></th>\n      <th>dk-drawall</th>\n      <th>dk-drawtime</th>\n      <th>dk-drawavg</th>\n    </tr>\n    <tr>\n      <th>ID</th>\n      <th></th>\n      <th></th>\n      <th></th>\n    </tr>\n  </thead>\n  <tbody>\n    <tr>\n      <th>21</th>\n      <td>467109.00</td>\n      <td>17.00</td>\n      <td>27477.00</td>\n    </tr>\n    <tr>\n      <th>195</th>\n      <td>8483977.00</td>\n      <td>162.00</td>\n      <td>52370.00</td>\n    </tr>\n    <tr>\n      <th>205</th>\n      <td>7015.00</td>\n      <td>1.00</td>\n      <td>7015.00</td>\n    </tr>\n    <tr>\n      <th>207</th>\n      <td>98526.00</td>\n      <td>2.00</td>\n      <td>49263.00</td>\n    </tr>\n    <tr>\n      <th>208</th>\n      <td>113684621.00</td>\n      <td>27.00</td>\n      <td>4210542.00</td>\n    </tr>\n    <tr>\n      <th>...</th>\n      <td>...</td>\n      <td>...</td>\n      <td>...</td>\n    </tr>\n    <tr>\n      <th>32598</th>\n      <td>307294.00</td>\n      <td>4.00</td>\n      <td>76824.00</td>\n    </tr>\n    <tr>\n      <th>32608</th>\n      <td>2589619.90</td>\n      <td>55.00</td>\n      <td>47133.00</td>\n    </tr>\n    <tr>\n      <th>32629</th>\n      <td>232806.00</td>\n      <td>6.00</td>\n      <td>38801.00</td>\n    </tr>\n    <tr>\n      <th>32667</th>\n      <td>397344.00</td>\n      <td>20.00</td>\n      <td>19867.00</td>\n    </tr>\n    <tr>\n      <th>32670</th>\n      <td>12672.00</td>\n      <td>1.00</td>\n      <td>12672.00</td>\n    </tr>\n  </tbody>\n</table>\n<p>3056 rows × 3 columns</p>\n</div>"
     },
     "execution_count": 7,
     "metadata": {},
     "output_type": "execute_result"
    }
   ],
   "source": [
    "dk_knn_im = KNNImputer(missing_values=-1, n_neighbors=10)\n",
    "data_drawall = dk_knn_im.fit_transform(data_drawall)\n",
    "data_drawall = pd.DataFrame(data_drawall, columns=['dk-drawall', 'dk-drawtime', 'dk-drawavg'], index=dp.data.index)\n",
    "data_drawall[data_drawall['dk-drawall']>0]"
   ],
   "metadata": {
    "collapsed": false,
    "pycharm": {
     "name": "#%%\n"
    }
   }
  },
  {
   "cell_type": "code",
   "execution_count": 8,
   "outputs": [
    {
     "data": {
      "text/plain": "       dep-saveall  dep-savetime  depsaveavg\nID                                          \n137     3185841.00         27.00   117994.00\n152      129609.00          1.00   129609.00\n158      400000.00          2.00   200000.00\n163      284651.00          5.00    56930.20\n165     1961800.00         54.50    96868.42\n...            ...           ...         ...\n32671  50236758.00        319.00   157482.00\n32674   1474469.00         10.00   147447.00\n32675    236055.00         21.00    11241.00\n32677    758252.00         18.00    42125.00\n32679    160748.00         14.00    11482.00\n\n[9526 rows x 3 columns]",
      "text/html": "<div>\n<style scoped>\n    .dataframe tbody tr th:only-of-type {\n        vertical-align: middle;\n    }\n\n    .dataframe tbody tr th {\n        vertical-align: top;\n    }\n\n    .dataframe thead th {\n        text-align: right;\n    }\n</style>\n<table border=\"1\" class=\"dataframe\">\n  <thead>\n    <tr style=\"text-align: right;\">\n      <th></th>\n      <th>dep-saveall</th>\n      <th>dep-savetime</th>\n      <th>depsaveavg</th>\n    </tr>\n    <tr>\n      <th>ID</th>\n      <th></th>\n      <th></th>\n      <th></th>\n    </tr>\n  </thead>\n  <tbody>\n    <tr>\n      <th>137</th>\n      <td>3185841.00</td>\n      <td>27.00</td>\n      <td>117994.00</td>\n    </tr>\n    <tr>\n      <th>152</th>\n      <td>129609.00</td>\n      <td>1.00</td>\n      <td>129609.00</td>\n    </tr>\n    <tr>\n      <th>158</th>\n      <td>400000.00</td>\n      <td>2.00</td>\n      <td>200000.00</td>\n    </tr>\n    <tr>\n      <th>163</th>\n      <td>284651.00</td>\n      <td>5.00</td>\n      <td>56930.20</td>\n    </tr>\n    <tr>\n      <th>165</th>\n      <td>1961800.00</td>\n      <td>54.50</td>\n      <td>96868.42</td>\n    </tr>\n    <tr>\n      <th>...</th>\n      <td>...</td>\n      <td>...</td>\n      <td>...</td>\n    </tr>\n    <tr>\n      <th>32671</th>\n      <td>50236758.00</td>\n      <td>319.00</td>\n      <td>157482.00</td>\n    </tr>\n    <tr>\n      <th>32674</th>\n      <td>1474469.00</td>\n      <td>10.00</td>\n      <td>147447.00</td>\n    </tr>\n    <tr>\n      <th>32675</th>\n      <td>236055.00</td>\n      <td>21.00</td>\n      <td>11241.00</td>\n    </tr>\n    <tr>\n      <th>32677</th>\n      <td>758252.00</td>\n      <td>18.00</td>\n      <td>42125.00</td>\n    </tr>\n    <tr>\n      <th>32679</th>\n      <td>160748.00</td>\n      <td>14.00</td>\n      <td>11482.00</td>\n    </tr>\n  </tbody>\n</table>\n<p>9526 rows × 3 columns</p>\n</div>"
     },
     "execution_count": 8,
     "metadata": {},
     "output_type": "execute_result"
    }
   ],
   "source": [
    "data_dep_saveall, data_dep_savetime, data_dep_saveavg = \\\n",
    "    zip(*dp.data.apply(lambda row: multi_fit(row['dep-saveall'], row['dep-savetime'], row['depsaveavg']), axis=1))\n",
    "data_depall = pd.concat([pd.Series(data_dep_saveall), pd.Series(data_dep_savetime), pd.Series(data_dep_saveavg)], axis=1)\n",
    "data_depall.set_index(dp.data.index)\n",
    "\n",
    "\n",
    "dep_knn_im = KNNImputer(missing_values=-1, n_neighbors=10)\n",
    "data_depall = dep_knn_im.fit_transform(data_depall)\n",
    "data_depall = pd.DataFrame(data_depall, columns=['dep-saveall', 'dep-savetime', 'depsaveavg'], index=dp.data.index)\n",
    "data_depall[data_depall['dep-saveall']>0]"
   ],
   "metadata": {
    "collapsed": false,
    "pycharm": {
     "name": "#%%\n"
    }
   }
  },
  {
   "cell_type": "code",
   "execution_count": 9,
   "outputs": [
    {
     "data": {
      "text/plain": "                dep-drawall  dep-drawtime  depdrawavg\nID                                                   \n137              2989500.00         22.00   135886.00\n148               600000.00          1.60   343000.00\n152               534559.00          3.00   178186.00\n155              1200000.00          1.00  1200000.00\n158               537000.00          7.00    76714.00\n...                     ...           ...         ...\n32671           52642773.00         78.00   674907.35\n32674             664000.00          6.00   110666.67\n32675            2411566.00         28.00    86127.00\n32677             595400.00         40.00    14885.00\n32679 922337203685506688.00 4972554392.89     3379.00\n\n[10323 rows x 3 columns]",
      "text/html": "<div>\n<style scoped>\n    .dataframe tbody tr th:only-of-type {\n        vertical-align: middle;\n    }\n\n    .dataframe tbody tr th {\n        vertical-align: top;\n    }\n\n    .dataframe thead th {\n        text-align: right;\n    }\n</style>\n<table border=\"1\" class=\"dataframe\">\n  <thead>\n    <tr style=\"text-align: right;\">\n      <th></th>\n      <th>dep-drawall</th>\n      <th>dep-drawtime</th>\n      <th>depdrawavg</th>\n    </tr>\n    <tr>\n      <th>ID</th>\n      <th></th>\n      <th></th>\n      <th></th>\n    </tr>\n  </thead>\n  <tbody>\n    <tr>\n      <th>137</th>\n      <td>2989500.00</td>\n      <td>22.00</td>\n      <td>135886.00</td>\n    </tr>\n    <tr>\n      <th>148</th>\n      <td>600000.00</td>\n      <td>1.60</td>\n      <td>343000.00</td>\n    </tr>\n    <tr>\n      <th>152</th>\n      <td>534559.00</td>\n      <td>3.00</td>\n      <td>178186.00</td>\n    </tr>\n    <tr>\n      <th>155</th>\n      <td>1200000.00</td>\n      <td>1.00</td>\n      <td>1200000.00</td>\n    </tr>\n    <tr>\n      <th>158</th>\n      <td>537000.00</td>\n      <td>7.00</td>\n      <td>76714.00</td>\n    </tr>\n    <tr>\n      <th>...</th>\n      <td>...</td>\n      <td>...</td>\n      <td>...</td>\n    </tr>\n    <tr>\n      <th>32671</th>\n      <td>52642773.00</td>\n      <td>78.00</td>\n      <td>674907.35</td>\n    </tr>\n    <tr>\n      <th>32674</th>\n      <td>664000.00</td>\n      <td>6.00</td>\n      <td>110666.67</td>\n    </tr>\n    <tr>\n      <th>32675</th>\n      <td>2411566.00</td>\n      <td>28.00</td>\n      <td>86127.00</td>\n    </tr>\n    <tr>\n      <th>32677</th>\n      <td>595400.00</td>\n      <td>40.00</td>\n      <td>14885.00</td>\n    </tr>\n    <tr>\n      <th>32679</th>\n      <td>922337203685506688.00</td>\n      <td>4972554392.89</td>\n      <td>3379.00</td>\n    </tr>\n  </tbody>\n</table>\n<p>10323 rows × 3 columns</p>\n</div>"
     },
     "execution_count": 9,
     "metadata": {},
     "output_type": "execute_result"
    }
   ],
   "source": [
    "data_dep_drawall, data_dep_drawtime, data_dep_drawavg = \\\n",
    "    zip(*dp.data.apply(lambda row: multi_fit(row['dep-drawall'], row['dep-drawtime'], row['depdrawavg']), axis=1))\n",
    "data_depdrawall = pd.concat([pd.Series(data_dep_drawall), pd.Series(data_dep_drawtime), pd.Series(data_dep_drawavg)], axis=1)\n",
    "data_depdrawall.set_index(dp.data.index)\n",
    "dep_draw_knn_im = KNNImputer(missing_values=-1, n_neighbors=10)\n",
    "data_depdrawall = dep_draw_knn_im.fit_transform(data_depdrawall)\n",
    "data_depdrawall = pd.DataFrame(data_depdrawall, columns=['dep-drawall', 'dep-drawtime', 'depdrawavg'], index=dp.data.index)\n",
    "data_depdrawall[data_depdrawall['dep-drawall']>0]\n"
   ],
   "metadata": {
    "collapsed": false,
    "pycharm": {
     "name": "#%%\n"
    }
   }
  },
  {
   "cell_type": "code",
   "execution_count": 10,
   "outputs": [],
   "source": [
    "data_ck_avg = dp.data['ck-avg'].apply(lambda x: numeric_to_int(x))\n",
    "data_dep_avg = dp.data['dep-avg'].apply(lambda x: numeric_to_int(x, na_val=-1))\n",
    "data_dep9201 = dp.data['dep-9201'].apply(lambda x: numeric_to_int(x, na_val=-1))\n",
    "data_fed9201 = dp.data['fed-9201'].apply(lambda x: numeric_to_int(x, na_val=-1))\n",
    "data_fed_avg = dp.data['fed-avg'].apply(lambda x: numeric_to_int(x, na_val=-1))\n",
    "data_ck_changame = dp.data['ck-changame'].apply(lambda x: numeric_to_int(x, na_val=-1))\n",
    "data_dep_changame = dp.data['dep-changame'].apply(lambda x: numeric_to_int(x, na_val=-1))\n",
    "data_ck_changtime = dp.data['ck-changtime'].apply(lambda x: numeric_to_int(x, na_val=-1))\n",
    "data_dep_changtime = dp.data['dep-changtime'].apply(lambda x: numeric_to_int(x, na_val=-1))"
   ],
   "metadata": {
    "collapsed": false,
    "pycharm": {
     "name": "#%%\n"
    }
   }
  },
  {
   "cell_type": "code",
   "execution_count": 17,
   "outputs": [
    {
     "data": {
      "text/plain": "       0.00  1.00  2.00\nID                     \n3         1     0     0\n4         1     0     0\n5         1     0     0\n6         1     0     0\n7         0     0     1\n...     ...   ...   ...\n32678     1     0     0\n32679     1     0     0\n32680     1     0     0\n32681     0     0     1\n32682     1     0     0\n\n[26144 rows x 3 columns]",
      "text/html": "<div>\n<style scoped>\n    .dataframe tbody tr th:only-of-type {\n        vertical-align: middle;\n    }\n\n    .dataframe tbody tr th {\n        vertical-align: top;\n    }\n\n    .dataframe thead th {\n        text-align: right;\n    }\n</style>\n<table border=\"1\" class=\"dataframe\">\n  <thead>\n    <tr style=\"text-align: right;\">\n      <th></th>\n      <th>0.00</th>\n      <th>1.00</th>\n      <th>2.00</th>\n    </tr>\n    <tr>\n      <th>ID</th>\n      <th></th>\n      <th></th>\n      <th></th>\n    </tr>\n  </thead>\n  <tbody>\n    <tr>\n      <th>3</th>\n      <td>1</td>\n      <td>0</td>\n      <td>0</td>\n    </tr>\n    <tr>\n      <th>4</th>\n      <td>1</td>\n      <td>0</td>\n      <td>0</td>\n    </tr>\n    <tr>\n      <th>5</th>\n      <td>1</td>\n      <td>0</td>\n      <td>0</td>\n    </tr>\n    <tr>\n      <th>6</th>\n      <td>1</td>\n      <td>0</td>\n      <td>0</td>\n    </tr>\n    <tr>\n      <th>7</th>\n      <td>0</td>\n      <td>0</td>\n      <td>1</td>\n    </tr>\n    <tr>\n      <th>...</th>\n      <td>...</td>\n      <td>...</td>\n      <td>...</td>\n    </tr>\n    <tr>\n      <th>32678</th>\n      <td>1</td>\n      <td>0</td>\n      <td>0</td>\n    </tr>\n    <tr>\n      <th>32679</th>\n      <td>1</td>\n      <td>0</td>\n      <td>0</td>\n    </tr>\n    <tr>\n      <th>32680</th>\n      <td>1</td>\n      <td>0</td>\n      <td>0</td>\n    </tr>\n    <tr>\n      <th>32681</th>\n      <td>0</td>\n      <td>0</td>\n      <td>1</td>\n    </tr>\n    <tr>\n      <th>32682</th>\n      <td>1</td>\n      <td>0</td>\n      <td>0</td>\n    </tr>\n  </tbody>\n</table>\n<p>26144 rows × 3 columns</p>\n</div>"
     },
     "execution_count": 17,
     "metadata": {},
     "output_type": "execute_result"
    }
   ],
   "source": [
    "comp_mapping = {'0': 0, '?': 2, '1': 1, '.': 2}\n",
    "data_comp = dp.data['comp'].map(comp_mapping)\n",
    "data_comp = pd.get_dummies(data_comp)\n",
    "data_comp"
   ],
   "metadata": {
    "collapsed": false,
    "pycharm": {
     "name": "#%%\n"
    }
   }
  },
  {
   "cell_type": "code",
   "execution_count": 23,
   "outputs": [],
   "source": [
    "data_all = pd.concat([data_area1, data_ckall, data_drawall, data_ck_avg, data_dep_avg,\n",
    "                      data_depall, data_depdrawall,\n",
    "                      data_dep9201, data_fed9201, data_fed_avg, data_ck_changame, data_dep_changame,\n",
    "                      data_ck_changtime, data_dep_changtime], axis=1)"
   ],
   "metadata": {
    "collapsed": false,
    "pycharm": {
     "name": "#%%\n"
    }
   }
  },
  {
   "cell_type": "code",
   "execution_count": 24,
   "outputs": [
    {
     "data": {
      "text/plain": "       area_0  area_1  area_2  area_3  area_4  area_5  area_6  area_7  area_8  area_9  ...           dep-drawall  dep-drawtime  depdrawavg  dep-9201  fed-9201  fed-avg  ck-changame  dep-changame  ck-changtime  dep-changtime\nID                                                                                     ...                                                                                                                                     \n3        0.00    0.00    0.00    0.00    0.00    0.00    0.00    1.00    0.00    0.00  ...                  0.00          0.00        0.00      0.00     -1.00     0.00         0.00          0.00          0.00           0.00\n4        1.00    0.00    0.00    0.00    0.00    0.00    0.00    0.00    0.00    0.00  ...                  0.00          0.00        0.00     -1.00     -1.00     0.00         0.00          0.00          0.00           0.00\n5        0.00    0.00    0.00    0.00    0.00    0.00    1.00    0.00    0.00    0.00  ...                  0.00          0.00        0.00     -1.00      0.00    -1.00         0.00          0.00          0.00          -1.00\n6        0.00    0.00    0.00    0.00    0.00    0.00    1.00    0.00    0.00    0.00  ...                  0.00          0.00        0.00      0.00      0.00    -1.00         0.00          0.00          0.00           0.00\n7        1.00    0.00    0.00    0.00    0.00    0.00    0.00    0.00    0.00    0.00  ...                  0.00          0.00        0.00      0.00      0.00     0.00         0.00          0.00         -1.00           0.00\n...       ...     ...     ...     ...     ...     ...     ...     ...     ...     ...  ...                   ...           ...         ...       ...       ...      ...          ...           ...           ...            ...\n32678    0.00    1.00    0.00    0.00    0.00    0.00    0.00    0.00    0.00    0.00  ...                  0.00          0.00        0.00      0.00     -1.00    -1.00        -1.00          0.00          0.00          -1.00\n32679    0.00    0.00    0.00    0.00    0.00    0.00    0.00    0.00    1.00    0.00  ... 922337203685506688.00 4972554392.89     3379.00      0.00      0.00    -1.00         0.00         -1.00          0.00           0.00\n32680    0.00    1.00    0.00    0.00    0.00    0.00    0.00    0.00    0.00    0.00  ...                  0.00          0.00        0.00      0.00      0.00     0.00         0.00          0.00          0.00           0.00\n32681    1.00    0.00    0.00    0.00    0.00    0.00    0.00    0.00    0.00    0.00  ...                  0.00          0.00        0.00      0.00      0.00    -1.00         0.00          0.00          0.00           0.00\n32682    1.00    0.00    0.00    0.00    0.00    0.00    0.00    0.00    0.00    0.00  ...                  0.00          0.00        0.00      0.00     -1.00    -1.00         0.00          0.00         -1.00          -1.00\n\n[26144 rows x 31 columns]",
      "text/html": "<div>\n<style scoped>\n    .dataframe tbody tr th:only-of-type {\n        vertical-align: middle;\n    }\n\n    .dataframe tbody tr th {\n        vertical-align: top;\n    }\n\n    .dataframe thead th {\n        text-align: right;\n    }\n</style>\n<table border=\"1\" class=\"dataframe\">\n  <thead>\n    <tr style=\"text-align: right;\">\n      <th></th>\n      <th>area_0</th>\n      <th>area_1</th>\n      <th>area_2</th>\n      <th>area_3</th>\n      <th>area_4</th>\n      <th>area_5</th>\n      <th>area_6</th>\n      <th>area_7</th>\n      <th>area_8</th>\n      <th>area_9</th>\n      <th>...</th>\n      <th>dep-drawall</th>\n      <th>dep-drawtime</th>\n      <th>depdrawavg</th>\n      <th>dep-9201</th>\n      <th>fed-9201</th>\n      <th>fed-avg</th>\n      <th>ck-changame</th>\n      <th>dep-changame</th>\n      <th>ck-changtime</th>\n      <th>dep-changtime</th>\n    </tr>\n    <tr>\n      <th>ID</th>\n      <th></th>\n      <th></th>\n      <th></th>\n      <th></th>\n      <th></th>\n      <th></th>\n      <th></th>\n      <th></th>\n      <th></th>\n      <th></th>\n      <th></th>\n      <th></th>\n      <th></th>\n      <th></th>\n      <th></th>\n      <th></th>\n      <th></th>\n      <th></th>\n      <th></th>\n      <th></th>\n      <th></th>\n    </tr>\n  </thead>\n  <tbody>\n    <tr>\n      <th>3</th>\n      <td>0.00</td>\n      <td>0.00</td>\n      <td>0.00</td>\n      <td>0.00</td>\n      <td>0.00</td>\n      <td>0.00</td>\n      <td>0.00</td>\n      <td>1.00</td>\n      <td>0.00</td>\n      <td>0.00</td>\n      <td>...</td>\n      <td>0.00</td>\n      <td>0.00</td>\n      <td>0.00</td>\n      <td>0.00</td>\n      <td>-1.00</td>\n      <td>0.00</td>\n      <td>0.00</td>\n      <td>0.00</td>\n      <td>0.00</td>\n      <td>0.00</td>\n    </tr>\n    <tr>\n      <th>4</th>\n      <td>1.00</td>\n      <td>0.00</td>\n      <td>0.00</td>\n      <td>0.00</td>\n      <td>0.00</td>\n      <td>0.00</td>\n      <td>0.00</td>\n      <td>0.00</td>\n      <td>0.00</td>\n      <td>0.00</td>\n      <td>...</td>\n      <td>0.00</td>\n      <td>0.00</td>\n      <td>0.00</td>\n      <td>-1.00</td>\n      <td>-1.00</td>\n      <td>0.00</td>\n      <td>0.00</td>\n      <td>0.00</td>\n      <td>0.00</td>\n      <td>0.00</td>\n    </tr>\n    <tr>\n      <th>5</th>\n      <td>0.00</td>\n      <td>0.00</td>\n      <td>0.00</td>\n      <td>0.00</td>\n      <td>0.00</td>\n      <td>0.00</td>\n      <td>1.00</td>\n      <td>0.00</td>\n      <td>0.00</td>\n      <td>0.00</td>\n      <td>...</td>\n      <td>0.00</td>\n      <td>0.00</td>\n      <td>0.00</td>\n      <td>-1.00</td>\n      <td>0.00</td>\n      <td>-1.00</td>\n      <td>0.00</td>\n      <td>0.00</td>\n      <td>0.00</td>\n      <td>-1.00</td>\n    </tr>\n    <tr>\n      <th>6</th>\n      <td>0.00</td>\n      <td>0.00</td>\n      <td>0.00</td>\n      <td>0.00</td>\n      <td>0.00</td>\n      <td>0.00</td>\n      <td>1.00</td>\n      <td>0.00</td>\n      <td>0.00</td>\n      <td>0.00</td>\n      <td>...</td>\n      <td>0.00</td>\n      <td>0.00</td>\n      <td>0.00</td>\n      <td>0.00</td>\n      <td>0.00</td>\n      <td>-1.00</td>\n      <td>0.00</td>\n      <td>0.00</td>\n      <td>0.00</td>\n      <td>0.00</td>\n    </tr>\n    <tr>\n      <th>7</th>\n      <td>1.00</td>\n      <td>0.00</td>\n      <td>0.00</td>\n      <td>0.00</td>\n      <td>0.00</td>\n      <td>0.00</td>\n      <td>0.00</td>\n      <td>0.00</td>\n      <td>0.00</td>\n      <td>0.00</td>\n      <td>...</td>\n      <td>0.00</td>\n      <td>0.00</td>\n      <td>0.00</td>\n      <td>0.00</td>\n      <td>0.00</td>\n      <td>0.00</td>\n      <td>0.00</td>\n      <td>0.00</td>\n      <td>-1.00</td>\n      <td>0.00</td>\n    </tr>\n    <tr>\n      <th>...</th>\n      <td>...</td>\n      <td>...</td>\n      <td>...</td>\n      <td>...</td>\n      <td>...</td>\n      <td>...</td>\n      <td>...</td>\n      <td>...</td>\n      <td>...</td>\n      <td>...</td>\n      <td>...</td>\n      <td>...</td>\n      <td>...</td>\n      <td>...</td>\n      <td>...</td>\n      <td>...</td>\n      <td>...</td>\n      <td>...</td>\n      <td>...</td>\n      <td>...</td>\n      <td>...</td>\n    </tr>\n    <tr>\n      <th>32678</th>\n      <td>0.00</td>\n      <td>1.00</td>\n      <td>0.00</td>\n      <td>0.00</td>\n      <td>0.00</td>\n      <td>0.00</td>\n      <td>0.00</td>\n      <td>0.00</td>\n      <td>0.00</td>\n      <td>0.00</td>\n      <td>...</td>\n      <td>0.00</td>\n      <td>0.00</td>\n      <td>0.00</td>\n      <td>0.00</td>\n      <td>-1.00</td>\n      <td>-1.00</td>\n      <td>-1.00</td>\n      <td>0.00</td>\n      <td>0.00</td>\n      <td>-1.00</td>\n    </tr>\n    <tr>\n      <th>32679</th>\n      <td>0.00</td>\n      <td>0.00</td>\n      <td>0.00</td>\n      <td>0.00</td>\n      <td>0.00</td>\n      <td>0.00</td>\n      <td>0.00</td>\n      <td>0.00</td>\n      <td>1.00</td>\n      <td>0.00</td>\n      <td>...</td>\n      <td>922337203685506688.00</td>\n      <td>4972554392.89</td>\n      <td>3379.00</td>\n      <td>0.00</td>\n      <td>0.00</td>\n      <td>-1.00</td>\n      <td>0.00</td>\n      <td>-1.00</td>\n      <td>0.00</td>\n      <td>0.00</td>\n    </tr>\n    <tr>\n      <th>32680</th>\n      <td>0.00</td>\n      <td>1.00</td>\n      <td>0.00</td>\n      <td>0.00</td>\n      <td>0.00</td>\n      <td>0.00</td>\n      <td>0.00</td>\n      <td>0.00</td>\n      <td>0.00</td>\n      <td>0.00</td>\n      <td>...</td>\n      <td>0.00</td>\n      <td>0.00</td>\n      <td>0.00</td>\n      <td>0.00</td>\n      <td>0.00</td>\n      <td>0.00</td>\n      <td>0.00</td>\n      <td>0.00</td>\n      <td>0.00</td>\n      <td>0.00</td>\n    </tr>\n    <tr>\n      <th>32681</th>\n      <td>1.00</td>\n      <td>0.00</td>\n      <td>0.00</td>\n      <td>0.00</td>\n      <td>0.00</td>\n      <td>0.00</td>\n      <td>0.00</td>\n      <td>0.00</td>\n      <td>0.00</td>\n      <td>0.00</td>\n      <td>...</td>\n      <td>0.00</td>\n      <td>0.00</td>\n      <td>0.00</td>\n      <td>0.00</td>\n      <td>0.00</td>\n      <td>-1.00</td>\n      <td>0.00</td>\n      <td>0.00</td>\n      <td>0.00</td>\n      <td>0.00</td>\n    </tr>\n    <tr>\n      <th>32682</th>\n      <td>1.00</td>\n      <td>0.00</td>\n      <td>0.00</td>\n      <td>0.00</td>\n      <td>0.00</td>\n      <td>0.00</td>\n      <td>0.00</td>\n      <td>0.00</td>\n      <td>0.00</td>\n      <td>0.00</td>\n      <td>...</td>\n      <td>0.00</td>\n      <td>0.00</td>\n      <td>0.00</td>\n      <td>0.00</td>\n      <td>-1.00</td>\n      <td>-1.00</td>\n      <td>0.00</td>\n      <td>0.00</td>\n      <td>-1.00</td>\n      <td>-1.00</td>\n    </tr>\n  </tbody>\n</table>\n<p>26144 rows × 31 columns</p>\n</div>"
     },
     "execution_count": 24,
     "metadata": {},
     "output_type": "execute_result"
    }
   ],
   "source": [
    "from sklearn.impute import SimpleImputer\n",
    "all_knn_imp = SimpleImputer(strategy=\"most_frequent\")\n",
    "columns = data_all.columns\n",
    "data_all = all_knn_imp.fit_transform(data_all)\n",
    "data_all = pd.DataFrame(data_all, columns=columns, index=dp.data.index)\n",
    "data_all"
   ],
   "metadata": {
    "collapsed": false,
    "pycharm": {
     "name": "#%%\n"
    }
   }
  },
  {
   "cell_type": "code",
   "execution_count": 25,
   "outputs": [],
   "source": [
    "data_all = pd.concat([data_all, data_comp, dp.data['VV']], axis=1)\n",
    "data_all.to_csv(\"./data/features3_train_2.csv\")"
   ],
   "metadata": {
    "collapsed": false,
    "pycharm": {
     "name": "#%%\n"
    }
   }
  },
  {
   "cell_type": "code",
   "execution_count": null,
   "outputs": [],
   "source": [
    "test_area = dp.test_data['area'].apply(lambda area: area_handler(str(area))).astype(str)\n",
    "test_area1 = test_area.apply(lambda area: area[:1])\n",
    "test_area1 = pd.get_dummies(data_area1, prefix='area')\n",
    "test_area1.describe()"
   ],
   "metadata": {
    "collapsed": false,
    "pycharm": {
     "name": "#%%\n"
    }
   }
  }
 ],
 "metadata": {
  "kernelspec": {
   "display_name": "Python 3",
   "language": "python",
   "name": "python3"
  },
  "language_info": {
   "codemirror_mode": {
    "name": "ipython",
    "version": 2
   },
   "file_extension": ".py",
   "mimetype": "text/x-python",
   "name": "python",
   "nbconvert_exporter": "python",
   "pygments_lexer": "ipython2",
   "version": "2.7.6"
  }
 },
 "nbformat": 4,
 "nbformat_minor": 0
}
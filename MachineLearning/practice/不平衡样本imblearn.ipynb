{
 "cells": [
  {
   "cell_type": "markdown",
   "metadata": {},
   "source": [
    "# 导入包"
   ]
  },
  {
   "cell_type": "code",
   "execution_count": 38,
   "metadata": {
    "ExecuteTime": {
     "end_time": "2022-01-09T06:51:14.197378Z",
     "start_time": "2022-01-09T06:51:14.106057Z"
    }
   },
   "outputs": [],
   "source": [
    "import numpy as np\n",
    "import pandas as pd\n",
    "import matplotlib.pyplot as plt\n",
    "import seaborn as sns\n",
    "%matplotlib inline\n",
    "plt.rcParams[\"font.sans-serif\"]=[\"SimHei\"]\n",
    "plt.rcParams[\"axes.unicode_minus\"]=False"
   ]
  },
  {
   "cell_type": "markdown",
   "metadata": {},
   "source": [
    "# 导入数据"
   ]
  },
  {
   "cell_type": "code",
   "execution_count": 4,
   "metadata": {
    "ExecuteTime": {
     "end_time": "2022-01-09T06:20:54.276666Z",
     "start_time": "2022-01-09T06:20:51.399621Z"
    }
   },
   "outputs": [
    {
     "name": "stdout",
     "output_type": "stream",
     "text": [
      "<class 'pandas.core.frame.DataFrame'>\n",
      "RangeIndex: 9000 entries, 0 to 8999\n",
      "Data columns (total 33 columns):\n",
      " #   Column   Non-Null Count  Dtype  \n",
      "---  ------   --------------  -----  \n",
      " 0   编号       9000 non-null   object \n",
      " 1   污染标注     9000 non-null   float64\n",
      " 2   v2样品序列   8961 non-null   float64\n",
      " 3   v1合成剂    8628 non-null   float64\n",
      " 4   v3燃料类型   8466 non-null   float64\n",
      " 5   v2添加渠道   8528 non-null   float64\n",
      " 6   v1执勤时效1  8462 non-null   float64\n",
      " 7   助燃点      8993 non-null   float64\n",
      " 8   烟碱量      8159 non-null   float64\n",
      " 9   气体综合     8803 non-null   float64\n",
      " 10  消耗烟脂     5128 non-null   float64\n",
      " 11  吸阻       8861 non-null   float64\n",
      " 12  吸阻过滤     6082 non-null   float64\n",
      " 13  检查点位     4002 non-null   float64\n",
      " 14  圆周点位     5713 non-null   float64\n",
      " 15  焦油量      5907 non-null   float64\n",
      " 16  助燃添加     8621 non-null   float64\n",
      " 17  助燃反应     9000 non-null   float64\n",
      " 18  烟碱HW     5984 non-null   float64\n",
      " 19  钾元素      4920 non-null   float64\n",
      " 20  钠元素      5718 non-null   float64\n",
      " 21  助燃柠檬     7829 non-null   float64\n",
      " 22  助燃       5747 non-null   float64\n",
      " 23  过滤时效     8569 non-null   float64\n",
      " 24  噪声       5814 non-null   float64\n",
      " 25  温控       7064 non-null   float64\n",
      " 26  偏离位      8607 non-null   float64\n",
      " 27  标注       8621 non-null   float64\n",
      " 28  起点位      8628 non-null   float64\n",
      " 29  撤回点位     8618 non-null   float64\n",
      " 30  收紧度      8894 non-null   float64\n",
      " 31  通路       8512 non-null   float64\n",
      " 32  lHH      7750 non-null   float64\n",
      "dtypes: float64(32), object(1)\n",
      "memory usage: 2.3+ MB\n"
     ]
    }
   ],
   "source": [
    "residualIm=pd.read_excel(r\"./data/残耗.xlsx\")\n",
    "residualIm.info()"
   ]
  },
  {
   "cell_type": "markdown",
   "metadata": {},
   "source": [
    "# 缺失值填补"
   ]
  },
  {
   "cell_type": "code",
   "execution_count": 5,
   "metadata": {
    "ExecuteTime": {
     "end_time": "2022-01-09T06:21:43.002527Z",
     "start_time": "2022-01-09T06:21:39.709755Z"
    }
   },
   "outputs": [
    {
     "name": "stdout",
     "output_type": "stream",
     "text": [
      "Iteration: 0\n",
      "Iteration: 1\n"
     ]
    },
    {
     "data": {
      "text/html": [
       "<div>\n",
       "<style scoped>\n",
       "    .dataframe tbody tr th:only-of-type {\n",
       "        vertical-align: middle;\n",
       "    }\n",
       "\n",
       "    .dataframe tbody tr th {\n",
       "        vertical-align: top;\n",
       "    }\n",
       "\n",
       "    .dataframe thead th {\n",
       "        text-align: right;\n",
       "    }\n",
       "</style>\n",
       "<table border=\"1\" class=\"dataframe\">\n",
       "  <thead>\n",
       "    <tr style=\"text-align: right;\">\n",
       "      <th></th>\n",
       "      <th>污染标注</th>\n",
       "      <th>v2样品序列</th>\n",
       "      <th>v1合成剂</th>\n",
       "      <th>v3燃料类型</th>\n",
       "      <th>v2添加渠道</th>\n",
       "      <th>v1执勤时效1</th>\n",
       "      <th>助燃点</th>\n",
       "      <th>烟碱量</th>\n",
       "      <th>气体综合</th>\n",
       "      <th>消耗烟脂</th>\n",
       "      <th>...</th>\n",
       "      <th>过滤时效</th>\n",
       "      <th>噪声</th>\n",
       "      <th>温控</th>\n",
       "      <th>偏离位</th>\n",
       "      <th>标注</th>\n",
       "      <th>起点位</th>\n",
       "      <th>撤回点位</th>\n",
       "      <th>收紧度</th>\n",
       "      <th>通路</th>\n",
       "      <th>lHH</th>\n",
       "    </tr>\n",
       "  </thead>\n",
       "  <tbody>\n",
       "    <tr>\n",
       "      <th>0</th>\n",
       "      <td>0.0</td>\n",
       "      <td>1.0</td>\n",
       "      <td>2.0</td>\n",
       "      <td>2.000000</td>\n",
       "      <td>4.0</td>\n",
       "      <td>1.0</td>\n",
       "      <td>210.647</td>\n",
       "      <td>1191.000000</td>\n",
       "      <td>1613.4</td>\n",
       "      <td>34.919585</td>\n",
       "      <td>...</td>\n",
       "      <td>450.4</td>\n",
       "      <td>14.920000</td>\n",
       "      <td>21.400000</td>\n",
       "      <td>203.0</td>\n",
       "      <td>47.640</td>\n",
       "      <td>87.887</td>\n",
       "      <td>181.4</td>\n",
       "      <td>19.500</td>\n",
       "      <td>32.573</td>\n",
       "      <td>2222.400000</td>\n",
       "    </tr>\n",
       "    <tr>\n",
       "      <th>1</th>\n",
       "      <td>0.0</td>\n",
       "      <td>1.0</td>\n",
       "      <td>1.0</td>\n",
       "      <td>1.000000</td>\n",
       "      <td>4.0</td>\n",
       "      <td>1.0</td>\n",
       "      <td>48.473</td>\n",
       "      <td>285.000000</td>\n",
       "      <td>465.4</td>\n",
       "      <td>30.400000</td>\n",
       "      <td>...</td>\n",
       "      <td>403.4</td>\n",
       "      <td>6.427000</td>\n",
       "      <td>28.400000</td>\n",
       "      <td>94.0</td>\n",
       "      <td>38.560</td>\n",
       "      <td>38.560</td>\n",
       "      <td>107.4</td>\n",
       "      <td>61.487</td>\n",
       "      <td>43.053</td>\n",
       "      <td>25528.400000</td>\n",
       "    </tr>\n",
       "    <tr>\n",
       "      <th>2</th>\n",
       "      <td>0.0</td>\n",
       "      <td>1.0</td>\n",
       "      <td>1.0</td>\n",
       "      <td>1.000000</td>\n",
       "      <td>2.0</td>\n",
       "      <td>1.0</td>\n",
       "      <td>96.733</td>\n",
       "      <td>670.000000</td>\n",
       "      <td>1092.4</td>\n",
       "      <td>31.900000</td>\n",
       "      <td>...</td>\n",
       "      <td>224.4</td>\n",
       "      <td>11.113000</td>\n",
       "      <td>87.400000</td>\n",
       "      <td>460.0</td>\n",
       "      <td>94.773</td>\n",
       "      <td>64.827</td>\n",
       "      <td>441.4</td>\n",
       "      <td>31.660</td>\n",
       "      <td>34.173</td>\n",
       "      <td>1884.400000</td>\n",
       "    </tr>\n",
       "    <tr>\n",
       "      <th>3</th>\n",
       "      <td>0.0</td>\n",
       "      <td>1.0</td>\n",
       "      <td>2.0</td>\n",
       "      <td>2.480156</td>\n",
       "      <td>2.0</td>\n",
       "      <td>1.0</td>\n",
       "      <td>67.380</td>\n",
       "      <td>2316.000000</td>\n",
       "      <td>3496.4</td>\n",
       "      <td>30.300000</td>\n",
       "      <td>...</td>\n",
       "      <td>171.4</td>\n",
       "      <td>6.153000</td>\n",
       "      <td>28.400000</td>\n",
       "      <td>364.0</td>\n",
       "      <td>45.720</td>\n",
       "      <td>45.720</td>\n",
       "      <td>377.4</td>\n",
       "      <td>5.273</td>\n",
       "      <td>30.467</td>\n",
       "      <td>5882.400000</td>\n",
       "    </tr>\n",
       "    <tr>\n",
       "      <th>4</th>\n",
       "      <td>0.0</td>\n",
       "      <td>1.0</td>\n",
       "      <td>2.0</td>\n",
       "      <td>2.000000</td>\n",
       "      <td>4.0</td>\n",
       "      <td>1.0</td>\n",
       "      <td>59.107</td>\n",
       "      <td>606.000000</td>\n",
       "      <td>1137.4</td>\n",
       "      <td>34.919585</td>\n",
       "      <td>...</td>\n",
       "      <td>680.4</td>\n",
       "      <td>5.133000</td>\n",
       "      <td>30.400000</td>\n",
       "      <td>106.0</td>\n",
       "      <td>45.580</td>\n",
       "      <td>40.237</td>\n",
       "      <td>128.4</td>\n",
       "      <td>5.260</td>\n",
       "      <td>30.433</td>\n",
       "      <td>20894.400000</td>\n",
       "    </tr>\n",
       "    <tr>\n",
       "      <th>...</th>\n",
       "      <td>...</td>\n",
       "      <td>...</td>\n",
       "      <td>...</td>\n",
       "      <td>...</td>\n",
       "      <td>...</td>\n",
       "      <td>...</td>\n",
       "      <td>...</td>\n",
       "      <td>...</td>\n",
       "      <td>...</td>\n",
       "      <td>...</td>\n",
       "      <td>...</td>\n",
       "      <td>...</td>\n",
       "      <td>...</td>\n",
       "      <td>...</td>\n",
       "      <td>...</td>\n",
       "      <td>...</td>\n",
       "      <td>...</td>\n",
       "      <td>...</td>\n",
       "      <td>...</td>\n",
       "      <td>...</td>\n",
       "      <td>...</td>\n",
       "    </tr>\n",
       "    <tr>\n",
       "      <th>8995</th>\n",
       "      <td>0.0</td>\n",
       "      <td>1.0</td>\n",
       "      <td>1.0</td>\n",
       "      <td>2.000000</td>\n",
       "      <td>4.0</td>\n",
       "      <td>1.0</td>\n",
       "      <td>34.200</td>\n",
       "      <td>51.000000</td>\n",
       "      <td>126.4</td>\n",
       "      <td>34.919585</td>\n",
       "      <td>...</td>\n",
       "      <td>946.4</td>\n",
       "      <td>9.171401</td>\n",
       "      <td>40.400000</td>\n",
       "      <td>142.0</td>\n",
       "      <td>31.227</td>\n",
       "      <td>48.631</td>\n",
       "      <td>160.4</td>\n",
       "      <td>57.607</td>\n",
       "      <td>44.060</td>\n",
       "      <td>208.400000</td>\n",
       "    </tr>\n",
       "    <tr>\n",
       "      <th>8996</th>\n",
       "      <td>0.0</td>\n",
       "      <td>1.0</td>\n",
       "      <td>1.0</td>\n",
       "      <td>1.000000</td>\n",
       "      <td>2.0</td>\n",
       "      <td>1.0</td>\n",
       "      <td>39.307</td>\n",
       "      <td>9.000000</td>\n",
       "      <td>79.4</td>\n",
       "      <td>34.919585</td>\n",
       "      <td>...</td>\n",
       "      <td>465.4</td>\n",
       "      <td>9.171401</td>\n",
       "      <td>32.303171</td>\n",
       "      <td>85.0</td>\n",
       "      <td>103.687</td>\n",
       "      <td>81.906</td>\n",
       "      <td>102.4</td>\n",
       "      <td>14.287</td>\n",
       "      <td>30.720</td>\n",
       "      <td>11917.636129</td>\n",
       "    </tr>\n",
       "    <tr>\n",
       "      <th>8997</th>\n",
       "      <td>0.0</td>\n",
       "      <td>1.0</td>\n",
       "      <td>2.0</td>\n",
       "      <td>3.000000</td>\n",
       "      <td>2.0</td>\n",
       "      <td>1.0</td>\n",
       "      <td>96.560</td>\n",
       "      <td>48.000000</td>\n",
       "      <td>244.4</td>\n",
       "      <td>34.919585</td>\n",
       "      <td>...</td>\n",
       "      <td>2185.4</td>\n",
       "      <td>9.171401</td>\n",
       "      <td>-18.600000</td>\n",
       "      <td>2695.0</td>\n",
       "      <td>292.747</td>\n",
       "      <td>224.084</td>\n",
       "      <td>779.4</td>\n",
       "      <td>30.573</td>\n",
       "      <td>34.860</td>\n",
       "      <td>11917.636129</td>\n",
       "    </tr>\n",
       "    <tr>\n",
       "      <th>8998</th>\n",
       "      <td>0.0</td>\n",
       "      <td>1.0</td>\n",
       "      <td>2.0</td>\n",
       "      <td>1.000000</td>\n",
       "      <td>1.0</td>\n",
       "      <td>1.0</td>\n",
       "      <td>28.613</td>\n",
       "      <td>1288.988283</td>\n",
       "      <td>50.4</td>\n",
       "      <td>34.919585</td>\n",
       "      <td>...</td>\n",
       "      <td>122.4</td>\n",
       "      <td>4.979000</td>\n",
       "      <td>24.400000</td>\n",
       "      <td>193.0</td>\n",
       "      <td>28.573</td>\n",
       "      <td>36.942</td>\n",
       "      <td>300.4</td>\n",
       "      <td>17.240</td>\n",
       "      <td>33.907</td>\n",
       "      <td>11917.636129</td>\n",
       "    </tr>\n",
       "    <tr>\n",
       "      <th>8999</th>\n",
       "      <td>0.0</td>\n",
       "      <td>1.0</td>\n",
       "      <td>2.0</td>\n",
       "      <td>3.000000</td>\n",
       "      <td>2.0</td>\n",
       "      <td>1.0</td>\n",
       "      <td>193.133</td>\n",
       "      <td>2068.000000</td>\n",
       "      <td>3143.4</td>\n",
       "      <td>32.100000</td>\n",
       "      <td>...</td>\n",
       "      <td>1815.4</td>\n",
       "      <td>9.171401</td>\n",
       "      <td>66.400000</td>\n",
       "      <td>933.0</td>\n",
       "      <td>96.987</td>\n",
       "      <td>120.562</td>\n",
       "      <td>565.4</td>\n",
       "      <td>57.607</td>\n",
       "      <td>44.060</td>\n",
       "      <td>14812.400000</td>\n",
       "    </tr>\n",
       "  </tbody>\n",
       "</table>\n",
       "<p>9000 rows × 32 columns</p>\n",
       "</div>"
      ],
      "text/plain": [
       "      污染标注  v2样品序列  v1合成剂    v3燃料类型  v2添加渠道  v1执勤时效1      助燃点          烟碱量  \\\n",
       "0      0.0     1.0    2.0  2.000000     4.0      1.0  210.647  1191.000000   \n",
       "1      0.0     1.0    1.0  1.000000     4.0      1.0   48.473   285.000000   \n",
       "2      0.0     1.0    1.0  1.000000     2.0      1.0   96.733   670.000000   \n",
       "3      0.0     1.0    2.0  2.480156     2.0      1.0   67.380  2316.000000   \n",
       "4      0.0     1.0    2.0  2.000000     4.0      1.0   59.107   606.000000   \n",
       "...    ...     ...    ...       ...     ...      ...      ...          ...   \n",
       "8995   0.0     1.0    1.0  2.000000     4.0      1.0   34.200    51.000000   \n",
       "8996   0.0     1.0    1.0  1.000000     2.0      1.0   39.307     9.000000   \n",
       "8997   0.0     1.0    2.0  3.000000     2.0      1.0   96.560    48.000000   \n",
       "8998   0.0     1.0    2.0  1.000000     1.0      1.0   28.613  1288.988283   \n",
       "8999   0.0     1.0    2.0  3.000000     2.0      1.0  193.133  2068.000000   \n",
       "\n",
       "        气体综合       消耗烟脂  ...    过滤时效         噪声         温控     偏离位       标注  \\\n",
       "0     1613.4  34.919585  ...   450.4  14.920000  21.400000   203.0   47.640   \n",
       "1      465.4  30.400000  ...   403.4   6.427000  28.400000    94.0   38.560   \n",
       "2     1092.4  31.900000  ...   224.4  11.113000  87.400000   460.0   94.773   \n",
       "3     3496.4  30.300000  ...   171.4   6.153000  28.400000   364.0   45.720   \n",
       "4     1137.4  34.919585  ...   680.4   5.133000  30.400000   106.0   45.580   \n",
       "...      ...        ...  ...     ...        ...        ...     ...      ...   \n",
       "8995   126.4  34.919585  ...   946.4   9.171401  40.400000   142.0   31.227   \n",
       "8996    79.4  34.919585  ...   465.4   9.171401  32.303171    85.0  103.687   \n",
       "8997   244.4  34.919585  ...  2185.4   9.171401 -18.600000  2695.0  292.747   \n",
       "8998    50.4  34.919585  ...   122.4   4.979000  24.400000   193.0   28.573   \n",
       "8999  3143.4  32.100000  ...  1815.4   9.171401  66.400000   933.0   96.987   \n",
       "\n",
       "          起点位   撤回点位     收紧度      通路           lHH  \n",
       "0      87.887  181.4  19.500  32.573   2222.400000  \n",
       "1      38.560  107.4  61.487  43.053  25528.400000  \n",
       "2      64.827  441.4  31.660  34.173   1884.400000  \n",
       "3      45.720  377.4   5.273  30.467   5882.400000  \n",
       "4      40.237  128.4   5.260  30.433  20894.400000  \n",
       "...       ...    ...     ...     ...           ...  \n",
       "8995   48.631  160.4  57.607  44.060    208.400000  \n",
       "8996   81.906  102.4  14.287  30.720  11917.636129  \n",
       "8997  224.084  779.4  30.573  34.860  11917.636129  \n",
       "8998   36.942  300.4  17.240  33.907  11917.636129  \n",
       "8999  120.562  565.4  57.607  44.060  14812.400000  \n",
       "\n",
       "[9000 rows x 32 columns]"
      ]
     },
     "execution_count": 5,
     "metadata": {},
     "output_type": "execute_result"
    }
   ],
   "source": [
    "import sklearn.neighbors._base\n",
    "import sys\n",
    "sys.modules['sklearn.neighbors.base'] = sklearn.neighbors._base#missingpy包辅助项\n",
    "#---------------------------------------\n",
    "from missingpy import MissForest\n",
    "\n",
    "imbImput=MissForest(n_estimators=10,min_samples_leaf=4000)                                   #缺失值填补\n",
    "residMiss=imbImput.fit_transform(residualIm.iloc[:,[*range(1,33)]])\n",
    "dataResid=pd.DataFrame(residMiss,columns=residualIm.iloc[:,[*range(1,33)]].columns)\n",
    "dataResid"
   ]
  },
  {
   "cell_type": "markdown",
   "metadata": {},
   "source": [
    "# 构建平衡模型\n",
    "## 随机森林模型"
   ]
  },
  {
   "cell_type": "code",
   "execution_count": 8,
   "metadata": {
    "ExecuteTime": {
     "end_time": "2022-01-09T06:24:01.068921Z",
     "start_time": "2022-01-09T06:24:00.831698Z"
    }
   },
   "outputs": [
    {
     "data": {
      "text/plain": [
       "0.9471111111111111"
      ]
     },
     "execution_count": 8,
     "metadata": {},
     "output_type": "execute_result"
    }
   ],
   "source": [
    "from imblearn.ensemble import BalancedRandomForestClassifier as BRFC\n",
    "\n",
    "xImb,yImb=dataResid.iloc[:,1:],dataResid.iloc[:,0]\n",
    "brfc_clf=BRFC(n_estimators=50,max_depth=3,min_samples_leaf=50,random_state=123,max_features=5)#构建平衡模型\n",
    "brfc_clf.fit(xImb,yImb)\n",
    "brfc_clf.score(xImb,yImb)"
   ]
  },
  {
   "cell_type": "code",
   "execution_count": null,
   "metadata": {
    "deletable": false,
    "editable": false,
    "run_control": {
     "frozen": true
    }
   },
   "outputs": [],
   "source": [
    "# imblearn提供的平衡器模型\n",
    "from imblearn.ensemble import  BalancedRandomForestClassifier,BalancedBaggingClassifier,EasyEnsembleClassifier,RUSBoostClassifier"
   ]
  },
  {
   "cell_type": "markdown",
   "metadata": {},
   "source": [
    "## 变量重要性"
   ]
  },
  {
   "cell_type": "code",
   "execution_count": 42,
   "metadata": {
    "ExecuteTime": {
     "end_time": "2022-01-09T06:53:02.736073Z",
     "start_time": "2022-01-09T06:53:02.553031Z"
    }
   },
   "outputs": [
    {
     "data": {
      "image/png": "[encoded data removed]",
      "text/plain": [
       "<Figure size 432x288 with 1 Axes>"
      ]
     },
     "metadata": {
      "needs_background": "light"
     },
     "output_type": "display_data"
    }
   ],
   "source": [
    "feaImpor=pd.DataFrame((zip(residualIm.iloc[:,[*range(2,33)]].columns.tolist(),\n",
    "                           brfc_clf.feature_importances_.round(3).tolist()))\n",
    "                     ,index=residualIm.iloc[:,[*range(2,33)]].columns)\n",
    "feaImpor.plot.bar();"
   ]
  },
  {
   "cell_type": "markdown",
   "metadata": {},
   "source": [
    "## 产生预测"
   ]
  },
  {
   "cell_type": "code",
   "execution_count": 62,
   "metadata": {
    "ExecuteTime": {
     "end_time": "2022-01-09T07:10:37.042325Z",
     "start_time": "2022-01-09T07:10:37.015328Z"
    }
   },
   "outputs": [
    {
     "data": {
      "text/plain": [
       "array([[0.55505264, 0.44494736],\n",
       "       [0.87829676, 0.12170324],\n",
       "       [0.6870236 , 0.3129764 ],\n",
       "       [0.86148066, 0.13851934],\n",
       "       [0.92644851, 0.07355149],\n",
       "       [0.07669516, 0.92330484],\n",
       "       [0.76199805, 0.23800195],\n",
       "       [0.82650469, 0.17349531],\n",
       "       [0.76680301, 0.23319699],\n",
       "       [0.93743248, 0.06256752]])"
      ]
     },
     "execution_count": 62,
     "metadata": {},
     "output_type": "execute_result"
    }
   ],
   "source": [
    "brfc_clf.predict_proba(xImb)[:10]"
   ]
  },
  {
   "cell_type": "markdown",
   "metadata": {},
   "source": [
    "# 随机采样包\n",
    "## 使用sklearn的make_classification生成不平衡数据样本"
   ]
  },
  {
   "cell_type": "code",
   "execution_count": null,
   "metadata": {},
   "outputs": [],
   "source": [
    "from sklearn.datasets import make_classification\n",
    "\n",
    "X, y = make_classification(n_classes=2, class_sep=2,\n",
    "                               weights=[0.9, 0.1],     #生成一组0和1比例为9比1的样本\n",
    "                               n_features=20,\n",
    "                               n_samples=1000, random_state=123)\n",
    "pd.DataFrame(y).value_counts()"
   ]
  },
  {
   "cell_type": "markdown",
   "metadata": {},
   "source": [
    "## SMOTE方法"
   ]
  },
  {
   "cell_type": "code",
   "execution_count": null,
   "metadata": {},
   "outputs": [],
   "source": [
    "from imblearn.over_sampling import SMOTE, SVMSMOTE\n",
    "smo = SVMSMOTE(random_state=123)\n",
    "X_res, y_res = smo.fit_resample(X, y)\n",
    "pd.DataFrame(y_res).value_counts()\n",
    "\n",
    "# \"\"\"__all__ = \n",
    "#     \"ADASYN\",\n",
    "#     \"RandomOverSampler\",\n",
    "#     \"KMeansSMOTE\",\n",
    "#     \"SMOTE\",\n",
    "#     \"BorderlineSMOTE\",\n",
    "#     \"SVMSMOTE\",\n",
    "#     \"SMOTENC\",\n",
    "#     \"SMOTEN\",\n",
    "# \"\"\""
   ]
  }
 ],
 "metadata": {
  "kernelspec": {
   "display_name": "Python 3 (ipykernel)",
   "language": "python",
   "name": "python3"
  },
  "language_info": {
   "codemirror_mode": {
    "name": "ipython",
    "version": 3
   },
   "file_extension": ".py",
   "mimetype": "text/x-python",
   "name": "python",
   "nbconvert_exporter": "python",
   "pygments_lexer": "ipython3",
   "version": "3.9.7"
  },
  "latex_envs": {
   "LaTeX_envs_menu_present": true,
   "autoclose": false,
   "autocomplete": true,
   "bibliofile": "biblio.bib",
   "cite_by": "apalike",
   "current_citInitial": 1,
   "eqLabelWithNumbers": true,
   "eqNumInitial": 1,
   "hotkeys": {
    "equation": "Ctrl-E",
    "itemize": "Ctrl-I"
   },
   "labels_anchors": false,
   "latex_user_defs": false,
   "report_style_numbering": false,
   "user_envs_cfg": false
  },
  "toc": {
   "base_numbering": 1,
   "nav_menu": {},
   "number_sections": true,
   "sideBar": true,
   "skip_h1_title": false,
   "title_cell": "Table of Contents",
   "title_sidebar": "Contents",
   "toc_cell": false,
   "toc_position": {
    "height": "calc(100% - 180px)",
    "left": "10px",
    "top": "150px",
    "width": "165px"
   },
   "toc_section_display": true,
   "toc_window_display": true
  },
  "varInspector": {
   "cols": {
    "lenName": 16,
    "lenType": 16,
    "lenVar": 40
   },
   "kernels_config": {
    "python": {
     "delete_cmd_postfix": "",
     "delete_cmd_prefix": "del ",
     "library": "var_list.py",
     "varRefreshCmd": "print(var_dic_list())"
    },
    "r": {
     "delete_cmd_postfix": ") ",
     "delete_cmd_prefix": "rm(",
     "library": "var_list.r",
     "varRefreshCmd": "cat(var_dic_list()) "
    }
   },
   "types_to_exclude": [
    "module",
    "function",
    "builtin_function_or_method",
    "instance",
    "_Feature"
   ],
   "window_display": false
  }
 },
 "nbformat": 4,
 "nbformat_minor": 4
}
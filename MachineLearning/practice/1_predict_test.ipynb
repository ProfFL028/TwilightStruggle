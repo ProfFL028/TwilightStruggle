{
 "cells": [
  {
   "cell_type": "code",
   "execution_count": 1,
   "metadata": {
    "collapsed": true
   },
   "outputs": [],
   "source": [
    "import pandas as pd\n",
    "import numpy as np\n",
    "import matplotlib.pyplot as plot"
   ]
  },
  {
   "cell_type": "code",
   "execution_count": 2,
   "outputs": [
    {
     "data": {
      "text/plain": "              主页ID        主页名称    分类  \\\n0     359000000000       公视粉丝团  电视频道   \n1     359000000000       公视粉丝团  电视频道   \n2  109000000000000  Yahoo!奇摩新闻    新闻   \n3     359000000000       公视粉丝团  电视频道   \n4     359000000000       公视粉丝团  电视频道   \n\n                                             message  \\\n0  好感动  永远的队长～\\n林智胜在大战前夕写信，逐一塞在队友们下榻旅馆的门缝「谁都不是一个人...   \n1  赛后队长「大师兄」林智胜代表接受采访。他说：「今天是非常精彩的比赛，球员的努力不会被抹灭。希...   \n2                                    中华队赢了！！！！！！！！！！   \n3  麻醉风暴太厉害了，继迷你剧集男配角奖、迷你剧集编剧奖后，又获得迷你剧集电视电影导演奖、迷你剧...   \n4                              小编看见今日夕阳很美~~~赶快跟粉丝分享!   \n\n                                            name  \\\n0  12强赛战古巴 林智胜一封信感动中华队 | 重点新闻 | 中央社实时新闻 CNA NEWS   \n1            世界12强／林智胜：球员的努力不会被抹灭 | NOWnews 今日新闻   \n2                                            NaN   \n3                                            NaN   \n4                                         动态时报相片   \n\n                                         description    发文类型  \n0  （中央社记者林宏翰台中14日电）承受全台湾球迷的期待、顶着1胜2败的逆势，中华队长林智胜在大...    link  \n1  中华队今天(15日)苦战12局输给波多黎各队，晋级8强面临绝境，赛后队长林智胜说：「今天是非...    link  \n2                                                NaN  status  \n3                                                NaN  status  \n4                                                NaN   photo  ",
      "text/html": "<div>\n<style scoped>\n    .dataframe tbody tr th:only-of-type {\n        vertical-align: middle;\n    }\n\n    .dataframe tbody tr th {\n        vertical-align: top;\n    }\n\n    .dataframe thead th {\n        text-align: right;\n    }\n</style>\n<table border=\"1\" class=\"dataframe\">\n  <thead>\n    <tr style=\"text-align: right;\">\n      <th></th>\n      <th>主页ID</th>\n      <th>主页名称</th>\n      <th>分类</th>\n      <th>message</th>\n      <th>name</th>\n      <th>description</th>\n      <th>发文类型</th>\n    </tr>\n  </thead>\n  <tbody>\n    <tr>\n      <th>0</th>\n      <td>359000000000</td>\n      <td>公视粉丝团</td>\n      <td>电视频道</td>\n      <td>好感动  永远的队长～\\n林智胜在大战前夕写信，逐一塞在队友们下榻旅馆的门缝「谁都不是一个人...</td>\n      <td>12强赛战古巴 林智胜一封信感动中华队 | 重点新闻 | 中央社实时新闻 CNA NEWS</td>\n      <td>（中央社记者林宏翰台中14日电）承受全台湾球迷的期待、顶着1胜2败的逆势，中华队长林智胜在大...</td>\n      <td>link</td>\n    </tr>\n    <tr>\n      <th>1</th>\n      <td>359000000000</td>\n      <td>公视粉丝团</td>\n      <td>电视频道</td>\n      <td>赛后队长「大师兄」林智胜代表接受采访。他说：「今天是非常精彩的比赛，球员的努力不会被抹灭。希...</td>\n      <td>世界12强／林智胜：球员的努力不会被抹灭 | NOWnews 今日新闻</td>\n      <td>中华队今天(15日)苦战12局输给波多黎各队，晋级8强面临绝境，赛后队长林智胜说：「今天是非...</td>\n      <td>link</td>\n    </tr>\n    <tr>\n      <th>2</th>\n      <td>109000000000000</td>\n      <td>Yahoo!奇摩新闻</td>\n      <td>新闻</td>\n      <td>中华队赢了！！！！！！！！！！</td>\n      <td>NaN</td>\n      <td>NaN</td>\n      <td>status</td>\n    </tr>\n    <tr>\n      <th>3</th>\n      <td>359000000000</td>\n      <td>公视粉丝团</td>\n      <td>电视频道</td>\n      <td>麻醉风暴太厉害了，继迷你剧集男配角奖、迷你剧集编剧奖后，又获得迷你剧集电视电影导演奖、迷你剧...</td>\n      <td>NaN</td>\n      <td>NaN</td>\n      <td>status</td>\n    </tr>\n    <tr>\n      <th>4</th>\n      <td>359000000000</td>\n      <td>公视粉丝团</td>\n      <td>电视频道</td>\n      <td>小编看见今日夕阳很美~~~赶快跟粉丝分享!</td>\n      <td>动态时报相片</td>\n      <td>NaN</td>\n      <td>photo</td>\n    </tr>\n  </tbody>\n</table>\n</div>"
     },
     "execution_count": 2,
     "metadata": {},
     "output_type": "execute_result"
    }
   ],
   "source": [
    "data = pd.read_excel(\"./data/1_test.xlsx\")\n",
    "data.head(5)"
   ],
   "metadata": {
    "collapsed": false,
    "pycharm": {
     "name": "#%%\n"
    }
   }
  },
  {
   "cell_type": "code",
   "execution_count": 10,
   "outputs": [
    {
     "data": {
      "text/plain": "Empty DataFrame\nColumns: [主页ID, 主页名称, 分类, message, name, description, 发文类型]\nIndex: []",
      "text/html": "<div>\n<style scoped>\n    .dataframe tbody tr th:only-of-type {\n        vertical-align: middle;\n    }\n\n    .dataframe tbody tr th {\n        vertical-align: top;\n    }\n\n    .dataframe thead th {\n        text-align: right;\n    }\n</style>\n<table border=\"1\" class=\"dataframe\">\n  <thead>\n    <tr style=\"text-align: right;\">\n      <th></th>\n      <th>主页ID</th>\n      <th>主页名称</th>\n      <th>分类</th>\n      <th>message</th>\n      <th>name</th>\n      <th>description</th>\n      <th>发文类型</th>\n    </tr>\n  </thead>\n  <tbody>\n  </tbody>\n</table>\n</div>"
     },
     "execution_count": 10,
     "metadata": {},
     "output_type": "execute_result"
    }
   ],
   "source": [
    "data[data['主页ID'] == '419000000000000']\n"
   ],
   "metadata": {
    "collapsed": false,
    "pycharm": {
     "name": "#%%\n"
    }
   }
  }
 ],
 "metadata": {
  "kernelspec": {
   "display_name": "Python 3",
   "language": "python",
   "name": "python3"
  },
  "language_info": {
   "codemirror_mode": {
    "name": "ipython",
    "version": 2
   },
   "file_extension": ".py",
   "mimetype": "text/x-python",
   "name": "python",
   "nbconvert_exporter": "python",
   "pygments_lexer": "ipython2",
   "version": "2.7.6"
  }
 },
 "nbformat": 4,
 "nbformat_minor": 0
}
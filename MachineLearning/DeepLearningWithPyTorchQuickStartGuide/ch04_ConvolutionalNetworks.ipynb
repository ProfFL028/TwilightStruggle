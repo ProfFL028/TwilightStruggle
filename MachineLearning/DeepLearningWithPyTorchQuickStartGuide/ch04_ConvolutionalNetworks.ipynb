{
 "cells": [
  {
   "cell_type": "code",
   "execution_count": 1,
   "metadata": {
    "collapsed": true
   },
   "outputs": [],
   "source": [
    "import torch\n",
    "import torch.nn as nn\n"
   ]
  },
  {
   "cell_type": "markdown",
   "source": [
    "### Bench model"
   ],
   "metadata": {
    "collapsed": false,
    "pycharm": {
     "name": "#%% md\n"
    }
   }
  },
  {
   "cell_type": "code",
   "execution_count": 2,
   "outputs": [],
   "source": [
    "class Model4_1(nn.Module):\n",
    "    def __init__(self):\n",
    "        super(Model4_1, self).__init__()\n",
    "        self.lin1 = nn.Linear(784, 100)\n",
    "        self.relu = nn.ReLU()\n",
    "        self.lin2 = nn.Linear(100, 10)\n",
    "\n",
    "    def forward(self, x):\n",
    "        out = self.lin1(x)\n",
    "        out = self.relu(out)\n",
    "        out = self.lin2(out)\n",
    "        return out\n",
    "model4_1 = Model4_1()"
   ],
   "metadata": {
    "collapsed": false,
    "pycharm": {
     "name": "#%%\n"
    }
   }
  },
  {
   "cell_type": "code",
   "execution_count": 4,
   "outputs": [],
   "source": [
    "class Model4_2(nn.Module):\n",
    "    def __init__(self):\n",
    "        super(Model4_2, self).__init__()\n",
    "        self.lin1 = nn.Linear(784, 100)\n",
    "        self.tanh = nn.Tanh()\n",
    "        self.lin2 = nn.Linear(100, 10)\n",
    "\n",
    "    def forward(self, x):\n",
    "        out = self.lin1(x)\n",
    "        out = self.tanh(out)\n",
    "        out = self.lin2(out)\n",
    "        return out\n",
    "model4_2 = Model4_2()"
   ],
   "metadata": {
    "collapsed": false,
    "pycharm": {
     "name": "#%%\n"
    }
   }
  },
  {
   "cell_type": "code",
   "execution_count": 5,
   "outputs": [],
   "source": [
    "class Model4_3(nn.Module):\n",
    "    def __init__(self):\n",
    "        super(Model4_3, self).__init__()\n",
    "        self.lin1 = nn.Linear(784, 100)\n",
    "        self.sigmoid = nn.Sigmoid()\n",
    "        self.lin2 = nn.Linear(100, 10)\n",
    "\n",
    "    def forward(self, x):\n",
    "        out = self.lin1(x)\n",
    "        out = self.sigmoid(out)\n",
    "        out = self.lin2(out)\n",
    "        return out\n",
    "model4_3 = Model4_3()"
   ],
   "metadata": {
    "collapsed": false,
    "pycharm": {
     "name": "#%%\n"
    }
   }
  },
  {
   "cell_type": "code",
   "execution_count": 6,
   "outputs": [],
   "source": [
    "import torchvision\n",
    "import torchvision.transforms as transforms\n",
    "batchSize = 100\n",
    "trainSet = torchvision.datasets.MNIST(root='./data', train = True, transform=transforms.ToTensor(), download=True)\n",
    "trainLoader = torch.utils.data.DataLoader(dataset=trainSet, batch_size=batchSize, shuffle = True)\n",
    "testSet = torchvision.datasets.MNIST(root='./data', train = False, transform=transforms.ToTensor(), download=True)\n",
    "testLoader = torch.utils.data.DataLoader(dataset=testSet, batch_size=batchSize, shuffle = True)"
   ],
   "metadata": {
    "collapsed": false,
    "pycharm": {
     "name": "#%%\n"
    }
   }
  },
  {
   "cell_type": "code",
   "execution_count": 9,
   "outputs": [],
   "source": [
    "def accuracy(testLoader,model):\n",
    "    correct, total = 0, 0\n",
    "    with torch.no_grad():\n",
    "        for data in testLoader:\n",
    "            images, labels = data\n",
    "            outputs = model(images.view(-1, 28*28))\n",
    "            _, predicted = torch.max(outputs.data, 1)\n",
    "            total += labels.size(0)\n",
    "            correct += (predicted == labels).sum().item()\n",
    "    return(correct / total)"
   ],
   "metadata": {
    "collapsed": false,
    "pycharm": {
     "name": "#%%\n"
    }
   }
  },
  {
   "cell_type": "code",
   "execution_count": 10,
   "outputs": [],
   "source": [
    "import torch.optim as optim\n",
    "import time\n",
    "\n",
    "def benchmark(trainLoader, model, epochs=1, lr=0.01):\n",
    "    model.__init__()\n",
    "    start = time.time()\n",
    "    optimizer = optim.SGD(model.parameters(), lr=lr)\n",
    "    criterion = nn.CrossEntropyLoss()\n",
    "    for epoch in range(epochs):\n",
    "        for i, (images, labels) in enumerate(trainLoader):\n",
    "            optimizer.zero_grad()\n",
    "            outputs = model(images.view(-1, 28 * 28))\n",
    "            loss = criterion(outputs, labels)\n",
    "            loss.backward()\n",
    "            optimizer.step()\n",
    "    print(\"Accuracy: {0:.4f}\".format(accuracy(testLoader, model)))\n",
    "    print(\"Training Time: {0:.2f}\".format(time.time() - start))"
   ],
   "metadata": {
    "collapsed": false,
    "pycharm": {
     "name": "#%%\n"
    }
   }
  },
  {
   "cell_type": "code",
   "execution_count": 11,
   "outputs": [
    {
     "name": "stdout",
     "output_type": "stream",
     "text": [
      "ReLU activation:\n",
      "Accuracy: 0.9577\n",
      "Training Time: 27.80\n",
      "Tanh activation\n",
      "Accuracy: 0.9516\n",
      "Training Time: 32.06\n",
      "sigmoid activation\n",
      "Accuracy: 0.9201\n",
      "Training Time: 34.36\n"
     ]
    }
   ],
   "source": [
    "print('ReLU activation:')\n",
    "benchmark(trainLoader, model4_1, epochs=5, lr = 0.1)\n",
    "print('Tanh activation')\n",
    "benchmark(trainLoader, model4_2, epochs=5, lr = 0.1)\n",
    "print('sigmoid activation')\n",
    "benchmark(trainLoader, model4_3, epochs=5, lr = 0.1)"
   ],
   "metadata": {
    "collapsed": false,
    "pycharm": {
     "name": "#%%\n"
    }
   }
  },
  {
   "cell_type": "code",
   "execution_count": 14,
   "outputs": [],
   "source": [
    "class Model4_4(nn.Module):\n",
    "    def __init__(self):\n",
    "        super(Model4_4, self).__init__()\n",
    "        self.layer1 = nn.Sequential(nn.Linear(784, 100), nn.ReLU())\n",
    "        self.layer2 = nn.Sequential(nn.Linear(100, 50), nn.ReLU(), nn.Linear(50, 10))\n",
    "\n",
    "    def forward(self, x):\n",
    "        out = self.layer1(x)\n",
    "        out = self.layer2(out)\n",
    "        return out\n",
    "model4_4 = Model4_4()"
   ],
   "metadata": {
    "collapsed": false,
    "pycharm": {
     "name": "#%%\n"
    }
   }
  },
  {
   "cell_type": "code",
   "execution_count": 15,
   "outputs": [
    {
     "name": "stdout",
     "output_type": "stream",
     "text": [
      "Mutli Linear Layers:\n",
      "Accuracy: 0.9663\n",
      "Training Time: 30.42\n"
     ]
    }
   ],
   "source": [
    "print('Mutli Linear Layers:')\n",
    "benchmark(trainLoader, model4_4, epochs=5, lr = 0.1)"
   ],
   "metadata": {
    "collapsed": false,
    "pycharm": {
     "name": "#%%\n"
    }
   }
  },
  {
   "cell_type": "code",
   "execution_count": 17,
   "outputs": [],
   "source": [
    "class CNNModel1(nn.Module):\n",
    "    def __init__(self):\n",
    "        super(CNNModel1, self).__init__()\n",
    "        self.cnn1 = nn.Conv2d(in_channels=1, out_channels=32, kernel_size=5, stride=1, padding=2)\n",
    "        self.relu1 = nn.ReLU()\n",
    "        self.maxPool1 = nn.MaxPool2d(kernel_size=2)\n",
    "        self.fc1 = nn.Linear(32 * 14 * 14, 10)\n",
    "\n",
    "    def forward(self, x):\n",
    "        out = self.cnn1(x)\n",
    "        out = self.relu1(out)\n",
    "        out = self.maxPool1(out)\n",
    "        out = out.view(out.size(0), -1)\n",
    "        out = self.fc1(out)\n",
    "        return out"
   ],
   "metadata": {
    "collapsed": false,
    "pycharm": {
     "name": "#%%\n"
    }
   }
  },
  {
   "cell_type": "code",
   "execution_count": 19,
   "outputs": [],
   "source": [
    "def benchmark(trainLoader, model, epochs=1, lr=0.01):\n",
    "    model.__init__()\n",
    "    start=time.time()\n",
    "    optimiser = optim.SGD(model.parameters(), lr=lr)\n",
    "    criterion = nn.CrossEntropyLoss()\n",
    "    for epoch in range(epochs):\n",
    "        for i, (images, labels) in enumerate(trainLoader):\n",
    "            optimiser.zero_grad()\n",
    "            outputs = model(images)\n",
    "            loss = criterion(outputs, labels)\n",
    "            loss.backward()\n",
    "            optimiser.step()\n",
    "    print('Accuracy: {0:.4f}'.format(accuracy(testLoader,model)))\n",
    "    print('Training time: {0:.2f}'.format(time.time() - start))\n",
    "\n",
    "def accuracy(testLoader,model):\n",
    "    correct, total = 0, 0\n",
    "    with torch.no_grad():\n",
    "        for data in testLoader:\n",
    "            images, labels = data\n",
    "            outputs = model(images)\n",
    "            _, predicted = torch.max(outputs.data, 1)\n",
    "            total += labels.size(0)\n",
    "            correct += (predicted == labels).sum().item()\n",
    "    return(correct / total)"
   ],
   "metadata": {
    "collapsed": false,
    "pycharm": {
     "name": "#%%\n"
    }
   }
  },
  {
   "cell_type": "code",
   "execution_count": 20,
   "outputs": [
    {
     "name": "stdout",
     "output_type": "stream",
     "text": [
      "1 convolutional layers\n",
      "Accuracy: 0.9691\n",
      "Training time: 37.15\n"
     ]
    }
   ],
   "source": [
    "print('1 convolutional layers')\n",
    "model1 = CNNModel1()\n",
    "benchmark(trainLoader, model1, lr=0.1)"
   ],
   "metadata": {
    "collapsed": false,
    "pycharm": {
     "name": "#%%\n"
    }
   }
  },
  {
   "cell_type": "code",
   "execution_count": 25,
   "outputs": [],
   "source": [
    "class CNNModel2(nn.Module):\n",
    "    def __init__(self):\n",
    "        super(CNNModel2, self).__init__()\n",
    "        self.layer1 = nn.Sequential(nn.Conv2d(1, 16, kernel_size=5, stride=1, padding=2),\n",
    "                                    nn.ReLU(),\n",
    "                                    nn.MaxPool2d(kernel_size=2, stride=2))\n",
    "\n",
    "        self.layer2 = nn.Sequential(nn.Conv2d(16, 32, kernel_size=5, stride=1, padding=2),\n",
    "                                    nn.ReLU(),\n",
    "                                    nn.MaxPool2d(kernel_size=2, stride=2))\n",
    "        self.fc1 = nn.Linear(32 * 7 * 7, 10)\n",
    "\n",
    "    def forward(self, x):\n",
    "        out = self.layer1(x)\n",
    "        out = self.layer2(out)\n",
    "        out=out.view(out.size(0), -1)\n",
    "        out = self.fc1(out)\n",
    "        return out"
   ],
   "metadata": {
    "collapsed": false,
    "pycharm": {
     "name": "#%%\n"
    }
   }
  },
  {
   "cell_type": "code",
   "execution_count": 26,
   "outputs": [
    {
     "name": "stdout",
     "output_type": "stream",
     "text": [
      "2 convolutional layers\n",
      "Accuracy: 0.9721\n",
      "Training time: 30.94\n"
     ]
    }
   ],
   "source": [
    "print('2 convolutional layers')\n",
    "model2 = CNNModel2()\n",
    "benchmark(trainLoader, model2, lr=0.1)"
   ],
   "metadata": {
    "collapsed": false,
    "pycharm": {
     "name": "#%%\n"
    }
   }
  }
 ],
 "metadata": {
  "kernelspec": {
   "display_name": "Python 3",
   "language": "python",
   "name": "python3"
  },
  "language_info": {
   "codemirror_mode": {
    "name": "ipython",
    "version": 2
   },
   "file_extension": ".py",
   "mimetype": "text/x-python",
   "name": "python",
   "nbconvert_exporter": "python",
   "pygments_lexer": "ipython2",
   "version": "2.7.6"
  }
 },
 "nbformat": 4,
 "nbformat_minor": 0
}
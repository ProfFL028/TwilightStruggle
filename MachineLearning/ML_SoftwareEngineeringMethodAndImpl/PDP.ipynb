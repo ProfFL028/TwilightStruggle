{
 "cells": [
  {
   "cell_type": "code",
   "execution_count": 2,
   "metadata": {
    "pycharm": {
     "name": "#%%\n"
    }
   },
   "outputs": [],
   "source": [
    "import numpy as np\n",
    "import pandas as pd\n",
    "from sklearn.datasets import fetch_california_housing\n",
    "cal_housing = fetch_california_housing()\n",
    "X = pd.DataFrame(cal_housing.data, columns=cal_housing.feature_names)\n",
    "y = cal_housing.target"
   ]
  },
  {
   "cell_type": "code",
   "execution_count": 3,
   "metadata": {
    "pycharm": {
     "name": "#%%from sklearn.model_selection import train_tesfrom sklearn.model_selection import train_test_split\n"
    }
   },
   "outputs": [
    {
     "data": {
      "text/plain": "       MedInc  HouseAge  AveRooms  AveBedrms  Population  AveOccup  Latitude  \\\n7061   4.1312      35.0  5.882353   0.975490      1218.0  2.985294     33.93   \n14689  2.8631      20.0  4.401210   1.076613       999.0  2.014113     32.79   \n17323  4.2026      24.0  5.617544   0.989474       731.0  2.564912     34.59   \n10056  3.1094      14.0  5.869565   1.094203       302.0  2.188406     39.26   \n15750  3.3068      52.0  4.801205   1.066265      1526.0  2.298193     37.77   \n...       ...       ...       ...        ...         ...       ...       ...   \n11284  6.3700      35.0  6.129032   0.926267       658.0  3.032258     33.78   \n11964  3.0500      33.0  6.868597   1.269488      1753.0  3.904232     34.02   \n5390   2.9344      36.0  3.986717   1.079696      1756.0  3.332068     34.03   \n860    5.7192      15.0  6.395349   1.067979      1777.0  3.178891     37.58   \n15795  2.5755      52.0  3.402576   1.058776      2619.0  2.108696     37.77   \n\n       Longitude  \n7061     -118.02  \n14689    -117.09  \n17323    -120.14  \n10056    -121.00  \n15750    -122.45  \n...          ...  \n11284    -117.96  \n11964    -117.43  \n5390     -118.38  \n860      -121.96  \n15795    -122.42  \n\n[14448 rows x 8 columns]",
      "text/html": "<div>\n<style scoped>\n    .dataframe tbody tr th:only-of-type {\n        vertical-align: middle;\n    }\n\n    .dataframe tbody tr th {\n        vertical-align: top;\n    }\n\n    .dataframe thead th {\n        text-align: right;\n    }\n</style>\n<table border=\"1\" class=\"dataframe\">\n  <thead>\n    <tr style=\"text-align: right;\">\n      <th></th>\n      <th>MedInc</th>\n      <th>HouseAge</th>\n      <th>AveRooms</th>\n      <th>AveBedrms</th>\n      <th>Population</th>\n      <th>AveOccup</th>\n      <th>Latitude</th>\n      <th>Longitude</th>\n    </tr>\n  </thead>\n  <tbody>\n    <tr>\n      <th>7061</th>\n      <td>4.1312</td>\n      <td>35.0</td>\n      <td>5.882353</td>\n      <td>0.975490</td>\n      <td>1218.0</td>\n      <td>2.985294</td>\n      <td>33.93</td>\n      <td>-118.02</td>\n    </tr>\n    <tr>\n      <th>14689</th>\n      <td>2.8631</td>\n      <td>20.0</td>\n      <td>4.401210</td>\n      <td>1.076613</td>\n      <td>999.0</td>\n      <td>2.014113</td>\n      <td>32.79</td>\n      <td>-117.09</td>\n    </tr>\n    <tr>\n      <th>17323</th>\n      <td>4.2026</td>\n      <td>24.0</td>\n      <td>5.617544</td>\n      <td>0.989474</td>\n      <td>731.0</td>\n      <td>2.564912</td>\n      <td>34.59</td>\n      <td>-120.14</td>\n    </tr>\n    <tr>\n      <th>10056</th>\n      <td>3.1094</td>\n      <td>14.0</td>\n      <td>5.869565</td>\n      <td>1.094203</td>\n      <td>302.0</td>\n      <td>2.188406</td>\n      <td>39.26</td>\n      <td>-121.00</td>\n    </tr>\n    <tr>\n      <th>15750</th>\n      <td>3.3068</td>\n      <td>52.0</td>\n      <td>4.801205</td>\n      <td>1.066265</td>\n      <td>1526.0</td>\n      <td>2.298193</td>\n      <td>37.77</td>\n      <td>-122.45</td>\n    </tr>\n    <tr>\n      <th>...</th>\n      <td>...</td>\n      <td>...</td>\n      <td>...</td>\n      <td>...</td>\n      <td>...</td>\n      <td>...</td>\n      <td>...</td>\n      <td>...</td>\n    </tr>\n    <tr>\n      <th>11284</th>\n      <td>6.3700</td>\n      <td>35.0</td>\n      <td>6.129032</td>\n      <td>0.926267</td>\n      <td>658.0</td>\n      <td>3.032258</td>\n      <td>33.78</td>\n      <td>-117.96</td>\n    </tr>\n    <tr>\n      <th>11964</th>\n      <td>3.0500</td>\n      <td>33.0</td>\n      <td>6.868597</td>\n      <td>1.269488</td>\n      <td>1753.0</td>\n      <td>3.904232</td>\n      <td>34.02</td>\n      <td>-117.43</td>\n    </tr>\n    <tr>\n      <th>5390</th>\n      <td>2.9344</td>\n      <td>36.0</td>\n      <td>3.986717</td>\n      <td>1.079696</td>\n      <td>1756.0</td>\n      <td>3.332068</td>\n      <td>34.03</td>\n      <td>-118.38</td>\n    </tr>\n    <tr>\n      <th>860</th>\n      <td>5.7192</td>\n      <td>15.0</td>\n      <td>6.395349</td>\n      <td>1.067979</td>\n      <td>1777.0</td>\n      <td>3.178891</td>\n      <td>37.58</td>\n      <td>-121.96</td>\n    </tr>\n    <tr>\n      <th>15795</th>\n      <td>2.5755</td>\n      <td>52.0</td>\n      <td>3.402576</td>\n      <td>1.058776</td>\n      <td>2619.0</td>\n      <td>2.108696</td>\n      <td>37.77</td>\n      <td>-122.42</td>\n    </tr>\n  </tbody>\n</table>\n<p>14448 rows × 8 columns</p>\n</div>"
     },
     "execution_count": 3,
     "metadata": {},
     "output_type": "execute_result"
    }
   ],
   "source": [
    "from sklearn.model_selection import train_test_split\n",
    "X_train, X_test, y_train, y_test = train_test_split(X, y, test_size=0.3, random_state=42)\n",
    "X_train"
   ]
  },
  {
   "cell_type": "code",
   "execution_count": 5,
   "outputs": [
    {
     "name": "stderr",
     "output_type": "stream",
     "text": [
      "<ipython-input-5-ccee8bbdd46e>:13: VisibleDeprecationWarning: Creating an ndarray from ragged nested sequences (which is a list-or-tuple of lists-or-tuples-or ndarrays with different lengths or shapes) is deprecated. If you meant to do this, you must specify 'dtype=object' when creating the ndarray.\n",
      "  grid = np.array(grid)\n"
     ]
    },
    {
     "ename": "MemoryError",
     "evalue": "",
     "output_type": "error",
     "traceback": [
      "\u001B[1;31m---------------------------------------------------------------------------\u001B[0m",
      "\u001B[1;31mMemoryError\u001B[0m                               Traceback (most recent call last)",
      "\u001B[1;32m<ipython-input-5-ccee8bbdd46e>\u001B[0m in \u001B[0;36m<module>\u001B[1;34m\u001B[0m\n\u001B[0;32m     12\u001B[0m     \u001B[0mgrid\u001B[0m\u001B[1;33m.\u001B[0m\u001B[0mappend\u001B[0m\u001B[1;33m(\u001B[0m\u001B[0mvals\u001B[0m\u001B[1;33m)\u001B[0m\u001B[1;33m\u001B[0m\u001B[1;33m\u001B[0m\u001B[0m\n\u001B[0;32m     13\u001B[0m \u001B[0mgrid\u001B[0m \u001B[1;33m=\u001B[0m \u001B[0mnp\u001B[0m\u001B[1;33m.\u001B[0m\u001B[0marray\u001B[0m\u001B[1;33m(\u001B[0m\u001B[0mgrid\u001B[0m\u001B[1;33m)\u001B[0m\u001B[1;33m\u001B[0m\u001B[1;33m\u001B[0m\u001B[0m\n\u001B[1;32m---> 14\u001B[1;33m \u001B[0mdt\u001B[0m \u001B[1;33m=\u001B[0m \u001B[0mpd\u001B[0m\u001B[1;33m.\u001B[0m\u001B[0mDataFrame\u001B[0m\u001B[1;33m(\u001B[0m\u001B[0mlist\u001B[0m\u001B[1;33m(\u001B[0m\u001B[0mproduct\u001B[0m\u001B[1;33m(\u001B[0m\u001B[1;33m*\u001B[0m\u001B[0mgrid\u001B[0m\u001B[1;33m)\u001B[0m\u001B[1;33m)\u001B[0m\u001B[1;33m)\u001B[0m\u001B[1;33m.\u001B[0m\u001B[0mvalues\u001B[0m\u001B[1;33m\u001B[0m\u001B[1;33m\u001B[0m\u001B[0m\n\u001B[0m\u001B[0;32m     15\u001B[0m \u001B[0mdt\u001B[0m\u001B[1;33m\u001B[0m\u001B[1;33m\u001B[0m\u001B[0m\n",
      "\u001B[1;31mMemoryError\u001B[0m: "
     ]
    }
   ],
   "source": [
    "from itertools import product\n",
    "grid_range = [0.05, 0.95]\n",
    "grid_range = [x * 100 for x in grid_range]\n",
    "bins = np.linspace(*grid_range, num=100).tolist()\n",
    "grid = []\n",
    "for ff in cal_housing.feature_names:\n",
    "    data = X_train[ff]\n",
    "    if len(np.unique(data)) < 100:\n",
    "        vals = np.unique(data)\n",
    "    else:\n",
    "        vals = np.unique(np.percentile(data, bins))\n",
    "    grid.append(vals)\n",
    "grid = np.array(grid)\n",
    "dt = pd.DataFrame(list(product(*grid))).values\n",
    "dt"
   ],
   "metadata": {
    "collapsed": false,
    "pycharm": {
     "name": "#%%\n"
    }
   }
  }
 ],
 "metadata": {
  "kernelspec": {
   "display_name": "Python 3",
   "language": "python",
   "name": "python3"
  },
  "language_info": {
   "codemirror_mode": {
    "name": "ipython",
    "version": 3
   },
   "file_extension": ".py",
   "mimetype": "text/x-python",
   "name": "python",
   "nbconvert_exporter": "python",
   "pygments_lexer": "ipython3",
   "version": "3.8.8"
  }
 },
 "nbformat": 4,
 "nbformat_minor": 1
}
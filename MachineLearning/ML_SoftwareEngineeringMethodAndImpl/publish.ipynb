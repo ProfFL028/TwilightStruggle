{
 "cells": [
  {
   "cell_type": "code",
   "execution_count": null,
   "metadata": {
    "collapsed": true
   },
   "outputs": [],
   "source": [
    "from sklearn.tree._tree import TREE_LEAF\n",
    "import numpy as np\n",
    "\n",
    "class DtRules2Code:\n",
    "    def generate_sql_code(self, class_names=None):\n",
    "        idx = np.argwhere(self.left == TREE_LEAF)[:, 0]\n",
    "\n",
    "        def get_node_path(left, right, child, lineage=None):\n",
    "            if lineage is None:\n",
    "                lineage = [child]\n",
    "\n",
    "            if child in left:\n",
    "                parent = np.where(left == child)[0][0]\n",
    "                split = 'l'\n",
    "            else:\n",
    "                parent = np.where(right == child)[0][0]\n",
    "                split = 'r'\n",
    "            lineage.append((parent, split, self.threshold[parent], self.features[parent]))\n",
    "\n",
    "            if parent == 0:\n",
    "                lineage.reverse()\n",
    "                return lineage\n",
    "            else:\n",
    "                return get_node_path(left, right, parent, lineage)\n",
    "\n",
    "        print('CASE ')\n",
    "        for j, child in enumerate(idx):\n",
    "            clause = '  WHEN '\n",
    "            for node in get_node_path(self.left, self.right, child):\n",
    "                if not isinstance(node, tuple):\n",
    "                    continue\n",
    "                i = node\n",
    "                if i[1] == 'l' : sign = self.le\n",
    "                else: sign = self.gt\n",
    "                clause = clause + i[3] + sign + str(i[2]) + ' AND '\n",
    "\n",
    "            clause = clause[:-4] + ' THEN ' + str(np.argmax(self.value[child]))\n",
    "            print(clause)\n",
    "        print('ELSE -1 END')\n"
   ]
  },
  {
   "cell_type": "code",
   "execution_count": 1,
   "outputs": [],
   "source": [
    "from sklearn.datasets import load_iris\n",
    "from sklearn.tree import DecisionTreeClassifier\n",
    "from sklearn2pmml import sklearn2pmml\n",
    "from sklearn2pmml.pipeline import PMMLPipeline"
   ],
   "metadata": {
    "collapsed": false,
    "pycharm": {
     "name": "#%%\n"
    }
   }
  },
  {
   "cell_type": "code",
   "execution_count": 2,
   "outputs": [
    {
     "name": "stderr",
     "output_type": "stream",
     "text": [
      "C:\\Users\\Administrator\\anaconda3\\lib\\subprocess.py:848: RuntimeWarning: line buffering (buffering=1) isn't supported in binary mode, the default buffer size will be used\n",
      "  self.stdout = io.open(c2pread, 'rb', bufsize)\n",
      "C:\\Users\\Administrator\\anaconda3\\lib\\subprocess.py:853: RuntimeWarning: line buffering (buffering=1) isn't supported in binary mode, the default buffer size will be used\n",
      "  self.stderr = io.open(errread, 'rb', bufsize)\n"
     ]
    }
   ],
   "source": [
    "data = load_iris()\n",
    "X = data.data\n",
    "y = data.target\n",
    "pipeline = PMMLPipeline([(\"classifier\", DecisionTreeClassifier(max_depth=8))])\n",
    "pipeline.fit(X, y)\n",
    "sklearn2pmml(pipeline, \"example.pmml\", with_repr=True)"
   ],
   "metadata": {
    "collapsed": false,
    "pycharm": {
     "name": "#%%\n"
    }
   }
  },
  {
   "cell_type": "code",
   "execution_count": 4,
   "outputs": [
    {
     "name": "stdout",
     "output_type": "stream",
     "text": [
      "[16:46:10] WARNING: C:/Users/Administrator/workspace/xgboost-win64_release_1.5.1/src/objective/regression_obj.cu:188: reg:linear is now deprecated in favor of reg:squarederror.\n",
      "[16:46:10] WARNING: C:/Users/Administrator/workspace/xgboost-win64_release_1.5.1/src/learner.cc:576: \n",
      "Parameters: { \"silent\" } might not be used.\n",
      "\n",
      "  This could be a false alarm, with some parameters getting used by language bindings but\n",
      "  then being mistakenly passed down to XGBoost core, or some parameter actually being used\n",
      "  but getting flagged wrongly here. Please open an issue if you find any such cases.\n",
      "\n",
      "\n",
      "[0]\ttrain-rmse:3.89049\n",
      "[1]\ttrain-rmse:3.38204\n",
      "[2]\ttrain-rmse:3.10513\n",
      "[3]\ttrain-rmse:2.84322\n",
      "[4]\ttrain-rmse:2.60580\n",
      "[5]\ttrain-rmse:2.45425\n",
      "[6]\ttrain-rmse:2.29526\n",
      "[7]\ttrain-rmse:2.17920\n",
      "[8]\ttrain-rmse:2.09359\n",
      "[9]\ttrain-rmse:1.96872\n",
      "[10]\ttrain-rmse:1.93416\n",
      "[11]\ttrain-rmse:1.83528\n",
      "[12]\ttrain-rmse:1.78750\n",
      "[13]\ttrain-rmse:1.71018\n",
      "[14]\ttrain-rmse:1.64747\n",
      "[15]\ttrain-rmse:1.57359\n",
      "[16]\ttrain-rmse:1.49626\n",
      "[17]\ttrain-rmse:1.43896\n",
      "[18]\ttrain-rmse:1.37123\n",
      "[19]\ttrain-rmse:1.30187\n"
     ]
    }
   ],
   "source": [
    "import treelite\n",
    "from sklearn.datasets import load_boston\n",
    "X, y = load_boston(return_X_y=True)\n",
    "import xgboost\n",
    "dtrain = xgboost.DMatrix(X, label=y)\n",
    "params = {'max_depth': 3, 'eta': 1, 'silent': 1, 'objective': 'reg:linear', 'eval_metric':'rmse'}\n",
    "bst = xgboost.train(params, dtrain, 20, [(dtrain, 'train')])"
   ],
   "metadata": {
    "collapsed": false,
    "pycharm": {
     "name": "#%%\n"
    }
   }
  },
  {
   "cell_type": "code",
   "execution_count": 5,
   "outputs": [
    {
     "ename": "ValueError",
     "evalue": "Toolchain gcc not found. Ensure that it is installed and that it is a variant of GCC or Clang.",
     "output_type": "error",
     "traceback": [
      "\u001B[1;31m---------------------------------------------------------------------------\u001B[0m",
      "\u001B[1;31mValueError\u001B[0m                                Traceback (most recent call last)",
      "\u001B[1;32m<ipython-input-5-f6390577dfe0>\u001B[0m in \u001B[0;36m<module>\u001B[1;34m\u001B[0m\n\u001B[0;32m      1\u001B[0m \u001B[0mmodel\u001B[0m \u001B[1;33m=\u001B[0m \u001B[0mtreelite\u001B[0m\u001B[1;33m.\u001B[0m\u001B[0mModel\u001B[0m\u001B[1;33m.\u001B[0m\u001B[0mfrom_xgboost\u001B[0m\u001B[1;33m(\u001B[0m\u001B[0mbst\u001B[0m\u001B[1;33m)\u001B[0m\u001B[1;33m\u001B[0m\u001B[1;33m\u001B[0m\u001B[0m\n\u001B[1;32m----> 2\u001B[1;33m \u001B[0mmodel\u001B[0m\u001B[1;33m.\u001B[0m\u001B[0mexport_lib\u001B[0m\u001B[1;33m(\u001B[0m\u001B[0mtoolchain\u001B[0m\u001B[1;33m=\u001B[0m\u001B[1;34m'gcc'\u001B[0m\u001B[1;33m,\u001B[0m \u001B[0mlibpath\u001B[0m\u001B[1;33m=\u001B[0m\u001B[1;34m'./mymodel.so'\u001B[0m\u001B[1;33m,\u001B[0m \u001B[0mverbose\u001B[0m\u001B[1;33m=\u001B[0m\u001B[1;32mTrue\u001B[0m\u001B[1;33m)\u001B[0m\u001B[1;33m\u001B[0m\u001B[1;33m\u001B[0m\u001B[0m\n\u001B[0m",
      "\u001B[1;32m~\\anaconda3\\lib\\site-packages\\treelite\\frontend.py\u001B[0m in \u001B[0;36mexport_lib\u001B[1;34m(self, toolchain, libpath, params, compiler, verbose, nthread, options)\u001B[0m\n\u001B[0;32m    202\u001B[0m            \u001B[0mshutil\u001B[0m\u001B[1;33m.\u001B[0m\u001B[0mmove\u001B[0m\u001B[1;33m(\u001B[0m\u001B[1;34m'/temporary/directory/mymodel.dll'\u001B[0m\u001B[1;33m,\u001B[0m \u001B[1;34m'./mymodel.dll'\u001B[0m\u001B[1;33m)\u001B[0m\u001B[1;33m\u001B[0m\u001B[1;33m\u001B[0m\u001B[0m\n\u001B[0;32m    203\u001B[0m         \"\"\"\n\u001B[1;32m--> 204\u001B[1;33m         \u001B[0m_toolchain_exist_check\u001B[0m\u001B[1;33m(\u001B[0m\u001B[0mtoolchain\u001B[0m\u001B[1;33m)\u001B[0m\u001B[1;33m\u001B[0m\u001B[1;33m\u001B[0m\u001B[0m\n\u001B[0m\u001B[0;32m    205\u001B[0m \u001B[1;33m\u001B[0m\u001B[0m\n\u001B[0;32m    206\u001B[0m         \u001B[0m_params\u001B[0m \u001B[1;33m=\u001B[0m \u001B[0mdict\u001B[0m\u001B[1;33m(\u001B[0m\u001B[0mparams\u001B[0m\u001B[1;33m)\u001B[0m \u001B[1;32mif\u001B[0m \u001B[0misinstance\u001B[0m\u001B[1;33m(\u001B[0m\u001B[0mparams\u001B[0m\u001B[1;33m,\u001B[0m \u001B[0mlist\u001B[0m\u001B[1;33m)\u001B[0m \u001B[1;32melse\u001B[0m \u001B[0mparams\u001B[0m\u001B[1;33m\u001B[0m\u001B[1;33m\u001B[0m\u001B[0m\n",
      "\u001B[1;32m~\\anaconda3\\lib\\site-packages\\treelite\\contrib\\util.py\u001B[0m in \u001B[0;36m_toolchain_exist_check\u001B[1;34m(toolchain)\u001B[0m\n\u001B[0;32m     20\u001B[0m                                   stderr=subprocess.DEVNULL)\n\u001B[0;32m     21\u001B[0m         \u001B[1;32mif\u001B[0m \u001B[0mretcode\u001B[0m \u001B[1;33m!=\u001B[0m \u001B[1;36m0\u001B[0m\u001B[1;33m:\u001B[0m\u001B[1;33m\u001B[0m\u001B[1;33m\u001B[0m\u001B[0m\n\u001B[1;32m---> 22\u001B[1;33m             raise ValueError(f'Toolchain {toolchain} not found. Ensure that it is installed and '\n\u001B[0m\u001B[0;32m     23\u001B[0m                              + 'that it is a variant of GCC or Clang.')\n\u001B[0;32m     24\u001B[0m \u001B[1;33m\u001B[0m\u001B[0m\n",
      "\u001B[1;31mValueError\u001B[0m: Toolchain gcc not found. Ensure that it is installed and that it is a variant of GCC or Clang."
     ]
    }
   ],
   "source": [
    "model = treelite.Model.from_xgboost(bst)\n",
    "# install gcc first\n",
    "model.export_lib(toolchain='gcc', libpath='./mymodel.so', verbose=True)"
   ],
   "metadata": {
    "collapsed": false,
    "pycharm": {
     "name": "#%%\n"
    }
   }
  },
  {
   "cell_type": "code",
   "execution_count": null,
   "outputs": [],
   "source": [
    "import treelite_runtime\n",
    "predictor = treelite_runtime.predictor('./mymodel.so', verbose=True)\n",
    "# bath = treelite_runtime.Batch.fromnpy2d(X, rbegin=0, rend=5)\n",
    "# predictor.predict(batch)"
   ],
   "metadata": {
    "collapsed": false,
    "pycharm": {
     "name": "#%%\n"
    }
   }
  }
 ],
 "metadata": {
  "kernelspec": {
   "display_name": "Python 3",
   "language": "python",
   "name": "python3"
  },
  "language_info": {
   "codemirror_mode": {
    "name": "ipython",
    "version": 2
   },
   "file_extension": ".py",
   "mimetype": "text/x-python",
   "name": "python",
   "nbconvert_exporter": "python",
   "pygments_lexer": "ipython2",
   "version": "2.7.6"
  }
 },
 "nbformat": 4,
 "nbformat_minor": 0
}
{
 "cells": [
  {
   "cell_type": "code",
   "execution_count": 1,
   "metadata": {
    "collapsed": true
   },
   "outputs": [],
   "source": [
    "import numpy as np\n",
    "import pandas as pd\n",
    "\n",
    "\n",
    "def PSI(expect, actual, bin_nums=10, return_dict=True, unique_threshold=10, dropna=True):\n",
    "    def _psi(a, e):\n",
    "        if np.sum(a == 0) > 0:\n",
    "            print('actual data contains zero !! return 1')\n",
    "            return 1\n",
    "        return np.sum((a - e) * np.log(a / e))\n",
    "\n",
    "    def _fillna_cat(t, dropna):\n",
    "        t0 = pd.isnull(t[0]).sum()\n",
    "        t1 = pd.isnull(t[1]).sum()\n",
    "        if t0 > 0 or t1 > 0:\n",
    "            print('Nan statistics: \\n {}'.format(t0 + t1))\n",
    "            if dropna:\n",
    "                print('    Drop Nan !!')\n",
    "            else:\n",
    "                print('Replace Nan with min/10.0 !!')\n",
    "                t.fillna(t.min().min() / 10.0, inplace=True)\n",
    "        return t\n",
    "\n",
    "    def _fillna_cont(t1, t2, dropna):\n",
    "        tt1 = t1.isna().sum()\n",
    "        tt2 = t2.isna().sum()\n",
    "\n",
    "        if tt1 > 0 or tt2 > 0:\n",
    "            if (dropna):\n",
    "                t1 = t1.dropna()\n",
    "                t2 = t2.dropna()\n",
    "            else:\n",
    "                fillvalue = np.min(t1.min(), t2.min()) - 1\n",
    "                t1.fillna(fillvalue, inplace=True)\n",
    "                t2.fillna(fillvalue, inplace=True)\n",
    "        return t1, t2\n",
    "\n",
    "    def _bin_format(b):\n",
    "        b = np.unique(b)\n",
    "        b[0] = -np.inf\n",
    "        b[-1] = +np.inf\n",
    "        return b\n",
    "\n",
    "    if len(np.unique(expect)) < unique_threshold:\n",
    "        e_pct = expect.value_counts() / len(expect)\n",
    "        a_pct = actual.value_counts() / len(actual)\n",
    "\n",
    "        e_pct = e_pct.sort_index()\n",
    "        a_pct = a_pct.sort_index()\n",
    "\n",
    "        t = pd.concat([e_pct, a_pct], axis=1)\n",
    "        t.columns = [0, 1]\n",
    "        t = _fillna_cat(t, dropna)\n",
    "        e_pct, a_pct = t[0], t[1]\n",
    "    else:\n",
    "        expect, actual = _fillna_cont(expect, actual, dropna)\n",
    "        bins = np.percentile(expect, [(100.0 / bin_nums) * i for i in range(bin_nums + 1)], interpolation='nearest')\n",
    "        bins = _bin_format(bins)\n",
    "        e_pct = (pd.cut(expect, bins=bins, include_lowest=True).value_counts()) / len(expect)\n",
    "        a_pct = (pd.cut(actual, bins=bins, include_lowest=True).value_counts()) / len(actual)\n",
    "        a_pct = a_pct.sort_index()\n",
    "        e_pct = e_pct.sort_index()\n",
    "\n",
    "    p = _psi(a_pct, e_pct)\n",
    "    if return_dict:\n",
    "        results = pd.DataFrame({\n",
    "            'expect_pct': e_pct.values,\n",
    "            'actual_pct': a_pct.values\n",
    "        }, index=e_pct.index)\n",
    "        return {'data': results, 'statistic': p}\n",
    "    return p"
   ]
  },
  {
   "cell_type": "code",
   "execution_count": 2,
   "outputs": [
    {
     "data": {
      "text/plain": "{'data':                   expect_pct  actual_pct\n (-inf, -1.328]          0.11        0.06\n (-1.328, -0.72]         0.10        0.22\n (-0.72, -0.502]         0.10        0.04\n (-0.502, -0.301]        0.10        0.04\n (-0.301, -0.116]        0.10        0.05\n (-0.116, 0.111]         0.09        0.10\n (0.111, 0.331]          0.10        0.14\n (0.331, 0.648]          0.10        0.12\n (0.648, 1.004]          0.10        0.11\n (1.004, inf]            0.10        0.12,\n 'statistic': 0.2922923789663523}"
     },
     "execution_count": 2,
     "metadata": {},
     "output_type": "execute_result"
    }
   ],
   "source": [
    "rdm = np.random.RandomState(42)\n",
    "e = rdm.normal(size=100)\n",
    "a = rdm.normal(size=100)\n",
    "PSI(pd.Series(e), pd.Series(a))"
   ],
   "metadata": {
    "collapsed": false,
    "pycharm": {
     "name": "#%%\n"
    }
   }
  },
  {
   "cell_type": "code",
   "execution_count": 3,
   "outputs": [],
   "source": [
    "def PSI_DF(df_exp, df_act, bin_nums=10):\n",
    "    cols = df_exp.columns.tolist()\n",
    "    col_name = []\n",
    "    psis = []\n",
    "    for cc in cols:\n",
    "        psis.append(PSI(df_exp[cc], df_act[cc], bin_nums=bin_nums, return_dict=False))\n",
    "        col_name.append(cc)\n",
    "    return pd.DataFrame({'column': col_name, 'psi': psis})"
   ],
   "metadata": {
    "collapsed": false,
    "pycharm": {
     "name": "#%%\n"
    }
   }
  },
  {
   "cell_type": "code",
   "execution_count": 4,
   "outputs": [
    {
     "data": {
      "text/plain": "  column       psi\n0   col1  0.184779\n1   col2  0.381491",
      "text/html": "<div>\n<style scoped>\n    .dataframe tbody tr th:only-of-type {\n        vertical-align: middle;\n    }\n\n    .dataframe tbody tr th {\n        vertical-align: top;\n    }\n\n    .dataframe thead th {\n        text-align: right;\n    }\n</style>\n<table border=\"1\" class=\"dataframe\">\n  <thead>\n    <tr style=\"text-align: right;\">\n      <th></th>\n      <th>column</th>\n      <th>psi</th>\n    </tr>\n  </thead>\n  <tbody>\n    <tr>\n      <th>0</th>\n      <td>col1</td>\n      <td>0.184779</td>\n    </tr>\n    <tr>\n      <th>1</th>\n      <td>col2</td>\n      <td>0.381491</td>\n    </tr>\n  </tbody>\n</table>\n</div>"
     },
     "execution_count": 4,
     "metadata": {},
     "output_type": "execute_result"
    }
   ],
   "source": [
    "e1 = rdm.normal(size=100)\n",
    "a1 = rdm.normal(size=100)\n",
    "e2 = rdm.normal(size=100)\n",
    "a2 = rdm.normal(size=100)\n",
    "e = pd.DataFrame({'col1': e1, 'col2': e2})\n",
    "a = pd.DataFrame({'col1': a1, 'col2': a2})\n",
    "PSI_DF(e, a)"
   ],
   "metadata": {
    "collapsed": false,
    "pycharm": {
     "name": "#%%\n"
    }
   }
  }
 ],
 "metadata": {
  "kernelspec": {
   "display_name": "Python 3",
   "language": "python",
   "name": "python3"
  },
  "language_info": {
   "codemirror_mode": {
    "name": "ipython",
    "version": 2
   },
   "file_extension": ".py",
   "mimetype": "text/x-python",
   "name": "python",
   "nbconvert_exporter": "python",
   "pygments_lexer": "ipython2",
   "version": "2.7.6"
  }
 },
 "nbformat": 4,
 "nbformat_minor": 0
}
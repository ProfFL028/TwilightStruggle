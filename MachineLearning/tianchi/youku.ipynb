{
 "cells": [
  {
   "cell_type": "code",
   "execution_count": null,
   "metadata": {
    "collapsed": true
   },
   "outputs": [],
   "source": [
    "import ffmpeg\n",
    "import os\n",
    "import cv2\n",
    "\n",
    "def video2img(dir_video, dir_imgs):\n",
    "    stream = ffmpeg.input(dir_video)\n",
    "    stream = ffmpeg.output(stream, dir_imgs)\n",
    "    ffmpeg.run(stream)\n",
    "\n",
    "def imgs2video(imgs_dir, video_dir):\n",
    "    stream = ffmpeg.input(imgs_dir)\n",
    "    stream = ffmpeg.output(stream, video_dir, pix_fmt='yuv420p')\n",
    "    ffmpeg.run(stream)\n",
    "\n",
    "input_dir = \"./youku/HIGH/\"\n",
    "output_dir = \"./HIGH/\"\n",
    "if not os.path.exists(output_dir):\n",
    "    os.mkdir(output_dir)\n",
    "list_files = os.listdir(input_dir)\n",
    "\n",
    "for i in range(1):\n",
    "    file_name = list_files[i]\n",
    "    dir_video = input_dir + file_name\n",
    "    dir_out = output_dir + file_name[:-4] + '/'\n",
    "    if not os.path.exists(dir_out):\n",
    "        os.mkdir(dir_out)\n",
    "    dir_out = dir_out + \"%3d.bmp\"\n",
    "    video2img(dir_video, dir_out)\n"
   ]
  },
  {
   "cell_type": "code",
   "execution_count": null,
   "outputs": [],
   "source": [],
   "metadata": {
    "collapsed": false,
    "pycharm": {
     "name": "#%%\n"
    }
   }
  }
 ],
 "metadata": {
  "kernelspec": {
   "display_name": "Python 3",
   "language": "python",
   "name": "python3"
  },
  "language_info": {
   "codemirror_mode": {
    "name": "ipython",
    "version": 2
   },
   "file_extension": ".py",
   "mimetype": "text/x-python",
   "name": "python",
   "nbconvert_exporter": "python",
   "pygments_lexer": "ipython2",
   "version": "2.7.6"
  }
 },
 "nbformat": 4,
 "nbformat_minor": 0
}
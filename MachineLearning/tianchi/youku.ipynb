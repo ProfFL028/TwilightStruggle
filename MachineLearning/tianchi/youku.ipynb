{
 "cells": [
  {
   "cell_type": "code",
   "execution_count": 1,
   "metadata": {
    "collapsed": true
   },
   "outputs": [],
   "source": [
    "import ffmpeg\n",
    "import os\n",
    "import cv2\n",
    "\n",
    "def video2img(dir_video, dir_imgs):\n",
    "    stream = ffmpeg.input(dir_video)\n",
    "    stream = ffmpeg.output(stream, dir_imgs)\n",
    "    ffmpeg.run(stream)\n",
    "\n",
    "def imgs2video(imgs_dir, video_dir):\n",
    "    stream = ffmpeg.input(imgs_dir)\n",
    "    stream = ffmpeg.output(stream, video_dir, pix_fmt='yuv420p')\n",
    "    ffmpeg.run(stream)"
   ]
  },
  {
   "cell_type": "code",
   "execution_count": 6,
   "outputs": [],
   "source": [
    "input_dir = \"./youku/LOW/\"\n",
    "output_dir = \"./youku/IMG_LOW/\"\n",
    "if not os.path.exists(output_dir):\n",
    "    os.mkdir(output_dir)\n",
    "list_files = os.listdir(input_dir)\n",
    "\n",
    "for i in range(1):\n",
    "    file_name = list_files[i]\n",
    "    dir_video = input_dir + file_name\n",
    "    dir_out = output_dir + file_name[:-4] + '/'\n",
    "    if not os.path.exists(dir_out):\n",
    "        os.mkdir(dir_out)\n",
    "    dir_out = dir_out + \"%3d.bmp\"\n",
    "    video2img(dir_video, dir_out)"
   ],
   "metadata": {
    "collapsed": false,
    "pycharm": {
     "name": "#%%\n"
    }
   }
  },
  {
   "cell_type": "code",
   "execution_count": 10,
   "outputs": [
    {
     "data": {
      "text/plain": "-1"
     },
     "execution_count": 10,
     "metadata": {},
     "output_type": "execute_result"
    }
   ],
   "source": [
    "img_path = os.path.join(output_dir, 'Youku_00000_l', '001.bmp')\n",
    "img = cv2.imread(img_path)\n",
    "cv2.imshow(img_path, img)\n",
    "cv2.waitKey(0)\n"
   ],
   "metadata": {
    "collapsed": false,
    "pycharm": {
     "name": "#%%\n"
    }
   }
  },
  {
   "cell_type": "code",
   "execution_count": 15,
   "outputs": [
    {
     "data": {
      "text/plain": "True"
     },
     "execution_count": 15,
     "metadata": {},
     "output_type": "execute_result"
    }
   ],
   "source": [
    "# 传统插值算法生成图片\n",
    "img_path = os.path.join('youku', 'IMG_LOW', 'Youku_00000_l', '034.bmp')\n",
    "img_l = cv2.imread(img_path)\n",
    "img_path = os.path.join('youku', 'IMG_HIGH', 'Youku_00000_h_GT', '034.bmp')\n",
    "img_h = cv2.imread(img_path)\n",
    "\n",
    "size_l = (480, 270)\n",
    "size_h = (1920, 1080)\n",
    "new_img = cv2.resize(img_l, size_h, interpolation=cv2.INTER_NEAREST)\n",
    "cv2.imwrite(\"youku/GEN/034_INTER_NEAREST.bmp\", new_img)\n",
    "\n",
    "new_img = cv2.resize(img_l, size_h, interpolation=cv2.INTER_LINEAR)\n",
    "cv2.imwrite(\"youku/GEN/034_INTER_LINEAR.bmp\", new_img)\n",
    "\n",
    "new_img = cv2.resize(img_l, size_h, interpolation=cv2.INTER_CUBIC)\n",
    "cv2.imwrite(\"youku/GEN/034_INTER_CUBIC.bmp\", new_img)"
   ],
   "metadata": {
    "collapsed": false,
    "pycharm": {
     "name": "#%%\n"
    }
   }
  },
  {
   "cell_type": "code",
   "execution_count": 17,
   "outputs": [
    {
     "name": "stdout",
     "output_type": "stream",
     "text": [
      "INTER NEAREST: 38.39652116975954\n",
      "INTER LINEAR: 38.89646804712031\n",
      "INTER CUBIC: 38.92935344332646\n"
     ]
    }
   ],
   "source": [
    "def psnr(img1, img2):\n",
    "    import numpy as np\n",
    "    import math\n",
    "    mse = np.mean((img1 - img2) ** 2)\n",
    "    if mse <= 1.0e-10:\n",
    "        return 100\n",
    "    return 10 * math.log10(255.0 ** 2/ mse)\n",
    "\n",
    "path = \"youku/GEN/034_INTER_NEAREST.bmp\"\n",
    "img_INTER_NEAREST = cv2.imread(path)\n",
    "print(\"INTER NEAREST:\", psnr(img_h, img_INTER_NEAREST))\n",
    "\n",
    "path = \"youku/GEN/034_INTER_LINEAR.bmp\"\n",
    "img_INTER_LINEAR = cv2.imread(path)\n",
    "print(\"INTER LINEAR:\", psnr(img_h, img_INTER_LINEAR))\n",
    "\n",
    "path = \"youku/GEN/034_INTER_CUBIC.bmp\"\n",
    "img_INTER_CUBIC = cv2.imread(path)\n",
    "print(\"INTER CUBIC:\", psnr(img_h, img_INTER_CUBIC))"
   ],
   "metadata": {
    "collapsed": false,
    "pycharm": {
     "name": "#%%\n"
    }
   }
  },
  {
   "cell_type": "code",
   "execution_count": 22,
   "outputs": [
    {
     "name": "stdout",
     "output_type": "stream",
     "text": [
      "Bicubic\n",
      "(270, 480, 3)\n",
      "Finish\n"
     ]
    }
   ],
   "source": [
    "# Bicubic\n",
    "def base_function(x, a=-0.5):\n",
    "    import numpy as np\n",
    "    Wx = 0\n",
    "    if np.abs(x) <= 1:\n",
    "        Wx = (a + 2) * (np.abs(x) ** 3) - (a + 3)*x**2 + 1\n",
    "    elif 1 <= np.abs(x) <= 2:\n",
    "        Wx = a * (np.abs(x)**3) - 5 * a * (np.abs(x)**2) + 8 * a * np.abs(x) - 4 * a\n",
    "    return Wx\n",
    "\n",
    "def padding(img):\n",
    "    import numpy as np\n",
    "    h, w, c = img.shape\n",
    "    print(img.shape)\n",
    "    pad_image = np.zeros((h+4, w+4, c))\n",
    "    pad_image[2:h+2, 2:w+2] = img\n",
    "    return pad_image\n",
    "\n",
    "def bicubic(img, scale, a=-0.5):\n",
    "    import numpy as np\n",
    "    print(\"Bicubic\")\n",
    "    h, w, color =img.shape\n",
    "    img = padding(img)\n",
    "    nh = h * scale\n",
    "    nw = w * scale\n",
    "    new_img = np.zeros((nh, nw, color))\n",
    "\n",
    "    for c in range(color):\n",
    "        for i in range(nw):\n",
    "            for j in range(nh):\n",
    "                px = i / scale + 2\n",
    "                py = j / scale + 2\n",
    "                px_int = int(px)\n",
    "                py_int = int(py)\n",
    "                u = px - px_int\n",
    "                v = py - py_int\n",
    "\n",
    "                A = np.matrix([[base_function(u + 1, a)], [base_function(u, a)], [base_function(u - 1, a)], [base_function(u- 2, a)]])\n",
    "                C = np.matrix([base_function(v+1, a), base_function(v, a), base_function(v-1, a), base_function(v-2, a)])\n",
    "                B = np.matrix([[img[py_int-1, px_int-1][c], img[py_int-1, px_int][c],\n",
    "                                img[py_int-1, px_int+1][c], img[py_int-1, px_int+2][c]],\n",
    "                               [img[py_int, px_int-1][c], img[py_int, px_int][c],\n",
    "                                img[py_int, px_int+1][c], img[py_int, px_int+2][c]],\n",
    "                               [img[py_int+1, px_int-1][c], img[py_int+1, px_int][c],\n",
    "                                img[py_int+1, px_int+1][c], img[py_int+1, px_int+2][c]],\n",
    "                               [img[py_int+2, px_int-1][c], img[py_int+2, px_int][c],\n",
    "                                img[py_int+2, px_int+1][c], img[py_int+2, px_int+2][c]]])\n",
    "                new_img[j, i][c] = np.dot(np.dot(C, B), A)\n",
    "\n",
    "    return new_img\n",
    "\n",
    "scale = 4\n",
    "new_img = bicubic(img_l, scale)\n",
    "cv2.imwrite(\"youku/GEN/034_l_bicubic.png\", new_img)\n",
    "print(\"Finish\")"
   ],
   "metadata": {
    "collapsed": false,
    "pycharm": {
     "name": "#%%\n"
    }
   }
  },
  {
   "cell_type": "code",
   "execution_count": 21,
   "outputs": [],
   "source": [
    "import numpy as np\n",
    "import tensorflow as tf\n",
    "from tensorflow import keras"
   ],
   "metadata": {
    "collapsed": false,
    "pycharm": {
     "name": "#%%\n"
    }
   }
  },
  {
   "cell_type": "code",
   "execution_count": 29,
   "outputs": [
    {
     "name": "stdout",
     "output_type": "stream",
     "text": [
      "Model: \"model_1\"\n",
      "_________________________________________________________________\n",
      " Layer (type)                Output Shape              Param #   \n",
      "=================================================================\n",
      " input_2 (InputLayer)        [(None, 1080, 1920, 3)]   0         \n",
      "                                                                 \n",
      " conv2d_5 (Conv2D)           (None, 1080, 1920, 3)     228       \n",
      "                                                                 \n",
      "=================================================================\n",
      "Total params: 228\n",
      "Trainable params: 228\n",
      "Non-trainable params: 0\n",
      "_________________________________________________________________\n"
     ]
    }
   ],
   "source": [
    "interpolation = cv2.INTER_CUBIC\n",
    "def srcnn():\n",
    "    # bicubic\n",
    "    inputs = keras.layers.Input(shape=(1080, 1920, 3))\n",
    "    # CNN 9 * 9 * 64 padding=same\n",
    "    cnn = keras.layers.Conv2D(64, 9, padding='same', activation='relu')(inputs)\n",
    "    # kernel 1 * 1 * 32\n",
    "    cnn = keras.layers.Conv2D(32, 1, padding='same', activation='relu')(cnn)\n",
    "    # CNN 5 * 5 * 3\n",
    "    outputs = keras.layers.Conv2D(3, 5, padding='same')(inputs)\n",
    "\n",
    "    model = keras.models.Model(inputs=[inputs], outputs=[outputs])\n",
    "    model.compile(optimizer=tf.optimizers.Adam(1e-1), loss=tf.losses.mse, metrics=['mse'])\n",
    "    return model\n",
    "\n",
    "model = srcnn()\n",
    "model.summary()"
   ],
   "metadata": {
    "collapsed": false,
    "pycharm": {
     "name": "#%%\n"
    }
   }
  },
  {
   "cell_type": "code",
   "execution_count": 32,
   "outputs": [
    {
     "name": "stdout",
     "output_type": "stream",
     "text": [
      "Epoch 1/10\n",
      "1/1 [==============================] - 2s 2s/step - loss: 41998.7539 - mse: 41998.7539 - val_loss: 38967.1328 - val_mse: 38967.1328 - lr: 0.0100\b\b\b\b\b\b\b\b\b\b\b\b\b\b\b\b\b\b\b\b\b\b\n",
      "Epoch 2/10\n",
      "1/1 [==============================] - 2s 2s/step - loss: 38967.1328 - mse: 38967.1328 - val_loss: 34159.4805 - val_mse: 34159.4805 - lr: 0.0100\b\b\b\b\b\b\b\b\b\b\b\b\b\b\b\b\b\b\b\b\b\b\n",
      "Epoch 3/10\n",
      "1/1 [==============================] - 2s 2s/step - loss: 34159.4805 - mse: 34159.4805 - val_loss: 28247.6641 - val_mse: 28247.6641 - lr: 0.0100\b\b\b\b\b\b\b\b\b\b\b\b\b\b\b\b\b\b\b\b\b\b\n",
      "Epoch 4/10\n",
      "1/1 [==============================] - 2s 2s/step - loss: 28247.6641 - mse: 28247.6641 - val_loss: 21947.4160 - val_mse: 21947.4160 - lr: 0.0100\b\b\b\b\b\b\b\b\b\b\b\b\b\b\b\b\b\b\b\b\b\b\n",
      "Epoch 5/10\n",
      "1/1 [==============================] - 2s 2s/step - loss: 21947.4160 - mse: 21947.4160 - val_loss: 15923.5273 - val_mse: 15923.5273 - lr: 0.0100\b\b\b\b\b\b\b\b\b\b\b\b\b\b\b\b\b\b\b\b\b\b\n",
      "Epoch 6/10\n",
      "1/1 [==============================] - 2s 2s/step - loss: 15923.5273 - mse: 15923.5273 - val_loss: 10717.2764 - val_mse: 10717.2764 - lr: 0.0100\b\b\b\b\b\b\b\b\b\b\b\b\b\b\b\b\b\b\b\b\b\b\n",
      "Epoch 7/10\n",
      "1/1 [==============================] - 2s 2s/step - loss: 10717.2764 - mse: 10717.2764 - val_loss: 6699.0811 - val_mse: 6699.0811 - lr: 0.0100\b\b\b\b\b\b\b\b\b\b\b\b\b\b\b\b\b\b\b\b\b\b\b\b\n",
      "Epoch 8/10\n",
      "1/1 [==============================] - 2s 2s/step - loss: 6699.0811 - mse: 6699.0811 - val_loss: 4047.0305 - val_mse: 4047.0305 - lr: 0.0100\b\b\b\b\b\b\b\b\b\b\b\b\b\b\b\b\b\b\b\b\b\b\n",
      "Epoch 9/10\n",
      "1/1 [==============================] - 2s 2s/step - loss: 4047.0305 - mse: 4047.0305 - val_loss: 2750.3091 - val_mse: 2750.3091 - lr: 0.0100\b\b\b\b\b\b\b\b\b\b\b\b\b\b\b\b\b\b\b\b\b\b\n",
      "Epoch 10/10\n",
      "1/1 [==============================] - 2s 2s/step - loss: 2750.3091 - mse: 2750.3091 - val_loss: 2634.8616 - val_mse: 2634.8616 - lr: 0.0100\b\b\b\b\b\b\b\b\b\b\b\b\b\b\b\b\b\b\b\b\b\b\n"
     ]
    },
    {
     "data": {
      "text/plain": "True"
     },
     "execution_count": 32,
     "metadata": {},
     "output_type": "execute_result"
    }
   ],
   "source": [
    "plateau = keras.callbacks.ReduceLROnPlateau(monitor='val_loss', verbose=0, mode='min', factor=0.1, patience=6)\n",
    "early_stopping = keras.callbacks.EarlyStopping(monitor='val_loss', verbose=0, mode='min', patience=25)\n",
    "checkpoint = keras.callbacks.ModelCheckpoint('srcnn.h5', monitor='val_loss', verbose=0, mode='min', save_best_only=True)\n",
    "\n",
    "img_bicubic = cv2.resize(img_l, (1920, 1080), interpolation=cv2.INTER_CUBIC)\n",
    "X = np.array([img_INTER_CUBIC, img_INTER_CUBIC])\n",
    "y = np.array([img_h, img_h])\n",
    "\n",
    "model.fit(X, y, epochs=10, batch_size=2, verbose=1, shuffle=True, validation_data=(X, y), callbacks=[plateau, early_stopping, checkpoint])\n",
    "model.evaluate(X, y, verbose=0)\n",
    "\n",
    "pic_super = model.predict(X, verbose=0, batch_size=1)\n",
    "cv2.imwrite(\"youku/GEN/0034_scrnn.bmp\", pic_super[0])\n"
   ],
   "metadata": {
    "collapsed": false,
    "pycharm": {
     "name": "#%%\n"
    }
   }
  }
 ],
 "metadata": {
  "kernelspec": {
   "display_name": "Python 3",
   "language": "python",
   "name": "python3"
  },
  "language_info": {
   "codemirror_mode": {
    "name": "ipython",
    "version": 2
   },
   "file_extension": ".py",
   "mimetype": "text/x-python",
   "name": "python",
   "nbconvert_exporter": "python",
   "pygments_lexer": "ipython2",
   "version": "2.7.6"
  }
 },
 "nbformat": 4,
 "nbformat_minor": 0
}
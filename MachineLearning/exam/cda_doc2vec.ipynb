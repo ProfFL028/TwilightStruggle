{
 "cells": [
  {
   "cell_type": "code",
   "execution_count": 1,
   "metadata": {
    "collapsed": true
   },
   "outputs": [
    {
     "data": {
      "text/plain": "<pandas.io.formats.style.Styler at 0x7fc32bc3bd30>",
      "text/html": "<style  type=\"text/css\" >\n</style><table id=\"T_944c9_\" ><thead>    <tr>        <th class=\"blank level0\" ></th>        <th class=\"col_heading level0 col0\" >id</th>        <th class=\"col_heading level0 col1\" >comment_text</th>        <th class=\"col_heading level0 col2\" >toxic</th>        <th class=\"col_heading level0 col3\" >severe_toxic</th>        <th class=\"col_heading level0 col4\" >obscene</th>        <th class=\"col_heading level0 col5\" >threat</th>        <th class=\"col_heading level0 col6\" >insult</th>        <th class=\"col_heading level0 col7\" >identity_hate</th>    </tr></thead><tbody>\n                <tr>\n                        <th id=\"T_944c9_level0_row0\" class=\"row_heading level0 row0\" >0</th>\n                        <td id=\"T_944c9_row0_col0\" class=\"data row0 col0\" >0000997932d777bf</td>\n                        <td id=\"T_944c9_row0_col1\" class=\"data row0 col1\" >Explanation\nWhy the edits made under my username Hardcore Metallica Fan were reverted? They weren't vandalisms, just closure on some GAs after I voted at New York Dolls FAC. And please don't remove the template from the talk page since I'm retired now.89.205.38.27</td>\n                        <td id=\"T_944c9_row0_col2\" class=\"data row0 col2\" >0</td>\n                        <td id=\"T_944c9_row0_col3\" class=\"data row0 col3\" >0</td>\n                        <td id=\"T_944c9_row0_col4\" class=\"data row0 col4\" >0</td>\n                        <td id=\"T_944c9_row0_col5\" class=\"data row0 col5\" >0</td>\n                        <td id=\"T_944c9_row0_col6\" class=\"data row0 col6\" >0</td>\n                        <td id=\"T_944c9_row0_col7\" class=\"data row0 col7\" >0</td>\n            </tr>\n            <tr>\n                        <th id=\"T_944c9_level0_row1\" class=\"row_heading level0 row1\" >1</th>\n                        <td id=\"T_944c9_row1_col0\" class=\"data row1 col0\" >000103f0d9cfb60f</td>\n                        <td id=\"T_944c9_row1_col1\" class=\"data row1 col1\" >D'aww! He matches this background colour I'm seemingly stuck with. Thanks.  (talk) 21:51, January 11, 2016 (UTC)</td>\n                        <td id=\"T_944c9_row1_col2\" class=\"data row1 col2\" >0</td>\n                        <td id=\"T_944c9_row1_col3\" class=\"data row1 col3\" >0</td>\n                        <td id=\"T_944c9_row1_col4\" class=\"data row1 col4\" >0</td>\n                        <td id=\"T_944c9_row1_col5\" class=\"data row1 col5\" >0</td>\n                        <td id=\"T_944c9_row1_col6\" class=\"data row1 col6\" >0</td>\n                        <td id=\"T_944c9_row1_col7\" class=\"data row1 col7\" >0</td>\n            </tr>\n            <tr>\n                        <th id=\"T_944c9_level0_row2\" class=\"row_heading level0 row2\" >2</th>\n                        <td id=\"T_944c9_row2_col0\" class=\"data row2 col0\" >000113f07ec002fd</td>\n                        <td id=\"T_944c9_row2_col1\" class=\"data row2 col1\" >Hey man, I'm really not trying to edit war. It's just that this guy is constantly removing relevant information and talking to me through edits instead of my talk page. He seems to care more about the formatting than the actual info.</td>\n                        <td id=\"T_944c9_row2_col2\" class=\"data row2 col2\" >0</td>\n                        <td id=\"T_944c9_row2_col3\" class=\"data row2 col3\" >0</td>\n                        <td id=\"T_944c9_row2_col4\" class=\"data row2 col4\" >0</td>\n                        <td id=\"T_944c9_row2_col5\" class=\"data row2 col5\" >0</td>\n                        <td id=\"T_944c9_row2_col6\" class=\"data row2 col6\" >0</td>\n                        <td id=\"T_944c9_row2_col7\" class=\"data row2 col7\" >0</td>\n            </tr>\n            <tr>\n                        <th id=\"T_944c9_level0_row3\" class=\"row_heading level0 row3\" >3</th>\n                        <td id=\"T_944c9_row3_col0\" class=\"data row3 col0\" >0001b41b1c6bb37e</td>\n                        <td id=\"T_944c9_row3_col1\" class=\"data row3 col1\" >\nMore\nI can't make any real suggestions on improvement - I wondered if the section statistics should be later on, or a subsection of types of accidents  -I think the references may need tidying so that they are all in the exact same format ie date format etc. I can do that later on, if no-one else does first - if you have any preferences for formatting style on references or want to do it yourself please let me know.\n\nThere appears to be a backlog on articles for review so I guess there may be a delay until a reviewer turns up. It's listed in the relevant form eg Wikipedia:Good_article_nominations#Transport</td>\n                        <td id=\"T_944c9_row3_col2\" class=\"data row3 col2\" >0</td>\n                        <td id=\"T_944c9_row3_col3\" class=\"data row3 col3\" >0</td>\n                        <td id=\"T_944c9_row3_col4\" class=\"data row3 col4\" >0</td>\n                        <td id=\"T_944c9_row3_col5\" class=\"data row3 col5\" >0</td>\n                        <td id=\"T_944c9_row3_col6\" class=\"data row3 col6\" >0</td>\n                        <td id=\"T_944c9_row3_col7\" class=\"data row3 col7\" >0</td>\n            </tr>\n            <tr>\n                        <th id=\"T_944c9_level0_row4\" class=\"row_heading level0 row4\" >4</th>\n                        <td id=\"T_944c9_row4_col0\" class=\"data row4 col0\" >0001d958c54c6e35</td>\n                        <td id=\"T_944c9_row4_col1\" class=\"data row4 col1\" >You, sir, are my hero. Any chance you remember what page that's on?</td>\n                        <td id=\"T_944c9_row4_col2\" class=\"data row4 col2\" >0</td>\n                        <td id=\"T_944c9_row4_col3\" class=\"data row4 col3\" >0</td>\n                        <td id=\"T_944c9_row4_col4\" class=\"data row4 col4\" >0</td>\n                        <td id=\"T_944c9_row4_col5\" class=\"data row4 col5\" >0</td>\n                        <td id=\"T_944c9_row4_col6\" class=\"data row4 col6\" >0</td>\n                        <td id=\"T_944c9_row4_col7\" class=\"data row4 col7\" >0</td>\n            </tr>\n    </tbody></table>"
     },
     "execution_count": 1,
     "metadata": {},
     "output_type": "execute_result"
    }
   ],
   "source": [
    "\n",
    "import pandas as pd\n",
    "import numpy as np\n",
    "\n",
    "data = pd.read_csv(\"./DATA/training.csv\", encoding='ISO8859-2')\n",
    "test = pd.read_csv(\"./DATA/test.csv\", encoding='ISO8859-2')\n",
    "data.head(5).style"
   ]
  },
  {
   "cell_type": "code",
   "execution_count": 3,
   "outputs": [],
   "source": [
    "data_all = pd.concat([data, test])"
   ],
   "metadata": {
    "collapsed": false,
    "pycharm": {
     "name": "#%%\n"
    }
   }
  },
  {
   "cell_type": "code",
   "execution_count": 4,
   "outputs": [
    {
     "data": {
      "text/plain": "Index(['toxic', 'severe_toxic', 'obscene', 'threat', 'insult',\n       'identity_hate'],\n      dtype='object')"
     },
     "execution_count": 4,
     "metadata": {},
     "output_type": "execute_result"
    }
   ],
   "source": [
    "y_columns = data.columns[2:]\n",
    "y_columns"
   ],
   "metadata": {
    "collapsed": false,
    "pycharm": {
     "name": "#%%\n"
    }
   }
  },
  {
   "cell_type": "code",
   "execution_count": 10,
   "outputs": [
    {
     "name": "stdout",
     "output_type": "stream",
     "text": [
      "total counts:  233\n"
     ]
    }
   ],
   "source": [
    "def remove_strip(str):\n",
    "    return str.replace(\"\\r\", \"\").replace(\"\\n\", \"\").strip()\n",
    "\n",
    "def get_stop_words(f, encoding='utf-8'):\n",
    "    stop_words = []\n",
    "    with open(f, \"r\", encoding=encoding) as f_stopwords:\n",
    "        for line in f_stopwords:\n",
    "            line = remove_strip(line)\n",
    "            stop_words.append(line.lower())\n",
    "    stop_words = set(stop_words)\n",
    "    print(\"total counts: \", len(stop_words))\n",
    "\n",
    "    return stop_words\n",
    "\n",
    "def read_corpus(fname, tokens_only=False, encoding='utf-8'):\n",
    "    import gensim\n",
    "    import smart_open\n",
    "    with smart_open.open(fname, encoding=encoding) as f:\n",
    "        for i, line in enumerate(f):\n",
    "            tokens = gensim.utils.simple_preprocess(line)\n",
    "            if tokens_only:\n",
    "                yield tokens\n",
    "            else:\n",
    "                # For training data, add tags\n",
    "                yield gensim.models.doc2vec.TaggedDocument(tokens, [i])\n",
    "stop_words = get_stop_words(\"stopwords.txt\")\n",
    "data_all['comment_text_clean'] = data_all['comment_text'].apply(\n",
    "    lambda text: \" \".join([w for w in text.replace(\",\", \"\").replace(\"?\", \"\").replace(\".\", \"\").replace(\"!\", \"\").split() if w.lower() not in stop_words]))\n",
    "data_all['comment_text_clean'].to_csv(\"./DATA/lines.csv\")\n",
    "train_corpus = list(read_corpus(\"./DATA/lines.csv\"))"
   ],
   "metadata": {
    "collapsed": false,
    "pycharm": {
     "name": "#%%\n"
    }
   }
  },
  {
   "cell_type": "code",
   "execution_count": 11,
   "outputs": [],
   "source": [
    "from gensim.models import  doc2vec\n",
    "model = doc2vec.Doc2Vec(vector_size=300, min_count=2, epochs=40)\n",
    "model.build_vocab(train_corpus)\n",
    "model.train(train_corpus, total_examples=model.corpus_count, epochs=model.epochs)"
   ],
   "metadata": {
    "collapsed": false,
    "pycharm": {
     "name": "#%%\n"
    }
   }
  },
  {
   "cell_type": "code",
   "execution_count": 14,
   "outputs": [],
   "source": [
    "model.save(fname_or_handle=\"./DATA/doc2vec\")"
   ],
   "metadata": {
    "collapsed": false,
    "pycharm": {
     "name": "#%%\n"
    }
   }
  },
  {
   "cell_type": "code",
   "execution_count": 28,
   "outputs": [
    {
     "data": {
      "text/plain": "             0         1         2         3         4         5         6    \\\n0       0.659544  0.355920 -0.357711  0.169250 -0.137454  0.272444  0.369584   \n1       0.260232  0.141744 -0.076490  0.158042  0.116818  0.194678 -0.097758   \n2      -0.190541 -0.060816 -0.540582  0.633664 -0.349069 -0.926886 -0.349358   \n3       1.104135 -0.493525 -0.628478 -0.681581  0.592711 -0.299966  0.104307   \n4       0.076409 -0.001454  0.089777 -0.047148 -0.230956  0.043232 -0.001521   \n...          ...       ...       ...       ...       ...       ...       ...   \n159566  0.250824  0.092205 -0.027755  0.151624  0.064720 -0.464031 -0.042186   \n159567  0.227809  0.192934  0.015739  0.118516 -0.022189 -0.086921 -0.021833   \n159568 -0.000501 -0.159231  0.928774 -0.291422  0.820592  0.902826 -2.400964   \n159569  0.543212  0.041381 -0.469375  0.223098 -0.427424  0.064037 -0.230691   \n159570 -0.053208  0.961490 -0.867704 -0.005719  0.063249 -0.287260 -0.678162   \n\n             7         8         9    ...       290       291       292  \\\n0      -0.511792  0.209280  0.325373  ... -0.066734  0.162196 -0.295918   \n1      -0.337226  0.151364  0.227388  ... -0.061192 -0.280899 -0.055993   \n2      -0.287507 -0.338681  0.445484  ... -0.706665 -0.552445  0.120478   \n3      -0.103474 -0.233336  0.419988  ... -0.074779  0.538066 -0.986933   \n4      -0.182370 -0.359984 -0.225730  ... -0.333531 -0.234021  0.202028   \n...          ...       ...       ...  ...       ...       ...       ...   \n159566 -0.012589  0.343600  0.384450  ... -0.719529  0.175069 -0.095379   \n159567  0.024604  0.066078  0.226871  ... -0.101284 -0.047199  0.138576   \n159568 -1.088227 -0.408307  0.255292  ... -1.268946  0.563799 -0.041278   \n159569 -0.242991  0.626162  0.225249  ... -0.009033  0.209465  0.150699   \n159570 -1.317349 -0.348348  0.378807  ... -0.024951 -0.958341  0.085447   \n\n             293       294       295       296       297       298       299  \n0       0.119517  0.256937  0.158404 -0.104761  0.233320  0.567666 -0.101431  \n1      -0.114491  0.205421  0.018913 -0.207736  0.202338 -0.055172 -0.057435  \n2       0.131730  0.358549  0.319914  0.365362 -0.249613 -0.243781 -0.305363  \n3      -0.081675  0.398282 -0.347575 -0.877894 -0.409141 -0.855466 -0.581544  \n4       0.075737  0.163032  0.160580 -0.063708  0.089321 -0.370965 -0.075388  \n...          ...       ...       ...       ...       ...       ...       ...  \n159566 -0.503314  0.113950 -0.078214  0.047274 -0.003633 -0.284261 -0.175465  \n159567 -0.113423  0.099395 -0.135330 -0.012029 -0.070452 -0.140136 -0.158165  \n159568 -1.512789  1.982134  0.085144 -0.398849 -0.760662 -0.253909 -1.728271  \n159569  0.113015  0.220070  0.244850 -0.419988 -0.402074  0.663770 -0.758954  \n159570 -0.328802  0.474720  0.776786 -0.851226 -0.757510 -1.016497 -0.355843  \n\n[159571 rows x 300 columns]",
      "text/html": "<div>\n<style scoped>\n    .dataframe tbody tr th:only-of-type {\n        vertical-align: middle;\n    }\n\n    .dataframe tbody tr th {\n        vertical-align: top;\n    }\n\n    .dataframe thead th {\n        text-align: right;\n    }\n</style>\n<table border=\"1\" class=\"dataframe\">\n  <thead>\n    <tr style=\"text-align: right;\">\n      <th></th>\n      <th>0</th>\n      <th>1</th>\n      <th>2</th>\n      <th>3</th>\n      <th>4</th>\n      <th>5</th>\n      <th>6</th>\n      <th>7</th>\n      <th>8</th>\n      <th>9</th>\n      <th>...</th>\n      <th>290</th>\n      <th>291</th>\n      <th>292</th>\n      <th>293</th>\n      <th>294</th>\n      <th>295</th>\n      <th>296</th>\n      <th>297</th>\n      <th>298</th>\n      <th>299</th>\n    </tr>\n  </thead>\n  <tbody>\n    <tr>\n      <th>0</th>\n      <td>0.659544</td>\n      <td>0.355920</td>\n      <td>-0.357711</td>\n      <td>0.169250</td>\n      <td>-0.137454</td>\n      <td>0.272444</td>\n      <td>0.369584</td>\n      <td>-0.511792</td>\n      <td>0.209280</td>\n      <td>0.325373</td>\n      <td>...</td>\n      <td>-0.066734</td>\n      <td>0.162196</td>\n      <td>-0.295918</td>\n      <td>0.119517</td>\n      <td>0.256937</td>\n      <td>0.158404</td>\n      <td>-0.104761</td>\n      <td>0.233320</td>\n      <td>0.567666</td>\n      <td>-0.101431</td>\n    </tr>\n    <tr>\n      <th>1</th>\n      <td>0.260232</td>\n      <td>0.141744</td>\n      <td>-0.076490</td>\n      <td>0.158042</td>\n      <td>0.116818</td>\n      <td>0.194678</td>\n      <td>-0.097758</td>\n      <td>-0.337226</td>\n      <td>0.151364</td>\n      <td>0.227388</td>\n      <td>...</td>\n      <td>-0.061192</td>\n      <td>-0.280899</td>\n      <td>-0.055993</td>\n      <td>-0.114491</td>\n      <td>0.205421</td>\n      <td>0.018913</td>\n      <td>-0.207736</td>\n      <td>0.202338</td>\n      <td>-0.055172</td>\n      <td>-0.057435</td>\n    </tr>\n    <tr>\n      <th>2</th>\n      <td>-0.190541</td>\n      <td>-0.060816</td>\n      <td>-0.540582</td>\n      <td>0.633664</td>\n      <td>-0.349069</td>\n      <td>-0.926886</td>\n      <td>-0.349358</td>\n      <td>-0.287507</td>\n      <td>-0.338681</td>\n      <td>0.445484</td>\n      <td>...</td>\n      <td>-0.706665</td>\n      <td>-0.552445</td>\n      <td>0.120478</td>\n      <td>0.131730</td>\n      <td>0.358549</td>\n      <td>0.319914</td>\n      <td>0.365362</td>\n      <td>-0.249613</td>\n      <td>-0.243781</td>\n      <td>-0.305363</td>\n    </tr>\n    <tr>\n      <th>3</th>\n      <td>1.104135</td>\n      <td>-0.493525</td>\n      <td>-0.628478</td>\n      <td>-0.681581</td>\n      <td>0.592711</td>\n      <td>-0.299966</td>\n      <td>0.104307</td>\n      <td>-0.103474</td>\n      <td>-0.233336</td>\n      <td>0.419988</td>\n      <td>...</td>\n      <td>-0.074779</td>\n      <td>0.538066</td>\n      <td>-0.986933</td>\n      <td>-0.081675</td>\n      <td>0.398282</td>\n      <td>-0.347575</td>\n      <td>-0.877894</td>\n      <td>-0.409141</td>\n      <td>-0.855466</td>\n      <td>-0.581544</td>\n    </tr>\n    <tr>\n      <th>4</th>\n      <td>0.076409</td>\n      <td>-0.001454</td>\n      <td>0.089777</td>\n      <td>-0.047148</td>\n      <td>-0.230956</td>\n      <td>0.043232</td>\n      <td>-0.001521</td>\n      <td>-0.182370</td>\n      <td>-0.359984</td>\n      <td>-0.225730</td>\n      <td>...</td>\n      <td>-0.333531</td>\n      <td>-0.234021</td>\n      <td>0.202028</td>\n      <td>0.075737</td>\n      <td>0.163032</td>\n      <td>0.160580</td>\n      <td>-0.063708</td>\n      <td>0.089321</td>\n      <td>-0.370965</td>\n      <td>-0.075388</td>\n    </tr>\n    <tr>\n      <th>...</th>\n      <td>...</td>\n      <td>...</td>\n      <td>...</td>\n      <td>...</td>\n      <td>...</td>\n      <td>...</td>\n      <td>...</td>\n      <td>...</td>\n      <td>...</td>\n      <td>...</td>\n      <td>...</td>\n      <td>...</td>\n      <td>...</td>\n      <td>...</td>\n      <td>...</td>\n      <td>...</td>\n      <td>...</td>\n      <td>...</td>\n      <td>...</td>\n      <td>...</td>\n      <td>...</td>\n    </tr>\n    <tr>\n      <th>159566</th>\n      <td>0.250824</td>\n      <td>0.092205</td>\n      <td>-0.027755</td>\n      <td>0.151624</td>\n      <td>0.064720</td>\n      <td>-0.464031</td>\n      <td>-0.042186</td>\n      <td>-0.012589</td>\n      <td>0.343600</td>\n      <td>0.384450</td>\n      <td>...</td>\n      <td>-0.719529</td>\n      <td>0.175069</td>\n      <td>-0.095379</td>\n      <td>-0.503314</td>\n      <td>0.113950</td>\n      <td>-0.078214</td>\n      <td>0.047274</td>\n      <td>-0.003633</td>\n      <td>-0.284261</td>\n      <td>-0.175465</td>\n    </tr>\n    <tr>\n      <th>159567</th>\n      <td>0.227809</td>\n      <td>0.192934</td>\n      <td>0.015739</td>\n      <td>0.118516</td>\n      <td>-0.022189</td>\n      <td>-0.086921</td>\n      <td>-0.021833</td>\n      <td>0.024604</td>\n      <td>0.066078</td>\n      <td>0.226871</td>\n      <td>...</td>\n      <td>-0.101284</td>\n      <td>-0.047199</td>\n      <td>0.138576</td>\n      <td>-0.113423</td>\n      <td>0.099395</td>\n      <td>-0.135330</td>\n      <td>-0.012029</td>\n      <td>-0.070452</td>\n      <td>-0.140136</td>\n      <td>-0.158165</td>\n    </tr>\n    <tr>\n      <th>159568</th>\n      <td>-0.000501</td>\n      <td>-0.159231</td>\n      <td>0.928774</td>\n      <td>-0.291422</td>\n      <td>0.820592</td>\n      <td>0.902826</td>\n      <td>-2.400964</td>\n      <td>-1.088227</td>\n      <td>-0.408307</td>\n      <td>0.255292</td>\n      <td>...</td>\n      <td>-1.268946</td>\n      <td>0.563799</td>\n      <td>-0.041278</td>\n      <td>-1.512789</td>\n      <td>1.982134</td>\n      <td>0.085144</td>\n      <td>-0.398849</td>\n      <td>-0.760662</td>\n      <td>-0.253909</td>\n      <td>-1.728271</td>\n    </tr>\n    <tr>\n      <th>159569</th>\n      <td>0.543212</td>\n      <td>0.041381</td>\n      <td>-0.469375</td>\n      <td>0.223098</td>\n      <td>-0.427424</td>\n      <td>0.064037</td>\n      <td>-0.230691</td>\n      <td>-0.242991</td>\n      <td>0.626162</td>\n      <td>0.225249</td>\n      <td>...</td>\n      <td>-0.009033</td>\n      <td>0.209465</td>\n      <td>0.150699</td>\n      <td>0.113015</td>\n      <td>0.220070</td>\n      <td>0.244850</td>\n      <td>-0.419988</td>\n      <td>-0.402074</td>\n      <td>0.663770</td>\n      <td>-0.758954</td>\n    </tr>\n    <tr>\n      <th>159570</th>\n      <td>-0.053208</td>\n      <td>0.961490</td>\n      <td>-0.867704</td>\n      <td>-0.005719</td>\n      <td>0.063249</td>\n      <td>-0.287260</td>\n      <td>-0.678162</td>\n      <td>-1.317349</td>\n      <td>-0.348348</td>\n      <td>0.378807</td>\n      <td>...</td>\n      <td>-0.024951</td>\n      <td>-0.958341</td>\n      <td>0.085447</td>\n      <td>-0.328802</td>\n      <td>0.474720</td>\n      <td>0.776786</td>\n      <td>-0.851226</td>\n      <td>-0.757510</td>\n      <td>-1.016497</td>\n      <td>-0.355843</td>\n    </tr>\n  </tbody>\n</table>\n<p>159571 rows × 300 columns</p>\n</div>"
     },
     "execution_count": 28,
     "metadata": {},
     "output_type": "execute_result"
    }
   ],
   "source": [
    "comment_vec = data_all['comment_text_clean'].apply(lambda doc: model.infer_vector(doc.split()))\n",
    "data_comment = pd.DataFrame(comment_vec.tolist())\n",
    "data_comment"
   ],
   "metadata": {
    "collapsed": false,
    "pycharm": {
     "name": "#%%\n"
    }
   }
  },
  {
   "cell_type": "code",
   "execution_count": 29,
   "outputs": [],
   "source": [
    "data_comment.to_csv(\"./DATA/comment_doc2vec.csv\", index=None)"
   ],
   "metadata": {
    "collapsed": false,
    "pycharm": {
     "name": "#%%\n"
    }
   }
  },
  {
   "cell_type": "code",
   "execution_count": null,
   "outputs": [],
   "source": [
    "data"
   ],
   "metadata": {
    "collapsed": false,
    "pycharm": {
     "name": "#%%\n"
    }
   }
  },
  {
   "cell_type": "code",
   "execution_count": 31,
   "outputs": [],
   "source": [
    "data_doc2vec = data_comment.loc[:127656,]\n",
    "test_doc2vec = data_comment.loc[127657:,]"
   ],
   "metadata": {
    "collapsed": false,
    "pycharm": {
     "name": "#%%\n"
    }
   }
  },
  {
   "cell_type": "code",
   "execution_count": 32,
   "outputs": [
    {
     "data": {
      "text/plain": "(24364, 300)"
     },
     "execution_count": 32,
     "metadata": {},
     "output_type": "execute_result"
    }
   ],
   "source": [
    "random_seed = 42\n",
    "from imblearn.under_sampling import RandomUnderSampler\n",
    "from sklearn.model_selection import train_test_split, GridSearchCV\n",
    "from lightgbm.sklearn import LGBMClassifier\n",
    "from sklearn.metrics import f1_score\n",
    "\n",
    "models = []\n",
    "i = 0\n",
    "test_size = 0.25\n",
    "rus = RandomUnderSampler(random_state=random_seed, )\n",
    "X, y= rus.fit_resample(data_doc2vec, data[y_columns[i]])\n",
    "X.shape"
   ],
   "metadata": {
    "collapsed": false,
    "pycharm": {
     "name": "#%%\n"
    }
   }
  },
  {
   "cell_type": "code",
   "execution_count": 34,
   "outputs": [
    {
     "name": "stdout",
     "output_type": "stream",
     "text": [
      "train set f1 score:  0.9697877118870648\n",
      "training set toxic f1_score: 76.98\n"
     ]
    }
   ],
   "source": [
    "X_train, X_valid, y_train, y_valid = train_test_split(X, y, test_size=test_size, random_state=random_seed)\n",
    "lgb =LGBMClassifier(max_depth=8, num_leaves=200, boosting_type='dart', random_state=random_seed)\n",
    "lgb.fit(X_train, y_train)\n",
    "y_train_pred = lgb.predict(X_train)\n",
    "y_valid_pred = lgb.predict(X_valid)\n",
    "print(\"train set f1 score: \", f1_score(y_train, y_train_pred))\n",
    "print(\"training set %s f1_score: %.2f\" % (y_columns[i], f1_score(y_valid, y_valid_pred) * 100))\n",
    "models.append(lgb)"
   ],
   "metadata": {
    "collapsed": false,
    "pycharm": {
     "name": "#%%\n"
    }
   }
  }
 ],
 "metadata": {
  "kernelspec": {
   "display_name": "Python 3",
   "language": "python",
   "name": "python3"
  },
  "language_info": {
   "codemirror_mode": {
    "name": "ipython",
    "version": 2
   },
   "file_extension": ".py",
   "mimetype": "text/x-python",
   "name": "python",
   "nbconvert_exporter": "python",
   "pygments_lexer": "ipython2",
   "version": "2.7.6"
  }
 },
 "nbformat": 4,
 "nbformat_minor": 0
}
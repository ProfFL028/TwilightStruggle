{
 "cells": [
  {
   "cell_type": "code",
   "execution_count": 4,
   "metadata": {
    "collapsed": true
   },
   "outputs": [],
   "source": [
    "import numpy as np\n",
    "import pandas as pd\n",
    "\n",
    "data = pd.read_csv(\"./DATA/training.csv\", encoding='ISO8859-2')\n",
    "test = pd.read_csv(\"./DATA/test.csv\", encoding=\"ISO8859-2\")"
   ]
  },
  {
   "cell_type": "code",
   "execution_count": 5,
   "outputs": [
    {
     "data": {
      "text/plain": "                                            comment_text\n0      \\n\\nHBO content\\nthis article needs further re...\n1      My Rollback Request \\n\\nThanks for granting me...\n2      Oh dear - bad day at the office? Please confin...\n3             Your Edit to World Wrestling Entertainment\n4                                   Unblock 70.121.33.78\n...                                                  ...\n24359                                Yeah i no it sucks.\n24360  \\nThank you. Given the misuse of tools here an...\n24361  \\n\\n our previous conversation \\n\\nyou fucking...\n24362  \\n\\nHey listen don't you ever!!!! Delete my ed...\n24363  and i'm going to keep posting the stuff u dele...\n\n[24364 rows x 1 columns]",
      "text/html": "<div>\n<style scoped>\n    .dataframe tbody tr th:only-of-type {\n        vertical-align: middle;\n    }\n\n    .dataframe tbody tr th {\n        vertical-align: top;\n    }\n\n    .dataframe thead th {\n        text-align: right;\n    }\n</style>\n<table border=\"1\" class=\"dataframe\">\n  <thead>\n    <tr style=\"text-align: right;\">\n      <th></th>\n      <th>comment_text</th>\n    </tr>\n  </thead>\n  <tbody>\n    <tr>\n      <th>0</th>\n      <td>\\n\\nHBO content\\nthis article needs further re...</td>\n    </tr>\n    <tr>\n      <th>1</th>\n      <td>My Rollback Request \\n\\nThanks for granting me...</td>\n    </tr>\n    <tr>\n      <th>2</th>\n      <td>Oh dear - bad day at the office? Please confin...</td>\n    </tr>\n    <tr>\n      <th>3</th>\n      <td>Your Edit to World Wrestling Entertainment</td>\n    </tr>\n    <tr>\n      <th>4</th>\n      <td>Unblock 70.121.33.78</td>\n    </tr>\n    <tr>\n      <th>...</th>\n      <td>...</td>\n    </tr>\n    <tr>\n      <th>24359</th>\n      <td>Yeah i no it sucks.</td>\n    </tr>\n    <tr>\n      <th>24360</th>\n      <td>\\nThank you. Given the misuse of tools here an...</td>\n    </tr>\n    <tr>\n      <th>24361</th>\n      <td>\\n\\n our previous conversation \\n\\nyou fucking...</td>\n    </tr>\n    <tr>\n      <th>24362</th>\n      <td>\\n\\nHey listen don't you ever!!!! Delete my ed...</td>\n    </tr>\n    <tr>\n      <th>24363</th>\n      <td>and i'm going to keep posting the stuff u dele...</td>\n    </tr>\n  </tbody>\n</table>\n<p>24364 rows × 1 columns</p>\n</div>"
     },
     "execution_count": 3,
     "metadata": {},
     "output_type": "execute_result"
    },
    {
     "data": {
      "text/plain": "                                            comment_text\n0      A false fight? It was still a planned fight fo...\n1      Internet Party and MANA Movement==\\nI have pro...\n2                                  Answer: I can't this.\n3      \\n\\nHe stated bottom two. Safe second is equiv...\n4      \\n\\nto PelasgicMoon>\\ntake it easy now. being ...\n...                                                  ...\n24359                                Yeah i no it sucks.\n24360  \\nThank you. Given the misuse of tools here an...\n24361  \\n\\n our previous conversation \\n\\nyou fucking...\n24362  \\n\\nHey listen don't you ever!!!! Delete my ed...\n24363  and i'm going to keep posting the stuff u dele...\n\n[24364 rows x 1 columns]",
      "text/html": "<div>\n<style scoped>\n    .dataframe tbody tr th:only-of-type {\n        vertical-align: middle;\n    }\n\n    .dataframe tbody tr th {\n        vertical-align: top;\n    }\n\n    .dataframe thead th {\n        text-align: right;\n    }\n</style>\n<table border=\"1\" class=\"dataframe\">\n  <thead>\n    <tr style=\"text-align: right;\">\n      <th></th>\n      <th>comment_text</th>\n    </tr>\n  </thead>\n  <tbody>\n    <tr>\n      <th>0</th>\n      <td>A false fight? It was still a planned fight fo...</td>\n    </tr>\n    <tr>\n      <th>1</th>\n      <td>Internet Party and MANA Movement==\\nI have pro...</td>\n    </tr>\n    <tr>\n      <th>2</th>\n      <td>Answer: I can't this.</td>\n    </tr>\n    <tr>\n      <th>3</th>\n      <td>\\n\\nHe stated bottom two. Safe second is equiv...</td>\n    </tr>\n    <tr>\n      <th>4</th>\n      <td>\\n\\nto PelasgicMoon&gt;\\ntake it easy now. being ...</td>\n    </tr>\n    <tr>\n      <th>...</th>\n      <td>...</td>\n    </tr>\n    <tr>\n      <th>24359</th>\n      <td>Yeah i no it sucks.</td>\n    </tr>\n    <tr>\n      <th>24360</th>\n      <td>\\nThank you. Given the misuse of tools here an...</td>\n    </tr>\n    <tr>\n      <th>24361</th>\n      <td>\\n\\n our previous conversation \\n\\nyou fucking...</td>\n    </tr>\n    <tr>\n      <th>24362</th>\n      <td>\\n\\nHey listen don't you ever!!!! Delete my ed...</td>\n    </tr>\n    <tr>\n      <th>24363</th>\n      <td>and i'm going to keep posting the stuff u dele...</td>\n    </tr>\n  </tbody>\n</table>\n<p>24364 rows × 1 columns</p>\n</div>"
     },
     "execution_count": 5,
     "metadata": {},
     "output_type": "execute_result"
    }
   ],
   "source": [
    "from imblearn.under_sampling import RandomUnderSampler\n",
    "data_some =data[['comment_text', 'identity_hate']]\n",
    "rus = RandomUnderSampler()\n",
    "X, y= rus.fit_resample(data[['comment_text']], data[['toxic']])\n",
    "X"
   ],
   "metadata": {
    "collapsed": false,
    "pycharm": {
     "name": "#%%\n"
    }
   }
  },
  {
   "cell_type": "code",
   "execution_count": 6,
   "outputs": [],
   "source": [
    "def remove_strip(str):\n",
    "    return str.replace(\"\\r\", \"\").replace(\"\\n\", \"\").strip()\n",
    "\n",
    "def get_stop_words(f, encoding='utf-8'):\n",
    "    stop_words = []\n",
    "    with open(f, \"r\", encoding=encoding) as f_stopwords:\n",
    "        for line in f_stopwords:\n",
    "            line = remove_strip(line)\n",
    "            stop_words.append(line.lower())\n",
    "    stop_words = set(stop_words)\n",
    "    print(\"total counts: \", len(stop_words))\n",
    "\n",
    "    return stop_words"
   ],
   "metadata": {
    "collapsed": false,
    "pycharm": {
     "name": "#%%\n"
    }
   }
  },
  {
   "cell_type": "code",
   "execution_count": 7,
   "outputs": [
    {
     "name": "stdout",
     "output_type": "stream",
     "text": [
      "total counts:  233\n"
     ]
    },
    {
     "data": {
      "text/plain": "233"
     },
     "execution_count": 7,
     "metadata": {},
     "output_type": "execute_result"
    }
   ],
   "source": [
    "stop_words = get_stop_words(\"stopwords.txt\")\n",
    "len(stop_words)"
   ],
   "metadata": {
    "collapsed": false,
    "pycharm": {
     "name": "#%%\n"
    }
   }
  },
  {
   "cell_type": "code",
   "execution_count": 38,
   "outputs": [],
   "source": [
    "data['comment_text_sw'] = data['comment_text'].apply(\n",
    "    lambda text: \" \".join([w for w in text.replace(\",\", \"\").replace(\".\", \"\").replace(\"!\", \"\").split() if w.lower() not in stop_words]))\n",
    "\n",
    "test['comment_text_sw'] = test['comment_text'].apply(\n",
    "    lambda text: \" \".join([w for w in text.replace(\",\", \"\").replace(\".\", \"\").replace(\"!\", \"\").split() if w.lower() not in stop_words]))"
   ],
   "metadata": {
    "collapsed": false,
    "pycharm": {
     "name": "#%%\n"
    }
   }
  },
  {
   "cell_type": "code",
   "execution_count": 49,
   "outputs": [
    {
     "data": {
      "text/plain": "0        00054a5e18b50dd4\n1        00078f8ce7eb276d\n2        000897889268bc93\n3        0009801bd85e5806\n4        000c6a3f0cd3ba8e\n               ...       \n31909    ffba5332d6b8fd14\n31910    ffbcd64a71775e04\n31911    ffcdcb71854f6d8a\n31912    ffe029a7c79dc7fe\n31913    ffe987279560d7ff\nName: id, Length: 31914, dtype: object"
     },
     "execution_count": 49,
     "metadata": {},
     "output_type": "execute_result"
    }
   ],
   "source": [
    "result = test['id']\n",
    "result"
   ],
   "metadata": {
    "collapsed": false,
    "pycharm": {
     "name": "#%%\n"
    }
   }
  },
  {
   "cell_type": "code",
   "execution_count": 32,
   "outputs": [
    {
     "name": "stderr",
     "output_type": "stream",
     "text": [
      "D:\\anaconda\\lib\\site-packages\\sklearn\\preprocessing\\_label.py:98: DataConversionWarning: A column-vector y was passed when a 1d array was expected. Please change the shape of y to (n_samples, ), for example using ravel().\n",
      "  y = column_or_1d(y, warn=True)\n",
      "D:\\anaconda\\lib\\site-packages\\sklearn\\preprocessing\\_label.py:133: DataConversionWarning: A column-vector y was passed when a 1d array was expected. Please change the shape of y to (n_samples, ), for example using ravel().\n",
      "  y = column_or_1d(y, warn=True)\n"
     ]
    },
    {
     "name": "stdout",
     "output_type": "stream",
     "text": [
      "toxic f1_score: 83.36\n"
     ]
    }
   ],
   "source": [
    "# toxic 得分\n",
    "from imblearn.under_sampling import RandomUnderSampler\n",
    "rus = RandomUnderSampler()\n",
    "X, y= rus.fit_resample(data[['comment_text_sw']], data[['toxic']])\n",
    "\n",
    "from sklearn.feature_extraction.text import TfidfVectorizer\n",
    "tfidf = TfidfVectorizer(min_df=10)\n",
    "X_tfidf = tfidf.fit_transform(X['comment_text_sw'])\n",
    "from sklearn.decomposition import PCA\n",
    "X_df = pd.DataFrame(X_tfidf.toarray(), columns=tfidf.get_feature_names_out())\n",
    "pca = PCA(n_components=50)\n",
    "x_pca = pca.fit_transform(X_df)\n",
    "x_pca = pd.DataFrame(x_pca)\n",
    "from sklearn.model_selection import train_test_split\n",
    "X_train, X_valid, y_train, y_valid = train_test_split(x_pca, y, test_size=0.2)\n",
    "from lightgbm.sklearn import LGBMClassifier\n",
    "from sklearn.metrics import f1_score\n",
    "lgb =LGBMClassifier(max_depth=10, num_leaves=100, boosting_type='dart')\n",
    "lgb.fit(X_train, y_train)\n",
    "y_valid_pred = lgb.predict(X_valid)\n",
    "print(\"%s f1_score: %.2f\" % (\"toxic\", f1_score(y_valid, y_valid_pred) * 100))"
   ],
   "metadata": {
    "collapsed": false,
    "pycharm": {
     "name": "#%%\n"
    }
   }
  },
  {
   "cell_type": "code",
   "execution_count": 40,
   "outputs": [],
   "source": [
    "test_tfidf = tfidf.transform(test['comment_text_sw'])\n",
    "test_df = pd.DataFrame(test_tfidf.toarray(), columns=tfidf.get_feature_names_out())\n",
    "test_pca = pca.transform(test_df)\n",
    "test_pca = pd.DataFrame(test_pca)\n",
    "toxic = lgb.predict(test_pca)\n",
    "result = pd.concat([result, pd.DataFrame(toxic, columns=['toxic'], index=test.index)], axis=1)\n",
    "result"
   ],
   "metadata": {
    "collapsed": false,
    "pycharm": {
     "name": "#%%\n"
    }
   }
  },
  {
   "cell_type": "code",
   "execution_count": 54,
   "outputs": [
    {
     "name": "stderr",
     "output_type": "stream",
     "text": [
      "D:\\anaconda\\lib\\site-packages\\sklearn\\preprocessing\\_label.py:98: DataConversionWarning: A column-vector y was passed when a 1d array was expected. Please change the shape of y to (n_samples, ), for example using ravel().\n",
      "  y = column_or_1d(y, warn=True)\n",
      "D:\\anaconda\\lib\\site-packages\\sklearn\\preprocessing\\_label.py:133: DataConversionWarning: A column-vector y was passed when a 1d array was expected. Please change the shape of y to (n_samples, ), for example using ravel().\n",
      "  y = column_or_1d(y, warn=True)\n"
     ]
    },
    {
     "name": "stdout",
     "output_type": "stream",
     "text": [
      "severe_toxic f1_score: 91.08\n"
     ]
    }
   ],
   "source": [
    "# severe_toxic 得分\n",
    "from imblearn.under_sampling import RandomUnderSampler\n",
    "rus = RandomUnderSampler()\n",
    "X, y= rus.fit_resample(data[['comment_text_sw']], data[['severe_toxic']])\n",
    "\n",
    "from sklearn.feature_extraction.text import TfidfVectorizer\n",
    "tfidf = TfidfVectorizer(min_df=10)\n",
    "X_tfidf = tfidf.fit_transform(X['comment_text_sw'])\n",
    "from sklearn.decomposition import PCA\n",
    "X_df = pd.DataFrame(X_tfidf.toarray(), columns=tfidf.get_feature_names_out())\n",
    "pca = PCA(n_components=50)\n",
    "x_pca = pca.fit_transform(X_df)\n",
    "x_pca = pd.DataFrame(x_pca)\n",
    "from sklearn.model_selection import train_test_split\n",
    "X_train, X_valid, y_train, y_valid = train_test_split(x_pca, y, test_size=0.2)\n",
    "from lightgbm.sklearn import LGBMClassifier\n",
    "from sklearn.metrics import f1_score\n",
    "lgb =LGBMClassifier(max_depth=10, num_leaves=100, boosting_type='dart')\n",
    "lgb.fit(X_train, y_train)\n",
    "y_valid_pred = lgb.predict(X_valid)\n",
    "print(\"%s f1_score: %.2f\" % (\"severe_toxic\", f1_score(y_valid, y_valid_pred) * 100))"
   ],
   "metadata": {
    "collapsed": false,
    "pycharm": {
     "name": "#%%\n"
    }
   }
  },
  {
   "cell_type": "code",
   "execution_count": 55,
   "outputs": [
    {
     "data": {
      "text/plain": "                     id  toxic  severe_toxic\n0      00054a5e18b50dd4      0             0\n1      00078f8ce7eb276d      0             0\n2      000897889268bc93      0             0\n3      0009801bd85e5806      0             0\n4      000c6a3f0cd3ba8e      0             0\n...                 ...    ...           ...\n31909  ffba5332d6b8fd14      0             0\n31910  ffbcd64a71775e04      0             0\n31911  ffcdcb71854f6d8a      0             0\n31912  ffe029a7c79dc7fe      0             0\n31913  ffe987279560d7ff      0             0\n\n[31914 rows x 3 columns]",
      "text/html": "<div>\n<style scoped>\n    .dataframe tbody tr th:only-of-type {\n        vertical-align: middle;\n    }\n\n    .dataframe tbody tr th {\n        vertical-align: top;\n    }\n\n    .dataframe thead th {\n        text-align: right;\n    }\n</style>\n<table border=\"1\" class=\"dataframe\">\n  <thead>\n    <tr style=\"text-align: right;\">\n      <th></th>\n      <th>id</th>\n      <th>toxic</th>\n      <th>severe_toxic</th>\n    </tr>\n  </thead>\n  <tbody>\n    <tr>\n      <th>0</th>\n      <td>00054a5e18b50dd4</td>\n      <td>0</td>\n      <td>0</td>\n    </tr>\n    <tr>\n      <th>1</th>\n      <td>00078f8ce7eb276d</td>\n      <td>0</td>\n      <td>0</td>\n    </tr>\n    <tr>\n      <th>2</th>\n      <td>000897889268bc93</td>\n      <td>0</td>\n      <td>0</td>\n    </tr>\n    <tr>\n      <th>3</th>\n      <td>0009801bd85e5806</td>\n      <td>0</td>\n      <td>0</td>\n    </tr>\n    <tr>\n      <th>4</th>\n      <td>000c6a3f0cd3ba8e</td>\n      <td>0</td>\n      <td>0</td>\n    </tr>\n    <tr>\n      <th>...</th>\n      <td>...</td>\n      <td>...</td>\n      <td>...</td>\n    </tr>\n    <tr>\n      <th>31909</th>\n      <td>ffba5332d6b8fd14</td>\n      <td>0</td>\n      <td>0</td>\n    </tr>\n    <tr>\n      <th>31910</th>\n      <td>ffbcd64a71775e04</td>\n      <td>0</td>\n      <td>0</td>\n    </tr>\n    <tr>\n      <th>31911</th>\n      <td>ffcdcb71854f6d8a</td>\n      <td>0</td>\n      <td>0</td>\n    </tr>\n    <tr>\n      <th>31912</th>\n      <td>ffe029a7c79dc7fe</td>\n      <td>0</td>\n      <td>0</td>\n    </tr>\n    <tr>\n      <th>31913</th>\n      <td>ffe987279560d7ff</td>\n      <td>0</td>\n      <td>0</td>\n    </tr>\n  </tbody>\n</table>\n<p>31914 rows × 3 columns</p>\n</div>"
     },
     "execution_count": 55,
     "metadata": {},
     "output_type": "execute_result"
    }
   ],
   "source": [
    "test_tfidf = tfidf.transform(test['comment_text_sw'])\n",
    "test_df = pd.DataFrame(test_tfidf.toarray(), columns=tfidf.get_feature_names_out())\n",
    "test_pca = pca.transform(test_df)\n",
    "test_pca = pd.DataFrame(test_pca)\n",
    "severe_toxic = lgb.predict(test_pca)\n",
    "result = pd.concat([result, pd.DataFrame(severe_toxic, columns=['severe_toxic'], index=test.index)], axis=1)\n",
    "result"
   ],
   "metadata": {
    "collapsed": false,
    "pycharm": {
     "name": "#%%\n"
    }
   }
  },
  {
   "cell_type": "code",
   "execution_count": 56,
   "outputs": [
    {
     "name": "stderr",
     "output_type": "stream",
     "text": [
      "D:\\anaconda\\lib\\site-packages\\sklearn\\preprocessing\\_label.py:98: DataConversionWarning: A column-vector y was passed when a 1d array was expected. Please change the shape of y to (n_samples, ), for example using ravel().\n",
      "  y = column_or_1d(y, warn=True)\n",
      "D:\\anaconda\\lib\\site-packages\\sklearn\\preprocessing\\_label.py:133: DataConversionWarning: A column-vector y was passed when a 1d array was expected. Please change the shape of y to (n_samples, ), for example using ravel().\n",
      "  y = column_or_1d(y, warn=True)\n"
     ]
    },
    {
     "name": "stdout",
     "output_type": "stream",
     "text": [
      "obscene f1_score: 86.68\n"
     ]
    }
   ],
   "source": [
    "# obscene 得分\n",
    "from imblearn.under_sampling import RandomUnderSampler\n",
    "rus = RandomUnderSampler()\n",
    "X, y= rus.fit_resample(data[['comment_text_sw']], data[['obscene']])\n",
    "\n",
    "from sklearn.feature_extraction.text import TfidfVectorizer\n",
    "tfidf = TfidfVectorizer(min_df=10)\n",
    "X_tfidf = tfidf.fit_transform(X['comment_text_sw'])\n",
    "from sklearn.decomposition import PCA\n",
    "X_df = pd.DataFrame(X_tfidf.toarray(), columns=tfidf.get_feature_names_out())\n",
    "pca = PCA(n_components=50)\n",
    "x_pca = pca.fit_transform(X_df)\n",
    "x_pca = pd.DataFrame(x_pca)\n",
    "from sklearn.model_selection import train_test_split\n",
    "X_train, X_valid, y_train, y_valid = train_test_split(x_pca, y, test_size=0.2)\n",
    "from lightgbm.sklearn import LGBMClassifier\n",
    "from sklearn.metrics import f1_score\n",
    "lgb =LGBMClassifier(max_depth=10, num_leaves=100, boosting_type='dart')\n",
    "lgb.fit(X_train, y_train)\n",
    "y_valid_pred = lgb.predict(X_valid)\n",
    "print(\"%s f1_score: %.2f\" % (\"obscene\", f1_score(y_valid, y_valid_pred) * 100))"
   ],
   "metadata": {
    "collapsed": false,
    "pycharm": {
     "name": "#%%\n"
    }
   }
  },
  {
   "cell_type": "code",
   "execution_count": 57,
   "outputs": [
    {
     "data": {
      "text/plain": "                     id  toxic  severe_toxic  obscene\n0      00054a5e18b50dd4      0             0        0\n1      00078f8ce7eb276d      0             0        0\n2      000897889268bc93      0             0        0\n3      0009801bd85e5806      0             0        0\n4      000c6a3f0cd3ba8e      0             0        0\n...                 ...    ...           ...      ...\n31909  ffba5332d6b8fd14      0             0        0\n31910  ffbcd64a71775e04      0             0        0\n31911  ffcdcb71854f6d8a      0             0        0\n31912  ffe029a7c79dc7fe      0             0        0\n31913  ffe987279560d7ff      0             0        0\n\n[31914 rows x 4 columns]",
      "text/html": "<div>\n<style scoped>\n    .dataframe tbody tr th:only-of-type {\n        vertical-align: middle;\n    }\n\n    .dataframe tbody tr th {\n        vertical-align: top;\n    }\n\n    .dataframe thead th {\n        text-align: right;\n    }\n</style>\n<table border=\"1\" class=\"dataframe\">\n  <thead>\n    <tr style=\"text-align: right;\">\n      <th></th>\n      <th>id</th>\n      <th>toxic</th>\n      <th>severe_toxic</th>\n      <th>obscene</th>\n    </tr>\n  </thead>\n  <tbody>\n    <tr>\n      <th>0</th>\n      <td>00054a5e18b50dd4</td>\n      <td>0</td>\n      <td>0</td>\n      <td>0</td>\n    </tr>\n    <tr>\n      <th>1</th>\n      <td>00078f8ce7eb276d</td>\n      <td>0</td>\n      <td>0</td>\n      <td>0</td>\n    </tr>\n    <tr>\n      <th>2</th>\n      <td>000897889268bc93</td>\n      <td>0</td>\n      <td>0</td>\n      <td>0</td>\n    </tr>\n    <tr>\n      <th>3</th>\n      <td>0009801bd85e5806</td>\n      <td>0</td>\n      <td>0</td>\n      <td>0</td>\n    </tr>\n    <tr>\n      <th>4</th>\n      <td>000c6a3f0cd3ba8e</td>\n      <td>0</td>\n      <td>0</td>\n      <td>0</td>\n    </tr>\n    <tr>\n      <th>...</th>\n      <td>...</td>\n      <td>...</td>\n      <td>...</td>\n      <td>...</td>\n    </tr>\n    <tr>\n      <th>31909</th>\n      <td>ffba5332d6b8fd14</td>\n      <td>0</td>\n      <td>0</td>\n      <td>0</td>\n    </tr>\n    <tr>\n      <th>31910</th>\n      <td>ffbcd64a71775e04</td>\n      <td>0</td>\n      <td>0</td>\n      <td>0</td>\n    </tr>\n    <tr>\n      <th>31911</th>\n      <td>ffcdcb71854f6d8a</td>\n      <td>0</td>\n      <td>0</td>\n      <td>0</td>\n    </tr>\n    <tr>\n      <th>31912</th>\n      <td>ffe029a7c79dc7fe</td>\n      <td>0</td>\n      <td>0</td>\n      <td>0</td>\n    </tr>\n    <tr>\n      <th>31913</th>\n      <td>ffe987279560d7ff</td>\n      <td>0</td>\n      <td>0</td>\n      <td>0</td>\n    </tr>\n  </tbody>\n</table>\n<p>31914 rows × 4 columns</p>\n</div>"
     },
     "execution_count": 57,
     "metadata": {},
     "output_type": "execute_result"
    }
   ],
   "source": [
    "test_tfidf = tfidf.transform(test['comment_text_sw'])\n",
    "test_df = pd.DataFrame(test_tfidf.toarray(), columns=tfidf.get_feature_names_out())\n",
    "test_pca = pca.transform(test_df)\n",
    "test_pca = pd.DataFrame(test_pca)\n",
    "obscene = lgb.predict(test_pca)\n",
    "result = pd.concat([result, pd.DataFrame(obscene, columns=['obscene'], index=test.index)], axis=1)\n",
    "result"
   ],
   "metadata": {
    "collapsed": false,
    "pycharm": {
     "name": "#%%\n"
    }
   }
  },
  {
   "cell_type": "code",
   "execution_count": 58,
   "outputs": [
    {
     "name": "stderr",
     "output_type": "stream",
     "text": [
      "D:\\anaconda\\lib\\site-packages\\sklearn\\preprocessing\\_label.py:98: DataConversionWarning: A column-vector y was passed when a 1d array was expected. Please change the shape of y to (n_samples, ), for example using ravel().\n",
      "  y = column_or_1d(y, warn=True)\n",
      "D:\\anaconda\\lib\\site-packages\\sklearn\\preprocessing\\_label.py:133: DataConversionWarning: A column-vector y was passed when a 1d array was expected. Please change the shape of y to (n_samples, ), for example using ravel().\n",
      "  y = column_or_1d(y, warn=True)\n"
     ]
    },
    {
     "name": "stdout",
     "output_type": "stream",
     "text": [
      "threat f1_score: 84.14\n"
     ]
    }
   ],
   "source": [
    "# threat 得分\n",
    "from imblearn.under_sampling import RandomUnderSampler\n",
    "rus = RandomUnderSampler()\n",
    "X, y= rus.fit_resample(data[['comment_text_sw']], data[['threat']])\n",
    "\n",
    "from sklearn.feature_extraction.text import TfidfVectorizer\n",
    "tfidf = TfidfVectorizer(min_df=10)\n",
    "X_tfidf = tfidf.fit_transform(X['comment_text_sw'])\n",
    "from sklearn.decomposition import PCA\n",
    "X_df = pd.DataFrame(X_tfidf.toarray(), columns=tfidf.get_feature_names_out())\n",
    "pca = PCA(n_components=50)\n",
    "x_pca = pca.fit_transform(X_df)\n",
    "x_pca = pd.DataFrame(x_pca)\n",
    "from sklearn.model_selection import train_test_split\n",
    "X_train, X_valid, y_train, y_valid = train_test_split(x_pca, y, test_size=0.2)\n",
    "from lightgbm.sklearn import LGBMClassifier\n",
    "from sklearn.metrics import f1_score\n",
    "lgb =LGBMClassifier(max_depth=10, num_leaves=100, boosting_type='dart')\n",
    "lgb.fit(X_train, y_train)\n",
    "y_valid_pred = lgb.predict(X_valid)\n",
    "print(\"%s f1_score: %.2f\" % (\"threat\", f1_score(y_valid, y_valid_pred) * 100))"
   ],
   "metadata": {
    "collapsed": false,
    "pycharm": {
     "name": "#%%\n"
    }
   }
  },
  {
   "cell_type": "code",
   "execution_count": 59,
   "outputs": [
    {
     "data": {
      "text/plain": "                     id  toxic  severe_toxic  obscene  threat\n0      00054a5e18b50dd4      0             0        0       0\n1      00078f8ce7eb276d      0             0        0       0\n2      000897889268bc93      0             0        0       0\n3      0009801bd85e5806      0             0        0       0\n4      000c6a3f0cd3ba8e      0             0        0       0\n...                 ...    ...           ...      ...     ...\n31909  ffba5332d6b8fd14      0             0        0       0\n31910  ffbcd64a71775e04      0             0        0       0\n31911  ffcdcb71854f6d8a      0             0        0       0\n31912  ffe029a7c79dc7fe      0             0        0       0\n31913  ffe987279560d7ff      0             0        0       0\n\n[31914 rows x 5 columns]",
      "text/html": "<div>\n<style scoped>\n    .dataframe tbody tr th:only-of-type {\n        vertical-align: middle;\n    }\n\n    .dataframe tbody tr th {\n        vertical-align: top;\n    }\n\n    .dataframe thead th {\n        text-align: right;\n    }\n</style>\n<table border=\"1\" class=\"dataframe\">\n  <thead>\n    <tr style=\"text-align: right;\">\n      <th></th>\n      <th>id</th>\n      <th>toxic</th>\n      <th>severe_toxic</th>\n      <th>obscene</th>\n      <th>threat</th>\n    </tr>\n  </thead>\n  <tbody>\n    <tr>\n      <th>0</th>\n      <td>00054a5e18b50dd4</td>\n      <td>0</td>\n      <td>0</td>\n      <td>0</td>\n      <td>0</td>\n    </tr>\n    <tr>\n      <th>1</th>\n      <td>00078f8ce7eb276d</td>\n      <td>0</td>\n      <td>0</td>\n      <td>0</td>\n      <td>0</td>\n    </tr>\n    <tr>\n      <th>2</th>\n      <td>000897889268bc93</td>\n      <td>0</td>\n      <td>0</td>\n      <td>0</td>\n      <td>0</td>\n    </tr>\n    <tr>\n      <th>3</th>\n      <td>0009801bd85e5806</td>\n      <td>0</td>\n      <td>0</td>\n      <td>0</td>\n      <td>0</td>\n    </tr>\n    <tr>\n      <th>4</th>\n      <td>000c6a3f0cd3ba8e</td>\n      <td>0</td>\n      <td>0</td>\n      <td>0</td>\n      <td>0</td>\n    </tr>\n    <tr>\n      <th>...</th>\n      <td>...</td>\n      <td>...</td>\n      <td>...</td>\n      <td>...</td>\n      <td>...</td>\n    </tr>\n    <tr>\n      <th>31909</th>\n      <td>ffba5332d6b8fd14</td>\n      <td>0</td>\n      <td>0</td>\n      <td>0</td>\n      <td>0</td>\n    </tr>\n    <tr>\n      <th>31910</th>\n      <td>ffbcd64a71775e04</td>\n      <td>0</td>\n      <td>0</td>\n      <td>0</td>\n      <td>0</td>\n    </tr>\n    <tr>\n      <th>31911</th>\n      <td>ffcdcb71854f6d8a</td>\n      <td>0</td>\n      <td>0</td>\n      <td>0</td>\n      <td>0</td>\n    </tr>\n    <tr>\n      <th>31912</th>\n      <td>ffe029a7c79dc7fe</td>\n      <td>0</td>\n      <td>0</td>\n      <td>0</td>\n      <td>0</td>\n    </tr>\n    <tr>\n      <th>31913</th>\n      <td>ffe987279560d7ff</td>\n      <td>0</td>\n      <td>0</td>\n      <td>0</td>\n      <td>0</td>\n    </tr>\n  </tbody>\n</table>\n<p>31914 rows × 5 columns</p>\n</div>"
     },
     "execution_count": 59,
     "metadata": {},
     "output_type": "execute_result"
    }
   ],
   "source": [
    "test_tfidf = tfidf.transform(test['comment_text_sw'])\n",
    "test_df = pd.DataFrame(test_tfidf.toarray(), columns=tfidf.get_feature_names_out())\n",
    "test_pca = pca.transform(test_df)\n",
    "test_pca = pd.DataFrame(test_pca)\n",
    "threat = lgb.predict(test_pca)\n",
    "result = pd.concat([result, pd.DataFrame(threat, columns=['threat'], index=test.index)], axis=1)\n",
    "result"
   ],
   "metadata": {
    "collapsed": false,
    "pycharm": {
     "name": "#%%\n"
    }
   }
  },
  {
   "cell_type": "code",
   "execution_count": 60,
   "outputs": [
    {
     "name": "stderr",
     "output_type": "stream",
     "text": [
      "D:\\anaconda\\lib\\site-packages\\sklearn\\preprocessing\\_label.py:98: DataConversionWarning: A column-vector y was passed when a 1d array was expected. Please change the shape of y to (n_samples, ), for example using ravel().\n",
      "  y = column_or_1d(y, warn=True)\n",
      "D:\\anaconda\\lib\\site-packages\\sklearn\\preprocessing\\_label.py:133: DataConversionWarning: A column-vector y was passed when a 1d array was expected. Please change the shape of y to (n_samples, ), for example using ravel().\n",
      "  y = column_or_1d(y, warn=True)\n"
     ]
    },
    {
     "name": "stdout",
     "output_type": "stream",
     "text": [
      "insult f1_score: 86.18\n"
     ]
    }
   ],
   "source": [
    "# insult 得分\n",
    "from imblearn.under_sampling import RandomUnderSampler\n",
    "rus = RandomUnderSampler()\n",
    "X, y= rus.fit_resample(data[['comment_text_sw']], data[['insult']])\n",
    "\n",
    "from sklearn.feature_extraction.text import TfidfVectorizer\n",
    "tfidf = TfidfVectorizer(min_df=10)\n",
    "X_tfidf = tfidf.fit_transform(X['comment_text_sw'])\n",
    "from sklearn.decomposition import PCA\n",
    "X_df = pd.DataFrame(X_tfidf.toarray(), columns=tfidf.get_feature_names_out())\n",
    "pca = PCA(n_components=50)\n",
    "x_pca = pca.fit_transform(X_df)\n",
    "x_pca = pd.DataFrame(x_pca)\n",
    "from sklearn.model_selection import train_test_split\n",
    "X_train, X_valid, y_train, y_valid = train_test_split(x_pca, y, test_size=0.2)\n",
    "from lightgbm.sklearn import LGBMClassifier\n",
    "from sklearn.metrics import f1_score\n",
    "lgb =LGBMClassifier(max_depth=10, num_leaves=100, boosting_type='dart')\n",
    "lgb.fit(X_train, y_train)\n",
    "y_valid_pred = lgb.predict(X_valid)\n",
    "print(\"%s f1_score: %.2f\" % (\"insult\", f1_score(y_valid, y_valid_pred) * 100))"
   ],
   "metadata": {
    "collapsed": false,
    "pycharm": {
     "name": "#%%\n"
    }
   }
  },
  {
   "cell_type": "code",
   "execution_count": 61,
   "outputs": [
    {
     "data": {
      "text/plain": "                     id  toxic  severe_toxic  obscene  threat  insult\n0      00054a5e18b50dd4      0             0        0       0       0\n1      00078f8ce7eb276d      0             0        0       0       0\n2      000897889268bc93      0             0        0       0       0\n3      0009801bd85e5806      0             0        0       0       0\n4      000c6a3f0cd3ba8e      0             0        0       0       0\n...                 ...    ...           ...      ...     ...     ...\n31909  ffba5332d6b8fd14      0             0        0       0       0\n31910  ffbcd64a71775e04      0             0        0       0       0\n31911  ffcdcb71854f6d8a      0             0        0       0       0\n31912  ffe029a7c79dc7fe      0             0        0       0       0\n31913  ffe987279560d7ff      0             0        0       0       0\n\n[31914 rows x 6 columns]",
      "text/html": "<div>\n<style scoped>\n    .dataframe tbody tr th:only-of-type {\n        vertical-align: middle;\n    }\n\n    .dataframe tbody tr th {\n        vertical-align: top;\n    }\n\n    .dataframe thead th {\n        text-align: right;\n    }\n</style>\n<table border=\"1\" class=\"dataframe\">\n  <thead>\n    <tr style=\"text-align: right;\">\n      <th></th>\n      <th>id</th>\n      <th>toxic</th>\n      <th>severe_toxic</th>\n      <th>obscene</th>\n      <th>threat</th>\n      <th>insult</th>\n    </tr>\n  </thead>\n  <tbody>\n    <tr>\n      <th>0</th>\n      <td>00054a5e18b50dd4</td>\n      <td>0</td>\n      <td>0</td>\n      <td>0</td>\n      <td>0</td>\n      <td>0</td>\n    </tr>\n    <tr>\n      <th>1</th>\n      <td>00078f8ce7eb276d</td>\n      <td>0</td>\n      <td>0</td>\n      <td>0</td>\n      <td>0</td>\n      <td>0</td>\n    </tr>\n    <tr>\n      <th>2</th>\n      <td>000897889268bc93</td>\n      <td>0</td>\n      <td>0</td>\n      <td>0</td>\n      <td>0</td>\n      <td>0</td>\n    </tr>\n    <tr>\n      <th>3</th>\n      <td>0009801bd85e5806</td>\n      <td>0</td>\n      <td>0</td>\n      <td>0</td>\n      <td>0</td>\n      <td>0</td>\n    </tr>\n    <tr>\n      <th>4</th>\n      <td>000c6a3f0cd3ba8e</td>\n      <td>0</td>\n      <td>0</td>\n      <td>0</td>\n      <td>0</td>\n      <td>0</td>\n    </tr>\n    <tr>\n      <th>...</th>\n      <td>...</td>\n      <td>...</td>\n      <td>...</td>\n      <td>...</td>\n      <td>...</td>\n      <td>...</td>\n    </tr>\n    <tr>\n      <th>31909</th>\n      <td>ffba5332d6b8fd14</td>\n      <td>0</td>\n      <td>0</td>\n      <td>0</td>\n      <td>0</td>\n      <td>0</td>\n    </tr>\n    <tr>\n      <th>31910</th>\n      <td>ffbcd64a71775e04</td>\n      <td>0</td>\n      <td>0</td>\n      <td>0</td>\n      <td>0</td>\n      <td>0</td>\n    </tr>\n    <tr>\n      <th>31911</th>\n      <td>ffcdcb71854f6d8a</td>\n      <td>0</td>\n      <td>0</td>\n      <td>0</td>\n      <td>0</td>\n      <td>0</td>\n    </tr>\n    <tr>\n      <th>31912</th>\n      <td>ffe029a7c79dc7fe</td>\n      <td>0</td>\n      <td>0</td>\n      <td>0</td>\n      <td>0</td>\n      <td>0</td>\n    </tr>\n    <tr>\n      <th>31913</th>\n      <td>ffe987279560d7ff</td>\n      <td>0</td>\n      <td>0</td>\n      <td>0</td>\n      <td>0</td>\n      <td>0</td>\n    </tr>\n  </tbody>\n</table>\n<p>31914 rows × 6 columns</p>\n</div>"
     },
     "execution_count": 61,
     "metadata": {},
     "output_type": "execute_result"
    }
   ],
   "source": [
    "test_tfidf = tfidf.transform(test['comment_text_sw'])\n",
    "test_df = pd.DataFrame(test_tfidf.toarray(), columns=tfidf.get_feature_names_out())\n",
    "test_pca = pca.transform(test_df)\n",
    "test_pca = pd.DataFrame(test_pca)\n",
    "insult = lgb.predict(test_pca)\n",
    "result = pd.concat([result, pd.DataFrame(insult, columns=['insult'], index=test.index)], axis=1)\n",
    "result"
   ],
   "metadata": {
    "collapsed": false,
    "pycharm": {
     "name": "#%%\n"
    }
   }
  },
  {
   "cell_type": "code",
   "execution_count": 62,
   "outputs": [
    {
     "name": "stderr",
     "output_type": "stream",
     "text": [
      "D:\\anaconda\\lib\\site-packages\\sklearn\\preprocessing\\_label.py:98: DataConversionWarning: A column-vector y was passed when a 1d array was expected. Please change the shape of y to (n_samples, ), for example using ravel().\n",
      "  y = column_or_1d(y, warn=True)\n",
      "D:\\anaconda\\lib\\site-packages\\sklearn\\preprocessing\\_label.py:133: DataConversionWarning: A column-vector y was passed when a 1d array was expected. Please change the shape of y to (n_samples, ), for example using ravel().\n",
      "  y = column_or_1d(y, warn=True)\n"
     ]
    },
    {
     "name": "stdout",
     "output_type": "stream",
     "text": [
      "identity_hate f1_score: 83.30\n"
     ]
    }
   ],
   "source": [
    "# identity_hate 得分\n",
    "from imblearn.under_sampling import RandomUnderSampler\n",
    "rus = RandomUnderSampler()\n",
    "X, y= rus.fit_resample(data[['comment_text_sw']], data[['identity_hate']])\n",
    "\n",
    "from sklearn.feature_extraction.text import TfidfVectorizer\n",
    "tfidf = TfidfVectorizer(min_df=10)\n",
    "X_tfidf = tfidf.fit_transform(X['comment_text_sw'])\n",
    "from sklearn.decomposition import PCA\n",
    "X_df = pd.DataFrame(X_tfidf.toarray(), columns=tfidf.get_feature_names_out())\n",
    "pca = PCA(n_components=50)\n",
    "x_pca = pca.fit_transform(X_df)\n",
    "x_pca = pd.DataFrame(x_pca)\n",
    "from sklearn.model_selection import train_test_split\n",
    "X_train, X_valid, y_train, y_valid = train_test_split(x_pca, y, test_size=0.2)\n",
    "from lightgbm.sklearn import LGBMClassifier\n",
    "from sklearn.metrics import f1_score\n",
    "lgb =LGBMClassifier(max_depth=10, num_leaves=100, boosting_type='dart')\n",
    "lgb.fit(X_train, y_train)\n",
    "y_valid_pred = lgb.predict(X_valid)\n",
    "print(\"%s f1_score: %.2f\" % (\"identity_hate\", f1_score(y_valid, y_valid_pred) * 100))"
   ],
   "metadata": {
    "collapsed": false,
    "pycharm": {
     "name": "#%%\n"
    }
   }
  },
  {
   "cell_type": "code",
   "execution_count": 63,
   "outputs": [
    {
     "data": {
      "text/plain": "                     id  toxic  severe_toxic  obscene  threat  insult  \\\n0      00054a5e18b50dd4      0             0        0       0       0   \n1      00078f8ce7eb276d      0             0        0       0       0   \n2      000897889268bc93      0             0        0       0       0   \n3      0009801bd85e5806      0             0        0       0       0   \n4      000c6a3f0cd3ba8e      0             0        0       0       0   \n...                 ...    ...           ...      ...     ...     ...   \n31909  ffba5332d6b8fd14      0             0        0       0       0   \n31910  ffbcd64a71775e04      0             0        0       0       0   \n31911  ffcdcb71854f6d8a      0             0        0       0       0   \n31912  ffe029a7c79dc7fe      0             0        0       0       0   \n31913  ffe987279560d7ff      0             0        0       0       0   \n\n       identity_hate  \n0                  0  \n1                  0  \n2                  0  \n3                  0  \n4                  0  \n...              ...  \n31909              0  \n31910              0  \n31911              0  \n31912              0  \n31913              0  \n\n[31914 rows x 7 columns]",
      "text/html": "<div>\n<style scoped>\n    .dataframe tbody tr th:only-of-type {\n        vertical-align: middle;\n    }\n\n    .dataframe tbody tr th {\n        vertical-align: top;\n    }\n\n    .dataframe thead th {\n        text-align: right;\n    }\n</style>\n<table border=\"1\" class=\"dataframe\">\n  <thead>\n    <tr style=\"text-align: right;\">\n      <th></th>\n      <th>id</th>\n      <th>toxic</th>\n      <th>severe_toxic</th>\n      <th>obscene</th>\n      <th>threat</th>\n      <th>insult</th>\n      <th>identity_hate</th>\n    </tr>\n  </thead>\n  <tbody>\n    <tr>\n      <th>0</th>\n      <td>00054a5e18b50dd4</td>\n      <td>0</td>\n      <td>0</td>\n      <td>0</td>\n      <td>0</td>\n      <td>0</td>\n      <td>0</td>\n    </tr>\n    <tr>\n      <th>1</th>\n      <td>00078f8ce7eb276d</td>\n      <td>0</td>\n      <td>0</td>\n      <td>0</td>\n      <td>0</td>\n      <td>0</td>\n      <td>0</td>\n    </tr>\n    <tr>\n      <th>2</th>\n      <td>000897889268bc93</td>\n      <td>0</td>\n      <td>0</td>\n      <td>0</td>\n      <td>0</td>\n      <td>0</td>\n      <td>0</td>\n    </tr>\n    <tr>\n      <th>3</th>\n      <td>0009801bd85e5806</td>\n      <td>0</td>\n      <td>0</td>\n      <td>0</td>\n      <td>0</td>\n      <td>0</td>\n      <td>0</td>\n    </tr>\n    <tr>\n      <th>4</th>\n      <td>000c6a3f0cd3ba8e</td>\n      <td>0</td>\n      <td>0</td>\n      <td>0</td>\n      <td>0</td>\n      <td>0</td>\n      <td>0</td>\n    </tr>\n    <tr>\n      <th>...</th>\n      <td>...</td>\n      <td>...</td>\n      <td>...</td>\n      <td>...</td>\n      <td>...</td>\n      <td>...</td>\n      <td>...</td>\n    </tr>\n    <tr>\n      <th>31909</th>\n      <td>ffba5332d6b8fd14</td>\n      <td>0</td>\n      <td>0</td>\n      <td>0</td>\n      <td>0</td>\n      <td>0</td>\n      <td>0</td>\n    </tr>\n    <tr>\n      <th>31910</th>\n      <td>ffbcd64a71775e04</td>\n      <td>0</td>\n      <td>0</td>\n      <td>0</td>\n      <td>0</td>\n      <td>0</td>\n      <td>0</td>\n    </tr>\n    <tr>\n      <th>31911</th>\n      <td>ffcdcb71854f6d8a</td>\n      <td>0</td>\n      <td>0</td>\n      <td>0</td>\n      <td>0</td>\n      <td>0</td>\n      <td>0</td>\n    </tr>\n    <tr>\n      <th>31912</th>\n      <td>ffe029a7c79dc7fe</td>\n      <td>0</td>\n      <td>0</td>\n      <td>0</td>\n      <td>0</td>\n      <td>0</td>\n      <td>0</td>\n    </tr>\n    <tr>\n      <th>31913</th>\n      <td>ffe987279560d7ff</td>\n      <td>0</td>\n      <td>0</td>\n      <td>0</td>\n      <td>0</td>\n      <td>0</td>\n      <td>0</td>\n    </tr>\n  </tbody>\n</table>\n<p>31914 rows × 7 columns</p>\n</div>"
     },
     "execution_count": 63,
     "metadata": {},
     "output_type": "execute_result"
    }
   ],
   "source": [
    "test_tfidf = tfidf.transform(test['comment_text_sw'])\n",
    "test_df = pd.DataFrame(test_tfidf.toarray(), columns=tfidf.get_feature_names_out())\n",
    "test_pca = pca.transform(test_df)\n",
    "test_pca = pd.DataFrame(test_pca)\n",
    "identity_hate = lgb.predict(test_pca)\n",
    "result = pd.concat([result, pd.DataFrame(identity_hate, columns=['identity_hate'], index=test.index)], axis=1)\n",
    "result"
   ],
   "metadata": {
    "collapsed": false,
    "pycharm": {
     "name": "#%%\n"
    }
   }
  },
  {
   "cell_type": "code",
   "execution_count": 64,
   "outputs": [],
   "source": [
    "for y in ['toxic','severe_toxic','obscene','threat','insult','identity_hate']:\n",
    "    result[y] = result[y].map({0:'L', 1:'H'})\n",
    "result"
   ],
   "metadata": {
    "collapsed": false,
    "pycharm": {
     "name": "#%%\n"
    }
   }
  },
  {
   "cell_type": "code",
   "execution_count": null,
   "outputs": [],
   "source": [
    "result.to_csv(\"_results.csv\", index=None)"
   ],
   "metadata": {
    "collapsed": false,
    "pycharm": {
     "name": "#%%\n"
    }
   }
  }
 ],
 "metadata": {
  "kernelspec": {
   "display_name": "Python 3",
   "language": "python",
   "name": "python3"
  },
  "language_info": {
   "codemirror_mode": {
    "name": "ipython",
    "version": 2
   },
   "file_extension": ".py",
   "mimetype": "text/x-python",
   "name": "python",
   "nbconvert_exporter": "python",
   "pygments_lexer": "ipython2",
   "version": "2.7.6"
  }
 },
 "nbformat": 4,
 "nbformat_minor": 0
}
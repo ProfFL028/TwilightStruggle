{
 "cells": [
  {
   "cell_type": "code",
   "execution_count": 2,
   "metadata": {},
   "outputs": [],
   "source": [
    "import os\n",
    "import math\n",
    "import jieba\n",
    "import random\n",
    "import warnings\n",
    "import re\n",
    "import numpy as np\n",
    "import pandas as pd\n",
    "warnings.filterwarnings(\"ignore\")\n",
    "from scipy.sparse import hstack\n",
    "from sklearn.linear_model import LogisticRegression\n",
    "from sklearn.model_selection import cross_val_score\n",
    "from sklearn.feature_extraction.text import TfidfVectorizer"
   ]
  },
  {
   "cell_type": "code",
   "execution_count": 3,
   "metadata": {},
   "outputs": [],
   "source": [
    "train=pd.read_csv('./DATA/training.csv')\n",
    "test=pd.read_csv('./DATA/test.csv')"
   ]
  },
  {
   "cell_type": "code",
   "execution_count": 4,
   "metadata": {
    "scrolled": true
   },
   "outputs": [
    {
     "data": {
      "text/plain": "                 id                                       comment_text\n0  00054a5e18b50dd4  bbq \\n\\nbe a man and lets discuss it-maybe ove...\n1  00078f8ce7eb276d  \\n\\nJuelz Santanas Age\\n\\nIn 2002, Juelz Santa...\n2  000897889268bc93   REDIRECT Talk:Voydan Pop Georgiev- Chernodrinski\n3  0009801bd85e5806  The Mitsurugi point made no sense - why not ar...\n4  000c6a3f0cd3ba8e  \\n\\n The Signpost: 24 September 2012 \\n\\n Read...",
      "text/html": "<div>\n<style scoped>\n    .dataframe tbody tr th:only-of-type {\n        vertical-align: middle;\n    }\n\n    .dataframe tbody tr th {\n        vertical-align: top;\n    }\n\n    .dataframe thead th {\n        text-align: right;\n    }\n</style>\n<table border=\"1\" class=\"dataframe\">\n  <thead>\n    <tr style=\"text-align: right;\">\n      <th></th>\n      <th>id</th>\n      <th>comment_text</th>\n    </tr>\n  </thead>\n  <tbody>\n    <tr>\n      <th>0</th>\n      <td>00054a5e18b50dd4</td>\n      <td>bbq \\n\\nbe a man and lets discuss it-maybe ove...</td>\n    </tr>\n    <tr>\n      <th>1</th>\n      <td>00078f8ce7eb276d</td>\n      <td>\\n\\nJuelz Santanas Age\\n\\nIn 2002, Juelz Santa...</td>\n    </tr>\n    <tr>\n      <th>2</th>\n      <td>000897889268bc93</td>\n      <td>REDIRECT Talk:Voydan Pop Georgiev- Chernodrinski</td>\n    </tr>\n    <tr>\n      <th>3</th>\n      <td>0009801bd85e5806</td>\n      <td>The Mitsurugi point made no sense - why not ar...</td>\n    </tr>\n    <tr>\n      <th>4</th>\n      <td>000c6a3f0cd3ba8e</td>\n      <td>\\n\\n The Signpost: 24 September 2012 \\n\\n Read...</td>\n    </tr>\n  </tbody>\n</table>\n</div>"
     },
     "execution_count": 4,
     "metadata": {},
     "output_type": "execute_result"
    }
   ],
   "source": [
    "test.head()"
   ]
  },
  {
   "cell_type": "code",
   "execution_count": 5,
   "metadata": {},
   "outputs": [],
   "source": [
    "# class_names = ['toxic', 'severe_toxic', 'obscene', 'threat', 'insult', 'identity_hate']"
   ]
  },
  {
   "cell_type": "code",
   "execution_count": 4,
   "metadata": {},
   "outputs": [],
   "source": [
    "train_text = train['comment_text']\n",
    "test_text = test['comment_text']\n",
    "all_text = pd.concat([train_text, test_text])"
   ]
  },
  {
   "cell_type": "code",
   "execution_count": 5,
   "metadata": {},
   "outputs": [],
   "source": [
    "word_vectorizer = TfidfVectorizer(\n",
    "    min_df=50,\n",
    "    max_df=0.5,\n",
    "    sublinear_tf=True,\n",
    "    strip_accents='unicode',\n",
    "    analyzer='word',\n",
    "    token_pattern=r'\\w{1,}',\n",
    "    ngram_range=(1,1),\n",
    "    max_features=20000)\n",
    "word_vectorizer.fit(all_text)\n",
    "train_word_tezhen = word_vectorizer.transform(train_text)\n",
    "test_word_tezhen = word_vectorizer.transform(test_text)"
   ]
  },
  {
   "cell_type": "code",
   "execution_count": 7,
   "metadata": {},
   "outputs": [],
   "source": [
    "char_vectorizer = TfidfVectorizer(\n",
    "    min_df=10,\n",
    "    max_df=0.5,\n",
    "    sublinear_tf=True,\n",
    "    strip_accents='unicode',\n",
    "    analyzer='char',\n",
    "    ngram_range=(1, 4),\n",
    "    max_features=20000)\n",
    "char_vectorizer.fit(all_text)\n",
    "train_char_tezhen = char_vectorizer.transform(train_text)\n",
    "test_char_tezhen = char_vectorizer.transform(test_text)"
   ]
  },
  {
   "cell_type": "code",
   "execution_count": 8,
   "metadata": {},
   "outputs": [],
   "source": [
    "train_tezhen = hstack((train_word_tezhen, train_char_tezhen))\n",
    "test_tezhen = hstack((test_word_tezhen, test_char_tezhen))"
   ]
  },
  {
   "cell_type": "code",
   "execution_count": 15,
   "outputs": [
    {
     "data": {
      "text/plain": "<127657x40000 sparse matrix of type '<class 'numpy.float64'>'\n\twith 85683626 stored elements in COOrdinate format>"
     },
     "execution_count": 15,
     "metadata": {},
     "output_type": "execute_result"
    }
   ],
   "source": [
    "train_tezhen"
   ],
   "metadata": {
    "collapsed": false,
    "pycharm": {
     "name": "#%%\n"
    }
   }
  },
  {
   "cell_type": "code",
   "execution_count": 9,
   "metadata": {},
   "outputs": [
    {
     "name": "stdout",
     "output_type": "stream",
     "text": [
      "toxic-训练集F1值:0.885279187817259\n",
      "toxic-验证集F1值:0.7766901193025391\n"
     ]
    }
   ],
   "source": [
    "import sklearn\n",
    "from sklearn.model_selection import train_test_split\n",
    "train_target = train['toxic']\n",
    "X_train, X_test, y_train, y_test = train_test_split(train_tezhen, train_target, test_size=0.3, random_state=112)\n",
    "\n",
    "classifier = LogisticRegression(C=3.0, solver='sag')\n",
    "classifier.fit(X_train, y_train)\n",
    "train_pred_toxic = classifier.predict(X_train)\n",
    "test_pred_toxic = classifier.predict(X_test)\n",
    "\n",
    "predict_toxic_0 = classifier.predict(test_tezhen)\n",
    "predict_toxic=pd.DataFrame(predict_toxic_0,columns=['toxic'])\n",
    "\n",
    "from sklearn.metrics import f1_score\n",
    "from sklearn.metrics import roc_curve, auc\n",
    "print('toxic-训练集F1值:%s'%f1_score(train_pred_toxic,y_train))\n",
    "print('toxic-验证集F1值:%s'%f1_score(test_pred_toxic,y_test))"
   ]
  },
  {
   "cell_type": "code",
   "execution_count": 13,
   "metadata": {},
   "outputs": [
    {
     "name": "stdout",
     "output_type": "stream",
     "text": [
      "severe_toxic-训练集F1值:0.6534653465346535\n",
      "severe_toxic-验证集F1值:0.36303630363036304\n"
     ]
    }
   ],
   "source": [
    "\n",
    "train_target = train['severe_toxic']\n",
    "X_train, X_test, y_train, y_test = train_test_split(train_tezhen, train_target, test_size=0.3, random_state=112)\n",
    "classifier = LogisticRegression(C=3.0, solver='sag')\n",
    "classifier.fit(X_train, y_train)\n",
    "train_pred_severe_toxic = classifier.predict(X_train)\n",
    "test_pred_severe_toxic = classifier.predict(X_test)\n",
    "\n",
    "predict_severe_toxic_0 = classifier.predict(test_tezhen)\n",
    "predict_severe_toxic=pd.DataFrame(predict_severe_toxic_0,columns=['severe_toxic'])\n",
    "\n",
    "print('severe_toxic-训练集F1值:%s'%f1_score(train_pred_severe_toxic,y_train))\n",
    "print('severe_toxic-验证集F1值:%s'%f1_score(test_pred_severe_toxic,y_test))"
   ]
  },
  {
   "cell_type": "code",
   "execution_count": 14,
   "metadata": {},
   "outputs": [
    {
     "name": "stdout",
     "output_type": "stream",
     "text": [
      "obscene-训练集F1值:0.8890395480225989\n",
      "obscene-验证集F1值:0.7997799779977998\n"
     ]
    }
   ],
   "source": [
    "\n",
    "train_target = train['obscene']\n",
    "X_train, X_test, y_train, y_test = train_test_split(train_tezhen, train_target, test_size=0.3, random_state=112)\n",
    "classifier = LogisticRegression(C=3.0, solver='sag')\n",
    "classifier.fit(X_train, y_train)\n",
    "train_pred_obscene = classifier.predict(X_train)\n",
    "test_pred_obscene = classifier.predict(X_test)\n",
    "\n",
    "predict_obscene_0 = classifier.predict(test_tezhen)\n",
    "predict_obscene=pd.DataFrame(predict_obscene_0,columns=['obscene'])\n",
    "\n",
    "\n",
    "print('obscene-训练集F1值:%s'%f1_score(train_pred_obscene,y_train))\n",
    "print('obscene-验证集F1值:%s'%f1_score(test_pred_obscene,y_test))"
   ]
  },
  {
   "cell_type": "code",
   "execution_count": 15,
   "metadata": {},
   "outputs": [
    {
     "name": "stdout",
     "output_type": "stream",
     "text": [
      "threat-训练集F1值:0.6553398058252426\n",
      "threat-验证集F1值:0.34355828220858897\n"
     ]
    }
   ],
   "source": [
    "\n",
    "train_target = train['threat']\n",
    "X_train, X_test, y_train, y_test = train_test_split(train_tezhen, train_target, test_size=0.3, random_state=112)\n",
    "classifier = LogisticRegression(C=3.0, solver='sag')\n",
    "classifier.fit(X_train, y_train)\n",
    "train_pred_threat = classifier.predict(X_train)\n",
    "test_pred_threat = classifier.predict(X_test)\n",
    "\n",
    "predict_threat_0 = classifier.predict(test_tezhen)\n",
    "predict_threat=pd.DataFrame(predict_threat_0,columns=['threat'])\n",
    "\n",
    "\n",
    "print('threat-训练集F1值:%s'%f1_score(train_pred_threat,y_train))\n",
    "print('threat-验证集F1值:%s'%f1_score(test_pred_threat,y_test))"
   ]
  },
  {
   "cell_type": "code",
   "execution_count": 16,
   "metadata": {},
   "outputs": [
    {
     "name": "stdout",
     "output_type": "stream",
     "text": [
      "insult-训练集F1值:0.834514484645033\n",
      "insult-验证集F1值:0.7006331022007838\n"
     ]
    }
   ],
   "source": [
    "\n",
    "train_target = train['insult']\n",
    "X_train, X_test, y_train, y_test = train_test_split(train_tezhen, train_target, test_size=0.3, random_state=112)\n",
    "classifier = LogisticRegression(C=3.0, solver='sag')\n",
    "classifier.fit(X_train, y_train)\n",
    "train_pred_insult = classifier.predict(X_train)\n",
    "test_pred_insult = classifier.predict(X_test)\n",
    "\n",
    "predict_insult_0 = classifier.predict(test_tezhen)\n",
    "predict_insult=pd.DataFrame(predict_insult_0,columns=['insult'])\n",
    "\n",
    "\n",
    "print('insult-训练集F1值:%s'%f1_score(train_pred_insult,y_train))\n",
    "print('insult-验证集F1值:%s'%f1_score(test_pred_insult,y_test))"
   ]
  },
  {
   "cell_type": "code",
   "execution_count": 17,
   "metadata": {},
   "outputs": [
    {
     "name": "stdout",
     "output_type": "stream",
     "text": [
      "identity_hate-训练集F1值:0.6769480519480519\n",
      "identity_hate-验证集F1值:0.40579710144927533\n"
     ]
    }
   ],
   "source": [
    "\n",
    "train_target = train['identity_hate']\n",
    "X_train, X_test, y_train, y_test = train_test_split(train_tezhen, train_target, test_size=0.3, random_state=112)\n",
    "classifier = LogisticRegression(C=3.0, solver='sag')\n",
    "classifier.fit(X_train, y_train)\n",
    "train_pred_identity_hate = classifier.predict(X_train)\n",
    "test_pred_identity_hate = classifier.predict(X_test)\n",
    "\n",
    "predict_identity_hate_0 = classifier.predict(test_tezhen)\n",
    "predict_identity_hate=pd.DataFrame(predict_identity_hate_0,columns=['identity_hate'])\n",
    "\n",
    "\n",
    "print('identity_hate-训练集F1值:%s'%f1_score(train_pred_identity_hate,y_train))\n",
    "print('identity_hate-验证集F1值:%s'%f1_score(test_pred_identity_hate,y_test))"
   ]
  },
  {
   "cell_type": "code",
   "execution_count": 18,
   "metadata": {},
   "outputs": [],
   "source": [
    "final=pd.concat([test[['id']],predict_toxic,\n",
    "                     predict_severe_toxic,predict_obscene,predict_threat,\n",
    "                     predict_insult,predict_identity_hate],axis=1)\n"
   ]
  },
  {
   "cell_type": "code",
   "execution_count": 19,
   "metadata": {},
   "outputs": [],
   "source": [
    "final.to_csv('xx_result.csv')"
   ]
  },
  {
   "cell_type": "code",
   "execution_count": null,
   "metadata": {},
   "outputs": [],
   "source": []
  }
 ],
 "metadata": {
  "kernelspec": {
   "display_name": "Python 3",
   "language": "python",
   "name": "python3"
  },
  "language_info": {
   "codemirror_mode": {
    "name": "ipython",
    "version": 3
   },
   "file_extension": ".py",
   "mimetype": "text/x-python",
   "name": "python",
   "nbconvert_exporter": "python",
   "pygments_lexer": "ipython3",
   "version": "3.8.8"
  },
  "toc": {
   "base_numbering": 1,
   "nav_menu": {},
   "number_sections": true,
   "sideBar": true,
   "skip_h1_title": false,
   "title_cell": "Table of Contents",
   "title_sidebar": "Contents",
   "toc_cell": false,
   "toc_position": {},
   "toc_section_display": true,
   "toc_window_display": false
  }
 },
 "nbformat": 4,
 "nbformat_minor": 4
}
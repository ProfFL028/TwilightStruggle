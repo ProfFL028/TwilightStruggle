{
 "cells": [
  {
   "cell_type": "code",
   "execution_count": 1,
   "metadata": {
    "collapsed": true
   },
   "outputs": [],
   "source": [
    "from operators import *"
   ]
  },
  {
   "cell_type": "code",
   "execution_count": null,
   "outputs": [],
   "source": [
    "def central_difference(f, *vals, arg=0, epsilon=1e-6):\n",
    "    r\"\"\"\n",
    "    Computes an approximation to the derivative of `f` with respect to one arg.\n",
    "    See :doc:`derivative` or https://en.wikipedia.org/wiki/Finite_difference for more details.\n",
    "    Args:\n",
    "        f : arbitrary function from n-scalar args to one value\n",
    "        *vals (list of floats): n-float values :math:`x_0 \\ldots x_{n-1}`\n",
    "        arg (int): the number :math:`i` of the arg to compute the derivative\n",
    "        epsilon (float): a small constant\n",
    "    Returns:\n",
    "        float : An approximation of :math:`f'_i(x_0, \\ldots, x_{n-1})`\n",
    "    \"\"\"\n",
    "    arg1 = [i for i in vals]\n",
    "    arg1[arg] += epsilon\n",
    "    m = f(*arg1)\n",
    "    arg1[arg] -= epsilon * 2.0\n",
    "    n = f(*arg1)\n",
    "    return (m - n)/ 2.0 * epsilon"
   ],
   "metadata": {
    "collapsed": false,
    "pycharm": {
     "name": "#%%\n"
    }
   }
  }
 ],
 "metadata": {
  "kernelspec": {
   "display_name": "Python 3",
   "language": "python",
   "name": "python3"
  },
  "language_info": {
   "codemirror_mode": {
    "name": "ipython",
    "version": 2
   },
   "file_extension": ".py",
   "mimetype": "text/x-python",
   "name": "python",
   "nbconvert_exporter": "python",
   "pygments_lexer": "ipython2",
   "version": "2.7.6"
  }
 },
 "nbformat": 4,
 "nbformat_minor": 0
}
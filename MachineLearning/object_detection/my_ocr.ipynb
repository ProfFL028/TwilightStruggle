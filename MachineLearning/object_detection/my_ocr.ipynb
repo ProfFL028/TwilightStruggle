{
 "cells": [
  {
   "cell_type": "markdown",
   "source": [
    "导入相关的包\n",
    "pip install pandas\n",
    "pip install ddddocr\n",
    "pip install selenium"
   ],
   "metadata": {
    "collapsed": false,
    "pycharm": {
     "name": "#%% md\n"
    }
   }
  },
  {
   "cell_type": "code",
   "execution_count": 71,
   "outputs": [],
   "source": [
    "import time\n",
    "import ddddocr\n",
    "from selenium.common import NoSuchElementException, InvalidSelectorException\n",
    "from selenium.webdriver.chrome.options import Options\n",
    "from selenium import webdriver\n",
    "from selenium.webdriver.common.by import By\n",
    "import pandas as pd\n"
   ],
   "metadata": {
    "collapsed": false,
    "pycharm": {
     "name": "#%%\n"
    }
   }
  },
  {
   "cell_type": "code",
   "execution_count": 72,
   "outputs": [],
   "source": [
    "\"\"\"加载OCR，识别验证码用\"\"\"\n",
    "ocr = ddddocr.DdddOcr(show_ad=False)"
   ],
   "metadata": {
    "collapsed": false,
    "pycharm": {
     "name": "#%%\n"
    }
   }
  },
  {
   "cell_type": "code",
   "execution_count": 86,
   "outputs": [
    {
     "name": "stdout",
     "output_type": "stream",
     "text": [
      "从第 2 行开始查询：\n"
     ]
    }
   ],
   "source": [
    "\"\"\"加载客户清单\"\"\"\n",
    "customers = pd.read_excel(\"tmp/customers.xlsx\")\n",
    "searchResult = pd.DataFrame(columns=['身份证', '法院名称', '地区名称', '立案时间', '案号',\n",
    "                                     '做出执行依据单位', '生效法律文书确定的义务',\n",
    "                                     '被执行人的履行情况', '失信被执行人行为具体情形'])\n",
    "\n",
    "with open(\"tmp/pos\", \"r\") as f:\n",
    "    pos = str(f.read())\n",
    "if len(pos) == 0:\n",
    "    pos = 2\n",
    "else:\n",
    "    pos = int(pos)\n",
    "print(\"从第 %d 行开始查询：\" % pos)\n",
    "pos -= 2\n"
   ],
   "metadata": {
    "collapsed": false,
    "pycharm": {
     "name": "#%%\n"
    }
   }
  },
  {
   "cell_type": "code",
   "execution_count": 74,
   "outputs": [],
   "source": [
    "\"\"\"selenium 启用缓存\"\"\"\n",
    "chrome_options = Options()\n",
    "chrome_options.page_load_strategy = 'eager'"
   ],
   "metadata": {
    "collapsed": false,
    "pycharm": {
     "name": "#%%\n"
    }
   }
  },
  {
   "cell_type": "code",
   "execution_count": 87,
   "outputs": [
    {
     "name": "stdout",
     "output_type": "stream",
     "text": [
      "331022198206210102 is ok\n",
      "332626196108131160 is ok\n",
      "91331022355336486K is ok\n"
     ]
    }
   ],
   "source": [
    "disruptCount = 0\n",
    "\n",
    "driver = webdriver.Chrome(chrome_options=chrome_options)\n",
    "for i in range(pos, customers.shape[0]):\n",
    "    idcard = customers[customers.columns[0]][i]\n",
    "    # Navigate to url\n",
    "    driver.get(\"http://zxgk.court.gov.cn/shixin/\")\n",
    "\n",
    "    # Enter \"webdriver\" text and perform \"ENTER\" keyboard action\n",
    "    pageOK = False\n",
    "    while not pageOK:\n",
    "        try:\n",
    "            driver.find_element(By.NAME, \"pCardNum\").send_keys(idcard)\n",
    "            pageOK = True\n",
    "        except NoSuchElementException:\n",
    "            print(\"cannot open website, sleep 1 minutes\")\n",
    "            time.sleep(60)\n",
    "\n",
    "    while True:\n",
    "        driver.find_element_by_id(\"captchaImg\").click()\n",
    "        time.sleep(2)\n",
    "        img = driver.find_element_by_id(\"captchaImg\")\n",
    "\n",
    "        with open('tmp/1.png', 'wb') as file:\n",
    "            file.write(img.screenshot_as_png)\n",
    "\n",
    "        with open('tmp/1.png', 'rb') as f:\n",
    "            img_bytes = f.read()\n",
    "        check_code = ocr.classification(img_bytes)\n",
    "        driver.find_element_by_id(\"yzm\").send_keys(check_code)\n",
    "        time.sleep(1)\n",
    "        try:\n",
    "            yzmResult = driver.find_element(By.XPATH, \"//*[contains(text(), '验证码正确')]\")\n",
    "            break\n",
    "        except NoSuchElementException:\n",
    "            print(\"验证码错误，重新验证\")\n",
    "            continue\n",
    "\n",
    "    driver.find_element(By.XPATH, '//button[normalize-space()=\"查询\"]').click()\n",
    "    time.sleep(5)\n",
    "    try:\n",
    "        resultList = driver.find_elements(By.XPATH, '//a[normalize-space()]=\"查看\"')\n",
    "        if len(resultList) > 0:\n",
    "            for result in resultList:\n",
    "                result.click()\n",
    "                courtNameDetail = driver.find_element_by_id(\"courtNameDetail\").text\n",
    "                areaNameDetail = driver.find_element_by_id(\"areaNameDetail\").text\n",
    "                regDateDetail = driver.find_element_by_id(\"regDateDetail\").text\n",
    "                caseCodeDetail = driver.find_element_by_id(\"caseCodeDetail\").text\n",
    "                gistUnitDetail = driver.find_element_by_id(\"gistUnitDetail\").text\n",
    "                dutyDetail = driver.find_element_by_id(\"dutyDetail\").text\n",
    "                performanceDetail = driver.find_element_by_id(\"performanceDetail\").text\n",
    "                disruptTypeNameDetail = driver.find_element_by_id(\"disruptTypeNameDetail\").text\n",
    "                driver.find_element(By.XPATH, '//button[normalize-space()=\"关闭\"]').click()\n",
    "\n",
    "                print(idcard, courtNameDetail, areaNameDetail, areaNameDetail, regDateDetail, caseCodeDetail,\n",
    "                      gistUnitDetail, performanceDetail, disruptTypeNameDetail)\n",
    "\n",
    "                searchResult.loc[disruptCount] = [idcard, courtNameDetail, areaNameDetail, regDateDetail,\n",
    "                                                  caseCodeDetail, gistUnitDetail, dutyDetail, performanceDetail, disruptTypeNameDetail]\n",
    "                disruptCount += 1\n",
    "    except InvalidSelectorException:\n",
    "        print(\"%s is ok\" % idcard)\n",
    "    except NoSuchElementException:\n",
    "        print(\"%s is ok\" % idcard)\n",
    "\n",
    "    with open(\"tmp/pos\", \"w\") as f:\n",
    "        f.write(str(i+2))\n",
    "\n",
    "    time.sleep(60)\n",
    "\n",
    "with open(\"tmp/pos\", \"w\") as f:\n",
    "    f.write(\"2\")\n",
    "searchResult.to_excel(\"tmp/查询结果.xlsx\", index=None)\n",
    "driver.close()"
   ],
   "metadata": {
    "collapsed": false,
    "pycharm": {
     "name": "#%%\n"
    }
   }
  },
  {
   "cell_type": "code",
   "execution_count": null,
   "outputs": [],
   "source": [],
   "metadata": {
    "collapsed": false,
    "pycharm": {
     "name": "#%%\n"
    }
   }
  }
 ],
 "metadata": {
  "kernelspec": {
   "display_name": "Python 3",
   "language": "python",
   "name": "python3"
  },
  "language_info": {
   "codemirror_mode": {
    "name": "ipython",
    "version": 2
   },
   "file_extension": ".py",
   "mimetype": "text/x-python",
   "name": "python",
   "nbconvert_exporter": "python",
   "pygments_lexer": "ipython2",
   "version": "2.7.6"
  }
 },
 "nbformat": 4,
 "nbformat_minor": 0
}
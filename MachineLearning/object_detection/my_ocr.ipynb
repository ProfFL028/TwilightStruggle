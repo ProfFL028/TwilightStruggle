{
 "cells": [
  {
   "cell_type": "markdown",
<<<<<<< HEAD
   "metadata": {
    "pycharm": {
     "name": "#%% md\n"
    }
   },
=======
>>>>>>> 1ecaea2d9bc35318db49d89cecd6e0f2d7a5762c
   "source": [
    "导入相关的包\n",
    "pip install pandas\n",
    "pip install ddddocr\n",
    "pip install selenium"
<<<<<<< HEAD
   ]
  },
  {
   "cell_type": "code",
   "execution_count": 1,
   "metadata": {
    "pycharm": {
     "name": "#%%\n"
    }
   },
=======
   ],
   "metadata": {
    "collapsed": false,
    "pycharm": {
     "name": "#%% md\n"
    }
   }
  },
  {
   "cell_type": "code",
   "execution_count": 17,
>>>>>>> 1ecaea2d9bc35318db49d89cecd6e0f2d7a5762c
   "outputs": [],
   "source": [
    "import time\n",
    "import ddddocr\n",
<<<<<<< HEAD
    "from selenium.common import NoSuchElementException, InvalidSelectorException,ElementClickInterceptedException\n",
=======
    "from selenium.common import NoSuchElementException, InvalidSelectorException\n",
>>>>>>> 1ecaea2d9bc35318db49d89cecd6e0f2d7a5762c
    "from selenium.webdriver.chrome.options import Options\n",
    "from selenium import webdriver\n",
    "from selenium.webdriver.common.by import By\n",
    "import pandas as pd\n"
<<<<<<< HEAD
   ]
  },
  {
   "cell_type": "code",
   "execution_count": 2,
   "metadata": {
    "pycharm": {
     "name": "#%%\n"
    }
   },
=======
   ],
   "metadata": {
    "collapsed": false,
    "pycharm": {
     "name": "#%%\n"
    }
   }
  },
  {
   "cell_type": "code",
   "execution_count": 18,
>>>>>>> 1ecaea2d9bc35318db49d89cecd6e0f2d7a5762c
   "outputs": [],
   "source": [
    "\"\"\"加载OCR，识别验证码用\"\"\"\n",
    "ocr = ddddocr.DdddOcr(show_ad=False)"
<<<<<<< HEAD
   ]
  },
  {
   "cell_type": "code",
   "execution_count": 3,
   "metadata": {
    "pycharm": {
     "name": "#%%\n"
    }
   },
=======
   ],
   "metadata": {
    "collapsed": false,
    "pycharm": {
     "name": "#%%\n"
    }
   }
  },
  {
   "cell_type": "code",
   "execution_count": 19,
>>>>>>> 1ecaea2d9bc35318db49d89cecd6e0f2d7a5762c
   "outputs": [
    {
     "name": "stdout",
     "output_type": "stream",
     "text": [
<<<<<<< HEAD
      "从第 2813 行开始查询：\n"
=======
      "从第 12180 行开始查询：\n"
>>>>>>> 1ecaea2d9bc35318db49d89cecd6e0f2d7a5762c
     ]
    }
   ],
   "source": [
    "\"\"\"加载客户清单\"\"\"\n",
<<<<<<< HEAD
=======
    "# 13180\n",
>>>>>>> 1ecaea2d9bc35318db49d89cecd6e0f2d7a5762c
    "customers = pd.read_excel(\"tmp/customers.xlsx\", dtype=str)\n",
    "searchResult = pd.DataFrame(columns=['身份证', '法院名称', '地区名称', '立案时间', '案号',\n",
    "                                     '做出执行依据单位', '生效法律文书确定的义务',\n",
    "                                     '被执行人的履行情况', '失信被执行人行为具体情形'])\n",
    "\n",
    "with open(\"tmp/pos\", \"r\") as f:\n",
    "    pos = str(f.read())\n",
    "if len(pos) == 0:\n",
    "    pos = 2\n",
    "else:\n",
    "    pos = int(pos)\n",
    "print(\"从第 %d 行开始查询：\" % pos)\n",
    "pos -= 2\n"
<<<<<<< HEAD
   ]
  },
  {
   "cell_type": "code",
   "execution_count": 4,
   "metadata": {
    "pycharm": {
     "name": "#%%\n"
    }
   },
=======
   ],
   "metadata": {
    "collapsed": false,
    "pycharm": {
     "name": "#%%\n"
    }
   }
  },
  {
   "cell_type": "code",
   "execution_count": 20,
>>>>>>> 1ecaea2d9bc35318db49d89cecd6e0f2d7a5762c
   "outputs": [],
   "source": [
    "\"\"\"selenium 启用缓存\"\"\"\n",
    "chrome_options = Options()\n",
    "chrome_options.page_load_strategy = 'eager'\n",
    "# chrome_options.add_experimental_option(\"debuggerAddress\", \"127.0.0.1:9222\")\n"
<<<<<<< HEAD
   ]
  },
  {
   "cell_type": "code",
   "execution_count": 5,
   "metadata": {
    "pycharm": {
     "name": "#%%\n"
    }
   },
=======
   ],
   "metadata": {
    "collapsed": false,
    "pycharm": {
     "name": "#%%\n"
    }
   }
  },
  {
   "cell_type": "code",
   "execution_count": 21,
>>>>>>> 1ecaea2d9bc35318db49d89cecd6e0f2d7a5762c
   "outputs": [],
   "source": [
    "class AutoFetcher:\n",
    "    def __init__(self, drv):\n",
    "        self.driver = drv\n",
    "\n",
    "    def openPage(self, url):\n",
    "        self.driver.get(url)\n",
    "\n",
    "    def inputCardNum(self, idcard):\n",
    "        driver.find_element(By.NAME, \"pCardNum\").send_keys(idcard)"
<<<<<<< HEAD
   ]
  },
  {
   "cell_type": "code",
   "execution_count": 8,
   "metadata": {
    "pycharm": {
     "name": "#%%\n"
    }
   },
=======
   ],
   "metadata": {
    "collapsed": false,
    "pycharm": {
     "name": "#%%\n"
    }
   }
  },
  {
   "cell_type": "code",
   "execution_count": 28,
>>>>>>> 1ecaea2d9bc35318db49d89cecd6e0f2d7a5762c
   "outputs": [
    {
     "name": "stdout",
     "output_type": "stream",
     "text": [
<<<<<<< HEAD
      "从第 3361 行开始查询：\n"
     ]
    },
    {
     "ename": "WebDriverException",
     "evalue": "Message: unknown error: cannot determine loading status\nfrom disconnected: received Inspector.detached event\n  (Session info: chrome=103.0.5060.53)\nStacktrace:\nBacktrace:\n\tOrdinal0 [0x010DD953+2414931]\n\tOrdinal0 [0x0106F5E1+1963489]\n\tOrdinal0 [0x00F5C6B8+837304]\n\tOrdinal0 [0x00F4E45E+779358]\n\tOrdinal0 [0x00F4E04F+778319]\n\tOrdinal0 [0x00F4D646+775750]\n\tOrdinal0 [0x00F4C565+771429]\n\tOrdinal0 [0x00F4CB68+772968]\n\tOrdinal0 [0x00F58B10+822032]\n\tOrdinal0 [0x00F4DE5D+777821]\n\tOrdinal0 [0x00F4EA3B+780859]\n\tOrdinal0 [0x00F4E06A+778346]\n\tOrdinal0 [0x00F4D646+775750]\n\tOrdinal0 [0x00F4C565+771429]\n\tOrdinal0 [0x00F4CA3D+772669]\n\tOrdinal0 [0x00F5DEA4+843428]\n\tOrdinal0 [0x00FB4EBD+1199805]\n\tOrdinal0 [0x00FA449C+1131676]\n\tOrdinal0 [0x00FB4812+1198098]\n\tOrdinal0 [0x00FA42B6+1131190]\n\tOrdinal0 [0x00F7E860+976992]\n\tOrdinal0 [0x00F7F756+980822]\n\tGetHandleVerifier [0x0134CC62+2510274]\n\tGetHandleVerifier [0x0133F760+2455744]\n\tGetHandleVerifier [0x0116EABA+551962]\n\tGetHandleVerifier [0x0116D916+547446]\n\tOrdinal0 [0x01075F3B+1990459]\n\tOrdinal0 [0x0107A898+2009240]\n\tOrdinal0 [0x0107A985+2009477]\n\tOrdinal0 [0x01083AD1+2046673]\n\tBaseThreadInitThunk [0x76E70419+25]\n\tRtlGetAppContainerNamedObjectPath [0x7708662D+237]\n\tRtlGetAppContainerNamedObjectPath [0x770865FD+189]\n",
     "output_type": "error",
     "traceback": [
      "\u001b[1;31m---------------------------------------------------------------------------\u001b[0m",
      "\u001b[1;31mWebDriverException\u001b[0m                        Traceback (most recent call last)",
      "\u001b[1;32m<ipython-input-8-77c6d613214e>\u001b[0m in \u001b[0;36m<module>\u001b[1;34m\u001b[0m\n\u001b[0;32m     18\u001b[0m     \u001b[1;32mwhile\u001b[0m \u001b[1;32mTrue\u001b[0m\u001b[1;33m:\u001b[0m\u001b[1;33m\u001b[0m\u001b[1;33m\u001b[0m\u001b[0m\n\u001b[0;32m     19\u001b[0m         \u001b[1;32mtry\u001b[0m\u001b[1;33m:\u001b[0m\u001b[1;33m\u001b[0m\u001b[1;33m\u001b[0m\u001b[0m\n\u001b[1;32m---> 20\u001b[1;33m             \u001b[0mdriver\u001b[0m\u001b[1;33m.\u001b[0m\u001b[0mget\u001b[0m\u001b[1;33m(\u001b[0m\u001b[1;34m\"http://zxgk.court.gov.cn/shixin/\"\u001b[0m\u001b[1;33m)\u001b[0m\u001b[1;33m\u001b[0m\u001b[1;33m\u001b[0m\u001b[0m\n\u001b[0m\u001b[0;32m     21\u001b[0m             \u001b[0mdriver\u001b[0m\u001b[1;33m.\u001b[0m\u001b[0mfind_element\u001b[0m\u001b[1;33m(\u001b[0m\u001b[0mBy\u001b[0m\u001b[1;33m.\u001b[0m\u001b[0mNAME\u001b[0m\u001b[1;33m,\u001b[0m \u001b[1;34m\"pCardNum\"\u001b[0m\u001b[1;33m)\u001b[0m\u001b[1;33m.\u001b[0m\u001b[0msend_keys\u001b[0m\u001b[1;33m(\u001b[0m\u001b[0midcard\u001b[0m\u001b[1;33m)\u001b[0m\u001b[1;33m\u001b[0m\u001b[1;33m\u001b[0m\u001b[0m\n\u001b[0;32m     22\u001b[0m \u001b[1;33m\u001b[0m\u001b[0m\n",
      "\u001b[1;32mD:\\anaconda\\lib\\site-packages\\selenium\\webdriver\\remote\\webdriver.py\u001b[0m in \u001b[0;36mget\u001b[1;34m(self, url)\u001b[0m\n\u001b[0;32m    445\u001b[0m         \u001b[0mLoads\u001b[0m \u001b[0ma\u001b[0m \u001b[0mweb\u001b[0m \u001b[0mpage\u001b[0m \u001b[1;32min\u001b[0m \u001b[0mthe\u001b[0m \u001b[0mcurrent\u001b[0m \u001b[0mbrowser\u001b[0m \u001b[0msession\u001b[0m\u001b[1;33m.\u001b[0m\u001b[1;33m\u001b[0m\u001b[1;33m\u001b[0m\u001b[0m\n\u001b[0;32m    446\u001b[0m         \"\"\"\n\u001b[1;32m--> 447\u001b[1;33m         \u001b[0mself\u001b[0m\u001b[1;33m.\u001b[0m\u001b[0mexecute\u001b[0m\u001b[1;33m(\u001b[0m\u001b[0mCommand\u001b[0m\u001b[1;33m.\u001b[0m\u001b[0mGET\u001b[0m\u001b[1;33m,\u001b[0m \u001b[1;33m{\u001b[0m\u001b[1;34m'url'\u001b[0m\u001b[1;33m:\u001b[0m \u001b[0murl\u001b[0m\u001b[1;33m}\u001b[0m\u001b[1;33m)\u001b[0m\u001b[1;33m\u001b[0m\u001b[1;33m\u001b[0m\u001b[0m\n\u001b[0m\u001b[0;32m    448\u001b[0m \u001b[1;33m\u001b[0m\u001b[0m\n\u001b[0;32m    449\u001b[0m     \u001b[1;33m@\u001b[0m\u001b[0mproperty\u001b[0m\u001b[1;33m\u001b[0m\u001b[1;33m\u001b[0m\u001b[0m\n",
      "\u001b[1;32mD:\\anaconda\\lib\\site-packages\\selenium\\webdriver\\remote\\webdriver.py\u001b[0m in \u001b[0;36mexecute\u001b[1;34m(self, driver_command, params)\u001b[0m\n\u001b[0;32m    433\u001b[0m         \u001b[0mresponse\u001b[0m \u001b[1;33m=\u001b[0m \u001b[0mself\u001b[0m\u001b[1;33m.\u001b[0m\u001b[0mcommand_executor\u001b[0m\u001b[1;33m.\u001b[0m\u001b[0mexecute\u001b[0m\u001b[1;33m(\u001b[0m\u001b[0mdriver_command\u001b[0m\u001b[1;33m,\u001b[0m \u001b[0mparams\u001b[0m\u001b[1;33m)\u001b[0m\u001b[1;33m\u001b[0m\u001b[1;33m\u001b[0m\u001b[0m\n\u001b[0;32m    434\u001b[0m         \u001b[1;32mif\u001b[0m \u001b[0mresponse\u001b[0m\u001b[1;33m:\u001b[0m\u001b[1;33m\u001b[0m\u001b[1;33m\u001b[0m\u001b[0m\n\u001b[1;32m--> 435\u001b[1;33m             \u001b[0mself\u001b[0m\u001b[1;33m.\u001b[0m\u001b[0merror_handler\u001b[0m\u001b[1;33m.\u001b[0m\u001b[0mcheck_response\u001b[0m\u001b[1;33m(\u001b[0m\u001b[0mresponse\u001b[0m\u001b[1;33m)\u001b[0m\u001b[1;33m\u001b[0m\u001b[1;33m\u001b[0m\u001b[0m\n\u001b[0m\u001b[0;32m    436\u001b[0m             response['value'] = self._unwrap_value(\n\u001b[0;32m    437\u001b[0m                 response.get('value', None))\n",
      "\u001b[1;32mD:\\anaconda\\lib\\site-packages\\selenium\\webdriver\\remote\\errorhandler.py\u001b[0m in \u001b[0;36mcheck_response\u001b[1;34m(self, response)\u001b[0m\n\u001b[0;32m    245\u001b[0m                 \u001b[0malert_text\u001b[0m \u001b[1;33m=\u001b[0m \u001b[0mvalue\u001b[0m\u001b[1;33m[\u001b[0m\u001b[1;34m'alert'\u001b[0m\u001b[1;33m]\u001b[0m\u001b[1;33m.\u001b[0m\u001b[0mget\u001b[0m\u001b[1;33m(\u001b[0m\u001b[1;34m'text'\u001b[0m\u001b[1;33m)\u001b[0m\u001b[1;33m\u001b[0m\u001b[1;33m\u001b[0m\u001b[0m\n\u001b[0;32m    246\u001b[0m             \u001b[1;32mraise\u001b[0m \u001b[0mexception_class\u001b[0m\u001b[1;33m(\u001b[0m\u001b[0mmessage\u001b[0m\u001b[1;33m,\u001b[0m \u001b[0mscreen\u001b[0m\u001b[1;33m,\u001b[0m \u001b[0mstacktrace\u001b[0m\u001b[1;33m,\u001b[0m \u001b[0malert_text\u001b[0m\u001b[1;33m)\u001b[0m  \u001b[1;31m# type: ignore[call-arg]  # mypy is not smart enough here\u001b[0m\u001b[1;33m\u001b[0m\u001b[1;33m\u001b[0m\u001b[0m\n\u001b[1;32m--> 247\u001b[1;33m         \u001b[1;32mraise\u001b[0m \u001b[0mexception_class\u001b[0m\u001b[1;33m(\u001b[0m\u001b[0mmessage\u001b[0m\u001b[1;33m,\u001b[0m \u001b[0mscreen\u001b[0m\u001b[1;33m,\u001b[0m \u001b[0mstacktrace\u001b[0m\u001b[1;33m)\u001b[0m\u001b[1;33m\u001b[0m\u001b[1;33m\u001b[0m\u001b[0m\n\u001b[0m\u001b[0;32m    248\u001b[0m \u001b[1;33m\u001b[0m\u001b[0m\n\u001b[0;32m    249\u001b[0m     \u001b[1;32mdef\u001b[0m \u001b[0m_value_or_default\u001b[0m\u001b[1;33m(\u001b[0m\u001b[0mself\u001b[0m\u001b[1;33m,\u001b[0m \u001b[0mobj\u001b[0m\u001b[1;33m:\u001b[0m \u001b[0mMapping\u001b[0m\u001b[1;33m[\u001b[0m\u001b[0m_KT\u001b[0m\u001b[1;33m,\u001b[0m \u001b[0m_VT\u001b[0m\u001b[1;33m]\u001b[0m\u001b[1;33m,\u001b[0m \u001b[0mkey\u001b[0m\u001b[1;33m:\u001b[0m \u001b[0m_KT\u001b[0m\u001b[1;33m,\u001b[0m \u001b[0mdefault\u001b[0m\u001b[1;33m:\u001b[0m \u001b[0m_VT\u001b[0m\u001b[1;33m)\u001b[0m \u001b[1;33m->\u001b[0m \u001b[0m_VT\u001b[0m\u001b[1;33m:\u001b[0m\u001b[1;33m\u001b[0m\u001b[1;33m\u001b[0m\u001b[0m\n",
      "\u001b[1;31mWebDriverException\u001b[0m: Message: unknown error: cannot determine loading status\nfrom disconnected: received Inspector.detached event\n  (Session info: chrome=103.0.5060.53)\nStacktrace:\nBacktrace:\n\tOrdinal0 [0x010DD953+2414931]\n\tOrdinal0 [0x0106F5E1+1963489]\n\tOrdinal0 [0x00F5C6B8+837304]\n\tOrdinal0 [0x00F4E45E+779358]\n\tOrdinal0 [0x00F4E04F+778319]\n\tOrdinal0 [0x00F4D646+775750]\n\tOrdinal0 [0x00F4C565+771429]\n\tOrdinal0 [0x00F4CB68+772968]\n\tOrdinal0 [0x00F58B10+822032]\n\tOrdinal0 [0x00F4DE5D+777821]\n\tOrdinal0 [0x00F4EA3B+780859]\n\tOrdinal0 [0x00F4E06A+778346]\n\tOrdinal0 [0x00F4D646+775750]\n\tOrdinal0 [0x00F4C565+771429]\n\tOrdinal0 [0x00F4CA3D+772669]\n\tOrdinal0 [0x00F5DEA4+843428]\n\tOrdinal0 [0x00FB4EBD+1199805]\n\tOrdinal0 [0x00FA449C+1131676]\n\tOrdinal0 [0x00FB4812+1198098]\n\tOrdinal0 [0x00FA42B6+1131190]\n\tOrdinal0 [0x00F7E860+976992]\n\tOrdinal0 [0x00F7F756+980822]\n\tGetHandleVerifier [0x0134CC62+2510274]\n\tGetHandleVerifier [0x0133F760+2455744]\n\tGetHandleVerifier [0x0116EABA+551962]\n\tGetHandleVerifier [0x0116D916+547446]\n\tOrdinal0 [0x01075F3B+1990459]\n\tOrdinal0 [0x0107A898+2009240]\n\tOrdinal0 [0x0107A985+2009477]\n\tOrdinal0 [0x01083AD1+2046673]\n\tBaseThreadInitThunk [0x76E70419+25]\n\tRtlGetAppContainerNamedObjectPath [0x7708662D+237]\n\tRtlGetAppContainerNamedObjectPath [0x770865FD+189]\n"
=======
      "从第 2 行开始查询：\n"
     ]
    },
    {
     "ename": "KeyboardInterrupt",
     "evalue": "",
     "output_type": "error",
     "traceback": [
      "\u001B[0;31m---------------------------------------------------------------------------\u001B[0m",
      "\u001B[0;31mNoSuchElementException\u001B[0m                    Traceback (most recent call last)",
      "\u001B[0;32m<ipython-input-28-d843d7bf9fe8>\u001B[0m in \u001B[0;36m<module>\u001B[0;34m\u001B[0m\n\u001B[1;32m     22\u001B[0m             \u001B[0mdriver\u001B[0m\u001B[0;34m.\u001B[0m\u001B[0mget\u001B[0m\u001B[0;34m(\u001B[0m\u001B[0;34m\"http://zxgk.court.gov.cn/shixin/\"\u001B[0m\u001B[0;34m)\u001B[0m\u001B[0;34m\u001B[0m\u001B[0;34m\u001B[0m\u001B[0m\n\u001B[0;32m---> 23\u001B[0;31m             \u001B[0mdriver\u001B[0m\u001B[0;34m.\u001B[0m\u001B[0mfind_element\u001B[0m\u001B[0;34m(\u001B[0m\u001B[0mBy\u001B[0m\u001B[0;34m.\u001B[0m\u001B[0mNAME\u001B[0m\u001B[0;34m,\u001B[0m \u001B[0;34m\"pCardNum\"\u001B[0m\u001B[0;34m)\u001B[0m\u001B[0;34m.\u001B[0m\u001B[0msend_keys\u001B[0m\u001B[0;34m(\u001B[0m\u001B[0midcard\u001B[0m\u001B[0;34m)\u001B[0m\u001B[0;34m\u001B[0m\u001B[0;34m\u001B[0m\u001B[0m\n\u001B[0m\u001B[1;32m     24\u001B[0m             \u001B[0;32mbreak\u001B[0m\u001B[0;34m\u001B[0m\u001B[0;34m\u001B[0m\u001B[0m\n",
      "\u001B[0;32m/opt/anaconda3/lib/python3.8/site-packages/selenium/webdriver/remote/webdriver.py\u001B[0m in \u001B[0;36mfind_element\u001B[0;34m(self, by, value)\u001B[0m\n\u001B[1;32m   1250\u001B[0m \u001B[0;34m\u001B[0m\u001B[0m\n\u001B[0;32m-> 1251\u001B[0;31m         return self.execute(Command.FIND_ELEMENT, {\n\u001B[0m\u001B[1;32m   1252\u001B[0m             \u001B[0;34m'using'\u001B[0m\u001B[0;34m:\u001B[0m \u001B[0mby\u001B[0m\u001B[0;34m,\u001B[0m\u001B[0;34m\u001B[0m\u001B[0;34m\u001B[0m\u001B[0m\n",
      "\u001B[0;32m/opt/anaconda3/lib/python3.8/site-packages/selenium/webdriver/remote/webdriver.py\u001B[0m in \u001B[0;36mexecute\u001B[0;34m(self, driver_command, params)\u001B[0m\n\u001B[1;32m    429\u001B[0m         \u001B[0;32mif\u001B[0m \u001B[0mresponse\u001B[0m\u001B[0;34m:\u001B[0m\u001B[0;34m\u001B[0m\u001B[0;34m\u001B[0m\u001B[0m\n\u001B[0;32m--> 430\u001B[0;31m             \u001B[0mself\u001B[0m\u001B[0;34m.\u001B[0m\u001B[0merror_handler\u001B[0m\u001B[0;34m.\u001B[0m\u001B[0mcheck_response\u001B[0m\u001B[0;34m(\u001B[0m\u001B[0mresponse\u001B[0m\u001B[0;34m)\u001B[0m\u001B[0;34m\u001B[0m\u001B[0;34m\u001B[0m\u001B[0m\n\u001B[0m\u001B[1;32m    431\u001B[0m             response['value'] = self._unwrap_value(\n",
      "\u001B[0;32m/opt/anaconda3/lib/python3.8/site-packages/selenium/webdriver/remote/errorhandler.py\u001B[0m in \u001B[0;36mcheck_response\u001B[0;34m(self, response)\u001B[0m\n\u001B[1;32m    246\u001B[0m             \u001B[0;32mraise\u001B[0m \u001B[0mexception_class\u001B[0m\u001B[0;34m(\u001B[0m\u001B[0mmessage\u001B[0m\u001B[0;34m,\u001B[0m \u001B[0mscreen\u001B[0m\u001B[0;34m,\u001B[0m \u001B[0mstacktrace\u001B[0m\u001B[0;34m,\u001B[0m \u001B[0malert_text\u001B[0m\u001B[0;34m)\u001B[0m  \u001B[0;31m# type: ignore[call-arg]  # mypy is not smart enough here\u001B[0m\u001B[0;34m\u001B[0m\u001B[0;34m\u001B[0m\u001B[0m\n\u001B[0;32m--> 247\u001B[0;31m         \u001B[0;32mraise\u001B[0m \u001B[0mexception_class\u001B[0m\u001B[0;34m(\u001B[0m\u001B[0mmessage\u001B[0m\u001B[0;34m,\u001B[0m \u001B[0mscreen\u001B[0m\u001B[0;34m,\u001B[0m \u001B[0mstacktrace\u001B[0m\u001B[0;34m)\u001B[0m\u001B[0;34m\u001B[0m\u001B[0;34m\u001B[0m\u001B[0m\n\u001B[0m\u001B[1;32m    248\u001B[0m \u001B[0;34m\u001B[0m\u001B[0m\n",
      "\u001B[0;31mNoSuchElementException\u001B[0m: Message: no such element: Unable to locate element: {\"method\":\"css selector\",\"selector\":\"[name=\"pCardNum\"]\"}\n  (Session info: chrome=103.0.5060.53)\nStacktrace:\n0   chromedriver                        0x000000010bebbd19 chromedriver + 5197081\n1   chromedriver                        0x000000010be49b23 chromedriver + 4729635\n2   chromedriver                        0x000000010ba272b8 chromedriver + 393912\n3   chromedriver                        0x000000010ba5c2fd chromedriver + 611069\n4   chromedriver                        0x000000010ba5c581 chromedriver + 611713\n5   chromedriver                        0x000000010ba8e5a4 chromedriver + 816548\n6   chromedriver                        0x000000010ba7982d chromedriver + 731181\n7   chromedriver                        0x000000010ba8c2a1 chromedriver + 807585\n8   chromedriver                        0x000000010ba796f3 chromedriver + 730867\n9   chromedriver                        0x000000010ba4fa49 chromedriver + 559689\n10  chromedriver                        0x000000010ba50a75 chromedriver + 563829\n11  chromedriver                        0x000000010be8dbdd chromedriver + 5008349\n12  chromedriver                        0x000000010be92b64 chromedriver + 5028708\n13  chromedriver                        0x000000010be97bcf chromedriver + 5049295\n14  chromedriver                        0x000000010be937ca chromedriver + 5031882\n15  chromedriver                        0x000000010be6d59f chromedriver + 4875679\n16  chromedriver                        0x000000010bead388 chromedriver + 5137288\n17  chromedriver                        0x000000010bead50f chromedriver + 5137679\n18  chromedriver                        0x000000010bec3085 chromedriver + 5226629\n19  libsystem_pthread.dylib             0x00007ff81c5da4e1 _pthread_start + 125\n20  libsystem_pthread.dylib             0x00007ff81c5d5f6b thread_start + 15\n",
      "\nDuring handling of the above exception, another exception occurred:\n",
      "\u001B[0;31mKeyboardInterrupt\u001B[0m                         Traceback (most recent call last)",
      "\u001B[0;32m<ipython-input-28-d843d7bf9fe8>\u001B[0m in \u001B[0;36m<module>\u001B[0;34m\u001B[0m\n\u001B[1;32m     27\u001B[0m             \u001B[0;31m# logFile.write(\"%s is ok\\n\" % idcard)\u001B[0m\u001B[0;34m\u001B[0m\u001B[0;34m\u001B[0m\u001B[0;34m\u001B[0m\u001B[0m\n\u001B[1;32m     28\u001B[0m             \u001B[0;31m# logFile.flush()\u001B[0m\u001B[0;34m\u001B[0m\u001B[0;34m\u001B[0m\u001B[0;34m\u001B[0m\u001B[0m\n\u001B[0;32m---> 29\u001B[0;31m             \u001B[0mtime\u001B[0m\u001B[0;34m.\u001B[0m\u001B[0msleep\u001B[0m\u001B[0;34m(\u001B[0m\u001B[0;36m600\u001B[0m\u001B[0;34m)\u001B[0m\u001B[0;34m\u001B[0m\u001B[0;34m\u001B[0m\u001B[0m\n\u001B[0m\u001B[1;32m     30\u001B[0m         \u001B[0;32mexcept\u001B[0m \u001B[0mTimeoutException\u001B[0m\u001B[0;34m:\u001B[0m\u001B[0;34m\u001B[0m\u001B[0;34m\u001B[0m\u001B[0m\n\u001B[1;32m     31\u001B[0m             \u001B[0mtime\u001B[0m\u001B[0;34m.\u001B[0m\u001B[0msleep\u001B[0m\u001B[0;34m(\u001B[0m\u001B[0;36m600\u001B[0m\u001B[0;34m)\u001B[0m\u001B[0;34m\u001B[0m\u001B[0;34m\u001B[0m\u001B[0m\n",
      "\u001B[0;31mKeyboardInterrupt\u001B[0m: "
>>>>>>> 1ecaea2d9bc35318db49d89cecd6e0f2d7a5762c
     ]
    }
   ],
   "source": [
<<<<<<< HEAD
=======
    "from selenium.common import TimeoutException\n",
    "\n",
>>>>>>> 1ecaea2d9bc35318db49d89cecd6e0f2d7a5762c
    "disruptCount = 0\n",
    "logFile = open(\"tmp/log.log\", \"a\")\n",
    "\n",
    "with open(\"tmp/pos\", \"r\") as f:\n",
    "    pos = str(f.read())\n",
    "if len(pos) == 0:\n",
    "    pos = 2\n",
    "else:\n",
    "    pos = int(pos)\n",
    "print(\"从第 %d 行开始查询：\" % pos)\n",
    "pos -= 2\n",
    "\n",
    "driver = webdriver.Chrome(chrome_options=chrome_options)\n",
    "auto = AutoFetcher(drv=driver)\n",
    "\n",
    "for i in range(pos, customers.shape[0]):\n",
    "    idcard = customers[customers.columns[0]][i]\n",
    "    while True:\n",
    "        try:\n",
    "            driver.get(\"http://zxgk.court.gov.cn/shixin/\")\n",
    "            driver.find_element(By.NAME, \"pCardNum\").send_keys(idcard)\n",
<<<<<<< HEAD
    "            \n",
    "            driver.find_element(By.ID, \"captchaImg\").click()\n",
    "            time.sleep(2)\n",
    "            img = driver.find_element(By.ID, \"captchaImg\")\n",
    "\n",
    "            with open('tmp/1.png', 'wb') as file:\n",
    "                file.write(img.screenshot_as_png)\n",
    "\n",
    "            with open('tmp/1.png', 'rb') as f:\n",
    "                img_bytes = f.read()\n",
    "            check_code = ocr.classification(img_bytes)\n",
    "            driver.find_element(By.ID, \"yzm\").clear()\n",
    "            driver.find_element(By.ID, \"yzm\").send_keys(check_code)\n",
    "            # driver.find_element_by_id(\"yzm\").send_keys(\"ABCD\")\n",
    "            time.sleep(1)\n",
    "\n",
    "            yzmWrong = driver.find_elements(By.XPATH, \"//div/strong[text()='验证码错误!']/..\")\n",
    "            yzmRight = driver.find_element(By.XPATH, \"//div/strong[text()='验证码正确!']/..\")\n",
    "\n",
    "\n",
    "            if not yzmRight.get_attribute(\"class\").__contains__(\"hide\") and yzmWrong[1].get_attribute(\"class\").__contains__(\"hide\"):\n",
    "               break\n",
    "            else:\n",
    "                # print(\"验证码错误！\")\n",
    "                time.sleep(5)\n",
    "        except NoSuchElementException:\n",
    "            # print(\"%s is ok\" % idcard)\n",
    "            logFile.write(\"%s is ok\\n\" % idcard)\n",
    "            logFile.flush()\n",
    "            time.sleep(60)\n",
=======
    "            break\n",
    "        except NoSuchElementException:\n",
    "            # print(\"%s is ok\" % idcard)\n",
    "            # logFile.write(\"%s is ok\\n\" % idcard)\n",
    "            # logFile.flush()\n",
    "            time.sleep(600)\n",
    "        except TimeoutException:\n",
    "            time.sleep(600)\n",
    "\n",
    "    # driver.find_element(By.NAME, \"pName\").send_keys(\"陈华\")\n",
    "\n",
    "    while True:\n",
    "        driver.find_element_by_id(\"captchaImg\").click()\n",
    "        time.sleep(2)\n",
    "        img = driver.find_element_by_id(\"captchaImg\")\n",
    "\n",
    "        with open('tmp/1.png', 'wb') as file:\n",
    "            file.write(img.screenshot_as_png)\n",
    "\n",
    "        with open('tmp/1.png', 'rb') as f:\n",
    "            img_bytes = f.read()\n",
    "        check_code = ocr.classification(img_bytes)\n",
    "        driver.find_element_by_id(\"yzm\").clear()\n",
    "        driver.find_element_by_id(\"yzm\").send_keys(check_code)\n",
    "        # driver.find_element_by_id(\"yzm\").send_keys(\"ABCD\")\n",
    "        time.sleep(1)\n",
    "\n",
    "        yzmWrong = driver.find_elements(By.XPATH, \"//div/strong[text()='验证码错误!']/..\")\n",
    "        yzmRight = driver.find_element(By.XPATH, \"//div/strong[text()='验证码正确!']/..\")\n",
    "\n",
    "\n",
    "        if not yzmRight.get_attribute(\"class\").__contains__(\"hide\") and yzmWrong[1].get_attribute(\"class\").__contains__(\"hide\"):\n",
    "           break\n",
    "        else:\n",
    "            # print(\"验证码错误！\")\n",
    "            time.sleep(5)\n",
>>>>>>> 1ecaea2d9bc35318db49d89cecd6e0f2d7a5762c
    "\n",
    "    try:\n",
    "        driver.find_element(By.XPATH, '//button[normalize-space()=\"查询\"]').click()\n",
    "        time.sleep(2)\n",
    "        resultList = driver.find_elements(By.XPATH, '//a[text()=\"查看\"]')\n",
    "        if len(resultList) > 0:\n",
    "            # for result in resultList[0:0]:\n",
    "            result = resultList[0]\n",
    "            result.click()\n",
    "            time.sleep(1)\n",
<<<<<<< HEAD
    "            courtNameDetail = driver.find_element(By.ID, \"courtNameDetail\").text\n",
    "            areaNameDetail = driver.find_element(By.ID, \"areaNameDetail\").text\n",
    "            regDateDetail = driver.find_element(By.ID, \"regDateDetail\").text\n",
    "            caseCodeDetail = driver.find_element(By.ID, \"caseCodeDetail\").text\n",
    "            gistUnitDetail = driver.find_element(By.ID, \"gistUnitDetail\").text\n",
    "            dutyDetail = driver.find_element(By.ID, \"dutyDetail\").text\n",
    "            performanceDetail = driver.find_element(By.ID, \"performanceDetail\").text\n",
    "            disruptTypeNameDetail = driver.find_element(By.ID, \"disruptTypeNameDetail\").text\n",
=======
    "            courtNameDetail = driver.find_element_by_id(\"courtNameDetail\").text\n",
    "            areaNameDetail = driver.find_element_by_id(\"areaNameDetail\").text\n",
    "            regDateDetail = driver.find_element_by_id(\"regDateDetail\").text\n",
    "            caseCodeDetail = driver.find_element_by_id(\"caseCodeDetail\").text\n",
    "            gistUnitDetail = driver.find_element_by_id(\"gistUnitDetail\").text\n",
    "            dutyDetail = driver.find_element_by_id(\"dutyDetail\").text\n",
    "            performanceDetail = driver.find_element_by_id(\"performanceDetail\").text\n",
    "            disruptTypeNameDetail = driver.find_element_by_id(\"disruptTypeNameDetail\").text\n",
>>>>>>> 1ecaea2d9bc35318db49d89cecd6e0f2d7a5762c
    "\n",
    "            print(idcard, courtNameDetail, areaNameDetail, areaNameDetail, regDateDetail, caseCodeDetail,\n",
    "                  gistUnitDetail, performanceDetail, disruptTypeNameDetail)\n",
    "            logFile.write(\"%s, %s, %s, %s, %s, %s, %s, %s, %s\" % (idcard, courtNameDetail, areaNameDetail, areaNameDetail, regDateDetail, caseCodeDetail,\n",
    "                  gistUnitDetail, performanceDetail, disruptTypeNameDetail))\n",
    "            logFile.flush()\n",
    "\n",
    "            # driver.find_element(By.XPATH, '//button[normalize-space()=\"关闭\"]').click()\n",
    "            logFile.write(idcard +\"\\n\")\n",
    "            logFile.flush()\n",
    "\n",
    "            searchResult.loc[disruptCount] = [idcard, courtNameDetail, areaNameDetail, regDateDetail,\n",
    "                                              caseCodeDetail, gistUnitDetail, dutyDetail, performanceDetail, disruptTypeNameDetail]\n",
    "            disruptCount += 1\n",
    "        # else:\n",
    "            # print(\"%s is ok\" % idcard)\n",
    "    except InvalidSelectorException:\n",
    "        print(\"%s is ok\" % idcard)\n",
    "    except NoSuchElementException:\n",
    "        print(\"%s is ok\" % idcard)\n",
    "\n",
    "    with open(\"tmp/pos\", \"w\") as f:\n",
    "        f.write(str(i+2))\n",
    "        f.flush()\n",
    "\n",
    "    time.sleep(9)\n",
    "\n",
    "with open(\"tmp/pos\", \"w\") as f:\n",
    "    f.write(\"2\")\n",
    "    f.flush()\n",
    "searchResult.to_excel(\"tmp/查询结果.xlsx\", index=None)\n",
    "driver.close()"
<<<<<<< HEAD
   ]
  },
  {
   "cell_type": "code",
   "execution_count": null,
   "metadata": {
    "pycharm": {
     "name": "#%%\n"
    }
   },
   "outputs": [],
   "source": [
    "从第 2813 行开始查询：\n",
    "331021198708230617 玉环市人民法院 浙江 浙江 2022年02月15日 （2022）浙1021执419号 浙江省玉环市人民法院 全部未履行 违反财产报告制度"
   ]
=======
   ],
   "metadata": {
    "collapsed": false,
    "pycharm": {
     "name": "#%%\n"
    }
   }
  },
  {
   "cell_type": "code",
   "execution_count": 12,
   "outputs": [
    {
     "ename": "SyntaxError",
     "evalue": "invalid syntax (<ipython-input-12-173d4ae8f8c2>, line 5)",
     "output_type": "error",
     "traceback": [
      "\u001B[0;36m  File \u001B[0;32m\"<ipython-input-12-173d4ae8f8c2>\"\u001B[0;36m, line \u001B[0;32m5\u001B[0m\n\u001B[0;31m    332601197112200015     (2014)台椒执民字第01388号 台州椒江法院 全部未履行 其他有履行能力而拒不履行生效法律文书确定义务\u001B[0m\n\u001B[0m                                 ^\u001B[0m\n\u001B[0;31mSyntaxError\u001B[0m\u001B[0;31m:\u001B[0m invalid syntax\n"
     ]
    }
   ],
   "source": [],
   "metadata": {
    "collapsed": false,
    "pycharm": {
     "name": "#%%\n"
    }
   }
>>>>>>> 1ecaea2d9bc35318db49d89cecd6e0f2d7a5762c
  },
  {
   "cell_type": "code",
   "execution_count": null,
<<<<<<< HEAD
   "metadata": {
    "pycharm": {
     "name": "#%%\n"
    }
   },
   "outputs": [],
   "source": [
    "12180"
   ]
=======
   "outputs": [],
   "source": [],
   "metadata": {
    "collapsed": false,
    "pycharm": {
     "name": "#%%\n"
    }
   }
>>>>>>> 1ecaea2d9bc35318db49d89cecd6e0f2d7a5762c
  }
 ],
 "metadata": {
  "kernelspec": {
   "display_name": "Python 3",
   "language": "python",
   "name": "python3"
  },
  "language_info": {
   "codemirror_mode": {
    "name": "ipython",
<<<<<<< HEAD
    "version": 3
=======
    "version": 2
>>>>>>> 1ecaea2d9bc35318db49d89cecd6e0f2d7a5762c
   },
   "file_extension": ".py",
   "mimetype": "text/x-python",
   "name": "python",
   "nbconvert_exporter": "python",
<<<<<<< HEAD
   "pygments_lexer": "ipython3",
   "version": "3.8.8"
  }
 },
 "nbformat": 4,
 "nbformat_minor": 1
}
=======
   "pygments_lexer": "ipython2",
   "version": "2.7.6"
  }
 },
 "nbformat": 4,
 "nbformat_minor": 0
}
>>>>>>> 1ecaea2d9bc35318db49d89cecd6e0f2d7a5762c

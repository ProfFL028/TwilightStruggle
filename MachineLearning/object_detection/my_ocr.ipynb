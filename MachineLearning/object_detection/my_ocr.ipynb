{
 "cells": [
  {
   "cell_type": "markdown",
   "source": [
    "导入相关的包\n",
    "pip install pandas\n",
    "pip install ddddocr\n",
    "pip install selenium"
   ],
   "metadata": {
    "collapsed": false,
    "pycharm": {
     "name": "#%% md\n"
    }
   }
  },
  {
   "cell_type": "code",
   "execution_count": 17,
   "outputs": [],
   "source": [
    "import time\n",
    "import ddddocr\n",
    "from selenium.common import NoSuchElementException, InvalidSelectorException\n",
    "from selenium.webdriver.chrome.options import Options\n",
    "from selenium import webdriver\n",
    "from selenium.webdriver.common.by import By\n",
    "import pandas as pd\n"
   ],
   "metadata": {
    "collapsed": false,
    "pycharm": {
     "name": "#%%\n"
    }
   }
  },
  {
   "cell_type": "code",
   "execution_count": 18,
   "outputs": [],
   "source": [
    "\"\"\"加载OCR，识别验证码用\"\"\"\n",
    "ocr = ddddocr.DdddOcr(show_ad=False)"
   ],
   "metadata": {
    "collapsed": false,
    "pycharm": {
     "name": "#%%\n"
    }
   }
  },
  {
   "cell_type": "code",
   "execution_count": 19,
   "outputs": [
    {
     "name": "stdout",
     "output_type": "stream",
     "text": [
      "从第 12180 行开始查询：\n"
     ]
    }
   ],
   "source": [
    "\"\"\"加载客户清单\"\"\"\n",
    "# 13180\n",
    "customers = pd.read_excel(\"tmp/customers.xlsx\", dtype=str)\n",
    "searchResult = pd.DataFrame(columns=['身份证', '法院名称', '地区名称', '立案时间', '案号',\n",
    "                                     '做出执行依据单位', '生效法律文书确定的义务',\n",
    "                                     '被执行人的履行情况', '失信被执行人行为具体情形'])\n",
    "\n",
    "with open(\"tmp/pos\", \"r\") as f:\n",
    "    pos = str(f.read())\n",
    "if len(pos) == 0:\n",
    "    pos = 2\n",
    "else:\n",
    "    pos = int(pos)\n",
    "print(\"从第 %d 行开始查询：\" % pos)\n",
    "pos -= 2\n"
   ],
   "metadata": {
    "collapsed": false,
    "pycharm": {
     "name": "#%%\n"
    }
   }
  },
  {
   "cell_type": "code",
   "execution_count": 20,
   "outputs": [],
   "source": [
    "\"\"\"selenium 启用缓存\"\"\"\n",
    "chrome_options = Options()\n",
    "chrome_options.page_load_strategy = 'eager'\n",
    "# chrome_options.add_experimental_option(\"debuggerAddress\", \"127.0.0.1:9222\")\n"
   ],
   "metadata": {
    "collapsed": false,
    "pycharm": {
     "name": "#%%\n"
    }
   }
  },
  {
   "cell_type": "code",
   "execution_count": 21,
   "outputs": [],
   "source": [
    "class AutoFetcher:\n",
    "    def __init__(self, drv):\n",
    "        self.driver = drv\n",
    "\n",
    "    def openPage(self, url):\n",
    "        self.driver.get(url)\n",
    "\n",
    "    def inputCardNum(self, idcard):\n",
    "        driver.find_element(By.NAME, \"pCardNum\").send_keys(idcard)"
   ],
   "metadata": {
    "collapsed": false,
    "pycharm": {
     "name": "#%%\n"
    }
   }
  },
  {
   "cell_type": "code",
   "execution_count": 28,
   "outputs": [
    {
     "name": "stdout",
     "output_type": "stream",
     "text": [
      "从第 2 行开始查询：\n"
     ]
    },
    {
     "ename": "KeyboardInterrupt",
     "evalue": "",
     "output_type": "error",
     "traceback": [
      "\u001B[0;31m---------------------------------------------------------------------------\u001B[0m",
      "\u001B[0;31mNoSuchElementException\u001B[0m                    Traceback (most recent call last)",
      "\u001B[0;32m<ipython-input-28-d843d7bf9fe8>\u001B[0m in \u001B[0;36m<module>\u001B[0;34m\u001B[0m\n\u001B[1;32m     22\u001B[0m             \u001B[0mdriver\u001B[0m\u001B[0;34m.\u001B[0m\u001B[0mget\u001B[0m\u001B[0;34m(\u001B[0m\u001B[0;34m\"http://zxgk.court.gov.cn/shixin/\"\u001B[0m\u001B[0;34m)\u001B[0m\u001B[0;34m\u001B[0m\u001B[0;34m\u001B[0m\u001B[0m\n\u001B[0;32m---> 23\u001B[0;31m             \u001B[0mdriver\u001B[0m\u001B[0;34m.\u001B[0m\u001B[0mfind_element\u001B[0m\u001B[0;34m(\u001B[0m\u001B[0mBy\u001B[0m\u001B[0;34m.\u001B[0m\u001B[0mNAME\u001B[0m\u001B[0;34m,\u001B[0m \u001B[0;34m\"pCardNum\"\u001B[0m\u001B[0;34m)\u001B[0m\u001B[0;34m.\u001B[0m\u001B[0msend_keys\u001B[0m\u001B[0;34m(\u001B[0m\u001B[0midcard\u001B[0m\u001B[0;34m)\u001B[0m\u001B[0;34m\u001B[0m\u001B[0;34m\u001B[0m\u001B[0m\n\u001B[0m\u001B[1;32m     24\u001B[0m             \u001B[0;32mbreak\u001B[0m\u001B[0;34m\u001B[0m\u001B[0;34m\u001B[0m\u001B[0m\n",
      "\u001B[0;32m/opt/anaconda3/lib/python3.8/site-packages/selenium/webdriver/remote/webdriver.py\u001B[0m in \u001B[0;36mfind_element\u001B[0;34m(self, by, value)\u001B[0m\n\u001B[1;32m   1250\u001B[0m \u001B[0;34m\u001B[0m\u001B[0m\n\u001B[0;32m-> 1251\u001B[0;31m         return self.execute(Command.FIND_ELEMENT, {\n\u001B[0m\u001B[1;32m   1252\u001B[0m             \u001B[0;34m'using'\u001B[0m\u001B[0;34m:\u001B[0m \u001B[0mby\u001B[0m\u001B[0;34m,\u001B[0m\u001B[0;34m\u001B[0m\u001B[0;34m\u001B[0m\u001B[0m\n",
      "\u001B[0;32m/opt/anaconda3/lib/python3.8/site-packages/selenium/webdriver/remote/webdriver.py\u001B[0m in \u001B[0;36mexecute\u001B[0;34m(self, driver_command, params)\u001B[0m\n\u001B[1;32m    429\u001B[0m         \u001B[0;32mif\u001B[0m \u001B[0mresponse\u001B[0m\u001B[0;34m:\u001B[0m\u001B[0;34m\u001B[0m\u001B[0;34m\u001B[0m\u001B[0m\n\u001B[0;32m--> 430\u001B[0;31m             \u001B[0mself\u001B[0m\u001B[0;34m.\u001B[0m\u001B[0merror_handler\u001B[0m\u001B[0;34m.\u001B[0m\u001B[0mcheck_response\u001B[0m\u001B[0;34m(\u001B[0m\u001B[0mresponse\u001B[0m\u001B[0;34m)\u001B[0m\u001B[0;34m\u001B[0m\u001B[0;34m\u001B[0m\u001B[0m\n\u001B[0m\u001B[1;32m    431\u001B[0m             response['value'] = self._unwrap_value(\n",
      "\u001B[0;32m/opt/anaconda3/lib/python3.8/site-packages/selenium/webdriver/remote/errorhandler.py\u001B[0m in \u001B[0;36mcheck_response\u001B[0;34m(self, response)\u001B[0m\n\u001B[1;32m    246\u001B[0m             \u001B[0;32mraise\u001B[0m \u001B[0mexception_class\u001B[0m\u001B[0;34m(\u001B[0m\u001B[0mmessage\u001B[0m\u001B[0;34m,\u001B[0m \u001B[0mscreen\u001B[0m\u001B[0;34m,\u001B[0m \u001B[0mstacktrace\u001B[0m\u001B[0;34m,\u001B[0m \u001B[0malert_text\u001B[0m\u001B[0;34m)\u001B[0m  \u001B[0;31m# type: ignore[call-arg]  # mypy is not smart enough here\u001B[0m\u001B[0;34m\u001B[0m\u001B[0;34m\u001B[0m\u001B[0m\n\u001B[0;32m--> 247\u001B[0;31m         \u001B[0;32mraise\u001B[0m \u001B[0mexception_class\u001B[0m\u001B[0;34m(\u001B[0m\u001B[0mmessage\u001B[0m\u001B[0;34m,\u001B[0m \u001B[0mscreen\u001B[0m\u001B[0;34m,\u001B[0m \u001B[0mstacktrace\u001B[0m\u001B[0;34m)\u001B[0m\u001B[0;34m\u001B[0m\u001B[0;34m\u001B[0m\u001B[0m\n\u001B[0m\u001B[1;32m    248\u001B[0m \u001B[0;34m\u001B[0m\u001B[0m\n",
      "\u001B[0;31mNoSuchElementException\u001B[0m: Message: no such element: Unable to locate element: {\"method\":\"css selector\",\"selector\":\"[name=\"pCardNum\"]\"}\n  (Session info: chrome=103.0.5060.53)\nStacktrace:\n0   chromedriver                        0x000000010bebbd19 chromedriver + 5197081\n1   chromedriver                        0x000000010be49b23 chromedriver + 4729635\n2   chromedriver                        0x000000010ba272b8 chromedriver + 393912\n3   chromedriver                        0x000000010ba5c2fd chromedriver + 611069\n4   chromedriver                        0x000000010ba5c581 chromedriver + 611713\n5   chromedriver                        0x000000010ba8e5a4 chromedriver + 816548\n6   chromedriver                        0x000000010ba7982d chromedriver + 731181\n7   chromedriver                        0x000000010ba8c2a1 chromedriver + 807585\n8   chromedriver                        0x000000010ba796f3 chromedriver + 730867\n9   chromedriver                        0x000000010ba4fa49 chromedriver + 559689\n10  chromedriver                        0x000000010ba50a75 chromedriver + 563829\n11  chromedriver                        0x000000010be8dbdd chromedriver + 5008349\n12  chromedriver                        0x000000010be92b64 chromedriver + 5028708\n13  chromedriver                        0x000000010be97bcf chromedriver + 5049295\n14  chromedriver                        0x000000010be937ca chromedriver + 5031882\n15  chromedriver                        0x000000010be6d59f chromedriver + 4875679\n16  chromedriver                        0x000000010bead388 chromedriver + 5137288\n17  chromedriver                        0x000000010bead50f chromedriver + 5137679\n18  chromedriver                        0x000000010bec3085 chromedriver + 5226629\n19  libsystem_pthread.dylib             0x00007ff81c5da4e1 _pthread_start + 125\n20  libsystem_pthread.dylib             0x00007ff81c5d5f6b thread_start + 15\n",
      "\nDuring handling of the above exception, another exception occurred:\n",
      "\u001B[0;31mKeyboardInterrupt\u001B[0m                         Traceback (most recent call last)",
      "\u001B[0;32m<ipython-input-28-d843d7bf9fe8>\u001B[0m in \u001B[0;36m<module>\u001B[0;34m\u001B[0m\n\u001B[1;32m     27\u001B[0m             \u001B[0;31m# logFile.write(\"%s is ok\\n\" % idcard)\u001B[0m\u001B[0;34m\u001B[0m\u001B[0;34m\u001B[0m\u001B[0;34m\u001B[0m\u001B[0m\n\u001B[1;32m     28\u001B[0m             \u001B[0;31m# logFile.flush()\u001B[0m\u001B[0;34m\u001B[0m\u001B[0;34m\u001B[0m\u001B[0;34m\u001B[0m\u001B[0m\n\u001B[0;32m---> 29\u001B[0;31m             \u001B[0mtime\u001B[0m\u001B[0;34m.\u001B[0m\u001B[0msleep\u001B[0m\u001B[0;34m(\u001B[0m\u001B[0;36m600\u001B[0m\u001B[0;34m)\u001B[0m\u001B[0;34m\u001B[0m\u001B[0;34m\u001B[0m\u001B[0m\n\u001B[0m\u001B[1;32m     30\u001B[0m         \u001B[0;32mexcept\u001B[0m \u001B[0mTimeoutException\u001B[0m\u001B[0;34m:\u001B[0m\u001B[0;34m\u001B[0m\u001B[0;34m\u001B[0m\u001B[0m\n\u001B[1;32m     31\u001B[0m             \u001B[0mtime\u001B[0m\u001B[0;34m.\u001B[0m\u001B[0msleep\u001B[0m\u001B[0;34m(\u001B[0m\u001B[0;36m600\u001B[0m\u001B[0;34m)\u001B[0m\u001B[0;34m\u001B[0m\u001B[0;34m\u001B[0m\u001B[0m\n",
      "\u001B[0;31mKeyboardInterrupt\u001B[0m: "
     ]
    }
   ],
   "source": [
    "from selenium.common import TimeoutException\n",
    "\n",
    "disruptCount = 0\n",
    "logFile = open(\"tmp/log.log\", \"a\")\n",
    "\n",
    "with open(\"tmp/pos\", \"r\") as f:\n",
    "    pos = str(f.read())\n",
    "if len(pos) == 0:\n",
    "    pos = 2\n",
    "else:\n",
    "    pos = int(pos)\n",
    "print(\"从第 %d 行开始查询：\" % pos)\n",
    "pos -= 2\n",
    "\n",
    "driver = webdriver.Chrome(chrome_options=chrome_options)\n",
    "auto = AutoFetcher(drv=driver)\n",
    "\n",
    "for i in range(pos, customers.shape[0]):\n",
    "    idcard = customers[customers.columns[0]][i]\n",
    "    while True:\n",
    "        try:\n",
    "            driver.get(\"http://zxgk.court.gov.cn/shixin/\")\n",
    "            driver.find_element(By.NAME, \"pCardNum\").send_keys(idcard)\n",
    "            break\n",
    "        except NoSuchElementException:\n",
    "            # print(\"%s is ok\" % idcard)\n",
    "            # logFile.write(\"%s is ok\\n\" % idcard)\n",
    "            # logFile.flush()\n",
    "            time.sleep(600)\n",
    "        except TimeoutException:\n",
    "            time.sleep(600)\n",
    "\n",
    "    # driver.find_element(By.NAME, \"pName\").send_keys(\"陈华\")\n",
    "\n",
    "    while True:\n",
    "        driver.find_element_by_id(\"captchaImg\").click()\n",
    "        time.sleep(2)\n",
    "        img = driver.find_element_by_id(\"captchaImg\")\n",
    "\n",
    "        with open('tmp/1.png', 'wb') as file:\n",
    "            file.write(img.screenshot_as_png)\n",
    "\n",
    "        with open('tmp/1.png', 'rb') as f:\n",
    "            img_bytes = f.read()\n",
    "        check_code = ocr.classification(img_bytes)\n",
    "        driver.find_element_by_id(\"yzm\").clear()\n",
    "        driver.find_element_by_id(\"yzm\").send_keys(check_code)\n",
    "        # driver.find_element_by_id(\"yzm\").send_keys(\"ABCD\")\n",
    "        time.sleep(1)\n",
    "\n",
    "        yzmWrong = driver.find_elements(By.XPATH, \"//div/strong[text()='验证码错误!']/..\")\n",
    "        yzmRight = driver.find_element(By.XPATH, \"//div/strong[text()='验证码正确!']/..\")\n",
    "\n",
    "\n",
    "        if not yzmRight.get_attribute(\"class\").__contains__(\"hide\") and yzmWrong[1].get_attribute(\"class\").__contains__(\"hide\"):\n",
    "           break\n",
    "        else:\n",
    "            # print(\"验证码错误！\")\n",
    "            time.sleep(5)\n",
    "\n",
    "    try:\n",
    "        driver.find_element(By.XPATH, '//button[normalize-space()=\"查询\"]').click()\n",
    "        time.sleep(2)\n",
    "        resultList = driver.find_elements(By.XPATH, '//a[text()=\"查看\"]')\n",
    "        if len(resultList) > 0:\n",
    "            # for result in resultList[0:0]:\n",
    "            result = resultList[0]\n",
    "            result.click()\n",
    "            time.sleep(1)\n",
    "            courtNameDetail = driver.find_element_by_id(\"courtNameDetail\").text\n",
    "            areaNameDetail = driver.find_element_by_id(\"areaNameDetail\").text\n",
    "            regDateDetail = driver.find_element_by_id(\"regDateDetail\").text\n",
    "            caseCodeDetail = driver.find_element_by_id(\"caseCodeDetail\").text\n",
    "            gistUnitDetail = driver.find_element_by_id(\"gistUnitDetail\").text\n",
    "            dutyDetail = driver.find_element_by_id(\"dutyDetail\").text\n",
    "            performanceDetail = driver.find_element_by_id(\"performanceDetail\").text\n",
    "            disruptTypeNameDetail = driver.find_element_by_id(\"disruptTypeNameDetail\").text\n",
    "\n",
    "            print(idcard, courtNameDetail, areaNameDetail, areaNameDetail, regDateDetail, caseCodeDetail,\n",
    "                  gistUnitDetail, performanceDetail, disruptTypeNameDetail)\n",
    "            logFile.write(\"%s, %s, %s, %s, %s, %s, %s, %s, %s\" % (idcard, courtNameDetail, areaNameDetail, areaNameDetail, regDateDetail, caseCodeDetail,\n",
    "                  gistUnitDetail, performanceDetail, disruptTypeNameDetail))\n",
    "            logFile.flush()\n",
    "\n",
    "            # driver.find_element(By.XPATH, '//button[normalize-space()=\"关闭\"]').click()\n",
    "            logFile.write(idcard +\"\\n\")\n",
    "            logFile.flush()\n",
    "\n",
    "            searchResult.loc[disruptCount] = [idcard, courtNameDetail, areaNameDetail, regDateDetail,\n",
    "                                              caseCodeDetail, gistUnitDetail, dutyDetail, performanceDetail, disruptTypeNameDetail]\n",
    "            disruptCount += 1\n",
    "        # else:\n",
    "            # print(\"%s is ok\" % idcard)\n",
    "    except InvalidSelectorException:\n",
    "        print(\"%s is ok\" % idcard)\n",
    "    except NoSuchElementException:\n",
    "        print(\"%s is ok\" % idcard)\n",
    "\n",
    "    with open(\"tmp/pos\", \"w\") as f:\n",
    "        f.write(str(i+2))\n",
    "        f.flush()\n",
    "\n",
    "    time.sleep(9)\n",
    "\n",
    "with open(\"tmp/pos\", \"w\") as f:\n",
    "    f.write(\"2\")\n",
    "    f.flush()\n",
    "searchResult.to_excel(\"tmp/查询结果.xlsx\", index=None)\n",
    "driver.close()"
   ],
   "metadata": {
    "collapsed": false,
    "pycharm": {
     "name": "#%%\n"
    }
   }
  },
  {
   "cell_type": "code",
   "execution_count": 12,
   "outputs": [
    {
     "ename": "SyntaxError",
     "evalue": "invalid syntax (<ipython-input-12-173d4ae8f8c2>, line 5)",
     "output_type": "error",
     "traceback": [
      "\u001B[0;36m  File \u001B[0;32m\"<ipython-input-12-173d4ae8f8c2>\"\u001B[0;36m, line \u001B[0;32m5\u001B[0m\n\u001B[0;31m    332601197112200015     (2014)台椒执民字第01388号 台州椒江法院 全部未履行 其他有履行能力而拒不履行生效法律文书确定义务\u001B[0m\n\u001B[0m                                 ^\u001B[0m\n\u001B[0;31mSyntaxError\u001B[0m\u001B[0;31m:\u001B[0m invalid syntax\n"
     ]
    }
   ],
   "source": [],
   "metadata": {
    "collapsed": false,
    "pycharm": {
     "name": "#%%\n"
    }
   }
  },
  {
   "cell_type": "code",
   "execution_count": null,
   "outputs": [],
   "source": [],
   "metadata": {
    "collapsed": false,
    "pycharm": {
     "name": "#%%\n"
    }
   }
  }
 ],
 "metadata": {
  "kernelspec": {
   "display_name": "Python 3",
   "language": "python",
   "name": "python3"
  },
  "language_info": {
   "codemirror_mode": {
    "name": "ipython",
    "version": 2
   },
   "file_extension": ".py",
   "mimetype": "text/x-python",
   "name": "python",
   "nbconvert_exporter": "python",
   "pygments_lexer": "ipython2",
   "version": "2.7.6"
  }
 },
 "nbformat": 4,
 "nbformat_minor": 0
}
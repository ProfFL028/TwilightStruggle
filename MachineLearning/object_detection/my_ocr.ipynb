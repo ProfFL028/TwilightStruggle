{
 "cells": [
  {
   "cell_type": "markdown",
   "metadata": {
    "pycharm": {
     "name": "#%% md\n"
    }
   },
   "source": [
    "导入相关的包\n",
    "pip install pandas\n",
    "pip install ddddocr\n",
    "pip install selenium"
   ]
  },
  {
   "cell_type": "code",
   "execution_count": 1,
   "metadata": {
    "pycharm": {
     "name": "#%%\n"
    }
   },
   "outputs": [],
   "source": [
    "import time\n",
    "import ddddocr\n",
    "from selenium.common import NoSuchElementException, InvalidSelectorException,ElementClickInterceptedException\n",
    "from selenium.webdriver.chrome.options import Options\n",
    "from selenium import webdriver\n",
    "from selenium.webdriver.common.by import By\n",
    "import pandas as pd\n"
   ]
  },
  {
   "cell_type": "code",
   "execution_count": 2,
   "metadata": {
    "pycharm": {
     "name": "#%%\n"
    }
   },
   "outputs": [],
   "source": [
    "\"\"\"加载OCR，识别验证码用\"\"\"\n",
    "ocr = ddddocr.DdddOcr(show_ad=False)"
   ]
  },
  {
   "cell_type": "code",
   "execution_count": 3,
   "metadata": {
    "pycharm": {
     "name": "#%%\n"
    }
   },
   "outputs": [
    {
     "name": "stdout",
     "output_type": "stream",
     "text": [
      "从第 2813 行开始查询：\n"
     ]
    }
   ],
   "source": [
    "\"\"\"加载客户清单\"\"\"\n",
    "customers = pd.read_excel(\"tmp/customers.xlsx\", dtype=str)\n",
    "searchResult = pd.DataFrame(columns=['身份证', '法院名称', '地区名称', '立案时间', '案号',\n",
    "                                     '做出执行依据单位', '生效法律文书确定的义务',\n",
    "                                     '被执行人的履行情况', '失信被执行人行为具体情形'])\n",
    "\n",
    "with open(\"tmp/pos\", \"r\") as f:\n",
    "    pos = str(f.read())\n",
    "if len(pos) == 0:\n",
    "    pos = 2\n",
    "else:\n",
    "    pos = int(pos)\n",
    "print(\"从第 %d 行开始查询：\" % pos)\n",
    "pos -= 2\n"
   ]
  },
  {
   "cell_type": "code",
   "execution_count": 4,
   "metadata": {
    "pycharm": {
     "name": "#%%\n"
    }
   },
   "outputs": [],
   "source": [
    "\"\"\"selenium 启用缓存\"\"\"\n",
    "chrome_options = Options()\n",
    "chrome_options.page_load_strategy = 'eager'\n",
    "# chrome_options.add_experimental_option(\"debuggerAddress\", \"127.0.0.1:9222\")\n"
   ]
  },
  {
   "cell_type": "code",
   "execution_count": 5,
   "metadata": {
    "pycharm": {
     "name": "#%%\n"
    }
   },
   "outputs": [],
   "source": [
    "class AutoFetcher:\n",
    "    def __init__(self, drv):\n",
    "        self.driver = drv\n",
    "\n",
    "    def openPage(self, url):\n",
    "        self.driver.get(url)\n",
    "\n",
    "    def inputCardNum(self, idcard):\n",
    "        driver.find_element(By.NAME, \"pCardNum\").send_keys(idcard)"
   ]
  },
  {
   "cell_type": "code",
   "execution_count": 8,
   "metadata": {
    "pycharm": {
     "name": "#%%\n"
    }
   },
   "outputs": [
    {
     "name": "stdout",
     "output_type": "stream",
     "text": [
      "从第 3361 行开始查询：\n"
     ]
    },
    {
     "ename": "WebDriverException",
     "evalue": "Message: unknown error: cannot determine loading status\nfrom disconnected: received Inspector.detached event\n  (Session info: chrome=103.0.5060.53)\nStacktrace:\nBacktrace:\n\tOrdinal0 [0x010DD953+2414931]\n\tOrdinal0 [0x0106F5E1+1963489]\n\tOrdinal0 [0x00F5C6B8+837304]\n\tOrdinal0 [0x00F4E45E+779358]\n\tOrdinal0 [0x00F4E04F+778319]\n\tOrdinal0 [0x00F4D646+775750]\n\tOrdinal0 [0x00F4C565+771429]\n\tOrdinal0 [0x00F4CB68+772968]\n\tOrdinal0 [0x00F58B10+822032]\n\tOrdinal0 [0x00F4DE5D+777821]\n\tOrdinal0 [0x00F4EA3B+780859]\n\tOrdinal0 [0x00F4E06A+778346]\n\tOrdinal0 [0x00F4D646+775750]\n\tOrdinal0 [0x00F4C565+771429]\n\tOrdinal0 [0x00F4CA3D+772669]\n\tOrdinal0 [0x00F5DEA4+843428]\n\tOrdinal0 [0x00FB4EBD+1199805]\n\tOrdinal0 [0x00FA449C+1131676]\n\tOrdinal0 [0x00FB4812+1198098]\n\tOrdinal0 [0x00FA42B6+1131190]\n\tOrdinal0 [0x00F7E860+976992]\n\tOrdinal0 [0x00F7F756+980822]\n\tGetHandleVerifier [0x0134CC62+2510274]\n\tGetHandleVerifier [0x0133F760+2455744]\n\tGetHandleVerifier [0x0116EABA+551962]\n\tGetHandleVerifier [0x0116D916+547446]\n\tOrdinal0 [0x01075F3B+1990459]\n\tOrdinal0 [0x0107A898+2009240]\n\tOrdinal0 [0x0107A985+2009477]\n\tOrdinal0 [0x01083AD1+2046673]\n\tBaseThreadInitThunk [0x76E70419+25]\n\tRtlGetAppContainerNamedObjectPath [0x7708662D+237]\n\tRtlGetAppContainerNamedObjectPath [0x770865FD+189]\n",
     "output_type": "error",
     "traceback": [
      "\u001b[1;31m---------------------------------------------------------------------------\u001b[0m",
      "\u001b[1;31mWebDriverException\u001b[0m                        Traceback (most recent call last)",
      "\u001b[1;32m<ipython-input-8-77c6d613214e>\u001b[0m in \u001b[0;36m<module>\u001b[1;34m\u001b[0m\n\u001b[0;32m     18\u001b[0m     \u001b[1;32mwhile\u001b[0m \u001b[1;32mTrue\u001b[0m\u001b[1;33m:\u001b[0m\u001b[1;33m\u001b[0m\u001b[1;33m\u001b[0m\u001b[0m\n\u001b[0;32m     19\u001b[0m         \u001b[1;32mtry\u001b[0m\u001b[1;33m:\u001b[0m\u001b[1;33m\u001b[0m\u001b[1;33m\u001b[0m\u001b[0m\n\u001b[1;32m---> 20\u001b[1;33m             \u001b[0mdriver\u001b[0m\u001b[1;33m.\u001b[0m\u001b[0mget\u001b[0m\u001b[1;33m(\u001b[0m\u001b[1;34m\"http://zxgk.court.gov.cn/shixin/\"\u001b[0m\u001b[1;33m)\u001b[0m\u001b[1;33m\u001b[0m\u001b[1;33m\u001b[0m\u001b[0m\n\u001b[0m\u001b[0;32m     21\u001b[0m             \u001b[0mdriver\u001b[0m\u001b[1;33m.\u001b[0m\u001b[0mfind_element\u001b[0m\u001b[1;33m(\u001b[0m\u001b[0mBy\u001b[0m\u001b[1;33m.\u001b[0m\u001b[0mNAME\u001b[0m\u001b[1;33m,\u001b[0m \u001b[1;34m\"pCardNum\"\u001b[0m\u001b[1;33m)\u001b[0m\u001b[1;33m.\u001b[0m\u001b[0msend_keys\u001b[0m\u001b[1;33m(\u001b[0m\u001b[0midcard\u001b[0m\u001b[1;33m)\u001b[0m\u001b[1;33m\u001b[0m\u001b[1;33m\u001b[0m\u001b[0m\n\u001b[0;32m     22\u001b[0m \u001b[1;33m\u001b[0m\u001b[0m\n",
      "\u001b[1;32mD:\\anaconda\\lib\\site-packages\\selenium\\webdriver\\remote\\webdriver.py\u001b[0m in \u001b[0;36mget\u001b[1;34m(self, url)\u001b[0m\n\u001b[0;32m    445\u001b[0m         \u001b[0mLoads\u001b[0m \u001b[0ma\u001b[0m \u001b[0mweb\u001b[0m \u001b[0mpage\u001b[0m \u001b[1;32min\u001b[0m \u001b[0mthe\u001b[0m \u001b[0mcurrent\u001b[0m \u001b[0mbrowser\u001b[0m \u001b[0msession\u001b[0m\u001b[1;33m.\u001b[0m\u001b[1;33m\u001b[0m\u001b[1;33m\u001b[0m\u001b[0m\n\u001b[0;32m    446\u001b[0m         \"\"\"\n\u001b[1;32m--> 447\u001b[1;33m         \u001b[0mself\u001b[0m\u001b[1;33m.\u001b[0m\u001b[0mexecute\u001b[0m\u001b[1;33m(\u001b[0m\u001b[0mCommand\u001b[0m\u001b[1;33m.\u001b[0m\u001b[0mGET\u001b[0m\u001b[1;33m,\u001b[0m \u001b[1;33m{\u001b[0m\u001b[1;34m'url'\u001b[0m\u001b[1;33m:\u001b[0m \u001b[0murl\u001b[0m\u001b[1;33m}\u001b[0m\u001b[1;33m)\u001b[0m\u001b[1;33m\u001b[0m\u001b[1;33m\u001b[0m\u001b[0m\n\u001b[0m\u001b[0;32m    448\u001b[0m \u001b[1;33m\u001b[0m\u001b[0m\n\u001b[0;32m    449\u001b[0m     \u001b[1;33m@\u001b[0m\u001b[0mproperty\u001b[0m\u001b[1;33m\u001b[0m\u001b[1;33m\u001b[0m\u001b[0m\n",
      "\u001b[1;32mD:\\anaconda\\lib\\site-packages\\selenium\\webdriver\\remote\\webdriver.py\u001b[0m in \u001b[0;36mexecute\u001b[1;34m(self, driver_command, params)\u001b[0m\n\u001b[0;32m    433\u001b[0m         \u001b[0mresponse\u001b[0m \u001b[1;33m=\u001b[0m \u001b[0mself\u001b[0m\u001b[1;33m.\u001b[0m\u001b[0mcommand_executor\u001b[0m\u001b[1;33m.\u001b[0m\u001b[0mexecute\u001b[0m\u001b[1;33m(\u001b[0m\u001b[0mdriver_command\u001b[0m\u001b[1;33m,\u001b[0m \u001b[0mparams\u001b[0m\u001b[1;33m)\u001b[0m\u001b[1;33m\u001b[0m\u001b[1;33m\u001b[0m\u001b[0m\n\u001b[0;32m    434\u001b[0m         \u001b[1;32mif\u001b[0m \u001b[0mresponse\u001b[0m\u001b[1;33m:\u001b[0m\u001b[1;33m\u001b[0m\u001b[1;33m\u001b[0m\u001b[0m\n\u001b[1;32m--> 435\u001b[1;33m             \u001b[0mself\u001b[0m\u001b[1;33m.\u001b[0m\u001b[0merror_handler\u001b[0m\u001b[1;33m.\u001b[0m\u001b[0mcheck_response\u001b[0m\u001b[1;33m(\u001b[0m\u001b[0mresponse\u001b[0m\u001b[1;33m)\u001b[0m\u001b[1;33m\u001b[0m\u001b[1;33m\u001b[0m\u001b[0m\n\u001b[0m\u001b[0;32m    436\u001b[0m             response['value'] = self._unwrap_value(\n\u001b[0;32m    437\u001b[0m                 response.get('value', None))\n",
      "\u001b[1;32mD:\\anaconda\\lib\\site-packages\\selenium\\webdriver\\remote\\errorhandler.py\u001b[0m in \u001b[0;36mcheck_response\u001b[1;34m(self, response)\u001b[0m\n\u001b[0;32m    245\u001b[0m                 \u001b[0malert_text\u001b[0m \u001b[1;33m=\u001b[0m \u001b[0mvalue\u001b[0m\u001b[1;33m[\u001b[0m\u001b[1;34m'alert'\u001b[0m\u001b[1;33m]\u001b[0m\u001b[1;33m.\u001b[0m\u001b[0mget\u001b[0m\u001b[1;33m(\u001b[0m\u001b[1;34m'text'\u001b[0m\u001b[1;33m)\u001b[0m\u001b[1;33m\u001b[0m\u001b[1;33m\u001b[0m\u001b[0m\n\u001b[0;32m    246\u001b[0m             \u001b[1;32mraise\u001b[0m \u001b[0mexception_class\u001b[0m\u001b[1;33m(\u001b[0m\u001b[0mmessage\u001b[0m\u001b[1;33m,\u001b[0m \u001b[0mscreen\u001b[0m\u001b[1;33m,\u001b[0m \u001b[0mstacktrace\u001b[0m\u001b[1;33m,\u001b[0m \u001b[0malert_text\u001b[0m\u001b[1;33m)\u001b[0m  \u001b[1;31m# type: ignore[call-arg]  # mypy is not smart enough here\u001b[0m\u001b[1;33m\u001b[0m\u001b[1;33m\u001b[0m\u001b[0m\n\u001b[1;32m--> 247\u001b[1;33m         \u001b[1;32mraise\u001b[0m \u001b[0mexception_class\u001b[0m\u001b[1;33m(\u001b[0m\u001b[0mmessage\u001b[0m\u001b[1;33m,\u001b[0m \u001b[0mscreen\u001b[0m\u001b[1;33m,\u001b[0m \u001b[0mstacktrace\u001b[0m\u001b[1;33m)\u001b[0m\u001b[1;33m\u001b[0m\u001b[1;33m\u001b[0m\u001b[0m\n\u001b[0m\u001b[0;32m    248\u001b[0m \u001b[1;33m\u001b[0m\u001b[0m\n\u001b[0;32m    249\u001b[0m     \u001b[1;32mdef\u001b[0m \u001b[0m_value_or_default\u001b[0m\u001b[1;33m(\u001b[0m\u001b[0mself\u001b[0m\u001b[1;33m,\u001b[0m \u001b[0mobj\u001b[0m\u001b[1;33m:\u001b[0m \u001b[0mMapping\u001b[0m\u001b[1;33m[\u001b[0m\u001b[0m_KT\u001b[0m\u001b[1;33m,\u001b[0m \u001b[0m_VT\u001b[0m\u001b[1;33m]\u001b[0m\u001b[1;33m,\u001b[0m \u001b[0mkey\u001b[0m\u001b[1;33m:\u001b[0m \u001b[0m_KT\u001b[0m\u001b[1;33m,\u001b[0m \u001b[0mdefault\u001b[0m\u001b[1;33m:\u001b[0m \u001b[0m_VT\u001b[0m\u001b[1;33m)\u001b[0m \u001b[1;33m->\u001b[0m \u001b[0m_VT\u001b[0m\u001b[1;33m:\u001b[0m\u001b[1;33m\u001b[0m\u001b[1;33m\u001b[0m\u001b[0m\n",
      "\u001b[1;31mWebDriverException\u001b[0m: Message: unknown error: cannot determine loading status\nfrom disconnected: received Inspector.detached event\n  (Session info: chrome=103.0.5060.53)\nStacktrace:\nBacktrace:\n\tOrdinal0 [0x010DD953+2414931]\n\tOrdinal0 [0x0106F5E1+1963489]\n\tOrdinal0 [0x00F5C6B8+837304]\n\tOrdinal0 [0x00F4E45E+779358]\n\tOrdinal0 [0x00F4E04F+778319]\n\tOrdinal0 [0x00F4D646+775750]\n\tOrdinal0 [0x00F4C565+771429]\n\tOrdinal0 [0x00F4CB68+772968]\n\tOrdinal0 [0x00F58B10+822032]\n\tOrdinal0 [0x00F4DE5D+777821]\n\tOrdinal0 [0x00F4EA3B+780859]\n\tOrdinal0 [0x00F4E06A+778346]\n\tOrdinal0 [0x00F4D646+775750]\n\tOrdinal0 [0x00F4C565+771429]\n\tOrdinal0 [0x00F4CA3D+772669]\n\tOrdinal0 [0x00F5DEA4+843428]\n\tOrdinal0 [0x00FB4EBD+1199805]\n\tOrdinal0 [0x00FA449C+1131676]\n\tOrdinal0 [0x00FB4812+1198098]\n\tOrdinal0 [0x00FA42B6+1131190]\n\tOrdinal0 [0x00F7E860+976992]\n\tOrdinal0 [0x00F7F756+980822]\n\tGetHandleVerifier [0x0134CC62+2510274]\n\tGetHandleVerifier [0x0133F760+2455744]\n\tGetHandleVerifier [0x0116EABA+551962]\n\tGetHandleVerifier [0x0116D916+547446]\n\tOrdinal0 [0x01075F3B+1990459]\n\tOrdinal0 [0x0107A898+2009240]\n\tOrdinal0 [0x0107A985+2009477]\n\tOrdinal0 [0x01083AD1+2046673]\n\tBaseThreadInitThunk [0x76E70419+25]\n\tRtlGetAppContainerNamedObjectPath [0x7708662D+237]\n\tRtlGetAppContainerNamedObjectPath [0x770865FD+189]\n"
     ]
    }
   ],
   "source": [
    "disruptCount = 0\n",
    "logFile = open(\"tmp/log.log\", \"a\")\n",
    "\n",
    "with open(\"tmp/pos\", \"r\") as f:\n",
    "    pos = str(f.read())\n",
    "if len(pos) == 0:\n",
    "    pos = 2\n",
    "else:\n",
    "    pos = int(pos)\n",
    "print(\"从第 %d 行开始查询：\" % pos)\n",
    "pos -= 2\n",
    "\n",
    "driver = webdriver.Chrome(chrome_options=chrome_options)\n",
    "auto = AutoFetcher(drv=driver)\n",
    "\n",
    "for i in range(pos, customers.shape[0]):\n",
    "    idcard = customers[customers.columns[0]][i]\n",
    "    while True:\n",
    "        try:\n",
    "            driver.get(\"http://zxgk.court.gov.cn/shixin/\")\n",
    "            driver.find_element(By.NAME, \"pCardNum\").send_keys(idcard)\n",
    "            \n",
    "            driver.find_element(By.ID, \"captchaImg\").click()\n",
    "            time.sleep(2)\n",
    "            img = driver.find_element(By.ID, \"captchaImg\")\n",
    "\n",
    "            with open('tmp/1.png', 'wb') as file:\n",
    "                file.write(img.screenshot_as_png)\n",
    "\n",
    "            with open('tmp/1.png', 'rb') as f:\n",
    "                img_bytes = f.read()\n",
    "            check_code = ocr.classification(img_bytes)\n",
    "            driver.find_element(By.ID, \"yzm\").clear()\n",
    "            driver.find_element(By.ID, \"yzm\").send_keys(check_code)\n",
    "            # driver.find_element_by_id(\"yzm\").send_keys(\"ABCD\")\n",
    "            time.sleep(1)\n",
    "\n",
    "            yzmWrong = driver.find_elements(By.XPATH, \"//div/strong[text()='验证码错误!']/..\")\n",
    "            yzmRight = driver.find_element(By.XPATH, \"//div/strong[text()='验证码正确!']/..\")\n",
    "\n",
    "\n",
    "            if not yzmRight.get_attribute(\"class\").__contains__(\"hide\") and yzmWrong[1].get_attribute(\"class\").__contains__(\"hide\"):\n",
    "               break\n",
    "            else:\n",
    "                # print(\"验证码错误！\")\n",
    "                time.sleep(5)\n",
    "        except NoSuchElementException:\n",
    "            # print(\"%s is ok\" % idcard)\n",
    "            logFile.write(\"%s is ok\\n\" % idcard)\n",
    "            logFile.flush()\n",
    "            time.sleep(60)\n",
    "\n",
    "    try:\n",
    "        driver.find_element(By.XPATH, '//button[normalize-space()=\"查询\"]').click()\n",
    "        time.sleep(2)\n",
    "        resultList = driver.find_elements(By.XPATH, '//a[text()=\"查看\"]')\n",
    "        if len(resultList) > 0:\n",
    "            # for result in resultList[0:0]:\n",
    "            result = resultList[0]\n",
    "            result.click()\n",
    "            time.sleep(1)\n",
    "            courtNameDetail = driver.find_element(By.ID, \"courtNameDetail\").text\n",
    "            areaNameDetail = driver.find_element(By.ID, \"areaNameDetail\").text\n",
    "            regDateDetail = driver.find_element(By.ID, \"regDateDetail\").text\n",
    "            caseCodeDetail = driver.find_element(By.ID, \"caseCodeDetail\").text\n",
    "            gistUnitDetail = driver.find_element(By.ID, \"gistUnitDetail\").text\n",
    "            dutyDetail = driver.find_element(By.ID, \"dutyDetail\").text\n",
    "            performanceDetail = driver.find_element(By.ID, \"performanceDetail\").text\n",
    "            disruptTypeNameDetail = driver.find_element(By.ID, \"disruptTypeNameDetail\").text\n",
    "\n",
    "            print(idcard, courtNameDetail, areaNameDetail, areaNameDetail, regDateDetail, caseCodeDetail,\n",
    "                  gistUnitDetail, performanceDetail, disruptTypeNameDetail)\n",
    "            logFile.write(\"%s, %s, %s, %s, %s, %s, %s, %s, %s\" % (idcard, courtNameDetail, areaNameDetail, areaNameDetail, regDateDetail, caseCodeDetail,\n",
    "                  gistUnitDetail, performanceDetail, disruptTypeNameDetail))\n",
    "            logFile.flush()\n",
    "\n",
    "            # driver.find_element(By.XPATH, '//button[normalize-space()=\"关闭\"]').click()\n",
    "            logFile.write(idcard +\"\\n\")\n",
    "            logFile.flush()\n",
    "\n",
    "            searchResult.loc[disruptCount] = [idcard, courtNameDetail, areaNameDetail, regDateDetail,\n",
    "                                              caseCodeDetail, gistUnitDetail, dutyDetail, performanceDetail, disruptTypeNameDetail]\n",
    "            disruptCount += 1\n",
    "        # else:\n",
    "            # print(\"%s is ok\" % idcard)\n",
    "    except InvalidSelectorException:\n",
    "        print(\"%s is ok\" % idcard)\n",
    "    except NoSuchElementException:\n",
    "        print(\"%s is ok\" % idcard)\n",
    "\n",
    "    with open(\"tmp/pos\", \"w\") as f:\n",
    "        f.write(str(i+2))\n",
    "        f.flush()\n",
    "\n",
    "    time.sleep(9)\n",
    "\n",
    "with open(\"tmp/pos\", \"w\") as f:\n",
    "    f.write(\"2\")\n",
    "    f.flush()\n",
    "searchResult.to_excel(\"tmp/查询结果.xlsx\", index=None)\n",
    "driver.close()"
   ]
  },
  {
   "cell_type": "code",
   "execution_count": null,
   "metadata": {
    "pycharm": {
     "name": "#%%\n"
    }
   },
   "outputs": [],
   "source": [
    "从第 2813 行开始查询：\n",
    "331021198708230617 玉环市人民法院 浙江 浙江 2022年02月15日 （2022）浙1021执419号 浙江省玉环市人民法院 全部未履行 违反财产报告制度"
   ]
  },
  {
   "cell_type": "code",
   "execution_count": null,
   "metadata": {
    "pycharm": {
     "name": "#%%\n"
    }
   },
   "outputs": [],
   "source": [
    "12180"
   ]
  }
 ],
 "metadata": {
  "kernelspec": {
   "display_name": "Python 3",
   "language": "python",
   "name": "python3"
  },
  "language_info": {
   "codemirror_mode": {
    "name": "ipython",
    "version": 3
   },
   "file_extension": ".py",
   "mimetype": "text/x-python",
   "name": "python",
   "nbconvert_exporter": "python",
   "pygments_lexer": "ipython3",
   "version": "3.8.8"
  }
 },
 "nbformat": 4,
 "nbformat_minor": 1
}

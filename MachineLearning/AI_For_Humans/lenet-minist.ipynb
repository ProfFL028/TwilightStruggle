{
 "cells": [
  {
   "cell_type": "markdown",
   "metadata": {},
   "source": [
    "# <center>6.4实战: 手写数字识别分类</center>"
   ]
  },
  {
   "cell_type": "markdown",
   "metadata": {},
   "source": [
    "实验说明：本实验代码较为简单，利用Tensorflow2.x框架搭建Lenet-5模型，并使用手写体数字数据集MNIST对模型进行训练，最终能对手写体数字图片进行分类。运行该代码需要的环境如下：\n",
    "Python3.5+\n",
    "Tensorflow2.1.0\n"
   ]
  },
  {
   "cell_type": "markdown",
   "metadata": {},
   "source": [
    "## 1.导入需要的python库\n",
    "\n",
    "首先导入需要的python库，基于TensorFlow的Keras模块用于构建和训练模型。在导入Tensorflow之后，打印了其版本。以下代码均为TensorFlow2.x版本代码，若运行的版本小于2.0，则代码可能无法正常运行。"
   ]
  },
  {
   "cell_type": "code",
   "execution_count": null,
   "metadata": {
    "scrolled": true,
    "pycharm": {
     "is_executing": true
    }
   },
   "outputs": [],
   "source": [
    "import tensorflow as tf\n",
    "print(tf.__version__)\n",
    "from tensorflow import keras\n",
    "import os\n",
    "\n",
    "os.environ[\"CUDA_VISIBLE_DEVICES\"] = \"0\""
   ]
  },
  {
   "cell_type": "markdown",
   "metadata": {},
   "source": [
    "## 2.准备数据集\n",
    "\n",
    "本实验使用的数据是MNIST数据集，数据中包含0-9十种数字的样本图片。此处如果下载数据集过慢，可以手动下载mnist.npz放置在~/.keras/datasets下。"
   ]
  },
  {
   "cell_type": "code",
   "execution_count": 2,
   "metadata": {},
   "outputs": [],
   "source": [
    "mnist = tf.keras.datasets.mnist\n",
    "(train_images,train_labels),(test_images,test_labels) = mnist.load_data()"
   ]
  },
  {
   "cell_type": "markdown",
   "metadata": {},
   "source": [
    "## 3.构建网络结构\n",
    "\n",
    "根据Lenet-5的结构定义逐层搭建，总计3个卷积层，2个全连接层。输出十个类别的概率值。"
   ]
  },
  {
   "cell_type": "code",
   "execution_count": 3,
   "metadata": {},
   "outputs": [],
   "source": [
    "# 序贯式方法搭建LeNet网络\n",
    "net = tf.keras.models.Sequential([\n",
    "    tf.keras.layers.Conv2D(filters=6,kernel_size=(5,5),activation='sigmoid',input_shape=(28,28,1)),\n",
    "    tf.keras.layers.MaxPool2D(pool_size=(2,2),strides=2),\n",
    "    tf.keras.layers.Conv2D(filters=16,kernel_size=(5,5),activation='sigmoid',padding=\"same\"),\n",
    "    tf.keras.layers.MaxPool2D(pool_size=(2,2),strides=2),\n",
    "    tf.keras.layers.Conv2D(filters=32,kernel_size=(5,5),activation=\"sigmoid\",padding=\"same\"),\n",
    "    #扁平化数据输入全连接层\n",
    "    tf.keras.layers.Flatten(),\n",
    "    tf.keras.layers.Dense(200,activation='sigmoid'),\n",
    "    tf.keras.layers.Dense(10,activation='sigmoid')\n",
    "])"
   ]
  },
  {
   "cell_type": "markdown",
   "metadata": {},
   "source": [
    "## 4.转换数据结构\n",
    "\n",
    "将数据转换为tensorflow通用的NWHC模式。"
   ]
  },
  {
   "cell_type": "code",
   "execution_count": 4,
   "metadata": {},
   "outputs": [
    {
     "name": "stdout",
     "output_type": "stream",
     "text": [
      "(60000, 28, 28, 1)\n",
      "(10000, 28, 28, 1)\n"
     ]
    }
   ],
   "source": [
    "# 转换数据结构,增加维度\n",
    "train_images=tf.reshape(train_images,(train_images.shape[0],train_images.shape[1],train_images.shape[2],1))\n",
    "print(train_images.shape)\n",
    "test_images=tf.reshape(test_images,(test_images.shape[0],test_images.shape[1],test_images.shape[2],1))\n",
    "print(test_images.shape)"
   ]
  },
  {
   "cell_type": "markdown",
   "metadata": {},
   "source": [
    "## 5.模型训练与效果评估\n",
    "\n",
    "训练、测试并保存模型。"
   ]
  },
  {
   "cell_type": "code",
   "execution_count": 5,
   "metadata": {
    "scrolled": true
   },
   "outputs": [
    {
     "name": "stdout",
     "output_type": "stream",
     "text": [
      "Train on 54000 samples, validate on 6000 samples\n",
      "Epoch 1/5\n",
      "54000/54000 [==============================] - 12s 213us/sample - loss: 2.3023 - accuracy: 0.1123 - val_loss: 2.3019 - val_accuracy: 0.1050\n",
      "Epoch 2/5\n",
      "54000/54000 [==============================] - 9s 170us/sample - loss: 0.9836 - accuracy: 0.6355 - val_loss: 0.2577 - val_accuracy: 0.9210\n",
      "Epoch 3/5\n",
      "54000/54000 [==============================] - 8s 156us/sample - loss: 0.1298 - accuracy: 0.9574 - val_loss: 0.0902 - val_accuracy: 0.9727\n",
      "Epoch 4/5\n",
      "54000/54000 [==============================] - 8s 154us/sample - loss: 0.0951 - accuracy: 0.9693 - val_loss: 0.1277 - val_accuracy: 0.9565\n",
      "Epoch 5/5\n",
      "54000/54000 [==============================] - 7s 136us/sample - loss: 0.0738 - accuracy: 0.9766 - val_loss: 0.0734 - val_accuracy: 0.9810\n",
      "10000/10000 [==============================] - 1s 72us/sample - loss: 0.0691 - accuracy: 0.9776\n",
      "[0.0690730897440575, 0.9776]\n"
     ]
    }
   ],
   "source": [
    "#定义训练方法,超参数设置\n",
    "optimizer = tf.keras.optimizers.SGD(learning_rate=0.9,momentum=0.0,nesterov=False)\n",
    "net.compile(optimizer=optimizer,\n",
    "           loss='sparse_categorical_crossentropy',\n",
    "           metrics=['accuracy'])\n",
    "\n",
    "# 设置训练参数,输入训练集数据,指定迭代5次,验证集按10%抽取\n",
    "net.fit(train_images,train_labels,epochs=5,validation_split=0.1)\n",
    "# 评估模型，得出测试的准确率\n",
    "scores = net.evaluate(test_images,test_labels,verbose=1)\n",
    "print(scores)\n",
    "# 保存模型\n",
    "net.save('model/lenet5_mnist.h5')"
   ]
  },
  {
   "cell_type": "code",
   "execution_count": null,
   "metadata": {},
   "outputs": [],
   "source": []
  }
 ],
 "metadata": {
  "kernelspec": {
   "display_name": "Python 3",
   "language": "python",
   "name": "python3"
  },
  "language_info": {
   "codemirror_mode": {
    "name": "ipython",
    "version": 3
   },
   "file_extension": ".py",
   "mimetype": "text/x-python",
   "name": "python",
   "nbconvert_exporter": "python",
   "pygments_lexer": "ipython3",
   "version": "3.6.8"
  }
 },
 "nbformat": 4,
 "nbformat_minor": 4
}
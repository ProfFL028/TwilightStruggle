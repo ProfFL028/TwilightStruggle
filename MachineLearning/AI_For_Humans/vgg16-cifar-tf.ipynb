{
 "cells": [
  {
   "cell_type": "markdown",
   "metadata": {},
   "source": [
    "# <center>7.3.1 实战: CIFAR数据集分类和猫狗分类</center>"
   ]
  },
  {
   "cell_type": "markdown",
   "metadata": {},
   "source": [
    "实验说明：本实验代码利用Tensorflow2.x框架搭建VGG-16模型，并使用CIFAR数据集对模型进行训练，最终能进行猫狗分类。运行该代码需要的环境如下：\n",
    "Python3.5+\n",
    "Tensorflow2.1.0\n"
   ]
  },
  {
   "cell_type": "markdown",
   "metadata": {},
   "source": [
    "## 1.导入需要的python库\n",
    "\n",
    "首先导入需要的python库，基于TensorFlow的Keras模块用于构建和训练模型。在导入Tensorflow之后，打印了其版本。以下代码均为TensorFlow2.x版本代码，若运行的版本小于2.0，则代码可能无法正常运行。"
   ]
  },
  {
   "cell_type": "code",
   "execution_count": 2,
   "metadata": {
    "scrolled": true
   },
   "outputs": [],
   "source": [
    "import tensorflow as tf\n",
    "from tensorflow import keras\n",
    "from tensorflow.keras import layers, regularizers\n",
    "import numpy as np\n",
    "import os\n",
    "import cv2\n",
    "import matplotlib.pyplot as plt\n",
    "\n",
    "\n",
    "os.environ[\"CUDA_VISIBLE_DEVICES\"] = \"1\""
   ]
  },
  {
   "cell_type": "markdown",
   "metadata": {},
   "source": [
    "## 2.定义图片读取函数\n",
    "\n",
    "规定从文件夹中读取图片的规范，划分训练与测试用图片并分配标签。"
   ]
  },
  {
   "cell_type": "code",
   "execution_count": 3,
   "metadata": {},
   "outputs": [],
   "source": [
    "resize = 224\n",
    "path =\"train/\"\n",
    "\n",
    "def load_data():\n",
    "    imgs = os.listdir(path)\n",
    "    num = len(imgs)\n",
    "    train_data = np.empty((5000, resize, resize, 3), dtype=\"int32\")\n",
    "    train_label = np.empty((5000, ), dtype=\"int32\")\n",
    "    test_data = np.empty((5000, resize, resize, 3), dtype=\"int32\")\n",
    "    test_label = np.empty((5000, ), dtype=\"int32\")\n",
    "    for i in range(5000):\n",
    "        if i % 2:\n",
    "            train_data[i] = cv2.resize(cv2.imread(path+'/'+ 'dog.' + str(i) + '.jpg'), (resize, resize))\n",
    "            train_label[i] = 1\n",
    "        else:\n",
    "            train_data[i] = cv2.resize(cv2.imread(path+'/' + 'cat.' + str(i) + '.jpg'), (resize, resize))\n",
    "            train_label[i] = 0\n",
    "    for i in range(5000, 10000):\n",
    "        if i % 2:\n",
    "            test_data[i-5000] = cv2.resize(cv2.imread(path+'/' + 'dog.' + str(i) + '.jpg'), (resize, resize))\n",
    "            test_label[i-5000] = 1\n",
    "        else:\n",
    "            test_data[i-5000] = cv2.resize(cv2.imread(path+'/' + 'cat.' + str(i) + '.jpg'), (resize, resize))\n",
    "            test_label[i-5000] = 0\n",
    "    return train_data, train_label, test_data, test_label"
   ]
  },
  {
   "cell_type": "markdown",
   "metadata": {},
   "source": [
    "## 3.构建网络结构\n",
    "\n",
    "根据VGG-16的结构定义逐层搭建，总计13个卷积层，3个全连接层。输出两个类别的概率值。"
   ]
  },
  {
   "cell_type": "code",
   "execution_count": 4,
   "metadata": {},
   "outputs": [],
   "source": [
    "def vgg16():\n",
    "    weight_decay = 0.0005\n",
    "    nb_epoch = 100\n",
    "    batch_size = 32\n",
    "    \n",
    "    # layer1\n",
    "    model = keras.Sequential()\n",
    "    model.add(layers.Conv2D(64, (3, 3), padding='same',\n",
    "                     input_shape=(224, 224, 3), kernel_regularizer=regularizers.l2(weight_decay)))\n",
    "    model.add(layers.Activation('relu'))\n",
    "    model.add(layers.BatchNormalization())\n",
    "    model.add(layers.Dropout(0.3))\n",
    "    # layer2\n",
    "    model.add(layers.Conv2D(64, (3, 3), padding='same', kernel_regularizer=regularizers.l2(weight_decay)))\n",
    "    model.add(layers.Activation('relu'))\n",
    "    model.add(layers.BatchNormalization())\n",
    "    model.add(layers.MaxPooling2D(pool_size=(2, 2)))\n",
    "    # layer3\n",
    "    model.add(layers.Conv2D(128, (3, 3), padding='same', kernel_regularizer=regularizers.l2(weight_decay)))\n",
    "    model.add(layers.Activation('relu'))\n",
    "    model.add(layers.BatchNormalization())\n",
    "    model.add(layers.Dropout(0.4))\n",
    "    # layer4\n",
    "    model.add(layers.Conv2D(128, (3, 3), padding='same', kernel_regularizer=regularizers.l2(weight_decay)))\n",
    "    model.add(layers.Activation('relu'))\n",
    "    model.add(layers.BatchNormalization())\n",
    "    model.add(layers.MaxPooling2D(pool_size=(2, 2)))\n",
    "    # layer5\n",
    "    model.add(layers.Conv2D(256, (3, 3), padding='same', kernel_regularizer=regularizers.l2(weight_decay)))\n",
    "    model.add(layers.Activation('relu'))\n",
    "    model.add(layers.BatchNormalization())\n",
    "    model.add(layers.Dropout(0.4))\n",
    "    # layer6\n",
    "    model.add(layers.Conv2D(256, (3, 3), padding='same', kernel_regularizer=regularizers.l2(weight_decay)))\n",
    "    model.add(layers.Activation('relu'))\n",
    "    model.add(layers.BatchNormalization())\n",
    "    model.add(layers.Dropout(0.4))\n",
    "    # layer7\n",
    "    model.add(layers.Conv2D(256, (3, 3), padding='same', kernel_regularizer=regularizers.l2(weight_decay)))\n",
    "    model.add(layers.Activation('relu'))\n",
    "    model.add(layers.BatchNormalization())\n",
    "    model.add(layers.MaxPooling2D(pool_size=(2, 2)))\n",
    "    # layer8\n",
    "    model.add(layers.Conv2D(512, (3, 3), padding='same', kernel_regularizer=regularizers.l2(weight_decay)))\n",
    "    model.add(layers.Activation('relu'))\n",
    "    model.add(layers.BatchNormalization())\n",
    "    model.add(layers.Dropout(0.4))\n",
    "    # layer9\n",
    "    model.add(layers.Conv2D(512, (3, 3), padding='same', kernel_regularizer=regularizers.l2(weight_decay)))\n",
    "    model.add(layers.Activation('relu'))\n",
    "    model.add(layers.BatchNormalization())\n",
    "    model.add(layers.Dropout(0.4))\n",
    "    # layer10\n",
    "    model.add(layers.Conv2D(512, (3, 3), padding='same', kernel_regularizer=regularizers.l2(weight_decay)))\n",
    "    model.add(layers.Activation('relu'))\n",
    "    model.add(layers.BatchNormalization())\n",
    "    model.add(layers.MaxPooling2D(pool_size=(2, 2)))\n",
    "    # layer11\n",
    "    model.add(layers.Conv2D(512, (3, 3), padding='same', kernel_regularizer=regularizers.l2(weight_decay)))\n",
    "    model.add(layers.Activation('relu'))\n",
    "    model.add(layers.BatchNormalization())\n",
    "    model.add(layers.Dropout(0.4))\n",
    "    # layer12\n",
    "    model.add(layers.Conv2D(512, (3, 3), padding='same', kernel_regularizer=regularizers.l2(weight_decay)))\n",
    "    model.add(layers.Activation('relu'))\n",
    "    model.add(layers.BatchNormalization())\n",
    "    model.add(layers.Dropout(0.4))\n",
    "    # layer13\n",
    "    model.add(layers.Conv2D(512, (3, 3), padding='same', kernel_regularizer=regularizers.l2(weight_decay)))\n",
    "    model.add(layers.Activation('relu'))\n",
    "    model.add(layers.BatchNormalization())\n",
    "    model.add(layers.MaxPooling2D(pool_size=(2, 2)))\n",
    "    model.add(layers.Dropout(0.5))\n",
    "    # layer14\n",
    "    model.add(layers.Flatten())\n",
    "    model.add(layers.Dense(512, kernel_regularizer=regularizers.l2(weight_decay)))\n",
    "    model.add(layers.Activation('relu'))\n",
    "    model.add(layers.BatchNormalization())\n",
    "    # layer15\n",
    "    model.add(layers.Dense(512, kernel_regularizer=regularizers.l2(weight_decay)))\n",
    "    model.add(layers.Activation('relu'))\n",
    "    model.add(layers.BatchNormalization())\n",
    "    # layer16\n",
    "    model.add(layers.Dropout(0.5))\n",
    "    model.add(layers.Dense(2))\n",
    "    model.add(layers.Activation('softmax'))\n",
    "\n",
    "    return model"
   ]
  },
  {
   "cell_type": "markdown",
   "metadata": {},
   "source": [
    "## 4.构建数据集\n",
    "\n",
    "定义数据集数据格式，标签转换成独热编码。"
   ]
  },
  {
   "cell_type": "code",
   "execution_count": 5,
   "metadata": {},
   "outputs": [],
   "source": [
    "#if __name__ == '__main__':\n",
    "train_data, train_label, test_data, test_label = load_data()\n",
    "train_data = train_data.astype('float32')\n",
    "test_data = test_data.astype('float32')\n",
    "train_label = keras.utils.to_categorical(train_label, 2)\n",
    "test_label = keras.utils.to_categorical(test_label, 2)"
   ]
  },
  {
   "cell_type": "markdown",
   "metadata": {},
   "source": [
    "## 5.模型训练与效果评估\n",
    "\n",
    "训练、测试并保存模型。"
   ]
  },
  {
   "cell_type": "code",
   "execution_count": 6,
   "metadata": {
    "scrolled": true
   },
   "outputs": [
    {
     "name": "stdout",
     "output_type": "stream",
     "text": [
      "Train on 4000 samples, validate on 1000 samples\n",
      "Epoch 1/10\n",
      "4000/4000 [==============================] - 53s 13ms/sample - loss: 8.2547 - accuracy: 0.5205 - val_loss: 10.5272 - val_accuracy: 0.5300\n",
      "Epoch 2/10\n",
      "4000/4000 [==============================] - 46s 12ms/sample - loss: 8.2879 - accuracy: 0.5305 - val_loss: 8.7209 - val_accuracy: 0.5310\n",
      "Epoch 3/10\n",
      "4000/4000 [==============================] - 46s 12ms/sample - loss: 7.9397 - accuracy: 0.5132 - val_loss: 7.2604 - val_accuracy: 0.5480\n",
      "Epoch 4/10\n",
      "4000/4000 [==============================] - 49s 12ms/sample - loss: 7.6934 - accuracy: 0.5102 - val_loss: 7.3415 - val_accuracy: 0.5020\n",
      "Epoch 5/10\n",
      "4000/4000 [==============================] - 50s 13ms/sample - loss: 7.3086 - accuracy: 0.5330 - val_loss: 6.7775 - val_accuracy: 0.5300\n",
      "Epoch 6/10\n",
      "4000/4000 [==============================] - 51s 13ms/sample - loss: 6.9527 - accuracy: 0.5332 - val_loss: 6.5239 - val_accuracy: 0.5340\n",
      "Epoch 7/10\n",
      "4000/4000 [==============================] - 51s 13ms/sample - loss: 6.6433 - accuracy: 0.5278 - val_loss: 6.4078 - val_accuracy: 0.5470\n",
      "Epoch 8/10\n",
      "4000/4000 [==============================] - 51s 13ms/sample - loss: 6.4424 - accuracy: 0.5175 - val_loss: 6.1168 - val_accuracy: 0.5280\n",
      "Epoch 9/10\n",
      "4000/4000 [==============================] - 51s 13ms/sample - loss: 6.2000 - accuracy: 0.5295 - val_loss: 6.0200 - val_accuracy: 0.5220\n",
      "Epoch 10/10\n",
      "4000/4000 [==============================] - 51s 13ms/sample - loss: 5.9257 - accuracy: 0.5160 - val_loss: 5.7335 - val_accuracy: 0.5200\n",
      "5000/5000 [==============================] - 14s 3ms/sample - loss: 5.7577 - accuracy: 0.5002\n",
      "[5.757736653137207, 0.5002]\n"
     ]
    }
   ],
   "source": [
    "#定义训练方法,超参数设置\n",
    "model = vgg16()\n",
    "sgd = tf.keras.optimizers.SGD(lr=0.01, decay=1e-6, momentum=0.9, nesterov=True) #设置优化器为SGD\n",
    "model.compile(loss='categorical_crossentropy', optimizer=sgd, metrics=['accuracy'])\n",
    "history = model.fit(train_data, train_label,\n",
    "              batch_size=20,\n",
    "              epochs=10,\n",
    "              validation_split=0.2,  #把训练集中的五分之一作为验证集\n",
    "              shuffle=True)\n",
    "scores = model.evaluate(test_data,test_label,verbose=1)\n",
    "print(scores)\n",
    "model.save('model/vgg16dogcat.h5')"
   ]
  },
  {
   "cell_type": "markdown",
   "metadata": {},
   "source": [
    "## 6.绘制训练图像"
   ]
  },
  {
   "cell_type": "code",
   "execution_count": 7,
   "metadata": {},
   "outputs": [
    {
     "data": {
      "image/png": "[encoded data removed]",
      "text/plain": [
       "<Figure size 432x288 with 1 Axes>"
      ]
     },
     "metadata": {
      "needs_background": "light"
     },
     "output_type": "display_data"
    }
   ],
   "source": [
    "acc = history.history['accuracy']  # 获取训练集准确性数据\n",
    "val_acc = history.history['val_accuracy']  # 获取验证集准确性数据\n",
    "loss = history.history['loss']  # 获取训练集错误值数据\n",
    "val_loss = history.history['val_loss']  # 获取验证集错误值数据\n",
    "epochs = range(1, len(acc) + 1)\n",
    "plt.plot(epochs, acc, 'bo', label='Trainning acc')  # 以epochs为横坐标，以训练集准确性为纵坐标\n",
    "plt.plot(epochs, val_acc, 'b', label='Vaildation acc')  # 以epochs为横坐标，以验证集准确性为纵坐标\n",
    "plt.legend()  # 绘制图例，即标明图中的线段代表何种含义\n",
    " \n",
    "plt.show()"
   ]
  },
  {
   "cell_type": "code",
   "execution_count": null,
   "metadata": {},
   "outputs": [],
   "source": []
  }
 ],
 "metadata": {
  "kernelspec": {
   "display_name": "Python 3",
   "language": "python",
   "name": "python3"
  },
  "language_info": {
   "codemirror_mode": {
    "name": "ipython",
    "version": 3
   },
   "file_extension": ".py",
   "mimetype": "text/x-python",
   "name": "python",
   "nbconvert_exporter": "python",
   "pygments_lexer": "ipython3",
   "version": "3.6.8"
  }
 },
 "nbformat": 4,
 "nbformat_minor": 4
}

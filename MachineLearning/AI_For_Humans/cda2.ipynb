{
 "cells": [
  {
   "cell_type": "code",
   "execution_count": 3,
   "metadata": {
    "collapsed": true
   },
   "outputs": [],
   "source": [
    "import pandas as pd\n",
    "import numpy as np\n",
    "import matplotlib.pyplot as plt\n",
    "\n",
    "from Python.pandas.feature_selection import *"
   ]
  },
  {
   "cell_type": "code",
   "execution_count": 4,
   "outputs": [
    {
     "name": "stdout",
     "output_type": "stream",
     "text": [
      "data.shape():  (41188, 21)\n",
      "data.columns: Index(['age', 'job', 'marital', 'education', 'default', 'housing', 'loan',\n",
      "       'contact', 'month', 'day_of_week', 'duration', 'campaign', 'pdays',\n",
      "       'previous', 'poutcome', 'emp.var.rate', 'cons.price.idx',\n",
      "       'cons.conf.idx', 'euribor3m', 'nr.employed', 'y'],\n",
      "      dtype='object')\n"
     ]
    },
    {
     "data": {
      "text/plain": "       emp.var.rate  cons.price.idx  cons.conf.idx     euribor3m   nr.employed\ncount  41188.000000    41188.000000   41188.000000  41188.000000  41188.000000\nmean       0.081886       93.575664     -40.502600      3.621291   5167.035911\nstd        1.570960        0.578840       4.628198      1.734447     72.251528\nmin       -3.400000       92.201000     -50.800000      0.634000   4963.600000\n25%       -1.800000       93.075000     -42.700000      1.344000   5099.100000\n50%        1.100000       93.749000     -41.800000      4.857000   5191.000000\n75%        1.400000       93.994000     -36.400000      4.961000   5228.100000\nmax        1.400000       94.767000     -26.900000      5.045000   5228.100000",
      "text/html": "<div>\n<style scoped>\n    .dataframe tbody tr th:only-of-type {\n        vertical-align: middle;\n    }\n\n    .dataframe tbody tr th {\n        vertical-align: top;\n    }\n\n    .dataframe thead th {\n        text-align: right;\n    }\n</style>\n<table border=\"1\" class=\"dataframe\">\n  <thead>\n    <tr style=\"text-align: right;\">\n      <th></th>\n      <th>emp.var.rate</th>\n      <th>cons.price.idx</th>\n      <th>cons.conf.idx</th>\n      <th>euribor3m</th>\n      <th>nr.employed</th>\n    </tr>\n  </thead>\n  <tbody>\n    <tr>\n      <th>count</th>\n      <td>41188.000000</td>\n      <td>41188.000000</td>\n      <td>41188.000000</td>\n      <td>41188.000000</td>\n      <td>41188.000000</td>\n    </tr>\n    <tr>\n      <th>mean</th>\n      <td>0.081886</td>\n      <td>93.575664</td>\n      <td>-40.502600</td>\n      <td>3.621291</td>\n      <td>5167.035911</td>\n    </tr>\n    <tr>\n      <th>std</th>\n      <td>1.570960</td>\n      <td>0.578840</td>\n      <td>4.628198</td>\n      <td>1.734447</td>\n      <td>72.251528</td>\n    </tr>\n    <tr>\n      <th>min</th>\n      <td>-3.400000</td>\n      <td>92.201000</td>\n      <td>-50.800000</td>\n      <td>0.634000</td>\n      <td>4963.600000</td>\n    </tr>\n    <tr>\n      <th>25%</th>\n      <td>-1.800000</td>\n      <td>93.075000</td>\n      <td>-42.700000</td>\n      <td>1.344000</td>\n      <td>5099.100000</td>\n    </tr>\n    <tr>\n      <th>50%</th>\n      <td>1.100000</td>\n      <td>93.749000</td>\n      <td>-41.800000</td>\n      <td>4.857000</td>\n      <td>5191.000000</td>\n    </tr>\n    <tr>\n      <th>75%</th>\n      <td>1.400000</td>\n      <td>93.994000</td>\n      <td>-36.400000</td>\n      <td>4.961000</td>\n      <td>5228.100000</td>\n    </tr>\n    <tr>\n      <th>max</th>\n      <td>1.400000</td>\n      <td>94.767000</td>\n      <td>-26.900000</td>\n      <td>5.045000</td>\n      <td>5228.100000</td>\n    </tr>\n  </tbody>\n</table>\n</div>"
     },
     "execution_count": 4,
     "metadata": {},
     "output_type": "execute_result"
    }
   ],
   "source": [
    "data = pd.read_csv(\"./data/training2.csv\", sep=';', index_col='id')\n",
    "print(\"data.shape(): \", data.shape)\n",
    "print(\"data.columns:\", data.columns)\n",
    "data.describe()"
   ],
   "metadata": {
    "collapsed": false,
    "pycharm": {
     "name": "#%%\n"
    }
   }
  },
  {
   "cell_type": "code",
   "execution_count": 13,
   "outputs": [
    {
     "name": "stdout",
     "output_type": "stream",
     "text": [
      "age  has [ 81 ] different values, please create features yourself!\n",
      "please notice here are some seldom_indexes:  Index(['64', '20', '62', '71', '66', '63', '65', '70', '19', '68', '72', '69',\n",
      "       '73', '74', '78', '67', '18', '80', '76', '75', '81', '77', '82', '88',\n",
      "       '83', '85', '79', '84', '86', '17', '92', '89', '91', '98', '94', '95',\n",
      "       '87'],\n",
      "      dtype='object')\n",
      "\n",
      "\n",
      "\n",
      "job  has [ 14 ] different values, please create features yourself!\n",
      "please notice here are some seldom_indexes:  Index([], dtype='object')\n",
      "\n",
      "\n",
      "\n",
      "married     18811\n",
      "single       8751\n",
      "divorced     3447\n",
      "-            2614\n",
      ".            1869\n",
      "?            1466\n",
      "Name: marital, dtype: int64\n",
      "use following code to generate features from label mapping:\n",
      "marital_mapping = {'married': 0, 'single': 1, 'divorced': 2, '-': 3, '.': 4, '?': 5}\n",
      "#TODO: add your logic to handle None\n",
      "data_marital = one_hot_encoder_column(data, 'marital', marital_mapping, fill_na=99)\n",
      "\n",
      "\n",
      "\n",
      "university.degree      9091\n",
      "high.school            7191\n",
      "basic.9y               4542\n",
      "professional.course    3954\n",
      "basic.4y               3109\n",
      "-                      2603\n",
      ".                      1912\n",
      "basic.6y               1706\n",
      "?                      1444\n",
      "illiterate               15\n",
      "Name: education, dtype: int64\n",
      "use following code to generate features from label mapping:\n",
      "education_mapping = {'university.degree': 0, 'high.school': 1, 'basic.9y': 2, 'professional.course': 3, 'basic.4y': 4, '-': 5, '.': 6, 'basic.6y': 7, '?': 8, 'illiterate': 9}\n",
      "#TODO: add your logic to handle None\n",
      "data_education = one_hot_encoder_column(data, 'education', education_mapping, fill_na=99)\n",
      "\n",
      "\n",
      "\n",
      "no     24339\n",
      "-       2620\n",
      ".       1911\n",
      "?       1410\n",
      "yes        2\n",
      "Name: default, dtype: int64\n",
      "use following code to generate features from label mapping:\n",
      "default_mapping = {'no': 0, '-': 1, '.': 2, '?': 3, 'yes': 4}\n",
      "#TODO: add your logic to handle None\n",
      "data_default = one_hot_encoder_column(data, 'default', default_mapping, fill_na=99)\n",
      "\n",
      "\n",
      "\n",
      "yes    16189\n",
      "no     13946\n",
      "-       2616\n",
      ".       1994\n",
      "?       1422\n",
      "Name: housing, dtype: int64\n",
      "use following code to generate features from label mapping:\n",
      "housing_mapping = {'yes': 0, 'no': 1, '-': 2, '.': 3, '?': 4}\n",
      "#TODO: add your logic to handle None\n",
      "data_housing = one_hot_encoder_column(data, 'housing', housing_mapping, fill_na=99)\n",
      "\n",
      "\n",
      "\n",
      "no     25448\n",
      "yes     4705\n",
      "-       2592\n",
      ".       1932\n",
      "?       1461\n",
      "Name: loan, dtype: int64\n",
      "use following code to generate features from label mapping:\n",
      "loan_mapping = {'no': 0, 'yes': 1, '-': 2, '.': 3, '?': 4}\n",
      "#TODO: add your logic to handle None\n",
      "data_loan = one_hot_encoder_column(data, 'loan', loan_mapping, fill_na=99)\n",
      "\n",
      "\n",
      "\n",
      "cellular     19622\n",
      "telephone    11415\n",
      "-             2521\n",
      ".             1936\n",
      "?             1429\n",
      "Name: contact, dtype: int64\n",
      "use following code to generate features from label mapping:\n",
      "contact_mapping = {'cellular': 0, 'telephone': 1, '-': 2, '.': 3, '?': 4}\n",
      "#TODO: add your logic to handle None\n",
      "data_contact = one_hot_encoder_column(data, 'contact', contact_mapping, fill_na=99)\n",
      "\n",
      "\n",
      "\n",
      "month  has [ 13 ] different values, please create features yourself!\n",
      "please notice here are some seldom_indexes:  Index(['dec'], dtype='object')\n",
      "\n",
      "\n",
      "\n",
      "thu    6469\n",
      "mon    6368\n",
      "tue    6084\n",
      "wed    6006\n",
      "fri    5888\n",
      "-      2653\n",
      ".      1962\n",
      "?      1448\n",
      "Name: day_of_week, dtype: int64\n",
      "use following code to generate features from label mapping:\n",
      "day_of_week_mapping = {'thu': 0, 'mon': 1, 'tue': 2, 'wed': 3, 'fri': 4, '-': 5, '.': 6, '?': 7}\n",
      "#TODO: add your logic to handle None\n",
      "data_day_of_week = one_hot_encoder_column(data, 'day_of_week', day_of_week_mapping, fill_na=99)\n",
      "\n",
      "\n",
      "\n",
      "duration  has [ 1442 ] different values, please create features yourself!\n",
      "please notice here are some seldom_indexes:  Index(['1254', '982', '965', '846', '1037', '950', '1005', '743', '1049',\n",
      "       '1055',\n",
      "       ...\n",
      "       '2', '1468', '2028', '2926', '1152', '2203', '1237', '1618', '1665',\n",
      "       '1202'],\n",
      "      dtype='object', length=483)\n",
      "\n",
      "\n",
      "\n",
      "campaign  has [ 43 ] different values, please create features yourself!\n",
      "please notice here are some seldom_indexes:  Index(['12', '13', '14', '17', '16', '15', '20', '18', '21', '19', '23', '22',\n",
      "       '24', '27', '26', '29', '28', '25', '30', '35', '31', '34', '32', '33',\n",
      "       '43', '56', '37', '41', '39'],\n",
      "      dtype='object')\n",
      "\n",
      "\n",
      "\n",
      "pdays  has [ 28 ] different values, please create features yourself!\n",
      "please notice here are some seldom_indexes:  Index(['4', '2', '7', '9', '12', '10', '5', '13', '1', '11', '15', '8', '14',\n",
      "       '0', '16', '18', '17', '19', '22', '26', '20', '27'],\n",
      "      dtype='object')\n",
      "\n",
      "\n",
      "\n",
      "0    26475\n",
      "1     3421\n",
      "-     2646\n",
      ".     2010\n",
      "?     1442\n",
      "2      535\n",
      "3      180\n",
      "4       56\n",
      "5       13\n",
      "6        4\n",
      "Name: previous, dtype: int64\n",
      "use following code to generate features from label mapping:\n",
      "previous_mapping = {'0': 0, '1': 1, '-': 2, '.': 3, '?': 4, '2': 5, '3': 6, '4': 7, '5': 8, '6': 9}\n",
      "#TODO: add your logic to handle None\n",
      "data_previous = one_hot_encoder_column(data, 'previous', previous_mapping, fill_na=99)\n",
      "\n",
      "\n",
      "\n",
      "nonexistent    26745\n",
      "failure         3189\n",
      "-               2469\n",
      ".               1941\n",
      "?               1482\n",
      "success         1035\n",
      "Name: poutcome, dtype: int64\n",
      "use following code to generate features from label mapping:\n",
      "poutcome_mapping = {'nonexistent': 0, 'failure': 1, '-': 2, '.': 3, '?': 4, 'success': 5}\n",
      "#TODO: add your logic to handle None\n",
      "data_poutcome = one_hot_encoder_column(data, 'poutcome', poutcome_mapping, fill_na=99)\n",
      "\n",
      "\n",
      "\n",
      "emp.var.rate  is numeric column:\n",
      "count    41188.000000\n",
      "mean         0.081886\n",
      "std          1.570960\n",
      "min         -3.400000\n",
      "25%         -1.800000\n",
      "50%          1.100000\n",
      "75%          1.400000\n",
      "max          1.400000\n",
      "Name: emp.var.rate, dtype: float64\n",
      "\n",
      "\n",
      "\n",
      "cons.price.idx  is numeric column:\n",
      "count    41188.000000\n",
      "mean        93.575664\n",
      "std          0.578840\n",
      "min         92.201000\n",
      "25%         93.075000\n",
      "50%         93.749000\n",
      "75%         93.994000\n",
      "max         94.767000\n",
      "Name: cons.price.idx, dtype: float64\n",
      "\n",
      "\n",
      "\n",
      "cons.conf.idx  is numeric column:\n",
      "count    41188.000000\n",
      "mean       -40.502600\n",
      "std          4.628198\n",
      "min        -50.800000\n",
      "25%        -42.700000\n",
      "50%        -41.800000\n",
      "75%        -36.400000\n",
      "max        -26.900000\n",
      "Name: cons.conf.idx, dtype: float64\n",
      "\n",
      "\n",
      "\n",
      "euribor3m  is numeric column:\n",
      "count    41188.000000\n",
      "mean         3.621291\n",
      "std          1.734447\n",
      "min          0.634000\n",
      "25%          1.344000\n",
      "50%          4.857000\n",
      "75%          4.961000\n",
      "max          5.045000\n",
      "Name: euribor3m, dtype: float64\n",
      "\n",
      "\n",
      "\n",
      "nr.employed  is numeric column:\n",
      "count    41188.000000\n",
      "mean      5167.035911\n",
      "std         72.251528\n",
      "min       4963.600000\n",
      "25%       5099.100000\n",
      "50%       5191.000000\n",
      "75%       5228.100000\n",
      "max       5228.100000\n",
      "Name: nr.employed, dtype: float64\n",
      "\n",
      "\n",
      "\n",
      "no     36548\n",
      "yes     4640\n",
      "Name: y, dtype: int64\n",
      "use following code to generate features from label mapping:\n",
      "y_mapping = {'no': 0, 'yes': 1}\n",
      "#TODO: add your logic to handle None\n",
      "data_y = one_hot_encoder_column(data, 'y', y_mapping, fill_na=99)\n",
      "\n",
      "\n",
      "\n"
     ]
    },
    {
     "data": {
      "text/plain": "<Figure size 432x288 with 1 Axes>",
      "image/png": "[encoded data removed]"
     },
     "metadata": {
      "needs_background": "light"
     },
     "output_type": "display_data"
    },
    {
     "data": {
      "text/plain": "<Figure size 432x288 with 1 Axes>",
      "image/png": "[encoded data removed]"
     },
     "metadata": {
      "needs_background": "light"
     },
     "output_type": "display_data"
    },
    {
     "data": {
      "text/plain": "<Figure size 432x288 with 1 Axes>",
      "image/png": "[encoded data removed]"
     },
     "metadata": {
      "needs_background": "light"
     },
     "output_type": "display_data"
    },
    {
     "data": {
      "text/plain": "<Figure size 432x288 with 1 Axes>",
      "image/png": "[encoded data removed]"
     },
     "metadata": {
      "needs_background": "light"
     },
     "output_type": "display_data"
    },
    {
     "data": {
      "text/plain": "<Figure size 432x288 with 1 Axes>",
      "image/png": "[encoded data removed]"
     },
     "metadata": {
      "needs_background": "light"
     },
     "output_type": "display_data"
    },
    {
     "data": {
      "text/plain": "<Figure size 432x288 with 1 Axes>",
      "image/png": "[encoded data removed]"
     },
     "metadata": {
      "needs_background": "light"
     },
     "output_type": "display_data"
    },
    {
     "data": {
      "text/plain": "<Figure size 432x288 with 1 Axes>",
      "image/png": "[encoded data removed]"
     },
     "metadata": {
      "needs_background": "light"
     },
     "output_type": "display_data"
    },
    {
     "data": {
      "text/plain": "<Figure size 432x288 with 1 Axes>",
      "image/png": "[encoded data removed]"
     },
     "metadata": {
      "needs_background": "light"
     },
     "output_type": "display_data"
    },
    {
     "data": {
      "text/plain": "<Figure size 432x288 with 1 Axes>",
      "image/png": "[encoded data removed]"
     },
     "metadata": {
      "needs_background": "light"
     },
     "output_type": "display_data"
    },
    {
     "data": {
      "text/plain": "<Figure size 432x288 with 1 Axes>",
      "image/png": "[encoded data removed]"
     },
     "metadata": {
      "needs_background": "light"
     },
     "output_type": "display_data"
    }
   ],
   "source": [
    "object_feature_helper(data)"
   ],
   "metadata": {
    "collapsed": false,
    "pycharm": {
     "name": "#%%\n"
    }
   }
  },
  {
   "cell_type": "code",
   "execution_count": 5,
   "outputs": [
    {
     "data": {
      "text/plain": "<AxesSubplot:>"
     },
     "execution_count": 5,
     "metadata": {},
     "output_type": "execute_result"
    },
    {
     "data": {
      "text/plain": "<Figure size 432x288 with 1 Axes>",
      "image/png": "[encoded data removed]"
     },
     "metadata": {
      "needs_background": "light"
     },
     "output_type": "display_data"
    }
   ],
   "source": [
    "data_age = data['age'].apply(lambda age: age_to_int(age))\n",
    "data_age.value_counts().sort_index().plot(kind='bar')"
   ],
   "metadata": {
    "collapsed": false,
    "pycharm": {
     "name": "#%%\n"
    }
   }
  },
  {
   "cell_type": "code",
   "execution_count": 6,
   "outputs": [
    {
     "data": {
      "text/plain": "       job_0  job_1  job_2  job_3  job_4  job_5\nid                                             \n1        0.0    0.0    0.0    1.0    0.0    0.0\n2        0.0    0.0    1.0    0.0    0.0    0.0\n3        0.0    0.0    1.0    0.0    0.0    0.0\n4        0.0    0.0    0.0    0.0    0.0    0.0\n5        0.0    0.0    1.0    0.0    0.0    0.0\n...      ...    ...    ...    ...    ...    ...\n41184    0.0    0.0    0.0    0.0    1.0    0.0\n41185    1.0    0.0    0.0    0.0    0.0    0.0\n41186    0.0    0.0    0.0    0.0    1.0    0.0\n41187    0.0    1.0    0.0    0.0    0.0    0.0\n41188    0.0    0.0    0.0    0.0    1.0    0.0\n\n[41188 rows x 6 columns]",
      "text/html": "<div>\n<style scoped>\n    .dataframe tbody tr th:only-of-type {\n        vertical-align: middle;\n    }\n\n    .dataframe tbody tr th {\n        vertical-align: top;\n    }\n\n    .dataframe thead th {\n        text-align: right;\n    }\n</style>\n<table border=\"1\" class=\"dataframe\">\n  <thead>\n    <tr style=\"text-align: right;\">\n      <th></th>\n      <th>job_0</th>\n      <th>job_1</th>\n      <th>job_2</th>\n      <th>job_3</th>\n      <th>job_4</th>\n      <th>job_5</th>\n    </tr>\n    <tr>\n      <th>id</th>\n      <th></th>\n      <th></th>\n      <th></th>\n      <th></th>\n      <th></th>\n      <th></th>\n    </tr>\n  </thead>\n  <tbody>\n    <tr>\n      <th>1</th>\n      <td>0.0</td>\n      <td>0.0</td>\n      <td>0.0</td>\n      <td>1.0</td>\n      <td>0.0</td>\n      <td>0.0</td>\n    </tr>\n    <tr>\n      <th>2</th>\n      <td>0.0</td>\n      <td>0.0</td>\n      <td>1.0</td>\n      <td>0.0</td>\n      <td>0.0</td>\n      <td>0.0</td>\n    </tr>\n    <tr>\n      <th>3</th>\n      <td>0.0</td>\n      <td>0.0</td>\n      <td>1.0</td>\n      <td>0.0</td>\n      <td>0.0</td>\n      <td>0.0</td>\n    </tr>\n    <tr>\n      <th>4</th>\n      <td>0.0</td>\n      <td>0.0</td>\n      <td>0.0</td>\n      <td>0.0</td>\n      <td>0.0</td>\n      <td>0.0</td>\n    </tr>\n    <tr>\n      <th>5</th>\n      <td>0.0</td>\n      <td>0.0</td>\n      <td>1.0</td>\n      <td>0.0</td>\n      <td>0.0</td>\n      <td>0.0</td>\n    </tr>\n    <tr>\n      <th>...</th>\n      <td>...</td>\n      <td>...</td>\n      <td>...</td>\n      <td>...</td>\n      <td>...</td>\n      <td>...</td>\n    </tr>\n    <tr>\n      <th>41184</th>\n      <td>0.0</td>\n      <td>0.0</td>\n      <td>0.0</td>\n      <td>0.0</td>\n      <td>1.0</td>\n      <td>0.0</td>\n    </tr>\n    <tr>\n      <th>41185</th>\n      <td>1.0</td>\n      <td>0.0</td>\n      <td>0.0</td>\n      <td>0.0</td>\n      <td>0.0</td>\n      <td>0.0</td>\n    </tr>\n    <tr>\n      <th>41186</th>\n      <td>0.0</td>\n      <td>0.0</td>\n      <td>0.0</td>\n      <td>0.0</td>\n      <td>1.0</td>\n      <td>0.0</td>\n    </tr>\n    <tr>\n      <th>41187</th>\n      <td>0.0</td>\n      <td>1.0</td>\n      <td>0.0</td>\n      <td>0.0</td>\n      <td>0.0</td>\n      <td>0.0</td>\n    </tr>\n    <tr>\n      <th>41188</th>\n      <td>0.0</td>\n      <td>0.0</td>\n      <td>0.0</td>\n      <td>0.0</td>\n      <td>1.0</td>\n      <td>0.0</td>\n    </tr>\n  </tbody>\n</table>\n<p>41188 rows × 6 columns</p>\n</div>"
     },
     "execution_count": 6,
     "metadata": {},
     "output_type": "execute_result"
    }
   ],
   "source": [
    "job_mapping = {'admin.': 0, 'blue-collar': 1, 'technician': 2, 'services': 3, '-': 99, 'management': 0, '.': 99,\n",
    "               '?': 99, 'retired': 11, 'entrepreneur': 0, 'self-employed': 10, 'unemployed': 11, 'housemaid': 10,\n",
    "               'student': 11}\n",
    "data_job, job_ohe = one_hot_encoder_column(data, 'job', job_mapping, fill_na=99)"
   ],
   "metadata": {
    "collapsed": false,
    "pycharm": {
     "name": "#%%\n"
    }
   }
  },
  {
   "cell_type": "code",
   "execution_count": 7,
   "outputs": [
    {
     "data": {
      "text/plain": "<AxesSubplot:>"
     },
     "execution_count": 7,
     "metadata": {},
     "output_type": "execute_result"
    },
    {
     "data": {
      "text/plain": "<Figure size 432x288 with 1 Axes>",
      "image/png": "[encoded data removed]"
     },
     "metadata": {
      "needs_background": "light"
     },
     "output_type": "display_data"
    }
   ],
   "source": [
    "marital_mapping = {'married': 0, 'single': 1, 'divorced': 1, '-': 1, '.': 1, '?': 1}\n",
    "data_marital = data['marital'].apply(lambda marital: 0 if marital == 'married' else 1)\n",
    "\n",
    "data_marital.value_counts().sort_index().plot(kind='bar')"
   ],
   "metadata": {
    "collapsed": false,
    "pycharm": {
     "name": "#%%\n"
    }
   }
  },
  {
   "cell_type": "code",
   "execution_count": 8,
   "outputs": [
    {
     "data": {
      "text/plain": "<AxesSubplot:>"
     },
     "execution_count": 8,
     "metadata": {},
     "output_type": "execute_result"
    },
    {
     "data": {
      "text/plain": "<Figure size 432x288 with 1 Axes>",
      "image/png": "[encoded data removed]"
     },
     "metadata": {
      "needs_background": "light"
     },
     "output_type": "display_data"
    }
   ],
   "source": [
    "education_mapping = {'university.degree': 2, 'high.school': 1, 'basic.9y': 0, 'professional.course': 3, 'basic.4y': 0, '-': 0, '.': 0, 'basic.6y': 0, '?': 0, 'illiterate': 0, 0: 0}\n",
    "data['education'] = data['education'].fillna(0)\n",
    "data_education = data['education'].apply(lambda edu: education_mapping[edu])\n",
    "data_education.value_counts().sort_index().plot(kind='bar')\n"
   ],
   "metadata": {
    "collapsed": false,
    "pycharm": {
     "name": "#%%\n"
    }
   }
  },
  {
   "cell_type": "code",
   "execution_count": 9,
   "outputs": [],
   "source": [
    "housing_mapping = {'yes': 0, 'no': 1, '-': 0, '.': 0, '?': 0, 0:0}\n",
    "data_housing, housing_ohe = one_hot_encoder_column(data, 'housing', housing_mapping, fill_na=99)\n",
    "data_housing = pd.DataFrame(data_housing)"
   ],
   "metadata": {
    "collapsed": false,
    "pycharm": {
     "name": "#%%\n"
    }
   }
  },
  {
   "cell_type": "code",
   "execution_count": 10,
   "outputs": [],
   "source": [
    "contact_mapping = {'cellular': 0, 'telephone': 1, '-': 2, '.': 2, '?': 2}\n",
    "data_contact, contact_ohe = one_hot_encoder_column(data, 'contact', contact_mapping, fill_na=99)\n",
    "data_contact = pd.DataFrame(data_contact)"
   ],
   "metadata": {
    "collapsed": false,
    "pycharm": {
     "name": "#%%\n"
    }
   }
  },
  {
   "cell_type": "code",
   "execution_count": 11,
   "outputs": [],
   "source": [
    "day_of_week_mapping = {'thu': 0, 'mon': 1, 'tue': 2, 'wed': 3, 'fri': 4, '-': 5, '.': 5, '?': 5}\n",
    "data_day_of_week, day_of_week_mapping_ohe = one_hot_encoder_column(data, 'day_of_week', day_of_week_mapping, fill_na=99)\n",
    "data_day_of_week = pd.DataFrame(data_day_of_week)"
   ],
   "metadata": {
    "collapsed": false,
    "pycharm": {
     "name": "#%%\n"
    }
   }
  },
  {
   "cell_type": "code",
   "execution_count": 12,
   "outputs": [],
   "source": [
    "data_duration = data['duration'].fillna(0)\n",
    "data_duration[data_duration == '-'] = '0'\n",
    "data_duration[data_duration == '.'] = '0'\n",
    "data_duration[data_duration == '?'] = '0'\n",
    "data_duration = data_duration.astype(int)"
   ],
   "metadata": {
    "collapsed": false,
    "pycharm": {
     "name": "#%%\n"
    }
   }
  },
  {
   "cell_type": "code",
   "execution_count": 13,
   "outputs": [],
   "source": [
    "data['campaign'].value_counts()\n",
    "data_campaign = data['campaign'].fillna(0)\n",
    "data_campaign[data_campaign == '-'] = '0'\n",
    "data_campaign[data_campaign == '.'] = '0'\n",
    "data_campaign[data_campaign == '?'] = '0'\n",
    "data_campaign = data_campaign.astype(int)"
   ],
   "metadata": {
    "collapsed": false,
    "pycharm": {
     "name": "#%%\n"
    }
   }
  },
  {
   "cell_type": "code",
   "execution_count": 14,
   "outputs": [
    {
     "data": {
      "text/plain": "999    40091\n3        324\n6        301\n4         82\n2         50\n7         47\n9         40\n12        37\n10        35\n5         31\n13        27\n1         23\n11        19\n15        19\n8         14\n14        14\n0          9\n16         7\n18         7\n17         3\n19         3\n22         2\n20         1\n26         1\n27         1\nName: pdays, dtype: int64"
     },
     "execution_count": 14,
     "metadata": {},
     "output_type": "execute_result"
    }
   ],
   "source": [
    "data['pdays'].value_counts()\n",
    "non_values = ['-', '.', '?']\n",
    "data_pdays = data['pdays'].fillna(999)\n",
    "data_pdays[data_pdays.isin(non_values)] = 999\n",
    "data_pdays = data_pdays.astype(int)\n",
    "data_pdays.value_counts()"
   ],
   "metadata": {
    "collapsed": false,
    "pycharm": {
     "name": "#%%\n"
    }
   }
  },
  {
   "cell_type": "code",
   "execution_count": 15,
   "outputs": [
    {
     "data": {
      "text/plain": "0    36979\n1     3421\n2      535\n3      180\n4       56\n5       13\n6        4\nName: previous, dtype: int64"
     },
     "execution_count": 15,
     "metadata": {},
     "output_type": "execute_result"
    }
   ],
   "source": [
    "data_previous = fill_na(data['previous'], non_list=non_values, na_value=0)\n",
    "data_previous.value_counts()"
   ],
   "metadata": {
    "collapsed": false,
    "pycharm": {
     "name": "#%%\n"
    }
   }
  },
  {
   "cell_type": "code",
   "execution_count": 16,
   "outputs": [
    {
     "data": {
      "text/plain": "       poutcome_0  poutcome_1\nid                           \n1             0.0         0.0\n2             0.0         0.0\n3             0.0         0.0\n4             0.0         0.0\n5             0.0         0.0\n...           ...         ...\n41184         0.0         0.0\n41185         0.0         0.0\n41186         0.0         0.0\n41187         0.0         0.0\n41188         1.0         0.0\n\n[41188 rows x 2 columns]",
      "text/html": "<div>\n<style scoped>\n    .dataframe tbody tr th:only-of-type {\n        vertical-align: middle;\n    }\n\n    .dataframe tbody tr th {\n        vertical-align: top;\n    }\n\n    .dataframe thead th {\n        text-align: right;\n    }\n</style>\n<table border=\"1\" class=\"dataframe\">\n  <thead>\n    <tr style=\"text-align: right;\">\n      <th></th>\n      <th>poutcome_0</th>\n      <th>poutcome_1</th>\n    </tr>\n    <tr>\n      <th>id</th>\n      <th></th>\n      <th></th>\n    </tr>\n  </thead>\n  <tbody>\n    <tr>\n      <th>1</th>\n      <td>0.0</td>\n      <td>0.0</td>\n    </tr>\n    <tr>\n      <th>2</th>\n      <td>0.0</td>\n      <td>0.0</td>\n    </tr>\n    <tr>\n      <th>3</th>\n      <td>0.0</td>\n      <td>0.0</td>\n    </tr>\n    <tr>\n      <th>4</th>\n      <td>0.0</td>\n      <td>0.0</td>\n    </tr>\n    <tr>\n      <th>5</th>\n      <td>0.0</td>\n      <td>0.0</td>\n    </tr>\n    <tr>\n      <th>...</th>\n      <td>...</td>\n      <td>...</td>\n    </tr>\n    <tr>\n      <th>41184</th>\n      <td>0.0</td>\n      <td>0.0</td>\n    </tr>\n    <tr>\n      <th>41185</th>\n      <td>0.0</td>\n      <td>0.0</td>\n    </tr>\n    <tr>\n      <th>41186</th>\n      <td>0.0</td>\n      <td>0.0</td>\n    </tr>\n    <tr>\n      <th>41187</th>\n      <td>0.0</td>\n      <td>0.0</td>\n    </tr>\n    <tr>\n      <th>41188</th>\n      <td>1.0</td>\n      <td>0.0</td>\n    </tr>\n  </tbody>\n</table>\n<p>41188 rows × 2 columns</p>\n</div>"
     },
     "execution_count": 16,
     "metadata": {},
     "output_type": "execute_result"
    }
   ],
   "source": [
    "poutcome_mapping = {'nonexistent': 0, 'failure': 1, '-': 0, '.': 0, '?': 0, 'success': 2}\n",
    "data_poutcome, poutcome_ohe = one_hot_encoder_column(data, 'poutcome', poutcome_mapping, fill_na=0)\n",
    "data_poutcome = pd.DataFrame(data_poutcome)\n",
    "\n",
    "data_poutcome"
   ],
   "metadata": {
    "collapsed": false,
    "pycharm": {
     "name": "#%%\n"
    }
   }
  },
  {
   "cell_type": "code",
   "execution_count": 17,
   "outputs": [],
   "source": [
    "from sklearn.preprocessing import StandardScaler\n",
    "data_emp_var_rate = data['emp.var.rate']\n",
    "data_cons_price_idx = data['cons.price.idx']\n",
    "data_cons_conf_idx = data['cons.conf.idx']\n",
    "data_euribor3m = data['euribor3m']\n",
    "data_nr_employed = data['nr.employed']"
   ],
   "metadata": {
    "collapsed": false,
    "pycharm": {
     "name": "#%%\n"
    }
   }
  },
  {
   "cell_type": "code",
   "execution_count": 21,
   "outputs": [],
   "source": [
    "data_y = data['y'].apply(lambda y: 1 if y=='yes' else 0)"
   ],
   "metadata": {
    "collapsed": false,
    "pycharm": {
     "name": "#%%\n"
    }
   }
  },
  {
   "cell_type": "code",
   "execution_count": 22,
   "outputs": [],
   "source": [
    "data_all = pd.concat([data_age, data_job, data_marital, data_education, data_housing, data_contact, data_day_of_week,\n",
    "                      data_duration, data_campaign, data_pdays, data_previous, data_poutcome, data_y], axis=1)\n",
    "\n",
    "data_all.to_csv(\"./data/features2_all.csv\")"
   ],
   "metadata": {
    "collapsed": false,
    "pycharm": {
     "name": "#%%\n"
    }
   }
  }
 ],
 "metadata": {
  "kernelspec": {
   "display_name": "Python 3",
   "language": "python",
   "name": "python3"
  },
  "language_info": {
   "codemirror_mode": {
    "name": "ipython",
    "version": 2
   },
   "file_extension": ".py",
   "mimetype": "text/x-python",
   "name": "python",
   "nbconvert_exporter": "python",
   "pygments_lexer": "ipython2",
   "version": "2.7.6"
  }
 },
 "nbformat": 4,
 "nbformat_minor": 0
}
{
 "cells": [
  {
   "cell_type": "code",
   "execution_count": 34,
   "id": "094aa939",
   "metadata": {
    "ExecuteTime": {
     "end_time": "2021-10-09T06:30:14.168049Z",
     "start_time": "2021-10-09T06:30:14.160271Z"
    }
   },
   "outputs": [],
   "source": [
    "import numpy as np\n",
    "import pandas as pd\n",
    "from pandas import DataFrame, Series\n",
    "import datetime\n",
    "\n",
    "pd.set_option('display.notebook_repr_html', False)\n",
    "pd.set_option('display.max_columns', 10)\n",
    "pd.set_option('display.max_rows', 10)\n",
    "\n",
    "%matplotlib inline\n",
    "import matplotlib.pyplot as plt\n",
    "# pd.options.display.mpl_style = 'default'"
   ]
  },
  {
   "cell_type": "markdown",
   "id": "300907ad",
   "metadata": {},
   "source": [
    "# A Tour of Pandas"
   ]
  },
  {
   "cell_type": "markdown",
   "id": "dd4cfe54",
   "metadata": {},
   "source": [
    "## The pandas Series Object"
   ]
  },
  {
   "cell_type": "code",
   "execution_count": 10,
   "id": "5cac761a",
   "metadata": {
    "ExecuteTime": {
     "end_time": "2021-10-08T03:27:26.651792Z",
     "start_time": "2021-10-08T03:27:26.642836Z"
    }
   },
   "outputs": [
    {
     "name": "stdout",
     "output_type": "stream",
     "text": [
      "Create a Series Object:\n",
      " 0    1\n",
      "1    2\n",
      "2    3\n",
      "3    4\n",
      "dtype: int64\n"
     ]
    }
   ],
   "source": [
    "s = Series([1,2,3,4])\n",
    "print(\"Create a Series Object:\\n\", s)"
   ]
  },
  {
   "cell_type": "code",
   "execution_count": 11,
   "id": "d541706b",
   "metadata": {
    "ExecuteTime": {
     "end_time": "2021-10-08T03:27:33.856535Z",
     "start_time": "2021-10-08T03:27:33.850750Z"
    }
   },
   "outputs": [
    {
     "name": "stdout",
     "output_type": "stream",
     "text": [
      "return a Series with the rows with labels 1 and 3\n",
      " 1    2\n",
      "3    4\n",
      "dtype: int64\n"
     ]
    }
   ],
   "source": [
    "print(\"return a Series with the rows with labels 1 and 3\\n\", s[[1,3]])\n"
   ]
  },
  {
   "cell_type": "code",
   "execution_count": 12,
   "id": "252865f3",
   "metadata": {
    "ExecuteTime": {
     "end_time": "2021-10-08T03:27:41.791633Z",
     "start_time": "2021-10-08T03:27:41.783926Z"
    }
   },
   "outputs": [
    {
     "name": "stdout",
     "output_type": "stream",
     "text": [
      "Create a Series Object with explicit indexes:\n",
      " a    1\n",
      "b    2\n",
      "c    3\n",
      "d    4\n",
      "dtype: int64\n"
     ]
    }
   ],
   "source": [
    "s = Series([1,2,3,4], index = ['a', 'b','c','d'])\n",
    "print(\"Create a Series Object with explicit indexes:\\n\", s)"
   ]
  },
  {
   "cell_type": "code",
   "execution_count": 13,
   "id": "c01901d5",
   "metadata": {
    "ExecuteTime": {
     "end_time": "2021-10-08T03:27:47.352387Z",
     "start_time": "2021-10-08T03:27:47.341819Z"
    }
   },
   "outputs": [
    {
     "name": "stdout",
     "output_type": "stream",
     "text": [
      "lookup items the series having index 'a' and 'd'\n",
      " a    1\n",
      "d    4\n",
      "dtype: int64\n"
     ]
    }
   ],
   "source": [
    "print(\"lookup items the series having index 'a' and 'd'\\n\", s[['a', 'd']]) "
   ]
  },
  {
   "cell_type": "code",
   "execution_count": 14,
   "id": "0cf3121f",
   "metadata": {
    "ExecuteTime": {
     "end_time": "2021-10-08T03:28:17.967039Z",
     "start_time": "2021-10-08T03:28:17.961946Z"
    }
   },
   "outputs": [
    {
     "name": "stdout",
     "output_type": "stream",
     "text": [
      "get only the index of the series: Index(['a', 'b', 'c', 'd'], dtype='object')\n"
     ]
    }
   ],
   "source": [
    "print(\"get only the index of the series:\", s.index)"
   ]
  },
  {
   "cell_type": "code",
   "execution_count": 15,
   "id": "d9c03b38",
   "metadata": {
    "ExecuteTime": {
     "end_time": "2021-10-08T05:29:39.216039Z",
     "start_time": "2021-10-08T05:29:39.187063Z"
    }
   },
   "outputs": [
    {
     "name": "stdout",
     "output_type": "stream",
     "text": [
      "create a Series who's index is a series of dates between two specified dates:\n",
      " DatetimeIndex(['2014-07-01', '2014-07-02', '2014-07-03', '2014-07-04',\n",
      "               '2014-07-05', '2014-07-06'],\n",
      "              dtype='datetime64[ns]', freq='D')\n"
     ]
    }
   ],
   "source": [
    "dates = pd.date_range('2014-07-01', '2014-07-06')\n",
    "print('create a Series who\\'s index is a series of dates between two specified dates:\\n', dates)"
   ]
  },
  {
   "cell_type": "code",
   "execution_count": 17,
   "id": "58875c53",
   "metadata": {
    "ExecuteTime": {
     "end_time": "2021-10-08T05:30:44.271166Z",
     "start_time": "2021-10-08T05:30:44.260902Z"
    }
   },
   "outputs": [
    {
     "name": "stdout",
     "output_type": "stream",
     "text": [
      "create a Series with values for each date in the index:\n",
      " 2014-07-01    80\n",
      "2014-07-02    82\n",
      "2014-07-03    85\n",
      "2014-07-04    90\n",
      "2014-07-05    83\n",
      "2014-07-06    87\n",
      "Freq: D, dtype: int64\n"
     ]
    }
   ],
   "source": [
    "temps1 = Series([80, 82, 85, 90, 83, 87], index = dates)\n",
    "print('create a Series with values for each date in the index:\\n', temps1)"
   ]
  },
  {
   "cell_type": "markdown",
   "id": "15f52ca4",
   "metadata": {},
   "source": [
    "## DataFrame"
   ]
  },
  {
   "cell_type": "code",
   "execution_count": 20,
   "id": "0aee1c0e",
   "metadata": {
    "ExecuteTime": {
     "end_time": "2021-10-08T05:34:49.549940Z",
     "start_time": "2021-10-08T05:34:49.532449Z"
    }
   },
   "outputs": [
    {
     "name": "stdout",
     "output_type": "stream",
     "text": [
      "DataFrame from two series:\n",
      "             Missoula  Philadelphia\n",
      "2014-07-01        80            70\n",
      "2014-07-02        82            75\n",
      "2014-07-03        85            69\n",
      "2014-07-04        90            83\n",
      "2014-07-05        83            79\n",
      "2014-07-06        87            77\n"
     ]
    }
   ],
   "source": [
    "temps2 = Series([70, 75, 69, 83, 79, 77], index=dates)\n",
    "\n",
    "temps_df = DataFrame({'Missoula': temps1, 'Philadelphia': temps2})\n",
    "print('DataFrame from two series:\\n', temps_df)"
   ]
  },
  {
   "cell_type": "code",
   "execution_count": 22,
   "id": "068ae232",
   "metadata": {
    "ExecuteTime": {
     "end_time": "2021-10-08T05:37:15.788949Z",
     "start_time": "2021-10-08T05:37:15.778156Z"
    }
   },
   "outputs": [
    {
     "name": "stdout",
     "output_type": "stream",
     "text": [
      "Add a column to temps_df that contains the difference in temps:\n",
      "             Missoula  Philadelphia  Difference\n",
      "2014-07-01        80            70          10\n",
      "2014-07-02        82            75           7\n",
      "2014-07-03        85            69          16\n",
      "2014-07-04        90            83           7\n",
      "2014-07-05        83            79           4\n",
      "2014-07-06        87            77          10\n"
     ]
    }
   ],
   "source": [
    "temps_df['Difference'] = temps1 - temps2\n",
    "print('Add a column to temps_df that contains the difference in temps:\\n', temps_df)"
   ]
  },
  {
   "cell_type": "code",
   "execution_count": 26,
   "id": "ca46c517",
   "metadata": {
    "ExecuteTime": {
     "end_time": "2021-10-08T05:38:21.649797Z",
     "start_time": "2021-10-08T05:38:21.642504Z"
    }
   },
   "outputs": [
    {
     "name": "stdout",
     "output_type": "stream",
     "text": [
      "get the row at array position 1(iloc): Missoula        80\n",
      "Philadelphia    70\n",
      "Difference      10\n",
      "Name: 2014-07-01 00:00:00, dtype: int64\n"
     ]
    }
   ],
   "source": [
    "print('get the row at array position 1(iloc):\\n', temps_df.iloc[0])"
   ]
  },
  {
   "cell_type": "code",
   "execution_count": 28,
   "id": "54ca3845",
   "metadata": {
    "ExecuteTime": {
     "end_time": "2021-10-08T05:39:23.235161Z",
     "start_time": "2021-10-08T05:39:23.228128Z"
    }
   },
   "outputs": [
    {
     "name": "stdout",
     "output_type": "stream",
     "text": [
      "retrieve row by index label using .loc:\n",
      " Missoula        83\n",
      "Philadelphia    79\n",
      "Difference       4\n",
      "Name: 2014-07-05 00:00:00, dtype: int64\n"
     ]
    }
   ],
   "source": [
    "print('retrieve row by index label using .loc:\\n', temps_df.loc['2014-07-05'])"
   ]
  },
  {
   "cell_type": "markdown",
   "id": "97dcb65f",
   "metadata": {},
   "source": [
    "## Read from csv"
   ]
  },
  {
   "cell_type": "code",
   "execution_count": 31,
   "id": "e9cb8103",
   "metadata": {
    "ExecuteTime": {
     "end_time": "2021-10-08T05:43:10.948599Z",
     "start_time": "2021-10-08T05:43:10.932073Z"
    }
   },
   "outputs": [
    {
     "name": "stdout",
     "output_type": "stream",
     "text": [
      "                   0        1        2\n",
      "date                                  \n",
      "2000-01-01  1.103763 -1.90999 -0.98421\n"
     ]
    }
   ],
   "source": [
    "df = pd.read_csv('test.csv', parse_dates=['date'], index_col='date')\n",
    "print(df)"
   ]
  },
  {
   "cell_type": "markdown",
   "id": "03a9d38d",
   "metadata": {},
   "source": [
    "## Using numpy in Pandas"
   ]
  },
  {
   "cell_type": "code",
   "execution_count": 34,
   "id": "5a6ed8cf",
   "metadata": {
    "ExecuteTime": {
     "end_time": "2021-10-08T07:42:50.721960Z",
     "start_time": "2021-10-08T07:42:45.792155Z"
    }
   },
   "outputs": [
    {
     "name": "stdout",
     "output_type": "stream",
     "text": [
      "time consuming using for loop\n",
      "21.9 ms ± 246 µs per loop (mean ± std. dev. of 7 runs, 10 loops each)\n",
      "using numpy vectorized operation\n",
      "37.6 µs ± 379 ns per loop (mean ± std. dev. of 7 runs, 10000 loops each)\n"
     ]
    }
   ],
   "source": [
    "def squares(values):\n",
    "    result = []\n",
    "    for v in values:\n",
    "        result.append(v * v)\n",
    "    return result\n",
    "\n",
    "to_square = range(100000)\n",
    "print(\"time consuming using for loop\")\n",
    "%timeit squares(squares(to_square))\n",
    "array_to_square = np.arange(0, 100000)\n",
    "print(\"using numpy vectorized operation\")\n",
    "%timeit array_to_square ** 2"
   ]
  },
  {
   "cell_type": "code",
   "execution_count": 35,
   "id": "db5cd507",
   "metadata": {
    "ExecuteTime": {
     "end_time": "2021-10-08T07:43:54.732745Z",
     "start_time": "2021-10-08T07:43:54.728297Z"
    }
   },
   "outputs": [
    {
     "name": "stdout",
     "output_type": "stream",
     "text": [
      "shorthand to repeat a sequence 10 times:\n",
      " [0 0 0 0 0 0 0 0 0 0]\n"
     ]
    }
   ],
   "source": [
    "print(\"shorthand to repeat a sequence 10 times:\\n\", np.array([0] * 10))"
   ]
  },
  {
   "cell_type": "code",
   "execution_count": 37,
   "id": "b10b2c3f",
   "metadata": {
    "ExecuteTime": {
     "end_time": "2021-10-08T07:45:17.999991Z",
     "start_time": "2021-10-08T07:45:17.993111Z"
    }
   },
   "outputs": [
    {
     "name": "stdout",
     "output_type": "stream",
     "text": [
      "counting down [10  9  8  7  6  5  4  3  2  1]\n"
     ]
    }
   ],
   "source": [
    "print(\"counting down\", np.arange(10, 0, -1))"
   ]
  },
  {
   "cell_type": "code",
   "execution_count": 38,
   "id": "06e108d9",
   "metadata": {
    "ExecuteTime": {
     "end_time": "2021-10-08T07:45:47.016422Z",
     "start_time": "2021-10-08T07:45:47.009827Z"
    }
   },
   "outputs": [
    {
     "name": "stdout",
     "output_type": "stream",
     "text": [
      "evenly spaced #'s between two intervals:\n",
      "' [ 0.  1.  2.  3.  4.  5.  6.  7.  8.  9. 10.]\n"
     ]
    }
   ],
   "source": [
    "print(\"evenly spaced #'s between two intervals:\\n'\", np.linspace(0, 10, 11))"
   ]
  },
  {
   "cell_type": "code",
   "execution_count": 42,
   "id": "59d5a27e",
   "metadata": {
    "ExecuteTime": {
     "end_time": "2021-10-08T07:48:07.687789Z",
     "start_time": "2021-10-08T07:48:07.679636Z"
    }
   },
   "outputs": [
    {
     "name": "stdout",
     "output_type": "stream",
     "text": [
      "create a function that is applied to all array elements:\n",
      " [ True  True  True False  True  True  True  True  True  True]\n"
     ]
    }
   ],
   "source": [
    "def exp(x):\n",
    "    return x < 3 or x > 3\n",
    "print(\"create a function that is applied to all array elements:\\n\", np.vectorize(exp)(np.arange(0, 10)))"
   ]
  },
  {
   "cell_type": "code",
   "execution_count": 4,
   "id": "6bfe7765",
   "metadata": {
    "ExecuteTime": {
     "end_time": "2021-10-09T02:08:26.861252Z",
     "start_time": "2021-10-09T02:08:26.847764Z"
    }
   },
   "outputs": [
    {
     "name": "stdout",
     "output_type": "stream",
     "text": [
      "Two series added by index,notice there will be four a a    2.0\n",
      "a    3.0\n",
      "a    3.0\n",
      "a    4.0\n",
      "b    NaN\n",
      "c    7.0\n",
      "d    9.0\n",
      "e    NaN\n",
      "dtype: float64\n"
     ]
    }
   ],
   "source": [
    "s10 = pd.Series([1,2,3,4,5], index=(['a', 'a', 'b', 'c', 'd']))\n",
    "s11 = pd.Series([1,2,3,4,5], index=(['a', 'a', 'c', 'd', 'e']))\n",
    "print(\"Two series added by index,notice there will be four a\\n \",s10+s11)"
   ]
  },
  {
   "cell_type": "markdown",
   "id": "ffc27355",
   "metadata": {},
   "source": [
    "## tidying up the data"
   ]
  },
  {
   "cell_type": "code",
   "execution_count": 5,
   "id": "1068d91b",
   "metadata": {
    "ExecuteTime": {
     "end_time": "2021-10-09T05:46:36.778152Z",
     "start_time": "2021-10-09T05:46:36.726166Z"
    }
   },
   "outputs": [
    {
     "name": "stdout",
     "output_type": "stream",
     "text": [
      "   c1  c2  c3\n",
      "a   0   1   2\n",
      "b   3   4   5\n",
      "c   6   7   8\n",
      "d   9  10  11\n",
      "e  12  13  14\n"
     ]
    }
   ],
   "source": [
    "# prepare data\n",
    "df = DataFrame(np.arange(0, 15).reshape(5, 3), index = ['a', 'b', 'c', 'd', 'e'], columns=['c1', 'c2', 'c3'])\n",
    "print(df)"
   ]
  },
  {
   "cell_type": "code",
   "execution_count": 6,
   "id": "0f8990d6",
   "metadata": {
    "ExecuteTime": {
     "end_time": "2021-10-09T05:47:43.204907Z",
     "start_time": "2021-10-09T05:47:43.144498Z"
    }
   },
   "outputs": [
    {
     "name": "stdout",
     "output_type": "stream",
     "text": [
      "     c1    c2    c3    c4  c5\n",
      "a   0.0   1.0   2.0  20.0 NaN\n",
      "b   3.0   4.0   5.0   NaN NaN\n",
      "c   6.0   7.0   8.0   NaN NaN\n",
      "d   9.0  10.0  11.0   NaN NaN\n",
      "e  12.0  13.0  14.0   NaN NaN\n",
      "f  15.0  16.0  17.0  18.0 NaN\n",
      "g   NaN   NaN   NaN   NaN NaN\n"
     ]
    }
   ],
   "source": [
    "df['c4'] = np.nan\n",
    "df.loc['f'] = np.arange(15, 19)\n",
    "df.loc['g'] = np.nan\n",
    "df['c5'] = np.nan\n",
    "df['c4']['a'] = 20\n",
    "print(df)"
   ]
  },
  {
   "cell_type": "code",
   "execution_count": 7,
   "id": "2fd26640",
   "metadata": {
    "ExecuteTime": {
     "end_time": "2021-10-09T05:48:12.171479Z",
     "start_time": "2021-10-09T05:48:12.160300Z"
    }
   },
   "outputs": [
    {
     "name": "stdout",
     "output_type": "stream",
     "text": [
      "which items are null:\n",
      "       c1     c2     c3     c4    c5\n",
      "a  False  False  False  False  True\n",
      "b  False  False  False   True  True\n",
      "c  False  False  False   True  True\n",
      "d  False  False  False   True  True\n",
      "e  False  False  False   True  True\n",
      "f  False  False  False  False  True\n",
      "g   True   True   True   True  True\n"
     ]
    }
   ],
   "source": [
    "print(\"which items are null:\\n\", df.isnull())"
   ]
  },
  {
   "cell_type": "code",
   "execution_count": 8,
   "id": "e6d7d4c6",
   "metadata": {
    "ExecuteTime": {
     "end_time": "2021-10-09T05:48:44.979084Z",
     "start_time": "2021-10-09T05:48:44.968250Z"
    }
   },
   "outputs": [
    {
     "name": "stdout",
     "output_type": "stream",
     "text": [
      "count the number of NaN values in each columns:\n",
      " c1    1\n",
      "c2    1\n",
      "c3    1\n",
      "c4    5\n",
      "c5    7\n",
      "dtype: int64\n"
     ]
    }
   ],
   "source": [
    "print(\"count the number of NaN values in each columns:\\n\", df.isnull().sum())"
   ]
  },
  {
   "cell_type": "code",
   "execution_count": 9,
   "id": "7c8bdea9",
   "metadata": {
    "ExecuteTime": {
     "end_time": "2021-10-09T05:49:10.192397Z",
     "start_time": "2021-10-09T05:49:10.185385Z"
    }
   },
   "outputs": [
    {
     "name": "stdout",
     "output_type": "stream",
     "text": [
      "total count of NaN values:\n",
      " 15\n"
     ]
    }
   ],
   "source": [
    "print(\"total count of NaN values:\\n\", df.isnull().sum().sum())"
   ]
  },
  {
   "cell_type": "code",
   "execution_count": 12,
   "id": "b4112f27",
   "metadata": {
    "ExecuteTime": {
     "end_time": "2021-10-09T05:54:03.151839Z",
     "start_time": "2021-10-09T05:54:03.142028Z"
    }
   },
   "outputs": [
    {
     "name": "stdout",
     "output_type": "stream",
     "text": [
      "select the non-NaN items in column c4: \n",
      " a    20.0\n",
      "f    18.0\n",
      "Name: c4, dtype: float64\n"
     ]
    }
   ],
   "source": [
    "print(\"select the non-NaN items in column c4: \\n\", df.c4[df.c4.notnull()])"
   ]
  },
  {
   "cell_type": "code",
   "execution_count": 15,
   "id": "59e323db",
   "metadata": {
    "ExecuteTime": {
     "end_time": "2021-10-09T05:55:15.880343Z",
     "start_time": "2021-10-09T05:55:15.873316Z"
    }
   },
   "outputs": [
    {
     "name": "stdout",
     "output_type": "stream",
     "text": [
      "easy way to dropna, it doesn't affect the origin df:\n",
      " a    20.0\n",
      "f    18.0\n",
      "Name: c4, dtype: float64\n"
     ]
    }
   ],
   "source": [
    "print(\"easy way to dropna, it doesn't affect the origin df:\\n\", df.c4.dropna())"
   ]
  },
  {
   "cell_type": "markdown",
   "id": "3fc2fa23",
   "metadata": {},
   "source": [
    "### some simple method for dropping nan values."
   ]
  },
  {
   "cell_type": "code",
   "execution_count": 19,
   "id": "b498f778",
   "metadata": {
    "ExecuteTime": {
     "end_time": "2021-10-09T05:59:16.277113Z",
     "start_time": "2021-10-09T05:59:16.255483Z"
    }
   },
   "outputs": [
    {
     "data": {
      "text/plain": [
       "     c1    c2    c3\n",
       "a   0.0   1.0   2.0\n",
       "b   3.0   4.0   5.0\n",
       "c   6.0   7.0   8.0\n",
       "d   9.0  10.0  11.0\n",
       "e  12.0  13.0  14.0\n",
       "f  15.0  16.0  17.0\n",
       "g   NaN   NaN   NaN"
      ]
     },
     "execution_count": 19,
     "metadata": {},
     "output_type": "execute_result"
    }
   ],
   "source": [
    "df2 = df.copy()\n",
    "df2.dropna(how='all')\n",
    "df2.dropna(how='all', axis=1)\n",
    "df2.dropna(how='any', axis=1)\n",
    "df2.dropna(thresh=5, axis=1)"
   ]
  },
  {
   "cell_type": "code",
   "execution_count": 20,
   "id": "e63793a0",
   "metadata": {
    "ExecuteTime": {
     "end_time": "2021-10-09T06:00:43.245111Z",
     "start_time": "2021-10-09T06:00:43.236068Z"
    }
   },
   "outputs": [
    {
     "name": "stdout",
     "output_type": "stream",
     "text": [
      "nan is ignored in pandas:\n",
      " 2.0\n"
     ]
    }
   ],
   "source": [
    "s = Series([1,2,np.nan, 3])\n",
    "print(\"nan is ignored in pandas:\\n\", s.mean())"
   ]
  },
  {
   "cell_type": "markdown",
   "id": "5eb56290",
   "metadata": {
    "ExecuteTime": {
     "end_time": "2021-10-09T06:01:31.965522Z",
     "start_time": "2021-10-09T06:01:31.953791Z"
    }
   },
   "source": [
    "### filling in missing data"
   ]
  },
  {
   "cell_type": "code",
   "execution_count": 23,
   "id": "b4cc05f0",
   "metadata": {
    "ExecuteTime": {
     "end_time": "2021-10-09T06:15:29.729642Z",
     "start_time": "2021-10-09T06:15:29.682820Z"
    }
   },
   "outputs": [
    {
     "name": "stdout",
     "output_type": "stream",
     "text": [
      "filling data with limited:\n",
      "      c1    c2    c3    c4   c5\n",
      "a   0.0   1.0   2.0  20.0  0.0\n",
      "b   3.0   4.0   5.0   0.0  0.0\n",
      "c   6.0   7.0   8.0   0.0  NaN\n",
      "d   9.0  10.0  11.0   NaN  NaN\n",
      "e  12.0  13.0  14.0   NaN  NaN\n",
      "f  15.0  16.0  17.0  18.0  NaN\n",
      "g   0.0   0.0   0.0   NaN  NaN\n"
     ]
    }
   ],
   "source": [
    "print(\"filling data with limited:\\n\", df.fillna(0, limit=2))"
   ]
  },
  {
   "cell_type": "code",
   "execution_count": 24,
   "id": "92c65b17",
   "metadata": {
    "ExecuteTime": {
     "end_time": "2021-10-09T06:16:12.325488Z",
     "start_time": "2021-10-09T06:16:12.312092Z"
    }
   },
   "outputs": [
    {
     "name": "stdout",
     "output_type": "stream",
     "text": [
      "forward fill:\n",
      "      c1    c2    c3    c4  c5\n",
      "a   0.0   1.0   2.0  20.0 NaN\n",
      "b   3.0   4.0   5.0  20.0 NaN\n",
      "c   6.0   7.0   8.0  20.0 NaN\n",
      "d   9.0  10.0  11.0  20.0 NaN\n",
      "e  12.0  13.0  14.0  20.0 NaN\n",
      "f  15.0  16.0  17.0  18.0 NaN\n",
      "g  15.0  16.0  17.0  18.0 NaN\n"
     ]
    }
   ],
   "source": [
    "print(\"forward fill:\\n\", df.fillna(method='ffill'))"
   ]
  },
  {
   "cell_type": "code",
   "execution_count": 25,
   "id": "d5513f56",
   "metadata": {
    "ExecuteTime": {
     "end_time": "2021-10-09T06:20:52.171743Z",
     "start_time": "2021-10-09T06:20:52.154296Z"
    }
   },
   "outputs": [
    {
     "name": "stdout",
     "output_type": "stream",
     "text": [
      "backward fill:\n",
      "      c1    c2    c3    c4  c5\n",
      "a   0.0   1.0   2.0  20.0 NaN\n",
      "b   3.0   4.0   5.0  18.0 NaN\n",
      "c   6.0   7.0   8.0  18.0 NaN\n",
      "d   9.0  10.0  11.0  18.0 NaN\n",
      "e  12.0  13.0  14.0  18.0 NaN\n",
      "f  15.0  16.0  17.0  18.0 NaN\n",
      "g   NaN   NaN   NaN   NaN NaN\n"
     ]
    }
   ],
   "source": [
    "print(\"backward fill:\\n\", df.fillna(method='bfill'))"
   ]
  },
  {
   "cell_type": "code",
   "execution_count": 27,
   "id": "4454080f",
   "metadata": {
    "ExecuteTime": {
     "end_time": "2021-10-09T06:21:53.838517Z",
     "start_time": "2021-10-09T06:21:53.825682Z"
    }
   },
   "outputs": [
    {
     "name": "stdout",
     "output_type": "stream",
     "text": [
      "mean fill:\n",
      "      c1    c2    c3    c4  c5\n",
      "a   0.0   1.0   2.0  20.0 NaN\n",
      "b   3.0   4.0   5.0  19.0 NaN\n",
      "c   6.0   7.0   8.0  19.0 NaN\n",
      "d   9.0  10.0  11.0  19.0 NaN\n",
      "e  12.0  13.0  14.0  19.0 NaN\n",
      "f  15.0  16.0  17.0  18.0 NaN\n",
      "g   7.5   8.5   9.5  19.0 NaN\n"
     ]
    }
   ],
   "source": [
    "print(\"mean fill:\\n\", df.fillna(df.mean()))"
   ]
  },
  {
   "cell_type": "markdown",
   "id": "17d90f9a",
   "metadata": {},
   "source": [
    "### Interpolation of missing values"
   ]
  },
  {
   "cell_type": "code",
   "execution_count": 30,
   "id": "08720511",
   "metadata": {
    "ExecuteTime": {
     "end_time": "2021-10-09T06:24:23.470776Z",
     "start_time": "2021-10-09T06:24:23.459373Z"
    }
   },
   "outputs": [
    {
     "name": "stdout",
     "output_type": "stream",
     "text": [
      "interpolation s:\n",
      " 0    1.000000\n",
      "1    1.166667\n",
      "2    1.333333\n",
      "3    1.500000\n",
      "4    1.666667\n",
      "5    1.833333\n",
      "6    2.000000\n",
      "dtype: float64\n"
     ]
    }
   ],
   "source": [
    "s = pd.Series([1,np.nan,np.nan,np.nan,np.nan,np.nan,2])\n",
    "print(\"interpolation s:\\n\", s.interpolate())"
   ]
  },
  {
   "cell_type": "code",
   "execution_count": 35,
   "id": "13b2e0eb",
   "metadata": {
    "ExecuteTime": {
     "end_time": "2021-10-09T06:30:19.501601Z",
     "start_time": "2021-10-09T06:30:19.484475Z"
    }
   },
   "outputs": [
    {
     "name": "stdout",
     "output_type": "stream",
     "text": [
      "2014-01-01    1.0\n",
      "2014-02-01    NaN\n",
      "2014-04-01    2.0\n",
      "dtype: float64\n"
     ]
    }
   ],
   "source": [
    "ts = pd.Series([1, np.nan, 2], index=[datetime.datetime(2014, 1, 1), datetime.datetime(2014, 2, 1), datetime.datetime(2014, 4, 1)])\n",
    "print(ts)"
   ]
  },
  {
   "cell_type": "code",
   "execution_count": 36,
   "id": "3f4b7e7e",
   "metadata": {
    "ExecuteTime": {
     "end_time": "2021-10-09T06:30:57.202434Z",
     "start_time": "2021-10-09T06:30:57.191287Z"
    }
   },
   "outputs": [
    {
     "name": "stdout",
     "output_type": "stream",
     "text": [
      "interpolate by datetime\n",
      " 2014-01-01    1.000000\n",
      "2014-02-01    1.344444\n",
      "2014-04-01    2.000000\n",
      "dtype: float64\n"
     ]
    }
   ],
   "source": [
    "print(\"interpolate by datetime\\n\", ts.interpolate(method='time'))"
   ]
  },
  {
   "cell_type": "code",
   "execution_count": 37,
   "id": "9c41e280",
   "metadata": {
    "ExecuteTime": {
     "end_time": "2021-10-09T06:38:47.888051Z",
     "start_time": "2021-10-09T06:38:47.880182Z"
    }
   },
   "outputs": [
    {
     "name": "stdout",
     "output_type": "stream",
     "text": [
      "interpolate by values\n",
      " 2014-01-01    1.000000\n",
      "2014-02-01    1.344444\n",
      "2014-04-01    2.000000\n",
      "dtype: float64\n"
     ]
    }
   ],
   "source": [
    "s = pd.Series([0, np.nan, 100], index=[0, 1, 10])\n",
    "print(\"interpolate by values\\n\", s.interpolate(method='values'))"
   ]
  },
  {
   "cell_type": "code",
   "execution_count": null,
   "id": "f51a3973",
   "metadata": {},
   "outputs": [],
   "source": []
  }
 ],
 "metadata": {
  "kernelspec": {
   "display_name": "Python 3",
   "language": "python",
   "name": "python3"
  },
  "language_info": {
   "codemirror_mode": {
    "name": "ipython",
    "version": 3
   },
   "file_extension": ".py",
   "mimetype": "text/x-python",
   "name": "python",
   "nbconvert_exporter": "python",
   "pygments_lexer": "ipython3",
   "version": "3.8.8"
  }
 },
 "nbformat": 4,
 "nbformat_minor": 5
}

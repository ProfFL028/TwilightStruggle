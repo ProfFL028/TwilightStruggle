{
 "cells": [
  {
   "cell_type": "code",
   "execution_count": 3,
   "metadata": {
    "ExecuteTime": {
     "end_time": "2021-10-15T08:02:09.841941Z",
     "start_time": "2021-10-15T08:02:09.818599Z"
    }
   },
   "outputs": [
    {
     "name": "stdout",
     "output_type": "stream",
     "text": [
      "观察空间： Discrete(48)\n",
      "动作空间： Discrete(4)\n",
      "状态数=48, 动作数=4\n",
      "地图数: (4, 12)\n"
     ]
    }
   ],
   "source": [
    "import gym\n",
    "env = gym.make('CliffWalking-v0')\n",
    "print(\"观察空间：\", env.observation_space)\n",
    "print(\"动作空间：\", env.action_space)\n",
    "print(\"状态数=%d, 动作数=%d\" % (env.nS, env.nA))\n",
    "print(\"地图数:\", env.shape)"
   ]
  },
  {
   "cell_type": "code",
   "execution_count": 9,
   "metadata": {
    "ExecuteTime": {
     "end_time": "2021-10-15T08:08:43.981887Z",
     "start_time": "2021-10-15T08:08:43.974711Z"
    }
   },
   "outputs": [
    {
     "name": "stdout",
     "output_type": "stream",
     "text": [
      "[[1 1 1 1 1 1 1 1 1 1 1 2]\n",
      " [1 1 1 1 1 1 1 1 1 1 1 2]\n",
      " [1 1 1 1 1 1 1 1 1 1 1 2]\n",
      " [0 0 0 0 0 0 0 0 0 0 0 2]]\n"
     ]
    }
   ],
   "source": [
    "import numpy as np\n",
    "actions = np.ones(env.shape, dtype=int)\n",
    "actions[-1, :] = 0\n",
    "actions[0:, -1] = 2\n",
    "print(actions)"
   ]
  },
  {
   "cell_type": "code",
   "execution_count": 13,
   "metadata": {
    "ExecuteTime": {
     "end_time": "2021-10-15T08:24:03.455163Z",
     "start_time": "2021-10-15T08:24:03.446427Z"
    }
   },
   "outputs": [
    {
     "name": "stdout",
     "output_type": "stream",
     "text": [
      "[(1.0, 0, -1, False)]\n"
     ]
    }
   ],
   "source": [
    "print(env.P[0][0])"
   ]
  },
  {
   "cell_type": "code",
   "execution_count": 35,
   "metadata": {
    "ExecuteTime": {
     "end_time": "2021-10-15T11:37:09.428666Z",
     "start_time": "2021-10-15T11:37:09.345794Z"
    }
   },
   "outputs": [
    {
     "name": "stdout",
     "output_type": "stream",
     "text": [
      "[-4.78  -4.725 -4.656 -4.571 -4.463 -4.329 -4.161 -3.951 -3.689 -3.362\n",
      " -2.952 -2.44  -4.725 -4.656 -4.571 -4.463 -4.329 -4.161 -3.951 -3.689\n",
      " -3.362 -2.952 -2.44  -1.8   -4.656 -4.571 -4.463 -4.329 -4.161 -3.951\n",
      " -3.689 -3.362 -2.952 -2.44  -1.8   -1.    -4.725 -4.656 -4.571 -4.463\n",
      " -4.329 -4.161 -3.951 -3.689 -3.362 -2.952 -1.     0.   ]\n",
      "[[  -4.824   -4.78    -4.78    -4.824]\n",
      " [  -4.78    -4.725   -4.725   -4.824]\n",
      " [  -4.725   -4.656   -4.656   -4.78 ]\n",
      " [  -4.656   -4.571   -4.571   -4.725]\n",
      " [  -4.571   -4.463   -4.463   -4.656]\n",
      " [  -4.463   -4.329   -4.329   -4.571]\n",
      " [  -4.329   -4.161   -4.161   -4.463]\n",
      " [  -4.161   -3.951   -3.951   -4.329]\n",
      " [  -3.951   -3.689   -3.689   -4.161]\n",
      " [  -3.689   -3.362   -3.362   -3.951]\n",
      " [  -3.362   -2.952   -2.952   -3.689]\n",
      " [  -2.952   -2.952   -2.44    -3.362]\n",
      " [  -4.824   -4.725   -4.725   -4.78 ]\n",
      " [  -4.78    -4.656   -4.656   -4.78 ]\n",
      " [  -4.725   -4.571   -4.571   -4.725]\n",
      " [  -4.656   -4.463   -4.463   -4.656]\n",
      " [  -4.571   -4.329   -4.329   -4.571]\n",
      " [  -4.463   -4.161   -4.161   -4.463]\n",
      " [  -4.329   -3.951   -3.951   -4.329]\n",
      " [  -4.161   -3.689   -3.689   -4.161]\n",
      " [  -3.951   -3.362   -3.362   -3.951]\n",
      " [  -3.689   -2.952   -2.952   -3.689]\n",
      " [  -3.362   -2.44    -2.44    -3.362]\n",
      " [  -2.952   -2.44    -1.8     -2.952]\n",
      " [  -4.78    -4.656   -4.78    -4.725]\n",
      " [  -4.725   -4.571 -103.78    -4.725]\n",
      " [  -4.656   -4.463 -103.78    -4.656]\n",
      " [  -4.571   -4.329 -103.78    -4.571]\n",
      " [  -4.463   -4.161 -103.78    -4.463]\n",
      " [  -4.329   -3.951 -103.78    -4.329]\n",
      " [  -4.161   -3.689 -103.78    -4.161]\n",
      " [  -3.951   -3.362 -103.78    -3.951]\n",
      " [  -3.689   -2.952 -103.78    -3.689]\n",
      " [  -3.362   -2.44  -103.78    -3.362]\n",
      " [  -2.952   -1.8   -103.78    -2.952]\n",
      " [  -2.44    -1.8     -1.      -2.44 ]\n",
      " [  -4.725 -103.78    -4.78    -4.78 ]\n",
      " [  -4.656 -103.78  -103.78    -4.78 ]\n",
      " [  -4.571 -103.78  -103.78  -103.78 ]\n",
      " [  -4.463 -103.78  -103.78  -103.78 ]\n",
      " [  -4.329 -103.78  -103.78  -103.78 ]\n",
      " [  -4.161 -103.78  -103.78  -103.78 ]\n",
      " [  -3.951 -103.78  -103.78  -103.78 ]\n",
      " [  -3.689 -103.78  -103.78  -103.78 ]\n",
      " [  -3.362 -103.78  -103.78  -103.78 ]\n",
      " [  -2.952 -103.78  -103.78  -103.78 ]\n",
      " [  -2.44    -1.    -103.78  -103.78 ]\n",
      " [   0.       0.       0.       0.   ]]\n"
     ]
    }
   ],
   "source": [
    "import scipy.optimize as opt\n",
    "gamma = 1.0\n",
    "p = np.zeros((env.nS, env.nA, env.nS))\n",
    "r = np.zeros((env.nS, env.nA))\n",
    "\n",
    "for state in range(env.nS - 1):\n",
    "     for action in range(env.nA):\n",
    "        for prob, next_state, reward, done in env.P[state][action]:\n",
    "            p[state, action, next_state] += prob\n",
    "            r[state, action] += (reward * prob)\n",
    "\n",
    "c = np.ones(env.nS)\n",
    "a_ub = gamma * p.reshape(-1, env.nS) - np.repeat(np.eye(env.nS), env.nA, axis=0)\n",
    "b_ub = -r.reshape(-1)\n",
    "a_eq = np.zeros((0, env.nS))\n",
    "b_eq = np.zeros(0)\n",
    "bounds = [(None, None),] * env.nS\n",
    "res = opt.linprog(c, a_ub, b_ub, bounds=bounds, method='interior-point')\n",
    "v = res.x\n",
    "q = r + gamma * np.dot(p, v)\n",
    "print(v)\n",
    "print(q)"
   ]
  },
  {
   "cell_type": "code",
   "execution_count": 55,
   "metadata": {
    "ExecuteTime": {
     "end_time": "2021-10-15T12:17:13.852310Z",
     "start_time": "2021-10-15T12:17:13.806881Z"
    }
   },
   "outputs": [
    {
     "name": "stdout",
     "output_type": "stream",
     "text": [
      "[[  -1.   -1.   -1.   -1.]\n",
      " [  -1.   -1.   -1.   -1.]\n",
      " [  -1.   -1.   -1.   -1.]\n",
      " [  -1.   -1.   -1.   -1.]\n",
      " [  -1.   -1.   -1.   -1.]\n",
      " [  -1.   -1.   -1.   -1.]\n",
      " [  -1.   -1.   -1.   -1.]\n",
      " [  -1.   -1.   -1.   -1.]\n",
      " [  -1.   -1.   -1.   -1.]\n",
      " [  -1.   -1.   -1.   -1.]\n",
      " [  -1.   -1.   -1.   -1.]\n",
      " [  -1.   -1.   -1.   -1.]\n",
      " [  -1.   -1.   -1.   -1.]\n",
      " [  -1.   -1.   -1.   -1.]\n",
      " [  -1.   -1.   -1.   -1.]\n",
      " [  -1.   -1.   -1.   -1.]\n",
      " [  -1.   -1.   -1.   -1.]\n",
      " [  -1.   -1.   -1.   -1.]\n",
      " [  -1.   -1.   -1.   -1.]\n",
      " [  -1.   -1.   -1.   -1.]\n",
      " [  -1.   -1.   -1.   -1.]\n",
      " [  -1.   -1.   -1.   -1.]\n",
      " [  -1.   -1.   -1.   -1.]\n",
      " [  -1.   -1.   -1.   -1.]\n",
      " [  -1.   -1.   -1.   -1.]\n",
      " [  -1.   -1. -100.   -1.]\n",
      " [  -1.   -1. -100.   -1.]\n",
      " [  -1.   -1. -100.   -1.]\n",
      " [  -1.   -1. -100.   -1.]\n",
      " [  -1.   -1. -100.   -1.]\n",
      " [  -1.   -1. -100.   -1.]\n",
      " [  -1.   -1. -100.   -1.]\n",
      " [  -1.   -1. -100.   -1.]\n",
      " [  -1.   -1. -100.   -1.]\n",
      " [  -1.   -1. -100.   -1.]\n",
      " [  -1.   -1.   -1.   -1.]\n",
      " [  -1. -100.   -1.   -1.]\n",
      " [  -1. -100. -100.   -1.]\n",
      " [  -1. -100. -100. -100.]\n",
      " [  -1. -100. -100. -100.]\n",
      " [  -1. -100. -100. -100.]\n",
      " [  -1. -100. -100. -100.]\n",
      " [  -1. -100. -100. -100.]\n",
      " [  -1. -100. -100. -100.]\n",
      " [  -1. -100. -100. -100.]\n",
      " [  -1. -100. -100. -100.]\n",
      " [  -1.   -1. -100. -100.]\n",
      " [   0.    0.    0.    0.]]\n"
     ]
    }
   ],
   "source": [
    "\n",
    "c = np.ones(env.nS)\n",
    "a_ub = 1.0 * p.reshape(-1, env.nS) - np.repeat(np.eye(env.nS), env.nA, axis=0)\n",
    "b_ub = -r.reshape(-1)\n",
    "a_eq = np.zeros((0, env.nS))\n",
    "b_eq = np.zeros(0)\n",
    "bounds = [(None, None),] * env.nS\n",
    "res = opt.linprog(c, a_ub, b_ub, bounds=bounds, method='interior-point')\n",
    "v = res.x\n",
    "q = r + gamma * np.dot(p, v)\n",
    "\n",
    "np.set_printoptions(precision=3, suppress=True, threshold=65565)\n",
    "print(r)"
   ]
  },
  {
   "cell_type": "code",
   "execution_count": 42,
   "metadata": {
    "ExecuteTime": {
     "end_time": "2021-10-15T11:47:58.252104Z",
     "start_time": "2021-10-15T11:47:58.245760Z"
    }
   },
   "outputs": [
    {
     "name": "stdout",
     "output_type": "stream",
     "text": [
      "[]\n"
     ]
    }
   ],
   "source": [
    "print(np.zeros((0, env.nS)).T)"
   ]
  },
  {
   "cell_type": "code",
   "execution_count": 90,
   "metadata": {
    "ExecuteTime": {
     "end_time": "2021-10-15T16:08:47.547601Z",
     "start_time": "2021-10-15T16:08:31.610392Z"
    }
   },
   "outputs": [
    {
     "name": "stdout",
     "output_type": "stream",
     "text": [
      "3.323424072642026\n",
      "8.897922685548146\n",
      "3.32839591356126\n",
      "1.8979226855481492\n",
      "-0.23407814453553683\n",
      "1.45185622792605\n",
      "2.8564475136381344\n",
      "1.658601820188652\n",
      "0.733120329894104\n",
      "-0.3752207361180133\n",
      "-0.0003291242588290659\n",
      "0.6336040617498523\n",
      "0.4449693690829641\n",
      "-0.04698669051959896\n",
      "-0.7687814338109303\n",
      "-0.95681594592589\n",
      "-0.42004320246508603\n",
      "-0.39098004514125256\n",
      "-0.6400529205519049\n",
      "-1.2420212443038694\n",
      "-1.7733777527025711\n",
      "-1.2644899595163126\n",
      "-1.1447525126884126\n",
      "-1.3445658876517421\n",
      "-1.8856908385568383\n"
     ]
    }
   ],
   "source": [
    "p = {}\n",
    "for i in range(25):\n",
    "    reward = 0\n",
    "    outLeft = i in(0, 5, 10, 15, 20)\n",
    "    outTop = i in (0, 1, 2, 3, 4)\n",
    "    outRight = i in (4, 9, 14, 19, 24)\n",
    "    outDown = i in (20, 21, 22, 23, 24)\n",
    "    p[i] = {\n",
    "        0:[0.25, i if outTop else i - 5, -1 if outTop else 0 ], \n",
    "        1:[0.25, i if outRight else i + 1, -1 if outRight else 0],\n",
    "        2:[0.25, i if outDown else i + 5, -1 if outDown else 0],\n",
    "        3:[0.25, i if outLeft else i - 1, -1 if outLeft else 0],\n",
    "    }\n",
    "p[1][0] = p[1][1] = p[1][2] = p[1][3] = [0.25, 21, 10]\n",
    "p[3][0] = p[3][1] = p[3][2] = p[3][3] = [0.25, 21, 3]\n",
    "\n",
    "def reward(p, i):\n",
    "    return p[i][0][2]*p[i][0][0] + p[i][1][2]*p[i][1][0] + p[i][2][2]*p[i][2][0] + p[i][3][2]*p[i][3][0]\n",
    "\n",
    "def rewardAtI(p, gamma, i, k):\n",
    "    if k <= 0:\n",
    "        return 0\n",
    "    return reward(p, i) + gamma * p[i][0][0] * rewardAtI(p, gamma, p[i][0][1], k-1) + gamma * p[i][1][0] * rewardAtI(p, gamma, p[i][1][1], k-1) +gamma * p[i][2][0] * rewardAtI(p, gamma, p[i][2][1], k-1) +gamma * p[i][3][0] * rewardAtI(p, gamma, p[i][3][1], k-1)\n",
    "\n",
    "for i in range(25):\n",
    "    print(\"%.2f\" %( rewardAtI(p, 0.9, i, 10)))\n"
   ]
  },
  {
   "cell_type": "code",
   "execution_count": 63,
   "metadata": {
    "ExecuteTime": {
     "end_time": "2021-10-15T15:36:41.846470Z",
     "start_time": "2021-10-15T15:36:41.839212Z"
    }
   },
   "outputs": [
    {
     "data": {
      "text/plain": [
       "True"
      ]
     },
     "execution_count": 63,
     "metadata": {},
     "output_type": "execute_result"
    }
   ],
   "source": [
    "5 in (0, 5, 10, 15)"
   ]
  },
  {
   "cell_type": "code",
   "execution_count": null,
   "metadata": {},
   "outputs": [],
   "source": []
  }
 ],
 "metadata": {
  "kernelspec": {
   "display_name": "Python 3",
   "language": "python",
   "name": "python3"
  },
  "language_info": {
   "codemirror_mode": {
    "name": "ipython",
    "version": 3
   },
   "file_extension": ".py",
   "mimetype": "text/x-python",
   "name": "python",
   "nbconvert_exporter": "python",
   "pygments_lexer": "ipython3",
   "version": "3.8.8"
  }
 },
 "nbformat": 4,
 "nbformat_minor": 2
}

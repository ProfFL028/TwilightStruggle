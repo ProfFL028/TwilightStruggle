{
 "cells": [
  {
   "cell_type": "markdown",
   "id": "98c44a3f",
   "metadata": {},
   "source": [
    "列表L, [2,5,3,8,10,1]对其升序排序并输出"
   ]
  },
  {
   "cell_type": "code",
   "execution_count": 6,
   "id": "3da1d8ad",
   "metadata": {
    "ExecuteTime": {
     "end_time": "2021-09-27T03:02:25.788418Z",
     "start_time": "2021-09-27T03:02:25.780939Z"
    }
   },
   "outputs": [
    {
     "name": "stdout",
     "output_type": "stream",
     "text": [
      "[1, 2, 3, 5, 8, 10]\n"
     ]
    }
   ],
   "source": [
    "arr = [2,5,3,8,10,1]\n",
    "\n",
    "def swapArr(arr, i, j):\n",
    "    tmp = arr[i]\n",
    "    arr[i] = arr[j]\n",
    "    arr[j] = tmp\n",
    "\n",
    "def sortArr(arr):\n",
    "    for i in range(len(arr)):\n",
    "        for j in range(i):\n",
    "            if arr[i] < arr[j]:\n",
    "                swapArr(arr, i, j)\n",
    "\n",
    "sortArr(arr)\n",
    "print(arr)"
   ]
  },
  {
   "cell_type": "markdown",
   "id": "d0d0bd73",
   "metadata": {},
   "source": [
    "字符串:\"123456\"，将其转化成列表，并逆序输出"
   ]
  },
  {
   "cell_type": "code",
   "execution_count": 10,
   "id": "bcb18a03",
   "metadata": {
    "ExecuteTime": {
     "end_time": "2021-09-27T03:11:34.882307Z",
     "start_time": "2021-09-27T03:11:34.867642Z"
    }
   },
   "outputs": [
    {
     "name": "stdout",
     "output_type": "stream",
     "text": [
      "['6', '5', '4', '3', '2', '1']\n"
     ]
    }
   ],
   "source": [
    "str = \"123456\"\n",
    "arr = []\n",
    "for i in range(len(str)):\n",
    "    arr.append(str[i])\n",
    "    \n",
    "arr.sort(reverse=True)\n",
    "print(arr)"
   ]
  },
  {
   "cell_type": "markdown",
   "id": "788222b6",
   "metadata": {},
   "source": [
    "有几种方法扩展将[1,2,3]扩展成[1,2,3,4,5,6]"
   ]
  },
  {
   "cell_type": "code",
   "execution_count": 18,
   "id": "1a23b61f",
   "metadata": {
    "ExecuteTime": {
     "end_time": "2021-09-27T03:22:12.429159Z",
     "start_time": "2021-09-27T03:22:12.417485Z"
    }
   },
   "outputs": [
    {
     "name": "stdout",
     "output_type": "stream",
     "text": [
      "[1, 2, 3, 4, 5, 6]\n",
      "[1, 2, 3, 4, 5, 6]\n",
      "[1, 2, 3, 4, 5, 6]\n"
     ]
    }
   ],
   "source": [
    "# 1\n",
    "arr1 = [1, 2, 3]\n",
    "arr1.append(4)\n",
    "arr1.append(5)\n",
    "arr1.append(6)\n",
    "print(arr1)\n",
    "\n",
    "# 2\n",
    "arr1 = [1, 2, 3]\n",
    "arr1.extend([4,5,6])\n",
    "print(arr1)\n",
    "\n",
    "# 3\n",
    "arr1 = [1, 2, 3]\n",
    "arr1.insert(3, 4)\n",
    "arr1.insert(4, 5)\n",
    "arr1.insert(5, 6)\n",
    "print(arr1)\n"
   ]
  },
  {
   "cell_type": "markdown",
   "id": "c1a1740c",
   "metadata": {},
   "source": [
    "List=[1,3,5,7,9,0,2,4,6], 使用切片得到[4,0,7],[5,9,2,6]"
   ]
  },
  {
   "cell_type": "code",
   "execution_count": 35,
   "id": "54f2e5ca",
   "metadata": {
    "ExecuteTime": {
     "end_time": "2021-09-27T07:25:05.022392Z",
     "start_time": "2021-09-27T07:25:05.012344Z"
    }
   },
   "outputs": [
    {
     "name": "stdout",
     "output_type": "stream",
     "text": [
      "[4, 0, 7]\n",
      "[5, 9, 2, 6]\n"
     ]
    }
   ],
   "source": [
    "arr = [1,3,5,7,9,0,2,4,6]\n",
    "sub1 = arr[7:2:-2]\n",
    "print(sub1)\n",
    "\n",
    "sub2 = arr[2::2]\n",
    "print(sub2)"
   ]
  },
  {
   "cell_type": "markdown",
   "id": "a7262162",
   "metadata": {},
   "source": [
    "创建一个字典，添加一个元素，在此基础上更新另外一个字典，并将字典以列表形式返回"
   ]
  },
  {
   "cell_type": "code",
   "execution_count": 45,
   "id": "032802cb",
   "metadata": {
    "ExecuteTime": {
     "end_time": "2021-09-27T08:28:34.312382Z",
     "start_time": "2021-09-27T08:28:34.296082Z"
    }
   },
   "outputs": [
    {
     "name": "stdout",
     "output_type": "stream",
     "text": [
      "dict1:  {'a': 1}\n",
      "dict2:  {'b': 2, 'c': 3}\n",
      "dict1 + dict2: {'b': 2, 'c': 3, 'a': 1}\n",
      "dict in list form:  dict_items([('b', 2), ('c', 3), ('a', 1)])\n"
     ]
    }
   ],
   "source": [
    "dict1 = {}\n",
    "dict1['a'] = 1\n",
    "print(\"dict1: \", dict1)\n",
    "dict2 = {'b': 2, 'c':3}\n",
    "print(\"dict2: \", dict2)\n",
    "for item in dict1:\n",
    "    dict2[item]= dict1[item]\n",
    "print(\"dict1 + dict2:\", dict2)\n",
    "print(\"dict in list form: \",dict2.items())"
   ]
  },
  {
   "cell_type": "markdown",
   "id": "784c45f2",
   "metadata": {},
   "source": [
    "Dict = {'d':'banana', 'a':'apple', 'b':'grape', 'c':'orange'} 转换成列表，并按主键排序"
   ]
  },
  {
   "cell_type": "code",
   "execution_count": 54,
   "id": "bdb6b97a",
   "metadata": {
    "ExecuteTime": {
     "end_time": "2021-09-27T09:27:21.174806Z",
     "start_time": "2021-09-27T09:27:21.169413Z"
    }
   },
   "outputs": [
    {
     "name": "stdout",
     "output_type": "stream",
     "text": [
      "[('a', 'apple'), ('d', 'banana'), ('b', 'grape'), ('c', 'orange')]\n"
     ]
    }
   ],
   "source": [
    "dict1 = {'d':'banana', 'a':'apple', 'b':'grape', 'c':'orange'}\n",
    "arr = dict1.items()\n",
    "l = sorted(arr, key = lambda item: item[1])\n",
    "print(l)"
   ]
  },
  {
   "cell_type": "markdown",
   "id": "56462f54",
   "metadata": {},
   "source": [
    "从键盘上输入两点坐标，并计算距离"
   ]
  },
  {
   "cell_type": "code",
   "execution_count": 63,
   "id": "9dfbfd87",
   "metadata": {
    "ExecuteTime": {
     "end_time": "2021-09-27T09:38:42.692624Z",
     "start_time": "2021-09-27T09:38:38.181550Z"
    }
   },
   "outputs": [
    {
     "name": "stdout",
     "output_type": "stream",
     "text": [
      "输入坐标1(例如: 5, 6):1,1\n",
      "输入坐标2(例如: 8, 9):2,2\n",
      "distance from (1,1) to (2,2) equals to 1\n"
     ]
    }
   ],
   "source": [
    "from math import sqrt \n",
    "\n",
    "str1 = input(\"请输入坐标1(例如: 5, 6):\")\n",
    "str2 = input(\"请输入坐标2(例如: 8, 9):\")\n",
    "point1 = str1.split(',')\n",
    "point2 = str2.split(',')\n",
    "if (len(point1>1) && len(point2)>1):\n",
    "    distance = sqrt((float(point1[0])-float(point2[0]))**2 + (float(point1[1]) - float(point2[1]))**2)\n",
    "    print(\"distance from (%s) to (%s) equals to %.4f\" % (str1, str2, distance))\n",
    "else:\n",
    "    print(\"输入错误！\")"
   ]
  },
  {
   "cell_type": "markdown",
   "id": "611c2bb7",
   "metadata": {
    "ExecuteTime": {
     "end_time": "2021-09-27T09:45:46.075207Z",
     "start_time": "2021-09-27T09:45:46.059404Z"
    }
   },
   "source": [
    "求1-100内的偶数和"
   ]
  },
  {
   "cell_type": "code",
   "execution_count": 82,
   "id": "870dfc54",
   "metadata": {
    "ExecuteTime": {
     "end_time": "2021-09-27T09:48:52.943928Z",
     "start_time": "2021-09-27T09:48:52.933906Z"
    }
   },
   "outputs": [
    {
     "name": "stdout",
     "output_type": "stream",
     "text": [
      "2450\n"
     ]
    }
   ],
   "source": [
    "result = 0\n",
    "for i in range(1, 100):\n",
    "    if i % 2 == 0:\n",
    "        result += i\n",
    "print(result)"
   ]
  },
  {
   "cell_type": "markdown",
   "id": "22472aee",
   "metadata": {},
   "source": [
    "第九题"
   ]
  },
  {
   "cell_type": "code",
   "execution_count": 85,
   "id": "eb948741",
   "metadata": {
    "ExecuteTime": {
     "end_time": "2021-09-27T09:53:53.673768Z",
     "start_time": "2021-09-27T09:53:52.318687Z"
    }
   },
   "outputs": [
    {
     "name": "stdout",
     "output_type": "stream",
     "text": [
      "请输入成绩：11\n",
      "不及格\n"
     ]
    }
   ],
   "source": [
    "scoreStr = input('请输入成绩：')\n",
    "score = int(scoreStr)\n",
    "if (score >= 90):\n",
    "    print(\"优秀\")\n",
    "elif (score >= 80):\n",
    "    print(\"良好\")\n",
    "elif (score >= 60):\n",
    "    print(\"及格\")\n",
    "else:\n",
    "    print(\"不及格\")"
   ]
  },
  {
   "cell_type": "markdown",
   "id": "1faf2fdc",
   "metadata": {},
   "source": [
    "判断是不是润年"
   ]
  },
  {
   "cell_type": "code",
   "execution_count": 92,
   "id": "b3995246",
   "metadata": {
    "ExecuteTime": {
     "end_time": "2021-09-27T09:56:55.611748Z",
     "start_time": "2021-09-27T09:56:53.834422Z"
    }
   },
   "outputs": [
    {
     "name": "stdout",
     "output_type": "stream",
     "text": [
      "请输入年份：1945\n",
      "不是润年\n"
     ]
    }
   ],
   "source": [
    "yearStr = input(\"请输入年份：\")\n",
    "year = int(yearStr)\n",
    "if ((year % 4) == 0 and (year % 10) == 0 and (year % 40) == 0):\n",
    "    print(\"润年\")\n",
    "else:\n",
    "    print(\"不是润年\")"
   ]
  },
  {
   "cell_type": "markdown",
   "id": "b26058c0",
   "metadata": {},
   "source": [
    "排序三个输入的数字"
   ]
  },
  {
   "cell_type": "code",
   "execution_count": 101,
   "id": "a4b7c2e9",
   "metadata": {
    "ExecuteTime": {
     "end_time": "2021-09-27T10:02:39.129215Z",
     "start_time": "2021-09-27T10:02:36.902882Z"
    }
   },
   "outputs": [
    {
     "name": "stdout",
     "output_type": "stream",
     "text": [
      "请输入3个数字并以逗号分开：5,4,3\n",
      "[3, 4, 5]\n"
     ]
    }
   ],
   "source": [
    "str = input('请输入3个数字并以逗号分开：')\n",
    "a = str.split(\",\")\n",
    "ai = [int(x) for x in a]\n",
    "print(sorted(ai))\n"
   ]
  },
  {
   "cell_type": "code",
   "execution_count": null,
   "id": "6cfda378",
   "metadata": {},
   "outputs": [],
   "source": []
  },
  {
   "cell_type": "code",
   "execution_count": null,
   "id": "2dea1a92",
   "metadata": {},
   "outputs": [],
   "source": []
  }
 ],
 "metadata": {
  "kernelspec": {
   "display_name": "Python 3",
   "language": "python",
   "name": "python3"
  },
  "language_info": {
   "codemirror_mode": {
    "name": "ipython",
    "version": 3
   },
   "file_extension": ".py",
   "mimetype": "text/x-python",
   "name": "python",
   "nbconvert_exporter": "python",
   "pygments_lexer": "ipython3",
   "version": "3.8.8"
  }
 },
 "nbformat": 4,
 "nbformat_minor": 5
}

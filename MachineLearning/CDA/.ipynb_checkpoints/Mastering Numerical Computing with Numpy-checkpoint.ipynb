{
 "cells": [
  {
   "cell_type": "code",
   "execution_count": 1,
   "id": "ce5d33c7",
   "metadata": {
    "ExecuteTime": {
     "end_time": "2021-10-12T01:11:08.348227Z",
     "start_time": "2021-10-12T01:11:01.939489Z"
    }
   },
   "outputs": [],
   "source": [
    "import numpy as np\n",
    "from numpy import nan\n",
    "from scipy import stats"
   ]
  },
  {
   "cell_type": "code",
   "execution_count": 10,
   "id": "4bf2a656",
   "metadata": {
    "ExecuteTime": {
     "end_time": "2021-10-11T01:01:25.124652Z",
     "start_time": "2021-10-11T01:01:25.118510Z"
    }
   },
   "outputs": [],
   "source": [
    "x = np.arange(6).reshape(2, 3)\n",
    "xnan = np.array([[1,2,3], [4,nan, 6], [nan, nan, 9]])"
   ]
  },
  {
   "cell_type": "code",
   "execution_count": 5,
   "id": "c21c79bd",
   "metadata": {
    "ExecuteTime": {
     "end_time": "2021-10-11T00:58:13.628208Z",
     "start_time": "2021-10-11T00:58:13.614973Z"
    }
   },
   "outputs": [
    {
     "name": "stdout",
     "output_type": "stream",
     "text": [
      "np.sum(x)  =  15\n",
      "np.amin(x) =  0\n",
      "np.amax(x) =  5\n",
      "np.percentile(x, 80) =  4.0\n"
     ]
    }
   ],
   "source": [
    "print(\"np.sum(x)  = \", np.sum(x))\n",
    "print(\"np.amin(x) = \", np.amin(x))\n",
    "print(\"np.amax(x) = \", np.amax(x))\n",
    "print(\"np.percentile(x, 80) = \", np.percentile(x, 80))"
   ]
  },
  {
   "cell_type": "code",
   "execution_count": 14,
   "id": "cf07a58f",
   "metadata": {
    "ExecuteTime": {
     "end_time": "2021-10-11T01:03:04.398926Z",
     "start_time": "2021-10-11T01:03:04.389632Z"
    }
   },
   "outputs": [
    {
     "name": "stdout",
     "output_type": "stream",
     "text": [
      "np.nanmin(x) =  1.0\n",
      "np.nanmax(x) =  9.0\n",
      "np.nanpercentile(x, 80) =  6.0\n"
     ]
    }
   ],
   "source": [
    "print(\"np.nanmin(x) = \", np.nanmin(xnan))\n",
    "print(\"np.nanmax(x) = \", np.nanmax(xnan))\n",
    "print(\"np.nanpercentile(x, 80) = \", np.nanpercentile(xnan, 80))"
   ]
  },
  {
   "cell_type": "code",
   "execution_count": 15,
   "id": "7ebdc5f4",
   "metadata": {
    "ExecuteTime": {
     "end_time": "2021-10-11T01:04:14.569171Z",
     "start_time": "2021-10-11T01:04:14.562043Z"
    }
   },
   "outputs": [
    {
     "name": "stdout",
     "output_type": "stream",
     "text": [
      "np.mean(x)   =  2.5\n",
      "np.median(x) =  2.5\n",
      "np.std(x)    =  1.707825127659933\n"
     ]
    }
   ],
   "source": [
    "print(\"np.mean(x)   = \", np.mean(x))\n",
    "print(\"np.median(x) = \", np.median(x))\n",
    "print(\"np.std(x)    = \", np.std(x))"
   ]
  },
  {
   "cell_type": "code",
   "execution_count": 17,
   "id": "8f9cf2c8",
   "metadata": {
    "ExecuteTime": {
     "end_time": "2021-10-11T01:05:03.353683Z",
     "start_time": "2021-10-11T01:05:03.346171Z"
    }
   },
   "outputs": [
    {
     "name": "stdout",
     "output_type": "stream",
     "text": [
      "np.nanmean(x)   =  4.166666666666667\n",
      "np.nanmedian(x) =  3.5\n",
      "np.nanstd(x)    =  2.6718699236468995\n"
     ]
    }
   ],
   "source": [
    "print(\"np.nanmean(x)   = \", np.nanmean(xnan))\n",
    "print(\"np.nanmedian(x) = \", np.nanmedian(xnan))\n",
    "print(\"np.nanstd(x)    = \", np.nanstd(xnan))"
   ]
  },
  {
   "cell_type": "code",
   "execution_count": 22,
   "id": "c482a67d",
   "metadata": {
    "ExecuteTime": {
     "end_time": "2021-10-11T01:08:59.011586Z",
     "start_time": "2021-10-11T01:08:59.001700Z"
    }
   },
   "outputs": [
    {
     "name": "stdout",
     "output_type": "stream",
     "text": [
      "np.hstack(x, y):\n",
      " [[ 0  1  2  3  4]\n",
      " [ 5  6  7  8  9]\n",
      " [10 11 12 13 14]\n",
      " [ 0  1  2  3  4]\n",
      " [ 5  6  7  8  9]]\n"
     ]
    }
   ],
   "source": [
    "x = np.arange(15).reshape(3, 5)\n",
    "y = np.arange(10).reshape(2, 5)\n",
    "print(\"np.vstack((x, y)):\\n\", np.vstack((x, y)))"
   ]
  },
  {
   "cell_type": "code",
   "execution_count": 23,
   "id": "0ed58891",
   "metadata": {
    "ExecuteTime": {
     "end_time": "2021-10-11T01:14:24.306319Z",
     "start_time": "2021-10-11T01:14:24.289232Z"
    }
   },
   "outputs": [
    {
     "name": "stdout",
     "output_type": "stream",
     "text": [
      "np.hstack((x, y)):\n",
      " [[ 0  1  2  0  1]\n",
      " [ 3  4  5  2  3]\n",
      " [ 6  7  8  4  5]\n",
      " [ 9 10 11  6  7]\n",
      " [12 13 14  8  9]]\n"
     ]
    }
   ],
   "source": [
    "x = np.arange(15).reshape(5, 3)\n",
    "y = np.arange(10).reshape(5, 2)\n",
    "print(\"np.hstack((x, y)):\\n\", np.hstack((x, y)))"
   ]
  },
  {
   "cell_type": "code",
   "execution_count": 26,
   "id": "903c6ff1",
   "metadata": {
    "ExecuteTime": {
     "end_time": "2021-10-11T01:22:41.277729Z",
     "start_time": "2021-10-11T01:22:41.260162Z"
    }
   },
   "outputs": [
    {
     "name": "stdout",
     "output_type": "stream",
     "text": [
      "mean, var, skew, kurt, min, max:\n",
      " [[ 0.51388922  0.07192503 -0.01077586 -0.92358999  0.01612581  0.99929616]\n",
      " [ 0.39495764  0.06366064  0.32247152 -0.99203522  0.00901473  0.92418844]\n",
      " [ 0.48410546  0.08488179  0.01764016 -1.26233601  0.00498075  0.98815652]\n",
      " [ 0.56352659  0.09051678 -0.3240144  -1.26216286  0.00730136  0.99987487]\n",
      " [ 0.50911428  0.08691536  0.08220308 -1.22891964  0.00953283  0.98381182]\n",
      " [ 0.48197599  0.07544068 -0.07451808 -1.00973314  0.0071417   0.98561402]\n",
      " [ 0.48883383  0.07684327 -0.06156332 -1.03285553  0.01437907  0.99304052]\n",
      " [ 0.51647689  0.1013824  -0.15548548 -1.36166875  0.00214925  0.9941644 ]\n",
      " [ 0.50389874  0.08554725 -0.04676929 -1.18236429  0.00376044  0.99224665]\n",
      " [ 0.49945853  0.07662828 -0.07105215 -1.26884724  0.00188078  0.9972396 ]]\n"
     ]
    }
   ],
   "source": [
    "x = np.random.rand(100, 10)\n",
    "n, min_max, mean, var, skew, kurt = stats.describe(x)\n",
    "describe = np.vstack((mean, var, skew, kurt, min_max[0], min_max[1]))\n",
    "print(\"mean, var, skew, kurt, min, max:\\n\", describe.T)"
   ]
  },
  {
   "cell_type": "markdown",
   "id": "ed81edd4",
   "metadata": {},
   "source": [
    "### Mask in numpy\n",
    "mask some elements in an array will ignore these elements."
   ]
  },
  {
   "cell_type": "code",
   "execution_count": 27,
   "id": "b781d3b1",
   "metadata": {
    "ExecuteTime": {
     "end_time": "2021-10-11T01:35:37.960203Z",
     "start_time": "2021-10-11T01:35:37.949010Z"
    }
   },
   "outputs": [
    {
     "name": "stdout",
     "output_type": "stream",
     "text": [
      "x.mean() =  2.5\n",
      "masked_x.mean() =  3.0\n"
     ]
    }
   ],
   "source": [
    "import numpy.ma as ma\n",
    "x = np.arange(6)\n",
    "print(\"x.mean() = \", x.mean())\n",
    "masked_x = ma.masked_array(x, mask=[1,0,0,0,0,0])\n",
    "print(\"masked_x.mean() = \", masked_x.mean())"
   ]
  },
  {
   "cell_type": "code",
   "execution_count": 30,
   "id": "c1b20b8c",
   "metadata": {
    "ExecuteTime": {
     "end_time": "2021-10-11T01:41:07.500405Z",
     "start_time": "2021-10-11T01:41:07.490034Z"
    }
   },
   "outputs": [
    {
     "name": "stdout",
     "output_type": "stream",
     "text": [
      "x :\n",
      " [[nan nan nan nan nan]\n",
      " [ 5.  6.  7.  8.  9.]\n",
      " [10. 11. 12. 13. 14.]\n",
      " [15. 16. 17. 18. 19.]\n",
      " [20. 21. 22. 23. 24.]]\n",
      "fill nan with mean:\n",
      " [[12.5 13.5 14.5 15.5 16.5]\n",
      " [ 5.   6.   7.   8.   9. ]\n",
      " [10.  11.  12.  13.  14. ]\n",
      " [15.  16.  17.  18.  19. ]\n",
      " [20.  21.  22.  23.  24. ]]\n"
     ]
    }
   ],
   "source": [
    "x = np.arange(25, dtype=float).reshape(5, 5)\n",
    "x[x < 5] = nan\n",
    "print(\"x :\\n\", x)\n",
    "filled_x = np.where(np.isnan(x), ma.array(x, mask=np.isnan(x)).mean(axis=0), x)\n",
    "print(\"fill nan with mean:\\n\", filled_x)"
   ]
  },
  {
   "cell_type": "code",
   "execution_count": 32,
   "id": "cf4945e2",
   "metadata": {
    "ExecuteTime": {
     "end_time": "2021-10-11T02:03:37.579736Z",
     "start_time": "2021-10-11T02:03:37.570002Z"
    }
   },
   "outputs": [
    {
     "name": "stdout",
     "output_type": "stream",
     "text": [
      "x[[0, 1, 2],[0, 1, 3]]-> [ 0  5 11]\n"
     ]
    }
   ],
   "source": [
    "x = np.arange(16).reshape(4,4)\n",
    "print(\"x[[0, 1, 2],[0, 1, 3]]->\", x[[0, 1, 2],[0, 1, 3]])"
   ]
  },
  {
   "cell_type": "code",
   "execution_count": 4,
   "id": "40879a49",
   "metadata": {
    "ExecuteTime": {
     "end_time": "2021-10-12T01:12:54.421304Z",
     "start_time": "2021-10-12T01:12:54.412040Z"
    }
   },
   "outputs": [
    {
     "name": "stdout",
     "output_type": "stream",
     "text": [
      "x.dot(y):\n",
      " [[ 5  6  7  8  9]\n",
      " [15 20 25 30 35]\n",
      " [25 34 43 52 61]]\n",
      "np.matmul(x, y):\n",
      " [[ 5  6  7  8  9]\n",
      " [15 20 25 30 35]\n",
      " [25 34 43 52 61]]\n",
      "x@y:\n",
      " [[ 5  6  7  8  9]\n",
      " [15 20 25 30 35]\n",
      " [25 34 43 52 61]]\n"
     ]
    }
   ],
   "source": [
    "x = np.arange(6).reshape(3, 2)\n",
    "y = np.arange(10).reshape(2, 5)\n",
    "print(\"x.dot(y):\\n\", x.dot(y))\n",
    "print(\"np.matmul(x, y):\\n\", np.matmul(x, y))\n",
    "print(\"x@y:\\n\", x@y)"
   ]
  },
  {
   "cell_type": "code",
   "execution_count": 7,
   "id": "98f5975c",
   "metadata": {
    "ExecuteTime": {
     "end_time": "2021-10-12T01:24:55.299135Z",
     "start_time": "2021-10-12T01:24:49.242707Z"
    }
   },
   "outputs": [
    {
     "name": "stdout",
     "output_type": "stream",
     "text": [
      "3.38 ms ± 88.8 µs per loop (mean ± std. dev. of 7 runs, 100 loops each)\n",
      "3.72 ms ± 16 µs per loop (mean ± std. dev. of 7 runs, 100 loops each)\n"
     ]
    }
   ],
   "source": [
    "from numpy.linalg import multi_dot\n",
    "a = np.random.rand(120000).reshape(400, 300)\n",
    "b = np.random.rand(150000).reshape(300, 500)\n",
    "c = np.random.rand(250000).reshape(500, 500)\n",
    "%timeit multi_dot([a, b, c])\n",
    "%timeit a@b@c"
   ]
  },
  {
   "cell_type": "code",
   "execution_count": 12,
   "id": "143baafa",
   "metadata": {
    "ExecuteTime": {
     "end_time": "2021-10-12T01:39:19.471769Z",
     "start_time": "2021-10-12T01:39:19.464258Z"
    }
   },
   "outputs": [
    {
     "name": "stdout",
     "output_type": "stream",
     "text": [
      "np.outer(a, b):\n",
      " [[ 0  0  0  0  0  0  0  0  0]\n",
      " [ 0  1  2  3  4  5  6  7  8]\n",
      " [ 0  2  4  6  8 10 12 14 16]\n",
      " [ 0  3  6  9 12 15 18 21 24]\n",
      " [ 0  4  8 12 16 20 24 28 32]\n",
      " [ 0  5 10 15 20 25 30 35 40]\n",
      " [ 0  6 12 18 24 30 36 42 48]\n",
      " [ 0  7 14 21 28 35 42 49 56]\n",
      " [ 0  8 16 24 32 40 48 56 64]\n",
      " [ 0  9 18 27 36 45 54 63 72]\n",
      " [ 0 10 20 30 40 50 60 70 80]\n",
      " [ 0 11 22 33 44 55 66 77 88]]\n"
     ]
    }
   ],
   "source": [
    "a = np.arange(12).reshape(4,3)\n",
    "b = np.arange(9)\n",
    "print(\"np.outer(a, b):\\n\", np.outer(a, b))"
   ]
  },
  {
   "cell_type": "markdown",
   "id": "716217de",
   "metadata": {},
   "source": [
    "## np.tensordot\n",
    "[np.tensordot](https://numpy.org/doc/stable/reference/generated/numpy.tensordot.html)\n",
    "it sumproducts two tensors by **excluding** n-axes specified by the third parameter."
   ]
  },
  {
   "cell_type": "code",
   "execution_count": 21,
   "id": "fd141cb4",
   "metadata": {
    "ExecuteTime": {
     "end_time": "2021-10-12T02:12:55.635932Z",
     "start_time": "2021-10-12T02:12:55.627787Z"
    }
   },
   "outputs": [
    {
     "name": "stdout",
     "output_type": "stream",
     "text": [
      "[[0.42985699 0.86503809 0.28180667 0.24059081]\n",
      " [0.80181814 0.63017054 0.71914284 0.8521726 ]\n",
      " [0.81823033 0.71897713 0.35971628 0.18270377]]\n",
      "[[0.83536272 0.9644421  0.90018599 0.99746953]\n",
      " [0.53296648 0.13326814 0.23029025 0.60467192]\n",
      " [0.11284269 0.50758231 0.26016565 0.26768357]]\n",
      "3.479010329927192\n",
      "np.tensordot(a, b, axes=([0,1], [0,1])):\n",
      " [[3.47901033 3.89177924 2.17121292 3.72475847]\n",
      " [3.16656895 3.3048537  2.09984859 4.04809676]\n",
      " [3.82965401 3.81612732 2.35189345 3.80471613]\n",
      " [2.8233179  2.92410197 1.80140011 2.81787681]\n",
      " [3.26819226 3.5307746  1.38208454 3.5856115 ]]\n"
     ]
    }
   ],
   "source": [
    "a = np.random.rand(60).reshape(3,4,5)\n",
    "b = np.random.rand(48).reshape(3,4,4)\n",
    "print(a[:,:,0])\n",
    "print(b[:,:,0])\n",
    "print(np.sum(a[:,:,0]*b[:,:,0]))\n",
    "print(\"np.tensordot(a, b, axes=([0,1], [0,1])):\\n\", np.tensordot(a, b, axes=([0,1], [0,1])))\n"
   ]
  },
  {
   "cell_type": "markdown",
   "id": "578ab55c",
   "metadata": {},
   "source": [
    "## Eigenvalue and Eigenvector"
   ]
  },
  {
   "cell_type": "code",
   "execution_count": 32,
   "id": "acd272fb",
   "metadata": {
    "ExecuteTime": {
     "end_time": "2021-10-12T03:14:24.972118Z",
     "start_time": "2021-10-12T03:14:24.945200Z"
    }
   },
   "outputs": [
    {
     "name": "stdout",
     "output_type": "stream",
     "text": [
      "caner.shape:  (569, 30)\n",
      "[-2.07333501e+00 -3.53632408e-01  4.56186952e-01  2.53732112e-01\n",
      " -1.15181643e+00 -8.35335303e-01  1.60649427e-01  3.58450132e-01\n",
      "  5.88829778e-01  1.10543868e+00  9.19273310e-01 -3.25707603e-01\n",
      "  1.28229578e+00  1.08449508e+00  7.72668081e-01  1.91991217e+00\n",
      "  1.95555434e-01  3.23544126e-01  6.65622993e-01 -1.14716230e+00\n",
      " -8.33008236e-01 -1.59395919e+00 -1.17043297e+00  8.72731967e-01\n",
      "  4.86438824e-01 -6.72440605e-01  5.21344831e-01  2.23480239e-01\n",
      "  1.39166794e+00 -9.86594667e-01  1.35443486e+00 -1.37215165e-01\n",
      "  1.09147628e+00  1.67091599e+00 -3.28034670e-01  5.35307234e-01\n",
      "  5.65559107e-01 -2.02373045e-01  1.37537847e+00  3.56123065e-01\n",
      "  5.32980167e-01  4.79457623e-01  1.28462285e+00  2.30461440e-01\n",
      "  5.86502711e-01 -3.93192549e-01 -5.70049651e-01 -1.46523434e-01\n",
      " -1.08433149e+00  7.00529000e-01  5.37634301e-01 -6.86403007e-01\n",
      " -2.44260253e-01 -1.37215165e-01  6.35371121e-01 -1.25579830e-01\n",
      " -1.67467038e-01  5.35307234e-01  4.73592923e-03 -1.74521855e+00\n",
      " -1.02615481e+00  3.93356139e-01  6.65622993e-01 -1.26351565e+00\n",
      "  1.05889734e+00  1.08216801e+00  4.00337341e-01 -5.80948832e-02\n",
      " -4.56023362e-01 -6.51497000e-01  4.70149355e-01 -1.08200442e+00\n",
      "  1.21713790e+00 -8.14391699e-01 -6.44515799e-01  8.38562115e-02\n",
      " -1.94301926e+00 -7.30617283e-01  1.08914921e+00 -3.00109864e-01\n",
      "  3.91029072e-01 -7.98102229e-01  1.30789352e+00  1.62902878e+00\n",
      " -8.46970639e-01 -1.79102374e-01  5.05055361e-01  1.23342737e+00\n",
      "  5.84175644e-01 -9.42380391e-01  1.10078455e+00  8.07574088e-01\n",
      " -1.05407961e+00 -2.30297851e-01  1.25743420e-01  8.70404900e-01\n",
      " -3.37342938e-01  1.51341158e-01 -1.50087650e+00  1.11781017e-01\n",
      "  1.32418299e+00 -1.36357954e+00  2.86311052e-01  2.56795334e-02\n",
      "  8.17949781e-05 -8.67914243e-01 -2.23316649e-01 -1.74448240e-01\n",
      "  8.85103458e-02  4.58514019e-01 -5.35143644e-01  3.42160663e-01\n",
      "  8.38562115e-02  2.09517836e-01 -8.05083431e-01  5.21344831e-01\n",
      " -8.21372901e-01 -6.09609792e-01  8.42480095e-01  1.67630628e-01\n",
      " -1.97094406e+00 -5.04891771e-01  2.11844903e-01 -1.95465459e+00\n",
      " -6.74767672e-01 -4.83948167e-01  1.25669804e+00 -8.83467558e-02\n",
      " -6.74767672e-01  1.35676193e+00 -1.39615848e+00  4.42960704e-02\n",
      "  5.23671898e-01 -1.24722618e+00  6.09773382e-01  7.40089141e-01\n",
      " -6.09609792e-01 -9.07474384e-01 -4.00173751e-01 -1.37288781e+00\n",
      " -1.70333134e+00 -2.88474529e-01 -4.60677496e-01 -7.84139827e-01\n",
      " -1.00521120e+00 -1.07967735e+00 -6.30553396e-01 -1.20925696e-01\n",
      " -9.56342794e-01 -3.21053468e-01  3.46814797e-01  3.28198260e-01\n",
      " -9.19109720e-01 -1.44502689e+00 -9.19109720e-01 -3.14072267e-01\n",
      "  3.37506528e-01  3.96419361e-02 -1.52414717e+00 -1.47295170e+00\n",
      "  2.07190769e-01 -7.79485692e-01 -2.65203857e-01  6.81912463e-01\n",
      "  6.40025255e-01  1.09453950e-01 -2.22924851e+00 -1.13944494e-01\n",
      "  1.25437098e+00 -5.44451913e-01 -1.60559452e+00  7.92020773e-02\n",
      " -1.72194788e+00 -1.06571495e+00 -9.63323995e-01 -1.12621869e+00\n",
      " -2.86147462e-01  1.90901299e-01  6.81912463e-01 -1.44968102e+00\n",
      "  6.00465114e-01  1.69418666e+00  2.37442642e-01 -1.01684654e+00\n",
      "  7.26126738e-01 -9.72632264e-01 -1.65139971e-01 -4.88602302e-01\n",
      " -4.42060959e-01 -7.88793961e-01  8.91348504e-01  4.93420026e-01\n",
      " -2.48914388e-01  1.76167161e+00  9.12292109e-01 -6.88730074e-01\n",
      "  6.98201933e-01  5.93483912e-01  7.44743275e-01  2.16499038e-01\n",
      "  6.29126074e-02  7.06299636e-03  1.71745733e+00  1.03795373e+00\n",
      " -1.60485837e-01 -6.07282725e-01 -4.69985765e-01  2.25807306e-01\n",
      "  7.56378611e-01 -1.48458703e+00  6.63295926e-01 -8.13655544e-02\n",
      " -1.90737709e-01  1.45915288e+00  1.05191614e+00 -5.49106047e-01\n",
      " -2.18662515e-01 -4.21117355e-01  5.28326033e-01  3.06715627e+00\n",
      " -1.42641035e+00 -1.25420739e+00 -4.09482019e-01  2.23480239e-01\n",
      " -5.28162443e-01 -1.35427127e+00 -8.91184914e-01 -8.79549579e-01\n",
      "  1.08914921e+00  7.07510201e-01 -4.87866147e-02  1.81286709e+00\n",
      "  3.37898326e+00  1.98274299e+00 -7.86466894e-01  4.56186952e-01\n",
      "  1.78726935e+00  5.05055361e-01  1.99205126e+00  4.65188898e+00\n",
      " -8.58605975e-01 -9.88921734e-01 -2.55895589e-01  1.04260787e+00\n",
      "  9.79777055e-01  1.32724621e-01 -4.32752691e-01 -1.20533898e+00\n",
      "  1.38003260e+00 -1.01451947e+00  9.93739458e-01 -1.95391844e-01\n",
      "  1.23416353e-01 -5.14200040e-01  9.39006348e-03 -5.21181241e-01\n",
      "  2.20614143e+00 -4.69985765e-01  9.09965041e-01  3.32080658e+00\n",
      "  1.80821295e+00  8.77386102e-01  6.60968859e-01  2.10253991e-02\n",
      "  6.47006456e-01  2.75300221e+00 -7.90384873e-02  5.93483912e-01\n",
      " -7.16654880e-01  2.56059179e-01 -5.74703785e-01 -1.45433516e+00\n",
      "  3.95683206e-01 -8.42316505e-01  1.20782963e+00 -4.49042160e-01\n",
      " -1.19370364e+00  1.60649427e-01 -3.37342938e-01 -9.56342794e-01\n",
      "  1.70116786e+00 -1.22628258e+00 -2.58222656e-01 -1.20925696e-01\n",
      " -8.35335303e-01 -2.07027179e-01  3.42160663e-01 -1.43571862e+00\n",
      "  1.55995292e-01 -9.30008901e-02  1.02472749e-01 -4.41324804e-02\n",
      " -7.60869155e-01 -4.25771489e-01 -1.28213219e+00 -1.40081262e+00\n",
      " -1.61490279e+00 -2.67530925e-01 -2.60549723e-01  8.84367303e-01\n",
      " -9.06738230e-02  1.39705823e-01  1.06355147e+00 -1.58158770e-01\n",
      " -2.62876790e-01  1.21015670e+00 -8.07410498e-01 -1.13785403e+00\n",
      " -1.53112837e+00 -1.26816979e+00 -4.18054133e-02 -8.37662371e-01\n",
      " -1.37754194e+00 -1.99421473e+00 -1.60485837e-01 -5.67722584e-01\n",
      " -1.21232018e+00 -9.76550243e-02 -9.06738230e-02 -5.32816577e-01\n",
      " -7.23636081e-01  8.61832787e-02 -1.38917728e+00  5.16690697e-01\n",
      " -9.49361593e-01 -4.63004563e-01 -1.49156823e+00 -3.16399334e-01\n",
      "  3.30525327e-01  6.02792181e-01 -8.79549579e-01  1.40441977e-02\n",
      "  1.32724621e-01 -1.04942548e+00 -6.27490174e-02  3.98010274e-01\n",
      " -1.17741417e+00  4.98074160e-01 -4.09482019e-01  1.15896122e+00\n",
      " -6.39861665e-01 -5.70049651e-01 -1.00753827e+00  5.56250838e-01\n",
      " -8.93511982e-01 -1.06571495e+00 -9.06738230e-02 -1.05873375e+00\n",
      " -7.58542088e-01 -1.00753827e+00 -5.16527107e-01 -1.62076749e-02\n",
      " -4.25771489e-01  1.50104009e+00 -1.21464725e+00 -5.11136818e-02\n",
      " -1.62812904e-01 -7.16654880e-01 -8.84203713e-01 -2.25643716e-01\n",
      " -2.83820394e-01  5.30653100e-01 -1.04636226e-01 -2.32624918e-01\n",
      " -5.44451913e-01  5.79521509e-01  1.75469041e+00 -2.95455730e-01\n",
      " -4.74639899e-01  6.07446315e-01  9.30908646e-01 -1.41477502e+00\n",
      " -9.74959331e-01 -4.51369228e-01 -7.49233820e-01 -7.49233820e-01\n",
      "  2.16499038e-01  2.07582567e+00 -9.63323995e-01 -1.06963293e-01\n",
      " -1.47295170e+00 -1.01451947e+00  7.98265819e-01 -4.21117355e-01\n",
      " -1.29609459e+00  9.30908646e-01 -1.20999311e+00 -7.28290216e-01\n",
      " -8.81876646e-01  9.12292109e-01 -1.64515466e+00 -5.70049651e-01\n",
      "  1.58322360e-01  6.95874866e-01 -3.65267744e-01 -4.90929369e-01\n",
      " -9.30008901e-02 -4.25771489e-01 -1.03779014e+00 -4.72312832e-01\n",
      "  4.02664408e-01 -1.95000046e+00 -2.32624918e-01 -7.25963148e-01\n",
      " -1.00986534e+00 -1.62812904e-01 -1.03080894e+00  4.84111757e-01\n",
      "  3.18889991e-01 -3.18726401e-01 -4.00173751e-01 -5.72376718e-01\n",
      "  5.56250838e-01  6.56314725e-01  2.44815641e+00  4.37570415e-01\n",
      "  5.60904972e-01  4.16626811e-01 -1.65679000e+00  4.93420026e-01\n",
      " -5.80948832e-02 -1.23559085e+00 -7.60869155e-01 -3.71512790e-02\n",
      " -3.94783462e-02  4.63168153e-01 -1.00288414e+00  6.26062852e-01\n",
      " -6.21245128e-01 -3.76903080e-01  7.54051544e-01 -3.74576012e-01\n",
      "  5.82584731e-02  6.23735785e-01 -5.46778980e-01  7.68750102e-02\n",
      "  5.82584731e-02 -7.70177424e-01  7.22208759e-02 -8.44643572e-01\n",
      " -4.86275234e-01  1.42657394e+00 -8.14391699e-01 -2.25643716e-01\n",
      " -5.67722584e-01  1.30323939e+00  2.03393846e+00 -3.79230147e-01\n",
      "  1.17171306e-02  2.86311052e-01  5.23671898e-01  1.32883712e+00\n",
      "  2.08047981e+00 -1.23559085e+00 -4.97910570e-01  2.65991952e+00\n",
      "  2.32714892e+00  1.38701380e+00  1.35908900e+00  2.07349860e+00\n",
      "  1.82915656e+00  1.62437465e+00  1.79192348e+00 -2.16335448e-01\n",
      " -2.48914388e-01  1.95555434e-01  3.37506528e-01 -2.76839193e-01\n",
      "  9.40216914e-01 -2.58222656e-01 -1.86083575e-01  2.05953620e+00\n",
      " -1.01451947e+00  2.48538949e+00 -8.53951840e-01 -8.28354102e-01\n",
      "  2.88638119e-01 -6.21245128e-01 -1.09363975e+00  5.12772718e-02\n",
      " -2.93128663e-01 -1.15535407e-02 -1.21697431e+00 -3.83884281e-01\n",
      " -1.86389897e+00 -6.70113537e-01 -5.67722584e-01 -1.09290360e-01\n",
      " -7.25963148e-01  2.11844903e-01  7.33107940e-01 -1.41012088e+00\n",
      "  2.95619320e-01 -1.50320357e+00  2.90965186e-01  2.14171971e-01\n",
      " -2.60549723e-01 -4.60677496e-01 -4.11809086e-01  4.53859885e-01\n",
      " -5.93320322e-01  1.21015670e+00 -6.91057142e-01  1.25743420e-01\n",
      " -1.49389530e+00 -1.43106449e+00  1.74611829e-01 -5.04891771e-01\n",
      " -8.35335303e-01  1.08449508e+00 -1.07036908e+00 -1.06804202e+00\n",
      "  2.86311052e-01 -1.31005700e+00 -5.11136818e-02 -1.58158770e-01\n",
      "  3.00273454e-01  2.25807306e-01 -2.48914388e-01 -6.02628591e-01\n",
      " -1.25420739e+00  5.37634301e-01  1.25743420e-01 -1.41869300e-01\n",
      " -8.39989438e-01 -1.44037276e+00 -1.25579830e-01 -1.63351933e+00\n",
      " -1.42408329e+00 -1.36125247e+00 -4.02500818e-01  1.69957695e-01\n",
      " -6.88730074e-01  3.21217058e-01 -3.88538415e-01  3.65431334e-01\n",
      "  7.58705678e-01  1.19852137e+00  1.44286341e+00  1.43122808e+00\n",
      " -1.12854576e+00  1.32651006e+00  1.42657394e+00  2.04091966e+00\n",
      "  3.28198260e-01  9.16946243e-01 -6.84075940e-01 -6.30553396e-01\n",
      "  1.17171306e-02  1.14499882e+00  5.09709496e-01  7.33107940e-01\n",
      "  2.35972786e+00  6.16754583e-01  2.24104744e+00  1.93620164e+00\n",
      "  6.98938088e-02  1.99903246e+00  7.88957551e-01  1.07984094e+00\n",
      "  1.82915656e+00  2.34576546e+00  2.63664885e+00  1.34978073e+00\n",
      "  7.21472604e-01  2.08513394e+00  2.04557380e+00  2.33645719e+00\n",
      "  1.22179204e+00]\n"
     ]
    }
   ],
   "source": [
    "import numpy as np\n",
    "from sklearn import decomposition, datasets\n",
    "from sklearn.preprocessing import StandardScaler\n",
    "\n",
    "data = datasets.load_breast_cancer()\n",
    "cancer = data.data\n",
    "cancer = StandardScaler().fit_transform(cancer)\n",
    "print(\"caner.shape: \", cancer.shape)"
   ]
  },
  {
   "cell_type": "code",
   "execution_count": 26,
   "id": "b6cab778",
   "metadata": {
    "ExecuteTime": {
     "end_time": "2021-10-12T02:52:12.209591Z",
     "start_time": "2021-10-12T02:52:12.169693Z"
    }
   },
   "outputs": [
    {
     "name": "stdout",
     "output_type": "stream",
     "text": [
      "covariance matrix shape: (30, 30)\n",
      "13.304990794374557\n",
      "5.701374603726147\n",
      "2.8229101550062263\n",
      "1.9841275177301958\n",
      "1.6516332423301217\n",
      "1.2094822398029728\n",
      "0.6764088817009061\n",
      "0.4774562546895071\n",
      "0.41762878210781695\n",
      "0.35131087488173407\n",
      "0.294433153491164\n",
      "0.2616211613661206\n",
      "0.2417824213283141\n",
      "0.15728614921759326\n",
      "0.0943006956010558\n",
      "0.08000340447737701\n",
      "0.05950361353043222\n",
      "0.05271142221014791\n",
      "0.049564700212981594\n",
      "0.031214260553066513\n",
      "0.030025663090428617\n",
      "0.02748771133890411\n",
      "0.02438369135459098\n",
      "0.018086793984305315\n",
      "0.015508527134418686\n",
      "0.008192037117607241\n",
      "0.0069126125791843076\n",
      "0.0015921360011974704\n",
      "0.0007501214127185555\n",
      "0.0001332790566641673\n",
      "matrix_w.shape: (30, 2)\n",
      "transformed[0]: [9.19283683 1.94858307]\n"
     ]
    }
   ],
   "source": [
    "covariance_matrix = np.cov(cancer, rowvar=False)\n",
    "print(\"covariance matrix shape:\", covariance_matrix.shape)\n",
    "eigen_value, eigen_vector = np.linalg.eig(covariance_matrix)\n",
    "eig_pairs = [(np.abs(eigen_value[i]), eigen_vector[:,i]) for i in range(len(eigen_value))]\n",
    "sorted_pairs = eig_pairs.sort(key=lambda x: x[0], reverse=True)\n",
    "for i in eig_pairs:\n",
    "    print(i[0])\n",
    "\n",
    "matrix_w = np.hstack((eig_pairs[0][1].reshape(30,1), eig_pairs[1][1].reshape(30, 1)))\n",
    "print(\"matrix_w.shape:\", matrix_w.shape)\n",
    "transformed = matrix_w.T.dot(cancer.T)\n",
    "transformed = transformed.T\n",
    "print(\"transformed[0]:\", transformed[0])"
   ]
  },
  {
   "cell_type": "code",
   "execution_count": 28,
   "id": "e27684d0",
   "metadata": {
    "ExecuteTime": {
     "end_time": "2021-10-12T02:53:30.523092Z",
     "start_time": "2021-10-12T02:53:30.198465Z"
    }
   },
   "outputs": [
    {
     "name": "stdout",
     "output_type": "stream",
     "text": [
      "same as pca process: [9.19283683 1.94858307]\n"
     ]
    }
   ],
   "source": [
    "pca = decomposition.PCA(n_components=2)\n",
    "x_std = StandardScaler().fit_transform(cancer)\n",
    "print(\"same as pca process:\",pca.fit_transform(x_std)[0])"
   ]
  },
  {
   "cell_type": "code",
   "execution_count": 34,
   "id": "a1ecca9b",
   "metadata": {
    "ExecuteTime": {
     "end_time": "2021-10-12T03:35:39.876463Z",
     "start_time": "2021-10-12T03:35:39.866462Z"
    },
    "scrolled": true
   },
   "outputs": [
    {
     "name": "stdout",
     "output_type": "stream",
     "text": [
      "[[0.5 0.5]\n",
      " [0.5 0.5]]\n",
      "[[0.5 0.5]\n",
      " [0.5 0.5]]\n"
     ]
    }
   ],
   "source": [
    "x = np.array([[1,2],[2,3]])\n",
    "print(np.cov(x))\n",
    "print(np.cov(x, rowvar=False))"
   ]
  },
  {
   "cell_type": "code",
   "execution_count": 54,
   "id": "383b715a",
   "metadata": {
    "ExecuteTime": {
     "end_time": "2021-10-12T06:16:32.761500Z",
     "start_time": "2021-10-12T06:16:32.749791Z"
    }
   },
   "outputs": [
    {
     "name": "stdout",
     "output_type": "stream",
     "text": [
      "[9.19283683 1.94858307]\n"
     ]
    }
   ],
   "source": [
    "cov_matrix = np.cov(cancer, rowvar=False)\n",
    "eig_value, eig_vector = np.linalg.eig(cov_matrix)\n",
    "eig_vector = eig_vector[:, 0:2] # 取两列\n",
    "x_std = StandardScaler().fit_transform(cancer)\n",
    "transformed = eig_vector.T.dot(cancer.T)\n",
    "transformed = transformed.T\n",
    "print(transformed[0])\n"
   ]
  },
  {
   "cell_type": "markdown",
   "id": "38f04545",
   "metadata": {},
   "source": [
    "## Solving linear equations\n",
    "\n",
    "2a + b + 2c = 8\n",
    "3a + 2b + c = 3\n",
    "b + c = 4"
   ]
  },
  {
   "cell_type": "code",
   "execution_count": 59,
   "id": "027e690f",
   "metadata": {
    "ExecuteTime": {
     "end_time": "2021-10-12T06:43:21.253686Z",
     "start_time": "2021-10-12T06:43:21.244430Z"
    }
   },
   "outputs": [
    {
     "name": "stdout",
     "output_type": "stream",
     "text": [
      "solver:\n",
      " [-0.2 -0.4  4.4]\n",
      "using build in function solve in numpy:\n",
      " [-0.2 -0.4  4.4]\n",
      "check if all elements are equal: allclose\n",
      " True\n"
     ]
    }
   ],
   "source": [
    "A = np.array([[2,1,2],[3,2,1],[0,1,1]])\n",
    "B = np.array([8,3,4])\n",
    "A_inv = np.linalg.inv(A)\n",
    "print(\"solver:\\n\", A_inv@B)\n",
    "print(\"using build in function solve in numpy:\\n\", np.linalg.solve(A, B))\n",
    "\n",
    "print(\"check if all elements are equal: allclose\\n\", np.allclose(A @ A_inv @ B, B))"
   ]
  },
  {
   "cell_type": "code",
   "execution_count": 71,
   "id": "cba89c53",
   "metadata": {
    "ExecuteTime": {
     "end_time": "2021-10-12T06:52:16.319858Z",
     "start_time": "2021-10-12T06:52:16.207368Z"
    }
   },
   "outputs": [
    {
     "name": "stdout",
     "output_type": "stream",
     "text": [
      "(array([0.90666667, 4.77333333]), array([3.38533333]), 2, array([19.82171108,  1.44905821]))\n"
     ]
    },
    {
     "name": "stderr",
     "output_type": "stream",
     "text": [
      "<ipython-input-71-2afb647b7691>:6: FutureWarning: `rcond` parameter will change to the default of machine precision times ``max(M, N)`` where M and N are the input matrix dimensions.\n",
      "To use the future default and silence this warning we advise to pass `rcond=None`, to keep using the old, explicitly pass `rcond=-1`.\n",
      "  w = linalg.lstsq(A, y)[0]\n",
      "<ipython-input-71-2afb647b7691>:7: FutureWarning: `rcond` parameter will change to the default of machine precision times ``max(M, N)`` where M and N are the input matrix dimensions.\n",
      "To use the future default and silence this warning we advise to pass `rcond=None`, to keep using the old, explicitly pass `rcond=-1`.\n",
      "  print(linalg.lstsq(A, y))\n"
     ]
    },
    {
     "data": {
      "image/png": "[encoded data removed]",
      "text/plain": [
       "<Figure size 432x288 with 1 Axes>"
      ]
     },
     "metadata": {
      "needs_background": "light"
     },
     "output_type": "display_data"
    }
   ],
   "source": [
    "from numpy import arange, array, ones, linalg\n",
    "from pylab import plot, show\n",
    "x = np.arange(1,11)\n",
    "A = np.vstack([x, np.ones(len(x))]).T\n",
    "y = [5, 6, 8, 9, 10, 11, 10.5, 11.8, 12.3, 14]\n",
    "w = linalg.lstsq(A, y)[0]\n",
    "print(linalg.lstsq(A, y))\n",
    "line = w[0] * x + w[1]\n",
    "plot(x, line, 'r-', x, y, 'o')\n",
    "show()"
   ]
  },
  {
   "cell_type": "code",
   "execution_count": 74,
   "id": "7bc097ae",
   "metadata": {
    "ExecuteTime": {
     "end_time": "2021-10-12T06:59:44.940616Z",
     "start_time": "2021-10-12T06:59:44.933716Z"
    }
   },
   "outputs": [
    {
     "name": "stdout",
     "output_type": "stream",
     "text": [
      "gradient:\n",
      " [2.  2.5 2.  2.5 3.5 3. ]\n"
     ]
    }
   ],
   "source": [
    "a = np.array([1,3,6,7,11,14])\n",
    "gr = np.gradient(a)\n",
    "print(\"gradient in one-dimension:\\n\", gr)\n",
    "\n",
    "a = a.reshape(2, 3)\n",
    "gr = np.gradient(a)\n",
    "print(\"gradient in multi-dimension:\\n\", gr)"
   ]
  },
  {
   "cell_type": "code",
   "execution_count": null,
   "id": "c5769e8d",
   "metadata": {},
   "outputs": [],
   "source": []
  }
 ],
 "metadata": {
  "kernelspec": {
   "display_name": "Python 3",
   "language": "python",
   "name": "python3"
  },
  "language_info": {
   "codemirror_mode": {
    "name": "ipython",
    "version": 3
   },
   "file_extension": ".py",
   "mimetype": "text/x-python",
   "name": "python",
   "nbconvert_exporter": "python",
   "pygments_lexer": "ipython3",
   "version": "3.8.8"
  }
 },
 "nbformat": 4,
 "nbformat_minor": 5
}

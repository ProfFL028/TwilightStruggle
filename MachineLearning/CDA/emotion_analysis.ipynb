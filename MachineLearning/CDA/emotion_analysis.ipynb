{
 "cells": [
  {
   "cell_type": "code",
   "execution_count": 5,
   "metadata": {
    "collapsed": true
   },
   "outputs": [],
   "source": [
    "import numpy as np\n",
    "import os\n",
    "import pandas as pd\n",
    "import jieba"
   ]
  },
  {
   "cell_type": "code",
   "execution_count": 7,
   "outputs": [
    {
     "data": {
      "text/plain": "              0\n0         一下子爆发\n1     一下子爆发的一连串\n2           一巴掌\n3            一再\n4          一再叮嘱\n...         ...\n8269         恶心\n8270        恶心鬼\n8271         憋死\n8272         憋着\n8273         蹩脚\n\n[8274 rows x 1 columns]",
      "text/html": "<div>\n<style scoped>\n    .dataframe tbody tr th:only-of-type {\n        vertical-align: middle;\n    }\n\n    .dataframe tbody tr th {\n        vertical-align: top;\n    }\n\n    .dataframe thead th {\n        text-align: right;\n    }\n</style>\n<table border=\"1\" class=\"dataframe\">\n  <thead>\n    <tr style=\"text-align: right;\">\n      <th></th>\n      <th>0</th>\n    </tr>\n  </thead>\n  <tbody>\n    <tr>\n      <th>0</th>\n      <td>一下子爆发</td>\n    </tr>\n    <tr>\n      <th>1</th>\n      <td>一下子爆发的一连串</td>\n    </tr>\n    <tr>\n      <th>2</th>\n      <td>一巴掌</td>\n    </tr>\n    <tr>\n      <th>3</th>\n      <td>一再</td>\n    </tr>\n    <tr>\n      <th>4</th>\n      <td>一再叮嘱</td>\n    </tr>\n    <tr>\n      <th>...</th>\n      <td>...</td>\n    </tr>\n    <tr>\n      <th>8269</th>\n      <td>恶心</td>\n    </tr>\n    <tr>\n      <th>8270</th>\n      <td>恶心鬼</td>\n    </tr>\n    <tr>\n      <th>8271</th>\n      <td>憋死</td>\n    </tr>\n    <tr>\n      <th>8272</th>\n      <td>憋着</td>\n    </tr>\n    <tr>\n      <th>8273</th>\n      <td>蹩脚</td>\n    </tr>\n  </tbody>\n</table>\n<p>8274 rows × 1 columns</p>\n</div>"
     },
     "execution_count": 7,
     "metadata": {},
     "output_type": "execute_result"
    }
   ],
   "source": [
    "jieba.load_userdict=('./NTUSD.txt')\n",
    "negative = pd.read_csv('./negative.txt', header=None)\n",
    "negative"
   ],
   "metadata": {
    "collapsed": false,
    "pycharm": {
     "name": "#%%\n"
    }
   }
  },
  {
   "cell_type": "code",
   "execution_count": null,
   "outputs": [],
   "source": [],
   "metadata": {
    "collapsed": false,
    "pycharm": {
     "name": "#%%\n"
    }
   }
  }
 ],
 "metadata": {
  "kernelspec": {
   "display_name": "Python 3",
   "language": "python",
   "name": "python3"
  },
  "language_info": {
   "codemirror_mode": {
    "name": "ipython",
    "version": 2
   },
   "file_extension": ".py",
   "mimetype": "text/x-python",
   "name": "python",
   "nbconvert_exporter": "python",
   "pygments_lexer": "ipython2",
   "version": "2.7.6"
  }
 },
 "nbformat": 4,
 "nbformat_minor": 0
}
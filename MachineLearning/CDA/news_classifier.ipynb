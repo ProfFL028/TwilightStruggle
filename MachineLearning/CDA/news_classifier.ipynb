{
 "cells": [
  {
   "cell_type": "code",
   "execution_count": 2,
   "metadata": {
    "collapsed": true
   },
   "outputs": [],
   "source": [
    "import warnings\n",
    "warnings.filterwarnings(\"ignore\")\n",
    "import pandas as pd\n",
    "import numpy as np\n",
    "import jieba\n",
    "import re"
   ]
  },
  {
   "cell_type": "code",
   "execution_count": 4,
   "outputs": [
    {
     "data": {
      "text/plain": "  category                                 theme  \\\n0       汽车  新辉腾 4.2 V8 4座加长Individual版2011款 最新报价   \n1       汽车                         918 Spyder概念车   \n2       汽车              日内瓦亮相 MINI性能版/概念车-1.6T引擎   \n3       汽车                清仓大甩卖一汽夏利N5威志V2低至3.39万   \n4       汽车                    大众敞篷家族新成员 高尔夫敞篷版实拍   \n\n                                                 URL  \\\n0        http://auto.data.people.com.cn/model_15782/   \n1  http://auto.data.people.com.cn/prdview_165423....   \n2  http://auto.data.people.com.cn/news/story_5249...   \n3  http://auto.data.people.com.cn/news/story_6144...   \n4  http://auto.data.people.com.cn/news/story_5686...   \n\n                                             content  \n0  经销商 电话 试驾/订车U憬杭州滨江区江陵路1780号4008-112233转5864#保常...  \n1       呼叫热线 4008-100-300 服务邮箱 kf@peopledaily.com.cn  \n2  MINI品牌在二月曾经公布了最新的MINI新概念车Clubvan效果图,不过现在在日内瓦车展...  \n3  清仓大甩卖!一汽夏利N5､威志V2低至3.39万=日,启新中国一汽强势推出一汽夏利N5､威志...  \n4  在今年3月的日内瓦车展上,我们见到了高尔夫家族的新成员,高尔夫敞篷版,这款全新敞篷车受到了众...  ",
      "text/html": "<div>\n<style scoped>\n    .dataframe tbody tr th:only-of-type {\n        vertical-align: middle;\n    }\n\n    .dataframe tbody tr th {\n        vertical-align: top;\n    }\n\n    .dataframe thead th {\n        text-align: right;\n    }\n</style>\n<table border=\"1\" class=\"dataframe\">\n  <thead>\n    <tr style=\"text-align: right;\">\n      <th></th>\n      <th>category</th>\n      <th>theme</th>\n      <th>URL</th>\n      <th>content</th>\n    </tr>\n  </thead>\n  <tbody>\n    <tr>\n      <th>0</th>\n      <td>汽车</td>\n      <td>新辉腾 4.2 V8 4座加长Individual版2011款 最新报价</td>\n      <td>http://auto.data.people.com.cn/model_15782/</td>\n      <td>经销商 电话 试驾/订车U憬杭州滨江区江陵路1780号4008-112233转5864#保常...</td>\n    </tr>\n    <tr>\n      <th>1</th>\n      <td>汽车</td>\n      <td>918 Spyder概念车</td>\n      <td>http://auto.data.people.com.cn/prdview_165423....</td>\n      <td>呼叫热线 4008-100-300 服务邮箱 kf@peopledaily.com.cn</td>\n    </tr>\n    <tr>\n      <th>2</th>\n      <td>汽车</td>\n      <td>日内瓦亮相 MINI性能版/概念车-1.6T引擎</td>\n      <td>http://auto.data.people.com.cn/news/story_5249...</td>\n      <td>MINI品牌在二月曾经公布了最新的MINI新概念车Clubvan效果图,不过现在在日内瓦车展...</td>\n    </tr>\n    <tr>\n      <th>3</th>\n      <td>汽车</td>\n      <td>清仓大甩卖一汽夏利N5威志V2低至3.39万</td>\n      <td>http://auto.data.people.com.cn/news/story_6144...</td>\n      <td>清仓大甩卖!一汽夏利N5､威志V2低至3.39万=日,启新中国一汽强势推出一汽夏利N5､威志...</td>\n    </tr>\n    <tr>\n      <th>4</th>\n      <td>汽车</td>\n      <td>大众敞篷家族新成员 高尔夫敞篷版实拍</td>\n      <td>http://auto.data.people.com.cn/news/story_5686...</td>\n      <td>在今年3月的日内瓦车展上,我们见到了高尔夫家族的新成员,高尔夫敞篷版,这款全新敞篷车受到了众...</td>\n    </tr>\n  </tbody>\n</table>\n</div>"
     },
     "execution_count": 4,
     "metadata": {},
     "output_type": "execute_result"
    }
   ],
   "source": [
    "data = pd.read_table(\"./newsdata.txt\", encoding=\"utf-8\", names=['category','theme','URL','content'])\n",
    "data.head(5)"
   ],
   "metadata": {
    "collapsed": false,
    "pycharm": {
     "name": "#%%\n"
    }
   }
  },
  {
   "cell_type": "code",
   "execution_count": 6,
   "outputs": [
    {
     "data": {
      "text/plain": "                                                content\n0     经销商,电话,试驾,订车,憬杭州滨江区江陵路,号,转,保常叮,万,阒菔邪自魄白云大道北,号,...\n1                                             呼叫热线,服务邮箱\n2     品牌在二月曾经公布了最新的,新概念车,效果图,不过现在在日内瓦车展上,品牌带来了全新的,版和...\n3     清仓大甩卖,一汽夏利,威志,低至,万,日,启新中国一汽强势推出一汽夏利,威志,清仓大甩卖,活...\n4     在今年,月的日内瓦车展上,我们见到了高尔夫家族的新成员,高尔夫敞篷版,这款全新敞篷车受到了众...\n...                                                 ...\n4995  随着天气逐渐炎热,补水变得日益重要,据美国,跑步世界,杂志报道,喝水并不是为身体补充水分的唯...\n4996  我其实不想说这些话刺激他,他也是不得已,可是,我又该怎样说,怎样做,我只能走,离开这个伤心地...\n4997  岁刘晓庆最新嫩照,衷诘牧跸庆绝对看不出她已经,岁了,她绝对可以秒杀刘亦菲,范冰冰这类美女,无...\n4998  导语,做了爸爸就是一种幸福,无论是领养还是亲生,更何况出现在影视剧中,时尚圈永远是需要领军人...\n4999  全球最美女人合成图,国整形外科教授李承哲,在国际学术杂志美容整形外科学会学报发表了考虑种族和...\n\n[5000 rows x 1 columns]",
      "text/html": "<div>\n<style scoped>\n    .dataframe tbody tr th:only-of-type {\n        vertical-align: middle;\n    }\n\n    .dataframe tbody tr th {\n        vertical-align: top;\n    }\n\n    .dataframe thead th {\n        text-align: right;\n    }\n</style>\n<table border=\"1\" class=\"dataframe\">\n  <thead>\n    <tr style=\"text-align: right;\">\n      <th></th>\n      <th>content</th>\n    </tr>\n  </thead>\n  <tbody>\n    <tr>\n      <th>0</th>\n      <td>经销商,电话,试驾,订车,憬杭州滨江区江陵路,号,转,保常叮,万,阒菔邪自魄白云大道北,号,...</td>\n    </tr>\n    <tr>\n      <th>1</th>\n      <td>呼叫热线,服务邮箱</td>\n    </tr>\n    <tr>\n      <th>2</th>\n      <td>品牌在二月曾经公布了最新的,新概念车,效果图,不过现在在日内瓦车展上,品牌带来了全新的,版和...</td>\n    </tr>\n    <tr>\n      <th>3</th>\n      <td>清仓大甩卖,一汽夏利,威志,低至,万,日,启新中国一汽强势推出一汽夏利,威志,清仓大甩卖,活...</td>\n    </tr>\n    <tr>\n      <th>4</th>\n      <td>在今年,月的日内瓦车展上,我们见到了高尔夫家族的新成员,高尔夫敞篷版,这款全新敞篷车受到了众...</td>\n    </tr>\n    <tr>\n      <th>...</th>\n      <td>...</td>\n    </tr>\n    <tr>\n      <th>4995</th>\n      <td>随着天气逐渐炎热,补水变得日益重要,据美国,跑步世界,杂志报道,喝水并不是为身体补充水分的唯...</td>\n    </tr>\n    <tr>\n      <th>4996</th>\n      <td>我其实不想说这些话刺激他,他也是不得已,可是,我又该怎样说,怎样做,我只能走,离开这个伤心地...</td>\n    </tr>\n    <tr>\n      <th>4997</th>\n      <td>岁刘晓庆最新嫩照,衷诘牧跸庆绝对看不出她已经,岁了,她绝对可以秒杀刘亦菲,范冰冰这类美女,无...</td>\n    </tr>\n    <tr>\n      <th>4998</th>\n      <td>导语,做了爸爸就是一种幸福,无论是领养还是亲生,更何况出现在影视剧中,时尚圈永远是需要领军人...</td>\n    </tr>\n    <tr>\n      <th>4999</th>\n      <td>全球最美女人合成图,国整形外科教授李承哲,在国际学术杂志美容整形外科学会学报发表了考虑种族和...</td>\n    </tr>\n  </tbody>\n</table>\n<p>5000 rows × 1 columns</p>\n</div>"
     },
     "execution_count": 6,
     "metadata": {},
     "output_type": "execute_result"
    }
   ],
   "source": [
    "data[['content']].applymap(lambda x: ','.join(re.findall(\"[\\u4e00-\\u9fa5]+\",x)))"
   ],
   "metadata": {
    "collapsed": false,
    "pycharm": {
     "name": "#%%\n"
    }
   }
  },
  {
   "cell_type": "code",
   "execution_count": null,
   "outputs": [
    {
     "name": "stdout",
     "output_type": "stream",
     "text": [
      "showing info https://raw.githubusercontent.com/nltk/nltk_data/gh-pages/index.xml\n"
     ]
    }
   ],
   "source": [
    "import nltk\n",
    "nltk.download()"
   ],
   "metadata": {
    "collapsed": false,
    "pycharm": {
     "name": "#%%\n",
     "is_executing": true
    }
   }
  }
 ],
 "metadata": {
  "kernelspec": {
   "display_name": "Python 3",
   "language": "python",
   "name": "python3"
  },
  "language_info": {
   "codemirror_mode": {
    "name": "ipython",
    "version": 2
   },
   "file_extension": ".py",
   "mimetype": "text/x-python",
   "name": "python",
   "nbconvert_exporter": "python",
   "pygments_lexer": "ipython2",
   "version": "2.7.6"
  }
 },
 "nbformat": 4,
 "nbformat_minor": 0
}
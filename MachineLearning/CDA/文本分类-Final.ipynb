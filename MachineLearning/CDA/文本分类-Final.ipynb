{
 "cells": [
  {
   "cell_type": "markdown",
   "metadata": {},
   "source": [
    "# 文本分类"
   ]
  },
  {
   "cell_type": "markdown",
   "metadata": {},
   "source": [
    "文本分类流程  \n",
    "1、文本的清洗:pandas，正则表达式，字符串序列处理方法  \n",
    "2、分词：jieba  \n",
    "3、去停用词  \n",
    "4、文本向量化：词袋模型，TF-IDF  \n",
    "5、建模：贝叶斯  \n",
    "6、模型评估：模型得分，混淆矩阵，分类报告  \n",
    "7、应用：新数据的预测"
   ]
  },
  {
   "cell_type": "markdown",
   "metadata": {},
   "source": [
    "数据源：http://www.sogou.com/labs/resource/ca.php"
   ]
  },
  {
   "cell_type": "markdown",
   "metadata": {},
   "source": [
    "## 读取数据"
   ]
  },
  {
   "cell_type": "code",
   "execution_count": 2,
   "metadata": {},
   "outputs": [],
   "source": [
    "#读取数据\n",
    "import warnings\n",
    "import re\n",
    "warnings.filterwarnings(\"ignore\")\n",
    "import pandas as pd\n",
    "import jieba\n",
    "df_news = pd.read_table('./newsdata.txt',names=['category','theme','URL','content'],encoding='utf-8')"
   ]
  },
  {
   "cell_type": "code",
   "execution_count": 3,
   "metadata": {},
   "outputs": [
    {
     "data": {
      "text/plain": "     category                                 theme  \\\n0          汽车  新辉腾 4.2 V8 4座加长Individual版2011款 最新报价   \n1          汽车                         918 Spyder概念车   \n2          汽车              日内瓦亮相 MINI性能版/概念车-1.6T引擎   \n3          汽车                清仓大甩卖一汽夏利N5威志V2低至3.39万   \n4          汽车                    大众敞篷家族新成员 高尔夫敞篷版实拍   \n...       ...                                   ...   \n4995       时尚                          常吃六类食物快速补充水分   \n4996       时尚                   情感:你是我的那盘菜 吃不起我走【2】   \n4997       时尚                     揭秘不老女神刘晓庆的四任丈夫(图)   \n4998       时尚                         样板潮爸 时尚圈里的父亲们   \n4999       时尚              全球最美女人长啥样?中国最美女人酷似章子怡(图)   \n\n                                                    URL  \\\n0           http://auto.data.people.com.cn/model_15782/   \n1     http://auto.data.people.com.cn/prdview_165423....   \n2     http://auto.data.people.com.cn/news/story_5249...   \n3     http://auto.data.people.com.cn/news/story_6144...   \n4     http://auto.data.people.com.cn/news/story_5686...   \n...                                                 ...   \n4995         http://lady.people.com.cn/GB/18248366.html   \n4996  http://lady.people.com.cn/n/2012/0712/c1014-18...   \n4997  http://lady.people.com.cn/n/2012/0730/c1014-18...   \n4998         http://lady.people.com.cn/GB/18215232.html   \n4999  http://lady.people.com.cn/BIG5/n/2012/0727/c10...   \n\n                                                content  \n0     经销商 电话 试驾/订车U憬杭州滨江区江陵路1780号4008-112233转5864#保常...  \n1          呼叫热线 4008-100-300 服务邮箱 kf@peopledaily.com.cn  \n2     MINI品牌在二月曾经公布了最新的MINI新概念车Clubvan效果图,不过现在在日内瓦车展...  \n3     清仓大甩卖!一汽夏利N5､威志V2低至3.39万=日,启新中国一汽强势推出一汽夏利N5､威志...  \n4     在今年3月的日内瓦车展上,我们见到了高尔夫家族的新成员,高尔夫敞篷版,这款全新敞篷车受到了众...  \n...                                                 ...  \n4995  随着天气逐渐炎热,补水变得日益重要｡据美国《跑步世界》杂志报道,喝水并不是为身体补充水分的唯...  \n4996  我其实不想说这些话刺激他,他也是不得已｡可是,我又该怎样说,怎样做?我只能走,离开这个伤心地...  \n4997  58岁刘晓庆最新嫩照O衷诘牧跸庆绝对看不出她已经58岁了,她绝对可以秒杀刘亦菲､范冰冰这类美...  \n4998  导语:做了爸爸就是一种幸福,无论是领养还是亲生,更何况出现在影视剧中｡时尚圈永远是需要领军人...  \n4999  全球最美女人合成图::国整形外科教授李承哲,在国际学术杂志美容整形外科学会学报发表了考虑种族...  \n\n[5000 rows x 4 columns]",
      "text/html": "<div>\n<style scoped>\n    .dataframe tbody tr th:only-of-type {\n        vertical-align: middle;\n    }\n\n    .dataframe tbody tr th {\n        vertical-align: top;\n    }\n\n    .dataframe thead th {\n        text-align: right;\n    }\n</style>\n<table border=\"1\" class=\"dataframe\">\n  <thead>\n    <tr style=\"text-align: right;\">\n      <th></th>\n      <th>category</th>\n      <th>theme</th>\n      <th>URL</th>\n      <th>content</th>\n    </tr>\n  </thead>\n  <tbody>\n    <tr>\n      <th>0</th>\n      <td>汽车</td>\n      <td>新辉腾 4.2 V8 4座加长Individual版2011款 最新报价</td>\n      <td>http://auto.data.people.com.cn/model_15782/</td>\n      <td>经销商 电话 试驾/订车U憬杭州滨江区江陵路1780号4008-112233转5864#保常...</td>\n    </tr>\n    <tr>\n      <th>1</th>\n      <td>汽车</td>\n      <td>918 Spyder概念车</td>\n      <td>http://auto.data.people.com.cn/prdview_165423....</td>\n      <td>呼叫热线 4008-100-300 服务邮箱 kf@peopledaily.com.cn</td>\n    </tr>\n    <tr>\n      <th>2</th>\n      <td>汽车</td>\n      <td>日内瓦亮相 MINI性能版/概念车-1.6T引擎</td>\n      <td>http://auto.data.people.com.cn/news/story_5249...</td>\n      <td>MINI品牌在二月曾经公布了最新的MINI新概念车Clubvan效果图,不过现在在日内瓦车展...</td>\n    </tr>\n    <tr>\n      <th>3</th>\n      <td>汽车</td>\n      <td>清仓大甩卖一汽夏利N5威志V2低至3.39万</td>\n      <td>http://auto.data.people.com.cn/news/story_6144...</td>\n      <td>清仓大甩卖!一汽夏利N5､威志V2低至3.39万=日,启新中国一汽强势推出一汽夏利N5､威志...</td>\n    </tr>\n    <tr>\n      <th>4</th>\n      <td>汽车</td>\n      <td>大众敞篷家族新成员 高尔夫敞篷版实拍</td>\n      <td>http://auto.data.people.com.cn/news/story_5686...</td>\n      <td>在今年3月的日内瓦车展上,我们见到了高尔夫家族的新成员,高尔夫敞篷版,这款全新敞篷车受到了众...</td>\n    </tr>\n    <tr>\n      <th>...</th>\n      <td>...</td>\n      <td>...</td>\n      <td>...</td>\n      <td>...</td>\n    </tr>\n    <tr>\n      <th>4995</th>\n      <td>时尚</td>\n      <td>常吃六类食物快速补充水分</td>\n      <td>http://lady.people.com.cn/GB/18248366.html</td>\n      <td>随着天气逐渐炎热,补水变得日益重要｡据美国《跑步世界》杂志报道,喝水并不是为身体补充水分的唯...</td>\n    </tr>\n    <tr>\n      <th>4996</th>\n      <td>时尚</td>\n      <td>情感:你是我的那盘菜 吃不起我走【2】</td>\n      <td>http://lady.people.com.cn/n/2012/0712/c1014-18...</td>\n      <td>我其实不想说这些话刺激他,他也是不得已｡可是,我又该怎样说,怎样做?我只能走,离开这个伤心地...</td>\n    </tr>\n    <tr>\n      <th>4997</th>\n      <td>时尚</td>\n      <td>揭秘不老女神刘晓庆的四任丈夫(图)</td>\n      <td>http://lady.people.com.cn/n/2012/0730/c1014-18...</td>\n      <td>58岁刘晓庆最新嫩照O衷诘牧跸庆绝对看不出她已经58岁了,她绝对可以秒杀刘亦菲､范冰冰这类美...</td>\n    </tr>\n    <tr>\n      <th>4998</th>\n      <td>时尚</td>\n      <td>样板潮爸 时尚圈里的父亲们</td>\n      <td>http://lady.people.com.cn/GB/18215232.html</td>\n      <td>导语:做了爸爸就是一种幸福,无论是领养还是亲生,更何况出现在影视剧中｡时尚圈永远是需要领军人...</td>\n    </tr>\n    <tr>\n      <th>4999</th>\n      <td>时尚</td>\n      <td>全球最美女人长啥样?中国最美女人酷似章子怡(图)</td>\n      <td>http://lady.people.com.cn/BIG5/n/2012/0727/c10...</td>\n      <td>全球最美女人合成图::国整形外科教授李承哲,在国际学术杂志美容整形外科学会学报发表了考虑种族...</td>\n    </tr>\n  </tbody>\n</table>\n<p>5000 rows × 4 columns</p>\n</div>"
     },
     "execution_count": 3,
     "metadata": {},
     "output_type": "execute_result"
    }
   ],
   "source": [
    "df_news"
   ]
  },
  {
   "cell_type": "code",
   "execution_count": 4,
   "metadata": {},
   "outputs": [
    {
     "data": {
      "text/plain": "array(['汽车', '财经', '科技', '健康', '体育', '教育', '文化', '军事', '娱乐', '时尚'],\n      dtype=object)"
     },
     "execution_count": 4,
     "metadata": {},
     "output_type": "execute_result"
    }
   ],
   "source": [
    "df_news.category.unique()"
   ]
  },
  {
   "cell_type": "code",
   "execution_count": 5,
   "metadata": {},
   "outputs": [
    {
     "name": "stdout",
     "output_type": "stream",
     "text": [
      "<class 'pandas.core.frame.DataFrame'>\n",
      "RangeIndex: 5000 entries, 0 to 4999\n",
      "Data columns (total 4 columns):\n",
      " #   Column    Non-Null Count  Dtype \n",
      "---  ------    --------------  ----- \n",
      " 0   category  5000 non-null   object\n",
      " 1   theme     5000 non-null   object\n",
      " 2   URL       5000 non-null   object\n",
      " 3   content   5000 non-null   object\n",
      "dtypes: object(4)\n",
      "memory usage: 156.4+ KB\n"
     ]
    }
   ],
   "source": [
    "df_news.info()"
   ]
  },
  {
   "cell_type": "markdown",
   "metadata": {},
   "source": [
    "## 数据清洗"
   ]
  },
  {
   "cell_type": "code",
   "execution_count": 6,
   "metadata": {},
   "outputs": [
    {
     "data": {
      "text/plain": "array(['经销商 电话 试驾/订车U憬杭州滨江区江陵路1780号4008-112233转5864#保常叮00万9阒菔邪自魄白云大道北1361号;广州市天河区黄埔大道西100号富力盈泰大厦105室4008-112233转9915#保常福00万I蕉省淄博市张店区山泉路89号4008-112233转5156#保常叮00万4罅保税区黄海西三路101号4008-112233转2603#保玻埃00万L粕绞新纺锨复兴路21号4008-112233转3043#保常叮00万V泄云南昆明市度假区滇池路1268号4008-112233转7312#保常叮00万R川市兴庆区丽景北街800号4008-112233转3269#保常叮00万9尔滨市道外区先锋路469号4008-112233转2029#保矗福00万3ど呈刑煨那桂花坪街道雀园路口/星沙中南汽车世界A区05号4008-112233转7666#保常梗00万N浜菏信塘城经济开发区盘龙汽车城#矗埃埃福112233转7524#保常叮00万9阒莘禺区市广路989号(祈福食街旁)#矗埃埃福112233转9963#保常叮00万F侄新区御桥路1377号4008-112233转6337#保常福00万0不帐『戏适邪河工业区纬一路22号138.00万I虾J斜ι角江杨南路1381号4008-112233转6722#保常叮00万t奚蕉路198号4008-112233转5933#保常叮00万1本┦谐阳区北四环望京街68号4008-112233转8615#保玻福00万1本┦胁平区立汤路亚北博晟汽车汇展中心#保埃福86万=西省南昌市青山湖区科技大道599号136.00万I苄耸信劢工业区康宁路车管所对面#保常叮00万D暇┦薪宁区天元中路111号4008-112233转5501#保常叮00万3ご菏形餍戮济技术开发区长沈路4222号136.00万J家庄市北二环东路86号河北国际汽车贸易园区#矗埃埃福112233转3178#保矗福00万8壅⑶城港路99号广达车城永兴路3号136.00万I蜓羰刑西区北二中路11号4008-112233转2498#保常叮00万3啥际星嘌虼蟮溃保福负牛ㄐ挛幕宫对面)#保矗常80万A赡省沈阳市皇姑区鸭绿江街32号甲(长客总站北行1500米)#保矗福00万I钲谑新藓区罗芳立交六星汽车园进口大众4S店4008-112233转9866#保担埃00万3ご憾环城路10056号136.00万',\n       '呼叫热线 4008-100-300 服务邮箱 kf@peopledaily.com.cn',\n       'MINI品牌在二月曾经公布了最新的MINI新概念车Clubvan效果图,不过现在在日内瓦车展上,MINI品牌带来了全新的COUNTRYMAN JCW版和Clubvan概念车以及更多JCW性能版车型亮相｡#停桑危伞｡茫希眨危裕遥伲停粒巍｡剩茫装嬖谕夤凵媳浠非常明显,其加装了空气动力学套件外观,并且针对个性的性能版车型采用了非常吸引眼球的黑色车身配红色车顶以及红色拉花的搭配｡新款车型在性能上也做了改进,采用18英寸合金轮毂,高性能刹车套件以及运动化悬挂组件,配合运动版尾排以及车侧的JCW徽标彰显着这是一款体现性能的车型｡#停桑危伞｡茫希眨危裕遥伲停粒巍｡剩茫装嬖诙力上搭载的是一款160千瓦的1.6升涡轮增压引擎,最大扭矩300牛米,同时还配有全轮驱动系统,百公里加速仅需7.0秒,极速被限制在225km/h或223km/h(选装6速自动变速箱)｡...全文 > (来源:网上车市)',\n       '清仓大甩卖!一汽夏利N5､威志V2低至3.39万=日,启新中国一汽强势推出一汽夏利N5､威志V2＂清仓大甩卖＂活动,冲击一汽家用精品轿车上市以来史无前例的＂谷底价＂销售｡其中,一汽N5低至3.39万,威志V2低至3.89万,更有全新触底冰点价新威姿､一汽A+及威志的独家包销＂珍藏版＂车型限量抢购!更多清仓底价促销优惠欢迎到店详细咨询｡W魑一款经典的国民家用精品轿车,一汽N5配备的安全气囊､ABS+EBD､前后雾灯､EPS电子助力转向系统､四门电动窗､铝合金轮毂等,显著提升了行车安全及档次,让您切身体验欧式风格座驾带来的惬意与舒适｡R黄N5搭载的中国一汽集团自主研发的､具有国际先进水平和领先技术的新一代高性能CA4GA1发动机,应用VCT-i技术､8mm曲轴偏置､电子节气门､静音齿形链传动等多重世界领先技术及构件,使得整车具备高动力､低燃油消耗等特性,达到最佳驾驭状态｡并且拥有同级车中最宽120MM的B柱及最小转弯半径4.75M｡O秩缃瘢最低仅售3.39万的一汽N5创造了N5销售以来最低的促销神话｡选择此刻下手将成为N5新车主独一无二的明智之选!M志V2是一款源自丰田NBC平台的精品时尚小车,搭载由中国一汽自主研发的CA4GA1发动机,综合运用静音正时链条､轻量化设计､8mm曲轴偏置设计､VCT-i正时系统､DENSO32位电控喷油系统､无回油燃油系统等六大先进技术;同时配备了博世8.0版本的ABS+EBD,高强度车身设计,加上国内外知名专家精心调校的全新加强型底盘,高刚性H型副车架,以及比肩中级车使用的四轮独立悬挂系统,都为其安全性能提供了强大的后盾｡让威志V2在拥有良好操控性的同时,显著提升了驾乘的安全性｡H缃瘢在启新最低仅售3万余元的一汽威志V2再次创造了家用精品轿车＂性价比之王＂的传奇｡与同级别小车相比,威志V2的高性价比､低油耗､时尚动感的外型,再加上高安全性和随心所欲的驾驭感,让其名副其实地担任起＂AO级小车之王＂的称号!3此之外,最低仅需2万多元的＂性价比之王＂一汽A+如今也已然成为不少客户的练手车及家用入门级轿车,其节能省油､皮实赖用的特性已得到广大消费者的广泛认可｡另外,源于丰田NBC平台的全球战略车型YARIS--一汽威姿,这款系出名门的车型自上市之日起便牢牢地吸引了追求时尚个性的用户群体的目光,其产品力更是有口皆碑｡如今,通过对新威姿的切身使用体验,让越来越多的消费者开始对天津一汽品牌的长远发展目标有了更多的认知和足够的信赖｡9司名称:成都启新汽车服务有限责任公司(中国一汽4S店)9司地址:成都市高新区科园南一路2号(成雅高速入口往大件路方向前行,下桥后右转即到)N恼碌己烬M志V2详细报价M志V2经销商O睦其他车系',\n       '在今年3月的日内瓦车展上,我们见到了高尔夫家族的新成员,高尔夫敞篷版,这款全新敞篷车受到了众多高尔夫车迷的关注,如今,在刚刚开幕的北京车展上,敞篷高尔夫如约而至,同时它将于本月16号正式上市并且发布价格｡与此同时,编辑也在北京经销商那里拍到了它,并对它做了详细的评测,详情请往下看｡8叨夫敞篷版车系简史P｢牡耐夤鄄糠铸4舜闻纳愕男乱淮高尔夫敞篷轿版为2门设计,与硬顶高尔夫车型具有相同外观风格及尺寸,但又极具个性,并更富运动性｡而如果你第一眼看到它时,你有可能会感觉它很像大众家族敞篷的代言人EOS｡!荆牛希映ㄅ癜妗魁H车尺寸长/宽/高分别为4215mm/1779mm/1424mm,相比现款高尔夫,敞篷版要略长一些｡而轴距与普通版同为2578mm,乘坐感受肯定也相同｡!荆牛希映ㄅ癜妗魁4硬嗝胬纯创笾谌新高尔夫敞篷,相当漂亮,双门的设计,显得十分运动,尾部稍稍翘起,线条一直从尾部延伸到车头由高到低｡仿佛做好准备要窜出去一样｡!荆牛希映ㄅ癜妗魁4笾谌新高尔夫敞篷的尾部可以说改变不少,尤其尾灯部分,与普通版完全不同｡但怎么看怎么与大众EOS很是相像｡这也许是模块化的生产,家族设计下的产物吧｡<尤耄蹋牛牡那暗疲幔睿溆敫叨夫R一样的尾灯!荆牛希映ㄅ癜妗魁8叨夫敞篷版的前大灯绝对是一大亮点,不仅造型迷人,而且带有氙气大灯和大灯清洗功能｡配合镀铬装饰条及圆形雾灯,视觉效果非常有冲击力｡同时此次还加入了LED灯组,可以说达到了画龙点睛的作用｡'],\n      dtype=object)"
     },
     "execution_count": 6,
     "metadata": {},
     "output_type": "execute_result"
    }
   ],
   "source": [
    "df_news.content.values[:5]"
   ]
  },
  {
   "cell_type": "code",
   "execution_count": null,
   "metadata": {},
   "outputs": [],
   "source": []
  },
  {
   "cell_type": "markdown",
   "metadata": {},
   "source": [
    "### 正则表达式提取中文"
   ]
  },
  {
   "cell_type": "code",
   "execution_count": 9,
   "metadata": {},
   "outputs": [
    {
     "data": {
      "text/plain": [
       "['更换', '了个号']"
      ]
     },
     "execution_count": 9,
     "metadata": {},
     "output_type": "execute_result"
    }
   ],
   "source": [
    "import re\n",
    "x='haklgD666FDFhlkdg更换787了个号7857895'\n",
    "re.findall(\"[\\u4e00-\\u9fa5]+\",x)    #查找所有的符合要求的文本，提取中文，返回的是列表"
   ]
  },
  {
   "cell_type": "code",
   "execution_count": 10,
   "metadata": {},
   "outputs": [
    {
     "data": {
      "text/plain": [
       "['666', '787', '7857895']"
      ]
     },
     "execution_count": 10,
     "metadata": {},
     "output_type": "execute_result"
    }
   ],
   "source": [
    "re.findall(\"[0-9]+\",x)   #提取数字"
   ]
  },
  {
   "cell_type": "code",
   "execution_count": 11,
   "metadata": {},
   "outputs": [
    {
     "data": {
      "text/plain": [
       "['haklgD', 'FDFhlkdg']"
      ]
     },
     "execution_count": 11,
     "metadata": {},
     "output_type": "execute_result"
    }
   ],
   "source": [
    "re.findall(\"[A-z]+\",x)   #提取英文"
   ]
  },
  {
   "cell_type": "code",
   "execution_count": 12,
   "metadata": {},
   "outputs": [
    {
     "data": {
      "text/plain": [
       "'haklgD,FDFhlkdg'"
      ]
     },
     "execution_count": 12,
     "metadata": {},
     "output_type": "execute_result"
    }
   ],
   "source": [
    "','.join(re.findall(\"[A-z]+\",x))   #把列表恢复成字符串"
   ]
  },
  {
   "cell_type": "code",
   "execution_count": 13,
   "metadata": {},
   "outputs": [
    {
     "data": {
      "text/html": [
       "<div>\n",
       "<style scoped>\n",
       "    .dataframe tbody tr th:only-of-type {\n",
       "        vertical-align: middle;\n",
       "    }\n",
       "\n",
       "    .dataframe tbody tr th {\n",
       "        vertical-align: top;\n",
       "    }\n",
       "\n",
       "    .dataframe thead th {\n",
       "        text-align: right;\n",
       "    }\n",
       "</style>\n",
       "<table border=\"1\" class=\"dataframe\">\n",
       "  <thead>\n",
       "    <tr style=\"text-align: right;\">\n",
       "      <th></th>\n",
       "      <th>content</th>\n",
       "    </tr>\n",
       "  </thead>\n",
       "  <tbody>\n",
       "    <tr>\n",
       "      <th>0</th>\n",
       "      <td>经销商,电话,试驾,订车,憬杭州滨江区江陵路,号,转,保常叮,万,阒菔邪自魄白云大道北,号,...</td>\n",
       "    </tr>\n",
       "    <tr>\n",
       "      <th>1</th>\n",
       "      <td>呼叫热线,服务邮箱</td>\n",
       "    </tr>\n",
       "    <tr>\n",
       "      <th>2</th>\n",
       "      <td>品牌在二月曾经公布了最新的,新概念车,效果图,不过现在在日内瓦车展上,品牌带来了全新的,版和...</td>\n",
       "    </tr>\n",
       "    <tr>\n",
       "      <th>3</th>\n",
       "      <td>清仓大甩卖,一汽夏利,威志,低至,万,日,启新中国一汽强势推出一汽夏利,威志,清仓大甩卖,活...</td>\n",
       "    </tr>\n",
       "    <tr>\n",
       "      <th>4</th>\n",
       "      <td>在今年,月的日内瓦车展上,我们见到了高尔夫家族的新成员,高尔夫敞篷版,这款全新敞篷车受到了众...</td>\n",
       "    </tr>\n",
       "    <tr>\n",
       "      <th>...</th>\n",
       "      <td>...</td>\n",
       "    </tr>\n",
       "    <tr>\n",
       "      <th>4995</th>\n",
       "      <td>随着天气逐渐炎热,补水变得日益重要,据美国,跑步世界,杂志报道,喝水并不是为身体补充水分的唯...</td>\n",
       "    </tr>\n",
       "    <tr>\n",
       "      <th>4996</th>\n",
       "      <td>我其实不想说这些话刺激他,他也是不得已,可是,我又该怎样说,怎样做,我只能走,离开这个伤心地...</td>\n",
       "    </tr>\n",
       "    <tr>\n",
       "      <th>4997</th>\n",
       "      <td>岁刘晓庆最新嫩照,衷诘牧跸庆绝对看不出她已经,岁了,她绝对可以秒杀刘亦菲,范冰冰这类美女,无...</td>\n",
       "    </tr>\n",
       "    <tr>\n",
       "      <th>4998</th>\n",
       "      <td>导语,做了爸爸就是一种幸福,无论是领养还是亲生,更何况出现在影视剧中,时尚圈永远是需要领军人...</td>\n",
       "    </tr>\n",
       "    <tr>\n",
       "      <th>4999</th>\n",
       "      <td>全球最美女人合成图,国整形外科教授李承哲,在国际学术杂志美容整形外科学会学报发表了考虑种族和...</td>\n",
       "    </tr>\n",
       "  </tbody>\n",
       "</table>\n",
       "<p>5000 rows × 1 columns</p>\n",
       "</div>"
      ],
      "text/plain": [
       "                                                content\n",
       "0     经销商,电话,试驾,订车,憬杭州滨江区江陵路,号,转,保常叮,万,阒菔邪自魄白云大道北,号,...\n",
       "1                                             呼叫热线,服务邮箱\n",
       "2     品牌在二月曾经公布了最新的,新概念车,效果图,不过现在在日内瓦车展上,品牌带来了全新的,版和...\n",
       "3     清仓大甩卖,一汽夏利,威志,低至,万,日,启新中国一汽强势推出一汽夏利,威志,清仓大甩卖,活...\n",
       "4     在今年,月的日内瓦车展上,我们见到了高尔夫家族的新成员,高尔夫敞篷版,这款全新敞篷车受到了众...\n",
       "...                                                 ...\n",
       "4995  随着天气逐渐炎热,补水变得日益重要,据美国,跑步世界,杂志报道,喝水并不是为身体补充水分的唯...\n",
       "4996  我其实不想说这些话刺激他,他也是不得已,可是,我又该怎样说,怎样做,我只能走,离开这个伤心地...\n",
       "4997  岁刘晓庆最新嫩照,衷诘牧跸庆绝对看不出她已经,岁了,她绝对可以秒杀刘亦菲,范冰冰这类美女,无...\n",
       "4998  导语,做了爸爸就是一种幸福,无论是领养还是亲生,更何况出现在影视剧中,时尚圈永远是需要领军人...\n",
       "4999  全球最美女人合成图,国整形外科教授李承哲,在国际学术杂志美容整形外科学会学报发表了考虑种族和...\n",
       "\n",
       "[5000 rows x 1 columns]"
      ]
     },
     "execution_count": 13,
     "metadata": {},
     "output_type": "execute_result"
    }
   ],
   "source": [
    "#向量化操作\n",
    "df_news[['content']].applymap(lambda x:','.join(re.findall(\"[\\u4e00-\\u9fa5]+\",x)))  #提取中文字符"
   ]
  },
  {
   "cell_type": "code",
   "execution_count": 7,
   "metadata": {},
   "outputs": [
    {
     "data": {
      "text/plain": "  category                                 theme  \\\n0       汽车  新辉腾 4.2 V8 4座加长Individual版2011款 最新报价   \n1       汽车                         918 Spyder概念车   \n2       汽车              日内瓦亮相 MINI性能版/概念车-1.6T引擎   \n3       汽车                清仓大甩卖一汽夏利N5威志V2低至3.39万   \n4       汽车                    大众敞篷家族新成员 高尔夫敞篷版实拍   \n\n                                                 URL  \\\n0        http://auto.data.people.com.cn/model_15782/   \n1  http://auto.data.people.com.cn/prdview_165423....   \n2  http://auto.data.people.com.cn/news/story_5249...   \n3  http://auto.data.people.com.cn/news/story_6144...   \n4  http://auto.data.people.com.cn/news/story_5686...   \n\n                                             content  \n0  经销商,电话,试驾,订车,憬杭州滨江区江陵路,号,转,保常叮,万,阒菔邪自魄白云大道北,号,...  \n1                                          呼叫热线,服务邮箱  \n2  品牌在二月曾经公布了最新的,新概念车,效果图,不过现在在日内瓦车展上,品牌带来了全新的,版和...  \n3  清仓大甩卖,一汽夏利,威志,低至,万,日,启新中国一汽强势推出一汽夏利,威志,清仓大甩卖,活...  \n4  在今年,月的日内瓦车展上,我们见到了高尔夫家族的新成员,高尔夫敞篷版,这款全新敞篷车受到了众...  ",
      "text/html": "<div>\n<style scoped>\n    .dataframe tbody tr th:only-of-type {\n        vertical-align: middle;\n    }\n\n    .dataframe tbody tr th {\n        vertical-align: top;\n    }\n\n    .dataframe thead th {\n        text-align: right;\n    }\n</style>\n<table border=\"1\" class=\"dataframe\">\n  <thead>\n    <tr style=\"text-align: right;\">\n      <th></th>\n      <th>category</th>\n      <th>theme</th>\n      <th>URL</th>\n      <th>content</th>\n    </tr>\n  </thead>\n  <tbody>\n    <tr>\n      <th>0</th>\n      <td>汽车</td>\n      <td>新辉腾 4.2 V8 4座加长Individual版2011款 最新报价</td>\n      <td>http://auto.data.people.com.cn/model_15782/</td>\n      <td>经销商,电话,试驾,订车,憬杭州滨江区江陵路,号,转,保常叮,万,阒菔邪自魄白云大道北,号,...</td>\n    </tr>\n    <tr>\n      <th>1</th>\n      <td>汽车</td>\n      <td>918 Spyder概念车</td>\n      <td>http://auto.data.people.com.cn/prdview_165423....</td>\n      <td>呼叫热线,服务邮箱</td>\n    </tr>\n    <tr>\n      <th>2</th>\n      <td>汽车</td>\n      <td>日内瓦亮相 MINI性能版/概念车-1.6T引擎</td>\n      <td>http://auto.data.people.com.cn/news/story_5249...</td>\n      <td>品牌在二月曾经公布了最新的,新概念车,效果图,不过现在在日内瓦车展上,品牌带来了全新的,版和...</td>\n    </tr>\n    <tr>\n      <th>3</th>\n      <td>汽车</td>\n      <td>清仓大甩卖一汽夏利N5威志V2低至3.39万</td>\n      <td>http://auto.data.people.com.cn/news/story_6144...</td>\n      <td>清仓大甩卖,一汽夏利,威志,低至,万,日,启新中国一汽强势推出一汽夏利,威志,清仓大甩卖,活...</td>\n    </tr>\n    <tr>\n      <th>4</th>\n      <td>汽车</td>\n      <td>大众敞篷家族新成员 高尔夫敞篷版实拍</td>\n      <td>http://auto.data.people.com.cn/news/story_5686...</td>\n      <td>在今年,月的日内瓦车展上,我们见到了高尔夫家族的新成员,高尔夫敞篷版,这款全新敞篷车受到了众...</td>\n    </tr>\n  </tbody>\n</table>\n</div>"
     },
     "execution_count": 7,
     "metadata": {},
     "output_type": "execute_result"
    }
   ],
   "source": [
    "df_news[['content']]=df_news[['content']].applymap(lambda x:','.join(re.findall(\"[\\u4e00-\\u9fa5]+\",x))) \n",
    "df_news.head()"
   ]
  },
  {
   "cell_type": "code",
   "execution_count": 8,
   "metadata": {},
   "outputs": [
    {
     "data": {
      "text/plain": "array(['经销商,电话,试驾,订车,憬杭州滨江区江陵路,号,转,保常叮,万,阒菔邪自魄白云大道北,号,广州市天河区黄埔大道西,号富力盈泰大厦,室,转,保常福,万,蕉省淄博市张店区山泉路,号,转,保常叮,万,罅保税区黄海西三路,号,转,保玻埃,万,粕绞新纺锨复兴路,号,转,保常叮,万,泄云南昆明市度假区滇池路,号,转,保常叮,万,川市兴庆区丽景北街,号,转,保常叮,万,尔滨市道外区先锋路,号,转,保矗福,万,呈刑煨那桂花坪街道雀园路口,星沙中南汽车世界,区,号,转,保常梗,万,浜菏信塘城经济开发区盘龙汽车城,矗埃埃福,转,保常叮,万,阒莘禺区市广路,号,祈福食街旁,矗埃埃福,转,保常叮,万,侄新区御桥路,号,转,保常福,万,不帐,戏适邪河工业区纬一路,号,万,虾,斜,角江杨南路,号,转,保常叮,万,奚蕉路,号,转,保常叮,万,本,谐阳区北四环望京街,号,转,保玻福,万,本,胁平区立汤路亚北博晟汽车汇展中心,保埃福,万,西省南昌市青山湖区科技大道,号,万,苄耸信劢工业区康宁路车管所对面,保常叮,万,暇,薪宁区天元中路,号,转,保常叮,万,菏形餍戮济技术开发区长沈路,号,万,家庄市北二环东路,号河北国际汽车贸易园区,矗埃埃福,转,保矗福,万,壅,城港路,号广达车城永兴路,号,万,蜓羰刑西区北二中路,号,转,保常叮,万,啥际星嘌虼蟮溃保福负牛,挛幕宫对面,保矗常,万,赡省沈阳市皇姑区鸭绿江街,号甲,长客总站北行,米,保矗福,万,钲谑新藓区罗芳立交六星汽车园进口大众,店,转,保担埃,万,憾环城路,号,万',\n       '呼叫热线,服务邮箱',\n       '品牌在二月曾经公布了最新的,新概念车,效果图,不过现在在日内瓦车展上,品牌带来了全新的,版和,概念车以及更多,性能版车型亮相,停桑危伞,茫希眨危裕遥伲停粒巍,剩茫装嬖谕夤凵媳浠非常明显,其加装了空气动力学套件外观,并且针对个性的性能版车型采用了非常吸引眼球的黑色车身配红色车顶以及红色拉花的搭配,新款车型在性能上也做了改进,采用,英寸合金轮毂,高性能刹车套件以及运动化悬挂组件,配合运动版尾排以及车侧的,徽标彰显着这是一款体现性能的车型,停桑危伞,茫希眨危裕遥伲停粒巍,剩茫装嬖诙力上搭载的是一款,千瓦的,升涡轮增压引擎,最大扭矩,牛米,同时还配有全轮驱动系统,百公里加速仅需,秒,极速被限制在,或,选装,速自动变速箱,全文,来源,网上车市',\n       '清仓大甩卖,一汽夏利,威志,低至,万,日,启新中国一汽强势推出一汽夏利,威志,清仓大甩卖,活动,冲击一汽家用精品轿车上市以来史无前例的,谷底价,销售,其中,一汽,低至,万,威志,低至,万,更有全新触底冰点价新威姿,一汽,及威志的独家包销,珍藏版,车型限量抢购,更多清仓底价促销优惠欢迎到店详细咨询,魑一款经典的国民家用精品轿车,一汽,配备的安全气囊,前后雾灯,电子助力转向系统,四门电动窗,铝合金轮毂等,显著提升了行车安全及档次,让您切身体验欧式风格座驾带来的惬意与舒适,黄,搭载的中国一汽集团自主研发的,具有国际先进水平和领先技术的新一代高性能,发动机,应用,技术,曲轴偏置,电子节气门,静音齿形链传动等多重世界领先技术及构件,使得整车具备高动力,低燃油消耗等特性,达到最佳驾驭状态,并且拥有同级车中最宽,的,柱及最小转弯半径,秩缃瘢最低仅售,万的一汽,创造了,销售以来最低的促销神话,选择此刻下手将成为,新车主独一无二的明智之选,志,是一款源自丰田,平台的精品时尚小车,搭载由中国一汽自主研发的,发动机,综合运用静音正时链条,轻量化设计,曲轴偏置设计,正时系统,位电控喷油系统,无回油燃油系统等六大先进技术,同时配备了博世,版本的,高强度车身设计,加上国内外知名专家精心调校的全新加强型底盘,高刚性,型副车架,以及比肩中级车使用的四轮独立悬挂系统,都为其安全性能提供了强大的后盾,让威志,在拥有良好操控性的同时,显著提升了驾乘的安全性,缃瘢在启新最低仅售,万余元的一汽威志,再次创造了家用精品轿车,性价比之王,的传奇,与同级别小车相比,威志,的高性价比,低油耗,时尚动感的外型,再加上高安全性和随心所欲的驾驭感,让其名副其实地担任起,级小车之王,的称号,此之外,最低仅需,万多元的,性价比之王,一汽,如今也已然成为不少客户的练手车及家用入门级轿车,其节能省油,皮实赖用的特性已得到广大消费者的广泛认可,另外,源于丰田,平台的全球战略车型,一汽威姿,这款系出名门的车型自上市之日起便牢牢地吸引了追求时尚个性的用户群体的目光,其产品力更是有口皆碑,如今,通过对新威姿的切身使用体验,让越来越多的消费者开始对天津一汽品牌的长远发展目标有了更多的认知和足够的信赖,司名称,成都启新汽车服务有限责任公司,中国一汽,店,司地址,成都市高新区科园南一路,号,成雅高速入口往大件路方向前行,下桥后右转即到,恼碌己烬,志,详细报价,志,经销商,睦其他车系',\n       '在今年,月的日内瓦车展上,我们见到了高尔夫家族的新成员,高尔夫敞篷版,这款全新敞篷车受到了众多高尔夫车迷的关注,如今,在刚刚开幕的北京车展上,敞篷高尔夫如约而至,同时它将于本月,号正式上市并且发布价格,与此同时,编辑也在北京经销商那里拍到了它,并对它做了详细的评测,详情请往下看,叨夫敞篷版车系简史,牡耐夤鄄糠铸,舜闻纳愕男乱淮高尔夫敞篷轿版为,门设计,与硬顶高尔夫车型具有相同外观风格及尺寸,但又极具个性,并更富运动性,而如果你第一眼看到它时,你有可能会感觉它很像大众家族敞篷的代言人,荆牛希映,癜妗魁,车尺寸长,宽,高分别为,相比现款高尔夫,敞篷版要略长一些,而轴距与普通版同为,乘坐感受肯定也相同,荆牛希映,癜妗魁,硬嗝胬纯创笾谌新高尔夫敞篷,相当漂亮,双门的设计,显得十分运动,尾部稍稍翘起,线条一直从尾部延伸到车头由高到低,仿佛做好准备要窜出去一样,荆牛希映,癜妗魁,笾谌新高尔夫敞篷的尾部可以说改变不少,尤其尾灯部分,与普通版完全不同,但怎么看怎么与大众,很是相像,这也许是模块化的生产,家族设计下的产物吧,尤耄蹋牛牡那暗疲幔睿溆敫叨夫,一样的尾灯,荆牛希映,癜妗魁,叨夫敞篷版的前大灯绝对是一大亮点,不仅造型迷人,而且带有氙气大灯和大灯清洗功能,配合镀铬装饰条及圆形雾灯,视觉效果非常有冲击力,同时此次还加入了,灯组,可以说达到了画龙点睛的作用'],\n      dtype=object)"
     },
     "execution_count": 8,
     "metadata": {},
     "output_type": "execute_result"
    }
   ],
   "source": [
    "df_news.content.values[:5]"
   ]
  },
  {
   "cell_type": "markdown",
   "metadata": {},
   "source": [
    "### 选择和过滤"
   ]
  },
  {
   "cell_type": "code",
   "execution_count": 9,
   "metadata": {},
   "outputs": [
    {
     "data": {
      "text/plain": "     category                                 theme  \\\n0          汽车  新辉腾 4.2 V8 4座加长Individual版2011款 最新报价   \n1          汽车                         918 Spyder概念车   \n2          汽车              日内瓦亮相 MINI性能版/概念车-1.6T引擎   \n3          汽车                清仓大甩卖一汽夏利N5威志V2低至3.39万   \n4          汽车                    大众敞篷家族新成员 高尔夫敞篷版实拍   \n...       ...                                   ...   \n4995       时尚                          常吃六类食物快速补充水分   \n4996       时尚                   情感:你是我的那盘菜 吃不起我走【2】   \n4997       时尚                     揭秘不老女神刘晓庆的四任丈夫(图)   \n4998       时尚                         样板潮爸 时尚圈里的父亲们   \n4999       时尚              全球最美女人长啥样?中国最美女人酷似章子怡(图)   \n\n                                                    URL  \\\n0           http://auto.data.people.com.cn/model_15782/   \n1     http://auto.data.people.com.cn/prdview_165423....   \n2     http://auto.data.people.com.cn/news/story_5249...   \n3     http://auto.data.people.com.cn/news/story_6144...   \n4     http://auto.data.people.com.cn/news/story_5686...   \n...                                                 ...   \n4995         http://lady.people.com.cn/GB/18248366.html   \n4996  http://lady.people.com.cn/n/2012/0712/c1014-18...   \n4997  http://lady.people.com.cn/n/2012/0730/c1014-18...   \n4998         http://lady.people.com.cn/GB/18215232.html   \n4999  http://lady.people.com.cn/BIG5/n/2012/0727/c10...   \n\n                                                content  content_length  \n0     经销商,电话,试驾,订车,憬杭州滨江区江陵路,号,转,保常叮,万,阒菔邪自魄白云大道北,号,...             652  \n1                                             呼叫热线,服务邮箱               9  \n2     品牌在二月曾经公布了最新的,新概念车,效果图,不过现在在日内瓦车展上,品牌带来了全新的,版和...             320  \n3     清仓大甩卖,一汽夏利,威志,低至,万,日,启新中国一汽强势推出一汽夏利,威志,清仓大甩卖,活...            1020  \n4     在今年,月的日内瓦车展上,我们见到了高尔夫家族的新成员,高尔夫敞篷版,这款全新敞篷车受到了众...             579  \n...                                                 ...             ...  \n4995  随着天气逐渐炎热,补水变得日益重要,据美国,跑步世界,杂志报道,喝水并不是为身体补充水分的唯...             454  \n4996  我其实不想说这些话刺激他,他也是不得已,可是,我又该怎样说,怎样做,我只能走,离开这个伤心地...             109  \n4997  岁刘晓庆最新嫩照,衷诘牧跸庆绝对看不出她已经,岁了,她绝对可以秒杀刘亦菲,范冰冰这类美女,无...             209  \n4998  导语,做了爸爸就是一种幸福,无论是领养还是亲生,更何况出现在影视剧中,时尚圈永远是需要领军人...            1730  \n4999  全球最美女人合成图,国整形外科教授李承哲,在国际学术杂志美容整形外科学会学报发表了考虑种族和...             164  \n\n[5000 rows x 5 columns]",
      "text/html": "<div>\n<style scoped>\n    .dataframe tbody tr th:only-of-type {\n        vertical-align: middle;\n    }\n\n    .dataframe tbody tr th {\n        vertical-align: top;\n    }\n\n    .dataframe thead th {\n        text-align: right;\n    }\n</style>\n<table border=\"1\" class=\"dataframe\">\n  <thead>\n    <tr style=\"text-align: right;\">\n      <th></th>\n      <th>category</th>\n      <th>theme</th>\n      <th>URL</th>\n      <th>content</th>\n      <th>content_length</th>\n    </tr>\n  </thead>\n  <tbody>\n    <tr>\n      <th>0</th>\n      <td>汽车</td>\n      <td>新辉腾 4.2 V8 4座加长Individual版2011款 最新报价</td>\n      <td>http://auto.data.people.com.cn/model_15782/</td>\n      <td>经销商,电话,试驾,订车,憬杭州滨江区江陵路,号,转,保常叮,万,阒菔邪自魄白云大道北,号,...</td>\n      <td>652</td>\n    </tr>\n    <tr>\n      <th>1</th>\n      <td>汽车</td>\n      <td>918 Spyder概念车</td>\n      <td>http://auto.data.people.com.cn/prdview_165423....</td>\n      <td>呼叫热线,服务邮箱</td>\n      <td>9</td>\n    </tr>\n    <tr>\n      <th>2</th>\n      <td>汽车</td>\n      <td>日内瓦亮相 MINI性能版/概念车-1.6T引擎</td>\n      <td>http://auto.data.people.com.cn/news/story_5249...</td>\n      <td>品牌在二月曾经公布了最新的,新概念车,效果图,不过现在在日内瓦车展上,品牌带来了全新的,版和...</td>\n      <td>320</td>\n    </tr>\n    <tr>\n      <th>3</th>\n      <td>汽车</td>\n      <td>清仓大甩卖一汽夏利N5威志V2低至3.39万</td>\n      <td>http://auto.data.people.com.cn/news/story_6144...</td>\n      <td>清仓大甩卖,一汽夏利,威志,低至,万,日,启新中国一汽强势推出一汽夏利,威志,清仓大甩卖,活...</td>\n      <td>1020</td>\n    </tr>\n    <tr>\n      <th>4</th>\n      <td>汽车</td>\n      <td>大众敞篷家族新成员 高尔夫敞篷版实拍</td>\n      <td>http://auto.data.people.com.cn/news/story_5686...</td>\n      <td>在今年,月的日内瓦车展上,我们见到了高尔夫家族的新成员,高尔夫敞篷版,这款全新敞篷车受到了众...</td>\n      <td>579</td>\n    </tr>\n    <tr>\n      <th>...</th>\n      <td>...</td>\n      <td>...</td>\n      <td>...</td>\n      <td>...</td>\n      <td>...</td>\n    </tr>\n    <tr>\n      <th>4995</th>\n      <td>时尚</td>\n      <td>常吃六类食物快速补充水分</td>\n      <td>http://lady.people.com.cn/GB/18248366.html</td>\n      <td>随着天气逐渐炎热,补水变得日益重要,据美国,跑步世界,杂志报道,喝水并不是为身体补充水分的唯...</td>\n      <td>454</td>\n    </tr>\n    <tr>\n      <th>4996</th>\n      <td>时尚</td>\n      <td>情感:你是我的那盘菜 吃不起我走【2】</td>\n      <td>http://lady.people.com.cn/n/2012/0712/c1014-18...</td>\n      <td>我其实不想说这些话刺激他,他也是不得已,可是,我又该怎样说,怎样做,我只能走,离开这个伤心地...</td>\n      <td>109</td>\n    </tr>\n    <tr>\n      <th>4997</th>\n      <td>时尚</td>\n      <td>揭秘不老女神刘晓庆的四任丈夫(图)</td>\n      <td>http://lady.people.com.cn/n/2012/0730/c1014-18...</td>\n      <td>岁刘晓庆最新嫩照,衷诘牧跸庆绝对看不出她已经,岁了,她绝对可以秒杀刘亦菲,范冰冰这类美女,无...</td>\n      <td>209</td>\n    </tr>\n    <tr>\n      <th>4998</th>\n      <td>时尚</td>\n      <td>样板潮爸 时尚圈里的父亲们</td>\n      <td>http://lady.people.com.cn/GB/18215232.html</td>\n      <td>导语,做了爸爸就是一种幸福,无论是领养还是亲生,更何况出现在影视剧中,时尚圈永远是需要领军人...</td>\n      <td>1730</td>\n    </tr>\n    <tr>\n      <th>4999</th>\n      <td>时尚</td>\n      <td>全球最美女人长啥样?中国最美女人酷似章子怡(图)</td>\n      <td>http://lady.people.com.cn/BIG5/n/2012/0727/c10...</td>\n      <td>全球最美女人合成图,国整形外科教授李承哲,在国际学术杂志美容整形外科学会学报发表了考虑种族和...</td>\n      <td>164</td>\n    </tr>\n  </tbody>\n</table>\n<p>5000 rows × 5 columns</p>\n</div>"
     },
     "execution_count": 9,
     "metadata": {},
     "output_type": "execute_result"
    }
   ],
   "source": [
    "#选择和过滤  选择新闻字符长度大于20的新闻\n",
    "df_news['content_length']=df_news['content'].apply(lambda x:len(x)) \n",
    "df_news"
   ]
  },
  {
   "cell_type": "code",
   "execution_count": 10,
   "metadata": {},
   "outputs": [
    {
     "data": {
      "text/plain": "(4772, 5)"
     },
     "execution_count": 10,
     "metadata": {},
     "output_type": "execute_result"
    }
   ],
   "source": [
    "df_news=df_news[df_news['content_length']>30]  #选择字数大于30\n",
    "df_news.shape"
   ]
  },
  {
   "cell_type": "code",
   "execution_count": 11,
   "metadata": {},
   "outputs": [
    {
     "data": {
      "text/plain": "  category                                 theme  \\\n0       汽车  新辉腾 4.2 V8 4座加长Individual版2011款 最新报价   \n2       汽车              日内瓦亮相 MINI性能版/概念车-1.6T引擎   \n3       汽车                清仓大甩卖一汽夏利N5威志V2低至3.39万   \n4       汽车                    大众敞篷家族新成员 高尔夫敞篷版实拍   \n5       汽车            悦翔两厢 1.5 AT 舒适型 2010款 最新报价   \n\n                                                 URL  \\\n0        http://auto.data.people.com.cn/model_15782/   \n2  http://auto.data.people.com.cn/news/story_5249...   \n3  http://auto.data.people.com.cn/news/story_6144...   \n4  http://auto.data.people.com.cn/news/story_5686...   \n5        http://auto.data.people.com.cn/model_23900/   \n\n                                             content  content_length  \n0  经销商,电话,试驾,订车,憬杭州滨江区江陵路,号,转,保常叮,万,阒菔邪自魄白云大道北,号,...             652  \n2  品牌在二月曾经公布了最新的,新概念车,效果图,不过现在在日内瓦车展上,品牌带来了全新的,版和...             320  \n3  清仓大甩卖,一汽夏利,威志,低至,万,日,启新中国一汽强势推出一汽夏利,威志,清仓大甩卖,活...            1020  \n4  在今年,月的日内瓦车展上,我们见到了高尔夫家族的新成员,高尔夫敞篷版,这款全新敞篷车受到了众...             579  \n5  经销商,电话,试驾,订车,仕嗍,焖市秦城区岷山路,号,万,浜菏薪岸区科技馆路特,号,万,亚市...             830  ",
      "text/html": "<div>\n<style scoped>\n    .dataframe tbody tr th:only-of-type {\n        vertical-align: middle;\n    }\n\n    .dataframe tbody tr th {\n        vertical-align: top;\n    }\n\n    .dataframe thead th {\n        text-align: right;\n    }\n</style>\n<table border=\"1\" class=\"dataframe\">\n  <thead>\n    <tr style=\"text-align: right;\">\n      <th></th>\n      <th>category</th>\n      <th>theme</th>\n      <th>URL</th>\n      <th>content</th>\n      <th>content_length</th>\n    </tr>\n  </thead>\n  <tbody>\n    <tr>\n      <th>0</th>\n      <td>汽车</td>\n      <td>新辉腾 4.2 V8 4座加长Individual版2011款 最新报价</td>\n      <td>http://auto.data.people.com.cn/model_15782/</td>\n      <td>经销商,电话,试驾,订车,憬杭州滨江区江陵路,号,转,保常叮,万,阒菔邪自魄白云大道北,号,...</td>\n      <td>652</td>\n    </tr>\n    <tr>\n      <th>2</th>\n      <td>汽车</td>\n      <td>日内瓦亮相 MINI性能版/概念车-1.6T引擎</td>\n      <td>http://auto.data.people.com.cn/news/story_5249...</td>\n      <td>品牌在二月曾经公布了最新的,新概念车,效果图,不过现在在日内瓦车展上,品牌带来了全新的,版和...</td>\n      <td>320</td>\n    </tr>\n    <tr>\n      <th>3</th>\n      <td>汽车</td>\n      <td>清仓大甩卖一汽夏利N5威志V2低至3.39万</td>\n      <td>http://auto.data.people.com.cn/news/story_6144...</td>\n      <td>清仓大甩卖,一汽夏利,威志,低至,万,日,启新中国一汽强势推出一汽夏利,威志,清仓大甩卖,活...</td>\n      <td>1020</td>\n    </tr>\n    <tr>\n      <th>4</th>\n      <td>汽车</td>\n      <td>大众敞篷家族新成员 高尔夫敞篷版实拍</td>\n      <td>http://auto.data.people.com.cn/news/story_5686...</td>\n      <td>在今年,月的日内瓦车展上,我们见到了高尔夫家族的新成员,高尔夫敞篷版,这款全新敞篷车受到了众...</td>\n      <td>579</td>\n    </tr>\n    <tr>\n      <th>5</th>\n      <td>汽车</td>\n      <td>悦翔两厢 1.5 AT 舒适型 2010款 最新报价</td>\n      <td>http://auto.data.people.com.cn/model_23900/</td>\n      <td>经销商,电话,试驾,订车,仕嗍,焖市秦城区岷山路,号,万,浜菏薪岸区科技馆路特,号,万,亚市...</td>\n      <td>830</td>\n    </tr>\n  </tbody>\n</table>\n</div>"
     },
     "execution_count": 11,
     "metadata": {},
     "output_type": "execute_result"
    }
   ],
   "source": [
    "df_news.head()"
   ]
  },
  {
   "cell_type": "markdown",
   "metadata": {},
   "source": [
    "## 中文分词和去停用词"
   ]
  },
  {
   "cell_type": "code",
   "execution_count": 12,
   "metadata": {},
   "outputs": [
    {
     "data": {
      "text/plain": "['!', '\"', '#']"
     },
     "execution_count": 12,
     "metadata": {},
     "output_type": "execute_result"
    }
   ],
   "source": [
    "stopwords=pd.read_csv('./停用词.csv',header=0)\n",
    "stopwords=stopwords['停用词'].tolist()\n",
    "stopwords[:3]"
   ]
  },
  {
   "cell_type": "code",
   "execution_count": 13,
   "metadata": {},
   "outputs": [],
   "source": [
    "#实现功能：分词，去停用词，去掉含有‘矗’的词，长度要大于1，恢复成用空格分开的字符串\n",
    "def f(x):\n",
    "    current_segment = jieba.lcut(x) #分词\n",
    "    current_segment=[segment for segment in current_segment if (segment not in stopwords)&('矗' not in segment)&(len(segment)>1)]\n",
    "    segments=\" \".join(current_segment) #用空格分开的字符串\n",
    "    return segments"
   ]
  },
  {
   "cell_type": "code",
   "execution_count": 14,
   "metadata": {},
   "outputs": [
    {
     "name": "stderr",
     "output_type": "stream",
     "text": [
      "Building prefix dict from the default dictionary ...\n",
      "Loading model from cache /var/folders/zz/8hl03_bd6sj_wrd8__z72r8r0000gn/T/jieba.cache\n",
      "Loading model cost 0.958 seconds.\n",
      "Prefix dict has been built successfully.\n"
     ]
    }
   ],
   "source": [
    "df_news['content_clean']=df_news['content'].apply(f)  #向量化操作"
   ]
  },
  {
   "cell_type": "code",
   "execution_count": 15,
   "metadata": {},
   "outputs": [
    {
     "data": {
      "text/plain": "array(['经销商 电话 试驾 订车 杭州 滨江区 江陵 保常 自魄 白云 大道北 广州市 天河区 黄埔 大道 富力 盈泰 大厦 保常福 淄博市 张店区 山泉 保常 保税区 黄海 三路 保玻埃 纺锨 复兴路 保常 云南 昆明市 度假区 滇池 保常 川市 兴庆区 丽景 北街 保常 尔滨市 道外区 先锋 呈刑 桂花 街道 雀园 路口 星沙 中南 汽车 世界 保常 信塘城 经济 开发区 盘龙 汽车城 保常 阒莘禺 区市 广路 祈福 食街 保常 新区 御桥 保常福 不帐 戏适 邪河 工业区 一路 角江 南路 保常 奚蕉路 保常 谐阳区 北四环 望京 保玻福 平区立 汤路 亚北博晟 汽车 汇展 中心 保埃福 西省 南昌市 青山湖区 科技 大道 耸信 工业区 康宁 车管所 对面 保常 薪宁区 天元 中路 保常 菏形 戮济 技术开发区 长沈路 家庄 北二环 东路 河北 国际 汽车贸易 园区 城港路 广达 车城 永兴路 羰刑 西区 北二 中路 保常 啥际星 保福 负牛 挛幕宫 对面 赡省 沈阳市 皇姑区 鸭绿江 长客 总站 新藓区 罗芳 立交 六星 汽车 进口 大众 保担 环城路',\n       '品牌 二月 公布 最新 概念车 效果图 日内瓦 车展 品牌 带来 全新 概念车 性能 车型 亮相 停桑 危伞 茫希 危裕遥 停粒巍 剩茫装 非常明显 加装 空气 动力学 套件 外观 个性 性能 车型 采用 吸引 眼球 黑色 车身 红色 车顶 红色 拉花 搭配 新款 车型 性能 改进 采用 英寸 合金 轮毂 高性能 刹车 套件 运动 悬挂 组件 配合 运动版 尾排 车侧 徽标 彰显 一款 体现 性能 车型 停桑 危伞 茫希 危裕遥 停粒巍 剩茫装 诙力 搭载 一款 千瓦 涡轮 增压 引擎 扭矩 牛米 配有 全轮 驱动 系统 百公里 加速 极速 选装 自动 变速箱 全文 来源 网上 车市',\n       '清仓 甩卖 一汽 夏利 威志 低至 启新 中国 一汽 强势 推出 一汽 夏利 威志 清仓 甩卖 活动 冲击 一汽 家用 精品 轿车 上市 史无前例 谷底 销售 一汽 低至 威志 低至 全新 触底 冰点价 新威姿 一汽 威志 独家 包销 珍藏版 车型 限量 抢购 清仓 底价 促销 优惠 详细 咨询 一款 经典 国民 家用 精品 轿车 一汽 配备 安全气囊 雾灯 电子 助力 转向 系统 四门 电动窗 铝合金 轮毂 提升 行车 档次 切身 体验 欧式 风格 带来 惬意 舒适 搭载 中国 一汽集团 自主 研发 国际 先进 水平 领先 技术 新一代 高性能 发动机 技术 曲轴 偏置 电子 节气门 静音 齿形 链传动 多重 世界领先 技术 构件 整车 具备 动力 燃油 消耗 特性 达到最佳 驾驭 状态 拥有 同级 车中 柱及 最小 转弯半径 最低 仅售 一汽 创造 销售 最低 促销 神话 选择 此刻 下手 车主 独一无二 明智 之选 一款 源自 丰田 平台 精品 时尚 小车 搭载 中国 一汽 自主 研发 发动机 综合 静音 链条 轻量化 设计 曲轴 偏置 设计 系统 电控 喷油 系统 无回油 燃油 系统 六大 先进 技术 配备 博世 版本 高强度 车身 设计 国内外 知名 专家 精心 调校 全新 加强型 底盘 刚性 车架 比肩 中级车 四轮 独立 悬挂 系统 性能 提供 强大 后盾 威志 拥有 操控性 提升 驾乘 安全性 启新 最低 仅售 万余元 一汽 威志 创造 家用 精品 轿车 性价比 之王 传奇 级别 小车 相比 威志 高性价比 低油耗 时尚 动感 外型 安全性 随心所欲 驾驭 名副其实 担任 小车 之王 称号 之外 最低 万多元 性价比 之王 一汽 已然 客户 练手 车及 家用 入门级 轿车 节能 省油 皮实 赖用 特性 消费者 认可 源于 丰田 平台 全球战略 车型 一汽 威姿 系出名门 车型 上市 之日起 牢牢地 吸引 追求 时尚 个性 用户 群体 目光 产品 更是 有口皆碑 威姿 切身 体验 越来越 消费者 天津 一汽 品牌 长远 发展 目标 认知 足够 信赖 名称 成都 启新 汽车 服务 有限责任 公司 中国 一汽 地址 成都市 高新区 科园 一路 成雅 高速 入口 大件 方向 前行 下桥 右转 即到 恼碌己 详细 报价 经销商 车系',\n       '日内瓦 车展 见到 高尔夫 家族 成员 高尔夫 敞篷版 全新 敞篷车 众多 高尔夫 车迷 关注 刚刚 开幕 北京 车展 敞篷 高尔夫 如约 本月 正式 上市 发布 价格 编辑 北京 经销商 拍到 详细 评测 详情请 往下 叨夫 敞篷版 车系 简史 牡耐 舜闻纳 男乱 高尔夫 敞篷 轿版为 设计 硬顶 高尔夫 车型 外观 风格 尺寸 极具 个性 更富 运动性 第一眼 感觉 大众 家族 敞篷 代言人 荆牛 希映 尺寸 相比 现款 高尔夫 敞篷版 要略 轴距 版同 乘坐 感受 肯定 荆牛 希映 硬嗝 纯创 高尔夫 敞篷 漂亮 双门 设计 显得 运动 尾部 稍稍 翘起 线条 尾部 延伸 车头 由高到 仿佛 做好 荆牛 希映 高尔夫 敞篷 尾部 改变 尾灯 大众 相像 也许 模块化 生产 家族 设计 产物 那暗 疲幔 叨夫 尾灯 荆牛 希映 叨夫 敞篷版 前大灯 一大 亮点 造型 迷人 带有 氙气 大灯 大灯 清洗 功能 配合 镀铬 装饰 条及 圆形 雾灯 视觉效果 冲击力 灯组 画龙点睛 作用',\n       '经销商 电话 试驾 订车 秦城区 岷山 菏薪 岸区 科技馆 路特 亚市 迎宾路 丹州 村前 心贤 战铸 萨市 罗布林卡 花市 仁和区 大河 中路 劳动 五村 多斯 东胜区 塔拉 壕镇 汽车城 长安 轿车 多斯 东胜区 塔拉 壕镇 汽车城 长安 轿车 迫市 肃州区 西郊 工业园区 飞天 懈咝虑 马路 东西 苏省 徐州市 东三环 淮海 汽车 城内 彩欣 北路 北省 宜昌市 伍家岗区 临江 啥际谐 东三环 外侧 龙潭 工业园 线宝耳路 晨明 轿车 世界 菏卸海 大道 市政府 西侧 湖滨 社区 一楼 顺鞘 芯济 技术开发区 大运 路北 城东区 八一 东路 铺厥 海路 利丰 汽车 文化 广场 赡省 大连市 甘井子区 华东 颇鲜 懈咝虑 科高小屯 国际 汽车城 长安汽车 苏省 苏州市 高新区 国际 汽车 城内 汇通 辽市 科尔沁区 顺路 悄洗 郑保 福岛 忌蕉坡区 三苏 大道 文区 潍州路 金宝 乐园 米路东 中石化 加油站 对面 羰刑 侥下 私枪 西段 一栋 发区 石港路 川德胜 工业园区 国道 东侧 酒胧刑 推贸 有限公司 辽市 科尔沁区 顺路 苏省 常州市 新路 不帐 经济 开发区 山路 亚夏 汽车城 一街 门面房 三环 虹桥 东侧 加油站 苏省 盐城市 亭湖区 聚亨路 昌明 南大街 赡省 沈阳市 东陵区 长青 林省 白城市 经济 开发区 吉鹤 广场 谐阳区 小红门 乡肖村 南四环 东路 江省 鸡西市 密山市 山镇 西村 铁西 加油站 道北 江省 大庆市 萨尔 开发区 庆新 大街 绵阳市 高新区 双碑 东街 贾菔衅 西津 西路'],\n      dtype=object)"
     },
     "execution_count": 15,
     "metadata": {},
     "output_type": "execute_result"
    }
   ],
   "source": [
    "df_news['content_clean'].values[:5]"
   ]
  },
  {
   "cell_type": "code",
   "execution_count": 18,
   "metadata": {},
   "outputs": [
    {
     "data": {
      "text/html": [
       "<div>\n",
       "<style scoped>\n",
       "    .dataframe tbody tr th:only-of-type {\n",
       "        vertical-align: middle;\n",
       "    }\n",
       "\n",
       "    .dataframe tbody tr th {\n",
       "        vertical-align: top;\n",
       "    }\n",
       "\n",
       "    .dataframe thead th {\n",
       "        text-align: right;\n",
       "    }\n",
       "</style>\n",
       "<table border=\"1\" class=\"dataframe\">\n",
       "  <thead>\n",
       "    <tr style=\"text-align: right;\">\n",
       "      <th></th>\n",
       "      <th>content_clean</th>\n",
       "      <th>category</th>\n",
       "    </tr>\n",
       "  </thead>\n",
       "  <tbody>\n",
       "    <tr>\n",
       "      <th>0</th>\n",
       "      <td>经销商 电话 试驾 订车 杭州 滨江区 江陵 保常 自魄 白云 大道北 广州市 天河区 黄埔...</td>\n",
       "      <td>汽车</td>\n",
       "    </tr>\n",
       "    <tr>\n",
       "      <th>2</th>\n",
       "      <td>品牌 二月 公布 最新 概念车 效果图 日内瓦 车展 品牌 带来 全新 概念车 性能 车型 ...</td>\n",
       "      <td>汽车</td>\n",
       "    </tr>\n",
       "    <tr>\n",
       "      <th>3</th>\n",
       "      <td>清仓 甩卖 一汽 夏利 威志 低至 启新 中国 一汽 强势 推出 一汽 夏利 威志 清仓 甩...</td>\n",
       "      <td>汽车</td>\n",
       "    </tr>\n",
       "    <tr>\n",
       "      <th>4</th>\n",
       "      <td>日内瓦 车展 见到 高尔夫 家族 成员 高尔夫 敞篷版 全新 敞篷车 众多 高尔夫 车迷 关...</td>\n",
       "      <td>汽车</td>\n",
       "    </tr>\n",
       "    <tr>\n",
       "      <th>5</th>\n",
       "      <td>经销商 电话 试驾 订车 秦城区 岷山 菏薪 岸区 科技馆 路特 亚市 迎宾路 丹州 村前 ...</td>\n",
       "      <td>汽车</td>\n",
       "    </tr>\n",
       "  </tbody>\n",
       "</table>\n",
       "</div>"
      ],
      "text/plain": [
       "                                       content_clean category\n",
       "0  经销商 电话 试驾 订车 杭州 滨江区 江陵 保常 自魄 白云 大道北 广州市 天河区 黄埔...       汽车\n",
       "2  品牌 二月 公布 最新 概念车 效果图 日内瓦 车展 品牌 带来 全新 概念车 性能 车型 ...       汽车\n",
       "3  清仓 甩卖 一汽 夏利 威志 低至 启新 中国 一汽 强势 推出 一汽 夏利 威志 清仓 甩...       汽车\n",
       "4  日内瓦 车展 见到 高尔夫 家族 成员 高尔夫 敞篷版 全新 敞篷车 众多 高尔夫 车迷 关...       汽车\n",
       "5  经销商 电话 试驾 订车 秦城区 岷山 菏薪 岸区 科技馆 路特 亚市 迎宾路 丹州 村前 ...       汽车"
      ]
     },
     "execution_count": 18,
     "metadata": {},
     "output_type": "execute_result"
    }
   ],
   "source": [
    "df1=df_news[['content_clean','category']]\n",
    "df1.head()#去掉停用词后"
   ]
  },
  {
   "cell_type": "markdown",
   "metadata": {},
   "source": [
    "## 标签转化"
   ]
  },
  {
   "cell_type": "code",
   "execution_count": 19,
   "metadata": {},
   "outputs": [
    {
     "data": {
      "text/html": [
       "<div>\n",
       "<style scoped>\n",
       "    .dataframe tbody tr th:only-of-type {\n",
       "        vertical-align: middle;\n",
       "    }\n",
       "\n",
       "    .dataframe tbody tr th {\n",
       "        vertical-align: top;\n",
       "    }\n",
       "\n",
       "    .dataframe thead th {\n",
       "        text-align: right;\n",
       "    }\n",
       "</style>\n",
       "<table border=\"1\" class=\"dataframe\">\n",
       "  <thead>\n",
       "    <tr style=\"text-align: right;\">\n",
       "      <th></th>\n",
       "      <th>content_clean</th>\n",
       "      <th>category</th>\n",
       "    </tr>\n",
       "  </thead>\n",
       "  <tbody>\n",
       "    <tr>\n",
       "      <th>0</th>\n",
       "      <td>经销商 电话 试驾 订车 杭州 滨江区 江陵 保常 自魄 白云 大道北 广州市 天河区 黄埔...</td>\n",
       "      <td>1</td>\n",
       "    </tr>\n",
       "    <tr>\n",
       "      <th>2</th>\n",
       "      <td>品牌 二月 公布 最新 概念车 效果图 日内瓦 车展 品牌 带来 全新 概念车 性能 车型 ...</td>\n",
       "      <td>1</td>\n",
       "    </tr>\n",
       "    <tr>\n",
       "      <th>3</th>\n",
       "      <td>清仓 甩卖 一汽 夏利 威志 低至 启新 中国 一汽 强势 推出 一汽 夏利 威志 清仓 甩...</td>\n",
       "      <td>1</td>\n",
       "    </tr>\n",
       "    <tr>\n",
       "      <th>4</th>\n",
       "      <td>日内瓦 车展 见到 高尔夫 家族 成员 高尔夫 敞篷版 全新 敞篷车 众多 高尔夫 车迷 关...</td>\n",
       "      <td>1</td>\n",
       "    </tr>\n",
       "    <tr>\n",
       "      <th>5</th>\n",
       "      <td>经销商 电话 试驾 订车 秦城区 岷山 菏薪 岸区 科技馆 路特 亚市 迎宾路 丹州 村前 ...</td>\n",
       "      <td>1</td>\n",
       "    </tr>\n",
       "    <tr>\n",
       "      <th>...</th>\n",
       "      <td>...</td>\n",
       "      <td>...</td>\n",
       "    </tr>\n",
       "    <tr>\n",
       "      <th>4995</th>\n",
       "      <td>天气 炎热 补水 变得 美国 跑步 世界 杂志 报道 喝水 身体 补充 水分 唯一 方式 瓜...</td>\n",
       "      <td>10</td>\n",
       "    </tr>\n",
       "    <tr>\n",
       "      <th>4996</th>\n",
       "      <td>不想 刺激 只能 离开 伤心地 想起 一句 命中 终须 命中 强求 只能 安慰 随缘 担心 ...</td>\n",
       "      <td>10</td>\n",
       "    </tr>\n",
       "    <tr>\n",
       "      <th>4997</th>\n",
       "      <td>刘晓庆 最新 嫩照 牧跸 看不出 秒杀 刘亦菲 范冰冰 美女 名气 话题 荣誉 刘晓庆 称得...</td>\n",
       "      <td>10</td>\n",
       "    </tr>\n",
       "    <tr>\n",
       "      <th>4998</th>\n",
       "      <td>导语 爸爸 一种 幸福 无论是 领养 亲生 更何况 影视剧 时尚 永远 领军人物 复制 楼盘...</td>\n",
       "      <td>10</td>\n",
       "    </tr>\n",
       "    <tr>\n",
       "      <th>4999</th>\n",
       "      <td>全球 最美 女人 合成图 整形外科 教授 李承哲 国际 学术 杂志 美容 整形外科 学会 学...</td>\n",
       "      <td>10</td>\n",
       "    </tr>\n",
       "  </tbody>\n",
       "</table>\n",
       "<p>4772 rows × 2 columns</p>\n",
       "</div>"
      ],
      "text/plain": [
       "                                          content_clean  category\n",
       "0     经销商 电话 试驾 订车 杭州 滨江区 江陵 保常 自魄 白云 大道北 广州市 天河区 黄埔...         1\n",
       "2     品牌 二月 公布 最新 概念车 效果图 日内瓦 车展 品牌 带来 全新 概念车 性能 车型 ...         1\n",
       "3     清仓 甩卖 一汽 夏利 威志 低至 启新 中国 一汽 强势 推出 一汽 夏利 威志 清仓 甩...         1\n",
       "4     日内瓦 车展 见到 高尔夫 家族 成员 高尔夫 敞篷版 全新 敞篷车 众多 高尔夫 车迷 关...         1\n",
       "5     经销商 电话 试驾 订车 秦城区 岷山 菏薪 岸区 科技馆 路特 亚市 迎宾路 丹州 村前 ...         1\n",
       "...                                                 ...       ...\n",
       "4995  天气 炎热 补水 变得 美国 跑步 世界 杂志 报道 喝水 身体 补充 水分 唯一 方式 瓜...        10\n",
       "4996  不想 刺激 只能 离开 伤心地 想起 一句 命中 终须 命中 强求 只能 安慰 随缘 担心 ...        10\n",
       "4997  刘晓庆 最新 嫩照 牧跸 看不出 秒杀 刘亦菲 范冰冰 美女 名气 话题 荣誉 刘晓庆 称得...        10\n",
       "4998  导语 爸爸 一种 幸福 无论是 领养 亲生 更何况 影视剧 时尚 永远 领军人物 复制 楼盘...        10\n",
       "4999  全球 最美 女人 合成图 整形外科 教授 李承哲 国际 学术 杂志 美容 整形外科 学会 学...        10\n",
       "\n",
       "[4772 rows x 2 columns]"
      ]
     },
     "execution_count": 19,
     "metadata": {},
     "output_type": "execute_result"
    }
   ],
   "source": [
    "label_mapping = {\"汽车\": 1, \"财经\": 2, \"科技\": 3, \"健康\": 4, \"体育\":5, \"教育\": 6,\"文化\": 7,\"军事\": 8,\"娱乐\": 9,\"时尚\": 10}\n",
    "df1['category'] = df1['category'].map(label_mapping) #构建一个映射方法\n",
    "df1"
   ]
  },
  {
   "cell_type": "markdown",
   "metadata": {},
   "source": [
    "## 训练集和测试集划分"
   ]
  },
  {
   "cell_type": "code",
   "execution_count": 20,
   "metadata": {},
   "outputs": [],
   "source": [
    "from sklearn.model_selection import train_test_split\n",
    "x_train, x_test, y_train, y_test = train_test_split(df1['content_clean'].values, df1['category'].values, random_state=3)"
   ]
  },
  {
   "cell_type": "code",
   "execution_count": 23,
   "metadata": {},
   "outputs": [
    {
     "data": {
      "text/plain": [
       "(3579,)"
      ]
     },
     "execution_count": 23,
     "metadata": {},
     "output_type": "execute_result"
    }
   ],
   "source": [
    "x_train.shape"
   ]
  },
  {
   "cell_type": "code",
   "execution_count": 24,
   "metadata": {},
   "outputs": [
    {
     "data": {
      "text/plain": [
       "(1193,)"
      ]
     },
     "execution_count": 24,
     "metadata": {},
     "output_type": "execute_result"
    }
   ],
   "source": [
    "x_test.shape"
   ]
  },
  {
   "cell_type": "markdown",
   "metadata": {},
   "source": [
    "## 提取特征"
   ]
  },
  {
   "cell_type": "markdown",
   "metadata": {},
   "source": [
    "### 词袋模型"
   ]
  },
  {
   "cell_type": "code",
   "execution_count": 25,
   "metadata": {},
   "outputs": [
    {
     "data": {
      "text/plain": [
       "<3579x85277 sparse matrix of type '<class 'numpy.int64'>'\n",
       "\twith 395360 stored elements in Compressed Sparse Row format>"
      ]
     },
     "execution_count": 25,
     "metadata": {},
     "output_type": "execute_result"
    }
   ],
   "source": [
    "from sklearn.feature_extraction.text import CountVectorizer\n",
    "vec = CountVectorizer()\n",
    "train_feature = vec.fit_transform(x_train) #训练集转换为向量\n",
    "train_feature"
   ]
  },
  {
   "cell_type": "code",
   "execution_count": 26,
   "metadata": {},
   "outputs": [
    {
     "data": {
      "text/plain": [
       "<1193x85277 sparse matrix of type '<class 'numpy.int64'>'\n",
       "\twith 115156 stored elements in Compressed Sparse Row format>"
      ]
     },
     "execution_count": 26,
     "metadata": {},
     "output_type": "execute_result"
    }
   ],
   "source": [
    "test_feature = vec.transform(x_test) #测试集转换为向量\n",
    "test_feature"
   ]
  },
  {
   "cell_type": "code",
   "execution_count": 27,
   "metadata": {},
   "outputs": [
    {
     "data": {
      "text/plain": [
       "0.8130762782900252"
      ]
     },
     "execution_count": 27,
     "metadata": {},
     "output_type": "execute_result"
    }
   ],
   "source": [
    "from sklearn.naive_bayes import MultinomialNB #贝叶斯模型,多项式\n",
    "classifier = MultinomialNB() \n",
    "classifier.fit(train_feature, y_train) #训练\n",
    "classifier.score(test_feature, y_test) #准确率"
   ]
  },
  {
   "cell_type": "markdown",
   "metadata": {},
   "source": [
    "### TF-IDF模型"
   ]
  },
  {
   "cell_type": "code",
   "execution_count": 28,
   "metadata": {},
   "outputs": [
    {
     "data": {
      "text/plain": [
       "0.815590947191953"
      ]
     },
     "execution_count": 28,
     "metadata": {},
     "output_type": "execute_result"
    }
   ],
   "source": [
    "from sklearn.feature_extraction.text import TfidfVectorizer\n",
    "vectorizer = TfidfVectorizer()\n",
    "train_feature=vectorizer.fit_transform(x_train)\n",
    "\n",
    "test_feature = vectorizer.transform(x_test)\n",
    "\n",
    "classifier = MultinomialNB()  #贝叶斯模型\n",
    "classifier.fit(train_feature, y_train)\n",
    "classifier.score(test_feature, y_test)  "
   ]
  },
  {
   "cell_type": "markdown",
   "metadata": {},
   "source": [
    "## 模型训练，超参数优化"
   ]
  },
  {
   "cell_type": "markdown",
   "metadata": {},
   "source": [
    "### 网格搜索参数优化"
   ]
  },
  {
   "cell_type": "code",
   "execution_count": 29,
   "metadata": {},
   "outputs": [
    {
     "name": "stdout",
     "output_type": "stream",
     "text": [
      "Fitting 10 folds for each of 10 candidates, totalling 100 fits\n"
     ]
    },
    {
     "name": "stderr",
     "output_type": "stream",
     "text": [
      "[Parallel(n_jobs=-1)]: Using backend LokyBackend with 8 concurrent workers.\n",
      "[Parallel(n_jobs=-1)]: Done  25 tasks      | elapsed:    9.6s\n",
      "[Parallel(n_jobs=-1)]: Done 100 out of 100 | elapsed:   11.8s finished\n"
     ]
    },
    {
     "data": {
      "text/plain": [
       "{'alpha': 0.11111111111111112}"
      ]
     },
     "execution_count": 29,
     "metadata": {},
     "output_type": "execute_result"
    }
   ],
   "source": [
    "from sklearn.model_selection import GridSearchCV\n",
    "import numpy as np\n",
    "params={'alpha':np.linspace(0,0.2,10)}\n",
    "classifier = MultinomialNB()\n",
    "grid_search=GridSearchCV(classifier,param_grid=params,cv=10,verbose=2,n_jobs=-1)\n",
    "grid_search.fit(train_feature, y_train)\n",
    "grid_search.best_params_"
   ]
  },
  {
   "cell_type": "markdown",
   "metadata": {},
   "source": [
    "## 模型评估"
   ]
  },
  {
   "cell_type": "markdown",
   "metadata": {},
   "source": [
    "### 模型得分"
   ]
  },
  {
   "cell_type": "code",
   "execution_count": 32,
   "metadata": {},
   "outputs": [
    {
     "data": {
      "text/plain": [
       "0.8256496227996647"
      ]
     },
     "execution_count": 32,
     "metadata": {},
     "output_type": "execute_result"
    }
   ],
   "source": [
    "grid_search.score(test_feature, y_test)#模型得分,准确率"
   ]
  },
  {
   "cell_type": "markdown",
   "metadata": {},
   "source": [
    "### 混淆矩阵"
   ]
  },
  {
   "cell_type": "code",
   "execution_count": 34,
   "metadata": {},
   "outputs": [
    {
     "name": "stdout",
     "output_type": "stream",
     "text": [
      "[[ 87   0   0   0   0   1   0   0   0   0]\n",
      " [  0  98   5   7   2   1   2   1   1   0]\n",
      " [  3  13 116   0   1   2   0   0   1   0]\n",
      " [  0   8   0  95   1   0   0   1   1   4]\n",
      " [  0   0   0   0 120   0   0   0   1   0]\n",
      " [  0   3   0   3   0 110   4   2   8   1]\n",
      " [  0   4   1   2   0   3  73   4  33   0]\n",
      " [  0   5   0   1   4   3   4 110   2   0]\n",
      " [  0   0   0   0   2   0  13   0 117   0]\n",
      " [  0   3   3  22   2   1   1   0  18  59]]\n"
     ]
    }
   ],
   "source": [
    "from sklearn import metrics\n",
    "pred_test=grid_search.predict(test_feature)\n",
    "print(metrics.confusion_matrix(y_test, pred_test))#混淆矩阵"
   ]
  },
  {
   "cell_type": "markdown",
   "metadata": {},
   "source": [
    "### 分类报告"
   ]
  },
  {
   "cell_type": "code",
   "execution_count": 35,
   "metadata": {},
   "outputs": [
    {
     "name": "stdout",
     "output_type": "stream",
     "text": [
      "              precision    recall  f1-score   support\n",
      "\n",
      "          汽车       0.97      0.99      0.98        88\n",
      "          财经       0.73      0.84      0.78       117\n",
      "          科技       0.93      0.85      0.89       136\n",
      "          健康       0.73      0.86      0.79       110\n",
      "          体育       0.91      0.99      0.95       121\n",
      "          教育       0.91      0.84      0.87       131\n",
      "          文化       0.75      0.61      0.67       120\n",
      "          军事       0.93      0.85      0.89       129\n",
      "          娱乐       0.64      0.89      0.75       132\n",
      "          时尚       0.92      0.54      0.68       109\n",
      "\n",
      "    accuracy                           0.83      1193\n",
      "   macro avg       0.84      0.83      0.83      1193\n",
      "weighted avg       0.84      0.83      0.82      1193\n",
      "\n"
     ]
    }
   ],
   "source": [
    "labels=[\"汽车\",\"财经\", \"科技\", \"健康\", \"体育\", \"教育\",\"文化\",\"军事\",\"娱乐\",\"时尚\"]\n",
    "from sklearn.metrics import classification_report\n",
    "print(classification_report(y_test, pred_test,target_names=labels))"
   ]
  },
  {
   "cell_type": "markdown",
   "metadata": {},
   "source": [
    "## 新数据的预测"
   ]
  },
  {
   "cell_type": "code",
   "execution_count": 36,
   "metadata": {},
   "outputs": [],
   "source": [
    "new1='今年前8个月交出32259台的成绩单，冒险家不仅是品牌内销量的绝对支柱，还是紧随BBA之后最卖座的豪华紧凑型SUV，也让林肯稳坐二线豪华阵营的领头羊，在以低姿态成功打开市场后便是要扩大成果，如何让更多消费者体验到这触手可及的美式豪华？幸好林肯已经参悟透“将性价比进行到底”这通向成功之门的七字真言，那么在不久前才上市的2022款冒险家身上，“入门即豪华”又是怎么体现的呢？随我一起来看看它的变与不变。'"
   ]
  },
  {
   "cell_type": "code",
   "execution_count": 37,
   "metadata": {},
   "outputs": [
    {
     "data": {
      "text/plain": [
       "'交出 32259 成绩单 冒险家 品牌 销量 支柱 紧随 BBA 卖座 豪华 紧凑型 SUV 林肯 稳坐 二线 豪华 阵营 领头羊 低姿态 成功 打开 市场 便是 成果 消费者 体验 触手可及 美式 豪华 幸好 林肯 参悟 性价比 通向 成功 之门 七字 真言 不久前 上市 2022 冒险家 身上 入门 豪华 体现'"
      ]
     },
     "execution_count": 37,
     "metadata": {},
     "output_type": "execute_result"
    }
   ],
   "source": [
    "def f(x):\n",
    "    current_segment = jieba.lcut(x) #分词\n",
    "    current_segment=[segment for segment in current_segment if (segment not in stopwords)&('矗' not in segment)&(len(segment)>1)]\n",
    "    segments=\" \".join(current_segment) #用空格分开的字符串\n",
    "    return segments\n",
    "new_cut=f(new1)\n",
    "new_cut"
   ]
  },
  {
   "cell_type": "code",
   "execution_count": 39,
   "metadata": {},
   "outputs": [
    {
     "data": {
      "text/plain": [
       "<1x85277 sparse matrix of type '<class 'numpy.float64'>'\n",
       "\twith 34 stored elements in Compressed Sparse Row format>"
      ]
     },
     "execution_count": 39,
     "metadata": {},
     "output_type": "execute_result"
    }
   ],
   "source": [
    "test_feature = vectorizer.transform([new_cut])\n",
    "test_feature"
   ]
  },
  {
   "cell_type": "code",
   "execution_count": 41,
   "metadata": {},
   "outputs": [
    {
     "data": {
      "text/plain": [
       "array([1], dtype=int64)"
      ]
     },
     "execution_count": 41,
     "metadata": {},
     "output_type": "execute_result"
    }
   ],
   "source": [
    "grid_search.predict(test_feature) #预测类别"
   ]
  },
  {
   "cell_type": "code",
   "execution_count": null,
   "metadata": {},
   "outputs": [],
   "source": [
    "label_mapping = {\"汽车\": 1, \"财经\": 2, \"科技\": 3, \"健康\": 4, \"体育\":5, \"教育\": 6,\"文化\": 7,\"军事\": 8,\"娱乐\": 9,\"时尚\": 10}"
   ]
  }
 ],
 "metadata": {
  "kernelspec": {
   "name": "pycharm-52a413d9",
   "language": "python",
   "display_name": "PyCharm (TwilightStruggle)"
  },
  "language_info": {
   "codemirror_mode": {
    "name": "ipython",
    "version": 3
   },
   "file_extension": ".py",
   "mimetype": "text/x-python",
   "name": "python",
   "nbconvert_exporter": "python",
   "pygments_lexer": "ipython3",
   "version": "3.7.3"
  },
  "toc": {
   "base_numbering": 1,
   "nav_menu": {},
   "number_sections": true,
   "sideBar": true,
   "skip_h1_title": false,
   "title_cell": "Table of Contents",
   "title_sidebar": "Contents",
   "toc_cell": false,
   "toc_position": {
    "height": "527.99px",
    "left": "60px",
    "top": "66px",
    "width": "165px"
   },
   "toc_section_display": true,
   "toc_window_display": true
  }
 },
 "nbformat": 4,
 "nbformat_minor": 2
}